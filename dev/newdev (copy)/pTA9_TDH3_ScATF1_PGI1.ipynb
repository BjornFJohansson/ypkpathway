{
 "cells": [
  {
   "cell_type": "markdown",
   "id": "7c3808c0",
   "metadata": {},
   "source": [
    "# pTA9_TDH3_ScATF1_PGI1\n",
    "\n",
    "This notebook describes the assembly of the\n",
    "[_Saccharomyces cerevisiae_](http://www.yeastgenome.org)\n",
    "transcriptional unit vector.\n",
    "\n",
    "It is made from a linear vector fragment and three PCR products:\n",
    "\n",
    "- a linearized pTA9 vector for maintenance in _S. cerevisiae_ or _E. coli_ (red dashed line in figure below)\n",
    "- a promoter PCR product from the pYPKa_Z_TDH3 vector\n",
    "- a gene PCR product from the pYPKa_A_ScATF1\n",
    "- a terminator PCR product from the pYPKa_E_PGI1 vector\n",
    "\n",
    "The four linear DNA fragments are joined by _in-vivo_ homologous recombination in a\n",
    "[_Saccharomyces cerevisiae_](http://wiki.yeastgenome.org/index.php/Commonly_used_strains) strain.\n",
    "\n",
    "![tu](tu.png \"tu\")\n",
    "\n",
    "A part of the [pydna](https://pypi.python.org/pypi/pydna/) package is imported in the code cell below."
   ]
  },
  {
   "cell_type": "code",
   "execution_count": 1,
   "id": "76d6c66e",
   "metadata": {
    "execution": {
     "iopub.execute_input": "2022-11-26T22:32:09.563381Z",
     "iopub.status.busy": "2022-11-26T22:32:09.562258Z",
     "iopub.status.idle": "2022-11-26T22:32:09.965500Z",
     "shell.execute_reply": "2022-11-26T22:32:09.964681Z"
    }
   },
   "outputs": [],
   "source": [
    "from pydna.parsers import parse_primers\n",
    "from pydna.readers import read\n",
    "from pydna.amplify import pcr\n",
    "from pydna.assembly import Assembly"
   ]
  },
  {
   "cell_type": "markdown",
   "id": "24d67302",
   "metadata": {},
   "source": [
    "The Yeast Pathway Kit [standard primers](standard_primers.fasta) are read into a dictionary in the code cell below."
   ]
  },
  {
   "cell_type": "code",
   "execution_count": 2,
   "id": "74d341df",
   "metadata": {
    "execution": {
     "iopub.execute_input": "2022-11-26T22:32:09.969768Z",
     "iopub.status.busy": "2022-11-26T22:32:09.969111Z",
     "iopub.status.idle": "2022-11-26T22:32:09.983886Z",
     "shell.execute_reply": "2022-11-26T22:32:09.982941Z"
    }
   },
   "outputs": [],
   "source": [
    "p = {x.id: x for x in parse_primers(\"standard_primers.fasta\")}"
   ]
  },
  {
   "cell_type": "markdown",
   "id": "56e8b16d",
   "metadata": {},
   "source": [
    "The backbone vector [pTA9](pTA9.gb) is read from a local file in the code cell below."
   ]
  },
  {
   "cell_type": "code",
   "execution_count": 3,
   "id": "0f883400",
   "metadata": {
    "execution": {
     "iopub.execute_input": "2022-11-26T22:32:09.988217Z",
     "iopub.status.busy": "2022-11-26T22:32:09.987882Z",
     "iopub.status.idle": "2022-11-26T22:32:10.001926Z",
     "shell.execute_reply": "2022-11-26T22:32:10.001228Z"
    }
   },
   "outputs": [],
   "source": [
    "backbone = read(\"pTA9.gb\")"
   ]
  },
  {
   "cell_type": "markdown",
   "id": "81a59f66",
   "metadata": {},
   "source": [
    "The backbone vector is linearized by digestion with [FspAI](https://www.google.com/search?q=FspAI)."
   ]
  },
  {
   "cell_type": "code",
   "execution_count": 4,
   "id": "35c624ff",
   "metadata": {
    "execution": {
     "iopub.execute_input": "2022-11-26T22:32:10.005519Z",
     "iopub.status.busy": "2022-11-26T22:32:10.005018Z",
     "iopub.status.idle": "2022-11-26T22:32:10.009667Z",
     "shell.execute_reply": "2022-11-26T22:32:10.008145Z"
    }
   },
   "outputs": [],
   "source": [
    "from Bio.Restriction import FspAI"
   ]
  },
  {
   "cell_type": "code",
   "execution_count": 5,
   "id": "9f1b21c2",
   "metadata": {
    "execution": {
     "iopub.execute_input": "2022-11-26T22:32:10.014489Z",
     "iopub.status.busy": "2022-11-26T22:32:10.014171Z",
     "iopub.status.idle": "2022-11-26T22:32:10.020518Z",
     "shell.execute_reply": "2022-11-26T22:32:10.019780Z"
    }
   },
   "outputs": [],
   "source": [
    "linear_backbone = backbone.linearize(FspAI)"
   ]
  },
  {
   "cell_type": "markdown",
   "id": "f7d2a242",
   "metadata": {},
   "source": [
    "The pYPKa derived _E. coli_ plasmids containing \n",
    "- [promoter](pYPKa_Z_TDH3.gb)\n",
    "- [gene](pYPKa_A_ScATF1.gb)\n",
    "- [terminator](pYPKa_E_PGI1.gb)\n",
    "\n",
    "are read into three variables below."
   ]
  },
  {
   "cell_type": "code",
   "execution_count": 6,
   "id": "18b9b0b6",
   "metadata": {
    "execution": {
     "iopub.execute_input": "2022-11-26T22:32:10.023935Z",
     "iopub.status.busy": "2022-11-26T22:32:10.023283Z",
     "iopub.status.idle": "2022-11-26T22:32:10.047145Z",
     "shell.execute_reply": "2022-11-26T22:32:10.046340Z"
    }
   },
   "outputs": [],
   "source": [
    "promoter_template   = read(\"pYPKa_Z_TDH3.gb\")\n",
    "gene_template       = read(\"pYPKa_A_ScATF1.gb\")\n",
    "terminator_template = read(\"pYPKa_E_PGI1.gb\")"
   ]
  },
  {
   "cell_type": "markdown",
   "id": "e018cbd7",
   "metadata": {
    "lines_to_next_cell": 0
   },
   "source": [
    "### PCR\n",
    "Three DNA fragments are PCR amplified using [standard primers](standard_primers.fasta).\n",
    "\n",
    "[Suggested PCR programs](#Suggested-PCR-programs) can be found at the end of this document."
   ]
  },
  {
   "cell_type": "code",
   "execution_count": 7,
   "id": "875a88c3",
   "metadata": {
    "execution": {
     "iopub.execute_input": "2022-11-26T22:32:10.050492Z",
     "iopub.status.busy": "2022-11-26T22:32:10.050198Z",
     "iopub.status.idle": "2022-11-26T22:32:10.081044Z",
     "shell.execute_reply": "2022-11-26T22:32:10.080344Z"
    }
   },
   "outputs": [],
   "source": [
    "prom = pcr(p['577'], p['567'], promoter_template)\n",
    "gene = pcr(p['468'], p['467'], gene_template)\n",
    "term = pcr(p['568'], p['578'], terminator_template)"
   ]
  },
  {
   "cell_type": "code",
   "execution_count": 8,
   "id": "56ec77f5",
   "metadata": {
    "execution": {
     "iopub.execute_input": "2022-11-26T22:32:10.084331Z",
     "iopub.status.busy": "2022-11-26T22:32:10.084026Z",
     "iopub.status.idle": "2022-11-26T22:32:10.088571Z",
     "shell.execute_reply": "2022-11-26T22:32:10.087011Z"
    }
   },
   "outputs": [],
   "source": [
    "prom.name = \"TDH3\"\n",
    "gene.name = \"ScATF1\"\n",
    "term.name = \"PGI1\""
   ]
  },
  {
   "cell_type": "markdown",
   "id": "fc06998d",
   "metadata": {},
   "source": [
    "\n",
    "The fragments will be assembled by _in-vivo_ [homologous recombination](http://www.ncbi.nlm.nih.gov/pubmed/2828185):"
   ]
  },
  {
   "cell_type": "code",
   "execution_count": 9,
   "id": "3930556c",
   "metadata": {
    "execution": {
     "iopub.execute_input": "2022-11-26T22:32:10.093157Z",
     "iopub.status.busy": "2022-11-26T22:32:10.092502Z",
     "iopub.status.idle": "2022-11-26T22:32:10.647528Z",
     "shell.execute_reply": "2022-11-26T22:32:10.646826Z"
    }
   },
   "outputs": [
    {
     "data": {
      "text/plain": [
       "Assembly\n",
       "fragments..: 5685bp 930bp 1674bp 1339bp\n",
       "limit(bp)..: 31\n",
       "G.nodes....: 8\n",
       "algorithm..: common_sub_strings"
      ]
     },
     "execution_count": 9,
     "metadata": {},
     "output_type": "execute_result"
    }
   ],
   "source": [
    "asm = Assembly((linear_backbone, prom, gene, term), limit=31)\n",
    "asm"
   ]
  },
  {
   "cell_type": "markdown",
   "id": "68a24dd8",
   "metadata": {},
   "source": [
    "The Assembly object above should normally indicate four fragments and eight nodes."
   ]
  },
  {
   "cell_type": "code",
   "execution_count": 10,
   "id": "9dfe8742",
   "metadata": {
    "execution": {
     "iopub.execute_input": "2022-11-26T22:32:10.650752Z",
     "iopub.status.busy": "2022-11-26T22:32:10.650507Z",
     "iopub.status.idle": "2022-11-26T22:32:10.840941Z",
     "shell.execute_reply": "2022-11-26T22:32:10.840206Z"
    },
    "lines_to_next_cell": 0
   },
   "outputs": [
    {
     "data": {
      "text/plain": [
       "[Contig(o9156), Contig(o9156)]"
      ]
     },
     "execution_count": 10,
     "metadata": {},
     "output_type": "execute_result"
    }
   ],
   "source": [
    "candidates = asm.assemble_circular()\n",
    "candidates"
   ]
  },
  {
   "cell_type": "markdown",
   "id": "0b6d53eb",
   "metadata": {},
   "source": [
    "There should normally be two candidates of equal size. These sequences should be identical."
   ]
  },
  {
   "cell_type": "code",
   "execution_count": 11,
   "id": "7bddef28",
   "metadata": {
    "execution": {
     "iopub.execute_input": "2022-11-26T22:32:10.844477Z",
     "iopub.status.busy": "2022-11-26T22:32:10.843861Z",
     "iopub.status.idle": "2022-11-26T22:32:10.847863Z",
     "shell.execute_reply": "2022-11-26T22:32:10.846625Z"
    },
    "lines_to_next_cell": 0
   },
   "outputs": [],
   "source": [
    "candidate, *rest = candidates"
   ]
  },
  {
   "cell_type": "code",
   "execution_count": 12,
   "id": "f48a6769",
   "metadata": {
    "execution": {
     "iopub.execute_input": "2022-11-26T22:32:10.853093Z",
     "iopub.status.busy": "2022-11-26T22:32:10.852722Z",
     "iopub.status.idle": "2022-11-26T22:32:10.874998Z",
     "shell.execute_reply": "2022-11-26T22:32:10.874271Z"
    },
    "lines_to_next_cell": 0
   },
   "outputs": [
    {
     "data": {
      "text/plain": [
       "True"
      ]
     },
     "execution_count": 12,
     "metadata": {},
     "output_type": "execute_result"
    }
   ],
   "source": [
    "candidate.cseguid() == rest[0].cseguid()"
   ]
  },
  {
   "cell_type": "code",
   "execution_count": 13,
   "id": "5a34926c",
   "metadata": {
    "execution": {
     "iopub.execute_input": "2022-11-26T22:32:10.877792Z",
     "iopub.status.busy": "2022-11-26T22:32:10.877485Z",
     "iopub.status.idle": "2022-11-26T22:32:10.882042Z",
     "shell.execute_reply": "2022-11-26T22:32:10.881344Z"
    },
    "lines_to_next_cell": 0
   },
   "outputs": [
    {
     "data": {
      "text/plain": [
       " -|pTA9_lin|242\n",
       "|           \\/\n",
       "|           /\\\n",
       "|           242|PGI1_rc|37\n",
       "|                       \\/\n",
       "|                       /\\\n",
       "|                       37|ScATF1_rc|50\n",
       "|                                    \\/\n",
       "|                                    /\\\n",
       "|                                    50|TDH3_rc|124\n",
       "|                                               \\/\n",
       "|                                               /\\\n",
       "|                                               124-\n",
       "|                                                  |\n",
       " --------------------------------------------------"
      ]
     },
     "execution_count": 13,
     "metadata": {},
     "output_type": "execute_result"
    }
   ],
   "source": [
    "candidate.figure()"
   ]
  },
  {
   "cell_type": "markdown",
   "id": "6b953a75",
   "metadata": {},
   "source": [
    "The candidate vector is synchronized to the 577 primer. This means that\n",
    "the plasmid origin is shifted so that it matches the backbone vector."
   ]
  },
  {
   "cell_type": "code",
   "execution_count": 14,
   "id": "0017969e",
   "metadata": {
    "execution": {
     "iopub.execute_input": "2022-11-26T22:32:10.886034Z",
     "iopub.status.busy": "2022-11-26T22:32:10.885699Z",
     "iopub.status.idle": "2022-11-26T22:32:11.303771Z",
     "shell.execute_reply": "2022-11-26T22:32:11.302953Z"
    }
   },
   "outputs": [],
   "source": [
    "result = candidate.synced(p['577'])"
   ]
  },
  {
   "cell_type": "markdown",
   "id": "94d51f29",
   "metadata": {},
   "source": [
    "### Diagnostic PCR confirmation\n",
    "\n",
    "The structure of the final vector is confirmed by two\n",
    "separate PCR reactions, one for the promoter and gene and\n",
    "one for the gene and terminator.\n",
    "\n",
    "PCR using standard primers 577 and 467 to amplify promoter and gene."
   ]
  },
  {
   "cell_type": "code",
   "execution_count": 15,
   "id": "e93510e1",
   "metadata": {
    "execution": {
     "iopub.execute_input": "2022-11-26T22:32:11.307203Z",
     "iopub.status.busy": "2022-11-26T22:32:11.306863Z",
     "iopub.status.idle": "2022-11-26T22:32:11.327048Z",
     "shell.execute_reply": "2022-11-26T22:32:11.326294Z"
    }
   },
   "outputs": [],
   "source": [
    "product = pcr( p['577'], p['467'], result)"
   ]
  },
  {
   "cell_type": "markdown",
   "id": "1906f650",
   "metadata": {},
   "source": [
    "A correct clone should give this size in base pairs:"
   ]
  },
  {
   "cell_type": "code",
   "execution_count": 16,
   "id": "64088e1f",
   "metadata": {
    "execution": {
     "iopub.execute_input": "2022-11-26T22:32:11.329880Z",
     "iopub.status.busy": "2022-11-26T22:32:11.329573Z",
     "iopub.status.idle": "2022-11-26T22:32:11.333876Z",
     "shell.execute_reply": "2022-11-26T22:32:11.333042Z"
    }
   },
   "outputs": [
    {
     "name": "stdout",
     "output_type": "stream",
     "text": [
      "2554\n"
     ]
    }
   ],
   "source": [
    "print(len(product))"
   ]
  },
  {
   "cell_type": "markdown",
   "id": "40903523",
   "metadata": {},
   "source": [
    "If the promoter is missing from the assembly, the PCR product will have this size in base pairs:"
   ]
  },
  {
   "cell_type": "code",
   "execution_count": 17,
   "id": "570f9c96",
   "metadata": {
    "execution": {
     "iopub.execute_input": "2022-11-26T22:32:11.337745Z",
     "iopub.status.busy": "2022-11-26T22:32:11.337395Z",
     "iopub.status.idle": "2022-11-26T22:32:11.341793Z",
     "shell.execute_reply": "2022-11-26T22:32:11.341053Z"
    }
   },
   "outputs": [
    {
     "name": "stdout",
     "output_type": "stream",
     "text": [
      "1624\n"
     ]
    }
   ],
   "source": [
    "print(len(product) - len(prom))"
   ]
  },
  {
   "cell_type": "markdown",
   "id": "11f4679e",
   "metadata": {},
   "source": [
    "If the gene is missing from the assembly, the PCR product will have this size in base pairs:"
   ]
  },
  {
   "cell_type": "code",
   "execution_count": 18,
   "id": "d394b04e",
   "metadata": {
    "execution": {
     "iopub.execute_input": "2022-11-26T22:32:11.345347Z",
     "iopub.status.busy": "2022-11-26T22:32:11.345059Z",
     "iopub.status.idle": "2022-11-26T22:32:11.351341Z",
     "shell.execute_reply": "2022-11-26T22:32:11.350087Z"
    }
   },
   "outputs": [
    {
     "name": "stdout",
     "output_type": "stream",
     "text": [
      "880\n"
     ]
    }
   ],
   "source": [
    "print(len(product) - len(gene))"
   ]
  },
  {
   "cell_type": "markdown",
   "id": "eeffc684",
   "metadata": {},
   "source": [
    "PCR using standard primers 468 and 578 to amplify gene and terminator."
   ]
  },
  {
   "cell_type": "code",
   "execution_count": 19,
   "id": "ec2cb93b",
   "metadata": {
    "execution": {
     "iopub.execute_input": "2022-11-26T22:32:11.354468Z",
     "iopub.status.busy": "2022-11-26T22:32:11.354188Z",
     "iopub.status.idle": "2022-11-26T22:32:11.374056Z",
     "shell.execute_reply": "2022-11-26T22:32:11.373408Z"
    }
   },
   "outputs": [],
   "source": [
    "product2 = pcr( p['468'], p['578'], result)"
   ]
  },
  {
   "cell_type": "markdown",
   "id": "76d1c908",
   "metadata": {},
   "source": [
    "A correct clone should give this size:"
   ]
  },
  {
   "cell_type": "code",
   "execution_count": 20,
   "id": "94ad7b73",
   "metadata": {
    "execution": {
     "iopub.execute_input": "2022-11-26T22:32:11.377636Z",
     "iopub.status.busy": "2022-11-26T22:32:11.377344Z",
     "iopub.status.idle": "2022-11-26T22:32:11.380965Z",
     "shell.execute_reply": "2022-11-26T22:32:11.380286Z"
    }
   },
   "outputs": [
    {
     "name": "stdout",
     "output_type": "stream",
     "text": [
      "2976\n"
     ]
    }
   ],
   "source": [
    "print(len(product2))"
   ]
  },
  {
   "cell_type": "markdown",
   "id": "a32ee5bc",
   "metadata": {},
   "source": [
    "If the gene is missing from the assembly, the PCR product will have this size in base pairs:"
   ]
  },
  {
   "cell_type": "code",
   "execution_count": 21,
   "id": "1b22b798",
   "metadata": {
    "execution": {
     "iopub.execute_input": "2022-11-26T22:32:11.384808Z",
     "iopub.status.busy": "2022-11-26T22:32:11.383720Z",
     "iopub.status.idle": "2022-11-26T22:32:11.390179Z",
     "shell.execute_reply": "2022-11-26T22:32:11.389125Z"
    }
   },
   "outputs": [
    {
     "name": "stdout",
     "output_type": "stream",
     "text": [
      "1302\n"
     ]
    }
   ],
   "source": [
    "print(len(product2) - len(gene))"
   ]
  },
  {
   "cell_type": "markdown",
   "id": "3b8e0775",
   "metadata": {},
   "source": [
    "If the terminator is missing from the assembly, the PCR product will have this size in base pairs:"
   ]
  },
  {
   "cell_type": "code",
   "execution_count": 22,
   "id": "233b6724",
   "metadata": {
    "execution": {
     "iopub.execute_input": "2022-11-26T22:32:11.394065Z",
     "iopub.status.busy": "2022-11-26T22:32:11.393764Z",
     "iopub.status.idle": "2022-11-26T22:32:11.398495Z",
     "shell.execute_reply": "2022-11-26T22:32:11.397500Z"
    }
   },
   "outputs": [
    {
     "name": "stdout",
     "output_type": "stream",
     "text": [
      "1637\n"
     ]
    }
   ],
   "source": [
    "print(len(product2) - len(term))"
   ]
  },
  {
   "cell_type": "markdown",
   "id": "468ff6f3",
   "metadata": {},
   "source": [
    "The cseguid checksum for the resulting plasmid is calculated for future reference.\n",
    "The [cseguid checksum](http://pydna.readthedocs.org/en/latest/pydna.html#pydna.utils.cseguid)\n",
    "uniquely identifies a circular double stranded sequence."
   ]
  },
  {
   "cell_type": "code",
   "execution_count": 23,
   "id": "87c0929e",
   "metadata": {
    "execution": {
     "iopub.execute_input": "2022-11-26T22:32:11.402479Z",
     "iopub.status.busy": "2022-11-26T22:32:11.402118Z",
     "iopub.status.idle": "2022-11-26T22:32:11.413787Z",
     "shell.execute_reply": "2022-11-26T22:32:11.413236Z"
    }
   },
   "outputs": [
    {
     "name": "stdout",
     "output_type": "stream",
     "text": [
      "ZR2Q3RuTeH_Rmq37gvBhVLfMLfM\n"
     ]
    }
   ],
   "source": [
    "print(result.cseguid())"
   ]
  },
  {
   "cell_type": "markdown",
   "id": "c8d071df",
   "metadata": {},
   "source": [
    "The file name is based on the promoter, gene and terminator designations."
   ]
  },
  {
   "cell_type": "code",
   "execution_count": 24,
   "id": "b288a4cb",
   "metadata": {
    "execution": {
     "iopub.execute_input": "2022-11-26T22:32:11.417272Z",
     "iopub.status.busy": "2022-11-26T22:32:11.416883Z",
     "iopub.status.idle": "2022-11-26T22:32:11.421259Z",
     "shell.execute_reply": "2022-11-26T22:32:11.420381Z"
    }
   },
   "outputs": [],
   "source": [
    "result.locus = \"TU:ScATF1\"[:16]\n",
    "result.definition = \"pTA9_TDH3_ScATF1_PGI1\""
   ]
  },
  {
   "cell_type": "markdown",
   "id": "699b0726",
   "metadata": {},
   "source": [
    "Sequence is stamped with cseguid checksum. This can be used to verify the\n",
    "integrity of the sequence file."
   ]
  },
  {
   "cell_type": "code",
   "execution_count": 25,
   "id": "dadaa6ce",
   "metadata": {
    "execution": {
     "iopub.execute_input": "2022-11-26T22:32:11.425481Z",
     "iopub.status.busy": "2022-11-26T22:32:11.425148Z",
     "iopub.status.idle": "2022-11-26T22:32:11.439608Z",
     "shell.execute_reply": "2022-11-26T22:32:11.438917Z"
    }
   },
   "outputs": [
    {
     "data": {
      "text/plain": [
       "ZR2Q3RuTeH_Rmq37gvBhVLfMLfM"
      ]
     },
     "execution_count": 25,
     "metadata": {},
     "output_type": "execute_result"
    }
   ],
   "source": [
    "result.stamp(\"cSEGUID\")"
   ]
  },
  {
   "cell_type": "markdown",
   "id": "31d29982",
   "metadata": {},
   "source": [
    "Write sequence to a local file."
   ]
  },
  {
   "cell_type": "code",
   "execution_count": 26,
   "id": "b9c61772",
   "metadata": {
    "execution": {
     "iopub.execute_input": "2022-11-26T22:32:11.442656Z",
     "iopub.status.busy": "2022-11-26T22:32:11.442167Z",
     "iopub.status.idle": "2022-11-26T22:32:11.459656Z",
     "shell.execute_reply": "2022-11-26T22:32:11.457708Z"
    }
   },
   "outputs": [
    {
     "data": {
      "text/html": [
       "<font face=monospace><a href='pTA9_TDH3_ScATF1_PGI1.gb' target='_blank'>pTA9_TDH3_ScATF1_PGI1.gb</a></font><br>"
      ]
     },
     "metadata": {},
     "output_type": "display_data"
    }
   ],
   "source": [
    "result.write(f\"{result.definition}.gb\")"
   ]
  },
  {
   "cell_type": "markdown",
   "id": "dd671dc6",
   "metadata": {
    "lines_to_next_cell": 0
   },
   "source": [
    "### Suggested PCR programs\n",
    "\n",
    "For the [amplification](#PCR) of promoter, gene and terminator."
   ]
  },
  {
   "cell_type": "code",
   "execution_count": 27,
   "id": "1673b44d",
   "metadata": {
    "execution": {
     "iopub.execute_input": "2022-11-26T22:32:11.463696Z",
     "iopub.status.busy": "2022-11-26T22:32:11.463115Z",
     "iopub.status.idle": "2022-11-26T22:32:11.467987Z",
     "shell.execute_reply": "2022-11-26T22:32:11.467040Z"
    }
   },
   "outputs": [
    {
     "name": "stdout",
     "output_type": "stream",
     "text": [
      "577 567\n",
      "|95°C|95°C               |    |tmf:64.6\n",
      "|____|_____          72°C|72°C|tmr:69.7\n",
      "|3min|30s  \\ 57.1°C _____|____|45s/kb\n",
      "|    |      \\______/ 0:41|5min|GC 38%\n",
      "|    |       30s         |    |930bp\n"
     ]
    }
   ],
   "source": [
    "print(prom.forward_primer.name, prom.reverse_primer.name)\n",
    "print(prom.program())"
   ]
  },
  {
   "cell_type": "code",
   "execution_count": 28,
   "id": "618c7e53",
   "metadata": {
    "execution": {
     "iopub.execute_input": "2022-11-26T22:32:11.473044Z",
     "iopub.status.busy": "2022-11-26T22:32:11.472201Z",
     "iopub.status.idle": "2022-11-26T22:32:11.479052Z",
     "shell.execute_reply": "2022-11-26T22:32:11.478040Z"
    }
   },
   "outputs": [
    {
     "name": "stdout",
     "output_type": "stream",
     "text": [
      "468 467\n",
      "|95°C|95°C               |    |tmf:76.9\n",
      "|____|_____          72°C|72°C|tmr:67.9\n",
      "|3min|30s  \\ 58.2°C _____|____|45s/kb\n",
      "|    |      \\______/ 1:15|5min|GC 38%\n",
      "|    |       30s         |    |1674bp\n"
     ]
    }
   ],
   "source": [
    "print(gene.forward_primer.name, gene.reverse_primer.name)\n",
    "print(gene.program())"
   ]
  },
  {
   "cell_type": "code",
   "execution_count": 29,
   "id": "e3516888",
   "metadata": {
    "execution": {
     "iopub.execute_input": "2022-11-26T22:32:11.482791Z",
     "iopub.status.busy": "2022-11-26T22:32:11.482478Z",
     "iopub.status.idle": "2022-11-26T22:32:11.488819Z",
     "shell.execute_reply": "2022-11-26T22:32:11.487786Z"
    }
   },
   "outputs": [
    {
     "name": "stdout",
     "output_type": "stream",
     "text": [
      "568 578\n",
      "|95°C|95°C               |    |tmf:66.1\n",
      "|____|_____          72°C|72°C|tmr:65.0\n",
      "|3min|30s  \\ 57.6°C _____|____|45s/kb\n",
      "|    |      \\______/ 1:00|5min|GC 39%\n",
      "|    |       30s         |    |1339bp\n"
     ]
    }
   ],
   "source": [
    "print(term.forward_primer.name, term.reverse_primer.name)\n",
    "print(term.program())"
   ]
  }
 ],
 "metadata": {
  "jupytext": {
   "main_language": "python"
  },
  "kernelspec": {
   "display_name": "Python [conda env:bjorn310]",
   "language": "python",
   "name": "conda-env-bjorn310-py"
  },
  "language_info": {
   "codemirror_mode": {
    "name": "ipython",
    "version": 3
   },
   "file_extension": ".py",
   "mimetype": "text/x-python",
   "name": "python",
   "nbconvert_exporter": "python",
   "pygments_lexer": "ipython3",
   "version": "3.10.6"
  }
 },
 "nbformat": 4,
 "nbformat_minor": 5
}
