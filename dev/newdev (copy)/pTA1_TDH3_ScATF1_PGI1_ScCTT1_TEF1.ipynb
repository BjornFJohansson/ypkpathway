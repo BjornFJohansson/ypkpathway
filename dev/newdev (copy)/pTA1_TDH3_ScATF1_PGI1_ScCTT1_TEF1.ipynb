{
 "cells": [
  {
   "cell_type": "markdown",
   "id": "5e51899b",
   "metadata": {
    "lines_to_next_cell": 0
   },
   "source": [
    "# pTA1_TDH3_ScATF1_PGI1_ScCTT1_TEF1\n",
    "\n",
    "This notebook describes the assembly of 2 transcriptional units\n",
    "(single gene expression) vectors into a pathway.\n",
    "\n",
    "Jupyter notebooks describing the single gene expression vectors are linked\n",
    "at the end of this document.\n",
    "Specific primers needed are also listed.\n",
    "\n",
    "![pathway with N genes](pw.png \"pathway with N genes\")"
   ]
  },
  {
   "cell_type": "code",
   "execution_count": 1,
   "id": "ac49accc",
   "metadata": {
    "execution": {
     "iopub.execute_input": "2022-11-26T22:32:16.660410Z",
     "iopub.status.busy": "2022-11-26T22:32:16.659444Z",
     "iopub.status.idle": "2022-11-26T22:32:17.040589Z",
     "shell.execute_reply": "2022-11-26T22:32:17.039796Z"
    }
   },
   "outputs": [],
   "source": [
    "from pydna.parsers import parse_primers\n",
    "from pydna.readers import read\n",
    "from pydna.amplify import pcr\n",
    "from pydna.assembly import Assembly\n",
    "from IPython.display import display\n",
    "from IPython.display import Markdown\n",
    "from pathlib import Path"
   ]
  },
  {
   "cell_type": "markdown",
   "id": "7182e08a",
   "metadata": {},
   "source": [
    "The first cassette in the pathway is amplified with standard\n",
    "primers 577 and 778, the last with\n",
    "1123 and 578 and all others with 1123 and 778.\n",
    "Standard primers are listed [here](standard_primers.fasta)."
   ]
  },
  {
   "cell_type": "code",
   "execution_count": 2,
   "id": "8fe21029",
   "metadata": {
    "execution": {
     "iopub.execute_input": "2022-11-26T22:32:17.045034Z",
     "iopub.status.busy": "2022-11-26T22:32:17.044249Z",
     "iopub.status.idle": "2022-11-26T22:32:17.057002Z",
     "shell.execute_reply": "2022-11-26T22:32:17.056270Z"
    }
   },
   "outputs": [],
   "source": [
    "p = {x.id: x for x in parse_primers(\"standard_primers.fasta\")}"
   ]
  },
  {
   "cell_type": "markdown",
   "id": "783982a4",
   "metadata": {},
   "source": [
    "Restriction enzymes are imported from the Biopython package."
   ]
  },
  {
   "cell_type": "code",
   "execution_count": 3,
   "id": "6ddd452a",
   "metadata": {
    "execution": {
     "iopub.execute_input": "2022-11-26T22:32:17.061176Z",
     "iopub.status.busy": "2022-11-26T22:32:17.060371Z",
     "iopub.status.idle": "2022-11-26T22:32:17.065118Z",
     "shell.execute_reply": "2022-11-26T22:32:17.064234Z"
    }
   },
   "outputs": [],
   "source": [
    "from Bio.Restriction import FspAI, NotI, PacI"
   ]
  },
  {
   "cell_type": "markdown",
   "id": "b451c0bb",
   "metadata": {},
   "source": [
    "The backbone vector is linearized by digestion\n",
    "with [FspAI](https://www.google.com/search?q=FspAI)."
   ]
  },
  {
   "cell_type": "code",
   "execution_count": 4,
   "id": "676270c0",
   "metadata": {
    "execution": {
     "iopub.execute_input": "2022-11-26T22:32:17.069552Z",
     "iopub.status.busy": "2022-11-26T22:32:17.068900Z",
     "iopub.status.idle": "2022-11-26T22:32:17.084106Z",
     "shell.execute_reply": "2022-11-26T22:32:17.083446Z"
    }
   },
   "outputs": [],
   "source": [
    "backbone = read(\"pTA1.gb\")"
   ]
  },
  {
   "cell_type": "markdown",
   "id": "7789265e",
   "metadata": {},
   "source": [
    "The cassette__pcr_products variable holds the list of expression\n",
    "cassette PCR products fragments to be assembled."
   ]
  },
  {
   "cell_type": "code",
   "execution_count": 5,
   "id": "adf33ca1",
   "metadata": {
    "execution": {
     "iopub.execute_input": "2022-11-26T22:32:17.087709Z",
     "iopub.status.busy": "2022-11-26T22:32:17.087221Z",
     "iopub.status.idle": "2022-11-26T22:32:17.090822Z",
     "shell.execute_reply": "2022-11-26T22:32:17.089951Z"
    }
   },
   "outputs": [],
   "source": [
    "cassette_pcr_products = []"
   ]
  },
  {
   "cell_type": "markdown",
   "id": "8980e73f",
   "metadata": {},
   "source": [
    "The expression cassettes comes from a series of single gene expression\n",
    "vectors held in the template_vectors list."
   ]
  },
  {
   "cell_type": "code",
   "execution_count": 6,
   "id": "c704f613",
   "metadata": {
    "execution": {
     "iopub.execute_input": "2022-11-26T22:32:17.095027Z",
     "iopub.status.busy": "2022-11-26T22:32:17.094031Z",
     "iopub.status.idle": "2022-11-26T22:32:17.100894Z",
     "shell.execute_reply": "2022-11-26T22:32:17.099735Z"
    },
    "lines_to_next_cell": 0
   },
   "outputs": [],
   "source": [
    "cassette_vectors = (\"\"\"\n",
    "pTA9_TDH3_ScATF1_PGI1.gb\n",
    "pTA9_PGI1_ScCTT1_TEF1.gb\n",
    "\"\"\").split()"
   ]
  },
  {
   "cell_type": "code",
   "execution_count": 7,
   "id": "46d10efc",
   "metadata": {
    "execution": {
     "iopub.execute_input": "2022-11-26T22:32:17.106516Z",
     "iopub.status.busy": "2022-11-26T22:32:17.105718Z",
     "iopub.status.idle": "2022-11-26T22:32:17.118179Z",
     "shell.execute_reply": "2022-11-26T22:32:17.117446Z"
    },
    "lines_to_next_cell": 0
   },
   "outputs": [
    {
     "data": {
      "text/plain": [
       "['pTA9_TDH3_ScATF1_PGI1.gb', 'pTA9_PGI1_ScCTT1_TEF1.gb']"
      ]
     },
     "execution_count": 7,
     "metadata": {},
     "output_type": "execute_result"
    }
   ],
   "source": [
    "cassette_vectors"
   ]
  },
  {
   "cell_type": "code",
   "execution_count": 8,
   "id": "d3c0778a",
   "metadata": {
    "execution": {
     "iopub.execute_input": "2022-11-26T22:32:17.121073Z",
     "iopub.status.busy": "2022-11-26T22:32:17.120753Z",
     "iopub.status.idle": "2022-11-26T22:32:17.144281Z",
     "shell.execute_reply": "2022-11-26T22:32:17.143549Z"
    },
    "lines_to_next_cell": 0
   },
   "outputs": [],
   "source": [
    "template_vectors = [read(v) for v in cassette_vectors]"
   ]
  },
  {
   "cell_type": "code",
   "execution_count": 9,
   "id": "04f5da90",
   "metadata": {
    "execution": {
     "iopub.execute_input": "2022-11-26T22:32:17.148285Z",
     "iopub.status.busy": "2022-11-26T22:32:17.147760Z",
     "iopub.status.idle": "2022-11-26T22:32:17.154121Z",
     "shell.execute_reply": "2022-11-26T22:32:17.153374Z"
    },
    "lines_to_next_cell": 0
   },
   "outputs": [
    {
     "data": {
      "text/html": [
       "<a href='pTA9_TDH3_ScATF1_PGI1.gb' target='_blank'>pTA9_TDH3_ScATF1_PGI1.gb</a><br>"
      ],
      "text/plain": [
       "File(id_rc)(o9156)"
      ]
     },
     "metadata": {},
     "output_type": "display_data"
    },
    {
     "data": {
      "text/html": [
       "<a href='pTA9_PGI1_ScCTT1_TEF1.gb' target='_blank'>pTA9_PGI1_ScCTT1_TEF1.gb</a><br>"
      ],
      "text/plain": [
       "File(id_rc)(o9151)"
      ]
     },
     "metadata": {},
     "output_type": "display_data"
    }
   ],
   "source": [
    "for tv in template_vectors:\n",
    "    display(tv)"
   ]
  },
  {
   "cell_type": "markdown",
   "id": "b9456422",
   "metadata": {},
   "source": [
    "The first cassette in the pathway.\n",
    "Suggested PCR conditions can be found at the end of this document."
   ]
  },
  {
   "cell_type": "code",
   "execution_count": 10,
   "id": "38ddc737",
   "metadata": {
    "execution": {
     "iopub.execute_input": "2022-11-26T22:32:17.158218Z",
     "iopub.status.busy": "2022-11-26T22:32:17.157823Z",
     "iopub.status.idle": "2022-11-26T22:32:17.178056Z",
     "shell.execute_reply": "2022-11-26T22:32:17.177319Z"
    }
   },
   "outputs": [],
   "source": [
    "cassette_pcr_products.append(pcr(p['577'], p['778'], template_vectors[0]))"
   ]
  },
  {
   "cell_type": "markdown",
   "id": "7d558dcd",
   "metadata": {},
   "source": [
    "Intermediary cassettes"
   ]
  },
  {
   "cell_type": "code",
   "execution_count": 11,
   "id": "4d24a016",
   "metadata": {
    "execution": {
     "iopub.execute_input": "2022-11-26T22:32:17.182689Z",
     "iopub.status.busy": "2022-11-26T22:32:17.182305Z",
     "iopub.status.idle": "2022-11-26T22:32:17.187673Z",
     "shell.execute_reply": "2022-11-26T22:32:17.186724Z"
    }
   },
   "outputs": [],
   "source": [
    "cassette_pcr_products.extend(pcr(p['1123'], p['778'], v)\n",
    "                             for v in template_vectors[1:-1])"
   ]
  },
  {
   "cell_type": "markdown",
   "id": "04859e18",
   "metadata": {},
   "source": [
    "The last cassette in the pathway."
   ]
  },
  {
   "cell_type": "code",
   "execution_count": 12,
   "id": "7504e6a2",
   "metadata": {
    "execution": {
     "iopub.execute_input": "2022-11-26T22:32:17.191518Z",
     "iopub.status.busy": "2022-11-26T22:32:17.191192Z",
     "iopub.status.idle": "2022-11-26T22:32:17.210491Z",
     "shell.execute_reply": "2022-11-26T22:32:17.209488Z"
    }
   },
   "outputs": [],
   "source": [
    "cassette_pcr_products.append(pcr(p['1123'], p['578'], template_vectors[-1]))"
   ]
  },
  {
   "cell_type": "markdown",
   "id": "9a2dbdc0",
   "metadata": {},
   "source": [
    "The cassettes are given names based on the tu cassette"
   ]
  },
  {
   "cell_type": "code",
   "execution_count": 13,
   "id": "464b4671",
   "metadata": {
    "execution": {
     "iopub.execute_input": "2022-11-26T22:32:17.213502Z",
     "iopub.status.busy": "2022-11-26T22:32:17.213257Z",
     "iopub.status.idle": "2022-11-26T22:32:17.217784Z",
     "shell.execute_reply": "2022-11-26T22:32:17.217060Z"
    }
   },
   "outputs": [
    {
     "name": "stdout",
     "output_type": "stream",
     "text": [
      "TDH3_ScATF1_PGI1\n",
      "PGI1_ScCTT1_TEF1\n"
     ]
    }
   ],
   "source": [
    "for cp, ve in zip(cassette_pcr_products, cassette_vectors):\n",
    "    cp.name = ve.removesuffix(\".gb\").split(\"_\", maxsplit=1)[1]\n",
    "    print(cp.name)"
   ]
  },
  {
   "cell_type": "markdown",
   "id": "7bef7ef4",
   "metadata": {},
   "source": [
    "Cassettes and linear plasmid backbone are joined by homologous recombination"
   ]
  },
  {
   "cell_type": "code",
   "execution_count": 14,
   "id": "aa05a66b",
   "metadata": {
    "execution": {
     "iopub.execute_input": "2022-11-26T22:32:17.222926Z",
     "iopub.status.busy": "2022-11-26T22:32:17.222078Z",
     "iopub.status.idle": "2022-11-26T22:32:17.756817Z",
     "shell.execute_reply": "2022-11-26T22:32:17.756063Z"
    }
   },
   "outputs": [
    {
     "data": {
      "text/plain": [
       "Assembly\n",
       "fragments..: 6175bp 3574bp 3702bp\n",
       "limit(bp)..: 110\n",
       "G.nodes....: 6\n",
       "algorithm..: common_sub_strings"
      ]
     },
     "execution_count": 14,
     "metadata": {},
     "output_type": "execute_result"
    }
   ],
   "source": [
    "asm = Assembly([backbone.linearize(FspAI)] + cassette_pcr_products,\n",
    "               limit=167-47-10)\n",
    "asm"
   ]
  },
  {
   "cell_type": "markdown",
   "id": "9a207cc7",
   "metadata": {},
   "source": [
    "There should normally be two candidates of equal size.\n",
    "These sequences should be identical."
   ]
  },
  {
   "cell_type": "code",
   "execution_count": 15,
   "id": "abb3b305",
   "metadata": {
    "execution": {
     "iopub.execute_input": "2022-11-26T22:32:17.759979Z",
     "iopub.status.busy": "2022-11-26T22:32:17.759444Z",
     "iopub.status.idle": "2022-11-26T22:32:17.951634Z",
     "shell.execute_reply": "2022-11-26T22:32:17.950910Z"
    },
    "lines_to_next_cell": 0
   },
   "outputs": [
    {
     "data": {
      "text/plain": [
       "[Contig(o12021), Contig(o12021)]"
      ]
     },
     "execution_count": 15,
     "metadata": {},
     "output_type": "execute_result"
    }
   ],
   "source": [
    "candidates = asm.assemble_circular()\n",
    "candidates"
   ]
  },
  {
   "cell_type": "code",
   "execution_count": 16,
   "id": "63636938",
   "metadata": {
    "execution": {
     "iopub.execute_input": "2022-11-26T22:32:17.954833Z",
     "iopub.status.busy": "2022-11-26T22:32:17.954356Z",
     "iopub.status.idle": "2022-11-26T22:32:17.959540Z",
     "shell.execute_reply": "2022-11-26T22:32:17.958791Z"
    },
    "lines_to_next_cell": 0
   },
   "outputs": [],
   "source": [
    "candidate, *rest = candidates"
   ]
  },
  {
   "cell_type": "code",
   "execution_count": 17,
   "id": "19c6b651",
   "metadata": {
    "execution": {
     "iopub.execute_input": "2022-11-26T22:32:17.963625Z",
     "iopub.status.busy": "2022-11-26T22:32:17.962754Z",
     "iopub.status.idle": "2022-11-26T22:32:17.990698Z",
     "shell.execute_reply": "2022-11-26T22:32:17.989790Z"
    },
    "lines_to_next_cell": 0
   },
   "outputs": [
    {
     "data": {
      "text/plain": [
       "True"
      ]
     },
     "execution_count": 17,
     "metadata": {},
     "output_type": "execute_result"
    }
   ],
   "source": [
    "candidate.cseguid() == rest[0].cseguid()"
   ]
  },
  {
   "cell_type": "markdown",
   "id": "5e65f056",
   "metadata": {},
   "source": [
    "This assembly figure below shows how the fragments came together."
   ]
  },
  {
   "cell_type": "code",
   "execution_count": 18,
   "id": "5d7b286b",
   "metadata": {
    "execution": {
     "iopub.execute_input": "2022-11-26T22:32:17.993903Z",
     "iopub.status.busy": "2022-11-26T22:32:17.993616Z",
     "iopub.status.idle": "2022-11-26T22:32:17.999070Z",
     "shell.execute_reply": "2022-11-26T22:32:17.998167Z"
    }
   },
   "outputs": [
    {
     "data": {
      "text/plain": [
       " -|pTA1_lin|124\n",
       "|           \\/\n",
       "|           /\\\n",
       "|           124|TDH3_ScATF1_PGI1|1013\n",
       "|                                \\/\n",
       "|                                /\\\n",
       "|                                1013|PGI1_ScCTT1_TEF1|242\n",
       "|                                                      \\/\n",
       "|                                                      /\\\n",
       "|                                                      242-\n",
       "|                                                         |\n",
       " ---------------------------------------------------------"
      ]
     },
     "execution_count": 18,
     "metadata": {},
     "output_type": "execute_result"
    }
   ],
   "source": [
    "candidate.figure()"
   ]
  },
  {
   "cell_type": "markdown",
   "id": "96ad7fe6",
   "metadata": {},
   "source": [
    "The candidate vector is synchronized to the 577 primer. This means that\n",
    "the plasmid origin is shifted so that it matches the backbone vector."
   ]
  },
  {
   "cell_type": "code",
   "execution_count": 19,
   "id": "9bd26cc8",
   "metadata": {
    "execution": {
     "iopub.execute_input": "2022-11-26T22:32:18.003276Z",
     "iopub.status.busy": "2022-11-26T22:32:18.002570Z",
     "iopub.status.idle": "2022-11-26T22:32:18.534583Z",
     "shell.execute_reply": "2022-11-26T22:32:18.533853Z"
    }
   },
   "outputs": [],
   "source": [
    "pw = candidate.synced(p['577'])"
   ]
  },
  {
   "cell_type": "markdown",
   "id": "65ee35a8",
   "metadata": {},
   "source": [
    "The cseguid checksum for the resulting plasmid is calculated for future\n",
    "reference.\n",
    "The [cseguid checksum](\n",
    "http://pydna.readthedocs.org/en/latest/pydna.html#pydna.utils.cseguid)\n",
    "uniquely identifies a circular double stranded sequence."
   ]
  },
  {
   "cell_type": "code",
   "execution_count": 20,
   "id": "5a7928b2",
   "metadata": {
    "execution": {
     "iopub.execute_input": "2022-11-26T22:32:18.538227Z",
     "iopub.status.busy": "2022-11-26T22:32:18.537667Z",
     "iopub.status.idle": "2022-11-26T22:32:18.552743Z",
     "shell.execute_reply": "2022-11-26T22:32:18.552103Z"
    }
   },
   "outputs": [
    {
     "data": {
      "text/plain": [
       "'2z0QxUHgAMQtWEVId-XwmQrOz4o'"
      ]
     },
     "execution_count": 20,
     "metadata": {},
     "output_type": "execute_result"
    }
   ],
   "source": [
    "pw.cseguid()"
   ]
  },
  {
   "cell_type": "markdown",
   "id": "2854b3fb",
   "metadata": {},
   "source": [
    "The file is given a name based on the sequence of expressed genes."
   ]
  },
  {
   "cell_type": "code",
   "execution_count": 21,
   "id": "ffb1bc72",
   "metadata": {
    "execution": {
     "iopub.execute_input": "2022-11-26T22:32:18.555638Z",
     "iopub.status.busy": "2022-11-26T22:32:18.555344Z",
     "iopub.status.idle": "2022-11-26T22:32:18.558641Z",
     "shell.execute_reply": "2022-11-26T22:32:18.557977Z"
    }
   },
   "outputs": [],
   "source": [
    "pw.locus = \"pw\"\n",
    "pw.definition = \"pTA1_TDH3_ScATF1_PGI1_ScCTT1_TEF1\""
   ]
  },
  {
   "cell_type": "markdown",
   "id": "68ccf3d6",
   "metadata": {},
   "source": [
    "Sequence stamped with cseguid checksum.\n",
    "This can be used to verify the integrity of the sequence file."
   ]
  },
  {
   "cell_type": "code",
   "execution_count": 22,
   "id": "e4a2d0d2",
   "metadata": {
    "execution": {
     "iopub.execute_input": "2022-11-26T22:32:18.561818Z",
     "iopub.status.busy": "2022-11-26T22:32:18.561453Z",
     "iopub.status.idle": "2022-11-26T22:32:18.578072Z",
     "shell.execute_reply": "2022-11-26T22:32:18.577383Z"
    }
   },
   "outputs": [
    {
     "data": {
      "text/plain": [
       "2z0QxUHgAMQtWEVId-XwmQrOz4o"
      ]
     },
     "execution_count": 22,
     "metadata": {},
     "output_type": "execute_result"
    }
   ],
   "source": [
    "pw.stamp(\"cSEGUID\")"
   ]
  },
  {
   "cell_type": "markdown",
   "id": "b97b1594",
   "metadata": {},
   "source": [
    "Write sequence to a local file."
   ]
  },
  {
   "cell_type": "code",
   "execution_count": 23,
   "id": "3a60bbec",
   "metadata": {
    "execution": {
     "iopub.execute_input": "2022-11-26T22:32:18.581506Z",
     "iopub.status.busy": "2022-11-26T22:32:18.581218Z",
     "iopub.status.idle": "2022-11-26T22:32:18.596166Z",
     "shell.execute_reply": "2022-11-26T22:32:18.595408Z"
    }
   },
   "outputs": [
    {
     "data": {
      "text/html": [
       "<font face=monospace><a href='pTA1_TDH3_ScATF1_PGI1_ScCTT1_TEF1.gb' target='_blank'>pTA1_TDH3_ScATF1_PGI1_ScCTT1_TEF1.gb</a></font><br>"
      ]
     },
     "metadata": {},
     "output_type": "display_data"
    }
   ],
   "source": [
    "pw.write(\"pTA1_TDH3_ScATF1_PGI1_ScCTT1_TEF1.gb\")"
   ]
  },
  {
   "cell_type": "markdown",
   "id": "a26e8d3e",
   "metadata": {},
   "source": [
    "The pathway can be extended by digestion with either NotI or PacI or both\n",
    "provided that the enzymes cut once in the final pathway sequence."
   ]
  },
  {
   "cell_type": "code",
   "execution_count": 24,
   "id": "663ee5e9",
   "metadata": {
    "execution": {
     "iopub.execute_input": "2022-11-26T22:32:18.601023Z",
     "iopub.status.busy": "2022-11-26T22:32:18.600430Z",
     "iopub.status.idle": "2022-11-26T22:32:18.615826Z",
     "shell.execute_reply": "2022-11-26T22:32:18.615211Z"
    }
   },
   "outputs": [
    {
     "name": "stdout",
     "output_type": "stream",
     "text": [
      "NotI cuts 1 time(s) and PacI cuts 1 time(s) in the final pathway.\n"
     ]
    }
   ],
   "source": [
    "print(f\"NotI cuts {len(pw.cut(NotI))} time(s) and PacI cuts \"\n",
    "      f\"{len(pw.cut(PacI))} time(s) in the final pathway.\")"
   ]
  },
  {
   "cell_type": "markdown",
   "id": "f73a7ce3",
   "metadata": {
    "lines_to_next_cell": 0
   },
   "source": [
    "### Transcriptional unit (single gene expression) vectors needed."
   ]
  },
  {
   "cell_type": "code",
   "execution_count": 25,
   "id": "2c1bda34",
   "metadata": {
    "execution": {
     "iopub.execute_input": "2022-11-26T22:32:18.618620Z",
     "iopub.status.busy": "2022-11-26T22:32:18.618375Z",
     "iopub.status.idle": "2022-11-26T22:32:18.627289Z",
     "shell.execute_reply": "2022-11-26T22:32:18.625954Z"
    }
   },
   "outputs": [
    {
     "data": {
      "text/markdown": [
       "[pTA9_TDH3_ScATF1_PGI1.ipynb](pTA9_TDH3_ScATF1_PGI1.ipynb)"
      ],
      "text/plain": [
       "<IPython.core.display.Markdown object>"
      ]
     },
     "metadata": {},
     "output_type": "display_data"
    },
    {
     "data": {
      "text/markdown": [
       "[pTA9_PGI1_ScCTT1_TEF1.ipynb](pTA9_PGI1_ScCTT1_TEF1.ipynb)"
      ],
      "text/plain": [
       "<IPython.core.display.Markdown object>"
      ]
     },
     "metadata": {},
     "output_type": "display_data"
    }
   ],
   "source": [
    "for cv in cassette_vectors:\n",
    "    cassette_vector = Path(cv).with_suffix('.ipynb')\n",
    "    display(Markdown(f\"[{cassette_vector}]({cassette_vector})\"))"
   ]
  },
  {
   "cell_type": "markdown",
   "id": "78acc4d8",
   "metadata": {
    "lines_to_next_cell": 0
   },
   "source": [
    "### Suggested PCR conditions"
   ]
  },
  {
   "cell_type": "code",
   "execution_count": 26,
   "id": "07da438b",
   "metadata": {
    "execution": {
     "iopub.execute_input": "2022-11-26T22:32:18.633073Z",
     "iopub.status.busy": "2022-11-26T22:32:18.632505Z",
     "iopub.status.idle": "2022-11-26T22:32:18.640200Z",
     "shell.execute_reply": "2022-11-26T22:32:18.638753Z"
    }
   },
   "outputs": [
    {
     "name": "stdout",
     "output_type": "stream",
     "text": [
      "\n",
      "\n",
      "\n",
      "\n",
      "\n",
      "product name: TDH3_ScATF1_PGI1\n",
      "forward primer 577\n",
      "reverse primer 778\n",
      "|95°C|95°C               |    |tmf:64.6\n",
      "|____|_____          72°C|72°C|tmr:53.9\n",
      "|3min|30s  \\ 54.0°C _____|____|45s/kb\n",
      "|    |      \\______/ 2:40|5min|GC 38%\n",
      "|    |       30s         |    |3574bp\n",
      "\n",
      "\n",
      "\n",
      "\n",
      "\n",
      "product name: PGI1_ScCTT1_TEF1\n",
      "forward primer 1123\n",
      "reverse primer 578\n",
      "|95°C|95°C               |    |tmf:70.4\n",
      "|____|_____          72°C|72°C|tmr:65.0\n",
      "|3min|30s  \\ 57.9°C _____|____|45s/kb\n",
      "|    |      \\______/ 2:46|5min|GC 40%\n",
      "|    |       30s         |    |3702bp\n"
     ]
    }
   ],
   "source": [
    "for prd in cassette_pcr_products:\n",
    "    print(\"\\n\\n\\n\\n\")\n",
    "    print(\"product name:\", prd.name)\n",
    "    print(\"forward primer\", prd.forward_primer.name)\n",
    "    print(\"reverse primer\", prd.reverse_primer.name)\n",
    "    print(prd.program())"
   ]
  }
 ],
 "metadata": {
  "jupytext": {
   "main_language": "python",
   "text_representation": {
    "extension": ".py",
    "format_name": "percent",
    "format_version": "1.3",
    "jupytext_version": "1.14.0"
   }
  },
  "language_info": {
   "codemirror_mode": {
    "name": "ipython",
    "version": 3
   },
   "file_extension": ".py",
   "mimetype": "text/x-python",
   "name": "python",
   "nbconvert_exporter": "python",
   "pygments_lexer": "ipython3",
   "version": "3.10.6"
  }
 },
 "nbformat": 4,
 "nbformat_minor": 5
}
