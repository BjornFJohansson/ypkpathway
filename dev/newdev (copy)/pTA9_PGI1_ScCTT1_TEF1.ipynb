{
 "cells": [
  {
   "cell_type": "markdown",
   "id": "82bf892a",
   "metadata": {},
   "source": [
    "# pTA9_PGI1_ScCTT1_TEF1\n",
    "\n",
    "This notebook describes the assembly of the\n",
    "[_Saccharomyces cerevisiae_](http://www.yeastgenome.org)\n",
    "transcriptional unit vector.\n",
    "\n",
    "It is made from a linear vector fragment and three PCR products:\n",
    "\n",
    "- a linearized pTA9 vector for maintenance in _S. cerevisiae_ or _E. coli_ (red dashed line in figure below)\n",
    "- a promoter PCR product from the pYPKa_Z_PGI1 vector\n",
    "- a gene PCR product from the pYPKa_A_ScCTT1\n",
    "- a terminator PCR product from the pYPKa_E_TEF1 vector\n",
    "\n",
    "The four linear DNA fragments are joined by _in-vivo_ homologous recombination in a\n",
    "[_Saccharomyces cerevisiae_](http://wiki.yeastgenome.org/index.php/Commonly_used_strains) strain.\n",
    "\n",
    "![tu](tu.png \"tu\")\n",
    "\n",
    "A part of the [pydna](https://pypi.python.org/pypi/pydna/) package is imported in the code cell below."
   ]
  },
  {
   "cell_type": "code",
   "execution_count": 1,
   "id": "c3c09589",
   "metadata": {
    "execution": {
     "iopub.execute_input": "2022-11-26T22:32:13.123484Z",
     "iopub.status.busy": "2022-11-26T22:32:13.122793Z",
     "iopub.status.idle": "2022-11-26T22:32:13.495279Z",
     "shell.execute_reply": "2022-11-26T22:32:13.494506Z"
    }
   },
   "outputs": [],
   "source": [
    "from pydna.parsers import parse_primers\n",
    "from pydna.readers import read\n",
    "from pydna.amplify import pcr\n",
    "from pydna.assembly import Assembly"
   ]
  },
  {
   "cell_type": "markdown",
   "id": "ad4f542c",
   "metadata": {},
   "source": [
    "The Yeast Pathway Kit [standard primers](standard_primers.fasta) are read into a dictionary in the code cell below."
   ]
  },
  {
   "cell_type": "code",
   "execution_count": 2,
   "id": "a929b716",
   "metadata": {
    "execution": {
     "iopub.execute_input": "2022-11-26T22:32:13.499203Z",
     "iopub.status.busy": "2022-11-26T22:32:13.498650Z",
     "iopub.status.idle": "2022-11-26T22:32:13.514266Z",
     "shell.execute_reply": "2022-11-26T22:32:13.513493Z"
    }
   },
   "outputs": [],
   "source": [
    "p = {x.id: x for x in parse_primers(\"standard_primers.fasta\")}"
   ]
  },
  {
   "cell_type": "markdown",
   "id": "1793ffea",
   "metadata": {},
   "source": [
    "The backbone vector [pTA9](pTA9.gb) is read from a local file in the code cell below."
   ]
  },
  {
   "cell_type": "code",
   "execution_count": 3,
   "id": "cec33f8d",
   "metadata": {
    "execution": {
     "iopub.execute_input": "2022-11-26T22:32:13.517392Z",
     "iopub.status.busy": "2022-11-26T22:32:13.517149Z",
     "iopub.status.idle": "2022-11-26T22:32:13.529132Z",
     "shell.execute_reply": "2022-11-26T22:32:13.528387Z"
    }
   },
   "outputs": [],
   "source": [
    "backbone = read(\"pTA9.gb\")"
   ]
  },
  {
   "cell_type": "markdown",
   "id": "f9579358",
   "metadata": {},
   "source": [
    "The backbone vector is linearized by digestion with [FspAI](https://www.google.com/search?q=FspAI)."
   ]
  },
  {
   "cell_type": "code",
   "execution_count": 4,
   "id": "db828ec8",
   "metadata": {
    "execution": {
     "iopub.execute_input": "2022-11-26T22:32:13.533104Z",
     "iopub.status.busy": "2022-11-26T22:32:13.532771Z",
     "iopub.status.idle": "2022-11-26T22:32:13.537140Z",
     "shell.execute_reply": "2022-11-26T22:32:13.536338Z"
    }
   },
   "outputs": [],
   "source": [
    "from Bio.Restriction import FspAI"
   ]
  },
  {
   "cell_type": "code",
   "execution_count": 5,
   "id": "4c2a30f4",
   "metadata": {
    "execution": {
     "iopub.execute_input": "2022-11-26T22:32:13.540696Z",
     "iopub.status.busy": "2022-11-26T22:32:13.540379Z",
     "iopub.status.idle": "2022-11-26T22:32:13.548967Z",
     "shell.execute_reply": "2022-11-26T22:32:13.548094Z"
    }
   },
   "outputs": [],
   "source": [
    "linear_backbone = backbone.linearize(FspAI)"
   ]
  },
  {
   "cell_type": "markdown",
   "id": "dab88fdc",
   "metadata": {},
   "source": [
    "The pYPKa derived _E. coli_ plasmids containing \n",
    "- [promoter](pYPKa_Z_PGI1.gb)\n",
    "- [gene](pYPKa_A_ScCTT1.gb)\n",
    "- [terminator](pYPKa_E_TEF1.gb)\n",
    "\n",
    "are read into three variables below."
   ]
  },
  {
   "cell_type": "code",
   "execution_count": 6,
   "id": "ff04339b",
   "metadata": {
    "execution": {
     "iopub.execute_input": "2022-11-26T22:32:13.552741Z",
     "iopub.status.busy": "2022-11-26T22:32:13.552433Z",
     "iopub.status.idle": "2022-11-26T22:32:13.572451Z",
     "shell.execute_reply": "2022-11-26T22:32:13.571716Z"
    }
   },
   "outputs": [],
   "source": [
    "promoter_template   = read(\"pYPKa_Z_PGI1.gb\")\n",
    "gene_template       = read(\"pYPKa_A_ScCTT1.gb\")\n",
    "terminator_template = read(\"pYPKa_E_TEF1.gb\")"
   ]
  },
  {
   "cell_type": "markdown",
   "id": "1053725e",
   "metadata": {
    "lines_to_next_cell": 0
   },
   "source": [
    "### PCR\n",
    "Three DNA fragments are PCR amplified using [standard primers](standard_primers.fasta).\n",
    "\n",
    "[Suggested PCR programs](#Suggested-PCR-programs) can be found at the end of this document."
   ]
  },
  {
   "cell_type": "code",
   "execution_count": 7,
   "id": "e91f5770",
   "metadata": {
    "execution": {
     "iopub.execute_input": "2022-11-26T22:32:13.575791Z",
     "iopub.status.busy": "2022-11-26T22:32:13.575519Z",
     "iopub.status.idle": "2022-11-26T22:32:13.600791Z",
     "shell.execute_reply": "2022-11-26T22:32:13.600054Z"
    }
   },
   "outputs": [],
   "source": [
    "prom = pcr(p['577'], p['567'], promoter_template)\n",
    "gene = pcr(p['468'], p['467'], gene_template)\n",
    "term = pcr(p['568'], p['578'], terminator_template)"
   ]
  },
  {
   "cell_type": "code",
   "execution_count": 8,
   "id": "e8a67d98",
   "metadata": {
    "execution": {
     "iopub.execute_input": "2022-11-26T22:32:13.603919Z",
     "iopub.status.busy": "2022-11-26T22:32:13.603660Z",
     "iopub.status.idle": "2022-11-26T22:32:13.607200Z",
     "shell.execute_reply": "2022-11-26T22:32:13.606433Z"
    }
   },
   "outputs": [],
   "source": [
    "prom.name = \"PGI1\"\n",
    "gene.name = \"ScCTT1\"\n",
    "term.name = \"TEF1\""
   ]
  },
  {
   "cell_type": "markdown",
   "id": "d19b7c53",
   "metadata": {},
   "source": [
    "\n",
    "The fragments will be assembled by _in-vivo_ [homologous recombination](http://www.ncbi.nlm.nih.gov/pubmed/2828185):"
   ]
  },
  {
   "cell_type": "code",
   "execution_count": 9,
   "id": "fea02dba",
   "metadata": {
    "execution": {
     "iopub.execute_input": "2022-11-26T22:32:13.611453Z",
     "iopub.status.busy": "2022-11-26T22:32:13.610768Z",
     "iopub.status.idle": "2022-11-26T22:32:14.170436Z",
     "shell.execute_reply": "2022-11-26T22:32:14.169588Z"
    }
   },
   "outputs": [
    {
     "data": {
      "text/plain": [
       "Assembly\n",
       "fragments..: 5685bp 1231bp 1788bp 919bp\n",
       "limit(bp)..: 31\n",
       "G.nodes....: 8\n",
       "algorithm..: common_sub_strings"
      ]
     },
     "execution_count": 9,
     "metadata": {},
     "output_type": "execute_result"
    }
   ],
   "source": [
    "asm = Assembly((linear_backbone, prom, gene, term), limit=31)\n",
    "asm"
   ]
  },
  {
   "cell_type": "markdown",
   "id": "b38b0b1f",
   "metadata": {},
   "source": [
    "The Assembly object above should normally indicate four fragments and eight nodes."
   ]
  },
  {
   "cell_type": "code",
   "execution_count": 10,
   "id": "cb2f7c20",
   "metadata": {
    "execution": {
     "iopub.execute_input": "2022-11-26T22:32:14.173615Z",
     "iopub.status.busy": "2022-11-26T22:32:14.173352Z",
     "iopub.status.idle": "2022-11-26T22:32:14.358668Z",
     "shell.execute_reply": "2022-11-26T22:32:14.358060Z"
    },
    "lines_to_next_cell": 0
   },
   "outputs": [
    {
     "data": {
      "text/plain": [
       "[Contig(o9151), Contig(o9151)]"
      ]
     },
     "execution_count": 10,
     "metadata": {},
     "output_type": "execute_result"
    }
   ],
   "source": [
    "candidates = asm.assemble_circular()\n",
    "candidates"
   ]
  },
  {
   "cell_type": "markdown",
   "id": "748f474a",
   "metadata": {},
   "source": [
    "There should normally be two candidates of equal size. These sequences should be identical."
   ]
  },
  {
   "cell_type": "code",
   "execution_count": 11,
   "id": "fc589e0a",
   "metadata": {
    "execution": {
     "iopub.execute_input": "2022-11-26T22:32:14.361567Z",
     "iopub.status.busy": "2022-11-26T22:32:14.361276Z",
     "iopub.status.idle": "2022-11-26T22:32:14.364398Z",
     "shell.execute_reply": "2022-11-26T22:32:14.363806Z"
    },
    "lines_to_next_cell": 0
   },
   "outputs": [],
   "source": [
    "candidate, *rest = candidates"
   ]
  },
  {
   "cell_type": "code",
   "execution_count": 12,
   "id": "b41b672f",
   "metadata": {
    "execution": {
     "iopub.execute_input": "2022-11-26T22:32:14.367035Z",
     "iopub.status.busy": "2022-11-26T22:32:14.366698Z",
     "iopub.status.idle": "2022-11-26T22:32:14.385016Z",
     "shell.execute_reply": "2022-11-26T22:32:14.384327Z"
    },
    "lines_to_next_cell": 0
   },
   "outputs": [
    {
     "data": {
      "text/plain": [
       "True"
      ]
     },
     "execution_count": 12,
     "metadata": {},
     "output_type": "execute_result"
    }
   ],
   "source": [
    "candidate.cseguid() == rest[0].cseguid()"
   ]
  },
  {
   "cell_type": "code",
   "execution_count": 13,
   "id": "91239718",
   "metadata": {
    "execution": {
     "iopub.execute_input": "2022-11-26T22:32:14.388053Z",
     "iopub.status.busy": "2022-11-26T22:32:14.387788Z",
     "iopub.status.idle": "2022-11-26T22:32:14.392696Z",
     "shell.execute_reply": "2022-11-26T22:32:14.391755Z"
    },
    "lines_to_next_cell": 0
   },
   "outputs": [
    {
     "data": {
      "text/plain": [
       " -|pTA9_lin|242\n",
       "|           \\/\n",
       "|           /\\\n",
       "|           242|TEF1_rc|37\n",
       "|                       \\/\n",
       "|                       /\\\n",
       "|                       37|ScCTT1_rc|50\n",
       "|                                    \\/\n",
       "|                                    /\\\n",
       "|                                    50|PGI1_rc|124\n",
       "|                                               \\/\n",
       "|                                               /\\\n",
       "|                                               124-\n",
       "|                                                  |\n",
       " --------------------------------------------------"
      ]
     },
     "execution_count": 13,
     "metadata": {},
     "output_type": "execute_result"
    }
   ],
   "source": [
    "candidate.figure()"
   ]
  },
  {
   "cell_type": "markdown",
   "id": "af7500d5",
   "metadata": {},
   "source": [
    "The candidate vector is synchronized to the 577 primer. This means that\n",
    "the plasmid origin is shifted so that it matches the backbone vector."
   ]
  },
  {
   "cell_type": "code",
   "execution_count": 14,
   "id": "e302bb4a",
   "metadata": {
    "execution": {
     "iopub.execute_input": "2022-11-26T22:32:14.397002Z",
     "iopub.status.busy": "2022-11-26T22:32:14.396636Z",
     "iopub.status.idle": "2022-11-26T22:32:14.806719Z",
     "shell.execute_reply": "2022-11-26T22:32:14.806069Z"
    }
   },
   "outputs": [],
   "source": [
    "result = candidate.synced(p['577'])"
   ]
  },
  {
   "cell_type": "markdown",
   "id": "1b12721f",
   "metadata": {},
   "source": [
    "### Diagnostic PCR confirmation\n",
    "\n",
    "The structure of the final vector is confirmed by two\n",
    "separate PCR reactions, one for the promoter and gene and\n",
    "one for the gene and terminator.\n",
    "\n",
    "PCR using standard primers 577 and 467 to amplify promoter and gene."
   ]
  },
  {
   "cell_type": "code",
   "execution_count": 15,
   "id": "6f07deef",
   "metadata": {
    "execution": {
     "iopub.execute_input": "2022-11-26T22:32:14.809953Z",
     "iopub.status.busy": "2022-11-26T22:32:14.809651Z",
     "iopub.status.idle": "2022-11-26T22:32:14.830805Z",
     "shell.execute_reply": "2022-11-26T22:32:14.830190Z"
    }
   },
   "outputs": [],
   "source": [
    "product = pcr( p['577'], p['467'], result)"
   ]
  },
  {
   "cell_type": "markdown",
   "id": "02b95636",
   "metadata": {},
   "source": [
    "A correct clone should give this size in base pairs:"
   ]
  },
  {
   "cell_type": "code",
   "execution_count": 16,
   "id": "091af5a7",
   "metadata": {
    "execution": {
     "iopub.execute_input": "2022-11-26T22:32:14.834318Z",
     "iopub.status.busy": "2022-11-26T22:32:14.833824Z",
     "iopub.status.idle": "2022-11-26T22:32:14.838685Z",
     "shell.execute_reply": "2022-11-26T22:32:14.837532Z"
    }
   },
   "outputs": [
    {
     "name": "stdout",
     "output_type": "stream",
     "text": [
      "2969\n"
     ]
    }
   ],
   "source": [
    "print(len(product))"
   ]
  },
  {
   "cell_type": "markdown",
   "id": "a83ef71e",
   "metadata": {},
   "source": [
    "If the promoter is missing from the assembly, the PCR product will have this size in base pairs:"
   ]
  },
  {
   "cell_type": "code",
   "execution_count": 17,
   "id": "82ea857a",
   "metadata": {
    "execution": {
     "iopub.execute_input": "2022-11-26T22:32:14.843133Z",
     "iopub.status.busy": "2022-11-26T22:32:14.842724Z",
     "iopub.status.idle": "2022-11-26T22:32:14.847387Z",
     "shell.execute_reply": "2022-11-26T22:32:14.846664Z"
    }
   },
   "outputs": [
    {
     "name": "stdout",
     "output_type": "stream",
     "text": [
      "1738\n"
     ]
    }
   ],
   "source": [
    "print(len(product) - len(prom))"
   ]
  },
  {
   "cell_type": "markdown",
   "id": "36550630",
   "metadata": {},
   "source": [
    "If the gene is missing from the assembly, the PCR product will have this size in base pairs:"
   ]
  },
  {
   "cell_type": "code",
   "execution_count": 18,
   "id": "4a771513",
   "metadata": {
    "execution": {
     "iopub.execute_input": "2022-11-26T22:32:14.850342Z",
     "iopub.status.busy": "2022-11-26T22:32:14.850050Z",
     "iopub.status.idle": "2022-11-26T22:32:14.854983Z",
     "shell.execute_reply": "2022-11-26T22:32:14.853923Z"
    }
   },
   "outputs": [
    {
     "name": "stdout",
     "output_type": "stream",
     "text": [
      "1181\n"
     ]
    }
   ],
   "source": [
    "print(len(product) - len(gene))"
   ]
  },
  {
   "cell_type": "markdown",
   "id": "0def5378",
   "metadata": {},
   "source": [
    "PCR using standard primers 468 and 578 to amplify gene and terminator."
   ]
  },
  {
   "cell_type": "code",
   "execution_count": 19,
   "id": "b4ef6482",
   "metadata": {
    "execution": {
     "iopub.execute_input": "2022-11-26T22:32:14.859453Z",
     "iopub.status.busy": "2022-11-26T22:32:14.858550Z",
     "iopub.status.idle": "2022-11-26T22:32:14.879753Z",
     "shell.execute_reply": "2022-11-26T22:32:14.879000Z"
    }
   },
   "outputs": [],
   "source": [
    "product2 = pcr( p['468'], p['578'], result)"
   ]
  },
  {
   "cell_type": "markdown",
   "id": "41c65598",
   "metadata": {},
   "source": [
    "A correct clone should give this size:"
   ]
  },
  {
   "cell_type": "code",
   "execution_count": 20,
   "id": "c33a8235",
   "metadata": {
    "execution": {
     "iopub.execute_input": "2022-11-26T22:32:14.882836Z",
     "iopub.status.busy": "2022-11-26T22:32:14.882585Z",
     "iopub.status.idle": "2022-11-26T22:32:14.888306Z",
     "shell.execute_reply": "2022-11-26T22:32:14.887328Z"
    }
   },
   "outputs": [
    {
     "name": "stdout",
     "output_type": "stream",
     "text": [
      "2670\n"
     ]
    }
   ],
   "source": [
    "print(len(product2))"
   ]
  },
  {
   "cell_type": "markdown",
   "id": "030f9b8e",
   "metadata": {},
   "source": [
    "If the gene is missing from the assembly, the PCR product will have this size in base pairs:"
   ]
  },
  {
   "cell_type": "code",
   "execution_count": 21,
   "id": "f8c8abac",
   "metadata": {
    "execution": {
     "iopub.execute_input": "2022-11-26T22:32:14.892481Z",
     "iopub.status.busy": "2022-11-26T22:32:14.891905Z",
     "iopub.status.idle": "2022-11-26T22:32:14.896873Z",
     "shell.execute_reply": "2022-11-26T22:32:14.895768Z"
    }
   },
   "outputs": [
    {
     "name": "stdout",
     "output_type": "stream",
     "text": [
      "882\n"
     ]
    }
   ],
   "source": [
    "print(len(product2) - len(gene))"
   ]
  },
  {
   "cell_type": "markdown",
   "id": "1cda671b",
   "metadata": {},
   "source": [
    "If the terminator is missing from the assembly, the PCR product will have this size in base pairs:"
   ]
  },
  {
   "cell_type": "code",
   "execution_count": 22,
   "id": "4bc4fa87",
   "metadata": {
    "execution": {
     "iopub.execute_input": "2022-11-26T22:32:14.902075Z",
     "iopub.status.busy": "2022-11-26T22:32:14.901714Z",
     "iopub.status.idle": "2022-11-26T22:32:14.906057Z",
     "shell.execute_reply": "2022-11-26T22:32:14.905317Z"
    }
   },
   "outputs": [
    {
     "name": "stdout",
     "output_type": "stream",
     "text": [
      "1751\n"
     ]
    }
   ],
   "source": [
    "print(len(product2) - len(term))"
   ]
  },
  {
   "cell_type": "markdown",
   "id": "d84f9035",
   "metadata": {},
   "source": [
    "The cseguid checksum for the resulting plasmid is calculated for future reference.\n",
    "The [cseguid checksum](http://pydna.readthedocs.org/en/latest/pydna.html#pydna.utils.cseguid)\n",
    "uniquely identifies a circular double stranded sequence."
   ]
  },
  {
   "cell_type": "code",
   "execution_count": 23,
   "id": "cefa74c2",
   "metadata": {
    "execution": {
     "iopub.execute_input": "2022-11-26T22:32:14.909646Z",
     "iopub.status.busy": "2022-11-26T22:32:14.909305Z",
     "iopub.status.idle": "2022-11-26T22:32:14.922869Z",
     "shell.execute_reply": "2022-11-26T22:32:14.922048Z"
    }
   },
   "outputs": [
    {
     "name": "stdout",
     "output_type": "stream",
     "text": [
      "PzRQvpooEGptQPDUsE5WkZQyB6Y\n"
     ]
    }
   ],
   "source": [
    "print(result.cseguid())"
   ]
  },
  {
   "cell_type": "markdown",
   "id": "7cea76b0",
   "metadata": {},
   "source": [
    "The file name is based on the promoter, gene and terminator designations."
   ]
  },
  {
   "cell_type": "code",
   "execution_count": 24,
   "id": "3352190a",
   "metadata": {
    "execution": {
     "iopub.execute_input": "2022-11-26T22:32:14.925763Z",
     "iopub.status.busy": "2022-11-26T22:32:14.925470Z",
     "iopub.status.idle": "2022-11-26T22:32:14.928768Z",
     "shell.execute_reply": "2022-11-26T22:32:14.928163Z"
    }
   },
   "outputs": [],
   "source": [
    "result.locus = \"TU:ScCTT1\"[:16]\n",
    "result.definition = \"pTA9_PGI1_ScCTT1_TEF1\""
   ]
  },
  {
   "cell_type": "markdown",
   "id": "ca2f5b61",
   "metadata": {},
   "source": [
    "Sequence is stamped with cseguid checksum. This can be used to verify the\n",
    "integrity of the sequence file."
   ]
  },
  {
   "cell_type": "code",
   "execution_count": 25,
   "id": "37b5002c",
   "metadata": {
    "execution": {
     "iopub.execute_input": "2022-11-26T22:32:14.931721Z",
     "iopub.status.busy": "2022-11-26T22:32:14.931433Z",
     "iopub.status.idle": "2022-11-26T22:32:14.947522Z",
     "shell.execute_reply": "2022-11-26T22:32:14.946545Z"
    }
   },
   "outputs": [
    {
     "data": {
      "text/plain": [
       "PzRQvpooEGptQPDUsE5WkZQyB6Y"
      ]
     },
     "execution_count": 25,
     "metadata": {},
     "output_type": "execute_result"
    }
   ],
   "source": [
    "result.stamp(\"cSEGUID\")"
   ]
  },
  {
   "cell_type": "markdown",
   "id": "aff05733",
   "metadata": {},
   "source": [
    "Write sequence to a local file."
   ]
  },
  {
   "cell_type": "code",
   "execution_count": 26,
   "id": "6ca78085",
   "metadata": {
    "execution": {
     "iopub.execute_input": "2022-11-26T22:32:14.952179Z",
     "iopub.status.busy": "2022-11-26T22:32:14.951742Z",
     "iopub.status.idle": "2022-11-26T22:32:14.963412Z",
     "shell.execute_reply": "2022-11-26T22:32:14.962322Z"
    }
   },
   "outputs": [
    {
     "data": {
      "text/html": [
       "<font face=monospace><a href='pTA9_PGI1_ScCTT1_TEF1.gb' target='_blank'>pTA9_PGI1_ScCTT1_TEF1.gb</a></font><br>"
      ]
     },
     "metadata": {},
     "output_type": "display_data"
    }
   ],
   "source": [
    "result.write(f\"{result.definition}.gb\")"
   ]
  },
  {
   "cell_type": "markdown",
   "id": "c40b54b1",
   "metadata": {
    "lines_to_next_cell": 0
   },
   "source": [
    "### Suggested PCR programs\n",
    "\n",
    "For the [amplification](#PCR) of promoter, gene and terminator."
   ]
  },
  {
   "cell_type": "code",
   "execution_count": 27,
   "id": "5cd3e494",
   "metadata": {
    "execution": {
     "iopub.execute_input": "2022-11-26T22:32:14.972893Z",
     "iopub.status.busy": "2022-11-26T22:32:14.972398Z",
     "iopub.status.idle": "2022-11-26T22:32:14.979440Z",
     "shell.execute_reply": "2022-11-26T22:32:14.977258Z"
    }
   },
   "outputs": [
    {
     "name": "stdout",
     "output_type": "stream",
     "text": [
      "577 567\n",
      "|95°C|95°C               |    |tmf:64.6\n",
      "|____|_____          72°C|72°C|tmr:69.7\n",
      "|3min|30s  \\ 57.7°C _____|____|45s/kb\n",
      "|    |      \\______/ 0:55|5min|GC 40%\n",
      "|    |       30s         |    |1231bp\n"
     ]
    }
   ],
   "source": [
    "print(prom.forward_primer.name, prom.reverse_primer.name)\n",
    "print(prom.program())"
   ]
  },
  {
   "cell_type": "code",
   "execution_count": 28,
   "id": "23d0885a",
   "metadata": {
    "execution": {
     "iopub.execute_input": "2022-11-26T22:32:14.984332Z",
     "iopub.status.busy": "2022-11-26T22:32:14.983748Z",
     "iopub.status.idle": "2022-11-26T22:32:14.992667Z",
     "shell.execute_reply": "2022-11-26T22:32:14.991879Z"
    }
   },
   "outputs": [
    {
     "name": "stdout",
     "output_type": "stream",
     "text": [
      "468 467\n",
      "|95°C|95°C               |    |tmf:76.9\n",
      "|____|_____          72°C|72°C|tmr:67.9\n",
      "|3min|30s  \\ 59.1°C _____|____|45s/kb\n",
      "|    |      \\______/ 1:20|5min|GC 41%\n",
      "|    |       30s         |    |1788bp\n"
     ]
    }
   ],
   "source": [
    "print(gene.forward_primer.name, gene.reverse_primer.name)\n",
    "print(gene.program())"
   ]
  },
  {
   "cell_type": "code",
   "execution_count": 29,
   "id": "f70e5ca1",
   "metadata": {
    "execution": {
     "iopub.execute_input": "2022-11-26T22:32:14.996319Z",
     "iopub.status.busy": "2022-11-26T22:32:14.996018Z",
     "iopub.status.idle": "2022-11-26T22:32:15.002192Z",
     "shell.execute_reply": "2022-11-26T22:32:15.001110Z"
    }
   },
   "outputs": [
    {
     "name": "stdout",
     "output_type": "stream",
     "text": [
      "568 578\n",
      "|95°C|95°C               |    |tmf:66.1\n",
      "|____|_____          72°C|72°C|tmr:65.0\n",
      "|3min|30s  \\ 57.1°C _____|____|45s/kb\n",
      "|    |      \\______/ 0:41|5min|GC 38%\n",
      "|    |       30s         |    |919bp\n"
     ]
    }
   ],
   "source": [
    "print(term.forward_primer.name, term.reverse_primer.name)\n",
    "print(term.program())"
   ]
  }
 ],
 "metadata": {
  "jupytext": {
   "main_language": "python"
  },
  "kernelspec": {
   "display_name": "Python [conda env:bjorn310]",
   "language": "python",
   "name": "conda-env-bjorn310-py"
  },
  "language_info": {
   "codemirror_mode": {
    "name": "ipython",
    "version": 3
   },
   "file_extension": ".py",
   "mimetype": "text/x-python",
   "name": "python",
   "nbconvert_exporter": "python",
   "pygments_lexer": "ipython3",
   "version": "3.10.6"
  }
 },
 "nbformat": 4,
 "nbformat_minor": 5
}
