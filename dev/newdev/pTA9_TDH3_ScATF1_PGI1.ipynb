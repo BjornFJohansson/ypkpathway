{
 "cells": [
  {
   "cell_type": "markdown",
   "id": "8ac5680b",
   "metadata": {},
   "source": [
    "# pTA9_TDH3_ScATF1_PGI1\n",
    "\n",
    "This notebook describes the assembly of the\n",
    "[_Saccharomyces cerevisiae_](http://www.yeastgenome.org)\n",
    "transcriptional unit vector.\n",
    "\n",
    "It is made from a linear vector fragment and three PCR products:\n",
    "\n",
    "- a linearized pTA9 vector for maintenance in _S. cerevisiae_ or _E. coli_ (red dashed line in figure below)\n",
    "- a promoter PCR product from the pYPKa_Z_TDH3 vector\n",
    "- a gene PCR product from the pYPKa_A_ScATF1\n",
    "- a terminator PCR product from the pYPKa_E_PGI1 vector\n",
    "\n",
    "The four linear DNA fragments are joined by _in-vivo_ homologous recombination in a\n",
    "[_Saccharomyces cerevisiae_](http://wiki.yeastgenome.org/index.php/Commonly_used_strains) strain.\n",
    "\n",
    "![tu](tu.png \"tu\")\n",
    "\n",
    "A part of the [pydna](https://pypi.python.org/pypi/pydna/) package is imported in the code cell below."
   ]
  },
  {
   "cell_type": "code",
   "execution_count": 1,
   "id": "618ba580",
   "metadata": {
    "execution": {
     "iopub.execute_input": "2022-12-01T19:54:01.855647Z",
     "iopub.status.busy": "2022-12-01T19:54:01.854689Z",
     "iopub.status.idle": "2022-12-01T19:54:02.204605Z",
     "shell.execute_reply": "2022-12-01T19:54:02.203869Z"
    }
   },
   "outputs": [],
   "source": [
    "from pydna.parsers import parse_primers\n",
    "from pydna.readers import read\n",
    "from pydna.amplify import pcr\n",
    "from pydna.assembly import Assembly"
   ]
  },
  {
   "cell_type": "markdown",
   "id": "13fa533f",
   "metadata": {},
   "source": [
    "The Yeast Pathway Kit [standard primers](standard_primers.fasta) are read into a dictionary in the code cell below."
   ]
  },
  {
   "cell_type": "code",
   "execution_count": 2,
   "id": "e210c6c2",
   "metadata": {
    "execution": {
     "iopub.execute_input": "2022-12-01T19:54:02.207955Z",
     "iopub.status.busy": "2022-12-01T19:54:02.207560Z",
     "iopub.status.idle": "2022-12-01T19:54:02.219792Z",
     "shell.execute_reply": "2022-12-01T19:54:02.219071Z"
    }
   },
   "outputs": [],
   "source": [
    "p = {x.id: x for x in parse_primers(\"standard_primers.fasta\")}"
   ]
  },
  {
   "cell_type": "markdown",
   "id": "06208c2e",
   "metadata": {},
   "source": [
    "The backbone vector [pTA9](pTA9.gb) is read from a local file in the code cell below."
   ]
  },
  {
   "cell_type": "code",
   "execution_count": 3,
   "id": "5f49f2c0",
   "metadata": {
    "execution": {
     "iopub.execute_input": "2022-12-01T19:54:02.223405Z",
     "iopub.status.busy": "2022-12-01T19:54:02.222951Z",
     "iopub.status.idle": "2022-12-01T19:54:02.233428Z",
     "shell.execute_reply": "2022-12-01T19:54:02.232697Z"
    }
   },
   "outputs": [],
   "source": [
    "backbone = read(\"pTA9.gb\")"
   ]
  },
  {
   "cell_type": "markdown",
   "id": "2fecfe9e",
   "metadata": {},
   "source": [
    "The backbone vector is linearized by digestion with [FspAI](https://www.google.com/search?q=FspAI)."
   ]
  },
  {
   "cell_type": "code",
   "execution_count": 4,
   "id": "022754d2",
   "metadata": {
    "execution": {
     "iopub.execute_input": "2022-12-01T19:54:02.236371Z",
     "iopub.status.busy": "2022-12-01T19:54:02.236109Z",
     "iopub.status.idle": "2022-12-01T19:54:02.239127Z",
     "shell.execute_reply": "2022-12-01T19:54:02.238601Z"
    }
   },
   "outputs": [],
   "source": [
    "from Bio.Restriction import FspAI"
   ]
  },
  {
   "cell_type": "code",
   "execution_count": 5,
   "id": "345443b8",
   "metadata": {
    "execution": {
     "iopub.execute_input": "2022-12-01T19:54:02.241607Z",
     "iopub.status.busy": "2022-12-01T19:54:02.241365Z",
     "iopub.status.idle": "2022-12-01T19:54:02.248011Z",
     "shell.execute_reply": "2022-12-01T19:54:02.247173Z"
    }
   },
   "outputs": [],
   "source": [
    "linear_backbone = backbone.linearize(FspAI)"
   ]
  },
  {
   "cell_type": "markdown",
   "id": "1f87bf21",
   "metadata": {},
   "source": [
    "The pYPKa derived _E. coli_ plasmids containing \n",
    "- [promoter](pYPKa_Z_TDH3.gb)\n",
    "- [gene](pYPKa_A_ScATF1.gb)\n",
    "- [terminator](pYPKa_E_PGI1.gb)\n",
    "\n",
    "are read into three variables below."
   ]
  },
  {
   "cell_type": "code",
   "execution_count": 6,
   "id": "ec5b21a6",
   "metadata": {
    "execution": {
     "iopub.execute_input": "2022-12-01T19:54:02.252320Z",
     "iopub.status.busy": "2022-12-01T19:54:02.251983Z",
     "iopub.status.idle": "2022-12-01T19:54:02.274734Z",
     "shell.execute_reply": "2022-12-01T19:54:02.274109Z"
    }
   },
   "outputs": [],
   "source": [
    "promoter_template   = read(\"pYPKa_Z_TDH3.gb\")\n",
    "gene_template       = read(\"pYPKa_A_ScATF1.gb\")\n",
    "terminator_template = read(\"pYPKa_E_PGI1.gb\")"
   ]
  },
  {
   "cell_type": "markdown",
   "id": "49248a42",
   "metadata": {
    "lines_to_next_cell": 0
   },
   "source": [
    "### PCR\n",
    "Three DNA fragments are PCR amplified using [standard primers](standard_primers.fasta).\n",
    "\n",
    "[Suggested PCR programs](#Suggested-PCR-programs) can be found at the end of this document."
   ]
  },
  {
   "cell_type": "code",
   "execution_count": 7,
   "id": "b00eb93b",
   "metadata": {
    "execution": {
     "iopub.execute_input": "2022-12-01T19:54:02.277826Z",
     "iopub.status.busy": "2022-12-01T19:54:02.277625Z",
     "iopub.status.idle": "2022-12-01T19:54:02.302955Z",
     "shell.execute_reply": "2022-12-01T19:54:02.302347Z"
    }
   },
   "outputs": [],
   "source": [
    "prom = pcr(p['577'], p['567'], promoter_template)\n",
    "gene = pcr(p['468'], p['467'], gene_template)\n",
    "term = pcr(p['568'], p['578'], terminator_template)"
   ]
  },
  {
   "cell_type": "code",
   "execution_count": 8,
   "id": "ffc9ed3b",
   "metadata": {
    "execution": {
     "iopub.execute_input": "2022-12-01T19:54:02.305786Z",
     "iopub.status.busy": "2022-12-01T19:54:02.305549Z",
     "iopub.status.idle": "2022-12-01T19:54:02.308483Z",
     "shell.execute_reply": "2022-12-01T19:54:02.307933Z"
    }
   },
   "outputs": [],
   "source": [
    "prom.name = \"TDH3\"\n",
    "gene.name = \"ScATF1\"\n",
    "term.name = \"PGI1\""
   ]
  },
  {
   "cell_type": "markdown",
   "id": "440c21b2",
   "metadata": {},
   "source": [
    "\n",
    "The fragments will be assembled by _in-vivo_ [homologous recombination](http://www.ncbi.nlm.nih.gov/pubmed/2828185):"
   ]
  },
  {
   "cell_type": "code",
   "execution_count": 9,
   "id": "407d41e4",
   "metadata": {
    "execution": {
     "iopub.execute_input": "2022-12-01T19:54:02.311748Z",
     "iopub.status.busy": "2022-12-01T19:54:02.311457Z",
     "iopub.status.idle": "2022-12-01T19:54:02.783115Z",
     "shell.execute_reply": "2022-12-01T19:54:02.782489Z"
    }
   },
   "outputs": [
    {
     "data": {
      "text/plain": [
       "Assembly\n",
       "fragments..: 5685bp 930bp 1674bp 1339bp\n",
       "limit(bp)..: 31\n",
       "G.nodes....: 8\n",
       "algorithm..: common_sub_strings"
      ]
     },
     "execution_count": 9,
     "metadata": {},
     "output_type": "execute_result"
    }
   ],
   "source": [
    "asm = Assembly((linear_backbone, prom, gene, term), limit=31)\n",
    "asm"
   ]
  },
  {
   "cell_type": "markdown",
   "id": "2e745c7f",
   "metadata": {},
   "source": [
    "The Assembly object above should normally indicate four fragments and eight nodes."
   ]
  },
  {
   "cell_type": "code",
   "execution_count": 10,
   "id": "f36e6c4e",
   "metadata": {
    "execution": {
     "iopub.execute_input": "2022-12-01T19:54:02.786277Z",
     "iopub.status.busy": "2022-12-01T19:54:02.785967Z",
     "iopub.status.idle": "2022-12-01T19:54:03.001125Z",
     "shell.execute_reply": "2022-12-01T19:54:03.000591Z"
    },
    "lines_to_next_cell": 0
   },
   "outputs": [
    {
     "data": {
      "text/plain": [
       "[Contig(o9156), Contig(o9156)]"
      ]
     },
     "execution_count": 10,
     "metadata": {},
     "output_type": "execute_result"
    }
   ],
   "source": [
    "candidates = asm.assemble_circular()\n",
    "candidates"
   ]
  },
  {
   "cell_type": "markdown",
   "id": "2caf9316",
   "metadata": {},
   "source": [
    "There should normally be two candidates of equal size. These sequences should be identical."
   ]
  },
  {
   "cell_type": "code",
   "execution_count": 11,
   "id": "8370f1c5",
   "metadata": {
    "execution": {
     "iopub.execute_input": "2022-12-01T19:54:03.004037Z",
     "iopub.status.busy": "2022-12-01T19:54:03.003771Z",
     "iopub.status.idle": "2022-12-01T19:54:03.007348Z",
     "shell.execute_reply": "2022-12-01T19:54:03.006658Z"
    },
    "lines_to_next_cell": 0
   },
   "outputs": [],
   "source": [
    "candidate, *rest = candidates"
   ]
  },
  {
   "cell_type": "code",
   "execution_count": 12,
   "id": "80324c3c",
   "metadata": {
    "execution": {
     "iopub.execute_input": "2022-12-01T19:54:03.010414Z",
     "iopub.status.busy": "2022-12-01T19:54:03.010160Z",
     "iopub.status.idle": "2022-12-01T19:54:03.027065Z",
     "shell.execute_reply": "2022-12-01T19:54:03.026453Z"
    },
    "lines_to_next_cell": 0
   },
   "outputs": [
    {
     "data": {
      "text/plain": [
       "True"
      ]
     },
     "execution_count": 12,
     "metadata": {},
     "output_type": "execute_result"
    }
   ],
   "source": [
    "candidate.cseguid() == rest[0].cseguid()"
   ]
  },
  {
   "cell_type": "code",
   "execution_count": 13,
   "id": "316addb8",
   "metadata": {
    "execution": {
     "iopub.execute_input": "2022-12-01T19:54:03.030972Z",
     "iopub.status.busy": "2022-12-01T19:54:03.030430Z",
     "iopub.status.idle": "2022-12-01T19:54:03.036359Z",
     "shell.execute_reply": "2022-12-01T19:54:03.035406Z"
    },
    "lines_to_next_cell": 0
   },
   "outputs": [
    {
     "data": {
      "text/plain": [
       " -|pTA9_lin|242\n",
       "|           \\/\n",
       "|           /\\\n",
       "|           242|PGI1_rc|37\n",
       "|                       \\/\n",
       "|                       /\\\n",
       "|                       37|ScATF1_rc|50\n",
       "|                                    \\/\n",
       "|                                    /\\\n",
       "|                                    50|TDH3_rc|124\n",
       "|                                               \\/\n",
       "|                                               /\\\n",
       "|                                               124-\n",
       "|                                                  |\n",
       " --------------------------------------------------"
      ]
     },
     "execution_count": 13,
     "metadata": {},
     "output_type": "execute_result"
    }
   ],
   "source": [
    "candidate.figure()"
   ]
  },
  {
   "cell_type": "markdown",
   "id": "a5199679",
   "metadata": {},
   "source": [
    "The candidate vector is synchronized to the 577 primer. This means that\n",
    "the plasmid origin is shifted so that it matches the backbone vector."
   ]
  },
  {
   "cell_type": "code",
   "execution_count": 14,
   "id": "e3d21752",
   "metadata": {
    "execution": {
     "iopub.execute_input": "2022-12-01T19:54:03.039973Z",
     "iopub.status.busy": "2022-12-01T19:54:03.039700Z",
     "iopub.status.idle": "2022-12-01T19:54:03.387459Z",
     "shell.execute_reply": "2022-12-01T19:54:03.386867Z"
    }
   },
   "outputs": [],
   "source": [
    "result = candidate.synced(p['577'])"
   ]
  },
  {
   "cell_type": "markdown",
   "id": "a19643e0",
   "metadata": {},
   "source": [
    "### Diagnostic PCR confirmation\n",
    "\n",
    "The structure of the final vector is confirmed by two\n",
    "separate PCR reactions, one for the promoter and gene and\n",
    "one for the gene and terminator.\n",
    "\n",
    "PCR using standard primers 577 and 467 to amplify promoter and gene."
   ]
  },
  {
   "cell_type": "code",
   "execution_count": 15,
   "id": "2827505d",
   "metadata": {
    "execution": {
     "iopub.execute_input": "2022-12-01T19:54:03.390328Z",
     "iopub.status.busy": "2022-12-01T19:54:03.390123Z",
     "iopub.status.idle": "2022-12-01T19:54:03.405307Z",
     "shell.execute_reply": "2022-12-01T19:54:03.404789Z"
    }
   },
   "outputs": [],
   "source": [
    "product = pcr( p['577'], p['467'], result)"
   ]
  },
  {
   "cell_type": "markdown",
   "id": "a1621c4e",
   "metadata": {},
   "source": [
    "A correct clone should give this size in base pairs:"
   ]
  },
  {
   "cell_type": "code",
   "execution_count": 16,
   "id": "6816162a",
   "metadata": {
    "execution": {
     "iopub.execute_input": "2022-12-01T19:54:03.407893Z",
     "iopub.status.busy": "2022-12-01T19:54:03.407663Z",
     "iopub.status.idle": "2022-12-01T19:54:03.411077Z",
     "shell.execute_reply": "2022-12-01T19:54:03.410475Z"
    }
   },
   "outputs": [
    {
     "name": "stdout",
     "output_type": "stream",
     "text": [
      "2554\n"
     ]
    }
   ],
   "source": [
    "print(len(product))"
   ]
  },
  {
   "cell_type": "markdown",
   "id": "529f2d8a",
   "metadata": {},
   "source": [
    "If the promoter is missing from the assembly, the PCR product will have this size in base pairs:"
   ]
  },
  {
   "cell_type": "code",
   "execution_count": 17,
   "id": "7f972019",
   "metadata": {
    "execution": {
     "iopub.execute_input": "2022-12-01T19:54:03.415387Z",
     "iopub.status.busy": "2022-12-01T19:54:03.414866Z",
     "iopub.status.idle": "2022-12-01T19:54:03.420512Z",
     "shell.execute_reply": "2022-12-01T19:54:03.419658Z"
    }
   },
   "outputs": [
    {
     "name": "stdout",
     "output_type": "stream",
     "text": [
      "1624\n"
     ]
    }
   ],
   "source": [
    "print(len(product) - len(prom))"
   ]
  },
  {
   "cell_type": "markdown",
   "id": "899b057d",
   "metadata": {},
   "source": [
    "If the gene is missing from the assembly, the PCR product will have this size in base pairs:"
   ]
  },
  {
   "cell_type": "code",
   "execution_count": 18,
   "id": "f50f0203",
   "metadata": {
    "execution": {
     "iopub.execute_input": "2022-12-01T19:54:03.424495Z",
     "iopub.status.busy": "2022-12-01T19:54:03.423699Z",
     "iopub.status.idle": "2022-12-01T19:54:03.428204Z",
     "shell.execute_reply": "2022-12-01T19:54:03.427398Z"
    }
   },
   "outputs": [
    {
     "name": "stdout",
     "output_type": "stream",
     "text": [
      "880\n"
     ]
    }
   ],
   "source": [
    "print(len(product) - len(gene))"
   ]
  },
  {
   "cell_type": "markdown",
   "id": "5f6096b2",
   "metadata": {},
   "source": [
    "PCR using standard primers 468 and 578 to amplify gene and terminator."
   ]
  },
  {
   "cell_type": "code",
   "execution_count": 19,
   "id": "2525c515",
   "metadata": {
    "execution": {
     "iopub.execute_input": "2022-12-01T19:54:03.431885Z",
     "iopub.status.busy": "2022-12-01T19:54:03.431579Z",
     "iopub.status.idle": "2022-12-01T19:54:03.450994Z",
     "shell.execute_reply": "2022-12-01T19:54:03.450399Z"
    }
   },
   "outputs": [],
   "source": [
    "product2 = pcr( p['468'], p['578'], result)"
   ]
  },
  {
   "cell_type": "markdown",
   "id": "5ddcd40f",
   "metadata": {},
   "source": [
    "A correct clone should give this size:"
   ]
  },
  {
   "cell_type": "code",
   "execution_count": 20,
   "id": "2ebb6a24",
   "metadata": {
    "execution": {
     "iopub.execute_input": "2022-12-01T19:54:03.453651Z",
     "iopub.status.busy": "2022-12-01T19:54:03.453444Z",
     "iopub.status.idle": "2022-12-01T19:54:03.456886Z",
     "shell.execute_reply": "2022-12-01T19:54:03.456380Z"
    }
   },
   "outputs": [
    {
     "name": "stdout",
     "output_type": "stream",
     "text": [
      "2976\n"
     ]
    }
   ],
   "source": [
    "print(len(product2))"
   ]
  },
  {
   "cell_type": "markdown",
   "id": "21f035ef",
   "metadata": {},
   "source": [
    "If the gene is missing from the assembly, the PCR product will have this size in base pairs:"
   ]
  },
  {
   "cell_type": "code",
   "execution_count": 21,
   "id": "0176f351",
   "metadata": {
    "execution": {
     "iopub.execute_input": "2022-12-01T19:54:03.461205Z",
     "iopub.status.busy": "2022-12-01T19:54:03.460418Z",
     "iopub.status.idle": "2022-12-01T19:54:03.465509Z",
     "shell.execute_reply": "2022-12-01T19:54:03.464501Z"
    }
   },
   "outputs": [
    {
     "name": "stdout",
     "output_type": "stream",
     "text": [
      "1302\n"
     ]
    }
   ],
   "source": [
    "print(len(product2) - len(gene))"
   ]
  },
  {
   "cell_type": "markdown",
   "id": "26da06c8",
   "metadata": {},
   "source": [
    "If the terminator is missing from the assembly, the PCR product will have this size in base pairs:"
   ]
  },
  {
   "cell_type": "code",
   "execution_count": 22,
   "id": "a9cfca4a",
   "metadata": {
    "execution": {
     "iopub.execute_input": "2022-12-01T19:54:03.468919Z",
     "iopub.status.busy": "2022-12-01T19:54:03.468602Z",
     "iopub.status.idle": "2022-12-01T19:54:03.473269Z",
     "shell.execute_reply": "2022-12-01T19:54:03.472344Z"
    }
   },
   "outputs": [
    {
     "name": "stdout",
     "output_type": "stream",
     "text": [
      "1637\n"
     ]
    }
   ],
   "source": [
    "print(len(product2) - len(term))"
   ]
  },
  {
   "cell_type": "markdown",
   "id": "288b0ba9",
   "metadata": {},
   "source": [
    "The cseguid checksum for the resulting plasmid is calculated for future reference.\n",
    "The [cseguid checksum](http://pydna.readthedocs.org/en/latest/pydna.html#pydna.utils.cseguid)\n",
    "uniquely identifies a circular double stranded sequence."
   ]
  },
  {
   "cell_type": "code",
   "execution_count": 23,
   "id": "49c95650",
   "metadata": {
    "execution": {
     "iopub.execute_input": "2022-12-01T19:54:03.476708Z",
     "iopub.status.busy": "2022-12-01T19:54:03.476417Z",
     "iopub.status.idle": "2022-12-01T19:54:03.487859Z",
     "shell.execute_reply": "2022-12-01T19:54:03.487235Z"
    }
   },
   "outputs": [
    {
     "name": "stdout",
     "output_type": "stream",
     "text": [
      "ZR2Q3RuTeH_Rmq37gvBhVLfMLfM\n"
     ]
    }
   ],
   "source": [
    "print(result.cseguid())"
   ]
  },
  {
   "cell_type": "markdown",
   "id": "95df1c85",
   "metadata": {},
   "source": [
    "The file name is based on the promoter, gene and terminator designations."
   ]
  },
  {
   "cell_type": "code",
   "execution_count": 24,
   "id": "aa7222f5",
   "metadata": {
    "execution": {
     "iopub.execute_input": "2022-12-01T19:54:03.490640Z",
     "iopub.status.busy": "2022-12-01T19:54:03.490313Z",
     "iopub.status.idle": "2022-12-01T19:54:03.493323Z",
     "shell.execute_reply": "2022-12-01T19:54:03.492825Z"
    }
   },
   "outputs": [],
   "source": [
    "result.locus = \"TU:ScATF1\"[:16]\n",
    "result.definition = \"pTA9_TDH3_ScATF1_PGI1\""
   ]
  },
  {
   "cell_type": "markdown",
   "id": "ec82e0e9",
   "metadata": {},
   "source": [
    "Sequence is stamped with cseguid checksum. This can be used to verify the\n",
    "integrity of the sequence file."
   ]
  },
  {
   "cell_type": "code",
   "execution_count": 25,
   "id": "ceff9241",
   "metadata": {
    "execution": {
     "iopub.execute_input": "2022-12-01T19:54:03.497452Z",
     "iopub.status.busy": "2022-12-01T19:54:03.497008Z",
     "iopub.status.idle": "2022-12-01T19:54:03.511517Z",
     "shell.execute_reply": "2022-12-01T19:54:03.510988Z"
    }
   },
   "outputs": [
    {
     "data": {
      "text/plain": [
       "ZR2Q3RuTeH_Rmq37gvBhVLfMLfM"
      ]
     },
     "execution_count": 25,
     "metadata": {},
     "output_type": "execute_result"
    }
   ],
   "source": [
    "result.stamp(\"cSEGUID\")"
   ]
  },
  {
   "cell_type": "markdown",
   "id": "6c552f21",
   "metadata": {},
   "source": [
    "Write sequence to a local file."
   ]
  },
  {
   "cell_type": "code",
   "execution_count": 26,
   "id": "fa8a45ea",
   "metadata": {
    "execution": {
     "iopub.execute_input": "2022-12-01T19:54:03.513924Z",
     "iopub.status.busy": "2022-12-01T19:54:03.513696Z",
     "iopub.status.idle": "2022-12-01T19:54:03.522065Z",
     "shell.execute_reply": "2022-12-01T19:54:03.521365Z"
    }
   },
   "outputs": [
    {
     "data": {
      "text/html": [
       "<font face=monospace><a href='pTA9_TDH3_ScATF1_PGI1.gb' target='_blank'>pTA9_TDH3_ScATF1_PGI1.gb</a></font><br>"
      ]
     },
     "metadata": {},
     "output_type": "display_data"
    }
   ],
   "source": [
    "result.write(f\"{result.definition}.gb\")"
   ]
  },
  {
   "cell_type": "markdown",
   "id": "daf22b14",
   "metadata": {
    "lines_to_next_cell": 0
   },
   "source": [
    "### Suggested PCR programs\n",
    "\n",
    "For the [amplification](#PCR) of promoter, gene and terminator."
   ]
  },
  {
   "cell_type": "code",
   "execution_count": 27,
   "id": "87446c33",
   "metadata": {
    "execution": {
     "iopub.execute_input": "2022-12-01T19:54:03.525310Z",
     "iopub.status.busy": "2022-12-01T19:54:03.524739Z",
     "iopub.status.idle": "2022-12-01T19:54:03.528812Z",
     "shell.execute_reply": "2022-12-01T19:54:03.528289Z"
    }
   },
   "outputs": [
    {
     "name": "stdout",
     "output_type": "stream",
     "text": [
      "577 567\n",
      "|95°C|95°C               |    |tmf:64.6\n",
      "|____|_____          72°C|72°C|tmr:69.7\n",
      "|3min|30s  \\ 57.1°C _____|____|45s/kb\n",
      "|    |      \\______/ 0:41|5min|GC 38%\n",
      "|    |       30s         |    |930bp\n"
     ]
    }
   ],
   "source": [
    "print(prom.forward_primer.name, prom.reverse_primer.name)\n",
    "print(prom.program())"
   ]
  },
  {
   "cell_type": "code",
   "execution_count": 28,
   "id": "6c72f9d0",
   "metadata": {
    "execution": {
     "iopub.execute_input": "2022-12-01T19:54:03.531227Z",
     "iopub.status.busy": "2022-12-01T19:54:03.530831Z",
     "iopub.status.idle": "2022-12-01T19:54:03.535528Z",
     "shell.execute_reply": "2022-12-01T19:54:03.534488Z"
    }
   },
   "outputs": [
    {
     "name": "stdout",
     "output_type": "stream",
     "text": [
      "468 467\n",
      "|95°C|95°C               |    |tmf:76.9\n",
      "|____|_____          72°C|72°C|tmr:67.9\n",
      "|3min|30s  \\ 58.2°C _____|____|45s/kb\n",
      "|    |      \\______/ 1:15|5min|GC 38%\n",
      "|    |       30s         |    |1674bp\n"
     ]
    }
   ],
   "source": [
    "print(gene.forward_primer.name, gene.reverse_primer.name)\n",
    "print(gene.program())"
   ]
  },
  {
   "cell_type": "code",
   "execution_count": 29,
   "id": "b632d9c7",
   "metadata": {
    "execution": {
     "iopub.execute_input": "2022-12-01T19:54:03.538927Z",
     "iopub.status.busy": "2022-12-01T19:54:03.538674Z",
     "iopub.status.idle": "2022-12-01T19:54:03.542377Z",
     "shell.execute_reply": "2022-12-01T19:54:03.541811Z"
    }
   },
   "outputs": [
    {
     "name": "stdout",
     "output_type": "stream",
     "text": [
      "568 578\n",
      "|95°C|95°C               |    |tmf:66.1\n",
      "|____|_____          72°C|72°C|tmr:65.0\n",
      "|3min|30s  \\ 57.6°C _____|____|45s/kb\n",
      "|    |      \\______/ 1:00|5min|GC 39%\n",
      "|    |       30s         |    |1339bp\n"
     ]
    }
   ],
   "source": [
    "print(term.forward_primer.name, term.reverse_primer.name)\n",
    "print(term.program())"
   ]
  }
 ],
 "metadata": {
  "jupytext": {
   "main_language": "python",
   "text_representation": {
    "extension": ".py",
    "format_name": "percent",
    "format_version": "1.3",
    "jupytext_version": "1.14.0"
   }
  },
  "language_info": {
   "codemirror_mode": {
    "name": "ipython",
    "version": 3
   },
   "file_extension": ".py",
   "mimetype": "text/x-python",
   "name": "python",
   "nbconvert_exporter": "python",
   "pygments_lexer": "ipython3",
   "version": "3.11.0"
  }
 },
 "nbformat": 4,
 "nbformat_minor": 5
}
