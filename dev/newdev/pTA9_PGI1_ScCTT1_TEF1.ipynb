{
 "cells": [
  {
   "cell_type": "markdown",
   "id": "9a086c28",
   "metadata": {},
   "source": [
    "# pTA9_PGI1_ScCTT1_TEF1\n",
    "\n",
    "This notebook describes the assembly of the\n",
    "[_Saccharomyces cerevisiae_](http://www.yeastgenome.org)\n",
    "transcriptional unit vector.\n",
    "\n",
    "It is made from a linear vector fragment and three PCR products:\n",
    "\n",
    "- a linearized pTA9 vector for maintenance in _S. cerevisiae_ or _E. coli_ (red dashed line in figure below)\n",
    "- a promoter PCR product from the pYPKa_Z_PGI1 vector\n",
    "- a gene PCR product from the pYPKa_A_ScCTT1\n",
    "- a terminator PCR product from the pYPKa_E_TEF1 vector\n",
    "\n",
    "The four linear DNA fragments are joined by _in-vivo_ homologous recombination in a\n",
    "[_Saccharomyces cerevisiae_](http://wiki.yeastgenome.org/index.php/Commonly_used_strains) strain.\n",
    "\n",
    "![tu](tu.png \"tu\")\n",
    "\n",
    "A part of the [pydna](https://pypi.python.org/pypi/pydna/) package is imported in the code cell below."
   ]
  },
  {
   "cell_type": "code",
   "execution_count": 1,
   "id": "27786b12",
   "metadata": {
    "execution": {
     "iopub.execute_input": "2022-12-01T19:54:04.785032Z",
     "iopub.status.busy": "2022-12-01T19:54:04.784543Z",
     "iopub.status.idle": "2022-12-01T19:54:05.128130Z",
     "shell.execute_reply": "2022-12-01T19:54:05.127296Z"
    }
   },
   "outputs": [],
   "source": [
    "from pydna.parsers import parse_primers\n",
    "from pydna.readers import read\n",
    "from pydna.amplify import pcr\n",
    "from pydna.assembly import Assembly"
   ]
  },
  {
   "cell_type": "markdown",
   "id": "fe1875f5",
   "metadata": {},
   "source": [
    "The Yeast Pathway Kit [standard primers](standard_primers.fasta) are read into a dictionary in the code cell below."
   ]
  },
  {
   "cell_type": "code",
   "execution_count": 2,
   "id": "48d6fcad",
   "metadata": {
    "execution": {
     "iopub.execute_input": "2022-12-01T19:54:05.131871Z",
     "iopub.status.busy": "2022-12-01T19:54:05.131078Z",
     "iopub.status.idle": "2022-12-01T19:54:05.143058Z",
     "shell.execute_reply": "2022-12-01T19:54:05.142487Z"
    }
   },
   "outputs": [],
   "source": [
    "p = {x.id: x for x in parse_primers(\"standard_primers.fasta\")}"
   ]
  },
  {
   "cell_type": "markdown",
   "id": "c1f3f9c4",
   "metadata": {},
   "source": [
    "The backbone vector [pTA9](pTA9.gb) is read from a local file in the code cell below."
   ]
  },
  {
   "cell_type": "code",
   "execution_count": 3,
   "id": "c7da134e",
   "metadata": {
    "execution": {
     "iopub.execute_input": "2022-12-01T19:54:05.146847Z",
     "iopub.status.busy": "2022-12-01T19:54:05.146458Z",
     "iopub.status.idle": "2022-12-01T19:54:05.156938Z",
     "shell.execute_reply": "2022-12-01T19:54:05.156121Z"
    }
   },
   "outputs": [],
   "source": [
    "backbone = read(\"pTA9.gb\")"
   ]
  },
  {
   "cell_type": "markdown",
   "id": "9eed47c9",
   "metadata": {},
   "source": [
    "The backbone vector is linearized by digestion with [FspAI](https://www.google.com/search?q=FspAI)."
   ]
  },
  {
   "cell_type": "code",
   "execution_count": 4,
   "id": "35a7d199",
   "metadata": {
    "execution": {
     "iopub.execute_input": "2022-12-01T19:54:05.161924Z",
     "iopub.status.busy": "2022-12-01T19:54:05.161044Z",
     "iopub.status.idle": "2022-12-01T19:54:05.165468Z",
     "shell.execute_reply": "2022-12-01T19:54:05.164750Z"
    }
   },
   "outputs": [],
   "source": [
    "from Bio.Restriction import FspAI"
   ]
  },
  {
   "cell_type": "code",
   "execution_count": 5,
   "id": "34dfaf9f",
   "metadata": {
    "execution": {
     "iopub.execute_input": "2022-12-01T19:54:05.168120Z",
     "iopub.status.busy": "2022-12-01T19:54:05.167911Z",
     "iopub.status.idle": "2022-12-01T19:54:05.173315Z",
     "shell.execute_reply": "2022-12-01T19:54:05.172563Z"
    }
   },
   "outputs": [],
   "source": [
    "linear_backbone = backbone.linearize(FspAI)"
   ]
  },
  {
   "cell_type": "markdown",
   "id": "8899c7f8",
   "metadata": {},
   "source": [
    "The pYPKa derived _E. coli_ plasmids containing \n",
    "- [promoter](pYPKa_Z_PGI1.gb)\n",
    "- [gene](pYPKa_A_ScCTT1.gb)\n",
    "- [terminator](pYPKa_E_TEF1.gb)\n",
    "\n",
    "are read into three variables below."
   ]
  },
  {
   "cell_type": "code",
   "execution_count": 6,
   "id": "ecdbaa1a",
   "metadata": {
    "execution": {
     "iopub.execute_input": "2022-12-01T19:54:05.176132Z",
     "iopub.status.busy": "2022-12-01T19:54:05.175914Z",
     "iopub.status.idle": "2022-12-01T19:54:05.192162Z",
     "shell.execute_reply": "2022-12-01T19:54:05.191576Z"
    }
   },
   "outputs": [],
   "source": [
    "promoter_template   = read(\"pYPKa_Z_PGI1.gb\")\n",
    "gene_template       = read(\"pYPKa_A_ScCTT1.gb\")\n",
    "terminator_template = read(\"pYPKa_E_TEF1.gb\")"
   ]
  },
  {
   "cell_type": "markdown",
   "id": "d3ef9aa7",
   "metadata": {
    "lines_to_next_cell": 0
   },
   "source": [
    "### PCR\n",
    "Three DNA fragments are PCR amplified using [standard primers](standard_primers.fasta).\n",
    "\n",
    "[Suggested PCR programs](#Suggested-PCR-programs) can be found at the end of this document."
   ]
  },
  {
   "cell_type": "code",
   "execution_count": 7,
   "id": "91e04761",
   "metadata": {
    "execution": {
     "iopub.execute_input": "2022-12-01T19:54:05.195786Z",
     "iopub.status.busy": "2022-12-01T19:54:05.195318Z",
     "iopub.status.idle": "2022-12-01T19:54:05.218245Z",
     "shell.execute_reply": "2022-12-01T19:54:05.217499Z"
    }
   },
   "outputs": [],
   "source": [
    "prom = pcr(p['577'], p['567'], promoter_template)\n",
    "gene = pcr(p['468'], p['467'], gene_template)\n",
    "term = pcr(p['568'], p['578'], terminator_template)"
   ]
  },
  {
   "cell_type": "code",
   "execution_count": 8,
   "id": "0ce226cd",
   "metadata": {
    "execution": {
     "iopub.execute_input": "2022-12-01T19:54:05.221717Z",
     "iopub.status.busy": "2022-12-01T19:54:05.221377Z",
     "iopub.status.idle": "2022-12-01T19:54:05.224719Z",
     "shell.execute_reply": "2022-12-01T19:54:05.224028Z"
    }
   },
   "outputs": [],
   "source": [
    "prom.name = \"PGI1\"\n",
    "gene.name = \"ScCTT1\"\n",
    "term.name = \"TEF1\""
   ]
  },
  {
   "cell_type": "markdown",
   "id": "51bfc3e4",
   "metadata": {},
   "source": [
    "\n",
    "The fragments will be assembled by _in-vivo_ [homologous recombination](http://www.ncbi.nlm.nih.gov/pubmed/2828185):"
   ]
  },
  {
   "cell_type": "code",
   "execution_count": 9,
   "id": "50d4c8d5",
   "metadata": {
    "execution": {
     "iopub.execute_input": "2022-12-01T19:54:05.228111Z",
     "iopub.status.busy": "2022-12-01T19:54:05.227708Z",
     "iopub.status.idle": "2022-12-01T19:54:05.709765Z",
     "shell.execute_reply": "2022-12-01T19:54:05.709029Z"
    }
   },
   "outputs": [
    {
     "data": {
      "text/plain": [
       "Assembly\n",
       "fragments..: 5685bp 1231bp 1788bp 919bp\n",
       "limit(bp)..: 31\n",
       "G.nodes....: 8\n",
       "algorithm..: common_sub_strings"
      ]
     },
     "execution_count": 9,
     "metadata": {},
     "output_type": "execute_result"
    }
   ],
   "source": [
    "asm = Assembly((linear_backbone, prom, gene, term), limit=31)\n",
    "asm"
   ]
  },
  {
   "cell_type": "markdown",
   "id": "01a9baf3",
   "metadata": {},
   "source": [
    "The Assembly object above should normally indicate four fragments and eight nodes."
   ]
  },
  {
   "cell_type": "code",
   "execution_count": 10,
   "id": "c1f759bd",
   "metadata": {
    "execution": {
     "iopub.execute_input": "2022-12-01T19:54:05.712889Z",
     "iopub.status.busy": "2022-12-01T19:54:05.712393Z",
     "iopub.status.idle": "2022-12-01T19:54:05.965138Z",
     "shell.execute_reply": "2022-12-01T19:54:05.964555Z"
    },
    "lines_to_next_cell": 0
   },
   "outputs": [
    {
     "data": {
      "text/plain": [
       "[Contig(o9151), Contig(o9151)]"
      ]
     },
     "execution_count": 10,
     "metadata": {},
     "output_type": "execute_result"
    }
   ],
   "source": [
    "candidates = asm.assemble_circular()\n",
    "candidates"
   ]
  },
  {
   "cell_type": "markdown",
   "id": "4d2e2d88",
   "metadata": {},
   "source": [
    "There should normally be two candidates of equal size. These sequences should be identical."
   ]
  },
  {
   "cell_type": "code",
   "execution_count": 11,
   "id": "1122e881",
   "metadata": {
    "execution": {
     "iopub.execute_input": "2022-12-01T19:54:05.968074Z",
     "iopub.status.busy": "2022-12-01T19:54:05.967665Z",
     "iopub.status.idle": "2022-12-01T19:54:05.971677Z",
     "shell.execute_reply": "2022-12-01T19:54:05.971100Z"
    },
    "lines_to_next_cell": 0
   },
   "outputs": [],
   "source": [
    "candidate, *rest = candidates"
   ]
  },
  {
   "cell_type": "code",
   "execution_count": 12,
   "id": "16031d94",
   "metadata": {
    "execution": {
     "iopub.execute_input": "2022-12-01T19:54:05.975995Z",
     "iopub.status.busy": "2022-12-01T19:54:05.975629Z",
     "iopub.status.idle": "2022-12-01T19:54:05.995527Z",
     "shell.execute_reply": "2022-12-01T19:54:05.995017Z"
    },
    "lines_to_next_cell": 0
   },
   "outputs": [
    {
     "data": {
      "text/plain": [
       "True"
      ]
     },
     "execution_count": 12,
     "metadata": {},
     "output_type": "execute_result"
    }
   ],
   "source": [
    "candidate.cseguid() == rest[0].cseguid()"
   ]
  },
  {
   "cell_type": "code",
   "execution_count": 13,
   "id": "0e84af79",
   "metadata": {
    "execution": {
     "iopub.execute_input": "2022-12-01T19:54:05.997937Z",
     "iopub.status.busy": "2022-12-01T19:54:05.997698Z",
     "iopub.status.idle": "2022-12-01T19:54:06.001624Z",
     "shell.execute_reply": "2022-12-01T19:54:06.001037Z"
    },
    "lines_to_next_cell": 0
   },
   "outputs": [
    {
     "data": {
      "text/plain": [
       " -|pTA9_lin|242\n",
       "|           \\/\n",
       "|           /\\\n",
       "|           242|TEF1_rc|37\n",
       "|                       \\/\n",
       "|                       /\\\n",
       "|                       37|ScCTT1_rc|50\n",
       "|                                    \\/\n",
       "|                                    /\\\n",
       "|                                    50|PGI1_rc|124\n",
       "|                                               \\/\n",
       "|                                               /\\\n",
       "|                                               124-\n",
       "|                                                  |\n",
       " --------------------------------------------------"
      ]
     },
     "execution_count": 13,
     "metadata": {},
     "output_type": "execute_result"
    }
   ],
   "source": [
    "candidate.figure()"
   ]
  },
  {
   "cell_type": "markdown",
   "id": "baa0e362",
   "metadata": {},
   "source": [
    "The candidate vector is synchronized to the 577 primer. This means that\n",
    "the plasmid origin is shifted so that it matches the backbone vector."
   ]
  },
  {
   "cell_type": "code",
   "execution_count": 14,
   "id": "8a4a0912",
   "metadata": {
    "execution": {
     "iopub.execute_input": "2022-12-01T19:54:06.004116Z",
     "iopub.status.busy": "2022-12-01T19:54:06.003771Z",
     "iopub.status.idle": "2022-12-01T19:54:06.361175Z",
     "shell.execute_reply": "2022-12-01T19:54:06.360557Z"
    }
   },
   "outputs": [],
   "source": [
    "result = candidate.synced(p['577'])"
   ]
  },
  {
   "cell_type": "markdown",
   "id": "e3d0e52a",
   "metadata": {},
   "source": [
    "### Diagnostic PCR confirmation\n",
    "\n",
    "The structure of the final vector is confirmed by two\n",
    "separate PCR reactions, one for the promoter and gene and\n",
    "one for the gene and terminator.\n",
    "\n",
    "PCR using standard primers 577 and 467 to amplify promoter and gene."
   ]
  },
  {
   "cell_type": "code",
   "execution_count": 15,
   "id": "554f6324",
   "metadata": {
    "execution": {
     "iopub.execute_input": "2022-12-01T19:54:06.364081Z",
     "iopub.status.busy": "2022-12-01T19:54:06.363840Z",
     "iopub.status.idle": "2022-12-01T19:54:06.381825Z",
     "shell.execute_reply": "2022-12-01T19:54:06.381223Z"
    }
   },
   "outputs": [],
   "source": [
    "product = pcr( p['577'], p['467'], result)"
   ]
  },
  {
   "cell_type": "markdown",
   "id": "91d6be62",
   "metadata": {},
   "source": [
    "A correct clone should give this size in base pairs:"
   ]
  },
  {
   "cell_type": "code",
   "execution_count": 16,
   "id": "a7781ab9",
   "metadata": {
    "execution": {
     "iopub.execute_input": "2022-12-01T19:54:06.384736Z",
     "iopub.status.busy": "2022-12-01T19:54:06.384232Z",
     "iopub.status.idle": "2022-12-01T19:54:06.388460Z",
     "shell.execute_reply": "2022-12-01T19:54:06.387761Z"
    }
   },
   "outputs": [
    {
     "name": "stdout",
     "output_type": "stream",
     "text": [
      "2969\n"
     ]
    }
   ],
   "source": [
    "print(len(product))"
   ]
  },
  {
   "cell_type": "markdown",
   "id": "90ef8416",
   "metadata": {},
   "source": [
    "If the promoter is missing from the assembly, the PCR product will have this size in base pairs:"
   ]
  },
  {
   "cell_type": "code",
   "execution_count": 17,
   "id": "f324eb8c",
   "metadata": {
    "execution": {
     "iopub.execute_input": "2022-12-01T19:54:06.392161Z",
     "iopub.status.busy": "2022-12-01T19:54:06.391694Z",
     "iopub.status.idle": "2022-12-01T19:54:06.396166Z",
     "shell.execute_reply": "2022-12-01T19:54:06.395178Z"
    }
   },
   "outputs": [
    {
     "name": "stdout",
     "output_type": "stream",
     "text": [
      "1738\n"
     ]
    }
   ],
   "source": [
    "print(len(product) - len(prom))"
   ]
  },
  {
   "cell_type": "markdown",
   "id": "b5f48dd8",
   "metadata": {},
   "source": [
    "If the gene is missing from the assembly, the PCR product will have this size in base pairs:"
   ]
  },
  {
   "cell_type": "code",
   "execution_count": 18,
   "id": "3e871631",
   "metadata": {
    "execution": {
     "iopub.execute_input": "2022-12-01T19:54:06.400197Z",
     "iopub.status.busy": "2022-12-01T19:54:06.399876Z",
     "iopub.status.idle": "2022-12-01T19:54:06.404796Z",
     "shell.execute_reply": "2022-12-01T19:54:06.403919Z"
    }
   },
   "outputs": [
    {
     "name": "stdout",
     "output_type": "stream",
     "text": [
      "1181\n"
     ]
    }
   ],
   "source": [
    "print(len(product) - len(gene))"
   ]
  },
  {
   "cell_type": "markdown",
   "id": "002d38d4",
   "metadata": {},
   "source": [
    "PCR using standard primers 468 and 578 to amplify gene and terminator."
   ]
  },
  {
   "cell_type": "code",
   "execution_count": 19,
   "id": "8a3dcf09",
   "metadata": {
    "execution": {
     "iopub.execute_input": "2022-12-01T19:54:06.408440Z",
     "iopub.status.busy": "2022-12-01T19:54:06.407976Z",
     "iopub.status.idle": "2022-12-01T19:54:06.428744Z",
     "shell.execute_reply": "2022-12-01T19:54:06.427913Z"
    }
   },
   "outputs": [],
   "source": [
    "product2 = pcr( p['468'], p['578'], result)"
   ]
  },
  {
   "cell_type": "markdown",
   "id": "0ef7966b",
   "metadata": {},
   "source": [
    "A correct clone should give this size:"
   ]
  },
  {
   "cell_type": "code",
   "execution_count": 20,
   "id": "5862c19b",
   "metadata": {
    "execution": {
     "iopub.execute_input": "2022-12-01T19:54:06.432021Z",
     "iopub.status.busy": "2022-12-01T19:54:06.431749Z",
     "iopub.status.idle": "2022-12-01T19:54:06.435011Z",
     "shell.execute_reply": "2022-12-01T19:54:06.434430Z"
    }
   },
   "outputs": [
    {
     "name": "stdout",
     "output_type": "stream",
     "text": [
      "2670\n"
     ]
    }
   ],
   "source": [
    "print(len(product2))"
   ]
  },
  {
   "cell_type": "markdown",
   "id": "6ca75b9f",
   "metadata": {},
   "source": [
    "If the gene is missing from the assembly, the PCR product will have this size in base pairs:"
   ]
  },
  {
   "cell_type": "code",
   "execution_count": 21,
   "id": "04a622ca",
   "metadata": {
    "execution": {
     "iopub.execute_input": "2022-12-01T19:54:06.437841Z",
     "iopub.status.busy": "2022-12-01T19:54:06.437496Z",
     "iopub.status.idle": "2022-12-01T19:54:06.441623Z",
     "shell.execute_reply": "2022-12-01T19:54:06.440846Z"
    }
   },
   "outputs": [
    {
     "name": "stdout",
     "output_type": "stream",
     "text": [
      "882\n"
     ]
    }
   ],
   "source": [
    "print(len(product2) - len(gene))"
   ]
  },
  {
   "cell_type": "markdown",
   "id": "16534d1d",
   "metadata": {},
   "source": [
    "If the terminator is missing from the assembly, the PCR product will have this size in base pairs:"
   ]
  },
  {
   "cell_type": "code",
   "execution_count": 22,
   "id": "69cf680c",
   "metadata": {
    "execution": {
     "iopub.execute_input": "2022-12-01T19:54:06.445035Z",
     "iopub.status.busy": "2022-12-01T19:54:06.444601Z",
     "iopub.status.idle": "2022-12-01T19:54:06.448751Z",
     "shell.execute_reply": "2022-12-01T19:54:06.447897Z"
    }
   },
   "outputs": [
    {
     "name": "stdout",
     "output_type": "stream",
     "text": [
      "1751\n"
     ]
    }
   ],
   "source": [
    "print(len(product2) - len(term))"
   ]
  },
  {
   "cell_type": "markdown",
   "id": "53d26c57",
   "metadata": {},
   "source": [
    "The cseguid checksum for the resulting plasmid is calculated for future reference.\n",
    "The [cseguid checksum](http://pydna.readthedocs.org/en/latest/pydna.html#pydna.utils.cseguid)\n",
    "uniquely identifies a circular double stranded sequence."
   ]
  },
  {
   "cell_type": "code",
   "execution_count": 23,
   "id": "4b882b49",
   "metadata": {
    "execution": {
     "iopub.execute_input": "2022-12-01T19:54:06.452277Z",
     "iopub.status.busy": "2022-12-01T19:54:06.451754Z",
     "iopub.status.idle": "2022-12-01T19:54:06.464319Z",
     "shell.execute_reply": "2022-12-01T19:54:06.463697Z"
    }
   },
   "outputs": [
    {
     "name": "stdout",
     "output_type": "stream",
     "text": [
      "PzRQvpooEGptQPDUsE5WkZQyB6Y\n"
     ]
    }
   ],
   "source": [
    "print(result.cseguid())"
   ]
  },
  {
   "cell_type": "markdown",
   "id": "4cced24a",
   "metadata": {},
   "source": [
    "The file name is based on the promoter, gene and terminator designations."
   ]
  },
  {
   "cell_type": "code",
   "execution_count": 24,
   "id": "e28e1cd1",
   "metadata": {
    "execution": {
     "iopub.execute_input": "2022-12-01T19:54:06.467303Z",
     "iopub.status.busy": "2022-12-01T19:54:06.466891Z",
     "iopub.status.idle": "2022-12-01T19:54:06.469892Z",
     "shell.execute_reply": "2022-12-01T19:54:06.469320Z"
    }
   },
   "outputs": [],
   "source": [
    "result.locus = \"TU:ScCTT1\"[:16]\n",
    "result.definition = \"pTA9_PGI1_ScCTT1_TEF1\""
   ]
  },
  {
   "cell_type": "markdown",
   "id": "1fc91979",
   "metadata": {},
   "source": [
    "Sequence is stamped with cseguid checksum. This can be used to verify the\n",
    "integrity of the sequence file."
   ]
  },
  {
   "cell_type": "code",
   "execution_count": 25,
   "id": "5c1994ce",
   "metadata": {
    "execution": {
     "iopub.execute_input": "2022-12-01T19:54:06.473493Z",
     "iopub.status.busy": "2022-12-01T19:54:06.473159Z",
     "iopub.status.idle": "2022-12-01T19:54:06.486072Z",
     "shell.execute_reply": "2022-12-01T19:54:06.485378Z"
    }
   },
   "outputs": [
    {
     "data": {
      "text/plain": [
       "PzRQvpooEGptQPDUsE5WkZQyB6Y"
      ]
     },
     "execution_count": 25,
     "metadata": {},
     "output_type": "execute_result"
    }
   ],
   "source": [
    "result.stamp(\"cSEGUID\")"
   ]
  },
  {
   "cell_type": "markdown",
   "id": "2de811bc",
   "metadata": {},
   "source": [
    "Write sequence to a local file."
   ]
  },
  {
   "cell_type": "code",
   "execution_count": 26,
   "id": "81702822",
   "metadata": {
    "execution": {
     "iopub.execute_input": "2022-12-01T19:54:06.488974Z",
     "iopub.status.busy": "2022-12-01T19:54:06.488680Z",
     "iopub.status.idle": "2022-12-01T19:54:06.498290Z",
     "shell.execute_reply": "2022-12-01T19:54:06.497757Z"
    }
   },
   "outputs": [
    {
     "data": {
      "text/html": [
       "<font face=monospace><a href='pTA9_PGI1_ScCTT1_TEF1.gb' target='_blank'>pTA9_PGI1_ScCTT1_TEF1.gb</a></font><br>"
      ]
     },
     "metadata": {},
     "output_type": "display_data"
    }
   ],
   "source": [
    "result.write(f\"{result.definition}.gb\")"
   ]
  },
  {
   "cell_type": "markdown",
   "id": "ba8955fe",
   "metadata": {
    "lines_to_next_cell": 0
   },
   "source": [
    "### Suggested PCR programs\n",
    "\n",
    "For the [amplification](#PCR) of promoter, gene and terminator."
   ]
  },
  {
   "cell_type": "code",
   "execution_count": 27,
   "id": "b8736e79",
   "metadata": {
    "execution": {
     "iopub.execute_input": "2022-12-01T19:54:06.500992Z",
     "iopub.status.busy": "2022-12-01T19:54:06.500706Z",
     "iopub.status.idle": "2022-12-01T19:54:06.505368Z",
     "shell.execute_reply": "2022-12-01T19:54:06.504546Z"
    }
   },
   "outputs": [
    {
     "name": "stdout",
     "output_type": "stream",
     "text": [
      "577 567\n",
      "|95°C|95°C               |    |tmf:64.6\n",
      "|____|_____          72°C|72°C|tmr:69.7\n",
      "|3min|30s  \\ 57.7°C _____|____|45s/kb\n",
      "|    |      \\______/ 0:55|5min|GC 40%\n",
      "|    |       30s         |    |1231bp\n"
     ]
    }
   ],
   "source": [
    "print(prom.forward_primer.name, prom.reverse_primer.name)\n",
    "print(prom.program())"
   ]
  },
  {
   "cell_type": "code",
   "execution_count": 28,
   "id": "e87dfa86",
   "metadata": {
    "execution": {
     "iopub.execute_input": "2022-12-01T19:54:06.508897Z",
     "iopub.status.busy": "2022-12-01T19:54:06.508637Z",
     "iopub.status.idle": "2022-12-01T19:54:06.513768Z",
     "shell.execute_reply": "2022-12-01T19:54:06.513128Z"
    }
   },
   "outputs": [
    {
     "name": "stdout",
     "output_type": "stream",
     "text": [
      "468 467\n",
      "|95°C|95°C               |    |tmf:76.9\n",
      "|____|_____          72°C|72°C|tmr:67.9\n",
      "|3min|30s  \\ 59.1°C _____|____|45s/kb\n",
      "|    |      \\______/ 1:20|5min|GC 41%\n",
      "|    |       30s         |    |1788bp\n"
     ]
    }
   ],
   "source": [
    "print(gene.forward_primer.name, gene.reverse_primer.name)\n",
    "print(gene.program())"
   ]
  },
  {
   "cell_type": "code",
   "execution_count": 29,
   "id": "4b94ef5f",
   "metadata": {
    "execution": {
     "iopub.execute_input": "2022-12-01T19:54:06.516882Z",
     "iopub.status.busy": "2022-12-01T19:54:06.516604Z",
     "iopub.status.idle": "2022-12-01T19:54:06.521512Z",
     "shell.execute_reply": "2022-12-01T19:54:06.520422Z"
    }
   },
   "outputs": [
    {
     "name": "stdout",
     "output_type": "stream",
     "text": [
      "568 578\n",
      "|95°C|95°C               |    |tmf:66.1\n",
      "|____|_____          72°C|72°C|tmr:65.0\n",
      "|3min|30s  \\ 57.1°C _____|____|45s/kb\n",
      "|    |      \\______/ 0:41|5min|GC 38%\n",
      "|    |       30s         |    |919bp\n"
     ]
    }
   ],
   "source": [
    "print(term.forward_primer.name, term.reverse_primer.name)\n",
    "print(term.program())"
   ]
  }
 ],
 "metadata": {
  "jupytext": {
   "main_language": "python",
   "text_representation": {
    "extension": ".py",
    "format_name": "percent",
    "format_version": "1.3",
    "jupytext_version": "1.14.0"
   }
  },
  "language_info": {
   "codemirror_mode": {
    "name": "ipython",
    "version": 3
   },
   "file_extension": ".py",
   "mimetype": "text/x-python",
   "name": "python",
   "nbconvert_exporter": "python",
   "pygments_lexer": "ipython3",
   "version": "3.11.0"
  }
 },
 "nbformat": 4,
 "nbformat_minor": 5
}
