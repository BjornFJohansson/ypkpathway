{
 "cells": [
  {
   "cell_type": "markdown",
   "id": "bb889140",
   "metadata": {
    "lines_to_next_cell": 0
   },
   "source": [
    "# pTA1_TDH3_ScATF1_PGI1_ScCTT1_TEF1\n",
    "\n",
    "This notebook describes the assembly of 2 transcriptional units\n",
    "(single gene expression) vectors into a pathway.\n",
    "\n",
    "Jupyter notebooks describing the single gene expression vectors are linked\n",
    "at the end of this document.\n",
    "Specific primers needed are also listed.\n",
    "\n",
    "![pathway with N genes](pw.png \"pathway with N genes\")"
   ]
  },
  {
   "cell_type": "code",
   "execution_count": 1,
   "id": "6ea62c3d",
   "metadata": {
    "execution": {
     "iopub.execute_input": "2022-12-01T19:54:08.098813Z",
     "iopub.status.busy": "2022-12-01T19:54:08.097984Z",
     "iopub.status.idle": "2022-12-01T19:54:08.453210Z",
     "shell.execute_reply": "2022-12-01T19:54:08.452498Z"
    }
   },
   "outputs": [],
   "source": [
    "from pydna.parsers import parse_primers\n",
    "from pydna.readers import read\n",
    "from pydna.amplify import pcr\n",
    "from pydna.assembly import Assembly\n",
    "from IPython.display import display\n",
    "from IPython.display import Markdown\n",
    "from pathlib import Path"
   ]
  },
  {
   "cell_type": "markdown",
   "id": "e883f99a",
   "metadata": {},
   "source": [
    "The first cassette in the pathway is amplified with standard\n",
    "primers 577 and 778, the last with\n",
    "1123 and 578 and all others with 1123 and 778.\n",
    "Standard primers are listed [here](standard_primers.fasta)."
   ]
  },
  {
   "cell_type": "code",
   "execution_count": 2,
   "id": "bae5d0de",
   "metadata": {
    "execution": {
     "iopub.execute_input": "2022-12-01T19:54:08.456375Z",
     "iopub.status.busy": "2022-12-01T19:54:08.456024Z",
     "iopub.status.idle": "2022-12-01T19:54:08.469249Z",
     "shell.execute_reply": "2022-12-01T19:54:08.468669Z"
    }
   },
   "outputs": [],
   "source": [
    "p = {x.id: x for x in parse_primers(\"standard_primers.fasta\")}"
   ]
  },
  {
   "cell_type": "markdown",
   "id": "179f1d4c",
   "metadata": {},
   "source": [
    "Restriction enzymes are imported from the Biopython package."
   ]
  },
  {
   "cell_type": "code",
   "execution_count": 3,
   "id": "f779e937",
   "metadata": {
    "execution": {
     "iopub.execute_input": "2022-12-01T19:54:08.472080Z",
     "iopub.status.busy": "2022-12-01T19:54:08.471861Z",
     "iopub.status.idle": "2022-12-01T19:54:08.475347Z",
     "shell.execute_reply": "2022-12-01T19:54:08.474733Z"
    }
   },
   "outputs": [],
   "source": [
    "from Bio.Restriction import FspAI, NotI, PacI"
   ]
  },
  {
   "cell_type": "markdown",
   "id": "7a3f4952",
   "metadata": {},
   "source": [
    "The backbone vector is linearized by digestion\n",
    "with [FspAI](https://www.google.com/search?q=FspAI)."
   ]
  },
  {
   "cell_type": "code",
   "execution_count": 4,
   "id": "97f3eb7d",
   "metadata": {
    "execution": {
     "iopub.execute_input": "2022-12-01T19:54:08.478682Z",
     "iopub.status.busy": "2022-12-01T19:54:08.478340Z",
     "iopub.status.idle": "2022-12-01T19:54:08.489938Z",
     "shell.execute_reply": "2022-12-01T19:54:08.489241Z"
    }
   },
   "outputs": [],
   "source": [
    "backbone = read(\"pTA1.gb\")"
   ]
  },
  {
   "cell_type": "markdown",
   "id": "1ca4d266",
   "metadata": {},
   "source": [
    "The cassette__pcr_products variable holds the list of expression\n",
    "cassette PCR products fragments to be assembled."
   ]
  },
  {
   "cell_type": "code",
   "execution_count": 5,
   "id": "26c0ee5e",
   "metadata": {
    "execution": {
     "iopub.execute_input": "2022-12-01T19:54:08.529545Z",
     "iopub.status.busy": "2022-12-01T19:54:08.529012Z",
     "iopub.status.idle": "2022-12-01T19:54:08.532135Z",
     "shell.execute_reply": "2022-12-01T19:54:08.531526Z"
    }
   },
   "outputs": [],
   "source": [
    "cassette_pcr_products = []"
   ]
  },
  {
   "cell_type": "markdown",
   "id": "cccaca63",
   "metadata": {},
   "source": [
    "The expression cassettes comes from a series of single gene expression\n",
    "vectors held in the template_vectors list."
   ]
  },
  {
   "cell_type": "code",
   "execution_count": 6,
   "id": "30db15f4",
   "metadata": {
    "execution": {
     "iopub.execute_input": "2022-12-01T19:54:08.535346Z",
     "iopub.status.busy": "2022-12-01T19:54:08.534973Z",
     "iopub.status.idle": "2022-12-01T19:54:08.538430Z",
     "shell.execute_reply": "2022-12-01T19:54:08.537677Z"
    },
    "lines_to_next_cell": 0
   },
   "outputs": [],
   "source": [
    "cassette_vectors = (\"\"\"\n",
    "pTA9_TDH3_ScATF1_PGI1.gb\n",
    "pTA9_PGI1_ScCTT1_TEF1.gb\n",
    "\"\"\").split()"
   ]
  },
  {
   "cell_type": "code",
   "execution_count": 7,
   "id": "e0b3f02d",
   "metadata": {
    "execution": {
     "iopub.execute_input": "2022-12-01T19:54:08.541879Z",
     "iopub.status.busy": "2022-12-01T19:54:08.541219Z",
     "iopub.status.idle": "2022-12-01T19:54:08.552603Z",
     "shell.execute_reply": "2022-12-01T19:54:08.551814Z"
    },
    "lines_to_next_cell": 0
   },
   "outputs": [
    {
     "data": {
      "text/plain": [
       "['pTA9_TDH3_ScATF1_PGI1.gb', 'pTA9_PGI1_ScCTT1_TEF1.gb']"
      ]
     },
     "execution_count": 7,
     "metadata": {},
     "output_type": "execute_result"
    }
   ],
   "source": [
    "cassette_vectors"
   ]
  },
  {
   "cell_type": "code",
   "execution_count": 8,
   "id": "bf2e4289",
   "metadata": {
    "execution": {
     "iopub.execute_input": "2022-12-01T19:54:08.555666Z",
     "iopub.status.busy": "2022-12-01T19:54:08.555393Z",
     "iopub.status.idle": "2022-12-01T19:54:08.573532Z",
     "shell.execute_reply": "2022-12-01T19:54:08.572895Z"
    },
    "lines_to_next_cell": 0
   },
   "outputs": [],
   "source": [
    "template_vectors = [read(v) for v in cassette_vectors]"
   ]
  },
  {
   "cell_type": "code",
   "execution_count": 9,
   "id": "1af47929",
   "metadata": {
    "execution": {
     "iopub.execute_input": "2022-12-01T19:54:08.576464Z",
     "iopub.status.busy": "2022-12-01T19:54:08.576208Z",
     "iopub.status.idle": "2022-12-01T19:54:08.583394Z",
     "shell.execute_reply": "2022-12-01T19:54:08.582725Z"
    },
    "lines_to_next_cell": 0
   },
   "outputs": [
    {
     "data": {
      "text/html": [
       "<a href='pTA9_TDH3_ScATF1_PGI1.gb' target='_blank'>pTA9_TDH3_ScATF1_PGI1.gb</a><br>"
      ],
      "text/plain": [
       "File(id_rc)(o9156)"
      ]
     },
     "metadata": {},
     "output_type": "display_data"
    },
    {
     "data": {
      "text/html": [
       "<a href='pTA9_PGI1_ScCTT1_TEF1.gb' target='_blank'>pTA9_PGI1_ScCTT1_TEF1.gb</a><br>"
      ],
      "text/plain": [
       "File(id_rc)(o9151)"
      ]
     },
     "metadata": {},
     "output_type": "display_data"
    }
   ],
   "source": [
    "for tv in template_vectors:\n",
    "    display(tv)"
   ]
  },
  {
   "cell_type": "markdown",
   "id": "0bc88102",
   "metadata": {},
   "source": [
    "The first cassette in the pathway.\n",
    "Suggested PCR conditions can be found at the end of this document."
   ]
  },
  {
   "cell_type": "code",
   "execution_count": 10,
   "id": "bbea8d75",
   "metadata": {
    "execution": {
     "iopub.execute_input": "2022-12-01T19:54:08.586053Z",
     "iopub.status.busy": "2022-12-01T19:54:08.585815Z",
     "iopub.status.idle": "2022-12-01T19:54:08.599194Z",
     "shell.execute_reply": "2022-12-01T19:54:08.598574Z"
    }
   },
   "outputs": [],
   "source": [
    "cassette_pcr_products.append(pcr(p['577'], p['778'], template_vectors[0]))"
   ]
  },
  {
   "cell_type": "markdown",
   "id": "226f8a86",
   "metadata": {},
   "source": [
    "Intermediary cassettes"
   ]
  },
  {
   "cell_type": "code",
   "execution_count": 11,
   "id": "68a07b47",
   "metadata": {
    "execution": {
     "iopub.execute_input": "2022-12-01T19:54:08.602030Z",
     "iopub.status.busy": "2022-12-01T19:54:08.601796Z",
     "iopub.status.idle": "2022-12-01T19:54:08.604963Z",
     "shell.execute_reply": "2022-12-01T19:54:08.604305Z"
    }
   },
   "outputs": [],
   "source": [
    "cassette_pcr_products.extend(pcr(p['1123'], p['778'], v)\n",
    "                             for v in template_vectors[1:-1])"
   ]
  },
  {
   "cell_type": "markdown",
   "id": "e5013c7c",
   "metadata": {},
   "source": [
    "The last cassette in the pathway."
   ]
  },
  {
   "cell_type": "code",
   "execution_count": 12,
   "id": "03451e04",
   "metadata": {
    "execution": {
     "iopub.execute_input": "2022-12-01T19:54:08.607695Z",
     "iopub.status.busy": "2022-12-01T19:54:08.607100Z",
     "iopub.status.idle": "2022-12-01T19:54:08.624331Z",
     "shell.execute_reply": "2022-12-01T19:54:08.623712Z"
    }
   },
   "outputs": [],
   "source": [
    "cassette_pcr_products.append(pcr(p['1123'], p['578'], template_vectors[-1]))"
   ]
  },
  {
   "cell_type": "markdown",
   "id": "adb827d7",
   "metadata": {},
   "source": [
    "The cassettes are given names based on the tu cassette"
   ]
  },
  {
   "cell_type": "code",
   "execution_count": 13,
   "id": "5aca42ba",
   "metadata": {
    "execution": {
     "iopub.execute_input": "2022-12-01T19:54:08.626905Z",
     "iopub.status.busy": "2022-12-01T19:54:08.626665Z",
     "iopub.status.idle": "2022-12-01T19:54:08.630400Z",
     "shell.execute_reply": "2022-12-01T19:54:08.629877Z"
    }
   },
   "outputs": [
    {
     "name": "stdout",
     "output_type": "stream",
     "text": [
      "TDH3_ScATF1_PGI1\n",
      "PGI1_ScCTT1_TEF1\n"
     ]
    }
   ],
   "source": [
    "for cp, ve in zip(cassette_pcr_products, cassette_vectors):\n",
    "    cp.name = ve.removesuffix(\".gb\").split(\"_\", maxsplit=1)[1]\n",
    "    print(cp.name)"
   ]
  },
  {
   "cell_type": "markdown",
   "id": "b8c13969",
   "metadata": {},
   "source": [
    "Cassettes and linear plasmid backbone are joined by homologous recombination"
   ]
  },
  {
   "cell_type": "code",
   "execution_count": 14,
   "id": "c2ee2a54",
   "metadata": {
    "execution": {
     "iopub.execute_input": "2022-12-01T19:54:08.633310Z",
     "iopub.status.busy": "2022-12-01T19:54:08.633023Z",
     "iopub.status.idle": "2022-12-01T19:54:09.096882Z",
     "shell.execute_reply": "2022-12-01T19:54:09.096366Z"
    }
   },
   "outputs": [
    {
     "data": {
      "text/plain": [
       "Assembly\n",
       "fragments..: 6175bp 3574bp 3702bp\n",
       "limit(bp)..: 110\n",
       "G.nodes....: 6\n",
       "algorithm..: common_sub_strings"
      ]
     },
     "execution_count": 14,
     "metadata": {},
     "output_type": "execute_result"
    }
   ],
   "source": [
    "asm = Assembly([backbone.linearize(FspAI)] + cassette_pcr_products,\n",
    "               limit=167-47-10)\n",
    "asm"
   ]
  },
  {
   "cell_type": "markdown",
   "id": "42e32119",
   "metadata": {},
   "source": [
    "There should normally be two candidates of equal size.\n",
    "These sequences should be identical."
   ]
  },
  {
   "cell_type": "code",
   "execution_count": 15,
   "id": "5c797ac3",
   "metadata": {
    "execution": {
     "iopub.execute_input": "2022-12-01T19:54:09.099366Z",
     "iopub.status.busy": "2022-12-01T19:54:09.099095Z",
     "iopub.status.idle": "2022-12-01T19:54:09.318136Z",
     "shell.execute_reply": "2022-12-01T19:54:09.317580Z"
    },
    "lines_to_next_cell": 0
   },
   "outputs": [
    {
     "data": {
      "text/plain": [
       "[Contig(o12021), Contig(o12021)]"
      ]
     },
     "execution_count": 15,
     "metadata": {},
     "output_type": "execute_result"
    }
   ],
   "source": [
    "candidates = asm.assemble_circular()\n",
    "candidates"
   ]
  },
  {
   "cell_type": "code",
   "execution_count": 16,
   "id": "33752faa",
   "metadata": {
    "execution": {
     "iopub.execute_input": "2022-12-01T19:54:09.320736Z",
     "iopub.status.busy": "2022-12-01T19:54:09.320520Z",
     "iopub.status.idle": "2022-12-01T19:54:09.323868Z",
     "shell.execute_reply": "2022-12-01T19:54:09.323058Z"
    },
    "lines_to_next_cell": 0
   },
   "outputs": [],
   "source": [
    "candidate, *rest = candidates"
   ]
  },
  {
   "cell_type": "code",
   "execution_count": 17,
   "id": "75b9f9a5",
   "metadata": {
    "execution": {
     "iopub.execute_input": "2022-12-01T19:54:09.327965Z",
     "iopub.status.busy": "2022-12-01T19:54:09.327633Z",
     "iopub.status.idle": "2022-12-01T19:54:09.352309Z",
     "shell.execute_reply": "2022-12-01T19:54:09.351798Z"
    },
    "lines_to_next_cell": 0
   },
   "outputs": [
    {
     "data": {
      "text/plain": [
       "True"
      ]
     },
     "execution_count": 17,
     "metadata": {},
     "output_type": "execute_result"
    }
   ],
   "source": [
    "candidate.cseguid() == rest[0].cseguid()"
   ]
  },
  {
   "cell_type": "markdown",
   "id": "8bee6cf7",
   "metadata": {},
   "source": [
    "This assembly figure below shows how the fragments came together."
   ]
  },
  {
   "cell_type": "code",
   "execution_count": 18,
   "id": "cf391010",
   "metadata": {
    "execution": {
     "iopub.execute_input": "2022-12-01T19:54:09.355508Z",
     "iopub.status.busy": "2022-12-01T19:54:09.354981Z",
     "iopub.status.idle": "2022-12-01T19:54:09.359755Z",
     "shell.execute_reply": "2022-12-01T19:54:09.359137Z"
    }
   },
   "outputs": [
    {
     "data": {
      "text/plain": [
       " -|pTA1_lin|124\n",
       "|           \\/\n",
       "|           /\\\n",
       "|           124|TDH3_ScATF1_PGI1|1013\n",
       "|                                \\/\n",
       "|                                /\\\n",
       "|                                1013|PGI1_ScCTT1_TEF1|242\n",
       "|                                                      \\/\n",
       "|                                                      /\\\n",
       "|                                                      242-\n",
       "|                                                         |\n",
       " ---------------------------------------------------------"
      ]
     },
     "execution_count": 18,
     "metadata": {},
     "output_type": "execute_result"
    }
   ],
   "source": [
    "candidate.figure()"
   ]
  },
  {
   "cell_type": "markdown",
   "id": "18ddaf48",
   "metadata": {},
   "source": [
    "The candidate vector is synchronized to the 577 primer. This means that\n",
    "the plasmid origin is shifted so that it matches the backbone vector."
   ]
  },
  {
   "cell_type": "code",
   "execution_count": 19,
   "id": "136a26b6",
   "metadata": {
    "execution": {
     "iopub.execute_input": "2022-12-01T19:54:09.363585Z",
     "iopub.status.busy": "2022-12-01T19:54:09.362893Z",
     "iopub.status.idle": "2022-12-01T19:54:09.825850Z",
     "shell.execute_reply": "2022-12-01T19:54:09.825253Z"
    }
   },
   "outputs": [],
   "source": [
    "pw = candidate.synced(p['577'])"
   ]
  },
  {
   "cell_type": "markdown",
   "id": "88f96523",
   "metadata": {},
   "source": [
    "The cseguid checksum for the resulting plasmid is calculated for future\n",
    "reference.\n",
    "The [cseguid checksum](\n",
    "http://pydna.readthedocs.org/en/latest/pydna.html#pydna.utils.cseguid)\n",
    "uniquely identifies a circular double stranded sequence."
   ]
  },
  {
   "cell_type": "code",
   "execution_count": 20,
   "id": "94fdd718",
   "metadata": {
    "execution": {
     "iopub.execute_input": "2022-12-01T19:54:09.828954Z",
     "iopub.status.busy": "2022-12-01T19:54:09.828723Z",
     "iopub.status.idle": "2022-12-01T19:54:09.844907Z",
     "shell.execute_reply": "2022-12-01T19:54:09.844261Z"
    }
   },
   "outputs": [
    {
     "data": {
      "text/plain": [
       "'2z0QxUHgAMQtWEVId-XwmQrOz4o'"
      ]
     },
     "execution_count": 20,
     "metadata": {},
     "output_type": "execute_result"
    }
   ],
   "source": [
    "pw.cseguid()"
   ]
  },
  {
   "cell_type": "markdown",
   "id": "ae25e328",
   "metadata": {},
   "source": [
    "The file is given a name based on the sequence of expressed genes."
   ]
  },
  {
   "cell_type": "code",
   "execution_count": 21,
   "id": "ae86f9fb",
   "metadata": {
    "execution": {
     "iopub.execute_input": "2022-12-01T19:54:09.848628Z",
     "iopub.status.busy": "2022-12-01T19:54:09.848355Z",
     "iopub.status.idle": "2022-12-01T19:54:09.851964Z",
     "shell.execute_reply": "2022-12-01T19:54:09.851247Z"
    }
   },
   "outputs": [],
   "source": [
    "pw.locus = \"pw\"\n",
    "pw.definition = \"pTA1_TDH3_ScATF1_PGI1_ScCTT1_TEF1\""
   ]
  },
  {
   "cell_type": "markdown",
   "id": "7f19d99b",
   "metadata": {},
   "source": [
    "Sequence stamped with cseguid checksum.\n",
    "This can be used to verify the integrity of the sequence file."
   ]
  },
  {
   "cell_type": "code",
   "execution_count": 22,
   "id": "c878ecfb",
   "metadata": {
    "execution": {
     "iopub.execute_input": "2022-12-01T19:54:09.855225Z",
     "iopub.status.busy": "2022-12-01T19:54:09.854937Z",
     "iopub.status.idle": "2022-12-01T19:54:09.870305Z",
     "shell.execute_reply": "2022-12-01T19:54:09.869743Z"
    }
   },
   "outputs": [
    {
     "data": {
      "text/plain": [
       "2z0QxUHgAMQtWEVId-XwmQrOz4o"
      ]
     },
     "execution_count": 22,
     "metadata": {},
     "output_type": "execute_result"
    }
   ],
   "source": [
    "pw.stamp(\"cSEGUID\")"
   ]
  },
  {
   "cell_type": "markdown",
   "id": "64028419",
   "metadata": {},
   "source": [
    "Write sequence to a local file."
   ]
  },
  {
   "cell_type": "code",
   "execution_count": 23,
   "id": "2120a986",
   "metadata": {
    "execution": {
     "iopub.execute_input": "2022-12-01T19:54:09.874185Z",
     "iopub.status.busy": "2022-12-01T19:54:09.873594Z",
     "iopub.status.idle": "2022-12-01T19:54:09.884607Z",
     "shell.execute_reply": "2022-12-01T19:54:09.883925Z"
    }
   },
   "outputs": [
    {
     "data": {
      "text/html": [
       "<font face=monospace><a href='pTA1_TDH3_ScATF1_PGI1_ScCTT1_TEF1.gb' target='_blank'>pTA1_TDH3_ScATF1_PGI1_ScCTT1_TEF1.gb</a></font><br>"
      ]
     },
     "metadata": {},
     "output_type": "display_data"
    }
   ],
   "source": [
    "pw.write(\"pTA1_TDH3_ScATF1_PGI1_ScCTT1_TEF1.gb\")"
   ]
  },
  {
   "cell_type": "markdown",
   "id": "ecbe5146",
   "metadata": {},
   "source": [
    "The pathway can be extended by digestion with either NotI or PacI or both\n",
    "provided that the enzymes cut once in the final pathway sequence."
   ]
  },
  {
   "cell_type": "code",
   "execution_count": 24,
   "id": "ebdabd73",
   "metadata": {
    "execution": {
     "iopub.execute_input": "2022-12-01T19:54:09.887133Z",
     "iopub.status.busy": "2022-12-01T19:54:09.886917Z",
     "iopub.status.idle": "2022-12-01T19:54:09.899812Z",
     "shell.execute_reply": "2022-12-01T19:54:09.899178Z"
    }
   },
   "outputs": [
    {
     "name": "stdout",
     "output_type": "stream",
     "text": [
      "NotI cuts 1 time(s) and PacI cuts 1 time(s) in the final pathway.\n"
     ]
    }
   ],
   "source": [
    "print(f\"NotI cuts {len(pw.cut(NotI))} time(s) and PacI cuts \"\n",
    "      f\"{len(pw.cut(PacI))} time(s) in the final pathway.\")"
   ]
  },
  {
   "cell_type": "markdown",
   "id": "2819930e",
   "metadata": {
    "lines_to_next_cell": 0
   },
   "source": [
    "### Transcriptional unit (single gene expression) vectors needed."
   ]
  },
  {
   "cell_type": "code",
   "execution_count": 25,
   "id": "e8bc83de",
   "metadata": {
    "execution": {
     "iopub.execute_input": "2022-12-01T19:54:09.902502Z",
     "iopub.status.busy": "2022-12-01T19:54:09.902267Z",
     "iopub.status.idle": "2022-12-01T19:54:09.909285Z",
     "shell.execute_reply": "2022-12-01T19:54:09.908521Z"
    }
   },
   "outputs": [
    {
     "data": {
      "text/markdown": [
       "[pTA9_TDH3_ScATF1_PGI1.ipynb](pTA9_TDH3_ScATF1_PGI1.ipynb)"
      ],
      "text/plain": [
       "<IPython.core.display.Markdown object>"
      ]
     },
     "metadata": {},
     "output_type": "display_data"
    },
    {
     "data": {
      "text/markdown": [
       "[pTA9_PGI1_ScCTT1_TEF1.ipynb](pTA9_PGI1_ScCTT1_TEF1.ipynb)"
      ],
      "text/plain": [
       "<IPython.core.display.Markdown object>"
      ]
     },
     "metadata": {},
     "output_type": "display_data"
    }
   ],
   "source": [
    "for cv in cassette_vectors:\n",
    "    cassette_vector = Path(cv).with_suffix('.ipynb')\n",
    "    display(Markdown(f\"[{cassette_vector}]({cassette_vector})\"))"
   ]
  },
  {
   "cell_type": "markdown",
   "id": "ab7f4078",
   "metadata": {
    "lines_to_next_cell": 0
   },
   "source": [
    "### Suggested PCR conditions"
   ]
  },
  {
   "cell_type": "code",
   "execution_count": 26,
   "id": "4a447dd5",
   "metadata": {
    "execution": {
     "iopub.execute_input": "2022-12-01T19:54:09.912754Z",
     "iopub.status.busy": "2022-12-01T19:54:09.912448Z",
     "iopub.status.idle": "2022-12-01T19:54:09.918734Z",
     "shell.execute_reply": "2022-12-01T19:54:09.918003Z"
    }
   },
   "outputs": [
    {
     "name": "stdout",
     "output_type": "stream",
     "text": [
      "\n",
      "\n",
      "\n",
      "\n",
      "\n",
      "product name: TDH3_ScATF1_PGI1\n",
      "forward primer 577\n",
      "reverse primer 778\n",
      "|95°C|95°C               |    |tmf:64.6\n",
      "|____|_____          72°C|72°C|tmr:53.9\n",
      "|3min|30s  \\ 54.0°C _____|____|45s/kb\n",
      "|    |      \\______/ 2:40|5min|GC 38%\n",
      "|    |       30s         |    |3574bp\n",
      "\n",
      "\n",
      "\n",
      "\n",
      "\n",
      "product name: PGI1_ScCTT1_TEF1\n",
      "forward primer 1123\n",
      "reverse primer 578\n",
      "|95°C|95°C               |    |tmf:70.4\n",
      "|____|_____          72°C|72°C|tmr:65.0\n",
      "|3min|30s  \\ 57.9°C _____|____|45s/kb\n",
      "|    |      \\______/ 2:46|5min|GC 40%\n",
      "|    |       30s         |    |3702bp\n"
     ]
    }
   ],
   "source": [
    "for prd in cassette_pcr_products:\n",
    "    print(\"\\n\\n\\n\\n\")\n",
    "    print(\"product name:\", prd.name)\n",
    "    print(\"forward primer\", prd.forward_primer.name)\n",
    "    print(\"reverse primer\", prd.reverse_primer.name)\n",
    "    print(prd.program())"
   ]
  }
 ],
 "metadata": {
  "jupytext": {
   "main_language": "python",
   "text_representation": {
    "extension": ".py",
    "format_name": "percent",
    "format_version": "1.3",
    "jupytext_version": "1.14.0"
   }
  },
  "language_info": {
   "codemirror_mode": {
    "name": "ipython",
    "version": 3
   },
   "file_extension": ".py",
   "mimetype": "text/x-python",
   "name": "python",
   "nbconvert_exporter": "python",
   "pygments_lexer": "ipython3",
   "version": "3.11.0"
  }
 },
 "nbformat": 4,
 "nbformat_minor": 5
}
