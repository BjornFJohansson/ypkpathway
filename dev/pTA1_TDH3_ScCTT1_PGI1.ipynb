{
 "cells": [
  {
   "cell_type": "markdown",
   "id": "fd9e80cd",
   "metadata": {},
   "source": [
    "# pYPK0_TDH3_ScCTT1_PGI1\n",
    "\n",
    "This notebook describes the assembly of the [_Saccharomyces cerevisiae_](http://www.yeastgenome.org)\n",
    "transcriptional unit vector.\n",
    "\n",
    "It is made from a linear vector fragment and three PCR products:\n",
    "\n",
    "- a linearized pTA1 vector for maintenance in _S. cerevisiae_ or _E. coli_ (red dashed line in figure below)\n",
    "- a promoter PCR product from the pYPKa_Z_TDH3 vector\n",
    "- a gene PCR product from the pYPKa_A_ScCTT1\n",
    "- a terminator PCR product from the pYPKa_E_PGI1 vector\n",
    "\n",
    "The four linear DNA fragments are joined by _in-vivo_ homologous recombination in a\n",
    "[_Saccharomyces cerevisiae_](http://wiki.yeastgenome.org/index.php/Commonly_used_strains) strain.\n",
    "\n",
    "![pYPK0_promoter_gene_terminator](tu.png \"pYPK0_promoter_gene_terminator\")\n",
    "\n",
    "A part of the [pydna](https://pypi.python.org/pypi/pydna/) package is imported in the code cell below."
   ]
  },
  {
   "cell_type": "code",
   "execution_count": 1,
   "id": "056839fd",
   "metadata": {
    "execution": {
     "iopub.execute_input": "2022-11-25T11:40:09.054642Z",
     "iopub.status.busy": "2022-11-25T11:40:09.054171Z",
     "iopub.status.idle": "2022-11-25T11:40:09.436735Z",
     "shell.execute_reply": "2022-11-25T11:40:09.436067Z"
    }
   },
   "outputs": [],
   "source": [
    "from pydna.parsers import parse_primers\n",
    "from pydna.readers import read\n",
    "from pydna.amplify import pcr\n",
    "from pydna.assembly import Assembly"
   ]
  },
  {
   "cell_type": "markdown",
   "id": "8e2c7927",
   "metadata": {},
   "source": [
    "The Yeast Pathway Kit [standard primers](standard_primers.fasta) are read into a dictionary in the code cell below."
   ]
  },
  {
   "cell_type": "code",
   "execution_count": 2,
   "id": "0eca7bbd",
   "metadata": {
    "execution": {
     "iopub.execute_input": "2022-11-25T11:40:09.442742Z",
     "iopub.status.busy": "2022-11-25T11:40:09.441854Z",
     "iopub.status.idle": "2022-11-25T11:40:09.455351Z",
     "shell.execute_reply": "2022-11-25T11:40:09.454559Z"
    }
   },
   "outputs": [],
   "source": [
    "p = {x.id: x for x in parse_primers(\"standard_primers.fasta\")}"
   ]
  },
  {
   "cell_type": "markdown",
   "id": "568389a0",
   "metadata": {},
   "source": [
    "The backbone vector [pTA1](pTA1.gb) is read from a local file in the code cell below."
   ]
  },
  {
   "cell_type": "code",
   "execution_count": 3,
   "id": "87a7d6dd",
   "metadata": {
    "execution": {
     "iopub.execute_input": "2022-11-25T11:40:09.459472Z",
     "iopub.status.busy": "2022-11-25T11:40:09.459175Z",
     "iopub.status.idle": "2022-11-25T11:40:09.474472Z",
     "shell.execute_reply": "2022-11-25T11:40:09.473494Z"
    }
   },
   "outputs": [],
   "source": [
    "backbone = read(\"pTA1.gb\")"
   ]
  },
  {
   "cell_type": "markdown",
   "id": "fe2bf062",
   "metadata": {},
   "source": [
    "The backbone vector is linearized by digestion with [FspAI](https://www.google.com/search?q=FspAI)."
   ]
  },
  {
   "cell_type": "code",
   "execution_count": 4,
   "id": "5783aeb3",
   "metadata": {
    "execution": {
     "iopub.execute_input": "2022-11-25T11:40:09.484575Z",
     "iopub.status.busy": "2022-11-25T11:40:09.484183Z",
     "iopub.status.idle": "2022-11-25T11:40:09.488496Z",
     "shell.execute_reply": "2022-11-25T11:40:09.487468Z"
    }
   },
   "outputs": [],
   "source": [
    "from Bio.Restriction import FspAI"
   ]
  },
  {
   "cell_type": "code",
   "execution_count": 5,
   "id": "4a8679d6",
   "metadata": {
    "execution": {
     "iopub.execute_input": "2022-11-25T11:40:09.495865Z",
     "iopub.status.busy": "2022-11-25T11:40:09.495333Z",
     "iopub.status.idle": "2022-11-25T11:40:09.514916Z",
     "shell.execute_reply": "2022-11-25T11:40:09.509202Z"
    }
   },
   "outputs": [],
   "source": [
    "linear_backbone = backbone.linearize(FspAI)"
   ]
  },
  {
   "cell_type": "markdown",
   "id": "57dc74d0",
   "metadata": {},
   "source": [
    "The pYPKa derived _E. coli_ plasmids containing \n",
    "- [promoter](pYPKa_Z_TDH3.gb)\n",
    "- [gene](pYPKa_A_ScCTT1.gb)\n",
    "- [terminator](pYPKa_E_PGI1.gb)\n",
    "\n",
    "are read into three variables below."
   ]
  },
  {
   "cell_type": "code",
   "execution_count": 6,
   "id": "ce79a5fb",
   "metadata": {
    "execution": {
     "iopub.execute_input": "2022-11-25T11:40:09.520007Z",
     "iopub.status.busy": "2022-11-25T11:40:09.519579Z",
     "iopub.status.idle": "2022-11-25T11:40:09.543065Z",
     "shell.execute_reply": "2022-11-25T11:40:09.542072Z"
    }
   },
   "outputs": [],
   "source": [
    "promoter_template   = read(\"pYPKa_Z_TDH3.gb\")\n",
    "gene_template       = read(\"pYPKa_A_ScCTT1.gb\")\n",
    "terminator_template = read(\"pYPKa_E_PGI1.gb\")"
   ]
  },
  {
   "cell_type": "markdown",
   "id": "046d9491",
   "metadata": {
    "lines_to_next_cell": 0
   },
   "source": [
    "### PCR\n",
    "Three DNA fragments are PCR amplified using [standard primers](standard_primers.fasta).\n",
    "\n",
    "[Suggested PCR programs](#Suggested-PCR-programs) can be found at the end of this document."
   ]
  },
  {
   "cell_type": "code",
   "execution_count": 7,
   "id": "8f7cad97",
   "metadata": {
    "execution": {
     "iopub.execute_input": "2022-11-25T11:40:09.547487Z",
     "iopub.status.busy": "2022-11-25T11:40:09.547071Z",
     "iopub.status.idle": "2022-11-25T11:40:09.576712Z",
     "shell.execute_reply": "2022-11-25T11:40:09.574904Z"
    }
   },
   "outputs": [],
   "source": [
    "prom = pcr(p['577'], p['567'], promoter_template)\n",
    "gene = pcr(p['468'], p['467'], gene_template)\n",
    "term = pcr(p['568'], p['578'], terminator_template)"
   ]
  },
  {
   "cell_type": "code",
   "execution_count": 8,
   "id": "cb1b9c17",
   "metadata": {
    "execution": {
     "iopub.execute_input": "2022-11-25T11:40:09.581591Z",
     "iopub.status.busy": "2022-11-25T11:40:09.580992Z",
     "iopub.status.idle": "2022-11-25T11:40:09.584971Z",
     "shell.execute_reply": "2022-11-25T11:40:09.584116Z"
    }
   },
   "outputs": [],
   "source": [
    "prom.name = \"TDH3\"\n",
    "gene.name = \"ScCTT1\"\n",
    "term.name = \"PGI1\""
   ]
  },
  {
   "cell_type": "markdown",
   "id": "bbaf5c3e",
   "metadata": {},
   "source": [
    "\n",
    "The fragments will be assembled by _in-vivo_ [homologous recombination](http://www.ncbi.nlm.nih.gov/pubmed/2828185):"
   ]
  },
  {
   "cell_type": "code",
   "execution_count": 9,
   "id": "b1afdca4",
   "metadata": {
    "execution": {
     "iopub.execute_input": "2022-11-25T11:40:09.589078Z",
     "iopub.status.busy": "2022-11-25T11:40:09.588736Z",
     "iopub.status.idle": "2022-11-25T11:40:10.202283Z",
     "shell.execute_reply": "2022-11-25T11:40:10.201582Z"
    }
   },
   "outputs": [
    {
     "data": {
      "text/plain": [
       "Assembly\n",
       "fragments..: 6175bp 930bp 1788bp 1339bp\n",
       "limit(bp)..: 31\n",
       "G.nodes....: 8\n",
       "algorithm..: common_sub_strings"
      ]
     },
     "execution_count": 9,
     "metadata": {},
     "output_type": "execute_result"
    }
   ],
   "source": [
    "asm = Assembly((linear_backbone, prom, gene, term), limit=31)\n",
    "asm"
   ]
  },
  {
   "cell_type": "markdown",
   "id": "87472836",
   "metadata": {},
   "source": [
    "The Assembly object above should normally indicate four fragments and eight nodes."
   ]
  },
  {
   "cell_type": "code",
   "execution_count": 10,
   "id": "df6db178",
   "metadata": {
    "execution": {
     "iopub.execute_input": "2022-11-25T11:40:10.205384Z",
     "iopub.status.busy": "2022-11-25T11:40:10.205116Z",
     "iopub.status.idle": "2022-11-25T11:40:10.394735Z",
     "shell.execute_reply": "2022-11-25T11:40:10.394091Z"
    },
    "lines_to_next_cell": 0
   },
   "outputs": [
    {
     "data": {
      "text/plain": [
       "[Contig(o9760), Contig(o9760)]"
      ]
     },
     "execution_count": 10,
     "metadata": {},
     "output_type": "execute_result"
    }
   ],
   "source": [
    "candidates = asm.assemble_circular()\n",
    "candidates"
   ]
  },
  {
   "cell_type": "markdown",
   "id": "6470ca38",
   "metadata": {},
   "source": [
    "There should normally be two candidates of equal size. These sequences should be identical."
   ]
  },
  {
   "cell_type": "code",
   "execution_count": 11,
   "id": "61f718c9",
   "metadata": {
    "execution": {
     "iopub.execute_input": "2022-11-25T11:40:10.398287Z",
     "iopub.status.busy": "2022-11-25T11:40:10.397893Z",
     "iopub.status.idle": "2022-11-25T11:40:10.402080Z",
     "shell.execute_reply": "2022-11-25T11:40:10.401189Z"
    },
    "lines_to_next_cell": 0
   },
   "outputs": [],
   "source": [
    "candidate, *rest = candidates"
   ]
  },
  {
   "cell_type": "code",
   "execution_count": 12,
   "id": "ed762358",
   "metadata": {
    "execution": {
     "iopub.execute_input": "2022-11-25T11:40:10.405735Z",
     "iopub.status.busy": "2022-11-25T11:40:10.405284Z",
     "iopub.status.idle": "2022-11-25T11:40:10.426232Z",
     "shell.execute_reply": "2022-11-25T11:40:10.425612Z"
    },
    "lines_to_next_cell": 0
   },
   "outputs": [
    {
     "data": {
      "text/plain": [
       "True"
      ]
     },
     "execution_count": 12,
     "metadata": {},
     "output_type": "execute_result"
    }
   ],
   "source": [
    "candidate.cseguid() == rest[0].cseguid()"
   ]
  },
  {
   "cell_type": "code",
   "execution_count": 13,
   "id": "022cadde",
   "metadata": {
    "execution": {
     "iopub.execute_input": "2022-11-25T11:40:10.429048Z",
     "iopub.status.busy": "2022-11-25T11:40:10.428803Z",
     "iopub.status.idle": "2022-11-25T11:40:10.433397Z",
     "shell.execute_reply": "2022-11-25T11:40:10.432598Z"
    },
    "lines_to_next_cell": 0
   },
   "outputs": [
    {
     "data": {
      "text/plain": [
       " -|pTA1_lin|124\n",
       "|           \\/\n",
       "|           /\\\n",
       "|           124|TDH3|50\n",
       "|                    \\/\n",
       "|                    /\\\n",
       "|                    50|ScCTT1|37\n",
       "|                              \\/\n",
       "|                              /\\\n",
       "|                              37|PGI1|242\n",
       "|                                      \\/\n",
       "|                                      /\\\n",
       "|                                      242-\n",
       "|                                         |\n",
       " -----------------------------------------"
      ]
     },
     "execution_count": 13,
     "metadata": {},
     "output_type": "execute_result"
    }
   ],
   "source": [
    "candidate.figure()"
   ]
  },
  {
   "cell_type": "markdown",
   "id": "383b1dfe",
   "metadata": {},
   "source": [
    "The candidate vector is synchronized to the 577 primer. This means that\n",
    "the plasmid origin is shifted so that it matches the backbone vector."
   ]
  },
  {
   "cell_type": "code",
   "execution_count": 14,
   "id": "78016839",
   "metadata": {
    "execution": {
     "iopub.execute_input": "2022-11-25T11:40:10.436870Z",
     "iopub.status.busy": "2022-11-25T11:40:10.436561Z",
     "iopub.status.idle": "2022-11-25T11:40:10.873706Z",
     "shell.execute_reply": "2022-11-25T11:40:10.872986Z"
    }
   },
   "outputs": [],
   "source": [
    "result = candidate.synced(p['577'])"
   ]
  },
  {
   "cell_type": "markdown",
   "id": "ee475001",
   "metadata": {},
   "source": [
    "### Diagnostic PCR confirmation\n",
    "\n",
    "The structure of the final vector is confirmed by two\n",
    "separate PCR reactions, one for the promoter and gene and\n",
    "one for the gene and terminator.\n",
    "\n",
    "PCR using standard primers 577 and 467 to amplify promoter and gene."
   ]
  },
  {
   "cell_type": "code",
   "execution_count": 15,
   "id": "e10c404c",
   "metadata": {
    "execution": {
     "iopub.execute_input": "2022-11-25T11:40:10.876740Z",
     "iopub.status.busy": "2022-11-25T11:40:10.876504Z",
     "iopub.status.idle": "2022-11-25T11:40:10.897420Z",
     "shell.execute_reply": "2022-11-25T11:40:10.896832Z"
    }
   },
   "outputs": [],
   "source": [
    "product = pcr( p['577'], p['467'], result)"
   ]
  },
  {
   "cell_type": "markdown",
   "id": "32ef28f6",
   "metadata": {},
   "source": [
    "A correct clone should give this size in base pairs:"
   ]
  },
  {
   "cell_type": "code",
   "execution_count": 16,
   "id": "9a23917b",
   "metadata": {
    "execution": {
     "iopub.execute_input": "2022-11-25T11:40:10.900849Z",
     "iopub.status.busy": "2022-11-25T11:40:10.900547Z",
     "iopub.status.idle": "2022-11-25T11:40:10.905085Z",
     "shell.execute_reply": "2022-11-25T11:40:10.904266Z"
    }
   },
   "outputs": [
    {
     "name": "stdout",
     "output_type": "stream",
     "text": [
      "2668\n"
     ]
    }
   ],
   "source": [
    "print(len(product))"
   ]
  },
  {
   "cell_type": "markdown",
   "id": "67b450ec",
   "metadata": {},
   "source": [
    "If the promoter is missing from the assembly, the PCR product will have this size in base pairs:"
   ]
  },
  {
   "cell_type": "code",
   "execution_count": 17,
   "id": "92ede381",
   "metadata": {
    "execution": {
     "iopub.execute_input": "2022-11-25T11:40:10.908663Z",
     "iopub.status.busy": "2022-11-25T11:40:10.908345Z",
     "iopub.status.idle": "2022-11-25T11:40:10.913604Z",
     "shell.execute_reply": "2022-11-25T11:40:10.912604Z"
    }
   },
   "outputs": [
    {
     "name": "stdout",
     "output_type": "stream",
     "text": [
      "1738\n"
     ]
    }
   ],
   "source": [
    "print(len(product) - len(prom))"
   ]
  },
  {
   "cell_type": "markdown",
   "id": "67842af1",
   "metadata": {},
   "source": [
    "If the gene is missing from the assembly, the PCR product will have this size in base pairs:"
   ]
  },
  {
   "cell_type": "code",
   "execution_count": 18,
   "id": "c3cc1b62",
   "metadata": {
    "execution": {
     "iopub.execute_input": "2022-11-25T11:40:10.917095Z",
     "iopub.status.busy": "2022-11-25T11:40:10.916795Z",
     "iopub.status.idle": "2022-11-25T11:40:10.921776Z",
     "shell.execute_reply": "2022-11-25T11:40:10.920857Z"
    }
   },
   "outputs": [
    {
     "name": "stdout",
     "output_type": "stream",
     "text": [
      "880\n"
     ]
    }
   ],
   "source": [
    "print(len(product) - len(gene))"
   ]
  },
  {
   "cell_type": "markdown",
   "id": "de05cff8",
   "metadata": {},
   "source": [
    "PCR using standard primers 468 and 578 to amplify gene and terminator."
   ]
  },
  {
   "cell_type": "code",
   "execution_count": 19,
   "id": "943e576f",
   "metadata": {
    "execution": {
     "iopub.execute_input": "2022-11-25T11:40:10.925497Z",
     "iopub.status.busy": "2022-11-25T11:40:10.924842Z",
     "iopub.status.idle": "2022-11-25T11:40:10.951751Z",
     "shell.execute_reply": "2022-11-25T11:40:10.951049Z"
    }
   },
   "outputs": [],
   "source": [
    "product2 = pcr( p['468'], p['578'], result)"
   ]
  },
  {
   "cell_type": "markdown",
   "id": "2845f068",
   "metadata": {},
   "source": [
    "A correct clone should give this size:"
   ]
  },
  {
   "cell_type": "code",
   "execution_count": 20,
   "id": "d34ee5b1",
   "metadata": {
    "execution": {
     "iopub.execute_input": "2022-11-25T11:40:10.956776Z",
     "iopub.status.busy": "2022-11-25T11:40:10.956086Z",
     "iopub.status.idle": "2022-11-25T11:40:10.959924Z",
     "shell.execute_reply": "2022-11-25T11:40:10.959318Z"
    }
   },
   "outputs": [
    {
     "name": "stdout",
     "output_type": "stream",
     "text": [
      "3090\n"
     ]
    }
   ],
   "source": [
    "print(len(product2))"
   ]
  },
  {
   "cell_type": "markdown",
   "id": "395b6705",
   "metadata": {},
   "source": [
    "If the gene is missing from the assembly, the PCR product will have this size in base pairs:"
   ]
  },
  {
   "cell_type": "code",
   "execution_count": 21,
   "id": "a9137b37",
   "metadata": {
    "execution": {
     "iopub.execute_input": "2022-11-25T11:40:10.963206Z",
     "iopub.status.busy": "2022-11-25T11:40:10.962645Z",
     "iopub.status.idle": "2022-11-25T11:40:10.967779Z",
     "shell.execute_reply": "2022-11-25T11:40:10.966707Z"
    }
   },
   "outputs": [
    {
     "name": "stdout",
     "output_type": "stream",
     "text": [
      "1302\n"
     ]
    }
   ],
   "source": [
    "print(len(product2) - len(gene))"
   ]
  },
  {
   "cell_type": "markdown",
   "id": "576c95ac",
   "metadata": {},
   "source": [
    "If the terminator is missing from the assembly, the PCR product will have this size in base pairs:"
   ]
  },
  {
   "cell_type": "code",
   "execution_count": 22,
   "id": "75fa46b5",
   "metadata": {
    "execution": {
     "iopub.execute_input": "2022-11-25T11:40:10.971747Z",
     "iopub.status.busy": "2022-11-25T11:40:10.971368Z",
     "iopub.status.idle": "2022-11-25T11:40:10.976482Z",
     "shell.execute_reply": "2022-11-25T11:40:10.975508Z"
    }
   },
   "outputs": [
    {
     "name": "stdout",
     "output_type": "stream",
     "text": [
      "1751\n"
     ]
    }
   ],
   "source": [
    "print(len(product2) - len(term))"
   ]
  },
  {
   "cell_type": "markdown",
   "id": "481174ed",
   "metadata": {},
   "source": [
    "The cseguid checksum for the resulting plasmid is calculated for future reference.\n",
    "The [cseguid checksum](http://pydna.readthedocs.org/en/latest/pydna.html#pydna.utils.cseguid)\n",
    "uniquely identifies a circular double stranded sequence."
   ]
  },
  {
   "cell_type": "code",
   "execution_count": 23,
   "id": "be1fe443",
   "metadata": {
    "execution": {
     "iopub.execute_input": "2022-11-25T11:40:10.980397Z",
     "iopub.status.busy": "2022-11-25T11:40:10.980061Z",
     "iopub.status.idle": "2022-11-25T11:40:10.993522Z",
     "shell.execute_reply": "2022-11-25T11:40:10.992621Z"
    }
   },
   "outputs": [
    {
     "name": "stdout",
     "output_type": "stream",
     "text": [
      "zaY85FDrm6zqHlFarxifz-S3DEU\n"
     ]
    }
   ],
   "source": [
    "print(result.cseguid())"
   ]
  },
  {
   "cell_type": "markdown",
   "id": "00785035",
   "metadata": {},
   "source": [
    "The file name is based on the promoter, gene and terminator designations."
   ]
  },
  {
   "cell_type": "code",
   "execution_count": 24,
   "id": "3acb831d",
   "metadata": {
    "execution": {
     "iopub.execute_input": "2022-11-25T11:40:10.996540Z",
     "iopub.status.busy": "2022-11-25T11:40:10.996058Z",
     "iopub.status.idle": "2022-11-25T11:40:10.999635Z",
     "shell.execute_reply": "2022-11-25T11:40:10.998962Z"
    }
   },
   "outputs": [],
   "source": [
    "result.locus = \"TU:ScCTT1\"[:16]\n",
    "result.definition = \"pYPK0_TDH3_ScCTT1_PGI1\""
   ]
  },
  {
   "cell_type": "markdown",
   "id": "f44ee892",
   "metadata": {},
   "source": [
    "Sequence is stamped with cseguid checksum. This can be used to verify the\n",
    "integrity of the sequence file."
   ]
  },
  {
   "cell_type": "code",
   "execution_count": 25,
   "id": "e8ce9b7f",
   "metadata": {
    "execution": {
     "iopub.execute_input": "2022-11-25T11:40:11.003025Z",
     "iopub.status.busy": "2022-11-25T11:40:11.002535Z",
     "iopub.status.idle": "2022-11-25T11:40:11.015373Z",
     "shell.execute_reply": "2022-11-25T11:40:11.014696Z"
    }
   },
   "outputs": [
    {
     "data": {
      "text/plain": [
       "zaY85FDrm6zqHlFarxifz-S3DEU"
      ]
     },
     "execution_count": 25,
     "metadata": {},
     "output_type": "execute_result"
    }
   ],
   "source": [
    "result.stamp(\"cSEGUID\")"
   ]
  },
  {
   "cell_type": "markdown",
   "id": "f8ea1d8a",
   "metadata": {},
   "source": [
    "Write sequence to a local file."
   ]
  },
  {
   "cell_type": "code",
   "execution_count": 26,
   "id": "c68c4fab",
   "metadata": {
    "execution": {
     "iopub.execute_input": "2022-11-25T11:40:11.018704Z",
     "iopub.status.busy": "2022-11-25T11:40:11.018091Z",
     "iopub.status.idle": "2022-11-25T11:40:11.037500Z",
     "shell.execute_reply": "2022-11-25T11:40:11.036869Z"
    }
   },
   "outputs": [
    {
     "data": {
      "text/html": [
       "<font face=monospace><a href='pYPK0_TDH3_ScCTT1_PGI1.gb' target='_blank'>pYPK0_TDH3_ScCTT1_PGI1.gb</a></font><br>"
      ]
     },
     "metadata": {},
     "output_type": "display_data"
    }
   ],
   "source": [
    "result.write(f\"{result.definition}.gb\")"
   ]
  },
  {
   "cell_type": "markdown",
   "id": "fe5de539",
   "metadata": {
    "lines_to_next_cell": 0
   },
   "source": [
    "### Suggested PCR programs\n",
    "\n",
    "For the [amplification](#PCR) of promoter, gene and terminator."
   ]
  },
  {
   "cell_type": "code",
   "execution_count": 27,
   "id": "f7870905",
   "metadata": {
    "execution": {
     "iopub.execute_input": "2022-11-25T11:40:11.040594Z",
     "iopub.status.busy": "2022-11-25T11:40:11.040287Z",
     "iopub.status.idle": "2022-11-25T11:40:11.045241Z",
     "shell.execute_reply": "2022-11-25T11:40:11.044285Z"
    }
   },
   "outputs": [
    {
     "name": "stdout",
     "output_type": "stream",
     "text": [
      "577 567\n",
      "|95°C|95°C               |    |tmf:64.6\n",
      "|____|_____          72°C|72°C|tmr:69.7\n",
      "|3min|30s  \\ 57.1°C _____|____|45s/kb\n",
      "|    |      \\______/ 0:41|5min|GC 38%\n",
      "|    |       30s         |    |930bp\n"
     ]
    }
   ],
   "source": [
    "print(prom.forward_primer.name, prom.reverse_primer.name)\n",
    "print(prom.program())"
   ]
  },
  {
   "cell_type": "code",
   "execution_count": 28,
   "id": "4afc774c",
   "metadata": {
    "execution": {
     "iopub.execute_input": "2022-11-25T11:40:11.049827Z",
     "iopub.status.busy": "2022-11-25T11:40:11.049189Z",
     "iopub.status.idle": "2022-11-25T11:40:11.055158Z",
     "shell.execute_reply": "2022-11-25T11:40:11.054039Z"
    }
   },
   "outputs": [
    {
     "name": "stdout",
     "output_type": "stream",
     "text": [
      "468 467\n",
      "|95°C|95°C               |    |tmf:76.9\n",
      "|____|_____          72°C|72°C|tmr:67.9\n",
      "|3min|30s  \\ 59.1°C _____|____|45s/kb\n",
      "|    |      \\______/ 1:20|5min|GC 41%\n",
      "|    |       30s         |    |1788bp\n"
     ]
    }
   ],
   "source": [
    "print(gene.forward_primer.name, gene.reverse_primer.name)\n",
    "print(gene.program())"
   ]
  },
  {
   "cell_type": "code",
   "execution_count": 29,
   "id": "96570560",
   "metadata": {
    "execution": {
     "iopub.execute_input": "2022-11-25T11:40:11.059193Z",
     "iopub.status.busy": "2022-11-25T11:40:11.058913Z",
     "iopub.status.idle": "2022-11-25T11:40:11.064345Z",
     "shell.execute_reply": "2022-11-25T11:40:11.063684Z"
    }
   },
   "outputs": [
    {
     "name": "stdout",
     "output_type": "stream",
     "text": [
      "568 578\n",
      "|95°C|95°C               |    |tmf:66.1\n",
      "|____|_____          72°C|72°C|tmr:65.0\n",
      "|3min|30s  \\ 57.6°C _____|____|45s/kb\n",
      "|    |      \\______/ 1:00|5min|GC 39%\n",
      "|    |       30s         |    |1339bp\n"
     ]
    }
   ],
   "source": [
    "print(term.forward_primer.name, term.reverse_primer.name)\n",
    "print(term.program())"
   ]
  }
 ],
 "metadata": {
  "jupytext": {
   "main_language": "python",
   "text_representation": {
    "extension": ".py",
    "format_name": "percent",
    "format_version": "1.3",
    "jupytext_version": "1.14.0"
   }
  },
  "language_info": {
   "codemirror_mode": {
    "name": "ipython",
    "version": 3
   },
   "file_extension": ".py",
   "mimetype": "text/x-python",
   "name": "python",
   "nbconvert_exporter": "python",
   "pygments_lexer": "ipython3",
   "version": "3.10.6"
  }
 },
 "nbformat": 4,
 "nbformat_minor": 5
}
