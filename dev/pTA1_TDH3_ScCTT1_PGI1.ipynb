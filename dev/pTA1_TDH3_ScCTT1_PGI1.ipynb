{
 "cells": [
  {
   "cell_type": "markdown",
   "id": "ef114a55",
   "metadata": {},
   "source": [
    "# pTA1_TDH3_ScCTT1_PGI1\n",
    "\n",
    "This notebook describes the assembly of the\n",
    "[_Saccharomyces cerevisiae_](http://www.yeastgenome.org)\n",
    "transcriptional unit vector.\n",
    "\n",
    "It is made from a linear vector fragment and three PCR products:\n",
    "\n",
    "- a linearized pTA1 vector for maintenance in _S. cerevisiae_ or _E. coli_ (red dashed line in figure below)\n",
    "- a promoter PCR product from the pYPKa_Z_TDH3 vector\n",
    "- a gene PCR product from the pYPKa_A_ScCTT1\n",
    "- a terminator PCR product from the pYPKa_E_PGI1 vector\n",
    "\n",
    "The four linear DNA fragments are joined by _in-vivo_ homologous recombination in a\n",
    "[_Saccharomyces cerevisiae_](http://wiki.yeastgenome.org/index.php/Commonly_used_strains) strain.\n",
    "\n",
    "![tu](tu.png \"tu\")\n",
    "\n",
    "A part of the [pydna](https://pypi.python.org/pypi/pydna/) package is imported in the code cell below."
   ]
  },
  {
   "cell_type": "code",
   "execution_count": 1,
   "id": "f38859bd",
   "metadata": {
    "execution": {
     "iopub.execute_input": "2022-12-05T17:32:27.484866Z",
     "iopub.status.busy": "2022-12-05T17:32:27.484297Z",
     "iopub.status.idle": "2022-12-05T17:32:27.826551Z",
     "shell.execute_reply": "2022-12-05T17:32:27.825945Z"
    }
   },
   "outputs": [],
   "source": [
    "from pydna.parsers import parse_primers\n",
    "from pydna.readers import read\n",
    "from pydna.amplify import pcr\n",
    "from pydna.assembly import Assembly"
   ]
  },
  {
   "cell_type": "markdown",
   "id": "13e642a2",
   "metadata": {},
   "source": [
    "The Yeast Pathway Kit [standard primers](standard_primers.fasta) are read into a dictionary in the code cell below."
   ]
  },
  {
   "cell_type": "code",
   "execution_count": 2,
   "id": "ba01e25c",
   "metadata": {
    "execution": {
     "iopub.execute_input": "2022-12-05T17:32:27.829649Z",
     "iopub.status.busy": "2022-12-05T17:32:27.829339Z",
     "iopub.status.idle": "2022-12-05T17:32:27.841818Z",
     "shell.execute_reply": "2022-12-05T17:32:27.841096Z"
    }
   },
   "outputs": [],
   "source": [
    "p = {x.name: x for x in parse_primers(\"standard_primers.fasta\")}"
   ]
  },
  {
   "cell_type": "markdown",
   "id": "41ffae2e",
   "metadata": {},
   "source": [
    "The backbone vector [pTA1](pTA1.gb) is read from a local file in the code cell below."
   ]
  },
  {
   "cell_type": "code",
   "execution_count": 3,
   "id": "5a48d2bb",
   "metadata": {
    "execution": {
     "iopub.execute_input": "2022-12-05T17:32:27.845670Z",
     "iopub.status.busy": "2022-12-05T17:32:27.845401Z",
     "iopub.status.idle": "2022-12-05T17:32:27.859208Z",
     "shell.execute_reply": "2022-12-05T17:32:27.858559Z"
    }
   },
   "outputs": [],
   "source": [
    "backbone = read(\"pTA1.gb\")"
   ]
  },
  {
   "cell_type": "markdown",
   "id": "27934ad0",
   "metadata": {},
   "source": [
    "The backbone vector is linearized by digestion with [FspAI](https://www.google.com/search?q=FspAI)."
   ]
  },
  {
   "cell_type": "code",
   "execution_count": 4,
   "id": "09b27a1c",
   "metadata": {
    "execution": {
     "iopub.execute_input": "2022-12-05T17:32:27.862170Z",
     "iopub.status.busy": "2022-12-05T17:32:27.861964Z",
     "iopub.status.idle": "2022-12-05T17:32:27.865548Z",
     "shell.execute_reply": "2022-12-05T17:32:27.864875Z"
    }
   },
   "outputs": [],
   "source": [
    "from Bio.Restriction import FspAI"
   ]
  },
  {
   "cell_type": "code",
   "execution_count": 5,
   "id": "c4b0034a",
   "metadata": {
    "execution": {
     "iopub.execute_input": "2022-12-05T17:32:27.868664Z",
     "iopub.status.busy": "2022-12-05T17:32:27.868330Z",
     "iopub.status.idle": "2022-12-05T17:32:27.876126Z",
     "shell.execute_reply": "2022-12-05T17:32:27.875075Z"
    }
   },
   "outputs": [],
   "source": [
    "linear_backbone = backbone.linearize(FspAI)"
   ]
  },
  {
   "cell_type": "markdown",
   "id": "9b0d3b5f",
   "metadata": {},
   "source": [
    "The pYPKa derived _E. coli_ plasmids containing \n",
    "- [promoter](pYPKa_Z_TDH3.gb)\n",
    "- [gene](pYPKa_A_ScCTT1.gb)\n",
    "- [terminator](pYPKa_E_PGI1.gb)\n",
    "\n",
    "are read into three variables below."
   ]
  },
  {
   "cell_type": "code",
   "execution_count": 6,
   "id": "8244da7c",
   "metadata": {
    "execution": {
     "iopub.execute_input": "2022-12-05T17:32:27.880617Z",
     "iopub.status.busy": "2022-12-05T17:32:27.880122Z",
     "iopub.status.idle": "2022-12-05T17:32:27.897424Z",
     "shell.execute_reply": "2022-12-05T17:32:27.896795Z"
    }
   },
   "outputs": [],
   "source": [
    "promoter_template   = read(\"pYPKa_Z_TDH3.gb\")\n",
    "gene_template       = read(\"pYPKa_A_ScCTT1.gb\")\n",
    "terminator_template = read(\"pYPKa_E_PGI1.gb\")"
   ]
  },
  {
   "cell_type": "markdown",
   "id": "eb9dde2f",
   "metadata": {
    "lines_to_next_cell": 0
   },
   "source": [
    "### PCR\n",
    "Three DNA fragments are PCR amplified using [standard primers](standard_primers.fasta).\n",
    "\n",
    "[Suggested PCR programs](#Suggested-PCR-programs) can be found at the end of this document."
   ]
  },
  {
   "cell_type": "code",
   "execution_count": 7,
   "id": "e42f1630",
   "metadata": {
    "execution": {
     "iopub.execute_input": "2022-12-05T17:32:27.900643Z",
     "iopub.status.busy": "2022-12-05T17:32:27.900341Z",
     "iopub.status.idle": "2022-12-05T17:32:27.904074Z",
     "shell.execute_reply": "2022-12-05T17:32:27.903432Z"
    }
   },
   "outputs": [],
   "source": [
    "\n",
    "fp_prom = p['577_crp585-557']\n",
    "rp_prom = p['567_pCAPsAjiIF']\n",
    "fp_gene = p['468_pCAPs_release_fw']\n",
    "rp_gene = p['467_pCAPs_release_re']\n",
    "fp_term = p['568_pCAPsAjiIR']\n",
    "rp_term = p['578_crp42-70']"
   ]
  },
  {
   "cell_type": "code",
   "execution_count": 8,
   "id": "0928765b",
   "metadata": {
    "execution": {
     "iopub.execute_input": "2022-12-05T17:32:27.906797Z",
     "iopub.status.busy": "2022-12-05T17:32:27.906564Z",
     "iopub.status.idle": "2022-12-05T17:32:27.936079Z",
     "shell.execute_reply": "2022-12-05T17:32:27.935557Z"
    }
   },
   "outputs": [],
   "source": [
    "prom = pcr(fp_prom, rp_prom, promoter_template)\n",
    "gene = pcr(fp_gene, rp_gene, gene_template)\n",
    "term = pcr(fp_term, rp_term, terminator_template)"
   ]
  },
  {
   "cell_type": "code",
   "execution_count": 9,
   "id": "8717b7fe",
   "metadata": {
    "execution": {
     "iopub.execute_input": "2022-12-05T17:32:27.938913Z",
     "iopub.status.busy": "2022-12-05T17:32:27.938690Z",
     "iopub.status.idle": "2022-12-05T17:32:27.941793Z",
     "shell.execute_reply": "2022-12-05T17:32:27.941313Z"
    }
   },
   "outputs": [],
   "source": [
    "prom.name = \"TDH3\"\n",
    "gene.name = \"ScCTT1\"\n",
    "term.name = \"PGI1\""
   ]
  },
  {
   "cell_type": "markdown",
   "id": "2064c741",
   "metadata": {},
   "source": [
    "\n",
    "The fragments will be assembled by _in-vivo_ [homologous recombination](http://www.ncbi.nlm.nih.gov/pubmed/2828185):"
   ]
  },
  {
   "cell_type": "code",
   "execution_count": 10,
   "id": "b6f96e41",
   "metadata": {
    "execution": {
     "iopub.execute_input": "2022-12-05T17:32:27.945346Z",
     "iopub.status.busy": "2022-12-05T17:32:27.944637Z",
     "iopub.status.idle": "2022-12-05T17:32:28.433038Z",
     "shell.execute_reply": "2022-12-05T17:32:28.432382Z"
    }
   },
   "outputs": [
    {
     "data": {
      "text/plain": [
       "Assembly\n",
       "fragments..: 6175bp 930bp 1788bp 1339bp\n",
       "limit(bp)..: 31\n",
       "G.nodes....: 8\n",
       "algorithm..: common_sub_strings"
      ]
     },
     "execution_count": 10,
     "metadata": {},
     "output_type": "execute_result"
    }
   ],
   "source": [
    "asm = Assembly((linear_backbone, prom, gene, term), limit=31)\n",
    "asm"
   ]
  },
  {
   "cell_type": "markdown",
   "id": "be187040",
   "metadata": {},
   "source": [
    "The Assembly object above should normally indicate four fragments and eight nodes."
   ]
  },
  {
   "cell_type": "code",
   "execution_count": 11,
   "id": "c5a23809",
   "metadata": {
    "execution": {
     "iopub.execute_input": "2022-12-05T17:32:28.435591Z",
     "iopub.status.busy": "2022-12-05T17:32:28.435347Z",
     "iopub.status.idle": "2022-12-05T17:32:28.659425Z",
     "shell.execute_reply": "2022-12-05T17:32:28.658857Z"
    },
    "lines_to_next_cell": 0
   },
   "outputs": [
    {
     "data": {
      "text/plain": [
       "[Contig(o9760), Contig(o9760)]"
      ]
     },
     "execution_count": 11,
     "metadata": {},
     "output_type": "execute_result"
    }
   ],
   "source": [
    "candidates = asm.assemble_circular()\n",
    "candidates"
   ]
  },
  {
   "cell_type": "markdown",
   "id": "a0206609",
   "metadata": {},
   "source": [
    "There should normally be two candidates of equal size. These sequences should be identical."
   ]
  },
  {
   "cell_type": "code",
   "execution_count": 12,
   "id": "bdfed3f9",
   "metadata": {
    "execution": {
     "iopub.execute_input": "2022-12-05T17:32:28.662258Z",
     "iopub.status.busy": "2022-12-05T17:32:28.661835Z",
     "iopub.status.idle": "2022-12-05T17:32:28.664788Z",
     "shell.execute_reply": "2022-12-05T17:32:28.664099Z"
    },
    "lines_to_next_cell": 0
   },
   "outputs": [],
   "source": [
    "candidate, *rest = candidates"
   ]
  },
  {
   "cell_type": "code",
   "execution_count": 13,
   "id": "f20355a0",
   "metadata": {
    "execution": {
     "iopub.execute_input": "2022-12-05T17:32:28.667367Z",
     "iopub.status.busy": "2022-12-05T17:32:28.667109Z",
     "iopub.status.idle": "2022-12-05T17:32:28.689756Z",
     "shell.execute_reply": "2022-12-05T17:32:28.689177Z"
    },
    "lines_to_next_cell": 0
   },
   "outputs": [
    {
     "data": {
      "text/plain": [
       "True"
      ]
     },
     "execution_count": 13,
     "metadata": {},
     "output_type": "execute_result"
    }
   ],
   "source": [
    "candidate.cseguid() == rest[0].cseguid()"
   ]
  },
  {
   "cell_type": "code",
   "execution_count": 14,
   "id": "1f250ed2",
   "metadata": {
    "execution": {
     "iopub.execute_input": "2022-12-05T17:32:28.692612Z",
     "iopub.status.busy": "2022-12-05T17:32:28.692326Z",
     "iopub.status.idle": "2022-12-05T17:32:28.696885Z",
     "shell.execute_reply": "2022-12-05T17:32:28.696178Z"
    },
    "lines_to_next_cell": 0
   },
   "outputs": [
    {
     "data": {
      "text/plain": [
       " -|pTA1_lin|124\n",
       "|           \\/\n",
       "|           /\\\n",
       "|           124|TDH3|50\n",
       "|                    \\/\n",
       "|                    /\\\n",
       "|                    50|ScCTT1|37\n",
       "|                              \\/\n",
       "|                              /\\\n",
       "|                              37|PGI1|242\n",
       "|                                      \\/\n",
       "|                                      /\\\n",
       "|                                      242-\n",
       "|                                         |\n",
       " -----------------------------------------"
      ]
     },
     "execution_count": 14,
     "metadata": {},
     "output_type": "execute_result"
    }
   ],
   "source": [
    "candidate.figure()"
   ]
  },
  {
   "cell_type": "markdown",
   "id": "62baa9f7",
   "metadata": {},
   "source": [
    "The candidate vector is synchronized to the 577 primer. This means that\n",
    "the plasmid origin is shifted so that it matches the backbone vector."
   ]
  },
  {
   "cell_type": "code",
   "execution_count": 15,
   "id": "a6c62629",
   "metadata": {
    "execution": {
     "iopub.execute_input": "2022-12-05T17:32:28.700476Z",
     "iopub.status.busy": "2022-12-05T17:32:28.700156Z",
     "iopub.status.idle": "2022-12-05T17:32:29.067667Z",
     "shell.execute_reply": "2022-12-05T17:32:29.067050Z"
    }
   },
   "outputs": [],
   "source": [
    "result = candidate.synced(fp_prom)"
   ]
  },
  {
   "cell_type": "markdown",
   "id": "a531ac68",
   "metadata": {},
   "source": [
    "### Diagnostic PCR confirmation\n",
    "\n",
    "The structure of the final vector is confirmed by two\n",
    "separate PCR reactions, one for the promoter and gene and\n",
    "one for the gene and terminator.\n",
    "\n",
    "PCR using standard primers 577 and 467 to amplify promoter and gene."
   ]
  },
  {
   "cell_type": "code",
   "execution_count": 16,
   "id": "b4eced25",
   "metadata": {
    "execution": {
     "iopub.execute_input": "2022-12-05T17:32:29.070470Z",
     "iopub.status.busy": "2022-12-05T17:32:29.070250Z",
     "iopub.status.idle": "2022-12-05T17:32:29.093183Z",
     "shell.execute_reply": "2022-12-05T17:32:29.092577Z"
    }
   },
   "outputs": [],
   "source": [
    "product = pcr( fp_prom, rp_gene, result)"
   ]
  },
  {
   "cell_type": "markdown",
   "id": "8e4dc3d8",
   "metadata": {},
   "source": [
    "A correct clone should give this size in base pairs:"
   ]
  },
  {
   "cell_type": "code",
   "execution_count": 17,
   "id": "2799b8a5",
   "metadata": {
    "execution": {
     "iopub.execute_input": "2022-12-05T17:32:29.096077Z",
     "iopub.status.busy": "2022-12-05T17:32:29.095855Z",
     "iopub.status.idle": "2022-12-05T17:32:29.099144Z",
     "shell.execute_reply": "2022-12-05T17:32:29.098570Z"
    }
   },
   "outputs": [
    {
     "name": "stdout",
     "output_type": "stream",
     "text": [
      "2668\n"
     ]
    }
   ],
   "source": [
    "print(len(product))"
   ]
  },
  {
   "cell_type": "markdown",
   "id": "35ef21d9",
   "metadata": {},
   "source": [
    "If the promoter is missing from the assembly, the PCR product will have this size in base pairs:"
   ]
  },
  {
   "cell_type": "code",
   "execution_count": 18,
   "id": "e16fc870",
   "metadata": {
    "execution": {
     "iopub.execute_input": "2022-12-05T17:32:29.101659Z",
     "iopub.status.busy": "2022-12-05T17:32:29.101417Z",
     "iopub.status.idle": "2022-12-05T17:32:29.105603Z",
     "shell.execute_reply": "2022-12-05T17:32:29.104654Z"
    }
   },
   "outputs": [
    {
     "name": "stdout",
     "output_type": "stream",
     "text": [
      "1738\n"
     ]
    }
   ],
   "source": [
    "print(len(product) - len(prom))"
   ]
  },
  {
   "cell_type": "markdown",
   "id": "b3ab6d05",
   "metadata": {},
   "source": [
    "If the gene is missing from the assembly, the PCR product will have this size in base pairs:"
   ]
  },
  {
   "cell_type": "code",
   "execution_count": 19,
   "id": "a7272f45",
   "metadata": {
    "execution": {
     "iopub.execute_input": "2022-12-05T17:32:29.109627Z",
     "iopub.status.busy": "2022-12-05T17:32:29.109322Z",
     "iopub.status.idle": "2022-12-05T17:32:29.113433Z",
     "shell.execute_reply": "2022-12-05T17:32:29.112704Z"
    }
   },
   "outputs": [
    {
     "name": "stdout",
     "output_type": "stream",
     "text": [
      "880\n"
     ]
    }
   ],
   "source": [
    "print(len(product) - len(gene))"
   ]
  },
  {
   "cell_type": "markdown",
   "id": "8272cc28",
   "metadata": {},
   "source": [
    "PCR using standard primers 468 and 578 to amplify gene and terminator."
   ]
  },
  {
   "cell_type": "code",
   "execution_count": 20,
   "id": "9392d2ae",
   "metadata": {
    "execution": {
     "iopub.execute_input": "2022-12-05T17:32:29.116426Z",
     "iopub.status.busy": "2022-12-05T17:32:29.116201Z",
     "iopub.status.idle": "2022-12-05T17:32:29.142615Z",
     "shell.execute_reply": "2022-12-05T17:32:29.142049Z"
    }
   },
   "outputs": [],
   "source": [
    "product2 = pcr( fp_gene, rp_term, result)"
   ]
  },
  {
   "cell_type": "markdown",
   "id": "be90d9a2",
   "metadata": {},
   "source": [
    "A correct clone should give this size:"
   ]
  },
  {
   "cell_type": "code",
   "execution_count": 21,
   "id": "e5f6155d",
   "metadata": {
    "execution": {
     "iopub.execute_input": "2022-12-05T17:32:29.145471Z",
     "iopub.status.busy": "2022-12-05T17:32:29.145213Z",
     "iopub.status.idle": "2022-12-05T17:32:29.149467Z",
     "shell.execute_reply": "2022-12-05T17:32:29.148404Z"
    }
   },
   "outputs": [
    {
     "name": "stdout",
     "output_type": "stream",
     "text": [
      "3090\n"
     ]
    }
   ],
   "source": [
    "print(len(product2))"
   ]
  },
  {
   "cell_type": "markdown",
   "id": "a579d1db",
   "metadata": {},
   "source": [
    "If the gene is missing from the assembly, the PCR product will have this size in base pairs:"
   ]
  },
  {
   "cell_type": "code",
   "execution_count": 22,
   "id": "19a344de",
   "metadata": {
    "execution": {
     "iopub.execute_input": "2022-12-05T17:32:29.153507Z",
     "iopub.status.busy": "2022-12-05T17:32:29.153029Z",
     "iopub.status.idle": "2022-12-05T17:32:29.156383Z",
     "shell.execute_reply": "2022-12-05T17:32:29.155863Z"
    }
   },
   "outputs": [
    {
     "name": "stdout",
     "output_type": "stream",
     "text": [
      "1302\n"
     ]
    }
   ],
   "source": [
    "print(len(product2) - len(gene))"
   ]
  },
  {
   "cell_type": "markdown",
   "id": "7a1e879a",
   "metadata": {},
   "source": [
    "If the terminator is missing from the assembly, the PCR product will have this size in base pairs:"
   ]
  },
  {
   "cell_type": "code",
   "execution_count": 23,
   "id": "c4388e6b",
   "metadata": {
    "execution": {
     "iopub.execute_input": "2022-12-05T17:32:29.159001Z",
     "iopub.status.busy": "2022-12-05T17:32:29.158739Z",
     "iopub.status.idle": "2022-12-05T17:32:29.163460Z",
     "shell.execute_reply": "2022-12-05T17:32:29.162476Z"
    }
   },
   "outputs": [
    {
     "name": "stdout",
     "output_type": "stream",
     "text": [
      "1751\n"
     ]
    }
   ],
   "source": [
    "print(len(product2) - len(term))"
   ]
  },
  {
   "cell_type": "markdown",
   "id": "0be5bcb4",
   "metadata": {},
   "source": [
    "The cseguid checksum for the resulting plasmid is calculated for future reference.\n",
    "The [cseguid checksum](http://pydna.readthedocs.org/en/latest/pydna.html#pydna.utils.cseguid)\n",
    "uniquely identifies a circular double stranded sequence."
   ]
  },
  {
   "cell_type": "code",
   "execution_count": 24,
   "id": "be0a2a97",
   "metadata": {
    "execution": {
     "iopub.execute_input": "2022-12-05T17:32:29.166781Z",
     "iopub.status.busy": "2022-12-05T17:32:29.166295Z",
     "iopub.status.idle": "2022-12-05T17:32:29.178590Z",
     "shell.execute_reply": "2022-12-05T17:32:29.177819Z"
    }
   },
   "outputs": [
    {
     "name": "stdout",
     "output_type": "stream",
     "text": [
      "zUoXE3cH8ra6I2oFgwwR8BxoTlw\n"
     ]
    }
   ],
   "source": [
    "print(result.cseguid())"
   ]
  },
  {
   "cell_type": "markdown",
   "id": "85451ca3",
   "metadata": {},
   "source": [
    "The file name is based on the promoter, gene and terminator designations."
   ]
  },
  {
   "cell_type": "code",
   "execution_count": 25,
   "id": "4dbc6e95",
   "metadata": {
    "execution": {
     "iopub.execute_input": "2022-12-05T17:32:29.181823Z",
     "iopub.status.busy": "2022-12-05T17:32:29.181529Z",
     "iopub.status.idle": "2022-12-05T17:32:29.185008Z",
     "shell.execute_reply": "2022-12-05T17:32:29.184354Z"
    }
   },
   "outputs": [],
   "source": [
    "result.locus = \"TU:ScCTT1\"[:16]\n",
    "result.definition = \"pTA1_TDH3_ScCTT1_PGI1\""
   ]
  },
  {
   "cell_type": "markdown",
   "id": "1a283293",
   "metadata": {},
   "source": [
    "Sequence is stamped with cseguid checksum. This can be used to verify the\n",
    "integrity of the sequence file."
   ]
  },
  {
   "cell_type": "code",
   "execution_count": 26,
   "id": "6a7c0a57",
   "metadata": {
    "execution": {
     "iopub.execute_input": "2022-12-05T17:32:29.188670Z",
     "iopub.status.busy": "2022-12-05T17:32:29.188172Z",
     "iopub.status.idle": "2022-12-05T17:32:29.200935Z",
     "shell.execute_reply": "2022-12-05T17:32:29.200151Z"
    }
   },
   "outputs": [
    {
     "data": {
      "text/plain": [
       "zUoXE3cH8ra6I2oFgwwR8BxoTlw"
      ]
     },
     "execution_count": 26,
     "metadata": {},
     "output_type": "execute_result"
    }
   ],
   "source": [
    "result.stamp(\"cSEGUID\")"
   ]
  },
  {
   "cell_type": "markdown",
   "id": "88491319",
   "metadata": {},
   "source": [
    "Write sequence to a local file."
   ]
  },
  {
   "cell_type": "code",
   "execution_count": 27,
   "id": "e515fdd0",
   "metadata": {
    "execution": {
     "iopub.execute_input": "2022-12-05T17:32:29.203999Z",
     "iopub.status.busy": "2022-12-05T17:32:29.203747Z",
     "iopub.status.idle": "2022-12-05T17:32:29.214366Z",
     "shell.execute_reply": "2022-12-05T17:32:29.213767Z"
    }
   },
   "outputs": [
    {
     "data": {
      "text/html": [
       "<font face=monospace><a href='pTA1_TDH3_ScCTT1_PGI1.gb' target='_blank'>pTA1_TDH3_ScCTT1_PGI1.gb</a></font><br>"
      ]
     },
     "metadata": {},
     "output_type": "display_data"
    }
   ],
   "source": [
    "result.write(f\"{result.definition}.gb\")"
   ]
  },
  {
   "cell_type": "markdown",
   "id": "a18cf91f",
   "metadata": {
    "lines_to_next_cell": 0
   },
   "source": [
    "### Suggested PCR programs\n",
    "\n",
    "For the [amplification](#PCR) of promoter, gene and terminator."
   ]
  },
  {
   "cell_type": "code",
   "execution_count": 28,
   "id": "a746f1e8",
   "metadata": {
    "execution": {
     "iopub.execute_input": "2022-12-05T17:32:29.217120Z",
     "iopub.status.busy": "2022-12-05T17:32:29.216826Z",
     "iopub.status.idle": "2022-12-05T17:32:29.220762Z",
     "shell.execute_reply": "2022-12-05T17:32:29.220251Z"
    }
   },
   "outputs": [
    {
     "name": "stdout",
     "output_type": "stream",
     "text": [
      "577_crp585-557 567_pCAPsAjiIF\n",
      "|95°C|95°C               |    |tmf:64.6\n",
      "|____|_____          72°C|72°C|tmr:69.7\n",
      "|3min|30s  \\ 57.1°C _____|____|45s/kb\n",
      "|    |      \\______/ 0:41|5min|GC 38%\n",
      "|    |       30s         |    |930bp\n"
     ]
    }
   ],
   "source": [
    "print(prom.forward_primer.name, prom.reverse_primer.name)\n",
    "print(prom.program())"
   ]
  },
  {
   "cell_type": "code",
   "execution_count": 29,
   "id": "a9124321",
   "metadata": {
    "execution": {
     "iopub.execute_input": "2022-12-05T17:32:29.223164Z",
     "iopub.status.busy": "2022-12-05T17:32:29.222881Z",
     "iopub.status.idle": "2022-12-05T17:32:29.228021Z",
     "shell.execute_reply": "2022-12-05T17:32:29.227257Z"
    }
   },
   "outputs": [
    {
     "name": "stdout",
     "output_type": "stream",
     "text": [
      "468_pCAPs_release_fw 467_pCAPs_release_re\n",
      "|95°C|95°C               |    |tmf:76.9\n",
      "|____|_____          72°C|72°C|tmr:67.9\n",
      "|3min|30s  \\ 59.1°C _____|____|45s/kb\n",
      "|    |      \\______/ 1:20|5min|GC 41%\n",
      "|    |       30s         |    |1788bp\n"
     ]
    }
   ],
   "source": [
    "print(gene.forward_primer.name, gene.reverse_primer.name)\n",
    "print(gene.program())"
   ]
  },
  {
   "cell_type": "code",
   "execution_count": 30,
   "id": "c5f1b8ec",
   "metadata": {
    "execution": {
     "iopub.execute_input": "2022-12-05T17:32:29.231116Z",
     "iopub.status.busy": "2022-12-05T17:32:29.230764Z",
     "iopub.status.idle": "2022-12-05T17:32:29.235861Z",
     "shell.execute_reply": "2022-12-05T17:32:29.235004Z"
    }
   },
   "outputs": [
    {
     "name": "stdout",
     "output_type": "stream",
     "text": [
      "568_pCAPsAjiIR 578_crp42-70\n",
      "|95°C|95°C               |    |tmf:66.1\n",
      "|____|_____          72°C|72°C|tmr:65.0\n",
      "|3min|30s  \\ 57.6°C _____|____|45s/kb\n",
      "|    |      \\______/ 1:00|5min|GC 39%\n",
      "|    |       30s         |    |1339bp\n"
     ]
    }
   ],
   "source": [
    "print(term.forward_primer.name, term.reverse_primer.name)\n",
    "print(term.program())"
   ]
  }
 ],
 "metadata": {
  "jupytext": {
   "main_language": "python",
   "text_representation": {
    "extension": ".py",
    "format_name": "percent",
    "format_version": "1.3",
    "jupytext_version": "1.14.0"
   }
  },
  "language_info": {
   "codemirror_mode": {
    "name": "ipython",
    "version": 3
   },
   "file_extension": ".py",
   "mimetype": "text/x-python",
   "name": "python",
   "nbconvert_exporter": "python",
   "pygments_lexer": "ipython3",
   "version": "3.11.0"
  }
 },
 "nbformat": 4,
 "nbformat_minor": 5
}
