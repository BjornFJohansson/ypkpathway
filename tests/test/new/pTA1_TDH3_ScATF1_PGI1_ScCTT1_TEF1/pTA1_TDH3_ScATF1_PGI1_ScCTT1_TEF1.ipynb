{
 "cells": [
  {
   "cell_type": "markdown",
   "id": "6caac481",
   "metadata": {
    "lines_to_next_cell": 0
   },
   "source": [
    "# pTA1_TDH3_ScATF1_PGI1_ScCTT1_TEF1\n",
    "\n",
    "This notebook describes the assembly of 2 transcriptional units\n",
    "(single gene expression) vectors into a pathway.\n",
    "\n",
    "Jupyter notebooks describing the single gene expression vectors are linked\n",
    "at the end of this document.\n",
    "Specific primers needed are also listed.\n",
    "\n",
    "![pathway with N genes](pw.png \"pathway with N genes\")"
   ]
  },
  {
   "cell_type": "code",
   "execution_count": 1,
   "id": "ea0ec00c",
   "metadata": {
    "execution": {
     "iopub.execute_input": "2022-12-21T17:59:43.340950Z",
     "iopub.status.busy": "2022-12-21T17:59:43.340409Z",
     "iopub.status.idle": "2022-12-21T17:59:43.711496Z",
     "shell.execute_reply": "2022-12-21T17:59:43.710751Z"
    }
   },
   "outputs": [],
   "source": [
    "from pydna.parsers import parse_primers\n",
    "from pydna.readers import read\n",
    "from pydna.amplify import pcr\n",
    "from pydna.assembly import Assembly\n",
    "from IPython.display import display\n",
    "from IPython.display import Markdown\n",
    "from pathlib import Path"
   ]
  },
  {
   "cell_type": "markdown",
   "id": "e70e626b",
   "metadata": {},
   "source": [
    "The first cassette in the pathway is amplified with standard\n",
    "primers 577 and 778, the last with\n",
    "1123 and 578 and all others with 1123 and 778.\n",
    "Standard primers are listed [here](standard_primers.fasta)."
   ]
  },
  {
   "cell_type": "code",
   "execution_count": 2,
   "id": "ba714642",
   "metadata": {
    "execution": {
     "iopub.execute_input": "2022-12-21T17:59:43.716302Z",
     "iopub.status.busy": "2022-12-21T17:59:43.715788Z",
     "iopub.status.idle": "2022-12-21T17:59:43.732551Z",
     "shell.execute_reply": "2022-12-21T17:59:43.731798Z"
    }
   },
   "outputs": [],
   "source": [
    "p = {x.name: x for x in parse_primers(\"standard_primers.fasta\")}"
   ]
  },
  {
   "cell_type": "markdown",
   "id": "a06bd31a",
   "metadata": {},
   "source": [
    "Restriction enzymes are imported from the Biopython package."
   ]
  },
  {
   "cell_type": "code",
   "execution_count": 3,
   "id": "3154a569",
   "metadata": {
    "execution": {
     "iopub.execute_input": "2022-12-21T17:59:43.736923Z",
     "iopub.status.busy": "2022-12-21T17:59:43.736531Z",
     "iopub.status.idle": "2022-12-21T17:59:43.741103Z",
     "shell.execute_reply": "2022-12-21T17:59:43.740168Z"
    }
   },
   "outputs": [],
   "source": [
    "from Bio.Restriction import FspAI, NotI, PacI"
   ]
  },
  {
   "cell_type": "markdown",
   "id": "21b20434",
   "metadata": {},
   "source": [
    "The backbone vector is linearized by digestion\n",
    "with [FspAI](https://www.google.com/search?q=FspAI)."
   ]
  },
  {
   "cell_type": "code",
   "execution_count": 4,
   "id": "e602dffe",
   "metadata": {
    "execution": {
     "iopub.execute_input": "2022-12-21T17:59:43.746173Z",
     "iopub.status.busy": "2022-12-21T17:59:43.745511Z",
     "iopub.status.idle": "2022-12-21T17:59:43.759219Z",
     "shell.execute_reply": "2022-12-21T17:59:43.758504Z"
    }
   },
   "outputs": [],
   "source": [
    "backbone = read(\"pTA1.gb\")"
   ]
  },
  {
   "cell_type": "markdown",
   "id": "df866db7",
   "metadata": {},
   "source": [
    "The cassette__pcr_products variable holds the list of expression\n",
    "cassette PCR products fragments to be assembled."
   ]
  },
  {
   "cell_type": "code",
   "execution_count": 5,
   "id": "42ec926b",
   "metadata": {
    "execution": {
     "iopub.execute_input": "2022-12-21T17:59:43.762541Z",
     "iopub.status.busy": "2022-12-21T17:59:43.762290Z",
     "iopub.status.idle": "2022-12-21T17:59:43.765450Z",
     "shell.execute_reply": "2022-12-21T17:59:43.764777Z"
    }
   },
   "outputs": [],
   "source": [
    "cassette_pcr_products = []"
   ]
  },
  {
   "cell_type": "markdown",
   "id": "f973158d",
   "metadata": {},
   "source": [
    "The expression cassettes comes from a series of single gene expression\n",
    "vectors held in the template_vectors list."
   ]
  },
  {
   "cell_type": "code",
   "execution_count": 6,
   "id": "45a07c5a",
   "metadata": {
    "execution": {
     "iopub.execute_input": "2022-12-21T17:59:43.770711Z",
     "iopub.status.busy": "2022-12-21T17:59:43.770211Z",
     "iopub.status.idle": "2022-12-21T17:59:43.775448Z",
     "shell.execute_reply": "2022-12-21T17:59:43.774489Z"
    },
    "lines_to_next_cell": 0
   },
   "outputs": [],
   "source": [
    "cassette_vectors = (\"\"\"\n",
    "pTA9_TDH3_ScATF1_PGI1.gb\n",
    "pTA9_PGI1_ScCTT1_TEF1.gb\n",
    "\"\"\").split()"
   ]
  },
  {
   "cell_type": "code",
   "execution_count": 7,
   "id": "ce1f70ba",
   "metadata": {
    "execution": {
     "iopub.execute_input": "2022-12-21T17:59:43.779789Z",
     "iopub.status.busy": "2022-12-21T17:59:43.779437Z",
     "iopub.status.idle": "2022-12-21T17:59:43.791013Z",
     "shell.execute_reply": "2022-12-21T17:59:43.790148Z"
    },
    "lines_to_next_cell": 0
   },
   "outputs": [
    {
     "data": {
      "text/plain": [
       "['pTA9_TDH3_ScATF1_PGI1.gb', 'pTA9_PGI1_ScCTT1_TEF1.gb']"
      ]
     },
     "execution_count": 7,
     "metadata": {},
     "output_type": "execute_result"
    }
   ],
   "source": [
    "cassette_vectors"
   ]
  },
  {
   "cell_type": "code",
   "execution_count": 8,
   "id": "d20fff45",
   "metadata": {
    "execution": {
     "iopub.execute_input": "2022-12-21T17:59:43.795574Z",
     "iopub.status.busy": "2022-12-21T17:59:43.795081Z",
     "iopub.status.idle": "2022-12-21T17:59:43.821728Z",
     "shell.execute_reply": "2022-12-21T17:59:43.820984Z"
    },
    "lines_to_next_cell": 0
   },
   "outputs": [],
   "source": [
    "template_vectors = [read(v) for v in cassette_vectors]"
   ]
  },
  {
   "cell_type": "code",
   "execution_count": 9,
   "id": "48df5dac",
   "metadata": {
    "execution": {
     "iopub.execute_input": "2022-12-21T17:59:43.824883Z",
     "iopub.status.busy": "2022-12-21T17:59:43.824588Z",
     "iopub.status.idle": "2022-12-21T17:59:43.832708Z",
     "shell.execute_reply": "2022-12-21T17:59:43.831662Z"
    },
    "lines_to_next_cell": 0
   },
   "outputs": [
    {
     "data": {
      "text/html": [
       "<a href='pTA9_TDH3_ScATF1_PGI1.gb' target='_blank'>pTA9_TDH3_ScATF1_PGI1.gb</a><br>"
      ],
      "text/plain": [
       "File(id_rc)(o9156)"
      ]
     },
     "metadata": {},
     "output_type": "display_data"
    },
    {
     "data": {
      "text/html": [
       "<a href='pTA9_PGI1_ScCTT1_TEF1.gb' target='_blank'>pTA9_PGI1_ScCTT1_TEF1.gb</a><br>"
      ],
      "text/plain": [
       "File(id_rc)(o9151)"
      ]
     },
     "metadata": {},
     "output_type": "display_data"
    }
   ],
   "source": [
    "for tv in template_vectors:\n",
    "    display(tv)"
   ]
  },
  {
   "cell_type": "markdown",
   "id": "73289309",
   "metadata": {},
   "source": [
    "The first cassette in the pathway.\n",
    "Suggested PCR conditions can be found at the end of this document."
   ]
  },
  {
   "cell_type": "code",
   "execution_count": 10,
   "id": "bd123301",
   "metadata": {
    "execution": {
     "iopub.execute_input": "2022-12-21T17:59:43.837508Z",
     "iopub.status.busy": "2022-12-21T17:59:43.836727Z",
     "iopub.status.idle": "2022-12-21T17:59:43.841686Z",
     "shell.execute_reply": "2022-12-21T17:59:43.840803Z"
    }
   },
   "outputs": [],
   "source": [
    "\n",
    "fp_first = p['577_crp585-557']\n",
    "fp = p['1123_New775']\n",
    "rp = p['778_tp_Eco32I_rev']\n",
    "rp_last = p['578_crp42-70']"
   ]
  },
  {
   "cell_type": "code",
   "execution_count": 11,
   "id": "8a235001",
   "metadata": {
    "execution": {
     "iopub.execute_input": "2022-12-21T17:59:43.845451Z",
     "iopub.status.busy": "2022-12-21T17:59:43.844868Z",
     "iopub.status.idle": "2022-12-21T17:59:43.868486Z",
     "shell.execute_reply": "2022-12-21T17:59:43.867808Z"
    }
   },
   "outputs": [],
   "source": [
    "cassette_pcr_products.append(pcr(fp_first, rp, template_vectors[0]))"
   ]
  },
  {
   "cell_type": "markdown",
   "id": "c6553a96",
   "metadata": {},
   "source": [
    "Intermediary cassettes"
   ]
  },
  {
   "cell_type": "code",
   "execution_count": 12,
   "id": "e8b66b35",
   "metadata": {
    "execution": {
     "iopub.execute_input": "2022-12-21T17:59:43.872259Z",
     "iopub.status.busy": "2022-12-21T17:59:43.871722Z",
     "iopub.status.idle": "2022-12-21T17:59:43.876556Z",
     "shell.execute_reply": "2022-12-21T17:59:43.875578Z"
    }
   },
   "outputs": [],
   "source": [
    "cassette_pcr_products.extend(pcr(fp, rp, v)\n",
    "                             for v in template_vectors[1:-1])"
   ]
  },
  {
   "cell_type": "markdown",
   "id": "063c2f96",
   "metadata": {},
   "source": [
    "The last cassette in the pathway."
   ]
  },
  {
   "cell_type": "code",
   "execution_count": 13,
   "id": "a163c27a",
   "metadata": {
    "execution": {
     "iopub.execute_input": "2022-12-21T17:59:43.882900Z",
     "iopub.status.busy": "2022-12-21T17:59:43.882472Z",
     "iopub.status.idle": "2022-12-21T17:59:43.903944Z",
     "shell.execute_reply": "2022-12-21T17:59:43.903254Z"
    }
   },
   "outputs": [],
   "source": [
    "cassette_pcr_products.append(pcr(fp, rp_last, template_vectors[-1]))"
   ]
  },
  {
   "cell_type": "markdown",
   "id": "86ad1e53",
   "metadata": {},
   "source": [
    "The cassettes are given names based on the tu cassette"
   ]
  },
  {
   "cell_type": "code",
   "execution_count": 14,
   "id": "20d43fc4",
   "metadata": {
    "execution": {
     "iopub.execute_input": "2022-12-21T17:59:43.907125Z",
     "iopub.status.busy": "2022-12-21T17:59:43.906862Z",
     "iopub.status.idle": "2022-12-21T17:59:43.912071Z",
     "shell.execute_reply": "2022-12-21T17:59:43.910734Z"
    }
   },
   "outputs": [
    {
     "name": "stdout",
     "output_type": "stream",
     "text": [
      "TDH3_ScATF1_PGI1\n",
      "PGI1_ScCTT1_TEF1\n"
     ]
    }
   ],
   "source": [
    "for cp, ve in zip(cassette_pcr_products, cassette_vectors):\n",
    "    cp.name = ve[:-3].split(\"_\", maxsplit=1)[1]\n",
    "    print(cp.name)"
   ]
  },
  {
   "cell_type": "markdown",
   "id": "893a7591",
   "metadata": {},
   "source": [
    "Cassettes and linear plasmid backbone are joined by homologous recombination"
   ]
  },
  {
   "cell_type": "code",
   "execution_count": 15,
   "id": "1d66c075",
   "metadata": {
    "execution": {
     "iopub.execute_input": "2022-12-21T17:59:43.917379Z",
     "iopub.status.busy": "2022-12-21T17:59:43.916860Z",
     "iopub.status.idle": "2022-12-21T17:59:44.654145Z",
     "shell.execute_reply": "2022-12-21T17:59:44.653413Z"
    }
   },
   "outputs": [
    {
     "data": {
      "text/plain": [
       "Assembly\n",
       "fragments..: 6175bp 3574bp 3702bp\n",
       "limit(bp)..: 110\n",
       "G.nodes....: 6\n",
       "algorithm..: common_sub_strings"
      ]
     },
     "execution_count": 15,
     "metadata": {},
     "output_type": "execute_result"
    }
   ],
   "source": [
    "asm = Assembly([backbone.linearize(FspAI)] + cassette_pcr_products,\n",
    "               limit=167-47-10)\n",
    "asm"
   ]
  },
  {
   "cell_type": "markdown",
   "id": "d97647b9",
   "metadata": {},
   "source": [
    "There should normally be two candidates of equal size.\n",
    "These sequences should be identical."
   ]
  },
  {
   "cell_type": "code",
   "execution_count": 16,
   "id": "c421772b",
   "metadata": {
    "execution": {
     "iopub.execute_input": "2022-12-21T17:59:44.657630Z",
     "iopub.status.busy": "2022-12-21T17:59:44.657178Z",
     "iopub.status.idle": "2022-12-21T17:59:44.863000Z",
     "shell.execute_reply": "2022-12-21T17:59:44.862192Z"
    },
    "lines_to_next_cell": 0
   },
   "outputs": [
    {
     "data": {
      "text/plain": [
       "[Contig(o12021), Contig(o12021)]"
      ]
     },
     "execution_count": 16,
     "metadata": {},
     "output_type": "execute_result"
    }
   ],
   "source": [
    "candidates = asm.assemble_circular()\n",
    "candidates"
   ]
  },
  {
   "cell_type": "code",
   "execution_count": 17,
   "id": "dcdb67ce",
   "metadata": {
    "execution": {
     "iopub.execute_input": "2022-12-21T17:59:44.866114Z",
     "iopub.status.busy": "2022-12-21T17:59:44.865789Z",
     "iopub.status.idle": "2022-12-21T17:59:44.869705Z",
     "shell.execute_reply": "2022-12-21T17:59:44.868756Z"
    },
    "lines_to_next_cell": 0
   },
   "outputs": [],
   "source": [
    "candidate, *rest = candidates"
   ]
  },
  {
   "cell_type": "code",
   "execution_count": 18,
   "id": "c19dc1f2",
   "metadata": {
    "execution": {
     "iopub.execute_input": "2022-12-21T17:59:44.874088Z",
     "iopub.status.busy": "2022-12-21T17:59:44.873729Z",
     "iopub.status.idle": "2022-12-21T17:59:44.899107Z",
     "shell.execute_reply": "2022-12-21T17:59:44.898408Z"
    },
    "lines_to_next_cell": 0
   },
   "outputs": [
    {
     "data": {
      "text/plain": [
       "True"
      ]
     },
     "execution_count": 18,
     "metadata": {},
     "output_type": "execute_result"
    }
   ],
   "source": [
    "candidate.cseguid() == rest[0].cseguid()"
   ]
  },
  {
   "cell_type": "markdown",
   "id": "d0704659",
   "metadata": {},
   "source": [
    "This assembly figure below shows how the fragments came together."
   ]
  },
  {
   "cell_type": "code",
   "execution_count": 19,
   "id": "46e6587b",
   "metadata": {
    "execution": {
     "iopub.execute_input": "2022-12-21T17:59:44.902279Z",
     "iopub.status.busy": "2022-12-21T17:59:44.901985Z",
     "iopub.status.idle": "2022-12-21T17:59:44.907170Z",
     "shell.execute_reply": "2022-12-21T17:59:44.905967Z"
    }
   },
   "outputs": [
    {
     "data": {
      "text/plain": [
       " -|pTA1_lin|124\n",
       "|           \\/\n",
       "|           /\\\n",
       "|           124|TDH3_ScATF1_PGI1|1013\n",
       "|                                \\/\n",
       "|                                /\\\n",
       "|                                1013|PGI1_ScCTT1_TEF1|242\n",
       "|                                                      \\/\n",
       "|                                                      /\\\n",
       "|                                                      242-\n",
       "|                                                         |\n",
       " ---------------------------------------------------------"
      ]
     },
     "execution_count": 19,
     "metadata": {},
     "output_type": "execute_result"
    }
   ],
   "source": [
    "candidate.figure()"
   ]
  },
  {
   "cell_type": "markdown",
   "id": "086a6269",
   "metadata": {},
   "source": [
    "The candidate vector is synchronized to the 577 primer. This means that\n",
    "the plasmid origin is shifted so that it matches the backbone vector."
   ]
  },
  {
   "cell_type": "code",
   "execution_count": 20,
   "id": "cfe5d454",
   "metadata": {
    "execution": {
     "iopub.execute_input": "2022-12-21T17:59:44.912038Z",
     "iopub.status.busy": "2022-12-21T17:59:44.911553Z",
     "iopub.status.idle": "2022-12-21T17:59:45.461374Z",
     "shell.execute_reply": "2022-12-21T17:59:45.460645Z"
    }
   },
   "outputs": [],
   "source": [
    "pw = candidate.synced(fp_first)"
   ]
  },
  {
   "cell_type": "markdown",
   "id": "18b7247f",
   "metadata": {},
   "source": [
    "The cseguid checksum for the resulting plasmid is calculated for future\n",
    "reference.\n",
    "The [cseguid checksum](\n",
    "http://pydna.readthedocs.org/en/latest/pydna.html#pydna.utils.cseguid)\n",
    "uniquely identifies a circular double stranded sequence."
   ]
  },
  {
   "cell_type": "code",
   "execution_count": 21,
   "id": "ac8ee2c2",
   "metadata": {
    "execution": {
     "iopub.execute_input": "2022-12-21T17:59:45.465107Z",
     "iopub.status.busy": "2022-12-21T17:59:45.464779Z",
     "iopub.status.idle": "2022-12-21T17:59:45.479790Z",
     "shell.execute_reply": "2022-12-21T17:59:45.478990Z"
    }
   },
   "outputs": [
    {
     "data": {
      "text/plain": [
       "'oilLlVy3AUPcexmSmClzDYXV4dQ'"
      ]
     },
     "execution_count": 21,
     "metadata": {},
     "output_type": "execute_result"
    }
   ],
   "source": [
    "pw.cseguid()"
   ]
  },
  {
   "cell_type": "markdown",
   "id": "8d60d673",
   "metadata": {},
   "source": [
    "The file is given a name based on the sequence of expressed genes."
   ]
  },
  {
   "cell_type": "code",
   "execution_count": 22,
   "id": "f01ff518",
   "metadata": {
    "execution": {
     "iopub.execute_input": "2022-12-21T17:59:45.483184Z",
     "iopub.status.busy": "2022-12-21T17:59:45.482916Z",
     "iopub.status.idle": "2022-12-21T17:59:45.486310Z",
     "shell.execute_reply": "2022-12-21T17:59:45.485668Z"
    }
   },
   "outputs": [],
   "source": [
    "pw.locus = \"pw\"\n",
    "pw.definition = \"pTA1_TDH3_ScATF1_PGI1_ScCTT1_TEF1\""
   ]
  },
  {
   "cell_type": "markdown",
   "id": "36099a69",
   "metadata": {},
   "source": [
    "Sequence stamped with cseguid checksum.\n",
    "This can be used to verify the integrity of the sequence file."
   ]
  },
  {
   "cell_type": "code",
   "execution_count": 23,
   "id": "68f6dd01",
   "metadata": {
    "execution": {
     "iopub.execute_input": "2022-12-21T17:59:45.490845Z",
     "iopub.status.busy": "2022-12-21T17:59:45.490469Z",
     "iopub.status.idle": "2022-12-21T17:59:45.508464Z",
     "shell.execute_reply": "2022-12-21T17:59:45.507830Z"
    }
   },
   "outputs": [
    {
     "data": {
      "text/plain": [
       "oilLlVy3AUPcexmSmClzDYXV4dQ"
      ]
     },
     "execution_count": 23,
     "metadata": {},
     "output_type": "execute_result"
    }
   ],
   "source": [
    "pw.stamp(\"cSEGUID\")"
   ]
  },
  {
   "cell_type": "markdown",
   "id": "531172b1",
   "metadata": {},
   "source": [
    "Write sequence to a local file."
   ]
  },
  {
   "cell_type": "code",
   "execution_count": 24,
   "id": "0cf5c483",
   "metadata": {
    "execution": {
     "iopub.execute_input": "2022-12-21T17:59:45.511557Z",
     "iopub.status.busy": "2022-12-21T17:59:45.511290Z",
     "iopub.status.idle": "2022-12-21T17:59:45.528661Z",
     "shell.execute_reply": "2022-12-21T17:59:45.527969Z"
    }
   },
   "outputs": [
    {
     "data": {
      "text/html": [
       "<font face=monospace><a href='pTA1_TDH3_ScATF1_PGI1_ScCTT1_TEF1.gb' target='_blank'>pTA1_TDH3_ScATF1_PGI1_ScCTT1_TEF1.gb</a></font><br>"
      ]
     },
     "metadata": {},
     "output_type": "display_data"
    }
   ],
   "source": [
    "pw.write(\"pTA1_TDH3_ScATF1_PGI1_ScCTT1_TEF1.gb\")"
   ]
  },
  {
   "cell_type": "markdown",
   "id": "4b3b5aec",
   "metadata": {},
   "source": [
    "The pathway can be extended by digestion with either NotI or PacI or both\n",
    "provided that the enzymes cut once in the final pathway sequence."
   ]
  },
  {
   "cell_type": "code",
   "execution_count": 25,
   "id": "87f9bb92",
   "metadata": {
    "execution": {
     "iopub.execute_input": "2022-12-21T17:59:45.531947Z",
     "iopub.status.busy": "2022-12-21T17:59:45.531687Z",
     "iopub.status.idle": "2022-12-21T17:59:45.546155Z",
     "shell.execute_reply": "2022-12-21T17:59:45.545245Z"
    }
   },
   "outputs": [
    {
     "name": "stdout",
     "output_type": "stream",
     "text": [
      "NotI cuts 1 time(s) and PacI cuts 1 time(s) in the final pathway.\n"
     ]
    }
   ],
   "source": [
    "print(f\"NotI cuts {len(pw.cut(NotI))} time(s) and PacI cuts \"\n",
    "      f\"{len(pw.cut(PacI))} time(s) in the final pathway.\")"
   ]
  },
  {
   "cell_type": "markdown",
   "id": "c28336ac",
   "metadata": {
    "lines_to_next_cell": 0
   },
   "source": [
    "### Transcriptional unit (single gene expression) vectors needed."
   ]
  },
  {
   "cell_type": "code",
   "execution_count": 26,
   "id": "0d20e296",
   "metadata": {
    "execution": {
     "iopub.execute_input": "2022-12-21T17:59:45.549648Z",
     "iopub.status.busy": "2022-12-21T17:59:45.548964Z",
     "iopub.status.idle": "2022-12-21T17:59:45.557213Z",
     "shell.execute_reply": "2022-12-21T17:59:45.556358Z"
    }
   },
   "outputs": [
    {
     "data": {
      "text/markdown": [
       "[pTA9_TDH3_ScATF1_PGI1.ipynb](pTA9_TDH3_ScATF1_PGI1.ipynb)"
      ],
      "text/plain": [
       "<IPython.core.display.Markdown object>"
      ]
     },
     "metadata": {},
     "output_type": "display_data"
    },
    {
     "data": {
      "text/markdown": [
       "[pTA9_PGI1_ScCTT1_TEF1.ipynb](pTA9_PGI1_ScCTT1_TEF1.ipynb)"
      ],
      "text/plain": [
       "<IPython.core.display.Markdown object>"
      ]
     },
     "metadata": {},
     "output_type": "display_data"
    }
   ],
   "source": [
    "for cv in cassette_vectors:\n",
    "    cassette_vector = Path(cv).with_suffix('.ipynb')\n",
    "    display(Markdown(f\"[{cassette_vector}]({cassette_vector})\"))"
   ]
  },
  {
   "cell_type": "markdown",
   "id": "5a52c12a",
   "metadata": {
    "lines_to_next_cell": 0
   },
   "source": [
    "### Suggested PCR conditions"
   ]
  },
  {
   "cell_type": "code",
   "execution_count": 27,
   "id": "be7a19ba",
   "metadata": {
    "execution": {
     "iopub.execute_input": "2022-12-21T17:59:45.561914Z",
     "iopub.status.busy": "2022-12-21T17:59:45.561221Z",
     "iopub.status.idle": "2022-12-21T17:59:45.567945Z",
     "shell.execute_reply": "2022-12-21T17:59:45.567034Z"
    }
   },
   "outputs": [
    {
     "name": "stdout",
     "output_type": "stream",
     "text": [
      "\n",
      "\n",
      "\n",
      "\n",
      "\n",
      "product name: TDH3_ScATF1_PGI1\n",
      "forward primer 577_crp585-557\n",
      "reverse primer 778_tp_Eco32I_rev\n",
      "|95°C|95°C               |    |tmf:64.6\n",
      "|____|_____          72°C|72°C|tmr:53.9\n",
      "|3min|30s  \\ 54.0°C _____|____|45s/kb\n",
      "|    |      \\______/ 2:40|5min|GC 38%\n",
      "|    |       30s         |    |3574bp\n",
      "\n",
      "\n",
      "\n",
      "\n",
      "\n",
      "product name: PGI1_ScCTT1_TEF1\n",
      "forward primer 1123_New775\n",
      "reverse primer 578_crp42-70\n",
      "|95°C|95°C               |    |tmf:70.4\n",
      "|____|_____          72°C|72°C|tmr:65.0\n",
      "|3min|30s  \\ 57.9°C _____|____|45s/kb\n",
      "|    |      \\______/ 2:46|5min|GC 40%\n",
      "|    |       30s         |    |3702bp\n"
     ]
    }
   ],
   "source": [
    "for prd in cassette_pcr_products:\n",
    "    print(\"\\n\\n\\n\\n\")\n",
    "    print(\"product name:\", prd.name)\n",
    "    print(\"forward primer\", prd.forward_primer.name)\n",
    "    print(\"reverse primer\", prd.reverse_primer.name)\n",
    "    print(prd.program())"
   ]
  }
 ],
 "metadata": {
  "jupytext": {
   "main_language": "python",
   "text_representation": {
    "extension": ".py",
    "format_name": "percent",
    "format_version": "1.3",
    "jupytext_version": "1.14.0"
   }
  },
  "language_info": {
   "codemirror_mode": {
    "name": "ipython",
    "version": 3
   },
   "file_extension": ".py",
   "mimetype": "text/x-python",
   "name": "python",
   "nbconvert_exporter": "python",
   "pygments_lexer": "ipython3",
   "version": "3.8.15"
  }
 },
 "nbformat": 4,
 "nbformat_minor": 5
}
