{
 "cells": [
  {
   "cell_type": "markdown",
   "id": "a2c5a907",
   "metadata": {},
   "source": [
    "# pTA9_TDH3_ScATF1_PGI1\n",
    "\n",
    "This notebook describes the assembly of the\n",
    "[_Saccharomyces cerevisiae_](http://www.yeastgenome.org)\n",
    "transcriptional unit vector.\n",
    "\n",
    "It is made from a linear vector fragment and three PCR products:\n",
    "\n",
    "- a linearized pTA9 vector for maintenance in _S. cerevisiae_ or _E. coli_ (red dashed line in figure below)\n",
    "- a promoter PCR product from the `pYPKa_Z_TDH3` vector\n",
    "- a gene PCR product from the `pYPKa_A_ScATF1` vector\n",
    "- a terminator PCR product from the `pYPKa_E_PGI1` vector\n",
    "\n",
    "The four linear DNA fragments are joined by _in-vivo_ homologous recombination in a\n",
    "[_Saccharomyces cerevisiae_](http://wiki.yeastgenome.org/index.php/Commonly_used_strains) strain.\n",
    "\n",
    "![tu](tu.png \"tu\")\n",
    "\n",
    "A part of the [pydna](https://pypi.python.org/pypi/pydna/) package is imported in the code cell below."
   ]
  },
  {
   "cell_type": "code",
   "execution_count": 1,
   "id": "b29de75e",
   "metadata": {
    "execution": {
     "iopub.execute_input": "2022-12-21T17:49:31.713100Z",
     "iopub.status.busy": "2022-12-21T17:49:31.712416Z",
     "iopub.status.idle": "2022-12-21T17:49:32.093318Z",
     "shell.execute_reply": "2022-12-21T17:49:32.092481Z"
    }
   },
   "outputs": [],
   "source": [
    "from pydna.parsers import parse_primers\n",
    "from pydna.readers import read\n",
    "from pydna.amplify import pcr\n",
    "from pydna.assembly import Assembly"
   ]
  },
  {
   "cell_type": "markdown",
   "id": "0114a385",
   "metadata": {},
   "source": [
    "The Yeast Pathway Kit [standard primers](standard_primers.fasta) are read into a dictionary in the code cell below."
   ]
  },
  {
   "cell_type": "code",
   "execution_count": 2,
   "id": "dea246f4",
   "metadata": {
    "execution": {
     "iopub.execute_input": "2022-12-21T17:49:32.098089Z",
     "iopub.status.busy": "2022-12-21T17:49:32.097515Z",
     "iopub.status.idle": "2022-12-21T17:49:32.113429Z",
     "shell.execute_reply": "2022-12-21T17:49:32.112696Z"
    }
   },
   "outputs": [],
   "source": [
    "p = {x.name: x for x in parse_primers(\"standard_primers.fasta\")}"
   ]
  },
  {
   "cell_type": "markdown",
   "id": "1b1e5c12",
   "metadata": {},
   "source": [
    "The backbone vector [pTA9](pTA9.gb) is read from a local file in the code cell below."
   ]
  },
  {
   "cell_type": "code",
   "execution_count": 3,
   "id": "3606bf09",
   "metadata": {
    "execution": {
     "iopub.execute_input": "2022-12-21T17:49:32.117461Z",
     "iopub.status.busy": "2022-12-21T17:49:32.116692Z",
     "iopub.status.idle": "2022-12-21T17:49:32.128750Z",
     "shell.execute_reply": "2022-12-21T17:49:32.128089Z"
    }
   },
   "outputs": [],
   "source": [
    "backbone = read(\"pTA9.gb\")"
   ]
  },
  {
   "cell_type": "markdown",
   "id": "2d138aff",
   "metadata": {},
   "source": [
    "The backbone vector is linearized by digestion with [FspAI](https://www.google.com/search?q=FspAI)."
   ]
  },
  {
   "cell_type": "code",
   "execution_count": 4,
   "id": "41d615ea",
   "metadata": {
    "execution": {
     "iopub.execute_input": "2022-12-21T17:49:32.132728Z",
     "iopub.status.busy": "2022-12-21T17:49:32.132354Z",
     "iopub.status.idle": "2022-12-21T17:49:32.138230Z",
     "shell.execute_reply": "2022-12-21T17:49:32.136545Z"
    }
   },
   "outputs": [],
   "source": [
    "from Bio.Restriction import FspAI"
   ]
  },
  {
   "cell_type": "code",
   "execution_count": 5,
   "id": "f457820c",
   "metadata": {
    "execution": {
     "iopub.execute_input": "2022-12-21T17:49:32.142317Z",
     "iopub.status.busy": "2022-12-21T17:49:32.141986Z",
     "iopub.status.idle": "2022-12-21T17:49:32.149795Z",
     "shell.execute_reply": "2022-12-21T17:49:32.148866Z"
    }
   },
   "outputs": [],
   "source": [
    "linear_backbone = backbone.linearize(FspAI)"
   ]
  },
  {
   "cell_type": "markdown",
   "id": "55047b5d",
   "metadata": {},
   "source": [
    "The pYPKa derived _E. coli_ plasmids containing \n",
    "- [promoter](pYPKa_Z_TDH3.gb)\n",
    "- [gene](pYPKa_A_ScATF1.gb)\n",
    "- [terminator](pYPKa_E_PGI1.gb)\n",
    "\n",
    "are read into three variables below."
   ]
  },
  {
   "cell_type": "code",
   "execution_count": 6,
   "id": "cdc49543",
   "metadata": {
    "execution": {
     "iopub.execute_input": "2022-12-21T17:49:32.152974Z",
     "iopub.status.busy": "2022-12-21T17:49:32.152685Z",
     "iopub.status.idle": "2022-12-21T17:49:32.179722Z",
     "shell.execute_reply": "2022-12-21T17:49:32.178986Z"
    }
   },
   "outputs": [],
   "source": [
    "promoter_template   = read(\"pYPKa_Z_TDH3.gb\")\n",
    "gene_template       = read(\"pYPKa_A_ScATF1.gb\")\n",
    "terminator_template = read(\"pYPKa_E_PGI1.gb\")"
   ]
  },
  {
   "cell_type": "markdown",
   "id": "257e1e7d",
   "metadata": {
    "lines_to_next_cell": 0
   },
   "source": [
    "### PCR\n",
    "Three DNA fragments are PCR amplified using [standard primers](standard_primers.fasta).\n",
    "\n",
    "[Suggested PCR programs](#Suggested-PCR-programs) can be found at the end of this document."
   ]
  },
  {
   "cell_type": "code",
   "execution_count": 7,
   "id": "d391499f",
   "metadata": {
    "execution": {
     "iopub.execute_input": "2022-12-21T17:49:32.184031Z",
     "iopub.status.busy": "2022-12-21T17:49:32.183133Z",
     "iopub.status.idle": "2022-12-21T17:49:32.188369Z",
     "shell.execute_reply": "2022-12-21T17:49:32.187490Z"
    }
   },
   "outputs": [],
   "source": [
    "\n",
    "fp_prom = p['577_crp585-557']\n",
    "rp_prom = p['567_pCAPsAjiIF']\n",
    "fp_gene = p['468_pCAPs_release_fw']\n",
    "rp_gene = p['467_pCAPs_release_re']\n",
    "fp_term = p['568_pCAPsAjiIR']\n",
    "rp_term = p['578_crp42-70']"
   ]
  },
  {
   "cell_type": "code",
   "execution_count": 8,
   "id": "4507cc73",
   "metadata": {
    "execution": {
     "iopub.execute_input": "2022-12-21T17:49:32.193423Z",
     "iopub.status.busy": "2022-12-21T17:49:32.192935Z",
     "iopub.status.idle": "2022-12-21T17:49:32.225388Z",
     "shell.execute_reply": "2022-12-21T17:49:32.224664Z"
    }
   },
   "outputs": [],
   "source": [
    "prom = pcr(fp_prom, rp_prom, promoter_template)\n",
    "gene = pcr(fp_gene, rp_gene, gene_template)\n",
    "term = pcr(fp_term, rp_term, terminator_template)"
   ]
  },
  {
   "cell_type": "code",
   "execution_count": 9,
   "id": "3b966426",
   "metadata": {
    "execution": {
     "iopub.execute_input": "2022-12-21T17:49:32.228739Z",
     "iopub.status.busy": "2022-12-21T17:49:32.228488Z",
     "iopub.status.idle": "2022-12-21T17:49:32.232186Z",
     "shell.execute_reply": "2022-12-21T17:49:32.231531Z"
    }
   },
   "outputs": [],
   "source": [
    "prom.name = \"pYPKa_Z_TDH3\"[8:]\n",
    "gene.name = \"pYPKa_A_ScATF1\"[8:]\n",
    "term.name = \"pYPKa_E_PGI1\"[8:]"
   ]
  },
  {
   "cell_type": "markdown",
   "id": "76a4e496",
   "metadata": {},
   "source": [
    "\n",
    "The fragments will be assembled by _in-vivo_ [homologous recombination](http://www.ncbi.nlm.nih.gov/pubmed/2828185):"
   ]
  },
  {
   "cell_type": "code",
   "execution_count": 10,
   "id": "9eb984d1",
   "metadata": {
    "execution": {
     "iopub.execute_input": "2022-12-21T17:49:32.237911Z",
     "iopub.status.busy": "2022-12-21T17:49:32.237029Z",
     "iopub.status.idle": "2022-12-21T17:49:32.790458Z",
     "shell.execute_reply": "2022-12-21T17:49:32.789733Z"
    }
   },
   "outputs": [
    {
     "data": {
      "text/plain": [
       "Assembly\n",
       "fragments..: 5685bp 930bp 1674bp 1339bp\n",
       "limit(bp)..: 31\n",
       "G.nodes....: 8\n",
       "algorithm..: common_sub_strings"
      ]
     },
     "execution_count": 10,
     "metadata": {},
     "output_type": "execute_result"
    }
   ],
   "source": [
    "asm = Assembly((linear_backbone, prom, gene, term), limit=31)\n",
    "asm"
   ]
  },
  {
   "cell_type": "markdown",
   "id": "a3a10916",
   "metadata": {},
   "source": [
    "The Assembly object above should normally indicate four fragments and eight nodes."
   ]
  },
  {
   "cell_type": "code",
   "execution_count": 11,
   "id": "be307f54",
   "metadata": {
    "execution": {
     "iopub.execute_input": "2022-12-21T17:49:32.794732Z",
     "iopub.status.busy": "2022-12-21T17:49:32.793722Z",
     "iopub.status.idle": "2022-12-21T17:49:33.021677Z",
     "shell.execute_reply": "2022-12-21T17:49:33.020892Z"
    },
    "lines_to_next_cell": 0
   },
   "outputs": [
    {
     "data": {
      "text/plain": [
       "[Contig(o9156), Contig(o9156)]"
      ]
     },
     "execution_count": 11,
     "metadata": {},
     "output_type": "execute_result"
    }
   ],
   "source": [
    "candidates = asm.assemble_circular()\n",
    "candidates"
   ]
  },
  {
   "cell_type": "markdown",
   "id": "ee17eee2",
   "metadata": {},
   "source": [
    "There should normally be two candidates of equal size. These sequences should be identical."
   ]
  },
  {
   "cell_type": "code",
   "execution_count": 12,
   "id": "61fb5866",
   "metadata": {
    "execution": {
     "iopub.execute_input": "2022-12-21T17:49:33.025118Z",
     "iopub.status.busy": "2022-12-21T17:49:33.024672Z",
     "iopub.status.idle": "2022-12-21T17:49:33.027946Z",
     "shell.execute_reply": "2022-12-21T17:49:33.027322Z"
    },
    "lines_to_next_cell": 0
   },
   "outputs": [],
   "source": [
    "candidate, *rest = candidates"
   ]
  },
  {
   "cell_type": "code",
   "execution_count": 13,
   "id": "448c9427",
   "metadata": {
    "execution": {
     "iopub.execute_input": "2022-12-21T17:49:33.032272Z",
     "iopub.status.busy": "2022-12-21T17:49:33.031929Z",
     "iopub.status.idle": "2022-12-21T17:49:33.054655Z",
     "shell.execute_reply": "2022-12-21T17:49:33.054044Z"
    },
    "lines_to_next_cell": 0
   },
   "outputs": [
    {
     "data": {
      "text/plain": [
       "True"
      ]
     },
     "execution_count": 13,
     "metadata": {},
     "output_type": "execute_result"
    }
   ],
   "source": [
    "candidate.cseguid() == rest[0].cseguid()"
   ]
  },
  {
   "cell_type": "code",
   "execution_count": 14,
   "id": "cef1eafc",
   "metadata": {
    "execution": {
     "iopub.execute_input": "2022-12-21T17:49:33.058207Z",
     "iopub.status.busy": "2022-12-21T17:49:33.057480Z",
     "iopub.status.idle": "2022-12-21T17:49:33.063695Z",
     "shell.execute_reply": "2022-12-21T17:49:33.062701Z"
    },
    "lines_to_next_cell": 0
   },
   "outputs": [
    {
     "data": {
      "text/plain": [
       " -|pTA9_lin|242\n",
       "|           \\/\n",
       "|           /\\\n",
       "|           242|PGI1_rc|37\n",
       "|                       \\/\n",
       "|                       /\\\n",
       "|                       37|ScATF1_rc|50\n",
       "|                                    \\/\n",
       "|                                    /\\\n",
       "|                                    50|TDH3_rc|124\n",
       "|                                               \\/\n",
       "|                                               /\\\n",
       "|                                               124-\n",
       "|                                                  |\n",
       " --------------------------------------------------"
      ]
     },
     "execution_count": 14,
     "metadata": {},
     "output_type": "execute_result"
    }
   ],
   "source": [
    "candidate.figure()"
   ]
  },
  {
   "cell_type": "markdown",
   "id": "70646267",
   "metadata": {},
   "source": [
    "The candidate vector is synchronized to the 577 primer. This means that\n",
    "the plasmid origin is shifted so that it matches the backbone vector."
   ]
  },
  {
   "cell_type": "code",
   "execution_count": 15,
   "id": "62bd7991",
   "metadata": {
    "execution": {
     "iopub.execute_input": "2022-12-21T17:49:33.067869Z",
     "iopub.status.busy": "2022-12-21T17:49:33.067487Z",
     "iopub.status.idle": "2022-12-21T17:49:33.576147Z",
     "shell.execute_reply": "2022-12-21T17:49:33.575434Z"
    }
   },
   "outputs": [],
   "source": [
    "result = candidate.synced(fp_prom)"
   ]
  },
  {
   "cell_type": "markdown",
   "id": "8d878c4f",
   "metadata": {},
   "source": [
    "### Diagnostic PCR confirmation\n",
    "\n",
    "The structure of the final vector is confirmed by two\n",
    "separate PCR reactions, one for the promoter and gene and\n",
    "one for the gene and terminator.\n",
    "\n",
    "PCR using standard primers 577 and 467 to amplify promoter and gene."
   ]
  },
  {
   "cell_type": "code",
   "execution_count": 16,
   "id": "856eed53",
   "metadata": {
    "execution": {
     "iopub.execute_input": "2022-12-21T17:49:33.579656Z",
     "iopub.status.busy": "2022-12-21T17:49:33.579242Z",
     "iopub.status.idle": "2022-12-21T17:49:33.600027Z",
     "shell.execute_reply": "2022-12-21T17:49:33.599269Z"
    }
   },
   "outputs": [],
   "source": [
    "product = pcr( fp_prom, rp_gene, result)"
   ]
  },
  {
   "cell_type": "markdown",
   "id": "9cdf3186",
   "metadata": {},
   "source": [
    "A correct clone should give this size in base pairs:"
   ]
  },
  {
   "cell_type": "code",
   "execution_count": 17,
   "id": "5df3e100",
   "metadata": {
    "execution": {
     "iopub.execute_input": "2022-12-21T17:49:33.603485Z",
     "iopub.status.busy": "2022-12-21T17:49:33.603080Z",
     "iopub.status.idle": "2022-12-21T17:49:33.608275Z",
     "shell.execute_reply": "2022-12-21T17:49:33.607075Z"
    }
   },
   "outputs": [
    {
     "name": "stdout",
     "output_type": "stream",
     "text": [
      "2554\n"
     ]
    }
   ],
   "source": [
    "print(len(product))"
   ]
  },
  {
   "cell_type": "markdown",
   "id": "33cbb14b",
   "metadata": {},
   "source": [
    "If the promoter is missing from the assembly, the PCR product will have this size in base pairs:"
   ]
  },
  {
   "cell_type": "code",
   "execution_count": 18,
   "id": "098e85e9",
   "metadata": {
    "execution": {
     "iopub.execute_input": "2022-12-21T17:49:33.612528Z",
     "iopub.status.busy": "2022-12-21T17:49:33.611951Z",
     "iopub.status.idle": "2022-12-21T17:49:33.616842Z",
     "shell.execute_reply": "2022-12-21T17:49:33.615973Z"
    }
   },
   "outputs": [
    {
     "name": "stdout",
     "output_type": "stream",
     "text": [
      "1624\n"
     ]
    }
   ],
   "source": [
    "print(len(product) - len(prom))"
   ]
  },
  {
   "cell_type": "markdown",
   "id": "b92f7fbc",
   "metadata": {},
   "source": [
    "If the gene is missing from the assembly, the PCR product will have this size in base pairs:"
   ]
  },
  {
   "cell_type": "code",
   "execution_count": 19,
   "id": "0e5c33ee",
   "metadata": {
    "execution": {
     "iopub.execute_input": "2022-12-21T17:49:33.622264Z",
     "iopub.status.busy": "2022-12-21T17:49:33.621937Z",
     "iopub.status.idle": "2022-12-21T17:49:33.625862Z",
     "shell.execute_reply": "2022-12-21T17:49:33.625144Z"
    }
   },
   "outputs": [
    {
     "name": "stdout",
     "output_type": "stream",
     "text": [
      "880\n"
     ]
    }
   ],
   "source": [
    "print(len(product) - len(gene))"
   ]
  },
  {
   "cell_type": "markdown",
   "id": "58c24ee3",
   "metadata": {},
   "source": [
    "PCR using standard primers 468 and 578 to amplify gene and terminator."
   ]
  },
  {
   "cell_type": "code",
   "execution_count": 20,
   "id": "75783efc",
   "metadata": {
    "execution": {
     "iopub.execute_input": "2022-12-21T17:49:33.628937Z",
     "iopub.status.busy": "2022-12-21T17:49:33.628624Z",
     "iopub.status.idle": "2022-12-21T17:49:33.654897Z",
     "shell.execute_reply": "2022-12-21T17:49:33.654155Z"
    }
   },
   "outputs": [],
   "source": [
    "product2 = pcr( fp_gene, rp_term, result)"
   ]
  },
  {
   "cell_type": "markdown",
   "id": "7dbcd93d",
   "metadata": {},
   "source": [
    "A correct clone should give this size:"
   ]
  },
  {
   "cell_type": "code",
   "execution_count": 21,
   "id": "b13c22cd",
   "metadata": {
    "execution": {
     "iopub.execute_input": "2022-12-21T17:49:33.658165Z",
     "iopub.status.busy": "2022-12-21T17:49:33.657881Z",
     "iopub.status.idle": "2022-12-21T17:49:33.662139Z",
     "shell.execute_reply": "2022-12-21T17:49:33.661245Z"
    }
   },
   "outputs": [
    {
     "name": "stdout",
     "output_type": "stream",
     "text": [
      "2976\n"
     ]
    }
   ],
   "source": [
    "print(len(product2))"
   ]
  },
  {
   "cell_type": "markdown",
   "id": "caafff5d",
   "metadata": {},
   "source": [
    "If the gene is missing from the assembly, the PCR product will have this size in base pairs:"
   ]
  },
  {
   "cell_type": "code",
   "execution_count": 22,
   "id": "b95369b5",
   "metadata": {
    "execution": {
     "iopub.execute_input": "2022-12-21T17:49:33.666301Z",
     "iopub.status.busy": "2022-12-21T17:49:33.665937Z",
     "iopub.status.idle": "2022-12-21T17:49:33.671219Z",
     "shell.execute_reply": "2022-12-21T17:49:33.670206Z"
    }
   },
   "outputs": [
    {
     "name": "stdout",
     "output_type": "stream",
     "text": [
      "1302\n"
     ]
    }
   ],
   "source": [
    "print(len(product2) - len(gene))"
   ]
  },
  {
   "cell_type": "markdown",
   "id": "e28f032d",
   "metadata": {},
   "source": [
    "If the terminator is missing from the assembly, the PCR product will have this size in base pairs:"
   ]
  },
  {
   "cell_type": "code",
   "execution_count": 23,
   "id": "e4b2b1fb",
   "metadata": {
    "execution": {
     "iopub.execute_input": "2022-12-21T17:49:33.676258Z",
     "iopub.status.busy": "2022-12-21T17:49:33.675917Z",
     "iopub.status.idle": "2022-12-21T17:49:33.680718Z",
     "shell.execute_reply": "2022-12-21T17:49:33.679859Z"
    }
   },
   "outputs": [
    {
     "name": "stdout",
     "output_type": "stream",
     "text": [
      "1637\n"
     ]
    }
   ],
   "source": [
    "print(len(product2) - len(term))"
   ]
  },
  {
   "cell_type": "markdown",
   "id": "fe7b0f37",
   "metadata": {},
   "source": [
    "The cseguid checksum for the resulting plasmid is calculated for future reference.\n",
    "The [cseguid checksum](http://pydna.readthedocs.org/en/latest/pydna.html#pydna.utils.cseguid)\n",
    "uniquely identifies a circular double stranded sequence."
   ]
  },
  {
   "cell_type": "code",
   "execution_count": 24,
   "id": "6720a24d",
   "metadata": {
    "execution": {
     "iopub.execute_input": "2022-12-21T17:49:33.686488Z",
     "iopub.status.busy": "2022-12-21T17:49:33.686243Z",
     "iopub.status.idle": "2022-12-21T17:49:33.698324Z",
     "shell.execute_reply": "2022-12-21T17:49:33.697218Z"
    }
   },
   "outputs": [
    {
     "name": "stdout",
     "output_type": "stream",
     "text": [
      "ZR2Q3RuTeH_Rmq37gvBhVLfMLfM\n"
     ]
    }
   ],
   "source": [
    "print(result.cseguid())"
   ]
  },
  {
   "cell_type": "markdown",
   "id": "b81388e2",
   "metadata": {},
   "source": [
    "The file name is based on the promoter, gene and terminator designations."
   ]
  },
  {
   "cell_type": "code",
   "execution_count": 25,
   "id": "76bc737c",
   "metadata": {
    "execution": {
     "iopub.execute_input": "2022-12-21T17:49:33.701856Z",
     "iopub.status.busy": "2022-12-21T17:49:33.701526Z",
     "iopub.status.idle": "2022-12-21T17:49:33.705529Z",
     "shell.execute_reply": "2022-12-21T17:49:33.704444Z"
    }
   },
   "outputs": [],
   "source": [
    "result.locus = f\"tu:{gene.name}\"[:16]\n",
    "result.definition = \"pTA9_TDH3_ScATF1_PGI1\""
   ]
  },
  {
   "cell_type": "markdown",
   "id": "fa796f6a",
   "metadata": {},
   "source": [
    "Sequence is stamped with cseguid checksum. This can be used to verify the\n",
    "integrity of the sequence file."
   ]
  },
  {
   "cell_type": "code",
   "execution_count": 26,
   "id": "b8074fa6",
   "metadata": {
    "execution": {
     "iopub.execute_input": "2022-12-21T17:49:33.710217Z",
     "iopub.status.busy": "2022-12-21T17:49:33.709826Z",
     "iopub.status.idle": "2022-12-21T17:49:33.727139Z",
     "shell.execute_reply": "2022-12-21T17:49:33.726518Z"
    }
   },
   "outputs": [
    {
     "data": {
      "text/plain": [
       "ZR2Q3RuTeH_Rmq37gvBhVLfMLfM"
      ]
     },
     "execution_count": 26,
     "metadata": {},
     "output_type": "execute_result"
    }
   ],
   "source": [
    "result.stamp(\"cSEGUID\")"
   ]
  },
  {
   "cell_type": "markdown",
   "id": "9a0b98b9",
   "metadata": {},
   "source": [
    "Write sequence to a local file."
   ]
  },
  {
   "cell_type": "code",
   "execution_count": 27,
   "id": "4a23efbd",
   "metadata": {
    "execution": {
     "iopub.execute_input": "2022-12-21T17:49:33.730787Z",
     "iopub.status.busy": "2022-12-21T17:49:33.730409Z",
     "iopub.status.idle": "2022-12-21T17:49:33.756173Z",
     "shell.execute_reply": "2022-12-21T17:49:33.755323Z"
    }
   },
   "outputs": [
    {
     "data": {
      "text/html": [
       "<font face=monospace><a href='pTA9_TDH3_ScATF1_PGI1.gb' target='_blank'>pTA9_TDH3_ScATF1_PGI1.gb</a></font><br>"
      ]
     },
     "metadata": {},
     "output_type": "display_data"
    }
   ],
   "source": [
    "result.write(f\"{result.definition}.gb\")"
   ]
  },
  {
   "cell_type": "markdown",
   "id": "5351914b",
   "metadata": {
    "lines_to_next_cell": 0
   },
   "source": [
    "### Suggested PCR programs\n",
    "\n",
    "For the [amplification](#PCR) of promoter, gene and terminator."
   ]
  },
  {
   "cell_type": "code",
   "execution_count": 28,
   "id": "e37f3e68",
   "metadata": {
    "execution": {
     "iopub.execute_input": "2022-12-21T17:49:33.760543Z",
     "iopub.status.busy": "2022-12-21T17:49:33.759981Z",
     "iopub.status.idle": "2022-12-21T17:49:33.766074Z",
     "shell.execute_reply": "2022-12-21T17:49:33.764509Z"
    }
   },
   "outputs": [
    {
     "name": "stdout",
     "output_type": "stream",
     "text": [
      "577_crp585-557 567_pCAPsAjiIF\n",
      "|95°C|95°C               |    |tmf:64.6\n",
      "|____|_____          72°C|72°C|tmr:69.7\n",
      "|3min|30s  \\ 57.1°C _____|____|45s/kb\n",
      "|    |      \\______/ 0:41|5min|GC 38%\n",
      "|    |       30s         |    |930bp\n"
     ]
    }
   ],
   "source": [
    "print(prom.forward_primer.name, prom.reverse_primer.name)\n",
    "print(prom.program())"
   ]
  },
  {
   "cell_type": "code",
   "execution_count": 29,
   "id": "72e57a7f",
   "metadata": {
    "execution": {
     "iopub.execute_input": "2022-12-21T17:49:33.770176Z",
     "iopub.status.busy": "2022-12-21T17:49:33.769763Z",
     "iopub.status.idle": "2022-12-21T17:49:33.775699Z",
     "shell.execute_reply": "2022-12-21T17:49:33.774744Z"
    }
   },
   "outputs": [
    {
     "name": "stdout",
     "output_type": "stream",
     "text": [
      "468_pCAPs_release_fw 467_pCAPs_release_re\n",
      "|95°C|95°C               |    |tmf:76.9\n",
      "|____|_____          72°C|72°C|tmr:67.9\n",
      "|3min|30s  \\ 58.2°C _____|____|45s/kb\n",
      "|    |      \\______/ 1:15|5min|GC 38%\n",
      "|    |       30s         |    |1674bp\n"
     ]
    }
   ],
   "source": [
    "print(gene.forward_primer.name, gene.reverse_primer.name)\n",
    "print(gene.program())"
   ]
  },
  {
   "cell_type": "code",
   "execution_count": 30,
   "id": "8dfbf52d",
   "metadata": {
    "execution": {
     "iopub.execute_input": "2022-12-21T17:49:33.779782Z",
     "iopub.status.busy": "2022-12-21T17:49:33.779490Z",
     "iopub.status.idle": "2022-12-21T17:49:33.785785Z",
     "shell.execute_reply": "2022-12-21T17:49:33.784761Z"
    }
   },
   "outputs": [
    {
     "name": "stdout",
     "output_type": "stream",
     "text": [
      "568_pCAPsAjiIR 578_crp42-70\n",
      "|95°C|95°C               |    |tmf:66.1\n",
      "|____|_____          72°C|72°C|tmr:65.0\n",
      "|3min|30s  \\ 57.6°C _____|____|45s/kb\n",
      "|    |      \\______/ 1:00|5min|GC 39%\n",
      "|    |       30s         |    |1339bp\n"
     ]
    }
   ],
   "source": [
    "print(term.forward_primer.name, term.reverse_primer.name)\n",
    "print(term.program())"
   ]
  }
 ],
 "metadata": {
  "jupytext": {
   "main_language": "python",
   "text_representation": {
    "extension": ".py",
    "format_name": "percent",
    "format_version": "1.3",
    "jupytext_version": "1.14.0"
   }
  },
  "language_info": {
   "codemirror_mode": {
    "name": "ipython",
    "version": 3
   },
   "file_extension": ".py",
   "mimetype": "text/x-python",
   "name": "python",
   "nbconvert_exporter": "python",
   "pygments_lexer": "ipython3",
   "version": "3.8.15"
  }
 },
 "nbformat": 4,
 "nbformat_minor": 5
}
