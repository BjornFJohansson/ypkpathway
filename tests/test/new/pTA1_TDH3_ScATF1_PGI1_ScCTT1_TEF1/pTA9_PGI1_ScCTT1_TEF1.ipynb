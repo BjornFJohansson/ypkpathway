{
 "cells": [
  {
   "cell_type": "markdown",
   "id": "c09491b1",
   "metadata": {},
   "source": [
    "# pTA9_PGI1_ScCTT1_TEF1\n",
    "\n",
    "This notebook describes the assembly of the\n",
    "[_Saccharomyces cerevisiae_](http://www.yeastgenome.org)\n",
    "transcriptional unit vector.\n",
    "\n",
    "It is made from a linear vector fragment and three PCR products:\n",
    "\n",
    "- a linearized pTA9 vector for maintenance in _S. cerevisiae_ or _E. coli_ (red dashed line in figure below)\n",
    "- a promoter PCR product from the `pYPKa_Z_PGI1` vector\n",
    "- a gene PCR product from the `pYPKa_A_ScCTT1` vector\n",
    "- a terminator PCR product from the `pYPKa_E_TEF1` vector\n",
    "\n",
    "The four linear DNA fragments are joined by _in-vivo_ homologous recombination in a\n",
    "[_Saccharomyces cerevisiae_](http://wiki.yeastgenome.org/index.php/Commonly_used_strains) strain.\n",
    "\n",
    "![tu](tu.png \"tu\")\n",
    "\n",
    "A part of the [pydna](https://pypi.python.org/pypi/pydna/) package is imported in the code cell below."
   ]
  },
  {
   "cell_type": "code",
   "execution_count": 1,
   "id": "d114366b",
   "metadata": {
    "execution": {
     "iopub.execute_input": "2022-12-21T17:49:35.413050Z",
     "iopub.status.busy": "2022-12-21T17:49:35.412199Z",
     "iopub.status.idle": "2022-12-21T17:49:35.798295Z",
     "shell.execute_reply": "2022-12-21T17:49:35.797554Z"
    }
   },
   "outputs": [],
   "source": [
    "from pydna.parsers import parse_primers\n",
    "from pydna.readers import read\n",
    "from pydna.amplify import pcr\n",
    "from pydna.assembly import Assembly"
   ]
  },
  {
   "cell_type": "markdown",
   "id": "6257915c",
   "metadata": {},
   "source": [
    "The Yeast Pathway Kit [standard primers](standard_primers.fasta) are read into a dictionary in the code cell below."
   ]
  },
  {
   "cell_type": "code",
   "execution_count": 2,
   "id": "96bc54db",
   "metadata": {
    "execution": {
     "iopub.execute_input": "2022-12-21T17:49:35.802495Z",
     "iopub.status.busy": "2022-12-21T17:49:35.801720Z",
     "iopub.status.idle": "2022-12-21T17:49:35.819524Z",
     "shell.execute_reply": "2022-12-21T17:49:35.818555Z"
    }
   },
   "outputs": [],
   "source": [
    "p = {x.name: x for x in parse_primers(\"standard_primers.fasta\")}"
   ]
  },
  {
   "cell_type": "markdown",
   "id": "0a22bb1c",
   "metadata": {},
   "source": [
    "The backbone vector [pTA9](pTA9.gb) is read from a local file in the code cell below."
   ]
  },
  {
   "cell_type": "code",
   "execution_count": 3,
   "id": "61d886b1",
   "metadata": {
    "execution": {
     "iopub.execute_input": "2022-12-21T17:49:35.823719Z",
     "iopub.status.busy": "2022-12-21T17:49:35.823446Z",
     "iopub.status.idle": "2022-12-21T17:49:35.835176Z",
     "shell.execute_reply": "2022-12-21T17:49:35.834440Z"
    }
   },
   "outputs": [],
   "source": [
    "backbone = read(\"pTA9.gb\")"
   ]
  },
  {
   "cell_type": "markdown",
   "id": "eee8fc8f",
   "metadata": {},
   "source": [
    "The backbone vector is linearized by digestion with [FspAI](https://www.google.com/search?q=FspAI)."
   ]
  },
  {
   "cell_type": "code",
   "execution_count": 4,
   "id": "97f81887",
   "metadata": {
    "execution": {
     "iopub.execute_input": "2022-12-21T17:49:35.838956Z",
     "iopub.status.busy": "2022-12-21T17:49:35.838689Z",
     "iopub.status.idle": "2022-12-21T17:49:35.842707Z",
     "shell.execute_reply": "2022-12-21T17:49:35.841675Z"
    }
   },
   "outputs": [],
   "source": [
    "from Bio.Restriction import FspAI"
   ]
  },
  {
   "cell_type": "code",
   "execution_count": 5,
   "id": "2dd45280",
   "metadata": {
    "execution": {
     "iopub.execute_input": "2022-12-21T17:49:35.847598Z",
     "iopub.status.busy": "2022-12-21T17:49:35.847208Z",
     "iopub.status.idle": "2022-12-21T17:49:35.855757Z",
     "shell.execute_reply": "2022-12-21T17:49:35.854562Z"
    }
   },
   "outputs": [],
   "source": [
    "linear_backbone = backbone.linearize(FspAI)"
   ]
  },
  {
   "cell_type": "markdown",
   "id": "a3d583ef",
   "metadata": {},
   "source": [
    "The pYPKa derived _E. coli_ plasmids containing \n",
    "- [promoter](pYPKa_Z_PGI1.gb)\n",
    "- [gene](pYPKa_A_ScCTT1.gb)\n",
    "- [terminator](pYPKa_E_TEF1.gb)\n",
    "\n",
    "are read into three variables below."
   ]
  },
  {
   "cell_type": "code",
   "execution_count": 6,
   "id": "1fd90c5b",
   "metadata": {
    "execution": {
     "iopub.execute_input": "2022-12-21T17:49:35.860559Z",
     "iopub.status.busy": "2022-12-21T17:49:35.860206Z",
     "iopub.status.idle": "2022-12-21T17:49:35.887154Z",
     "shell.execute_reply": "2022-12-21T17:49:35.886467Z"
    }
   },
   "outputs": [],
   "source": [
    "promoter_template   = read(\"pYPKa_Z_PGI1.gb\")\n",
    "gene_template       = read(\"pYPKa_A_ScCTT1.gb\")\n",
    "terminator_template = read(\"pYPKa_E_TEF1.gb\")"
   ]
  },
  {
   "cell_type": "markdown",
   "id": "200a2251",
   "metadata": {
    "lines_to_next_cell": 0
   },
   "source": [
    "### PCR\n",
    "Three DNA fragments are PCR amplified using [standard primers](standard_primers.fasta).\n",
    "\n",
    "[Suggested PCR programs](#Suggested-PCR-programs) can be found at the end of this document."
   ]
  },
  {
   "cell_type": "code",
   "execution_count": 7,
   "id": "83fc2a1e",
   "metadata": {
    "execution": {
     "iopub.execute_input": "2022-12-21T17:49:35.891682Z",
     "iopub.status.busy": "2022-12-21T17:49:35.891060Z",
     "iopub.status.idle": "2022-12-21T17:49:35.896333Z",
     "shell.execute_reply": "2022-12-21T17:49:35.895123Z"
    }
   },
   "outputs": [],
   "source": [
    "\n",
    "fp_prom = p['577_crp585-557']\n",
    "rp_prom = p['567_pCAPsAjiIF']\n",
    "fp_gene = p['468_pCAPs_release_fw']\n",
    "rp_gene = p['467_pCAPs_release_re']\n",
    "fp_term = p['568_pCAPsAjiIR']\n",
    "rp_term = p['578_crp42-70']"
   ]
  },
  {
   "cell_type": "code",
   "execution_count": 8,
   "id": "adf113ae",
   "metadata": {
    "execution": {
     "iopub.execute_input": "2022-12-21T17:49:35.900960Z",
     "iopub.status.busy": "2022-12-21T17:49:35.900594Z",
     "iopub.status.idle": "2022-12-21T17:49:35.932831Z",
     "shell.execute_reply": "2022-12-21T17:49:35.932157Z"
    }
   },
   "outputs": [],
   "source": [
    "prom = pcr(fp_prom, rp_prom, promoter_template)\n",
    "gene = pcr(fp_gene, rp_gene, gene_template)\n",
    "term = pcr(fp_term, rp_term, terminator_template)"
   ]
  },
  {
   "cell_type": "code",
   "execution_count": 9,
   "id": "d794861d",
   "metadata": {
    "execution": {
     "iopub.execute_input": "2022-12-21T17:49:35.936409Z",
     "iopub.status.busy": "2022-12-21T17:49:35.935908Z",
     "iopub.status.idle": "2022-12-21T17:49:35.941170Z",
     "shell.execute_reply": "2022-12-21T17:49:35.940004Z"
    }
   },
   "outputs": [],
   "source": [
    "prom.name = \"pYPKa_Z_PGI1\"[8:]\n",
    "gene.name = \"pYPKa_A_ScCTT1\"[8:]\n",
    "term.name = \"pYPKa_E_TEF1\"[8:]"
   ]
  },
  {
   "cell_type": "markdown",
   "id": "a8810b19",
   "metadata": {},
   "source": [
    "\n",
    "The fragments will be assembled by _in-vivo_ [homologous recombination](http://www.ncbi.nlm.nih.gov/pubmed/2828185):"
   ]
  },
  {
   "cell_type": "code",
   "execution_count": 10,
   "id": "e422686b",
   "metadata": {
    "execution": {
     "iopub.execute_input": "2022-12-21T17:49:35.945990Z",
     "iopub.status.busy": "2022-12-21T17:49:35.945300Z",
     "iopub.status.idle": "2022-12-21T17:49:36.505907Z",
     "shell.execute_reply": "2022-12-21T17:49:36.504935Z"
    }
   },
   "outputs": [
    {
     "data": {
      "text/plain": [
       "Assembly\n",
       "fragments..: 5685bp 1231bp 1788bp 919bp\n",
       "limit(bp)..: 31\n",
       "G.nodes....: 8\n",
       "algorithm..: common_sub_strings"
      ]
     },
     "execution_count": 10,
     "metadata": {},
     "output_type": "execute_result"
    }
   ],
   "source": [
    "asm = Assembly((linear_backbone, prom, gene, term), limit=31)\n",
    "asm"
   ]
  },
  {
   "cell_type": "markdown",
   "id": "2e36b3b3",
   "metadata": {},
   "source": [
    "The Assembly object above should normally indicate four fragments and eight nodes."
   ]
  },
  {
   "cell_type": "code",
   "execution_count": 11,
   "id": "8243e8bb",
   "metadata": {
    "execution": {
     "iopub.execute_input": "2022-12-21T17:49:36.509717Z",
     "iopub.status.busy": "2022-12-21T17:49:36.509203Z",
     "iopub.status.idle": "2022-12-21T17:49:36.737382Z",
     "shell.execute_reply": "2022-12-21T17:49:36.735640Z"
    },
    "lines_to_next_cell": 0
   },
   "outputs": [
    {
     "data": {
      "text/plain": [
       "[Contig(o9151), Contig(o9151)]"
      ]
     },
     "execution_count": 11,
     "metadata": {},
     "output_type": "execute_result"
    }
   ],
   "source": [
    "candidates = asm.assemble_circular()\n",
    "candidates"
   ]
  },
  {
   "cell_type": "markdown",
   "id": "87db8e78",
   "metadata": {},
   "source": [
    "There should normally be two candidates of equal size. These sequences should be identical."
   ]
  },
  {
   "cell_type": "code",
   "execution_count": 12,
   "id": "a07a940e",
   "metadata": {
    "execution": {
     "iopub.execute_input": "2022-12-21T17:49:36.742889Z",
     "iopub.status.busy": "2022-12-21T17:49:36.742275Z",
     "iopub.status.idle": "2022-12-21T17:49:36.746367Z",
     "shell.execute_reply": "2022-12-21T17:49:36.745485Z"
    },
    "lines_to_next_cell": 0
   },
   "outputs": [],
   "source": [
    "candidate, *rest = candidates"
   ]
  },
  {
   "cell_type": "code",
   "execution_count": 13,
   "id": "8c0a4054",
   "metadata": {
    "execution": {
     "iopub.execute_input": "2022-12-21T17:49:36.750603Z",
     "iopub.status.busy": "2022-12-21T17:49:36.750168Z",
     "iopub.status.idle": "2022-12-21T17:49:36.772331Z",
     "shell.execute_reply": "2022-12-21T17:49:36.771637Z"
    },
    "lines_to_next_cell": 0
   },
   "outputs": [
    {
     "data": {
      "text/plain": [
       "True"
      ]
     },
     "execution_count": 13,
     "metadata": {},
     "output_type": "execute_result"
    }
   ],
   "source": [
    "candidate.cseguid() == rest[0].cseguid()"
   ]
  },
  {
   "cell_type": "code",
   "execution_count": 14,
   "id": "9cd3f6cb",
   "metadata": {
    "execution": {
     "iopub.execute_input": "2022-12-21T17:49:36.775485Z",
     "iopub.status.busy": "2022-12-21T17:49:36.775161Z",
     "iopub.status.idle": "2022-12-21T17:49:36.781302Z",
     "shell.execute_reply": "2022-12-21T17:49:36.780362Z"
    },
    "lines_to_next_cell": 0
   },
   "outputs": [
    {
     "data": {
      "text/plain": [
       " -|pTA9_lin|242\n",
       "|           \\/\n",
       "|           /\\\n",
       "|           242|TEF1_rc|37\n",
       "|                       \\/\n",
       "|                       /\\\n",
       "|                       37|ScCTT1_rc|50\n",
       "|                                    \\/\n",
       "|                                    /\\\n",
       "|                                    50|PGI1_rc|124\n",
       "|                                               \\/\n",
       "|                                               /\\\n",
       "|                                               124-\n",
       "|                                                  |\n",
       " --------------------------------------------------"
      ]
     },
     "execution_count": 14,
     "metadata": {},
     "output_type": "execute_result"
    }
   ],
   "source": [
    "candidate.figure()"
   ]
  },
  {
   "cell_type": "markdown",
   "id": "36acbabc",
   "metadata": {},
   "source": [
    "The candidate vector is synchronized to the 577 primer. This means that\n",
    "the plasmid origin is shifted so that it matches the backbone vector."
   ]
  },
  {
   "cell_type": "code",
   "execution_count": 15,
   "id": "01cdc385",
   "metadata": {
    "execution": {
     "iopub.execute_input": "2022-12-21T17:49:36.785636Z",
     "iopub.status.busy": "2022-12-21T17:49:36.785327Z",
     "iopub.status.idle": "2022-12-21T17:49:37.203611Z",
     "shell.execute_reply": "2022-12-21T17:49:37.202817Z"
    }
   },
   "outputs": [],
   "source": [
    "result = candidate.synced(fp_prom)"
   ]
  },
  {
   "cell_type": "markdown",
   "id": "d82b80fe",
   "metadata": {},
   "source": [
    "### Diagnostic PCR confirmation\n",
    "\n",
    "The structure of the final vector is confirmed by two\n",
    "separate PCR reactions, one for the promoter and gene and\n",
    "one for the gene and terminator.\n",
    "\n",
    "PCR using standard primers 577 and 467 to amplify promoter and gene."
   ]
  },
  {
   "cell_type": "code",
   "execution_count": 16,
   "id": "4dc8b4af",
   "metadata": {
    "execution": {
     "iopub.execute_input": "2022-12-21T17:49:37.207308Z",
     "iopub.status.busy": "2022-12-21T17:49:37.207027Z",
     "iopub.status.idle": "2022-12-21T17:49:37.235520Z",
     "shell.execute_reply": "2022-12-21T17:49:37.234721Z"
    }
   },
   "outputs": [],
   "source": [
    "product = pcr( fp_prom, rp_gene, result)"
   ]
  },
  {
   "cell_type": "markdown",
   "id": "4773b928",
   "metadata": {},
   "source": [
    "A correct clone should give this size in base pairs:"
   ]
  },
  {
   "cell_type": "code",
   "execution_count": 17,
   "id": "18fedf11",
   "metadata": {
    "execution": {
     "iopub.execute_input": "2022-12-21T17:49:37.239639Z",
     "iopub.status.busy": "2022-12-21T17:49:37.239191Z",
     "iopub.status.idle": "2022-12-21T17:49:37.244468Z",
     "shell.execute_reply": "2022-12-21T17:49:37.243440Z"
    }
   },
   "outputs": [
    {
     "name": "stdout",
     "output_type": "stream",
     "text": [
      "2969\n"
     ]
    }
   ],
   "source": [
    "print(len(product))"
   ]
  },
  {
   "cell_type": "markdown",
   "id": "823fba44",
   "metadata": {},
   "source": [
    "If the promoter is missing from the assembly, the PCR product will have this size in base pairs:"
   ]
  },
  {
   "cell_type": "code",
   "execution_count": 18,
   "id": "3ff185a0",
   "metadata": {
    "execution": {
     "iopub.execute_input": "2022-12-21T17:49:37.248393Z",
     "iopub.status.busy": "2022-12-21T17:49:37.248081Z",
     "iopub.status.idle": "2022-12-21T17:49:37.252762Z",
     "shell.execute_reply": "2022-12-21T17:49:37.251871Z"
    }
   },
   "outputs": [
    {
     "name": "stdout",
     "output_type": "stream",
     "text": [
      "1738\n"
     ]
    }
   ],
   "source": [
    "print(len(product) - len(prom))"
   ]
  },
  {
   "cell_type": "markdown",
   "id": "c8fc9204",
   "metadata": {},
   "source": [
    "If the gene is missing from the assembly, the PCR product will have this size in base pairs:"
   ]
  },
  {
   "cell_type": "code",
   "execution_count": 19,
   "id": "48c9ea67",
   "metadata": {
    "execution": {
     "iopub.execute_input": "2022-12-21T17:49:37.258669Z",
     "iopub.status.busy": "2022-12-21T17:49:37.257883Z",
     "iopub.status.idle": "2022-12-21T17:49:37.263189Z",
     "shell.execute_reply": "2022-12-21T17:49:37.262433Z"
    }
   },
   "outputs": [
    {
     "name": "stdout",
     "output_type": "stream",
     "text": [
      "1181\n"
     ]
    }
   ],
   "source": [
    "print(len(product) - len(gene))"
   ]
  },
  {
   "cell_type": "markdown",
   "id": "b44904f0",
   "metadata": {},
   "source": [
    "PCR using standard primers 468 and 578 to amplify gene and terminator."
   ]
  },
  {
   "cell_type": "code",
   "execution_count": 20,
   "id": "12953346",
   "metadata": {
    "execution": {
     "iopub.execute_input": "2022-12-21T17:49:37.266973Z",
     "iopub.status.busy": "2022-12-21T17:49:37.266705Z",
     "iopub.status.idle": "2022-12-21T17:49:37.291029Z",
     "shell.execute_reply": "2022-12-21T17:49:37.290238Z"
    }
   },
   "outputs": [],
   "source": [
    "product2 = pcr( fp_gene, rp_term, result)"
   ]
  },
  {
   "cell_type": "markdown",
   "id": "b6ade256",
   "metadata": {},
   "source": [
    "A correct clone should give this size:"
   ]
  },
  {
   "cell_type": "code",
   "execution_count": 21,
   "id": "0f41b145",
   "metadata": {
    "execution": {
     "iopub.execute_input": "2022-12-21T17:49:37.294506Z",
     "iopub.status.busy": "2022-12-21T17:49:37.294197Z",
     "iopub.status.idle": "2022-12-21T17:49:37.298998Z",
     "shell.execute_reply": "2022-12-21T17:49:37.298083Z"
    }
   },
   "outputs": [
    {
     "name": "stdout",
     "output_type": "stream",
     "text": [
      "2670\n"
     ]
    }
   ],
   "source": [
    "print(len(product2))"
   ]
  },
  {
   "cell_type": "markdown",
   "id": "92dfbf86",
   "metadata": {},
   "source": [
    "If the gene is missing from the assembly, the PCR product will have this size in base pairs:"
   ]
  },
  {
   "cell_type": "code",
   "execution_count": 22,
   "id": "fb07c459",
   "metadata": {
    "execution": {
     "iopub.execute_input": "2022-12-21T17:49:37.302943Z",
     "iopub.status.busy": "2022-12-21T17:49:37.302451Z",
     "iopub.status.idle": "2022-12-21T17:49:37.310141Z",
     "shell.execute_reply": "2022-12-21T17:49:37.309148Z"
    }
   },
   "outputs": [
    {
     "name": "stdout",
     "output_type": "stream",
     "text": [
      "882\n"
     ]
    }
   ],
   "source": [
    "print(len(product2) - len(gene))"
   ]
  },
  {
   "cell_type": "markdown",
   "id": "e06cd1b9",
   "metadata": {},
   "source": [
    "If the terminator is missing from the assembly, the PCR product will have this size in base pairs:"
   ]
  },
  {
   "cell_type": "code",
   "execution_count": 23,
   "id": "8423f42d",
   "metadata": {
    "execution": {
     "iopub.execute_input": "2022-12-21T17:49:37.315641Z",
     "iopub.status.busy": "2022-12-21T17:49:37.315222Z",
     "iopub.status.idle": "2022-12-21T17:49:37.320184Z",
     "shell.execute_reply": "2022-12-21T17:49:37.319247Z"
    }
   },
   "outputs": [
    {
     "name": "stdout",
     "output_type": "stream",
     "text": [
      "1751\n"
     ]
    }
   ],
   "source": [
    "print(len(product2) - len(term))"
   ]
  },
  {
   "cell_type": "markdown",
   "id": "24a89f3f",
   "metadata": {},
   "source": [
    "The cseguid checksum for the resulting plasmid is calculated for future reference.\n",
    "The [cseguid checksum](http://pydna.readthedocs.org/en/latest/pydna.html#pydna.utils.cseguid)\n",
    "uniquely identifies a circular double stranded sequence."
   ]
  },
  {
   "cell_type": "code",
   "execution_count": 24,
   "id": "dcd36d59",
   "metadata": {
    "execution": {
     "iopub.execute_input": "2022-12-21T17:49:37.324953Z",
     "iopub.status.busy": "2022-12-21T17:49:37.324588Z",
     "iopub.status.idle": "2022-12-21T17:49:37.335000Z",
     "shell.execute_reply": "2022-12-21T17:49:37.334116Z"
    }
   },
   "outputs": [
    {
     "name": "stdout",
     "output_type": "stream",
     "text": [
      "PzRQvpooEGptQPDUsE5WkZQyB6Y\n"
     ]
    }
   ],
   "source": [
    "print(result.cseguid())"
   ]
  },
  {
   "cell_type": "markdown",
   "id": "faa88d6d",
   "metadata": {},
   "source": [
    "The file name is based on the promoter, gene and terminator designations."
   ]
  },
  {
   "cell_type": "code",
   "execution_count": 25,
   "id": "04feecea",
   "metadata": {
    "execution": {
     "iopub.execute_input": "2022-12-21T17:49:37.339939Z",
     "iopub.status.busy": "2022-12-21T17:49:37.339413Z",
     "iopub.status.idle": "2022-12-21T17:49:37.343945Z",
     "shell.execute_reply": "2022-12-21T17:49:37.343238Z"
    }
   },
   "outputs": [],
   "source": [
    "result.locus = f\"tu:{gene.name}\"[:16]\n",
    "result.definition = \"pTA9_PGI1_ScCTT1_TEF1\""
   ]
  },
  {
   "cell_type": "markdown",
   "id": "3eb1b528",
   "metadata": {},
   "source": [
    "Sequence is stamped with cseguid checksum. This can be used to verify the\n",
    "integrity of the sequence file."
   ]
  },
  {
   "cell_type": "code",
   "execution_count": 26,
   "id": "c1f15ac4",
   "metadata": {
    "execution": {
     "iopub.execute_input": "2022-12-21T17:49:37.347292Z",
     "iopub.status.busy": "2022-12-21T17:49:37.346821Z",
     "iopub.status.idle": "2022-12-21T17:49:37.360661Z",
     "shell.execute_reply": "2022-12-21T17:49:37.359997Z"
    }
   },
   "outputs": [
    {
     "data": {
      "text/plain": [
       "PzRQvpooEGptQPDUsE5WkZQyB6Y"
      ]
     },
     "execution_count": 26,
     "metadata": {},
     "output_type": "execute_result"
    }
   ],
   "source": [
    "result.stamp(\"cSEGUID\")"
   ]
  },
  {
   "cell_type": "markdown",
   "id": "ac8e7643",
   "metadata": {},
   "source": [
    "Write sequence to a local file."
   ]
  },
  {
   "cell_type": "code",
   "execution_count": 27,
   "id": "18e7381c",
   "metadata": {
    "execution": {
     "iopub.execute_input": "2022-12-21T17:49:37.364063Z",
     "iopub.status.busy": "2022-12-21T17:49:37.363793Z",
     "iopub.status.idle": "2022-12-21T17:49:37.384019Z",
     "shell.execute_reply": "2022-12-21T17:49:37.383047Z"
    }
   },
   "outputs": [
    {
     "data": {
      "text/html": [
       "<font face=monospace><a href='pTA9_PGI1_ScCTT1_TEF1.gb' target='_blank'>pTA9_PGI1_ScCTT1_TEF1.gb</a></font><br>"
      ]
     },
     "metadata": {},
     "output_type": "display_data"
    }
   ],
   "source": [
    "result.write(f\"{result.definition}.gb\")"
   ]
  },
  {
   "cell_type": "markdown",
   "id": "596aeecf",
   "metadata": {
    "lines_to_next_cell": 0
   },
   "source": [
    "### Suggested PCR programs\n",
    "\n",
    "For the [amplification](#PCR) of promoter, gene and terminator."
   ]
  },
  {
   "cell_type": "code",
   "execution_count": 28,
   "id": "95e0cb27",
   "metadata": {
    "execution": {
     "iopub.execute_input": "2022-12-21T17:49:37.387629Z",
     "iopub.status.busy": "2022-12-21T17:49:37.387269Z",
     "iopub.status.idle": "2022-12-21T17:49:37.394111Z",
     "shell.execute_reply": "2022-12-21T17:49:37.392780Z"
    }
   },
   "outputs": [
    {
     "name": "stdout",
     "output_type": "stream",
     "text": [
      "577_crp585-557 567_pCAPsAjiIF\n",
      "|95°C|95°C               |    |tmf:64.6\n",
      "|____|_____          72°C|72°C|tmr:69.7\n",
      "|3min|30s  \\ 57.7°C _____|____|45s/kb\n",
      "|    |      \\______/ 0:55|5min|GC 40%\n",
      "|    |       30s         |    |1231bp\n"
     ]
    }
   ],
   "source": [
    "print(prom.forward_primer.name, prom.reverse_primer.name)\n",
    "print(prom.program())"
   ]
  },
  {
   "cell_type": "code",
   "execution_count": 29,
   "id": "6771c31b",
   "metadata": {
    "execution": {
     "iopub.execute_input": "2022-12-21T17:49:37.398972Z",
     "iopub.status.busy": "2022-12-21T17:49:37.398608Z",
     "iopub.status.idle": "2022-12-21T17:49:37.403660Z",
     "shell.execute_reply": "2022-12-21T17:49:37.402903Z"
    }
   },
   "outputs": [
    {
     "name": "stdout",
     "output_type": "stream",
     "text": [
      "468_pCAPs_release_fw 467_pCAPs_release_re\n",
      "|95°C|95°C               |    |tmf:76.9\n",
      "|____|_____          72°C|72°C|tmr:67.9\n",
      "|3min|30s  \\ 59.1°C _____|____|45s/kb\n",
      "|    |      \\______/ 1:20|5min|GC 41%\n",
      "|    |       30s         |    |1788bp\n"
     ]
    }
   ],
   "source": [
    "print(gene.forward_primer.name, gene.reverse_primer.name)\n",
    "print(gene.program())"
   ]
  },
  {
   "cell_type": "code",
   "execution_count": 30,
   "id": "817e7298",
   "metadata": {
    "execution": {
     "iopub.execute_input": "2022-12-21T17:49:37.408175Z",
     "iopub.status.busy": "2022-12-21T17:49:37.407636Z",
     "iopub.status.idle": "2022-12-21T17:49:37.412746Z",
     "shell.execute_reply": "2022-12-21T17:49:37.411964Z"
    }
   },
   "outputs": [
    {
     "name": "stdout",
     "output_type": "stream",
     "text": [
      "568_pCAPsAjiIR 578_crp42-70\n",
      "|95°C|95°C               |    |tmf:66.1\n",
      "|____|_____          72°C|72°C|tmr:65.0\n",
      "|3min|30s  \\ 57.1°C _____|____|45s/kb\n",
      "|    |      \\______/ 0:41|5min|GC 38%\n",
      "|    |       30s         |    |919bp\n"
     ]
    }
   ],
   "source": [
    "print(term.forward_primer.name, term.reverse_primer.name)\n",
    "print(term.program())"
   ]
  }
 ],
 "metadata": {
  "jupytext": {
   "main_language": "python",
   "text_representation": {
    "extension": ".py",
    "format_name": "percent",
    "format_version": "1.3",
    "jupytext_version": "1.14.0"
   }
  },
  "language_info": {
   "codemirror_mode": {
    "name": "ipython",
    "version": 3
   },
   "file_extension": ".py",
   "mimetype": "text/x-python",
   "name": "python",
   "nbconvert_exporter": "python",
   "pygments_lexer": "ipython3",
   "version": "3.8.15"
  }
 },
 "nbformat": 4,
 "nbformat_minor": 5
}
