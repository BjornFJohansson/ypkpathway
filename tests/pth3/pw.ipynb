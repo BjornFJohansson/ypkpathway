{
 "cells": [
  {
   "cell_type": "markdown",
   "metadata": {},
   "source": [
    "# Pathway pYPK0_NC_006038_CiGXF1_PsXYL2\n",
    "\n",
    "This notebook describes the assembly of 4 single gene expression cassettes into a single pathway. \n",
    "Notebooks describing the single gene expression vectors are linked at the end of this document as are notebooks \n",
    "describing pYPKa promoter, gene and terminator vectors. Specific primers needed are also listed below.\n",
    "\n",
    "![pathway with N genes](pw.png \"pathway with N genes\")\n",
    "\n",
    "The [pydna](https://pypi.python.org/pypi/pydna/) package is imported in the code cell below. \n",
    "There is a [publication](http://www.biomedcentral.com/1471-2105/16/142) describing pydna as well as\n",
    "[documentation](http://pydna.readthedocs.org/en/latest/) available online. \n",
    "Pydna is developed on [Github](https://github.com/BjornFJohansson/pydna).\n",
    "\n",
    "The assembly performed here is based on content of the [INDATA_pth3.txt](INDATA_pth3.txt) text file.\n",
    "The assembly log can be viewed [here](log.txt)."
   ]
  },
  {
   "cell_type": "code",
   "execution_count": 1,
   "metadata": {},
   "outputs": [],
   "source": [
    "import pydna"
   ]
  },
  {
   "cell_type": "markdown",
   "metadata": {},
   "source": [
    "Initiate the standard primers needed to amplify each cassette.\n",
    "The first cassette in the pathway is amplified with standard\n",
    "primers 577 and 778, the last with\n",
    "775 and 578 and all others with 775 and 778.\n",
    "Standard primers are listed [here](standard_primers.txt)."
   ]
  },
  {
   "cell_type": "code",
   "execution_count": 2,
   "metadata": {},
   "outputs": [],
   "source": [
    "p = { x.id: x for x in pydna.parse(\"standard_primers.txt\") }"
   ]
  },
  {
   "cell_type": "markdown",
   "metadata": {},
   "source": [
    "The backbone vector is linearized with [EcoRV](http://rebase.neb.com/rebase/enz/EcoRV.html)."
   ]
  },
  {
   "cell_type": "code",
   "execution_count": 3,
   "metadata": {},
   "outputs": [],
   "source": [
    "from Bio.Restriction import EcoRV, NotI, PacI\n",
    "\n",
    "pYPKpw = pydna.read(\"pYPKpw.gb\")"
   ]
  },
  {
   "cell_type": "markdown",
   "metadata": {},
   "source": [
    "The cassette_products variable holds the list of expression cassette PCR products fragments to\n",
    "be assembled."
   ]
  },
  {
   "cell_type": "code",
   "execution_count": 4,
   "metadata": {},
   "outputs": [],
   "source": [
    "cassette_products = []"
   ]
  },
  {
   "cell_type": "markdown",
   "metadata": {},
   "source": [
    "The expression cassettes comes from a series of single gene expression vectors \n",
    "held in the template_vectors list."
   ]
  },
  {
   "cell_type": "code",
   "execution_count": 5,
   "metadata": {},
   "outputs": [
    {
     "data": {
      "text/plain": [
       "[Dseqrecord(o10155), Dseqrecord(o8746), Dseqrecord(o8570)]"
      ]
     },
     "execution_count": 5,
     "metadata": {},
     "output_type": "execute_result"
    }
   ],
   "source": [
    "cassette_vectors ='''\n",
    "             \n",
    "             pYPK0_RPL12A_NC_006038_RPL12B.gb\n",
    "             \n",
    "             pYPK0_RPL12B_CiGXF1_TDH3tp.gb\n",
    "             pYPK0_TDH3tp_PsXYL2_PGI1tp.gb'''.splitlines()\n",
    "\n",
    "template_vectors = [pydna.read(v.strip()) for v in cassette_vectors if v.strip()]\n",
    "\n",
    "template_vectors"
   ]
  },
  {
   "cell_type": "markdown",
   "metadata": {},
   "source": [
    "The first cassette in the pathway is amplified with standard primers 577 and 778. Suggested PCR conditions can be found at the end of this document."
   ]
  },
  {
   "cell_type": "code",
   "execution_count": 6,
   "metadata": {},
   "outputs": [],
   "source": [
    "cassette_products.append( pydna.pcr( p['577'], p['778'],  template_vectors[0] ) )"
   ]
  },
  {
   "cell_type": "markdown",
   "metadata": {},
   "source": [
    "Cassettes in the middle cassettes are amplified with standard primers 775 and 778. Suggested PCR conditions can be found at the end of this document."
   ]
  },
  {
   "cell_type": "code",
   "execution_count": 7,
   "metadata": {},
   "outputs": [],
   "source": [
    "cassette_products.extend( pydna.pcr( p['775'], p['778'], v) for v in template_vectors[1:-1] ) "
   ]
  },
  {
   "cell_type": "markdown",
   "metadata": {},
   "source": [
    "The last cassette in the pathway is amplified with standard primers 775 and 578. Suggested PCR conditions can be found at the end of this document."
   ]
  },
  {
   "cell_type": "code",
   "execution_count": 8,
   "metadata": {},
   "outputs": [],
   "source": [
    "cassette_products.append( pydna.pcr( p['775'], p['578'], template_vectors[-1] ) )"
   ]
  },
  {
   "cell_type": "markdown",
   "metadata": {},
   "source": [
    "Cassettes and plasmid backbone are joined by homologous recombination in a Saccharomyces cerevisiae ura3 host\n",
    "which selects for the URA3 gene in pYPKpw."
   ]
  },
  {
   "cell_type": "code",
   "execution_count": 9,
   "metadata": {},
   "outputs": [
    {
     "data": {
      "text/plain": [
       "Assembly:\n",
       "Sequences........................: [5603] [4655] [3090] [3196]\n",
       "Sequences with shared homologies.: [5603] [4655] [3196] [3090]\n",
       "Homology limit (bp)..............: 110\n",
       "Number of overlaps...............: 4\n",
       "Nodes in graph(incl. 5' & 3')....: 6\n",
       "Only terminal overlaps...........: No\n",
       "Circular products................: [14780]\n",
       "Linear products..................: [15517] [15422] [15024] [14921] [13069] [12565] [10908] [10117] [9562] [8555] [7103] [5549] [737] [642] [244] [141]"
      ]
     },
     "execution_count": 9,
     "metadata": {},
     "output_type": "execute_result"
    }
   ],
   "source": [
    "asm = pydna.Assembly( [pYPKpw.linearize(EcoRV)] + cassette_products, limit=167-47-10)\n",
    "asm"
   ]
  },
  {
   "cell_type": "markdown",
   "metadata": {},
   "source": [
    "Normally, only one circular product should be formed since the \n",
    "homology limit is quite large (see cell above). More than one \n",
    "circular products might indicate an incorrect strategy. \n",
    "The largest recombination product is chosen as candidate for \n",
    "the pYPK0_NC_006038_CiGXF1_PsXYL2 pathway."
   ]
  },
  {
   "cell_type": "code",
   "execution_count": 10,
   "metadata": {},
   "outputs": [],
   "source": [
    "candidate = asm.circular_products[0]"
   ]
  },
  {
   "cell_type": "markdown",
   "metadata": {},
   "source": [
    "This assembly figure shows how the fragments came together."
   ]
  },
  {
   "cell_type": "code",
   "execution_count": 11,
   "metadata": {},
   "outputs": [
    {
     "data": {
      "text/plain": [
       " -|pYPKpw|124\n",
       "|         \\/\n",
       "|         /\\\n",
       "|         124|4655bp_PCR_prod|617\n",
       "|                             \\/\n",
       "|                             /\\\n",
       "|                             617|3090bp_PCR_prod|712\n",
       "|                                                 \\/\n",
       "|                                                 /\\\n",
       "|                                                 712|3196bp_PCR_prod|242\n",
       "|                                                                     \\/\n",
       "|                                                                     /\\\n",
       "|                                                                     242-\n",
       "|                                                                        |\n",
       " ------------------------------------------------------------------------"
      ]
     },
     "execution_count": 11,
     "metadata": {},
     "output_type": "execute_result"
    }
   ],
   "source": [
    "candidate.figure()"
   ]
  },
  {
   "cell_type": "markdown",
   "metadata": {},
   "source": [
    "The final pathway is synchronized to the backbone vector. This means that\n",
    "the plasmid origin is shifted so that it matches the original."
   ]
  },
  {
   "cell_type": "code",
   "execution_count": 12,
   "metadata": {},
   "outputs": [],
   "source": [
    "pw = candidate.synced(pYPKpw)"
   ]
  },
  {
   "cell_type": "markdown",
   "metadata": {},
   "source": [
    "The cseguid checksum for the resulting plasmid is calculated for future reference.\n",
    "The [cseguid checksum](http://pydna.readthedocs.org/en/latest/pydna.html#pydna.utils.cseguid) \n",
    "uniquely identifies a circular double stranded sequence."
   ]
  },
  {
   "cell_type": "code",
   "execution_count": 13,
   "metadata": {},
   "outputs": [
    {
     "data": {
      "text/plain": [
       "uKQOoKKC5Isl8vGI-T-tBTl2dCg"
      ]
     },
     "execution_count": 13,
     "metadata": {},
     "output_type": "execute_result"
    }
   ],
   "source": [
    "pw.cseguid()"
   ]
  },
  {
   "cell_type": "markdown",
   "metadata": {},
   "source": [
    "The file is given a name based on the sequence of expressed genes."
   ]
  },
  {
   "cell_type": "code",
   "execution_count": 14,
   "metadata": {},
   "outputs": [],
   "source": [
    "pw.locus = \"pw\"\n",
    "pw.definition = \"pYPK0_NC_006038_CiGXF1_PsXYL2\""
   ]
  },
  {
   "cell_type": "markdown",
   "metadata": {},
   "source": [
    "Stamp sequence with cseguid checksum. This can be used to verify the \n",
    "integrity of the sequence file."
   ]
  },
  {
   "cell_type": "code",
   "execution_count": 15,
   "metadata": {},
   "outputs": [
    {
     "data": {
      "text/plain": [
       "cSEGUID_uKQOoKKC5Isl8vGI-T-tBTl2dCg_2015-10-02T06:18:40.950304"
      ]
     },
     "execution_count": 15,
     "metadata": {},
     "output_type": "execute_result"
    }
   ],
   "source": [
    "pw.stamp()"
   ]
  },
  {
   "cell_type": "markdown",
   "metadata": {},
   "source": [
    "Write sequence to a local file."
   ]
  },
  {
   "cell_type": "code",
   "execution_count": 16,
   "metadata": {},
   "outputs": [
    {
     "data": {
      "text/markdown": [
       "###[pYPK0_NC_006038_CiGXF1_PsXYL2](pYPK0_NC_006038_CiGXF1_PsXYL2.gb)"
      ],
      "text/plain": [
       "<IPython.core.display.Markdown object>"
      ]
     },
     "execution_count": 16,
     "metadata": {},
     "output_type": "execute_result"
    }
   ],
   "source": [
    "pw.write(\"pYPK0_NC_006038_CiGXF1_PsXYL2.gb\")"
   ]
  },
  {
   "cell_type": "markdown",
   "metadata": {},
   "source": [
    "The pathway can be extended by digestion with either NotI or PacI or both provided that the enzymes cut once in the final pathway sequence."
   ]
  },
  {
   "cell_type": "code",
   "execution_count": 17,
   "metadata": {},
   "outputs": [
    {
     "name": "stdout",
     "output_type": "stream",
     "text": [
      "NotI cuts 1 time(s) and PacI cuts 2 time(s) in the final pathway.\n"
     ]
    }
   ],
   "source": [
    "print(\"NotI cuts {} time(s) and PacI cuts {} time(s) in the final pathway.\".format(len(pw.cut(NotI)), len(pw.cut(PacI))))"
   ]
  },
  {
   "cell_type": "markdown",
   "metadata": {},
   "source": [
    "## DOWNLOAD [pYPK0_NC_006038_CiGXF1_PsXYL2](pYPK0_NC_006038_CiGXF1_PsXYL2.gb)"
   ]
  },
  {
   "cell_type": "code",
   "execution_count": 18,
   "metadata": {},
   "outputs": [
    {
     "data": {
      "text/plain": [
       "cSEGUID_uKQOoKKC5Isl8vGI-T-tBTl2dCg"
      ]
     },
     "execution_count": 18,
     "metadata": {},
     "output_type": "execute_result"
    }
   ],
   "source": [
    "import pydna\n",
    "\n",
    "reloaded = pydna.read(\"pYPK0_NC_006038_CiGXF1_PsXYL2.gb\")\n",
    "\n",
    "reloaded.verify_stamp()"
   ]
  },
  {
   "cell_type": "markdown",
   "metadata": {},
   "source": [
    "### New Primers needed for assembly.\n",
    "\n",
    "This list contains all needed primers that are not in the standard primer [list](standard_primers.txt) above."
   ]
  },
  {
   "cell_type": "code",
   "execution_count": 19,
   "metadata": {},
   "outputs": [
    {
     "name": "stdout",
     "output_type": "stream",
     "text": [
      ">fw3078 NC_006038.1\n",
      "ATAATGTCTTGCCTTATTCC\n",
      ">rv3078 NC_006038.1\n",
      "TTATTCAAAAGCGAGATC\n",
      "\n",
      ">fw682 RPL12A\n",
      "ttaaatTCTGGAATTTACCCTAACT\n",
      ">rv682 RPL12A\n",
      "taattaaTTTTGTATATCCTTTGTTCTT\n",
      ">fw604 RPL12B\n",
      "ttaaatTATAAGCTATGTAAAATCATGC\n",
      ">rv604 RPL12B\n",
      "taattaaATTGACTATTGATTTATCCTTC\n"
     ]
    }
   ],
   "source": [
    "try:\n",
    "\twith open(\"new_primers.txt\") as f: text = f.read()\n",
    "except IOError:\n",
    "\ttext = \"no new primers needed.\"\n",
    "print text"
   ]
  },
  {
   "cell_type": "markdown",
   "metadata": {},
   "source": [
    "### New single gene expression vectors (pYPK0_prom_gene_term) needed for assembly.\n",
    "\n",
    "Hyperlinks to notebook files describing the singlke gene expression plasmids needed for the assembly.\n",
    "\n",
    "[pYPK0_RPL12A_NC_006038_RPL12B](pYPK0_RPL12A_NC_006038_RPL12B.ipynb)  \n",
    "[pYPK0_RPL12B_CiGXF1_TDH3tp](pYPK0_RPL12B_CiGXF1_TDH3tp.ipynb)  \n",
    "\n",
    "[pYPK0_TDH3tp_PsXYL2_PGI1tp](pYPK0_TDH3tp_PsXYL2_PGI1tp.gb)\n",
    "\n",
    "\n",
    "### New pYPKa vectors needed for assembly of the single gene expression vectors above.\n",
    "\n",
    "Hyperlinks to notebook files describing the pYPKa plasmids needed for the assembly of the single gene clones listed above.\n",
    "\n",
    "[pYPKa_ZE_RPL12A](pYPKa_ZE_RPL12A.ipynb)  \n",
    "[pYPKa_A_NC_006038](pYPKa_A_NC_006038.ipynb)  \n",
    "[pYPKa_ZE_RPL12B](pYPKa_ZE_RPL12B.ipynb)  \n",
    "\n",
    "\n",
    "### Suggested PCR conditions"
   ]
  },
  {
   "cell_type": "code",
   "execution_count": 20,
   "metadata": {},
   "outputs": [
    {
     "name": "stdout",
     "output_type": "stream",
     "text": [
      "\n",
      "\n",
      "\n",
      "\n",
      "product name: 4655bp_PCR_prod\n",
      "template: pYPK0_tp_g_tp\n",
      "\n",
      "Taq (rate 30 nt/s) 35 cycles             |4655bp\n",
      "95.0°C    |95.0°C                 |      |SantaLucia 1998\n",
      "|_________|_____          72.0°C  |72.0°C|SaltC 50mM\n",
      "| 03min00s|30s  \\         ________|______|\n",
      "|         |      \\ 52.0°C/ 2min19s| 5min |\n",
      "|         |       \\_____/         |      |\n",
      "|         |         30s           |      |4-12°C\n",
      "\n",
      "\n",
      "\n",
      "\n",
      "product name: 3090bp_PCR_prod\n",
      "template: pYPK0_tp_g_tp\n",
      "\n",
      "Taq (rate 30 nt/s) 35 cycles             |3090bp\n",
      "95.0°C    |95.0°C                 |      |SantaLucia 1998\n",
      "|_________|_____          72.0°C  |72.0°C|SaltC 50mM\n",
      "| 03min00s|30s  \\         ________|______|\n",
      "|         |      \\ 52.0°C/ 1min32s| 5min |\n",
      "|         |       \\_____/         |      |\n",
      "|         |         30s           |      |4-12°C\n",
      "\n",
      "\n",
      "\n",
      "\n",
      "product name: 3196bp_PCR_prod\n",
      "template: pYPK0_tp_gene_tp\n",
      "\n",
      "Taq (rate 30 nt/s) 35 cycles             |3196bp\n",
      "95.0°C    |95.0°C                 |      |SantaLucia 1998\n",
      "|_________|_____          72.0°C  |72.0°C|SaltC 50mM\n",
      "| 03min00s|30s  \\         ________|______|\n",
      "|         |      \\ 56.0°C/ 1min35s| 5min |\n",
      "|         |       \\_____/         |      |\n",
      "|         |         30s           |      |4-12°C\n"
     ]
    }
   ],
   "source": [
    "for prd in cassette_products:\n",
    "\tprint\n",
    "\tprint\n",
    "\tprint\n",
    "\tprint\n",
    "\tprint \"product name:\", prd.name\n",
    "\tprint \"template:\", prd.template.name\n",
    "\tprint prd.program()\n"
   ]
  }
 ],
 "metadata": {},
 "nbformat": 4,
 "nbformat_minor": 0
}
