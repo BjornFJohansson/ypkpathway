{
 "cells": [
  {
   "cell_type": "markdown",
   "metadata": {},
   "source": [
    "#Pathway pYPK0_SsXYL1_SsXYL2_ScXKS1_ScTAL1\n",
    "\n",
    "This notebook describes the assembly of 4 single gene expression cassettes into a single pathway. \n",
    "Notebooks describing the single gene expression vectors are linked at the end of this document as are notebooks \n",
    "describing pYPKa promoter, gene and terminator vectors. Specific primers needed are also listed below.\n",
    "\n",
    "![pathway with N genes](pw.png \"pathway with N genes\")\n",
    "\n",
    "The [pydna](https://pypi.python.org/pypi/pydna/) package is imported in the code cell below. \n",
    "There is a [publication](http://www.biomedcentral.com/1471-2105/16/142) describing pydna as well as\n",
    "[documentation](http://pydna.readthedocs.org/en/latest/) available online. \n",
    "Pydna is developed on [Github](https://github.com/BjornFJohansson/pydna).\n",
    "\n",
    "The assembly performed here is based on content of the [INDATA_pth6.txt](INDATA_pth6.txt) text file.\n",
    "The assembly log can be viewed [here](log.txt)."
   ]
  },
  {
   "cell_type": "code",
   "execution_count": 1,
   "metadata": {
    "collapsed": true
   },
   "outputs": [],
   "source": [
    "import pydna"
   ]
  },
  {
   "cell_type": "markdown",
   "metadata": {},
   "source": [
    "Initiate the standard primers needed to amplify each cassette.\n",
    "The first cassette in the pathway is amplified with standard\n",
    "primers 577 and 778, the last with\n",
    "775 and 578 and all others with 775 and 778.\n",
    "Standard primers are listed [here](primers.fasta)."
   ]
  },
  {
   "cell_type": "code",
   "execution_count": 2,
   "metadata": {
    "collapsed": true
   },
   "outputs": [],
   "source": [
    "p = { x.id: x for x in pydna.parse(\"primers.fasta\") }"
   ]
  },
  {
   "cell_type": "markdown",
   "metadata": {},
   "source": [
    "The backbone vector is linearized with [EcoRV](http://rebase.neb.com/rebase/enz/EcoRV.html)."
   ]
  },
  {
   "cell_type": "code",
   "execution_count": 3,
   "metadata": {
    "collapsed": true
   },
   "outputs": [],
   "source": [
    "from Bio.Restriction import EcoRV\n",
    "\n",
    "pYPKpw = pydna.read(\"pYPKpw.gb\")"
   ]
  },
  {
   "cell_type": "markdown",
   "metadata": {},
   "source": [
    "The assembly_fragments variable holds the list of DNA fragments to\n",
    "be assembled."
   ]
  },
  {
   "cell_type": "code",
   "execution_count": 4,
   "metadata": {
    "collapsed": true
   },
   "outputs": [],
   "source": [
    "assembly_fragments = [ pYPKpw.linearize(EcoRV) ]"
   ]
  },
  {
   "cell_type": "markdown",
   "metadata": {},
   "source": [
    "The expression cassettes comes from a series of single gene expression vectors \n",
    "held in the template_vectors list."
   ]
  },
  {
   "cell_type": "code",
   "execution_count": 5,
   "metadata": {
    "collapsed": false
   },
   "outputs": [
    {
     "data": {
      "text/plain": [
       "[Dseqrecord(o8024), Dseqrecord(o8580), Dseqrecord(o9223), Dseqrecord(o8383)]"
      ]
     },
     "execution_count": 5,
     "metadata": {},
     "output_type": "execute_result"
    }
   ],
   "source": [
    "cas_vectors ='''\n",
    "             \n",
    "             pYPK0_TEF1_SsXYL1_TDH3.gb\n",
    "             \n",
    "             pYPK0_TDH3_SsXYL2_PGI.gb\n",
    "             \n",
    "             pYPK0_PGI_ScXKS1_FBA1.gb\n",
    "             \n",
    "             pYPK0_FBA1_ScTAL1_PDC1.gb'''.splitlines()\n",
    "\n",
    "template_vectors = [pydna.read(v.strip()) for v in cas_vectors if v.strip()]\n",
    "\n",
    "template_vectors"
   ]
  },
  {
   "cell_type": "markdown",
   "metadata": {},
   "source": [
    "The first cassette in the pathway is amplified with standard primers 577 and 778"
   ]
  },
  {
   "cell_type": "code",
   "execution_count": 6,
   "metadata": {
    "collapsed": true
   },
   "outputs": [],
   "source": [
    "assembly_fragments.append( pydna.pcr( p['577'], p['778'],  template_vectors[0] ) )"
   ]
  },
  {
   "cell_type": "markdown",
   "metadata": {},
   "source": [
    "Cassettes in the middle cassettes are amplified with standard primers 775 and 778."
   ]
  },
  {
   "cell_type": "code",
   "execution_count": 7,
   "metadata": {
    "collapsed": true
   },
   "outputs": [],
   "source": [
    "assembly_fragments.extend( pydna.pcr( p['775'], p['778'], v) for v in template_vectors[1:-1] ) "
   ]
  },
  {
   "cell_type": "markdown",
   "metadata": {},
   "source": [
    "The last cassette in the pathway is amplified with standard primers 775 and 578"
   ]
  },
  {
   "cell_type": "code",
   "execution_count": 8,
   "metadata": {
    "collapsed": true
   },
   "outputs": [],
   "source": [
    "assembly_fragments.append( pydna.pcr( p['775'], p['578'], template_vectors[-1] ) )"
   ]
  },
  {
   "cell_type": "markdown",
   "metadata": {},
   "source": [
    "Cassettes and plasmid backbone are joined by homologous recombination in a Saccharomyces cerevisiae ura3 host\n",
    "which selects for the URA3 gene in pYPKpw."
   ]
  },
  {
   "cell_type": "code",
   "execution_count": 9,
   "metadata": {
    "collapsed": false
   },
   "outputs": [
    {
     "data": {
      "text/plain": [
       "Assembly:\n",
       "Sequences........................: [5603] [2524] [2924] [3567] [3009]\n",
       "Sequences with shared homologies.: [5603] [2524] [3009] [2924] [3567]\n",
       "Homology limit (bp)..............: 110\n",
       "Number of overlaps...............: 5\n",
       "Nodes in graph(incl. 5' & 3')....: 7\n",
       "Only terminal overlaps...........: No\n",
       "Circular products................: [14800]\n",
       "Linear products..................: [15838] [15536] [15468] [15044] [14941] [13650] [13153] [12939] [12703] [11267] [10751] [10174] [9582] [8368] [7986] [7794] [7241] [5908] [5453] [4712] [1038] [736] [668] [244] [141]"
      ]
     },
     "execution_count": 9,
     "metadata": {},
     "output_type": "execute_result"
    }
   ],
   "source": [
    "asm = pydna.Assembly( assembly_fragments, limit=167-47-10)\n",
    "asm"
   ]
  },
  {
   "cell_type": "markdown",
   "metadata": {},
   "source": [
    "Normally, only one circular product should be formed since the \n",
    "homology limit is quite large (see cell above). More than one \n",
    "circular products might indicate an incorrect strategy. \n",
    "The largest recombination product is chosen as candidate for \n",
    "the pYPK0_SsXYL1_SsXYL2_ScXKS1_ScTAL1 pathway."
   ]
  },
  {
   "cell_type": "code",
   "execution_count": 10,
   "metadata": {
    "collapsed": true
   },
   "outputs": [],
   "source": [
    "candidate = asm.circular_products[0]"
   ]
  },
  {
   "cell_type": "markdown",
   "metadata": {},
   "source": [
    "This assembly figure shows how the fragments came together."
   ]
  },
  {
   "cell_type": "code",
   "execution_count": 11,
   "metadata": {
    "collapsed": false
   },
   "outputs": [
    {
     "data": {
      "text/plain": [
       " -|pYPKpw|124\n",
       "|         \\/\n",
       "|         /\\\n",
       "|         124|2524bp_PCR_prod|711\n",
       "|                             \\/\n",
       "|                             /\\\n",
       "|                             711|2924bp_PCR_prod|1013\n",
       "|                                                 \\/\n",
       "|                                                 /\\\n",
       "|                                                 1013|3567bp_PCR_prod|643\n",
       "|                                                                      \\/\n",
       "|                                                                      /\\\n",
       "|                                                                      643|3009bp_PCR_prod|242\n",
       "|                                                                                          \\/\n",
       "|                                                                                          /\\\n",
       "|                                                                                          242-\n",
       "|                                                                                             |\n",
       " ---------------------------------------------------------------------------------------------"
      ]
     },
     "execution_count": 11,
     "metadata": {},
     "output_type": "execute_result"
    }
   ],
   "source": [
    "candidate.figure()"
   ]
  },
  {
   "cell_type": "markdown",
   "metadata": {},
   "source": [
    "The final pathway is synchronized to the backbone vector. This means that\n",
    "the plasmid origin is shifted so that it matches the original."
   ]
  },
  {
   "cell_type": "code",
   "execution_count": 12,
   "metadata": {
    "collapsed": true
   },
   "outputs": [],
   "source": [
    "pw = candidate.synced(pYPKpw)"
   ]
  },
  {
   "cell_type": "markdown",
   "metadata": {},
   "source": [
    "Calculate cseguid checksum for the resulting plasmid for future reference.\n",
    "This is a seguid checksum that uniquely describes a circular double stranded \n",
    "sequence."
   ]
  },
  {
   "cell_type": "code",
   "execution_count": 13,
   "metadata": {
    "collapsed": false
   },
   "outputs": [
    {
     "data": {
      "text/plain": [
       "3RjS0AfdAqVibyeJfuLPrPqWkl4"
      ]
     },
     "execution_count": 13,
     "metadata": {},
     "output_type": "execute_result"
    }
   ],
   "source": [
    "pw.cseguid()"
   ]
  },
  {
   "cell_type": "markdown",
   "metadata": {},
   "source": [
    "The file is given a name based on the sequence of expressed genes."
   ]
  },
  {
   "cell_type": "code",
   "execution_count": 14,
   "metadata": {
    "collapsed": true
   },
   "outputs": [],
   "source": [
    "pw.locus = \"pw\"\n",
    "pw.definition = \"pYPK0_SsXYL1_SsXYL2_ScXKS1_ScTAL1\""
   ]
  },
  {
   "cell_type": "markdown",
   "metadata": {},
   "source": [
    "Stamp sequence with cseguid checksum. This can be used to verify the \n",
    "integrity of the sequence file."
   ]
  },
  {
   "cell_type": "code",
   "execution_count": 15,
   "metadata": {
    "collapsed": false
   },
   "outputs": [
    {
     "data": {
      "text/plain": [
       "cSEGUID_3RjS0AfdAqVibyeJfuLPrPqWkl4_2015-07-19T13:22:16.864577"
      ]
     },
     "execution_count": 15,
     "metadata": {},
     "output_type": "execute_result"
    }
   ],
   "source": [
    "pw.stamp()"
   ]
  },
  {
   "cell_type": "markdown",
   "metadata": {},
   "source": [
    "Write sequence to a local file."
   ]
  },
  {
   "cell_type": "code",
   "execution_count": 16,
   "metadata": {
    "collapsed": false
   },
   "outputs": [
    {
     "data": {
      "text/markdown": [
       "###[pYPK0_SsXYL1_SsXYL2_ScXKS1_ScTAL1](pYPK0_SsXYL1_SsXYL2_ScXKS1_ScTAL1.gb)"
      ],
      "text/plain": [
       "<IPython.core.display.Markdown object>"
      ]
     },
     "execution_count": 16,
     "metadata": {},
     "output_type": "execute_result"
    }
   ],
   "source": [
    "pw.write(\"pYPK0_SsXYL1_SsXYL2_ScXKS1_ScTAL1.gb\")"
   ]
  },
  {
   "cell_type": "markdown",
   "metadata": {},
   "source": [
    "#[Download](pYPK0_SsXYL1_SsXYL2_ScXKS1_ScTAL1.gb)"
   ]
  },
  {
   "cell_type": "code",
   "execution_count": 17,
   "metadata": {
    "collapsed": false
   },
   "outputs": [
    {
     "data": {
      "text/plain": [
       "cSEGUID_3RjS0AfdAqVibyeJfuLPrPqWkl4"
      ]
     },
     "execution_count": 17,
     "metadata": {},
     "output_type": "execute_result"
    }
   ],
   "source": [
    "import pydna\n",
    "\n",
    "reloaded = pydna.read(\"pYPK0_SsXYL1_SsXYL2_ScXKS1_ScTAL1.gb\")\n",
    "\n",
    "reloaded.verify_stamp()"
   ]
  },
  {
   "cell_type": "markdown",
   "metadata": {},
   "source": [
    "###New Primers needed for assembly.\n",
    "\n",
    "This list contains all needed primers that are not in the standard primer [list](primers.fasta) above.\n",
    "\n",
    "FBA1fw\tttaaatATAACAATACTGACAGTACTAAA\n",
    "\n",
    "FBA1rv\ttaattaaTTTGAATATGTATTACTTGGT\n",
    "    \n",
    "PDC1fw\tttaaatAGGGTAGCCTCCCCAT\n",
    "    \n",
    "PDC1rv\ttaattaaTTTGATTGATTTGACTGT\n",
    "    \n",
    "PGIfw\tttaaatAATTCAGTTTTCTGACTGA\n",
    "    \n",
    "PGIrv\ttaattaaTTTTAGGCTGGTATCTTG\n",
    "    \n",
    "TDH3fw\tttaaatATAAAAAACACGCTTTTTC\n",
    "    \n",
    "TDH3rv\ttaattaaTTTGTTTGTTTATGTGTGTT\n",
    "    \n",
    "TEF1fw\tttaaatACAATGCATACTTTGTAC\n",
    "    \n",
    "TEF1rv\ttaattaaTTTGTAATTAAAACTTAGATTA\n",
    "    \n",
    "ScTAL1fw\ttgcccactttctcactagtgacctgcagccgacAAATGTCTGAACCAGCTC\n",
    "    \n",
    "ScTAL1rv\tAAatcctgatgcgtttgtctgcacagatggCACTTAAGCGGTAACTTTCTT\n",
    "    \n",
    "ScXKS1fw\ttgcccactttctcactagtgacctgcagccgacAAATGTTGTGTTCAGTAATTC\n",
    "    \n",
    "ScXKS1rv\tAAatcctgatgcgtttgtctgcacagatggCACTTAGATGAGAGTCTTTTCC\n",
    "    \n",
    "SsXYL2fw\ttgcccactttctcactagtgacctgcagccgacAAATGACTGCTAACCCTTCCTT\n",
    "    \n",
    "SsXYL2rv\tAAatcctgatgcgtttgtctgcacagatggCACTTACTCAGGGCCGTCA\n",
    "    \n",
    "SsXYL1fw\ttgcccactttctcactagtgacctgcagccgacAAATGCCTTCTATTAAGTTGAAC\n",
    "    \n",
    "SsXYL1rv\tAAatcctgatgcgtttgtctgcacagatggCACTTAGACGAAGATAGGAATCT\n",
    "\n",
    "\n",
    "###New pYPK0_tp_gene_tp clones needed for assembly.\n",
    "\n",
    "Hyperlinks to notebook files describing the singlke gene expression plasmids needed for the assembly.\n",
    "\n",
    "[pYPK0_TEF1_SsXYL1_TDH3](pYPK0_TEF1_SsXYL1_TDH3.ipynb)  \n",
    "[pYPK0_TDH3_SsXYL2_PGI](pYPK0_TDH3_SsXYL2_PGI.ipynb)  \n",
    "[pYPK0_PGI_ScXKS1_FBA1](pYPK0_PGI_ScXKS1_FBA1.ipynb)  \n",
    "[pYPK0_FBA1_ScTAL1_PDC1](pYPK0_FBA1_ScTAL1_PDC1.ipynb)  \n",
    "\n",
    "\n",
    "###New pYPKa clones needed for assembly.\n",
    "\n",
    "Hyperlinks to notebook files describing the pYPKa plasmids needed for the assembly of the single gene clones listed above.\n",
    "\n",
    "[pYPKa_ZE_TEF1](pYPKa_ZE_TEF1.ipynb)  \n",
    "[pYPKa_ZE_TDH3](pYPKa_ZE_TDH3.ipynb)  \n",
    "[pYPKa_ZE_PGI](pYPKa_ZE_PGI.ipynb)  \n",
    "[pYPKa_ZE_FBA1](pYPKa_ZE_FBA1.ipynb)  \n",
    "[pYPKa_ZE_PDC1](pYPKa_ZE_PDC1.ipynb)"
   ]
  },
  {
   "cell_type": "code",
   "execution_count": null,
   "metadata": {
    "collapsed": true
   },
   "outputs": [],
   "source": []
  }
 ],
 "metadata": {
  "kernelspec": {
   "display_name": "Python 2",
   "language": "python",
   "name": "python2"
  },
  "language_info": {
   "codemirror_mode": {
    "name": "ipython",
    "version": 2
   },
   "file_extension": ".py",
   "mimetype": "text/x-python",
   "name": "python",
   "nbconvert_exporter": "python",
   "pygments_lexer": "ipython2",
   "version": "2.7.10"
  }
 },
 "nbformat": 4,
 "nbformat_minor": 0
}
