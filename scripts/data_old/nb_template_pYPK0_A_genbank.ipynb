{
 "cells": [
  {
   "cell_type": "markdown",
   "id": "bb458c7b",
   "metadata": {},
   "source": [
    "# Construction of pYPK0_A_{insert}\n",
    "\n",
    "This notebook describe the construction of the _E. coli_ vector [pYPK0_A_{insert}](pYPK0_A_{insert}.gb).\n",
    "\n",
    "![pYPK0_A plasmid](pYPK0_A.png \"pYPK0_A plasmid\")\n",
    "\n",
    "A part of the [pydna](https://pypi.python.org/pypi/pydna/) package is imported in the code cell below."
   ]
  },
  {
   "cell_type": "code",
   "execution_count": null,
   "id": "521babac",
   "metadata": {},
   "outputs": [],
   "source": [
    "from pydna.readers import read\n",
    "from pydna.genbank import Genbank\n",
    "from pydna.parsers import parse_primers\n",
    "from pydna.amplify import pcr\n",
    "from pydna.assembly import Assembly\n",
    "from pydna.amplify import Anneal"
   ]
  },
  {
   "cell_type": "markdown",
   "id": "a6b0ca8d",
   "metadata": {},
   "source": [
    "The vector backbone [pYPK0](pYPK0.gb) is read from a local file."
   ]
  },
  {
   "cell_type": "code",
   "execution_count": null,
   "id": "fded554e",
   "metadata": {},
   "outputs": [],
   "source": [
    "pYPK0 = read(\"pYPK0.gb\")"
   ]
  },
  {
   "cell_type": "markdown",
   "id": "f5ecddf9",
   "metadata": {},
   "source": [
    "The restriction enzyme [AscI](http://rebase.neb.com/rebase/enz/AscI.html) is imported from [Biopython](http://biopython.org)"
   ]
  },
  {
   "cell_type": "code",
   "execution_count": null,
   "id": "1e7edf8d",
   "metadata": {},
   "outputs": [],
   "source": [
    "from Bio.Restriction import AscI"
   ]
  },
  {
   "cell_type": "markdown",
   "id": "52523270",
   "metadata": {},
   "source": [
    "The plasmid is linearized with the enzyme."
   ]
  },
  {
   "cell_type": "code",
   "execution_count": null,
   "id": "177452a2",
   "metadata": {},
   "outputs": [],
   "source": [
    "pYPK0_AscI  = pYPK0.linearize(AscI)"
   ]
  },
  {
   "cell_type": "markdown",
   "id": "68502154",
   "metadata": {},
   "source": [
    "Access to [Genbank](http://www.ncbi.nlm.nih.gov/nuccore) is needed in order to download the template.\n",
    "If the email address below is not yours, change it before executing this script as you must always give\n",
    "NCBI a way to contact you when using their service."
   ]
  },
  {
   "cell_type": "code",
   "execution_count": null,
   "id": "0bc5cf67",
   "metadata": {},
   "outputs": [],
   "source": [
    "gb = Genbank(\"{email}\")"
   ]
  },
  {
   "cell_type": "markdown",
   "id": "16d1f083",
   "metadata": {},
   "source": [
    "The template is downloaded from Genbank below."
   ]
  },
  {
   "cell_type": "code",
   "execution_count": null,
   "id": "d7ca0c07",
   "metadata": {},
   "outputs": [],
   "source": [
    "template  = gb.nucleotide(\"{gblink}\")\n",
    "template"
   ]
  },
  {
   "cell_type": "markdown",
   "id": "ce8becf3",
   "metadata": {},
   "source": [
    "The two primers below are used to amplify the insert."
   ]
  },
  {
   "cell_type": "code",
   "execution_count": null,
   "id": "18681db7",
   "metadata": {},
   "outputs": [],
   "source": [
    "fp,rp =  parse_primers(\"\"\">{fpn}\n",
    "                          {fps}\n",
    "                          >{rpn}\n",
    "                          {rps}\"\"\")"
   ]
  },
  {
   "cell_type": "markdown",
   "id": "e92534a5",
   "metadata": {},
   "source": [
    "The gene is amplifed using the primers specified above."
   ]
  },
  {
   "cell_type": "code",
   "execution_count": null,
   "id": "60396f9e",
   "metadata": {},
   "outputs": [],
   "source": [
    "ins = pcr(fp, rp, template)"
   ]
  },
  {
   "cell_type": "markdown",
   "id": "c8c1b99c",
   "metadata": {},
   "source": [
    "The primers anneal on the template like this."
   ]
  },
  {
   "cell_type": "code",
   "execution_count": null,
   "id": "532df14e",
   "metadata": {},
   "outputs": [],
   "source": [
    "ins.figure()"
   ]
  },
  {
   "cell_type": "markdown",
   "id": "87fc2b92",
   "metadata": {},
   "source": [
    "A suggested PCR program."
   ]
  },
  {
   "cell_type": "code",
   "execution_count": null,
   "id": "facd9ef3",
   "metadata": {},
   "outputs": [],
   "source": [
    "ins.program()"
   ]
  },
  {
   "cell_type": "markdown",
   "id": "67f1a6f7",
   "metadata": {},
   "source": [
    "The linearzed vector and the insert are joined by homologous recombination."
   ]
  },
  {
   "cell_type": "code",
   "execution_count": null,
   "id": "35277afc",
   "metadata": {},
   "outputs": [],
   "source": [
    "asm = Assembly((pYPK0_AscI,ins))\n",
    "asm"
   ]
  },
  {
   "cell_type": "markdown",
   "id": "4dd0eb4e",
   "metadata": {},
   "source": [
    "Usually two equally sized products are formed."
   ]
  },
  {
   "cell_type": "code",
   "execution_count": null,
   "id": "86b267c6",
   "metadata": {},
   "outputs": [],
   "source": [
    "circular_products = asm.assemble_circular()\n",
    "circular_products"
   ]
  },
  {
   "cell_type": "markdown",
   "id": "f53dae08",
   "metadata": {},
   "source": [
    "The first sequence is chosen."
   ]
  },
  {
   "cell_type": "code",
   "execution_count": null,
   "id": "ffcd6008",
   "metadata": {},
   "outputs": [],
   "source": [
    "candidate = circular_products[0]"
   ]
  },
  {
   "cell_type": "markdown",
   "id": "365749ae",
   "metadata": {},
   "source": [
    "The final vector is:"
   ]
  },
  {
   "cell_type": "code",
   "execution_count": null,
   "id": "a82816a6",
   "metadata": {},
   "outputs": [],
   "source": [
    "pYPK0_A_{insert} = candidate.synced(\"gttctgatcctcgagcatcttaagaattc\")"
   ]
  },
  {
   "cell_type": "markdown",
   "id": "757d3503",
   "metadata": {},
   "source": [
    "A combination of standard primers and the gene specific primers are\n",
    "used for the strategy to identify correct clones.\n",
    "Standard primers are listed [here](standard_primers.txt).\n",
    "The standard primers are read into a dictonary in the code cell below."
   ]
  },
  {
   "cell_type": "code",
   "execution_count": null,
   "id": "6aeb0ea5",
   "metadata": {},
   "outputs": [],
   "source": [
    "p = {{ x.id: x for x in parse_primers(\"standard_primers.txt\") }}"
   ]
  },
  {
   "cell_type": "markdown",
   "id": "606a47b5",
   "metadata": {},
   "source": [
    "## Diagnostic PCR confirmation of pYPK0_A_{insert}\n",
    "\n",
    "The correct structure of pYPK0_A_{insert} is confirmed by PCR using standard primers\n",
    "577 and 342 that are vector specific together with the {insert}fw primer specific for the insert\n",
    "in a multiplex PCR reaction with three primers present in the PCR reaction.\n",
    "\n",
    "Two PCR products are expected if the insert was sucessfully cloned, sizes depending\n",
    "on the orientation of the insert.\n",
    "If the vector is empty, only one short product is formed.\n",
    "\n",
    "## Expected PCR products sizes:\n",
    "\n",
    "pYPK0_A_{insert} with insert in correct orientation."
   ]
  },
  {
   "cell_type": "code",
   "execution_count": null,
   "id": "57c13694",
   "metadata": {},
   "outputs": [],
   "source": [
    "Anneal( (p['577'], p['342'], fp), pYPK0_A_{insert}).products"
   ]
  },
  {
   "cell_type": "markdown",
   "id": "d464a12f",
   "metadata": {},
   "source": [
    "Empty clone"
   ]
  },
  {
   "cell_type": "code",
   "execution_count": null,
   "id": "388e59e8",
   "metadata": {},
   "outputs": [],
   "source": [
    "Anneal( (p['577'], p['342'], fp), pYPK0).products"
   ]
  },
  {
   "cell_type": "markdown",
   "id": "af31f11a",
   "metadata": {},
   "source": [
    "The cseguid checksum for the resulting plasmid is calculated for future reference.\n",
    "The [cseguid checksum](http://pydna.readthedocs.org/en/latest/pydna.html#pydna.utils.cseguid)\n",
    "uniquely identifies a circular double stranded sequence."
   ]
  },
  {
   "cell_type": "code",
   "execution_count": null,
   "id": "7867e284",
   "metadata": {},
   "outputs": [],
   "source": [
    "pYPK0_A_{insert}.cseguid()"
   ]
  },
  {
   "cell_type": "markdown",
   "id": "469b8012",
   "metadata": {},
   "source": [
    "The file is given a name based on the cloned insert"
   ]
  },
  {
   "cell_type": "code",
   "execution_count": null,
   "id": "acc28b09",
   "metadata": {},
   "outputs": [],
   "source": [
    "pYPK0_A_{insert}.locus = \"pYPK0_A_{insert}\"[:16]"
   ]
  },
  {
   "cell_type": "markdown",
   "id": "59cd1777",
   "metadata": {},
   "source": [
    "Sequence is stamped with the cseguid checksum.\n",
    "This can be used to verify the integrity of the sequence file."
   ]
  },
  {
   "cell_type": "code",
   "execution_count": null,
   "id": "3f12b652",
   "metadata": {},
   "outputs": [],
   "source": [
    "pYPK0_A_{insert}.stamp(\"cSEGUID\")"
   ]
  },
  {
   "cell_type": "markdown",
   "id": "0412b41f",
   "metadata": {},
   "source": [
    "The sequence is written to a local file."
   ]
  },
  {
   "cell_type": "code",
   "execution_count": null,
   "id": "3ea46374",
   "metadata": {},
   "outputs": [],
   "source": [
    "pYPK0_A_{insert}.write(\"pYPK0_A_{insert}.gb\")"
   ]
  }
 ],
 "metadata": {},
 "nbformat": 4,
 "nbformat_minor": 5
}
