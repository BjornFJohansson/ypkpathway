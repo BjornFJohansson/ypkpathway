{
 "cells": [
  {
   "cell_type": "markdown",
   "metadata": {},
   "source": [
    "# Test run of the pathway files used in the test case for ypkpathway"
   ]
  },
  {
   "cell_type": "markdown",
   "metadata": {},
   "source": [
    "This is an example of the ypkpathway command line program used inside an IPython notebook\n",
    "For this to work, the command has to be preseeded by \"!\".\n",
    "\n",
    "[Running ypkpathway programatically](running from python.ipynb)"
   ]
  },
  {
   "cell_type": "code",
   "execution_count": 1,
   "metadata": {
    "collapsed": false
   },
   "outputs": [
    {
     "name": "stdout",
     "output_type": "stream",
     "text": [
      "ypkpathway version: 0.8.2\n"
     ]
    }
   ],
   "source": [
    "!ypkpathway -v"
   ]
  },
  {
   "cell_type": "code",
   "execution_count": 5,
   "metadata": {
    "collapsed": false
   },
   "outputs": [
    {
     "name": "stdout",
     "output_type": "stream",
     "text": [
      "Usage: ypkpathway <path> [<dir>]\n",
      "       ypkpathway -h|--help\n",
      "       ypkpathway -v|--version\n",
      "       ypkpathway -t|--test\n",
      "\n",
      "Arguments:\n",
      "    <path>  path to data file containing sequences to be assembled\n",
      "\n",
      "    <dir>   Directory to put generated sequence files,defaults to\n",
      "            <ypk_assembly> in the current working directory.\n",
      "\n",
      "Options:\n",
      "    -h, --help      Show this screen.\n",
      "    -v, --version   Show version.\n",
      "    -t, --test      Run tests.\n"
     ]
    }
   ],
   "source": [
    "!ypkpathway -h"
   ]
  },
  {
   "cell_type": "code",
   "execution_count": 2,
   "metadata": {
    "collapsed": false
   },
   "outputs": [
    {
     "name": "stdout",
     "output_type": "stream",
     "text": [
      "Assembly started! (This might take a while...)\n",
      "created subdirectory pth1\n",
      "\n",
      "saving files..\n",
      "primers.fasta\n",
      "pYPKa.gb\n",
      "pYPK0_RPL12Btp_CiGXF1_TDH3tp.gb\n",
      "pYPK0_TDH3tp_PsXYL2_PGI1tp.gb\n",
      "pYPKpw.gb\n",
      "\n",
      "executing pYPKa notebooks..\n",
      "\n",
      "executing pYPK0 notebooks..\n",
      "executing final pathway notebook\n",
      "pw.ipynb\n",
      "Assembly finished! files written to folder ypkpathway\n"
     ]
    }
   ],
   "source": [
    "!ypkpathway ../tests/pth1.txt pth1"
   ]
  },
  {
   "cell_type": "markdown",
   "metadata": {},
   "source": [
    "[pth1](pth1/pw.ipynb)"
   ]
  },
  {
   "cell_type": "code",
   "execution_count": 3,
   "metadata": {
    "collapsed": false
   },
   "outputs": [
    {
     "name": "stdout",
     "output_type": "stream",
     "text": [
      "Assembly started! (This might take a while...)\n",
      "created subdirectory pth2\n",
      "\n",
      "saving files..\n",
      "primers.fasta\n",
      "SsXYL1.gb\n",
      "TDH3.gb\n",
      "TEF1.gb\n",
      "pYPKpw.gb\n",
      "pYPKa.gb\n",
      "SsXYL2.gb\n",
      "PGI.gb\n",
      "pYPK0_TEF1_SsXYL1_TDH3.ipynb\n",
      "pYPKa_E_PGI.ipynb\n",
      "pYPK0_TDH3_SsXYL2_PGI.ipynb\n",
      "pYPKa_A_SsXYL2.ipynb\n",
      "pYPKa_Z_TDH3.ipynb\n",
      "pYPKa_A_SsXYL1.ipynb\n",
      "pYPKa_E_TDH3.ipynb\n",
      "pYPKa_Z_TEF1.ipynb\n",
      "\n",
      "executing pYPKa notebooks\n",
      "\n",
      "\n",
      "### pYPKa_A_SsXYL1.ipynb\n",
      "\n",
      ">SsXYL1fw pfw957\n",
      "AAATGCCTTCTATTAAGTTGAA\n",
      "\n",
      ">SsXYL1rv prv957\n",
      "TTAGACGAAGATAGGAATCTT\n",
      "\n",
      "\n",
      "### pYPKa_A_SsXYL2.ipynb\n",
      "\n",
      ">SsXYL2fw pfw1092\n",
      "AAATGACTGCTAACCCTTC\n",
      "\n",
      ">SsXYL2rv prv1092\n",
      "TTACTCAGGGCCGTCA\n",
      "\n",
      "\n",
      "### pYPKa_E_PGI.ipynb\n",
      "\n",
      ">PGIfw pfw1000\n",
      "ttaaatAATTCAGTTTTCTGACTGA\n",
      "\n",
      ">PGIrv prv1000\n",
      "taattaaTTTTAGGCTGGTATCTTG\n",
      "\n",
      "-yISaUslIcukBsT9XhxZdPoAIAQ\n",
      "rUgqaXXbOUAYLfsY_x8mrjAMbzo\n",
      "\n",
      "### pYPKa_E_TDH3.ipynb\n",
      "\n",
      ">TDH3fw pfw698\n",
      "ttaaatATAAAAAACACGCTTTTTC\n",
      "\n",
      ">TDH3rv prv698\n",
      "taattaaTTTGTTTGTTTATGTGTGTT\n",
      "\n",
      "Z8LFAVHm3ruuq_dov31lqpmfeqA\n",
      "8zg87HoFsdPFl5Ao-Sup64AGvFs\n",
      "\n",
      "### pYPKa_Z_TDH3.ipynb\n",
      "\n",
      ">TDH3fw pfw698\n",
      "ttaaatATAAAAAACACGCTTTTTC\n",
      "\n",
      ">TDH3rv prv698\n",
      "taattaaTTTGTTTGTTTATGTGTGTT\n",
      "\n",
      "Z8LFAVHm3ruuq_dov31lqpmfeqA\n",
      "8zg87HoFsdPFl5Ao-Sup64AGvFs\n",
      "\n",
      "### pYPKa_Z_TEF1.ipynb\n",
      "\n",
      ">TEF1fw pfw579\n",
      "ttaaatACAATGCATACTTTGTAC\n",
      "\n",
      ">TEF1rv prv579\n",
      "taattaaTTTGTAATTAAAACTTAGATTA\n",
      "\n",
      "0s47KRvklrl6IzfaACskS5ZBWPM\n",
      "AJXtr6m2hFB9TWlbAgnFlGedTi8\n",
      "\n",
      "executing pYPK0 notebooks\n",
      "pYPK0_TDH3_SsXYL2_PGI.ipynb\n",
      "pYPK0_TEF1_SsXYL1_TDH3.ipynb\n",
      "executing final pathway notebook\n",
      "Assembly finished! files written to folder ypkpathway\n"
     ]
    }
   ],
   "source": [
    "!ypkpathway pth2.txt pth2"
   ]
  },
  {
   "cell_type": "code",
   "execution_count": null,
   "metadata": {
    "collapsed": true
   },
   "outputs": [],
   "source": [
    "!ypkpathway pth3.txt pth3"
   ]
  },
  {
   "cell_type": "code",
   "execution_count": null,
   "metadata": {
    "collapsed": true
   },
   "outputs": [],
   "source": [
    "!ypkpathway pth4.txt pth4"
   ]
  },
  {
   "cell_type": "code",
   "execution_count": null,
   "metadata": {
    "collapsed": true
   },
   "outputs": [],
   "source": [
    "!ypkpathway pth5.txt pth5"
   ]
  },
  {
   "cell_type": "code",
   "execution_count": null,
   "metadata": {
    "collapsed": true
   },
   "outputs": [],
   "source": [
    "!ypkpathway pth6.txt pth6"
   ]
  },
  {
   "cell_type": "code",
   "execution_count": 12,
   "metadata": {
    "collapsed": false
   },
   "outputs": [
    {
     "data": {
      "text/html": [
       "<a href='pth2/pw.ipynb' target='_blank'>pth2/pw.ipynb</a><br>"
      ],
      "text/plain": [
       "C:\\Users\\bjorn\\Desktop\\New folder\\pth2\\pw.ipynb"
      ]
     },
     "execution_count": 12,
     "metadata": {},
     "output_type": "execute_result"
    }
   ],
   "source": [
    "from IPython.display import FileLink\n",
    "FileLink('pth2/pw.ipynb')"
   ]
  },
  {
   "cell_type": "code",
   "execution_count": null,
   "metadata": {
    "collapsed": true
   },
   "outputs": [],
   "source": [
    "!ipython notebook hej.ipynb "
   ]
  },
  {
   "cell_type": "code",
   "execution_count": null,
   "metadata": {
    "collapsed": true
   },
   "outputs": [],
   "source": []
  }
 ],
 "metadata": {
  "kernelspec": {
   "display_name": "Python 2",
   "language": "python",
   "name": "python2"
  },
  "language_info": {
   "codemirror_mode": {
    "name": "ipython",
    "version": 2
   },
   "file_extension": ".py",
   "mimetype": "text/x-python",
   "name": "python",
   "nbconvert_exporter": "python",
   "pygments_lexer": "ipython2",
   "version": "2.7.9"
  }
 },
 "nbformat": 4,
 "nbformat_minor": 0
}
