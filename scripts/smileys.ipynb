{
 "cells": [
  {
   "cell_type": "code",
   "execution_count": null,
   "id": "d35a6275-b17e-4518-8743-1c68cc863e8c",
   "metadata": {},
   "outputs": [],
   "source": [
    "import pandas as pd\n",
    "import numpy as np\n",
    "from io import StringIO"
   ]
  },
  {
   "cell_type": "code",
   "execution_count": null,
   "id": "b6791f90-8207-4de9-99f2-9f104bdbd4c7",
   "metadata": {},
   "outputs": [],
   "source": [
    "x=\"🔴\"\n",
    "y=\"🟢\""
   ]
  },
  {
   "cell_type": "code",
   "execution_count": null,
   "id": "e8db2e49-f594-40ee-98a0-5dbf266d6f13",
   "metadata": {},
   "outputs": [],
   "source": [
    "print(x,y)"
   ]
  },
  {
   "cell_type": "code",
   "execution_count": null,
   "id": "a605ebf5-973c-48a4-8ff0-c49858e7a74d",
   "metadata": {},
   "outputs": [],
   "source": [
    "csvString=f\"\"\"\\\n",
    "pYPK0_PDC1_EcfabH_TEF1.gb\t🔴\n",
    "pYPKa_Z_PDC1\t🟢✅😃\n",
    "pYPKa_A_EcfabH\t🟢✅😡\n",
    "pYPKa_E_TEF1\t🟢🚫\n",
    "\"\"\""
   ]
  },
  {
   "cell_type": "code",
   "execution_count": null,
   "id": "65eec4ce-70f8-4c21-9419-d5e3c8434fd7",
   "metadata": {},
   "outputs": [],
   "source": [
    "csvStringIO = StringIO(csvString)\n",
    "df = pd.read_csv(csvStringIO, sep=\"\\t\", header=None)\n",
    "df"
   ]
  },
  {
   "cell_type": "code",
   "execution_count": null,
   "id": "05e9a3ee-2183-40aa-a9a9-31860622fa4f",
   "metadata": {},
   "outputs": [],
   "source": [
    "df1 = pd.DataFrame({\n",
    "         'B':[4,5,4],\n",
    "         'C':[7,8,9],\n",
    "         'D':[1,3,5],\n",
    "\n",
    "\n",
    "})\n",
    "\n",
    "df2 = pd.DataFrame({\n",
    "         'B':[1,np.nan,4],\n",
    "         'C':[np.nan,2,np.nan],\n",
    "         'D':[1,3,np.nan],\n",
    "\n",
    "})"
   ]
  },
  {
   "cell_type": "code",
   "execution_count": null,
   "id": "daa21c58-48b6-4fcb-a46c-5cb2d7bd7b39",
   "metadata": {},
   "outputs": [],
   "source": [
    "def apply_color(x):\n",
    "    colors = {1: 'green',2: 'blue', 3: 'yellow', 4: 'orange', 5: 'grey'}\n",
    "    return df2.applymap(lambda val: 'background-color: {}'.format(colors.get(val,'')))\n",
    "\n",
    "df1.style.apply(apply_color, axis=None)"
   ]
  },
  {
   "cell_type": "code",
   "execution_count": 1,
   "id": "174744e7-06a9-4268-93b9-2da1943baafa",
   "metadata": {},
   "outputs": [],
   "source": [
    "from ipytree import Tree, Node"
   ]
  },
  {
   "cell_type": "code",
   "execution_count": 2,
   "id": "663e4bf8-5491-485a-9397-b2829c604ede",
   "metadata": {},
   "outputs": [
    {
     "data": {
      "application/vnd.jupyter.widget-view+json": {
       "model_id": "55c8039062ac46a4b5c268c77f686870",
       "version_major": 2,
       "version_minor": 0
      },
      "text/plain": [
       "Tree(nodes=(Node(name='Node1'), Node(name='Node2'), Node(name='Node3')))"
      ]
     },
     "execution_count": 2,
     "metadata": {},
     "output_type": "execute_result"
    }
   ],
   "source": [
    "tree=Tree()\n",
    "\n",
    "tree.add_node(Node(\"Node1\"))\n",
    "tree.add_node(Node(\"Node2\"))\n",
    "tree.add_node(Node(\"Node3\"))\n",
    "\n",
    "tree"
   ]
  },
  {
   "cell_type": "code",
   "execution_count": null,
   "id": "f70c4471-6d97-4791-99d4-fe98553d8f64",
   "metadata": {},
   "outputs": [],
   "source": []
  }
 ],
 "metadata": {
  "jupytext": {
   "cell_metadata_filter": "-all",
   "main_language": "python",
   "notebook_metadata_filter": "-all"
  },
  "kernelspec": {
   "display_name": "Python [conda env:bjorn310]",
   "language": "python",
   "name": "conda-env-bjorn310-py"
  },
  "language_info": {
   "codemirror_mode": {
    "name": "ipython",
    "version": 3
   },
   "file_extension": ".py",
   "mimetype": "text/x-python",
   "name": "python",
   "nbconvert_exporter": "python",
   "pygments_lexer": "ipython3",
   "version": "3.10.6"
  }
 },
 "nbformat": 4,
 "nbformat_minor": 5
}
