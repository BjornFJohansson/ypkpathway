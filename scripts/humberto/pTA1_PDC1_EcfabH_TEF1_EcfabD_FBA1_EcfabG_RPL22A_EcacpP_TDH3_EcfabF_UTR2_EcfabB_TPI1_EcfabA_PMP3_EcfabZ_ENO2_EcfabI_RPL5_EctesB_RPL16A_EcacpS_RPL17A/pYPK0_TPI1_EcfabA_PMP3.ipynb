{
 "cells": [
  {
   "cell_type": "markdown",
   "id": "d3f3ffaf",
   "metadata": {},
   "source": [
    "# [![logo](logo.png)](https://github.com/BjornFJohansson/ypkpathway#-ypkpathway) pYPK0_TPI1_EcfabA_PMP3\n",
    "\n",
    "Assembly of a [_Saccharomyces cerevisiae_](http://www.yeastgenome.org) transcriptional unit vector.\n",
    "\n",
    "Made from a linear vector fragment and three PCR products:\n",
    "\n",
    "- a linearized pYPK0 vector for maintenance in _S. cerevisiae_ or _E. coli_ (red dashed line in figure below)\n",
    "- a promoter PCR product from the `pYPKa_Z_TPI1` vector\n",
    "- a gene PCR product from the `pYPKa_A_EcfabA` vector\n",
    "- a terminator PCR product from the `pYPKa_E_PMP3` vector\n",
    "\n",
    "The four linear DNA fragments are joined by _in-vivo_ homologous recombination in a\n",
    "[_Saccharomyces cerevisiae_](http://wiki.yeastgenome.org/index.php/Commonly_used_strains) strain.\n",
    "\n",
    "![tu](tu.png \"tu\")\n",
    "\n",
    "A part of the [pydna](https://pypi.python.org/pypi/pydna/) package is imported in the code cell below."
   ]
  },
  {
   "cell_type": "code",
   "execution_count": 1,
   "id": "1853da79",
   "metadata": {
    "execution": {
     "iopub.execute_input": "2023-02-04T07:54:55.675999Z",
     "iopub.status.busy": "2023-02-04T07:54:55.675008Z",
     "iopub.status.idle": "2023-02-04T07:54:56.037015Z",
     "shell.execute_reply": "2023-02-04T07:54:56.036351Z"
    }
   },
   "outputs": [],
   "source": [
    "from pydna.parsers import parse_primers\n",
    "from pydna.readers import read\n",
    "from pydna.amplify import pcr\n",
    "from pydna.assembly import Assembly"
   ]
  },
  {
   "cell_type": "markdown",
   "id": "1f99d28e",
   "metadata": {},
   "source": [
    "The Yeast Pathway Kit [standard primers](standard_primers.fasta) are read into a dictionary in the code cell below."
   ]
  },
  {
   "cell_type": "code",
   "execution_count": 2,
   "id": "8d016d53",
   "metadata": {
    "execution": {
     "iopub.execute_input": "2023-02-04T07:54:56.040603Z",
     "iopub.status.busy": "2023-02-04T07:54:56.040232Z",
     "iopub.status.idle": "2023-02-04T07:54:56.054250Z",
     "shell.execute_reply": "2023-02-04T07:54:56.053552Z"
    }
   },
   "outputs": [],
   "source": [
    "p = {x.name: x for x in parse_primers(\"standard_primers.fasta\")}"
   ]
  },
  {
   "cell_type": "markdown",
   "id": "1cb34913",
   "metadata": {},
   "source": [
    "The backbone vector [pYPK0](pYPK0.gb) is read from a local file in the code cell below."
   ]
  },
  {
   "cell_type": "code",
   "execution_count": 3,
   "id": "28434d63",
   "metadata": {
    "execution": {
     "iopub.execute_input": "2023-02-04T07:54:56.058175Z",
     "iopub.status.busy": "2023-02-04T07:54:56.057629Z",
     "iopub.status.idle": "2023-02-04T07:54:56.070916Z",
     "shell.execute_reply": "2023-02-04T07:54:56.070208Z"
    }
   },
   "outputs": [],
   "source": [
    "backbone = read(\"pYPK0.gb\")"
   ]
  },
  {
   "cell_type": "markdown",
   "id": "0f7ba481",
   "metadata": {},
   "source": [
    "The backbone vector is linearized by digestion with [MfeI](https://www.google.com/search?q=MfeI)."
   ]
  },
  {
   "cell_type": "code",
   "execution_count": 4,
   "id": "fcd1a8a4",
   "metadata": {
    "execution": {
     "iopub.execute_input": "2023-02-04T07:54:56.074176Z",
     "iopub.status.busy": "2023-02-04T07:54:56.073773Z",
     "iopub.status.idle": "2023-02-04T07:54:56.076876Z",
     "shell.execute_reply": "2023-02-04T07:54:56.076330Z"
    }
   },
   "outputs": [],
   "source": [
    "from Bio.Restriction import MfeI"
   ]
  },
  {
   "cell_type": "code",
   "execution_count": 5,
   "id": "e53f57ae",
   "metadata": {
    "execution": {
     "iopub.execute_input": "2023-02-04T07:54:56.079528Z",
     "iopub.status.busy": "2023-02-04T07:54:56.078958Z",
     "iopub.status.idle": "2023-02-04T07:54:56.088404Z",
     "shell.execute_reply": "2023-02-04T07:54:56.087409Z"
    }
   },
   "outputs": [],
   "source": [
    "linear_backbone = backbone.linearize(MfeI)"
   ]
  },
  {
   "cell_type": "markdown",
   "id": "ce84fd1f",
   "metadata": {},
   "source": [
    "The pYPKa derived _E. coli_ plasmids containing\n",
    "- [promoter](pYPKa_Z_TPI1.gb)\n",
    "- [gene](pYPKa_A_EcfabA.gb)\n",
    "- [terminator](pYPKa_E_PMP3.gb)\n",
    "\n",
    "are read into three variables below."
   ]
  },
  {
   "cell_type": "code",
   "execution_count": 6,
   "id": "632f6623",
   "metadata": {
    "execution": {
     "iopub.execute_input": "2023-02-04T07:54:56.092570Z",
     "iopub.status.busy": "2023-02-04T07:54:56.091925Z",
     "iopub.status.idle": "2023-02-04T07:54:56.109902Z",
     "shell.execute_reply": "2023-02-04T07:54:56.109292Z"
    }
   },
   "outputs": [],
   "source": [
    "promoter_template   = read(\"pYPKa_Z_TPI1.gb\")\n",
    "gene_template       = read(\"pYPKa_A_EcfabA.gb\")\n",
    "terminator_template = read(\"pYPKa_E_PMP3.gb\")"
   ]
  },
  {
   "cell_type": "markdown",
   "id": "72f91629",
   "metadata": {
    "lines_to_next_cell": 0
   },
   "source": [
    "### PCR\n",
    "Three DNA fragments are PCR amplified using [standard primers](standard_primers.fasta).\n",
    "\n",
    "[Suggested PCR programs](#Suggested-PCR-programs) can be found at the end of this document."
   ]
  },
  {
   "cell_type": "code",
   "execution_count": 7,
   "id": "50be820e",
   "metadata": {
    "execution": {
     "iopub.execute_input": "2023-02-04T07:54:56.112914Z",
     "iopub.status.busy": "2023-02-04T07:54:56.112721Z",
     "iopub.status.idle": "2023-02-04T07:54:56.116115Z",
     "shell.execute_reply": "2023-02-04T07:54:56.115346Z"
    }
   },
   "outputs": [],
   "source": [
    "\n",
    "fp_prom = p['577_crp585-557']\n",
    "rp_prom = p['567_pCAPsAjiIF']\n",
    "fp_gene = p['468_pCAPs_release_fw']\n",
    "rp_gene = p['467_pCAPs_release_re']\n",
    "fp_term = p['568_pCAPsAjiIR']\n",
    "rp_term = p['578_crp42-70']"
   ]
  },
  {
   "cell_type": "code",
   "execution_count": 8,
   "id": "229dbed4",
   "metadata": {
    "execution": {
     "iopub.execute_input": "2023-02-04T07:54:56.122030Z",
     "iopub.status.busy": "2023-02-04T07:54:56.121230Z",
     "iopub.status.idle": "2023-02-04T07:54:56.147455Z",
     "shell.execute_reply": "2023-02-04T07:54:56.146836Z"
    }
   },
   "outputs": [],
   "source": [
    "prom = pcr(fp_prom, rp_prom, promoter_template)\n",
    "gene = pcr(fp_gene, rp_gene, gene_template)\n",
    "term = pcr(fp_term, rp_term, terminator_template)"
   ]
  },
  {
   "cell_type": "code",
   "execution_count": 9,
   "id": "fd8cd3aa",
   "metadata": {
    "execution": {
     "iopub.execute_input": "2023-02-04T07:54:56.150658Z",
     "iopub.status.busy": "2023-02-04T07:54:56.150384Z",
     "iopub.status.idle": "2023-02-04T07:54:56.154550Z",
     "shell.execute_reply": "2023-02-04T07:54:56.153812Z"
    }
   },
   "outputs": [],
   "source": [
    "prom.name = \"pYPKa_Z_TPI1\"[8:]\n",
    "gene.name = \"pYPKa_A_EcfabA\"[8:]\n",
    "term.name = \"pYPKa_E_PMP3\"[8:]"
   ]
  },
  {
   "cell_type": "markdown",
   "id": "ce46226a",
   "metadata": {},
   "source": [
    "\n",
    "The fragments will be assembled by _in-vivo_ [homologous recombination](http://www.ncbi.nlm.nih.gov/pubmed/2828185):"
   ]
  },
  {
   "cell_type": "code",
   "execution_count": 10,
   "id": "2767caff",
   "metadata": {
    "execution": {
     "iopub.execute_input": "2023-02-04T07:54:56.158317Z",
     "iopub.status.busy": "2023-02-04T07:54:56.158018Z",
     "iopub.status.idle": "2023-02-04T07:54:56.576776Z",
     "shell.execute_reply": "2023-02-04T07:54:56.575669Z"
    }
   },
   "outputs": [
    {
     "data": {
      "text/plain": [
       "Assembly\n",
       "fragments..: 5766bp 814bp 608bp 1096bp\n",
       "limit(bp)..: 31\n",
       "G.nodes....: 10\n",
       "algorithm..: common_sub_strings"
      ]
     },
     "execution_count": 10,
     "metadata": {},
     "output_type": "execute_result"
    }
   ],
   "source": [
    "asm = Assembly((linear_backbone, prom, gene, term), limit=31)\n",
    "asm"
   ]
  },
  {
   "cell_type": "markdown",
   "id": "37165ee6",
   "metadata": {},
   "source": [
    "The Assembly object above should normally indicate four fragments and eight nodes."
   ]
  },
  {
   "cell_type": "code",
   "execution_count": 11,
   "id": "355e9817",
   "metadata": {
    "execution": {
     "iopub.execute_input": "2023-02-04T07:54:56.581152Z",
     "iopub.status.busy": "2023-02-04T07:54:56.580845Z",
     "iopub.status.idle": "2023-02-04T07:54:56.803130Z",
     "shell.execute_reply": "2023-02-04T07:54:56.802618Z"
    },
    "lines_to_next_cell": 0
   },
   "outputs": [
    {
     "data": {
      "text/plain": [
       "[Contig(o7649), Contig(o7649), Contig(o7649), Contig(o7053), Contig(o7053)]"
      ]
     },
     "execution_count": 11,
     "metadata": {},
     "output_type": "execute_result"
    }
   ],
   "source": [
    "candidates = asm.assemble_circular()\n",
    "candidates"
   ]
  },
  {
   "cell_type": "markdown",
   "id": "5a344c88",
   "metadata": {},
   "source": [
    "There should normally be two candidates of equal size. These sequences should be identical."
   ]
  },
  {
   "cell_type": "code",
   "execution_count": 12,
   "id": "c40ab159",
   "metadata": {
    "execution": {
     "iopub.execute_input": "2023-02-04T07:54:56.805802Z",
     "iopub.status.busy": "2023-02-04T07:54:56.805594Z",
     "iopub.status.idle": "2023-02-04T07:54:56.808524Z",
     "shell.execute_reply": "2023-02-04T07:54:56.807879Z"
    },
    "lines_to_next_cell": 0
   },
   "outputs": [],
   "source": [
    "candidate, *rest = candidates"
   ]
  },
  {
   "cell_type": "code",
   "execution_count": 13,
   "id": "0b1d8fc8",
   "metadata": {
    "execution": {
     "iopub.execute_input": "2023-02-04T07:54:56.811760Z",
     "iopub.status.busy": "2023-02-04T07:54:56.811433Z",
     "iopub.status.idle": "2023-02-04T07:54:56.827641Z",
     "shell.execute_reply": "2023-02-04T07:54:56.827111Z"
    },
    "lines_to_next_cell": 0
   },
   "outputs": [
    {
     "data": {
      "text/plain": [
       "True"
      ]
     },
     "execution_count": 13,
     "metadata": {},
     "output_type": "execute_result"
    }
   ],
   "source": [
    "candidate.cseguid() == rest[0].cseguid()"
   ]
  },
  {
   "cell_type": "code",
   "execution_count": 14,
   "id": "f1dfdd68",
   "metadata": {
    "execution": {
     "iopub.execute_input": "2023-02-04T07:54:56.830133Z",
     "iopub.status.busy": "2023-02-04T07:54:56.829910Z",
     "iopub.status.idle": "2023-02-04T07:54:56.834548Z",
     "shell.execute_reply": "2023-02-04T07:54:56.833555Z"
    },
    "lines_to_next_cell": 0
   },
   "outputs": [
    {
     "data": {
      "text/plain": [
       " -|pYPK0_lin|168\n",
       "|            \\/\n",
       "|            /\\\n",
       "|            168|TPI1|48\n",
       "|                     \\/\n",
       "|                     /\\\n",
       "|                     48|EcfabA|37\n",
       "|                               \\/\n",
       "|                               /\\\n",
       "|                               37|PMP3|276\n",
       "|                                       \\/\n",
       "|                                       /\\\n",
       "|                                       276-\n",
       "|                                          |\n",
       " ------------------------------------------"
      ]
     },
     "execution_count": 14,
     "metadata": {},
     "output_type": "execute_result"
    }
   ],
   "source": [
    "candidate.figure()"
   ]
  },
  {
   "cell_type": "markdown",
   "id": "58838413",
   "metadata": {},
   "source": [
    "The candidate vector is synchronized to the 577 primer. This means that\n",
    "the plasmid origin is shifted so that it matches the backbone vector."
   ]
  },
  {
   "cell_type": "code",
   "execution_count": 15,
   "id": "bbbf0c73",
   "metadata": {
    "execution": {
     "iopub.execute_input": "2023-02-04T07:54:56.838066Z",
     "iopub.status.busy": "2023-02-04T07:54:56.837751Z",
     "iopub.status.idle": "2023-02-04T07:54:57.136701Z",
     "shell.execute_reply": "2023-02-04T07:54:57.136045Z"
    }
   },
   "outputs": [],
   "source": [
    "result = candidate.synced(fp_prom)"
   ]
  },
  {
   "cell_type": "markdown",
   "id": "b8c36053",
   "metadata": {},
   "source": [
    "### Diagnostic PCR confirmation\n",
    "\n",
    "The structure of the final vector is confirmed by two\n",
    "separate PCR reactions, one for the promoter and gene and\n",
    "one for the gene and terminator.\n",
    "\n",
    "PCR using standard primers 577 and 467 to amplify promoter and gene."
   ]
  },
  {
   "cell_type": "code",
   "execution_count": 16,
   "id": "91896161",
   "metadata": {
    "execution": {
     "iopub.execute_input": "2023-02-04T07:54:57.140260Z",
     "iopub.status.busy": "2023-02-04T07:54:57.139662Z",
     "iopub.status.idle": "2023-02-04T07:54:57.159704Z",
     "shell.execute_reply": "2023-02-04T07:54:57.159136Z"
    }
   },
   "outputs": [],
   "source": [
    "product = pcr( fp_prom, rp_gene, result)"
   ]
  },
  {
   "cell_type": "markdown",
   "id": "ce1e3f8d",
   "metadata": {},
   "source": [
    "A correct clone should give this size in base pairs:"
   ]
  },
  {
   "cell_type": "code",
   "execution_count": 17,
   "id": "01607c5c",
   "metadata": {
    "execution": {
     "iopub.execute_input": "2023-02-04T07:54:57.163179Z",
     "iopub.status.busy": "2023-02-04T07:54:57.162940Z",
     "iopub.status.idle": "2023-02-04T07:54:57.166485Z",
     "shell.execute_reply": "2023-02-04T07:54:57.165921Z"
    }
   },
   "outputs": [
    {
     "name": "stdout",
     "output_type": "stream",
     "text": [
      "1372\n"
     ]
    }
   ],
   "source": [
    "print(len(product))"
   ]
  },
  {
   "cell_type": "markdown",
   "id": "aad35855",
   "metadata": {},
   "source": [
    "If the promoter is missing from the assembly, the PCR product will have this size in base pairs:"
   ]
  },
  {
   "cell_type": "code",
   "execution_count": 18,
   "id": "1d18cbb3",
   "metadata": {
    "execution": {
     "iopub.execute_input": "2023-02-04T07:54:57.169452Z",
     "iopub.status.busy": "2023-02-04T07:54:57.169175Z",
     "iopub.status.idle": "2023-02-04T07:54:57.172886Z",
     "shell.execute_reply": "2023-02-04T07:54:57.172287Z"
    }
   },
   "outputs": [
    {
     "name": "stdout",
     "output_type": "stream",
     "text": [
      "558\n"
     ]
    }
   ],
   "source": [
    "print(len(product) - len(prom))"
   ]
  },
  {
   "cell_type": "markdown",
   "id": "7cbad783",
   "metadata": {},
   "source": [
    "If the gene is missing from the assembly, the PCR product will have this size in base pairs:"
   ]
  },
  {
   "cell_type": "code",
   "execution_count": 19,
   "id": "b518475f",
   "metadata": {
    "execution": {
     "iopub.execute_input": "2023-02-04T07:54:57.176026Z",
     "iopub.status.busy": "2023-02-04T07:54:57.175711Z",
     "iopub.status.idle": "2023-02-04T07:54:57.180992Z",
     "shell.execute_reply": "2023-02-04T07:54:57.180017Z"
    }
   },
   "outputs": [
    {
     "name": "stdout",
     "output_type": "stream",
     "text": [
      "764\n"
     ]
    }
   ],
   "source": [
    "print(len(product) - len(gene))"
   ]
  },
  {
   "cell_type": "markdown",
   "id": "6a68d612",
   "metadata": {},
   "source": [
    "PCR using standard primers 468 and 578 to amplify gene and terminator."
   ]
  },
  {
   "cell_type": "code",
   "execution_count": 20,
   "id": "0db28177",
   "metadata": {
    "execution": {
     "iopub.execute_input": "2023-02-04T07:54:57.184592Z",
     "iopub.status.busy": "2023-02-04T07:54:57.184285Z",
     "iopub.status.idle": "2023-02-04T07:54:57.203818Z",
     "shell.execute_reply": "2023-02-04T07:54:57.203264Z"
    }
   },
   "outputs": [],
   "source": [
    "product2 = pcr( fp_gene, rp_term, result)"
   ]
  },
  {
   "cell_type": "markdown",
   "id": "bc4e8ae9",
   "metadata": {},
   "source": [
    "A correct clone should give this size:"
   ]
  },
  {
   "cell_type": "code",
   "execution_count": 21,
   "id": "13018326",
   "metadata": {
    "execution": {
     "iopub.execute_input": "2023-02-04T07:54:57.206537Z",
     "iopub.status.busy": "2023-02-04T07:54:57.206293Z",
     "iopub.status.idle": "2023-02-04T07:54:57.210003Z",
     "shell.execute_reply": "2023-02-04T07:54:57.209384Z"
    }
   },
   "outputs": [
    {
     "name": "stdout",
     "output_type": "stream",
     "text": [
      "1667\n"
     ]
    }
   ],
   "source": [
    "print(len(product2))"
   ]
  },
  {
   "cell_type": "markdown",
   "id": "3ad0fcf5",
   "metadata": {},
   "source": [
    "If the gene is missing from the assembly, the PCR product will have this size in base pairs:"
   ]
  },
  {
   "cell_type": "code",
   "execution_count": 22,
   "id": "93527762",
   "metadata": {
    "execution": {
     "iopub.execute_input": "2023-02-04T07:54:57.213600Z",
     "iopub.status.busy": "2023-02-04T07:54:57.213294Z",
     "iopub.status.idle": "2023-02-04T07:54:57.217444Z",
     "shell.execute_reply": "2023-02-04T07:54:57.216613Z"
    }
   },
   "outputs": [
    {
     "name": "stdout",
     "output_type": "stream",
     "text": [
      "1059\n"
     ]
    }
   ],
   "source": [
    "print(len(product2) - len(gene))"
   ]
  },
  {
   "cell_type": "markdown",
   "id": "60bc67c5",
   "metadata": {},
   "source": [
    "If the terminator is missing from the assembly, the PCR product will have this size in base pairs:"
   ]
  },
  {
   "cell_type": "code",
   "execution_count": 23,
   "id": "8802a57c",
   "metadata": {
    "execution": {
     "iopub.execute_input": "2023-02-04T07:54:57.221055Z",
     "iopub.status.busy": "2023-02-04T07:54:57.220752Z",
     "iopub.status.idle": "2023-02-04T07:54:57.225258Z",
     "shell.execute_reply": "2023-02-04T07:54:57.224371Z"
    }
   },
   "outputs": [
    {
     "name": "stdout",
     "output_type": "stream",
     "text": [
      "571\n"
     ]
    }
   ],
   "source": [
    "print(len(product2) - len(term))"
   ]
  },
  {
   "cell_type": "markdown",
   "id": "0bc30f3a",
   "metadata": {},
   "source": [
    "The cseguid checksum for the resulting plasmid is calculated for future reference.\n",
    "The [cseguid checksum](http://pydna.readthedocs.org/en/latest/pydna.html#pydna.utils.cseguid)\n",
    "uniquely identifies a circular double stranded sequence."
   ]
  },
  {
   "cell_type": "code",
   "execution_count": 24,
   "id": "47119390",
   "metadata": {
    "execution": {
     "iopub.execute_input": "2023-02-04T07:54:57.229467Z",
     "iopub.status.busy": "2023-02-04T07:54:57.228918Z",
     "iopub.status.idle": "2023-02-04T07:54:57.242008Z",
     "shell.execute_reply": "2023-02-04T07:54:57.241462Z"
    }
   },
   "outputs": [
    {
     "name": "stdout",
     "output_type": "stream",
     "text": [
      "b69UJ57c-OMvguc2CZReyYqmq4E\n"
     ]
    }
   ],
   "source": [
    "print(result.cseguid())"
   ]
  },
  {
   "cell_type": "markdown",
   "id": "186e6794",
   "metadata": {},
   "source": [
    "The file name is based on the promoter, gene and terminator designations."
   ]
  },
  {
   "cell_type": "code",
   "execution_count": 25,
   "id": "8cdf5078",
   "metadata": {
    "execution": {
     "iopub.execute_input": "2023-02-04T07:54:57.244758Z",
     "iopub.status.busy": "2023-02-04T07:54:57.244413Z",
     "iopub.status.idle": "2023-02-04T07:54:57.247628Z",
     "shell.execute_reply": "2023-02-04T07:54:57.246885Z"
    }
   },
   "outputs": [],
   "source": [
    "result.locus = f\"tu:{gene.name}\"[:16]\n",
    "result.definition = \"pYPK0_TPI1_EcfabA_PMP3\""
   ]
  },
  {
   "cell_type": "markdown",
   "id": "f0bca2cd",
   "metadata": {},
   "source": [
    "Sequence is stamped with cseguid checksum. This can be used to verify the\n",
    "integrity of the sequence file."
   ]
  },
  {
   "cell_type": "code",
   "execution_count": 26,
   "id": "d9b680fc",
   "metadata": {
    "execution": {
     "iopub.execute_input": "2023-02-04T07:54:57.251151Z",
     "iopub.status.busy": "2023-02-04T07:54:57.250442Z",
     "iopub.status.idle": "2023-02-04T07:54:57.264324Z",
     "shell.execute_reply": "2023-02-04T07:54:57.263709Z"
    }
   },
   "outputs": [
    {
     "data": {
      "text/plain": [
       "b69UJ57c-OMvguc2CZReyYqmq4E"
      ]
     },
     "execution_count": 26,
     "metadata": {},
     "output_type": "execute_result"
    }
   ],
   "source": [
    "result.stamp(\"cSEGUID\")"
   ]
  },
  {
   "cell_type": "markdown",
   "id": "5bd67381",
   "metadata": {},
   "source": [
    "Write sequence to a local file."
   ]
  },
  {
   "cell_type": "code",
   "execution_count": 27,
   "id": "3a4169a6",
   "metadata": {
    "execution": {
     "iopub.execute_input": "2023-02-04T07:54:57.268044Z",
     "iopub.status.busy": "2023-02-04T07:54:57.267431Z",
     "iopub.status.idle": "2023-02-04T07:54:57.286092Z",
     "shell.execute_reply": "2023-02-04T07:54:57.285463Z"
    }
   },
   "outputs": [
    {
     "data": {
      "text/html": [
       "<font face=monospace><a href='pYPK0_TPI1_EcfabA_PMP3.gb' target='_blank'>pYPK0_TPI1_EcfabA_PMP3.gb</a></font><br>"
      ]
     },
     "metadata": {},
     "output_type": "display_data"
    }
   ],
   "source": [
    "result.write(f\"{result.definition}.gb\")"
   ]
  },
  {
   "cell_type": "markdown",
   "id": "80fec80b",
   "metadata": {
    "lines_to_next_cell": 0
   },
   "source": [
    "### Suggested PCR programs\n",
    "\n",
    "For the [amplification](#PCR) of promoter, gene and terminator."
   ]
  },
  {
   "cell_type": "code",
   "execution_count": 28,
   "id": "2b1ac39c",
   "metadata": {
    "execution": {
     "iopub.execute_input": "2023-02-04T07:54:57.288979Z",
     "iopub.status.busy": "2023-02-04T07:54:57.288751Z",
     "iopub.status.idle": "2023-02-04T07:54:57.294563Z",
     "shell.execute_reply": "2023-02-04T07:54:57.293454Z"
    }
   },
   "outputs": [
    {
     "name": "stdout",
     "output_type": "stream",
     "text": [
      "577_crp585-557 567_pCAPsAjiIF\n",
      "|95°C|95°C               |    |tmf:64.6\n",
      "|____|_____          72°C|72°C|tmr:69.7\n",
      "|3min|30s  \\ 57.2°C _____|____|45s/kb\n",
      "|    |      \\______/ 0:36|5min|GC 39%\n",
      "|    |       30s         |    |814bp\n"
     ]
    }
   ],
   "source": [
    "print(prom.forward_primer.name, prom.reverse_primer.name)\n",
    "print(prom.program())"
   ]
  },
  {
   "cell_type": "code",
   "execution_count": 29,
   "id": "283a464e",
   "metadata": {
    "execution": {
     "iopub.execute_input": "2023-02-04T07:54:57.298696Z",
     "iopub.status.busy": "2023-02-04T07:54:57.298441Z",
     "iopub.status.idle": "2023-02-04T07:54:57.304133Z",
     "shell.execute_reply": "2023-02-04T07:54:57.302957Z"
    }
   },
   "outputs": [
    {
     "name": "stdout",
     "output_type": "stream",
     "text": [
      "468_pCAPs_release_fw 467_pCAPs_release_re\n",
      "|95°C|95°C               |    |tmf:76.9\n",
      "|____|_____          72°C|72°C|tmr:67.9\n",
      "|3min|30s  \\ 61.8°C _____|____|45s/kb\n",
      "|    |      \\______/ 0:30|5min|GC 53%\n",
      "|    |       30s         |    |608bp\n"
     ]
    }
   ],
   "source": [
    "print(gene.forward_primer.name, gene.reverse_primer.name)\n",
    "print(gene.program())"
   ]
  },
  {
   "cell_type": "code",
   "execution_count": 30,
   "id": "2c91ec9f",
   "metadata": {
    "execution": {
     "iopub.execute_input": "2023-02-04T07:54:57.307808Z",
     "iopub.status.busy": "2023-02-04T07:54:57.307241Z",
     "iopub.status.idle": "2023-02-04T07:54:57.312445Z",
     "shell.execute_reply": "2023-02-04T07:54:57.311735Z"
    }
   },
   "outputs": [
    {
     "name": "stdout",
     "output_type": "stream",
     "text": [
      "568_pCAPsAjiIR 578_crp42-70\n",
      "|95°C|95°C               |    |tmf:66.1\n",
      "|____|_____          72°C|72°C|tmr:65.0\n",
      "|3min|30s  \\ 58.6°C _____|____|45s/kb\n",
      "|    |      \\______/ 0:49|5min|GC 43%\n",
      "|    |       30s         |    |1096bp\n"
     ]
    }
   ],
   "source": [
    "print(term.forward_primer.name, term.reverse_primer.name)\n",
    "print(term.program())"
   ]
  }
 ],
 "metadata": {
  "jupytext": {
   "main_language": "python",
   "text_representation": {
    "extension": ".py",
    "format_name": "percent",
    "format_version": "1.3",
    "jupytext_version": "1.14.0"
   }
  },
  "language_info": {
   "codemirror_mode": {
    "name": "ipython",
    "version": 3
   },
   "file_extension": ".py",
   "mimetype": "text/x-python",
   "name": "python",
   "nbconvert_exporter": "python",
   "pygments_lexer": "ipython3",
   "version": "3.11.0"
  }
 },
 "nbformat": 4,
 "nbformat_minor": 5
}
