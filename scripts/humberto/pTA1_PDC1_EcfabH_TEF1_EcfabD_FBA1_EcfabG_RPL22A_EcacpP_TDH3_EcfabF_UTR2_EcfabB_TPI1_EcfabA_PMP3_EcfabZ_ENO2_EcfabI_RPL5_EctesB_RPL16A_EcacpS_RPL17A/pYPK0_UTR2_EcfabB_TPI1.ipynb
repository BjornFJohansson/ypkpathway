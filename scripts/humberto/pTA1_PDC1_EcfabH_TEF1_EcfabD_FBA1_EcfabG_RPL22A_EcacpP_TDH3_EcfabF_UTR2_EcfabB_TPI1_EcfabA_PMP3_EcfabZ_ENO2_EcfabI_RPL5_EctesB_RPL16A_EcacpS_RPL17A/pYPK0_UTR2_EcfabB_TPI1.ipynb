{
 "cells": [
  {
   "cell_type": "markdown",
   "id": "576c33fd",
   "metadata": {},
   "source": [
    "# [![logo](logo.png)](https://github.com/BjornFJohansson/ypkpathway#-ypkpathway) pYPK0_UTR2_EcfabB_TPI1\n",
    "\n",
    "Assembly of a [_Saccharomyces cerevisiae_](http://www.yeastgenome.org) transcriptional unit vector.\n",
    "\n",
    "Made from a linear vector fragment and three PCR products:\n",
    "\n",
    "- a linearized pYPK0 vector for maintenance in _S. cerevisiae_ or _E. coli_ (red dashed line in figure below)\n",
    "- a promoter PCR product from the `pYPKa_Z_UTR2` vector\n",
    "- a gene PCR product from the `pYPKa_A_EcfabB` vector\n",
    "- a terminator PCR product from the `pYPKa_E_TPI1` vector\n",
    "\n",
    "The four linear DNA fragments are joined by _in-vivo_ homologous recombination in a\n",
    "[_Saccharomyces cerevisiae_](http://wiki.yeastgenome.org/index.php/Commonly_used_strains) strain.\n",
    "\n",
    "![tu](tu.png \"tu\")\n",
    "\n",
    "A part of the [pydna](https://pypi.python.org/pypi/pydna/) package is imported in the code cell below."
   ]
  },
  {
   "cell_type": "code",
   "execution_count": 1,
   "id": "8bd90a81",
   "metadata": {
    "execution": {
     "iopub.execute_input": "2023-02-04T07:54:51.880946Z",
     "iopub.status.busy": "2023-02-04T07:54:51.880226Z",
     "iopub.status.idle": "2023-02-04T07:54:52.439689Z",
     "shell.execute_reply": "2023-02-04T07:54:52.438059Z"
    }
   },
   "outputs": [],
   "source": [
    "from pydna.parsers import parse_primers\n",
    "from pydna.readers import read\n",
    "from pydna.amplify import pcr\n",
    "from pydna.assembly import Assembly"
   ]
  },
  {
   "cell_type": "markdown",
   "id": "51bf7210",
   "metadata": {},
   "source": [
    "The Yeast Pathway Kit [standard primers](standard_primers.fasta) are read into a dictionary in the code cell below."
   ]
  },
  {
   "cell_type": "code",
   "execution_count": 2,
   "id": "7f757da2",
   "metadata": {
    "execution": {
     "iopub.execute_input": "2023-02-04T07:54:52.445334Z",
     "iopub.status.busy": "2023-02-04T07:54:52.444189Z",
     "iopub.status.idle": "2023-02-04T07:54:52.464375Z",
     "shell.execute_reply": "2023-02-04T07:54:52.463650Z"
    }
   },
   "outputs": [],
   "source": [
    "p = {x.name: x for x in parse_primers(\"standard_primers.fasta\")}"
   ]
  },
  {
   "cell_type": "markdown",
   "id": "efeb008b",
   "metadata": {},
   "source": [
    "The backbone vector [pYPK0](pYPK0.gb) is read from a local file in the code cell below."
   ]
  },
  {
   "cell_type": "code",
   "execution_count": 3,
   "id": "0f4a7fc6",
   "metadata": {
    "execution": {
     "iopub.execute_input": "2023-02-04T07:54:52.469995Z",
     "iopub.status.busy": "2023-02-04T07:54:52.468996Z",
     "iopub.status.idle": "2023-02-04T07:54:52.484590Z",
     "shell.execute_reply": "2023-02-04T07:54:52.483311Z"
    }
   },
   "outputs": [],
   "source": [
    "backbone = read(\"pYPK0.gb\")"
   ]
  },
  {
   "cell_type": "markdown",
   "id": "0ccdf79f",
   "metadata": {},
   "source": [
    "The backbone vector is linearized by digestion with [MfeI](https://www.google.com/search?q=MfeI)."
   ]
  },
  {
   "cell_type": "code",
   "execution_count": 4,
   "id": "ffd7c3aa",
   "metadata": {
    "execution": {
     "iopub.execute_input": "2023-02-04T07:54:52.493042Z",
     "iopub.status.busy": "2023-02-04T07:54:52.492458Z",
     "iopub.status.idle": "2023-02-04T07:54:52.498590Z",
     "shell.execute_reply": "2023-02-04T07:54:52.497879Z"
    }
   },
   "outputs": [],
   "source": [
    "from Bio.Restriction import MfeI"
   ]
  },
  {
   "cell_type": "code",
   "execution_count": 5,
   "id": "12c88542",
   "metadata": {
    "execution": {
     "iopub.execute_input": "2023-02-04T07:54:52.506622Z",
     "iopub.status.busy": "2023-02-04T07:54:52.505701Z",
     "iopub.status.idle": "2023-02-04T07:54:52.519569Z",
     "shell.execute_reply": "2023-02-04T07:54:52.516432Z"
    }
   },
   "outputs": [],
   "source": [
    "linear_backbone = backbone.linearize(MfeI)"
   ]
  },
  {
   "cell_type": "markdown",
   "id": "a91df024",
   "metadata": {},
   "source": [
    "The pYPKa derived _E. coli_ plasmids containing\n",
    "- [promoter](pYPKa_Z_UTR2.gb)\n",
    "- [gene](pYPKa_A_EcfabB.gb)\n",
    "- [terminator](pYPKa_E_TPI1.gb)\n",
    "\n",
    "are read into three variables below."
   ]
  },
  {
   "cell_type": "code",
   "execution_count": 6,
   "id": "327b56ce",
   "metadata": {
    "execution": {
     "iopub.execute_input": "2023-02-04T07:54:52.526118Z",
     "iopub.status.busy": "2023-02-04T07:54:52.525608Z",
     "iopub.status.idle": "2023-02-04T07:54:52.557296Z",
     "shell.execute_reply": "2023-02-04T07:54:52.555425Z"
    }
   },
   "outputs": [],
   "source": [
    "promoter_template   = read(\"pYPKa_Z_UTR2.gb\")\n",
    "gene_template       = read(\"pYPKa_A_EcfabB.gb\")\n",
    "terminator_template = read(\"pYPKa_E_TPI1.gb\")"
   ]
  },
  {
   "cell_type": "markdown",
   "id": "e90a014b",
   "metadata": {
    "lines_to_next_cell": 0
   },
   "source": [
    "### PCR\n",
    "Three DNA fragments are PCR amplified using [standard primers](standard_primers.fasta).\n",
    "\n",
    "[Suggested PCR programs](#Suggested-PCR-programs) can be found at the end of this document."
   ]
  },
  {
   "cell_type": "code",
   "execution_count": 7,
   "id": "509c6613",
   "metadata": {
    "execution": {
     "iopub.execute_input": "2023-02-04T07:54:52.564261Z",
     "iopub.status.busy": "2023-02-04T07:54:52.563913Z",
     "iopub.status.idle": "2023-02-04T07:54:52.575845Z",
     "shell.execute_reply": "2023-02-04T07:54:52.570508Z"
    }
   },
   "outputs": [],
   "source": [
    "\n",
    "fp_prom = p['577_crp585-557']\n",
    "rp_prom = p['567_pCAPsAjiIF']\n",
    "fp_gene = p['468_pCAPs_release_fw']\n",
    "rp_gene = p['467_pCAPs_release_re']\n",
    "fp_term = p['568_pCAPsAjiIR']\n",
    "rp_term = p['578_crp42-70']"
   ]
  },
  {
   "cell_type": "code",
   "execution_count": 8,
   "id": "75d7baf9",
   "metadata": {
    "execution": {
     "iopub.execute_input": "2023-02-04T07:54:52.582551Z",
     "iopub.status.busy": "2023-02-04T07:54:52.582059Z",
     "iopub.status.idle": "2023-02-04T07:54:52.639859Z",
     "shell.execute_reply": "2023-02-04T07:54:52.638444Z"
    }
   },
   "outputs": [],
   "source": [
    "prom = pcr(fp_prom, rp_prom, promoter_template)\n",
    "gene = pcr(fp_gene, rp_gene, gene_template)\n",
    "term = pcr(fp_term, rp_term, terminator_template)"
   ]
  },
  {
   "cell_type": "code",
   "execution_count": 9,
   "id": "b95a1203",
   "metadata": {
    "execution": {
     "iopub.execute_input": "2023-02-04T07:54:52.644248Z",
     "iopub.status.busy": "2023-02-04T07:54:52.643876Z",
     "iopub.status.idle": "2023-02-04T07:54:52.647679Z",
     "shell.execute_reply": "2023-02-04T07:54:52.646996Z"
    }
   },
   "outputs": [],
   "source": [
    "prom.name = \"pYPKa_Z_UTR2\"[8:]\n",
    "gene.name = \"pYPKa_A_EcfabB\"[8:]\n",
    "term.name = \"pYPKa_E_TPI1\"[8:]"
   ]
  },
  {
   "cell_type": "markdown",
   "id": "6494495c",
   "metadata": {},
   "source": [
    "\n",
    "The fragments will be assembled by _in-vivo_ [homologous recombination](http://www.ncbi.nlm.nih.gov/pubmed/2828185):"
   ]
  },
  {
   "cell_type": "code",
   "execution_count": 10,
   "id": "54791a6c",
   "metadata": {
    "execution": {
     "iopub.execute_input": "2023-02-04T07:54:52.654249Z",
     "iopub.status.busy": "2023-02-04T07:54:52.653180Z",
     "iopub.status.idle": "2023-02-04T07:54:53.557200Z",
     "shell.execute_reply": "2023-02-04T07:54:53.556222Z"
    }
   },
   "outputs": [
    {
     "data": {
      "text/plain": [
       "Assembly\n",
       "fragments..: 5766bp 852bp 1310bp 922bp\n",
       "limit(bp)..: 31\n",
       "G.nodes....: 10\n",
       "algorithm..: common_sub_strings"
      ]
     },
     "execution_count": 10,
     "metadata": {},
     "output_type": "execute_result"
    }
   ],
   "source": [
    "asm = Assembly((linear_backbone, prom, gene, term), limit=31)\n",
    "asm"
   ]
  },
  {
   "cell_type": "markdown",
   "id": "4901f4d2",
   "metadata": {},
   "source": [
    "The Assembly object above should normally indicate four fragments and eight nodes."
   ]
  },
  {
   "cell_type": "code",
   "execution_count": 11,
   "id": "e9e29898",
   "metadata": {
    "execution": {
     "iopub.execute_input": "2023-02-04T07:54:53.562484Z",
     "iopub.status.busy": "2023-02-04T07:54:53.562079Z",
     "iopub.status.idle": "2023-02-04T07:54:53.859016Z",
     "shell.execute_reply": "2023-02-04T07:54:53.858473Z"
    },
    "lines_to_next_cell": 0
   },
   "outputs": [
    {
     "data": {
      "text/plain": [
       "[Contig(o8215), Contig(o8215), Contig(o8215), Contig(o7581), Contig(o7581)]"
      ]
     },
     "execution_count": 11,
     "metadata": {},
     "output_type": "execute_result"
    }
   ],
   "source": [
    "candidates = asm.assemble_circular()\n",
    "candidates"
   ]
  },
  {
   "cell_type": "markdown",
   "id": "dae04b79",
   "metadata": {},
   "source": [
    "There should normally be two candidates of equal size. These sequences should be identical."
   ]
  },
  {
   "cell_type": "code",
   "execution_count": 12,
   "id": "8e773dee",
   "metadata": {
    "execution": {
     "iopub.execute_input": "2023-02-04T07:54:53.861855Z",
     "iopub.status.busy": "2023-02-04T07:54:53.861652Z",
     "iopub.status.idle": "2023-02-04T07:54:53.864768Z",
     "shell.execute_reply": "2023-02-04T07:54:53.864214Z"
    },
    "lines_to_next_cell": 0
   },
   "outputs": [],
   "source": [
    "candidate, *rest = candidates"
   ]
  },
  {
   "cell_type": "code",
   "execution_count": 13,
   "id": "1b86fa03",
   "metadata": {
    "execution": {
     "iopub.execute_input": "2023-02-04T07:54:53.867702Z",
     "iopub.status.busy": "2023-02-04T07:54:53.867334Z",
     "iopub.status.idle": "2023-02-04T07:54:53.883264Z",
     "shell.execute_reply": "2023-02-04T07:54:53.882605Z"
    },
    "lines_to_next_cell": 0
   },
   "outputs": [
    {
     "data": {
      "text/plain": [
       "True"
      ]
     },
     "execution_count": 13,
     "metadata": {},
     "output_type": "execute_result"
    }
   ],
   "source": [
    "candidate.cseguid() == rest[0].cseguid()"
   ]
  },
  {
   "cell_type": "code",
   "execution_count": 14,
   "id": "3d13ab06",
   "metadata": {
    "execution": {
     "iopub.execute_input": "2023-02-04T07:54:53.888287Z",
     "iopub.status.busy": "2023-02-04T07:54:53.887819Z",
     "iopub.status.idle": "2023-02-04T07:54:53.893091Z",
     "shell.execute_reply": "2023-02-04T07:54:53.892491Z"
    },
    "lines_to_next_cell": 0
   },
   "outputs": [
    {
     "data": {
      "text/plain": [
       " -|pYPK0_lin|168\n",
       "|            \\/\n",
       "|            /\\\n",
       "|            168|UTR2|48\n",
       "|                     \\/\n",
       "|                     /\\\n",
       "|                     48|EcfabB|37\n",
       "|                               \\/\n",
       "|                               /\\\n",
       "|                               37|TPI1|276\n",
       "|                                       \\/\n",
       "|                                       /\\\n",
       "|                                       276-\n",
       "|                                          |\n",
       " ------------------------------------------"
      ]
     },
     "execution_count": 14,
     "metadata": {},
     "output_type": "execute_result"
    }
   ],
   "source": [
    "candidate.figure()"
   ]
  },
  {
   "cell_type": "markdown",
   "id": "0366a876",
   "metadata": {},
   "source": [
    "The candidate vector is synchronized to the 577 primer. This means that\n",
    "the plasmid origin is shifted so that it matches the backbone vector."
   ]
  },
  {
   "cell_type": "code",
   "execution_count": 15,
   "id": "ea1ca0d3",
   "metadata": {
    "execution": {
     "iopub.execute_input": "2023-02-04T07:54:53.895743Z",
     "iopub.status.busy": "2023-02-04T07:54:53.895511Z",
     "iopub.status.idle": "2023-02-04T07:54:54.223423Z",
     "shell.execute_reply": "2023-02-04T07:54:54.222837Z"
    }
   },
   "outputs": [],
   "source": [
    "result = candidate.synced(fp_prom)"
   ]
  },
  {
   "cell_type": "markdown",
   "id": "695312eb",
   "metadata": {},
   "source": [
    "### Diagnostic PCR confirmation\n",
    "\n",
    "The structure of the final vector is confirmed by two\n",
    "separate PCR reactions, one for the promoter and gene and\n",
    "one for the gene and terminator.\n",
    "\n",
    "PCR using standard primers 577 and 467 to amplify promoter and gene."
   ]
  },
  {
   "cell_type": "code",
   "execution_count": 16,
   "id": "db9d8544",
   "metadata": {
    "execution": {
     "iopub.execute_input": "2023-02-04T07:54:54.226577Z",
     "iopub.status.busy": "2023-02-04T07:54:54.226316Z",
     "iopub.status.idle": "2023-02-04T07:54:54.242342Z",
     "shell.execute_reply": "2023-02-04T07:54:54.241779Z"
    }
   },
   "outputs": [],
   "source": [
    "product = pcr( fp_prom, rp_gene, result)"
   ]
  },
  {
   "cell_type": "markdown",
   "id": "4b348ebe",
   "metadata": {},
   "source": [
    "A correct clone should give this size in base pairs:"
   ]
  },
  {
   "cell_type": "code",
   "execution_count": 17,
   "id": "65bf9431",
   "metadata": {
    "execution": {
     "iopub.execute_input": "2023-02-04T07:54:54.245334Z",
     "iopub.status.busy": "2023-02-04T07:54:54.244916Z",
     "iopub.status.idle": "2023-02-04T07:54:54.248364Z",
     "shell.execute_reply": "2023-02-04T07:54:54.247742Z"
    }
   },
   "outputs": [
    {
     "name": "stdout",
     "output_type": "stream",
     "text": [
      "2112\n"
     ]
    }
   ],
   "source": [
    "print(len(product))"
   ]
  },
  {
   "cell_type": "markdown",
   "id": "9c7301b8",
   "metadata": {},
   "source": [
    "If the promoter is missing from the assembly, the PCR product will have this size in base pairs:"
   ]
  },
  {
   "cell_type": "code",
   "execution_count": 18,
   "id": "7a5bf036",
   "metadata": {
    "execution": {
     "iopub.execute_input": "2023-02-04T07:54:54.252192Z",
     "iopub.status.busy": "2023-02-04T07:54:54.251614Z",
     "iopub.status.idle": "2023-02-04T07:54:54.255589Z",
     "shell.execute_reply": "2023-02-04T07:54:54.255058Z"
    }
   },
   "outputs": [
    {
     "name": "stdout",
     "output_type": "stream",
     "text": [
      "1260\n"
     ]
    }
   ],
   "source": [
    "print(len(product) - len(prom))"
   ]
  },
  {
   "cell_type": "markdown",
   "id": "6762b066",
   "metadata": {},
   "source": [
    "If the gene is missing from the assembly, the PCR product will have this size in base pairs:"
   ]
  },
  {
   "cell_type": "code",
   "execution_count": 19,
   "id": "02ee29d1",
   "metadata": {
    "execution": {
     "iopub.execute_input": "2023-02-04T07:54:54.258322Z",
     "iopub.status.busy": "2023-02-04T07:54:54.257911Z",
     "iopub.status.idle": "2023-02-04T07:54:54.261591Z",
     "shell.execute_reply": "2023-02-04T07:54:54.260979Z"
    }
   },
   "outputs": [
    {
     "name": "stdout",
     "output_type": "stream",
     "text": [
      "802\n"
     ]
    }
   ],
   "source": [
    "print(len(product) - len(gene))"
   ]
  },
  {
   "cell_type": "markdown",
   "id": "ab80d720",
   "metadata": {},
   "source": [
    "PCR using standard primers 468 and 578 to amplify gene and terminator."
   ]
  },
  {
   "cell_type": "code",
   "execution_count": 20,
   "id": "66cddf0d",
   "metadata": {
    "execution": {
     "iopub.execute_input": "2023-02-04T07:54:54.264383Z",
     "iopub.status.busy": "2023-02-04T07:54:54.263891Z",
     "iopub.status.idle": "2023-02-04T07:54:54.283262Z",
     "shell.execute_reply": "2023-02-04T07:54:54.282621Z"
    }
   },
   "outputs": [],
   "source": [
    "product2 = pcr( fp_gene, rp_term, result)"
   ]
  },
  {
   "cell_type": "markdown",
   "id": "43f6926d",
   "metadata": {},
   "source": [
    "A correct clone should give this size:"
   ]
  },
  {
   "cell_type": "code",
   "execution_count": 21,
   "id": "3c570464",
   "metadata": {
    "execution": {
     "iopub.execute_input": "2023-02-04T07:54:54.286527Z",
     "iopub.status.busy": "2023-02-04T07:54:54.286209Z",
     "iopub.status.idle": "2023-02-04T07:54:54.290062Z",
     "shell.execute_reply": "2023-02-04T07:54:54.289454Z"
    }
   },
   "outputs": [
    {
     "name": "stdout",
     "output_type": "stream",
     "text": [
      "2195\n"
     ]
    }
   ],
   "source": [
    "print(len(product2))"
   ]
  },
  {
   "cell_type": "markdown",
   "id": "2b0c7f21",
   "metadata": {},
   "source": [
    "If the gene is missing from the assembly, the PCR product will have this size in base pairs:"
   ]
  },
  {
   "cell_type": "code",
   "execution_count": 22,
   "id": "4dbcf428",
   "metadata": {
    "execution": {
     "iopub.execute_input": "2023-02-04T07:54:54.292775Z",
     "iopub.status.busy": "2023-02-04T07:54:54.292363Z",
     "iopub.status.idle": "2023-02-04T07:54:54.296215Z",
     "shell.execute_reply": "2023-02-04T07:54:54.295604Z"
    }
   },
   "outputs": [
    {
     "name": "stdout",
     "output_type": "stream",
     "text": [
      "885\n"
     ]
    }
   ],
   "source": [
    "print(len(product2) - len(gene))"
   ]
  },
  {
   "cell_type": "markdown",
   "id": "d81ce659",
   "metadata": {},
   "source": [
    "If the terminator is missing from the assembly, the PCR product will have this size in base pairs:"
   ]
  },
  {
   "cell_type": "code",
   "execution_count": 23,
   "id": "287cb0e1",
   "metadata": {
    "execution": {
     "iopub.execute_input": "2023-02-04T07:54:54.299061Z",
     "iopub.status.busy": "2023-02-04T07:54:54.298570Z",
     "iopub.status.idle": "2023-02-04T07:54:54.302376Z",
     "shell.execute_reply": "2023-02-04T07:54:54.301770Z"
    }
   },
   "outputs": [
    {
     "name": "stdout",
     "output_type": "stream",
     "text": [
      "1273\n"
     ]
    }
   ],
   "source": [
    "print(len(product2) - len(term))"
   ]
  },
  {
   "cell_type": "markdown",
   "id": "19e998a9",
   "metadata": {},
   "source": [
    "The cseguid checksum for the resulting plasmid is calculated for future reference.\n",
    "The [cseguid checksum](http://pydna.readthedocs.org/en/latest/pydna.html#pydna.utils.cseguid)\n",
    "uniquely identifies a circular double stranded sequence."
   ]
  },
  {
   "cell_type": "code",
   "execution_count": 24,
   "id": "49ac112f",
   "metadata": {
    "execution": {
     "iopub.execute_input": "2023-02-04T07:54:54.305591Z",
     "iopub.status.busy": "2023-02-04T07:54:54.305321Z",
     "iopub.status.idle": "2023-02-04T07:54:54.314039Z",
     "shell.execute_reply": "2023-02-04T07:54:54.313394Z"
    }
   },
   "outputs": [
    {
     "name": "stdout",
     "output_type": "stream",
     "text": [
      "bNFrBIY_UaYTnBius8Td4ve2szw\n"
     ]
    }
   ],
   "source": [
    "print(result.cseguid())"
   ]
  },
  {
   "cell_type": "markdown",
   "id": "7562d9c1",
   "metadata": {},
   "source": [
    "The file name is based on the promoter, gene and terminator designations."
   ]
  },
  {
   "cell_type": "code",
   "execution_count": 25,
   "id": "e46afdbc",
   "metadata": {
    "execution": {
     "iopub.execute_input": "2023-02-04T07:54:54.316825Z",
     "iopub.status.busy": "2023-02-04T07:54:54.316611Z",
     "iopub.status.idle": "2023-02-04T07:54:54.319956Z",
     "shell.execute_reply": "2023-02-04T07:54:54.319279Z"
    }
   },
   "outputs": [],
   "source": [
    "result.locus = f\"tu:{gene.name}\"[:16]\n",
    "result.definition = \"pYPK0_UTR2_EcfabB_TPI1\""
   ]
  },
  {
   "cell_type": "markdown",
   "id": "a9c64d09",
   "metadata": {},
   "source": [
    "Sequence is stamped with cseguid checksum. This can be used to verify the\n",
    "integrity of the sequence file."
   ]
  },
  {
   "cell_type": "code",
   "execution_count": 26,
   "id": "d54d3abe",
   "metadata": {
    "execution": {
     "iopub.execute_input": "2023-02-04T07:54:54.322482Z",
     "iopub.status.busy": "2023-02-04T07:54:54.322222Z",
     "iopub.status.idle": "2023-02-04T07:54:54.332607Z",
     "shell.execute_reply": "2023-02-04T07:54:54.331956Z"
    }
   },
   "outputs": [
    {
     "data": {
      "text/plain": [
       "bNFrBIY_UaYTnBius8Td4ve2szw"
      ]
     },
     "execution_count": 26,
     "metadata": {},
     "output_type": "execute_result"
    }
   ],
   "source": [
    "result.stamp(\"cSEGUID\")"
   ]
  },
  {
   "cell_type": "markdown",
   "id": "eef86786",
   "metadata": {},
   "source": [
    "Write sequence to a local file."
   ]
  },
  {
   "cell_type": "code",
   "execution_count": 27,
   "id": "d01b3e07",
   "metadata": {
    "execution": {
     "iopub.execute_input": "2023-02-04T07:54:54.335789Z",
     "iopub.status.busy": "2023-02-04T07:54:54.335557Z",
     "iopub.status.idle": "2023-02-04T07:54:54.352427Z",
     "shell.execute_reply": "2023-02-04T07:54:54.351855Z"
    }
   },
   "outputs": [
    {
     "data": {
      "text/html": [
       "<font face=monospace><a href='pYPK0_UTR2_EcfabB_TPI1.gb' target='_blank'>pYPK0_UTR2_EcfabB_TPI1.gb</a></font><br>"
      ]
     },
     "metadata": {},
     "output_type": "display_data"
    }
   ],
   "source": [
    "result.write(f\"{result.definition}.gb\")"
   ]
  },
  {
   "cell_type": "markdown",
   "id": "e0829e18",
   "metadata": {
    "lines_to_next_cell": 0
   },
   "source": [
    "### Suggested PCR programs\n",
    "\n",
    "For the [amplification](#PCR) of promoter, gene and terminator."
   ]
  },
  {
   "cell_type": "code",
   "execution_count": 28,
   "id": "b821d935",
   "metadata": {
    "execution": {
     "iopub.execute_input": "2023-02-04T07:54:54.355107Z",
     "iopub.status.busy": "2023-02-04T07:54:54.354862Z",
     "iopub.status.idle": "2023-02-04T07:54:54.358852Z",
     "shell.execute_reply": "2023-02-04T07:54:54.358296Z"
    }
   },
   "outputs": [
    {
     "name": "stdout",
     "output_type": "stream",
     "text": [
      "577_crp585-557 567_pCAPsAjiIF\n",
      "|95°C|95°C               |    |tmf:64.6\n",
      "|____|_____          72°C|72°C|tmr:69.7\n",
      "|3min|30s  \\ 57.6°C _____|____|45s/kb\n",
      "|    |      \\______/ 0:38|5min|GC 40%\n",
      "|    |       30s         |    |852bp\n"
     ]
    }
   ],
   "source": [
    "print(prom.forward_primer.name, prom.reverse_primer.name)\n",
    "print(prom.program())"
   ]
  },
  {
   "cell_type": "code",
   "execution_count": 29,
   "id": "34146271",
   "metadata": {
    "execution": {
     "iopub.execute_input": "2023-02-04T07:54:54.361299Z",
     "iopub.status.busy": "2023-02-04T07:54:54.361099Z",
     "iopub.status.idle": "2023-02-04T07:54:54.365368Z",
     "shell.execute_reply": "2023-02-04T07:54:54.364627Z"
    }
   },
   "outputs": [
    {
     "name": "stdout",
     "output_type": "stream",
     "text": [
      "468_pCAPs_release_fw 467_pCAPs_release_re\n",
      "|95°C|95°C               |    |tmf:76.9\n",
      "|____|_____          72°C|72°C|tmr:67.9\n",
      "|3min|30s  \\ 63.2°C _____|____|45s/kb\n",
      "|    |      \\______/ 0:58|5min|GC 56%\n",
      "|    |       30s         |    |1310bp\n"
     ]
    }
   ],
   "source": [
    "print(gene.forward_primer.name, gene.reverse_primer.name)\n",
    "print(gene.program())"
   ]
  },
  {
   "cell_type": "code",
   "execution_count": 30,
   "id": "ecf24376",
   "metadata": {
    "execution": {
     "iopub.execute_input": "2023-02-04T07:54:54.369308Z",
     "iopub.status.busy": "2023-02-04T07:54:54.368819Z",
     "iopub.status.idle": "2023-02-04T07:54:54.372909Z",
     "shell.execute_reply": "2023-02-04T07:54:54.372360Z"
    }
   },
   "outputs": [
    {
     "name": "stdout",
     "output_type": "stream",
     "text": [
      "568_pCAPsAjiIR 578_crp42-70\n",
      "|95°C|95°C               |    |tmf:66.1\n",
      "|____|_____          72°C|72°C|tmr:65.0\n",
      "|3min|30s  \\ 57.2°C _____|____|45s/kb\n",
      "|    |      \\______/ 0:41|5min|GC 38%\n",
      "|    |       30s         |    |922bp\n"
     ]
    }
   ],
   "source": [
    "print(term.forward_primer.name, term.reverse_primer.name)\n",
    "print(term.program())"
   ]
  }
 ],
 "metadata": {
  "jupytext": {
   "main_language": "python",
   "text_representation": {
    "extension": ".py",
    "format_name": "percent",
    "format_version": "1.3",
    "jupytext_version": "1.14.0"
   }
  },
  "language_info": {
   "codemirror_mode": {
    "name": "ipython",
    "version": 3
   },
   "file_extension": ".py",
   "mimetype": "text/x-python",
   "name": "python",
   "nbconvert_exporter": "python",
   "pygments_lexer": "ipython3",
   "version": "3.11.0"
  }
 },
 "nbformat": 4,
 "nbformat_minor": 5
}
