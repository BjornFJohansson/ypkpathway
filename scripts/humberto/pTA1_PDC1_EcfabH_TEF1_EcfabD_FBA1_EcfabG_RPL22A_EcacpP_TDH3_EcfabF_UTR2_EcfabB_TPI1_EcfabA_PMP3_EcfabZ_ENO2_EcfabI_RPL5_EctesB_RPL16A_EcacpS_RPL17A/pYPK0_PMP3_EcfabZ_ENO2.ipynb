{
 "cells": [
  {
   "cell_type": "markdown",
   "id": "71704116",
   "metadata": {},
   "source": [
    "# [![logo](logo.png)](https://github.com/BjornFJohansson/ypkpathway#-ypkpathway) pYPK0_PMP3_EcfabZ_ENO2\n",
    "\n",
    "Assembly of a [_Saccharomyces cerevisiae_](http://www.yeastgenome.org) transcriptional unit vector.\n",
    "\n",
    "Made from a linear vector fragment and three PCR products:\n",
    "\n",
    "- a linearized pYPK0 vector for maintenance in _S. cerevisiae_ or _E. coli_ (red dashed line in figure below)\n",
    "- a promoter PCR product from the `pYPKa_Z_PMP3` vector\n",
    "- a gene PCR product from the `pYPKa_A_EcfabZ` vector\n",
    "- a terminator PCR product from the `pYPKa_E_ENO2` vector\n",
    "\n",
    "The four linear DNA fragments are joined by _in-vivo_ homologous recombination in a\n",
    "[_Saccharomyces cerevisiae_](http://wiki.yeastgenome.org/index.php/Commonly_used_strains) strain.\n",
    "\n",
    "![tu](tu.png \"tu\")\n",
    "\n",
    "A part of the [pydna](https://pypi.python.org/pypi/pydna/) package is imported in the code cell below."
   ]
  },
  {
   "cell_type": "code",
   "execution_count": 1,
   "id": "0bbdd8c0",
   "metadata": {
    "execution": {
     "iopub.execute_input": "2023-02-04T07:54:58.915384Z",
     "iopub.status.busy": "2023-02-04T07:54:58.914543Z",
     "iopub.status.idle": "2023-02-04T07:54:59.276471Z",
     "shell.execute_reply": "2023-02-04T07:54:59.275935Z"
    }
   },
   "outputs": [],
   "source": [
    "from pydna.parsers import parse_primers\n",
    "from pydna.readers import read\n",
    "from pydna.amplify import pcr\n",
    "from pydna.assembly import Assembly"
   ]
  },
  {
   "cell_type": "markdown",
   "id": "54a0cc3e",
   "metadata": {},
   "source": [
    "The Yeast Pathway Kit [standard primers](standard_primers.fasta) are read into a dictionary in the code cell below."
   ]
  },
  {
   "cell_type": "code",
   "execution_count": 2,
   "id": "f1e26d18",
   "metadata": {
    "execution": {
     "iopub.execute_input": "2023-02-04T07:54:59.279653Z",
     "iopub.status.busy": "2023-02-04T07:54:59.279325Z",
     "iopub.status.idle": "2023-02-04T07:54:59.291461Z",
     "shell.execute_reply": "2023-02-04T07:54:59.290675Z"
    }
   },
   "outputs": [],
   "source": [
    "p = {x.name: x for x in parse_primers(\"standard_primers.fasta\")}"
   ]
  },
  {
   "cell_type": "markdown",
   "id": "b1a91d10",
   "metadata": {},
   "source": [
    "The backbone vector [pYPK0](pYPK0.gb) is read from a local file in the code cell below."
   ]
  },
  {
   "cell_type": "code",
   "execution_count": 3,
   "id": "5a5eca8e",
   "metadata": {
    "execution": {
     "iopub.execute_input": "2023-02-04T07:54:59.295903Z",
     "iopub.status.busy": "2023-02-04T07:54:59.295322Z",
     "iopub.status.idle": "2023-02-04T07:54:59.307800Z",
     "shell.execute_reply": "2023-02-04T07:54:59.307212Z"
    }
   },
   "outputs": [],
   "source": [
    "backbone = read(\"pYPK0.gb\")"
   ]
  },
  {
   "cell_type": "markdown",
   "id": "a6897d7f",
   "metadata": {},
   "source": [
    "The backbone vector is linearized by digestion with [MfeI](https://www.google.com/search?q=MfeI)."
   ]
  },
  {
   "cell_type": "code",
   "execution_count": 4,
   "id": "f611ad9a",
   "metadata": {
    "execution": {
     "iopub.execute_input": "2023-02-04T07:54:59.310729Z",
     "iopub.status.busy": "2023-02-04T07:54:59.310311Z",
     "iopub.status.idle": "2023-02-04T07:54:59.313761Z",
     "shell.execute_reply": "2023-02-04T07:54:59.313079Z"
    }
   },
   "outputs": [],
   "source": [
    "from Bio.Restriction import MfeI"
   ]
  },
  {
   "cell_type": "code",
   "execution_count": 5,
   "id": "d7ccd6c2",
   "metadata": {
    "execution": {
     "iopub.execute_input": "2023-02-04T07:54:59.317027Z",
     "iopub.status.busy": "2023-02-04T07:54:59.316664Z",
     "iopub.status.idle": "2023-02-04T07:54:59.325089Z",
     "shell.execute_reply": "2023-02-04T07:54:59.324184Z"
    }
   },
   "outputs": [],
   "source": [
    "linear_backbone = backbone.linearize(MfeI)"
   ]
  },
  {
   "cell_type": "markdown",
   "id": "0ce77a73",
   "metadata": {},
   "source": [
    "The pYPKa derived _E. coli_ plasmids containing\n",
    "- [promoter](pYPKa_Z_PMP3.gb)\n",
    "- [gene](pYPKa_A_EcfabZ.gb)\n",
    "- [terminator](pYPKa_E_ENO2.gb)\n",
    "\n",
    "are read into three variables below."
   ]
  },
  {
   "cell_type": "code",
   "execution_count": 6,
   "id": "ef8ea742",
   "metadata": {
    "execution": {
     "iopub.execute_input": "2023-02-04T07:54:59.328808Z",
     "iopub.status.busy": "2023-02-04T07:54:59.328210Z",
     "iopub.status.idle": "2023-02-04T07:54:59.347542Z",
     "shell.execute_reply": "2023-02-04T07:54:59.346918Z"
    }
   },
   "outputs": [],
   "source": [
    "promoter_template   = read(\"pYPKa_Z_PMP3.gb\")\n",
    "gene_template       = read(\"pYPKa_A_EcfabZ.gb\")\n",
    "terminator_template = read(\"pYPKa_E_ENO2.gb\")"
   ]
  },
  {
   "cell_type": "markdown",
   "id": "57036535",
   "metadata": {
    "lines_to_next_cell": 0
   },
   "source": [
    "### PCR\n",
    "Three DNA fragments are PCR amplified using [standard primers](standard_primers.fasta).\n",
    "\n",
    "[Suggested PCR programs](#Suggested-PCR-programs) can be found at the end of this document."
   ]
  },
  {
   "cell_type": "code",
   "execution_count": 7,
   "id": "a1cc4c26",
   "metadata": {
    "execution": {
     "iopub.execute_input": "2023-02-04T07:54:59.350855Z",
     "iopub.status.busy": "2023-02-04T07:54:59.350441Z",
     "iopub.status.idle": "2023-02-04T07:54:59.354228Z",
     "shell.execute_reply": "2023-02-04T07:54:59.353641Z"
    }
   },
   "outputs": [],
   "source": [
    "\n",
    "fp_prom = p['577_crp585-557']\n",
    "rp_prom = p['567_pCAPsAjiIF']\n",
    "fp_gene = p['468_pCAPs_release_fw']\n",
    "rp_gene = p['467_pCAPs_release_re']\n",
    "fp_term = p['568_pCAPsAjiIR']\n",
    "rp_term = p['578_crp42-70']"
   ]
  },
  {
   "cell_type": "code",
   "execution_count": 8,
   "id": "a311f405",
   "metadata": {
    "execution": {
     "iopub.execute_input": "2023-02-04T07:54:59.357534Z",
     "iopub.status.busy": "2023-02-04T07:54:59.356962Z",
     "iopub.status.idle": "2023-02-04T07:54:59.385534Z",
     "shell.execute_reply": "2023-02-04T07:54:59.384997Z"
    }
   },
   "outputs": [],
   "source": [
    "prom = pcr(fp_prom, rp_prom, promoter_template)\n",
    "gene = pcr(fp_gene, rp_gene, gene_template)\n",
    "term = pcr(fp_term, rp_term, terminator_template)"
   ]
  },
  {
   "cell_type": "code",
   "execution_count": 9,
   "id": "2b510225",
   "metadata": {
    "execution": {
     "iopub.execute_input": "2023-02-04T07:54:59.388293Z",
     "iopub.status.busy": "2023-02-04T07:54:59.388076Z",
     "iopub.status.idle": "2023-02-04T07:54:59.391227Z",
     "shell.execute_reply": "2023-02-04T07:54:59.390743Z"
    }
   },
   "outputs": [],
   "source": [
    "prom.name = \"pYPKa_Z_PMP3\"[8:]\n",
    "gene.name = \"pYPKa_A_EcfabZ\"[8:]\n",
    "term.name = \"pYPKa_E_ENO2\"[8:]"
   ]
  },
  {
   "cell_type": "markdown",
   "id": "fcee12be",
   "metadata": {},
   "source": [
    "\n",
    "The fragments will be assembled by _in-vivo_ [homologous recombination](http://www.ncbi.nlm.nih.gov/pubmed/2828185):"
   ]
  },
  {
   "cell_type": "code",
   "execution_count": 10,
   "id": "f9982224",
   "metadata": {
    "execution": {
     "iopub.execute_input": "2023-02-04T07:54:59.394587Z",
     "iopub.status.busy": "2023-02-04T07:54:59.393852Z",
     "iopub.status.idle": "2023-02-04T07:54:59.797283Z",
     "shell.execute_reply": "2023-02-04T07:54:59.796751Z"
    }
   },
   "outputs": [
    {
     "data": {
      "text/plain": [
       "Assembly\n",
       "fragments..: 5766bp 988bp 545bp 860bp\n",
       "limit(bp)..: 31\n",
       "G.nodes....: 10\n",
       "algorithm..: common_sub_strings"
      ]
     },
     "execution_count": 10,
     "metadata": {},
     "output_type": "execute_result"
    }
   ],
   "source": [
    "asm = Assembly((linear_backbone, prom, gene, term), limit=31)\n",
    "asm"
   ]
  },
  {
   "cell_type": "markdown",
   "id": "38466498",
   "metadata": {},
   "source": [
    "The Assembly object above should normally indicate four fragments and eight nodes."
   ]
  },
  {
   "cell_type": "code",
   "execution_count": 11,
   "id": "f70cd24c",
   "metadata": {
    "execution": {
     "iopub.execute_input": "2023-02-04T07:54:59.800705Z",
     "iopub.status.busy": "2023-02-04T07:54:59.800316Z",
     "iopub.status.idle": "2023-02-04T07:55:00.028701Z",
     "shell.execute_reply": "2023-02-04T07:55:00.028011Z"
    },
    "lines_to_next_cell": 0
   },
   "outputs": [
    {
     "data": {
      "text/plain": [
       "[Contig(o7524), Contig(o7524), Contig(o7524), Contig(o6754), Contig(o6754)]"
      ]
     },
     "execution_count": 11,
     "metadata": {},
     "output_type": "execute_result"
    }
   ],
   "source": [
    "candidates = asm.assemble_circular()\n",
    "candidates"
   ]
  },
  {
   "cell_type": "markdown",
   "id": "0464d51b",
   "metadata": {},
   "source": [
    "There should normally be two candidates of equal size. These sequences should be identical."
   ]
  },
  {
   "cell_type": "code",
   "execution_count": 12,
   "id": "322dbdc1",
   "metadata": {
    "execution": {
     "iopub.execute_input": "2023-02-04T07:55:00.031631Z",
     "iopub.status.busy": "2023-02-04T07:55:00.031116Z",
     "iopub.status.idle": "2023-02-04T07:55:00.034816Z",
     "shell.execute_reply": "2023-02-04T07:55:00.033748Z"
    },
    "lines_to_next_cell": 0
   },
   "outputs": [],
   "source": [
    "candidate, *rest = candidates"
   ]
  },
  {
   "cell_type": "code",
   "execution_count": 13,
   "id": "5e50cf9d",
   "metadata": {
    "execution": {
     "iopub.execute_input": "2023-02-04T07:55:00.038658Z",
     "iopub.status.busy": "2023-02-04T07:55:00.038330Z",
     "iopub.status.idle": "2023-02-04T07:55:00.059473Z",
     "shell.execute_reply": "2023-02-04T07:55:00.058906Z"
    },
    "lines_to_next_cell": 0
   },
   "outputs": [
    {
     "data": {
      "text/plain": [
       "True"
      ]
     },
     "execution_count": 13,
     "metadata": {},
     "output_type": "execute_result"
    }
   ],
   "source": [
    "candidate.cseguid() == rest[0].cseguid()"
   ]
  },
  {
   "cell_type": "code",
   "execution_count": 14,
   "id": "84a63801",
   "metadata": {
    "execution": {
     "iopub.execute_input": "2023-02-04T07:55:00.062444Z",
     "iopub.status.busy": "2023-02-04T07:55:00.061938Z",
     "iopub.status.idle": "2023-02-04T07:55:00.065714Z",
     "shell.execute_reply": "2023-02-04T07:55:00.065236Z"
    },
    "lines_to_next_cell": 0
   },
   "outputs": [
    {
     "data": {
      "text/plain": [
       " -|pYPK0_lin|168\n",
       "|            \\/\n",
       "|            /\\\n",
       "|            168|PMP3|48\n",
       "|                     \\/\n",
       "|                     /\\\n",
       "|                     48|EcfabZ|37\n",
       "|                               \\/\n",
       "|                               /\\\n",
       "|                               37|ENO2|276\n",
       "|                                       \\/\n",
       "|                                       /\\\n",
       "|                                       276-\n",
       "|                                          |\n",
       " ------------------------------------------"
      ]
     },
     "execution_count": 14,
     "metadata": {},
     "output_type": "execute_result"
    }
   ],
   "source": [
    "candidate.figure()"
   ]
  },
  {
   "cell_type": "markdown",
   "id": "be94562b",
   "metadata": {},
   "source": [
    "The candidate vector is synchronized to the 577 primer. This means that\n",
    "the plasmid origin is shifted so that it matches the backbone vector."
   ]
  },
  {
   "cell_type": "code",
   "execution_count": 15,
   "id": "017aee2c",
   "metadata": {
    "execution": {
     "iopub.execute_input": "2023-02-04T07:55:00.068736Z",
     "iopub.status.busy": "2023-02-04T07:55:00.068498Z",
     "iopub.status.idle": "2023-02-04T07:55:00.358708Z",
     "shell.execute_reply": "2023-02-04T07:55:00.358035Z"
    }
   },
   "outputs": [],
   "source": [
    "result = candidate.synced(fp_prom)"
   ]
  },
  {
   "cell_type": "markdown",
   "id": "ec88c581",
   "metadata": {},
   "source": [
    "### Diagnostic PCR confirmation\n",
    "\n",
    "The structure of the final vector is confirmed by two\n",
    "separate PCR reactions, one for the promoter and gene and\n",
    "one for the gene and terminator.\n",
    "\n",
    "PCR using standard primers 577 and 467 to amplify promoter and gene."
   ]
  },
  {
   "cell_type": "code",
   "execution_count": 16,
   "id": "8eb5fd58",
   "metadata": {
    "execution": {
     "iopub.execute_input": "2023-02-04T07:55:00.361851Z",
     "iopub.status.busy": "2023-02-04T07:55:00.361638Z",
     "iopub.status.idle": "2023-02-04T07:55:00.379821Z",
     "shell.execute_reply": "2023-02-04T07:55:00.379166Z"
    }
   },
   "outputs": [],
   "source": [
    "product = pcr( fp_prom, rp_gene, result)"
   ]
  },
  {
   "cell_type": "markdown",
   "id": "32c06b9e",
   "metadata": {},
   "source": [
    "A correct clone should give this size in base pairs:"
   ]
  },
  {
   "cell_type": "code",
   "execution_count": 17,
   "id": "de64b9ad",
   "metadata": {
    "execution": {
     "iopub.execute_input": "2023-02-04T07:55:00.382681Z",
     "iopub.status.busy": "2023-02-04T07:55:00.382426Z",
     "iopub.status.idle": "2023-02-04T07:55:00.386343Z",
     "shell.execute_reply": "2023-02-04T07:55:00.385703Z"
    }
   },
   "outputs": [
    {
     "name": "stdout",
     "output_type": "stream",
     "text": [
      "1483\n"
     ]
    }
   ],
   "source": [
    "print(len(product))"
   ]
  },
  {
   "cell_type": "markdown",
   "id": "6905df47",
   "metadata": {},
   "source": [
    "If the promoter is missing from the assembly, the PCR product will have this size in base pairs:"
   ]
  },
  {
   "cell_type": "code",
   "execution_count": 18,
   "id": "e88f9aa2",
   "metadata": {
    "execution": {
     "iopub.execute_input": "2023-02-04T07:55:00.389779Z",
     "iopub.status.busy": "2023-02-04T07:55:00.389221Z",
     "iopub.status.idle": "2023-02-04T07:55:00.393501Z",
     "shell.execute_reply": "2023-02-04T07:55:00.392784Z"
    }
   },
   "outputs": [
    {
     "name": "stdout",
     "output_type": "stream",
     "text": [
      "495\n"
     ]
    }
   ],
   "source": [
    "print(len(product) - len(prom))"
   ]
  },
  {
   "cell_type": "markdown",
   "id": "749ac9cc",
   "metadata": {},
   "source": [
    "If the gene is missing from the assembly, the PCR product will have this size in base pairs:"
   ]
  },
  {
   "cell_type": "code",
   "execution_count": 19,
   "id": "05f5885b",
   "metadata": {
    "execution": {
     "iopub.execute_input": "2023-02-04T07:55:00.397677Z",
     "iopub.status.busy": "2023-02-04T07:55:00.397016Z",
     "iopub.status.idle": "2023-02-04T07:55:00.401994Z",
     "shell.execute_reply": "2023-02-04T07:55:00.401217Z"
    }
   },
   "outputs": [
    {
     "name": "stdout",
     "output_type": "stream",
     "text": [
      "938\n"
     ]
    }
   ],
   "source": [
    "print(len(product) - len(gene))"
   ]
  },
  {
   "cell_type": "markdown",
   "id": "1bcd9e20",
   "metadata": {},
   "source": [
    "PCR using standard primers 468 and 578 to amplify gene and terminator."
   ]
  },
  {
   "cell_type": "code",
   "execution_count": 20,
   "id": "4e5bcb8b",
   "metadata": {
    "execution": {
     "iopub.execute_input": "2023-02-04T07:55:00.405116Z",
     "iopub.status.busy": "2023-02-04T07:55:00.404831Z",
     "iopub.status.idle": "2023-02-04T07:55:00.424934Z",
     "shell.execute_reply": "2023-02-04T07:55:00.424309Z"
    }
   },
   "outputs": [],
   "source": [
    "product2 = pcr( fp_gene, rp_term, result)"
   ]
  },
  {
   "cell_type": "markdown",
   "id": "3e3d4368",
   "metadata": {},
   "source": [
    "A correct clone should give this size:"
   ]
  },
  {
   "cell_type": "code",
   "execution_count": 21,
   "id": "06016729",
   "metadata": {
    "execution": {
     "iopub.execute_input": "2023-02-04T07:55:00.427998Z",
     "iopub.status.busy": "2023-02-04T07:55:00.427555Z",
     "iopub.status.idle": "2023-02-04T07:55:00.431434Z",
     "shell.execute_reply": "2023-02-04T07:55:00.430535Z"
    }
   },
   "outputs": [
    {
     "name": "stdout",
     "output_type": "stream",
     "text": [
      "1368\n"
     ]
    }
   ],
   "source": [
    "print(len(product2))"
   ]
  },
  {
   "cell_type": "markdown",
   "id": "5f9e4635",
   "metadata": {},
   "source": [
    "If the gene is missing from the assembly, the PCR product will have this size in base pairs:"
   ]
  },
  {
   "cell_type": "code",
   "execution_count": 22,
   "id": "d3df9a21",
   "metadata": {
    "execution": {
     "iopub.execute_input": "2023-02-04T07:55:00.435664Z",
     "iopub.status.busy": "2023-02-04T07:55:00.435329Z",
     "iopub.status.idle": "2023-02-04T07:55:00.439777Z",
     "shell.execute_reply": "2023-02-04T07:55:00.438994Z"
    }
   },
   "outputs": [
    {
     "name": "stdout",
     "output_type": "stream",
     "text": [
      "823\n"
     ]
    }
   ],
   "source": [
    "print(len(product2) - len(gene))"
   ]
  },
  {
   "cell_type": "markdown",
   "id": "97313ef2",
   "metadata": {},
   "source": [
    "If the terminator is missing from the assembly, the PCR product will have this size in base pairs:"
   ]
  },
  {
   "cell_type": "code",
   "execution_count": 23,
   "id": "44992a33",
   "metadata": {
    "execution": {
     "iopub.execute_input": "2023-02-04T07:55:00.443006Z",
     "iopub.status.busy": "2023-02-04T07:55:00.442697Z",
     "iopub.status.idle": "2023-02-04T07:55:00.447044Z",
     "shell.execute_reply": "2023-02-04T07:55:00.446237Z"
    }
   },
   "outputs": [
    {
     "name": "stdout",
     "output_type": "stream",
     "text": [
      "508\n"
     ]
    }
   ],
   "source": [
    "print(len(product2) - len(term))"
   ]
  },
  {
   "cell_type": "markdown",
   "id": "610a47de",
   "metadata": {},
   "source": [
    "The cseguid checksum for the resulting plasmid is calculated for future reference.\n",
    "The [cseguid checksum](http://pydna.readthedocs.org/en/latest/pydna.html#pydna.utils.cseguid)\n",
    "uniquely identifies a circular double stranded sequence."
   ]
  },
  {
   "cell_type": "code",
   "execution_count": 24,
   "id": "8e52f2de",
   "metadata": {
    "execution": {
     "iopub.execute_input": "2023-02-04T07:55:00.451082Z",
     "iopub.status.busy": "2023-02-04T07:55:00.450193Z",
     "iopub.status.idle": "2023-02-04T07:55:00.463817Z",
     "shell.execute_reply": "2023-02-04T07:55:00.463054Z"
    }
   },
   "outputs": [
    {
     "name": "stdout",
     "output_type": "stream",
     "text": [
      "35I_zpHOHAZSNcMST9YXGDaL7Ko\n"
     ]
    }
   ],
   "source": [
    "print(result.cseguid())"
   ]
  },
  {
   "cell_type": "markdown",
   "id": "46bc17f7",
   "metadata": {},
   "source": [
    "The file name is based on the promoter, gene and terminator designations."
   ]
  },
  {
   "cell_type": "code",
   "execution_count": 25,
   "id": "fa2c23ad",
   "metadata": {
    "execution": {
     "iopub.execute_input": "2023-02-04T07:55:00.467237Z",
     "iopub.status.busy": "2023-02-04T07:55:00.466833Z",
     "iopub.status.idle": "2023-02-04T07:55:00.471620Z",
     "shell.execute_reply": "2023-02-04T07:55:00.470707Z"
    }
   },
   "outputs": [],
   "source": [
    "result.locus = f\"tu:{gene.name}\"[:16]\n",
    "result.definition = \"pYPK0_PMP3_EcfabZ_ENO2\""
   ]
  },
  {
   "cell_type": "markdown",
   "id": "0efc012f",
   "metadata": {},
   "source": [
    "Sequence is stamped with cseguid checksum. This can be used to verify the\n",
    "integrity of the sequence file."
   ]
  },
  {
   "cell_type": "code",
   "execution_count": 26,
   "id": "c42f619f",
   "metadata": {
    "execution": {
     "iopub.execute_input": "2023-02-04T07:55:00.475616Z",
     "iopub.status.busy": "2023-02-04T07:55:00.475088Z",
     "iopub.status.idle": "2023-02-04T07:55:00.488418Z",
     "shell.execute_reply": "2023-02-04T07:55:00.487705Z"
    }
   },
   "outputs": [
    {
     "data": {
      "text/plain": [
       "35I_zpHOHAZSNcMST9YXGDaL7Ko"
      ]
     },
     "execution_count": 26,
     "metadata": {},
     "output_type": "execute_result"
    }
   ],
   "source": [
    "result.stamp(\"cSEGUID\")"
   ]
  },
  {
   "cell_type": "markdown",
   "id": "a3c6ee9c",
   "metadata": {},
   "source": [
    "Write sequence to a local file."
   ]
  },
  {
   "cell_type": "code",
   "execution_count": 27,
   "id": "d1cb3475",
   "metadata": {
    "execution": {
     "iopub.execute_input": "2023-02-04T07:55:00.492319Z",
     "iopub.status.busy": "2023-02-04T07:55:00.492049Z",
     "iopub.status.idle": "2023-02-04T07:55:00.511098Z",
     "shell.execute_reply": "2023-02-04T07:55:00.510279Z"
    }
   },
   "outputs": [
    {
     "data": {
      "text/html": [
       "<font face=monospace><a href='pYPK0_PMP3_EcfabZ_ENO2.gb' target='_blank'>pYPK0_PMP3_EcfabZ_ENO2.gb</a></font><br>"
      ]
     },
     "metadata": {},
     "output_type": "display_data"
    }
   ],
   "source": [
    "result.write(f\"{result.definition}.gb\")"
   ]
  },
  {
   "cell_type": "markdown",
   "id": "ee33e3c4",
   "metadata": {
    "lines_to_next_cell": 0
   },
   "source": [
    "### Suggested PCR programs\n",
    "\n",
    "For the [amplification](#PCR) of promoter, gene and terminator."
   ]
  },
  {
   "cell_type": "code",
   "execution_count": 28,
   "id": "3a40d5ef",
   "metadata": {
    "execution": {
     "iopub.execute_input": "2023-02-04T07:55:00.514796Z",
     "iopub.status.busy": "2023-02-04T07:55:00.514249Z",
     "iopub.status.idle": "2023-02-04T07:55:00.520090Z",
     "shell.execute_reply": "2023-02-04T07:55:00.519172Z"
    }
   },
   "outputs": [
    {
     "name": "stdout",
     "output_type": "stream",
     "text": [
      "577_crp585-557 567_pCAPsAjiIF\n",
      "|95°C|95°C               |    |tmf:64.6\n",
      "|____|_____          72°C|72°C|tmr:69.7\n",
      "|3min|30s  \\ 58.7°C _____|____|45s/kb\n",
      "|    |      \\______/ 0:44|5min|GC 44%\n",
      "|    |       30s         |    |988bp\n"
     ]
    }
   ],
   "source": [
    "print(prom.forward_primer.name, prom.reverse_primer.name)\n",
    "print(prom.program())"
   ]
  },
  {
   "cell_type": "code",
   "execution_count": 29,
   "id": "8746ac8a",
   "metadata": {
    "execution": {
     "iopub.execute_input": "2023-02-04T07:55:00.523132Z",
     "iopub.status.busy": "2023-02-04T07:55:00.522661Z",
     "iopub.status.idle": "2023-02-04T07:55:00.526958Z",
     "shell.execute_reply": "2023-02-04T07:55:00.526133Z"
    }
   },
   "outputs": [
    {
     "name": "stdout",
     "output_type": "stream",
     "text": [
      "468_pCAPs_release_fw 467_pCAPs_release_re\n",
      "|95°C|95°C               |    |tmf:76.9\n",
      "|____|_____          72°C|72°C|tmr:67.9\n",
      "|3min|30s  \\ 61.1°C _____|____|45s/kb\n",
      "|    |      \\______/ 0:30|5min|GC 50%\n",
      "|    |       30s         |    |545bp\n"
     ]
    }
   ],
   "source": [
    "print(gene.forward_primer.name, gene.reverse_primer.name)\n",
    "print(gene.program())"
   ]
  },
  {
   "cell_type": "code",
   "execution_count": 30,
   "id": "0a38596c",
   "metadata": {
    "execution": {
     "iopub.execute_input": "2023-02-04T07:55:00.530017Z",
     "iopub.status.busy": "2023-02-04T07:55:00.529770Z",
     "iopub.status.idle": "2023-02-04T07:55:00.534522Z",
     "shell.execute_reply": "2023-02-04T07:55:00.533581Z"
    }
   },
   "outputs": [
    {
     "name": "stdout",
     "output_type": "stream",
     "text": [
      "568_pCAPsAjiIR 578_crp42-70\n",
      "|95°C|95°C               |    |tmf:66.1\n",
      "|____|_____          72°C|72°C|tmr:65.0\n",
      "|3min|30s  \\ 57.1°C _____|____|45s/kb\n",
      "|    |      \\______/ 0:38|5min|GC 38%\n",
      "|    |       30s         |    |860bp\n"
     ]
    }
   ],
   "source": [
    "print(term.forward_primer.name, term.reverse_primer.name)\n",
    "print(term.program())"
   ]
  }
 ],
 "metadata": {
  "jupytext": {
   "main_language": "python",
   "text_representation": {
    "extension": ".py",
    "format_name": "percent",
    "format_version": "1.3",
    "jupytext_version": "1.14.0"
   }
  },
  "language_info": {
   "codemirror_mode": {
    "name": "ipython",
    "version": 3
   },
   "file_extension": ".py",
   "mimetype": "text/x-python",
   "name": "python",
   "nbconvert_exporter": "python",
   "pygments_lexer": "ipython3",
   "version": "3.11.0"
  }
 },
 "nbformat": 4,
 "nbformat_minor": 5
}
