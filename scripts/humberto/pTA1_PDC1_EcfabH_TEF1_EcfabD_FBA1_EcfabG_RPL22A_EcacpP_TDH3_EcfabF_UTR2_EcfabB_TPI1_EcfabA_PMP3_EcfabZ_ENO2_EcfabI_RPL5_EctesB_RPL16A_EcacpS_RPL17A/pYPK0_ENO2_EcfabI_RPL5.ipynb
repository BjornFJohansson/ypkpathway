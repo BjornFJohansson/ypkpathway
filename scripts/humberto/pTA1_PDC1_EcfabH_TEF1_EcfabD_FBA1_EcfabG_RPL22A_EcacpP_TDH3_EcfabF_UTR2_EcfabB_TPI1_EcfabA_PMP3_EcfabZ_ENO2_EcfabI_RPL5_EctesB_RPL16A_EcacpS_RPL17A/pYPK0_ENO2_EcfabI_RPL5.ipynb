{
 "cells": [
  {
   "cell_type": "markdown",
   "id": "8c894fa4",
   "metadata": {},
   "source": [
    "# [![logo](logo.png)](https://github.com/BjornFJohansson/ypkpathway#-ypkpathway) pYPK0_ENO2_EcfabI_RPL5\n",
    "\n",
    "Assembly of a [_Saccharomyces cerevisiae_](http://www.yeastgenome.org) transcriptional unit vector.\n",
    "\n",
    "Made from a linear vector fragment and three PCR products:\n",
    "\n",
    "- a linearized pYPK0 vector for maintenance in _S. cerevisiae_ or _E. coli_ (red dashed line in figure below)\n",
    "- a promoter PCR product from the `pYPKa_Z_ENO2` vector\n",
    "- a gene PCR product from the `pYPKa_A_EcfabI` vector\n",
    "- a terminator PCR product from the `pYPKa_E_RPL5` vector\n",
    "\n",
    "The four linear DNA fragments are joined by _in-vivo_ homologous recombination in a\n",
    "[_Saccharomyces cerevisiae_](http://wiki.yeastgenome.org/index.php/Commonly_used_strains) strain.\n",
    "\n",
    "![tu](tu.png \"tu\")\n",
    "\n",
    "A part of the [pydna](https://pypi.python.org/pypi/pydna/) package is imported in the code cell below."
   ]
  },
  {
   "cell_type": "code",
   "execution_count": 1,
   "id": "19e21622",
   "metadata": {
    "execution": {
     "iopub.execute_input": "2023-02-04T07:55:02.043324Z",
     "iopub.status.busy": "2023-02-04T07:55:02.042575Z",
     "iopub.status.idle": "2023-02-04T07:55:02.456982Z",
     "shell.execute_reply": "2023-02-04T07:55:02.456326Z"
    }
   },
   "outputs": [],
   "source": [
    "from pydna.parsers import parse_primers\n",
    "from pydna.readers import read\n",
    "from pydna.amplify import pcr\n",
    "from pydna.assembly import Assembly"
   ]
  },
  {
   "cell_type": "markdown",
   "id": "d2242684",
   "metadata": {},
   "source": [
    "The Yeast Pathway Kit [standard primers](standard_primers.fasta) are read into a dictionary in the code cell below."
   ]
  },
  {
   "cell_type": "code",
   "execution_count": 2,
   "id": "689af172",
   "metadata": {
    "execution": {
     "iopub.execute_input": "2023-02-04T07:55:02.460685Z",
     "iopub.status.busy": "2023-02-04T07:55:02.460333Z",
     "iopub.status.idle": "2023-02-04T07:55:02.472740Z",
     "shell.execute_reply": "2023-02-04T07:55:02.471996Z"
    }
   },
   "outputs": [],
   "source": [
    "p = {x.name: x for x in parse_primers(\"standard_primers.fasta\")}"
   ]
  },
  {
   "cell_type": "markdown",
   "id": "465bf893",
   "metadata": {},
   "source": [
    "The backbone vector [pYPK0](pYPK0.gb) is read from a local file in the code cell below."
   ]
  },
  {
   "cell_type": "code",
   "execution_count": 3,
   "id": "0978fed1",
   "metadata": {
    "execution": {
     "iopub.execute_input": "2023-02-04T07:55:02.476662Z",
     "iopub.status.busy": "2023-02-04T07:55:02.476381Z",
     "iopub.status.idle": "2023-02-04T07:55:02.489059Z",
     "shell.execute_reply": "2023-02-04T07:55:02.488413Z"
    }
   },
   "outputs": [],
   "source": [
    "backbone = read(\"pYPK0.gb\")"
   ]
  },
  {
   "cell_type": "markdown",
   "id": "e2240e73",
   "metadata": {},
   "source": [
    "The backbone vector is linearized by digestion with [MfeI](https://www.google.com/search?q=MfeI)."
   ]
  },
  {
   "cell_type": "code",
   "execution_count": 4,
   "id": "e52ead8d",
   "metadata": {
    "execution": {
     "iopub.execute_input": "2023-02-04T07:55:02.491908Z",
     "iopub.status.busy": "2023-02-04T07:55:02.491625Z",
     "iopub.status.idle": "2023-02-04T07:55:02.495223Z",
     "shell.execute_reply": "2023-02-04T07:55:02.494490Z"
    }
   },
   "outputs": [],
   "source": [
    "from Bio.Restriction import MfeI"
   ]
  },
  {
   "cell_type": "code",
   "execution_count": 5,
   "id": "ad1b55ba",
   "metadata": {
    "execution": {
     "iopub.execute_input": "2023-02-04T07:55:02.498289Z",
     "iopub.status.busy": "2023-02-04T07:55:02.498039Z",
     "iopub.status.idle": "2023-02-04T07:55:02.506456Z",
     "shell.execute_reply": "2023-02-04T07:55:02.505729Z"
    }
   },
   "outputs": [],
   "source": [
    "linear_backbone = backbone.linearize(MfeI)"
   ]
  },
  {
   "cell_type": "markdown",
   "id": "2c3ef4cf",
   "metadata": {},
   "source": [
    "The pYPKa derived _E. coli_ plasmids containing\n",
    "- [promoter](pYPKa_Z_ENO2.gb)\n",
    "- [gene](pYPKa_A_EcfabI.gb)\n",
    "- [terminator](pYPKa_E_RPL5.gb)\n",
    "\n",
    "are read into three variables below."
   ]
  },
  {
   "cell_type": "code",
   "execution_count": 6,
   "id": "11ae7f37",
   "metadata": {
    "execution": {
     "iopub.execute_input": "2023-02-04T07:55:02.509955Z",
     "iopub.status.busy": "2023-02-04T07:55:02.509632Z",
     "iopub.status.idle": "2023-02-04T07:55:02.528732Z",
     "shell.execute_reply": "2023-02-04T07:55:02.528029Z"
    }
   },
   "outputs": [],
   "source": [
    "promoter_template   = read(\"pYPKa_Z_ENO2.gb\")\n",
    "gene_template       = read(\"pYPKa_A_EcfabI.gb\")\n",
    "terminator_template = read(\"pYPKa_E_RPL5.gb\")"
   ]
  },
  {
   "cell_type": "markdown",
   "id": "d4718d18",
   "metadata": {
    "lines_to_next_cell": 0
   },
   "source": [
    "### PCR\n",
    "Three DNA fragments are PCR amplified using [standard primers](standard_primers.fasta).\n",
    "\n",
    "[Suggested PCR programs](#Suggested-PCR-programs) can be found at the end of this document."
   ]
  },
  {
   "cell_type": "code",
   "execution_count": 7,
   "id": "c6035367",
   "metadata": {
    "execution": {
     "iopub.execute_input": "2023-02-04T07:55:02.531667Z",
     "iopub.status.busy": "2023-02-04T07:55:02.531430Z",
     "iopub.status.idle": "2023-02-04T07:55:02.535783Z",
     "shell.execute_reply": "2023-02-04T07:55:02.534658Z"
    }
   },
   "outputs": [],
   "source": [
    "\n",
    "fp_prom = p['577_crp585-557']\n",
    "rp_prom = p['567_pCAPsAjiIF']\n",
    "fp_gene = p['468_pCAPs_release_fw']\n",
    "rp_gene = p['467_pCAPs_release_re']\n",
    "fp_term = p['568_pCAPsAjiIR']\n",
    "rp_term = p['578_crp42-70']"
   ]
  },
  {
   "cell_type": "code",
   "execution_count": 8,
   "id": "7cec8c52",
   "metadata": {
    "execution": {
     "iopub.execute_input": "2023-02-04T07:55:02.539330Z",
     "iopub.status.busy": "2023-02-04T07:55:02.539061Z",
     "iopub.status.idle": "2023-02-04T07:55:02.564923Z",
     "shell.execute_reply": "2023-02-04T07:55:02.564298Z"
    }
   },
   "outputs": [],
   "source": [
    "prom = pcr(fp_prom, rp_prom, promoter_template)\n",
    "gene = pcr(fp_gene, rp_gene, gene_template)\n",
    "term = pcr(fp_term, rp_term, terminator_template)"
   ]
  },
  {
   "cell_type": "code",
   "execution_count": 9,
   "id": "a411bbc4",
   "metadata": {
    "execution": {
     "iopub.execute_input": "2023-02-04T07:55:02.567752Z",
     "iopub.status.busy": "2023-02-04T07:55:02.567495Z",
     "iopub.status.idle": "2023-02-04T07:55:02.571380Z",
     "shell.execute_reply": "2023-02-04T07:55:02.570345Z"
    }
   },
   "outputs": [],
   "source": [
    "prom.name = \"pYPKa_Z_ENO2\"[8:]\n",
    "gene.name = \"pYPKa_A_EcfabI\"[8:]\n",
    "term.name = \"pYPKa_E_RPL5\"[8:]"
   ]
  },
  {
   "cell_type": "markdown",
   "id": "ce3c516e",
   "metadata": {},
   "source": [
    "\n",
    "The fragments will be assembled by _in-vivo_ [homologous recombination](http://www.ncbi.nlm.nih.gov/pubmed/2828185):"
   ]
  },
  {
   "cell_type": "code",
   "execution_count": 10,
   "id": "0cae4537",
   "metadata": {
    "execution": {
     "iopub.execute_input": "2023-02-04T07:55:02.575590Z",
     "iopub.status.busy": "2023-02-04T07:55:02.575311Z",
     "iopub.status.idle": "2023-02-04T07:55:03.023849Z",
     "shell.execute_reply": "2023-02-04T07:55:03.023325Z"
    }
   },
   "outputs": [
    {
     "data": {
      "text/plain": [
       "Assembly\n",
       "fragments..: 5766bp 752bp 878bp 841bp\n",
       "limit(bp)..: 31\n",
       "G.nodes....: 10\n",
       "algorithm..: common_sub_strings"
      ]
     },
     "execution_count": 10,
     "metadata": {},
     "output_type": "execute_result"
    }
   ],
   "source": [
    "asm = Assembly((linear_backbone, prom, gene, term), limit=31)\n",
    "asm"
   ]
  },
  {
   "cell_type": "markdown",
   "id": "d7f662e6",
   "metadata": {},
   "source": [
    "The Assembly object above should normally indicate four fragments and eight nodes."
   ]
  },
  {
   "cell_type": "code",
   "execution_count": 11,
   "id": "678debcc",
   "metadata": {
    "execution": {
     "iopub.execute_input": "2023-02-04T07:55:03.027745Z",
     "iopub.status.busy": "2023-02-04T07:55:03.027119Z",
     "iopub.status.idle": "2023-02-04T07:55:03.262988Z",
     "shell.execute_reply": "2023-02-04T07:55:03.262398Z"
    },
    "lines_to_next_cell": 0
   },
   "outputs": [
    {
     "data": {
      "text/plain": [
       "[Contig(o7602), Contig(o7602), Contig(o7602), Contig(o7068), Contig(o7068)]"
      ]
     },
     "execution_count": 11,
     "metadata": {},
     "output_type": "execute_result"
    }
   ],
   "source": [
    "candidates = asm.assemble_circular()\n",
    "candidates"
   ]
  },
  {
   "cell_type": "markdown",
   "id": "efde494c",
   "metadata": {},
   "source": [
    "There should normally be two candidates of equal size. These sequences should be identical."
   ]
  },
  {
   "cell_type": "code",
   "execution_count": 12,
   "id": "f5b2f6b8",
   "metadata": {
    "execution": {
     "iopub.execute_input": "2023-02-04T07:55:03.265873Z",
     "iopub.status.busy": "2023-02-04T07:55:03.265555Z",
     "iopub.status.idle": "2023-02-04T07:55:03.269235Z",
     "shell.execute_reply": "2023-02-04T07:55:03.268458Z"
    },
    "lines_to_next_cell": 0
   },
   "outputs": [],
   "source": [
    "candidate, *rest = candidates"
   ]
  },
  {
   "cell_type": "code",
   "execution_count": 13,
   "id": "c473ada7",
   "metadata": {
    "execution": {
     "iopub.execute_input": "2023-02-04T07:55:03.272778Z",
     "iopub.status.busy": "2023-02-04T07:55:03.272066Z",
     "iopub.status.idle": "2023-02-04T07:55:03.292381Z",
     "shell.execute_reply": "2023-02-04T07:55:03.291841Z"
    },
    "lines_to_next_cell": 0
   },
   "outputs": [
    {
     "data": {
      "text/plain": [
       "True"
      ]
     },
     "execution_count": 13,
     "metadata": {},
     "output_type": "execute_result"
    }
   ],
   "source": [
    "candidate.cseguid() == rest[0].cseguid()"
   ]
  },
  {
   "cell_type": "code",
   "execution_count": 14,
   "id": "e83eb912",
   "metadata": {
    "execution": {
     "iopub.execute_input": "2023-02-04T07:55:03.295079Z",
     "iopub.status.busy": "2023-02-04T07:55:03.294782Z",
     "iopub.status.idle": "2023-02-04T07:55:03.299617Z",
     "shell.execute_reply": "2023-02-04T07:55:03.298882Z"
    },
    "lines_to_next_cell": 0
   },
   "outputs": [
    {
     "data": {
      "text/plain": [
       " -|pYPK0_lin|168\n",
       "|            \\/\n",
       "|            /\\\n",
       "|            168|ENO2|48\n",
       "|                     \\/\n",
       "|                     /\\\n",
       "|                     48|EcfabI|37\n",
       "|                               \\/\n",
       "|                               /\\\n",
       "|                               37|RPL5|276\n",
       "|                                       \\/\n",
       "|                                       /\\\n",
       "|                                       276-\n",
       "|                                          |\n",
       " ------------------------------------------"
      ]
     },
     "execution_count": 14,
     "metadata": {},
     "output_type": "execute_result"
    }
   ],
   "source": [
    "candidate.figure()"
   ]
  },
  {
   "cell_type": "markdown",
   "id": "c853c520",
   "metadata": {},
   "source": [
    "The candidate vector is synchronized to the 577 primer. This means that\n",
    "the plasmid origin is shifted so that it matches the backbone vector."
   ]
  },
  {
   "cell_type": "code",
   "execution_count": 15,
   "id": "db2cfea5",
   "metadata": {
    "execution": {
     "iopub.execute_input": "2023-02-04T07:55:03.303917Z",
     "iopub.status.busy": "2023-02-04T07:55:03.303387Z",
     "iopub.status.idle": "2023-02-04T07:55:03.643212Z",
     "shell.execute_reply": "2023-02-04T07:55:03.642516Z"
    }
   },
   "outputs": [],
   "source": [
    "result = candidate.synced(fp_prom)"
   ]
  },
  {
   "cell_type": "markdown",
   "id": "f4b90e5b",
   "metadata": {},
   "source": [
    "### Diagnostic PCR confirmation\n",
    "\n",
    "The structure of the final vector is confirmed by two\n",
    "separate PCR reactions, one for the promoter and gene and\n",
    "one for the gene and terminator.\n",
    "\n",
    "PCR using standard primers 577 and 467 to amplify promoter and gene."
   ]
  },
  {
   "cell_type": "code",
   "execution_count": 16,
   "id": "2df3e233",
   "metadata": {
    "execution": {
     "iopub.execute_input": "2023-02-04T07:55:03.646171Z",
     "iopub.status.busy": "2023-02-04T07:55:03.645927Z",
     "iopub.status.idle": "2023-02-04T07:55:03.664824Z",
     "shell.execute_reply": "2023-02-04T07:55:03.664246Z"
    }
   },
   "outputs": [],
   "source": [
    "product = pcr( fp_prom, rp_gene, result)"
   ]
  },
  {
   "cell_type": "markdown",
   "id": "340817aa",
   "metadata": {},
   "source": [
    "A correct clone should give this size in base pairs:"
   ]
  },
  {
   "cell_type": "code",
   "execution_count": 17,
   "id": "f03a302f",
   "metadata": {
    "execution": {
     "iopub.execute_input": "2023-02-04T07:55:03.667966Z",
     "iopub.status.busy": "2023-02-04T07:55:03.667637Z",
     "iopub.status.idle": "2023-02-04T07:55:03.671155Z",
     "shell.execute_reply": "2023-02-04T07:55:03.670568Z"
    }
   },
   "outputs": [
    {
     "name": "stdout",
     "output_type": "stream",
     "text": [
      "1580\n"
     ]
    }
   ],
   "source": [
    "print(len(product))"
   ]
  },
  {
   "cell_type": "markdown",
   "id": "2b3f62f5",
   "metadata": {},
   "source": [
    "If the promoter is missing from the assembly, the PCR product will have this size in base pairs:"
   ]
  },
  {
   "cell_type": "code",
   "execution_count": 18,
   "id": "232659fb",
   "metadata": {
    "execution": {
     "iopub.execute_input": "2023-02-04T07:55:03.674400Z",
     "iopub.status.busy": "2023-02-04T07:55:03.674087Z",
     "iopub.status.idle": "2023-02-04T07:55:03.678060Z",
     "shell.execute_reply": "2023-02-04T07:55:03.677314Z"
    }
   },
   "outputs": [
    {
     "name": "stdout",
     "output_type": "stream",
     "text": [
      "828\n"
     ]
    }
   ],
   "source": [
    "print(len(product) - len(prom))"
   ]
  },
  {
   "cell_type": "markdown",
   "id": "c4f2571c",
   "metadata": {},
   "source": [
    "If the gene is missing from the assembly, the PCR product will have this size in base pairs:"
   ]
  },
  {
   "cell_type": "code",
   "execution_count": 19,
   "id": "790ca7f3",
   "metadata": {
    "execution": {
     "iopub.execute_input": "2023-02-04T07:55:03.682006Z",
     "iopub.status.busy": "2023-02-04T07:55:03.681767Z",
     "iopub.status.idle": "2023-02-04T07:55:03.685778Z",
     "shell.execute_reply": "2023-02-04T07:55:03.685117Z"
    }
   },
   "outputs": [
    {
     "name": "stdout",
     "output_type": "stream",
     "text": [
      "702\n"
     ]
    }
   ],
   "source": [
    "print(len(product) - len(gene))"
   ]
  },
  {
   "cell_type": "markdown",
   "id": "e50afbfd",
   "metadata": {},
   "source": [
    "PCR using standard primers 468 and 578 to amplify gene and terminator."
   ]
  },
  {
   "cell_type": "code",
   "execution_count": 20,
   "id": "7c3a5737",
   "metadata": {
    "execution": {
     "iopub.execute_input": "2023-02-04T07:55:03.688930Z",
     "iopub.status.busy": "2023-02-04T07:55:03.688493Z",
     "iopub.status.idle": "2023-02-04T07:55:03.710303Z",
     "shell.execute_reply": "2023-02-04T07:55:03.709706Z"
    }
   },
   "outputs": [],
   "source": [
    "product2 = pcr( fp_gene, rp_term, result)"
   ]
  },
  {
   "cell_type": "markdown",
   "id": "260097de",
   "metadata": {},
   "source": [
    "A correct clone should give this size:"
   ]
  },
  {
   "cell_type": "code",
   "execution_count": 21,
   "id": "3256c11f",
   "metadata": {
    "execution": {
     "iopub.execute_input": "2023-02-04T07:55:03.712821Z",
     "iopub.status.busy": "2023-02-04T07:55:03.712618Z",
     "iopub.status.idle": "2023-02-04T07:55:03.715785Z",
     "shell.execute_reply": "2023-02-04T07:55:03.715236Z"
    }
   },
   "outputs": [
    {
     "name": "stdout",
     "output_type": "stream",
     "text": [
      "1682\n"
     ]
    }
   ],
   "source": [
    "print(len(product2))"
   ]
  },
  {
   "cell_type": "markdown",
   "id": "412743a1",
   "metadata": {},
   "source": [
    "If the gene is missing from the assembly, the PCR product will have this size in base pairs:"
   ]
  },
  {
   "cell_type": "code",
   "execution_count": 22,
   "id": "31564b0a",
   "metadata": {
    "execution": {
     "iopub.execute_input": "2023-02-04T07:55:03.719056Z",
     "iopub.status.busy": "2023-02-04T07:55:03.718606Z",
     "iopub.status.idle": "2023-02-04T07:55:03.724301Z",
     "shell.execute_reply": "2023-02-04T07:55:03.723189Z"
    }
   },
   "outputs": [
    {
     "name": "stdout",
     "output_type": "stream",
     "text": [
      "804\n"
     ]
    }
   ],
   "source": [
    "print(len(product2) - len(gene))"
   ]
  },
  {
   "cell_type": "markdown",
   "id": "1223b20c",
   "metadata": {},
   "source": [
    "If the terminator is missing from the assembly, the PCR product will have this size in base pairs:"
   ]
  },
  {
   "cell_type": "code",
   "execution_count": 23,
   "id": "36caaa75",
   "metadata": {
    "execution": {
     "iopub.execute_input": "2023-02-04T07:55:03.728275Z",
     "iopub.status.busy": "2023-02-04T07:55:03.727650Z",
     "iopub.status.idle": "2023-02-04T07:55:03.732019Z",
     "shell.execute_reply": "2023-02-04T07:55:03.731109Z"
    }
   },
   "outputs": [
    {
     "name": "stdout",
     "output_type": "stream",
     "text": [
      "841\n"
     ]
    }
   ],
   "source": [
    "print(len(product2) - len(term))"
   ]
  },
  {
   "cell_type": "markdown",
   "id": "3d049f3e",
   "metadata": {},
   "source": [
    "The cseguid checksum for the resulting plasmid is calculated for future reference.\n",
    "The [cseguid checksum](http://pydna.readthedocs.org/en/latest/pydna.html#pydna.utils.cseguid)\n",
    "uniquely identifies a circular double stranded sequence."
   ]
  },
  {
   "cell_type": "code",
   "execution_count": 24,
   "id": "91c3b261",
   "metadata": {
    "execution": {
     "iopub.execute_input": "2023-02-04T07:55:03.736588Z",
     "iopub.status.busy": "2023-02-04T07:55:03.736309Z",
     "iopub.status.idle": "2023-02-04T07:55:03.744919Z",
     "shell.execute_reply": "2023-02-04T07:55:03.744395Z"
    }
   },
   "outputs": [
    {
     "name": "stdout",
     "output_type": "stream",
     "text": [
      "qh3heOYKC4m0vrH43UzheBnMSnc\n"
     ]
    }
   ],
   "source": [
    "print(result.cseguid())"
   ]
  },
  {
   "cell_type": "markdown",
   "id": "62e91730",
   "metadata": {},
   "source": [
    "The file name is based on the promoter, gene and terminator designations."
   ]
  },
  {
   "cell_type": "code",
   "execution_count": 25,
   "id": "772af527",
   "metadata": {
    "execution": {
     "iopub.execute_input": "2023-02-04T07:55:03.748055Z",
     "iopub.status.busy": "2023-02-04T07:55:03.747535Z",
     "iopub.status.idle": "2023-02-04T07:55:03.750696Z",
     "shell.execute_reply": "2023-02-04T07:55:03.750069Z"
    }
   },
   "outputs": [],
   "source": [
    "result.locus = f\"tu:{gene.name}\"[:16]\n",
    "result.definition = \"pYPK0_ENO2_EcfabI_RPL5\""
   ]
  },
  {
   "cell_type": "markdown",
   "id": "dd68b737",
   "metadata": {},
   "source": [
    "Sequence is stamped with cseguid checksum. This can be used to verify the\n",
    "integrity of the sequence file."
   ]
  },
  {
   "cell_type": "code",
   "execution_count": 26,
   "id": "e1a111ed",
   "metadata": {
    "execution": {
     "iopub.execute_input": "2023-02-04T07:55:03.754553Z",
     "iopub.status.busy": "2023-02-04T07:55:03.754277Z",
     "iopub.status.idle": "2023-02-04T07:55:03.765375Z",
     "shell.execute_reply": "2023-02-04T07:55:03.764865Z"
    }
   },
   "outputs": [
    {
     "data": {
      "text/plain": [
       "qh3heOYKC4m0vrH43UzheBnMSnc"
      ]
     },
     "execution_count": 26,
     "metadata": {},
     "output_type": "execute_result"
    }
   ],
   "source": [
    "result.stamp(\"cSEGUID\")"
   ]
  },
  {
   "cell_type": "markdown",
   "id": "30503d90",
   "metadata": {},
   "source": [
    "Write sequence to a local file."
   ]
  },
  {
   "cell_type": "code",
   "execution_count": 27,
   "id": "dfa0cd4e",
   "metadata": {
    "execution": {
     "iopub.execute_input": "2023-02-04T07:55:03.768247Z",
     "iopub.status.busy": "2023-02-04T07:55:03.767859Z",
     "iopub.status.idle": "2023-02-04T07:55:03.787612Z",
     "shell.execute_reply": "2023-02-04T07:55:03.786843Z"
    }
   },
   "outputs": [
    {
     "data": {
      "text/html": [
       "<font face=monospace><a href='pYPK0_ENO2_EcfabI_RPL5.gb' target='_blank'>pYPK0_ENO2_EcfabI_RPL5.gb</a></font><br>"
      ]
     },
     "metadata": {},
     "output_type": "display_data"
    }
   ],
   "source": [
    "result.write(f\"{result.definition}.gb\")"
   ]
  },
  {
   "cell_type": "markdown",
   "id": "019c1bf7",
   "metadata": {
    "lines_to_next_cell": 0
   },
   "source": [
    "### Suggested PCR programs\n",
    "\n",
    "For the [amplification](#PCR) of promoter, gene and terminator."
   ]
  },
  {
   "cell_type": "code",
   "execution_count": 28,
   "id": "871f8ff9",
   "metadata": {
    "execution": {
     "iopub.execute_input": "2023-02-04T07:55:03.790310Z",
     "iopub.status.busy": "2023-02-04T07:55:03.790070Z",
     "iopub.status.idle": "2023-02-04T07:55:03.793759Z",
     "shell.execute_reply": "2023-02-04T07:55:03.793181Z"
    }
   },
   "outputs": [
    {
     "name": "stdout",
     "output_type": "stream",
     "text": [
      "577_crp585-557 567_pCAPsAjiIF\n",
      "|95°C|95°C               |    |tmf:64.6\n",
      "|____|_____          72°C|72°C|tmr:69.7\n",
      "|3min|30s  \\ 57.1°C _____|____|45s/kb\n",
      "|    |      \\______/ 0:33|5min|GC 39%\n",
      "|    |       30s         |    |752bp\n"
     ]
    }
   ],
   "source": [
    "print(prom.forward_primer.name, prom.reverse_primer.name)\n",
    "print(prom.program())"
   ]
  },
  {
   "cell_type": "code",
   "execution_count": 29,
   "id": "3fb27024",
   "metadata": {
    "execution": {
     "iopub.execute_input": "2023-02-04T07:55:03.796832Z",
     "iopub.status.busy": "2023-02-04T07:55:03.796169Z",
     "iopub.status.idle": "2023-02-04T07:55:03.802273Z",
     "shell.execute_reply": "2023-02-04T07:55:03.801064Z"
    }
   },
   "outputs": [
    {
     "name": "stdout",
     "output_type": "stream",
     "text": [
      "468_pCAPs_release_fw 467_pCAPs_release_re\n",
      "|95°C|95°C               |    |tmf:76.9\n",
      "|____|_____          72°C|72°C|tmr:67.9\n",
      "|3min|30s  \\ 62.1°C _____|____|45s/kb\n",
      "|    |      \\______/ 0:39|5min|GC 53%\n",
      "|    |       30s         |    |878bp\n"
     ]
    }
   ],
   "source": [
    "print(gene.forward_primer.name, gene.reverse_primer.name)\n",
    "print(gene.program())"
   ]
  },
  {
   "cell_type": "code",
   "execution_count": 30,
   "id": "092c721a",
   "metadata": {
    "execution": {
     "iopub.execute_input": "2023-02-04T07:55:03.806122Z",
     "iopub.status.busy": "2023-02-04T07:55:03.805691Z",
     "iopub.status.idle": "2023-02-04T07:55:03.810322Z",
     "shell.execute_reply": "2023-02-04T07:55:03.809481Z"
    }
   },
   "outputs": [
    {
     "name": "stdout",
     "output_type": "stream",
     "text": [
      "568_pCAPsAjiIR 578_crp42-70\n",
      "|95°C|95°C               |    |tmf:66.1\n",
      "|____|_____          72°C|72°C|tmr:65.0\n",
      "|3min|30s  \\ 56.8°C _____|____|45s/kb\n",
      "|    |      \\______/ 0:37|5min|GC 37%\n",
      "|    |       30s         |    |841bp\n"
     ]
    }
   ],
   "source": [
    "print(term.forward_primer.name, term.reverse_primer.name)\n",
    "print(term.program())"
   ]
  }
 ],
 "metadata": {
  "jupytext": {
   "main_language": "python",
   "text_representation": {
    "extension": ".py",
    "format_name": "percent",
    "format_version": "1.3",
    "jupytext_version": "1.14.0"
   }
  },
  "language_info": {
   "codemirror_mode": {
    "name": "ipython",
    "version": 3
   },
   "file_extension": ".py",
   "mimetype": "text/x-python",
   "name": "python",
   "nbconvert_exporter": "python",
   "pygments_lexer": "ipython3",
   "version": "3.11.0"
  }
 },
 "nbformat": 4,
 "nbformat_minor": 5
}
