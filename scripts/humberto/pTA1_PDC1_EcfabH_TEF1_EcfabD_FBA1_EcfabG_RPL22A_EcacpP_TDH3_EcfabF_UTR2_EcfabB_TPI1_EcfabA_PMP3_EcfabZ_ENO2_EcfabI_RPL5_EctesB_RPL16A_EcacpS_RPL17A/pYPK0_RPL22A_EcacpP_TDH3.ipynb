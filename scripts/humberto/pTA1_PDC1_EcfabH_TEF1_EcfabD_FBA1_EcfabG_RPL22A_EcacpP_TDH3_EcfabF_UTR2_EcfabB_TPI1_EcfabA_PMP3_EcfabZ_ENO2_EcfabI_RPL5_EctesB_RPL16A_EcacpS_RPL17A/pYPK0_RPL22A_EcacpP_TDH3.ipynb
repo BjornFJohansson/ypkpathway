{
 "cells": [
  {
   "cell_type": "markdown",
   "id": "71e76e31",
   "metadata": {},
   "source": [
    "# [![logo](logo.png)](https://github.com/BjornFJohansson/ypkpathway#-ypkpathway) pYPK0_RPL22A_EcacpP_TDH3\n",
    "\n",
    "Assembly of a [_Saccharomyces cerevisiae_](http://www.yeastgenome.org) transcriptional unit vector.\n",
    "\n",
    "Made from a linear vector fragment and three PCR products:\n",
    "\n",
    "- a linearized pYPK0 vector for maintenance in _S. cerevisiae_ or _E. coli_ (red dashed line in figure below)\n",
    "- a promoter PCR product from the `pYPKa_Z_RPL22A` vector\n",
    "- a gene PCR product from the `pYPKa_A_EcacpP` vector\n",
    "- a terminator PCR product from the `pYPKa_E_TDH3` vector\n",
    "\n",
    "The four linear DNA fragments are joined by _in-vivo_ homologous recombination in a\n",
    "[_Saccharomyces cerevisiae_](http://wiki.yeastgenome.org/index.php/Commonly_used_strains) strain.\n",
    "\n",
    "![tu](tu.png \"tu\")\n",
    "\n",
    "A part of the [pydna](https://pypi.python.org/pypi/pydna/) package is imported in the code cell below."
   ]
  },
  {
   "cell_type": "code",
   "execution_count": 1,
   "id": "f827d81f",
   "metadata": {
    "execution": {
     "iopub.execute_input": "2023-02-04T07:54:42.262538Z",
     "iopub.status.busy": "2023-02-04T07:54:42.262222Z",
     "iopub.status.idle": "2023-02-04T07:54:42.773225Z",
     "shell.execute_reply": "2023-02-04T07:54:42.770962Z"
    }
   },
   "outputs": [],
   "source": [
    "from pydna.parsers import parse_primers\n",
    "from pydna.readers import read\n",
    "from pydna.amplify import pcr\n",
    "from pydna.assembly import Assembly"
   ]
  },
  {
   "cell_type": "markdown",
   "id": "a5ba56b2",
   "metadata": {},
   "source": [
    "The Yeast Pathway Kit [standard primers](standard_primers.fasta) are read into a dictionary in the code cell below."
   ]
  },
  {
   "cell_type": "code",
   "execution_count": 2,
   "id": "696aad94",
   "metadata": {
    "execution": {
     "iopub.execute_input": "2023-02-04T07:54:42.788430Z",
     "iopub.status.busy": "2023-02-04T07:54:42.786043Z",
     "iopub.status.idle": "2023-02-04T07:54:42.810966Z",
     "shell.execute_reply": "2023-02-04T07:54:42.809983Z"
    }
   },
   "outputs": [],
   "source": [
    "p = {x.name: x for x in parse_primers(\"standard_primers.fasta\")}"
   ]
  },
  {
   "cell_type": "markdown",
   "id": "2b9274df",
   "metadata": {},
   "source": [
    "The backbone vector [pYPK0](pYPK0.gb) is read from a local file in the code cell below."
   ]
  },
  {
   "cell_type": "code",
   "execution_count": 3,
   "id": "fb6158b3",
   "metadata": {
    "execution": {
     "iopub.execute_input": "2023-02-04T07:54:42.823737Z",
     "iopub.status.busy": "2023-02-04T07:54:42.820411Z",
     "iopub.status.idle": "2023-02-04T07:54:42.847321Z",
     "shell.execute_reply": "2023-02-04T07:54:42.846068Z"
    }
   },
   "outputs": [],
   "source": [
    "backbone = read(\"pYPK0.gb\")"
   ]
  },
  {
   "cell_type": "markdown",
   "id": "4006395c",
   "metadata": {},
   "source": [
    "The backbone vector is linearized by digestion with [MfeI](https://www.google.com/search?q=MfeI)."
   ]
  },
  {
   "cell_type": "code",
   "execution_count": 4,
   "id": "f314b867",
   "metadata": {
    "execution": {
     "iopub.execute_input": "2023-02-04T07:54:42.866684Z",
     "iopub.status.busy": "2023-02-04T07:54:42.857587Z",
     "iopub.status.idle": "2023-02-04T07:54:42.875675Z",
     "shell.execute_reply": "2023-02-04T07:54:42.873280Z"
    }
   },
   "outputs": [],
   "source": [
    "from Bio.Restriction import MfeI"
   ]
  },
  {
   "cell_type": "code",
   "execution_count": 5,
   "id": "e81c17b8",
   "metadata": {
    "execution": {
     "iopub.execute_input": "2023-02-04T07:54:42.887920Z",
     "iopub.status.busy": "2023-02-04T07:54:42.886436Z",
     "iopub.status.idle": "2023-02-04T07:54:42.907873Z",
     "shell.execute_reply": "2023-02-04T07:54:42.907271Z"
    }
   },
   "outputs": [],
   "source": [
    "linear_backbone = backbone.linearize(MfeI)"
   ]
  },
  {
   "cell_type": "markdown",
   "id": "5870d98a",
   "metadata": {},
   "source": [
    "The pYPKa derived _E. coli_ plasmids containing\n",
    "- [promoter](pYPKa_Z_RPL22A.gb)\n",
    "- [gene](pYPKa_A_EcacpP.gb)\n",
    "- [terminator](pYPKa_E_TDH3.gb)\n",
    "\n",
    "are read into three variables below."
   ]
  },
  {
   "cell_type": "code",
   "execution_count": 6,
   "id": "401ca8a8",
   "metadata": {
    "execution": {
     "iopub.execute_input": "2023-02-04T07:54:42.912051Z",
     "iopub.status.busy": "2023-02-04T07:54:42.911163Z",
     "iopub.status.idle": "2023-02-04T07:54:42.944689Z",
     "shell.execute_reply": "2023-02-04T07:54:42.943492Z"
    }
   },
   "outputs": [],
   "source": [
    "promoter_template   = read(\"pYPKa_Z_RPL22A.gb\")\n",
    "gene_template       = read(\"pYPKa_A_EcacpP.gb\")\n",
    "terminator_template = read(\"pYPKa_E_TDH3.gb\")"
   ]
  },
  {
   "cell_type": "markdown",
   "id": "90cd8cb1",
   "metadata": {
    "lines_to_next_cell": 0
   },
   "source": [
    "### PCR\n",
    "Three DNA fragments are PCR amplified using [standard primers](standard_primers.fasta).\n",
    "\n",
    "[Suggested PCR programs](#Suggested-PCR-programs) can be found at the end of this document."
   ]
  },
  {
   "cell_type": "code",
   "execution_count": 7,
   "id": "4e91ded5",
   "metadata": {
    "execution": {
     "iopub.execute_input": "2023-02-04T07:54:42.949748Z",
     "iopub.status.busy": "2023-02-04T07:54:42.948869Z",
     "iopub.status.idle": "2023-02-04T07:54:42.955733Z",
     "shell.execute_reply": "2023-02-04T07:54:42.954509Z"
    }
   },
   "outputs": [],
   "source": [
    "\n",
    "fp_prom = p['577_crp585-557']\n",
    "rp_prom = p['567_pCAPsAjiIF']\n",
    "fp_gene = p['468_pCAPs_release_fw']\n",
    "rp_gene = p['467_pCAPs_release_re']\n",
    "fp_term = p['568_pCAPsAjiIR']\n",
    "rp_term = p['578_crp42-70']"
   ]
  },
  {
   "cell_type": "code",
   "execution_count": 8,
   "id": "139a378a",
   "metadata": {
    "execution": {
     "iopub.execute_input": "2023-02-04T07:54:42.962259Z",
     "iopub.status.busy": "2023-02-04T07:54:42.959770Z",
     "iopub.status.idle": "2023-02-04T07:54:43.038382Z",
     "shell.execute_reply": "2023-02-04T07:54:43.032896Z"
    }
   },
   "outputs": [],
   "source": [
    "prom = pcr(fp_prom, rp_prom, promoter_template)\n",
    "gene = pcr(fp_gene, rp_gene, gene_template)\n",
    "term = pcr(fp_term, rp_term, terminator_template)"
   ]
  },
  {
   "cell_type": "code",
   "execution_count": 9,
   "id": "ffdf5786",
   "metadata": {
    "execution": {
     "iopub.execute_input": "2023-02-04T07:54:43.045990Z",
     "iopub.status.busy": "2023-02-04T07:54:43.043577Z",
     "iopub.status.idle": "2023-02-04T07:54:43.056307Z",
     "shell.execute_reply": "2023-02-04T07:54:43.054783Z"
    }
   },
   "outputs": [],
   "source": [
    "prom.name = \"pYPKa_Z_RPL22A\"[8:]\n",
    "gene.name = \"pYPKa_A_EcacpP\"[8:]\n",
    "term.name = \"pYPKa_E_TDH3\"[8:]"
   ]
  },
  {
   "cell_type": "markdown",
   "id": "5bb6727d",
   "metadata": {},
   "source": [
    "\n",
    "The fragments will be assembled by _in-vivo_ [homologous recombination](http://www.ncbi.nlm.nih.gov/pubmed/2828185):"
   ]
  },
  {
   "cell_type": "code",
   "execution_count": 10,
   "id": "c324f20e",
   "metadata": {
    "execution": {
     "iopub.execute_input": "2023-02-04T07:54:43.064109Z",
     "iopub.status.busy": "2023-02-04T07:54:43.062879Z",
     "iopub.status.idle": "2023-02-04T07:54:43.549456Z",
     "shell.execute_reply": "2023-02-04T07:54:43.548956Z"
    }
   },
   "outputs": [
    {
     "data": {
      "text/plain": [
       "Assembly\n",
       "fragments..: 5766bp 658bp 326bp 1038bp\n",
       "limit(bp)..: 31\n",
       "G.nodes....: 10\n",
       "algorithm..: common_sub_strings"
      ]
     },
     "execution_count": 10,
     "metadata": {},
     "output_type": "execute_result"
    }
   ],
   "source": [
    "asm = Assembly((linear_backbone, prom, gene, term), limit=31)\n",
    "asm"
   ]
  },
  {
   "cell_type": "markdown",
   "id": "e26cb7b4",
   "metadata": {},
   "source": [
    "The Assembly object above should normally indicate four fragments and eight nodes."
   ]
  },
  {
   "cell_type": "code",
   "execution_count": 11,
   "id": "598d81de",
   "metadata": {
    "execution": {
     "iopub.execute_input": "2023-02-04T07:54:43.552194Z",
     "iopub.status.busy": "2023-02-04T07:54:43.551760Z",
     "iopub.status.idle": "2023-02-04T07:54:43.846538Z",
     "shell.execute_reply": "2023-02-04T07:54:43.845935Z"
    },
    "lines_to_next_cell": 0
   },
   "outputs": [
    {
     "data": {
      "text/plain": [
       "[Contig(o7153), Contig(o7153), Contig(o7153), Contig(o6713), Contig(o6713)]"
      ]
     },
     "execution_count": 11,
     "metadata": {},
     "output_type": "execute_result"
    }
   ],
   "source": [
    "candidates = asm.assemble_circular()\n",
    "candidates"
   ]
  },
  {
   "cell_type": "markdown",
   "id": "fbe23bc0",
   "metadata": {},
   "source": [
    "There should normally be two candidates of equal size. These sequences should be identical."
   ]
  },
  {
   "cell_type": "code",
   "execution_count": 12,
   "id": "34b6691e",
   "metadata": {
    "execution": {
     "iopub.execute_input": "2023-02-04T07:54:43.850048Z",
     "iopub.status.busy": "2023-02-04T07:54:43.849554Z",
     "iopub.status.idle": "2023-02-04T07:54:43.852822Z",
     "shell.execute_reply": "2023-02-04T07:54:43.851938Z"
    },
    "lines_to_next_cell": 0
   },
   "outputs": [],
   "source": [
    "candidate, *rest = candidates"
   ]
  },
  {
   "cell_type": "code",
   "execution_count": 13,
   "id": "2243264a",
   "metadata": {
    "execution": {
     "iopub.execute_input": "2023-02-04T07:54:43.855811Z",
     "iopub.status.busy": "2023-02-04T07:54:43.855487Z",
     "iopub.status.idle": "2023-02-04T07:54:43.870277Z",
     "shell.execute_reply": "2023-02-04T07:54:43.869262Z"
    },
    "lines_to_next_cell": 0
   },
   "outputs": [
    {
     "data": {
      "text/plain": [
       "True"
      ]
     },
     "execution_count": 13,
     "metadata": {},
     "output_type": "execute_result"
    }
   ],
   "source": [
    "candidate.cseguid() == rest[0].cseguid()"
   ]
  },
  {
   "cell_type": "code",
   "execution_count": 14,
   "id": "3c61fb19",
   "metadata": {
    "execution": {
     "iopub.execute_input": "2023-02-04T07:54:43.873702Z",
     "iopub.status.busy": "2023-02-04T07:54:43.873189Z",
     "iopub.status.idle": "2023-02-04T07:54:43.877082Z",
     "shell.execute_reply": "2023-02-04T07:54:43.876582Z"
    },
    "lines_to_next_cell": 0
   },
   "outputs": [
    {
     "data": {
      "text/plain": [
       " -|pYPK0_lin|168\n",
       "|            \\/\n",
       "|            /\\\n",
       "|            168|RPL22A|48\n",
       "|                       \\/\n",
       "|                       /\\\n",
       "|                       48|EcacpP|37\n",
       "|                                 \\/\n",
       "|                                 /\\\n",
       "|                                 37|TDH3|276\n",
       "|                                         \\/\n",
       "|                                         /\\\n",
       "|                                         276-\n",
       "|                                            |\n",
       " --------------------------------------------"
      ]
     },
     "execution_count": 14,
     "metadata": {},
     "output_type": "execute_result"
    }
   ],
   "source": [
    "candidate.figure()"
   ]
  },
  {
   "cell_type": "markdown",
   "id": "7a074b2b",
   "metadata": {},
   "source": [
    "The candidate vector is synchronized to the 577 primer. This means that\n",
    "the plasmid origin is shifted so that it matches the backbone vector."
   ]
  },
  {
   "cell_type": "code",
   "execution_count": 15,
   "id": "a72987d0",
   "metadata": {
    "execution": {
     "iopub.execute_input": "2023-02-04T07:54:43.880202Z",
     "iopub.status.busy": "2023-02-04T07:54:43.879933Z",
     "iopub.status.idle": "2023-02-04T07:54:44.444511Z",
     "shell.execute_reply": "2023-02-04T07:54:44.443466Z"
    }
   },
   "outputs": [],
   "source": [
    "result = candidate.synced(fp_prom)"
   ]
  },
  {
   "cell_type": "markdown",
   "id": "cdf2551a",
   "metadata": {},
   "source": [
    "### Diagnostic PCR confirmation\n",
    "\n",
    "The structure of the final vector is confirmed by two\n",
    "separate PCR reactions, one for the promoter and gene and\n",
    "one for the gene and terminator.\n",
    "\n",
    "PCR using standard primers 577 and 467 to amplify promoter and gene."
   ]
  },
  {
   "cell_type": "code",
   "execution_count": 16,
   "id": "0256bceb",
   "metadata": {
    "execution": {
     "iopub.execute_input": "2023-02-04T07:54:44.448738Z",
     "iopub.status.busy": "2023-02-04T07:54:44.448044Z",
     "iopub.status.idle": "2023-02-04T07:54:44.469914Z",
     "shell.execute_reply": "2023-02-04T07:54:44.468767Z"
    }
   },
   "outputs": [],
   "source": [
    "product = pcr( fp_prom, rp_gene, result)"
   ]
  },
  {
   "cell_type": "markdown",
   "id": "6fbe9079",
   "metadata": {},
   "source": [
    "A correct clone should give this size in base pairs:"
   ]
  },
  {
   "cell_type": "code",
   "execution_count": 17,
   "id": "05b58eff",
   "metadata": {
    "execution": {
     "iopub.execute_input": "2023-02-04T07:54:44.475082Z",
     "iopub.status.busy": "2023-02-04T07:54:44.473498Z",
     "iopub.status.idle": "2023-02-04T07:54:44.479214Z",
     "shell.execute_reply": "2023-02-04T07:54:44.478553Z"
    }
   },
   "outputs": [
    {
     "name": "stdout",
     "output_type": "stream",
     "text": [
      "934\n"
     ]
    }
   ],
   "source": [
    "print(len(product))"
   ]
  },
  {
   "cell_type": "markdown",
   "id": "b484cfbc",
   "metadata": {},
   "source": [
    "If the promoter is missing from the assembly, the PCR product will have this size in base pairs:"
   ]
  },
  {
   "cell_type": "code",
   "execution_count": 18,
   "id": "2f481359",
   "metadata": {
    "execution": {
     "iopub.execute_input": "2023-02-04T07:54:44.482502Z",
     "iopub.status.busy": "2023-02-04T07:54:44.481958Z",
     "iopub.status.idle": "2023-02-04T07:54:44.489696Z",
     "shell.execute_reply": "2023-02-04T07:54:44.489076Z"
    }
   },
   "outputs": [
    {
     "name": "stdout",
     "output_type": "stream",
     "text": [
      "276\n"
     ]
    }
   ],
   "source": [
    "print(len(product) - len(prom))"
   ]
  },
  {
   "cell_type": "markdown",
   "id": "cc704351",
   "metadata": {},
   "source": [
    "If the gene is missing from the assembly, the PCR product will have this size in base pairs:"
   ]
  },
  {
   "cell_type": "code",
   "execution_count": 19,
   "id": "4ebed72b",
   "metadata": {
    "execution": {
     "iopub.execute_input": "2023-02-04T07:54:44.493062Z",
     "iopub.status.busy": "2023-02-04T07:54:44.492689Z",
     "iopub.status.idle": "2023-02-04T07:54:44.498826Z",
     "shell.execute_reply": "2023-02-04T07:54:44.497971Z"
    }
   },
   "outputs": [
    {
     "name": "stdout",
     "output_type": "stream",
     "text": [
      "608\n"
     ]
    }
   ],
   "source": [
    "print(len(product) - len(gene))"
   ]
  },
  {
   "cell_type": "markdown",
   "id": "c837ee7d",
   "metadata": {},
   "source": [
    "PCR using standard primers 468 and 578 to amplify gene and terminator."
   ]
  },
  {
   "cell_type": "code",
   "execution_count": 20,
   "id": "e81774f3",
   "metadata": {
    "execution": {
     "iopub.execute_input": "2023-02-04T07:54:44.508598Z",
     "iopub.status.busy": "2023-02-04T07:54:44.506640Z",
     "iopub.status.idle": "2023-02-04T07:54:44.561560Z",
     "shell.execute_reply": "2023-02-04T07:54:44.560717Z"
    }
   },
   "outputs": [],
   "source": [
    "product2 = pcr( fp_gene, rp_term, result)"
   ]
  },
  {
   "cell_type": "markdown",
   "id": "a4b08f24",
   "metadata": {},
   "source": [
    "A correct clone should give this size:"
   ]
  },
  {
   "cell_type": "code",
   "execution_count": 21,
   "id": "c975c618",
   "metadata": {
    "execution": {
     "iopub.execute_input": "2023-02-04T07:54:44.566316Z",
     "iopub.status.busy": "2023-02-04T07:54:44.565525Z",
     "iopub.status.idle": "2023-02-04T07:54:44.570471Z",
     "shell.execute_reply": "2023-02-04T07:54:44.569635Z"
    }
   },
   "outputs": [
    {
     "name": "stdout",
     "output_type": "stream",
     "text": [
      "1327\n"
     ]
    }
   ],
   "source": [
    "print(len(product2))"
   ]
  },
  {
   "cell_type": "markdown",
   "id": "0add5600",
   "metadata": {},
   "source": [
    "If the gene is missing from the assembly, the PCR product will have this size in base pairs:"
   ]
  },
  {
   "cell_type": "code",
   "execution_count": 22,
   "id": "56030fbd",
   "metadata": {
    "execution": {
     "iopub.execute_input": "2023-02-04T07:54:44.574660Z",
     "iopub.status.busy": "2023-02-04T07:54:44.574032Z",
     "iopub.status.idle": "2023-02-04T07:54:44.578970Z",
     "shell.execute_reply": "2023-02-04T07:54:44.578061Z"
    }
   },
   "outputs": [
    {
     "name": "stdout",
     "output_type": "stream",
     "text": [
      "1001\n"
     ]
    }
   ],
   "source": [
    "print(len(product2) - len(gene))"
   ]
  },
  {
   "cell_type": "markdown",
   "id": "70713dc7",
   "metadata": {},
   "source": [
    "If the terminator is missing from the assembly, the PCR product will have this size in base pairs:"
   ]
  },
  {
   "cell_type": "code",
   "execution_count": 23,
   "id": "f55b0d86",
   "metadata": {
    "execution": {
     "iopub.execute_input": "2023-02-04T07:54:44.587372Z",
     "iopub.status.busy": "2023-02-04T07:54:44.586200Z",
     "iopub.status.idle": "2023-02-04T07:54:44.592531Z",
     "shell.execute_reply": "2023-02-04T07:54:44.591634Z"
    }
   },
   "outputs": [
    {
     "name": "stdout",
     "output_type": "stream",
     "text": [
      "289\n"
     ]
    }
   ],
   "source": [
    "print(len(product2) - len(term))"
   ]
  },
  {
   "cell_type": "markdown",
   "id": "d634ea71",
   "metadata": {},
   "source": [
    "The cseguid checksum for the resulting plasmid is calculated for future reference.\n",
    "The [cseguid checksum](http://pydna.readthedocs.org/en/latest/pydna.html#pydna.utils.cseguid)\n",
    "uniquely identifies a circular double stranded sequence."
   ]
  },
  {
   "cell_type": "code",
   "execution_count": 24,
   "id": "7afb80c4",
   "metadata": {
    "execution": {
     "iopub.execute_input": "2023-02-04T07:54:44.597013Z",
     "iopub.status.busy": "2023-02-04T07:54:44.596400Z",
     "iopub.status.idle": "2023-02-04T07:54:44.617726Z",
     "shell.execute_reply": "2023-02-04T07:54:44.616803Z"
    }
   },
   "outputs": [
    {
     "name": "stdout",
     "output_type": "stream",
     "text": [
      "YBYJG2qluycIJ-5n_OP9aO8I0So\n"
     ]
    }
   ],
   "source": [
    "print(result.cseguid())"
   ]
  },
  {
   "cell_type": "markdown",
   "id": "fda9a92b",
   "metadata": {},
   "source": [
    "The file name is based on the promoter, gene and terminator designations."
   ]
  },
  {
   "cell_type": "code",
   "execution_count": 25,
   "id": "cdd48854",
   "metadata": {
    "execution": {
     "iopub.execute_input": "2023-02-04T07:54:44.625741Z",
     "iopub.status.busy": "2023-02-04T07:54:44.623759Z",
     "iopub.status.idle": "2023-02-04T07:54:44.630632Z",
     "shell.execute_reply": "2023-02-04T07:54:44.629755Z"
    }
   },
   "outputs": [],
   "source": [
    "result.locus = f\"tu:{gene.name}\"[:16]\n",
    "result.definition = \"pYPK0_RPL22A_EcacpP_TDH3\""
   ]
  },
  {
   "cell_type": "markdown",
   "id": "6640f8d9",
   "metadata": {},
   "source": [
    "Sequence is stamped with cseguid checksum. This can be used to verify the\n",
    "integrity of the sequence file."
   ]
  },
  {
   "cell_type": "code",
   "execution_count": 26,
   "id": "86042ce0",
   "metadata": {
    "execution": {
     "iopub.execute_input": "2023-02-04T07:54:44.640168Z",
     "iopub.status.busy": "2023-02-04T07:54:44.639173Z",
     "iopub.status.idle": "2023-02-04T07:54:44.659775Z",
     "shell.execute_reply": "2023-02-04T07:54:44.658906Z"
    }
   },
   "outputs": [
    {
     "data": {
      "text/plain": [
       "YBYJG2qluycIJ-5n_OP9aO8I0So"
      ]
     },
     "execution_count": 26,
     "metadata": {},
     "output_type": "execute_result"
    }
   ],
   "source": [
    "result.stamp(\"cSEGUID\")"
   ]
  },
  {
   "cell_type": "markdown",
   "id": "9c5ea2b2",
   "metadata": {},
   "source": [
    "Write sequence to a local file."
   ]
  },
  {
   "cell_type": "code",
   "execution_count": 27,
   "id": "3be49c7f",
   "metadata": {
    "execution": {
     "iopub.execute_input": "2023-02-04T07:54:44.666147Z",
     "iopub.status.busy": "2023-02-04T07:54:44.665523Z",
     "iopub.status.idle": "2023-02-04T07:54:44.696300Z",
     "shell.execute_reply": "2023-02-04T07:54:44.695506Z"
    }
   },
   "outputs": [
    {
     "data": {
      "text/html": [
       "<font face=monospace><a href='pYPK0_RPL22A_EcacpP_TDH3.gb' target='_blank'>pYPK0_RPL22A_EcacpP_TDH3.gb</a></font><br>"
      ]
     },
     "metadata": {},
     "output_type": "display_data"
    }
   ],
   "source": [
    "result.write(f\"{result.definition}.gb\")"
   ]
  },
  {
   "cell_type": "markdown",
   "id": "7ec4cf8b",
   "metadata": {
    "lines_to_next_cell": 0
   },
   "source": [
    "### Suggested PCR programs\n",
    "\n",
    "For the [amplification](#PCR) of promoter, gene and terminator."
   ]
  },
  {
   "cell_type": "code",
   "execution_count": 28,
   "id": "bd664ee3",
   "metadata": {
    "execution": {
     "iopub.execute_input": "2023-02-04T07:54:44.700371Z",
     "iopub.status.busy": "2023-02-04T07:54:44.699825Z",
     "iopub.status.idle": "2023-02-04T07:54:44.705328Z",
     "shell.execute_reply": "2023-02-04T07:54:44.704570Z"
    }
   },
   "outputs": [
    {
     "name": "stdout",
     "output_type": "stream",
     "text": [
      "577_crp585-557 567_pCAPsAjiIF\n",
      "|95°C|95°C               |    |tmf:64.6\n",
      "|____|_____          72°C|72°C|tmr:69.7\n",
      "|3min|30s  \\ 55.9°C _____|____|45s/kb\n",
      "|    |      \\______/ 0:30|5min|GC 35%\n",
      "|    |       30s         |    |658bp\n"
     ]
    }
   ],
   "source": [
    "print(prom.forward_primer.name, prom.reverse_primer.name)\n",
    "print(prom.program())"
   ]
  },
  {
   "cell_type": "code",
   "execution_count": 29,
   "id": "58a72fe6",
   "metadata": {
    "execution": {
     "iopub.execute_input": "2023-02-04T07:54:44.709134Z",
     "iopub.status.busy": "2023-02-04T07:54:44.708605Z",
     "iopub.status.idle": "2023-02-04T07:54:44.714265Z",
     "shell.execute_reply": "2023-02-04T07:54:44.713481Z"
    }
   },
   "outputs": [
    {
     "name": "stdout",
     "output_type": "stream",
     "text": [
      "468_pCAPs_release_fw 467_pCAPs_release_re\n",
      "|95°C|95°C               |    |tmf:76.9\n",
      "|____|_____          72°C|72°C|tmr:67.9\n",
      "|3min|30s  \\ 60.0°C _____|____|45s/kb\n",
      "|    |      \\______/ 0:30|5min|GC 49%\n",
      "|    |       30s         |    |326bp\n"
     ]
    }
   ],
   "source": [
    "print(gene.forward_primer.name, gene.reverse_primer.name)\n",
    "print(gene.program())"
   ]
  },
  {
   "cell_type": "code",
   "execution_count": 30,
   "id": "f54aa0f3",
   "metadata": {
    "execution": {
     "iopub.execute_input": "2023-02-04T07:54:44.718281Z",
     "iopub.status.busy": "2023-02-04T07:54:44.717734Z",
     "iopub.status.idle": "2023-02-04T07:54:44.723238Z",
     "shell.execute_reply": "2023-02-04T07:54:44.722454Z"
    }
   },
   "outputs": [
    {
     "name": "stdout",
     "output_type": "stream",
     "text": [
      "568_pCAPsAjiIR 578_crp42-70\n",
      "|95°C|95°C               |    |tmf:66.1\n",
      "|____|_____          72°C|72°C|tmr:65.0\n",
      "|3min|30s  \\ 57.1°C _____|____|45s/kb\n",
      "|    |      \\______/ 0:46|5min|GC 38%\n",
      "|    |       30s         |    |1038bp\n"
     ]
    }
   ],
   "source": [
    "print(term.forward_primer.name, term.reverse_primer.name)\n",
    "print(term.program())"
   ]
  }
 ],
 "metadata": {
  "jupytext": {
   "main_language": "python",
   "text_representation": {
    "extension": ".py",
    "format_name": "percent",
    "format_version": "1.3",
    "jupytext_version": "1.14.0"
   }
  },
  "language_info": {
   "codemirror_mode": {
    "name": "ipython",
    "version": 3
   },
   "file_extension": ".py",
   "mimetype": "text/x-python",
   "name": "python",
   "nbconvert_exporter": "python",
   "pygments_lexer": "ipython3",
   "version": "3.11.0"
  }
 },
 "nbformat": 4,
 "nbformat_minor": 5
}
