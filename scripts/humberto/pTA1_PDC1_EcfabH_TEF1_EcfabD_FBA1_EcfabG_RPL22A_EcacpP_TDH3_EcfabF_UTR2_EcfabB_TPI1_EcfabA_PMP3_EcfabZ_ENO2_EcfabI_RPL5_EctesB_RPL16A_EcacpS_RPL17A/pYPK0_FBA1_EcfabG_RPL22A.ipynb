{
 "cells": [
  {
   "cell_type": "markdown",
   "id": "02aadd45",
   "metadata": {},
   "source": [
    "# [![logo](logo.png)](https://github.com/BjornFJohansson/ypkpathway#-ypkpathway) pYPK0_FBA1_EcfabG_RPL22A\n",
    "\n",
    "Assembly of a [_Saccharomyces cerevisiae_](http://www.yeastgenome.org) transcriptional unit vector.\n",
    "\n",
    "Made from a linear vector fragment and three PCR products:\n",
    "\n",
    "- a linearized pYPK0 vector for maintenance in _S. cerevisiae_ or _E. coli_ (red dashed line in figure below)\n",
    "- a promoter PCR product from the `pYPKa_Z_FBA1` vector\n",
    "- a gene PCR product from the `pYPKa_A_EcfabG` vector\n",
    "- a terminator PCR product from the `pYPKa_E_RPL22A` vector\n",
    "\n",
    "The four linear DNA fragments are joined by _in-vivo_ homologous recombination in a\n",
    "[_Saccharomyces cerevisiae_](http://wiki.yeastgenome.org/index.php/Commonly_used_strains) strain.\n",
    "\n",
    "![tu](tu.png \"tu\")\n",
    "\n",
    "A part of the [pydna](https://pypi.python.org/pypi/pydna/) package is imported in the code cell below."
   ]
  },
  {
   "cell_type": "code",
   "execution_count": 1,
   "id": "340b3fe1",
   "metadata": {
    "execution": {
     "iopub.execute_input": "2023-02-04T07:54:38.874540Z",
     "iopub.status.busy": "2023-02-04T07:54:38.873944Z",
     "iopub.status.idle": "2023-02-04T07:54:39.219532Z",
     "shell.execute_reply": "2023-02-04T07:54:39.218788Z"
    }
   },
   "outputs": [],
   "source": [
    "from pydna.parsers import parse_primers\n",
    "from pydna.readers import read\n",
    "from pydna.amplify import pcr\n",
    "from pydna.assembly import Assembly"
   ]
  },
  {
   "cell_type": "markdown",
   "id": "77c936ed",
   "metadata": {},
   "source": [
    "The Yeast Pathway Kit [standard primers](standard_primers.fasta) are read into a dictionary in the code cell below."
   ]
  },
  {
   "cell_type": "code",
   "execution_count": 2,
   "id": "68eedf87",
   "metadata": {
    "execution": {
     "iopub.execute_input": "2023-02-04T07:54:39.222768Z",
     "iopub.status.busy": "2023-02-04T07:54:39.222455Z",
     "iopub.status.idle": "2023-02-04T07:54:39.233628Z",
     "shell.execute_reply": "2023-02-04T07:54:39.232871Z"
    }
   },
   "outputs": [],
   "source": [
    "p = {x.name: x for x in parse_primers(\"standard_primers.fasta\")}"
   ]
  },
  {
   "cell_type": "markdown",
   "id": "b5ada140",
   "metadata": {},
   "source": [
    "The backbone vector [pYPK0](pYPK0.gb) is read from a local file in the code cell below."
   ]
  },
  {
   "cell_type": "code",
   "execution_count": 3,
   "id": "b28dfd50",
   "metadata": {
    "execution": {
     "iopub.execute_input": "2023-02-04T07:54:39.237358Z",
     "iopub.status.busy": "2023-02-04T07:54:39.237097Z",
     "iopub.status.idle": "2023-02-04T07:54:39.247996Z",
     "shell.execute_reply": "2023-02-04T07:54:39.247423Z"
    }
   },
   "outputs": [],
   "source": [
    "backbone = read(\"pYPK0.gb\")"
   ]
  },
  {
   "cell_type": "markdown",
   "id": "fd4f407b",
   "metadata": {},
   "source": [
    "The backbone vector is linearized by digestion with [MfeI](https://www.google.com/search?q=MfeI)."
   ]
  },
  {
   "cell_type": "code",
   "execution_count": 4,
   "id": "dd5dddc9",
   "metadata": {
    "execution": {
     "iopub.execute_input": "2023-02-04T07:54:39.251033Z",
     "iopub.status.busy": "2023-02-04T07:54:39.250547Z",
     "iopub.status.idle": "2023-02-04T07:54:39.254257Z",
     "shell.execute_reply": "2023-02-04T07:54:39.253439Z"
    }
   },
   "outputs": [],
   "source": [
    "from Bio.Restriction import MfeI"
   ]
  },
  {
   "cell_type": "code",
   "execution_count": 5,
   "id": "d534d1c1",
   "metadata": {
    "execution": {
     "iopub.execute_input": "2023-02-04T07:54:39.257730Z",
     "iopub.status.busy": "2023-02-04T07:54:39.257132Z",
     "iopub.status.idle": "2023-02-04T07:54:39.265491Z",
     "shell.execute_reply": "2023-02-04T07:54:39.264849Z"
    }
   },
   "outputs": [],
   "source": [
    "linear_backbone = backbone.linearize(MfeI)"
   ]
  },
  {
   "cell_type": "markdown",
   "id": "dc10e19c",
   "metadata": {},
   "source": [
    "The pYPKa derived _E. coli_ plasmids containing\n",
    "- [promoter](pYPKa_Z_FBA1.gb)\n",
    "- [gene](pYPKa_A_EcfabG.gb)\n",
    "- [terminator](pYPKa_E_RPL22A.gb)\n",
    "\n",
    "are read into three variables below."
   ]
  },
  {
   "cell_type": "code",
   "execution_count": 6,
   "id": "0654a43f",
   "metadata": {
    "execution": {
     "iopub.execute_input": "2023-02-04T07:54:39.269119Z",
     "iopub.status.busy": "2023-02-04T07:54:39.268808Z",
     "iopub.status.idle": "2023-02-04T07:54:39.286289Z",
     "shell.execute_reply": "2023-02-04T07:54:39.285665Z"
    }
   },
   "outputs": [],
   "source": [
    "promoter_template   = read(\"pYPKa_Z_FBA1.gb\")\n",
    "gene_template       = read(\"pYPKa_A_EcfabG.gb\")\n",
    "terminator_template = read(\"pYPKa_E_RPL22A.gb\")"
   ]
  },
  {
   "cell_type": "markdown",
   "id": "ba2836ba",
   "metadata": {
    "lines_to_next_cell": 0
   },
   "source": [
    "### PCR\n",
    "Three DNA fragments are PCR amplified using [standard primers](standard_primers.fasta).\n",
    "\n",
    "[Suggested PCR programs](#Suggested-PCR-programs) can be found at the end of this document."
   ]
  },
  {
   "cell_type": "code",
   "execution_count": 7,
   "id": "a2bc0cfa",
   "metadata": {
    "execution": {
     "iopub.execute_input": "2023-02-04T07:54:39.289310Z",
     "iopub.status.busy": "2023-02-04T07:54:39.289079Z",
     "iopub.status.idle": "2023-02-04T07:54:39.293388Z",
     "shell.execute_reply": "2023-02-04T07:54:39.292333Z"
    }
   },
   "outputs": [],
   "source": [
    "\n",
    "fp_prom = p['577_crp585-557']\n",
    "rp_prom = p['567_pCAPsAjiIF']\n",
    "fp_gene = p['468_pCAPs_release_fw']\n",
    "rp_gene = p['467_pCAPs_release_re']\n",
    "fp_term = p['568_pCAPsAjiIR']\n",
    "rp_term = p['578_crp42-70']"
   ]
  },
  {
   "cell_type": "code",
   "execution_count": 8,
   "id": "236703d3",
   "metadata": {
    "execution": {
     "iopub.execute_input": "2023-02-04T07:54:39.296973Z",
     "iopub.status.busy": "2023-02-04T07:54:39.296734Z",
     "iopub.status.idle": "2023-02-04T07:54:39.323572Z",
     "shell.execute_reply": "2023-02-04T07:54:39.322993Z"
    }
   },
   "outputs": [],
   "source": [
    "prom = pcr(fp_prom, rp_prom, promoter_template)\n",
    "gene = pcr(fp_gene, rp_gene, gene_template)\n",
    "term = pcr(fp_term, rp_term, terminator_template)"
   ]
  },
  {
   "cell_type": "code",
   "execution_count": 9,
   "id": "2482de85",
   "metadata": {
    "execution": {
     "iopub.execute_input": "2023-02-04T07:54:39.326382Z",
     "iopub.status.busy": "2023-02-04T07:54:39.326107Z",
     "iopub.status.idle": "2023-02-04T07:54:39.329254Z",
     "shell.execute_reply": "2023-02-04T07:54:39.328701Z"
    }
   },
   "outputs": [],
   "source": [
    "prom.name = \"pYPKa_Z_FBA1\"[8:]\n",
    "gene.name = \"pYPKa_A_EcfabG\"[8:]\n",
    "term.name = \"pYPKa_E_RPL22A\"[8:]"
   ]
  },
  {
   "cell_type": "markdown",
   "id": "f392757e",
   "metadata": {},
   "source": [
    "\n",
    "The fragments will be assembled by _in-vivo_ [homologous recombination](http://www.ncbi.nlm.nih.gov/pubmed/2828185):"
   ]
  },
  {
   "cell_type": "code",
   "execution_count": 10,
   "id": "96bc22ab",
   "metadata": {
    "execution": {
     "iopub.execute_input": "2023-02-04T07:54:39.332571Z",
     "iopub.status.busy": "2023-02-04T07:54:39.332246Z",
     "iopub.status.idle": "2023-02-04T07:54:39.755056Z",
     "shell.execute_reply": "2023-02-04T07:54:39.754405Z"
    }
   },
   "outputs": [
    {
     "data": {
      "text/plain": [
       "Assembly\n",
       "fragments..: 5766bp 862bp 824bp 766bp\n",
       "limit(bp)..: 31\n",
       "G.nodes....: 10\n",
       "algorithm..: common_sub_strings"
      ]
     },
     "execution_count": 10,
     "metadata": {},
     "output_type": "execute_result"
    }
   ],
   "source": [
    "asm = Assembly((linear_backbone, prom, gene, term), limit=31)\n",
    "asm"
   ]
  },
  {
   "cell_type": "markdown",
   "id": "23a2429b",
   "metadata": {},
   "source": [
    "The Assembly object above should normally indicate four fragments and eight nodes."
   ]
  },
  {
   "cell_type": "code",
   "execution_count": 11,
   "id": "50a3ccee",
   "metadata": {
    "execution": {
     "iopub.execute_input": "2023-02-04T07:54:39.758023Z",
     "iopub.status.busy": "2023-02-04T07:54:39.757805Z",
     "iopub.status.idle": "2023-02-04T07:54:39.979708Z",
     "shell.execute_reply": "2023-02-04T07:54:39.979020Z"
    },
    "lines_to_next_cell": 0
   },
   "outputs": [
    {
     "data": {
      "text/plain": [
       "[Contig(o7583), Contig(o7583), Contig(o7583), Contig(o6939), Contig(o6939)]"
      ]
     },
     "execution_count": 11,
     "metadata": {},
     "output_type": "execute_result"
    }
   ],
   "source": [
    "candidates = asm.assemble_circular()\n",
    "candidates"
   ]
  },
  {
   "cell_type": "markdown",
   "id": "94386961",
   "metadata": {},
   "source": [
    "There should normally be two candidates of equal size. These sequences should be identical."
   ]
  },
  {
   "cell_type": "code",
   "execution_count": 12,
   "id": "36902311",
   "metadata": {
    "execution": {
     "iopub.execute_input": "2023-02-04T07:54:39.982326Z",
     "iopub.status.busy": "2023-02-04T07:54:39.982091Z",
     "iopub.status.idle": "2023-02-04T07:54:39.985010Z",
     "shell.execute_reply": "2023-02-04T07:54:39.984412Z"
    },
    "lines_to_next_cell": 0
   },
   "outputs": [],
   "source": [
    "candidate, *rest = candidates"
   ]
  },
  {
   "cell_type": "code",
   "execution_count": 13,
   "id": "e90e6a93",
   "metadata": {
    "execution": {
     "iopub.execute_input": "2023-02-04T07:54:39.988009Z",
     "iopub.status.busy": "2023-02-04T07:54:39.987705Z",
     "iopub.status.idle": "2023-02-04T07:54:40.009092Z",
     "shell.execute_reply": "2023-02-04T07:54:40.008592Z"
    },
    "lines_to_next_cell": 0
   },
   "outputs": [
    {
     "data": {
      "text/plain": [
       "True"
      ]
     },
     "execution_count": 13,
     "metadata": {},
     "output_type": "execute_result"
    }
   ],
   "source": [
    "candidate.cseguid() == rest[0].cseguid()"
   ]
  },
  {
   "cell_type": "code",
   "execution_count": 14,
   "id": "d5cce039",
   "metadata": {
    "execution": {
     "iopub.execute_input": "2023-02-04T07:54:40.011680Z",
     "iopub.status.busy": "2023-02-04T07:54:40.011462Z",
     "iopub.status.idle": "2023-02-04T07:54:40.016488Z",
     "shell.execute_reply": "2023-02-04T07:54:40.015635Z"
    },
    "lines_to_next_cell": 0
   },
   "outputs": [
    {
     "data": {
      "text/plain": [
       " -|pYPK0_lin|168\n",
       "|            \\/\n",
       "|            /\\\n",
       "|            168|FBA1|48\n",
       "|                     \\/\n",
       "|                     /\\\n",
       "|                     48|EcfabG|37\n",
       "|                               \\/\n",
       "|                               /\\\n",
       "|                               37|RPL22A|276\n",
       "|                                         \\/\n",
       "|                                         /\\\n",
       "|                                         276-\n",
       "|                                            |\n",
       " --------------------------------------------"
      ]
     },
     "execution_count": 14,
     "metadata": {},
     "output_type": "execute_result"
    }
   ],
   "source": [
    "candidate.figure()"
   ]
  },
  {
   "cell_type": "markdown",
   "id": "2724f652",
   "metadata": {},
   "source": [
    "The candidate vector is synchronized to the 577 primer. This means that\n",
    "the plasmid origin is shifted so that it matches the backbone vector."
   ]
  },
  {
   "cell_type": "code",
   "execution_count": 15,
   "id": "b3644f56",
   "metadata": {
    "execution": {
     "iopub.execute_input": "2023-02-04T07:54:40.019897Z",
     "iopub.status.busy": "2023-02-04T07:54:40.019581Z",
     "iopub.status.idle": "2023-02-04T07:54:40.325340Z",
     "shell.execute_reply": "2023-02-04T07:54:40.324653Z"
    }
   },
   "outputs": [],
   "source": [
    "result = candidate.synced(fp_prom)"
   ]
  },
  {
   "cell_type": "markdown",
   "id": "bdccfcce",
   "metadata": {},
   "source": [
    "### Diagnostic PCR confirmation\n",
    "\n",
    "The structure of the final vector is confirmed by two\n",
    "separate PCR reactions, one for the promoter and gene and\n",
    "one for the gene and terminator.\n",
    "\n",
    "PCR using standard primers 577 and 467 to amplify promoter and gene."
   ]
  },
  {
   "cell_type": "code",
   "execution_count": 16,
   "id": "e44767cd",
   "metadata": {
    "execution": {
     "iopub.execute_input": "2023-02-04T07:54:40.328599Z",
     "iopub.status.busy": "2023-02-04T07:54:40.328114Z",
     "iopub.status.idle": "2023-02-04T07:54:40.346815Z",
     "shell.execute_reply": "2023-02-04T07:54:40.346045Z"
    }
   },
   "outputs": [],
   "source": [
    "product = pcr( fp_prom, rp_gene, result)"
   ]
  },
  {
   "cell_type": "markdown",
   "id": "ae36d3b6",
   "metadata": {},
   "source": [
    "A correct clone should give this size in base pairs:"
   ]
  },
  {
   "cell_type": "code",
   "execution_count": 17,
   "id": "94ae845a",
   "metadata": {
    "execution": {
     "iopub.execute_input": "2023-02-04T07:54:40.351926Z",
     "iopub.status.busy": "2023-02-04T07:54:40.351113Z",
     "iopub.status.idle": "2023-02-04T07:54:40.359130Z",
     "shell.execute_reply": "2023-02-04T07:54:40.358206Z"
    }
   },
   "outputs": [
    {
     "name": "stdout",
     "output_type": "stream",
     "text": [
      "1636\n"
     ]
    }
   ],
   "source": [
    "print(len(product))"
   ]
  },
  {
   "cell_type": "markdown",
   "id": "ca178c03",
   "metadata": {},
   "source": [
    "If the promoter is missing from the assembly, the PCR product will have this size in base pairs:"
   ]
  },
  {
   "cell_type": "code",
   "execution_count": 18,
   "id": "ce93eb94",
   "metadata": {
    "execution": {
     "iopub.execute_input": "2023-02-04T07:54:40.362486Z",
     "iopub.status.busy": "2023-02-04T07:54:40.362140Z",
     "iopub.status.idle": "2023-02-04T07:54:40.366435Z",
     "shell.execute_reply": "2023-02-04T07:54:40.365813Z"
    }
   },
   "outputs": [
    {
     "name": "stdout",
     "output_type": "stream",
     "text": [
      "774\n"
     ]
    }
   ],
   "source": [
    "print(len(product) - len(prom))"
   ]
  },
  {
   "cell_type": "markdown",
   "id": "87bea071",
   "metadata": {},
   "source": [
    "If the gene is missing from the assembly, the PCR product will have this size in base pairs:"
   ]
  },
  {
   "cell_type": "code",
   "execution_count": 19,
   "id": "58e7a357",
   "metadata": {
    "execution": {
     "iopub.execute_input": "2023-02-04T07:54:40.370745Z",
     "iopub.status.busy": "2023-02-04T07:54:40.370487Z",
     "iopub.status.idle": "2023-02-04T07:54:40.374486Z",
     "shell.execute_reply": "2023-02-04T07:54:40.373736Z"
    }
   },
   "outputs": [
    {
     "name": "stdout",
     "output_type": "stream",
     "text": [
      "812\n"
     ]
    }
   ],
   "source": [
    "print(len(product) - len(gene))"
   ]
  },
  {
   "cell_type": "markdown",
   "id": "07c0d229",
   "metadata": {},
   "source": [
    "PCR using standard primers 468 and 578 to amplify gene and terminator."
   ]
  },
  {
   "cell_type": "code",
   "execution_count": 20,
   "id": "e01e86ea",
   "metadata": {
    "execution": {
     "iopub.execute_input": "2023-02-04T07:54:40.378254Z",
     "iopub.status.busy": "2023-02-04T07:54:40.377999Z",
     "iopub.status.idle": "2023-02-04T07:54:40.399468Z",
     "shell.execute_reply": "2023-02-04T07:54:40.398792Z"
    }
   },
   "outputs": [],
   "source": [
    "product2 = pcr( fp_gene, rp_term, result)"
   ]
  },
  {
   "cell_type": "markdown",
   "id": "4b910a45",
   "metadata": {},
   "source": [
    "A correct clone should give this size:"
   ]
  },
  {
   "cell_type": "code",
   "execution_count": 21,
   "id": "f2397af9",
   "metadata": {
    "execution": {
     "iopub.execute_input": "2023-02-04T07:54:40.402217Z",
     "iopub.status.busy": "2023-02-04T07:54:40.401989Z",
     "iopub.status.idle": "2023-02-04T07:54:40.405222Z",
     "shell.execute_reply": "2023-02-04T07:54:40.404666Z"
    }
   },
   "outputs": [
    {
     "name": "stdout",
     "output_type": "stream",
     "text": [
      "1553\n"
     ]
    }
   ],
   "source": [
    "print(len(product2))"
   ]
  },
  {
   "cell_type": "markdown",
   "id": "2cb8b042",
   "metadata": {},
   "source": [
    "If the gene is missing from the assembly, the PCR product will have this size in base pairs:"
   ]
  },
  {
   "cell_type": "code",
   "execution_count": 22,
   "id": "03b3d836",
   "metadata": {
    "execution": {
     "iopub.execute_input": "2023-02-04T07:54:40.408880Z",
     "iopub.status.busy": "2023-02-04T07:54:40.408309Z",
     "iopub.status.idle": "2023-02-04T07:54:40.413520Z",
     "shell.execute_reply": "2023-02-04T07:54:40.412485Z"
    }
   },
   "outputs": [
    {
     "name": "stdout",
     "output_type": "stream",
     "text": [
      "729\n"
     ]
    }
   ],
   "source": [
    "print(len(product2) - len(gene))"
   ]
  },
  {
   "cell_type": "markdown",
   "id": "543bd0e0",
   "metadata": {},
   "source": [
    "If the terminator is missing from the assembly, the PCR product will have this size in base pairs:"
   ]
  },
  {
   "cell_type": "code",
   "execution_count": 23,
   "id": "4c860e36",
   "metadata": {
    "execution": {
     "iopub.execute_input": "2023-02-04T07:54:40.417439Z",
     "iopub.status.busy": "2023-02-04T07:54:40.416836Z",
     "iopub.status.idle": "2023-02-04T07:54:40.423589Z",
     "shell.execute_reply": "2023-02-04T07:54:40.422453Z"
    }
   },
   "outputs": [
    {
     "name": "stdout",
     "output_type": "stream",
     "text": [
      "787\n"
     ]
    }
   ],
   "source": [
    "print(len(product2) - len(term))"
   ]
  },
  {
   "cell_type": "markdown",
   "id": "9f3c4ab9",
   "metadata": {},
   "source": [
    "The cseguid checksum for the resulting plasmid is calculated for future reference.\n",
    "The [cseguid checksum](http://pydna.readthedocs.org/en/latest/pydna.html#pydna.utils.cseguid)\n",
    "uniquely identifies a circular double stranded sequence."
   ]
  },
  {
   "cell_type": "code",
   "execution_count": 24,
   "id": "2bf4979d",
   "metadata": {
    "execution": {
     "iopub.execute_input": "2023-02-04T07:54:40.428074Z",
     "iopub.status.busy": "2023-02-04T07:54:40.427511Z",
     "iopub.status.idle": "2023-02-04T07:54:40.441249Z",
     "shell.execute_reply": "2023-02-04T07:54:40.439873Z"
    }
   },
   "outputs": [
    {
     "name": "stdout",
     "output_type": "stream",
     "text": [
      "0_8MWlK1r5MpcFdPHdcDb90Zftc\n"
     ]
    }
   ],
   "source": [
    "print(result.cseguid())"
   ]
  },
  {
   "cell_type": "markdown",
   "id": "37531105",
   "metadata": {},
   "source": [
    "The file name is based on the promoter, gene and terminator designations."
   ]
  },
  {
   "cell_type": "code",
   "execution_count": 25,
   "id": "a4e3f10c",
   "metadata": {
    "execution": {
     "iopub.execute_input": "2023-02-04T07:54:40.443916Z",
     "iopub.status.busy": "2023-02-04T07:54:40.443627Z",
     "iopub.status.idle": "2023-02-04T07:54:40.447058Z",
     "shell.execute_reply": "2023-02-04T07:54:40.446529Z"
    }
   },
   "outputs": [],
   "source": [
    "result.locus = f\"tu:{gene.name}\"[:16]\n",
    "result.definition = \"pYPK0_FBA1_EcfabG_RPL22A\""
   ]
  },
  {
   "cell_type": "markdown",
   "id": "ced76fdb",
   "metadata": {},
   "source": [
    "Sequence is stamped with cseguid checksum. This can be used to verify the\n",
    "integrity of the sequence file."
   ]
  },
  {
   "cell_type": "code",
   "execution_count": 26,
   "id": "6e49cce3",
   "metadata": {
    "execution": {
     "iopub.execute_input": "2023-02-04T07:54:40.453326Z",
     "iopub.status.busy": "2023-02-04T07:54:40.452056Z",
     "iopub.status.idle": "2023-02-04T07:54:40.464041Z",
     "shell.execute_reply": "2023-02-04T07:54:40.463590Z"
    }
   },
   "outputs": [
    {
     "data": {
      "text/plain": [
       "0_8MWlK1r5MpcFdPHdcDb90Zftc"
      ]
     },
     "execution_count": 26,
     "metadata": {},
     "output_type": "execute_result"
    }
   ],
   "source": [
    "result.stamp(\"cSEGUID\")"
   ]
  },
  {
   "cell_type": "markdown",
   "id": "0cd1c3c6",
   "metadata": {},
   "source": [
    "Write sequence to a local file."
   ]
  },
  {
   "cell_type": "code",
   "execution_count": 27,
   "id": "a8c24622",
   "metadata": {
    "execution": {
     "iopub.execute_input": "2023-02-04T07:54:40.467071Z",
     "iopub.status.busy": "2023-02-04T07:54:40.466707Z",
     "iopub.status.idle": "2023-02-04T07:54:40.488880Z",
     "shell.execute_reply": "2023-02-04T07:54:40.488236Z"
    }
   },
   "outputs": [
    {
     "data": {
      "text/html": [
       "<font face=monospace><a href='pYPK0_FBA1_EcfabG_RPL22A.gb' target='_blank'>pYPK0_FBA1_EcfabG_RPL22A.gb</a></font><br>"
      ]
     },
     "metadata": {},
     "output_type": "display_data"
    }
   ],
   "source": [
    "result.write(f\"{result.definition}.gb\")"
   ]
  },
  {
   "cell_type": "markdown",
   "id": "b2360ede",
   "metadata": {
    "lines_to_next_cell": 0
   },
   "source": [
    "### Suggested PCR programs\n",
    "\n",
    "For the [amplification](#PCR) of promoter, gene and terminator."
   ]
  },
  {
   "cell_type": "code",
   "execution_count": 28,
   "id": "472060df",
   "metadata": {
    "execution": {
     "iopub.execute_input": "2023-02-04T07:54:40.492340Z",
     "iopub.status.busy": "2023-02-04T07:54:40.492081Z",
     "iopub.status.idle": "2023-02-04T07:54:40.496472Z",
     "shell.execute_reply": "2023-02-04T07:54:40.495581Z"
    }
   },
   "outputs": [
    {
     "name": "stdout",
     "output_type": "stream",
     "text": [
      "577_crp585-557 567_pCAPsAjiIF\n",
      "|95°C|95°C               |    |tmf:64.6\n",
      "|____|_____          72°C|72°C|tmr:69.7\n",
      "|3min|30s  \\ 57.2°C _____|____|45s/kb\n",
      "|    |      \\______/ 0:38|5min|GC 39%\n",
      "|    |       30s         |    |862bp\n"
     ]
    }
   ],
   "source": [
    "print(prom.forward_primer.name, prom.reverse_primer.name)\n",
    "print(prom.program())"
   ]
  },
  {
   "cell_type": "code",
   "execution_count": 29,
   "id": "975f5055",
   "metadata": {
    "execution": {
     "iopub.execute_input": "2023-02-04T07:54:40.500069Z",
     "iopub.status.busy": "2023-02-04T07:54:40.499823Z",
     "iopub.status.idle": "2023-02-04T07:54:40.505451Z",
     "shell.execute_reply": "2023-02-04T07:54:40.504653Z"
    }
   },
   "outputs": [
    {
     "name": "stdout",
     "output_type": "stream",
     "text": [
      "468_pCAPs_release_fw 467_pCAPs_release_re\n",
      "|95°C|95°C               |    |tmf:76.9\n",
      "|____|_____          72°C|72°C|tmr:67.9\n",
      "|3min|30s  \\ 61.6°C _____|____|45s/kb\n",
      "|    |      \\______/ 0:37|5min|GC 51%\n",
      "|    |       30s         |    |824bp\n"
     ]
    }
   ],
   "source": [
    "print(gene.forward_primer.name, gene.reverse_primer.name)\n",
    "print(gene.program())"
   ]
  },
  {
   "cell_type": "code",
   "execution_count": 30,
   "id": "3a3e1190",
   "metadata": {
    "execution": {
     "iopub.execute_input": "2023-02-04T07:54:40.508648Z",
     "iopub.status.busy": "2023-02-04T07:54:40.508254Z",
     "iopub.status.idle": "2023-02-04T07:54:40.513318Z",
     "shell.execute_reply": "2023-02-04T07:54:40.512576Z"
    }
   },
   "outputs": [
    {
     "name": "stdout",
     "output_type": "stream",
     "text": [
      "568_pCAPsAjiIR 578_crp42-70\n",
      "|95°C|95°C               |    |tmf:66.1\n",
      "|____|_____          72°C|72°C|tmr:65.0\n",
      "|3min|30s  \\ 56.0°C _____|____|45s/kb\n",
      "|    |      \\______/ 0:34|5min|GC 35%\n",
      "|    |       30s         |    |766bp\n"
     ]
    }
   ],
   "source": [
    "print(term.forward_primer.name, term.reverse_primer.name)\n",
    "print(term.program())"
   ]
  }
 ],
 "metadata": {
  "jupytext": {
   "main_language": "python",
   "text_representation": {
    "extension": ".py",
    "format_name": "percent",
    "format_version": "1.3",
    "jupytext_version": "1.14.0"
   }
  },
  "language_info": {
   "codemirror_mode": {
    "name": "ipython",
    "version": 3
   },
   "file_extension": ".py",
   "mimetype": "text/x-python",
   "name": "python",
   "nbconvert_exporter": "python",
   "pygments_lexer": "ipython3",
   "version": "3.11.0"
  }
 },
 "nbformat": 4,
 "nbformat_minor": 5
}
