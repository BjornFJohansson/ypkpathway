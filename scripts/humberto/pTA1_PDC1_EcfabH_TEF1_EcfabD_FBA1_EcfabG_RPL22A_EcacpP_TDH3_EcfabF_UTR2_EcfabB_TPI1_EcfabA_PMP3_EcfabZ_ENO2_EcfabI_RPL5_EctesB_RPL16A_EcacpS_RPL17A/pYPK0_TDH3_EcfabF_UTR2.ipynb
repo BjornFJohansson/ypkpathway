{
 "cells": [
  {
   "cell_type": "markdown",
   "id": "10219209",
   "metadata": {},
   "source": [
    "# [![logo](logo.png)](https://github.com/BjornFJohansson/ypkpathway#-ypkpathway) pYPK0_TDH3_EcfabF_UTR2\n",
    "\n",
    "Assembly of a [_Saccharomyces cerevisiae_](http://www.yeastgenome.org) transcriptional unit vector.\n",
    "\n",
    "Made from a linear vector fragment and three PCR products:\n",
    "\n",
    "- a linearized pYPK0 vector for maintenance in _S. cerevisiae_ or _E. coli_ (red dashed line in figure below)\n",
    "- a promoter PCR product from the `pYPKa_Z_TDH3` vector\n",
    "- a gene PCR product from the `pYPKa_A_EcfabF` vector\n",
    "- a terminator PCR product from the `pYPKa_E_UTR2` vector\n",
    "\n",
    "The four linear DNA fragments are joined by _in-vivo_ homologous recombination in a\n",
    "[_Saccharomyces cerevisiae_](http://wiki.yeastgenome.org/index.php/Commonly_used_strains) strain.\n",
    "\n",
    "![tu](tu.png \"tu\")\n",
    "\n",
    "A part of the [pydna](https://pypi.python.org/pypi/pydna/) package is imported in the code cell below."
   ]
  },
  {
   "cell_type": "code",
   "execution_count": 1,
   "id": "a3a21923",
   "metadata": {
    "execution": {
     "iopub.execute_input": "2023-02-04T07:54:46.968496Z",
     "iopub.status.busy": "2023-02-04T07:54:46.964537Z",
     "iopub.status.idle": "2023-02-04T07:54:47.525489Z",
     "shell.execute_reply": "2023-02-04T07:54:47.522344Z"
    }
   },
   "outputs": [],
   "source": [
    "from pydna.parsers import parse_primers\n",
    "from pydna.readers import read\n",
    "from pydna.amplify import pcr\n",
    "from pydna.assembly import Assembly"
   ]
  },
  {
   "cell_type": "markdown",
   "id": "5510f225",
   "metadata": {},
   "source": [
    "The Yeast Pathway Kit [standard primers](standard_primers.fasta) are read into a dictionary in the code cell below."
   ]
  },
  {
   "cell_type": "code",
   "execution_count": 2,
   "id": "6aa7870a",
   "metadata": {
    "execution": {
     "iopub.execute_input": "2023-02-04T07:54:47.537121Z",
     "iopub.status.busy": "2023-02-04T07:54:47.531847Z",
     "iopub.status.idle": "2023-02-04T07:54:47.551738Z",
     "shell.execute_reply": "2023-02-04T07:54:47.551204Z"
    }
   },
   "outputs": [],
   "source": [
    "p = {x.name: x for x in parse_primers(\"standard_primers.fasta\")}"
   ]
  },
  {
   "cell_type": "markdown",
   "id": "5b648616",
   "metadata": {},
   "source": [
    "The backbone vector [pYPK0](pYPK0.gb) is read from a local file in the code cell below."
   ]
  },
  {
   "cell_type": "code",
   "execution_count": 3,
   "id": "5c284563",
   "metadata": {
    "execution": {
     "iopub.execute_input": "2023-02-04T07:54:47.555093Z",
     "iopub.status.busy": "2023-02-04T07:54:47.554680Z",
     "iopub.status.idle": "2023-02-04T07:54:47.564399Z",
     "shell.execute_reply": "2023-02-04T07:54:47.563906Z"
    }
   },
   "outputs": [],
   "source": [
    "backbone = read(\"pYPK0.gb\")"
   ]
  },
  {
   "cell_type": "markdown",
   "id": "d1c8a6c7",
   "metadata": {},
   "source": [
    "The backbone vector is linearized by digestion with [MfeI](https://www.google.com/search?q=MfeI)."
   ]
  },
  {
   "cell_type": "code",
   "execution_count": 4,
   "id": "5939737d",
   "metadata": {
    "execution": {
     "iopub.execute_input": "2023-02-04T07:54:47.568191Z",
     "iopub.status.busy": "2023-02-04T07:54:47.567573Z",
     "iopub.status.idle": "2023-02-04T07:54:47.572406Z",
     "shell.execute_reply": "2023-02-04T07:54:47.571069Z"
    }
   },
   "outputs": [],
   "source": [
    "from Bio.Restriction import MfeI"
   ]
  },
  {
   "cell_type": "code",
   "execution_count": 5,
   "id": "201a3f94",
   "metadata": {
    "execution": {
     "iopub.execute_input": "2023-02-04T07:54:47.579339Z",
     "iopub.status.busy": "2023-02-04T07:54:47.578600Z",
     "iopub.status.idle": "2023-02-04T07:54:47.586178Z",
     "shell.execute_reply": "2023-02-04T07:54:47.585583Z"
    }
   },
   "outputs": [],
   "source": [
    "linear_backbone = backbone.linearize(MfeI)"
   ]
  },
  {
   "cell_type": "markdown",
   "id": "cb4564d0",
   "metadata": {},
   "source": [
    "The pYPKa derived _E. coli_ plasmids containing\n",
    "- [promoter](pYPKa_Z_TDH3.gb)\n",
    "- [gene](pYPKa_A_EcfabF.gb)\n",
    "- [terminator](pYPKa_E_UTR2.gb)\n",
    "\n",
    "are read into three variables below."
   ]
  },
  {
   "cell_type": "code",
   "execution_count": 6,
   "id": "149dbb92",
   "metadata": {
    "execution": {
     "iopub.execute_input": "2023-02-04T07:54:47.589456Z",
     "iopub.status.busy": "2023-02-04T07:54:47.589010Z",
     "iopub.status.idle": "2023-02-04T07:54:47.605563Z",
     "shell.execute_reply": "2023-02-04T07:54:47.605019Z"
    }
   },
   "outputs": [],
   "source": [
    "promoter_template   = read(\"pYPKa_Z_TDH3.gb\")\n",
    "gene_template       = read(\"pYPKa_A_EcfabF.gb\")\n",
    "terminator_template = read(\"pYPKa_E_UTR2.gb\")"
   ]
  },
  {
   "cell_type": "markdown",
   "id": "fc76812b",
   "metadata": {
    "lines_to_next_cell": 0
   },
   "source": [
    "### PCR\n",
    "Three DNA fragments are PCR amplified using [standard primers](standard_primers.fasta).\n",
    "\n",
    "[Suggested PCR programs](#Suggested-PCR-programs) can be found at the end of this document."
   ]
  },
  {
   "cell_type": "code",
   "execution_count": 7,
   "id": "5a81d12f",
   "metadata": {
    "execution": {
     "iopub.execute_input": "2023-02-04T07:54:47.608634Z",
     "iopub.status.busy": "2023-02-04T07:54:47.608341Z",
     "iopub.status.idle": "2023-02-04T07:54:47.616945Z",
     "shell.execute_reply": "2023-02-04T07:54:47.611211Z"
    }
   },
   "outputs": [],
   "source": [
    "\n",
    "fp_prom = p['577_crp585-557']\n",
    "rp_prom = p['567_pCAPsAjiIF']\n",
    "fp_gene = p['468_pCAPs_release_fw']\n",
    "rp_gene = p['467_pCAPs_release_re']\n",
    "fp_term = p['568_pCAPsAjiIR']\n",
    "rp_term = p['578_crp42-70']"
   ]
  },
  {
   "cell_type": "code",
   "execution_count": 8,
   "id": "87bb8949",
   "metadata": {
    "execution": {
     "iopub.execute_input": "2023-02-04T07:54:47.620819Z",
     "iopub.status.busy": "2023-02-04T07:54:47.620504Z",
     "iopub.status.idle": "2023-02-04T07:54:47.643689Z",
     "shell.execute_reply": "2023-02-04T07:54:47.643157Z"
    }
   },
   "outputs": [],
   "source": [
    "prom = pcr(fp_prom, rp_prom, promoter_template)\n",
    "gene = pcr(fp_gene, rp_gene, gene_template)\n",
    "term = pcr(fp_term, rp_term, terminator_template)"
   ]
  },
  {
   "cell_type": "code",
   "execution_count": 9,
   "id": "3d554038",
   "metadata": {
    "execution": {
     "iopub.execute_input": "2023-02-04T07:54:47.646434Z",
     "iopub.status.busy": "2023-02-04T07:54:47.646167Z",
     "iopub.status.idle": "2023-02-04T07:54:47.651268Z",
     "shell.execute_reply": "2023-02-04T07:54:47.649979Z"
    }
   },
   "outputs": [],
   "source": [
    "prom.name = \"pYPKa_Z_TDH3\"[8:]\n",
    "gene.name = \"pYPKa_A_EcfabF\"[8:]\n",
    "term.name = \"pYPKa_E_UTR2\"[8:]"
   ]
  },
  {
   "cell_type": "markdown",
   "id": "56145b97",
   "metadata": {},
   "source": [
    "\n",
    "The fragments will be assembled by _in-vivo_ [homologous recombination](http://www.ncbi.nlm.nih.gov/pubmed/2828185):"
   ]
  },
  {
   "cell_type": "code",
   "execution_count": 10,
   "id": "11f54827",
   "metadata": {
    "execution": {
     "iopub.execute_input": "2023-02-04T07:54:47.657847Z",
     "iopub.status.busy": "2023-02-04T07:54:47.657133Z",
     "iopub.status.idle": "2023-02-04T07:54:48.402425Z",
     "shell.execute_reply": "2023-02-04T07:54:48.401753Z"
    }
   },
   "outputs": [
    {
     "data": {
      "text/plain": [
       "Assembly\n",
       "fragments..: 5766bp 930bp 1331bp 960bp\n",
       "limit(bp)..: 31\n",
       "G.nodes....: 10\n",
       "algorithm..: common_sub_strings"
      ]
     },
     "execution_count": 10,
     "metadata": {},
     "output_type": "execute_result"
    }
   ],
   "source": [
    "asm = Assembly((linear_backbone, prom, gene, term), limit=31)\n",
    "asm"
   ]
  },
  {
   "cell_type": "markdown",
   "id": "63984019",
   "metadata": {},
   "source": [
    "The Assembly object above should normally indicate four fragments and eight nodes."
   ]
  },
  {
   "cell_type": "code",
   "execution_count": 11,
   "id": "dbdceb13",
   "metadata": {
    "execution": {
     "iopub.execute_input": "2023-02-04T07:54:48.406284Z",
     "iopub.status.busy": "2023-02-04T07:54:48.405892Z",
     "iopub.status.idle": "2023-02-04T07:54:48.759497Z",
     "shell.execute_reply": "2023-02-04T07:54:48.756422Z"
    },
    "lines_to_next_cell": 0
   },
   "outputs": [
    {
     "data": {
      "text/plain": [
       "[Contig(o8352), Contig(o8352), Contig(o8352), Contig(o7640), Contig(o7640)]"
      ]
     },
     "execution_count": 11,
     "metadata": {},
     "output_type": "execute_result"
    }
   ],
   "source": [
    "candidates = asm.assemble_circular()\n",
    "candidates"
   ]
  },
  {
   "cell_type": "markdown",
   "id": "0acebe80",
   "metadata": {},
   "source": [
    "There should normally be two candidates of equal size. These sequences should be identical."
   ]
  },
  {
   "cell_type": "code",
   "execution_count": 12,
   "id": "16cc3057",
   "metadata": {
    "execution": {
     "iopub.execute_input": "2023-02-04T07:54:48.764925Z",
     "iopub.status.busy": "2023-02-04T07:54:48.764223Z",
     "iopub.status.idle": "2023-02-04T07:54:48.774449Z",
     "shell.execute_reply": "2023-02-04T07:54:48.771561Z"
    },
    "lines_to_next_cell": 0
   },
   "outputs": [],
   "source": [
    "candidate, *rest = candidates"
   ]
  },
  {
   "cell_type": "code",
   "execution_count": 13,
   "id": "35382784",
   "metadata": {
    "execution": {
     "iopub.execute_input": "2023-02-04T07:54:48.779770Z",
     "iopub.status.busy": "2023-02-04T07:54:48.779267Z",
     "iopub.status.idle": "2023-02-04T07:54:48.808851Z",
     "shell.execute_reply": "2023-02-04T07:54:48.808078Z"
    },
    "lines_to_next_cell": 0
   },
   "outputs": [
    {
     "data": {
      "text/plain": [
       "True"
      ]
     },
     "execution_count": 13,
     "metadata": {},
     "output_type": "execute_result"
    }
   ],
   "source": [
    "candidate.cseguid() == rest[0].cseguid()"
   ]
  },
  {
   "cell_type": "code",
   "execution_count": 14,
   "id": "b1195bf4",
   "metadata": {
    "execution": {
     "iopub.execute_input": "2023-02-04T07:54:48.812735Z",
     "iopub.status.busy": "2023-02-04T07:54:48.812395Z",
     "iopub.status.idle": "2023-02-04T07:54:48.818930Z",
     "shell.execute_reply": "2023-02-04T07:54:48.817901Z"
    },
    "lines_to_next_cell": 0
   },
   "outputs": [
    {
     "data": {
      "text/plain": [
       " -|pYPK0_lin|168\n",
       "|            \\/\n",
       "|            /\\\n",
       "|            168|TDH3|48\n",
       "|                     \\/\n",
       "|                     /\\\n",
       "|                     48|EcfabF|37\n",
       "|                               \\/\n",
       "|                               /\\\n",
       "|                               37|UTR2|276\n",
       "|                                       \\/\n",
       "|                                       /\\\n",
       "|                                       276-\n",
       "|                                          |\n",
       " ------------------------------------------"
      ]
     },
     "execution_count": 14,
     "metadata": {},
     "output_type": "execute_result"
    }
   ],
   "source": [
    "candidate.figure()"
   ]
  },
  {
   "cell_type": "markdown",
   "id": "4a57252a",
   "metadata": {},
   "source": [
    "The candidate vector is synchronized to the 577 primer. This means that\n",
    "the plasmid origin is shifted so that it matches the backbone vector."
   ]
  },
  {
   "cell_type": "code",
   "execution_count": 15,
   "id": "be4bcefa",
   "metadata": {
    "execution": {
     "iopub.execute_input": "2023-02-04T07:54:48.824923Z",
     "iopub.status.busy": "2023-02-04T07:54:48.823166Z",
     "iopub.status.idle": "2023-02-04T07:54:49.539885Z",
     "shell.execute_reply": "2023-02-04T07:54:49.539185Z"
    }
   },
   "outputs": [],
   "source": [
    "result = candidate.synced(fp_prom)"
   ]
  },
  {
   "cell_type": "markdown",
   "id": "8707fa0e",
   "metadata": {},
   "source": [
    "### Diagnostic PCR confirmation\n",
    "\n",
    "The structure of the final vector is confirmed by two\n",
    "separate PCR reactions, one for the promoter and gene and\n",
    "one for the gene and terminator.\n",
    "\n",
    "PCR using standard primers 577 and 467 to amplify promoter and gene."
   ]
  },
  {
   "cell_type": "code",
   "execution_count": 16,
   "id": "d329b2eb",
   "metadata": {
    "execution": {
     "iopub.execute_input": "2023-02-04T07:54:49.545095Z",
     "iopub.status.busy": "2023-02-04T07:54:49.544854Z",
     "iopub.status.idle": "2023-02-04T07:54:49.568949Z",
     "shell.execute_reply": "2023-02-04T07:54:49.566637Z"
    }
   },
   "outputs": [],
   "source": [
    "product = pcr( fp_prom, rp_gene, result)"
   ]
  },
  {
   "cell_type": "markdown",
   "id": "df07de7c",
   "metadata": {},
   "source": [
    "A correct clone should give this size in base pairs:"
   ]
  },
  {
   "cell_type": "code",
   "execution_count": 17,
   "id": "88600e1d",
   "metadata": {
    "execution": {
     "iopub.execute_input": "2023-02-04T07:54:49.574858Z",
     "iopub.status.busy": "2023-02-04T07:54:49.574150Z",
     "iopub.status.idle": "2023-02-04T07:54:49.578763Z",
     "shell.execute_reply": "2023-02-04T07:54:49.578082Z"
    }
   },
   "outputs": [
    {
     "name": "stdout",
     "output_type": "stream",
     "text": [
      "2211\n"
     ]
    }
   ],
   "source": [
    "print(len(product))"
   ]
  },
  {
   "cell_type": "markdown",
   "id": "70bf0f5a",
   "metadata": {},
   "source": [
    "If the promoter is missing from the assembly, the PCR product will have this size in base pairs:"
   ]
  },
  {
   "cell_type": "code",
   "execution_count": 18,
   "id": "ce0381cd",
   "metadata": {
    "execution": {
     "iopub.execute_input": "2023-02-04T07:54:49.584954Z",
     "iopub.status.busy": "2023-02-04T07:54:49.583992Z",
     "iopub.status.idle": "2023-02-04T07:54:49.590106Z",
     "shell.execute_reply": "2023-02-04T07:54:49.589486Z"
    }
   },
   "outputs": [
    {
     "name": "stdout",
     "output_type": "stream",
     "text": [
      "1281\n"
     ]
    }
   ],
   "source": [
    "print(len(product) - len(prom))"
   ]
  },
  {
   "cell_type": "markdown",
   "id": "4671e473",
   "metadata": {},
   "source": [
    "If the gene is missing from the assembly, the PCR product will have this size in base pairs:"
   ]
  },
  {
   "cell_type": "code",
   "execution_count": 19,
   "id": "5429edcf",
   "metadata": {
    "execution": {
     "iopub.execute_input": "2023-02-04T07:54:49.594849Z",
     "iopub.status.busy": "2023-02-04T07:54:49.594507Z",
     "iopub.status.idle": "2023-02-04T07:54:49.599797Z",
     "shell.execute_reply": "2023-02-04T07:54:49.598657Z"
    }
   },
   "outputs": [
    {
     "name": "stdout",
     "output_type": "stream",
     "text": [
      "880\n"
     ]
    }
   ],
   "source": [
    "print(len(product) - len(gene))"
   ]
  },
  {
   "cell_type": "markdown",
   "id": "e12cb38e",
   "metadata": {},
   "source": [
    "PCR using standard primers 468 and 578 to amplify gene and terminator."
   ]
  },
  {
   "cell_type": "code",
   "execution_count": 20,
   "id": "734a3d69",
   "metadata": {
    "execution": {
     "iopub.execute_input": "2023-02-04T07:54:49.606992Z",
     "iopub.status.busy": "2023-02-04T07:54:49.606700Z",
     "iopub.status.idle": "2023-02-04T07:54:49.635239Z",
     "shell.execute_reply": "2023-02-04T07:54:49.634124Z"
    }
   },
   "outputs": [],
   "source": [
    "product2 = pcr( fp_gene, rp_term, result)"
   ]
  },
  {
   "cell_type": "markdown",
   "id": "289b2713",
   "metadata": {},
   "source": [
    "A correct clone should give this size:"
   ]
  },
  {
   "cell_type": "code",
   "execution_count": 21,
   "id": "05211e69",
   "metadata": {
    "execution": {
     "iopub.execute_input": "2023-02-04T07:54:49.641399Z",
     "iopub.status.busy": "2023-02-04T07:54:49.640901Z",
     "iopub.status.idle": "2023-02-04T07:54:49.646330Z",
     "shell.execute_reply": "2023-02-04T07:54:49.645606Z"
    }
   },
   "outputs": [
    {
     "name": "stdout",
     "output_type": "stream",
     "text": [
      "2254\n"
     ]
    }
   ],
   "source": [
    "print(len(product2))"
   ]
  },
  {
   "cell_type": "markdown",
   "id": "1a6d76bd",
   "metadata": {},
   "source": [
    "If the gene is missing from the assembly, the PCR product will have this size in base pairs:"
   ]
  },
  {
   "cell_type": "code",
   "execution_count": 22,
   "id": "27d052a0",
   "metadata": {
    "execution": {
     "iopub.execute_input": "2023-02-04T07:54:49.648762Z",
     "iopub.status.busy": "2023-02-04T07:54:49.648553Z",
     "iopub.status.idle": "2023-02-04T07:54:49.660147Z",
     "shell.execute_reply": "2023-02-04T07:54:49.658809Z"
    }
   },
   "outputs": [
    {
     "name": "stdout",
     "output_type": "stream",
     "text": [
      "923\n"
     ]
    }
   ],
   "source": [
    "print(len(product2) - len(gene))"
   ]
  },
  {
   "cell_type": "markdown",
   "id": "cb809639",
   "metadata": {},
   "source": [
    "If the terminator is missing from the assembly, the PCR product will have this size in base pairs:"
   ]
  },
  {
   "cell_type": "code",
   "execution_count": 23,
   "id": "b983057d",
   "metadata": {
    "execution": {
     "iopub.execute_input": "2023-02-04T07:54:49.665123Z",
     "iopub.status.busy": "2023-02-04T07:54:49.664449Z",
     "iopub.status.idle": "2023-02-04T07:54:49.673258Z",
     "shell.execute_reply": "2023-02-04T07:54:49.672449Z"
    }
   },
   "outputs": [
    {
     "name": "stdout",
     "output_type": "stream",
     "text": [
      "1294\n"
     ]
    }
   ],
   "source": [
    "print(len(product2) - len(term))"
   ]
  },
  {
   "cell_type": "markdown",
   "id": "e1cb3d1f",
   "metadata": {},
   "source": [
    "The cseguid checksum for the resulting plasmid is calculated for future reference.\n",
    "The [cseguid checksum](http://pydna.readthedocs.org/en/latest/pydna.html#pydna.utils.cseguid)\n",
    "uniquely identifies a circular double stranded sequence."
   ]
  },
  {
   "cell_type": "code",
   "execution_count": 24,
   "id": "bfa9ced1",
   "metadata": {
    "execution": {
     "iopub.execute_input": "2023-02-04T07:54:49.678263Z",
     "iopub.status.busy": "2023-02-04T07:54:49.677817Z",
     "iopub.status.idle": "2023-02-04T07:54:49.692355Z",
     "shell.execute_reply": "2023-02-04T07:54:49.691768Z"
    }
   },
   "outputs": [
    {
     "name": "stdout",
     "output_type": "stream",
     "text": [
      "Ji2VsX_-J4Osso-RMQSzGU7j1ME\n"
     ]
    }
   ],
   "source": [
    "print(result.cseguid())"
   ]
  },
  {
   "cell_type": "markdown",
   "id": "30f936f7",
   "metadata": {},
   "source": [
    "The file name is based on the promoter, gene and terminator designations."
   ]
  },
  {
   "cell_type": "code",
   "execution_count": 25,
   "id": "e5c6ea32",
   "metadata": {
    "execution": {
     "iopub.execute_input": "2023-02-04T07:54:49.697642Z",
     "iopub.status.busy": "2023-02-04T07:54:49.697192Z",
     "iopub.status.idle": "2023-02-04T07:54:49.705304Z",
     "shell.execute_reply": "2023-02-04T07:54:49.700138Z"
    }
   },
   "outputs": [],
   "source": [
    "result.locus = f\"tu:{gene.name}\"[:16]\n",
    "result.definition = \"pYPK0_TDH3_EcfabF_UTR2\""
   ]
  },
  {
   "cell_type": "markdown",
   "id": "8ee3ec68",
   "metadata": {},
   "source": [
    "Sequence is stamped with cseguid checksum. This can be used to verify the\n",
    "integrity of the sequence file."
   ]
  },
  {
   "cell_type": "code",
   "execution_count": 26,
   "id": "6e3c3ebe",
   "metadata": {
    "execution": {
     "iopub.execute_input": "2023-02-04T07:54:49.710037Z",
     "iopub.status.busy": "2023-02-04T07:54:49.709145Z",
     "iopub.status.idle": "2023-02-04T07:54:49.723662Z",
     "shell.execute_reply": "2023-02-04T07:54:49.722967Z"
    }
   },
   "outputs": [
    {
     "data": {
      "text/plain": [
       "Ji2VsX_-J4Osso-RMQSzGU7j1ME"
      ]
     },
     "execution_count": 26,
     "metadata": {},
     "output_type": "execute_result"
    }
   ],
   "source": [
    "result.stamp(\"cSEGUID\")"
   ]
  },
  {
   "cell_type": "markdown",
   "id": "194cfa68",
   "metadata": {},
   "source": [
    "Write sequence to a local file."
   ]
  },
  {
   "cell_type": "code",
   "execution_count": 27,
   "id": "1db103f3",
   "metadata": {
    "execution": {
     "iopub.execute_input": "2023-02-04T07:54:49.729066Z",
     "iopub.status.busy": "2023-02-04T07:54:49.728631Z",
     "iopub.status.idle": "2023-02-04T07:54:49.755997Z",
     "shell.execute_reply": "2023-02-04T07:54:49.755159Z"
    }
   },
   "outputs": [
    {
     "data": {
      "text/html": [
       "<font face=monospace><a href='pYPK0_TDH3_EcfabF_UTR2.gb' target='_blank'>pYPK0_TDH3_EcfabF_UTR2.gb</a></font><br>"
      ]
     },
     "metadata": {},
     "output_type": "display_data"
    }
   ],
   "source": [
    "result.write(f\"{result.definition}.gb\")"
   ]
  },
  {
   "cell_type": "markdown",
   "id": "a0eb1c2f",
   "metadata": {
    "lines_to_next_cell": 0
   },
   "source": [
    "### Suggested PCR programs\n",
    "\n",
    "For the [amplification](#PCR) of promoter, gene and terminator."
   ]
  },
  {
   "cell_type": "code",
   "execution_count": 28,
   "id": "709f19b6",
   "metadata": {
    "execution": {
     "iopub.execute_input": "2023-02-04T07:54:49.760737Z",
     "iopub.status.busy": "2023-02-04T07:54:49.760042Z",
     "iopub.status.idle": "2023-02-04T07:54:49.765114Z",
     "shell.execute_reply": "2023-02-04T07:54:49.764566Z"
    }
   },
   "outputs": [
    {
     "name": "stdout",
     "output_type": "stream",
     "text": [
      "577_crp585-557 567_pCAPsAjiIF\n",
      "|95°C|95°C               |    |tmf:64.6\n",
      "|____|_____          72°C|72°C|tmr:69.7\n",
      "|3min|30s  \\ 57.1°C _____|____|45s/kb\n",
      "|    |      \\______/ 0:41|5min|GC 38%\n",
      "|    |       30s         |    |930bp\n"
     ]
    }
   ],
   "source": [
    "print(prom.forward_primer.name, prom.reverse_primer.name)\n",
    "print(prom.program())"
   ]
  },
  {
   "cell_type": "code",
   "execution_count": 29,
   "id": "3ac5505d",
   "metadata": {
    "execution": {
     "iopub.execute_input": "2023-02-04T07:54:49.771655Z",
     "iopub.status.busy": "2023-02-04T07:54:49.771017Z",
     "iopub.status.idle": "2023-02-04T07:54:49.778670Z",
     "shell.execute_reply": "2023-02-04T07:54:49.777860Z"
    }
   },
   "outputs": [
    {
     "name": "stdout",
     "output_type": "stream",
     "text": [
      "468_pCAPs_release_fw 467_pCAPs_release_re\n",
      "|95°C|95°C               |    |tmf:76.9\n",
      "|____|_____          72°C|72°C|tmr:67.9\n",
      "|3min|30s  \\ 62.3°C _____|____|45s/kb\n",
      "|    |      \\______/ 0:59|5min|GC 53%\n",
      "|    |       30s         |    |1331bp\n"
     ]
    }
   ],
   "source": [
    "print(gene.forward_primer.name, gene.reverse_primer.name)\n",
    "print(gene.program())"
   ]
  },
  {
   "cell_type": "code",
   "execution_count": 30,
   "id": "3559715a",
   "metadata": {
    "execution": {
     "iopub.execute_input": "2023-02-04T07:54:49.781479Z",
     "iopub.status.busy": "2023-02-04T07:54:49.781094Z",
     "iopub.status.idle": "2023-02-04T07:54:49.789524Z",
     "shell.execute_reply": "2023-02-04T07:54:49.788325Z"
    }
   },
   "outputs": [
    {
     "name": "stdout",
     "output_type": "stream",
     "text": [
      "568_pCAPsAjiIR 578_crp42-70\n",
      "|95°C|95°C               |    |tmf:66.1\n",
      "|____|_____          72°C|72°C|tmr:65.0\n",
      "|3min|30s  \\ 57.5°C _____|____|45s/kb\n",
      "|    |      \\______/ 0:43|5min|GC 40%\n",
      "|    |       30s         |    |960bp\n"
     ]
    }
   ],
   "source": [
    "print(term.forward_primer.name, term.reverse_primer.name)\n",
    "print(term.program())"
   ]
  }
 ],
 "metadata": {
  "jupytext": {
   "main_language": "python",
   "text_representation": {
    "extension": ".py",
    "format_name": "percent",
    "format_version": "1.3",
    "jupytext_version": "1.14.0"
   }
  },
  "language_info": {
   "codemirror_mode": {
    "name": "ipython",
    "version": 3
   },
   "file_extension": ".py",
   "mimetype": "text/x-python",
   "name": "python",
   "nbconvert_exporter": "python",
   "pygments_lexer": "ipython3",
   "version": "3.11.0"
  }
 },
 "nbformat": 4,
 "nbformat_minor": 5
}
