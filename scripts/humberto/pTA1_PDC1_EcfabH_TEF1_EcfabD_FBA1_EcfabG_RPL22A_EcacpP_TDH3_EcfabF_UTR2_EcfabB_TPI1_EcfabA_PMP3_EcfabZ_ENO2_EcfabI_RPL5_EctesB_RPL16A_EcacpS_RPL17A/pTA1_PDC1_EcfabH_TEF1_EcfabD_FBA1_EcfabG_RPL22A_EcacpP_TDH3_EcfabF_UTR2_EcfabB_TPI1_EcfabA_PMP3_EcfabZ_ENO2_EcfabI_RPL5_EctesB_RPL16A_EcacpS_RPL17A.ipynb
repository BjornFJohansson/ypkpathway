{
 "cells": [
  {
   "cell_type": "markdown",
   "id": "cb866387",
   "metadata": {
    "lines_to_next_cell": 0
   },
   "source": [
    "# [![logo](logo.png)](https://github.com/BjornFJohansson/ypkpathway#-ypkpathway) pTA1_PDC1_EcfabH_TEF1_EcfabD_FBA1_EcfabG_RPL22A_EcacpP_TDH3_EcfabF_UTR2_EcfabB_TPI1_EcfabA_PMP3_EcfabZ_ENO2_EcfabI_RPL5_EctesB_RPL16A_EcacpS_RPL17A\n",
    "\n",
    "Assembly of 11 transcriptional units\n",
    "(single gene expression) vectors into a pathway.\n",
    "\n",
    "Jupyter notebooks describing the single gene expression vectors are linked\n",
    "at the end of this document.\n",
    "Specific primers needed are also listed.\n",
    "\n",
    "![pathway with N genes](pw.png \"pathway with N genes\")"
   ]
  },
  {
   "cell_type": "code",
   "execution_count": 1,
   "id": "aaf63b37",
   "metadata": {
    "execution": {
     "iopub.execute_input": "2023-02-04T07:55:44.897487Z",
     "iopub.status.busy": "2023-02-04T07:55:44.896553Z",
     "iopub.status.idle": "2023-02-04T07:55:45.252158Z",
     "shell.execute_reply": "2023-02-04T07:55:45.251518Z"
    }
   },
   "outputs": [],
   "source": [
    "from pydna.parsers import parse_primers\n",
    "from pydna.readers import read\n",
    "from pydna.amplify import pcr\n",
    "from pydna.assembly import Assembly\n",
    "from IPython.display import display\n",
    "from IPython.display import Markdown\n",
    "from pathlib import Path"
   ]
  },
  {
   "cell_type": "markdown",
   "id": "f0ea94fe",
   "metadata": {},
   "source": [
    "The first cassette in the pathway is amplified with standard\n",
    "primers 577 and 778, the last with\n",
    "1123 and 578 and all others with 1123 and 778.\n",
    "Standard primers are listed [here](standard_primers.fasta)."
   ]
  },
  {
   "cell_type": "code",
   "execution_count": 2,
   "id": "18ccd68e",
   "metadata": {
    "execution": {
     "iopub.execute_input": "2023-02-04T07:55:45.256262Z",
     "iopub.status.busy": "2023-02-04T07:55:45.255754Z",
     "iopub.status.idle": "2023-02-04T07:55:45.269766Z",
     "shell.execute_reply": "2023-02-04T07:55:45.269108Z"
    }
   },
   "outputs": [],
   "source": [
    "p = {x.name: x for x in parse_primers(\"standard_primers.fasta\")}"
   ]
  },
  {
   "cell_type": "markdown",
   "id": "574d62f9",
   "metadata": {},
   "source": [
    "Restriction enzymes are imported from the Biopython package."
   ]
  },
  {
   "cell_type": "code",
   "execution_count": 3,
   "id": "a863acbf",
   "metadata": {
    "execution": {
     "iopub.execute_input": "2023-02-04T07:55:45.273475Z",
     "iopub.status.busy": "2023-02-04T07:55:45.273213Z",
     "iopub.status.idle": "2023-02-04T07:55:45.277083Z",
     "shell.execute_reply": "2023-02-04T07:55:45.276381Z"
    }
   },
   "outputs": [],
   "source": [
    "from Bio.Restriction import FspAI, NotI, PacI"
   ]
  },
  {
   "cell_type": "markdown",
   "id": "d2309f3c",
   "metadata": {},
   "source": [
    "The backbone vector is linearized by digestion\n",
    "with [FspAI](https://www.google.com/search?q=FspAI)."
   ]
  },
  {
   "cell_type": "code",
   "execution_count": 4,
   "id": "ce30abce",
   "metadata": {
    "execution": {
     "iopub.execute_input": "2023-02-04T07:55:45.280399Z",
     "iopub.status.busy": "2023-02-04T07:55:45.280018Z",
     "iopub.status.idle": "2023-02-04T07:55:45.293284Z",
     "shell.execute_reply": "2023-02-04T07:55:45.292683Z"
    }
   },
   "outputs": [],
   "source": [
    "backbone = read(\"pTA1.gb\")"
   ]
  },
  {
   "cell_type": "markdown",
   "id": "0e18e951",
   "metadata": {},
   "source": [
    "The cassette__pcr_products variable holds the list of expression\n",
    "cassette PCR products fragments to be assembled."
   ]
  },
  {
   "cell_type": "code",
   "execution_count": 5,
   "id": "1b8ff825",
   "metadata": {
    "execution": {
     "iopub.execute_input": "2023-02-04T07:55:45.296093Z",
     "iopub.status.busy": "2023-02-04T07:55:45.295866Z",
     "iopub.status.idle": "2023-02-04T07:55:45.298917Z",
     "shell.execute_reply": "2023-02-04T07:55:45.298183Z"
    }
   },
   "outputs": [],
   "source": [
    "cassette_pcr_products = []"
   ]
  },
  {
   "cell_type": "markdown",
   "id": "591fd3a0",
   "metadata": {},
   "source": [
    "The expression cassettes comes from a series of single gene expression\n",
    "vectors held in the template_vectors list."
   ]
  },
  {
   "cell_type": "code",
   "execution_count": 6,
   "id": "46f06174",
   "metadata": {
    "execution": {
     "iopub.execute_input": "2023-02-04T07:55:45.303023Z",
     "iopub.status.busy": "2023-02-04T07:55:45.302721Z",
     "iopub.status.idle": "2023-02-04T07:55:45.307541Z",
     "shell.execute_reply": "2023-02-04T07:55:45.306644Z"
    },
    "lines_to_next_cell": 0
   },
   "outputs": [],
   "source": [
    "cassette_vectors = (\"\"\"\n",
    "pYPK0_PDC1_EcfabH_TEF1.gb\n",
    "pYPK0_TEF1_EcfabD_FBA1.gb\n",
    "pYPK0_FBA1_EcfabG_RPL22A.gb\n",
    "pYPK0_RPL22A_EcacpP_TDH3.gb\n",
    "pYPK0_TDH3_EcfabF_UTR2.gb\n",
    "pYPK0_UTR2_EcfabB_TPI1.gb\n",
    "pYPK0_TPI1_EcfabA_PMP3.gb\n",
    "pYPK0_PMP3_EcfabZ_ENO2.gb\n",
    "pYPK0_ENO2_EcfabI_RPL5.gb\n",
    "pYPK0_RPL5_EctesB_RPL16A.gb\n",
    "pYPK0_RPL16A_EcacpS_RPL17A.gb\n",
    "\"\"\").split()"
   ]
  },
  {
   "cell_type": "code",
   "execution_count": 7,
   "id": "e7989e59",
   "metadata": {
    "execution": {
     "iopub.execute_input": "2023-02-04T07:55:45.311006Z",
     "iopub.status.busy": "2023-02-04T07:55:45.310751Z",
     "iopub.status.idle": "2023-02-04T07:55:45.320374Z",
     "shell.execute_reply": "2023-02-04T07:55:45.319812Z"
    },
    "lines_to_next_cell": 0
   },
   "outputs": [
    {
     "data": {
      "text/plain": [
       "['pYPK0_PDC1_EcfabH_TEF1.gb',\n",
       " 'pYPK0_TEF1_EcfabD_FBA1.gb',\n",
       " 'pYPK0_FBA1_EcfabG_RPL22A.gb',\n",
       " 'pYPK0_RPL22A_EcacpP_TDH3.gb',\n",
       " 'pYPK0_TDH3_EcfabF_UTR2.gb',\n",
       " 'pYPK0_UTR2_EcfabB_TPI1.gb',\n",
       " 'pYPK0_TPI1_EcfabA_PMP3.gb',\n",
       " 'pYPK0_PMP3_EcfabZ_ENO2.gb',\n",
       " 'pYPK0_ENO2_EcfabI_RPL5.gb',\n",
       " 'pYPK0_RPL5_EctesB_RPL16A.gb',\n",
       " 'pYPK0_RPL16A_EcacpS_RPL17A.gb']"
      ]
     },
     "execution_count": 7,
     "metadata": {},
     "output_type": "execute_result"
    }
   ],
   "source": [
    "cassette_vectors"
   ]
  },
  {
   "cell_type": "code",
   "execution_count": 8,
   "id": "cdf10b1d",
   "metadata": {
    "execution": {
     "iopub.execute_input": "2023-02-04T07:55:45.322758Z",
     "iopub.status.busy": "2023-02-04T07:55:45.322529Z",
     "iopub.status.idle": "2023-02-04T07:55:45.404419Z",
     "shell.execute_reply": "2023-02-04T07:55:45.403799Z"
    },
    "lines_to_next_cell": 0
   },
   "outputs": [],
   "source": [
    "template_vectors = [read(v) for v in cassette_vectors]"
   ]
  },
  {
   "cell_type": "code",
   "execution_count": 9,
   "id": "661a43ed",
   "metadata": {
    "execution": {
     "iopub.execute_input": "2023-02-04T07:55:45.407128Z",
     "iopub.status.busy": "2023-02-04T07:55:45.406880Z",
     "iopub.status.idle": "2023-02-04T07:55:45.423598Z",
     "shell.execute_reply": "2023-02-04T07:55:45.423093Z"
    },
    "lines_to_next_cell": 0
   },
   "outputs": [
    {
     "data": {
      "text/html": [
       "<a href='pYPK0_PDC1_EcfabH_TEF1.gb' target='_blank'>pYPK0_PDC1_EcfabH_TEF1.gb</a><br>"
      ],
      "text/plain": [
       "File(id)(o8280)"
      ]
     },
     "metadata": {},
     "output_type": "display_data"
    },
    {
     "data": {
      "text/html": [
       "<a href='pYPK0_TEF1_EcfabD_FBA1.gb' target='_blank'>pYPK0_TEF1_EcfabD_FBA1.gb</a><br>"
      ],
      "text/plain": [
       "File(id)(o7931)"
      ]
     },
     "metadata": {},
     "output_type": "display_data"
    },
    {
     "data": {
      "text/html": [
       "<a href='pYPK0_FBA1_EcfabG_RPL22A.gb' target='_blank'>pYPK0_FBA1_EcfabG_RPL22A.gb</a><br>"
      ],
      "text/plain": [
       "File(id)(o7583)"
      ]
     },
     "metadata": {},
     "output_type": "display_data"
    },
    {
     "data": {
      "text/html": [
       "<a href='pYPK0_RPL22A_EcacpP_TDH3.gb' target='_blank'>pYPK0_RPL22A_EcacpP_TDH3.gb</a><br>"
      ],
      "text/plain": [
       "File(id)(o7153)"
      ]
     },
     "metadata": {},
     "output_type": "display_data"
    },
    {
     "data": {
      "text/html": [
       "<a href='pYPK0_TDH3_EcfabF_UTR2.gb' target='_blank'>pYPK0_TDH3_EcfabF_UTR2.gb</a><br>"
      ],
      "text/plain": [
       "File(id)(o8352)"
      ]
     },
     "metadata": {},
     "output_type": "display_data"
    },
    {
     "data": {
      "text/html": [
       "<a href='pYPK0_UTR2_EcfabB_TPI1.gb' target='_blank'>pYPK0_UTR2_EcfabB_TPI1.gb</a><br>"
      ],
      "text/plain": [
       "File(id)(o8215)"
      ]
     },
     "metadata": {},
     "output_type": "display_data"
    },
    {
     "data": {
      "text/html": [
       "<a href='pYPK0_TPI1_EcfabA_PMP3.gb' target='_blank'>pYPK0_TPI1_EcfabA_PMP3.gb</a><br>"
      ],
      "text/plain": [
       "File(id)(o7649)"
      ]
     },
     "metadata": {},
     "output_type": "display_data"
    },
    {
     "data": {
      "text/html": [
       "<a href='pYPK0_PMP3_EcfabZ_ENO2.gb' target='_blank'>pYPK0_PMP3_EcfabZ_ENO2.gb</a><br>"
      ],
      "text/plain": [
       "File(id)(o7524)"
      ]
     },
     "metadata": {},
     "output_type": "display_data"
    },
    {
     "data": {
      "text/html": [
       "<a href='pYPK0_ENO2_EcfabI_RPL5.gb' target='_blank'>pYPK0_ENO2_EcfabI_RPL5.gb</a><br>"
      ],
      "text/plain": [
       "File(id)(o7602)"
      ]
     },
     "metadata": {},
     "output_type": "display_data"
    },
    {
     "data": {
      "text/html": [
       "<a href='pYPK0_RPL5_EctesB_RPL16A.gb' target='_blank'>pYPK0_RPL5_EctesB_RPL16A.gb</a><br>"
      ],
      "text/plain": [
       "File(id)(o7596)"
      ]
     },
     "metadata": {},
     "output_type": "display_data"
    },
    {
     "data": {
      "text/html": [
       "<a href='pYPK0_RPL16A_EcacpS_RPL17A.gb' target='_blank'>pYPK0_RPL16A_EcacpS_RPL17A.gb</a><br>"
      ],
      "text/plain": [
       "File(id)(o7283)"
      ]
     },
     "metadata": {},
     "output_type": "display_data"
    }
   ],
   "source": [
    "for tv in template_vectors:\n",
    "    display(tv)"
   ]
  },
  {
   "cell_type": "markdown",
   "id": "7611b9a3",
   "metadata": {},
   "source": [
    "The first cassette in the pathway.\n",
    "Suggested PCR conditions can be found at the end of this document."
   ]
  },
  {
   "cell_type": "code",
   "execution_count": 10,
   "id": "cb152624",
   "metadata": {
    "execution": {
     "iopub.execute_input": "2023-02-04T07:55:45.426182Z",
     "iopub.status.busy": "2023-02-04T07:55:45.425935Z",
     "iopub.status.idle": "2023-02-04T07:55:45.428904Z",
     "shell.execute_reply": "2023-02-04T07:55:45.428393Z"
    }
   },
   "outputs": [],
   "source": [
    "\n",
    "fp_first = p['577_crp585-557']\n",
    "fp = p['1123_New775']\n",
    "rp = p['778_tp_Eco32I_rev']\n",
    "rp_last = p['578_crp42-70']"
   ]
  },
  {
   "cell_type": "code",
   "execution_count": 11,
   "id": "f15774b0",
   "metadata": {
    "execution": {
     "iopub.execute_input": "2023-02-04T07:55:45.431996Z",
     "iopub.status.busy": "2023-02-04T07:55:45.431578Z",
     "iopub.status.idle": "2023-02-04T07:55:45.447355Z",
     "shell.execute_reply": "2023-02-04T07:55:45.446754Z"
    }
   },
   "outputs": [],
   "source": [
    "cassette_pcr_products.append(pcr(fp_first, rp, template_vectors[0]))"
   ]
  },
  {
   "cell_type": "markdown",
   "id": "c2775f5d",
   "metadata": {},
   "source": [
    "Intermediary cassettes"
   ]
  },
  {
   "cell_type": "code",
   "execution_count": 12,
   "id": "6d9d3006",
   "metadata": {
    "execution": {
     "iopub.execute_input": "2023-02-04T07:55:45.450620Z",
     "iopub.status.busy": "2023-02-04T07:55:45.449951Z",
     "iopub.status.idle": "2023-02-04T07:55:45.606570Z",
     "shell.execute_reply": "2023-02-04T07:55:45.605987Z"
    }
   },
   "outputs": [],
   "source": [
    "cassette_pcr_products.extend(pcr(fp, rp, v)\n",
    "                             for v in template_vectors[1:-1])"
   ]
  },
  {
   "cell_type": "markdown",
   "id": "3286a405",
   "metadata": {},
   "source": [
    "The last cassette in the pathway."
   ]
  },
  {
   "cell_type": "code",
   "execution_count": 13,
   "id": "a9f62d3b",
   "metadata": {
    "execution": {
     "iopub.execute_input": "2023-02-04T07:55:45.609486Z",
     "iopub.status.busy": "2023-02-04T07:55:45.609223Z",
     "iopub.status.idle": "2023-02-04T07:55:45.624398Z",
     "shell.execute_reply": "2023-02-04T07:55:45.623705Z"
    }
   },
   "outputs": [],
   "source": [
    "cassette_pcr_products.append(pcr(fp, rp_last, template_vectors[-1]))"
   ]
  },
  {
   "cell_type": "markdown",
   "id": "0c098dd9",
   "metadata": {},
   "source": [
    "The cassettes are given names based on the tu cassette"
   ]
  },
  {
   "cell_type": "code",
   "execution_count": 14,
   "id": "11642e21",
   "metadata": {
    "execution": {
     "iopub.execute_input": "2023-02-04T07:55:45.627451Z",
     "iopub.status.busy": "2023-02-04T07:55:45.626938Z",
     "iopub.status.idle": "2023-02-04T07:55:45.630717Z",
     "shell.execute_reply": "2023-02-04T07:55:45.630130Z"
    }
   },
   "outputs": [
    {
     "name": "stdout",
     "output_type": "stream",
     "text": [
      "PDC1_EcfabH_TEF1\n",
      "TEF1_EcfabD_FBA1\n",
      "FBA1_EcfabG_RPL22A\n",
      "RPL22A_EcacpP_TDH3\n",
      "TDH3_EcfabF_UTR2\n",
      "UTR2_EcfabB_TPI1\n",
      "TPI1_EcfabA_PMP3\n",
      "PMP3_EcfabZ_ENO2\n",
      "ENO2_EcfabI_RPL5\n",
      "RPL5_EctesB_RPL16A\n",
      "RPL16A_EcacpS_RPL17A\n"
     ]
    }
   ],
   "source": [
    "for cp, ve in zip(cassette_pcr_products, cassette_vectors):\n",
    "    cp.name = ve[:-3].split(\"_\", maxsplit=1)[1]\n",
    "    print(cp.name)"
   ]
  },
  {
   "cell_type": "markdown",
   "id": "f93948bc",
   "metadata": {},
   "source": [
    "Cassettes and linear plasmid backbone are joined by homologous recombination"
   ]
  },
  {
   "cell_type": "code",
   "execution_count": 15,
   "id": "a2eee756",
   "metadata": {
    "execution": {
     "iopub.execute_input": "2023-02-04T07:55:45.633407Z",
     "iopub.status.busy": "2023-02-04T07:55:45.633027Z",
     "iopub.status.idle": "2023-02-04T07:55:50.991056Z",
     "shell.execute_reply": "2023-02-04T07:55:50.990409Z"
    }
   },
   "outputs": [
    {
     "data": {
      "text/plain": [
       "Assembly\n",
       "fragments..: 6175bp 2780bp 2282bp 1934bp 1504bp 2703bp 2566bp 2000bp 1875bp 1953bp 1947bp 1916bp\n",
       "limit(bp)..: 110\n",
       "G.nodes....: 24\n",
       "algorithm..: common_sub_strings"
      ]
     },
     "execution_count": 15,
     "metadata": {},
     "output_type": "execute_result"
    }
   ],
   "source": [
    "asm = Assembly([backbone.linearize(FspAI)] + cassette_pcr_products,\n",
    "               limit=167-47-10)\n",
    "asm"
   ]
  },
  {
   "cell_type": "markdown",
   "id": "0dc59033",
   "metadata": {},
   "source": [
    "There should normally be two candidates of equal size.\n",
    "These sequences should be identical."
   ]
  },
  {
   "cell_type": "code",
   "execution_count": 16,
   "id": "88b3241b",
   "metadata": {
    "execution": {
     "iopub.execute_input": "2023-02-04T07:55:50.994240Z",
     "iopub.status.busy": "2023-02-04T07:55:50.993976Z",
     "iopub.status.idle": "2023-02-04T07:55:51.304421Z",
     "shell.execute_reply": "2023-02-04T07:55:51.303569Z"
    },
    "lines_to_next_cell": 0
   },
   "outputs": [
    {
     "data": {
      "text/plain": [
       "[Contig(o23036), Contig(o23036)]"
      ]
     },
     "execution_count": 16,
     "metadata": {},
     "output_type": "execute_result"
    }
   ],
   "source": [
    "candidates = asm.assemble_circular()\n",
    "candidates"
   ]
  },
  {
   "cell_type": "code",
   "execution_count": 17,
   "id": "3c810722",
   "metadata": {
    "execution": {
     "iopub.execute_input": "2023-02-04T07:55:51.311812Z",
     "iopub.status.busy": "2023-02-04T07:55:51.311200Z",
     "iopub.status.idle": "2023-02-04T07:55:51.316269Z",
     "shell.execute_reply": "2023-02-04T07:55:51.315230Z"
    },
    "lines_to_next_cell": 0
   },
   "outputs": [],
   "source": [
    "candidate, *rest = candidates"
   ]
  },
  {
   "cell_type": "code",
   "execution_count": 18,
   "id": "2a251ac8",
   "metadata": {
    "execution": {
     "iopub.execute_input": "2023-02-04T07:55:51.322661Z",
     "iopub.status.busy": "2023-02-04T07:55:51.322193Z",
     "iopub.status.idle": "2023-02-04T07:55:51.362977Z",
     "shell.execute_reply": "2023-02-04T07:55:51.362471Z"
    },
    "lines_to_next_cell": 0
   },
   "outputs": [
    {
     "data": {
      "text/plain": [
       "True"
      ]
     },
     "execution_count": 18,
     "metadata": {},
     "output_type": "execute_result"
    }
   ],
   "source": [
    "candidate.cseguid() == rest[0].cseguid()"
   ]
  },
  {
   "cell_type": "markdown",
   "id": "580a70d1",
   "metadata": {},
   "source": [
    "This assembly figure below shows how the fragments came together."
   ]
  },
  {
   "cell_type": "code",
   "execution_count": 19,
   "id": "167ab0d8",
   "metadata": {
    "execution": {
     "iopub.execute_input": "2023-02-04T07:55:51.365985Z",
     "iopub.status.busy": "2023-02-04T07:55:51.365586Z",
     "iopub.status.idle": "2023-02-04T07:55:51.370012Z",
     "shell.execute_reply": "2023-02-04T07:55:51.369356Z"
    }
   },
   "outputs": [
    {
     "data": {
      "text/plain": [
       " -|pTA1_lin|124\n",
       "|           \\/\n",
       "|           /\\\n",
       "|           124|PDC1_EcfabH_TEF1|593\n",
       "|                                \\/\n",
       "|                                /\\\n",
       "|                                593|TEF1_EcfabD_FBA1|644\n",
       "|                                                     \\/\n",
       "|                                                     /\\\n",
       "|                                                     644|FBA1_EcfabG_RPL22A|440\n",
       "|                                                                            \\/\n",
       "|                                                                            /\\\n",
       "|                                                                            440|RPL22A_EcacpP_TDH3|712\n",
       "|                                                                                                   \\/\n",
       "|                                                                                                   /\\\n",
       "|                                                                                                   712|TDH3_EcfabF_UTR2|634\n",
       "|                                                                                                                        \\/\n",
       "|                                                                                                                        /\\\n",
       "|                                                                                                                        634|UTR2_EcfabB_TPI1|596\n",
       "|                                                                                                                                             \\/\n",
       "|                                                                                                                                             /\\\n",
       "|                                                                                                                                             596|TPI1_EcfabA_PMP3|770\n",
       "|                                                                                                                                                                  \\/\n",
       "|                                                                                                                                                                  /\\\n",
       "|                                                                                                                                                                  770|PMP3_EcfabZ_ENO2|534\n",
       "|                                                                                                                                                                                       \\/\n",
       "|                                                                                                                                                                                       /\\\n",
       "|                                                                                                                                                                                       534|ENO2_EcfabI_RPL5|515\n",
       "|                                                                                                                                                                                                            \\/\n",
       "|                                                                                                                                                                                                            /\\\n",
       "|                                                                                                                                                                                                            515|RPL5_EctesB_RPL16A|456\n",
       "|                                                                                                                                                                                                                                   \\/\n",
       "|                                                                                                                                                                                                                                   /\\\n",
       "|                                                                                                                                                                                                                                   456|RPL16A_EcacpS_RPL17A|242\n",
       "|                                                                                                                                                                                                                                                            \\/\n",
       "|                                                                                                                                                                                                                                                            /\\\n",
       "|                                                                                                                                                                                                                                                            242-\n",
       "|                                                                                                                                                                                                                                                               |\n",
       " ---------------------------------------------------------------------------------------------------------------------------------------------------------------------------------------------------------------------------------------------------------------"
      ]
     },
     "execution_count": 19,
     "metadata": {},
     "output_type": "execute_result"
    }
   ],
   "source": [
    "candidate.figure()"
   ]
  },
  {
   "cell_type": "markdown",
   "id": "848ce71e",
   "metadata": {},
   "source": [
    "The candidate vector is synchronized to the 577 primer. This means that\n",
    "the plasmid origin is shifted so that it matches the backbone vector."
   ]
  },
  {
   "cell_type": "code",
   "execution_count": 20,
   "id": "0046c1b3",
   "metadata": {
    "execution": {
     "iopub.execute_input": "2023-02-04T07:55:51.375740Z",
     "iopub.status.busy": "2023-02-04T07:55:51.375128Z",
     "iopub.status.idle": "2023-02-04T07:55:52.354530Z",
     "shell.execute_reply": "2023-02-04T07:55:52.353886Z"
    }
   },
   "outputs": [],
   "source": [
    "pw = candidate.synced(fp_first)"
   ]
  },
  {
   "cell_type": "markdown",
   "id": "951ea76d",
   "metadata": {},
   "source": [
    "The cseguid checksum for the resulting plasmid is calculated for future\n",
    "reference.\n",
    "The [cseguid checksum](\n",
    "http://pydna.readthedocs.org/en/latest/pydna.html#pydna.utils.cseguid)\n",
    "uniquely identifies a circular double stranded sequence."
   ]
  },
  {
   "cell_type": "code",
   "execution_count": 21,
   "id": "e9db6b6a",
   "metadata": {
    "execution": {
     "iopub.execute_input": "2023-02-04T07:55:52.357413Z",
     "iopub.status.busy": "2023-02-04T07:55:52.357173Z",
     "iopub.status.idle": "2023-02-04T07:55:52.379607Z",
     "shell.execute_reply": "2023-02-04T07:55:52.378940Z"
    }
   },
   "outputs": [
    {
     "data": {
      "text/plain": [
       "'cSOfHLk-tM7UC6pEQtu2iwh720w'"
      ]
     },
     "execution_count": 21,
     "metadata": {},
     "output_type": "execute_result"
    }
   ],
   "source": [
    "pw.cseguid()"
   ]
  },
  {
   "cell_type": "markdown",
   "id": "aac7bb9b",
   "metadata": {},
   "source": [
    "The file is given a name based on the sequence of expressed genes."
   ]
  },
  {
   "cell_type": "code",
   "execution_count": 22,
   "id": "1d78696c",
   "metadata": {
    "execution": {
     "iopub.execute_input": "2023-02-04T07:55:52.382612Z",
     "iopub.status.busy": "2023-02-04T07:55:52.382201Z",
     "iopub.status.idle": "2023-02-04T07:55:52.387051Z",
     "shell.execute_reply": "2023-02-04T07:55:52.386268Z"
    }
   },
   "outputs": [],
   "source": [
    "pw.locus = \"pw\"\n",
    "pw.definition = \"pTA1_PDC1_EcfabH_TEF1_EcfabD_FBA1_EcfabG_RPL22A_EcacpP_TDH3_EcfabF_UTR2_EcfabB_TPI1_EcfabA_PMP3_EcfabZ_ENO2_EcfabI_RPL5_EctesB_RPL16A_EcacpS_RPL17A\""
   ]
  },
  {
   "cell_type": "markdown",
   "id": "f6ad8118",
   "metadata": {},
   "source": [
    "Sequence stamped with cseguid checksum.\n",
    "This can be used to verify the integrity of the sequence file."
   ]
  },
  {
   "cell_type": "code",
   "execution_count": 23,
   "id": "cc518104",
   "metadata": {
    "execution": {
     "iopub.execute_input": "2023-02-04T07:55:52.389932Z",
     "iopub.status.busy": "2023-02-04T07:55:52.389469Z",
     "iopub.status.idle": "2023-02-04T07:55:52.410785Z",
     "shell.execute_reply": "2023-02-04T07:55:52.410079Z"
    }
   },
   "outputs": [
    {
     "data": {
      "text/plain": [
       "cSOfHLk-tM7UC6pEQtu2iwh720w"
      ]
     },
     "execution_count": 23,
     "metadata": {},
     "output_type": "execute_result"
    }
   ],
   "source": [
    "pw.stamp(\"cSEGUID\")"
   ]
  },
  {
   "cell_type": "markdown",
   "id": "a6420ef8",
   "metadata": {},
   "source": [
    "Write sequence to a local file."
   ]
  },
  {
   "cell_type": "code",
   "execution_count": 24,
   "id": "ff950ff8",
   "metadata": {
    "execution": {
     "iopub.execute_input": "2023-02-04T07:55:52.413572Z",
     "iopub.status.busy": "2023-02-04T07:55:52.413089Z",
     "iopub.status.idle": "2023-02-04T07:55:52.425659Z",
     "shell.execute_reply": "2023-02-04T07:55:52.425037Z"
    }
   },
   "outputs": [
    {
     "name": "stderr",
     "output_type": "stream",
     "text": [
      "/home/bjorn/anaconda3/envs/bjorn311/lib/python3.11/site-packages/Bio/SeqIO/InsdcIO.py:555: BiopythonWarning: Annotation 'pTA1_PDC1_EcfabH_TEF1_EcfabD_FBA1_EcfabG_RPL22A_EcacpP_TDH3_EcfabF_UTR2_EcfabB_TPI1_EcfabA_PMP3_EcfabZ_ENO2_EcfabI_RPL5_EctesB_RPL16A_EcacpS_RPL17A.' too long\n",
      "  warnings.warn(f\"Annotation {text!r} too long\", BiopythonWarning)\n"
     ]
    },
    {
     "data": {
      "text/html": [
       "<font face=monospace><a href='pTA1_PDC1_EcfabH_TEF1_EcfabD_FBA1_EcfabG_RPL22A_EcacpP_TDH3_EcfabF_UTR2_EcfabB_TPI1_EcfabA_PMP3_EcfabZ_ENO2_EcfabI_RPL5_EctesB_RPL16A_EcacpS_RPL17A.gb' target='_blank'>pTA1_PDC1_EcfabH_TEF1_EcfabD_FBA1_EcfabG_RPL22A_EcacpP_TDH3_EcfabF_UTR2_EcfabB_TPI1_EcfabA_PMP3_EcfabZ_ENO2_EcfabI_RPL5_EctesB_RPL16A_EcacpS_RPL17A.gb</a></font><br>"
      ]
     },
     "metadata": {},
     "output_type": "display_data"
    }
   ],
   "source": [
    "pw.write(\"pTA1_PDC1_EcfabH_TEF1_EcfabD_FBA1_EcfabG_RPL22A_EcacpP_TDH3_EcfabF_UTR2_EcfabB_TPI1_EcfabA_PMP3_EcfabZ_ENO2_EcfabI_RPL5_EctesB_RPL16A_EcacpS_RPL17A.gb\")"
   ]
  },
  {
   "cell_type": "markdown",
   "id": "2b5f7c3a",
   "metadata": {},
   "source": [
    "The pathway can be extended by digestion with either NotI or PacI or both\n",
    "provided that the enzymes cut once in the final pathway sequence."
   ]
  },
  {
   "cell_type": "code",
   "execution_count": 25,
   "id": "f01cf278",
   "metadata": {
    "execution": {
     "iopub.execute_input": "2023-02-04T07:55:52.428358Z",
     "iopub.status.busy": "2023-02-04T07:55:52.428051Z",
     "iopub.status.idle": "2023-02-04T07:55:52.490454Z",
     "shell.execute_reply": "2023-02-04T07:55:52.489820Z"
    }
   },
   "outputs": [
    {
     "name": "stdout",
     "output_type": "stream",
     "text": [
      "NotI cuts 1 time(s) and PacI cuts 2 time(s) in the final pathway.\n"
     ]
    }
   ],
   "source": [
    "print(f\"NotI cuts {len(pw.cut(NotI))} time(s) and PacI cuts \"\n",
    "      f\"{len(pw.cut(PacI))} time(s) in the final pathway.\")"
   ]
  },
  {
   "cell_type": "markdown",
   "id": "33a4b760",
   "metadata": {
    "lines_to_next_cell": 0
   },
   "source": [
    "### Transcriptional unit (single gene expression) vectors needed."
   ]
  },
  {
   "cell_type": "code",
   "execution_count": 26,
   "id": "66aaf687",
   "metadata": {
    "execution": {
     "iopub.execute_input": "2023-02-04T07:55:52.493003Z",
     "iopub.status.busy": "2023-02-04T07:55:52.492776Z",
     "iopub.status.idle": "2023-02-04T07:55:52.514438Z",
     "shell.execute_reply": "2023-02-04T07:55:52.513747Z"
    }
   },
   "outputs": [
    {
     "data": {
      "text/markdown": [
       "[pYPK0_PDC1_EcfabH_TEF1.ipynb](pYPK0_PDC1_EcfabH_TEF1.ipynb)"
      ],
      "text/plain": [
       "<IPython.core.display.Markdown object>"
      ]
     },
     "metadata": {},
     "output_type": "display_data"
    },
    {
     "data": {
      "text/markdown": [
       "[pYPK0_TEF1_EcfabD_FBA1.ipynb](pYPK0_TEF1_EcfabD_FBA1.ipynb)"
      ],
      "text/plain": [
       "<IPython.core.display.Markdown object>"
      ]
     },
     "metadata": {},
     "output_type": "display_data"
    },
    {
     "data": {
      "text/markdown": [
       "[pYPK0_FBA1_EcfabG_RPL22A.ipynb](pYPK0_FBA1_EcfabG_RPL22A.ipynb)"
      ],
      "text/plain": [
       "<IPython.core.display.Markdown object>"
      ]
     },
     "metadata": {},
     "output_type": "display_data"
    },
    {
     "data": {
      "text/markdown": [
       "[pYPK0_RPL22A_EcacpP_TDH3.ipynb](pYPK0_RPL22A_EcacpP_TDH3.ipynb)"
      ],
      "text/plain": [
       "<IPython.core.display.Markdown object>"
      ]
     },
     "metadata": {},
     "output_type": "display_data"
    },
    {
     "data": {
      "text/markdown": [
       "[pYPK0_TDH3_EcfabF_UTR2.ipynb](pYPK0_TDH3_EcfabF_UTR2.ipynb)"
      ],
      "text/plain": [
       "<IPython.core.display.Markdown object>"
      ]
     },
     "metadata": {},
     "output_type": "display_data"
    },
    {
     "data": {
      "text/markdown": [
       "[pYPK0_UTR2_EcfabB_TPI1.ipynb](pYPK0_UTR2_EcfabB_TPI1.ipynb)"
      ],
      "text/plain": [
       "<IPython.core.display.Markdown object>"
      ]
     },
     "metadata": {},
     "output_type": "display_data"
    },
    {
     "data": {
      "text/markdown": [
       "[pYPK0_TPI1_EcfabA_PMP3.ipynb](pYPK0_TPI1_EcfabA_PMP3.ipynb)"
      ],
      "text/plain": [
       "<IPython.core.display.Markdown object>"
      ]
     },
     "metadata": {},
     "output_type": "display_data"
    },
    {
     "data": {
      "text/markdown": [
       "[pYPK0_PMP3_EcfabZ_ENO2.ipynb](pYPK0_PMP3_EcfabZ_ENO2.ipynb)"
      ],
      "text/plain": [
       "<IPython.core.display.Markdown object>"
      ]
     },
     "metadata": {},
     "output_type": "display_data"
    },
    {
     "data": {
      "text/markdown": [
       "[pYPK0_ENO2_EcfabI_RPL5.ipynb](pYPK0_ENO2_EcfabI_RPL5.ipynb)"
      ],
      "text/plain": [
       "<IPython.core.display.Markdown object>"
      ]
     },
     "metadata": {},
     "output_type": "display_data"
    },
    {
     "data": {
      "text/markdown": [
       "[pYPK0_RPL5_EctesB_RPL16A.ipynb](pYPK0_RPL5_EctesB_RPL16A.ipynb)"
      ],
      "text/plain": [
       "<IPython.core.display.Markdown object>"
      ]
     },
     "metadata": {},
     "output_type": "display_data"
    },
    {
     "data": {
      "text/markdown": [
       "[pYPK0_RPL16A_EcacpS_RPL17A.ipynb](pYPK0_RPL16A_EcacpS_RPL17A.ipynb)"
      ],
      "text/plain": [
       "<IPython.core.display.Markdown object>"
      ]
     },
     "metadata": {},
     "output_type": "display_data"
    }
   ],
   "source": [
    "for cv in cassette_vectors:\n",
    "    cassette_vector = Path(cv).with_suffix('.ipynb')\n",
    "    display(Markdown(f\"[{cassette_vector}]({cassette_vector})\"))"
   ]
  },
  {
   "cell_type": "markdown",
   "id": "83bc7e83",
   "metadata": {
    "lines_to_next_cell": 0
   },
   "source": [
    "### Suggested PCR conditions"
   ]
  },
  {
   "cell_type": "code",
   "execution_count": 27,
   "id": "f657f857",
   "metadata": {
    "execution": {
     "iopub.execute_input": "2023-02-04T07:55:52.518631Z",
     "iopub.status.busy": "2023-02-04T07:55:52.518043Z",
     "iopub.status.idle": "2023-02-04T07:55:52.526066Z",
     "shell.execute_reply": "2023-02-04T07:55:52.525539Z"
    }
   },
   "outputs": [
    {
     "name": "stdout",
     "output_type": "stream",
     "text": [
      "\n",
      "\n",
      "\n",
      "\n",
      "\n",
      "product name: PDC1_EcfabH_TEF1\n",
      "forward primer 577_crp585-557\n",
      "reverse primer 778_tp_Eco32I_rev\n",
      "|95°C|95°C               |    |tmf:64.6\n",
      "|____|_____          72°C|72°C|tmr:53.9\n",
      "|3min|30s  \\ 55.5°C _____|____|45s/kb\n",
      "|    |      \\______/ 2:05|5min|GC 43%\n",
      "|    |       30s         |    |2780bp\n",
      "\n",
      "\n",
      "\n",
      "\n",
      "\n",
      "product name: TEF1_EcfabD_FBA1\n",
      "forward primer 1123_New775\n",
      "reverse primer 778_tp_Eco32I_rev\n",
      "|95°C|95°C               |    |tmf:70.4\n",
      "|____|_____          72°C|72°C|tmr:53.9\n",
      "|3min|30s  \\ 55.6°C _____|____|45s/kb\n",
      "|    |      \\______/ 1:42|5min|GC 44%\n",
      "|    |       30s         |    |2282bp\n",
      "\n",
      "\n",
      "\n",
      "\n",
      "\n",
      "product name: FBA1_EcfabG_RPL22A\n",
      "forward primer 1123_New775\n",
      "reverse primer 778_tp_Eco32I_rev\n",
      "|95°C|95°C               |    |tmf:70.4\n",
      "|____|_____          72°C|72°C|tmr:53.9\n",
      "|3min|30s  \\ 54.6°C _____|____|45s/kb\n",
      "|    |      \\______/ 1:27|5min|GC 40%\n",
      "|    |       30s         |    |1934bp\n",
      "\n",
      "\n",
      "\n",
      "\n",
      "\n",
      "product name: RPL22A_EcacpP_TDH3\n",
      "forward primer 1123_New775\n",
      "reverse primer 778_tp_Eco32I_rev\n",
      "|95°C|95°C               |    |tmf:70.4\n",
      "|____|_____          72°C|72°C|tmr:53.9\n",
      "|3min|30s  \\ 53.2°C _____|____|45s/kb\n",
      "|    |      \\______/ 1:07|5min|GC 36%\n",
      "|    |       30s         |    |1504bp\n",
      "\n",
      "\n",
      "\n",
      "\n",
      "\n",
      "product name: TDH3_EcfabF_UTR2\n",
      "forward primer 1123_New775\n",
      "reverse primer 778_tp_Eco32I_rev\n",
      "|95°C|95°C               |    |tmf:70.4\n",
      "|____|_____          72°C|72°C|tmr:53.9\n",
      "|3min|30s  \\ 55.8°C _____|____|45s/kb\n",
      "|    |      \\______/ 2:01|5min|GC 44%\n",
      "|    |       30s         |    |2703bp\n",
      "\n",
      "\n",
      "\n",
      "\n",
      "\n",
      "product name: UTR2_EcfabB_TPI1\n",
      "forward primer 1123_New775\n",
      "reverse primer 778_tp_Eco32I_rev\n",
      "|95°C|95°C               |    |tmf:70.4\n",
      "|____|_____          72°C|72°C|tmr:53.9\n",
      "|3min|30s  \\ 56.4°C _____|____|45s/kb\n",
      "|    |      \\______/ 1:55|5min|GC 46%\n",
      "|    |       30s         |    |2566bp\n",
      "\n",
      "\n",
      "\n",
      "\n",
      "\n",
      "product name: TPI1_EcfabA_PMP3\n",
      "forward primer 1123_New775\n",
      "reverse primer 778_tp_Eco32I_rev\n",
      "|95°C|95°C               |    |tmf:70.4\n",
      "|____|_____          72°C|72°C|tmr:53.9\n",
      "|3min|30s  \\ 55.5°C _____|____|45s/kb\n",
      "|    |      \\______/ 1:30|5min|GC 43%\n",
      "|    |       30s         |    |2000bp\n",
      "\n",
      "\n",
      "\n",
      "\n",
      "\n",
      "product name: PMP3_EcfabZ_ENO2\n",
      "forward primer 1123_New775\n",
      "reverse primer 778_tp_Eco32I_rev\n",
      "|95°C|95°C               |    |tmf:70.4\n",
      "|____|_____          72°C|72°C|tmr:53.9\n",
      "|3min|30s  \\ 55.2°C _____|____|45s/kb\n",
      "|    |      \\______/ 1:24|5min|GC 42%\n",
      "|    |       30s         |    |1875bp\n",
      "\n",
      "\n",
      "\n",
      "\n",
      "\n",
      "product name: ENO2_EcfabI_RPL5\n",
      "forward primer 1123_New775\n",
      "reverse primer 778_tp_Eco32I_rev\n",
      "|95°C|95°C               |    |tmf:70.4\n",
      "|____|_____          72°C|72°C|tmr:53.9\n",
      "|3min|30s  \\ 55.2°C _____|____|45s/kb\n",
      "|    |      \\______/ 1:27|5min|GC 42%\n",
      "|    |       30s         |    |1953bp\n",
      "\n",
      "\n",
      "\n",
      "\n",
      "\n",
      "product name: RPL5_EctesB_RPL16A\n",
      "forward primer 1123_New775\n",
      "reverse primer 778_tp_Eco32I_rev\n",
      "|95°C|95°C               |    |tmf:70.4\n",
      "|____|_____          72°C|72°C|tmr:53.9\n",
      "|3min|30s  \\ 55.8°C _____|____|45s/kb\n",
      "|    |      \\______/ 1:27|5min|GC 44%\n",
      "|    |       30s         |    |1947bp\n",
      "\n",
      "\n",
      "\n",
      "\n",
      "\n",
      "product name: RPL16A_EcacpS_RPL17A\n",
      "forward primer 1123_New775\n",
      "reverse primer 578_crp42-70\n",
      "|95°C|95°C               |    |tmf:70.4\n",
      "|____|_____          72°C|72°C|tmr:65.0\n",
      "|3min|30s  \\ 58.7°C _____|____|45s/kb\n",
      "|    |      \\______/ 1:26|5min|GC 43%\n",
      "|    |       30s         |    |1916bp\n"
     ]
    }
   ],
   "source": [
    "for prd in cassette_pcr_products:\n",
    "    print(\"\\n\\n\\n\\n\")\n",
    "    print(\"product name:\", prd.name)\n",
    "    print(\"forward primer\", prd.forward_primer.name)\n",
    "    print(\"reverse primer\", prd.reverse_primer.name)\n",
    "    print(prd.program())"
   ]
  }
 ],
 "metadata": {
  "jupytext": {
   "main_language": "python",
   "text_representation": {
    "extension": ".py",
    "format_name": "percent",
    "format_version": "1.3",
    "jupytext_version": "1.14.0"
   }
  },
  "language_info": {
   "codemirror_mode": {
    "name": "ipython",
    "version": 3
   },
   "file_extension": ".py",
   "mimetype": "text/x-python",
   "name": "python",
   "nbconvert_exporter": "python",
   "pygments_lexer": "ipython3",
   "version": "3.11.0"
  }
 },
 "nbformat": 4,
 "nbformat_minor": 5
}
