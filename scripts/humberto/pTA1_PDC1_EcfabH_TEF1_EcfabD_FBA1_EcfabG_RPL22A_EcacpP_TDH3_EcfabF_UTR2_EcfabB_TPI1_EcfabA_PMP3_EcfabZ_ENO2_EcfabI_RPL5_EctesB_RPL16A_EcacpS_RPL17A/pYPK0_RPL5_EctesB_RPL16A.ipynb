{
 "cells": [
  {
   "cell_type": "markdown",
   "id": "4f9d653a",
   "metadata": {},
   "source": [
    "# [![logo](logo.png)](https://github.com/BjornFJohansson/ypkpathway#-ypkpathway) pYPK0_RPL5_EctesB_RPL16A\n",
    "\n",
    "Assembly of a [_Saccharomyces cerevisiae_](http://www.yeastgenome.org) transcriptional unit vector.\n",
    "\n",
    "Made from a linear vector fragment and three PCR products:\n",
    "\n",
    "- a linearized pYPK0 vector for maintenance in _S. cerevisiae_ or _E. coli_ (red dashed line in figure below)\n",
    "- a promoter PCR product from the `pYPKa_Z_RPL5` vector\n",
    "- a gene PCR product from the `pYPKa_A_EctesB` vector\n",
    "- a terminator PCR product from the `pYPKa_E_RPL16A` vector\n",
    "\n",
    "The four linear DNA fragments are joined by _in-vivo_ homologous recombination in a\n",
    "[_Saccharomyces cerevisiae_](http://wiki.yeastgenome.org/index.php/Commonly_used_strains) strain.\n",
    "\n",
    "![tu](tu.png \"tu\")\n",
    "\n",
    "A part of the [pydna](https://pypi.python.org/pypi/pydna/) package is imported in the code cell below."
   ]
  },
  {
   "cell_type": "code",
   "execution_count": 1,
   "id": "ba1a32a9",
   "metadata": {
    "execution": {
     "iopub.execute_input": "2023-02-04T07:55:05.327686Z",
     "iopub.status.busy": "2023-02-04T07:55:05.327205Z",
     "iopub.status.idle": "2023-02-04T07:55:05.679914Z",
     "shell.execute_reply": "2023-02-04T07:55:05.679299Z"
    }
   },
   "outputs": [],
   "source": [
    "from pydna.parsers import parse_primers\n",
    "from pydna.readers import read\n",
    "from pydna.amplify import pcr\n",
    "from pydna.assembly import Assembly"
   ]
  },
  {
   "cell_type": "markdown",
   "id": "2bb79e69",
   "metadata": {},
   "source": [
    "The Yeast Pathway Kit [standard primers](standard_primers.fasta) are read into a dictionary in the code cell below."
   ]
  },
  {
   "cell_type": "code",
   "execution_count": 2,
   "id": "bb0b2455",
   "metadata": {
    "execution": {
     "iopub.execute_input": "2023-02-04T07:55:05.683218Z",
     "iopub.status.busy": "2023-02-04T07:55:05.682540Z",
     "iopub.status.idle": "2023-02-04T07:55:05.695871Z",
     "shell.execute_reply": "2023-02-04T07:55:05.694820Z"
    }
   },
   "outputs": [],
   "source": [
    "p = {x.name: x for x in parse_primers(\"standard_primers.fasta\")}"
   ]
  },
  {
   "cell_type": "markdown",
   "id": "31a810bb",
   "metadata": {},
   "source": [
    "The backbone vector [pYPK0](pYPK0.gb) is read from a local file in the code cell below."
   ]
  },
  {
   "cell_type": "code",
   "execution_count": 3,
   "id": "7bf0682d",
   "metadata": {
    "execution": {
     "iopub.execute_input": "2023-02-04T07:55:05.699619Z",
     "iopub.status.busy": "2023-02-04T07:55:05.699328Z",
     "iopub.status.idle": "2023-02-04T07:55:05.712858Z",
     "shell.execute_reply": "2023-02-04T07:55:05.712067Z"
    }
   },
   "outputs": [],
   "source": [
    "backbone = read(\"pYPK0.gb\")"
   ]
  },
  {
   "cell_type": "markdown",
   "id": "54ed8a0f",
   "metadata": {},
   "source": [
    "The backbone vector is linearized by digestion with [MfeI](https://www.google.com/search?q=MfeI)."
   ]
  },
  {
   "cell_type": "code",
   "execution_count": 4,
   "id": "619ec06f",
   "metadata": {
    "execution": {
     "iopub.execute_input": "2023-02-04T07:55:05.716606Z",
     "iopub.status.busy": "2023-02-04T07:55:05.715913Z",
     "iopub.status.idle": "2023-02-04T07:55:05.720490Z",
     "shell.execute_reply": "2023-02-04T07:55:05.719692Z"
    }
   },
   "outputs": [],
   "source": [
    "from Bio.Restriction import MfeI"
   ]
  },
  {
   "cell_type": "code",
   "execution_count": 5,
   "id": "8d9325f4",
   "metadata": {
    "execution": {
     "iopub.execute_input": "2023-02-04T07:55:05.723974Z",
     "iopub.status.busy": "2023-02-04T07:55:05.723590Z",
     "iopub.status.idle": "2023-02-04T07:55:05.732884Z",
     "shell.execute_reply": "2023-02-04T07:55:05.732322Z"
    }
   },
   "outputs": [],
   "source": [
    "linear_backbone = backbone.linearize(MfeI)"
   ]
  },
  {
   "cell_type": "markdown",
   "id": "c1b398cc",
   "metadata": {},
   "source": [
    "The pYPKa derived _E. coli_ plasmids containing\n",
    "- [promoter](pYPKa_Z_RPL5.gb)\n",
    "- [gene](pYPKa_A_EctesB.gb)\n",
    "- [terminator](pYPKa_E_RPL16A.gb)\n",
    "\n",
    "are read into three variables below."
   ]
  },
  {
   "cell_type": "code",
   "execution_count": 6,
   "id": "1f743bc2",
   "metadata": {
    "execution": {
     "iopub.execute_input": "2023-02-04T07:55:05.735843Z",
     "iopub.status.busy": "2023-02-04T07:55:05.735544Z",
     "iopub.status.idle": "2023-02-04T07:55:05.753151Z",
     "shell.execute_reply": "2023-02-04T07:55:05.752521Z"
    }
   },
   "outputs": [],
   "source": [
    "promoter_template   = read(\"pYPKa_Z_RPL5.gb\")\n",
    "gene_template       = read(\"pYPKa_A_EctesB.gb\")\n",
    "terminator_template = read(\"pYPKa_E_RPL16A.gb\")"
   ]
  },
  {
   "cell_type": "markdown",
   "id": "2aa445b1",
   "metadata": {
    "lines_to_next_cell": 0
   },
   "source": [
    "### PCR\n",
    "Three DNA fragments are PCR amplified using [standard primers](standard_primers.fasta).\n",
    "\n",
    "[Suggested PCR programs](#Suggested-PCR-programs) can be found at the end of this document."
   ]
  },
  {
   "cell_type": "code",
   "execution_count": 7,
   "id": "8afd3996",
   "metadata": {
    "execution": {
     "iopub.execute_input": "2023-02-04T07:55:05.756169Z",
     "iopub.status.busy": "2023-02-04T07:55:05.755760Z",
     "iopub.status.idle": "2023-02-04T07:55:05.759371Z",
     "shell.execute_reply": "2023-02-04T07:55:05.758563Z"
    }
   },
   "outputs": [],
   "source": [
    "\n",
    "fp_prom = p['577_crp585-557']\n",
    "rp_prom = p['567_pCAPsAjiIF']\n",
    "fp_gene = p['468_pCAPs_release_fw']\n",
    "rp_gene = p['467_pCAPs_release_re']\n",
    "fp_term = p['568_pCAPsAjiIR']\n",
    "rp_term = p['578_crp42-70']"
   ]
  },
  {
   "cell_type": "code",
   "execution_count": 8,
   "id": "3b8cc382",
   "metadata": {
    "execution": {
     "iopub.execute_input": "2023-02-04T07:55:05.762941Z",
     "iopub.status.busy": "2023-02-04T07:55:05.762393Z",
     "iopub.status.idle": "2023-02-04T07:55:05.788917Z",
     "shell.execute_reply": "2023-02-04T07:55:05.788357Z"
    }
   },
   "outputs": [],
   "source": [
    "prom = pcr(fp_prom, rp_prom, promoter_template)\n",
    "gene = pcr(fp_gene, rp_gene, gene_template)\n",
    "term = pcr(fp_term, rp_term, terminator_template)"
   ]
  },
  {
   "cell_type": "code",
   "execution_count": 9,
   "id": "97202da5",
   "metadata": {
    "execution": {
     "iopub.execute_input": "2023-02-04T07:55:05.791764Z",
     "iopub.status.busy": "2023-02-04T07:55:05.791337Z",
     "iopub.status.idle": "2023-02-04T07:55:05.794562Z",
     "shell.execute_reply": "2023-02-04T07:55:05.793979Z"
    }
   },
   "outputs": [],
   "source": [
    "prom.name = \"pYPKa_Z_RPL5\"[8:]\n",
    "gene.name = \"pYPKa_A_EctesB\"[8:]\n",
    "term.name = \"pYPKa_E_RPL16A\"[8:]"
   ]
  },
  {
   "cell_type": "markdown",
   "id": "d5b21611",
   "metadata": {},
   "source": [
    "\n",
    "The fragments will be assembled by _in-vivo_ [homologous recombination](http://www.ncbi.nlm.nih.gov/pubmed/2828185):"
   ]
  },
  {
   "cell_type": "code",
   "execution_count": 10,
   "id": "d8002009",
   "metadata": {
    "execution": {
     "iopub.execute_input": "2023-02-04T07:55:05.798567Z",
     "iopub.status.busy": "2023-02-04T07:55:05.798146Z",
     "iopub.status.idle": "2023-02-04T07:55:06.211057Z",
     "shell.execute_reply": "2023-02-04T07:55:06.210406Z"
    }
   },
   "outputs": [
    {
     "data": {
      "text/plain": [
       "Assembly\n",
       "fragments..: 5766bp 733bp 950bp 782bp\n",
       "limit(bp)..: 31\n",
       "G.nodes....: 10\n",
       "algorithm..: common_sub_strings"
      ]
     },
     "execution_count": 10,
     "metadata": {},
     "output_type": "execute_result"
    }
   ],
   "source": [
    "asm = Assembly((linear_backbone, prom, gene, term), limit=31)\n",
    "asm"
   ]
  },
  {
   "cell_type": "markdown",
   "id": "0d2321d0",
   "metadata": {},
   "source": [
    "The Assembly object above should normally indicate four fragments and eight nodes."
   ]
  },
  {
   "cell_type": "code",
   "execution_count": 11,
   "id": "7c52d206",
   "metadata": {
    "execution": {
     "iopub.execute_input": "2023-02-04T07:55:06.214021Z",
     "iopub.status.busy": "2023-02-04T07:55:06.213601Z",
     "iopub.status.idle": "2023-02-04T07:55:06.452451Z",
     "shell.execute_reply": "2023-02-04T07:55:06.451872Z"
    },
    "lines_to_next_cell": 0
   },
   "outputs": [
    {
     "data": {
      "text/plain": [
       "[Contig(o7596), Contig(o7596), Contig(o7596), Contig(o7081), Contig(o7081)]"
      ]
     },
     "execution_count": 11,
     "metadata": {},
     "output_type": "execute_result"
    }
   ],
   "source": [
    "candidates = asm.assemble_circular()\n",
    "candidates"
   ]
  },
  {
   "cell_type": "markdown",
   "id": "6eb5d40b",
   "metadata": {},
   "source": [
    "There should normally be two candidates of equal size. These sequences should be identical."
   ]
  },
  {
   "cell_type": "code",
   "execution_count": 12,
   "id": "25a15548",
   "metadata": {
    "execution": {
     "iopub.execute_input": "2023-02-04T07:55:06.455152Z",
     "iopub.status.busy": "2023-02-04T07:55:06.454910Z",
     "iopub.status.idle": "2023-02-04T07:55:06.458702Z",
     "shell.execute_reply": "2023-02-04T07:55:06.458164Z"
    },
    "lines_to_next_cell": 0
   },
   "outputs": [],
   "source": [
    "candidate, *rest = candidates"
   ]
  },
  {
   "cell_type": "code",
   "execution_count": 13,
   "id": "130959ac",
   "metadata": {
    "execution": {
     "iopub.execute_input": "2023-02-04T07:55:06.461740Z",
     "iopub.status.busy": "2023-02-04T07:55:06.461367Z",
     "iopub.status.idle": "2023-02-04T07:55:06.478709Z",
     "shell.execute_reply": "2023-02-04T07:55:06.477883Z"
    },
    "lines_to_next_cell": 0
   },
   "outputs": [
    {
     "data": {
      "text/plain": [
       "True"
      ]
     },
     "execution_count": 13,
     "metadata": {},
     "output_type": "execute_result"
    }
   ],
   "source": [
    "candidate.cseguid() == rest[0].cseguid()"
   ]
  },
  {
   "cell_type": "code",
   "execution_count": 14,
   "id": "77826121",
   "metadata": {
    "execution": {
     "iopub.execute_input": "2023-02-04T07:55:06.481358Z",
     "iopub.status.busy": "2023-02-04T07:55:06.480930Z",
     "iopub.status.idle": "2023-02-04T07:55:06.485392Z",
     "shell.execute_reply": "2023-02-04T07:55:06.484851Z"
    },
    "lines_to_next_cell": 0
   },
   "outputs": [
    {
     "data": {
      "text/plain": [
       " -|pYPK0_lin|168\n",
       "|            \\/\n",
       "|            /\\\n",
       "|            168|RPL5|48\n",
       "|                     \\/\n",
       "|                     /\\\n",
       "|                     48|EctesB|37\n",
       "|                               \\/\n",
       "|                               /\\\n",
       "|                               37|RPL16A|276\n",
       "|                                         \\/\n",
       "|                                         /\\\n",
       "|                                         276-\n",
       "|                                            |\n",
       " --------------------------------------------"
      ]
     },
     "execution_count": 14,
     "metadata": {},
     "output_type": "execute_result"
    }
   ],
   "source": [
    "candidate.figure()"
   ]
  },
  {
   "cell_type": "markdown",
   "id": "f2407b91",
   "metadata": {},
   "source": [
    "The candidate vector is synchronized to the 577 primer. This means that\n",
    "the plasmid origin is shifted so that it matches the backbone vector."
   ]
  },
  {
   "cell_type": "code",
   "execution_count": 15,
   "id": "3a87c110",
   "metadata": {
    "execution": {
     "iopub.execute_input": "2023-02-04T07:55:06.488329Z",
     "iopub.status.busy": "2023-02-04T07:55:06.487932Z",
     "iopub.status.idle": "2023-02-04T07:55:06.788873Z",
     "shell.execute_reply": "2023-02-04T07:55:06.788227Z"
    }
   },
   "outputs": [],
   "source": [
    "result = candidate.synced(fp_prom)"
   ]
  },
  {
   "cell_type": "markdown",
   "id": "6b681068",
   "metadata": {},
   "source": [
    "### Diagnostic PCR confirmation\n",
    "\n",
    "The structure of the final vector is confirmed by two\n",
    "separate PCR reactions, one for the promoter and gene and\n",
    "one for the gene and terminator.\n",
    "\n",
    "PCR using standard primers 577 and 467 to amplify promoter and gene."
   ]
  },
  {
   "cell_type": "code",
   "execution_count": 16,
   "id": "9b3568a4",
   "metadata": {
    "execution": {
     "iopub.execute_input": "2023-02-04T07:55:06.792052Z",
     "iopub.status.busy": "2023-02-04T07:55:06.791636Z",
     "iopub.status.idle": "2023-02-04T07:55:06.808606Z",
     "shell.execute_reply": "2023-02-04T07:55:06.808045Z"
    }
   },
   "outputs": [],
   "source": [
    "product = pcr( fp_prom, rp_gene, result)"
   ]
  },
  {
   "cell_type": "markdown",
   "id": "42b7207b",
   "metadata": {},
   "source": [
    "A correct clone should give this size in base pairs:"
   ]
  },
  {
   "cell_type": "code",
   "execution_count": 17,
   "id": "08affd7a",
   "metadata": {
    "execution": {
     "iopub.execute_input": "2023-02-04T07:55:06.811482Z",
     "iopub.status.busy": "2023-02-04T07:55:06.811009Z",
     "iopub.status.idle": "2023-02-04T07:55:06.814718Z",
     "shell.execute_reply": "2023-02-04T07:55:06.814084Z"
    }
   },
   "outputs": [
    {
     "name": "stdout",
     "output_type": "stream",
     "text": [
      "1633\n"
     ]
    }
   ],
   "source": [
    "print(len(product))"
   ]
  },
  {
   "cell_type": "markdown",
   "id": "03469718",
   "metadata": {},
   "source": [
    "If the promoter is missing from the assembly, the PCR product will have this size in base pairs:"
   ]
  },
  {
   "cell_type": "code",
   "execution_count": 18,
   "id": "a32cf709",
   "metadata": {
    "execution": {
     "iopub.execute_input": "2023-02-04T07:55:06.818486Z",
     "iopub.status.busy": "2023-02-04T07:55:06.818158Z",
     "iopub.status.idle": "2023-02-04T07:55:06.822721Z",
     "shell.execute_reply": "2023-02-04T07:55:06.821811Z"
    }
   },
   "outputs": [
    {
     "name": "stdout",
     "output_type": "stream",
     "text": [
      "900\n"
     ]
    }
   ],
   "source": [
    "print(len(product) - len(prom))"
   ]
  },
  {
   "cell_type": "markdown",
   "id": "5a98b1c9",
   "metadata": {},
   "source": [
    "If the gene is missing from the assembly, the PCR product will have this size in base pairs:"
   ]
  },
  {
   "cell_type": "code",
   "execution_count": 19,
   "id": "05509c75",
   "metadata": {
    "execution": {
     "iopub.execute_input": "2023-02-04T07:55:06.825995Z",
     "iopub.status.busy": "2023-02-04T07:55:06.825744Z",
     "iopub.status.idle": "2023-02-04T07:55:06.829698Z",
     "shell.execute_reply": "2023-02-04T07:55:06.828948Z"
    }
   },
   "outputs": [
    {
     "name": "stdout",
     "output_type": "stream",
     "text": [
      "683\n"
     ]
    }
   ],
   "source": [
    "print(len(product) - len(gene))"
   ]
  },
  {
   "cell_type": "markdown",
   "id": "14557c35",
   "metadata": {},
   "source": [
    "PCR using standard primers 468 and 578 to amplify gene and terminator."
   ]
  },
  {
   "cell_type": "code",
   "execution_count": 20,
   "id": "90e503c5",
   "metadata": {
    "execution": {
     "iopub.execute_input": "2023-02-04T07:55:06.833079Z",
     "iopub.status.busy": "2023-02-04T07:55:06.832701Z",
     "iopub.status.idle": "2023-02-04T07:55:06.854021Z",
     "shell.execute_reply": "2023-02-04T07:55:06.853419Z"
    }
   },
   "outputs": [],
   "source": [
    "product2 = pcr( fp_gene, rp_term, result)"
   ]
  },
  {
   "cell_type": "markdown",
   "id": "8f6d5cbc",
   "metadata": {},
   "source": [
    "A correct clone should give this size:"
   ]
  },
  {
   "cell_type": "code",
   "execution_count": 21,
   "id": "7a64f617",
   "metadata": {
    "execution": {
     "iopub.execute_input": "2023-02-04T07:55:06.856916Z",
     "iopub.status.busy": "2023-02-04T07:55:06.856644Z",
     "iopub.status.idle": "2023-02-04T07:55:06.860323Z",
     "shell.execute_reply": "2023-02-04T07:55:06.859572Z"
    }
   },
   "outputs": [
    {
     "name": "stdout",
     "output_type": "stream",
     "text": [
      "1695\n"
     ]
    }
   ],
   "source": [
    "print(len(product2))"
   ]
  },
  {
   "cell_type": "markdown",
   "id": "ce72ab77",
   "metadata": {},
   "source": [
    "If the gene is missing from the assembly, the PCR product will have this size in base pairs:"
   ]
  },
  {
   "cell_type": "code",
   "execution_count": 22,
   "id": "c4690f13",
   "metadata": {
    "execution": {
     "iopub.execute_input": "2023-02-04T07:55:06.863817Z",
     "iopub.status.busy": "2023-02-04T07:55:06.863534Z",
     "iopub.status.idle": "2023-02-04T07:55:06.868179Z",
     "shell.execute_reply": "2023-02-04T07:55:06.867066Z"
    }
   },
   "outputs": [
    {
     "name": "stdout",
     "output_type": "stream",
     "text": [
      "745\n"
     ]
    }
   ],
   "source": [
    "print(len(product2) - len(gene))"
   ]
  },
  {
   "cell_type": "markdown",
   "id": "fa682170",
   "metadata": {},
   "source": [
    "If the terminator is missing from the assembly, the PCR product will have this size in base pairs:"
   ]
  },
  {
   "cell_type": "code",
   "execution_count": 23,
   "id": "27631fe5",
   "metadata": {
    "execution": {
     "iopub.execute_input": "2023-02-04T07:55:06.872219Z",
     "iopub.status.busy": "2023-02-04T07:55:06.871920Z",
     "iopub.status.idle": "2023-02-04T07:55:06.876347Z",
     "shell.execute_reply": "2023-02-04T07:55:06.875533Z"
    }
   },
   "outputs": [
    {
     "name": "stdout",
     "output_type": "stream",
     "text": [
      "913\n"
     ]
    }
   ],
   "source": [
    "print(len(product2) - len(term))"
   ]
  },
  {
   "cell_type": "markdown",
   "id": "b6b39e8d",
   "metadata": {},
   "source": [
    "The cseguid checksum for the resulting plasmid is calculated for future reference.\n",
    "The [cseguid checksum](http://pydna.readthedocs.org/en/latest/pydna.html#pydna.utils.cseguid)\n",
    "uniquely identifies a circular double stranded sequence."
   ]
  },
  {
   "cell_type": "code",
   "execution_count": 24,
   "id": "7d1d8192",
   "metadata": {
    "execution": {
     "iopub.execute_input": "2023-02-04T07:55:06.879547Z",
     "iopub.status.busy": "2023-02-04T07:55:06.879235Z",
     "iopub.status.idle": "2023-02-04T07:55:06.890605Z",
     "shell.execute_reply": "2023-02-04T07:55:06.889768Z"
    }
   },
   "outputs": [
    {
     "name": "stdout",
     "output_type": "stream",
     "text": [
      "hglEiKDXoRKakitj2hwnPFtf9fA\n"
     ]
    }
   ],
   "source": [
    "print(result.cseguid())"
   ]
  },
  {
   "cell_type": "markdown",
   "id": "8e7f6d47",
   "metadata": {},
   "source": [
    "The file name is based on the promoter, gene and terminator designations."
   ]
  },
  {
   "cell_type": "code",
   "execution_count": 25,
   "id": "ad1c98b3",
   "metadata": {
    "execution": {
     "iopub.execute_input": "2023-02-04T07:55:06.894152Z",
     "iopub.status.busy": "2023-02-04T07:55:06.893713Z",
     "iopub.status.idle": "2023-02-04T07:55:06.897781Z",
     "shell.execute_reply": "2023-02-04T07:55:06.896918Z"
    }
   },
   "outputs": [],
   "source": [
    "result.locus = f\"tu:{gene.name}\"[:16]\n",
    "result.definition = \"pYPK0_RPL5_EctesB_RPL16A\""
   ]
  },
  {
   "cell_type": "markdown",
   "id": "45c24d83",
   "metadata": {},
   "source": [
    "Sequence is stamped with cseguid checksum. This can be used to verify the\n",
    "integrity of the sequence file."
   ]
  },
  {
   "cell_type": "code",
   "execution_count": 26,
   "id": "f9607865",
   "metadata": {
    "execution": {
     "iopub.execute_input": "2023-02-04T07:55:06.902777Z",
     "iopub.status.busy": "2023-02-04T07:55:06.901955Z",
     "iopub.status.idle": "2023-02-04T07:55:06.913887Z",
     "shell.execute_reply": "2023-02-04T07:55:06.913099Z"
    }
   },
   "outputs": [
    {
     "data": {
      "text/plain": [
       "hglEiKDXoRKakitj2hwnPFtf9fA"
      ]
     },
     "execution_count": 26,
     "metadata": {},
     "output_type": "execute_result"
    }
   ],
   "source": [
    "result.stamp(\"cSEGUID\")"
   ]
  },
  {
   "cell_type": "markdown",
   "id": "3f6f33ac",
   "metadata": {},
   "source": [
    "Write sequence to a local file."
   ]
  },
  {
   "cell_type": "code",
   "execution_count": 27,
   "id": "f9aff5a6",
   "metadata": {
    "execution": {
     "iopub.execute_input": "2023-02-04T07:55:06.917815Z",
     "iopub.status.busy": "2023-02-04T07:55:06.917284Z",
     "iopub.status.idle": "2023-02-04T07:55:06.924237Z",
     "shell.execute_reply": "2023-02-04T07:55:06.923478Z"
    }
   },
   "outputs": [
    {
     "data": {
      "text/html": [
       "<font face=monospace><a href='pYPK0_RPL5_EctesB_RPL16A.gb' target='_blank'>pYPK0_RPL5_EctesB_RPL16A.gb</a></font><br>"
      ]
     },
     "metadata": {},
     "output_type": "display_data"
    }
   ],
   "source": [
    "result.write(f\"{result.definition}.gb\")"
   ]
  },
  {
   "cell_type": "markdown",
   "id": "32b1a370",
   "metadata": {
    "lines_to_next_cell": 0
   },
   "source": [
    "### Suggested PCR programs\n",
    "\n",
    "For the [amplification](#PCR) of promoter, gene and terminator."
   ]
  },
  {
   "cell_type": "code",
   "execution_count": 28,
   "id": "5cba3b82",
   "metadata": {
    "execution": {
     "iopub.execute_input": "2023-02-04T07:55:06.927787Z",
     "iopub.status.busy": "2023-02-04T07:55:06.927131Z",
     "iopub.status.idle": "2023-02-04T07:55:06.932151Z",
     "shell.execute_reply": "2023-02-04T07:55:06.931273Z"
    }
   },
   "outputs": [
    {
     "name": "stdout",
     "output_type": "stream",
     "text": [
      "577_crp585-557 567_pCAPsAjiIF\n",
      "|95°C|95°C               |    |tmf:64.6\n",
      "|____|_____          72°C|72°C|tmr:69.7\n",
      "|3min|30s  \\ 56.8°C _____|____|45s/kb\n",
      "|    |      \\______/ 0:32|5min|GC 38%\n",
      "|    |       30s         |    |733bp\n"
     ]
    }
   ],
   "source": [
    "print(prom.forward_primer.name, prom.reverse_primer.name)\n",
    "print(prom.program())"
   ]
  },
  {
   "cell_type": "code",
   "execution_count": 29,
   "id": "c43ccc9a",
   "metadata": {
    "execution": {
     "iopub.execute_input": "2023-02-04T07:55:06.935945Z",
     "iopub.status.busy": "2023-02-04T07:55:06.935608Z",
     "iopub.status.idle": "2023-02-04T07:55:06.940257Z",
     "shell.execute_reply": "2023-02-04T07:55:06.939402Z"
    }
   },
   "outputs": [
    {
     "name": "stdout",
     "output_type": "stream",
     "text": [
      "468_pCAPs_release_fw 467_pCAPs_release_re\n",
      "|95°C|95°C               |    |tmf:76.9\n",
      "|____|_____          72°C|72°C|tmr:67.9\n",
      "|3min|30s  \\ 61.9°C _____|____|45s/kb\n",
      "|    |      \\______/ 0:42|5min|GC 52%\n",
      "|    |       30s         |    |950bp\n"
     ]
    }
   ],
   "source": [
    "print(gene.forward_primer.name, gene.reverse_primer.name)\n",
    "print(gene.program())"
   ]
  },
  {
   "cell_type": "code",
   "execution_count": 30,
   "id": "bee9e952",
   "metadata": {
    "execution": {
     "iopub.execute_input": "2023-02-04T07:55:06.943335Z",
     "iopub.status.busy": "2023-02-04T07:55:06.943051Z",
     "iopub.status.idle": "2023-02-04T07:55:06.947467Z",
     "shell.execute_reply": "2023-02-04T07:55:06.946700Z"
    }
   },
   "outputs": [
    {
     "name": "stdout",
     "output_type": "stream",
     "text": [
      "568_pCAPsAjiIR 578_crp42-70\n",
      "|95°C|95°C               |    |tmf:66.1\n",
      "|____|_____          72°C|72°C|tmr:65.0\n",
      "|3min|30s  \\ 58.4°C _____|____|45s/kb\n",
      "|    |      \\______/ 0:35|5min|GC 43%\n",
      "|    |       30s         |    |782bp\n"
     ]
    }
   ],
   "source": [
    "print(term.forward_primer.name, term.reverse_primer.name)\n",
    "print(term.program())"
   ]
  }
 ],
 "metadata": {
  "jupytext": {
   "main_language": "python",
   "text_representation": {
    "extension": ".py",
    "format_name": "percent",
    "format_version": "1.3",
    "jupytext_version": "1.14.0"
   }
  },
  "language_info": {
   "codemirror_mode": {
    "name": "ipython",
    "version": 3
   },
   "file_extension": ".py",
   "mimetype": "text/x-python",
   "name": "python",
   "nbconvert_exporter": "python",
   "pygments_lexer": "ipython3",
   "version": "3.11.0"
  }
 },
 "nbformat": 4,
 "nbformat_minor": 5
}
