{
 "cells": [
  {
   "cell_type": "markdown",
   "id": "e83e487a",
   "metadata": {},
   "source": [
    "# [![logo](logo.png)](https://github.com/BjornFJohansson/ypkpathway#-ypkpathway) pYPK0_TEF1_EcfabD_FBA1\n",
    "\n",
    "Assembly of a [_Saccharomyces cerevisiae_](http://www.yeastgenome.org) transcriptional unit vector.\n",
    "\n",
    "Made from a linear vector fragment and three PCR products:\n",
    "\n",
    "- a linearized pYPK0 vector for maintenance in _S. cerevisiae_ or _E. coli_ (red dashed line in figure below)\n",
    "- a promoter PCR product from the `pYPKa_Z_TEF1` vector\n",
    "- a gene PCR product from the `pYPKa_A_EcfabD` vector\n",
    "- a terminator PCR product from the `pYPKa_E_FBA1` vector\n",
    "\n",
    "The four linear DNA fragments are joined by _in-vivo_ homologous recombination in a\n",
    "[_Saccharomyces cerevisiae_](http://wiki.yeastgenome.org/index.php/Commonly_used_strains) strain.\n",
    "\n",
    "![tu](tu.png \"tu\")\n",
    "\n",
    "A part of the [pydna](https://pypi.python.org/pypi/pydna/) package is imported in the code cell below."
   ]
  },
  {
   "cell_type": "code",
   "execution_count": 1,
   "id": "2fd36665",
   "metadata": {
    "execution": {
     "iopub.execute_input": "2023-02-04T07:54:35.844752Z",
     "iopub.status.busy": "2023-02-04T07:54:35.844066Z",
     "iopub.status.idle": "2023-02-04T07:54:36.211549Z",
     "shell.execute_reply": "2023-02-04T07:54:36.210867Z"
    }
   },
   "outputs": [],
   "source": [
    "from pydna.parsers import parse_primers\n",
    "from pydna.readers import read\n",
    "from pydna.amplify import pcr\n",
    "from pydna.assembly import Assembly"
   ]
  },
  {
   "cell_type": "markdown",
   "id": "3ba362f9",
   "metadata": {},
   "source": [
    "The Yeast Pathway Kit [standard primers](standard_primers.fasta) are read into a dictionary in the code cell below."
   ]
  },
  {
   "cell_type": "code",
   "execution_count": 2,
   "id": "c8189f4a",
   "metadata": {
    "execution": {
     "iopub.execute_input": "2023-02-04T07:54:36.215964Z",
     "iopub.status.busy": "2023-02-04T07:54:36.215286Z",
     "iopub.status.idle": "2023-02-04T07:54:36.230840Z",
     "shell.execute_reply": "2023-02-04T07:54:36.230049Z"
    }
   },
   "outputs": [],
   "source": [
    "p = {x.name: x for x in parse_primers(\"standard_primers.fasta\")}"
   ]
  },
  {
   "cell_type": "markdown",
   "id": "242d0fa8",
   "metadata": {},
   "source": [
    "The backbone vector [pYPK0](pYPK0.gb) is read from a local file in the code cell below."
   ]
  },
  {
   "cell_type": "code",
   "execution_count": 3,
   "id": "b96468b7",
   "metadata": {
    "execution": {
     "iopub.execute_input": "2023-02-04T07:54:36.234504Z",
     "iopub.status.busy": "2023-02-04T07:54:36.234161Z",
     "iopub.status.idle": "2023-02-04T07:54:36.246044Z",
     "shell.execute_reply": "2023-02-04T07:54:36.245498Z"
    }
   },
   "outputs": [],
   "source": [
    "backbone = read(\"pYPK0.gb\")"
   ]
  },
  {
   "cell_type": "markdown",
   "id": "0e4a329b",
   "metadata": {},
   "source": [
    "The backbone vector is linearized by digestion with [MfeI](https://www.google.com/search?q=MfeI)."
   ]
  },
  {
   "cell_type": "code",
   "execution_count": 4,
   "id": "99349130",
   "metadata": {
    "execution": {
     "iopub.execute_input": "2023-02-04T07:54:36.252124Z",
     "iopub.status.busy": "2023-02-04T07:54:36.250990Z",
     "iopub.status.idle": "2023-02-04T07:54:36.256853Z",
     "shell.execute_reply": "2023-02-04T07:54:36.256138Z"
    }
   },
   "outputs": [],
   "source": [
    "from Bio.Restriction import MfeI"
   ]
  },
  {
   "cell_type": "code",
   "execution_count": 5,
   "id": "277380df",
   "metadata": {
    "execution": {
     "iopub.execute_input": "2023-02-04T07:54:36.259844Z",
     "iopub.status.busy": "2023-02-04T07:54:36.259540Z",
     "iopub.status.idle": "2023-02-04T07:54:36.267788Z",
     "shell.execute_reply": "2023-02-04T07:54:36.266996Z"
    }
   },
   "outputs": [],
   "source": [
    "linear_backbone = backbone.linearize(MfeI)"
   ]
  },
  {
   "cell_type": "markdown",
   "id": "ec6e4a70",
   "metadata": {},
   "source": [
    "The pYPKa derived _E. coli_ plasmids containing\n",
    "- [promoter](pYPKa_Z_TEF1.gb)\n",
    "- [gene](pYPKa_A_EcfabD.gb)\n",
    "- [terminator](pYPKa_E_FBA1.gb)\n",
    "\n",
    "are read into three variables below."
   ]
  },
  {
   "cell_type": "code",
   "execution_count": 6,
   "id": "9398a48a",
   "metadata": {
    "execution": {
     "iopub.execute_input": "2023-02-04T07:54:36.275062Z",
     "iopub.status.busy": "2023-02-04T07:54:36.274258Z",
     "iopub.status.idle": "2023-02-04T07:54:36.294468Z",
     "shell.execute_reply": "2023-02-04T07:54:36.293725Z"
    }
   },
   "outputs": [],
   "source": [
    "promoter_template   = read(\"pYPKa_Z_TEF1.gb\")\n",
    "gene_template       = read(\"pYPKa_A_EcfabD.gb\")\n",
    "terminator_template = read(\"pYPKa_E_FBA1.gb\")"
   ]
  },
  {
   "cell_type": "markdown",
   "id": "d197e0a1",
   "metadata": {
    "lines_to_next_cell": 0
   },
   "source": [
    "### PCR\n",
    "Three DNA fragments are PCR amplified using [standard primers](standard_primers.fasta).\n",
    "\n",
    "[Suggested PCR programs](#Suggested-PCR-programs) can be found at the end of this document."
   ]
  },
  {
   "cell_type": "code",
   "execution_count": 7,
   "id": "3f78f465",
   "metadata": {
    "execution": {
     "iopub.execute_input": "2023-02-04T07:54:36.297532Z",
     "iopub.status.busy": "2023-02-04T07:54:36.297154Z",
     "iopub.status.idle": "2023-02-04T07:54:36.301192Z",
     "shell.execute_reply": "2023-02-04T07:54:36.300283Z"
    }
   },
   "outputs": [],
   "source": [
    "\n",
    "fp_prom = p['577_crp585-557']\n",
    "rp_prom = p['567_pCAPsAjiIF']\n",
    "fp_gene = p['468_pCAPs_release_fw']\n",
    "rp_gene = p['467_pCAPs_release_re']\n",
    "fp_term = p['568_pCAPsAjiIR']\n",
    "rp_term = p['578_crp42-70']"
   ]
  },
  {
   "cell_type": "code",
   "execution_count": 8,
   "id": "ed000e29",
   "metadata": {
    "execution": {
     "iopub.execute_input": "2023-02-04T07:54:36.304494Z",
     "iopub.status.busy": "2023-02-04T07:54:36.304220Z",
     "iopub.status.idle": "2023-02-04T07:54:36.330583Z",
     "shell.execute_reply": "2023-02-04T07:54:36.329955Z"
    }
   },
   "outputs": [],
   "source": [
    "prom = pcr(fp_prom, rp_prom, promoter_template)\n",
    "gene = pcr(fp_gene, rp_gene, gene_template)\n",
    "term = pcr(fp_term, rp_term, terminator_template)"
   ]
  },
  {
   "cell_type": "code",
   "execution_count": 9,
   "id": "1358bafa",
   "metadata": {
    "execution": {
     "iopub.execute_input": "2023-02-04T07:54:36.333869Z",
     "iopub.status.busy": "2023-02-04T07:54:36.333546Z",
     "iopub.status.idle": "2023-02-04T07:54:36.338007Z",
     "shell.execute_reply": "2023-02-04T07:54:36.337084Z"
    }
   },
   "outputs": [],
   "source": [
    "prom.name = \"pYPKa_Z_TEF1\"[8:]\n",
    "gene.name = \"pYPKa_A_EcfabD\"[8:]\n",
    "term.name = \"pYPKa_E_FBA1\"[8:]"
   ]
  },
  {
   "cell_type": "markdown",
   "id": "390da1f4",
   "metadata": {},
   "source": [
    "\n",
    "The fragments will be assembled by _in-vivo_ [homologous recombination](http://www.ncbi.nlm.nih.gov/pubmed/2828185):"
   ]
  },
  {
   "cell_type": "code",
   "execution_count": 10,
   "id": "455dd4a0",
   "metadata": {
    "execution": {
     "iopub.execute_input": "2023-02-04T07:54:36.343344Z",
     "iopub.status.busy": "2023-02-04T07:54:36.342686Z",
     "iopub.status.idle": "2023-02-04T07:54:36.786967Z",
     "shell.execute_reply": "2023-02-04T07:54:36.786301Z"
    }
   },
   "outputs": [
    {
     "data": {
      "text/plain": [
       "Assembly\n",
       "fragments..: 5766bp 811bp 1019bp 970bp\n",
       "limit(bp)..: 31\n",
       "G.nodes....: 10\n",
       "algorithm..: common_sub_strings"
      ]
     },
     "execution_count": 10,
     "metadata": {},
     "output_type": "execute_result"
    }
   ],
   "source": [
    "asm = Assembly((linear_backbone, prom, gene, term), limit=31)\n",
    "asm"
   ]
  },
  {
   "cell_type": "markdown",
   "id": "d22f9b91",
   "metadata": {},
   "source": [
    "The Assembly object above should normally indicate four fragments and eight nodes."
   ]
  },
  {
   "cell_type": "code",
   "execution_count": 11,
   "id": "2240cd25",
   "metadata": {
    "execution": {
     "iopub.execute_input": "2023-02-04T07:54:36.789838Z",
     "iopub.status.busy": "2023-02-04T07:54:36.789583Z",
     "iopub.status.idle": "2023-02-04T07:54:37.009117Z",
     "shell.execute_reply": "2023-02-04T07:54:37.008481Z"
    },
    "lines_to_next_cell": 0
   },
   "outputs": [
    {
     "data": {
      "text/plain": [
       "[Contig(o7931), Contig(o7931), Contig(o7931), Contig(o7338), Contig(o7338)]"
      ]
     },
     "execution_count": 11,
     "metadata": {},
     "output_type": "execute_result"
    }
   ],
   "source": [
    "candidates = asm.assemble_circular()\n",
    "candidates"
   ]
  },
  {
   "cell_type": "markdown",
   "id": "ecd41582",
   "metadata": {},
   "source": [
    "There should normally be two candidates of equal size. These sequences should be identical."
   ]
  },
  {
   "cell_type": "code",
   "execution_count": 12,
   "id": "957a8751",
   "metadata": {
    "execution": {
     "iopub.execute_input": "2023-02-04T07:54:37.012449Z",
     "iopub.status.busy": "2023-02-04T07:54:37.011767Z",
     "iopub.status.idle": "2023-02-04T07:54:37.015328Z",
     "shell.execute_reply": "2023-02-04T07:54:37.014645Z"
    },
    "lines_to_next_cell": 0
   },
   "outputs": [],
   "source": [
    "candidate, *rest = candidates"
   ]
  },
  {
   "cell_type": "code",
   "execution_count": 13,
   "id": "326f2bb1",
   "metadata": {
    "execution": {
     "iopub.execute_input": "2023-02-04T07:54:37.018406Z",
     "iopub.status.busy": "2023-02-04T07:54:37.018137Z",
     "iopub.status.idle": "2023-02-04T07:54:37.034484Z",
     "shell.execute_reply": "2023-02-04T07:54:37.033958Z"
    },
    "lines_to_next_cell": 0
   },
   "outputs": [
    {
     "data": {
      "text/plain": [
       "True"
      ]
     },
     "execution_count": 13,
     "metadata": {},
     "output_type": "execute_result"
    }
   ],
   "source": [
    "candidate.cseguid() == rest[0].cseguid()"
   ]
  },
  {
   "cell_type": "code",
   "execution_count": 14,
   "id": "32ec44c3",
   "metadata": {
    "execution": {
     "iopub.execute_input": "2023-02-04T07:54:37.036905Z",
     "iopub.status.busy": "2023-02-04T07:54:37.036690Z",
     "iopub.status.idle": "2023-02-04T07:54:37.041489Z",
     "shell.execute_reply": "2023-02-04T07:54:37.040039Z"
    },
    "lines_to_next_cell": 0
   },
   "outputs": [
    {
     "data": {
      "text/plain": [
       " -|pYPK0_lin|168\n",
       "|            \\/\n",
       "|            /\\\n",
       "|            168|TEF1|48\n",
       "|                     \\/\n",
       "|                     /\\\n",
       "|                     48|EcfabD|37\n",
       "|                               \\/\n",
       "|                               /\\\n",
       "|                               37|FBA1|276\n",
       "|                                       \\/\n",
       "|                                       /\\\n",
       "|                                       276-\n",
       "|                                          |\n",
       " ------------------------------------------"
      ]
     },
     "execution_count": 14,
     "metadata": {},
     "output_type": "execute_result"
    }
   ],
   "source": [
    "candidate.figure()"
   ]
  },
  {
   "cell_type": "markdown",
   "id": "274584ec",
   "metadata": {},
   "source": [
    "The candidate vector is synchronized to the 577 primer. This means that\n",
    "the plasmid origin is shifted so that it matches the backbone vector."
   ]
  },
  {
   "cell_type": "code",
   "execution_count": 15,
   "id": "fad1b656",
   "metadata": {
    "execution": {
     "iopub.execute_input": "2023-02-04T07:54:37.045598Z",
     "iopub.status.busy": "2023-02-04T07:54:37.044973Z",
     "iopub.status.idle": "2023-02-04T07:54:37.361067Z",
     "shell.execute_reply": "2023-02-04T07:54:37.360469Z"
    }
   },
   "outputs": [],
   "source": [
    "result = candidate.synced(fp_prom)"
   ]
  },
  {
   "cell_type": "markdown",
   "id": "3d217b08",
   "metadata": {},
   "source": [
    "### Diagnostic PCR confirmation\n",
    "\n",
    "The structure of the final vector is confirmed by two\n",
    "separate PCR reactions, one for the promoter and gene and\n",
    "one for the gene and terminator.\n",
    "\n",
    "PCR using standard primers 577 and 467 to amplify promoter and gene."
   ]
  },
  {
   "cell_type": "code",
   "execution_count": 16,
   "id": "cb1bb65e",
   "metadata": {
    "execution": {
     "iopub.execute_input": "2023-02-04T07:54:37.364350Z",
     "iopub.status.busy": "2023-02-04T07:54:37.363853Z",
     "iopub.status.idle": "2023-02-04T07:54:37.380163Z",
     "shell.execute_reply": "2023-02-04T07:54:37.379641Z"
    }
   },
   "outputs": [],
   "source": [
    "product = pcr( fp_prom, rp_gene, result)"
   ]
  },
  {
   "cell_type": "markdown",
   "id": "ffcb31b9",
   "metadata": {},
   "source": [
    "A correct clone should give this size in base pairs:"
   ]
  },
  {
   "cell_type": "code",
   "execution_count": 17,
   "id": "90d2a0ba",
   "metadata": {
    "execution": {
     "iopub.execute_input": "2023-02-04T07:54:37.382579Z",
     "iopub.status.busy": "2023-02-04T07:54:37.382338Z",
     "iopub.status.idle": "2023-02-04T07:54:37.385797Z",
     "shell.execute_reply": "2023-02-04T07:54:37.385127Z"
    }
   },
   "outputs": [
    {
     "name": "stdout",
     "output_type": "stream",
     "text": [
      "1780\n"
     ]
    }
   ],
   "source": [
    "print(len(product))"
   ]
  },
  {
   "cell_type": "markdown",
   "id": "3ed0ac1d",
   "metadata": {},
   "source": [
    "If the promoter is missing from the assembly, the PCR product will have this size in base pairs:"
   ]
  },
  {
   "cell_type": "code",
   "execution_count": 18,
   "id": "4cc86503",
   "metadata": {
    "execution": {
     "iopub.execute_input": "2023-02-04T07:54:37.389122Z",
     "iopub.status.busy": "2023-02-04T07:54:37.388480Z",
     "iopub.status.idle": "2023-02-04T07:54:37.394470Z",
     "shell.execute_reply": "2023-02-04T07:54:37.393251Z"
    }
   },
   "outputs": [
    {
     "name": "stdout",
     "output_type": "stream",
     "text": [
      "969\n"
     ]
    }
   ],
   "source": [
    "print(len(product) - len(prom))"
   ]
  },
  {
   "cell_type": "markdown",
   "id": "84d5e1f6",
   "metadata": {},
   "source": [
    "If the gene is missing from the assembly, the PCR product will have this size in base pairs:"
   ]
  },
  {
   "cell_type": "code",
   "execution_count": 19,
   "id": "27d9d8b8",
   "metadata": {
    "execution": {
     "iopub.execute_input": "2023-02-04T07:54:37.398668Z",
     "iopub.status.busy": "2023-02-04T07:54:37.398086Z",
     "iopub.status.idle": "2023-02-04T07:54:37.403351Z",
     "shell.execute_reply": "2023-02-04T07:54:37.402380Z"
    }
   },
   "outputs": [
    {
     "name": "stdout",
     "output_type": "stream",
     "text": [
      "761\n"
     ]
    }
   ],
   "source": [
    "print(len(product) - len(gene))"
   ]
  },
  {
   "cell_type": "markdown",
   "id": "443847d5",
   "metadata": {},
   "source": [
    "PCR using standard primers 468 and 578 to amplify gene and terminator."
   ]
  },
  {
   "cell_type": "code",
   "execution_count": 20,
   "id": "17655dbe",
   "metadata": {
    "execution": {
     "iopub.execute_input": "2023-02-04T07:54:37.406775Z",
     "iopub.status.busy": "2023-02-04T07:54:37.406254Z",
     "iopub.status.idle": "2023-02-04T07:54:37.426830Z",
     "shell.execute_reply": "2023-02-04T07:54:37.426227Z"
    }
   },
   "outputs": [],
   "source": [
    "product2 = pcr( fp_gene, rp_term, result)"
   ]
  },
  {
   "cell_type": "markdown",
   "id": "3168f26a",
   "metadata": {},
   "source": [
    "A correct clone should give this size:"
   ]
  },
  {
   "cell_type": "code",
   "execution_count": 21,
   "id": "b3f47fa0",
   "metadata": {
    "execution": {
     "iopub.execute_input": "2023-02-04T07:54:37.429672Z",
     "iopub.status.busy": "2023-02-04T07:54:37.429279Z",
     "iopub.status.idle": "2023-02-04T07:54:37.432727Z",
     "shell.execute_reply": "2023-02-04T07:54:37.432011Z"
    }
   },
   "outputs": [
    {
     "name": "stdout",
     "output_type": "stream",
     "text": [
      "1952\n"
     ]
    }
   ],
   "source": [
    "print(len(product2))"
   ]
  },
  {
   "cell_type": "markdown",
   "id": "4476644a",
   "metadata": {},
   "source": [
    "If the gene is missing from the assembly, the PCR product will have this size in base pairs:"
   ]
  },
  {
   "cell_type": "code",
   "execution_count": 22,
   "id": "a79a02f4",
   "metadata": {
    "execution": {
     "iopub.execute_input": "2023-02-04T07:54:37.437545Z",
     "iopub.status.busy": "2023-02-04T07:54:37.436864Z",
     "iopub.status.idle": "2023-02-04T07:54:37.442016Z",
     "shell.execute_reply": "2023-02-04T07:54:37.441008Z"
    }
   },
   "outputs": [
    {
     "name": "stdout",
     "output_type": "stream",
     "text": [
      "933\n"
     ]
    }
   ],
   "source": [
    "print(len(product2) - len(gene))"
   ]
  },
  {
   "cell_type": "markdown",
   "id": "40c05f73",
   "metadata": {},
   "source": [
    "If the terminator is missing from the assembly, the PCR product will have this size in base pairs:"
   ]
  },
  {
   "cell_type": "code",
   "execution_count": 23,
   "id": "ed2cfdbd",
   "metadata": {
    "execution": {
     "iopub.execute_input": "2023-02-04T07:54:37.445428Z",
     "iopub.status.busy": "2023-02-04T07:54:37.444939Z",
     "iopub.status.idle": "2023-02-04T07:54:37.448940Z",
     "shell.execute_reply": "2023-02-04T07:54:37.448346Z"
    }
   },
   "outputs": [
    {
     "name": "stdout",
     "output_type": "stream",
     "text": [
      "982\n"
     ]
    }
   ],
   "source": [
    "print(len(product2) - len(term))"
   ]
  },
  {
   "cell_type": "markdown",
   "id": "6135e039",
   "metadata": {},
   "source": [
    "The cseguid checksum for the resulting plasmid is calculated for future reference.\n",
    "The [cseguid checksum](http://pydna.readthedocs.org/en/latest/pydna.html#pydna.utils.cseguid)\n",
    "uniquely identifies a circular double stranded sequence."
   ]
  },
  {
   "cell_type": "code",
   "execution_count": 24,
   "id": "355be9e2",
   "metadata": {
    "execution": {
     "iopub.execute_input": "2023-02-04T07:54:37.451696Z",
     "iopub.status.busy": "2023-02-04T07:54:37.451357Z",
     "iopub.status.idle": "2023-02-04T07:54:37.459932Z",
     "shell.execute_reply": "2023-02-04T07:54:37.459254Z"
    }
   },
   "outputs": [
    {
     "name": "stdout",
     "output_type": "stream",
     "text": [
      "v01M60VeuFZ1JwP7geadToegcEo\n"
     ]
    }
   ],
   "source": [
    "print(result.cseguid())"
   ]
  },
  {
   "cell_type": "markdown",
   "id": "b1bd7be9",
   "metadata": {},
   "source": [
    "The file name is based on the promoter, gene and terminator designations."
   ]
  },
  {
   "cell_type": "code",
   "execution_count": 25,
   "id": "1bbe523a",
   "metadata": {
    "execution": {
     "iopub.execute_input": "2023-02-04T07:54:37.462625Z",
     "iopub.status.busy": "2023-02-04T07:54:37.462418Z",
     "iopub.status.idle": "2023-02-04T07:54:37.465300Z",
     "shell.execute_reply": "2023-02-04T07:54:37.464802Z"
    }
   },
   "outputs": [],
   "source": [
    "result.locus = f\"tu:{gene.name}\"[:16]\n",
    "result.definition = \"pYPK0_TEF1_EcfabD_FBA1\""
   ]
  },
  {
   "cell_type": "markdown",
   "id": "a47ffe0a",
   "metadata": {},
   "source": [
    "Sequence is stamped with cseguid checksum. This can be used to verify the\n",
    "integrity of the sequence file."
   ]
  },
  {
   "cell_type": "code",
   "execution_count": 26,
   "id": "19e1d570",
   "metadata": {
    "execution": {
     "iopub.execute_input": "2023-02-04T07:54:37.467858Z",
     "iopub.status.busy": "2023-02-04T07:54:37.467628Z",
     "iopub.status.idle": "2023-02-04T07:54:37.478587Z",
     "shell.execute_reply": "2023-02-04T07:54:37.478048Z"
    }
   },
   "outputs": [
    {
     "data": {
      "text/plain": [
       "v01M60VeuFZ1JwP7geadToegcEo"
      ]
     },
     "execution_count": 26,
     "metadata": {},
     "output_type": "execute_result"
    }
   ],
   "source": [
    "result.stamp(\"cSEGUID\")"
   ]
  },
  {
   "cell_type": "markdown",
   "id": "b39adc60",
   "metadata": {},
   "source": [
    "Write sequence to a local file."
   ]
  },
  {
   "cell_type": "code",
   "execution_count": 27,
   "id": "a9673a8f",
   "metadata": {
    "execution": {
     "iopub.execute_input": "2023-02-04T07:54:37.481482Z",
     "iopub.status.busy": "2023-02-04T07:54:37.481295Z",
     "iopub.status.idle": "2023-02-04T07:54:37.501145Z",
     "shell.execute_reply": "2023-02-04T07:54:37.500624Z"
    }
   },
   "outputs": [
    {
     "data": {
      "text/html": [
       "<font face=monospace><a href='pYPK0_TEF1_EcfabD_FBA1.gb' target='_blank'>pYPK0_TEF1_EcfabD_FBA1.gb</a></font><br>"
      ]
     },
     "metadata": {},
     "output_type": "display_data"
    }
   ],
   "source": [
    "result.write(f\"{result.definition}.gb\")"
   ]
  },
  {
   "cell_type": "markdown",
   "id": "4190f37f",
   "metadata": {
    "lines_to_next_cell": 0
   },
   "source": [
    "### Suggested PCR programs\n",
    "\n",
    "For the [amplification](#PCR) of promoter, gene and terminator."
   ]
  },
  {
   "cell_type": "code",
   "execution_count": 28,
   "id": "64fb7a82",
   "metadata": {
    "execution": {
     "iopub.execute_input": "2023-02-04T07:54:37.503818Z",
     "iopub.status.busy": "2023-02-04T07:54:37.503395Z",
     "iopub.status.idle": "2023-02-04T07:54:37.507065Z",
     "shell.execute_reply": "2023-02-04T07:54:37.506494Z"
    }
   },
   "outputs": [
    {
     "name": "stdout",
     "output_type": "stream",
     "text": [
      "577_crp585-557 567_pCAPsAjiIF\n",
      "|95°C|95°C               |    |tmf:64.6\n",
      "|____|_____          72°C|72°C|tmr:69.7\n",
      "|3min|30s  \\ 57.1°C _____|____|45s/kb\n",
      "|    |      \\______/ 0:36|5min|GC 39%\n",
      "|    |       30s         |    |811bp\n"
     ]
    }
   ],
   "source": [
    "print(prom.forward_primer.name, prom.reverse_primer.name)\n",
    "print(prom.program())"
   ]
  },
  {
   "cell_type": "code",
   "execution_count": 29,
   "id": "c2403b7e",
   "metadata": {
    "execution": {
     "iopub.execute_input": "2023-02-04T07:54:37.509975Z",
     "iopub.status.busy": "2023-02-04T07:54:37.509684Z",
     "iopub.status.idle": "2023-02-04T07:54:37.515097Z",
     "shell.execute_reply": "2023-02-04T07:54:37.514178Z"
    }
   },
   "outputs": [
    {
     "name": "stdout",
     "output_type": "stream",
     "text": [
      "468_pCAPs_release_fw 467_pCAPs_release_re\n",
      "|95°C|95°C               |    |tmf:76.9\n",
      "|____|_____          72°C|72°C|tmr:67.9\n",
      "|3min|30s  \\ 62.7°C _____|____|45s/kb\n",
      "|    |      \\______/ 0:45|5min|GC 54%\n",
      "|    |       30s         |    |1019bp\n"
     ]
    }
   ],
   "source": [
    "print(gene.forward_primer.name, gene.reverse_primer.name)\n",
    "print(gene.program())"
   ]
  },
  {
   "cell_type": "code",
   "execution_count": 30,
   "id": "16ab07f8",
   "metadata": {
    "execution": {
     "iopub.execute_input": "2023-02-04T07:54:37.517797Z",
     "iopub.status.busy": "2023-02-04T07:54:37.517595Z",
     "iopub.status.idle": "2023-02-04T07:54:37.521328Z",
     "shell.execute_reply": "2023-02-04T07:54:37.520671Z"
    }
   },
   "outputs": [
    {
     "name": "stdout",
     "output_type": "stream",
     "text": [
      "568_pCAPsAjiIR 578_crp42-70\n",
      "|95°C|95°C               |    |tmf:66.1\n",
      "|____|_____          72°C|72°C|tmr:65.0\n",
      "|3min|30s  \\ 57.2°C _____|____|45s/kb\n",
      "|    |      \\______/ 0:43|5min|GC 38%\n",
      "|    |       30s         |    |970bp\n"
     ]
    }
   ],
   "source": [
    "print(term.forward_primer.name, term.reverse_primer.name)\n",
    "print(term.program())"
   ]
  }
 ],
 "metadata": {
  "jupytext": {
   "main_language": "python",
   "text_representation": {
    "extension": ".py",
    "format_name": "percent",
    "format_version": "1.3",
    "jupytext_version": "1.14.0"
   }
  },
  "language_info": {
   "codemirror_mode": {
    "name": "ipython",
    "version": 3
   },
   "file_extension": ".py",
   "mimetype": "text/x-python",
   "name": "python",
   "nbconvert_exporter": "python",
   "pygments_lexer": "ipython3",
   "version": "3.11.0"
  }
 },
 "nbformat": 4,
 "nbformat_minor": 5
}
