{
 "cells": [
  {
   "cell_type": "markdown",
   "id": "d4b624bb",
   "metadata": {},
   "source": [
    "# [![logo](logo.png)](https://github.com/BjornFJohansson/ypkpathway#-ypkpathway) pYPK0_PDC1_EcfabH_TEF1\n",
    "\n",
    "Assembly of a [_Saccharomyces cerevisiae_](http://www.yeastgenome.org) transcriptional unit vector.\n",
    "\n",
    "Made from a linear vector fragment and three PCR products:\n",
    "\n",
    "- a linearized pYPK0 vector for maintenance in _S. cerevisiae_ or _E. coli_ (red dashed line in figure below)\n",
    "- a promoter PCR product from the `pYPKa_Z_PDC1` vector\n",
    "- a gene PCR product from the `pYPKa_A_EcfabH` vector\n",
    "- a terminator PCR product from the `pYPKa_E_TEF1` vector\n",
    "\n",
    "The four linear DNA fragments are joined by _in-vivo_ homologous recombination in a\n",
    "[_Saccharomyces cerevisiae_](http://wiki.yeastgenome.org/index.php/Commonly_used_strains) strain.\n",
    "\n",
    "![tu](tu.png \"tu\")\n",
    "\n",
    "A part of the [pydna](https://pypi.python.org/pypi/pydna/) package is imported in the code cell below."
   ]
  },
  {
   "cell_type": "code",
   "execution_count": 1,
   "id": "02a21f59",
   "metadata": {
    "execution": {
     "iopub.execute_input": "2023-02-04T07:54:32.650885Z",
     "iopub.status.busy": "2023-02-04T07:54:32.650262Z",
     "iopub.status.idle": "2023-02-04T07:54:32.998165Z",
     "shell.execute_reply": "2023-02-04T07:54:32.997553Z"
    }
   },
   "outputs": [],
   "source": [
    "from pydna.parsers import parse_primers\n",
    "from pydna.readers import read\n",
    "from pydna.amplify import pcr\n",
    "from pydna.assembly import Assembly"
   ]
  },
  {
   "cell_type": "markdown",
   "id": "bc6111ac",
   "metadata": {},
   "source": [
    "The Yeast Pathway Kit [standard primers](standard_primers.fasta) are read into a dictionary in the code cell below."
   ]
  },
  {
   "cell_type": "code",
   "execution_count": 2,
   "id": "6cbc7446",
   "metadata": {
    "execution": {
     "iopub.execute_input": "2023-02-04T07:54:33.001281Z",
     "iopub.status.busy": "2023-02-04T07:54:33.000974Z",
     "iopub.status.idle": "2023-02-04T07:54:33.010808Z",
     "shell.execute_reply": "2023-02-04T07:54:33.010114Z"
    }
   },
   "outputs": [],
   "source": [
    "p = {x.name: x for x in parse_primers(\"standard_primers.fasta\")}"
   ]
  },
  {
   "cell_type": "markdown",
   "id": "bb93f7ab",
   "metadata": {},
   "source": [
    "The backbone vector [pYPK0](pYPK0.gb) is read from a local file in the code cell below."
   ]
  },
  {
   "cell_type": "code",
   "execution_count": 3,
   "id": "2985131e",
   "metadata": {
    "execution": {
     "iopub.execute_input": "2023-02-04T07:54:33.014298Z",
     "iopub.status.busy": "2023-02-04T07:54:33.013798Z",
     "iopub.status.idle": "2023-02-04T07:54:33.027260Z",
     "shell.execute_reply": "2023-02-04T07:54:33.026294Z"
    }
   },
   "outputs": [],
   "source": [
    "backbone = read(\"pYPK0.gb\")"
   ]
  },
  {
   "cell_type": "markdown",
   "id": "b39b98b8",
   "metadata": {},
   "source": [
    "The backbone vector is linearized by digestion with [MfeI](https://www.google.com/search?q=MfeI)."
   ]
  },
  {
   "cell_type": "code",
   "execution_count": 4,
   "id": "d9cdec7b",
   "metadata": {
    "execution": {
     "iopub.execute_input": "2023-02-04T07:54:33.031193Z",
     "iopub.status.busy": "2023-02-04T07:54:33.030912Z",
     "iopub.status.idle": "2023-02-04T07:54:33.034869Z",
     "shell.execute_reply": "2023-02-04T07:54:33.033993Z"
    }
   },
   "outputs": [],
   "source": [
    "from Bio.Restriction import MfeI"
   ]
  },
  {
   "cell_type": "code",
   "execution_count": 5,
   "id": "fb5d7bb4",
   "metadata": {
    "execution": {
     "iopub.execute_input": "2023-02-04T07:54:33.039215Z",
     "iopub.status.busy": "2023-02-04T07:54:33.038863Z",
     "iopub.status.idle": "2023-02-04T07:54:33.048023Z",
     "shell.execute_reply": "2023-02-04T07:54:33.047296Z"
    }
   },
   "outputs": [],
   "source": [
    "linear_backbone = backbone.linearize(MfeI)"
   ]
  },
  {
   "cell_type": "markdown",
   "id": "b7cf2794",
   "metadata": {},
   "source": [
    "The pYPKa derived _E. coli_ plasmids containing\n",
    "- [promoter](pYPKa_Z_PDC1.gb)\n",
    "- [gene](pYPKa_A_EcfabH.gb)\n",
    "- [terminator](pYPKa_E_TEF1.gb)\n",
    "\n",
    "are read into three variables below."
   ]
  },
  {
   "cell_type": "code",
   "execution_count": 6,
   "id": "cf9c9937",
   "metadata": {
    "execution": {
     "iopub.execute_input": "2023-02-04T07:54:33.051392Z",
     "iopub.status.busy": "2023-02-04T07:54:33.050893Z",
     "iopub.status.idle": "2023-02-04T07:54:33.066426Z",
     "shell.execute_reply": "2023-02-04T07:54:33.065863Z"
    }
   },
   "outputs": [],
   "source": [
    "promoter_template   = read(\"pYPKa_Z_PDC1.gb\")\n",
    "gene_template       = read(\"pYPKa_A_EcfabH.gb\")\n",
    "terminator_template = read(\"pYPKa_E_TEF1.gb\")"
   ]
  },
  {
   "cell_type": "markdown",
   "id": "d0a46968",
   "metadata": {
    "lines_to_next_cell": 0
   },
   "source": [
    "### PCR\n",
    "Three DNA fragments are PCR amplified using [standard primers](standard_primers.fasta).\n",
    "\n",
    "[Suggested PCR programs](#Suggested-PCR-programs) can be found at the end of this document."
   ]
  },
  {
   "cell_type": "code",
   "execution_count": 7,
   "id": "6fdc695f",
   "metadata": {
    "execution": {
     "iopub.execute_input": "2023-02-04T07:54:33.069382Z",
     "iopub.status.busy": "2023-02-04T07:54:33.068973Z",
     "iopub.status.idle": "2023-02-04T07:54:33.072794Z",
     "shell.execute_reply": "2023-02-04T07:54:33.072101Z"
    }
   },
   "outputs": [],
   "source": [
    "\n",
    "fp_prom = p['577_crp585-557']\n",
    "rp_prom = p['567_pCAPsAjiIF']\n",
    "fp_gene = p['468_pCAPs_release_fw']\n",
    "rp_gene = p['467_pCAPs_release_re']\n",
    "fp_term = p['568_pCAPsAjiIR']\n",
    "rp_term = p['578_crp42-70']"
   ]
  },
  {
   "cell_type": "code",
   "execution_count": 8,
   "id": "87e0b81b",
   "metadata": {
    "execution": {
     "iopub.execute_input": "2023-02-04T07:54:33.076080Z",
     "iopub.status.busy": "2023-02-04T07:54:33.075561Z",
     "iopub.status.idle": "2023-02-04T07:54:33.098837Z",
     "shell.execute_reply": "2023-02-04T07:54:33.098116Z"
    }
   },
   "outputs": [],
   "source": [
    "prom = pcr(fp_prom, rp_prom, promoter_template)\n",
    "gene = pcr(fp_gene, rp_gene, gene_template)\n",
    "term = pcr(fp_term, rp_term, terminator_template)"
   ]
  },
  {
   "cell_type": "code",
   "execution_count": 9,
   "id": "8b4de356",
   "metadata": {
    "execution": {
     "iopub.execute_input": "2023-02-04T07:54:33.103509Z",
     "iopub.status.busy": "2023-02-04T07:54:33.101764Z",
     "iopub.status.idle": "2023-02-04T07:54:33.106533Z",
     "shell.execute_reply": "2023-02-04T07:54:33.105794Z"
    }
   },
   "outputs": [],
   "source": [
    "prom.name = \"pYPKa_Z_PDC1\"[8:]\n",
    "gene.name = \"pYPKa_A_EcfabH\"[8:]\n",
    "term.name = \"pYPKa_E_TEF1\"[8:]"
   ]
  },
  {
   "cell_type": "markdown",
   "id": "dec18d22",
   "metadata": {},
   "source": [
    "\n",
    "The fragments will be assembled by _in-vivo_ [homologous recombination](http://www.ncbi.nlm.nih.gov/pubmed/2828185):"
   ]
  },
  {
   "cell_type": "code",
   "execution_count": 10,
   "id": "67ab17c1",
   "metadata": {
    "execution": {
     "iopub.execute_input": "2023-02-04T07:54:33.110301Z",
     "iopub.status.busy": "2023-02-04T07:54:33.109941Z",
     "iopub.status.idle": "2023-02-04T07:54:33.582862Z",
     "shell.execute_reply": "2023-02-04T07:54:33.582220Z"
    }
   },
   "outputs": [
    {
     "data": {
      "text/plain": [
       "Assembly\n",
       "fragments..: 5766bp 1187bp 1043bp 919bp\n",
       "limit(bp)..: 31\n",
       "G.nodes....: 10\n",
       "algorithm..: common_sub_strings"
      ]
     },
     "execution_count": 10,
     "metadata": {},
     "output_type": "execute_result"
    }
   ],
   "source": [
    "asm = Assembly((linear_backbone, prom, gene, term), limit=31)\n",
    "asm"
   ]
  },
  {
   "cell_type": "markdown",
   "id": "19a88b71",
   "metadata": {},
   "source": [
    "The Assembly object above should normally indicate four fragments and eight nodes."
   ]
  },
  {
   "cell_type": "code",
   "execution_count": 11,
   "id": "c3538b32",
   "metadata": {
    "execution": {
     "iopub.execute_input": "2023-02-04T07:54:33.586572Z",
     "iopub.status.busy": "2023-02-04T07:54:33.585842Z",
     "iopub.status.idle": "2023-02-04T07:54:33.812231Z",
     "shell.execute_reply": "2023-02-04T07:54:33.811531Z"
    },
    "lines_to_next_cell": 0
   },
   "outputs": [
    {
     "data": {
      "text/plain": [
       "[Contig(o8280), Contig(o8280), Contig(o8280), Contig(o7311), Contig(o7311)]"
      ]
     },
     "execution_count": 11,
     "metadata": {},
     "output_type": "execute_result"
    }
   ],
   "source": [
    "candidates = asm.assemble_circular()\n",
    "candidates"
   ]
  },
  {
   "cell_type": "markdown",
   "id": "4325ebf0",
   "metadata": {},
   "source": [
    "There should normally be two candidates of equal size. These sequences should be identical."
   ]
  },
  {
   "cell_type": "code",
   "execution_count": 12,
   "id": "facaf89d",
   "metadata": {
    "execution": {
     "iopub.execute_input": "2023-02-04T07:54:33.815610Z",
     "iopub.status.busy": "2023-02-04T07:54:33.814841Z",
     "iopub.status.idle": "2023-02-04T07:54:33.819249Z",
     "shell.execute_reply": "2023-02-04T07:54:33.818484Z"
    },
    "lines_to_next_cell": 0
   },
   "outputs": [],
   "source": [
    "candidate, *rest = candidates"
   ]
  },
  {
   "cell_type": "code",
   "execution_count": 13,
   "id": "753e6654",
   "metadata": {
    "execution": {
     "iopub.execute_input": "2023-02-04T07:54:33.823378Z",
     "iopub.status.busy": "2023-02-04T07:54:33.823091Z",
     "iopub.status.idle": "2023-02-04T07:54:33.842134Z",
     "shell.execute_reply": "2023-02-04T07:54:33.841515Z"
    },
    "lines_to_next_cell": 0
   },
   "outputs": [
    {
     "data": {
      "text/plain": [
       "True"
      ]
     },
     "execution_count": 13,
     "metadata": {},
     "output_type": "execute_result"
    }
   ],
   "source": [
    "candidate.cseguid() == rest[0].cseguid()"
   ]
  },
  {
   "cell_type": "code",
   "execution_count": 14,
   "id": "af42f584",
   "metadata": {
    "execution": {
     "iopub.execute_input": "2023-02-04T07:54:33.844597Z",
     "iopub.status.busy": "2023-02-04T07:54:33.844366Z",
     "iopub.status.idle": "2023-02-04T07:54:33.848258Z",
     "shell.execute_reply": "2023-02-04T07:54:33.847738Z"
    },
    "lines_to_next_cell": 0
   },
   "outputs": [
    {
     "data": {
      "text/plain": [
       " -|pYPK0_lin|168\n",
       "|            \\/\n",
       "|            /\\\n",
       "|            168|PDC1|48\n",
       "|                     \\/\n",
       "|                     /\\\n",
       "|                     48|EcfabH|37\n",
       "|                               \\/\n",
       "|                               /\\\n",
       "|                               37|TEF1|276\n",
       "|                                       \\/\n",
       "|                                       /\\\n",
       "|                                       276-\n",
       "|                                          |\n",
       " ------------------------------------------"
      ]
     },
     "execution_count": 14,
     "metadata": {},
     "output_type": "execute_result"
    }
   ],
   "source": [
    "candidate.figure()"
   ]
  },
  {
   "cell_type": "markdown",
   "id": "b76f4a2f",
   "metadata": {},
   "source": [
    "The candidate vector is synchronized to the 577 primer. This means that\n",
    "the plasmid origin is shifted so that it matches the backbone vector."
   ]
  },
  {
   "cell_type": "code",
   "execution_count": 15,
   "id": "f2faeb8b",
   "metadata": {
    "execution": {
     "iopub.execute_input": "2023-02-04T07:54:33.850892Z",
     "iopub.status.busy": "2023-02-04T07:54:33.850627Z",
     "iopub.status.idle": "2023-02-04T07:54:34.166321Z",
     "shell.execute_reply": "2023-02-04T07:54:34.165707Z"
    }
   },
   "outputs": [],
   "source": [
    "result = candidate.synced(fp_prom)"
   ]
  },
  {
   "cell_type": "markdown",
   "id": "f68a0371",
   "metadata": {},
   "source": [
    "### Diagnostic PCR confirmation\n",
    "\n",
    "The structure of the final vector is confirmed by two\n",
    "separate PCR reactions, one for the promoter and gene and\n",
    "one for the gene and terminator.\n",
    "\n",
    "PCR using standard primers 577 and 467 to amplify promoter and gene."
   ]
  },
  {
   "cell_type": "code",
   "execution_count": 16,
   "id": "5e94ffdb",
   "metadata": {
    "execution": {
     "iopub.execute_input": "2023-02-04T07:54:34.169948Z",
     "iopub.status.busy": "2023-02-04T07:54:34.169701Z",
     "iopub.status.idle": "2023-02-04T07:54:34.190799Z",
     "shell.execute_reply": "2023-02-04T07:54:34.190122Z"
    }
   },
   "outputs": [],
   "source": [
    "product = pcr( fp_prom, rp_gene, result)"
   ]
  },
  {
   "cell_type": "markdown",
   "id": "e83a7901",
   "metadata": {},
   "source": [
    "A correct clone should give this size in base pairs:"
   ]
  },
  {
   "cell_type": "code",
   "execution_count": 17,
   "id": "336c9ac5",
   "metadata": {
    "execution": {
     "iopub.execute_input": "2023-02-04T07:54:34.193997Z",
     "iopub.status.busy": "2023-02-04T07:54:34.193422Z",
     "iopub.status.idle": "2023-02-04T07:54:34.197206Z",
     "shell.execute_reply": "2023-02-04T07:54:34.196554Z"
    }
   },
   "outputs": [
    {
     "name": "stdout",
     "output_type": "stream",
     "text": [
      "2180\n"
     ]
    }
   ],
   "source": [
    "print(len(product))"
   ]
  },
  {
   "cell_type": "markdown",
   "id": "84498129",
   "metadata": {},
   "source": [
    "If the promoter is missing from the assembly, the PCR product will have this size in base pairs:"
   ]
  },
  {
   "cell_type": "code",
   "execution_count": 18,
   "id": "e10a27c2",
   "metadata": {
    "execution": {
     "iopub.execute_input": "2023-02-04T07:54:34.202144Z",
     "iopub.status.busy": "2023-02-04T07:54:34.201766Z",
     "iopub.status.idle": "2023-02-04T07:54:34.207473Z",
     "shell.execute_reply": "2023-02-04T07:54:34.206595Z"
    }
   },
   "outputs": [
    {
     "name": "stdout",
     "output_type": "stream",
     "text": [
      "993\n"
     ]
    }
   ],
   "source": [
    "print(len(product) - len(prom))"
   ]
  },
  {
   "cell_type": "markdown",
   "id": "7f3a4ff8",
   "metadata": {},
   "source": [
    "If the gene is missing from the assembly, the PCR product will have this size in base pairs:"
   ]
  },
  {
   "cell_type": "code",
   "execution_count": 19,
   "id": "cd9dd981",
   "metadata": {
    "execution": {
     "iopub.execute_input": "2023-02-04T07:54:34.210942Z",
     "iopub.status.busy": "2023-02-04T07:54:34.210607Z",
     "iopub.status.idle": "2023-02-04T07:54:34.214784Z",
     "shell.execute_reply": "2023-02-04T07:54:34.214127Z"
    }
   },
   "outputs": [
    {
     "name": "stdout",
     "output_type": "stream",
     "text": [
      "1137\n"
     ]
    }
   ],
   "source": [
    "print(len(product) - len(gene))"
   ]
  },
  {
   "cell_type": "markdown",
   "id": "f2363d93",
   "metadata": {},
   "source": [
    "PCR using standard primers 468 and 578 to amplify gene and terminator."
   ]
  },
  {
   "cell_type": "code",
   "execution_count": 20,
   "id": "8b267777",
   "metadata": {
    "execution": {
     "iopub.execute_input": "2023-02-04T07:54:34.217525Z",
     "iopub.status.busy": "2023-02-04T07:54:34.217281Z",
     "iopub.status.idle": "2023-02-04T07:54:34.238385Z",
     "shell.execute_reply": "2023-02-04T07:54:34.237563Z"
    }
   },
   "outputs": [],
   "source": [
    "product2 = pcr( fp_gene, rp_term, result)"
   ]
  },
  {
   "cell_type": "markdown",
   "id": "debcc5a4",
   "metadata": {},
   "source": [
    "A correct clone should give this size:"
   ]
  },
  {
   "cell_type": "code",
   "execution_count": 21,
   "id": "3b7ff866",
   "metadata": {
    "execution": {
     "iopub.execute_input": "2023-02-04T07:54:34.242353Z",
     "iopub.status.busy": "2023-02-04T07:54:34.242084Z",
     "iopub.status.idle": "2023-02-04T07:54:34.246636Z",
     "shell.execute_reply": "2023-02-04T07:54:34.245721Z"
    }
   },
   "outputs": [
    {
     "name": "stdout",
     "output_type": "stream",
     "text": [
      "1925\n"
     ]
    }
   ],
   "source": [
    "print(len(product2))"
   ]
  },
  {
   "cell_type": "markdown",
   "id": "3dfe44ff",
   "metadata": {},
   "source": [
    "If the gene is missing from the assembly, the PCR product will have this size in base pairs:"
   ]
  },
  {
   "cell_type": "code",
   "execution_count": 22,
   "id": "4e417597",
   "metadata": {
    "execution": {
     "iopub.execute_input": "2023-02-04T07:54:34.250047Z",
     "iopub.status.busy": "2023-02-04T07:54:34.249446Z",
     "iopub.status.idle": "2023-02-04T07:54:34.253696Z",
     "shell.execute_reply": "2023-02-04T07:54:34.252982Z"
    }
   },
   "outputs": [
    {
     "name": "stdout",
     "output_type": "stream",
     "text": [
      "882\n"
     ]
    }
   ],
   "source": [
    "print(len(product2) - len(gene))"
   ]
  },
  {
   "cell_type": "markdown",
   "id": "158cb37d",
   "metadata": {},
   "source": [
    "If the terminator is missing from the assembly, the PCR product will have this size in base pairs:"
   ]
  },
  {
   "cell_type": "code",
   "execution_count": 23,
   "id": "bc95a119",
   "metadata": {
    "execution": {
     "iopub.execute_input": "2023-02-04T07:54:34.257300Z",
     "iopub.status.busy": "2023-02-04T07:54:34.256933Z",
     "iopub.status.idle": "2023-02-04T07:54:34.261496Z",
     "shell.execute_reply": "2023-02-04T07:54:34.260437Z"
    }
   },
   "outputs": [
    {
     "name": "stdout",
     "output_type": "stream",
     "text": [
      "1006\n"
     ]
    }
   ],
   "source": [
    "print(len(product2) - len(term))"
   ]
  },
  {
   "cell_type": "markdown",
   "id": "57114a40",
   "metadata": {},
   "source": [
    "The cseguid checksum for the resulting plasmid is calculated for future reference.\n",
    "The [cseguid checksum](http://pydna.readthedocs.org/en/latest/pydna.html#pydna.utils.cseguid)\n",
    "uniquely identifies a circular double stranded sequence."
   ]
  },
  {
   "cell_type": "code",
   "execution_count": 24,
   "id": "a944e5b0",
   "metadata": {
    "execution": {
     "iopub.execute_input": "2023-02-04T07:54:34.264798Z",
     "iopub.status.busy": "2023-02-04T07:54:34.264550Z",
     "iopub.status.idle": "2023-02-04T07:54:34.274481Z",
     "shell.execute_reply": "2023-02-04T07:54:34.273914Z"
    }
   },
   "outputs": [
    {
     "name": "stdout",
     "output_type": "stream",
     "text": [
      "QPD3pgUORlbvSUw-xQVoCtvx88I\n"
     ]
    }
   ],
   "source": [
    "print(result.cseguid())"
   ]
  },
  {
   "cell_type": "markdown",
   "id": "de4bf02f",
   "metadata": {},
   "source": [
    "The file name is based on the promoter, gene and terminator designations."
   ]
  },
  {
   "cell_type": "code",
   "execution_count": 25,
   "id": "1233dfd9",
   "metadata": {
    "execution": {
     "iopub.execute_input": "2023-02-04T07:54:34.277007Z",
     "iopub.status.busy": "2023-02-04T07:54:34.276788Z",
     "iopub.status.idle": "2023-02-04T07:54:34.280377Z",
     "shell.execute_reply": "2023-02-04T07:54:34.279623Z"
    }
   },
   "outputs": [],
   "source": [
    "result.locus = f\"tu:{gene.name}\"[:16]\n",
    "result.definition = \"pYPK0_PDC1_EcfabH_TEF1\""
   ]
  },
  {
   "cell_type": "markdown",
   "id": "f3e688ad",
   "metadata": {},
   "source": [
    "Sequence is stamped with cseguid checksum. This can be used to verify the\n",
    "integrity of the sequence file."
   ]
  },
  {
   "cell_type": "code",
   "execution_count": 26,
   "id": "54857417",
   "metadata": {
    "execution": {
     "iopub.execute_input": "2023-02-04T07:54:34.283701Z",
     "iopub.status.busy": "2023-02-04T07:54:34.283427Z",
     "iopub.status.idle": "2023-02-04T07:54:34.297862Z",
     "shell.execute_reply": "2023-02-04T07:54:34.297047Z"
    }
   },
   "outputs": [
    {
     "data": {
      "text/plain": [
       "QPD3pgUORlbvSUw-xQVoCtvx88I"
      ]
     },
     "execution_count": 26,
     "metadata": {},
     "output_type": "execute_result"
    }
   ],
   "source": [
    "result.stamp(\"cSEGUID\")"
   ]
  },
  {
   "cell_type": "markdown",
   "id": "8a8faff0",
   "metadata": {},
   "source": [
    "Write sequence to a local file."
   ]
  },
  {
   "cell_type": "code",
   "execution_count": 27,
   "id": "6cda4abc",
   "metadata": {
    "execution": {
     "iopub.execute_input": "2023-02-04T07:54:34.301276Z",
     "iopub.status.busy": "2023-02-04T07:54:34.300957Z",
     "iopub.status.idle": "2023-02-04T07:54:34.318557Z",
     "shell.execute_reply": "2023-02-04T07:54:34.318070Z"
    }
   },
   "outputs": [
    {
     "data": {
      "text/html": [
       "<font face=monospace><a href='pYPK0_PDC1_EcfabH_TEF1.gb' target='_blank'>pYPK0_PDC1_EcfabH_TEF1.gb</a></font><br>"
      ]
     },
     "metadata": {},
     "output_type": "display_data"
    }
   ],
   "source": [
    "result.write(f\"{result.definition}.gb\")"
   ]
  },
  {
   "cell_type": "markdown",
   "id": "dff177a6",
   "metadata": {
    "lines_to_next_cell": 0
   },
   "source": [
    "### Suggested PCR programs\n",
    "\n",
    "For the [amplification](#PCR) of promoter, gene and terminator."
   ]
  },
  {
   "cell_type": "code",
   "execution_count": 28,
   "id": "94c16241",
   "metadata": {
    "execution": {
     "iopub.execute_input": "2023-02-04T07:54:34.321321Z",
     "iopub.status.busy": "2023-02-04T07:54:34.320896Z",
     "iopub.status.idle": "2023-02-04T07:54:34.324864Z",
     "shell.execute_reply": "2023-02-04T07:54:34.324281Z"
    }
   },
   "outputs": [
    {
     "name": "stdout",
     "output_type": "stream",
     "text": [
      "577_crp585-557 567_pCAPsAjiIF\n",
      "|95°C|95°C               |    |tmf:64.6\n",
      "|____|_____          72°C|72°C|tmr:69.7\n",
      "|3min|30s  \\ 57.2°C _____|____|45s/kb\n",
      "|    |      \\______/ 0:53|5min|GC 38%\n",
      "|    |       30s         |    |1187bp\n"
     ]
    }
   ],
   "source": [
    "print(prom.forward_primer.name, prom.reverse_primer.name)\n",
    "print(prom.program())"
   ]
  },
  {
   "cell_type": "code",
   "execution_count": 29,
   "id": "d80e428a",
   "metadata": {
    "execution": {
     "iopub.execute_input": "2023-02-04T07:54:34.327769Z",
     "iopub.status.busy": "2023-02-04T07:54:34.327410Z",
     "iopub.status.idle": "2023-02-04T07:54:34.332886Z",
     "shell.execute_reply": "2023-02-04T07:54:34.331961Z"
    }
   },
   "outputs": [
    {
     "name": "stdout",
     "output_type": "stream",
     "text": [
      "468_pCAPs_release_fw 467_pCAPs_release_re\n",
      "|95°C|95°C               |    |tmf:76.9\n",
      "|____|_____          72°C|72°C|tmr:67.9\n",
      "|3min|30s  \\ 62.6°C _____|____|45s/kb\n",
      "|    |      \\______/ 0:46|5min|GC 54%\n",
      "|    |       30s         |    |1043bp\n"
     ]
    }
   ],
   "source": [
    "print(gene.forward_primer.name, gene.reverse_primer.name)\n",
    "print(gene.program())"
   ]
  },
  {
   "cell_type": "code",
   "execution_count": 30,
   "id": "52f9c10c",
   "metadata": {
    "execution": {
     "iopub.execute_input": "2023-02-04T07:54:34.336173Z",
     "iopub.status.busy": "2023-02-04T07:54:34.335920Z",
     "iopub.status.idle": "2023-02-04T07:54:34.340511Z",
     "shell.execute_reply": "2023-02-04T07:54:34.339678Z"
    }
   },
   "outputs": [
    {
     "name": "stdout",
     "output_type": "stream",
     "text": [
      "568_pCAPsAjiIR 578_crp42-70\n",
      "|95°C|95°C               |    |tmf:66.1\n",
      "|____|_____          72°C|72°C|tmr:65.0\n",
      "|3min|30s  \\ 57.1°C _____|____|45s/kb\n",
      "|    |      \\______/ 0:41|5min|GC 38%\n",
      "|    |       30s         |    |919bp\n"
     ]
    }
   ],
   "source": [
    "print(term.forward_primer.name, term.reverse_primer.name)\n",
    "print(term.program())"
   ]
  }
 ],
 "metadata": {
  "jupytext": {
   "main_language": "python",
   "text_representation": {
    "extension": ".py",
    "format_name": "percent",
    "format_version": "1.3",
    "jupytext_version": "1.14.0"
   }
  },
  "language_info": {
   "codemirror_mode": {
    "name": "ipython",
    "version": 3
   },
   "file_extension": ".py",
   "mimetype": "text/x-python",
   "name": "python",
   "nbconvert_exporter": "python",
   "pygments_lexer": "ipython3",
   "version": "3.11.0"
  }
 },
 "nbformat": 4,
 "nbformat_minor": 5
}
