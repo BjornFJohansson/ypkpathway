{
 "cells": [
  {
   "cell_type": "markdown",
   "id": "ed1acd40",
   "metadata": {},
   "source": [
    "# [![logo](logo.png)](https://github.com/BjornFJohansson/ypkpathway#-ypkpathway) pYPK0_RPL16A_EcacpS_RPL17A\n",
    "\n",
    "Assembly of a [_Saccharomyces cerevisiae_](http://www.yeastgenome.org) transcriptional unit vector.\n",
    "\n",
    "Made from a linear vector fragment and three PCR products:\n",
    "\n",
    "- a linearized pYPK0 vector for maintenance in _S. cerevisiae_ or _E. coli_ (red dashed line in figure below)\n",
    "- a promoter PCR product from the `pYPKa_Z_RPL16A` vector\n",
    "- a gene PCR product from the `pYPKa_A_EcacpS` vector\n",
    "- a terminator PCR product from the `pYPKa_E_RPL17A` vector\n",
    "\n",
    "The four linear DNA fragments are joined by _in-vivo_ homologous recombination in a\n",
    "[_Saccharomyces cerevisiae_](http://wiki.yeastgenome.org/index.php/Commonly_used_strains) strain.\n",
    "\n",
    "![tu](tu.png \"tu\")\n",
    "\n",
    "A part of the [pydna](https://pypi.python.org/pypi/pydna/) package is imported in the code cell below."
   ]
  },
  {
   "cell_type": "code",
   "execution_count": 1,
   "id": "4eee68ab",
   "metadata": {
    "execution": {
     "iopub.execute_input": "2023-02-04T07:55:08.492294Z",
     "iopub.status.busy": "2023-02-04T07:55:08.491596Z",
     "iopub.status.idle": "2023-02-04T07:55:08.840404Z",
     "shell.execute_reply": "2023-02-04T07:55:08.839729Z"
    }
   },
   "outputs": [],
   "source": [
    "from pydna.parsers import parse_primers\n",
    "from pydna.readers import read\n",
    "from pydna.amplify import pcr\n",
    "from pydna.assembly import Assembly"
   ]
  },
  {
   "cell_type": "markdown",
   "id": "d46f07b0",
   "metadata": {},
   "source": [
    "The Yeast Pathway Kit [standard primers](standard_primers.fasta) are read into a dictionary in the code cell below."
   ]
  },
  {
   "cell_type": "code",
   "execution_count": 2,
   "id": "e9097d29",
   "metadata": {
    "execution": {
     "iopub.execute_input": "2023-02-04T07:55:08.843756Z",
     "iopub.status.busy": "2023-02-04T07:55:08.843349Z",
     "iopub.status.idle": "2023-02-04T07:55:08.857001Z",
     "shell.execute_reply": "2023-02-04T07:55:08.856387Z"
    }
   },
   "outputs": [],
   "source": [
    "p = {x.name: x for x in parse_primers(\"standard_primers.fasta\")}"
   ]
  },
  {
   "cell_type": "markdown",
   "id": "ab743a60",
   "metadata": {},
   "source": [
    "The backbone vector [pYPK0](pYPK0.gb) is read from a local file in the code cell below."
   ]
  },
  {
   "cell_type": "code",
   "execution_count": 3,
   "id": "708448c5",
   "metadata": {
    "execution": {
     "iopub.execute_input": "2023-02-04T07:55:08.860387Z",
     "iopub.status.busy": "2023-02-04T07:55:08.859805Z",
     "iopub.status.idle": "2023-02-04T07:55:08.871350Z",
     "shell.execute_reply": "2023-02-04T07:55:08.870590Z"
    }
   },
   "outputs": [],
   "source": [
    "backbone = read(\"pYPK0.gb\")"
   ]
  },
  {
   "cell_type": "markdown",
   "id": "03206b40",
   "metadata": {},
   "source": [
    "The backbone vector is linearized by digestion with [MfeI](https://www.google.com/search?q=MfeI)."
   ]
  },
  {
   "cell_type": "code",
   "execution_count": 4,
   "id": "2cc75889",
   "metadata": {
    "execution": {
     "iopub.execute_input": "2023-02-04T07:55:08.875048Z",
     "iopub.status.busy": "2023-02-04T07:55:08.874598Z",
     "iopub.status.idle": "2023-02-04T07:55:08.878653Z",
     "shell.execute_reply": "2023-02-04T07:55:08.877800Z"
    }
   },
   "outputs": [],
   "source": [
    "from Bio.Restriction import MfeI"
   ]
  },
  {
   "cell_type": "code",
   "execution_count": 5,
   "id": "82e6e22b",
   "metadata": {
    "execution": {
     "iopub.execute_input": "2023-02-04T07:55:08.881972Z",
     "iopub.status.busy": "2023-02-04T07:55:08.881499Z",
     "iopub.status.idle": "2023-02-04T07:55:08.892414Z",
     "shell.execute_reply": "2023-02-04T07:55:08.891463Z"
    }
   },
   "outputs": [],
   "source": [
    "linear_backbone = backbone.linearize(MfeI)"
   ]
  },
  {
   "cell_type": "markdown",
   "id": "8db34710",
   "metadata": {},
   "source": [
    "The pYPKa derived _E. coli_ plasmids containing\n",
    "- [promoter](pYPKa_Z_RPL16A.gb)\n",
    "- [gene](pYPKa_A_EcacpS.gb)\n",
    "- [terminator](pYPKa_E_RPL17A.gb)\n",
    "\n",
    "are read into three variables below."
   ]
  },
  {
   "cell_type": "code",
   "execution_count": 6,
   "id": "d79589c4",
   "metadata": {
    "execution": {
     "iopub.execute_input": "2023-02-04T07:55:08.896460Z",
     "iopub.status.busy": "2023-02-04T07:55:08.895921Z",
     "iopub.status.idle": "2023-02-04T07:55:08.915674Z",
     "shell.execute_reply": "2023-02-04T07:55:08.915036Z"
    }
   },
   "outputs": [],
   "source": [
    "promoter_template   = read(\"pYPKa_Z_RPL16A.gb\")\n",
    "gene_template       = read(\"pYPKa_A_EcacpS.gb\")\n",
    "terminator_template = read(\"pYPKa_E_RPL17A.gb\")"
   ]
  },
  {
   "cell_type": "markdown",
   "id": "01afe31c",
   "metadata": {
    "lines_to_next_cell": 0
   },
   "source": [
    "### PCR\n",
    "Three DNA fragments are PCR amplified using [standard primers](standard_primers.fasta).\n",
    "\n",
    "[Suggested PCR programs](#Suggested-PCR-programs) can be found at the end of this document."
   ]
  },
  {
   "cell_type": "code",
   "execution_count": 7,
   "id": "611bee9c",
   "metadata": {
    "execution": {
     "iopub.execute_input": "2023-02-04T07:55:08.919954Z",
     "iopub.status.busy": "2023-02-04T07:55:08.919589Z",
     "iopub.status.idle": "2023-02-04T07:55:08.923968Z",
     "shell.execute_reply": "2023-02-04T07:55:08.923207Z"
    }
   },
   "outputs": [],
   "source": [
    "\n",
    "fp_prom = p['577_crp585-557']\n",
    "rp_prom = p['567_pCAPsAjiIF']\n",
    "fp_gene = p['468_pCAPs_release_fw']\n",
    "rp_gene = p['467_pCAPs_release_re']\n",
    "fp_term = p['568_pCAPsAjiIR']\n",
    "rp_term = p['578_crp42-70']"
   ]
  },
  {
   "cell_type": "code",
   "execution_count": 8,
   "id": "3ef95bdc",
   "metadata": {
    "execution": {
     "iopub.execute_input": "2023-02-04T07:55:08.927456Z",
     "iopub.status.busy": "2023-02-04T07:55:08.927163Z",
     "iopub.status.idle": "2023-02-04T07:55:08.958575Z",
     "shell.execute_reply": "2023-02-04T07:55:08.957813Z"
    }
   },
   "outputs": [],
   "source": [
    "prom = pcr(fp_prom, rp_prom, promoter_template)\n",
    "gene = pcr(fp_gene, rp_gene, gene_template)\n",
    "term = pcr(fp_term, rp_term, terminator_template)"
   ]
  },
  {
   "cell_type": "code",
   "execution_count": 9,
   "id": "c64f5d31",
   "metadata": {
    "execution": {
     "iopub.execute_input": "2023-02-04T07:55:08.961555Z",
     "iopub.status.busy": "2023-02-04T07:55:08.961278Z",
     "iopub.status.idle": "2023-02-04T07:55:08.965134Z",
     "shell.execute_reply": "2023-02-04T07:55:08.964544Z"
    }
   },
   "outputs": [],
   "source": [
    "prom.name = \"pYPKa_Z_RPL16A\"[8:]\n",
    "gene.name = \"pYPKa_A_EcacpS\"[8:]\n",
    "term.name = \"pYPKa_E_RPL17A\"[8:]"
   ]
  },
  {
   "cell_type": "markdown",
   "id": "57be581c",
   "metadata": {},
   "source": [
    "\n",
    "The fragments will be assembled by _in-vivo_ [homologous recombination](http://www.ncbi.nlm.nih.gov/pubmed/2828185):"
   ]
  },
  {
   "cell_type": "code",
   "execution_count": 10,
   "id": "fbb070b5",
   "metadata": {
    "execution": {
     "iopub.execute_input": "2023-02-04T07:55:08.968513Z",
     "iopub.status.busy": "2023-02-04T07:55:08.968106Z",
     "iopub.status.idle": "2023-02-04T07:55:09.402135Z",
     "shell.execute_reply": "2023-02-04T07:55:09.401580Z"
    }
   },
   "outputs": [
    {
     "data": {
      "text/plain": [
       "Assembly\n",
       "fragments..: 5766bp 674bp 470bp 1008bp\n",
       "limit(bp)..: 31\n",
       "G.nodes....: 10\n",
       "algorithm..: common_sub_strings"
      ]
     },
     "execution_count": 10,
     "metadata": {},
     "output_type": "execute_result"
    }
   ],
   "source": [
    "asm = Assembly((linear_backbone, prom, gene, term), limit=31)\n",
    "asm"
   ]
  },
  {
   "cell_type": "markdown",
   "id": "882d2404",
   "metadata": {},
   "source": [
    "The Assembly object above should normally indicate four fragments and eight nodes."
   ]
  },
  {
   "cell_type": "code",
   "execution_count": 11,
   "id": "5198d7b9",
   "metadata": {
    "execution": {
     "iopub.execute_input": "2023-02-04T07:55:09.404826Z",
     "iopub.status.busy": "2023-02-04T07:55:09.404587Z",
     "iopub.status.idle": "2023-02-04T07:55:09.626902Z",
     "shell.execute_reply": "2023-02-04T07:55:09.626276Z"
    },
    "lines_to_next_cell": 0
   },
   "outputs": [
    {
     "data": {
      "text/plain": [
       "[Contig(o7283), Contig(o7283), Contig(o7283), Contig(o6827), Contig(o6827)]"
      ]
     },
     "execution_count": 11,
     "metadata": {},
     "output_type": "execute_result"
    }
   ],
   "source": [
    "candidates = asm.assemble_circular()\n",
    "candidates"
   ]
  },
  {
   "cell_type": "markdown",
   "id": "8064aca7",
   "metadata": {},
   "source": [
    "There should normally be two candidates of equal size. These sequences should be identical."
   ]
  },
  {
   "cell_type": "code",
   "execution_count": 12,
   "id": "b37e3c4b",
   "metadata": {
    "execution": {
     "iopub.execute_input": "2023-02-04T07:55:09.629499Z",
     "iopub.status.busy": "2023-02-04T07:55:09.629247Z",
     "iopub.status.idle": "2023-02-04T07:55:09.632205Z",
     "shell.execute_reply": "2023-02-04T07:55:09.631653Z"
    },
    "lines_to_next_cell": 0
   },
   "outputs": [],
   "source": [
    "candidate, *rest = candidates"
   ]
  },
  {
   "cell_type": "code",
   "execution_count": 13,
   "id": "22e8dce8",
   "metadata": {
    "execution": {
     "iopub.execute_input": "2023-02-04T07:55:09.635659Z",
     "iopub.status.busy": "2023-02-04T07:55:09.634847Z",
     "iopub.status.idle": "2023-02-04T07:55:09.655276Z",
     "shell.execute_reply": "2023-02-04T07:55:09.654582Z"
    },
    "lines_to_next_cell": 0
   },
   "outputs": [
    {
     "data": {
      "text/plain": [
       "True"
      ]
     },
     "execution_count": 13,
     "metadata": {},
     "output_type": "execute_result"
    }
   ],
   "source": [
    "candidate.cseguid() == rest[0].cseguid()"
   ]
  },
  {
   "cell_type": "code",
   "execution_count": 14,
   "id": "100e4f4b",
   "metadata": {
    "execution": {
     "iopub.execute_input": "2023-02-04T07:55:09.658107Z",
     "iopub.status.busy": "2023-02-04T07:55:09.657888Z",
     "iopub.status.idle": "2023-02-04T07:55:09.663695Z",
     "shell.execute_reply": "2023-02-04T07:55:09.662807Z"
    },
    "lines_to_next_cell": 0
   },
   "outputs": [
    {
     "data": {
      "text/plain": [
       " -|pYPK0_lin|168\n",
       "|            \\/\n",
       "|            /\\\n",
       "|            168|RPL16A|48\n",
       "|                       \\/\n",
       "|                       /\\\n",
       "|                       48|EcacpS|37\n",
       "|                                 \\/\n",
       "|                                 /\\\n",
       "|                                 37|RPL17A|276\n",
       "|                                           \\/\n",
       "|                                           /\\\n",
       "|                                           276-\n",
       "|                                              |\n",
       " ----------------------------------------------"
      ]
     },
     "execution_count": 14,
     "metadata": {},
     "output_type": "execute_result"
    }
   ],
   "source": [
    "candidate.figure()"
   ]
  },
  {
   "cell_type": "markdown",
   "id": "dc7b6c46",
   "metadata": {},
   "source": [
    "The candidate vector is synchronized to the 577 primer. This means that\n",
    "the plasmid origin is shifted so that it matches the backbone vector."
   ]
  },
  {
   "cell_type": "code",
   "execution_count": 15,
   "id": "e85f9143",
   "metadata": {
    "execution": {
     "iopub.execute_input": "2023-02-04T07:55:09.667185Z",
     "iopub.status.busy": "2023-02-04T07:55:09.666878Z",
     "iopub.status.idle": "2023-02-04T07:55:09.955222Z",
     "shell.execute_reply": "2023-02-04T07:55:09.954557Z"
    }
   },
   "outputs": [],
   "source": [
    "result = candidate.synced(fp_prom)"
   ]
  },
  {
   "cell_type": "markdown",
   "id": "4ad6c58e",
   "metadata": {},
   "source": [
    "### Diagnostic PCR confirmation\n",
    "\n",
    "The structure of the final vector is confirmed by two\n",
    "separate PCR reactions, one for the promoter and gene and\n",
    "one for the gene and terminator.\n",
    "\n",
    "PCR using standard primers 577 and 467 to amplify promoter and gene."
   ]
  },
  {
   "cell_type": "code",
   "execution_count": 16,
   "id": "bc56d684",
   "metadata": {
    "execution": {
     "iopub.execute_input": "2023-02-04T07:55:09.958531Z",
     "iopub.status.busy": "2023-02-04T07:55:09.958025Z",
     "iopub.status.idle": "2023-02-04T07:55:09.976353Z",
     "shell.execute_reply": "2023-02-04T07:55:09.975813Z"
    }
   },
   "outputs": [],
   "source": [
    "product = pcr( fp_prom, rp_gene, result)"
   ]
  },
  {
   "cell_type": "markdown",
   "id": "b2e4df52",
   "metadata": {},
   "source": [
    "A correct clone should give this size in base pairs:"
   ]
  },
  {
   "cell_type": "code",
   "execution_count": 17,
   "id": "344c3f9c",
   "metadata": {
    "execution": {
     "iopub.execute_input": "2023-02-04T07:55:09.979149Z",
     "iopub.status.busy": "2023-02-04T07:55:09.978940Z",
     "iopub.status.idle": "2023-02-04T07:55:09.982383Z",
     "shell.execute_reply": "2023-02-04T07:55:09.981736Z"
    }
   },
   "outputs": [
    {
     "name": "stdout",
     "output_type": "stream",
     "text": [
      "1094\n"
     ]
    }
   ],
   "source": [
    "print(len(product))"
   ]
  },
  {
   "cell_type": "markdown",
   "id": "599bc934",
   "metadata": {},
   "source": [
    "If the promoter is missing from the assembly, the PCR product will have this size in base pairs:"
   ]
  },
  {
   "cell_type": "code",
   "execution_count": 18,
   "id": "4ca8e152",
   "metadata": {
    "execution": {
     "iopub.execute_input": "2023-02-04T07:55:09.986238Z",
     "iopub.status.busy": "2023-02-04T07:55:09.985910Z",
     "iopub.status.idle": "2023-02-04T07:55:09.990321Z",
     "shell.execute_reply": "2023-02-04T07:55:09.989519Z"
    }
   },
   "outputs": [
    {
     "name": "stdout",
     "output_type": "stream",
     "text": [
      "420\n"
     ]
    }
   ],
   "source": [
    "print(len(product) - len(prom))"
   ]
  },
  {
   "cell_type": "markdown",
   "id": "fa85b2d0",
   "metadata": {},
   "source": [
    "If the gene is missing from the assembly, the PCR product will have this size in base pairs:"
   ]
  },
  {
   "cell_type": "code",
   "execution_count": 19,
   "id": "45d6c257",
   "metadata": {
    "execution": {
     "iopub.execute_input": "2023-02-04T07:55:09.993761Z",
     "iopub.status.busy": "2023-02-04T07:55:09.993283Z",
     "iopub.status.idle": "2023-02-04T07:55:09.997286Z",
     "shell.execute_reply": "2023-02-04T07:55:09.996554Z"
    }
   },
   "outputs": [
    {
     "name": "stdout",
     "output_type": "stream",
     "text": [
      "624\n"
     ]
    }
   ],
   "source": [
    "print(len(product) - len(gene))"
   ]
  },
  {
   "cell_type": "markdown",
   "id": "87fb0d22",
   "metadata": {},
   "source": [
    "PCR using standard primers 468 and 578 to amplify gene and terminator."
   ]
  },
  {
   "cell_type": "code",
   "execution_count": 20,
   "id": "c6c0f1e9",
   "metadata": {
    "execution": {
     "iopub.execute_input": "2023-02-04T07:55:10.001076Z",
     "iopub.status.busy": "2023-02-04T07:55:10.000325Z",
     "iopub.status.idle": "2023-02-04T07:55:10.025309Z",
     "shell.execute_reply": "2023-02-04T07:55:10.024570Z"
    }
   },
   "outputs": [],
   "source": [
    "product2 = pcr( fp_gene, rp_term, result)"
   ]
  },
  {
   "cell_type": "markdown",
   "id": "85aa75fc",
   "metadata": {},
   "source": [
    "A correct clone should give this size:"
   ]
  },
  {
   "cell_type": "code",
   "execution_count": 21,
   "id": "8ee2d914",
   "metadata": {
    "execution": {
     "iopub.execute_input": "2023-02-04T07:55:10.027989Z",
     "iopub.status.busy": "2023-02-04T07:55:10.027763Z",
     "iopub.status.idle": "2023-02-04T07:55:10.030907Z",
     "shell.execute_reply": "2023-02-04T07:55:10.030308Z"
    }
   },
   "outputs": [
    {
     "name": "stdout",
     "output_type": "stream",
     "text": [
      "1441\n"
     ]
    }
   ],
   "source": [
    "print(len(product2))"
   ]
  },
  {
   "cell_type": "markdown",
   "id": "1149bae8",
   "metadata": {},
   "source": [
    "If the gene is missing from the assembly, the PCR product will have this size in base pairs:"
   ]
  },
  {
   "cell_type": "code",
   "execution_count": 22,
   "id": "b19198b2",
   "metadata": {
    "execution": {
     "iopub.execute_input": "2023-02-04T07:55:10.033613Z",
     "iopub.status.busy": "2023-02-04T07:55:10.033195Z",
     "iopub.status.idle": "2023-02-04T07:55:10.037828Z",
     "shell.execute_reply": "2023-02-04T07:55:10.037072Z"
    }
   },
   "outputs": [
    {
     "name": "stdout",
     "output_type": "stream",
     "text": [
      "971\n"
     ]
    }
   ],
   "source": [
    "print(len(product2) - len(gene))"
   ]
  },
  {
   "cell_type": "markdown",
   "id": "8bb84ca2",
   "metadata": {},
   "source": [
    "If the terminator is missing from the assembly, the PCR product will have this size in base pairs:"
   ]
  },
  {
   "cell_type": "code",
   "execution_count": 23,
   "id": "845ed827",
   "metadata": {
    "execution": {
     "iopub.execute_input": "2023-02-04T07:55:10.041285Z",
     "iopub.status.busy": "2023-02-04T07:55:10.040820Z",
     "iopub.status.idle": "2023-02-04T07:55:10.045110Z",
     "shell.execute_reply": "2023-02-04T07:55:10.044421Z"
    }
   },
   "outputs": [
    {
     "name": "stdout",
     "output_type": "stream",
     "text": [
      "433\n"
     ]
    }
   ],
   "source": [
    "print(len(product2) - len(term))"
   ]
  },
  {
   "cell_type": "markdown",
   "id": "3ddbec6a",
   "metadata": {},
   "source": [
    "The cseguid checksum for the resulting plasmid is calculated for future reference.\n",
    "The [cseguid checksum](http://pydna.readthedocs.org/en/latest/pydna.html#pydna.utils.cseguid)\n",
    "uniquely identifies a circular double stranded sequence."
   ]
  },
  {
   "cell_type": "code",
   "execution_count": 24,
   "id": "b85d8d8d",
   "metadata": {
    "execution": {
     "iopub.execute_input": "2023-02-04T07:55:10.047977Z",
     "iopub.status.busy": "2023-02-04T07:55:10.047541Z",
     "iopub.status.idle": "2023-02-04T07:55:10.057502Z",
     "shell.execute_reply": "2023-02-04T07:55:10.056564Z"
    }
   },
   "outputs": [
    {
     "name": "stdout",
     "output_type": "stream",
     "text": [
      "s4qmJdiotlEjgUID6k6Dtq47aiA\n"
     ]
    }
   ],
   "source": [
    "print(result.cseguid())"
   ]
  },
  {
   "cell_type": "markdown",
   "id": "9f40184b",
   "metadata": {},
   "source": [
    "The file name is based on the promoter, gene and terminator designations."
   ]
  },
  {
   "cell_type": "code",
   "execution_count": 25,
   "id": "a929ef38",
   "metadata": {
    "execution": {
     "iopub.execute_input": "2023-02-04T07:55:10.061969Z",
     "iopub.status.busy": "2023-02-04T07:55:10.061251Z",
     "iopub.status.idle": "2023-02-04T07:55:10.065180Z",
     "shell.execute_reply": "2023-02-04T07:55:10.064526Z"
    }
   },
   "outputs": [],
   "source": [
    "result.locus = f\"tu:{gene.name}\"[:16]\n",
    "result.definition = \"pYPK0_RPL16A_EcacpS_RPL17A\""
   ]
  },
  {
   "cell_type": "markdown",
   "id": "cc53a037",
   "metadata": {},
   "source": [
    "Sequence is stamped with cseguid checksum. This can be used to verify the\n",
    "integrity of the sequence file."
   ]
  },
  {
   "cell_type": "code",
   "execution_count": 26,
   "id": "ec1648a0",
   "metadata": {
    "execution": {
     "iopub.execute_input": "2023-02-04T07:55:10.072086Z",
     "iopub.status.busy": "2023-02-04T07:55:10.071491Z",
     "iopub.status.idle": "2023-02-04T07:55:10.084505Z",
     "shell.execute_reply": "2023-02-04T07:55:10.083875Z"
    }
   },
   "outputs": [
    {
     "data": {
      "text/plain": [
       "s4qmJdiotlEjgUID6k6Dtq47aiA"
      ]
     },
     "execution_count": 26,
     "metadata": {},
     "output_type": "execute_result"
    }
   ],
   "source": [
    "result.stamp(\"cSEGUID\")"
   ]
  },
  {
   "cell_type": "markdown",
   "id": "526ef291",
   "metadata": {},
   "source": [
    "Write sequence to a local file."
   ]
  },
  {
   "cell_type": "code",
   "execution_count": 27,
   "id": "30558e6a",
   "metadata": {
    "execution": {
     "iopub.execute_input": "2023-02-04T07:55:10.088034Z",
     "iopub.status.busy": "2023-02-04T07:55:10.087784Z",
     "iopub.status.idle": "2023-02-04T07:55:10.100476Z",
     "shell.execute_reply": "2023-02-04T07:55:10.097926Z"
    }
   },
   "outputs": [
    {
     "data": {
      "text/html": [
       "<font face=monospace><a href='pYPK0_RPL16A_EcacpS_RPL17A.gb' target='_blank'>pYPK0_RPL16A_EcacpS_RPL17A.gb</a></font><br>"
      ]
     },
     "metadata": {},
     "output_type": "display_data"
    }
   ],
   "source": [
    "result.write(f\"{result.definition}.gb\")"
   ]
  },
  {
   "cell_type": "markdown",
   "id": "856fbe2e",
   "metadata": {
    "lines_to_next_cell": 0
   },
   "source": [
    "### Suggested PCR programs\n",
    "\n",
    "For the [amplification](#PCR) of promoter, gene and terminator."
   ]
  },
  {
   "cell_type": "code",
   "execution_count": 28,
   "id": "320dc92c",
   "metadata": {
    "execution": {
     "iopub.execute_input": "2023-02-04T07:55:10.105758Z",
     "iopub.status.busy": "2023-02-04T07:55:10.105524Z",
     "iopub.status.idle": "2023-02-04T07:55:10.110559Z",
     "shell.execute_reply": "2023-02-04T07:55:10.109695Z"
    }
   },
   "outputs": [
    {
     "name": "stdout",
     "output_type": "stream",
     "text": [
      "577_crp585-557 567_pCAPsAjiIF\n",
      "|95°C|95°C               |    |tmf:64.6\n",
      "|____|_____          72°C|72°C|tmr:69.7\n",
      "|3min|30s  \\ 58.7°C _____|____|45s/kb\n",
      "|    |      \\______/ 0:30|5min|GC 45%\n",
      "|    |       30s         |    |674bp\n"
     ]
    }
   ],
   "source": [
    "print(prom.forward_primer.name, prom.reverse_primer.name)\n",
    "print(prom.program())"
   ]
  },
  {
   "cell_type": "code",
   "execution_count": 29,
   "id": "58340d0b",
   "metadata": {
    "execution": {
     "iopub.execute_input": "2023-02-04T07:55:10.113992Z",
     "iopub.status.busy": "2023-02-04T07:55:10.113693Z",
     "iopub.status.idle": "2023-02-04T07:55:10.119810Z",
     "shell.execute_reply": "2023-02-04T07:55:10.119182Z"
    }
   },
   "outputs": [
    {
     "name": "stdout",
     "output_type": "stream",
     "text": [
      "468_pCAPs_release_fw 467_pCAPs_release_re\n",
      "|95°C|95°C               |    |tmf:76.9\n",
      "|____|_____          72°C|72°C|tmr:67.9\n",
      "|3min|30s  \\ 61.2°C _____|____|45s/kb\n",
      "|    |      \\______/ 0:30|5min|GC 51%\n",
      "|    |       30s         |    |470bp\n"
     ]
    }
   ],
   "source": [
    "print(gene.forward_primer.name, gene.reverse_primer.name)\n",
    "print(gene.program())"
   ]
  },
  {
   "cell_type": "code",
   "execution_count": 30,
   "id": "16f743f1",
   "metadata": {
    "execution": {
     "iopub.execute_input": "2023-02-04T07:55:10.123771Z",
     "iopub.status.busy": "2023-02-04T07:55:10.123330Z",
     "iopub.status.idle": "2023-02-04T07:55:10.132269Z",
     "shell.execute_reply": "2023-02-04T07:55:10.128933Z"
    }
   },
   "outputs": [
    {
     "name": "stdout",
     "output_type": "stream",
     "text": [
      "568_pCAPsAjiIR 578_crp42-70\n",
      "|95°C|95°C               |    |tmf:66.1\n",
      "|____|_____          72°C|72°C|tmr:65.0\n",
      "|3min|30s  \\ 57.4°C _____|____|45s/kb\n",
      "|    |      \\______/ 0:45|5min|GC 39%\n",
      "|    |       30s         |    |1008bp\n"
     ]
    }
   ],
   "source": [
    "print(term.forward_primer.name, term.reverse_primer.name)\n",
    "print(term.program())"
   ]
  }
 ],
 "metadata": {
  "jupytext": {
   "main_language": "python",
   "text_representation": {
    "extension": ".py",
    "format_name": "percent",
    "format_version": "1.3",
    "jupytext_version": "1.14.0"
   }
  },
  "language_info": {
   "codemirror_mode": {
    "name": "ipython",
    "version": 3
   },
   "file_extension": ".py",
   "mimetype": "text/x-python",
   "name": "python",
   "nbconvert_exporter": "python",
   "pygments_lexer": "ipython3",
   "version": "3.11.0"
  }
 },
 "nbformat": 4,
 "nbformat_minor": 5
}
