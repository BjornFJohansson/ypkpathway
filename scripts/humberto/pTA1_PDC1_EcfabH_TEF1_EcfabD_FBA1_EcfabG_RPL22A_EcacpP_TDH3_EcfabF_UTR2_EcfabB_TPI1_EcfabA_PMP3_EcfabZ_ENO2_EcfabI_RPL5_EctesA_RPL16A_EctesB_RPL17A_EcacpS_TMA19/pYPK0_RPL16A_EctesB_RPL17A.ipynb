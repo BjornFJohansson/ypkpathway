{
 "cells": [
  {
   "cell_type": "markdown",
   "id": "b37c66b9",
   "metadata": {},
   "source": [
    "# [![logo](logo.png)](https://github.com/BjornFJohansson/ypkpathway#-ypkpathway) pYPK0_RPL16A_EctesB_RPL17A\n",
    "\n",
    "Assembly of a [_Saccharomyces cerevisiae_](http://www.yeastgenome.org) transcriptional unit vector.\n",
    "\n",
    "Made from a linear vector fragment and three PCR products:\n",
    "\n",
    "- a linearized pYPK0 vector for maintenance in _S. cerevisiae_ or _E. coli_ (red dashed line in figure below)\n",
    "- a promoter PCR product from the `pYPKa_Z_RPL16A` vector\n",
    "- a gene PCR product from the `pYPKa_A_EctesB` vector\n",
    "- a terminator PCR product from the `pYPKa_E_RPL17A` vector\n",
    "\n",
    "The four linear DNA fragments are joined by _in-vivo_ homologous recombination in a\n",
    "[_Saccharomyces cerevisiae_](http://wiki.yeastgenome.org/index.php/Commonly_used_strains) strain.\n",
    "\n",
    "![tu](tu.png \"tu\")\n",
    "\n",
    "A part of the [pydna](https://pypi.python.org/pypi/pydna/) package is imported in the code cell below."
   ]
  },
  {
   "cell_type": "code",
   "execution_count": 1,
   "id": "816001ee",
   "metadata": {
    "execution": {
     "iopub.execute_input": "2023-02-04T07:58:27.112458Z",
     "iopub.status.busy": "2023-02-04T07:58:27.112102Z",
     "iopub.status.idle": "2023-02-04T07:58:27.457908Z",
     "shell.execute_reply": "2023-02-04T07:58:27.457291Z"
    }
   },
   "outputs": [],
   "source": [
    "from pydna.parsers import parse_primers\n",
    "from pydna.readers import read\n",
    "from pydna.amplify import pcr\n",
    "from pydna.assembly import Assembly"
   ]
  },
  {
   "cell_type": "markdown",
   "id": "f4bc5048",
   "metadata": {},
   "source": [
    "The Yeast Pathway Kit [standard primers](standard_primers.fasta) are read into a dictionary in the code cell below."
   ]
  },
  {
   "cell_type": "code",
   "execution_count": 2,
   "id": "75474d39",
   "metadata": {
    "execution": {
     "iopub.execute_input": "2023-02-04T07:58:27.461089Z",
     "iopub.status.busy": "2023-02-04T07:58:27.460718Z",
     "iopub.status.idle": "2023-02-04T07:58:27.470633Z",
     "shell.execute_reply": "2023-02-04T07:58:27.469939Z"
    }
   },
   "outputs": [],
   "source": [
    "p = {x.name: x for x in parse_primers(\"standard_primers.fasta\")}"
   ]
  },
  {
   "cell_type": "markdown",
   "id": "cc20802b",
   "metadata": {},
   "source": [
    "The backbone vector [pYPK0](pYPK0.gb) is read from a local file in the code cell below."
   ]
  },
  {
   "cell_type": "code",
   "execution_count": 3,
   "id": "4eacb6d1",
   "metadata": {
    "execution": {
     "iopub.execute_input": "2023-02-04T07:58:27.473940Z",
     "iopub.status.busy": "2023-02-04T07:58:27.473657Z",
     "iopub.status.idle": "2023-02-04T07:58:27.485959Z",
     "shell.execute_reply": "2023-02-04T07:58:27.485044Z"
    }
   },
   "outputs": [],
   "source": [
    "backbone = read(\"pYPK0.gb\")"
   ]
  },
  {
   "cell_type": "markdown",
   "id": "f2c039a6",
   "metadata": {},
   "source": [
    "The backbone vector is linearized by digestion with [MfeI](https://www.google.com/search?q=MfeI)."
   ]
  },
  {
   "cell_type": "code",
   "execution_count": 4,
   "id": "697d1122",
   "metadata": {
    "execution": {
     "iopub.execute_input": "2023-02-04T07:58:27.488838Z",
     "iopub.status.busy": "2023-02-04T07:58:27.488589Z",
     "iopub.status.idle": "2023-02-04T07:58:27.491799Z",
     "shell.execute_reply": "2023-02-04T07:58:27.490970Z"
    }
   },
   "outputs": [],
   "source": [
    "from Bio.Restriction import MfeI"
   ]
  },
  {
   "cell_type": "code",
   "execution_count": 5,
   "id": "0399dd54",
   "metadata": {
    "execution": {
     "iopub.execute_input": "2023-02-04T07:58:27.495822Z",
     "iopub.status.busy": "2023-02-04T07:58:27.495419Z",
     "iopub.status.idle": "2023-02-04T07:58:27.505381Z",
     "shell.execute_reply": "2023-02-04T07:58:27.504886Z"
    }
   },
   "outputs": [],
   "source": [
    "linear_backbone = backbone.linearize(MfeI)"
   ]
  },
  {
   "cell_type": "markdown",
   "id": "cd695414",
   "metadata": {},
   "source": [
    "The pYPKa derived _E. coli_ plasmids containing\n",
    "- [promoter](pYPKa_Z_RPL16A.gb)\n",
    "- [gene](pYPKa_A_EctesB.gb)\n",
    "- [terminator](pYPKa_E_RPL17A.gb)\n",
    "\n",
    "are read into three variables below."
   ]
  },
  {
   "cell_type": "code",
   "execution_count": 6,
   "id": "c43d5331",
   "metadata": {
    "execution": {
     "iopub.execute_input": "2023-02-04T07:58:27.507976Z",
     "iopub.status.busy": "2023-02-04T07:58:27.507743Z",
     "iopub.status.idle": "2023-02-04T07:58:27.524047Z",
     "shell.execute_reply": "2023-02-04T07:58:27.523440Z"
    }
   },
   "outputs": [],
   "source": [
    "promoter_template   = read(\"pYPKa_Z_RPL16A.gb\")\n",
    "gene_template       = read(\"pYPKa_A_EctesB.gb\")\n",
    "terminator_template = read(\"pYPKa_E_RPL17A.gb\")"
   ]
  },
  {
   "cell_type": "markdown",
   "id": "f0b7a136",
   "metadata": {
    "lines_to_next_cell": 0
   },
   "source": [
    "### PCR\n",
    "Three DNA fragments are PCR amplified using [standard primers](standard_primers.fasta).\n",
    "\n",
    "[Suggested PCR programs](#Suggested-PCR-programs) can be found at the end of this document."
   ]
  },
  {
   "cell_type": "code",
   "execution_count": 7,
   "id": "63aba875",
   "metadata": {
    "execution": {
     "iopub.execute_input": "2023-02-04T07:58:27.527416Z",
     "iopub.status.busy": "2023-02-04T07:58:27.526669Z",
     "iopub.status.idle": "2023-02-04T07:58:27.531167Z",
     "shell.execute_reply": "2023-02-04T07:58:27.530497Z"
    }
   },
   "outputs": [],
   "source": [
    "\n",
    "fp_prom = p['577_crp585-557']\n",
    "rp_prom = p['567_pCAPsAjiIF']\n",
    "fp_gene = p['468_pCAPs_release_fw']\n",
    "rp_gene = p['467_pCAPs_release_re']\n",
    "fp_term = p['568_pCAPsAjiIR']\n",
    "rp_term = p['578_crp42-70']"
   ]
  },
  {
   "cell_type": "code",
   "execution_count": 8,
   "id": "1da0d2a6",
   "metadata": {
    "execution": {
     "iopub.execute_input": "2023-02-04T07:58:27.534300Z",
     "iopub.status.busy": "2023-02-04T07:58:27.533989Z",
     "iopub.status.idle": "2023-02-04T07:58:27.563311Z",
     "shell.execute_reply": "2023-02-04T07:58:27.562567Z"
    }
   },
   "outputs": [],
   "source": [
    "prom = pcr(fp_prom, rp_prom, promoter_template)\n",
    "gene = pcr(fp_gene, rp_gene, gene_template)\n",
    "term = pcr(fp_term, rp_term, terminator_template)"
   ]
  },
  {
   "cell_type": "code",
   "execution_count": 9,
   "id": "16ac662d",
   "metadata": {
    "execution": {
     "iopub.execute_input": "2023-02-04T07:58:27.566456Z",
     "iopub.status.busy": "2023-02-04T07:58:27.566105Z",
     "iopub.status.idle": "2023-02-04T07:58:27.569895Z",
     "shell.execute_reply": "2023-02-04T07:58:27.569249Z"
    }
   },
   "outputs": [],
   "source": [
    "prom.name = \"pYPKa_Z_RPL16A\"[8:]\n",
    "gene.name = \"pYPKa_A_EctesB\"[8:]\n",
    "term.name = \"pYPKa_E_RPL17A\"[8:]"
   ]
  },
  {
   "cell_type": "markdown",
   "id": "4da4a030",
   "metadata": {},
   "source": [
    "\n",
    "The fragments will be assembled by _in-vivo_ [homologous recombination](http://www.ncbi.nlm.nih.gov/pubmed/2828185):"
   ]
  },
  {
   "cell_type": "code",
   "execution_count": 10,
   "id": "7785ae8c",
   "metadata": {
    "execution": {
     "iopub.execute_input": "2023-02-04T07:58:27.573820Z",
     "iopub.status.busy": "2023-02-04T07:58:27.573341Z",
     "iopub.status.idle": "2023-02-04T07:58:28.187049Z",
     "shell.execute_reply": "2023-02-04T07:58:28.186397Z"
    }
   },
   "outputs": [
    {
     "data": {
      "text/plain": [
       "Assembly\n",
       "fragments..: 5766bp 674bp 950bp 1008bp\n",
       "limit(bp)..: 31\n",
       "G.nodes....: 10\n",
       "algorithm..: common_sub_strings"
      ]
     },
     "execution_count": 10,
     "metadata": {},
     "output_type": "execute_result"
    }
   ],
   "source": [
    "asm = Assembly((linear_backbone, prom, gene, term), limit=31)\n",
    "asm"
   ]
  },
  {
   "cell_type": "markdown",
   "id": "be87185a",
   "metadata": {},
   "source": [
    "The Assembly object above should normally indicate four fragments and eight nodes."
   ]
  },
  {
   "cell_type": "code",
   "execution_count": 11,
   "id": "25911847",
   "metadata": {
    "execution": {
     "iopub.execute_input": "2023-02-04T07:58:28.189909Z",
     "iopub.status.busy": "2023-02-04T07:58:28.189658Z",
     "iopub.status.idle": "2023-02-04T07:58:28.560941Z",
     "shell.execute_reply": "2023-02-04T07:58:28.559786Z"
    },
    "lines_to_next_cell": 0
   },
   "outputs": [
    {
     "data": {
      "text/plain": [
       "[Contig(o7763), Contig(o7763), Contig(o7763), Contig(o7307), Contig(o7307)]"
      ]
     },
     "execution_count": 11,
     "metadata": {},
     "output_type": "execute_result"
    }
   ],
   "source": [
    "candidates = asm.assemble_circular()\n",
    "candidates"
   ]
  },
  {
   "cell_type": "markdown",
   "id": "9c36be3c",
   "metadata": {},
   "source": [
    "There should normally be two candidates of equal size. These sequences should be identical."
   ]
  },
  {
   "cell_type": "code",
   "execution_count": 12,
   "id": "f0649d7d",
   "metadata": {
    "execution": {
     "iopub.execute_input": "2023-02-04T07:58:28.566659Z",
     "iopub.status.busy": "2023-02-04T07:58:28.566010Z",
     "iopub.status.idle": "2023-02-04T07:58:28.575325Z",
     "shell.execute_reply": "2023-02-04T07:58:28.574038Z"
    },
    "lines_to_next_cell": 0
   },
   "outputs": [],
   "source": [
    "candidate, *rest = candidates"
   ]
  },
  {
   "cell_type": "code",
   "execution_count": 13,
   "id": "79246699",
   "metadata": {
    "execution": {
     "iopub.execute_input": "2023-02-04T07:58:28.582561Z",
     "iopub.status.busy": "2023-02-04T07:58:28.581261Z",
     "iopub.status.idle": "2023-02-04T07:58:28.609620Z",
     "shell.execute_reply": "2023-02-04T07:58:28.608398Z"
    },
    "lines_to_next_cell": 0
   },
   "outputs": [
    {
     "data": {
      "text/plain": [
       "True"
      ]
     },
     "execution_count": 13,
     "metadata": {},
     "output_type": "execute_result"
    }
   ],
   "source": [
    "candidate.cseguid() == rest[0].cseguid()"
   ]
  },
  {
   "cell_type": "code",
   "execution_count": 14,
   "id": "da127f28",
   "metadata": {
    "execution": {
     "iopub.execute_input": "2023-02-04T07:58:28.616948Z",
     "iopub.status.busy": "2023-02-04T07:58:28.615613Z",
     "iopub.status.idle": "2023-02-04T07:58:28.626279Z",
     "shell.execute_reply": "2023-02-04T07:58:28.625455Z"
    },
    "lines_to_next_cell": 0
   },
   "outputs": [
    {
     "data": {
      "text/plain": [
       " -|pYPK0_lin|168\n",
       "|            \\/\n",
       "|            /\\\n",
       "|            168|RPL16A|48\n",
       "|                       \\/\n",
       "|                       /\\\n",
       "|                       48|EctesB|37\n",
       "|                                 \\/\n",
       "|                                 /\\\n",
       "|                                 37|RPL17A|276\n",
       "|                                           \\/\n",
       "|                                           /\\\n",
       "|                                           276-\n",
       "|                                              |\n",
       " ----------------------------------------------"
      ]
     },
     "execution_count": 14,
     "metadata": {},
     "output_type": "execute_result"
    }
   ],
   "source": [
    "candidate.figure()"
   ]
  },
  {
   "cell_type": "markdown",
   "id": "f01bcd50",
   "metadata": {},
   "source": [
    "The candidate vector is synchronized to the 577 primer. This means that\n",
    "the plasmid origin is shifted so that it matches the backbone vector."
   ]
  },
  {
   "cell_type": "code",
   "execution_count": 15,
   "id": "1ecdc520",
   "metadata": {
    "execution": {
     "iopub.execute_input": "2023-02-04T07:58:28.631865Z",
     "iopub.status.busy": "2023-02-04T07:58:28.631120Z",
     "iopub.status.idle": "2023-02-04T07:58:29.088270Z",
     "shell.execute_reply": "2023-02-04T07:58:29.086938Z"
    }
   },
   "outputs": [],
   "source": [
    "result = candidate.synced(fp_prom)"
   ]
  },
  {
   "cell_type": "markdown",
   "id": "f6f7225f",
   "metadata": {},
   "source": [
    "### Diagnostic PCR confirmation\n",
    "\n",
    "The structure of the final vector is confirmed by two\n",
    "separate PCR reactions, one for the promoter and gene and\n",
    "one for the gene and terminator.\n",
    "\n",
    "PCR using standard primers 577 and 467 to amplify promoter and gene."
   ]
  },
  {
   "cell_type": "code",
   "execution_count": 16,
   "id": "edb75571",
   "metadata": {
    "execution": {
     "iopub.execute_input": "2023-02-04T07:58:29.096819Z",
     "iopub.status.busy": "2023-02-04T07:58:29.094048Z",
     "iopub.status.idle": "2023-02-04T07:58:29.134894Z",
     "shell.execute_reply": "2023-02-04T07:58:29.133941Z"
    }
   },
   "outputs": [],
   "source": [
    "product = pcr( fp_prom, rp_gene, result)"
   ]
  },
  {
   "cell_type": "markdown",
   "id": "8d10b45f",
   "metadata": {},
   "source": [
    "A correct clone should give this size in base pairs:"
   ]
  },
  {
   "cell_type": "code",
   "execution_count": 17,
   "id": "b291edf4",
   "metadata": {
    "execution": {
     "iopub.execute_input": "2023-02-04T07:58:29.140643Z",
     "iopub.status.busy": "2023-02-04T07:58:29.140060Z",
     "iopub.status.idle": "2023-02-04T07:58:29.144068Z",
     "shell.execute_reply": "2023-02-04T07:58:29.143475Z"
    }
   },
   "outputs": [
    {
     "name": "stdout",
     "output_type": "stream",
     "text": [
      "1574\n"
     ]
    }
   ],
   "source": [
    "print(len(product))"
   ]
  },
  {
   "cell_type": "markdown",
   "id": "107af5c6",
   "metadata": {},
   "source": [
    "If the promoter is missing from the assembly, the PCR product will have this size in base pairs:"
   ]
  },
  {
   "cell_type": "code",
   "execution_count": 18,
   "id": "879e0e49",
   "metadata": {
    "execution": {
     "iopub.execute_input": "2023-02-04T07:58:29.147144Z",
     "iopub.status.busy": "2023-02-04T07:58:29.146748Z",
     "iopub.status.idle": "2023-02-04T07:58:29.151934Z",
     "shell.execute_reply": "2023-02-04T07:58:29.151049Z"
    }
   },
   "outputs": [
    {
     "name": "stdout",
     "output_type": "stream",
     "text": [
      "900\n"
     ]
    }
   ],
   "source": [
    "print(len(product) - len(prom))"
   ]
  },
  {
   "cell_type": "markdown",
   "id": "1d68cbe7",
   "metadata": {},
   "source": [
    "If the gene is missing from the assembly, the PCR product will have this size in base pairs:"
   ]
  },
  {
   "cell_type": "code",
   "execution_count": 19,
   "id": "e3b83530",
   "metadata": {
    "execution": {
     "iopub.execute_input": "2023-02-04T07:58:29.161954Z",
     "iopub.status.busy": "2023-02-04T07:58:29.161403Z",
     "iopub.status.idle": "2023-02-04T07:58:29.166964Z",
     "shell.execute_reply": "2023-02-04T07:58:29.165957Z"
    }
   },
   "outputs": [
    {
     "name": "stdout",
     "output_type": "stream",
     "text": [
      "624\n"
     ]
    }
   ],
   "source": [
    "print(len(product) - len(gene))"
   ]
  },
  {
   "cell_type": "markdown",
   "id": "d0596b3c",
   "metadata": {},
   "source": [
    "PCR using standard primers 468 and 578 to amplify gene and terminator."
   ]
  },
  {
   "cell_type": "code",
   "execution_count": 20,
   "id": "5d599788",
   "metadata": {
    "execution": {
     "iopub.execute_input": "2023-02-04T07:58:29.173970Z",
     "iopub.status.busy": "2023-02-04T07:58:29.173662Z",
     "iopub.status.idle": "2023-02-04T07:58:29.211320Z",
     "shell.execute_reply": "2023-02-04T07:58:29.210424Z"
    }
   },
   "outputs": [],
   "source": [
    "product2 = pcr( fp_gene, rp_term, result)"
   ]
  },
  {
   "cell_type": "markdown",
   "id": "d2993ab3",
   "metadata": {},
   "source": [
    "A correct clone should give this size:"
   ]
  },
  {
   "cell_type": "code",
   "execution_count": 21,
   "id": "b9b56f29",
   "metadata": {
    "execution": {
     "iopub.execute_input": "2023-02-04T07:58:29.218284Z",
     "iopub.status.busy": "2023-02-04T07:58:29.216385Z",
     "iopub.status.idle": "2023-02-04T07:58:29.224632Z",
     "shell.execute_reply": "2023-02-04T07:58:29.223921Z"
    }
   },
   "outputs": [
    {
     "name": "stdout",
     "output_type": "stream",
     "text": [
      "1921\n"
     ]
    }
   ],
   "source": [
    "print(len(product2))"
   ]
  },
  {
   "cell_type": "markdown",
   "id": "2e178dec",
   "metadata": {},
   "source": [
    "If the gene is missing from the assembly, the PCR product will have this size in base pairs:"
   ]
  },
  {
   "cell_type": "code",
   "execution_count": 22,
   "id": "542aeaaa",
   "metadata": {
    "execution": {
     "iopub.execute_input": "2023-02-04T07:58:29.228439Z",
     "iopub.status.busy": "2023-02-04T07:58:29.228051Z",
     "iopub.status.idle": "2023-02-04T07:58:29.233801Z",
     "shell.execute_reply": "2023-02-04T07:58:29.232968Z"
    }
   },
   "outputs": [
    {
     "name": "stdout",
     "output_type": "stream",
     "text": [
      "971\n"
     ]
    }
   ],
   "source": [
    "print(len(product2) - len(gene))"
   ]
  },
  {
   "cell_type": "markdown",
   "id": "463a7ba0",
   "metadata": {},
   "source": [
    "If the terminator is missing from the assembly, the PCR product will have this size in base pairs:"
   ]
  },
  {
   "cell_type": "code",
   "execution_count": 23,
   "id": "9f466d9f",
   "metadata": {
    "execution": {
     "iopub.execute_input": "2023-02-04T07:58:29.239113Z",
     "iopub.status.busy": "2023-02-04T07:58:29.238611Z",
     "iopub.status.idle": "2023-02-04T07:58:29.246704Z",
     "shell.execute_reply": "2023-02-04T07:58:29.245216Z"
    }
   },
   "outputs": [
    {
     "name": "stdout",
     "output_type": "stream",
     "text": [
      "913\n"
     ]
    }
   ],
   "source": [
    "print(len(product2) - len(term))"
   ]
  },
  {
   "cell_type": "markdown",
   "id": "9ca9bee2",
   "metadata": {},
   "source": [
    "The cseguid checksum for the resulting plasmid is calculated for future reference.\n",
    "The [cseguid checksum](http://pydna.readthedocs.org/en/latest/pydna.html#pydna.utils.cseguid)\n",
    "uniquely identifies a circular double stranded sequence."
   ]
  },
  {
   "cell_type": "code",
   "execution_count": 24,
   "id": "730daa58",
   "metadata": {
    "execution": {
     "iopub.execute_input": "2023-02-04T07:58:29.251379Z",
     "iopub.status.busy": "2023-02-04T07:58:29.250739Z",
     "iopub.status.idle": "2023-02-04T07:58:29.270112Z",
     "shell.execute_reply": "2023-02-04T07:58:29.267796Z"
    }
   },
   "outputs": [
    {
     "name": "stdout",
     "output_type": "stream",
     "text": [
      "bn_RWguz-M8vER3ofca-P0B02kU\n"
     ]
    }
   ],
   "source": [
    "print(result.cseguid())"
   ]
  },
  {
   "cell_type": "markdown",
   "id": "e73f5499",
   "metadata": {},
   "source": [
    "The file name is based on the promoter, gene and terminator designations."
   ]
  },
  {
   "cell_type": "code",
   "execution_count": 25,
   "id": "2fe9e504",
   "metadata": {
    "execution": {
     "iopub.execute_input": "2023-02-04T07:58:29.277825Z",
     "iopub.status.busy": "2023-02-04T07:58:29.277157Z",
     "iopub.status.idle": "2023-02-04T07:58:29.282331Z",
     "shell.execute_reply": "2023-02-04T07:58:29.281577Z"
    }
   },
   "outputs": [],
   "source": [
    "result.locus = f\"tu:{gene.name}\"[:16]\n",
    "result.definition = \"pYPK0_RPL16A_EctesB_RPL17A\""
   ]
  },
  {
   "cell_type": "markdown",
   "id": "2b90f3ab",
   "metadata": {},
   "source": [
    "Sequence is stamped with cseguid checksum. This can be used to verify the\n",
    "integrity of the sequence file."
   ]
  },
  {
   "cell_type": "code",
   "execution_count": 26,
   "id": "2a52c74d",
   "metadata": {
    "execution": {
     "iopub.execute_input": "2023-02-04T07:58:29.287499Z",
     "iopub.status.busy": "2023-02-04T07:58:29.287183Z",
     "iopub.status.idle": "2023-02-04T07:58:29.300554Z",
     "shell.execute_reply": "2023-02-04T07:58:29.299988Z"
    }
   },
   "outputs": [
    {
     "data": {
      "text/plain": [
       "bn_RWguz-M8vER3ofca-P0B02kU"
      ]
     },
     "execution_count": 26,
     "metadata": {},
     "output_type": "execute_result"
    }
   ],
   "source": [
    "result.stamp(\"cSEGUID\")"
   ]
  },
  {
   "cell_type": "markdown",
   "id": "b4bed216",
   "metadata": {},
   "source": [
    "Write sequence to a local file."
   ]
  },
  {
   "cell_type": "code",
   "execution_count": 27,
   "id": "00245e89",
   "metadata": {
    "execution": {
     "iopub.execute_input": "2023-02-04T07:58:29.307647Z",
     "iopub.status.busy": "2023-02-04T07:58:29.306602Z",
     "iopub.status.idle": "2023-02-04T07:58:29.317066Z",
     "shell.execute_reply": "2023-02-04T07:58:29.316523Z"
    }
   },
   "outputs": [
    {
     "data": {
      "text/html": [
       "<font face=monospace><a href='pYPK0_RPL16A_EctesB_RPL17A.gb' target='_blank'>pYPK0_RPL16A_EctesB_RPL17A.gb</a></font><br>"
      ]
     },
     "metadata": {},
     "output_type": "display_data"
    }
   ],
   "source": [
    "result.write(f\"{result.definition}.gb\")"
   ]
  },
  {
   "cell_type": "markdown",
   "id": "132f568f",
   "metadata": {
    "lines_to_next_cell": 0
   },
   "source": [
    "### Suggested PCR programs\n",
    "\n",
    "For the [amplification](#PCR) of promoter, gene and terminator."
   ]
  },
  {
   "cell_type": "code",
   "execution_count": 28,
   "id": "4d6a0abb",
   "metadata": {
    "execution": {
     "iopub.execute_input": "2023-02-04T07:58:29.323639Z",
     "iopub.status.busy": "2023-02-04T07:58:29.322960Z",
     "iopub.status.idle": "2023-02-04T07:58:29.330150Z",
     "shell.execute_reply": "2023-02-04T07:58:29.328809Z"
    }
   },
   "outputs": [
    {
     "name": "stdout",
     "output_type": "stream",
     "text": [
      "577_crp585-557 567_pCAPsAjiIF\n",
      "|95°C|95°C               |    |tmf:64.6\n",
      "|____|_____          72°C|72°C|tmr:69.7\n",
      "|3min|30s  \\ 58.7°C _____|____|45s/kb\n",
      "|    |      \\______/ 0:30|5min|GC 45%\n",
      "|    |       30s         |    |674bp\n"
     ]
    }
   ],
   "source": [
    "print(prom.forward_primer.name, prom.reverse_primer.name)\n",
    "print(prom.program())"
   ]
  },
  {
   "cell_type": "code",
   "execution_count": 29,
   "id": "53cfc72f",
   "metadata": {
    "execution": {
     "iopub.execute_input": "2023-02-04T07:58:29.337185Z",
     "iopub.status.busy": "2023-02-04T07:58:29.336888Z",
     "iopub.status.idle": "2023-02-04T07:58:29.341438Z",
     "shell.execute_reply": "2023-02-04T07:58:29.340521Z"
    }
   },
   "outputs": [
    {
     "name": "stdout",
     "output_type": "stream",
     "text": [
      "468_pCAPs_release_fw 467_pCAPs_release_re\n",
      "|95°C|95°C               |    |tmf:76.9\n",
      "|____|_____          72°C|72°C|tmr:67.9\n",
      "|3min|30s  \\ 61.9°C _____|____|45s/kb\n",
      "|    |      \\______/ 0:42|5min|GC 52%\n",
      "|    |       30s         |    |950bp\n"
     ]
    }
   ],
   "source": [
    "print(gene.forward_primer.name, gene.reverse_primer.name)\n",
    "print(gene.program())"
   ]
  },
  {
   "cell_type": "code",
   "execution_count": 30,
   "id": "bb5bdfd3",
   "metadata": {
    "execution": {
     "iopub.execute_input": "2023-02-04T07:58:29.349440Z",
     "iopub.status.busy": "2023-02-04T07:58:29.349020Z",
     "iopub.status.idle": "2023-02-04T07:58:29.356032Z",
     "shell.execute_reply": "2023-02-04T07:58:29.354976Z"
    }
   },
   "outputs": [
    {
     "name": "stdout",
     "output_type": "stream",
     "text": [
      "568_pCAPsAjiIR 578_crp42-70\n",
      "|95°C|95°C               |    |tmf:66.1\n",
      "|____|_____          72°C|72°C|tmr:65.0\n",
      "|3min|30s  \\ 57.4°C _____|____|45s/kb\n",
      "|    |      \\______/ 0:45|5min|GC 39%\n",
      "|    |       30s         |    |1008bp\n"
     ]
    }
   ],
   "source": [
    "print(term.forward_primer.name, term.reverse_primer.name)\n",
    "print(term.program())"
   ]
  }
 ],
 "metadata": {
  "jupytext": {
   "main_language": "python",
   "text_representation": {
    "extension": ".py",
    "format_name": "percent",
    "format_version": "1.3",
    "jupytext_version": "1.14.0"
   }
  },
  "language_info": {
   "codemirror_mode": {
    "name": "ipython",
    "version": 3
   },
   "file_extension": ".py",
   "mimetype": "text/x-python",
   "name": "python",
   "nbconvert_exporter": "python",
   "pygments_lexer": "ipython3",
   "version": "3.11.0"
  }
 },
 "nbformat": 4,
 "nbformat_minor": 5
}
