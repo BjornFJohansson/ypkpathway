{
 "cells": [
  {
   "cell_type": "markdown",
   "id": "b24aebdd",
   "metadata": {},
   "source": [
    "# [![logo](logo.png)](https://github.com/BjornFJohansson/ypkpathway#-ypkpathway) pYPK0_ENO2_EcfabI_RPL5\n",
    "\n",
    "Assembly of a [_Saccharomyces cerevisiae_](http://www.yeastgenome.org) transcriptional unit vector.\n",
    "\n",
    "Made from a linear vector fragment and three PCR products:\n",
    "\n",
    "- a linearized pYPK0 vector for maintenance in _S. cerevisiae_ or _E. coli_ (red dashed line in figure below)\n",
    "- a promoter PCR product from the `pYPKa_Z_ENO2` vector\n",
    "- a gene PCR product from the `pYPKa_A_EcfabI` vector\n",
    "- a terminator PCR product from the `pYPKa_E_RPL5` vector\n",
    "\n",
    "The four linear DNA fragments are joined by _in-vivo_ homologous recombination in a\n",
    "[_Saccharomyces cerevisiae_](http://wiki.yeastgenome.org/index.php/Commonly_used_strains) strain.\n",
    "\n",
    "![tu](tu.png \"tu\")\n",
    "\n",
    "A part of the [pydna](https://pypi.python.org/pypi/pydna/) package is imported in the code cell below."
   ]
  },
  {
   "cell_type": "code",
   "execution_count": 1,
   "id": "896ecae6",
   "metadata": {
    "execution": {
     "iopub.execute_input": "2023-02-04T07:58:20.482153Z",
     "iopub.status.busy": "2023-02-04T07:58:20.481295Z",
     "iopub.status.idle": "2023-02-04T07:58:20.846826Z",
     "shell.execute_reply": "2023-02-04T07:58:20.846125Z"
    }
   },
   "outputs": [],
   "source": [
    "from pydna.parsers import parse_primers\n",
    "from pydna.readers import read\n",
    "from pydna.amplify import pcr\n",
    "from pydna.assembly import Assembly"
   ]
  },
  {
   "cell_type": "markdown",
   "id": "edab89da",
   "metadata": {},
   "source": [
    "The Yeast Pathway Kit [standard primers](standard_primers.fasta) are read into a dictionary in the code cell below."
   ]
  },
  {
   "cell_type": "code",
   "execution_count": 2,
   "id": "9f6d4464",
   "metadata": {
    "execution": {
     "iopub.execute_input": "2023-02-04T07:58:20.850432Z",
     "iopub.status.busy": "2023-02-04T07:58:20.849892Z",
     "iopub.status.idle": "2023-02-04T07:58:20.860487Z",
     "shell.execute_reply": "2023-02-04T07:58:20.859841Z"
    }
   },
   "outputs": [],
   "source": [
    "p = {x.name: x for x in parse_primers(\"standard_primers.fasta\")}"
   ]
  },
  {
   "cell_type": "markdown",
   "id": "3ad0db15",
   "metadata": {},
   "source": [
    "The backbone vector [pYPK0](pYPK0.gb) is read from a local file in the code cell below."
   ]
  },
  {
   "cell_type": "code",
   "execution_count": 3,
   "id": "fe057cff",
   "metadata": {
    "execution": {
     "iopub.execute_input": "2023-02-04T07:58:20.863798Z",
     "iopub.status.busy": "2023-02-04T07:58:20.863559Z",
     "iopub.status.idle": "2023-02-04T07:58:20.877377Z",
     "shell.execute_reply": "2023-02-04T07:58:20.876696Z"
    }
   },
   "outputs": [],
   "source": [
    "backbone = read(\"pYPK0.gb\")"
   ]
  },
  {
   "cell_type": "markdown",
   "id": "baa5f4df",
   "metadata": {},
   "source": [
    "The backbone vector is linearized by digestion with [MfeI](https://www.google.com/search?q=MfeI)."
   ]
  },
  {
   "cell_type": "code",
   "execution_count": 4,
   "id": "d8568356",
   "metadata": {
    "execution": {
     "iopub.execute_input": "2023-02-04T07:58:20.880695Z",
     "iopub.status.busy": "2023-02-04T07:58:20.880440Z",
     "iopub.status.idle": "2023-02-04T07:58:20.883911Z",
     "shell.execute_reply": "2023-02-04T07:58:20.883277Z"
    }
   },
   "outputs": [],
   "source": [
    "from Bio.Restriction import MfeI"
   ]
  },
  {
   "cell_type": "code",
   "execution_count": 5,
   "id": "bfef76e2",
   "metadata": {
    "execution": {
     "iopub.execute_input": "2023-02-04T07:58:20.888536Z",
     "iopub.status.busy": "2023-02-04T07:58:20.888019Z",
     "iopub.status.idle": "2023-02-04T07:58:20.899184Z",
     "shell.execute_reply": "2023-02-04T07:58:20.898509Z"
    }
   },
   "outputs": [],
   "source": [
    "linear_backbone = backbone.linearize(MfeI)"
   ]
  },
  {
   "cell_type": "markdown",
   "id": "4ae3c26e",
   "metadata": {},
   "source": [
    "The pYPKa derived _E. coli_ plasmids containing\n",
    "- [promoter](pYPKa_Z_ENO2.gb)\n",
    "- [gene](pYPKa_A_EcfabI.gb)\n",
    "- [terminator](pYPKa_E_RPL5.gb)\n",
    "\n",
    "are read into three variables below."
   ]
  },
  {
   "cell_type": "code",
   "execution_count": 6,
   "id": "8e484892",
   "metadata": {
    "execution": {
     "iopub.execute_input": "2023-02-04T07:58:20.902293Z",
     "iopub.status.busy": "2023-02-04T07:58:20.901849Z",
     "iopub.status.idle": "2023-02-04T07:58:20.920396Z",
     "shell.execute_reply": "2023-02-04T07:58:20.919649Z"
    }
   },
   "outputs": [],
   "source": [
    "promoter_template   = read(\"pYPKa_Z_ENO2.gb\")\n",
    "gene_template       = read(\"pYPKa_A_EcfabI.gb\")\n",
    "terminator_template = read(\"pYPKa_E_RPL5.gb\")"
   ]
  },
  {
   "cell_type": "markdown",
   "id": "857d4af4",
   "metadata": {
    "lines_to_next_cell": 0
   },
   "source": [
    "### PCR\n",
    "Three DNA fragments are PCR amplified using [standard primers](standard_primers.fasta).\n",
    "\n",
    "[Suggested PCR programs](#Suggested-PCR-programs) can be found at the end of this document."
   ]
  },
  {
   "cell_type": "code",
   "execution_count": 7,
   "id": "f03a2f1d",
   "metadata": {
    "execution": {
     "iopub.execute_input": "2023-02-04T07:58:20.923687Z",
     "iopub.status.busy": "2023-02-04T07:58:20.923144Z",
     "iopub.status.idle": "2023-02-04T07:58:20.927823Z",
     "shell.execute_reply": "2023-02-04T07:58:20.927070Z"
    }
   },
   "outputs": [],
   "source": [
    "\n",
    "fp_prom = p['577_crp585-557']\n",
    "rp_prom = p['567_pCAPsAjiIF']\n",
    "fp_gene = p['468_pCAPs_release_fw']\n",
    "rp_gene = p['467_pCAPs_release_re']\n",
    "fp_term = p['568_pCAPsAjiIR']\n",
    "rp_term = p['578_crp42-70']"
   ]
  },
  {
   "cell_type": "code",
   "execution_count": 8,
   "id": "386949dc",
   "metadata": {
    "execution": {
     "iopub.execute_input": "2023-02-04T07:58:20.931668Z",
     "iopub.status.busy": "2023-02-04T07:58:20.930948Z",
     "iopub.status.idle": "2023-02-04T07:58:20.961978Z",
     "shell.execute_reply": "2023-02-04T07:58:20.961343Z"
    }
   },
   "outputs": [],
   "source": [
    "prom = pcr(fp_prom, rp_prom, promoter_template)\n",
    "gene = pcr(fp_gene, rp_gene, gene_template)\n",
    "term = pcr(fp_term, rp_term, terminator_template)"
   ]
  },
  {
   "cell_type": "code",
   "execution_count": 9,
   "id": "2060bfab",
   "metadata": {
    "execution": {
     "iopub.execute_input": "2023-02-04T07:58:20.964623Z",
     "iopub.status.busy": "2023-02-04T07:58:20.964385Z",
     "iopub.status.idle": "2023-02-04T07:58:20.967656Z",
     "shell.execute_reply": "2023-02-04T07:58:20.967126Z"
    }
   },
   "outputs": [],
   "source": [
    "prom.name = \"pYPKa_Z_ENO2\"[8:]\n",
    "gene.name = \"pYPKa_A_EcfabI\"[8:]\n",
    "term.name = \"pYPKa_E_RPL5\"[8:]"
   ]
  },
  {
   "cell_type": "markdown",
   "id": "9bc2dbac",
   "metadata": {},
   "source": [
    "\n",
    "The fragments will be assembled by _in-vivo_ [homologous recombination](http://www.ncbi.nlm.nih.gov/pubmed/2828185):"
   ]
  },
  {
   "cell_type": "code",
   "execution_count": 10,
   "id": "ef549a37",
   "metadata": {
    "execution": {
     "iopub.execute_input": "2023-02-04T07:58:20.971635Z",
     "iopub.status.busy": "2023-02-04T07:58:20.971287Z",
     "iopub.status.idle": "2023-02-04T07:58:21.641677Z",
     "shell.execute_reply": "2023-02-04T07:58:21.640879Z"
    }
   },
   "outputs": [
    {
     "data": {
      "text/plain": [
       "Assembly\n",
       "fragments..: 5766bp 752bp 878bp 841bp\n",
       "limit(bp)..: 31\n",
       "G.nodes....: 10\n",
       "algorithm..: common_sub_strings"
      ]
     },
     "execution_count": 10,
     "metadata": {},
     "output_type": "execute_result"
    }
   ],
   "source": [
    "asm = Assembly((linear_backbone, prom, gene, term), limit=31)\n",
    "asm"
   ]
  },
  {
   "cell_type": "markdown",
   "id": "7560e8b7",
   "metadata": {},
   "source": [
    "The Assembly object above should normally indicate four fragments and eight nodes."
   ]
  },
  {
   "cell_type": "code",
   "execution_count": 11,
   "id": "121917d4",
   "metadata": {
    "execution": {
     "iopub.execute_input": "2023-02-04T07:58:21.645909Z",
     "iopub.status.busy": "2023-02-04T07:58:21.645543Z",
     "iopub.status.idle": "2023-02-04T07:58:21.925643Z",
     "shell.execute_reply": "2023-02-04T07:58:21.924956Z"
    },
    "lines_to_next_cell": 0
   },
   "outputs": [
    {
     "data": {
      "text/plain": [
       "[Contig(o7602), Contig(o7602), Contig(o7602), Contig(o7068), Contig(o7068)]"
      ]
     },
     "execution_count": 11,
     "metadata": {},
     "output_type": "execute_result"
    }
   ],
   "source": [
    "candidates = asm.assemble_circular()\n",
    "candidates"
   ]
  },
  {
   "cell_type": "markdown",
   "id": "15969236",
   "metadata": {},
   "source": [
    "There should normally be two candidates of equal size. These sequences should be identical."
   ]
  },
  {
   "cell_type": "code",
   "execution_count": 12,
   "id": "c8417fa9",
   "metadata": {
    "execution": {
     "iopub.execute_input": "2023-02-04T07:58:21.928370Z",
     "iopub.status.busy": "2023-02-04T07:58:21.928098Z",
     "iopub.status.idle": "2023-02-04T07:58:21.931504Z",
     "shell.execute_reply": "2023-02-04T07:58:21.930630Z"
    },
    "lines_to_next_cell": 0
   },
   "outputs": [],
   "source": [
    "candidate, *rest = candidates"
   ]
  },
  {
   "cell_type": "code",
   "execution_count": 13,
   "id": "d7b7dbb3",
   "metadata": {
    "execution": {
     "iopub.execute_input": "2023-02-04T07:58:21.935039Z",
     "iopub.status.busy": "2023-02-04T07:58:21.934698Z",
     "iopub.status.idle": "2023-02-04T07:58:21.957960Z",
     "shell.execute_reply": "2023-02-04T07:58:21.957370Z"
    },
    "lines_to_next_cell": 0
   },
   "outputs": [
    {
     "data": {
      "text/plain": [
       "True"
      ]
     },
     "execution_count": 13,
     "metadata": {},
     "output_type": "execute_result"
    }
   ],
   "source": [
    "candidate.cseguid() == rest[0].cseguid()"
   ]
  },
  {
   "cell_type": "code",
   "execution_count": 14,
   "id": "7ecd3ce6",
   "metadata": {
    "execution": {
     "iopub.execute_input": "2023-02-04T07:58:21.961123Z",
     "iopub.status.busy": "2023-02-04T07:58:21.960796Z",
     "iopub.status.idle": "2023-02-04T07:58:21.965513Z",
     "shell.execute_reply": "2023-02-04T07:58:21.964583Z"
    },
    "lines_to_next_cell": 0
   },
   "outputs": [
    {
     "data": {
      "text/plain": [
       " -|pYPK0_lin|168\n",
       "|            \\/\n",
       "|            /\\\n",
       "|            168|ENO2|48\n",
       "|                     \\/\n",
       "|                     /\\\n",
       "|                     48|EcfabI|37\n",
       "|                               \\/\n",
       "|                               /\\\n",
       "|                               37|RPL5|276\n",
       "|                                       \\/\n",
       "|                                       /\\\n",
       "|                                       276-\n",
       "|                                          |\n",
       " ------------------------------------------"
      ]
     },
     "execution_count": 14,
     "metadata": {},
     "output_type": "execute_result"
    }
   ],
   "source": [
    "candidate.figure()"
   ]
  },
  {
   "cell_type": "markdown",
   "id": "2c9679c9",
   "metadata": {},
   "source": [
    "The candidate vector is synchronized to the 577 primer. This means that\n",
    "the plasmid origin is shifted so that it matches the backbone vector."
   ]
  },
  {
   "cell_type": "code",
   "execution_count": 15,
   "id": "ecf93a59",
   "metadata": {
    "execution": {
     "iopub.execute_input": "2023-02-04T07:58:21.968746Z",
     "iopub.status.busy": "2023-02-04T07:58:21.968496Z",
     "iopub.status.idle": "2023-02-04T07:58:22.273868Z",
     "shell.execute_reply": "2023-02-04T07:58:22.273275Z"
    }
   },
   "outputs": [],
   "source": [
    "result = candidate.synced(fp_prom)"
   ]
  },
  {
   "cell_type": "markdown",
   "id": "a725b60e",
   "metadata": {},
   "source": [
    "### Diagnostic PCR confirmation\n",
    "\n",
    "The structure of the final vector is confirmed by two\n",
    "separate PCR reactions, one for the promoter and gene and\n",
    "one for the gene and terminator.\n",
    "\n",
    "PCR using standard primers 577 and 467 to amplify promoter and gene."
   ]
  },
  {
   "cell_type": "code",
   "execution_count": 16,
   "id": "97ac0ab1",
   "metadata": {
    "execution": {
     "iopub.execute_input": "2023-02-04T07:58:22.277064Z",
     "iopub.status.busy": "2023-02-04T07:58:22.276571Z",
     "iopub.status.idle": "2023-02-04T07:58:22.295439Z",
     "shell.execute_reply": "2023-02-04T07:58:22.294767Z"
    }
   },
   "outputs": [],
   "source": [
    "product = pcr( fp_prom, rp_gene, result)"
   ]
  },
  {
   "cell_type": "markdown",
   "id": "5e0950f3",
   "metadata": {},
   "source": [
    "A correct clone should give this size in base pairs:"
   ]
  },
  {
   "cell_type": "code",
   "execution_count": 17,
   "id": "22aec6a8",
   "metadata": {
    "execution": {
     "iopub.execute_input": "2023-02-04T07:58:22.298554Z",
     "iopub.status.busy": "2023-02-04T07:58:22.298310Z",
     "iopub.status.idle": "2023-02-04T07:58:22.302510Z",
     "shell.execute_reply": "2023-02-04T07:58:22.301189Z"
    }
   },
   "outputs": [
    {
     "name": "stdout",
     "output_type": "stream",
     "text": [
      "1580\n"
     ]
    }
   ],
   "source": [
    "print(len(product))"
   ]
  },
  {
   "cell_type": "markdown",
   "id": "6ee2bf64",
   "metadata": {},
   "source": [
    "If the promoter is missing from the assembly, the PCR product will have this size in base pairs:"
   ]
  },
  {
   "cell_type": "code",
   "execution_count": 18,
   "id": "1dd14128",
   "metadata": {
    "execution": {
     "iopub.execute_input": "2023-02-04T07:58:22.305636Z",
     "iopub.status.busy": "2023-02-04T07:58:22.305240Z",
     "iopub.status.idle": "2023-02-04T07:58:22.310715Z",
     "shell.execute_reply": "2023-02-04T07:58:22.309681Z"
    }
   },
   "outputs": [
    {
     "name": "stdout",
     "output_type": "stream",
     "text": [
      "828\n"
     ]
    }
   ],
   "source": [
    "print(len(product) - len(prom))"
   ]
  },
  {
   "cell_type": "markdown",
   "id": "5e102af3",
   "metadata": {},
   "source": [
    "If the gene is missing from the assembly, the PCR product will have this size in base pairs:"
   ]
  },
  {
   "cell_type": "code",
   "execution_count": 19,
   "id": "4f9fd5a2",
   "metadata": {
    "execution": {
     "iopub.execute_input": "2023-02-04T07:58:22.315266Z",
     "iopub.status.busy": "2023-02-04T07:58:22.314352Z",
     "iopub.status.idle": "2023-02-04T07:58:22.318661Z",
     "shell.execute_reply": "2023-02-04T07:58:22.317970Z"
    }
   },
   "outputs": [
    {
     "name": "stdout",
     "output_type": "stream",
     "text": [
      "702\n"
     ]
    }
   ],
   "source": [
    "print(len(product) - len(gene))"
   ]
  },
  {
   "cell_type": "markdown",
   "id": "d3ca0423",
   "metadata": {},
   "source": [
    "PCR using standard primers 468 and 578 to amplify gene and terminator."
   ]
  },
  {
   "cell_type": "code",
   "execution_count": 20,
   "id": "7c4c7602",
   "metadata": {
    "execution": {
     "iopub.execute_input": "2023-02-04T07:58:22.322053Z",
     "iopub.status.busy": "2023-02-04T07:58:22.321760Z",
     "iopub.status.idle": "2023-02-04T07:58:22.343253Z",
     "shell.execute_reply": "2023-02-04T07:58:22.342657Z"
    }
   },
   "outputs": [],
   "source": [
    "product2 = pcr( fp_gene, rp_term, result)"
   ]
  },
  {
   "cell_type": "markdown",
   "id": "f9928e2f",
   "metadata": {},
   "source": [
    "A correct clone should give this size:"
   ]
  },
  {
   "cell_type": "code",
   "execution_count": 21,
   "id": "1735333f",
   "metadata": {
    "execution": {
     "iopub.execute_input": "2023-02-04T07:58:22.346064Z",
     "iopub.status.busy": "2023-02-04T07:58:22.345834Z",
     "iopub.status.idle": "2023-02-04T07:58:22.349481Z",
     "shell.execute_reply": "2023-02-04T07:58:22.348960Z"
    }
   },
   "outputs": [
    {
     "name": "stdout",
     "output_type": "stream",
     "text": [
      "1682\n"
     ]
    }
   ],
   "source": [
    "print(len(product2))"
   ]
  },
  {
   "cell_type": "markdown",
   "id": "67e75f6d",
   "metadata": {},
   "source": [
    "If the gene is missing from the assembly, the PCR product will have this size in base pairs:"
   ]
  },
  {
   "cell_type": "code",
   "execution_count": 22,
   "id": "ca6ed270",
   "metadata": {
    "execution": {
     "iopub.execute_input": "2023-02-04T07:58:22.353370Z",
     "iopub.status.busy": "2023-02-04T07:58:22.353002Z",
     "iopub.status.idle": "2023-02-04T07:58:22.357557Z",
     "shell.execute_reply": "2023-02-04T07:58:22.356781Z"
    }
   },
   "outputs": [
    {
     "name": "stdout",
     "output_type": "stream",
     "text": [
      "804\n"
     ]
    }
   ],
   "source": [
    "print(len(product2) - len(gene))"
   ]
  },
  {
   "cell_type": "markdown",
   "id": "b0416b4c",
   "metadata": {},
   "source": [
    "If the terminator is missing from the assembly, the PCR product will have this size in base pairs:"
   ]
  },
  {
   "cell_type": "code",
   "execution_count": 23,
   "id": "30611619",
   "metadata": {
    "execution": {
     "iopub.execute_input": "2023-02-04T07:58:22.360543Z",
     "iopub.status.busy": "2023-02-04T07:58:22.360339Z",
     "iopub.status.idle": "2023-02-04T07:58:22.363598Z",
     "shell.execute_reply": "2023-02-04T07:58:22.363040Z"
    }
   },
   "outputs": [
    {
     "name": "stdout",
     "output_type": "stream",
     "text": [
      "841\n"
     ]
    }
   ],
   "source": [
    "print(len(product2) - len(term))"
   ]
  },
  {
   "cell_type": "markdown",
   "id": "94b02291",
   "metadata": {},
   "source": [
    "The cseguid checksum for the resulting plasmid is calculated for future reference.\n",
    "The [cseguid checksum](http://pydna.readthedocs.org/en/latest/pydna.html#pydna.utils.cseguid)\n",
    "uniquely identifies a circular double stranded sequence."
   ]
  },
  {
   "cell_type": "code",
   "execution_count": 24,
   "id": "c394414d",
   "metadata": {
    "execution": {
     "iopub.execute_input": "2023-02-04T07:58:22.366187Z",
     "iopub.status.busy": "2023-02-04T07:58:22.365773Z",
     "iopub.status.idle": "2023-02-04T07:58:22.377454Z",
     "shell.execute_reply": "2023-02-04T07:58:22.376835Z"
    }
   },
   "outputs": [
    {
     "name": "stdout",
     "output_type": "stream",
     "text": [
      "qh3heOYKC4m0vrH43UzheBnMSnc\n"
     ]
    }
   ],
   "source": [
    "print(result.cseguid())"
   ]
  },
  {
   "cell_type": "markdown",
   "id": "a19b7c82",
   "metadata": {},
   "source": [
    "The file name is based on the promoter, gene and terminator designations."
   ]
  },
  {
   "cell_type": "code",
   "execution_count": 25,
   "id": "3f016cc7",
   "metadata": {
    "execution": {
     "iopub.execute_input": "2023-02-04T07:58:22.379953Z",
     "iopub.status.busy": "2023-02-04T07:58:22.379709Z",
     "iopub.status.idle": "2023-02-04T07:58:22.382623Z",
     "shell.execute_reply": "2023-02-04T07:58:22.382076Z"
    }
   },
   "outputs": [],
   "source": [
    "result.locus = f\"tu:{gene.name}\"[:16]\n",
    "result.definition = \"pYPK0_ENO2_EcfabI_RPL5\""
   ]
  },
  {
   "cell_type": "markdown",
   "id": "ea47cb64",
   "metadata": {},
   "source": [
    "Sequence is stamped with cseguid checksum. This can be used to verify the\n",
    "integrity of the sequence file."
   ]
  },
  {
   "cell_type": "code",
   "execution_count": 26,
   "id": "3ed73f26",
   "metadata": {
    "execution": {
     "iopub.execute_input": "2023-02-04T07:58:22.386409Z",
     "iopub.status.busy": "2023-02-04T07:58:22.385801Z",
     "iopub.status.idle": "2023-02-04T07:58:22.398516Z",
     "shell.execute_reply": "2023-02-04T07:58:22.397985Z"
    }
   },
   "outputs": [
    {
     "data": {
      "text/plain": [
       "qh3heOYKC4m0vrH43UzheBnMSnc"
      ]
     },
     "execution_count": 26,
     "metadata": {},
     "output_type": "execute_result"
    }
   ],
   "source": [
    "result.stamp(\"cSEGUID\")"
   ]
  },
  {
   "cell_type": "markdown",
   "id": "d8621a66",
   "metadata": {},
   "source": [
    "Write sequence to a local file."
   ]
  },
  {
   "cell_type": "code",
   "execution_count": 27,
   "id": "f761f283",
   "metadata": {
    "execution": {
     "iopub.execute_input": "2023-02-04T07:58:22.401406Z",
     "iopub.status.busy": "2023-02-04T07:58:22.400883Z",
     "iopub.status.idle": "2023-02-04T07:58:22.410585Z",
     "shell.execute_reply": "2023-02-04T07:58:22.409745Z"
    }
   },
   "outputs": [
    {
     "data": {
      "text/html": [
       "<font face=monospace><a href='pYPK0_ENO2_EcfabI_RPL5.gb' target='_blank'>pYPK0_ENO2_EcfabI_RPL5.gb</a></font><br>"
      ]
     },
     "metadata": {},
     "output_type": "display_data"
    }
   ],
   "source": [
    "result.write(f\"{result.definition}.gb\")"
   ]
  },
  {
   "cell_type": "markdown",
   "id": "8860ccc2",
   "metadata": {
    "lines_to_next_cell": 0
   },
   "source": [
    "### Suggested PCR programs\n",
    "\n",
    "For the [amplification](#PCR) of promoter, gene and terminator."
   ]
  },
  {
   "cell_type": "code",
   "execution_count": 28,
   "id": "30ae734b",
   "metadata": {
    "execution": {
     "iopub.execute_input": "2023-02-04T07:58:22.414526Z",
     "iopub.status.busy": "2023-02-04T07:58:22.414073Z",
     "iopub.status.idle": "2023-02-04T07:58:22.420026Z",
     "shell.execute_reply": "2023-02-04T07:58:22.418811Z"
    }
   },
   "outputs": [
    {
     "name": "stdout",
     "output_type": "stream",
     "text": [
      "577_crp585-557 567_pCAPsAjiIF\n",
      "|95°C|95°C               |    |tmf:64.6\n",
      "|____|_____          72°C|72°C|tmr:69.7\n",
      "|3min|30s  \\ 57.1°C _____|____|45s/kb\n",
      "|    |      \\______/ 0:33|5min|GC 39%\n",
      "|    |       30s         |    |752bp\n"
     ]
    }
   ],
   "source": [
    "print(prom.forward_primer.name, prom.reverse_primer.name)\n",
    "print(prom.program())"
   ]
  },
  {
   "cell_type": "code",
   "execution_count": 29,
   "id": "854de55f",
   "metadata": {
    "execution": {
     "iopub.execute_input": "2023-02-04T07:58:22.423250Z",
     "iopub.status.busy": "2023-02-04T07:58:22.422984Z",
     "iopub.status.idle": "2023-02-04T07:58:22.427626Z",
     "shell.execute_reply": "2023-02-04T07:58:22.426967Z"
    }
   },
   "outputs": [
    {
     "name": "stdout",
     "output_type": "stream",
     "text": [
      "468_pCAPs_release_fw 467_pCAPs_release_re\n",
      "|95°C|95°C               |    |tmf:76.9\n",
      "|____|_____          72°C|72°C|tmr:67.9\n",
      "|3min|30s  \\ 62.1°C _____|____|45s/kb\n",
      "|    |      \\______/ 0:39|5min|GC 53%\n",
      "|    |       30s         |    |878bp\n"
     ]
    }
   ],
   "source": [
    "print(gene.forward_primer.name, gene.reverse_primer.name)\n",
    "print(gene.program())"
   ]
  },
  {
   "cell_type": "code",
   "execution_count": 30,
   "id": "7d7f16bc",
   "metadata": {
    "execution": {
     "iopub.execute_input": "2023-02-04T07:58:22.430827Z",
     "iopub.status.busy": "2023-02-04T07:58:22.430457Z",
     "iopub.status.idle": "2023-02-04T07:58:22.436615Z",
     "shell.execute_reply": "2023-02-04T07:58:22.435468Z"
    }
   },
   "outputs": [
    {
     "name": "stdout",
     "output_type": "stream",
     "text": [
      "568_pCAPsAjiIR 578_crp42-70\n",
      "|95°C|95°C               |    |tmf:66.1\n",
      "|____|_____          72°C|72°C|tmr:65.0\n",
      "|3min|30s  \\ 56.8°C _____|____|45s/kb\n",
      "|    |      \\______/ 0:37|5min|GC 37%\n",
      "|    |       30s         |    |841bp\n"
     ]
    }
   ],
   "source": [
    "print(term.forward_primer.name, term.reverse_primer.name)\n",
    "print(term.program())"
   ]
  }
 ],
 "metadata": {
  "jupytext": {
   "main_language": "python",
   "text_representation": {
    "extension": ".py",
    "format_name": "percent",
    "format_version": "1.3",
    "jupytext_version": "1.14.0"
   }
  },
  "language_info": {
   "codemirror_mode": {
    "name": "ipython",
    "version": 3
   },
   "file_extension": ".py",
   "mimetype": "text/x-python",
   "name": "python",
   "nbconvert_exporter": "python",
   "pygments_lexer": "ipython3",
   "version": "3.11.0"
  }
 },
 "nbformat": 4,
 "nbformat_minor": 5
}
