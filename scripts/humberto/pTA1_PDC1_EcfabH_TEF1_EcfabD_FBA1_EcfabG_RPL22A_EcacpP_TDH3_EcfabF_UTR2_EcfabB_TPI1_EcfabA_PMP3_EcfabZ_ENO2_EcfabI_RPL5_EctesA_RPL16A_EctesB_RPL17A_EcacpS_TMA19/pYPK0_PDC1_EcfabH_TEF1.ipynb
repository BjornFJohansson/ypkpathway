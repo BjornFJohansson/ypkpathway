{
 "cells": [
  {
   "cell_type": "markdown",
   "id": "7d90b757",
   "metadata": {},
   "source": [
    "# [![logo](logo.png)](https://github.com/BjornFJohansson/ypkpathway#-ypkpathway) pYPK0_PDC1_EcfabH_TEF1\n",
    "\n",
    "Assembly of a [_Saccharomyces cerevisiae_](http://www.yeastgenome.org) transcriptional unit vector.\n",
    "\n",
    "Made from a linear vector fragment and three PCR products:\n",
    "\n",
    "- a linearized pYPK0 vector for maintenance in _S. cerevisiae_ or _E. coli_ (red dashed line in figure below)\n",
    "- a promoter PCR product from the `pYPKa_Z_PDC1` vector\n",
    "- a gene PCR product from the `pYPKa_A_EcfabH` vector\n",
    "- a terminator PCR product from the `pYPKa_E_TEF1` vector\n",
    "\n",
    "The four linear DNA fragments are joined by _in-vivo_ homologous recombination in a\n",
    "[_Saccharomyces cerevisiae_](http://wiki.yeastgenome.org/index.php/Commonly_used_strains) strain.\n",
    "\n",
    "![tu](tu.png \"tu\")\n",
    "\n",
    "A part of the [pydna](https://pypi.python.org/pypi/pydna/) package is imported in the code cell below."
   ]
  },
  {
   "cell_type": "code",
   "execution_count": 1,
   "id": "5f315d6e",
   "metadata": {
    "execution": {
     "iopub.execute_input": "2023-02-04T07:57:49.059025Z",
     "iopub.status.busy": "2023-02-04T07:57:49.058120Z",
     "iopub.status.idle": "2023-02-04T07:57:49.438351Z",
     "shell.execute_reply": "2023-02-04T07:57:49.437708Z"
    }
   },
   "outputs": [],
   "source": [
    "from pydna.parsers import parse_primers\n",
    "from pydna.readers import read\n",
    "from pydna.amplify import pcr\n",
    "from pydna.assembly import Assembly"
   ]
  },
  {
   "cell_type": "markdown",
   "id": "47ea24c9",
   "metadata": {},
   "source": [
    "The Yeast Pathway Kit [standard primers](standard_primers.fasta) are read into a dictionary in the code cell below."
   ]
  },
  {
   "cell_type": "code",
   "execution_count": 2,
   "id": "5979c963",
   "metadata": {
    "execution": {
     "iopub.execute_input": "2023-02-04T07:57:49.441723Z",
     "iopub.status.busy": "2023-02-04T07:57:49.441143Z",
     "iopub.status.idle": "2023-02-04T07:57:49.454224Z",
     "shell.execute_reply": "2023-02-04T07:57:49.453089Z"
    }
   },
   "outputs": [],
   "source": [
    "p = {x.name: x for x in parse_primers(\"standard_primers.fasta\")}"
   ]
  },
  {
   "cell_type": "markdown",
   "id": "a2fbadc4",
   "metadata": {},
   "source": [
    "The backbone vector [pYPK0](pYPK0.gb) is read from a local file in the code cell below."
   ]
  },
  {
   "cell_type": "code",
   "execution_count": 3,
   "id": "cac4e3ee",
   "metadata": {
    "execution": {
     "iopub.execute_input": "2023-02-04T07:57:49.458105Z",
     "iopub.status.busy": "2023-02-04T07:57:49.457803Z",
     "iopub.status.idle": "2023-02-04T07:57:49.468265Z",
     "shell.execute_reply": "2023-02-04T07:57:49.467405Z"
    }
   },
   "outputs": [],
   "source": [
    "backbone = read(\"pYPK0.gb\")"
   ]
  },
  {
   "cell_type": "markdown",
   "id": "e82b742c",
   "metadata": {},
   "source": [
    "The backbone vector is linearized by digestion with [MfeI](https://www.google.com/search?q=MfeI)."
   ]
  },
  {
   "cell_type": "code",
   "execution_count": 4,
   "id": "18e9af50",
   "metadata": {
    "execution": {
     "iopub.execute_input": "2023-02-04T07:57:49.471827Z",
     "iopub.status.busy": "2023-02-04T07:57:49.471562Z",
     "iopub.status.idle": "2023-02-04T07:57:49.475281Z",
     "shell.execute_reply": "2023-02-04T07:57:49.474572Z"
    }
   },
   "outputs": [],
   "source": [
    "from Bio.Restriction import MfeI"
   ]
  },
  {
   "cell_type": "code",
   "execution_count": 5,
   "id": "d4be8ddb",
   "metadata": {
    "execution": {
     "iopub.execute_input": "2023-02-04T07:57:49.478330Z",
     "iopub.status.busy": "2023-02-04T07:57:49.478074Z",
     "iopub.status.idle": "2023-02-04T07:57:49.486753Z",
     "shell.execute_reply": "2023-02-04T07:57:49.486000Z"
    }
   },
   "outputs": [],
   "source": [
    "linear_backbone = backbone.linearize(MfeI)"
   ]
  },
  {
   "cell_type": "markdown",
   "id": "e7f8ab8c",
   "metadata": {},
   "source": [
    "The pYPKa derived _E. coli_ plasmids containing\n",
    "- [promoter](pYPKa_Z_PDC1.gb)\n",
    "- [gene](pYPKa_A_EcfabH.gb)\n",
    "- [terminator](pYPKa_E_TEF1.gb)\n",
    "\n",
    "are read into three variables below."
   ]
  },
  {
   "cell_type": "code",
   "execution_count": 6,
   "id": "ae0057bd",
   "metadata": {
    "execution": {
     "iopub.execute_input": "2023-02-04T07:57:49.490211Z",
     "iopub.status.busy": "2023-02-04T07:57:49.489951Z",
     "iopub.status.idle": "2023-02-04T07:57:49.506314Z",
     "shell.execute_reply": "2023-02-04T07:57:49.505533Z"
    }
   },
   "outputs": [],
   "source": [
    "promoter_template   = read(\"pYPKa_Z_PDC1.gb\")\n",
    "gene_template       = read(\"pYPKa_A_EcfabH.gb\")\n",
    "terminator_template = read(\"pYPKa_E_TEF1.gb\")"
   ]
  },
  {
   "cell_type": "markdown",
   "id": "0e632fa0",
   "metadata": {
    "lines_to_next_cell": 0
   },
   "source": [
    "### PCR\n",
    "Three DNA fragments are PCR amplified using [standard primers](standard_primers.fasta).\n",
    "\n",
    "[Suggested PCR programs](#Suggested-PCR-programs) can be found at the end of this document."
   ]
  },
  {
   "cell_type": "code",
   "execution_count": 7,
   "id": "2c408111",
   "metadata": {
    "execution": {
     "iopub.execute_input": "2023-02-04T07:57:49.511009Z",
     "iopub.status.busy": "2023-02-04T07:57:49.510397Z",
     "iopub.status.idle": "2023-02-04T07:57:49.514888Z",
     "shell.execute_reply": "2023-02-04T07:57:49.514097Z"
    }
   },
   "outputs": [],
   "source": [
    "\n",
    "fp_prom = p['577_crp585-557']\n",
    "rp_prom = p['567_pCAPsAjiIF']\n",
    "fp_gene = p['468_pCAPs_release_fw']\n",
    "rp_gene = p['467_pCAPs_release_re']\n",
    "fp_term = p['568_pCAPsAjiIR']\n",
    "rp_term = p['578_crp42-70']"
   ]
  },
  {
   "cell_type": "code",
   "execution_count": 8,
   "id": "ce1039b4",
   "metadata": {
    "execution": {
     "iopub.execute_input": "2023-02-04T07:57:49.518868Z",
     "iopub.status.busy": "2023-02-04T07:57:49.518520Z",
     "iopub.status.idle": "2023-02-04T07:57:49.539240Z",
     "shell.execute_reply": "2023-02-04T07:57:49.538637Z"
    }
   },
   "outputs": [],
   "source": [
    "prom = pcr(fp_prom, rp_prom, promoter_template)\n",
    "gene = pcr(fp_gene, rp_gene, gene_template)\n",
    "term = pcr(fp_term, rp_term, terminator_template)"
   ]
  },
  {
   "cell_type": "code",
   "execution_count": 9,
   "id": "3cecce20",
   "metadata": {
    "execution": {
     "iopub.execute_input": "2023-02-04T07:57:49.541841Z",
     "iopub.status.busy": "2023-02-04T07:57:49.541564Z",
     "iopub.status.idle": "2023-02-04T07:57:49.545147Z",
     "shell.execute_reply": "2023-02-04T07:57:49.544468Z"
    }
   },
   "outputs": [],
   "source": [
    "prom.name = \"pYPKa_Z_PDC1\"[8:]\n",
    "gene.name = \"pYPKa_A_EcfabH\"[8:]\n",
    "term.name = \"pYPKa_E_TEF1\"[8:]"
   ]
  },
  {
   "cell_type": "markdown",
   "id": "211c388a",
   "metadata": {},
   "source": [
    "\n",
    "The fragments will be assembled by _in-vivo_ [homologous recombination](http://www.ncbi.nlm.nih.gov/pubmed/2828185):"
   ]
  },
  {
   "cell_type": "code",
   "execution_count": 10,
   "id": "e61a73dc",
   "metadata": {
    "execution": {
     "iopub.execute_input": "2023-02-04T07:57:49.548201Z",
     "iopub.status.busy": "2023-02-04T07:57:49.547897Z",
     "iopub.status.idle": "2023-02-04T07:57:50.010315Z",
     "shell.execute_reply": "2023-02-04T07:57:50.009758Z"
    }
   },
   "outputs": [
    {
     "data": {
      "text/plain": [
       "Assembly\n",
       "fragments..: 5766bp 1187bp 1043bp 919bp\n",
       "limit(bp)..: 31\n",
       "G.nodes....: 10\n",
       "algorithm..: common_sub_strings"
      ]
     },
     "execution_count": 10,
     "metadata": {},
     "output_type": "execute_result"
    }
   ],
   "source": [
    "asm = Assembly((linear_backbone, prom, gene, term), limit=31)\n",
    "asm"
   ]
  },
  {
   "cell_type": "markdown",
   "id": "c712610b",
   "metadata": {},
   "source": [
    "The Assembly object above should normally indicate four fragments and eight nodes."
   ]
  },
  {
   "cell_type": "code",
   "execution_count": 11,
   "id": "48f5e3fa",
   "metadata": {
    "execution": {
     "iopub.execute_input": "2023-02-04T07:57:50.012935Z",
     "iopub.status.busy": "2023-02-04T07:57:50.012719Z",
     "iopub.status.idle": "2023-02-04T07:57:50.245773Z",
     "shell.execute_reply": "2023-02-04T07:57:50.245187Z"
    },
    "lines_to_next_cell": 0
   },
   "outputs": [
    {
     "data": {
      "text/plain": [
       "[Contig(o8280), Contig(o8280), Contig(o8280), Contig(o7311), Contig(o7311)]"
      ]
     },
     "execution_count": 11,
     "metadata": {},
     "output_type": "execute_result"
    }
   ],
   "source": [
    "candidates = asm.assemble_circular()\n",
    "candidates"
   ]
  },
  {
   "cell_type": "markdown",
   "id": "20fb5dac",
   "metadata": {},
   "source": [
    "There should normally be two candidates of equal size. These sequences should be identical."
   ]
  },
  {
   "cell_type": "code",
   "execution_count": 12,
   "id": "7be73f5b",
   "metadata": {
    "execution": {
     "iopub.execute_input": "2023-02-04T07:57:50.249268Z",
     "iopub.status.busy": "2023-02-04T07:57:50.248710Z",
     "iopub.status.idle": "2023-02-04T07:57:50.252362Z",
     "shell.execute_reply": "2023-02-04T07:57:50.251635Z"
    },
    "lines_to_next_cell": 0
   },
   "outputs": [],
   "source": [
    "candidate, *rest = candidates"
   ]
  },
  {
   "cell_type": "code",
   "execution_count": 13,
   "id": "0daa3711",
   "metadata": {
    "execution": {
     "iopub.execute_input": "2023-02-04T07:57:50.255285Z",
     "iopub.status.busy": "2023-02-04T07:57:50.255032Z",
     "iopub.status.idle": "2023-02-04T07:57:50.273632Z",
     "shell.execute_reply": "2023-02-04T07:57:50.273052Z"
    },
    "lines_to_next_cell": 0
   },
   "outputs": [
    {
     "data": {
      "text/plain": [
       "True"
      ]
     },
     "execution_count": 13,
     "metadata": {},
     "output_type": "execute_result"
    }
   ],
   "source": [
    "candidate.cseguid() == rest[0].cseguid()"
   ]
  },
  {
   "cell_type": "code",
   "execution_count": 14,
   "id": "0141aad9",
   "metadata": {
    "execution": {
     "iopub.execute_input": "2023-02-04T07:57:50.276124Z",
     "iopub.status.busy": "2023-02-04T07:57:50.275905Z",
     "iopub.status.idle": "2023-02-04T07:57:50.280293Z",
     "shell.execute_reply": "2023-02-04T07:57:50.279648Z"
    },
    "lines_to_next_cell": 0
   },
   "outputs": [
    {
     "data": {
      "text/plain": [
       " -|pYPK0_lin|168\n",
       "|            \\/\n",
       "|            /\\\n",
       "|            168|PDC1|48\n",
       "|                     \\/\n",
       "|                     /\\\n",
       "|                     48|EcfabH|37\n",
       "|                               \\/\n",
       "|                               /\\\n",
       "|                               37|TEF1|276\n",
       "|                                       \\/\n",
       "|                                       /\\\n",
       "|                                       276-\n",
       "|                                          |\n",
       " ------------------------------------------"
      ]
     },
     "execution_count": 14,
     "metadata": {},
     "output_type": "execute_result"
    }
   ],
   "source": [
    "candidate.figure()"
   ]
  },
  {
   "cell_type": "markdown",
   "id": "bb2caaa5",
   "metadata": {},
   "source": [
    "The candidate vector is synchronized to the 577 primer. This means that\n",
    "the plasmid origin is shifted so that it matches the backbone vector."
   ]
  },
  {
   "cell_type": "code",
   "execution_count": 15,
   "id": "5c10b074",
   "metadata": {
    "execution": {
     "iopub.execute_input": "2023-02-04T07:57:50.283277Z",
     "iopub.status.busy": "2023-02-04T07:57:50.282657Z",
     "iopub.status.idle": "2023-02-04T07:57:50.598860Z",
     "shell.execute_reply": "2023-02-04T07:57:50.598275Z"
    }
   },
   "outputs": [],
   "source": [
    "result = candidate.synced(fp_prom)"
   ]
  },
  {
   "cell_type": "markdown",
   "id": "d4c04504",
   "metadata": {},
   "source": [
    "### Diagnostic PCR confirmation\n",
    "\n",
    "The structure of the final vector is confirmed by two\n",
    "separate PCR reactions, one for the promoter and gene and\n",
    "one for the gene and terminator.\n",
    "\n",
    "PCR using standard primers 577 and 467 to amplify promoter and gene."
   ]
  },
  {
   "cell_type": "code",
   "execution_count": 16,
   "id": "e269e271",
   "metadata": {
    "execution": {
     "iopub.execute_input": "2023-02-04T07:57:50.602095Z",
     "iopub.status.busy": "2023-02-04T07:57:50.601857Z",
     "iopub.status.idle": "2023-02-04T07:57:50.620227Z",
     "shell.execute_reply": "2023-02-04T07:57:50.619650Z"
    }
   },
   "outputs": [],
   "source": [
    "product = pcr( fp_prom, rp_gene, result)"
   ]
  },
  {
   "cell_type": "markdown",
   "id": "f8efd59e",
   "metadata": {},
   "source": [
    "A correct clone should give this size in base pairs:"
   ]
  },
  {
   "cell_type": "code",
   "execution_count": 17,
   "id": "5789c341",
   "metadata": {
    "execution": {
     "iopub.execute_input": "2023-02-04T07:57:50.623448Z",
     "iopub.status.busy": "2023-02-04T07:57:50.622909Z",
     "iopub.status.idle": "2023-02-04T07:57:50.626417Z",
     "shell.execute_reply": "2023-02-04T07:57:50.625748Z"
    }
   },
   "outputs": [
    {
     "name": "stdout",
     "output_type": "stream",
     "text": [
      "2180\n"
     ]
    }
   ],
   "source": [
    "print(len(product))"
   ]
  },
  {
   "cell_type": "markdown",
   "id": "1b3d022a",
   "metadata": {},
   "source": [
    "If the promoter is missing from the assembly, the PCR product will have this size in base pairs:"
   ]
  },
  {
   "cell_type": "code",
   "execution_count": 18,
   "id": "2ad2b72e",
   "metadata": {
    "execution": {
     "iopub.execute_input": "2023-02-04T07:57:50.630750Z",
     "iopub.status.busy": "2023-02-04T07:57:50.630423Z",
     "iopub.status.idle": "2023-02-04T07:57:50.635659Z",
     "shell.execute_reply": "2023-02-04T07:57:50.634784Z"
    }
   },
   "outputs": [
    {
     "name": "stdout",
     "output_type": "stream",
     "text": [
      "993\n"
     ]
    }
   ],
   "source": [
    "print(len(product) - len(prom))"
   ]
  },
  {
   "cell_type": "markdown",
   "id": "eeeaaa78",
   "metadata": {},
   "source": [
    "If the gene is missing from the assembly, the PCR product will have this size in base pairs:"
   ]
  },
  {
   "cell_type": "code",
   "execution_count": 19,
   "id": "f3e7235a",
   "metadata": {
    "execution": {
     "iopub.execute_input": "2023-02-04T07:57:50.640025Z",
     "iopub.status.busy": "2023-02-04T07:57:50.639524Z",
     "iopub.status.idle": "2023-02-04T07:57:50.643732Z",
     "shell.execute_reply": "2023-02-04T07:57:50.642979Z"
    }
   },
   "outputs": [
    {
     "name": "stdout",
     "output_type": "stream",
     "text": [
      "1137\n"
     ]
    }
   ],
   "source": [
    "print(len(product) - len(gene))"
   ]
  },
  {
   "cell_type": "markdown",
   "id": "c7ded894",
   "metadata": {},
   "source": [
    "PCR using standard primers 468 and 578 to amplify gene and terminator."
   ]
  },
  {
   "cell_type": "code",
   "execution_count": 20,
   "id": "265eb63f",
   "metadata": {
    "execution": {
     "iopub.execute_input": "2023-02-04T07:57:50.646483Z",
     "iopub.status.busy": "2023-02-04T07:57:50.646256Z",
     "iopub.status.idle": "2023-02-04T07:57:50.666670Z",
     "shell.execute_reply": "2023-02-04T07:57:50.665992Z"
    }
   },
   "outputs": [],
   "source": [
    "product2 = pcr( fp_gene, rp_term, result)"
   ]
  },
  {
   "cell_type": "markdown",
   "id": "0ef2fc1f",
   "metadata": {},
   "source": [
    "A correct clone should give this size:"
   ]
  },
  {
   "cell_type": "code",
   "execution_count": 21,
   "id": "ad9648f8",
   "metadata": {
    "execution": {
     "iopub.execute_input": "2023-02-04T07:57:50.670380Z",
     "iopub.status.busy": "2023-02-04T07:57:50.669978Z",
     "iopub.status.idle": "2023-02-04T07:57:50.674340Z",
     "shell.execute_reply": "2023-02-04T07:57:50.673594Z"
    }
   },
   "outputs": [
    {
     "name": "stdout",
     "output_type": "stream",
     "text": [
      "1925\n"
     ]
    }
   ],
   "source": [
    "print(len(product2))"
   ]
  },
  {
   "cell_type": "markdown",
   "id": "5ef641e5",
   "metadata": {},
   "source": [
    "If the gene is missing from the assembly, the PCR product will have this size in base pairs:"
   ]
  },
  {
   "cell_type": "code",
   "execution_count": 22,
   "id": "377d25f9",
   "metadata": {
    "execution": {
     "iopub.execute_input": "2023-02-04T07:57:50.677980Z",
     "iopub.status.busy": "2023-02-04T07:57:50.677476Z",
     "iopub.status.idle": "2023-02-04T07:57:50.681870Z",
     "shell.execute_reply": "2023-02-04T07:57:50.680997Z"
    }
   },
   "outputs": [
    {
     "name": "stdout",
     "output_type": "stream",
     "text": [
      "882\n"
     ]
    }
   ],
   "source": [
    "print(len(product2) - len(gene))"
   ]
  },
  {
   "cell_type": "markdown",
   "id": "a39a4772",
   "metadata": {},
   "source": [
    "If the terminator is missing from the assembly, the PCR product will have this size in base pairs:"
   ]
  },
  {
   "cell_type": "code",
   "execution_count": 23,
   "id": "47026f42",
   "metadata": {
    "execution": {
     "iopub.execute_input": "2023-02-04T07:57:50.686611Z",
     "iopub.status.busy": "2023-02-04T07:57:50.686270Z",
     "iopub.status.idle": "2023-02-04T07:57:50.691011Z",
     "shell.execute_reply": "2023-02-04T07:57:50.690123Z"
    }
   },
   "outputs": [
    {
     "name": "stdout",
     "output_type": "stream",
     "text": [
      "1006\n"
     ]
    }
   ],
   "source": [
    "print(len(product2) - len(term))"
   ]
  },
  {
   "cell_type": "markdown",
   "id": "65cc3940",
   "metadata": {},
   "source": [
    "The cseguid checksum for the resulting plasmid is calculated for future reference.\n",
    "The [cseguid checksum](http://pydna.readthedocs.org/en/latest/pydna.html#pydna.utils.cseguid)\n",
    "uniquely identifies a circular double stranded sequence."
   ]
  },
  {
   "cell_type": "code",
   "execution_count": 24,
   "id": "44fe04c1",
   "metadata": {
    "execution": {
     "iopub.execute_input": "2023-02-04T07:57:50.694933Z",
     "iopub.status.busy": "2023-02-04T07:57:50.694654Z",
     "iopub.status.idle": "2023-02-04T07:57:50.704295Z",
     "shell.execute_reply": "2023-02-04T07:57:50.703606Z"
    }
   },
   "outputs": [
    {
     "name": "stdout",
     "output_type": "stream",
     "text": [
      "QPD3pgUORlbvSUw-xQVoCtvx88I\n"
     ]
    }
   ],
   "source": [
    "print(result.cseguid())"
   ]
  },
  {
   "cell_type": "markdown",
   "id": "d5a676e7",
   "metadata": {},
   "source": [
    "The file name is based on the promoter, gene and terminator designations."
   ]
  },
  {
   "cell_type": "code",
   "execution_count": 25,
   "id": "2a56730f",
   "metadata": {
    "execution": {
     "iopub.execute_input": "2023-02-04T07:57:50.708355Z",
     "iopub.status.busy": "2023-02-04T07:57:50.707737Z",
     "iopub.status.idle": "2023-02-04T07:57:50.712093Z",
     "shell.execute_reply": "2023-02-04T07:57:50.711248Z"
    }
   },
   "outputs": [],
   "source": [
    "result.locus = f\"tu:{gene.name}\"[:16]\n",
    "result.definition = \"pYPK0_PDC1_EcfabH_TEF1\""
   ]
  },
  {
   "cell_type": "markdown",
   "id": "91b38e74",
   "metadata": {},
   "source": [
    "Sequence is stamped with cseguid checksum. This can be used to verify the\n",
    "integrity of the sequence file."
   ]
  },
  {
   "cell_type": "code",
   "execution_count": 26,
   "id": "8831a52c",
   "metadata": {
    "execution": {
     "iopub.execute_input": "2023-02-04T07:57:50.716255Z",
     "iopub.status.busy": "2023-02-04T07:57:50.715649Z",
     "iopub.status.idle": "2023-02-04T07:57:50.730425Z",
     "shell.execute_reply": "2023-02-04T07:57:50.729874Z"
    }
   },
   "outputs": [
    {
     "data": {
      "text/plain": [
       "QPD3pgUORlbvSUw-xQVoCtvx88I"
      ]
     },
     "execution_count": 26,
     "metadata": {},
     "output_type": "execute_result"
    }
   ],
   "source": [
    "result.stamp(\"cSEGUID\")"
   ]
  },
  {
   "cell_type": "markdown",
   "id": "1eaf3a57",
   "metadata": {},
   "source": [
    "Write sequence to a local file."
   ]
  },
  {
   "cell_type": "code",
   "execution_count": 27,
   "id": "759591a1",
   "metadata": {
    "execution": {
     "iopub.execute_input": "2023-02-04T07:57:50.733204Z",
     "iopub.status.busy": "2023-02-04T07:57:50.732915Z",
     "iopub.status.idle": "2023-02-04T07:57:50.741516Z",
     "shell.execute_reply": "2023-02-04T07:57:50.740396Z"
    }
   },
   "outputs": [
    {
     "data": {
      "text/html": [
       "<font face=monospace><a href='pYPK0_PDC1_EcfabH_TEF1.gb' target='_blank'>pYPK0_PDC1_EcfabH_TEF1.gb</a></font><br>"
      ]
     },
     "metadata": {},
     "output_type": "display_data"
    }
   ],
   "source": [
    "result.write(f\"{result.definition}.gb\")"
   ]
  },
  {
   "cell_type": "markdown",
   "id": "62121370",
   "metadata": {
    "lines_to_next_cell": 0
   },
   "source": [
    "### Suggested PCR programs\n",
    "\n",
    "For the [amplification](#PCR) of promoter, gene and terminator."
   ]
  },
  {
   "cell_type": "code",
   "execution_count": 28,
   "id": "a1dd6d74",
   "metadata": {
    "execution": {
     "iopub.execute_input": "2023-02-04T07:57:50.745237Z",
     "iopub.status.busy": "2023-02-04T07:57:50.744948Z",
     "iopub.status.idle": "2023-02-04T07:57:50.750449Z",
     "shell.execute_reply": "2023-02-04T07:57:50.749558Z"
    }
   },
   "outputs": [
    {
     "name": "stdout",
     "output_type": "stream",
     "text": [
      "577_crp585-557 567_pCAPsAjiIF\n",
      "|95°C|95°C               |    |tmf:64.6\n",
      "|____|_____          72°C|72°C|tmr:69.7\n",
      "|3min|30s  \\ 57.2°C _____|____|45s/kb\n",
      "|    |      \\______/ 0:53|5min|GC 38%\n",
      "|    |       30s         |    |1187bp\n"
     ]
    }
   ],
   "source": [
    "print(prom.forward_primer.name, prom.reverse_primer.name)\n",
    "print(prom.program())"
   ]
  },
  {
   "cell_type": "code",
   "execution_count": 29,
   "id": "9c4f0f5b",
   "metadata": {
    "execution": {
     "iopub.execute_input": "2023-02-04T07:57:50.753906Z",
     "iopub.status.busy": "2023-02-04T07:57:50.753626Z",
     "iopub.status.idle": "2023-02-04T07:57:50.758534Z",
     "shell.execute_reply": "2023-02-04T07:57:50.757679Z"
    }
   },
   "outputs": [
    {
     "name": "stdout",
     "output_type": "stream",
     "text": [
      "468_pCAPs_release_fw 467_pCAPs_release_re\n",
      "|95°C|95°C               |    |tmf:76.9\n",
      "|____|_____          72°C|72°C|tmr:67.9\n",
      "|3min|30s  \\ 62.6°C _____|____|45s/kb\n",
      "|    |      \\______/ 0:46|5min|GC 54%\n",
      "|    |       30s         |    |1043bp\n"
     ]
    }
   ],
   "source": [
    "print(gene.forward_primer.name, gene.reverse_primer.name)\n",
    "print(gene.program())"
   ]
  },
  {
   "cell_type": "code",
   "execution_count": 30,
   "id": "81b79dee",
   "metadata": {
    "execution": {
     "iopub.execute_input": "2023-02-04T07:57:50.761955Z",
     "iopub.status.busy": "2023-02-04T07:57:50.761664Z",
     "iopub.status.idle": "2023-02-04T07:57:50.767384Z",
     "shell.execute_reply": "2023-02-04T07:57:50.766155Z"
    }
   },
   "outputs": [
    {
     "name": "stdout",
     "output_type": "stream",
     "text": [
      "568_pCAPsAjiIR 578_crp42-70\n",
      "|95°C|95°C               |    |tmf:66.1\n",
      "|____|_____          72°C|72°C|tmr:65.0\n",
      "|3min|30s  \\ 57.1°C _____|____|45s/kb\n",
      "|    |      \\______/ 0:41|5min|GC 38%\n",
      "|    |       30s         |    |919bp\n"
     ]
    }
   ],
   "source": [
    "print(term.forward_primer.name, term.reverse_primer.name)\n",
    "print(term.program())"
   ]
  }
 ],
 "metadata": {
  "jupytext": {
   "main_language": "python",
   "text_representation": {
    "extension": ".py",
    "format_name": "percent",
    "format_version": "1.3",
    "jupytext_version": "1.14.0"
   }
  },
  "language_info": {
   "codemirror_mode": {
    "name": "ipython",
    "version": 3
   },
   "file_extension": ".py",
   "mimetype": "text/x-python",
   "name": "python",
   "nbconvert_exporter": "python",
   "pygments_lexer": "ipython3",
   "version": "3.11.0"
  }
 },
 "nbformat": 4,
 "nbformat_minor": 5
}
