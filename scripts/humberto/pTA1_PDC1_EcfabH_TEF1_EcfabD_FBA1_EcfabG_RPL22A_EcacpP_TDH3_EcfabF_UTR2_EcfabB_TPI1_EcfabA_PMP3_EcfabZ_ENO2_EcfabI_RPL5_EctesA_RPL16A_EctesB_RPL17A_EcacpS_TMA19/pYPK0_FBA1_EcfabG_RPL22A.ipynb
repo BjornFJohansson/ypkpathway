{
 "cells": [
  {
   "cell_type": "markdown",
   "id": "cf2412a7",
   "metadata": {},
   "source": [
    "# [![logo](logo.png)](https://github.com/BjornFJohansson/ypkpathway#-ypkpathway) pYPK0_FBA1_EcfabG_RPL22A\n",
    "\n",
    "Assembly of a [_Saccharomyces cerevisiae_](http://www.yeastgenome.org) transcriptional unit vector.\n",
    "\n",
    "Made from a linear vector fragment and three PCR products:\n",
    "\n",
    "- a linearized pYPK0 vector for maintenance in _S. cerevisiae_ or _E. coli_ (red dashed line in figure below)\n",
    "- a promoter PCR product from the `pYPKa_Z_FBA1` vector\n",
    "- a gene PCR product from the `pYPKa_A_EcfabG` vector\n",
    "- a terminator PCR product from the `pYPKa_E_RPL22A` vector\n",
    "\n",
    "The four linear DNA fragments are joined by _in-vivo_ homologous recombination in a\n",
    "[_Saccharomyces cerevisiae_](http://wiki.yeastgenome.org/index.php/Commonly_used_strains) strain.\n",
    "\n",
    "![tu](tu.png \"tu\")\n",
    "\n",
    "A part of the [pydna](https://pypi.python.org/pypi/pydna/) package is imported in the code cell below."
   ]
  },
  {
   "cell_type": "code",
   "execution_count": 1,
   "id": "112de092",
   "metadata": {
    "execution": {
     "iopub.execute_input": "2023-02-04T07:57:55.487786Z",
     "iopub.status.busy": "2023-02-04T07:57:55.486940Z",
     "iopub.status.idle": "2023-02-04T07:57:55.839381Z",
     "shell.execute_reply": "2023-02-04T07:57:55.838608Z"
    }
   },
   "outputs": [],
   "source": [
    "from pydna.parsers import parse_primers\n",
    "from pydna.readers import read\n",
    "from pydna.amplify import pcr\n",
    "from pydna.assembly import Assembly"
   ]
  },
  {
   "cell_type": "markdown",
   "id": "fad93cb4",
   "metadata": {},
   "source": [
    "The Yeast Pathway Kit [standard primers](standard_primers.fasta) are read into a dictionary in the code cell below."
   ]
  },
  {
   "cell_type": "code",
   "execution_count": 2,
   "id": "bc98a60b",
   "metadata": {
    "execution": {
     "iopub.execute_input": "2023-02-04T07:57:55.842810Z",
     "iopub.status.busy": "2023-02-04T07:57:55.842513Z",
     "iopub.status.idle": "2023-02-04T07:57:55.853316Z",
     "shell.execute_reply": "2023-02-04T07:57:55.852661Z"
    }
   },
   "outputs": [],
   "source": [
    "p = {x.name: x for x in parse_primers(\"standard_primers.fasta\")}"
   ]
  },
  {
   "cell_type": "markdown",
   "id": "1ee4d145",
   "metadata": {},
   "source": [
    "The backbone vector [pYPK0](pYPK0.gb) is read from a local file in the code cell below."
   ]
  },
  {
   "cell_type": "code",
   "execution_count": 3,
   "id": "a30c7c19",
   "metadata": {
    "execution": {
     "iopub.execute_input": "2023-02-04T07:57:55.856360Z",
     "iopub.status.busy": "2023-02-04T07:57:55.856134Z",
     "iopub.status.idle": "2023-02-04T07:57:55.866534Z",
     "shell.execute_reply": "2023-02-04T07:57:55.865716Z"
    }
   },
   "outputs": [],
   "source": [
    "backbone = read(\"pYPK0.gb\")"
   ]
  },
  {
   "cell_type": "markdown",
   "id": "9942763c",
   "metadata": {},
   "source": [
    "The backbone vector is linearized by digestion with [MfeI](https://www.google.com/search?q=MfeI)."
   ]
  },
  {
   "cell_type": "code",
   "execution_count": 4,
   "id": "d3592f79",
   "metadata": {
    "execution": {
     "iopub.execute_input": "2023-02-04T07:57:55.870408Z",
     "iopub.status.busy": "2023-02-04T07:57:55.869831Z",
     "iopub.status.idle": "2023-02-04T07:57:55.874208Z",
     "shell.execute_reply": "2023-02-04T07:57:55.873344Z"
    }
   },
   "outputs": [],
   "source": [
    "from Bio.Restriction import MfeI"
   ]
  },
  {
   "cell_type": "code",
   "execution_count": 5,
   "id": "64f74941",
   "metadata": {
    "execution": {
     "iopub.execute_input": "2023-02-04T07:57:55.877901Z",
     "iopub.status.busy": "2023-02-04T07:57:55.877309Z",
     "iopub.status.idle": "2023-02-04T07:57:55.888724Z",
     "shell.execute_reply": "2023-02-04T07:57:55.888141Z"
    }
   },
   "outputs": [],
   "source": [
    "linear_backbone = backbone.linearize(MfeI)"
   ]
  },
  {
   "cell_type": "markdown",
   "id": "1391ed92",
   "metadata": {},
   "source": [
    "The pYPKa derived _E. coli_ plasmids containing\n",
    "- [promoter](pYPKa_Z_FBA1.gb)\n",
    "- [gene](pYPKa_A_EcfabG.gb)\n",
    "- [terminator](pYPKa_E_RPL22A.gb)\n",
    "\n",
    "are read into three variables below."
   ]
  },
  {
   "cell_type": "code",
   "execution_count": 6,
   "id": "0af35fb0",
   "metadata": {
    "execution": {
     "iopub.execute_input": "2023-02-04T07:57:55.891273Z",
     "iopub.status.busy": "2023-02-04T07:57:55.891010Z",
     "iopub.status.idle": "2023-02-04T07:57:55.908939Z",
     "shell.execute_reply": "2023-02-04T07:57:55.908306Z"
    }
   },
   "outputs": [],
   "source": [
    "promoter_template   = read(\"pYPKa_Z_FBA1.gb\")\n",
    "gene_template       = read(\"pYPKa_A_EcfabG.gb\")\n",
    "terminator_template = read(\"pYPKa_E_RPL22A.gb\")"
   ]
  },
  {
   "cell_type": "markdown",
   "id": "0d0bc4cf",
   "metadata": {
    "lines_to_next_cell": 0
   },
   "source": [
    "### PCR\n",
    "Three DNA fragments are PCR amplified using [standard primers](standard_primers.fasta).\n",
    "\n",
    "[Suggested PCR programs](#Suggested-PCR-programs) can be found at the end of this document."
   ]
  },
  {
   "cell_type": "code",
   "execution_count": 7,
   "id": "ed2f43f9",
   "metadata": {
    "execution": {
     "iopub.execute_input": "2023-02-04T07:57:55.912366Z",
     "iopub.status.busy": "2023-02-04T07:57:55.911904Z",
     "iopub.status.idle": "2023-02-04T07:57:55.915756Z",
     "shell.execute_reply": "2023-02-04T07:57:55.915026Z"
    }
   },
   "outputs": [],
   "source": [
    "\n",
    "fp_prom = p['577_crp585-557']\n",
    "rp_prom = p['567_pCAPsAjiIF']\n",
    "fp_gene = p['468_pCAPs_release_fw']\n",
    "rp_gene = p['467_pCAPs_release_re']\n",
    "fp_term = p['568_pCAPsAjiIR']\n",
    "rp_term = p['578_crp42-70']"
   ]
  },
  {
   "cell_type": "code",
   "execution_count": 8,
   "id": "b6afe9f6",
   "metadata": {
    "execution": {
     "iopub.execute_input": "2023-02-04T07:57:55.919240Z",
     "iopub.status.busy": "2023-02-04T07:57:55.918920Z",
     "iopub.status.idle": "2023-02-04T07:57:55.945797Z",
     "shell.execute_reply": "2023-02-04T07:57:55.945179Z"
    }
   },
   "outputs": [],
   "source": [
    "prom = pcr(fp_prom, rp_prom, promoter_template)\n",
    "gene = pcr(fp_gene, rp_gene, gene_template)\n",
    "term = pcr(fp_term, rp_term, terminator_template)"
   ]
  },
  {
   "cell_type": "code",
   "execution_count": 9,
   "id": "05cf2830",
   "metadata": {
    "execution": {
     "iopub.execute_input": "2023-02-04T07:57:55.948451Z",
     "iopub.status.busy": "2023-02-04T07:57:55.948218Z",
     "iopub.status.idle": "2023-02-04T07:57:55.952132Z",
     "shell.execute_reply": "2023-02-04T07:57:55.951360Z"
    }
   },
   "outputs": [],
   "source": [
    "prom.name = \"pYPKa_Z_FBA1\"[8:]\n",
    "gene.name = \"pYPKa_A_EcfabG\"[8:]\n",
    "term.name = \"pYPKa_E_RPL22A\"[8:]"
   ]
  },
  {
   "cell_type": "markdown",
   "id": "f4d6a7df",
   "metadata": {},
   "source": [
    "\n",
    "The fragments will be assembled by _in-vivo_ [homologous recombination](http://www.ncbi.nlm.nih.gov/pubmed/2828185):"
   ]
  },
  {
   "cell_type": "code",
   "execution_count": 10,
   "id": "71352afa",
   "metadata": {
    "execution": {
     "iopub.execute_input": "2023-02-04T07:57:55.955915Z",
     "iopub.status.busy": "2023-02-04T07:57:55.955420Z",
     "iopub.status.idle": "2023-02-04T07:57:56.371269Z",
     "shell.execute_reply": "2023-02-04T07:57:56.370655Z"
    }
   },
   "outputs": [
    {
     "data": {
      "text/plain": [
       "Assembly\n",
       "fragments..: 5766bp 862bp 824bp 766bp\n",
       "limit(bp)..: 31\n",
       "G.nodes....: 10\n",
       "algorithm..: common_sub_strings"
      ]
     },
     "execution_count": 10,
     "metadata": {},
     "output_type": "execute_result"
    }
   ],
   "source": [
    "asm = Assembly((linear_backbone, prom, gene, term), limit=31)\n",
    "asm"
   ]
  },
  {
   "cell_type": "markdown",
   "id": "0784bf10",
   "metadata": {},
   "source": [
    "The Assembly object above should normally indicate four fragments and eight nodes."
   ]
  },
  {
   "cell_type": "code",
   "execution_count": 11,
   "id": "59fd5b1a",
   "metadata": {
    "execution": {
     "iopub.execute_input": "2023-02-04T07:57:56.373919Z",
     "iopub.status.busy": "2023-02-04T07:57:56.373707Z",
     "iopub.status.idle": "2023-02-04T07:57:56.614920Z",
     "shell.execute_reply": "2023-02-04T07:57:56.614279Z"
    },
    "lines_to_next_cell": 0
   },
   "outputs": [
    {
     "data": {
      "text/plain": [
       "[Contig(o7583), Contig(o7583), Contig(o7583), Contig(o6939), Contig(o6939)]"
      ]
     },
     "execution_count": 11,
     "metadata": {},
     "output_type": "execute_result"
    }
   ],
   "source": [
    "candidates = asm.assemble_circular()\n",
    "candidates"
   ]
  },
  {
   "cell_type": "markdown",
   "id": "06991a9a",
   "metadata": {},
   "source": [
    "There should normally be two candidates of equal size. These sequences should be identical."
   ]
  },
  {
   "cell_type": "code",
   "execution_count": 12,
   "id": "2ee1e3b5",
   "metadata": {
    "execution": {
     "iopub.execute_input": "2023-02-04T07:57:56.617952Z",
     "iopub.status.busy": "2023-02-04T07:57:56.617682Z",
     "iopub.status.idle": "2023-02-04T07:57:56.620620Z",
     "shell.execute_reply": "2023-02-04T07:57:56.620098Z"
    },
    "lines_to_next_cell": 0
   },
   "outputs": [],
   "source": [
    "candidate, *rest = candidates"
   ]
  },
  {
   "cell_type": "code",
   "execution_count": 13,
   "id": "29078d35",
   "metadata": {
    "execution": {
     "iopub.execute_input": "2023-02-04T07:57:56.623639Z",
     "iopub.status.busy": "2023-02-04T07:57:56.623014Z",
     "iopub.status.idle": "2023-02-04T07:57:56.640893Z",
     "shell.execute_reply": "2023-02-04T07:57:56.640307Z"
    },
    "lines_to_next_cell": 0
   },
   "outputs": [
    {
     "data": {
      "text/plain": [
       "True"
      ]
     },
     "execution_count": 13,
     "metadata": {},
     "output_type": "execute_result"
    }
   ],
   "source": [
    "candidate.cseguid() == rest[0].cseguid()"
   ]
  },
  {
   "cell_type": "code",
   "execution_count": 14,
   "id": "1aa3dd99",
   "metadata": {
    "execution": {
     "iopub.execute_input": "2023-02-04T07:57:56.643476Z",
     "iopub.status.busy": "2023-02-04T07:57:56.643053Z",
     "iopub.status.idle": "2023-02-04T07:57:56.647245Z",
     "shell.execute_reply": "2023-02-04T07:57:56.646717Z"
    },
    "lines_to_next_cell": 0
   },
   "outputs": [
    {
     "data": {
      "text/plain": [
       " -|pYPK0_lin|168\n",
       "|            \\/\n",
       "|            /\\\n",
       "|            168|FBA1|48\n",
       "|                     \\/\n",
       "|                     /\\\n",
       "|                     48|EcfabG|37\n",
       "|                               \\/\n",
       "|                               /\\\n",
       "|                               37|RPL22A|276\n",
       "|                                         \\/\n",
       "|                                         /\\\n",
       "|                                         276-\n",
       "|                                            |\n",
       " --------------------------------------------"
      ]
     },
     "execution_count": 14,
     "metadata": {},
     "output_type": "execute_result"
    }
   ],
   "source": [
    "candidate.figure()"
   ]
  },
  {
   "cell_type": "markdown",
   "id": "aa192509",
   "metadata": {},
   "source": [
    "The candidate vector is synchronized to the 577 primer. This means that\n",
    "the plasmid origin is shifted so that it matches the backbone vector."
   ]
  },
  {
   "cell_type": "code",
   "execution_count": 15,
   "id": "f28b72fc",
   "metadata": {
    "execution": {
     "iopub.execute_input": "2023-02-04T07:57:56.651464Z",
     "iopub.status.busy": "2023-02-04T07:57:56.650846Z",
     "iopub.status.idle": "2023-02-04T07:57:56.948920Z",
     "shell.execute_reply": "2023-02-04T07:57:56.948297Z"
    }
   },
   "outputs": [],
   "source": [
    "result = candidate.synced(fp_prom)"
   ]
  },
  {
   "cell_type": "markdown",
   "id": "e50c4ac8",
   "metadata": {},
   "source": [
    "### Diagnostic PCR confirmation\n",
    "\n",
    "The structure of the final vector is confirmed by two\n",
    "separate PCR reactions, one for the promoter and gene and\n",
    "one for the gene and terminator.\n",
    "\n",
    "PCR using standard primers 577 and 467 to amplify promoter and gene."
   ]
  },
  {
   "cell_type": "code",
   "execution_count": 16,
   "id": "e9021845",
   "metadata": {
    "execution": {
     "iopub.execute_input": "2023-02-04T07:57:56.952746Z",
     "iopub.status.busy": "2023-02-04T07:57:56.951861Z",
     "iopub.status.idle": "2023-02-04T07:57:56.969415Z",
     "shell.execute_reply": "2023-02-04T07:57:56.968531Z"
    }
   },
   "outputs": [],
   "source": [
    "product = pcr( fp_prom, rp_gene, result)"
   ]
  },
  {
   "cell_type": "markdown",
   "id": "772827d2",
   "metadata": {},
   "source": [
    "A correct clone should give this size in base pairs:"
   ]
  },
  {
   "cell_type": "code",
   "execution_count": 17,
   "id": "dba323e1",
   "metadata": {
    "execution": {
     "iopub.execute_input": "2023-02-04T07:57:56.972820Z",
     "iopub.status.busy": "2023-02-04T07:57:56.972564Z",
     "iopub.status.idle": "2023-02-04T07:57:56.975799Z",
     "shell.execute_reply": "2023-02-04T07:57:56.975262Z"
    }
   },
   "outputs": [
    {
     "name": "stdout",
     "output_type": "stream",
     "text": [
      "1636\n"
     ]
    }
   ],
   "source": [
    "print(len(product))"
   ]
  },
  {
   "cell_type": "markdown",
   "id": "c0be83ae",
   "metadata": {},
   "source": [
    "If the promoter is missing from the assembly, the PCR product will have this size in base pairs:"
   ]
  },
  {
   "cell_type": "code",
   "execution_count": 18,
   "id": "567a742d",
   "metadata": {
    "execution": {
     "iopub.execute_input": "2023-02-04T07:57:56.978806Z",
     "iopub.status.busy": "2023-02-04T07:57:56.978582Z",
     "iopub.status.idle": "2023-02-04T07:57:56.983112Z",
     "shell.execute_reply": "2023-02-04T07:57:56.981875Z"
    }
   },
   "outputs": [
    {
     "name": "stdout",
     "output_type": "stream",
     "text": [
      "774\n"
     ]
    }
   ],
   "source": [
    "print(len(product) - len(prom))"
   ]
  },
  {
   "cell_type": "markdown",
   "id": "1d6a0f7f",
   "metadata": {},
   "source": [
    "If the gene is missing from the assembly, the PCR product will have this size in base pairs:"
   ]
  },
  {
   "cell_type": "code",
   "execution_count": 19,
   "id": "40b0b891",
   "metadata": {
    "execution": {
     "iopub.execute_input": "2023-02-04T07:57:56.988739Z",
     "iopub.status.busy": "2023-02-04T07:57:56.988097Z",
     "iopub.status.idle": "2023-02-04T07:57:56.993410Z",
     "shell.execute_reply": "2023-02-04T07:57:56.992429Z"
    }
   },
   "outputs": [
    {
     "name": "stdout",
     "output_type": "stream",
     "text": [
      "812\n"
     ]
    }
   ],
   "source": [
    "print(len(product) - len(gene))"
   ]
  },
  {
   "cell_type": "markdown",
   "id": "3f406318",
   "metadata": {},
   "source": [
    "PCR using standard primers 468 and 578 to amplify gene and terminator."
   ]
  },
  {
   "cell_type": "code",
   "execution_count": 20,
   "id": "a1eece9d",
   "metadata": {
    "execution": {
     "iopub.execute_input": "2023-02-04T07:57:56.997524Z",
     "iopub.status.busy": "2023-02-04T07:57:56.996959Z",
     "iopub.status.idle": "2023-02-04T07:57:57.019465Z",
     "shell.execute_reply": "2023-02-04T07:57:57.018758Z"
    }
   },
   "outputs": [],
   "source": [
    "product2 = pcr( fp_gene, rp_term, result)"
   ]
  },
  {
   "cell_type": "markdown",
   "id": "72e2ab22",
   "metadata": {},
   "source": [
    "A correct clone should give this size:"
   ]
  },
  {
   "cell_type": "code",
   "execution_count": 21,
   "id": "236f0058",
   "metadata": {
    "execution": {
     "iopub.execute_input": "2023-02-04T07:57:57.022078Z",
     "iopub.status.busy": "2023-02-04T07:57:57.021849Z",
     "iopub.status.idle": "2023-02-04T07:57:57.025336Z",
     "shell.execute_reply": "2023-02-04T07:57:57.024688Z"
    }
   },
   "outputs": [
    {
     "name": "stdout",
     "output_type": "stream",
     "text": [
      "1553\n"
     ]
    }
   ],
   "source": [
    "print(len(product2))"
   ]
  },
  {
   "cell_type": "markdown",
   "id": "03b85ff9",
   "metadata": {},
   "source": [
    "If the gene is missing from the assembly, the PCR product will have this size in base pairs:"
   ]
  },
  {
   "cell_type": "code",
   "execution_count": 22,
   "id": "f2520cae",
   "metadata": {
    "execution": {
     "iopub.execute_input": "2023-02-04T07:57:57.029240Z",
     "iopub.status.busy": "2023-02-04T07:57:57.028780Z",
     "iopub.status.idle": "2023-02-04T07:57:57.033250Z",
     "shell.execute_reply": "2023-02-04T07:57:57.032179Z"
    }
   },
   "outputs": [
    {
     "name": "stdout",
     "output_type": "stream",
     "text": [
      "729\n"
     ]
    }
   ],
   "source": [
    "print(len(product2) - len(gene))"
   ]
  },
  {
   "cell_type": "markdown",
   "id": "b811bb54",
   "metadata": {},
   "source": [
    "If the terminator is missing from the assembly, the PCR product will have this size in base pairs:"
   ]
  },
  {
   "cell_type": "code",
   "execution_count": 23,
   "id": "cf90a614",
   "metadata": {
    "execution": {
     "iopub.execute_input": "2023-02-04T07:57:57.038470Z",
     "iopub.status.busy": "2023-02-04T07:57:57.037637Z",
     "iopub.status.idle": "2023-02-04T07:57:57.042086Z",
     "shell.execute_reply": "2023-02-04T07:57:57.041268Z"
    }
   },
   "outputs": [
    {
     "name": "stdout",
     "output_type": "stream",
     "text": [
      "787\n"
     ]
    }
   ],
   "source": [
    "print(len(product2) - len(term))"
   ]
  },
  {
   "cell_type": "markdown",
   "id": "36fb9d28",
   "metadata": {},
   "source": [
    "The cseguid checksum for the resulting plasmid is calculated for future reference.\n",
    "The [cseguid checksum](http://pydna.readthedocs.org/en/latest/pydna.html#pydna.utils.cseguid)\n",
    "uniquely identifies a circular double stranded sequence."
   ]
  },
  {
   "cell_type": "code",
   "execution_count": 24,
   "id": "95688930",
   "metadata": {
    "execution": {
     "iopub.execute_input": "2023-02-04T07:57:57.045668Z",
     "iopub.status.busy": "2023-02-04T07:57:57.045166Z",
     "iopub.status.idle": "2023-02-04T07:57:57.058339Z",
     "shell.execute_reply": "2023-02-04T07:57:57.057756Z"
    }
   },
   "outputs": [
    {
     "name": "stdout",
     "output_type": "stream",
     "text": [
      "0_8MWlK1r5MpcFdPHdcDb90Zftc\n"
     ]
    }
   ],
   "source": [
    "print(result.cseguid())"
   ]
  },
  {
   "cell_type": "markdown",
   "id": "8a63ca2d",
   "metadata": {},
   "source": [
    "The file name is based on the promoter, gene and terminator designations."
   ]
  },
  {
   "cell_type": "code",
   "execution_count": 25,
   "id": "46e97cd7",
   "metadata": {
    "execution": {
     "iopub.execute_input": "2023-02-04T07:57:57.060940Z",
     "iopub.status.busy": "2023-02-04T07:57:57.060727Z",
     "iopub.status.idle": "2023-02-04T07:57:57.064308Z",
     "shell.execute_reply": "2023-02-04T07:57:57.063362Z"
    }
   },
   "outputs": [],
   "source": [
    "result.locus = f\"tu:{gene.name}\"[:16]\n",
    "result.definition = \"pYPK0_FBA1_EcfabG_RPL22A\""
   ]
  },
  {
   "cell_type": "markdown",
   "id": "65375342",
   "metadata": {},
   "source": [
    "Sequence is stamped with cseguid checksum. This can be used to verify the\n",
    "integrity of the sequence file."
   ]
  },
  {
   "cell_type": "code",
   "execution_count": 26,
   "id": "2452e423",
   "metadata": {
    "execution": {
     "iopub.execute_input": "2023-02-04T07:57:57.069136Z",
     "iopub.status.busy": "2023-02-04T07:57:57.068722Z",
     "iopub.status.idle": "2023-02-04T07:57:57.083195Z",
     "shell.execute_reply": "2023-02-04T07:57:57.082453Z"
    }
   },
   "outputs": [
    {
     "data": {
      "text/plain": [
       "0_8MWlK1r5MpcFdPHdcDb90Zftc"
      ]
     },
     "execution_count": 26,
     "metadata": {},
     "output_type": "execute_result"
    }
   ],
   "source": [
    "result.stamp(\"cSEGUID\")"
   ]
  },
  {
   "cell_type": "markdown",
   "id": "02d2a20c",
   "metadata": {},
   "source": [
    "Write sequence to a local file."
   ]
  },
  {
   "cell_type": "code",
   "execution_count": 27,
   "id": "84c9e27d",
   "metadata": {
    "execution": {
     "iopub.execute_input": "2023-02-04T07:57:57.086802Z",
     "iopub.status.busy": "2023-02-04T07:57:57.086228Z",
     "iopub.status.idle": "2023-02-04T07:57:57.093831Z",
     "shell.execute_reply": "2023-02-04T07:57:57.092930Z"
    }
   },
   "outputs": [
    {
     "data": {
      "text/html": [
       "<font face=monospace><a href='pYPK0_FBA1_EcfabG_RPL22A.gb' target='_blank'>pYPK0_FBA1_EcfabG_RPL22A.gb</a></font><br>"
      ]
     },
     "metadata": {},
     "output_type": "display_data"
    }
   ],
   "source": [
    "result.write(f\"{result.definition}.gb\")"
   ]
  },
  {
   "cell_type": "markdown",
   "id": "438afd76",
   "metadata": {
    "lines_to_next_cell": 0
   },
   "source": [
    "### Suggested PCR programs\n",
    "\n",
    "For the [amplification](#PCR) of promoter, gene and terminator."
   ]
  },
  {
   "cell_type": "code",
   "execution_count": 28,
   "id": "5b2b0cbf",
   "metadata": {
    "execution": {
     "iopub.execute_input": "2023-02-04T07:57:57.097442Z",
     "iopub.status.busy": "2023-02-04T07:57:57.096807Z",
     "iopub.status.idle": "2023-02-04T07:57:57.102266Z",
     "shell.execute_reply": "2023-02-04T07:57:57.101306Z"
    }
   },
   "outputs": [
    {
     "name": "stdout",
     "output_type": "stream",
     "text": [
      "577_crp585-557 567_pCAPsAjiIF\n",
      "|95°C|95°C               |    |tmf:64.6\n",
      "|____|_____          72°C|72°C|tmr:69.7\n",
      "|3min|30s  \\ 57.2°C _____|____|45s/kb\n",
      "|    |      \\______/ 0:38|5min|GC 39%\n",
      "|    |       30s         |    |862bp\n"
     ]
    }
   ],
   "source": [
    "print(prom.forward_primer.name, prom.reverse_primer.name)\n",
    "print(prom.program())"
   ]
  },
  {
   "cell_type": "code",
   "execution_count": 29,
   "id": "f1f08e6b",
   "metadata": {
    "execution": {
     "iopub.execute_input": "2023-02-04T07:57:57.106348Z",
     "iopub.status.busy": "2023-02-04T07:57:57.105600Z",
     "iopub.status.idle": "2023-02-04T07:57:57.111122Z",
     "shell.execute_reply": "2023-02-04T07:57:57.110225Z"
    }
   },
   "outputs": [
    {
     "name": "stdout",
     "output_type": "stream",
     "text": [
      "468_pCAPs_release_fw 467_pCAPs_release_re\n",
      "|95°C|95°C               |    |tmf:76.9\n",
      "|____|_____          72°C|72°C|tmr:67.9\n",
      "|3min|30s  \\ 61.6°C _____|____|45s/kb\n",
      "|    |      \\______/ 0:37|5min|GC 51%\n",
      "|    |       30s         |    |824bp\n"
     ]
    }
   ],
   "source": [
    "print(gene.forward_primer.name, gene.reverse_primer.name)\n",
    "print(gene.program())"
   ]
  },
  {
   "cell_type": "code",
   "execution_count": 30,
   "id": "7bba1f4e",
   "metadata": {
    "execution": {
     "iopub.execute_input": "2023-02-04T07:57:57.114695Z",
     "iopub.status.busy": "2023-02-04T07:57:57.114298Z",
     "iopub.status.idle": "2023-02-04T07:57:57.120245Z",
     "shell.execute_reply": "2023-02-04T07:57:57.119383Z"
    }
   },
   "outputs": [
    {
     "name": "stdout",
     "output_type": "stream",
     "text": [
      "568_pCAPsAjiIR 578_crp42-70\n",
      "|95°C|95°C               |    |tmf:66.1\n",
      "|____|_____          72°C|72°C|tmr:65.0\n",
      "|3min|30s  \\ 56.0°C _____|____|45s/kb\n",
      "|    |      \\______/ 0:34|5min|GC 35%\n",
      "|    |       30s         |    |766bp\n"
     ]
    }
   ],
   "source": [
    "print(term.forward_primer.name, term.reverse_primer.name)\n",
    "print(term.program())"
   ]
  }
 ],
 "metadata": {
  "jupytext": {
   "main_language": "python",
   "text_representation": {
    "extension": ".py",
    "format_name": "percent",
    "format_version": "1.3",
    "jupytext_version": "1.14.0"
   }
  },
  "language_info": {
   "codemirror_mode": {
    "name": "ipython",
    "version": 3
   },
   "file_extension": ".py",
   "mimetype": "text/x-python",
   "name": "python",
   "nbconvert_exporter": "python",
   "pygments_lexer": "ipython3",
   "version": "3.11.0"
  }
 },
 "nbformat": 4,
 "nbformat_minor": 5
}
