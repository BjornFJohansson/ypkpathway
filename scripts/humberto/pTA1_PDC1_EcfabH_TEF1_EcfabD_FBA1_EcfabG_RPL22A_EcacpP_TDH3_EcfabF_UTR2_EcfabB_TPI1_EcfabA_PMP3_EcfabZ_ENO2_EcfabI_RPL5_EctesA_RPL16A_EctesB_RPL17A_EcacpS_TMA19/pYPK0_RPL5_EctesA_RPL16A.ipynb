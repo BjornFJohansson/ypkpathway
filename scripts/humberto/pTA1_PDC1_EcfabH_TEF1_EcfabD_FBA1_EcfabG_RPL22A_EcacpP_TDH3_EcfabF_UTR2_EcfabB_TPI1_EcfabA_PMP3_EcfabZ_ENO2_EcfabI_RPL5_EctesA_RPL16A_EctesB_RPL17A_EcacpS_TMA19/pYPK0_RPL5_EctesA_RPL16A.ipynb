{
 "cells": [
  {
   "cell_type": "markdown",
   "id": "eaa90655",
   "metadata": {},
   "source": [
    "# [![logo](logo.png)](https://github.com/BjornFJohansson/ypkpathway#-ypkpathway) pYPK0_RPL5_EctesA_RPL16A\n",
    "\n",
    "Assembly of a [_Saccharomyces cerevisiae_](http://www.yeastgenome.org) transcriptional unit vector.\n",
    "\n",
    "Made from a linear vector fragment and three PCR products:\n",
    "\n",
    "- a linearized pYPK0 vector for maintenance in _S. cerevisiae_ or _E. coli_ (red dashed line in figure below)\n",
    "- a promoter PCR product from the `pYPKa_Z_RPL5` vector\n",
    "- a gene PCR product from the `pYPKa_A_EctesA` vector\n",
    "- a terminator PCR product from the `pYPKa_E_RPL16A` vector\n",
    "\n",
    "The four linear DNA fragments are joined by _in-vivo_ homologous recombination in a\n",
    "[_Saccharomyces cerevisiae_](http://wiki.yeastgenome.org/index.php/Commonly_used_strains) strain.\n",
    "\n",
    "![tu](tu.png \"tu\")\n",
    "\n",
    "A part of the [pydna](https://pypi.python.org/pypi/pydna/) package is imported in the code cell below."
   ]
  },
  {
   "cell_type": "code",
   "execution_count": 1,
   "id": "d4ebd5bc",
   "metadata": {
    "execution": {
     "iopub.execute_input": "2023-02-04T07:58:23.905332Z",
     "iopub.status.busy": "2023-02-04T07:58:23.904903Z",
     "iopub.status.idle": "2023-02-04T07:58:24.256393Z",
     "shell.execute_reply": "2023-02-04T07:58:24.255770Z"
    }
   },
   "outputs": [],
   "source": [
    "from pydna.parsers import parse_primers\n",
    "from pydna.readers import read\n",
    "from pydna.amplify import pcr\n",
    "from pydna.assembly import Assembly"
   ]
  },
  {
   "cell_type": "markdown",
   "id": "c8dcfb5a",
   "metadata": {},
   "source": [
    "The Yeast Pathway Kit [standard primers](standard_primers.fasta) are read into a dictionary in the code cell below."
   ]
  },
  {
   "cell_type": "code",
   "execution_count": 2,
   "id": "a8985ddb",
   "metadata": {
    "execution": {
     "iopub.execute_input": "2023-02-04T07:58:24.259776Z",
     "iopub.status.busy": "2023-02-04T07:58:24.259451Z",
     "iopub.status.idle": "2023-02-04T07:58:24.270908Z",
     "shell.execute_reply": "2023-02-04T07:58:24.270279Z"
    }
   },
   "outputs": [],
   "source": [
    "p = {x.name: x for x in parse_primers(\"standard_primers.fasta\")}"
   ]
  },
  {
   "cell_type": "markdown",
   "id": "b1fc8e5c",
   "metadata": {},
   "source": [
    "The backbone vector [pYPK0](pYPK0.gb) is read from a local file in the code cell below."
   ]
  },
  {
   "cell_type": "code",
   "execution_count": 3,
   "id": "f851fe7d",
   "metadata": {
    "execution": {
     "iopub.execute_input": "2023-02-04T07:58:24.273875Z",
     "iopub.status.busy": "2023-02-04T07:58:24.273621Z",
     "iopub.status.idle": "2023-02-04T07:58:24.286181Z",
     "shell.execute_reply": "2023-02-04T07:58:24.285396Z"
    }
   },
   "outputs": [],
   "source": [
    "backbone = read(\"pYPK0.gb\")"
   ]
  },
  {
   "cell_type": "markdown",
   "id": "c7340ff4",
   "metadata": {},
   "source": [
    "The backbone vector is linearized by digestion with [MfeI](https://www.google.com/search?q=MfeI)."
   ]
  },
  {
   "cell_type": "code",
   "execution_count": 4,
   "id": "ce4c6baa",
   "metadata": {
    "execution": {
     "iopub.execute_input": "2023-02-04T07:58:24.289249Z",
     "iopub.status.busy": "2023-02-04T07:58:24.289023Z",
     "iopub.status.idle": "2023-02-04T07:58:24.292015Z",
     "shell.execute_reply": "2023-02-04T07:58:24.291509Z"
    }
   },
   "outputs": [],
   "source": [
    "from Bio.Restriction import MfeI"
   ]
  },
  {
   "cell_type": "code",
   "execution_count": 5,
   "id": "f3a1bb23",
   "metadata": {
    "execution": {
     "iopub.execute_input": "2023-02-04T07:58:24.294334Z",
     "iopub.status.busy": "2023-02-04T07:58:24.294098Z",
     "iopub.status.idle": "2023-02-04T07:58:24.300713Z",
     "shell.execute_reply": "2023-02-04T07:58:24.300027Z"
    }
   },
   "outputs": [],
   "source": [
    "linear_backbone = backbone.linearize(MfeI)"
   ]
  },
  {
   "cell_type": "markdown",
   "id": "fb29059e",
   "metadata": {},
   "source": [
    "The pYPKa derived _E. coli_ plasmids containing\n",
    "- [promoter](pYPKa_Z_RPL5.gb)\n",
    "- [gene](pYPKa_A_EctesA.gb)\n",
    "- [terminator](pYPKa_E_RPL16A.gb)\n",
    "\n",
    "are read into three variables below."
   ]
  },
  {
   "cell_type": "code",
   "execution_count": 6,
   "id": "d82c1129",
   "metadata": {
    "execution": {
     "iopub.execute_input": "2023-02-04T07:58:24.304287Z",
     "iopub.status.busy": "2023-02-04T07:58:24.304033Z",
     "iopub.status.idle": "2023-02-04T07:58:24.326494Z",
     "shell.execute_reply": "2023-02-04T07:58:24.325899Z"
    }
   },
   "outputs": [],
   "source": [
    "promoter_template   = read(\"pYPKa_Z_RPL5.gb\")\n",
    "gene_template       = read(\"pYPKa_A_EctesA.gb\")\n",
    "terminator_template = read(\"pYPKa_E_RPL16A.gb\")"
   ]
  },
  {
   "cell_type": "markdown",
   "id": "d9d05be0",
   "metadata": {
    "lines_to_next_cell": 0
   },
   "source": [
    "### PCR\n",
    "Three DNA fragments are PCR amplified using [standard primers](standard_primers.fasta).\n",
    "\n",
    "[Suggested PCR programs](#Suggested-PCR-programs) can be found at the end of this document."
   ]
  },
  {
   "cell_type": "code",
   "execution_count": 7,
   "id": "5d05796f",
   "metadata": {
    "execution": {
     "iopub.execute_input": "2023-02-04T07:58:24.329915Z",
     "iopub.status.busy": "2023-02-04T07:58:24.329479Z",
     "iopub.status.idle": "2023-02-04T07:58:24.332797Z",
     "shell.execute_reply": "2023-02-04T07:58:24.332327Z"
    }
   },
   "outputs": [],
   "source": [
    "\n",
    "fp_prom = p['577_crp585-557']\n",
    "rp_prom = p['567_pCAPsAjiIF']\n",
    "fp_gene = p['468_pCAPs_release_fw']\n",
    "rp_gene = p['467_pCAPs_release_re']\n",
    "fp_term = p['568_pCAPsAjiIR']\n",
    "rp_term = p['578_crp42-70']"
   ]
  },
  {
   "cell_type": "code",
   "execution_count": 8,
   "id": "9c1224c5",
   "metadata": {
    "execution": {
     "iopub.execute_input": "2023-02-04T07:58:24.337736Z",
     "iopub.status.busy": "2023-02-04T07:58:24.337369Z",
     "iopub.status.idle": "2023-02-04T07:58:24.364240Z",
     "shell.execute_reply": "2023-02-04T07:58:24.363668Z"
    }
   },
   "outputs": [],
   "source": [
    "prom = pcr(fp_prom, rp_prom, promoter_template)\n",
    "gene = pcr(fp_gene, rp_gene, gene_template)\n",
    "term = pcr(fp_term, rp_term, terminator_template)"
   ]
  },
  {
   "cell_type": "code",
   "execution_count": 9,
   "id": "651ce9f7",
   "metadata": {
    "execution": {
     "iopub.execute_input": "2023-02-04T07:58:24.366989Z",
     "iopub.status.busy": "2023-02-04T07:58:24.366770Z",
     "iopub.status.idle": "2023-02-04T07:58:24.370219Z",
     "shell.execute_reply": "2023-02-04T07:58:24.369514Z"
    }
   },
   "outputs": [],
   "source": [
    "prom.name = \"pYPKa_Z_RPL5\"[8:]\n",
    "gene.name = \"pYPKa_A_EctesA\"[8:]\n",
    "term.name = \"pYPKa_E_RPL16A\"[8:]"
   ]
  },
  {
   "cell_type": "markdown",
   "id": "7fc3e454",
   "metadata": {},
   "source": [
    "\n",
    "The fragments will be assembled by _in-vivo_ [homologous recombination](http://www.ncbi.nlm.nih.gov/pubmed/2828185):"
   ]
  },
  {
   "cell_type": "code",
   "execution_count": 10,
   "id": "779a9abb",
   "metadata": {
    "execution": {
     "iopub.execute_input": "2023-02-04T07:58:24.373785Z",
     "iopub.status.busy": "2023-02-04T07:58:24.373174Z",
     "iopub.status.idle": "2023-02-04T07:58:24.772648Z",
     "shell.execute_reply": "2023-02-04T07:58:24.772072Z"
    }
   },
   "outputs": [
    {
     "data": {
      "text/plain": [
       "Assembly\n",
       "fragments..: 5766bp 733bp 716bp 782bp\n",
       "limit(bp)..: 31\n",
       "G.nodes....: 10\n",
       "algorithm..: common_sub_strings"
      ]
     },
     "execution_count": 10,
     "metadata": {},
     "output_type": "execute_result"
    }
   ],
   "source": [
    "asm = Assembly((linear_backbone, prom, gene, term), limit=31)\n",
    "asm"
   ]
  },
  {
   "cell_type": "markdown",
   "id": "431d8413",
   "metadata": {},
   "source": [
    "The Assembly object above should normally indicate four fragments and eight nodes."
   ]
  },
  {
   "cell_type": "code",
   "execution_count": 11,
   "id": "5b3e3909",
   "metadata": {
    "execution": {
     "iopub.execute_input": "2023-02-04T07:58:24.775799Z",
     "iopub.status.busy": "2023-02-04T07:58:24.775133Z",
     "iopub.status.idle": "2023-02-04T07:58:25.013849Z",
     "shell.execute_reply": "2023-02-04T07:58:25.013344Z"
    },
    "lines_to_next_cell": 0
   },
   "outputs": [
    {
     "data": {
      "text/plain": [
       "[Contig(o7362), Contig(o7362), Contig(o7362), Contig(o6847), Contig(o6847)]"
      ]
     },
     "execution_count": 11,
     "metadata": {},
     "output_type": "execute_result"
    }
   ],
   "source": [
    "candidates = asm.assemble_circular()\n",
    "candidates"
   ]
  },
  {
   "cell_type": "markdown",
   "id": "296b7d82",
   "metadata": {},
   "source": [
    "There should normally be two candidates of equal size. These sequences should be identical."
   ]
  },
  {
   "cell_type": "code",
   "execution_count": 12,
   "id": "e4a21578",
   "metadata": {
    "execution": {
     "iopub.execute_input": "2023-02-04T07:58:25.016392Z",
     "iopub.status.busy": "2023-02-04T07:58:25.016149Z",
     "iopub.status.idle": "2023-02-04T07:58:25.019309Z",
     "shell.execute_reply": "2023-02-04T07:58:25.018510Z"
    },
    "lines_to_next_cell": 0
   },
   "outputs": [],
   "source": [
    "candidate, *rest = candidates"
   ]
  },
  {
   "cell_type": "code",
   "execution_count": 13,
   "id": "716c3435",
   "metadata": {
    "execution": {
     "iopub.execute_input": "2023-02-04T07:58:25.022210Z",
     "iopub.status.busy": "2023-02-04T07:58:25.021913Z",
     "iopub.status.idle": "2023-02-04T07:58:25.037638Z",
     "shell.execute_reply": "2023-02-04T07:58:25.037184Z"
    },
    "lines_to_next_cell": 0
   },
   "outputs": [
    {
     "data": {
      "text/plain": [
       "True"
      ]
     },
     "execution_count": 13,
     "metadata": {},
     "output_type": "execute_result"
    }
   ],
   "source": [
    "candidate.cseguid() == rest[0].cseguid()"
   ]
  },
  {
   "cell_type": "code",
   "execution_count": 14,
   "id": "9df4125a",
   "metadata": {
    "execution": {
     "iopub.execute_input": "2023-02-04T07:58:25.039989Z",
     "iopub.status.busy": "2023-02-04T07:58:25.039744Z",
     "iopub.status.idle": "2023-02-04T07:58:25.043592Z",
     "shell.execute_reply": "2023-02-04T07:58:25.043053Z"
    },
    "lines_to_next_cell": 0
   },
   "outputs": [
    {
     "data": {
      "text/plain": [
       " -|pYPK0_lin|168\n",
       "|            \\/\n",
       "|            /\\\n",
       "|            168|RPL5|48\n",
       "|                     \\/\n",
       "|                     /\\\n",
       "|                     48|EctesA|37\n",
       "|                               \\/\n",
       "|                               /\\\n",
       "|                               37|RPL16A|276\n",
       "|                                         \\/\n",
       "|                                         /\\\n",
       "|                                         276-\n",
       "|                                            |\n",
       " --------------------------------------------"
      ]
     },
     "execution_count": 14,
     "metadata": {},
     "output_type": "execute_result"
    }
   ],
   "source": [
    "candidate.figure()"
   ]
  },
  {
   "cell_type": "markdown",
   "id": "d3fcdb64",
   "metadata": {},
   "source": [
    "The candidate vector is synchronized to the 577 primer. This means that\n",
    "the plasmid origin is shifted so that it matches the backbone vector."
   ]
  },
  {
   "cell_type": "code",
   "execution_count": 15,
   "id": "0fc7706e",
   "metadata": {
    "execution": {
     "iopub.execute_input": "2023-02-04T07:58:25.046776Z",
     "iopub.status.busy": "2023-02-04T07:58:25.046291Z",
     "iopub.status.idle": "2023-02-04T07:58:25.332341Z",
     "shell.execute_reply": "2023-02-04T07:58:25.331637Z"
    }
   },
   "outputs": [],
   "source": [
    "result = candidate.synced(fp_prom)"
   ]
  },
  {
   "cell_type": "markdown",
   "id": "decb1f4a",
   "metadata": {},
   "source": [
    "### Diagnostic PCR confirmation\n",
    "\n",
    "The structure of the final vector is confirmed by two\n",
    "separate PCR reactions, one for the promoter and gene and\n",
    "one for the gene and terminator.\n",
    "\n",
    "PCR using standard primers 577 and 467 to amplify promoter and gene."
   ]
  },
  {
   "cell_type": "code",
   "execution_count": 16,
   "id": "304664ae",
   "metadata": {
    "execution": {
     "iopub.execute_input": "2023-02-04T07:58:25.335875Z",
     "iopub.status.busy": "2023-02-04T07:58:25.335595Z",
     "iopub.status.idle": "2023-02-04T07:58:25.357805Z",
     "shell.execute_reply": "2023-02-04T07:58:25.357227Z"
    }
   },
   "outputs": [],
   "source": [
    "product = pcr( fp_prom, rp_gene, result)"
   ]
  },
  {
   "cell_type": "markdown",
   "id": "200f4cf0",
   "metadata": {},
   "source": [
    "A correct clone should give this size in base pairs:"
   ]
  },
  {
   "cell_type": "code",
   "execution_count": 17,
   "id": "03578ece",
   "metadata": {
    "execution": {
     "iopub.execute_input": "2023-02-04T07:58:25.360547Z",
     "iopub.status.busy": "2023-02-04T07:58:25.360360Z",
     "iopub.status.idle": "2023-02-04T07:58:25.363875Z",
     "shell.execute_reply": "2023-02-04T07:58:25.363025Z"
    }
   },
   "outputs": [
    {
     "name": "stdout",
     "output_type": "stream",
     "text": [
      "1399\n"
     ]
    }
   ],
   "source": [
    "print(len(product))"
   ]
  },
  {
   "cell_type": "markdown",
   "id": "4d3cd635",
   "metadata": {},
   "source": [
    "If the promoter is missing from the assembly, the PCR product will have this size in base pairs:"
   ]
  },
  {
   "cell_type": "code",
   "execution_count": 18,
   "id": "0bea3675",
   "metadata": {
    "execution": {
     "iopub.execute_input": "2023-02-04T07:58:25.367883Z",
     "iopub.status.busy": "2023-02-04T07:58:25.367502Z",
     "iopub.status.idle": "2023-02-04T07:58:25.373223Z",
     "shell.execute_reply": "2023-02-04T07:58:25.372242Z"
    }
   },
   "outputs": [
    {
     "name": "stdout",
     "output_type": "stream",
     "text": [
      "666\n"
     ]
    }
   ],
   "source": [
    "print(len(product) - len(prom))"
   ]
  },
  {
   "cell_type": "markdown",
   "id": "ff101646",
   "metadata": {},
   "source": [
    "If the gene is missing from the assembly, the PCR product will have this size in base pairs:"
   ]
  },
  {
   "cell_type": "code",
   "execution_count": 19,
   "id": "741a8979",
   "metadata": {
    "execution": {
     "iopub.execute_input": "2023-02-04T07:58:25.376650Z",
     "iopub.status.busy": "2023-02-04T07:58:25.376183Z",
     "iopub.status.idle": "2023-02-04T07:58:25.380411Z",
     "shell.execute_reply": "2023-02-04T07:58:25.379640Z"
    }
   },
   "outputs": [
    {
     "name": "stdout",
     "output_type": "stream",
     "text": [
      "683\n"
     ]
    }
   ],
   "source": [
    "print(len(product) - len(gene))"
   ]
  },
  {
   "cell_type": "markdown",
   "id": "33738d4a",
   "metadata": {},
   "source": [
    "PCR using standard primers 468 and 578 to amplify gene and terminator."
   ]
  },
  {
   "cell_type": "code",
   "execution_count": 20,
   "id": "36871042",
   "metadata": {
    "execution": {
     "iopub.execute_input": "2023-02-04T07:58:25.383626Z",
     "iopub.status.busy": "2023-02-04T07:58:25.383139Z",
     "iopub.status.idle": "2023-02-04T07:58:25.403172Z",
     "shell.execute_reply": "2023-02-04T07:58:25.402398Z"
    }
   },
   "outputs": [],
   "source": [
    "product2 = pcr( fp_gene, rp_term, result)"
   ]
  },
  {
   "cell_type": "markdown",
   "id": "9c845937",
   "metadata": {},
   "source": [
    "A correct clone should give this size:"
   ]
  },
  {
   "cell_type": "code",
   "execution_count": 21,
   "id": "55ab800a",
   "metadata": {
    "execution": {
     "iopub.execute_input": "2023-02-04T07:58:25.406277Z",
     "iopub.status.busy": "2023-02-04T07:58:25.405721Z",
     "iopub.status.idle": "2023-02-04T07:58:25.409163Z",
     "shell.execute_reply": "2023-02-04T07:58:25.408650Z"
    }
   },
   "outputs": [
    {
     "name": "stdout",
     "output_type": "stream",
     "text": [
      "1461\n"
     ]
    }
   ],
   "source": [
    "print(len(product2))"
   ]
  },
  {
   "cell_type": "markdown",
   "id": "e5b9b14e",
   "metadata": {},
   "source": [
    "If the gene is missing from the assembly, the PCR product will have this size in base pairs:"
   ]
  },
  {
   "cell_type": "code",
   "execution_count": 22,
   "id": "0d5f3ae1",
   "metadata": {
    "execution": {
     "iopub.execute_input": "2023-02-04T07:58:25.413052Z",
     "iopub.status.busy": "2023-02-04T07:58:25.412677Z",
     "iopub.status.idle": "2023-02-04T07:58:25.417399Z",
     "shell.execute_reply": "2023-02-04T07:58:25.416473Z"
    }
   },
   "outputs": [
    {
     "name": "stdout",
     "output_type": "stream",
     "text": [
      "745\n"
     ]
    }
   ],
   "source": [
    "print(len(product2) - len(gene))"
   ]
  },
  {
   "cell_type": "markdown",
   "id": "f15851d4",
   "metadata": {},
   "source": [
    "If the terminator is missing from the assembly, the PCR product will have this size in base pairs:"
   ]
  },
  {
   "cell_type": "code",
   "execution_count": 23,
   "id": "65d7a3fa",
   "metadata": {
    "execution": {
     "iopub.execute_input": "2023-02-04T07:58:25.421197Z",
     "iopub.status.busy": "2023-02-04T07:58:25.420871Z",
     "iopub.status.idle": "2023-02-04T07:58:25.424857Z",
     "shell.execute_reply": "2023-02-04T07:58:25.424123Z"
    }
   },
   "outputs": [
    {
     "name": "stdout",
     "output_type": "stream",
     "text": [
      "679\n"
     ]
    }
   ],
   "source": [
    "print(len(product2) - len(term))"
   ]
  },
  {
   "cell_type": "markdown",
   "id": "e9b1b11b",
   "metadata": {},
   "source": [
    "The cseguid checksum for the resulting plasmid is calculated for future reference.\n",
    "The [cseguid checksum](http://pydna.readthedocs.org/en/latest/pydna.html#pydna.utils.cseguid)\n",
    "uniquely identifies a circular double stranded sequence."
   ]
  },
  {
   "cell_type": "code",
   "execution_count": 24,
   "id": "6fef5112",
   "metadata": {
    "execution": {
     "iopub.execute_input": "2023-02-04T07:58:25.428400Z",
     "iopub.status.busy": "2023-02-04T07:58:25.427806Z",
     "iopub.status.idle": "2023-02-04T07:58:25.437845Z",
     "shell.execute_reply": "2023-02-04T07:58:25.437138Z"
    }
   },
   "outputs": [
    {
     "name": "stdout",
     "output_type": "stream",
     "text": [
      "VhtnZZTEZyfnczralfUotip5wgo\n"
     ]
    }
   ],
   "source": [
    "print(result.cseguid())"
   ]
  },
  {
   "cell_type": "markdown",
   "id": "ea4556c1",
   "metadata": {},
   "source": [
    "The file name is based on the promoter, gene and terminator designations."
   ]
  },
  {
   "cell_type": "code",
   "execution_count": 25,
   "id": "1f92ae3e",
   "metadata": {
    "execution": {
     "iopub.execute_input": "2023-02-04T07:58:25.440791Z",
     "iopub.status.busy": "2023-02-04T07:58:25.440253Z",
     "iopub.status.idle": "2023-02-04T07:58:25.443357Z",
     "shell.execute_reply": "2023-02-04T07:58:25.442854Z"
    }
   },
   "outputs": [],
   "source": [
    "result.locus = f\"tu:{gene.name}\"[:16]\n",
    "result.definition = \"pYPK0_RPL5_EctesA_RPL16A\""
   ]
  },
  {
   "cell_type": "markdown",
   "id": "31c75002",
   "metadata": {},
   "source": [
    "Sequence is stamped with cseguid checksum. This can be used to verify the\n",
    "integrity of the sequence file."
   ]
  },
  {
   "cell_type": "code",
   "execution_count": 26,
   "id": "ab8dade2",
   "metadata": {
    "execution": {
     "iopub.execute_input": "2023-02-04T07:58:25.447003Z",
     "iopub.status.busy": "2023-02-04T07:58:25.446701Z",
     "iopub.status.idle": "2023-02-04T07:58:25.459881Z",
     "shell.execute_reply": "2023-02-04T07:58:25.459292Z"
    }
   },
   "outputs": [
    {
     "data": {
      "text/plain": [
       "VhtnZZTEZyfnczralfUotip5wgo"
      ]
     },
     "execution_count": 26,
     "metadata": {},
     "output_type": "execute_result"
    }
   ],
   "source": [
    "result.stamp(\"cSEGUID\")"
   ]
  },
  {
   "cell_type": "markdown",
   "id": "6544aee7",
   "metadata": {},
   "source": [
    "Write sequence to a local file."
   ]
  },
  {
   "cell_type": "code",
   "execution_count": 27,
   "id": "a4410506",
   "metadata": {
    "execution": {
     "iopub.execute_input": "2023-02-04T07:58:25.462675Z",
     "iopub.status.busy": "2023-02-04T07:58:25.462455Z",
     "iopub.status.idle": "2023-02-04T07:58:25.468045Z",
     "shell.execute_reply": "2023-02-04T07:58:25.467273Z"
    }
   },
   "outputs": [
    {
     "data": {
      "text/html": [
       "<font face=monospace><a href='pYPK0_RPL5_EctesA_RPL16A.gb' target='_blank'>pYPK0_RPL5_EctesA_RPL16A.gb</a></font><br>"
      ]
     },
     "metadata": {},
     "output_type": "display_data"
    }
   ],
   "source": [
    "result.write(f\"{result.definition}.gb\")"
   ]
  },
  {
   "cell_type": "markdown",
   "id": "27f6f6ed",
   "metadata": {
    "lines_to_next_cell": 0
   },
   "source": [
    "### Suggested PCR programs\n",
    "\n",
    "For the [amplification](#PCR) of promoter, gene and terminator."
   ]
  },
  {
   "cell_type": "code",
   "execution_count": 28,
   "id": "9ea21557",
   "metadata": {
    "execution": {
     "iopub.execute_input": "2023-02-04T07:58:25.472072Z",
     "iopub.status.busy": "2023-02-04T07:58:25.471754Z",
     "iopub.status.idle": "2023-02-04T07:58:25.476921Z",
     "shell.execute_reply": "2023-02-04T07:58:25.476153Z"
    }
   },
   "outputs": [
    {
     "name": "stdout",
     "output_type": "stream",
     "text": [
      "577_crp585-557 567_pCAPsAjiIF\n",
      "|95°C|95°C               |    |tmf:64.6\n",
      "|____|_____          72°C|72°C|tmr:69.7\n",
      "|3min|30s  \\ 56.8°C _____|____|45s/kb\n",
      "|    |      \\______/ 0:32|5min|GC 38%\n",
      "|    |       30s         |    |733bp\n"
     ]
    }
   ],
   "source": [
    "print(prom.forward_primer.name, prom.reverse_primer.name)\n",
    "print(prom.program())"
   ]
  },
  {
   "cell_type": "code",
   "execution_count": 29,
   "id": "38fa955b",
   "metadata": {
    "execution": {
     "iopub.execute_input": "2023-02-04T07:58:25.480863Z",
     "iopub.status.busy": "2023-02-04T07:58:25.480046Z",
     "iopub.status.idle": "2023-02-04T07:58:25.486259Z",
     "shell.execute_reply": "2023-02-04T07:58:25.485397Z"
    }
   },
   "outputs": [
    {
     "name": "stdout",
     "output_type": "stream",
     "text": [
      "468_pCAPs_release_fw 467_pCAPs_release_re\n",
      "|95°C|95°C               |    |tmf:76.9\n",
      "|____|_____          72°C|72°C|tmr:67.9\n",
      "|3min|30s  \\ 61.8°C _____|____|45s/kb\n",
      "|    |      \\______/ 0:32|5min|GC 52%\n",
      "|    |       30s         |    |716bp\n"
     ]
    }
   ],
   "source": [
    "print(gene.forward_primer.name, gene.reverse_primer.name)\n",
    "print(gene.program())"
   ]
  },
  {
   "cell_type": "code",
   "execution_count": 30,
   "id": "f7c29c49",
   "metadata": {
    "execution": {
     "iopub.execute_input": "2023-02-04T07:58:25.489485Z",
     "iopub.status.busy": "2023-02-04T07:58:25.489190Z",
     "iopub.status.idle": "2023-02-04T07:58:25.494060Z",
     "shell.execute_reply": "2023-02-04T07:58:25.493101Z"
    }
   },
   "outputs": [
    {
     "name": "stdout",
     "output_type": "stream",
     "text": [
      "568_pCAPsAjiIR 578_crp42-70\n",
      "|95°C|95°C               |    |tmf:66.1\n",
      "|____|_____          72°C|72°C|tmr:65.0\n",
      "|3min|30s  \\ 58.4°C _____|____|45s/kb\n",
      "|    |      \\______/ 0:35|5min|GC 43%\n",
      "|    |       30s         |    |782bp\n"
     ]
    }
   ],
   "source": [
    "print(term.forward_primer.name, term.reverse_primer.name)\n",
    "print(term.program())"
   ]
  }
 ],
 "metadata": {
  "jupytext": {
   "main_language": "python",
   "text_representation": {
    "extension": ".py",
    "format_name": "percent",
    "format_version": "1.3",
    "jupytext_version": "1.14.0"
   }
  },
  "language_info": {
   "codemirror_mode": {
    "name": "ipython",
    "version": 3
   },
   "file_extension": ".py",
   "mimetype": "text/x-python",
   "name": "python",
   "nbconvert_exporter": "python",
   "pygments_lexer": "ipython3",
   "version": "3.11.0"
  }
 },
 "nbformat": 4,
 "nbformat_minor": 5
}
