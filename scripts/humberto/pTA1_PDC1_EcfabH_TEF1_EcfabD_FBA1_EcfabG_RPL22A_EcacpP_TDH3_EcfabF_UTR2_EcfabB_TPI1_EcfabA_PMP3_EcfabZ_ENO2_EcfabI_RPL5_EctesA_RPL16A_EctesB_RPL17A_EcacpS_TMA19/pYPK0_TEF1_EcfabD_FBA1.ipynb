{
 "cells": [
  {
   "cell_type": "markdown",
   "id": "85f53097",
   "metadata": {},
   "source": [
    "# [![logo](logo.png)](https://github.com/BjornFJohansson/ypkpathway#-ypkpathway) pYPK0_TEF1_EcfabD_FBA1\n",
    "\n",
    "Assembly of a [_Saccharomyces cerevisiae_](http://www.yeastgenome.org) transcriptional unit vector.\n",
    "\n",
    "Made from a linear vector fragment and three PCR products:\n",
    "\n",
    "- a linearized pYPK0 vector for maintenance in _S. cerevisiae_ or _E. coli_ (red dashed line in figure below)\n",
    "- a promoter PCR product from the `pYPKa_Z_TEF1` vector\n",
    "- a gene PCR product from the `pYPKa_A_EcfabD` vector\n",
    "- a terminator PCR product from the `pYPKa_E_FBA1` vector\n",
    "\n",
    "The four linear DNA fragments are joined by _in-vivo_ homologous recombination in a\n",
    "[_Saccharomyces cerevisiae_](http://wiki.yeastgenome.org/index.php/Commonly_used_strains) strain.\n",
    "\n",
    "![tu](tu.png \"tu\")\n",
    "\n",
    "A part of the [pydna](https://pypi.python.org/pypi/pydna/) package is imported in the code cell below."
   ]
  },
  {
   "cell_type": "code",
   "execution_count": 1,
   "id": "58c51644",
   "metadata": {
    "execution": {
     "iopub.execute_input": "2023-02-04T07:57:52.480178Z",
     "iopub.status.busy": "2023-02-04T07:57:52.479565Z",
     "iopub.status.idle": "2023-02-04T07:57:52.840962Z",
     "shell.execute_reply": "2023-02-04T07:57:52.840303Z"
    }
   },
   "outputs": [],
   "source": [
    "from pydna.parsers import parse_primers\n",
    "from pydna.readers import read\n",
    "from pydna.amplify import pcr\n",
    "from pydna.assembly import Assembly"
   ]
  },
  {
   "cell_type": "markdown",
   "id": "9d0c4a78",
   "metadata": {},
   "source": [
    "The Yeast Pathway Kit [standard primers](standard_primers.fasta) are read into a dictionary in the code cell below."
   ]
  },
  {
   "cell_type": "code",
   "execution_count": 2,
   "id": "4153f8b8",
   "metadata": {
    "execution": {
     "iopub.execute_input": "2023-02-04T07:57:52.844620Z",
     "iopub.status.busy": "2023-02-04T07:57:52.844248Z",
     "iopub.status.idle": "2023-02-04T07:57:52.855240Z",
     "shell.execute_reply": "2023-02-04T07:57:52.854602Z"
    }
   },
   "outputs": [],
   "source": [
    "p = {x.name: x for x in parse_primers(\"standard_primers.fasta\")}"
   ]
  },
  {
   "cell_type": "markdown",
   "id": "9cfd2ae7",
   "metadata": {},
   "source": [
    "The backbone vector [pYPK0](pYPK0.gb) is read from a local file in the code cell below."
   ]
  },
  {
   "cell_type": "code",
   "execution_count": 3,
   "id": "58910134",
   "metadata": {
    "execution": {
     "iopub.execute_input": "2023-02-04T07:57:52.858159Z",
     "iopub.status.busy": "2023-02-04T07:57:52.857927Z",
     "iopub.status.idle": "2023-02-04T07:57:52.870089Z",
     "shell.execute_reply": "2023-02-04T07:57:52.869343Z"
    }
   },
   "outputs": [],
   "source": [
    "backbone = read(\"pYPK0.gb\")"
   ]
  },
  {
   "cell_type": "markdown",
   "id": "53f2e70f",
   "metadata": {},
   "source": [
    "The backbone vector is linearized by digestion with [MfeI](https://www.google.com/search?q=MfeI)."
   ]
  },
  {
   "cell_type": "code",
   "execution_count": 4,
   "id": "3d124ef7",
   "metadata": {
    "execution": {
     "iopub.execute_input": "2023-02-04T07:57:52.872817Z",
     "iopub.status.busy": "2023-02-04T07:57:52.872601Z",
     "iopub.status.idle": "2023-02-04T07:57:52.875729Z",
     "shell.execute_reply": "2023-02-04T07:57:52.875223Z"
    }
   },
   "outputs": [],
   "source": [
    "from Bio.Restriction import MfeI"
   ]
  },
  {
   "cell_type": "code",
   "execution_count": 5,
   "id": "02caec61",
   "metadata": {
    "execution": {
     "iopub.execute_input": "2023-02-04T07:57:52.879503Z",
     "iopub.status.busy": "2023-02-04T07:57:52.879184Z",
     "iopub.status.idle": "2023-02-04T07:57:52.889636Z",
     "shell.execute_reply": "2023-02-04T07:57:52.888935Z"
    }
   },
   "outputs": [],
   "source": [
    "linear_backbone = backbone.linearize(MfeI)"
   ]
  },
  {
   "cell_type": "markdown",
   "id": "6c0180fe",
   "metadata": {},
   "source": [
    "The pYPKa derived _E. coli_ plasmids containing\n",
    "- [promoter](pYPKa_Z_TEF1.gb)\n",
    "- [gene](pYPKa_A_EcfabD.gb)\n",
    "- [terminator](pYPKa_E_FBA1.gb)\n",
    "\n",
    "are read into three variables below."
   ]
  },
  {
   "cell_type": "code",
   "execution_count": 6,
   "id": "c576a4bc",
   "metadata": {
    "execution": {
     "iopub.execute_input": "2023-02-04T07:57:52.893119Z",
     "iopub.status.busy": "2023-02-04T07:57:52.892837Z",
     "iopub.status.idle": "2023-02-04T07:57:52.910238Z",
     "shell.execute_reply": "2023-02-04T07:57:52.909698Z"
    }
   },
   "outputs": [],
   "source": [
    "promoter_template   = read(\"pYPKa_Z_TEF1.gb\")\n",
    "gene_template       = read(\"pYPKa_A_EcfabD.gb\")\n",
    "terminator_template = read(\"pYPKa_E_FBA1.gb\")"
   ]
  },
  {
   "cell_type": "markdown",
   "id": "f70abd7e",
   "metadata": {
    "lines_to_next_cell": 0
   },
   "source": [
    "### PCR\n",
    "Three DNA fragments are PCR amplified using [standard primers](standard_primers.fasta).\n",
    "\n",
    "[Suggested PCR programs](#Suggested-PCR-programs) can be found at the end of this document."
   ]
  },
  {
   "cell_type": "code",
   "execution_count": 7,
   "id": "9ee68a27",
   "metadata": {
    "execution": {
     "iopub.execute_input": "2023-02-04T07:57:52.913194Z",
     "iopub.status.busy": "2023-02-04T07:57:52.912990Z",
     "iopub.status.idle": "2023-02-04T07:57:52.916208Z",
     "shell.execute_reply": "2023-02-04T07:57:52.915735Z"
    }
   },
   "outputs": [],
   "source": [
    "\n",
    "fp_prom = p['577_crp585-557']\n",
    "rp_prom = p['567_pCAPsAjiIF']\n",
    "fp_gene = p['468_pCAPs_release_fw']\n",
    "rp_gene = p['467_pCAPs_release_re']\n",
    "fp_term = p['568_pCAPsAjiIR']\n",
    "rp_term = p['578_crp42-70']"
   ]
  },
  {
   "cell_type": "code",
   "execution_count": 8,
   "id": "ef0eb5f6",
   "metadata": {
    "execution": {
     "iopub.execute_input": "2023-02-04T07:57:52.920510Z",
     "iopub.status.busy": "2023-02-04T07:57:52.919793Z",
     "iopub.status.idle": "2023-02-04T07:57:52.948349Z",
     "shell.execute_reply": "2023-02-04T07:57:52.947753Z"
    }
   },
   "outputs": [],
   "source": [
    "prom = pcr(fp_prom, rp_prom, promoter_template)\n",
    "gene = pcr(fp_gene, rp_gene, gene_template)\n",
    "term = pcr(fp_term, rp_term, terminator_template)"
   ]
  },
  {
   "cell_type": "code",
   "execution_count": 9,
   "id": "2d4931c0",
   "metadata": {
    "execution": {
     "iopub.execute_input": "2023-02-04T07:57:52.951383Z",
     "iopub.status.busy": "2023-02-04T07:57:52.951062Z",
     "iopub.status.idle": "2023-02-04T07:57:52.955021Z",
     "shell.execute_reply": "2023-02-04T07:57:52.954315Z"
    }
   },
   "outputs": [],
   "source": [
    "prom.name = \"pYPKa_Z_TEF1\"[8:]\n",
    "gene.name = \"pYPKa_A_EcfabD\"[8:]\n",
    "term.name = \"pYPKa_E_FBA1\"[8:]"
   ]
  },
  {
   "cell_type": "markdown",
   "id": "d19babe8",
   "metadata": {},
   "source": [
    "\n",
    "The fragments will be assembled by _in-vivo_ [homologous recombination](http://www.ncbi.nlm.nih.gov/pubmed/2828185):"
   ]
  },
  {
   "cell_type": "code",
   "execution_count": 10,
   "id": "9be46a14",
   "metadata": {
    "execution": {
     "iopub.execute_input": "2023-02-04T07:57:52.958241Z",
     "iopub.status.busy": "2023-02-04T07:57:52.957995Z",
     "iopub.status.idle": "2023-02-04T07:57:53.389377Z",
     "shell.execute_reply": "2023-02-04T07:57:53.388832Z"
    }
   },
   "outputs": [
    {
     "data": {
      "text/plain": [
       "Assembly\n",
       "fragments..: 5766bp 811bp 1019bp 970bp\n",
       "limit(bp)..: 31\n",
       "G.nodes....: 10\n",
       "algorithm..: common_sub_strings"
      ]
     },
     "execution_count": 10,
     "metadata": {},
     "output_type": "execute_result"
    }
   ],
   "source": [
    "asm = Assembly((linear_backbone, prom, gene, term), limit=31)\n",
    "asm"
   ]
  },
  {
   "cell_type": "markdown",
   "id": "2d27d260",
   "metadata": {},
   "source": [
    "The Assembly object above should normally indicate four fragments and eight nodes."
   ]
  },
  {
   "cell_type": "code",
   "execution_count": 11,
   "id": "21a2e509",
   "metadata": {
    "execution": {
     "iopub.execute_input": "2023-02-04T07:57:53.392343Z",
     "iopub.status.busy": "2023-02-04T07:57:53.391838Z",
     "iopub.status.idle": "2023-02-04T07:57:53.613491Z",
     "shell.execute_reply": "2023-02-04T07:57:53.612917Z"
    },
    "lines_to_next_cell": 0
   },
   "outputs": [
    {
     "data": {
      "text/plain": [
       "[Contig(o7931), Contig(o7931), Contig(o7931), Contig(o7338), Contig(o7338)]"
      ]
     },
     "execution_count": 11,
     "metadata": {},
     "output_type": "execute_result"
    }
   ],
   "source": [
    "candidates = asm.assemble_circular()\n",
    "candidates"
   ]
  },
  {
   "cell_type": "markdown",
   "id": "d0635b06",
   "metadata": {},
   "source": [
    "There should normally be two candidates of equal size. These sequences should be identical."
   ]
  },
  {
   "cell_type": "code",
   "execution_count": 12,
   "id": "718b9ab4",
   "metadata": {
    "execution": {
     "iopub.execute_input": "2023-02-04T07:57:53.616336Z",
     "iopub.status.busy": "2023-02-04T07:57:53.615887Z",
     "iopub.status.idle": "2023-02-04T07:57:53.619367Z",
     "shell.execute_reply": "2023-02-04T07:57:53.618686Z"
    },
    "lines_to_next_cell": 0
   },
   "outputs": [],
   "source": [
    "candidate, *rest = candidates"
   ]
  },
  {
   "cell_type": "code",
   "execution_count": 13,
   "id": "d2a806b9",
   "metadata": {
    "execution": {
     "iopub.execute_input": "2023-02-04T07:57:53.623252Z",
     "iopub.status.busy": "2023-02-04T07:57:53.622976Z",
     "iopub.status.idle": "2023-02-04T07:57:53.640463Z",
     "shell.execute_reply": "2023-02-04T07:57:53.640021Z"
    },
    "lines_to_next_cell": 0
   },
   "outputs": [
    {
     "data": {
      "text/plain": [
       "True"
      ]
     },
     "execution_count": 13,
     "metadata": {},
     "output_type": "execute_result"
    }
   ],
   "source": [
    "candidate.cseguid() == rest[0].cseguid()"
   ]
  },
  {
   "cell_type": "code",
   "execution_count": 14,
   "id": "cac84e1a",
   "metadata": {
    "execution": {
     "iopub.execute_input": "2023-02-04T07:57:53.642819Z",
     "iopub.status.busy": "2023-02-04T07:57:53.642604Z",
     "iopub.status.idle": "2023-02-04T07:57:53.646988Z",
     "shell.execute_reply": "2023-02-04T07:57:53.646146Z"
    },
    "lines_to_next_cell": 0
   },
   "outputs": [
    {
     "data": {
      "text/plain": [
       " -|pYPK0_lin|168\n",
       "|            \\/\n",
       "|            /\\\n",
       "|            168|TEF1|48\n",
       "|                     \\/\n",
       "|                     /\\\n",
       "|                     48|EcfabD|37\n",
       "|                               \\/\n",
       "|                               /\\\n",
       "|                               37|FBA1|276\n",
       "|                                       \\/\n",
       "|                                       /\\\n",
       "|                                       276-\n",
       "|                                          |\n",
       " ------------------------------------------"
      ]
     },
     "execution_count": 14,
     "metadata": {},
     "output_type": "execute_result"
    }
   ],
   "source": [
    "candidate.figure()"
   ]
  },
  {
   "cell_type": "markdown",
   "id": "ffcc0ff6",
   "metadata": {},
   "source": [
    "The candidate vector is synchronized to the 577 primer. This means that\n",
    "the plasmid origin is shifted so that it matches the backbone vector."
   ]
  },
  {
   "cell_type": "code",
   "execution_count": 15,
   "id": "e301d1b9",
   "metadata": {
    "execution": {
     "iopub.execute_input": "2023-02-04T07:57:53.651833Z",
     "iopub.status.busy": "2023-02-04T07:57:53.651020Z",
     "iopub.status.idle": "2023-02-04T07:57:53.961573Z",
     "shell.execute_reply": "2023-02-04T07:57:53.960933Z"
    }
   },
   "outputs": [],
   "source": [
    "result = candidate.synced(fp_prom)"
   ]
  },
  {
   "cell_type": "markdown",
   "id": "c4724329",
   "metadata": {},
   "source": [
    "### Diagnostic PCR confirmation\n",
    "\n",
    "The structure of the final vector is confirmed by two\n",
    "separate PCR reactions, one for the promoter and gene and\n",
    "one for the gene and terminator.\n",
    "\n",
    "PCR using standard primers 577 and 467 to amplify promoter and gene."
   ]
  },
  {
   "cell_type": "code",
   "execution_count": 16,
   "id": "965e7d1d",
   "metadata": {
    "execution": {
     "iopub.execute_input": "2023-02-04T07:57:53.964724Z",
     "iopub.status.busy": "2023-02-04T07:57:53.964444Z",
     "iopub.status.idle": "2023-02-04T07:57:53.982298Z",
     "shell.execute_reply": "2023-02-04T07:57:53.981766Z"
    }
   },
   "outputs": [],
   "source": [
    "product = pcr( fp_prom, rp_gene, result)"
   ]
  },
  {
   "cell_type": "markdown",
   "id": "239a07de",
   "metadata": {},
   "source": [
    "A correct clone should give this size in base pairs:"
   ]
  },
  {
   "cell_type": "code",
   "execution_count": 17,
   "id": "2ef5571d",
   "metadata": {
    "execution": {
     "iopub.execute_input": "2023-02-04T07:57:53.985310Z",
     "iopub.status.busy": "2023-02-04T07:57:53.984760Z",
     "iopub.status.idle": "2023-02-04T07:57:53.988219Z",
     "shell.execute_reply": "2023-02-04T07:57:53.987608Z"
    }
   },
   "outputs": [
    {
     "name": "stdout",
     "output_type": "stream",
     "text": [
      "1780\n"
     ]
    }
   ],
   "source": [
    "print(len(product))"
   ]
  },
  {
   "cell_type": "markdown",
   "id": "e596ecd8",
   "metadata": {},
   "source": [
    "If the promoter is missing from the assembly, the PCR product will have this size in base pairs:"
   ]
  },
  {
   "cell_type": "code",
   "execution_count": 18,
   "id": "f3202d49",
   "metadata": {
    "execution": {
     "iopub.execute_input": "2023-02-04T07:57:53.991213Z",
     "iopub.status.busy": "2023-02-04T07:57:53.990483Z",
     "iopub.status.idle": "2023-02-04T07:57:53.995502Z",
     "shell.execute_reply": "2023-02-04T07:57:53.994884Z"
    }
   },
   "outputs": [
    {
     "name": "stdout",
     "output_type": "stream",
     "text": [
      "969\n"
     ]
    }
   ],
   "source": [
    "print(len(product) - len(prom))"
   ]
  },
  {
   "cell_type": "markdown",
   "id": "2f66c841",
   "metadata": {},
   "source": [
    "If the gene is missing from the assembly, the PCR product will have this size in base pairs:"
   ]
  },
  {
   "cell_type": "code",
   "execution_count": 19,
   "id": "3cfdff2f",
   "metadata": {
    "execution": {
     "iopub.execute_input": "2023-02-04T07:57:53.998269Z",
     "iopub.status.busy": "2023-02-04T07:57:53.998026Z",
     "iopub.status.idle": "2023-02-04T07:57:54.001924Z",
     "shell.execute_reply": "2023-02-04T07:57:54.001408Z"
    }
   },
   "outputs": [
    {
     "name": "stdout",
     "output_type": "stream",
     "text": [
      "761\n"
     ]
    }
   ],
   "source": [
    "print(len(product) - len(gene))"
   ]
  },
  {
   "cell_type": "markdown",
   "id": "9f3e21dd",
   "metadata": {},
   "source": [
    "PCR using standard primers 468 and 578 to amplify gene and terminator."
   ]
  },
  {
   "cell_type": "code",
   "execution_count": 20,
   "id": "870b1dac",
   "metadata": {
    "execution": {
     "iopub.execute_input": "2023-02-04T07:57:54.004899Z",
     "iopub.status.busy": "2023-02-04T07:57:54.004561Z",
     "iopub.status.idle": "2023-02-04T07:57:54.026413Z",
     "shell.execute_reply": "2023-02-04T07:57:54.025836Z"
    }
   },
   "outputs": [],
   "source": [
    "product2 = pcr( fp_gene, rp_term, result)"
   ]
  },
  {
   "cell_type": "markdown",
   "id": "a184609b",
   "metadata": {},
   "source": [
    "A correct clone should give this size:"
   ]
  },
  {
   "cell_type": "code",
   "execution_count": 21,
   "id": "016ff6db",
   "metadata": {
    "execution": {
     "iopub.execute_input": "2023-02-04T07:57:54.028798Z",
     "iopub.status.busy": "2023-02-04T07:57:54.028557Z",
     "iopub.status.idle": "2023-02-04T07:57:54.032675Z",
     "shell.execute_reply": "2023-02-04T07:57:54.031587Z"
    }
   },
   "outputs": [
    {
     "name": "stdout",
     "output_type": "stream",
     "text": [
      "1952\n"
     ]
    }
   ],
   "source": [
    "print(len(product2))"
   ]
  },
  {
   "cell_type": "markdown",
   "id": "26edf980",
   "metadata": {},
   "source": [
    "If the gene is missing from the assembly, the PCR product will have this size in base pairs:"
   ]
  },
  {
   "cell_type": "code",
   "execution_count": 22,
   "id": "ccaac19e",
   "metadata": {
    "execution": {
     "iopub.execute_input": "2023-02-04T07:57:54.036570Z",
     "iopub.status.busy": "2023-02-04T07:57:54.036125Z",
     "iopub.status.idle": "2023-02-04T07:57:54.040325Z",
     "shell.execute_reply": "2023-02-04T07:57:54.039439Z"
    }
   },
   "outputs": [
    {
     "name": "stdout",
     "output_type": "stream",
     "text": [
      "933\n"
     ]
    }
   ],
   "source": [
    "print(len(product2) - len(gene))"
   ]
  },
  {
   "cell_type": "markdown",
   "id": "f25d3659",
   "metadata": {},
   "source": [
    "If the terminator is missing from the assembly, the PCR product will have this size in base pairs:"
   ]
  },
  {
   "cell_type": "code",
   "execution_count": 23,
   "id": "b1746ba0",
   "metadata": {
    "execution": {
     "iopub.execute_input": "2023-02-04T07:57:54.043815Z",
     "iopub.status.busy": "2023-02-04T07:57:54.043433Z",
     "iopub.status.idle": "2023-02-04T07:57:54.048678Z",
     "shell.execute_reply": "2023-02-04T07:57:54.047637Z"
    }
   },
   "outputs": [
    {
     "name": "stdout",
     "output_type": "stream",
     "text": [
      "982\n"
     ]
    }
   ],
   "source": [
    "print(len(product2) - len(term))"
   ]
  },
  {
   "cell_type": "markdown",
   "id": "5789f465",
   "metadata": {},
   "source": [
    "The cseguid checksum for the resulting plasmid is calculated for future reference.\n",
    "The [cseguid checksum](http://pydna.readthedocs.org/en/latest/pydna.html#pydna.utils.cseguid)\n",
    "uniquely identifies a circular double stranded sequence."
   ]
  },
  {
   "cell_type": "code",
   "execution_count": 24,
   "id": "8b7f4a0a",
   "metadata": {
    "execution": {
     "iopub.execute_input": "2023-02-04T07:57:54.053387Z",
     "iopub.status.busy": "2023-02-04T07:57:54.052855Z",
     "iopub.status.idle": "2023-02-04T07:57:54.061832Z",
     "shell.execute_reply": "2023-02-04T07:57:54.061319Z"
    }
   },
   "outputs": [
    {
     "name": "stdout",
     "output_type": "stream",
     "text": [
      "v01M60VeuFZ1JwP7geadToegcEo\n"
     ]
    }
   ],
   "source": [
    "print(result.cseguid())"
   ]
  },
  {
   "cell_type": "markdown",
   "id": "c44dec0f",
   "metadata": {},
   "source": [
    "The file name is based on the promoter, gene and terminator designations."
   ]
  },
  {
   "cell_type": "code",
   "execution_count": 25,
   "id": "ad14db51",
   "metadata": {
    "execution": {
     "iopub.execute_input": "2023-02-04T07:57:54.064563Z",
     "iopub.status.busy": "2023-02-04T07:57:54.064339Z",
     "iopub.status.idle": "2023-02-04T07:57:54.068309Z",
     "shell.execute_reply": "2023-02-04T07:57:54.067639Z"
    }
   },
   "outputs": [],
   "source": [
    "result.locus = f\"tu:{gene.name}\"[:16]\n",
    "result.definition = \"pYPK0_TEF1_EcfabD_FBA1\""
   ]
  },
  {
   "cell_type": "markdown",
   "id": "b3dfdef0",
   "metadata": {},
   "source": [
    "Sequence is stamped with cseguid checksum. This can be used to verify the\n",
    "integrity of the sequence file."
   ]
  },
  {
   "cell_type": "code",
   "execution_count": 26,
   "id": "0d8d0440",
   "metadata": {
    "execution": {
     "iopub.execute_input": "2023-02-04T07:57:54.071090Z",
     "iopub.status.busy": "2023-02-04T07:57:54.070862Z",
     "iopub.status.idle": "2023-02-04T07:57:54.081968Z",
     "shell.execute_reply": "2023-02-04T07:57:54.081507Z"
    }
   },
   "outputs": [
    {
     "data": {
      "text/plain": [
       "v01M60VeuFZ1JwP7geadToegcEo"
      ]
     },
     "execution_count": 26,
     "metadata": {},
     "output_type": "execute_result"
    }
   ],
   "source": [
    "result.stamp(\"cSEGUID\")"
   ]
  },
  {
   "cell_type": "markdown",
   "id": "cfa32c19",
   "metadata": {},
   "source": [
    "Write sequence to a local file."
   ]
  },
  {
   "cell_type": "code",
   "execution_count": 27,
   "id": "ce044b4f",
   "metadata": {
    "execution": {
     "iopub.execute_input": "2023-02-04T07:57:54.084928Z",
     "iopub.status.busy": "2023-02-04T07:57:54.084711Z",
     "iopub.status.idle": "2023-02-04T07:57:54.091847Z",
     "shell.execute_reply": "2023-02-04T07:57:54.091018Z"
    }
   },
   "outputs": [
    {
     "data": {
      "text/html": [
       "<font face=monospace><a href='pYPK0_TEF1_EcfabD_FBA1.gb' target='_blank'>pYPK0_TEF1_EcfabD_FBA1.gb</a></font><br>"
      ]
     },
     "metadata": {},
     "output_type": "display_data"
    }
   ],
   "source": [
    "result.write(f\"{result.definition}.gb\")"
   ]
  },
  {
   "cell_type": "markdown",
   "id": "bb6db5dc",
   "metadata": {
    "lines_to_next_cell": 0
   },
   "source": [
    "### Suggested PCR programs\n",
    "\n",
    "For the [amplification](#PCR) of promoter, gene and terminator."
   ]
  },
  {
   "cell_type": "code",
   "execution_count": 28,
   "id": "b7a481a4",
   "metadata": {
    "execution": {
     "iopub.execute_input": "2023-02-04T07:57:54.095735Z",
     "iopub.status.busy": "2023-02-04T07:57:54.095448Z",
     "iopub.status.idle": "2023-02-04T07:57:54.101193Z",
     "shell.execute_reply": "2023-02-04T07:57:54.100347Z"
    }
   },
   "outputs": [
    {
     "name": "stdout",
     "output_type": "stream",
     "text": [
      "577_crp585-557 567_pCAPsAjiIF\n",
      "|95°C|95°C               |    |tmf:64.6\n",
      "|____|_____          72°C|72°C|tmr:69.7\n",
      "|3min|30s  \\ 57.1°C _____|____|45s/kb\n",
      "|    |      \\______/ 0:36|5min|GC 39%\n",
      "|    |       30s         |    |811bp\n"
     ]
    }
   ],
   "source": [
    "print(prom.forward_primer.name, prom.reverse_primer.name)\n",
    "print(prom.program())"
   ]
  },
  {
   "cell_type": "code",
   "execution_count": 29,
   "id": "f1aac93e",
   "metadata": {
    "execution": {
     "iopub.execute_input": "2023-02-04T07:57:54.104634Z",
     "iopub.status.busy": "2023-02-04T07:57:54.104307Z",
     "iopub.status.idle": "2023-02-04T07:57:54.109685Z",
     "shell.execute_reply": "2023-02-04T07:57:54.108800Z"
    }
   },
   "outputs": [
    {
     "name": "stdout",
     "output_type": "stream",
     "text": [
      "468_pCAPs_release_fw 467_pCAPs_release_re\n",
      "|95°C|95°C               |    |tmf:76.9\n",
      "|____|_____          72°C|72°C|tmr:67.9\n",
      "|3min|30s  \\ 62.7°C _____|____|45s/kb\n",
      "|    |      \\______/ 0:45|5min|GC 54%\n",
      "|    |       30s         |    |1019bp\n"
     ]
    }
   ],
   "source": [
    "print(gene.forward_primer.name, gene.reverse_primer.name)\n",
    "print(gene.program())"
   ]
  },
  {
   "cell_type": "code",
   "execution_count": 30,
   "id": "0a265b7d",
   "metadata": {
    "execution": {
     "iopub.execute_input": "2023-02-04T07:57:54.112896Z",
     "iopub.status.busy": "2023-02-04T07:57:54.112629Z",
     "iopub.status.idle": "2023-02-04T07:57:54.117692Z",
     "shell.execute_reply": "2023-02-04T07:57:54.116863Z"
    }
   },
   "outputs": [
    {
     "name": "stdout",
     "output_type": "stream",
     "text": [
      "568_pCAPsAjiIR 578_crp42-70\n",
      "|95°C|95°C               |    |tmf:66.1\n",
      "|____|_____          72°C|72°C|tmr:65.0\n",
      "|3min|30s  \\ 57.2°C _____|____|45s/kb\n",
      "|    |      \\______/ 0:43|5min|GC 38%\n",
      "|    |       30s         |    |970bp\n"
     ]
    }
   ],
   "source": [
    "print(term.forward_primer.name, term.reverse_primer.name)\n",
    "print(term.program())"
   ]
  }
 ],
 "metadata": {
  "jupytext": {
   "main_language": "python",
   "text_representation": {
    "extension": ".py",
    "format_name": "percent",
    "format_version": "1.3",
    "jupytext_version": "1.14.0"
   }
  },
  "language_info": {
   "codemirror_mode": {
    "name": "ipython",
    "version": 3
   },
   "file_extension": ".py",
   "mimetype": "text/x-python",
   "name": "python",
   "nbconvert_exporter": "python",
   "pygments_lexer": "ipython3",
   "version": "3.11.0"
  }
 },
 "nbformat": 4,
 "nbformat_minor": 5
}
