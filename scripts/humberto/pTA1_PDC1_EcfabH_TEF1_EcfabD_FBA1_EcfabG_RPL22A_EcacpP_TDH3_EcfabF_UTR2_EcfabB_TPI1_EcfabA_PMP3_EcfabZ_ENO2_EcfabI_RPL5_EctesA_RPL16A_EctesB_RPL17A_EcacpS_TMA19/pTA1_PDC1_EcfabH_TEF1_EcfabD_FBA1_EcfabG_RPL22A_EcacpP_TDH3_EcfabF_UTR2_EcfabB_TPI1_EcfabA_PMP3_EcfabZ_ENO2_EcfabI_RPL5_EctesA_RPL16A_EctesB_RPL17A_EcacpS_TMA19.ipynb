{
 "cells": [
  {
   "cell_type": "markdown",
   "id": "996f39fe",
   "metadata": {
    "lines_to_next_cell": 0
   },
   "source": [
    "# [![logo](logo.png)](https://github.com/BjornFJohansson/ypkpathway#-ypkpathway) pTA1_PDC1_EcfabH_TEF1_EcfabD_FBA1_EcfabG_RPL22A_EcacpP_TDH3_EcfabF_UTR2_EcfabB_TPI1_EcfabA_PMP3_EcfabZ_ENO2_EcfabI_RPL5_EctesA_RPL16A_EctesB_RPL17A_EcacpS_TMA19\n",
    "\n",
    "Assembly of 12 transcriptional units\n",
    "(single gene expression) vectors into a pathway.\n",
    "\n",
    "Jupyter notebooks describing the single gene expression vectors are linked\n",
    "at the end of this document.\n",
    "Specific primers needed are also listed.\n",
    "\n",
    "![pathway with N genes](pw.png \"pathway with N genes\")"
   ]
  },
  {
   "cell_type": "code",
   "execution_count": 1,
   "id": "8e63b74f",
   "metadata": {
    "execution": {
     "iopub.execute_input": "2023-02-04T08:01:39.481098Z",
     "iopub.status.busy": "2023-02-04T08:01:39.480803Z",
     "iopub.status.idle": "2023-02-04T08:01:39.873229Z",
     "shell.execute_reply": "2023-02-04T08:01:39.872262Z"
    }
   },
   "outputs": [],
   "source": [
    "from pydna.parsers import parse_primers\n",
    "from pydna.readers import read\n",
    "from pydna.amplify import pcr\n",
    "from pydna.assembly import Assembly\n",
    "from IPython.display import display\n",
    "from IPython.display import Markdown\n",
    "from pathlib import Path"
   ]
  },
  {
   "cell_type": "markdown",
   "id": "85a6ccad",
   "metadata": {},
   "source": [
    "The first cassette in the pathway is amplified with standard\n",
    "primers 577 and 778, the last with\n",
    "1123 and 578 and all others with 1123 and 778.\n",
    "Standard primers are listed [here](standard_primers.fasta)."
   ]
  },
  {
   "cell_type": "code",
   "execution_count": 2,
   "id": "0e683fb3",
   "metadata": {
    "execution": {
     "iopub.execute_input": "2023-02-04T08:01:39.878677Z",
     "iopub.status.busy": "2023-02-04T08:01:39.877803Z",
     "iopub.status.idle": "2023-02-04T08:01:39.893679Z",
     "shell.execute_reply": "2023-02-04T08:01:39.893029Z"
    }
   },
   "outputs": [],
   "source": [
    "p = {x.name: x for x in parse_primers(\"standard_primers.fasta\")}"
   ]
  },
  {
   "cell_type": "markdown",
   "id": "b68eee6f",
   "metadata": {},
   "source": [
    "Restriction enzymes are imported from the Biopython package."
   ]
  },
  {
   "cell_type": "code",
   "execution_count": 3,
   "id": "5c45d93b",
   "metadata": {
    "execution": {
     "iopub.execute_input": "2023-02-04T08:01:39.897578Z",
     "iopub.status.busy": "2023-02-04T08:01:39.897292Z",
     "iopub.status.idle": "2023-02-04T08:01:39.904282Z",
     "shell.execute_reply": "2023-02-04T08:01:39.902047Z"
    }
   },
   "outputs": [],
   "source": [
    "from Bio.Restriction import FspAI, NotI, PacI"
   ]
  },
  {
   "cell_type": "markdown",
   "id": "87a9bfb6",
   "metadata": {},
   "source": [
    "The backbone vector is linearized by digestion\n",
    "with [FspAI](https://www.google.com/search?q=FspAI)."
   ]
  },
  {
   "cell_type": "code",
   "execution_count": 4,
   "id": "a1a5edca",
   "metadata": {
    "execution": {
     "iopub.execute_input": "2023-02-04T08:01:39.908754Z",
     "iopub.status.busy": "2023-02-04T08:01:39.908486Z",
     "iopub.status.idle": "2023-02-04T08:01:39.920392Z",
     "shell.execute_reply": "2023-02-04T08:01:39.919536Z"
    }
   },
   "outputs": [],
   "source": [
    "backbone = read(\"pTA1.gb\")"
   ]
  },
  {
   "cell_type": "markdown",
   "id": "3b28e6f5",
   "metadata": {},
   "source": [
    "The cassette__pcr_products variable holds the list of expression\n",
    "cassette PCR products fragments to be assembled."
   ]
  },
  {
   "cell_type": "code",
   "execution_count": 5,
   "id": "fb2672b9",
   "metadata": {
    "execution": {
     "iopub.execute_input": "2023-02-04T08:01:39.924834Z",
     "iopub.status.busy": "2023-02-04T08:01:39.924534Z",
     "iopub.status.idle": "2023-02-04T08:01:39.929452Z",
     "shell.execute_reply": "2023-02-04T08:01:39.928664Z"
    }
   },
   "outputs": [],
   "source": [
    "cassette_pcr_products = []"
   ]
  },
  {
   "cell_type": "markdown",
   "id": "13308b98",
   "metadata": {},
   "source": [
    "The expression cassettes comes from a series of single gene expression\n",
    "vectors held in the template_vectors list."
   ]
  },
  {
   "cell_type": "code",
   "execution_count": 6,
   "id": "b48c9b0b",
   "metadata": {
    "execution": {
     "iopub.execute_input": "2023-02-04T08:01:39.932366Z",
     "iopub.status.busy": "2023-02-04T08:01:39.932058Z",
     "iopub.status.idle": "2023-02-04T08:01:39.936431Z",
     "shell.execute_reply": "2023-02-04T08:01:39.935253Z"
    },
    "lines_to_next_cell": 0
   },
   "outputs": [],
   "source": [
    "cassette_vectors = (\"\"\"\n",
    "pYPK0_PDC1_EcfabH_TEF1.gb\n",
    "pYPK0_TEF1_EcfabD_FBA1.gb\n",
    "pYPK0_FBA1_EcfabG_RPL22A.gb\n",
    "pYPK0_RPL22A_EcacpP_TDH3.gb\n",
    "pYPK0_TDH3_EcfabF_UTR2.gb\n",
    "pYPK0_UTR2_EcfabB_TPI1.gb\n",
    "pYPK0_TPI1_EcfabA_PMP3.gb\n",
    "pYPK0_PMP3_EcfabZ_ENO2.gb\n",
    "pYPK0_ENO2_EcfabI_RPL5.gb\n",
    "pYPK0_RPL5_EctesA_RPL16A.gb\n",
    "pYPK0_RPL16A_EctesB_RPL17A.gb\n",
    "pYPK0_RPL17A_EcacpS_TMA19.gb\n",
    "\"\"\").split()"
   ]
  },
  {
   "cell_type": "code",
   "execution_count": 7,
   "id": "714585c0",
   "metadata": {
    "execution": {
     "iopub.execute_input": "2023-02-04T08:01:39.943506Z",
     "iopub.status.busy": "2023-02-04T08:01:39.942982Z",
     "iopub.status.idle": "2023-02-04T08:01:39.954689Z",
     "shell.execute_reply": "2023-02-04T08:01:39.953856Z"
    },
    "lines_to_next_cell": 0
   },
   "outputs": [
    {
     "data": {
      "text/plain": [
       "['pYPK0_PDC1_EcfabH_TEF1.gb',\n",
       " 'pYPK0_TEF1_EcfabD_FBA1.gb',\n",
       " 'pYPK0_FBA1_EcfabG_RPL22A.gb',\n",
       " 'pYPK0_RPL22A_EcacpP_TDH3.gb',\n",
       " 'pYPK0_TDH3_EcfabF_UTR2.gb',\n",
       " 'pYPK0_UTR2_EcfabB_TPI1.gb',\n",
       " 'pYPK0_TPI1_EcfabA_PMP3.gb',\n",
       " 'pYPK0_PMP3_EcfabZ_ENO2.gb',\n",
       " 'pYPK0_ENO2_EcfabI_RPL5.gb',\n",
       " 'pYPK0_RPL5_EctesA_RPL16A.gb',\n",
       " 'pYPK0_RPL16A_EctesB_RPL17A.gb',\n",
       " 'pYPK0_RPL17A_EcacpS_TMA19.gb']"
      ]
     },
     "execution_count": 7,
     "metadata": {},
     "output_type": "execute_result"
    }
   ],
   "source": [
    "cassette_vectors"
   ]
  },
  {
   "cell_type": "code",
   "execution_count": 8,
   "id": "ce8b0d1e",
   "metadata": {
    "execution": {
     "iopub.execute_input": "2023-02-04T08:01:39.958157Z",
     "iopub.status.busy": "2023-02-04T08:01:39.957858Z",
     "iopub.status.idle": "2023-02-04T08:01:40.070651Z",
     "shell.execute_reply": "2023-02-04T08:01:40.069883Z"
    },
    "lines_to_next_cell": 0
   },
   "outputs": [],
   "source": [
    "template_vectors = [read(v) for v in cassette_vectors]"
   ]
  },
  {
   "cell_type": "code",
   "execution_count": 9,
   "id": "df297406",
   "metadata": {
    "execution": {
     "iopub.execute_input": "2023-02-04T08:01:40.073365Z",
     "iopub.status.busy": "2023-02-04T08:01:40.073151Z",
     "iopub.status.idle": "2023-02-04T08:01:40.095520Z",
     "shell.execute_reply": "2023-02-04T08:01:40.094909Z"
    },
    "lines_to_next_cell": 0
   },
   "outputs": [
    {
     "data": {
      "text/html": [
       "<a href='pYPK0_PDC1_EcfabH_TEF1.gb' target='_blank'>pYPK0_PDC1_EcfabH_TEF1.gb</a><br>"
      ],
      "text/plain": [
       "File(id)(o8280)"
      ]
     },
     "metadata": {},
     "output_type": "display_data"
    },
    {
     "data": {
      "text/html": [
       "<a href='pYPK0_TEF1_EcfabD_FBA1.gb' target='_blank'>pYPK0_TEF1_EcfabD_FBA1.gb</a><br>"
      ],
      "text/plain": [
       "File(id)(o7931)"
      ]
     },
     "metadata": {},
     "output_type": "display_data"
    },
    {
     "data": {
      "text/html": [
       "<a href='pYPK0_FBA1_EcfabG_RPL22A.gb' target='_blank'>pYPK0_FBA1_EcfabG_RPL22A.gb</a><br>"
      ],
      "text/plain": [
       "File(id)(o7583)"
      ]
     },
     "metadata": {},
     "output_type": "display_data"
    },
    {
     "data": {
      "text/html": [
       "<a href='pYPK0_RPL22A_EcacpP_TDH3.gb' target='_blank'>pYPK0_RPL22A_EcacpP_TDH3.gb</a><br>"
      ],
      "text/plain": [
       "File(id)(o7153)"
      ]
     },
     "metadata": {},
     "output_type": "display_data"
    },
    {
     "data": {
      "text/html": [
       "<a href='pYPK0_TDH3_EcfabF_UTR2.gb' target='_blank'>pYPK0_TDH3_EcfabF_UTR2.gb</a><br>"
      ],
      "text/plain": [
       "File(id)(o8352)"
      ]
     },
     "metadata": {},
     "output_type": "display_data"
    },
    {
     "data": {
      "text/html": [
       "<a href='pYPK0_UTR2_EcfabB_TPI1.gb' target='_blank'>pYPK0_UTR2_EcfabB_TPI1.gb</a><br>"
      ],
      "text/plain": [
       "File(id)(o8215)"
      ]
     },
     "metadata": {},
     "output_type": "display_data"
    },
    {
     "data": {
      "text/html": [
       "<a href='pYPK0_TPI1_EcfabA_PMP3.gb' target='_blank'>pYPK0_TPI1_EcfabA_PMP3.gb</a><br>"
      ],
      "text/plain": [
       "File(id)(o7649)"
      ]
     },
     "metadata": {},
     "output_type": "display_data"
    },
    {
     "data": {
      "text/html": [
       "<a href='pYPK0_PMP3_EcfabZ_ENO2.gb' target='_blank'>pYPK0_PMP3_EcfabZ_ENO2.gb</a><br>"
      ],
      "text/plain": [
       "File(id)(o7524)"
      ]
     },
     "metadata": {},
     "output_type": "display_data"
    },
    {
     "data": {
      "text/html": [
       "<a href='pYPK0_ENO2_EcfabI_RPL5.gb' target='_blank'>pYPK0_ENO2_EcfabI_RPL5.gb</a><br>"
      ],
      "text/plain": [
       "File(id)(o7602)"
      ]
     },
     "metadata": {},
     "output_type": "display_data"
    },
    {
     "data": {
      "text/html": [
       "<a href='pYPK0_RPL5_EctesA_RPL16A.gb' target='_blank'>pYPK0_RPL5_EctesA_RPL16A.gb</a><br>"
      ],
      "text/plain": [
       "File(id)(o7362)"
      ]
     },
     "metadata": {},
     "output_type": "display_data"
    },
    {
     "data": {
      "text/html": [
       "<a href='pYPK0_RPL16A_EctesB_RPL17A.gb' target='_blank'>pYPK0_RPL16A_EctesB_RPL17A.gb</a><br>"
      ],
      "text/plain": [
       "File(id)(o7763)"
      ]
     },
     "metadata": {},
     "output_type": "display_data"
    },
    {
     "data": {
      "text/html": [
       "<a href='pYPK0_RPL17A_EcacpS_TMA19.gb' target='_blank'>pYPK0_RPL17A_EcacpS_TMA19.gb</a><br>"
      ],
      "text/plain": [
       "File(id)(o7245)"
      ]
     },
     "metadata": {},
     "output_type": "display_data"
    }
   ],
   "source": [
    "for tv in template_vectors:\n",
    "    display(tv)"
   ]
  },
  {
   "cell_type": "markdown",
   "id": "5e101e3d",
   "metadata": {},
   "source": [
    "The first cassette in the pathway.\n",
    "Suggested PCR conditions can be found at the end of this document."
   ]
  },
  {
   "cell_type": "code",
   "execution_count": 10,
   "id": "797033d5",
   "metadata": {
    "execution": {
     "iopub.execute_input": "2023-02-04T08:01:40.098096Z",
     "iopub.status.busy": "2023-02-04T08:01:40.097854Z",
     "iopub.status.idle": "2023-02-04T08:01:40.101122Z",
     "shell.execute_reply": "2023-02-04T08:01:40.100513Z"
    }
   },
   "outputs": [],
   "source": [
    "\n",
    "fp_first = p['577_crp585-557']\n",
    "fp = p['1123_New775']\n",
    "rp = p['778_tp_Eco32I_rev']\n",
    "rp_last = p['578_crp42-70']"
   ]
  },
  {
   "cell_type": "code",
   "execution_count": 11,
   "id": "b48fe047",
   "metadata": {
    "execution": {
     "iopub.execute_input": "2023-02-04T08:01:40.104338Z",
     "iopub.status.busy": "2023-02-04T08:01:40.103982Z",
     "iopub.status.idle": "2023-02-04T08:01:40.118940Z",
     "shell.execute_reply": "2023-02-04T08:01:40.118322Z"
    }
   },
   "outputs": [],
   "source": [
    "cassette_pcr_products.append(pcr(fp_first, rp, template_vectors[0]))"
   ]
  },
  {
   "cell_type": "markdown",
   "id": "60018779",
   "metadata": {},
   "source": [
    "Intermediary cassettes"
   ]
  },
  {
   "cell_type": "code",
   "execution_count": 12,
   "id": "6f2cfa82",
   "metadata": {
    "execution": {
     "iopub.execute_input": "2023-02-04T08:01:40.123558Z",
     "iopub.status.busy": "2023-02-04T08:01:40.122925Z",
     "iopub.status.idle": "2023-02-04T08:01:40.254754Z",
     "shell.execute_reply": "2023-02-04T08:01:40.253257Z"
    }
   },
   "outputs": [],
   "source": [
    "cassette_pcr_products.extend(pcr(fp, rp, v)\n",
    "                             for v in template_vectors[1:-1])"
   ]
  },
  {
   "cell_type": "markdown",
   "id": "6aeed457",
   "metadata": {},
   "source": [
    "The last cassette in the pathway."
   ]
  },
  {
   "cell_type": "code",
   "execution_count": 13,
   "id": "398c6638",
   "metadata": {
    "execution": {
     "iopub.execute_input": "2023-02-04T08:01:40.258187Z",
     "iopub.status.busy": "2023-02-04T08:01:40.257627Z",
     "iopub.status.idle": "2023-02-04T08:01:40.275897Z",
     "shell.execute_reply": "2023-02-04T08:01:40.275296Z"
    }
   },
   "outputs": [],
   "source": [
    "cassette_pcr_products.append(pcr(fp, rp_last, template_vectors[-1]))"
   ]
  },
  {
   "cell_type": "markdown",
   "id": "875d03b4",
   "metadata": {},
   "source": [
    "The cassettes are given names based on the tu cassette"
   ]
  },
  {
   "cell_type": "code",
   "execution_count": 14,
   "id": "2a1d34fd",
   "metadata": {
    "execution": {
     "iopub.execute_input": "2023-02-04T08:01:40.278920Z",
     "iopub.status.busy": "2023-02-04T08:01:40.278686Z",
     "iopub.status.idle": "2023-02-04T08:01:40.282466Z",
     "shell.execute_reply": "2023-02-04T08:01:40.281842Z"
    }
   },
   "outputs": [
    {
     "name": "stdout",
     "output_type": "stream",
     "text": [
      "PDC1_EcfabH_TEF1\n",
      "TEF1_EcfabD_FBA1\n",
      "FBA1_EcfabG_RPL22A\n",
      "RPL22A_EcacpP_TDH3\n",
      "TDH3_EcfabF_UTR2\n",
      "UTR2_EcfabB_TPI1\n",
      "TPI1_EcfabA_PMP3\n",
      "PMP3_EcfabZ_ENO2\n",
      "ENO2_EcfabI_RPL5\n",
      "RPL5_EctesA_RPL16A\n",
      "RPL16A_EctesB_RPL17A\n",
      "RPL17A_EcacpS_TMA19\n"
     ]
    }
   ],
   "source": [
    "for cp, ve in zip(cassette_pcr_products, cassette_vectors):\n",
    "    cp.name = ve[:-3].split(\"_\", maxsplit=1)[1]\n",
    "    print(cp.name)"
   ]
  },
  {
   "cell_type": "markdown",
   "id": "21325f0c",
   "metadata": {},
   "source": [
    "Cassettes and linear plasmid backbone are joined by homologous recombination"
   ]
  },
  {
   "cell_type": "code",
   "execution_count": 15,
   "id": "eaf24186",
   "metadata": {
    "execution": {
     "iopub.execute_input": "2023-02-04T08:01:40.287904Z",
     "iopub.status.busy": "2023-02-04T08:01:40.286919Z",
     "iopub.status.idle": "2023-02-04T08:01:46.321282Z",
     "shell.execute_reply": "2023-02-04T08:01:46.320670Z"
    }
   },
   "outputs": [
    {
     "data": {
      "text/plain": [
       "Assembly\n",
       "fragments..: 6175bp 2780bp 2282bp 1934bp 1504bp 2703bp 2566bp 2000bp 1875bp 1953bp 1713bp 2114bp 1878bp\n",
       "limit(bp)..: 110\n",
       "G.nodes....: 26\n",
       "algorithm..: common_sub_strings"
      ]
     },
     "execution_count": 15,
     "metadata": {},
     "output_type": "execute_result"
    }
   ],
   "source": [
    "asm = Assembly([backbone.linearize(FspAI)] + cassette_pcr_products,\n",
    "               limit=167-47-10)\n",
    "asm"
   ]
  },
  {
   "cell_type": "markdown",
   "id": "cfe7f467",
   "metadata": {},
   "source": [
    "There should normally be two candidates of equal size.\n",
    "These sequences should be identical."
   ]
  },
  {
   "cell_type": "code",
   "execution_count": 16,
   "id": "d4d476b3",
   "metadata": {
    "execution": {
     "iopub.execute_input": "2023-02-04T08:01:46.324667Z",
     "iopub.status.busy": "2023-02-04T08:01:46.324149Z",
     "iopub.status.idle": "2023-02-04T08:01:46.584340Z",
     "shell.execute_reply": "2023-02-04T08:01:46.583806Z"
    },
    "lines_to_next_cell": 0
   },
   "outputs": [
    {
     "data": {
      "text/plain": [
       "[Contig(o24164), Contig(o24164)]"
      ]
     },
     "execution_count": 16,
     "metadata": {},
     "output_type": "execute_result"
    }
   ],
   "source": [
    "candidates = asm.assemble_circular()\n",
    "candidates"
   ]
  },
  {
   "cell_type": "code",
   "execution_count": 17,
   "id": "f3ef5439",
   "metadata": {
    "execution": {
     "iopub.execute_input": "2023-02-04T08:01:46.587099Z",
     "iopub.status.busy": "2023-02-04T08:01:46.586872Z",
     "iopub.status.idle": "2023-02-04T08:01:46.589757Z",
     "shell.execute_reply": "2023-02-04T08:01:46.589240Z"
    },
    "lines_to_next_cell": 0
   },
   "outputs": [],
   "source": [
    "candidate, *rest = candidates"
   ]
  },
  {
   "cell_type": "code",
   "execution_count": 18,
   "id": "62853b2e",
   "metadata": {
    "execution": {
     "iopub.execute_input": "2023-02-04T08:01:46.594456Z",
     "iopub.status.busy": "2023-02-04T08:01:46.593573Z",
     "iopub.status.idle": "2023-02-04T08:01:46.634165Z",
     "shell.execute_reply": "2023-02-04T08:01:46.633577Z"
    },
    "lines_to_next_cell": 0
   },
   "outputs": [
    {
     "data": {
      "text/plain": [
       "True"
      ]
     },
     "execution_count": 18,
     "metadata": {},
     "output_type": "execute_result"
    }
   ],
   "source": [
    "candidate.cseguid() == rest[0].cseguid()"
   ]
  },
  {
   "cell_type": "markdown",
   "id": "1877db9b",
   "metadata": {},
   "source": [
    "This assembly figure below shows how the fragments came together."
   ]
  },
  {
   "cell_type": "code",
   "execution_count": 19,
   "id": "f788a2c0",
   "metadata": {
    "execution": {
     "iopub.execute_input": "2023-02-04T08:01:46.637320Z",
     "iopub.status.busy": "2023-02-04T08:01:46.637114Z",
     "iopub.status.idle": "2023-02-04T08:01:46.641552Z",
     "shell.execute_reply": "2023-02-04T08:01:46.641032Z"
    }
   },
   "outputs": [
    {
     "data": {
      "text/plain": [
       " -|pTA1_lin|124\n",
       "|           \\/\n",
       "|           /\\\n",
       "|           124|PDC1_EcfabH_TEF1|593\n",
       "|                                \\/\n",
       "|                                /\\\n",
       "|                                593|TEF1_EcfabD_FBA1|644\n",
       "|                                                     \\/\n",
       "|                                                     /\\\n",
       "|                                                     644|FBA1_EcfabG_RPL22A|440\n",
       "|                                                                            \\/\n",
       "|                                                                            /\\\n",
       "|                                                                            440|RPL22A_EcacpP_TDH3|712\n",
       "|                                                                                                   \\/\n",
       "|                                                                                                   /\\\n",
       "|                                                                                                   712|TDH3_EcfabF_UTR2|634\n",
       "|                                                                                                                        \\/\n",
       "|                                                                                                                        /\\\n",
       "|                                                                                                                        634|UTR2_EcfabB_TPI1|596\n",
       "|                                                                                                                                             \\/\n",
       "|                                                                                                                                             /\\\n",
       "|                                                                                                                                             596|TPI1_EcfabA_PMP3|770\n",
       "|                                                                                                                                                                  \\/\n",
       "|                                                                                                                                                                  /\\\n",
       "|                                                                                                                                                                  770|PMP3_EcfabZ_ENO2|534\n",
       "|                                                                                                                                                                                       \\/\n",
       "|                                                                                                                                                                                       /\\\n",
       "|                                                                                                                                                                                       534|ENO2_EcfabI_RPL5|515\n",
       "|                                                                                                                                                                                                            \\/\n",
       "|                                                                                                                                                                                                            /\\\n",
       "|                                                                                                                                                                                                            515|RPL5_EctesA_RPL16A|456\n",
       "|                                                                                                                                                                                                                                   \\/\n",
       "|                                                                                                                                                                                                                                   /\\\n",
       "|                                                                                                                                                                                                                                   456|RPL16A_EctesB_RPL17A|682\n",
       "|                                                                                                                                                                                                                                                            \\/\n",
       "|                                                                                                                                                                                                                                                            /\\\n",
       "|                                                                                                                                                                                                                                                            682|RPL17A_EcacpS_TMA19|242\n",
       "|                                                                                                                                                                                                                                                                                    \\/\n",
       "|                                                                                                                                                                                                                                                                                    /\\\n",
       "|                                                                                                                                                                                                                                                                                    242-\n",
       "|                                                                                                                                                                                                                                                                                       |\n",
       " ---------------------------------------------------------------------------------------------------------------------------------------------------------------------------------------------------------------------------------------------------------------------------------------"
      ]
     },
     "execution_count": 19,
     "metadata": {},
     "output_type": "execute_result"
    }
   ],
   "source": [
    "candidate.figure()"
   ]
  },
  {
   "cell_type": "markdown",
   "id": "893e3bfe",
   "metadata": {},
   "source": [
    "The candidate vector is synchronized to the 577 primer. This means that\n",
    "the plasmid origin is shifted so that it matches the backbone vector."
   ]
  },
  {
   "cell_type": "code",
   "execution_count": 20,
   "id": "d73e3898",
   "metadata": {
    "execution": {
     "iopub.execute_input": "2023-02-04T08:01:46.645357Z",
     "iopub.status.busy": "2023-02-04T08:01:46.644829Z",
     "iopub.status.idle": "2023-02-04T08:01:47.617605Z",
     "shell.execute_reply": "2023-02-04T08:01:47.616896Z"
    }
   },
   "outputs": [],
   "source": [
    "pw = candidate.synced(fp_first)"
   ]
  },
  {
   "cell_type": "markdown",
   "id": "2755c192",
   "metadata": {},
   "source": [
    "The cseguid checksum for the resulting plasmid is calculated for future\n",
    "reference.\n",
    "The [cseguid checksum](\n",
    "http://pydna.readthedocs.org/en/latest/pydna.html#pydna.utils.cseguid)\n",
    "uniquely identifies a circular double stranded sequence."
   ]
  },
  {
   "cell_type": "code",
   "execution_count": 21,
   "id": "ca2bac3d",
   "metadata": {
    "execution": {
     "iopub.execute_input": "2023-02-04T08:01:47.621016Z",
     "iopub.status.busy": "2023-02-04T08:01:47.620786Z",
     "iopub.status.idle": "2023-02-04T08:01:47.644747Z",
     "shell.execute_reply": "2023-02-04T08:01:47.644155Z"
    }
   },
   "outputs": [
    {
     "data": {
      "text/plain": [
       "'IEz8MnXcVYI9rdrAwzDl5bE-gig'"
      ]
     },
     "execution_count": 21,
     "metadata": {},
     "output_type": "execute_result"
    }
   ],
   "source": [
    "pw.cseguid()"
   ]
  },
  {
   "cell_type": "markdown",
   "id": "f6a43d5c",
   "metadata": {},
   "source": [
    "The file is given a name based on the sequence of expressed genes."
   ]
  },
  {
   "cell_type": "code",
   "execution_count": 22,
   "id": "582edd9b",
   "metadata": {
    "execution": {
     "iopub.execute_input": "2023-02-04T08:01:47.647771Z",
     "iopub.status.busy": "2023-02-04T08:01:47.647232Z",
     "iopub.status.idle": "2023-02-04T08:01:47.650291Z",
     "shell.execute_reply": "2023-02-04T08:01:47.649814Z"
    }
   },
   "outputs": [],
   "source": [
    "pw.locus = \"pw\"\n",
    "pw.definition = \"pTA1_PDC1_EcfabH_TEF1_EcfabD_FBA1_EcfabG_RPL22A_EcacpP_TDH3_EcfabF_UTR2_EcfabB_TPI1_EcfabA_PMP3_EcfabZ_ENO2_EcfabI_RPL5_EctesA_RPL16A_EctesB_RPL17A_EcacpS_TMA19\""
   ]
  },
  {
   "cell_type": "markdown",
   "id": "15a48842",
   "metadata": {},
   "source": [
    "Sequence stamped with cseguid checksum.\n",
    "This can be used to verify the integrity of the sequence file."
   ]
  },
  {
   "cell_type": "code",
   "execution_count": 23,
   "id": "c92a1947",
   "metadata": {
    "execution": {
     "iopub.execute_input": "2023-02-04T08:01:47.653375Z",
     "iopub.status.busy": "2023-02-04T08:01:47.652995Z",
     "iopub.status.idle": "2023-02-04T08:01:47.679085Z",
     "shell.execute_reply": "2023-02-04T08:01:47.677468Z"
    }
   },
   "outputs": [
    {
     "data": {
      "text/plain": [
       "IEz8MnXcVYI9rdrAwzDl5bE-gig"
      ]
     },
     "execution_count": 23,
     "metadata": {},
     "output_type": "execute_result"
    }
   ],
   "source": [
    "pw.stamp(\"cSEGUID\")"
   ]
  },
  {
   "cell_type": "markdown",
   "id": "6db42465",
   "metadata": {},
   "source": [
    "Write sequence to a local file."
   ]
  },
  {
   "cell_type": "code",
   "execution_count": 24,
   "id": "162320b5",
   "metadata": {
    "execution": {
     "iopub.execute_input": "2023-02-04T08:01:47.682648Z",
     "iopub.status.busy": "2023-02-04T08:01:47.682232Z",
     "iopub.status.idle": "2023-02-04T08:01:47.694794Z",
     "shell.execute_reply": "2023-02-04T08:01:47.694100Z"
    }
   },
   "outputs": [
    {
     "name": "stderr",
     "output_type": "stream",
     "text": [
      "/home/bjorn/anaconda3/envs/bjorn311/lib/python3.11/site-packages/Bio/SeqIO/InsdcIO.py:555: BiopythonWarning: Annotation 'pTA1_PDC1_EcfabH_TEF1_EcfabD_FBA1_EcfabG_RPL22A_EcacpP_TDH3_EcfabF_UTR2_EcfabB_TPI1_EcfabA_PMP3_EcfabZ_ENO2_EcfabI_RPL5_EctesA_RPL16A_EctesB_RPL17A_EcacpS_TMA19.' too long\n",
      "  warnings.warn(f\"Annotation {text!r} too long\", BiopythonWarning)\n"
     ]
    },
    {
     "data": {
      "text/html": [
       "<font face=monospace><a href='pTA1_PDC1_EcfabH_TEF1_EcfabD_FBA1_EcfabG_RPL22A_EcacpP_TDH3_EcfabF_UTR2_EcfabB_TPI1_EcfabA_PMP3_EcfabZ_ENO2_EcfabI_RPL5_EctesA_RPL16A_EctesB_RPL17A_EcacpS_TMA19.gb' target='_blank'>pTA1_PDC1_EcfabH_TEF1_EcfabD_FBA1_EcfabG_RPL22A_EcacpP_TDH3_EcfabF_UTR2_EcfabB_TPI1_EcfabA_PMP3_EcfabZ_ENO2_EcfabI_RPL5_EctesA_RPL16A_EctesB_RPL17A_EcacpS_TMA19.gb</a></font><br>"
      ]
     },
     "metadata": {},
     "output_type": "display_data"
    }
   ],
   "source": [
    "pw.write(\"pTA1_PDC1_EcfabH_TEF1_EcfabD_FBA1_EcfabG_RPL22A_EcacpP_TDH3_EcfabF_UTR2_EcfabB_TPI1_EcfabA_PMP3_EcfabZ_ENO2_EcfabI_RPL5_EctesA_RPL16A_EctesB_RPL17A_EcacpS_TMA19.gb\")"
   ]
  },
  {
   "cell_type": "markdown",
   "id": "b9d90afa",
   "metadata": {},
   "source": [
    "The pathway can be extended by digestion with either NotI or PacI or both\n",
    "provided that the enzymes cut once in the final pathway sequence."
   ]
  },
  {
   "cell_type": "code",
   "execution_count": 25,
   "id": "40ace970",
   "metadata": {
    "execution": {
     "iopub.execute_input": "2023-02-04T08:01:47.698462Z",
     "iopub.status.busy": "2023-02-04T08:01:47.698066Z",
     "iopub.status.idle": "2023-02-04T08:01:47.761310Z",
     "shell.execute_reply": "2023-02-04T08:01:47.760634Z"
    }
   },
   "outputs": [
    {
     "name": "stdout",
     "output_type": "stream",
     "text": [
      "NotI cuts 1 time(s) and PacI cuts 2 time(s) in the final pathway.\n"
     ]
    }
   ],
   "source": [
    "print(f\"NotI cuts {len(pw.cut(NotI))} time(s) and PacI cuts \"\n",
    "      f\"{len(pw.cut(PacI))} time(s) in the final pathway.\")"
   ]
  },
  {
   "cell_type": "markdown",
   "id": "9d689450",
   "metadata": {
    "lines_to_next_cell": 0
   },
   "source": [
    "### Transcriptional unit (single gene expression) vectors needed."
   ]
  },
  {
   "cell_type": "code",
   "execution_count": 26,
   "id": "fffe824e",
   "metadata": {
    "execution": {
     "iopub.execute_input": "2023-02-04T08:01:47.764972Z",
     "iopub.status.busy": "2023-02-04T08:01:47.764181Z",
     "iopub.status.idle": "2023-02-04T08:01:47.784024Z",
     "shell.execute_reply": "2023-02-04T08:01:47.783470Z"
    }
   },
   "outputs": [
    {
     "data": {
      "text/markdown": [
       "[pYPK0_PDC1_EcfabH_TEF1.ipynb](pYPK0_PDC1_EcfabH_TEF1.ipynb)"
      ],
      "text/plain": [
       "<IPython.core.display.Markdown object>"
      ]
     },
     "metadata": {},
     "output_type": "display_data"
    },
    {
     "data": {
      "text/markdown": [
       "[pYPK0_TEF1_EcfabD_FBA1.ipynb](pYPK0_TEF1_EcfabD_FBA1.ipynb)"
      ],
      "text/plain": [
       "<IPython.core.display.Markdown object>"
      ]
     },
     "metadata": {},
     "output_type": "display_data"
    },
    {
     "data": {
      "text/markdown": [
       "[pYPK0_FBA1_EcfabG_RPL22A.ipynb](pYPK0_FBA1_EcfabG_RPL22A.ipynb)"
      ],
      "text/plain": [
       "<IPython.core.display.Markdown object>"
      ]
     },
     "metadata": {},
     "output_type": "display_data"
    },
    {
     "data": {
      "text/markdown": [
       "[pYPK0_RPL22A_EcacpP_TDH3.ipynb](pYPK0_RPL22A_EcacpP_TDH3.ipynb)"
      ],
      "text/plain": [
       "<IPython.core.display.Markdown object>"
      ]
     },
     "metadata": {},
     "output_type": "display_data"
    },
    {
     "data": {
      "text/markdown": [
       "[pYPK0_TDH3_EcfabF_UTR2.ipynb](pYPK0_TDH3_EcfabF_UTR2.ipynb)"
      ],
      "text/plain": [
       "<IPython.core.display.Markdown object>"
      ]
     },
     "metadata": {},
     "output_type": "display_data"
    },
    {
     "data": {
      "text/markdown": [
       "[pYPK0_UTR2_EcfabB_TPI1.ipynb](pYPK0_UTR2_EcfabB_TPI1.ipynb)"
      ],
      "text/plain": [
       "<IPython.core.display.Markdown object>"
      ]
     },
     "metadata": {},
     "output_type": "display_data"
    },
    {
     "data": {
      "text/markdown": [
       "[pYPK0_TPI1_EcfabA_PMP3.ipynb](pYPK0_TPI1_EcfabA_PMP3.ipynb)"
      ],
      "text/plain": [
       "<IPython.core.display.Markdown object>"
      ]
     },
     "metadata": {},
     "output_type": "display_data"
    },
    {
     "data": {
      "text/markdown": [
       "[pYPK0_PMP3_EcfabZ_ENO2.ipynb](pYPK0_PMP3_EcfabZ_ENO2.ipynb)"
      ],
      "text/plain": [
       "<IPython.core.display.Markdown object>"
      ]
     },
     "metadata": {},
     "output_type": "display_data"
    },
    {
     "data": {
      "text/markdown": [
       "[pYPK0_ENO2_EcfabI_RPL5.ipynb](pYPK0_ENO2_EcfabI_RPL5.ipynb)"
      ],
      "text/plain": [
       "<IPython.core.display.Markdown object>"
      ]
     },
     "metadata": {},
     "output_type": "display_data"
    },
    {
     "data": {
      "text/markdown": [
       "[pYPK0_RPL5_EctesA_RPL16A.ipynb](pYPK0_RPL5_EctesA_RPL16A.ipynb)"
      ],
      "text/plain": [
       "<IPython.core.display.Markdown object>"
      ]
     },
     "metadata": {},
     "output_type": "display_data"
    },
    {
     "data": {
      "text/markdown": [
       "[pYPK0_RPL16A_EctesB_RPL17A.ipynb](pYPK0_RPL16A_EctesB_RPL17A.ipynb)"
      ],
      "text/plain": [
       "<IPython.core.display.Markdown object>"
      ]
     },
     "metadata": {},
     "output_type": "display_data"
    },
    {
     "data": {
      "text/markdown": [
       "[pYPK0_RPL17A_EcacpS_TMA19.ipynb](pYPK0_RPL17A_EcacpS_TMA19.ipynb)"
      ],
      "text/plain": [
       "<IPython.core.display.Markdown object>"
      ]
     },
     "metadata": {},
     "output_type": "display_data"
    }
   ],
   "source": [
    "for cv in cassette_vectors:\n",
    "    cassette_vector = Path(cv).with_suffix('.ipynb')\n",
    "    display(Markdown(f\"[{cassette_vector}]({cassette_vector})\"))"
   ]
  },
  {
   "cell_type": "markdown",
   "id": "a5e65970",
   "metadata": {
    "lines_to_next_cell": 0
   },
   "source": [
    "### Suggested PCR conditions"
   ]
  },
  {
   "cell_type": "code",
   "execution_count": 27,
   "id": "dfa98f2d",
   "metadata": {
    "execution": {
     "iopub.execute_input": "2023-02-04T08:01:47.787052Z",
     "iopub.status.busy": "2023-02-04T08:01:47.786795Z",
     "iopub.status.idle": "2023-02-04T08:01:47.794941Z",
     "shell.execute_reply": "2023-02-04T08:01:47.793887Z"
    }
   },
   "outputs": [
    {
     "name": "stdout",
     "output_type": "stream",
     "text": [
      "\n",
      "\n",
      "\n",
      "\n",
      "\n",
      "product name: PDC1_EcfabH_TEF1\n",
      "forward primer 577_crp585-557\n",
      "reverse primer 778_tp_Eco32I_rev\n",
      "|95°C|95°C               |    |tmf:64.6\n",
      "|____|_____          72°C|72°C|tmr:53.9\n",
      "|3min|30s  \\ 55.5°C _____|____|45s/kb\n",
      "|    |      \\______/ 2:05|5min|GC 43%\n",
      "|    |       30s         |    |2780bp\n",
      "\n",
      "\n",
      "\n",
      "\n",
      "\n",
      "product name: TEF1_EcfabD_FBA1\n",
      "forward primer 1123_New775\n",
      "reverse primer 778_tp_Eco32I_rev\n",
      "|95°C|95°C               |    |tmf:70.4\n",
      "|____|_____          72°C|72°C|tmr:53.9\n",
      "|3min|30s  \\ 55.6°C _____|____|45s/kb\n",
      "|    |      \\______/ 1:42|5min|GC 44%\n",
      "|    |       30s         |    |2282bp\n",
      "\n",
      "\n",
      "\n",
      "\n",
      "\n",
      "product name: FBA1_EcfabG_RPL22A\n",
      "forward primer 1123_New775\n",
      "reverse primer 778_tp_Eco32I_rev\n",
      "|95°C|95°C               |    |tmf:70.4\n",
      "|____|_____          72°C|72°C|tmr:53.9\n",
      "|3min|30s  \\ 54.6°C _____|____|45s/kb\n",
      "|    |      \\______/ 1:27|5min|GC 40%\n",
      "|    |       30s         |    |1934bp\n",
      "\n",
      "\n",
      "\n",
      "\n",
      "\n",
      "product name: RPL22A_EcacpP_TDH3\n",
      "forward primer 1123_New775\n",
      "reverse primer 778_tp_Eco32I_rev\n",
      "|95°C|95°C               |    |tmf:70.4\n",
      "|____|_____          72°C|72°C|tmr:53.9\n",
      "|3min|30s  \\ 53.2°C _____|____|45s/kb\n",
      "|    |      \\______/ 1:07|5min|GC 36%\n",
      "|    |       30s         |    |1504bp\n",
      "\n",
      "\n",
      "\n",
      "\n",
      "\n",
      "product name: TDH3_EcfabF_UTR2\n",
      "forward primer 1123_New775\n",
      "reverse primer 778_tp_Eco32I_rev\n",
      "|95°C|95°C               |    |tmf:70.4\n",
      "|____|_____          72°C|72°C|tmr:53.9\n",
      "|3min|30s  \\ 55.8°C _____|____|45s/kb\n",
      "|    |      \\______/ 2:01|5min|GC 44%\n",
      "|    |       30s         |    |2703bp\n",
      "\n",
      "\n",
      "\n",
      "\n",
      "\n",
      "product name: UTR2_EcfabB_TPI1\n",
      "forward primer 1123_New775\n",
      "reverse primer 778_tp_Eco32I_rev\n",
      "|95°C|95°C               |    |tmf:70.4\n",
      "|____|_____          72°C|72°C|tmr:53.9\n",
      "|3min|30s  \\ 56.4°C _____|____|45s/kb\n",
      "|    |      \\______/ 1:55|5min|GC 46%\n",
      "|    |       30s         |    |2566bp\n",
      "\n",
      "\n",
      "\n",
      "\n",
      "\n",
      "product name: TPI1_EcfabA_PMP3\n",
      "forward primer 1123_New775\n",
      "reverse primer 778_tp_Eco32I_rev\n",
      "|95°C|95°C               |    |tmf:70.4\n",
      "|____|_____          72°C|72°C|tmr:53.9\n",
      "|3min|30s  \\ 55.5°C _____|____|45s/kb\n",
      "|    |      \\______/ 1:30|5min|GC 43%\n",
      "|    |       30s         |    |2000bp\n",
      "\n",
      "\n",
      "\n",
      "\n",
      "\n",
      "product name: PMP3_EcfabZ_ENO2\n",
      "forward primer 1123_New775\n",
      "reverse primer 778_tp_Eco32I_rev\n",
      "|95°C|95°C               |    |tmf:70.4\n",
      "|____|_____          72°C|72°C|tmr:53.9\n",
      "|3min|30s  \\ 55.2°C _____|____|45s/kb\n",
      "|    |      \\______/ 1:24|5min|GC 42%\n",
      "|    |       30s         |    |1875bp\n",
      "\n",
      "\n",
      "\n",
      "\n",
      "\n",
      "product name: ENO2_EcfabI_RPL5\n",
      "forward primer 1123_New775\n",
      "reverse primer 778_tp_Eco32I_rev\n",
      "|95°C|95°C               |    |tmf:70.4\n",
      "|____|_____          72°C|72°C|tmr:53.9\n",
      "|3min|30s  \\ 55.2°C _____|____|45s/kb\n",
      "|    |      \\______/ 1:27|5min|GC 42%\n",
      "|    |       30s         |    |1953bp\n",
      "\n",
      "\n",
      "\n",
      "\n",
      "\n",
      "product name: RPL5_EctesA_RPL16A\n",
      "forward primer 1123_New775\n",
      "reverse primer 778_tp_Eco32I_rev\n",
      "|95°C|95°C               |    |tmf:70.4\n",
      "|____|_____          72°C|72°C|tmr:53.9\n",
      "|3min|30s  \\ 55.5°C _____|____|45s/kb\n",
      "|    |      \\______/ 1:17|5min|GC 43%\n",
      "|    |       30s         |    |1713bp\n",
      "\n",
      "\n",
      "\n",
      "\n",
      "\n",
      "product name: RPL16A_EctesB_RPL17A\n",
      "forward primer 1123_New775\n",
      "reverse primer 778_tp_Eco32I_rev\n",
      "|95°C|95°C               |    |tmf:70.4\n",
      "|____|_____          72°C|72°C|tmr:53.9\n",
      "|3min|30s  \\ 55.9°C _____|____|45s/kb\n",
      "|    |      \\______/ 1:35|5min|GC 45%\n",
      "|    |       30s         |    |2114bp\n",
      "\n",
      "\n",
      "\n",
      "\n",
      "\n",
      "product name: RPL17A_EcacpS_TMA19\n",
      "forward primer 1123_New775\n",
      "reverse primer 578_crp42-70\n",
      "|95°C|95°C               |    |tmf:70.4\n",
      "|____|_____          72°C|72°C|tmr:65.0\n",
      "|3min|30s  \\ 57.8°C _____|____|45s/kb\n",
      "|    |      \\______/ 1:24|5min|GC 40%\n",
      "|    |       30s         |    |1878bp\n"
     ]
    }
   ],
   "source": [
    "for prd in cassette_pcr_products:\n",
    "    print(\"\\n\\n\\n\\n\")\n",
    "    print(\"product name:\", prd.name)\n",
    "    print(\"forward primer\", prd.forward_primer.name)\n",
    "    print(\"reverse primer\", prd.reverse_primer.name)\n",
    "    print(prd.program())"
   ]
  }
 ],
 "metadata": {
  "jupytext": {
   "main_language": "python",
   "text_representation": {
    "extension": ".py",
    "format_name": "percent",
    "format_version": "1.3",
    "jupytext_version": "1.14.0"
   }
  },
  "language_info": {
   "codemirror_mode": {
    "name": "ipython",
    "version": 3
   },
   "file_extension": ".py",
   "mimetype": "text/x-python",
   "name": "python",
   "nbconvert_exporter": "python",
   "pygments_lexer": "ipython3",
   "version": "3.11.0"
  }
 },
 "nbformat": 4,
 "nbformat_minor": 5
}
