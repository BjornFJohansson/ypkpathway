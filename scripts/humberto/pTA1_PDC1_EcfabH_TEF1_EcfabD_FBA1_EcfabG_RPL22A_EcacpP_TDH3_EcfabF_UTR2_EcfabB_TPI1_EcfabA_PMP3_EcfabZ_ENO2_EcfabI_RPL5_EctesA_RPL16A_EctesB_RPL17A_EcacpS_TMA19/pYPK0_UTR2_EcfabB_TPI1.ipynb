{
 "cells": [
  {
   "cell_type": "markdown",
   "id": "0f176e50",
   "metadata": {},
   "source": [
    "# [![logo](logo.png)](https://github.com/BjornFJohansson/ypkpathway#-ypkpathway) pYPK0_UTR2_EcfabB_TPI1\n",
    "\n",
    "Assembly of a [_Saccharomyces cerevisiae_](http://www.yeastgenome.org) transcriptional unit vector.\n",
    "\n",
    "Made from a linear vector fragment and three PCR products:\n",
    "\n",
    "- a linearized pYPK0 vector for maintenance in _S. cerevisiae_ or _E. coli_ (red dashed line in figure below)\n",
    "- a promoter PCR product from the `pYPKa_Z_UTR2` vector\n",
    "- a gene PCR product from the `pYPKa_A_EcfabB` vector\n",
    "- a terminator PCR product from the `pYPKa_E_TPI1` vector\n",
    "\n",
    "The four linear DNA fragments are joined by _in-vivo_ homologous recombination in a\n",
    "[_Saccharomyces cerevisiae_](http://wiki.yeastgenome.org/index.php/Commonly_used_strains) strain.\n",
    "\n",
    "![tu](tu.png \"tu\")\n",
    "\n",
    "A part of the [pydna](https://pypi.python.org/pypi/pydna/) package is imported in the code cell below."
   ]
  },
  {
   "cell_type": "code",
   "execution_count": 1,
   "id": "0d623b58",
   "metadata": {
    "execution": {
     "iopub.execute_input": "2023-02-04T07:58:04.811673Z",
     "iopub.status.busy": "2023-02-04T07:58:04.811156Z",
     "iopub.status.idle": "2023-02-04T07:58:05.221292Z",
     "shell.execute_reply": "2023-02-04T07:58:05.220614Z"
    }
   },
   "outputs": [],
   "source": [
    "from pydna.parsers import parse_primers\n",
    "from pydna.readers import read\n",
    "from pydna.amplify import pcr\n",
    "from pydna.assembly import Assembly"
   ]
  },
  {
   "cell_type": "markdown",
   "id": "dc5ca0dc",
   "metadata": {},
   "source": [
    "The Yeast Pathway Kit [standard primers](standard_primers.fasta) are read into a dictionary in the code cell below."
   ]
  },
  {
   "cell_type": "code",
   "execution_count": 2,
   "id": "9f90ccbd",
   "metadata": {
    "execution": {
     "iopub.execute_input": "2023-02-04T07:58:05.225058Z",
     "iopub.status.busy": "2023-02-04T07:58:05.224430Z",
     "iopub.status.idle": "2023-02-04T07:58:05.234111Z",
     "shell.execute_reply": "2023-02-04T07:58:05.233588Z"
    }
   },
   "outputs": [],
   "source": [
    "p = {x.name: x for x in parse_primers(\"standard_primers.fasta\")}"
   ]
  },
  {
   "cell_type": "markdown",
   "id": "9c0b8844",
   "metadata": {},
   "source": [
    "The backbone vector [pYPK0](pYPK0.gb) is read from a local file in the code cell below."
   ]
  },
  {
   "cell_type": "code",
   "execution_count": 3,
   "id": "d5a15437",
   "metadata": {
    "execution": {
     "iopub.execute_input": "2023-02-04T07:58:05.238076Z",
     "iopub.status.busy": "2023-02-04T07:58:05.237761Z",
     "iopub.status.idle": "2023-02-04T07:58:05.251654Z",
     "shell.execute_reply": "2023-02-04T07:58:05.251044Z"
    }
   },
   "outputs": [],
   "source": [
    "backbone = read(\"pYPK0.gb\")"
   ]
  },
  {
   "cell_type": "markdown",
   "id": "6514a3c1",
   "metadata": {},
   "source": [
    "The backbone vector is linearized by digestion with [MfeI](https://www.google.com/search?q=MfeI)."
   ]
  },
  {
   "cell_type": "code",
   "execution_count": 4,
   "id": "5e549a1e",
   "metadata": {
    "execution": {
     "iopub.execute_input": "2023-02-04T07:58:05.254841Z",
     "iopub.status.busy": "2023-02-04T07:58:05.254620Z",
     "iopub.status.idle": "2023-02-04T07:58:05.257661Z",
     "shell.execute_reply": "2023-02-04T07:58:05.257166Z"
    }
   },
   "outputs": [],
   "source": [
    "from Bio.Restriction import MfeI"
   ]
  },
  {
   "cell_type": "code",
   "execution_count": 5,
   "id": "d347f830",
   "metadata": {
    "execution": {
     "iopub.execute_input": "2023-02-04T07:58:05.260916Z",
     "iopub.status.busy": "2023-02-04T07:58:05.260541Z",
     "iopub.status.idle": "2023-02-04T07:58:05.269600Z",
     "shell.execute_reply": "2023-02-04T07:58:05.268793Z"
    }
   },
   "outputs": [],
   "source": [
    "linear_backbone = backbone.linearize(MfeI)"
   ]
  },
  {
   "cell_type": "markdown",
   "id": "4a1db38e",
   "metadata": {},
   "source": [
    "The pYPKa derived _E. coli_ plasmids containing\n",
    "- [promoter](pYPKa_Z_UTR2.gb)\n",
    "- [gene](pYPKa_A_EcfabB.gb)\n",
    "- [terminator](pYPKa_E_TPI1.gb)\n",
    "\n",
    "are read into three variables below."
   ]
  },
  {
   "cell_type": "code",
   "execution_count": 6,
   "id": "46c589b6",
   "metadata": {
    "execution": {
     "iopub.execute_input": "2023-02-04T07:58:05.272299Z",
     "iopub.status.busy": "2023-02-04T07:58:05.272027Z",
     "iopub.status.idle": "2023-02-04T07:58:05.291945Z",
     "shell.execute_reply": "2023-02-04T07:58:05.291338Z"
    }
   },
   "outputs": [],
   "source": [
    "promoter_template   = read(\"pYPKa_Z_UTR2.gb\")\n",
    "gene_template       = read(\"pYPKa_A_EcfabB.gb\")\n",
    "terminator_template = read(\"pYPKa_E_TPI1.gb\")"
   ]
  },
  {
   "cell_type": "markdown",
   "id": "e113eae6",
   "metadata": {
    "lines_to_next_cell": 0
   },
   "source": [
    "### PCR\n",
    "Three DNA fragments are PCR amplified using [standard primers](standard_primers.fasta).\n",
    "\n",
    "[Suggested PCR programs](#Suggested-PCR-programs) can be found at the end of this document."
   ]
  },
  {
   "cell_type": "code",
   "execution_count": 7,
   "id": "80e8e082",
   "metadata": {
    "execution": {
     "iopub.execute_input": "2023-02-04T07:58:05.294893Z",
     "iopub.status.busy": "2023-02-04T07:58:05.294664Z",
     "iopub.status.idle": "2023-02-04T07:58:05.297997Z",
     "shell.execute_reply": "2023-02-04T07:58:05.297523Z"
    }
   },
   "outputs": [],
   "source": [
    "\n",
    "fp_prom = p['577_crp585-557']\n",
    "rp_prom = p['567_pCAPsAjiIF']\n",
    "fp_gene = p['468_pCAPs_release_fw']\n",
    "rp_gene = p['467_pCAPs_release_re']\n",
    "fp_term = p['568_pCAPsAjiIR']\n",
    "rp_term = p['578_crp42-70']"
   ]
  },
  {
   "cell_type": "code",
   "execution_count": 8,
   "id": "4ec7f49d",
   "metadata": {
    "execution": {
     "iopub.execute_input": "2023-02-04T07:58:05.301687Z",
     "iopub.status.busy": "2023-02-04T07:58:05.301192Z",
     "iopub.status.idle": "2023-02-04T07:58:05.327611Z",
     "shell.execute_reply": "2023-02-04T07:58:05.327024Z"
    }
   },
   "outputs": [],
   "source": [
    "prom = pcr(fp_prom, rp_prom, promoter_template)\n",
    "gene = pcr(fp_gene, rp_gene, gene_template)\n",
    "term = pcr(fp_term, rp_term, terminator_template)"
   ]
  },
  {
   "cell_type": "code",
   "execution_count": 9,
   "id": "70ef8ead",
   "metadata": {
    "execution": {
     "iopub.execute_input": "2023-02-04T07:58:05.330189Z",
     "iopub.status.busy": "2023-02-04T07:58:05.329937Z",
     "iopub.status.idle": "2023-02-04T07:58:05.333800Z",
     "shell.execute_reply": "2023-02-04T07:58:05.333126Z"
    }
   },
   "outputs": [],
   "source": [
    "prom.name = \"pYPKa_Z_UTR2\"[8:]\n",
    "gene.name = \"pYPKa_A_EcfabB\"[8:]\n",
    "term.name = \"pYPKa_E_TPI1\"[8:]"
   ]
  },
  {
   "cell_type": "markdown",
   "id": "bd587bda",
   "metadata": {},
   "source": [
    "\n",
    "The fragments will be assembled by _in-vivo_ [homologous recombination](http://www.ncbi.nlm.nih.gov/pubmed/2828185):"
   ]
  },
  {
   "cell_type": "code",
   "execution_count": 10,
   "id": "4bf8bc30",
   "metadata": {
    "execution": {
     "iopub.execute_input": "2023-02-04T07:58:05.337454Z",
     "iopub.status.busy": "2023-02-04T07:58:05.336959Z",
     "iopub.status.idle": "2023-02-04T07:58:05.853029Z",
     "shell.execute_reply": "2023-02-04T07:58:05.852186Z"
    }
   },
   "outputs": [
    {
     "data": {
      "text/plain": [
       "Assembly\n",
       "fragments..: 5766bp 852bp 1310bp 922bp\n",
       "limit(bp)..: 31\n",
       "G.nodes....: 10\n",
       "algorithm..: common_sub_strings"
      ]
     },
     "execution_count": 10,
     "metadata": {},
     "output_type": "execute_result"
    }
   ],
   "source": [
    "asm = Assembly((linear_backbone, prom, gene, term), limit=31)\n",
    "asm"
   ]
  },
  {
   "cell_type": "markdown",
   "id": "7927200a",
   "metadata": {},
   "source": [
    "The Assembly object above should normally indicate four fragments and eight nodes."
   ]
  },
  {
   "cell_type": "code",
   "execution_count": 11,
   "id": "77b399c0",
   "metadata": {
    "execution": {
     "iopub.execute_input": "2023-02-04T07:58:05.855966Z",
     "iopub.status.busy": "2023-02-04T07:58:05.855708Z",
     "iopub.status.idle": "2023-02-04T07:58:06.184590Z",
     "shell.execute_reply": "2023-02-04T07:58:06.183688Z"
    },
    "lines_to_next_cell": 0
   },
   "outputs": [
    {
     "data": {
      "text/plain": [
       "[Contig(o8215), Contig(o8215), Contig(o8215), Contig(o7581), Contig(o7581)]"
      ]
     },
     "execution_count": 11,
     "metadata": {},
     "output_type": "execute_result"
    }
   ],
   "source": [
    "candidates = asm.assemble_circular()\n",
    "candidates"
   ]
  },
  {
   "cell_type": "markdown",
   "id": "02fc0502",
   "metadata": {},
   "source": [
    "There should normally be two candidates of equal size. These sequences should be identical."
   ]
  },
  {
   "cell_type": "code",
   "execution_count": 12,
   "id": "cc37bc16",
   "metadata": {
    "execution": {
     "iopub.execute_input": "2023-02-04T07:58:06.190161Z",
     "iopub.status.busy": "2023-02-04T07:58:06.189804Z",
     "iopub.status.idle": "2023-02-04T07:58:06.193614Z",
     "shell.execute_reply": "2023-02-04T07:58:06.192814Z"
    },
    "lines_to_next_cell": 0
   },
   "outputs": [],
   "source": [
    "candidate, *rest = candidates"
   ]
  },
  {
   "cell_type": "code",
   "execution_count": 13,
   "id": "09c19900",
   "metadata": {
    "execution": {
     "iopub.execute_input": "2023-02-04T07:58:06.197335Z",
     "iopub.status.busy": "2023-02-04T07:58:06.196872Z",
     "iopub.status.idle": "2023-02-04T07:58:06.218346Z",
     "shell.execute_reply": "2023-02-04T07:58:06.217771Z"
    },
    "lines_to_next_cell": 0
   },
   "outputs": [
    {
     "data": {
      "text/plain": [
       "True"
      ]
     },
     "execution_count": 13,
     "metadata": {},
     "output_type": "execute_result"
    }
   ],
   "source": [
    "candidate.cseguid() == rest[0].cseguid()"
   ]
  },
  {
   "cell_type": "code",
   "execution_count": 14,
   "id": "bb9a466a",
   "metadata": {
    "execution": {
     "iopub.execute_input": "2023-02-04T07:58:06.221444Z",
     "iopub.status.busy": "2023-02-04T07:58:06.221178Z",
     "iopub.status.idle": "2023-02-04T07:58:06.225318Z",
     "shell.execute_reply": "2023-02-04T07:58:06.224798Z"
    },
    "lines_to_next_cell": 0
   },
   "outputs": [
    {
     "data": {
      "text/plain": [
       " -|pYPK0_lin|168\n",
       "|            \\/\n",
       "|            /\\\n",
       "|            168|UTR2|48\n",
       "|                     \\/\n",
       "|                     /\\\n",
       "|                     48|EcfabB|37\n",
       "|                               \\/\n",
       "|                               /\\\n",
       "|                               37|TPI1|276\n",
       "|                                       \\/\n",
       "|                                       /\\\n",
       "|                                       276-\n",
       "|                                          |\n",
       " ------------------------------------------"
      ]
     },
     "execution_count": 14,
     "metadata": {},
     "output_type": "execute_result"
    }
   ],
   "source": [
    "candidate.figure()"
   ]
  },
  {
   "cell_type": "markdown",
   "id": "b184b84d",
   "metadata": {},
   "source": [
    "The candidate vector is synchronized to the 577 primer. This means that\n",
    "the plasmid origin is shifted so that it matches the backbone vector."
   ]
  },
  {
   "cell_type": "code",
   "execution_count": 15,
   "id": "bdbbd28a",
   "metadata": {
    "execution": {
     "iopub.execute_input": "2023-02-04T07:58:06.228963Z",
     "iopub.status.busy": "2023-02-04T07:58:06.228167Z",
     "iopub.status.idle": "2023-02-04T07:58:06.594664Z",
     "shell.execute_reply": "2023-02-04T07:58:06.594012Z"
    }
   },
   "outputs": [],
   "source": [
    "result = candidate.synced(fp_prom)"
   ]
  },
  {
   "cell_type": "markdown",
   "id": "0ecb65eb",
   "metadata": {},
   "source": [
    "### Diagnostic PCR confirmation\n",
    "\n",
    "The structure of the final vector is confirmed by two\n",
    "separate PCR reactions, one for the promoter and gene and\n",
    "one for the gene and terminator.\n",
    "\n",
    "PCR using standard primers 577 and 467 to amplify promoter and gene."
   ]
  },
  {
   "cell_type": "code",
   "execution_count": 16,
   "id": "d878e994",
   "metadata": {
    "execution": {
     "iopub.execute_input": "2023-02-04T07:58:06.597432Z",
     "iopub.status.busy": "2023-02-04T07:58:06.597199Z",
     "iopub.status.idle": "2023-02-04T07:58:06.615030Z",
     "shell.execute_reply": "2023-02-04T07:58:06.614514Z"
    }
   },
   "outputs": [],
   "source": [
    "product = pcr( fp_prom, rp_gene, result)"
   ]
  },
  {
   "cell_type": "markdown",
   "id": "e543bee5",
   "metadata": {},
   "source": [
    "A correct clone should give this size in base pairs:"
   ]
  },
  {
   "cell_type": "code",
   "execution_count": 17,
   "id": "8de228e1",
   "metadata": {
    "execution": {
     "iopub.execute_input": "2023-02-04T07:58:06.618052Z",
     "iopub.status.busy": "2023-02-04T07:58:06.617665Z",
     "iopub.status.idle": "2023-02-04T07:58:06.622562Z",
     "shell.execute_reply": "2023-02-04T07:58:06.621439Z"
    }
   },
   "outputs": [
    {
     "name": "stdout",
     "output_type": "stream",
     "text": [
      "2112\n"
     ]
    }
   ],
   "source": [
    "print(len(product))"
   ]
  },
  {
   "cell_type": "markdown",
   "id": "16b28c49",
   "metadata": {},
   "source": [
    "If the promoter is missing from the assembly, the PCR product will have this size in base pairs:"
   ]
  },
  {
   "cell_type": "code",
   "execution_count": 18,
   "id": "fee600cc",
   "metadata": {
    "execution": {
     "iopub.execute_input": "2023-02-04T07:58:06.626958Z",
     "iopub.status.busy": "2023-02-04T07:58:06.626196Z",
     "iopub.status.idle": "2023-02-04T07:58:06.631151Z",
     "shell.execute_reply": "2023-02-04T07:58:06.630274Z"
    }
   },
   "outputs": [
    {
     "name": "stdout",
     "output_type": "stream",
     "text": [
      "1260\n"
     ]
    }
   ],
   "source": [
    "print(len(product) - len(prom))"
   ]
  },
  {
   "cell_type": "markdown",
   "id": "52bc0c61",
   "metadata": {},
   "source": [
    "If the gene is missing from the assembly, the PCR product will have this size in base pairs:"
   ]
  },
  {
   "cell_type": "code",
   "execution_count": 19,
   "id": "e0b1e89f",
   "metadata": {
    "execution": {
     "iopub.execute_input": "2023-02-04T07:58:06.636657Z",
     "iopub.status.busy": "2023-02-04T07:58:06.636218Z",
     "iopub.status.idle": "2023-02-04T07:58:06.641491Z",
     "shell.execute_reply": "2023-02-04T07:58:06.640502Z"
    }
   },
   "outputs": [
    {
     "name": "stdout",
     "output_type": "stream",
     "text": [
      "802\n"
     ]
    }
   ],
   "source": [
    "print(len(product) - len(gene))"
   ]
  },
  {
   "cell_type": "markdown",
   "id": "5d1badf0",
   "metadata": {},
   "source": [
    "PCR using standard primers 468 and 578 to amplify gene and terminator."
   ]
  },
  {
   "cell_type": "code",
   "execution_count": 20,
   "id": "a2defce7",
   "metadata": {
    "execution": {
     "iopub.execute_input": "2023-02-04T07:58:06.645245Z",
     "iopub.status.busy": "2023-02-04T07:58:06.644731Z",
     "iopub.status.idle": "2023-02-04T07:58:06.665632Z",
     "shell.execute_reply": "2023-02-04T07:58:06.665088Z"
    }
   },
   "outputs": [],
   "source": [
    "product2 = pcr( fp_gene, rp_term, result)"
   ]
  },
  {
   "cell_type": "markdown",
   "id": "d454eba1",
   "metadata": {},
   "source": [
    "A correct clone should give this size:"
   ]
  },
  {
   "cell_type": "code",
   "execution_count": 21,
   "id": "8cb0eb50",
   "metadata": {
    "execution": {
     "iopub.execute_input": "2023-02-04T07:58:06.668618Z",
     "iopub.status.busy": "2023-02-04T07:58:06.668201Z",
     "iopub.status.idle": "2023-02-04T07:58:06.673449Z",
     "shell.execute_reply": "2023-02-04T07:58:06.672730Z"
    }
   },
   "outputs": [
    {
     "name": "stdout",
     "output_type": "stream",
     "text": [
      "2195\n"
     ]
    }
   ],
   "source": [
    "print(len(product2))"
   ]
  },
  {
   "cell_type": "markdown",
   "id": "34b9afb2",
   "metadata": {},
   "source": [
    "If the gene is missing from the assembly, the PCR product will have this size in base pairs:"
   ]
  },
  {
   "cell_type": "code",
   "execution_count": 22,
   "id": "5f557b95",
   "metadata": {
    "execution": {
     "iopub.execute_input": "2023-02-04T07:58:06.676164Z",
     "iopub.status.busy": "2023-02-04T07:58:06.675849Z",
     "iopub.status.idle": "2023-02-04T07:58:06.679875Z",
     "shell.execute_reply": "2023-02-04T07:58:06.679113Z"
    }
   },
   "outputs": [
    {
     "name": "stdout",
     "output_type": "stream",
     "text": [
      "885\n"
     ]
    }
   ],
   "source": [
    "print(len(product2) - len(gene))"
   ]
  },
  {
   "cell_type": "markdown",
   "id": "6f11eb53",
   "metadata": {},
   "source": [
    "If the terminator is missing from the assembly, the PCR product will have this size in base pairs:"
   ]
  },
  {
   "cell_type": "code",
   "execution_count": 23,
   "id": "9d9b638c",
   "metadata": {
    "execution": {
     "iopub.execute_input": "2023-02-04T07:58:06.683363Z",
     "iopub.status.busy": "2023-02-04T07:58:06.682907Z",
     "iopub.status.idle": "2023-02-04T07:58:06.690442Z",
     "shell.execute_reply": "2023-02-04T07:58:06.689388Z"
    }
   },
   "outputs": [
    {
     "name": "stdout",
     "output_type": "stream",
     "text": [
      "1273\n"
     ]
    }
   ],
   "source": [
    "print(len(product2) - len(term))"
   ]
  },
  {
   "cell_type": "markdown",
   "id": "5d3e861b",
   "metadata": {},
   "source": [
    "The cseguid checksum for the resulting plasmid is calculated for future reference.\n",
    "The [cseguid checksum](http://pydna.readthedocs.org/en/latest/pydna.html#pydna.utils.cseguid)\n",
    "uniquely identifies a circular double stranded sequence."
   ]
  },
  {
   "cell_type": "code",
   "execution_count": 24,
   "id": "e0162093",
   "metadata": {
    "execution": {
     "iopub.execute_input": "2023-02-04T07:58:06.694225Z",
     "iopub.status.busy": "2023-02-04T07:58:06.693760Z",
     "iopub.status.idle": "2023-02-04T07:58:06.703529Z",
     "shell.execute_reply": "2023-02-04T07:58:06.702835Z"
    }
   },
   "outputs": [
    {
     "name": "stdout",
     "output_type": "stream",
     "text": [
      "bNFrBIY_UaYTnBius8Td4ve2szw\n"
     ]
    }
   ],
   "source": [
    "print(result.cseguid())"
   ]
  },
  {
   "cell_type": "markdown",
   "id": "6fe07bf9",
   "metadata": {},
   "source": [
    "The file name is based on the promoter, gene and terminator designations."
   ]
  },
  {
   "cell_type": "code",
   "execution_count": 25,
   "id": "05ede31b",
   "metadata": {
    "execution": {
     "iopub.execute_input": "2023-02-04T07:58:06.706283Z",
     "iopub.status.busy": "2023-02-04T07:58:06.706064Z",
     "iopub.status.idle": "2023-02-04T07:58:06.708933Z",
     "shell.execute_reply": "2023-02-04T07:58:06.708415Z"
    }
   },
   "outputs": [],
   "source": [
    "result.locus = f\"tu:{gene.name}\"[:16]\n",
    "result.definition = \"pYPK0_UTR2_EcfabB_TPI1\""
   ]
  },
  {
   "cell_type": "markdown",
   "id": "1648b9d0",
   "metadata": {},
   "source": [
    "Sequence is stamped with cseguid checksum. This can be used to verify the\n",
    "integrity of the sequence file."
   ]
  },
  {
   "cell_type": "code",
   "execution_count": 26,
   "id": "40643265",
   "metadata": {
    "execution": {
     "iopub.execute_input": "2023-02-04T07:58:06.712704Z",
     "iopub.status.busy": "2023-02-04T07:58:06.712088Z",
     "iopub.status.idle": "2023-02-04T07:58:06.726877Z",
     "shell.execute_reply": "2023-02-04T07:58:06.726197Z"
    }
   },
   "outputs": [
    {
     "data": {
      "text/plain": [
       "bNFrBIY_UaYTnBius8Td4ve2szw"
      ]
     },
     "execution_count": 26,
     "metadata": {},
     "output_type": "execute_result"
    }
   ],
   "source": [
    "result.stamp(\"cSEGUID\")"
   ]
  },
  {
   "cell_type": "markdown",
   "id": "9554cefa",
   "metadata": {},
   "source": [
    "Write sequence to a local file."
   ]
  },
  {
   "cell_type": "code",
   "execution_count": 27,
   "id": "0bd9e510",
   "metadata": {
    "execution": {
     "iopub.execute_input": "2023-02-04T07:58:06.729654Z",
     "iopub.status.busy": "2023-02-04T07:58:06.729453Z",
     "iopub.status.idle": "2023-02-04T07:58:06.735654Z",
     "shell.execute_reply": "2023-02-04T07:58:06.734574Z"
    }
   },
   "outputs": [
    {
     "data": {
      "text/html": [
       "<font face=monospace><a href='pYPK0_UTR2_EcfabB_TPI1.gb' target='_blank'>pYPK0_UTR2_EcfabB_TPI1.gb</a></font><br>"
      ]
     },
     "metadata": {},
     "output_type": "display_data"
    }
   ],
   "source": [
    "result.write(f\"{result.definition}.gb\")"
   ]
  },
  {
   "cell_type": "markdown",
   "id": "6b9df293",
   "metadata": {
    "lines_to_next_cell": 0
   },
   "source": [
    "### Suggested PCR programs\n",
    "\n",
    "For the [amplification](#PCR) of promoter, gene and terminator."
   ]
  },
  {
   "cell_type": "code",
   "execution_count": 28,
   "id": "60b3da92",
   "metadata": {
    "execution": {
     "iopub.execute_input": "2023-02-04T07:58:06.739258Z",
     "iopub.status.busy": "2023-02-04T07:58:06.738921Z",
     "iopub.status.idle": "2023-02-04T07:58:06.743973Z",
     "shell.execute_reply": "2023-02-04T07:58:06.743159Z"
    }
   },
   "outputs": [
    {
     "name": "stdout",
     "output_type": "stream",
     "text": [
      "577_crp585-557 567_pCAPsAjiIF\n",
      "|95°C|95°C               |    |tmf:64.6\n",
      "|____|_____          72°C|72°C|tmr:69.7\n",
      "|3min|30s  \\ 57.6°C _____|____|45s/kb\n",
      "|    |      \\______/ 0:38|5min|GC 40%\n",
      "|    |       30s         |    |852bp\n"
     ]
    }
   ],
   "source": [
    "print(prom.forward_primer.name, prom.reverse_primer.name)\n",
    "print(prom.program())"
   ]
  },
  {
   "cell_type": "code",
   "execution_count": 29,
   "id": "f5915df7",
   "metadata": {
    "execution": {
     "iopub.execute_input": "2023-02-04T07:58:06.747668Z",
     "iopub.status.busy": "2023-02-04T07:58:06.747173Z",
     "iopub.status.idle": "2023-02-04T07:58:06.753332Z",
     "shell.execute_reply": "2023-02-04T07:58:06.751862Z"
    }
   },
   "outputs": [
    {
     "name": "stdout",
     "output_type": "stream",
     "text": [
      "468_pCAPs_release_fw 467_pCAPs_release_re\n",
      "|95°C|95°C               |    |tmf:76.9\n",
      "|____|_____          72°C|72°C|tmr:67.9\n",
      "|3min|30s  \\ 63.2°C _____|____|45s/kb\n",
      "|    |      \\______/ 0:58|5min|GC 56%\n",
      "|    |       30s         |    |1310bp\n"
     ]
    }
   ],
   "source": [
    "print(gene.forward_primer.name, gene.reverse_primer.name)\n",
    "print(gene.program())"
   ]
  },
  {
   "cell_type": "code",
   "execution_count": 30,
   "id": "78833529",
   "metadata": {
    "execution": {
     "iopub.execute_input": "2023-02-04T07:58:06.757048Z",
     "iopub.status.busy": "2023-02-04T07:58:06.756750Z",
     "iopub.status.idle": "2023-02-04T07:58:06.761501Z",
     "shell.execute_reply": "2023-02-04T07:58:06.760743Z"
    }
   },
   "outputs": [
    {
     "name": "stdout",
     "output_type": "stream",
     "text": [
      "568_pCAPsAjiIR 578_crp42-70\n",
      "|95°C|95°C               |    |tmf:66.1\n",
      "|____|_____          72°C|72°C|tmr:65.0\n",
      "|3min|30s  \\ 57.2°C _____|____|45s/kb\n",
      "|    |      \\______/ 0:41|5min|GC 38%\n",
      "|    |       30s         |    |922bp\n"
     ]
    }
   ],
   "source": [
    "print(term.forward_primer.name, term.reverse_primer.name)\n",
    "print(term.program())"
   ]
  }
 ],
 "metadata": {
  "jupytext": {
   "main_language": "python",
   "text_representation": {
    "extension": ".py",
    "format_name": "percent",
    "format_version": "1.3",
    "jupytext_version": "1.14.0"
   }
  },
  "language_info": {
   "codemirror_mode": {
    "name": "ipython",
    "version": 3
   },
   "file_extension": ".py",
   "mimetype": "text/x-python",
   "name": "python",
   "nbconvert_exporter": "python",
   "pygments_lexer": "ipython3",
   "version": "3.11.0"
  }
 },
 "nbformat": 4,
 "nbformat_minor": 5
}
