{
 "cells": [
  {
   "cell_type": "markdown",
   "id": "a76872f4",
   "metadata": {},
   "source": [
    "# [![logo](logo.png)](https://github.com/BjornFJohansson/ypkpathway#-ypkpathway) pYPK0_TDH3_EcfabF_UTR2\n",
    "\n",
    "Assembly of a [_Saccharomyces cerevisiae_](http://www.yeastgenome.org) transcriptional unit vector.\n",
    "\n",
    "Made from a linear vector fragment and three PCR products:\n",
    "\n",
    "- a linearized pYPK0 vector for maintenance in _S. cerevisiae_ or _E. coli_ (red dashed line in figure below)\n",
    "- a promoter PCR product from the `pYPKa_Z_TDH3` vector\n",
    "- a gene PCR product from the `pYPKa_A_EcfabF` vector\n",
    "- a terminator PCR product from the `pYPKa_E_UTR2` vector\n",
    "\n",
    "The four linear DNA fragments are joined by _in-vivo_ homologous recombination in a\n",
    "[_Saccharomyces cerevisiae_](http://wiki.yeastgenome.org/index.php/Commonly_used_strains) strain.\n",
    "\n",
    "![tu](tu.png \"tu\")\n",
    "\n",
    "A part of the [pydna](https://pypi.python.org/pypi/pydna/) package is imported in the code cell below."
   ]
  },
  {
   "cell_type": "code",
   "execution_count": 1,
   "id": "c816edf7",
   "metadata": {
    "execution": {
     "iopub.execute_input": "2023-02-04T07:58:01.594840Z",
     "iopub.status.busy": "2023-02-04T07:58:01.594333Z",
     "iopub.status.idle": "2023-02-04T07:58:01.953510Z",
     "shell.execute_reply": "2023-02-04T07:58:01.952841Z"
    }
   },
   "outputs": [],
   "source": [
    "from pydna.parsers import parse_primers\n",
    "from pydna.readers import read\n",
    "from pydna.amplify import pcr\n",
    "from pydna.assembly import Assembly"
   ]
  },
  {
   "cell_type": "markdown",
   "id": "1c53869b",
   "metadata": {},
   "source": [
    "The Yeast Pathway Kit [standard primers](standard_primers.fasta) are read into a dictionary in the code cell below."
   ]
  },
  {
   "cell_type": "code",
   "execution_count": 2,
   "id": "0e4b0163",
   "metadata": {
    "execution": {
     "iopub.execute_input": "2023-02-04T07:58:01.956748Z",
     "iopub.status.busy": "2023-02-04T07:58:01.956237Z",
     "iopub.status.idle": "2023-02-04T07:58:01.968448Z",
     "shell.execute_reply": "2023-02-04T07:58:01.967824Z"
    }
   },
   "outputs": [],
   "source": [
    "p = {x.name: x for x in parse_primers(\"standard_primers.fasta\")}"
   ]
  },
  {
   "cell_type": "markdown",
   "id": "cdcbbf61",
   "metadata": {},
   "source": [
    "The backbone vector [pYPK0](pYPK0.gb) is read from a local file in the code cell below."
   ]
  },
  {
   "cell_type": "code",
   "execution_count": 3,
   "id": "93009fcf",
   "metadata": {
    "execution": {
     "iopub.execute_input": "2023-02-04T07:58:01.971312Z",
     "iopub.status.busy": "2023-02-04T07:58:01.971090Z",
     "iopub.status.idle": "2023-02-04T07:58:01.984327Z",
     "shell.execute_reply": "2023-02-04T07:58:01.983638Z"
    }
   },
   "outputs": [],
   "source": [
    "backbone = read(\"pYPK0.gb\")"
   ]
  },
  {
   "cell_type": "markdown",
   "id": "e69294be",
   "metadata": {},
   "source": [
    "The backbone vector is linearized by digestion with [MfeI](https://www.google.com/search?q=MfeI)."
   ]
  },
  {
   "cell_type": "code",
   "execution_count": 4,
   "id": "5a7431de",
   "metadata": {
    "execution": {
     "iopub.execute_input": "2023-02-04T07:58:01.988461Z",
     "iopub.status.busy": "2023-02-04T07:58:01.988210Z",
     "iopub.status.idle": "2023-02-04T07:58:01.992508Z",
     "shell.execute_reply": "2023-02-04T07:58:01.991756Z"
    }
   },
   "outputs": [],
   "source": [
    "from Bio.Restriction import MfeI"
   ]
  },
  {
   "cell_type": "code",
   "execution_count": 5,
   "id": "7c031eb1",
   "metadata": {
    "execution": {
     "iopub.execute_input": "2023-02-04T07:58:01.996342Z",
     "iopub.status.busy": "2023-02-04T07:58:01.995722Z",
     "iopub.status.idle": "2023-02-04T07:58:02.006774Z",
     "shell.execute_reply": "2023-02-04T07:58:02.005330Z"
    }
   },
   "outputs": [],
   "source": [
    "linear_backbone = backbone.linearize(MfeI)"
   ]
  },
  {
   "cell_type": "markdown",
   "id": "5b228842",
   "metadata": {},
   "source": [
    "The pYPKa derived _E. coli_ plasmids containing\n",
    "- [promoter](pYPKa_Z_TDH3.gb)\n",
    "- [gene](pYPKa_A_EcfabF.gb)\n",
    "- [terminator](pYPKa_E_UTR2.gb)\n",
    "\n",
    "are read into three variables below."
   ]
  },
  {
   "cell_type": "code",
   "execution_count": 6,
   "id": "4e16f7bb",
   "metadata": {
    "execution": {
     "iopub.execute_input": "2023-02-04T07:58:02.011098Z",
     "iopub.status.busy": "2023-02-04T07:58:02.010842Z",
     "iopub.status.idle": "2023-02-04T07:58:02.029727Z",
     "shell.execute_reply": "2023-02-04T07:58:02.029101Z"
    }
   },
   "outputs": [],
   "source": [
    "promoter_template   = read(\"pYPKa_Z_TDH3.gb\")\n",
    "gene_template       = read(\"pYPKa_A_EcfabF.gb\")\n",
    "terminator_template = read(\"pYPKa_E_UTR2.gb\")"
   ]
  },
  {
   "cell_type": "markdown",
   "id": "4e54dc93",
   "metadata": {
    "lines_to_next_cell": 0
   },
   "source": [
    "### PCR\n",
    "Three DNA fragments are PCR amplified using [standard primers](standard_primers.fasta).\n",
    "\n",
    "[Suggested PCR programs](#Suggested-PCR-programs) can be found at the end of this document."
   ]
  },
  {
   "cell_type": "code",
   "execution_count": 7,
   "id": "0ce0402d",
   "metadata": {
    "execution": {
     "iopub.execute_input": "2023-02-04T07:58:02.033126Z",
     "iopub.status.busy": "2023-02-04T07:58:02.032530Z",
     "iopub.status.idle": "2023-02-04T07:58:02.038110Z",
     "shell.execute_reply": "2023-02-04T07:58:02.037096Z"
    }
   },
   "outputs": [],
   "source": [
    "\n",
    "fp_prom = p['577_crp585-557']\n",
    "rp_prom = p['567_pCAPsAjiIF']\n",
    "fp_gene = p['468_pCAPs_release_fw']\n",
    "rp_gene = p['467_pCAPs_release_re']\n",
    "fp_term = p['568_pCAPsAjiIR']\n",
    "rp_term = p['578_crp42-70']"
   ]
  },
  {
   "cell_type": "code",
   "execution_count": 8,
   "id": "9e5ad27d",
   "metadata": {
    "execution": {
     "iopub.execute_input": "2023-02-04T07:58:02.041840Z",
     "iopub.status.busy": "2023-02-04T07:58:02.041384Z",
     "iopub.status.idle": "2023-02-04T07:58:02.069583Z",
     "shell.execute_reply": "2023-02-04T07:58:02.068955Z"
    }
   },
   "outputs": [],
   "source": [
    "prom = pcr(fp_prom, rp_prom, promoter_template)\n",
    "gene = pcr(fp_gene, rp_gene, gene_template)\n",
    "term = pcr(fp_term, rp_term, terminator_template)"
   ]
  },
  {
   "cell_type": "code",
   "execution_count": 9,
   "id": "257c3abb",
   "metadata": {
    "execution": {
     "iopub.execute_input": "2023-02-04T07:58:02.072346Z",
     "iopub.status.busy": "2023-02-04T07:58:02.072127Z",
     "iopub.status.idle": "2023-02-04T07:58:02.076272Z",
     "shell.execute_reply": "2023-02-04T07:58:02.075446Z"
    }
   },
   "outputs": [],
   "source": [
    "prom.name = \"pYPKa_Z_TDH3\"[8:]\n",
    "gene.name = \"pYPKa_A_EcfabF\"[8:]\n",
    "term.name = \"pYPKa_E_UTR2\"[8:]"
   ]
  },
  {
   "cell_type": "markdown",
   "id": "8b72e8aa",
   "metadata": {},
   "source": [
    "\n",
    "The fragments will be assembled by _in-vivo_ [homologous recombination](http://www.ncbi.nlm.nih.gov/pubmed/2828185):"
   ]
  },
  {
   "cell_type": "code",
   "execution_count": 10,
   "id": "e02a7964",
   "metadata": {
    "execution": {
     "iopub.execute_input": "2023-02-04T07:58:02.079666Z",
     "iopub.status.busy": "2023-02-04T07:58:02.079286Z",
     "iopub.status.idle": "2023-02-04T07:58:02.528431Z",
     "shell.execute_reply": "2023-02-04T07:58:02.527763Z"
    }
   },
   "outputs": [
    {
     "data": {
      "text/plain": [
       "Assembly\n",
       "fragments..: 5766bp 930bp 1331bp 960bp\n",
       "limit(bp)..: 31\n",
       "G.nodes....: 10\n",
       "algorithm..: common_sub_strings"
      ]
     },
     "execution_count": 10,
     "metadata": {},
     "output_type": "execute_result"
    }
   ],
   "source": [
    "asm = Assembly((linear_backbone, prom, gene, term), limit=31)\n",
    "asm"
   ]
  },
  {
   "cell_type": "markdown",
   "id": "a8f5cf16",
   "metadata": {},
   "source": [
    "The Assembly object above should normally indicate four fragments and eight nodes."
   ]
  },
  {
   "cell_type": "code",
   "execution_count": 11,
   "id": "a541eade",
   "metadata": {
    "execution": {
     "iopub.execute_input": "2023-02-04T07:58:02.531375Z",
     "iopub.status.busy": "2023-02-04T07:58:02.530949Z",
     "iopub.status.idle": "2023-02-04T07:58:02.823320Z",
     "shell.execute_reply": "2023-02-04T07:58:02.822474Z"
    },
    "lines_to_next_cell": 0
   },
   "outputs": [
    {
     "data": {
      "text/plain": [
       "[Contig(o8352), Contig(o8352), Contig(o8352), Contig(o7640), Contig(o7640)]"
      ]
     },
     "execution_count": 11,
     "metadata": {},
     "output_type": "execute_result"
    }
   ],
   "source": [
    "candidates = asm.assemble_circular()\n",
    "candidates"
   ]
  },
  {
   "cell_type": "markdown",
   "id": "a0effcc5",
   "metadata": {},
   "source": [
    "There should normally be two candidates of equal size. These sequences should be identical."
   ]
  },
  {
   "cell_type": "code",
   "execution_count": 12,
   "id": "60e0ed8f",
   "metadata": {
    "execution": {
     "iopub.execute_input": "2023-02-04T07:58:02.828133Z",
     "iopub.status.busy": "2023-02-04T07:58:02.826443Z",
     "iopub.status.idle": "2023-02-04T07:58:02.832396Z",
     "shell.execute_reply": "2023-02-04T07:58:02.831668Z"
    },
    "lines_to_next_cell": 0
   },
   "outputs": [],
   "source": [
    "candidate, *rest = candidates"
   ]
  },
  {
   "cell_type": "code",
   "execution_count": 13,
   "id": "2d220140",
   "metadata": {
    "execution": {
     "iopub.execute_input": "2023-02-04T07:58:02.838486Z",
     "iopub.status.busy": "2023-02-04T07:58:02.836910Z",
     "iopub.status.idle": "2023-02-04T07:58:02.880947Z",
     "shell.execute_reply": "2023-02-04T07:58:02.880151Z"
    },
    "lines_to_next_cell": 0
   },
   "outputs": [
    {
     "data": {
      "text/plain": [
       "True"
      ]
     },
     "execution_count": 13,
     "metadata": {},
     "output_type": "execute_result"
    }
   ],
   "source": [
    "candidate.cseguid() == rest[0].cseguid()"
   ]
  },
  {
   "cell_type": "code",
   "execution_count": 14,
   "id": "339a0439",
   "metadata": {
    "execution": {
     "iopub.execute_input": "2023-02-04T07:58:02.887019Z",
     "iopub.status.busy": "2023-02-04T07:58:02.885428Z",
     "iopub.status.idle": "2023-02-04T07:58:02.894393Z",
     "shell.execute_reply": "2023-02-04T07:58:02.893627Z"
    },
    "lines_to_next_cell": 0
   },
   "outputs": [
    {
     "data": {
      "text/plain": [
       " -|pYPK0_lin|168\n",
       "|            \\/\n",
       "|            /\\\n",
       "|            168|TDH3|48\n",
       "|                     \\/\n",
       "|                     /\\\n",
       "|                     48|EcfabF|37\n",
       "|                               \\/\n",
       "|                               /\\\n",
       "|                               37|UTR2|276\n",
       "|                                       \\/\n",
       "|                                       /\\\n",
       "|                                       276-\n",
       "|                                          |\n",
       " ------------------------------------------"
      ]
     },
     "execution_count": 14,
     "metadata": {},
     "output_type": "execute_result"
    }
   ],
   "source": [
    "candidate.figure()"
   ]
  },
  {
   "cell_type": "markdown",
   "id": "8da84d0e",
   "metadata": {},
   "source": [
    "The candidate vector is synchronized to the 577 primer. This means that\n",
    "the plasmid origin is shifted so that it matches the backbone vector."
   ]
  },
  {
   "cell_type": "code",
   "execution_count": 15,
   "id": "ccb84a8a",
   "metadata": {
    "execution": {
     "iopub.execute_input": "2023-02-04T07:58:02.899946Z",
     "iopub.status.busy": "2023-02-04T07:58:02.898718Z",
     "iopub.status.idle": "2023-02-04T07:58:03.306513Z",
     "shell.execute_reply": "2023-02-04T07:58:03.305924Z"
    }
   },
   "outputs": [],
   "source": [
    "result = candidate.synced(fp_prom)"
   ]
  },
  {
   "cell_type": "markdown",
   "id": "74f4371a",
   "metadata": {},
   "source": [
    "### Diagnostic PCR confirmation\n",
    "\n",
    "The structure of the final vector is confirmed by two\n",
    "separate PCR reactions, one for the promoter and gene and\n",
    "one for the gene and terminator.\n",
    "\n",
    "PCR using standard primers 577 and 467 to amplify promoter and gene."
   ]
  },
  {
   "cell_type": "code",
   "execution_count": 16,
   "id": "1bcfd934",
   "metadata": {
    "execution": {
     "iopub.execute_input": "2023-02-04T07:58:03.309763Z",
     "iopub.status.busy": "2023-02-04T07:58:03.309325Z",
     "iopub.status.idle": "2023-02-04T07:58:03.326856Z",
     "shell.execute_reply": "2023-02-04T07:58:03.326121Z"
    }
   },
   "outputs": [],
   "source": [
    "product = pcr( fp_prom, rp_gene, result)"
   ]
  },
  {
   "cell_type": "markdown",
   "id": "0f8460a4",
   "metadata": {},
   "source": [
    "A correct clone should give this size in base pairs:"
   ]
  },
  {
   "cell_type": "code",
   "execution_count": 17,
   "id": "f1c58012",
   "metadata": {
    "execution": {
     "iopub.execute_input": "2023-02-04T07:58:03.329497Z",
     "iopub.status.busy": "2023-02-04T07:58:03.329298Z",
     "iopub.status.idle": "2023-02-04T07:58:03.332496Z",
     "shell.execute_reply": "2023-02-04T07:58:03.331912Z"
    }
   },
   "outputs": [
    {
     "name": "stdout",
     "output_type": "stream",
     "text": [
      "2211\n"
     ]
    }
   ],
   "source": [
    "print(len(product))"
   ]
  },
  {
   "cell_type": "markdown",
   "id": "a96640ea",
   "metadata": {},
   "source": [
    "If the promoter is missing from the assembly, the PCR product will have this size in base pairs:"
   ]
  },
  {
   "cell_type": "code",
   "execution_count": 18,
   "id": "12214eda",
   "metadata": {
    "execution": {
     "iopub.execute_input": "2023-02-04T07:58:03.335381Z",
     "iopub.status.busy": "2023-02-04T07:58:03.335171Z",
     "iopub.status.idle": "2023-02-04T07:58:03.338964Z",
     "shell.execute_reply": "2023-02-04T07:58:03.338225Z"
    }
   },
   "outputs": [
    {
     "name": "stdout",
     "output_type": "stream",
     "text": [
      "1281\n"
     ]
    }
   ],
   "source": [
    "print(len(product) - len(prom))"
   ]
  },
  {
   "cell_type": "markdown",
   "id": "a71eb3c8",
   "metadata": {},
   "source": [
    "If the gene is missing from the assembly, the PCR product will have this size in base pairs:"
   ]
  },
  {
   "cell_type": "code",
   "execution_count": 19,
   "id": "f7511a75",
   "metadata": {
    "execution": {
     "iopub.execute_input": "2023-02-04T07:58:03.342389Z",
     "iopub.status.busy": "2023-02-04T07:58:03.341909Z",
     "iopub.status.idle": "2023-02-04T07:58:03.346033Z",
     "shell.execute_reply": "2023-02-04T07:58:03.345138Z"
    }
   },
   "outputs": [
    {
     "name": "stdout",
     "output_type": "stream",
     "text": [
      "880\n"
     ]
    }
   ],
   "source": [
    "print(len(product) - len(gene))"
   ]
  },
  {
   "cell_type": "markdown",
   "id": "b88e1434",
   "metadata": {},
   "source": [
    "PCR using standard primers 468 and 578 to amplify gene and terminator."
   ]
  },
  {
   "cell_type": "code",
   "execution_count": 20,
   "id": "fe22544b",
   "metadata": {
    "execution": {
     "iopub.execute_input": "2023-02-04T07:58:03.350245Z",
     "iopub.status.busy": "2023-02-04T07:58:03.349664Z",
     "iopub.status.idle": "2023-02-04T07:58:03.369641Z",
     "shell.execute_reply": "2023-02-04T07:58:03.369065Z"
    }
   },
   "outputs": [],
   "source": [
    "product2 = pcr( fp_gene, rp_term, result)"
   ]
  },
  {
   "cell_type": "markdown",
   "id": "64243036",
   "metadata": {},
   "source": [
    "A correct clone should give this size:"
   ]
  },
  {
   "cell_type": "code",
   "execution_count": 21,
   "id": "71a2d3f3",
   "metadata": {
    "execution": {
     "iopub.execute_input": "2023-02-04T07:58:03.372790Z",
     "iopub.status.busy": "2023-02-04T07:58:03.372345Z",
     "iopub.status.idle": "2023-02-04T07:58:03.376074Z",
     "shell.execute_reply": "2023-02-04T07:58:03.375328Z"
    }
   },
   "outputs": [
    {
     "name": "stdout",
     "output_type": "stream",
     "text": [
      "2254\n"
     ]
    }
   ],
   "source": [
    "print(len(product2))"
   ]
  },
  {
   "cell_type": "markdown",
   "id": "39a5bf0f",
   "metadata": {},
   "source": [
    "If the gene is missing from the assembly, the PCR product will have this size in base pairs:"
   ]
  },
  {
   "cell_type": "code",
   "execution_count": 22,
   "id": "266298a8",
   "metadata": {
    "execution": {
     "iopub.execute_input": "2023-02-04T07:58:03.379291Z",
     "iopub.status.busy": "2023-02-04T07:58:03.378839Z",
     "iopub.status.idle": "2023-02-04T07:58:03.383204Z",
     "shell.execute_reply": "2023-02-04T07:58:03.382402Z"
    }
   },
   "outputs": [
    {
     "name": "stdout",
     "output_type": "stream",
     "text": [
      "923\n"
     ]
    }
   ],
   "source": [
    "print(len(product2) - len(gene))"
   ]
  },
  {
   "cell_type": "markdown",
   "id": "c4f5998c",
   "metadata": {},
   "source": [
    "If the terminator is missing from the assembly, the PCR product will have this size in base pairs:"
   ]
  },
  {
   "cell_type": "code",
   "execution_count": 23,
   "id": "9b6072a7",
   "metadata": {
    "execution": {
     "iopub.execute_input": "2023-02-04T07:58:03.386300Z",
     "iopub.status.busy": "2023-02-04T07:58:03.386026Z",
     "iopub.status.idle": "2023-02-04T07:58:03.389664Z",
     "shell.execute_reply": "2023-02-04T07:58:03.389090Z"
    }
   },
   "outputs": [
    {
     "name": "stdout",
     "output_type": "stream",
     "text": [
      "1294\n"
     ]
    }
   ],
   "source": [
    "print(len(product2) - len(term))"
   ]
  },
  {
   "cell_type": "markdown",
   "id": "087cd5d5",
   "metadata": {},
   "source": [
    "The cseguid checksum for the resulting plasmid is calculated for future reference.\n",
    "The [cseguid checksum](http://pydna.readthedocs.org/en/latest/pydna.html#pydna.utils.cseguid)\n",
    "uniquely identifies a circular double stranded sequence."
   ]
  },
  {
   "cell_type": "code",
   "execution_count": 24,
   "id": "9d400a50",
   "metadata": {
    "execution": {
     "iopub.execute_input": "2023-02-04T07:58:03.392053Z",
     "iopub.status.busy": "2023-02-04T07:58:03.391825Z",
     "iopub.status.idle": "2023-02-04T07:58:03.404655Z",
     "shell.execute_reply": "2023-02-04T07:58:03.404131Z"
    }
   },
   "outputs": [
    {
     "name": "stdout",
     "output_type": "stream",
     "text": [
      "Ji2VsX_-J4Osso-RMQSzGU7j1ME\n"
     ]
    }
   ],
   "source": [
    "print(result.cseguid())"
   ]
  },
  {
   "cell_type": "markdown",
   "id": "1f6ba186",
   "metadata": {},
   "source": [
    "The file name is based on the promoter, gene and terminator designations."
   ]
  },
  {
   "cell_type": "code",
   "execution_count": 25,
   "id": "e9b176b2",
   "metadata": {
    "execution": {
     "iopub.execute_input": "2023-02-04T07:58:03.407064Z",
     "iopub.status.busy": "2023-02-04T07:58:03.406873Z",
     "iopub.status.idle": "2023-02-04T07:58:03.409824Z",
     "shell.execute_reply": "2023-02-04T07:58:03.409290Z"
    }
   },
   "outputs": [],
   "source": [
    "result.locus = f\"tu:{gene.name}\"[:16]\n",
    "result.definition = \"pYPK0_TDH3_EcfabF_UTR2\""
   ]
  },
  {
   "cell_type": "markdown",
   "id": "5c1f0be8",
   "metadata": {},
   "source": [
    "Sequence is stamped with cseguid checksum. This can be used to verify the\n",
    "integrity of the sequence file."
   ]
  },
  {
   "cell_type": "code",
   "execution_count": 26,
   "id": "faa67376",
   "metadata": {
    "execution": {
     "iopub.execute_input": "2023-02-04T07:58:03.413146Z",
     "iopub.status.busy": "2023-02-04T07:58:03.412850Z",
     "iopub.status.idle": "2023-02-04T07:58:03.428688Z",
     "shell.execute_reply": "2023-02-04T07:58:03.428095Z"
    }
   },
   "outputs": [
    {
     "data": {
      "text/plain": [
       "Ji2VsX_-J4Osso-RMQSzGU7j1ME"
      ]
     },
     "execution_count": 26,
     "metadata": {},
     "output_type": "execute_result"
    }
   ],
   "source": [
    "result.stamp(\"cSEGUID\")"
   ]
  },
  {
   "cell_type": "markdown",
   "id": "9e691d0f",
   "metadata": {},
   "source": [
    "Write sequence to a local file."
   ]
  },
  {
   "cell_type": "code",
   "execution_count": 27,
   "id": "f9a834d9",
   "metadata": {
    "execution": {
     "iopub.execute_input": "2023-02-04T07:58:03.431462Z",
     "iopub.status.busy": "2023-02-04T07:58:03.431124Z",
     "iopub.status.idle": "2023-02-04T07:58:03.436912Z",
     "shell.execute_reply": "2023-02-04T07:58:03.436457Z"
    }
   },
   "outputs": [
    {
     "data": {
      "text/html": [
       "<font face=monospace><a href='pYPK0_TDH3_EcfabF_UTR2.gb' target='_blank'>pYPK0_TDH3_EcfabF_UTR2.gb</a></font><br>"
      ]
     },
     "metadata": {},
     "output_type": "display_data"
    }
   ],
   "source": [
    "result.write(f\"{result.definition}.gb\")"
   ]
  },
  {
   "cell_type": "markdown",
   "id": "53b08713",
   "metadata": {
    "lines_to_next_cell": 0
   },
   "source": [
    "### Suggested PCR programs\n",
    "\n",
    "For the [amplification](#PCR) of promoter, gene and terminator."
   ]
  },
  {
   "cell_type": "code",
   "execution_count": 28,
   "id": "d1dbcafa",
   "metadata": {
    "execution": {
     "iopub.execute_input": "2023-02-04T07:58:03.440455Z",
     "iopub.status.busy": "2023-02-04T07:58:03.439957Z",
     "iopub.status.idle": "2023-02-04T07:58:03.446665Z",
     "shell.execute_reply": "2023-02-04T07:58:03.445757Z"
    }
   },
   "outputs": [
    {
     "name": "stdout",
     "output_type": "stream",
     "text": [
      "577_crp585-557 567_pCAPsAjiIF\n",
      "|95°C|95°C               |    |tmf:64.6\n",
      "|____|_____          72°C|72°C|tmr:69.7\n",
      "|3min|30s  \\ 57.1°C _____|____|45s/kb\n",
      "|    |      \\______/ 0:41|5min|GC 38%\n",
      "|    |       30s         |    |930bp\n"
     ]
    }
   ],
   "source": [
    "print(prom.forward_primer.name, prom.reverse_primer.name)\n",
    "print(prom.program())"
   ]
  },
  {
   "cell_type": "code",
   "execution_count": 29,
   "id": "4823a764",
   "metadata": {
    "execution": {
     "iopub.execute_input": "2023-02-04T07:58:03.450325Z",
     "iopub.status.busy": "2023-02-04T07:58:03.450032Z",
     "iopub.status.idle": "2023-02-04T07:58:03.455177Z",
     "shell.execute_reply": "2023-02-04T07:58:03.454311Z"
    }
   },
   "outputs": [
    {
     "name": "stdout",
     "output_type": "stream",
     "text": [
      "468_pCAPs_release_fw 467_pCAPs_release_re\n",
      "|95°C|95°C               |    |tmf:76.9\n",
      "|____|_____          72°C|72°C|tmr:67.9\n",
      "|3min|30s  \\ 62.3°C _____|____|45s/kb\n",
      "|    |      \\______/ 0:59|5min|GC 53%\n",
      "|    |       30s         |    |1331bp\n"
     ]
    }
   ],
   "source": [
    "print(gene.forward_primer.name, gene.reverse_primer.name)\n",
    "print(gene.program())"
   ]
  },
  {
   "cell_type": "code",
   "execution_count": 30,
   "id": "a632b41e",
   "metadata": {
    "execution": {
     "iopub.execute_input": "2023-02-04T07:58:03.458344Z",
     "iopub.status.busy": "2023-02-04T07:58:03.458106Z",
     "iopub.status.idle": "2023-02-04T07:58:03.462845Z",
     "shell.execute_reply": "2023-02-04T07:58:03.461927Z"
    }
   },
   "outputs": [
    {
     "name": "stdout",
     "output_type": "stream",
     "text": [
      "568_pCAPsAjiIR 578_crp42-70\n",
      "|95°C|95°C               |    |tmf:66.1\n",
      "|____|_____          72°C|72°C|tmr:65.0\n",
      "|3min|30s  \\ 57.5°C _____|____|45s/kb\n",
      "|    |      \\______/ 0:43|5min|GC 40%\n",
      "|    |       30s         |    |960bp\n"
     ]
    }
   ],
   "source": [
    "print(term.forward_primer.name, term.reverse_primer.name)\n",
    "print(term.program())"
   ]
  }
 ],
 "metadata": {
  "jupytext": {
   "main_language": "python",
   "text_representation": {
    "extension": ".py",
    "format_name": "percent",
    "format_version": "1.3",
    "jupytext_version": "1.14.0"
   }
  },
  "language_info": {
   "codemirror_mode": {
    "name": "ipython",
    "version": 3
   },
   "file_extension": ".py",
   "mimetype": "text/x-python",
   "name": "python",
   "nbconvert_exporter": "python",
   "pygments_lexer": "ipython3",
   "version": "3.11.0"
  }
 },
 "nbformat": 4,
 "nbformat_minor": 5
}
