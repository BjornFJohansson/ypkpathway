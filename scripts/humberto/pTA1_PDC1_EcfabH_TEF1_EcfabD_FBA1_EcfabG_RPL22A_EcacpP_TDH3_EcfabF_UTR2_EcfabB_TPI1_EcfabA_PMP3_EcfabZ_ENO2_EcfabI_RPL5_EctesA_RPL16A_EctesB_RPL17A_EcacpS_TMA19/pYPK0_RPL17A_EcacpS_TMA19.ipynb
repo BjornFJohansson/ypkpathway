{
 "cells": [
  {
   "cell_type": "markdown",
   "id": "43e13235",
   "metadata": {},
   "source": [
    "# [![logo](logo.png)](https://github.com/BjornFJohansson/ypkpathway#-ypkpathway) pYPK0_RPL17A_EcacpS_TMA19\n",
    "\n",
    "Assembly of a [_Saccharomyces cerevisiae_](http://www.yeastgenome.org) transcriptional unit vector.\n",
    "\n",
    "Made from a linear vector fragment and three PCR products:\n",
    "\n",
    "- a linearized pYPK0 vector for maintenance in _S. cerevisiae_ or _E. coli_ (red dashed line in figure below)\n",
    "- a promoter PCR product from the `pYPKa_Z_RPL17A` vector\n",
    "- a gene PCR product from the `pYPKa_A_EcacpS` vector\n",
    "- a terminator PCR product from the `pYPKa_E_TMA19` vector\n",
    "\n",
    "The four linear DNA fragments are joined by _in-vivo_ homologous recombination in a\n",
    "[_Saccharomyces cerevisiae_](http://wiki.yeastgenome.org/index.php/Commonly_used_strains) strain.\n",
    "\n",
    "![tu](tu.png \"tu\")\n",
    "\n",
    "A part of the [pydna](https://pypi.python.org/pypi/pydna/) package is imported in the code cell below."
   ]
  },
  {
   "cell_type": "code",
   "execution_count": 1,
   "id": "ecceccb4",
   "metadata": {
    "execution": {
     "iopub.execute_input": "2023-02-04T07:58:31.750911Z",
     "iopub.status.busy": "2023-02-04T07:58:31.750413Z",
     "iopub.status.idle": "2023-02-04T07:58:32.439904Z",
     "shell.execute_reply": "2023-02-04T07:58:32.434458Z"
    }
   },
   "outputs": [],
   "source": [
    "from pydna.parsers import parse_primers\n",
    "from pydna.readers import read\n",
    "from pydna.amplify import pcr\n",
    "from pydna.assembly import Assembly"
   ]
  },
  {
   "cell_type": "markdown",
   "id": "405bbe07",
   "metadata": {},
   "source": [
    "The Yeast Pathway Kit [standard primers](standard_primers.fasta) are read into a dictionary in the code cell below."
   ]
  },
  {
   "cell_type": "code",
   "execution_count": 2,
   "id": "cd70726e",
   "metadata": {
    "execution": {
     "iopub.execute_input": "2023-02-04T07:58:32.449487Z",
     "iopub.status.busy": "2023-02-04T07:58:32.448986Z",
     "iopub.status.idle": "2023-02-04T07:58:32.553676Z",
     "shell.execute_reply": "2023-02-04T07:58:32.552547Z"
    }
   },
   "outputs": [],
   "source": [
    "p = {x.name: x for x in parse_primers(\"standard_primers.fasta\")}"
   ]
  },
  {
   "cell_type": "markdown",
   "id": "7460eb31",
   "metadata": {},
   "source": [
    "The backbone vector [pYPK0](pYPK0.gb) is read from a local file in the code cell below."
   ]
  },
  {
   "cell_type": "code",
   "execution_count": 3,
   "id": "99432ccf",
   "metadata": {
    "execution": {
     "iopub.execute_input": "2023-02-04T07:58:32.560709Z",
     "iopub.status.busy": "2023-02-04T07:58:32.560065Z",
     "iopub.status.idle": "2023-02-04T07:58:32.579664Z",
     "shell.execute_reply": "2023-02-04T07:58:32.579101Z"
    }
   },
   "outputs": [],
   "source": [
    "backbone = read(\"pYPK0.gb\")"
   ]
  },
  {
   "cell_type": "markdown",
   "id": "7bc90098",
   "metadata": {},
   "source": [
    "The backbone vector is linearized by digestion with [MfeI](https://www.google.com/search?q=MfeI)."
   ]
  },
  {
   "cell_type": "code",
   "execution_count": 4,
   "id": "4e88f5b6",
   "metadata": {
    "execution": {
     "iopub.execute_input": "2023-02-04T07:58:32.584045Z",
     "iopub.status.busy": "2023-02-04T07:58:32.583695Z",
     "iopub.status.idle": "2023-02-04T07:58:32.595724Z",
     "shell.execute_reply": "2023-02-04T07:58:32.593175Z"
    }
   },
   "outputs": [],
   "source": [
    "from Bio.Restriction import MfeI"
   ]
  },
  {
   "cell_type": "code",
   "execution_count": 5,
   "id": "dae14c3a",
   "metadata": {
    "execution": {
     "iopub.execute_input": "2023-02-04T07:58:32.604262Z",
     "iopub.status.busy": "2023-02-04T07:58:32.603116Z",
     "iopub.status.idle": "2023-02-04T07:58:32.616239Z",
     "shell.execute_reply": "2023-02-04T07:58:32.615590Z"
    }
   },
   "outputs": [],
   "source": [
    "linear_backbone = backbone.linearize(MfeI)"
   ]
  },
  {
   "cell_type": "markdown",
   "id": "54fc2708",
   "metadata": {},
   "source": [
    "The pYPKa derived _E. coli_ plasmids containing\n",
    "- [promoter](pYPKa_Z_RPL17A.gb)\n",
    "- [gene](pYPKa_A_EcacpS.gb)\n",
    "- [terminator](pYPKa_E_TMA19.gb)\n",
    "\n",
    "are read into three variables below."
   ]
  },
  {
   "cell_type": "code",
   "execution_count": 6,
   "id": "bedea84e",
   "metadata": {
    "execution": {
     "iopub.execute_input": "2023-02-04T07:58:32.623219Z",
     "iopub.status.busy": "2023-02-04T07:58:32.622085Z",
     "iopub.status.idle": "2023-02-04T07:58:32.656709Z",
     "shell.execute_reply": "2023-02-04T07:58:32.654697Z"
    }
   },
   "outputs": [],
   "source": [
    "promoter_template   = read(\"pYPKa_Z_RPL17A.gb\")\n",
    "gene_template       = read(\"pYPKa_A_EcacpS.gb\")\n",
    "terminator_template = read(\"pYPKa_E_TMA19.gb\")"
   ]
  },
  {
   "cell_type": "markdown",
   "id": "0a31e849",
   "metadata": {
    "lines_to_next_cell": 0
   },
   "source": [
    "### PCR\n",
    "Three DNA fragments are PCR amplified using [standard primers](standard_primers.fasta).\n",
    "\n",
    "[Suggested PCR programs](#Suggested-PCR-programs) can be found at the end of this document."
   ]
  },
  {
   "cell_type": "code",
   "execution_count": 7,
   "id": "1b7895ec",
   "metadata": {
    "execution": {
     "iopub.execute_input": "2023-02-04T07:58:32.670978Z",
     "iopub.status.busy": "2023-02-04T07:58:32.666436Z",
     "iopub.status.idle": "2023-02-04T07:58:32.692548Z",
     "shell.execute_reply": "2023-02-04T07:58:32.691531Z"
    }
   },
   "outputs": [],
   "source": [
    "\n",
    "fp_prom = p['577_crp585-557']\n",
    "rp_prom = p['567_pCAPsAjiIF']\n",
    "fp_gene = p['468_pCAPs_release_fw']\n",
    "rp_gene = p['467_pCAPs_release_re']\n",
    "fp_term = p['568_pCAPsAjiIR']\n",
    "rp_term = p['578_crp42-70']"
   ]
  },
  {
   "cell_type": "code",
   "execution_count": 8,
   "id": "5fec31e4",
   "metadata": {
    "execution": {
     "iopub.execute_input": "2023-02-04T07:58:32.698005Z",
     "iopub.status.busy": "2023-02-04T07:58:32.697557Z",
     "iopub.status.idle": "2023-02-04T07:58:32.777735Z",
     "shell.execute_reply": "2023-02-04T07:58:32.775852Z"
    }
   },
   "outputs": [],
   "source": [
    "prom = pcr(fp_prom, rp_prom, promoter_template)\n",
    "gene = pcr(fp_gene, rp_gene, gene_template)\n",
    "term = pcr(fp_term, rp_term, terminator_template)"
   ]
  },
  {
   "cell_type": "code",
   "execution_count": 9,
   "id": "abc367f0",
   "metadata": {
    "execution": {
     "iopub.execute_input": "2023-02-04T07:58:32.794115Z",
     "iopub.status.busy": "2023-02-04T07:58:32.791360Z",
     "iopub.status.idle": "2023-02-04T07:58:32.803814Z",
     "shell.execute_reply": "2023-02-04T07:58:32.802842Z"
    }
   },
   "outputs": [],
   "source": [
    "prom.name = \"pYPKa_Z_RPL17A\"[8:]\n",
    "gene.name = \"pYPKa_A_EcacpS\"[8:]\n",
    "term.name = \"pYPKa_E_TMA19\"[8:]"
   ]
  },
  {
   "cell_type": "markdown",
   "id": "94418254",
   "metadata": {},
   "source": [
    "\n",
    "The fragments will be assembled by _in-vivo_ [homologous recombination](http://www.ncbi.nlm.nih.gov/pubmed/2828185):"
   ]
  },
  {
   "cell_type": "code",
   "execution_count": 10,
   "id": "c270d8a3",
   "metadata": {
    "execution": {
     "iopub.execute_input": "2023-02-04T07:58:32.817456Z",
     "iopub.status.busy": "2023-02-04T07:58:32.814826Z",
     "iopub.status.idle": "2023-02-04T07:58:33.749663Z",
     "shell.execute_reply": "2023-02-04T07:58:33.748763Z"
    }
   },
   "outputs": [
    {
     "data": {
      "text/plain": [
       "Assembly\n",
       "fragments..: 5766bp 900bp 470bp 744bp\n",
       "limit(bp)..: 31\n",
       "G.nodes....: 10\n",
       "algorithm..: common_sub_strings"
      ]
     },
     "execution_count": 10,
     "metadata": {},
     "output_type": "execute_result"
    }
   ],
   "source": [
    "asm = Assembly((linear_backbone, prom, gene, term), limit=31)\n",
    "asm"
   ]
  },
  {
   "cell_type": "markdown",
   "id": "0e9e94d8",
   "metadata": {},
   "source": [
    "The Assembly object above should normally indicate four fragments and eight nodes."
   ]
  },
  {
   "cell_type": "code",
   "execution_count": 11,
   "id": "de4530d9",
   "metadata": {
    "execution": {
     "iopub.execute_input": "2023-02-04T07:58:33.757927Z",
     "iopub.status.busy": "2023-02-04T07:58:33.757278Z",
     "iopub.status.idle": "2023-02-04T07:58:34.202055Z",
     "shell.execute_reply": "2023-02-04T07:58:34.200413Z"
    },
    "lines_to_next_cell": 0
   },
   "outputs": [
    {
     "data": {
      "text/plain": [
       "[Contig(o7245), Contig(o7245), Contig(o7245), Contig(o6563), Contig(o6563)]"
      ]
     },
     "execution_count": 11,
     "metadata": {},
     "output_type": "execute_result"
    }
   ],
   "source": [
    "candidates = asm.assemble_circular()\n",
    "candidates"
   ]
  },
  {
   "cell_type": "markdown",
   "id": "27342b89",
   "metadata": {},
   "source": [
    "There should normally be two candidates of equal size. These sequences should be identical."
   ]
  },
  {
   "cell_type": "code",
   "execution_count": 12,
   "id": "f424ec84",
   "metadata": {
    "execution": {
     "iopub.execute_input": "2023-02-04T07:58:34.208292Z",
     "iopub.status.busy": "2023-02-04T07:58:34.207871Z",
     "iopub.status.idle": "2023-02-04T07:58:34.211224Z",
     "shell.execute_reply": "2023-02-04T07:58:34.210599Z"
    },
    "lines_to_next_cell": 0
   },
   "outputs": [],
   "source": [
    "candidate, *rest = candidates"
   ]
  },
  {
   "cell_type": "code",
   "execution_count": 13,
   "id": "1243b7d8",
   "metadata": {
    "execution": {
     "iopub.execute_input": "2023-02-04T07:58:34.215533Z",
     "iopub.status.busy": "2023-02-04T07:58:34.214965Z",
     "iopub.status.idle": "2023-02-04T07:58:34.235878Z",
     "shell.execute_reply": "2023-02-04T07:58:34.234475Z"
    },
    "lines_to_next_cell": 0
   },
   "outputs": [
    {
     "data": {
      "text/plain": [
       "True"
      ]
     },
     "execution_count": 13,
     "metadata": {},
     "output_type": "execute_result"
    }
   ],
   "source": [
    "candidate.cseguid() == rest[0].cseguid()"
   ]
  },
  {
   "cell_type": "code",
   "execution_count": 14,
   "id": "623ed5a0",
   "metadata": {
    "execution": {
     "iopub.execute_input": "2023-02-04T07:58:34.241575Z",
     "iopub.status.busy": "2023-02-04T07:58:34.240945Z",
     "iopub.status.idle": "2023-02-04T07:58:34.247151Z",
     "shell.execute_reply": "2023-02-04T07:58:34.246026Z"
    },
    "lines_to_next_cell": 0
   },
   "outputs": [
    {
     "data": {
      "text/plain": [
       " -|pYPK0_lin|168\n",
       "|            \\/\n",
       "|            /\\\n",
       "|            168|RPL17A|48\n",
       "|                       \\/\n",
       "|                       /\\\n",
       "|                       48|EcacpS|37\n",
       "|                                 \\/\n",
       "|                                 /\\\n",
       "|                                 37|TMA19|276\n",
       "|                                          \\/\n",
       "|                                          /\\\n",
       "|                                          276-\n",
       "|                                             |\n",
       " ---------------------------------------------"
      ]
     },
     "execution_count": 14,
     "metadata": {},
     "output_type": "execute_result"
    }
   ],
   "source": [
    "candidate.figure()"
   ]
  },
  {
   "cell_type": "markdown",
   "id": "cc2e604c",
   "metadata": {},
   "source": [
    "The candidate vector is synchronized to the 577 primer. This means that\n",
    "the plasmid origin is shifted so that it matches the backbone vector."
   ]
  },
  {
   "cell_type": "code",
   "execution_count": 15,
   "id": "49e4c663",
   "metadata": {
    "execution": {
     "iopub.execute_input": "2023-02-04T07:58:34.250445Z",
     "iopub.status.busy": "2023-02-04T07:58:34.250187Z",
     "iopub.status.idle": "2023-02-04T07:58:34.713187Z",
     "shell.execute_reply": "2023-02-04T07:58:34.712374Z"
    }
   },
   "outputs": [],
   "source": [
    "result = candidate.synced(fp_prom)"
   ]
  },
  {
   "cell_type": "markdown",
   "id": "fff8a4dc",
   "metadata": {},
   "source": [
    "### Diagnostic PCR confirmation\n",
    "\n",
    "The structure of the final vector is confirmed by two\n",
    "separate PCR reactions, one for the promoter and gene and\n",
    "one for the gene and terminator.\n",
    "\n",
    "PCR using standard primers 577 and 467 to amplify promoter and gene."
   ]
  },
  {
   "cell_type": "code",
   "execution_count": 16,
   "id": "48d19cb3",
   "metadata": {
    "execution": {
     "iopub.execute_input": "2023-02-04T07:58:34.719459Z",
     "iopub.status.busy": "2023-02-04T07:58:34.717678Z",
     "iopub.status.idle": "2023-02-04T07:58:34.743924Z",
     "shell.execute_reply": "2023-02-04T07:58:34.742987Z"
    }
   },
   "outputs": [],
   "source": [
    "product = pcr( fp_prom, rp_gene, result)"
   ]
  },
  {
   "cell_type": "markdown",
   "id": "7dd408ad",
   "metadata": {},
   "source": [
    "A correct clone should give this size in base pairs:"
   ]
  },
  {
   "cell_type": "code",
   "execution_count": 17,
   "id": "0445a375",
   "metadata": {
    "execution": {
     "iopub.execute_input": "2023-02-04T07:58:34.748265Z",
     "iopub.status.busy": "2023-02-04T07:58:34.747802Z",
     "iopub.status.idle": "2023-02-04T07:58:34.752557Z",
     "shell.execute_reply": "2023-02-04T07:58:34.750994Z"
    }
   },
   "outputs": [
    {
     "name": "stdout",
     "output_type": "stream",
     "text": [
      "1320\n"
     ]
    }
   ],
   "source": [
    "print(len(product))"
   ]
  },
  {
   "cell_type": "markdown",
   "id": "689fbca0",
   "metadata": {},
   "source": [
    "If the promoter is missing from the assembly, the PCR product will have this size in base pairs:"
   ]
  },
  {
   "cell_type": "code",
   "execution_count": 18,
   "id": "c3a5576f",
   "metadata": {
    "execution": {
     "iopub.execute_input": "2023-02-04T07:58:34.760806Z",
     "iopub.status.busy": "2023-02-04T07:58:34.759879Z",
     "iopub.status.idle": "2023-02-04T07:58:34.765700Z",
     "shell.execute_reply": "2023-02-04T07:58:34.764622Z"
    }
   },
   "outputs": [
    {
     "name": "stdout",
     "output_type": "stream",
     "text": [
      "420\n"
     ]
    }
   ],
   "source": [
    "print(len(product) - len(prom))"
   ]
  },
  {
   "cell_type": "markdown",
   "id": "1d260966",
   "metadata": {},
   "source": [
    "If the gene is missing from the assembly, the PCR product will have this size in base pairs:"
   ]
  },
  {
   "cell_type": "code",
   "execution_count": 19,
   "id": "6b3c89a5",
   "metadata": {
    "execution": {
     "iopub.execute_input": "2023-02-04T07:58:34.770911Z",
     "iopub.status.busy": "2023-02-04T07:58:34.770151Z",
     "iopub.status.idle": "2023-02-04T07:58:34.775874Z",
     "shell.execute_reply": "2023-02-04T07:58:34.775018Z"
    }
   },
   "outputs": [
    {
     "name": "stdout",
     "output_type": "stream",
     "text": [
      "850\n"
     ]
    }
   ],
   "source": [
    "print(len(product) - len(gene))"
   ]
  },
  {
   "cell_type": "markdown",
   "id": "f8d23b9b",
   "metadata": {},
   "source": [
    "PCR using standard primers 468 and 578 to amplify gene and terminator."
   ]
  },
  {
   "cell_type": "code",
   "execution_count": 20,
   "id": "635f8a95",
   "metadata": {
    "execution": {
     "iopub.execute_input": "2023-02-04T07:58:34.780866Z",
     "iopub.status.busy": "2023-02-04T07:58:34.780046Z",
     "iopub.status.idle": "2023-02-04T07:58:34.813438Z",
     "shell.execute_reply": "2023-02-04T07:58:34.812564Z"
    }
   },
   "outputs": [],
   "source": [
    "product2 = pcr( fp_gene, rp_term, result)"
   ]
  },
  {
   "cell_type": "markdown",
   "id": "ebeadd47",
   "metadata": {},
   "source": [
    "A correct clone should give this size:"
   ]
  },
  {
   "cell_type": "code",
   "execution_count": 21,
   "id": "ccf575ed",
   "metadata": {
    "execution": {
     "iopub.execute_input": "2023-02-04T07:58:34.816796Z",
     "iopub.status.busy": "2023-02-04T07:58:34.816480Z",
     "iopub.status.idle": "2023-02-04T07:58:34.823890Z",
     "shell.execute_reply": "2023-02-04T07:58:34.822484Z"
    }
   },
   "outputs": [
    {
     "name": "stdout",
     "output_type": "stream",
     "text": [
      "1177\n"
     ]
    }
   ],
   "source": [
    "print(len(product2))"
   ]
  },
  {
   "cell_type": "markdown",
   "id": "98bbec5b",
   "metadata": {},
   "source": [
    "If the gene is missing from the assembly, the PCR product will have this size in base pairs:"
   ]
  },
  {
   "cell_type": "code",
   "execution_count": 22,
   "id": "e876437d",
   "metadata": {
    "execution": {
     "iopub.execute_input": "2023-02-04T07:58:34.835955Z",
     "iopub.status.busy": "2023-02-04T07:58:34.834476Z",
     "iopub.status.idle": "2023-02-04T07:58:34.841947Z",
     "shell.execute_reply": "2023-02-04T07:58:34.840841Z"
    }
   },
   "outputs": [
    {
     "name": "stdout",
     "output_type": "stream",
     "text": [
      "707\n"
     ]
    }
   ],
   "source": [
    "print(len(product2) - len(gene))"
   ]
  },
  {
   "cell_type": "markdown",
   "id": "a48638a1",
   "metadata": {},
   "source": [
    "If the terminator is missing from the assembly, the PCR product will have this size in base pairs:"
   ]
  },
  {
   "cell_type": "code",
   "execution_count": 23,
   "id": "20d17b0b",
   "metadata": {
    "execution": {
     "iopub.execute_input": "2023-02-04T07:58:34.846342Z",
     "iopub.status.busy": "2023-02-04T07:58:34.846022Z",
     "iopub.status.idle": "2023-02-04T07:58:34.851043Z",
     "shell.execute_reply": "2023-02-04T07:58:34.850195Z"
    }
   },
   "outputs": [
    {
     "name": "stdout",
     "output_type": "stream",
     "text": [
      "433\n"
     ]
    }
   ],
   "source": [
    "print(len(product2) - len(term))"
   ]
  },
  {
   "cell_type": "markdown",
   "id": "1580df1d",
   "metadata": {},
   "source": [
    "The cseguid checksum for the resulting plasmid is calculated for future reference.\n",
    "The [cseguid checksum](http://pydna.readthedocs.org/en/latest/pydna.html#pydna.utils.cseguid)\n",
    "uniquely identifies a circular double stranded sequence."
   ]
  },
  {
   "cell_type": "code",
   "execution_count": 24,
   "id": "065d8372",
   "metadata": {
    "execution": {
     "iopub.execute_input": "2023-02-04T07:58:34.856902Z",
     "iopub.status.busy": "2023-02-04T07:58:34.856522Z",
     "iopub.status.idle": "2023-02-04T07:58:34.876024Z",
     "shell.execute_reply": "2023-02-04T07:58:34.872518Z"
    }
   },
   "outputs": [
    {
     "name": "stdout",
     "output_type": "stream",
     "text": [
      "AcOaLLnZOeAfLrzmnB6kH8Xvz9E\n"
     ]
    }
   ],
   "source": [
    "print(result.cseguid())"
   ]
  },
  {
   "cell_type": "markdown",
   "id": "8f480e5c",
   "metadata": {},
   "source": [
    "The file name is based on the promoter, gene and terminator designations."
   ]
  },
  {
   "cell_type": "code",
   "execution_count": 25,
   "id": "e7cbd802",
   "metadata": {
    "execution": {
     "iopub.execute_input": "2023-02-04T07:58:34.881972Z",
     "iopub.status.busy": "2023-02-04T07:58:34.881195Z",
     "iopub.status.idle": "2023-02-04T07:58:34.887381Z",
     "shell.execute_reply": "2023-02-04T07:58:34.885073Z"
    }
   },
   "outputs": [],
   "source": [
    "result.locus = f\"tu:{gene.name}\"[:16]\n",
    "result.definition = \"pYPK0_RPL17A_EcacpS_TMA19\""
   ]
  },
  {
   "cell_type": "markdown",
   "id": "96666bf8",
   "metadata": {},
   "source": [
    "Sequence is stamped with cseguid checksum. This can be used to verify the\n",
    "integrity of the sequence file."
   ]
  },
  {
   "cell_type": "code",
   "execution_count": 26,
   "id": "7b930a53",
   "metadata": {
    "execution": {
     "iopub.execute_input": "2023-02-04T07:58:34.893005Z",
     "iopub.status.busy": "2023-02-04T07:58:34.892529Z",
     "iopub.status.idle": "2023-02-04T07:58:34.909140Z",
     "shell.execute_reply": "2023-02-04T07:58:34.906058Z"
    }
   },
   "outputs": [
    {
     "data": {
      "text/plain": [
       "AcOaLLnZOeAfLrzmnB6kH8Xvz9E"
      ]
     },
     "execution_count": 26,
     "metadata": {},
     "output_type": "execute_result"
    }
   ],
   "source": [
    "result.stamp(\"cSEGUID\")"
   ]
  },
  {
   "cell_type": "markdown",
   "id": "b7320e8c",
   "metadata": {},
   "source": [
    "Write sequence to a local file."
   ]
  },
  {
   "cell_type": "code",
   "execution_count": 27,
   "id": "be697246",
   "metadata": {
    "execution": {
     "iopub.execute_input": "2023-02-04T07:58:34.919066Z",
     "iopub.status.busy": "2023-02-04T07:58:34.918507Z",
     "iopub.status.idle": "2023-02-04T07:58:34.930287Z",
     "shell.execute_reply": "2023-02-04T07:58:34.929128Z"
    }
   },
   "outputs": [
    {
     "data": {
      "text/html": [
       "<font face=monospace><a href='pYPK0_RPL17A_EcacpS_TMA19.gb' target='_blank'>pYPK0_RPL17A_EcacpS_TMA19.gb</a></font><br>"
      ]
     },
     "metadata": {},
     "output_type": "display_data"
    }
   ],
   "source": [
    "result.write(f\"{result.definition}.gb\")"
   ]
  },
  {
   "cell_type": "markdown",
   "id": "318d857b",
   "metadata": {
    "lines_to_next_cell": 0
   },
   "source": [
    "### Suggested PCR programs\n",
    "\n",
    "For the [amplification](#PCR) of promoter, gene and terminator."
   ]
  },
  {
   "cell_type": "code",
   "execution_count": 28,
   "id": "34602357",
   "metadata": {
    "execution": {
     "iopub.execute_input": "2023-02-04T07:58:34.934247Z",
     "iopub.status.busy": "2023-02-04T07:58:34.933804Z",
     "iopub.status.idle": "2023-02-04T07:58:34.942958Z",
     "shell.execute_reply": "2023-02-04T07:58:34.941471Z"
    }
   },
   "outputs": [
    {
     "name": "stdout",
     "output_type": "stream",
     "text": [
      "577_crp585-557 567_pCAPsAjiIF\n",
      "|95°C|95°C               |    |tmf:64.6\n",
      "|____|_____          72°C|72°C|tmr:69.7\n",
      "|3min|30s  \\ 57.5°C _____|____|45s/kb\n",
      "|    |      \\______/ 0:40|5min|GC 40%\n",
      "|    |       30s         |    |900bp\n"
     ]
    }
   ],
   "source": [
    "print(prom.forward_primer.name, prom.reverse_primer.name)\n",
    "print(prom.program())"
   ]
  },
  {
   "cell_type": "code",
   "execution_count": 29,
   "id": "00b36dc4",
   "metadata": {
    "execution": {
     "iopub.execute_input": "2023-02-04T07:58:34.948949Z",
     "iopub.status.busy": "2023-02-04T07:58:34.946066Z",
     "iopub.status.idle": "2023-02-04T07:58:34.957571Z",
     "shell.execute_reply": "2023-02-04T07:58:34.953307Z"
    }
   },
   "outputs": [
    {
     "name": "stdout",
     "output_type": "stream",
     "text": [
      "468_pCAPs_release_fw 467_pCAPs_release_re\n",
      "|95°C|95°C               |    |tmf:76.9\n",
      "|____|_____          72°C|72°C|tmr:67.9\n",
      "|3min|30s  \\ 61.2°C _____|____|45s/kb\n",
      "|    |      \\______/ 0:30|5min|GC 51%\n",
      "|    |       30s         |    |470bp\n"
     ]
    }
   ],
   "source": [
    "print(gene.forward_primer.name, gene.reverse_primer.name)\n",
    "print(gene.program())"
   ]
  },
  {
   "cell_type": "code",
   "execution_count": 30,
   "id": "d4550a3c",
   "metadata": {
    "execution": {
     "iopub.execute_input": "2023-02-04T07:58:34.962344Z",
     "iopub.status.busy": "2023-02-04T07:58:34.962018Z",
     "iopub.status.idle": "2023-02-04T07:58:34.971691Z",
     "shell.execute_reply": "2023-02-04T07:58:34.970280Z"
    }
   },
   "outputs": [
    {
     "name": "stdout",
     "output_type": "stream",
     "text": [
      "568_pCAPsAjiIR 578_crp42-70\n",
      "|95°C|95°C               |    |tmf:66.1\n",
      "|____|_____          72°C|72°C|tmr:65.0\n",
      "|3min|30s  \\ 56.1°C _____|____|45s/kb\n",
      "|    |      \\______/ 0:33|5min|GC 35%\n",
      "|    |       30s         |    |744bp\n"
     ]
    }
   ],
   "source": [
    "print(term.forward_primer.name, term.reverse_primer.name)\n",
    "print(term.program())"
   ]
  }
 ],
 "metadata": {
  "jupytext": {
   "main_language": "python",
   "text_representation": {
    "extension": ".py",
    "format_name": "percent",
    "format_version": "1.3",
    "jupytext_version": "1.14.0"
   }
  },
  "language_info": {
   "codemirror_mode": {
    "name": "ipython",
    "version": 3
   },
   "file_extension": ".py",
   "mimetype": "text/x-python",
   "name": "python",
   "nbconvert_exporter": "python",
   "pygments_lexer": "ipython3",
   "version": "3.11.0"
  }
 },
 "nbformat": 4,
 "nbformat_minor": 5
}
