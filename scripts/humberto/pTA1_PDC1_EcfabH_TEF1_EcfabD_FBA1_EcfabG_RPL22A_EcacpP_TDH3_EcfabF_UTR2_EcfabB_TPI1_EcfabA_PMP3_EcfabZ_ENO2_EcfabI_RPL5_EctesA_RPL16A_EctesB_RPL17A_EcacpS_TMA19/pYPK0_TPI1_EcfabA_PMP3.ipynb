{
 "cells": [
  {
   "cell_type": "markdown",
   "id": "294ba225",
   "metadata": {},
   "source": [
    "# [![logo](logo.png)](https://github.com/BjornFJohansson/ypkpathway#-ypkpathway) pYPK0_TPI1_EcfabA_PMP3\n",
    "\n",
    "Assembly of a [_Saccharomyces cerevisiae_](http://www.yeastgenome.org) transcriptional unit vector.\n",
    "\n",
    "Made from a linear vector fragment and three PCR products:\n",
    "\n",
    "- a linearized pYPK0 vector for maintenance in _S. cerevisiae_ or _E. coli_ (red dashed line in figure below)\n",
    "- a promoter PCR product from the `pYPKa_Z_TPI1` vector\n",
    "- a gene PCR product from the `pYPKa_A_EcfabA` vector\n",
    "- a terminator PCR product from the `pYPKa_E_PMP3` vector\n",
    "\n",
    "The four linear DNA fragments are joined by _in-vivo_ homologous recombination in a\n",
    "[_Saccharomyces cerevisiae_](http://wiki.yeastgenome.org/index.php/Commonly_used_strains) strain.\n",
    "\n",
    "![tu](tu.png \"tu\")\n",
    "\n",
    "A part of the [pydna](https://pypi.python.org/pypi/pydna/) package is imported in the code cell below."
   ]
  },
  {
   "cell_type": "code",
   "execution_count": 1,
   "id": "358008ea",
   "metadata": {
    "execution": {
     "iopub.execute_input": "2023-02-04T07:58:11.163559Z",
     "iopub.status.busy": "2023-02-04T07:58:11.163196Z",
     "iopub.status.idle": "2023-02-04T07:58:11.616093Z",
     "shell.execute_reply": "2023-02-04T07:58:11.615074Z"
    }
   },
   "outputs": [],
   "source": [
    "from pydna.parsers import parse_primers\n",
    "from pydna.readers import read\n",
    "from pydna.amplify import pcr\n",
    "from pydna.assembly import Assembly"
   ]
  },
  {
   "cell_type": "markdown",
   "id": "f69874da",
   "metadata": {},
   "source": [
    "The Yeast Pathway Kit [standard primers](standard_primers.fasta) are read into a dictionary in the code cell below."
   ]
  },
  {
   "cell_type": "code",
   "execution_count": 2,
   "id": "d58d2a9a",
   "metadata": {
    "execution": {
     "iopub.execute_input": "2023-02-04T07:58:11.621752Z",
     "iopub.status.busy": "2023-02-04T07:58:11.621046Z",
     "iopub.status.idle": "2023-02-04T07:58:11.631368Z",
     "shell.execute_reply": "2023-02-04T07:58:11.630801Z"
    }
   },
   "outputs": [],
   "source": [
    "p = {x.name: x for x in parse_primers(\"standard_primers.fasta\")}"
   ]
  },
  {
   "cell_type": "markdown",
   "id": "a1e47f70",
   "metadata": {},
   "source": [
    "The backbone vector [pYPK0](pYPK0.gb) is read from a local file in the code cell below."
   ]
  },
  {
   "cell_type": "code",
   "execution_count": 3,
   "id": "9d6b6019",
   "metadata": {
    "execution": {
     "iopub.execute_input": "2023-02-04T07:58:11.635011Z",
     "iopub.status.busy": "2023-02-04T07:58:11.634701Z",
     "iopub.status.idle": "2023-02-04T07:58:11.648414Z",
     "shell.execute_reply": "2023-02-04T07:58:11.647320Z"
    }
   },
   "outputs": [],
   "source": [
    "backbone = read(\"pYPK0.gb\")"
   ]
  },
  {
   "cell_type": "markdown",
   "id": "1d790458",
   "metadata": {},
   "source": [
    "The backbone vector is linearized by digestion with [MfeI](https://www.google.com/search?q=MfeI)."
   ]
  },
  {
   "cell_type": "code",
   "execution_count": 4,
   "id": "95973e56",
   "metadata": {
    "execution": {
     "iopub.execute_input": "2023-02-04T07:58:11.652157Z",
     "iopub.status.busy": "2023-02-04T07:58:11.651908Z",
     "iopub.status.idle": "2023-02-04T07:58:11.656789Z",
     "shell.execute_reply": "2023-02-04T07:58:11.655971Z"
    }
   },
   "outputs": [],
   "source": [
    "from Bio.Restriction import MfeI"
   ]
  },
  {
   "cell_type": "code",
   "execution_count": 5,
   "id": "5c83a243",
   "metadata": {
    "execution": {
     "iopub.execute_input": "2023-02-04T07:58:11.659735Z",
     "iopub.status.busy": "2023-02-04T07:58:11.659456Z",
     "iopub.status.idle": "2023-02-04T07:58:11.666740Z",
     "shell.execute_reply": "2023-02-04T07:58:11.665981Z"
    }
   },
   "outputs": [],
   "source": [
    "linear_backbone = backbone.linearize(MfeI)"
   ]
  },
  {
   "cell_type": "markdown",
   "id": "2630c7c6",
   "metadata": {},
   "source": [
    "The pYPKa derived _E. coli_ plasmids containing\n",
    "- [promoter](pYPKa_Z_TPI1.gb)\n",
    "- [gene](pYPKa_A_EcfabA.gb)\n",
    "- [terminator](pYPKa_E_PMP3.gb)\n",
    "\n",
    "are read into three variables below."
   ]
  },
  {
   "cell_type": "code",
   "execution_count": 6,
   "id": "91ee3638",
   "metadata": {
    "execution": {
     "iopub.execute_input": "2023-02-04T07:58:11.669499Z",
     "iopub.status.busy": "2023-02-04T07:58:11.669237Z",
     "iopub.status.idle": "2023-02-04T07:58:11.686963Z",
     "shell.execute_reply": "2023-02-04T07:58:11.686301Z"
    }
   },
   "outputs": [],
   "source": [
    "promoter_template   = read(\"pYPKa_Z_TPI1.gb\")\n",
    "gene_template       = read(\"pYPKa_A_EcfabA.gb\")\n",
    "terminator_template = read(\"pYPKa_E_PMP3.gb\")"
   ]
  },
  {
   "cell_type": "markdown",
   "id": "4eb420e1",
   "metadata": {
    "lines_to_next_cell": 0
   },
   "source": [
    "### PCR\n",
    "Three DNA fragments are PCR amplified using [standard primers](standard_primers.fasta).\n",
    "\n",
    "[Suggested PCR programs](#Suggested-PCR-programs) can be found at the end of this document."
   ]
  },
  {
   "cell_type": "code",
   "execution_count": 7,
   "id": "7ca19b67",
   "metadata": {
    "execution": {
     "iopub.execute_input": "2023-02-04T07:58:11.689814Z",
     "iopub.status.busy": "2023-02-04T07:58:11.689386Z",
     "iopub.status.idle": "2023-02-04T07:58:11.694567Z",
     "shell.execute_reply": "2023-02-04T07:58:11.694004Z"
    }
   },
   "outputs": [],
   "source": [
    "\n",
    "fp_prom = p['577_crp585-557']\n",
    "rp_prom = p['567_pCAPsAjiIF']\n",
    "fp_gene = p['468_pCAPs_release_fw']\n",
    "rp_gene = p['467_pCAPs_release_re']\n",
    "fp_term = p['568_pCAPsAjiIR']\n",
    "rp_term = p['578_crp42-70']"
   ]
  },
  {
   "cell_type": "code",
   "execution_count": 8,
   "id": "340936ab",
   "metadata": {
    "execution": {
     "iopub.execute_input": "2023-02-04T07:58:11.697119Z",
     "iopub.status.busy": "2023-02-04T07:58:11.696905Z",
     "iopub.status.idle": "2023-02-04T07:58:11.721055Z",
     "shell.execute_reply": "2023-02-04T07:58:11.720451Z"
    }
   },
   "outputs": [],
   "source": [
    "prom = pcr(fp_prom, rp_prom, promoter_template)\n",
    "gene = pcr(fp_gene, rp_gene, gene_template)\n",
    "term = pcr(fp_term, rp_term, terminator_template)"
   ]
  },
  {
   "cell_type": "code",
   "execution_count": 9,
   "id": "fd55b091",
   "metadata": {
    "execution": {
     "iopub.execute_input": "2023-02-04T07:58:11.723635Z",
     "iopub.status.busy": "2023-02-04T07:58:11.723431Z",
     "iopub.status.idle": "2023-02-04T07:58:11.726707Z",
     "shell.execute_reply": "2023-02-04T07:58:11.726124Z"
    }
   },
   "outputs": [],
   "source": [
    "prom.name = \"pYPKa_Z_TPI1\"[8:]\n",
    "gene.name = \"pYPKa_A_EcfabA\"[8:]\n",
    "term.name = \"pYPKa_E_PMP3\"[8:]"
   ]
  },
  {
   "cell_type": "markdown",
   "id": "b4c5de5f",
   "metadata": {},
   "source": [
    "\n",
    "The fragments will be assembled by _in-vivo_ [homologous recombination](http://www.ncbi.nlm.nih.gov/pubmed/2828185):"
   ]
  },
  {
   "cell_type": "code",
   "execution_count": 10,
   "id": "776a2809",
   "metadata": {
    "execution": {
     "iopub.execute_input": "2023-02-04T07:58:11.730291Z",
     "iopub.status.busy": "2023-02-04T07:58:11.729959Z",
     "iopub.status.idle": "2023-02-04T07:58:12.139124Z",
     "shell.execute_reply": "2023-02-04T07:58:12.138608Z"
    }
   },
   "outputs": [
    {
     "data": {
      "text/plain": [
       "Assembly\n",
       "fragments..: 5766bp 814bp 608bp 1096bp\n",
       "limit(bp)..: 31\n",
       "G.nodes....: 10\n",
       "algorithm..: common_sub_strings"
      ]
     },
     "execution_count": 10,
     "metadata": {},
     "output_type": "execute_result"
    }
   ],
   "source": [
    "asm = Assembly((linear_backbone, prom, gene, term), limit=31)\n",
    "asm"
   ]
  },
  {
   "cell_type": "markdown",
   "id": "87fab820",
   "metadata": {},
   "source": [
    "The Assembly object above should normally indicate four fragments and eight nodes."
   ]
  },
  {
   "cell_type": "code",
   "execution_count": 11,
   "id": "50e237b9",
   "metadata": {
    "execution": {
     "iopub.execute_input": "2023-02-04T07:58:12.141594Z",
     "iopub.status.busy": "2023-02-04T07:58:12.141386Z",
     "iopub.status.idle": "2023-02-04T07:58:12.366870Z",
     "shell.execute_reply": "2023-02-04T07:58:12.366334Z"
    },
    "lines_to_next_cell": 0
   },
   "outputs": [
    {
     "data": {
      "text/plain": [
       "[Contig(o7649), Contig(o7649), Contig(o7649), Contig(o7053), Contig(o7053)]"
      ]
     },
     "execution_count": 11,
     "metadata": {},
     "output_type": "execute_result"
    }
   ],
   "source": [
    "candidates = asm.assemble_circular()\n",
    "candidates"
   ]
  },
  {
   "cell_type": "markdown",
   "id": "9a194934",
   "metadata": {},
   "source": [
    "There should normally be two candidates of equal size. These sequences should be identical."
   ]
  },
  {
   "cell_type": "code",
   "execution_count": 12,
   "id": "aa2c782b",
   "metadata": {
    "execution": {
     "iopub.execute_input": "2023-02-04T07:58:12.369826Z",
     "iopub.status.busy": "2023-02-04T07:58:12.369618Z",
     "iopub.status.idle": "2023-02-04T07:58:12.374044Z",
     "shell.execute_reply": "2023-02-04T07:58:12.372926Z"
    },
    "lines_to_next_cell": 0
   },
   "outputs": [],
   "source": [
    "candidate, *rest = candidates"
   ]
  },
  {
   "cell_type": "code",
   "execution_count": 13,
   "id": "1f0fcc12",
   "metadata": {
    "execution": {
     "iopub.execute_input": "2023-02-04T07:58:12.377993Z",
     "iopub.status.busy": "2023-02-04T07:58:12.377629Z",
     "iopub.status.idle": "2023-02-04T07:58:12.398451Z",
     "shell.execute_reply": "2023-02-04T07:58:12.397836Z"
    },
    "lines_to_next_cell": 0
   },
   "outputs": [
    {
     "data": {
      "text/plain": [
       "True"
      ]
     },
     "execution_count": 13,
     "metadata": {},
     "output_type": "execute_result"
    }
   ],
   "source": [
    "candidate.cseguid() == rest[0].cseguid()"
   ]
  },
  {
   "cell_type": "code",
   "execution_count": 14,
   "id": "5d70acab",
   "metadata": {
    "execution": {
     "iopub.execute_input": "2023-02-04T07:58:12.400918Z",
     "iopub.status.busy": "2023-02-04T07:58:12.400692Z",
     "iopub.status.idle": "2023-02-04T07:58:12.407005Z",
     "shell.execute_reply": "2023-02-04T07:58:12.405293Z"
    },
    "lines_to_next_cell": 0
   },
   "outputs": [
    {
     "data": {
      "text/plain": [
       " -|pYPK0_lin|168\n",
       "|            \\/\n",
       "|            /\\\n",
       "|            168|TPI1|48\n",
       "|                     \\/\n",
       "|                     /\\\n",
       "|                     48|EcfabA|37\n",
       "|                               \\/\n",
       "|                               /\\\n",
       "|                               37|PMP3|276\n",
       "|                                       \\/\n",
       "|                                       /\\\n",
       "|                                       276-\n",
       "|                                          |\n",
       " ------------------------------------------"
      ]
     },
     "execution_count": 14,
     "metadata": {},
     "output_type": "execute_result"
    }
   ],
   "source": [
    "candidate.figure()"
   ]
  },
  {
   "cell_type": "markdown",
   "id": "f2426150",
   "metadata": {},
   "source": [
    "The candidate vector is synchronized to the 577 primer. This means that\n",
    "the plasmid origin is shifted so that it matches the backbone vector."
   ]
  },
  {
   "cell_type": "code",
   "execution_count": 15,
   "id": "276aabfd",
   "metadata": {
    "execution": {
     "iopub.execute_input": "2023-02-04T07:58:12.411317Z",
     "iopub.status.busy": "2023-02-04T07:58:12.410743Z",
     "iopub.status.idle": "2023-02-04T07:58:12.803674Z",
     "shell.execute_reply": "2023-02-04T07:58:12.803097Z"
    }
   },
   "outputs": [],
   "source": [
    "result = candidate.synced(fp_prom)"
   ]
  },
  {
   "cell_type": "markdown",
   "id": "b833b96f",
   "metadata": {},
   "source": [
    "### Diagnostic PCR confirmation\n",
    "\n",
    "The structure of the final vector is confirmed by two\n",
    "separate PCR reactions, one for the promoter and gene and\n",
    "one for the gene and terminator.\n",
    "\n",
    "PCR using standard primers 577 and 467 to amplify promoter and gene."
   ]
  },
  {
   "cell_type": "code",
   "execution_count": 16,
   "id": "854a6a87",
   "metadata": {
    "execution": {
     "iopub.execute_input": "2023-02-04T07:58:12.806993Z",
     "iopub.status.busy": "2023-02-04T07:58:12.806467Z",
     "iopub.status.idle": "2023-02-04T07:58:12.823697Z",
     "shell.execute_reply": "2023-02-04T07:58:12.823117Z"
    }
   },
   "outputs": [],
   "source": [
    "product = pcr( fp_prom, rp_gene, result)"
   ]
  },
  {
   "cell_type": "markdown",
   "id": "1bf14ec7",
   "metadata": {},
   "source": [
    "A correct clone should give this size in base pairs:"
   ]
  },
  {
   "cell_type": "code",
   "execution_count": 17,
   "id": "61df164d",
   "metadata": {
    "execution": {
     "iopub.execute_input": "2023-02-04T07:58:12.826332Z",
     "iopub.status.busy": "2023-02-04T07:58:12.826101Z",
     "iopub.status.idle": "2023-02-04T07:58:12.829459Z",
     "shell.execute_reply": "2023-02-04T07:58:12.828949Z"
    }
   },
   "outputs": [
    {
     "name": "stdout",
     "output_type": "stream",
     "text": [
      "1372\n"
     ]
    }
   ],
   "source": [
    "print(len(product))"
   ]
  },
  {
   "cell_type": "markdown",
   "id": "c9934473",
   "metadata": {},
   "source": [
    "If the promoter is missing from the assembly, the PCR product will have this size in base pairs:"
   ]
  },
  {
   "cell_type": "code",
   "execution_count": 18,
   "id": "6ba64c29",
   "metadata": {
    "execution": {
     "iopub.execute_input": "2023-02-04T07:58:12.832960Z",
     "iopub.status.busy": "2023-02-04T07:58:12.832634Z",
     "iopub.status.idle": "2023-02-04T07:58:12.837714Z",
     "shell.execute_reply": "2023-02-04T07:58:12.836747Z"
    }
   },
   "outputs": [
    {
     "name": "stdout",
     "output_type": "stream",
     "text": [
      "558\n"
     ]
    }
   ],
   "source": [
    "print(len(product) - len(prom))"
   ]
  },
  {
   "cell_type": "markdown",
   "id": "84b3f4bd",
   "metadata": {},
   "source": [
    "If the gene is missing from the assembly, the PCR product will have this size in base pairs:"
   ]
  },
  {
   "cell_type": "code",
   "execution_count": 19,
   "id": "6b33dd73",
   "metadata": {
    "execution": {
     "iopub.execute_input": "2023-02-04T07:58:12.842329Z",
     "iopub.status.busy": "2023-02-04T07:58:12.841862Z",
     "iopub.status.idle": "2023-02-04T07:58:12.846086Z",
     "shell.execute_reply": "2023-02-04T07:58:12.845350Z"
    }
   },
   "outputs": [
    {
     "name": "stdout",
     "output_type": "stream",
     "text": [
      "764\n"
     ]
    }
   ],
   "source": [
    "print(len(product) - len(gene))"
   ]
  },
  {
   "cell_type": "markdown",
   "id": "cfa1ae8c",
   "metadata": {},
   "source": [
    "PCR using standard primers 468 and 578 to amplify gene and terminator."
   ]
  },
  {
   "cell_type": "code",
   "execution_count": 20,
   "id": "a6b0e233",
   "metadata": {
    "execution": {
     "iopub.execute_input": "2023-02-04T07:58:12.849282Z",
     "iopub.status.busy": "2023-02-04T07:58:12.849046Z",
     "iopub.status.idle": "2023-02-04T07:58:12.870470Z",
     "shell.execute_reply": "2023-02-04T07:58:12.869861Z"
    }
   },
   "outputs": [],
   "source": [
    "product2 = pcr( fp_gene, rp_term, result)"
   ]
  },
  {
   "cell_type": "markdown",
   "id": "2a0ecab2",
   "metadata": {},
   "source": [
    "A correct clone should give this size:"
   ]
  },
  {
   "cell_type": "code",
   "execution_count": 21,
   "id": "0abe2f6a",
   "metadata": {
    "execution": {
     "iopub.execute_input": "2023-02-04T07:58:12.873258Z",
     "iopub.status.busy": "2023-02-04T07:58:12.872993Z",
     "iopub.status.idle": "2023-02-04T07:58:12.876163Z",
     "shell.execute_reply": "2023-02-04T07:58:12.875603Z"
    }
   },
   "outputs": [
    {
     "name": "stdout",
     "output_type": "stream",
     "text": [
      "1667\n"
     ]
    }
   ],
   "source": [
    "print(len(product2))"
   ]
  },
  {
   "cell_type": "markdown",
   "id": "35ff5a27",
   "metadata": {},
   "source": [
    "If the gene is missing from the assembly, the PCR product will have this size in base pairs:"
   ]
  },
  {
   "cell_type": "code",
   "execution_count": 22,
   "id": "43c88924",
   "metadata": {
    "execution": {
     "iopub.execute_input": "2023-02-04T07:58:12.879005Z",
     "iopub.status.busy": "2023-02-04T07:58:12.878756Z",
     "iopub.status.idle": "2023-02-04T07:58:12.883243Z",
     "shell.execute_reply": "2023-02-04T07:58:12.882394Z"
    }
   },
   "outputs": [
    {
     "name": "stdout",
     "output_type": "stream",
     "text": [
      "1059\n"
     ]
    }
   ],
   "source": [
    "print(len(product2) - len(gene))"
   ]
  },
  {
   "cell_type": "markdown",
   "id": "758bbf9e",
   "metadata": {},
   "source": [
    "If the terminator is missing from the assembly, the PCR product will have this size in base pairs:"
   ]
  },
  {
   "cell_type": "code",
   "execution_count": 23,
   "id": "1a37fb81",
   "metadata": {
    "execution": {
     "iopub.execute_input": "2023-02-04T07:58:12.887134Z",
     "iopub.status.busy": "2023-02-04T07:58:12.886693Z",
     "iopub.status.idle": "2023-02-04T07:58:12.890048Z",
     "shell.execute_reply": "2023-02-04T07:58:12.889446Z"
    }
   },
   "outputs": [
    {
     "name": "stdout",
     "output_type": "stream",
     "text": [
      "571\n"
     ]
    }
   ],
   "source": [
    "print(len(product2) - len(term))"
   ]
  },
  {
   "cell_type": "markdown",
   "id": "bdff6885",
   "metadata": {},
   "source": [
    "The cseguid checksum for the resulting plasmid is calculated for future reference.\n",
    "The [cseguid checksum](http://pydna.readthedocs.org/en/latest/pydna.html#pydna.utils.cseguid)\n",
    "uniquely identifies a circular double stranded sequence."
   ]
  },
  {
   "cell_type": "code",
   "execution_count": 24,
   "id": "b87d6ac8",
   "metadata": {
    "execution": {
     "iopub.execute_input": "2023-02-04T07:58:12.892871Z",
     "iopub.status.busy": "2023-02-04T07:58:12.892383Z",
     "iopub.status.idle": "2023-02-04T07:58:12.903354Z",
     "shell.execute_reply": "2023-02-04T07:58:12.902603Z"
    }
   },
   "outputs": [
    {
     "name": "stdout",
     "output_type": "stream",
     "text": [
      "b69UJ57c-OMvguc2CZReyYqmq4E\n"
     ]
    }
   ],
   "source": [
    "print(result.cseguid())"
   ]
  },
  {
   "cell_type": "markdown",
   "id": "0896becf",
   "metadata": {},
   "source": [
    "The file name is based on the promoter, gene and terminator designations."
   ]
  },
  {
   "cell_type": "code",
   "execution_count": 25,
   "id": "c1cd8134",
   "metadata": {
    "execution": {
     "iopub.execute_input": "2023-02-04T07:58:12.906080Z",
     "iopub.status.busy": "2023-02-04T07:58:12.905603Z",
     "iopub.status.idle": "2023-02-04T07:58:12.908945Z",
     "shell.execute_reply": "2023-02-04T07:58:12.908326Z"
    }
   },
   "outputs": [],
   "source": [
    "result.locus = f\"tu:{gene.name}\"[:16]\n",
    "result.definition = \"pYPK0_TPI1_EcfabA_PMP3\""
   ]
  },
  {
   "cell_type": "markdown",
   "id": "05f33f2d",
   "metadata": {},
   "source": [
    "Sequence is stamped with cseguid checksum. This can be used to verify the\n",
    "integrity of the sequence file."
   ]
  },
  {
   "cell_type": "code",
   "execution_count": 26,
   "id": "200dac51",
   "metadata": {
    "execution": {
     "iopub.execute_input": "2023-02-04T07:58:12.912108Z",
     "iopub.status.busy": "2023-02-04T07:58:12.911859Z",
     "iopub.status.idle": "2023-02-04T07:58:12.923897Z",
     "shell.execute_reply": "2023-02-04T07:58:12.923398Z"
    }
   },
   "outputs": [
    {
     "data": {
      "text/plain": [
       "b69UJ57c-OMvguc2CZReyYqmq4E"
      ]
     },
     "execution_count": 26,
     "metadata": {},
     "output_type": "execute_result"
    }
   ],
   "source": [
    "result.stamp(\"cSEGUID\")"
   ]
  },
  {
   "cell_type": "markdown",
   "id": "a15061d8",
   "metadata": {},
   "source": [
    "Write sequence to a local file."
   ]
  },
  {
   "cell_type": "code",
   "execution_count": 27,
   "id": "f9f9d468",
   "metadata": {
    "execution": {
     "iopub.execute_input": "2023-02-04T07:58:12.926841Z",
     "iopub.status.busy": "2023-02-04T07:58:12.926439Z",
     "iopub.status.idle": "2023-02-04T07:58:12.932981Z",
     "shell.execute_reply": "2023-02-04T07:58:12.932071Z"
    }
   },
   "outputs": [
    {
     "data": {
      "text/html": [
       "<font face=monospace><a href='pYPK0_TPI1_EcfabA_PMP3.gb' target='_blank'>pYPK0_TPI1_EcfabA_PMP3.gb</a></font><br>"
      ]
     },
     "metadata": {},
     "output_type": "display_data"
    }
   ],
   "source": [
    "result.write(f\"{result.definition}.gb\")"
   ]
  },
  {
   "cell_type": "markdown",
   "id": "3b4476a0",
   "metadata": {
    "lines_to_next_cell": 0
   },
   "source": [
    "### Suggested PCR programs\n",
    "\n",
    "For the [amplification](#PCR) of promoter, gene and terminator."
   ]
  },
  {
   "cell_type": "code",
   "execution_count": 28,
   "id": "11be9451",
   "metadata": {
    "execution": {
     "iopub.execute_input": "2023-02-04T07:58:12.936921Z",
     "iopub.status.busy": "2023-02-04T07:58:12.936614Z",
     "iopub.status.idle": "2023-02-04T07:58:12.941620Z",
     "shell.execute_reply": "2023-02-04T07:58:12.940812Z"
    }
   },
   "outputs": [
    {
     "name": "stdout",
     "output_type": "stream",
     "text": [
      "577_crp585-557 567_pCAPsAjiIF\n",
      "|95°C|95°C               |    |tmf:64.6\n",
      "|____|_____          72°C|72°C|tmr:69.7\n",
      "|3min|30s  \\ 57.2°C _____|____|45s/kb\n",
      "|    |      \\______/ 0:36|5min|GC 39%\n",
      "|    |       30s         |    |814bp\n"
     ]
    }
   ],
   "source": [
    "print(prom.forward_primer.name, prom.reverse_primer.name)\n",
    "print(prom.program())"
   ]
  },
  {
   "cell_type": "code",
   "execution_count": 29,
   "id": "3a2883de",
   "metadata": {
    "execution": {
     "iopub.execute_input": "2023-02-04T07:58:12.944867Z",
     "iopub.status.busy": "2023-02-04T07:58:12.944345Z",
     "iopub.status.idle": "2023-02-04T07:58:12.949563Z",
     "shell.execute_reply": "2023-02-04T07:58:12.948756Z"
    }
   },
   "outputs": [
    {
     "name": "stdout",
     "output_type": "stream",
     "text": [
      "468_pCAPs_release_fw 467_pCAPs_release_re\n",
      "|95°C|95°C               |    |tmf:76.9\n",
      "|____|_____          72°C|72°C|tmr:67.9\n",
      "|3min|30s  \\ 61.8°C _____|____|45s/kb\n",
      "|    |      \\______/ 0:30|5min|GC 53%\n",
      "|    |       30s         |    |608bp\n"
     ]
    }
   ],
   "source": [
    "print(gene.forward_primer.name, gene.reverse_primer.name)\n",
    "print(gene.program())"
   ]
  },
  {
   "cell_type": "code",
   "execution_count": 30,
   "id": "f2a4730c",
   "metadata": {
    "execution": {
     "iopub.execute_input": "2023-02-04T07:58:12.953209Z",
     "iopub.status.busy": "2023-02-04T07:58:12.952610Z",
     "iopub.status.idle": "2023-02-04T07:58:12.958022Z",
     "shell.execute_reply": "2023-02-04T07:58:12.957069Z"
    }
   },
   "outputs": [
    {
     "name": "stdout",
     "output_type": "stream",
     "text": [
      "568_pCAPsAjiIR 578_crp42-70\n",
      "|95°C|95°C               |    |tmf:66.1\n",
      "|____|_____          72°C|72°C|tmr:65.0\n",
      "|3min|30s  \\ 58.6°C _____|____|45s/kb\n",
      "|    |      \\______/ 0:49|5min|GC 43%\n",
      "|    |       30s         |    |1096bp\n"
     ]
    }
   ],
   "source": [
    "print(term.forward_primer.name, term.reverse_primer.name)\n",
    "print(term.program())"
   ]
  }
 ],
 "metadata": {
  "jupytext": {
   "main_language": "python",
   "text_representation": {
    "extension": ".py",
    "format_name": "percent",
    "format_version": "1.3",
    "jupytext_version": "1.14.0"
   }
  },
  "language_info": {
   "codemirror_mode": {
    "name": "ipython",
    "version": 3
   },
   "file_extension": ".py",
   "mimetype": "text/x-python",
   "name": "python",
   "nbconvert_exporter": "python",
   "pygments_lexer": "ipython3",
   "version": "3.11.0"
  }
 },
 "nbformat": 4,
 "nbformat_minor": 5
}
