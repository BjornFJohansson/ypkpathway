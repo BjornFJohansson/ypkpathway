{
 "cells": [
  {
   "cell_type": "markdown",
   "id": "63101fe6",
   "metadata": {},
   "source": [
    "# [![logo](logo.png)](https://github.com/BjornFJohansson/ypkpathway#-ypkpathway) pYPK0_PMP3_EcfabZ_ENO2\n",
    "\n",
    "Assembly of a [_Saccharomyces cerevisiae_](http://www.yeastgenome.org) transcriptional unit vector.\n",
    "\n",
    "Made from a linear vector fragment and three PCR products:\n",
    "\n",
    "- a linearized pYPK0 vector for maintenance in _S. cerevisiae_ or _E. coli_ (red dashed line in figure below)\n",
    "- a promoter PCR product from the `pYPKa_Z_PMP3` vector\n",
    "- a gene PCR product from the `pYPKa_A_EcfabZ` vector\n",
    "- a terminator PCR product from the `pYPKa_E_ENO2` vector\n",
    "\n",
    "The four linear DNA fragments are joined by _in-vivo_ homologous recombination in a\n",
    "[_Saccharomyces cerevisiae_](http://wiki.yeastgenome.org/index.php/Commonly_used_strains) strain.\n",
    "\n",
    "![tu](tu.png \"tu\")\n",
    "\n",
    "A part of the [pydna](https://pypi.python.org/pypi/pydna/) package is imported in the code cell below."
   ]
  },
  {
   "cell_type": "code",
   "execution_count": 1,
   "id": "3958210d",
   "metadata": {
    "execution": {
     "iopub.execute_input": "2023-02-04T07:58:14.306652Z",
     "iopub.status.busy": "2023-02-04T07:58:14.305868Z",
     "iopub.status.idle": "2023-02-04T07:58:14.656333Z",
     "shell.execute_reply": "2023-02-04T07:58:14.655654Z"
    }
   },
   "outputs": [],
   "source": [
    "from pydna.parsers import parse_primers\n",
    "from pydna.readers import read\n",
    "from pydna.amplify import pcr\n",
    "from pydna.assembly import Assembly"
   ]
  },
  {
   "cell_type": "markdown",
   "id": "c564d5ca",
   "metadata": {},
   "source": [
    "The Yeast Pathway Kit [standard primers](standard_primers.fasta) are read into a dictionary in the code cell below."
   ]
  },
  {
   "cell_type": "code",
   "execution_count": 2,
   "id": "68cc76eb",
   "metadata": {
    "execution": {
     "iopub.execute_input": "2023-02-04T07:58:14.659716Z",
     "iopub.status.busy": "2023-02-04T07:58:14.659302Z",
     "iopub.status.idle": "2023-02-04T07:58:14.672869Z",
     "shell.execute_reply": "2023-02-04T07:58:14.672253Z"
    }
   },
   "outputs": [],
   "source": [
    "p = {x.name: x for x in parse_primers(\"standard_primers.fasta\")}"
   ]
  },
  {
   "cell_type": "markdown",
   "id": "acee6b3f",
   "metadata": {},
   "source": [
    "The backbone vector [pYPK0](pYPK0.gb) is read from a local file in the code cell below."
   ]
  },
  {
   "cell_type": "code",
   "execution_count": 3,
   "id": "7004b21d",
   "metadata": {
    "execution": {
     "iopub.execute_input": "2023-02-04T07:58:14.675831Z",
     "iopub.status.busy": "2023-02-04T07:58:14.675640Z",
     "iopub.status.idle": "2023-02-04T07:58:14.684955Z",
     "shell.execute_reply": "2023-02-04T07:58:14.684285Z"
    }
   },
   "outputs": [],
   "source": [
    "backbone = read(\"pYPK0.gb\")"
   ]
  },
  {
   "cell_type": "markdown",
   "id": "148c3810",
   "metadata": {},
   "source": [
    "The backbone vector is linearized by digestion with [MfeI](https://www.google.com/search?q=MfeI)."
   ]
  },
  {
   "cell_type": "code",
   "execution_count": 4,
   "id": "85f355b5",
   "metadata": {
    "execution": {
     "iopub.execute_input": "2023-02-04T07:58:14.688139Z",
     "iopub.status.busy": "2023-02-04T07:58:14.687911Z",
     "iopub.status.idle": "2023-02-04T07:58:14.691212Z",
     "shell.execute_reply": "2023-02-04T07:58:14.690263Z"
    }
   },
   "outputs": [],
   "source": [
    "from Bio.Restriction import MfeI"
   ]
  },
  {
   "cell_type": "code",
   "execution_count": 5,
   "id": "22cb6148",
   "metadata": {
    "execution": {
     "iopub.execute_input": "2023-02-04T07:58:14.695540Z",
     "iopub.status.busy": "2023-02-04T07:58:14.695124Z",
     "iopub.status.idle": "2023-02-04T07:58:14.704939Z",
     "shell.execute_reply": "2023-02-04T07:58:14.704388Z"
    }
   },
   "outputs": [],
   "source": [
    "linear_backbone = backbone.linearize(MfeI)"
   ]
  },
  {
   "cell_type": "markdown",
   "id": "46e38af5",
   "metadata": {},
   "source": [
    "The pYPKa derived _E. coli_ plasmids containing\n",
    "- [promoter](pYPKa_Z_PMP3.gb)\n",
    "- [gene](pYPKa_A_EcfabZ.gb)\n",
    "- [terminator](pYPKa_E_ENO2.gb)\n",
    "\n",
    "are read into three variables below."
   ]
  },
  {
   "cell_type": "code",
   "execution_count": 6,
   "id": "4db9195b",
   "metadata": {
    "execution": {
     "iopub.execute_input": "2023-02-04T07:58:14.707727Z",
     "iopub.status.busy": "2023-02-04T07:58:14.707514Z",
     "iopub.status.idle": "2023-02-04T07:58:14.725062Z",
     "shell.execute_reply": "2023-02-04T07:58:14.724526Z"
    }
   },
   "outputs": [],
   "source": [
    "promoter_template   = read(\"pYPKa_Z_PMP3.gb\")\n",
    "gene_template       = read(\"pYPKa_A_EcfabZ.gb\")\n",
    "terminator_template = read(\"pYPKa_E_ENO2.gb\")"
   ]
  },
  {
   "cell_type": "markdown",
   "id": "8ac061d1",
   "metadata": {
    "lines_to_next_cell": 0
   },
   "source": [
    "### PCR\n",
    "Three DNA fragments are PCR amplified using [standard primers](standard_primers.fasta).\n",
    "\n",
    "[Suggested PCR programs](#Suggested-PCR-programs) can be found at the end of this document."
   ]
  },
  {
   "cell_type": "code",
   "execution_count": 7,
   "id": "fc04ea2a",
   "metadata": {
    "execution": {
     "iopub.execute_input": "2023-02-04T07:58:14.728229Z",
     "iopub.status.busy": "2023-02-04T07:58:14.727945Z",
     "iopub.status.idle": "2023-02-04T07:58:14.731648Z",
     "shell.execute_reply": "2023-02-04T07:58:14.731012Z"
    }
   },
   "outputs": [],
   "source": [
    "\n",
    "fp_prom = p['577_crp585-557']\n",
    "rp_prom = p['567_pCAPsAjiIF']\n",
    "fp_gene = p['468_pCAPs_release_fw']\n",
    "rp_gene = p['467_pCAPs_release_re']\n",
    "fp_term = p['568_pCAPsAjiIR']\n",
    "rp_term = p['578_crp42-70']"
   ]
  },
  {
   "cell_type": "code",
   "execution_count": 8,
   "id": "93467b93",
   "metadata": {
    "execution": {
     "iopub.execute_input": "2023-02-04T07:58:14.734603Z",
     "iopub.status.busy": "2023-02-04T07:58:14.734334Z",
     "iopub.status.idle": "2023-02-04T07:58:14.762018Z",
     "shell.execute_reply": "2023-02-04T07:58:14.761474Z"
    }
   },
   "outputs": [],
   "source": [
    "prom = pcr(fp_prom, rp_prom, promoter_template)\n",
    "gene = pcr(fp_gene, rp_gene, gene_template)\n",
    "term = pcr(fp_term, rp_term, terminator_template)"
   ]
  },
  {
   "cell_type": "code",
   "execution_count": 9,
   "id": "f9d43ab1",
   "metadata": {
    "execution": {
     "iopub.execute_input": "2023-02-04T07:58:14.764793Z",
     "iopub.status.busy": "2023-02-04T07:58:14.764594Z",
     "iopub.status.idle": "2023-02-04T07:58:14.767518Z",
     "shell.execute_reply": "2023-02-04T07:58:14.767016Z"
    }
   },
   "outputs": [],
   "source": [
    "prom.name = \"pYPKa_Z_PMP3\"[8:]\n",
    "gene.name = \"pYPKa_A_EcfabZ\"[8:]\n",
    "term.name = \"pYPKa_E_ENO2\"[8:]"
   ]
  },
  {
   "cell_type": "markdown",
   "id": "40379c14",
   "metadata": {},
   "source": [
    "\n",
    "The fragments will be assembled by _in-vivo_ [homologous recombination](http://www.ncbi.nlm.nih.gov/pubmed/2828185):"
   ]
  },
  {
   "cell_type": "code",
   "execution_count": 10,
   "id": "7bb543f9",
   "metadata": {
    "execution": {
     "iopub.execute_input": "2023-02-04T07:58:14.771612Z",
     "iopub.status.busy": "2023-02-04T07:58:14.771267Z",
     "iopub.status.idle": "2023-02-04T07:58:15.181089Z",
     "shell.execute_reply": "2023-02-04T07:58:15.180394Z"
    }
   },
   "outputs": [
    {
     "data": {
      "text/plain": [
       "Assembly\n",
       "fragments..: 5766bp 988bp 545bp 860bp\n",
       "limit(bp)..: 31\n",
       "G.nodes....: 10\n",
       "algorithm..: common_sub_strings"
      ]
     },
     "execution_count": 10,
     "metadata": {},
     "output_type": "execute_result"
    }
   ],
   "source": [
    "asm = Assembly((linear_backbone, prom, gene, term), limit=31)\n",
    "asm"
   ]
  },
  {
   "cell_type": "markdown",
   "id": "4adda51e",
   "metadata": {},
   "source": [
    "The Assembly object above should normally indicate four fragments and eight nodes."
   ]
  },
  {
   "cell_type": "code",
   "execution_count": 11,
   "id": "b48ddd02",
   "metadata": {
    "execution": {
     "iopub.execute_input": "2023-02-04T07:58:15.184142Z",
     "iopub.status.busy": "2023-02-04T07:58:15.183679Z",
     "iopub.status.idle": "2023-02-04T07:58:15.413515Z",
     "shell.execute_reply": "2023-02-04T07:58:15.412889Z"
    },
    "lines_to_next_cell": 0
   },
   "outputs": [
    {
     "data": {
      "text/plain": [
       "[Contig(o7524), Contig(o7524), Contig(o7524), Contig(o6754), Contig(o6754)]"
      ]
     },
     "execution_count": 11,
     "metadata": {},
     "output_type": "execute_result"
    }
   ],
   "source": [
    "candidates = asm.assemble_circular()\n",
    "candidates"
   ]
  },
  {
   "cell_type": "markdown",
   "id": "8fca2c14",
   "metadata": {},
   "source": [
    "There should normally be two candidates of equal size. These sequences should be identical."
   ]
  },
  {
   "cell_type": "code",
   "execution_count": 12,
   "id": "c69599c4",
   "metadata": {
    "execution": {
     "iopub.execute_input": "2023-02-04T07:58:15.416517Z",
     "iopub.status.busy": "2023-02-04T07:58:15.416259Z",
     "iopub.status.idle": "2023-02-04T07:58:15.420849Z",
     "shell.execute_reply": "2023-02-04T07:58:15.420141Z"
    },
    "lines_to_next_cell": 0
   },
   "outputs": [],
   "source": [
    "candidate, *rest = candidates"
   ]
  },
  {
   "cell_type": "code",
   "execution_count": 13,
   "id": "793ff66d",
   "metadata": {
    "execution": {
     "iopub.execute_input": "2023-02-04T07:58:15.423965Z",
     "iopub.status.busy": "2023-02-04T07:58:15.423599Z",
     "iopub.status.idle": "2023-02-04T07:58:15.440782Z",
     "shell.execute_reply": "2023-02-04T07:58:15.440279Z"
    },
    "lines_to_next_cell": 0
   },
   "outputs": [
    {
     "data": {
      "text/plain": [
       "True"
      ]
     },
     "execution_count": 13,
     "metadata": {},
     "output_type": "execute_result"
    }
   ],
   "source": [
    "candidate.cseguid() == rest[0].cseguid()"
   ]
  },
  {
   "cell_type": "code",
   "execution_count": 14,
   "id": "5422ea5c",
   "metadata": {
    "execution": {
     "iopub.execute_input": "2023-02-04T07:58:15.443465Z",
     "iopub.status.busy": "2023-02-04T07:58:15.443214Z",
     "iopub.status.idle": "2023-02-04T07:58:15.448092Z",
     "shell.execute_reply": "2023-02-04T07:58:15.447330Z"
    },
    "lines_to_next_cell": 0
   },
   "outputs": [
    {
     "data": {
      "text/plain": [
       " -|pYPK0_lin|168\n",
       "|            \\/\n",
       "|            /\\\n",
       "|            168|PMP3|48\n",
       "|                     \\/\n",
       "|                     /\\\n",
       "|                     48|EcfabZ|37\n",
       "|                               \\/\n",
       "|                               /\\\n",
       "|                               37|ENO2|276\n",
       "|                                       \\/\n",
       "|                                       /\\\n",
       "|                                       276-\n",
       "|                                          |\n",
       " ------------------------------------------"
      ]
     },
     "execution_count": 14,
     "metadata": {},
     "output_type": "execute_result"
    }
   ],
   "source": [
    "candidate.figure()"
   ]
  },
  {
   "cell_type": "markdown",
   "id": "99d13f5d",
   "metadata": {},
   "source": [
    "The candidate vector is synchronized to the 577 primer. This means that\n",
    "the plasmid origin is shifted so that it matches the backbone vector."
   ]
  },
  {
   "cell_type": "code",
   "execution_count": 15,
   "id": "4babc76b",
   "metadata": {
    "execution": {
     "iopub.execute_input": "2023-02-04T07:58:15.451608Z",
     "iopub.status.busy": "2023-02-04T07:58:15.451203Z",
     "iopub.status.idle": "2023-02-04T07:58:15.750612Z",
     "shell.execute_reply": "2023-02-04T07:58:15.750038Z"
    }
   },
   "outputs": [],
   "source": [
    "result = candidate.synced(fp_prom)"
   ]
  },
  {
   "cell_type": "markdown",
   "id": "a39db36c",
   "metadata": {},
   "source": [
    "### Diagnostic PCR confirmation\n",
    "\n",
    "The structure of the final vector is confirmed by two\n",
    "separate PCR reactions, one for the promoter and gene and\n",
    "one for the gene and terminator.\n",
    "\n",
    "PCR using standard primers 577 and 467 to amplify promoter and gene."
   ]
  },
  {
   "cell_type": "code",
   "execution_count": 16,
   "id": "39e9fa75",
   "metadata": {
    "execution": {
     "iopub.execute_input": "2023-02-04T07:58:15.754071Z",
     "iopub.status.busy": "2023-02-04T07:58:15.753513Z",
     "iopub.status.idle": "2023-02-04T07:58:15.771300Z",
     "shell.execute_reply": "2023-02-04T07:58:15.770692Z"
    }
   },
   "outputs": [],
   "source": [
    "product = pcr( fp_prom, rp_gene, result)"
   ]
  },
  {
   "cell_type": "markdown",
   "id": "b63111ec",
   "metadata": {},
   "source": [
    "A correct clone should give this size in base pairs:"
   ]
  },
  {
   "cell_type": "code",
   "execution_count": 17,
   "id": "a274db89",
   "metadata": {
    "execution": {
     "iopub.execute_input": "2023-02-04T07:58:15.773995Z",
     "iopub.status.busy": "2023-02-04T07:58:15.773728Z",
     "iopub.status.idle": "2023-02-04T07:58:15.777570Z",
     "shell.execute_reply": "2023-02-04T07:58:15.776914Z"
    }
   },
   "outputs": [
    {
     "name": "stdout",
     "output_type": "stream",
     "text": [
      "1483\n"
     ]
    }
   ],
   "source": [
    "print(len(product))"
   ]
  },
  {
   "cell_type": "markdown",
   "id": "66c69fe3",
   "metadata": {},
   "source": [
    "If the promoter is missing from the assembly, the PCR product will have this size in base pairs:"
   ]
  },
  {
   "cell_type": "code",
   "execution_count": 18,
   "id": "e165e592",
   "metadata": {
    "execution": {
     "iopub.execute_input": "2023-02-04T07:58:15.780877Z",
     "iopub.status.busy": "2023-02-04T07:58:15.780445Z",
     "iopub.status.idle": "2023-02-04T07:58:15.785103Z",
     "shell.execute_reply": "2023-02-04T07:58:15.783796Z"
    }
   },
   "outputs": [
    {
     "name": "stdout",
     "output_type": "stream",
     "text": [
      "495\n"
     ]
    }
   ],
   "source": [
    "print(len(product) - len(prom))"
   ]
  },
  {
   "cell_type": "markdown",
   "id": "f1b0e2ab",
   "metadata": {},
   "source": [
    "If the gene is missing from the assembly, the PCR product will have this size in base pairs:"
   ]
  },
  {
   "cell_type": "code",
   "execution_count": 19,
   "id": "f1790ac1",
   "metadata": {
    "execution": {
     "iopub.execute_input": "2023-02-04T07:58:15.789322Z",
     "iopub.status.busy": "2023-02-04T07:58:15.788718Z",
     "iopub.status.idle": "2023-02-04T07:58:15.793929Z",
     "shell.execute_reply": "2023-02-04T07:58:15.792957Z"
    }
   },
   "outputs": [
    {
     "name": "stdout",
     "output_type": "stream",
     "text": [
      "938\n"
     ]
    }
   ],
   "source": [
    "print(len(product) - len(gene))"
   ]
  },
  {
   "cell_type": "markdown",
   "id": "26ed27ab",
   "metadata": {},
   "source": [
    "PCR using standard primers 468 and 578 to amplify gene and terminator."
   ]
  },
  {
   "cell_type": "code",
   "execution_count": 20,
   "id": "f41c0239",
   "metadata": {
    "execution": {
     "iopub.execute_input": "2023-02-04T07:58:15.797310Z",
     "iopub.status.busy": "2023-02-04T07:58:15.797014Z",
     "iopub.status.idle": "2023-02-04T07:58:15.816536Z",
     "shell.execute_reply": "2023-02-04T07:58:15.815849Z"
    }
   },
   "outputs": [],
   "source": [
    "product2 = pcr( fp_gene, rp_term, result)"
   ]
  },
  {
   "cell_type": "markdown",
   "id": "81fb4a64",
   "metadata": {},
   "source": [
    "A correct clone should give this size:"
   ]
  },
  {
   "cell_type": "code",
   "execution_count": 21,
   "id": "3deea9e5",
   "metadata": {
    "execution": {
     "iopub.execute_input": "2023-02-04T07:58:15.820227Z",
     "iopub.status.busy": "2023-02-04T07:58:15.819551Z",
     "iopub.status.idle": "2023-02-04T07:58:15.824353Z",
     "shell.execute_reply": "2023-02-04T07:58:15.823308Z"
    }
   },
   "outputs": [
    {
     "name": "stdout",
     "output_type": "stream",
     "text": [
      "1368\n"
     ]
    }
   ],
   "source": [
    "print(len(product2))"
   ]
  },
  {
   "cell_type": "markdown",
   "id": "a398fbde",
   "metadata": {},
   "source": [
    "If the gene is missing from the assembly, the PCR product will have this size in base pairs:"
   ]
  },
  {
   "cell_type": "code",
   "execution_count": 22,
   "id": "d03de50c",
   "metadata": {
    "execution": {
     "iopub.execute_input": "2023-02-04T07:58:15.828258Z",
     "iopub.status.busy": "2023-02-04T07:58:15.827671Z",
     "iopub.status.idle": "2023-02-04T07:58:15.831875Z",
     "shell.execute_reply": "2023-02-04T07:58:15.831154Z"
    }
   },
   "outputs": [
    {
     "name": "stdout",
     "output_type": "stream",
     "text": [
      "823\n"
     ]
    }
   ],
   "source": [
    "print(len(product2) - len(gene))"
   ]
  },
  {
   "cell_type": "markdown",
   "id": "2f038a30",
   "metadata": {},
   "source": [
    "If the terminator is missing from the assembly, the PCR product will have this size in base pairs:"
   ]
  },
  {
   "cell_type": "code",
   "execution_count": 23,
   "id": "c1ef0972",
   "metadata": {
    "execution": {
     "iopub.execute_input": "2023-02-04T07:58:15.837117Z",
     "iopub.status.busy": "2023-02-04T07:58:15.836796Z",
     "iopub.status.idle": "2023-02-04T07:58:15.840869Z",
     "shell.execute_reply": "2023-02-04T07:58:15.840206Z"
    }
   },
   "outputs": [
    {
     "name": "stdout",
     "output_type": "stream",
     "text": [
      "508\n"
     ]
    }
   ],
   "source": [
    "print(len(product2) - len(term))"
   ]
  },
  {
   "cell_type": "markdown",
   "id": "7fc5c28a",
   "metadata": {},
   "source": [
    "The cseguid checksum for the resulting plasmid is calculated for future reference.\n",
    "The [cseguid checksum](http://pydna.readthedocs.org/en/latest/pydna.html#pydna.utils.cseguid)\n",
    "uniquely identifies a circular double stranded sequence."
   ]
  },
  {
   "cell_type": "code",
   "execution_count": 24,
   "id": "f8616ab1",
   "metadata": {
    "execution": {
     "iopub.execute_input": "2023-02-04T07:58:15.843818Z",
     "iopub.status.busy": "2023-02-04T07:58:15.843260Z",
     "iopub.status.idle": "2023-02-04T07:58:15.852641Z",
     "shell.execute_reply": "2023-02-04T07:58:15.851209Z"
    }
   },
   "outputs": [
    {
     "name": "stdout",
     "output_type": "stream",
     "text": [
      "35I_zpHOHAZSNcMST9YXGDaL7Ko\n"
     ]
    }
   ],
   "source": [
    "print(result.cseguid())"
   ]
  },
  {
   "cell_type": "markdown",
   "id": "1a2a5363",
   "metadata": {},
   "source": [
    "The file name is based on the promoter, gene and terminator designations."
   ]
  },
  {
   "cell_type": "code",
   "execution_count": 25,
   "id": "7f460439",
   "metadata": {
    "execution": {
     "iopub.execute_input": "2023-02-04T07:58:15.855388Z",
     "iopub.status.busy": "2023-02-04T07:58:15.855165Z",
     "iopub.status.idle": "2023-02-04T07:58:15.858100Z",
     "shell.execute_reply": "2023-02-04T07:58:15.857589Z"
    }
   },
   "outputs": [],
   "source": [
    "result.locus = f\"tu:{gene.name}\"[:16]\n",
    "result.definition = \"pYPK0_PMP3_EcfabZ_ENO2\""
   ]
  },
  {
   "cell_type": "markdown",
   "id": "c2cd8a84",
   "metadata": {},
   "source": [
    "Sequence is stamped with cseguid checksum. This can be used to verify the\n",
    "integrity of the sequence file."
   ]
  },
  {
   "cell_type": "code",
   "execution_count": 26,
   "id": "48325ee7",
   "metadata": {
    "execution": {
     "iopub.execute_input": "2023-02-04T07:58:15.861140Z",
     "iopub.status.busy": "2023-02-04T07:58:15.860861Z",
     "iopub.status.idle": "2023-02-04T07:58:15.873925Z",
     "shell.execute_reply": "2023-02-04T07:58:15.873376Z"
    }
   },
   "outputs": [
    {
     "data": {
      "text/plain": [
       "35I_zpHOHAZSNcMST9YXGDaL7Ko"
      ]
     },
     "execution_count": 26,
     "metadata": {},
     "output_type": "execute_result"
    }
   ],
   "source": [
    "result.stamp(\"cSEGUID\")"
   ]
  },
  {
   "cell_type": "markdown",
   "id": "b32be46a",
   "metadata": {},
   "source": [
    "Write sequence to a local file."
   ]
  },
  {
   "cell_type": "code",
   "execution_count": 27,
   "id": "2e5e11a7",
   "metadata": {
    "execution": {
     "iopub.execute_input": "2023-02-04T07:58:15.876544Z",
     "iopub.status.busy": "2023-02-04T07:58:15.876216Z",
     "iopub.status.idle": "2023-02-04T07:58:15.882401Z",
     "shell.execute_reply": "2023-02-04T07:58:15.881839Z"
    }
   },
   "outputs": [
    {
     "data": {
      "text/html": [
       "<font face=monospace><a href='pYPK0_PMP3_EcfabZ_ENO2.gb' target='_blank'>pYPK0_PMP3_EcfabZ_ENO2.gb</a></font><br>"
      ]
     },
     "metadata": {},
     "output_type": "display_data"
    }
   ],
   "source": [
    "result.write(f\"{result.definition}.gb\")"
   ]
  },
  {
   "cell_type": "markdown",
   "id": "b86350d1",
   "metadata": {
    "lines_to_next_cell": 0
   },
   "source": [
    "### Suggested PCR programs\n",
    "\n",
    "For the [amplification](#PCR) of promoter, gene and terminator."
   ]
  },
  {
   "cell_type": "code",
   "execution_count": 28,
   "id": "38dff0b5",
   "metadata": {
    "execution": {
     "iopub.execute_input": "2023-02-04T07:58:15.885412Z",
     "iopub.status.busy": "2023-02-04T07:58:15.885072Z",
     "iopub.status.idle": "2023-02-04T07:58:15.890098Z",
     "shell.execute_reply": "2023-02-04T07:58:15.889312Z"
    }
   },
   "outputs": [
    {
     "name": "stdout",
     "output_type": "stream",
     "text": [
      "577_crp585-557 567_pCAPsAjiIF\n",
      "|95°C|95°C               |    |tmf:64.6\n",
      "|____|_____          72°C|72°C|tmr:69.7\n",
      "|3min|30s  \\ 58.7°C _____|____|45s/kb\n",
      "|    |      \\______/ 0:44|5min|GC 44%\n",
      "|    |       30s         |    |988bp\n"
     ]
    }
   ],
   "source": [
    "print(prom.forward_primer.name, prom.reverse_primer.name)\n",
    "print(prom.program())"
   ]
  },
  {
   "cell_type": "code",
   "execution_count": 29,
   "id": "cf1fc35e",
   "metadata": {
    "execution": {
     "iopub.execute_input": "2023-02-04T07:58:15.893354Z",
     "iopub.status.busy": "2023-02-04T07:58:15.893049Z",
     "iopub.status.idle": "2023-02-04T07:58:15.898550Z",
     "shell.execute_reply": "2023-02-04T07:58:15.897618Z"
    }
   },
   "outputs": [
    {
     "name": "stdout",
     "output_type": "stream",
     "text": [
      "468_pCAPs_release_fw 467_pCAPs_release_re\n",
      "|95°C|95°C               |    |tmf:76.9\n",
      "|____|_____          72°C|72°C|tmr:67.9\n",
      "|3min|30s  \\ 61.1°C _____|____|45s/kb\n",
      "|    |      \\______/ 0:30|5min|GC 50%\n",
      "|    |       30s         |    |545bp\n"
     ]
    }
   ],
   "source": [
    "print(gene.forward_primer.name, gene.reverse_primer.name)\n",
    "print(gene.program())"
   ]
  },
  {
   "cell_type": "code",
   "execution_count": 30,
   "id": "44022dfb",
   "metadata": {
    "execution": {
     "iopub.execute_input": "2023-02-04T07:58:15.902051Z",
     "iopub.status.busy": "2023-02-04T07:58:15.901458Z",
     "iopub.status.idle": "2023-02-04T07:58:15.906996Z",
     "shell.execute_reply": "2023-02-04T07:58:15.906060Z"
    }
   },
   "outputs": [
    {
     "name": "stdout",
     "output_type": "stream",
     "text": [
      "568_pCAPsAjiIR 578_crp42-70\n",
      "|95°C|95°C               |    |tmf:66.1\n",
      "|____|_____          72°C|72°C|tmr:65.0\n",
      "|3min|30s  \\ 57.1°C _____|____|45s/kb\n",
      "|    |      \\______/ 0:38|5min|GC 38%\n",
      "|    |       30s         |    |860bp\n"
     ]
    }
   ],
   "source": [
    "print(term.forward_primer.name, term.reverse_primer.name)\n",
    "print(term.program())"
   ]
  }
 ],
 "metadata": {
  "jupytext": {
   "main_language": "python",
   "text_representation": {
    "extension": ".py",
    "format_name": "percent",
    "format_version": "1.3",
    "jupytext_version": "1.14.0"
   }
  },
  "language_info": {
   "codemirror_mode": {
    "name": "ipython",
    "version": 3
   },
   "file_extension": ".py",
   "mimetype": "text/x-python",
   "name": "python",
   "nbconvert_exporter": "python",
   "pygments_lexer": "ipython3",
   "version": "3.11.0"
  }
 },
 "nbformat": 4,
 "nbformat_minor": 5
}
