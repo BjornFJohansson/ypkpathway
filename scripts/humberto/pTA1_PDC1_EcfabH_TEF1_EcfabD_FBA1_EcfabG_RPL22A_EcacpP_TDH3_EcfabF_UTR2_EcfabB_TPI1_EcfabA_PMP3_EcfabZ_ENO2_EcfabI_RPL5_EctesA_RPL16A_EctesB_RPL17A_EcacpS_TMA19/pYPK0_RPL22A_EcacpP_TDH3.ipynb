{
 "cells": [
  {
   "cell_type": "markdown",
   "id": "eb0fbc6d",
   "metadata": {},
   "source": [
    "# [![logo](logo.png)](https://github.com/BjornFJohansson/ypkpathway#-ypkpathway) pYPK0_RPL22A_EcacpP_TDH3\n",
    "\n",
    "Assembly of a [_Saccharomyces cerevisiae_](http://www.yeastgenome.org) transcriptional unit vector.\n",
    "\n",
    "Made from a linear vector fragment and three PCR products:\n",
    "\n",
    "- a linearized pYPK0 vector for maintenance in _S. cerevisiae_ or _E. coli_ (red dashed line in figure below)\n",
    "- a promoter PCR product from the `pYPKa_Z_RPL22A` vector\n",
    "- a gene PCR product from the `pYPKa_A_EcacpP` vector\n",
    "- a terminator PCR product from the `pYPKa_E_TDH3` vector\n",
    "\n",
    "The four linear DNA fragments are joined by _in-vivo_ homologous recombination in a\n",
    "[_Saccharomyces cerevisiae_](http://wiki.yeastgenome.org/index.php/Commonly_used_strains) strain.\n",
    "\n",
    "![tu](tu.png \"tu\")\n",
    "\n",
    "A part of the [pydna](https://pypi.python.org/pypi/pydna/) package is imported in the code cell below."
   ]
  },
  {
   "cell_type": "code",
   "execution_count": 1,
   "id": "a35bbc48",
   "metadata": {
    "execution": {
     "iopub.execute_input": "2023-02-04T07:57:58.458423Z",
     "iopub.status.busy": "2023-02-04T07:57:58.457662Z",
     "iopub.status.idle": "2023-02-04T07:57:58.851142Z",
     "shell.execute_reply": "2023-02-04T07:57:58.850375Z"
    }
   },
   "outputs": [],
   "source": [
    "from pydna.parsers import parse_primers\n",
    "from pydna.readers import read\n",
    "from pydna.amplify import pcr\n",
    "from pydna.assembly import Assembly"
   ]
  },
  {
   "cell_type": "markdown",
   "id": "78ecd72f",
   "metadata": {},
   "source": [
    "The Yeast Pathway Kit [standard primers](standard_primers.fasta) are read into a dictionary in the code cell below."
   ]
  },
  {
   "cell_type": "code",
   "execution_count": 2,
   "id": "cc4215ad",
   "metadata": {
    "execution": {
     "iopub.execute_input": "2023-02-04T07:57:58.854478Z",
     "iopub.status.busy": "2023-02-04T07:57:58.854129Z",
     "iopub.status.idle": "2023-02-04T07:57:58.864019Z",
     "shell.execute_reply": "2023-02-04T07:57:58.863473Z"
    }
   },
   "outputs": [],
   "source": [
    "p = {x.name: x for x in parse_primers(\"standard_primers.fasta\")}"
   ]
  },
  {
   "cell_type": "markdown",
   "id": "134f4618",
   "metadata": {},
   "source": [
    "The backbone vector [pYPK0](pYPK0.gb) is read from a local file in the code cell below."
   ]
  },
  {
   "cell_type": "code",
   "execution_count": 3,
   "id": "57bea14d",
   "metadata": {
    "execution": {
     "iopub.execute_input": "2023-02-04T07:57:58.867094Z",
     "iopub.status.busy": "2023-02-04T07:57:58.866834Z",
     "iopub.status.idle": "2023-02-04T07:57:58.878975Z",
     "shell.execute_reply": "2023-02-04T07:57:58.878263Z"
    }
   },
   "outputs": [],
   "source": [
    "backbone = read(\"pYPK0.gb\")"
   ]
  },
  {
   "cell_type": "markdown",
   "id": "169e8499",
   "metadata": {},
   "source": [
    "The backbone vector is linearized by digestion with [MfeI](https://www.google.com/search?q=MfeI)."
   ]
  },
  {
   "cell_type": "code",
   "execution_count": 4,
   "id": "b6999237",
   "metadata": {
    "execution": {
     "iopub.execute_input": "2023-02-04T07:57:58.881696Z",
     "iopub.status.busy": "2023-02-04T07:57:58.881443Z",
     "iopub.status.idle": "2023-02-04T07:57:58.884785Z",
     "shell.execute_reply": "2023-02-04T07:57:58.884168Z"
    }
   },
   "outputs": [],
   "source": [
    "from Bio.Restriction import MfeI"
   ]
  },
  {
   "cell_type": "code",
   "execution_count": 5,
   "id": "40e66c8b",
   "metadata": {
    "execution": {
     "iopub.execute_input": "2023-02-04T07:57:58.887135Z",
     "iopub.status.busy": "2023-02-04T07:57:58.886845Z",
     "iopub.status.idle": "2023-02-04T07:57:58.895503Z",
     "shell.execute_reply": "2023-02-04T07:57:58.894606Z"
    }
   },
   "outputs": [],
   "source": [
    "linear_backbone = backbone.linearize(MfeI)"
   ]
  },
  {
   "cell_type": "markdown",
   "id": "dcda348f",
   "metadata": {},
   "source": [
    "The pYPKa derived _E. coli_ plasmids containing\n",
    "- [promoter](pYPKa_Z_RPL22A.gb)\n",
    "- [gene](pYPKa_A_EcacpP.gb)\n",
    "- [terminator](pYPKa_E_TDH3.gb)\n",
    "\n",
    "are read into three variables below."
   ]
  },
  {
   "cell_type": "code",
   "execution_count": 6,
   "id": "8dd15e2c",
   "metadata": {
    "execution": {
     "iopub.execute_input": "2023-02-04T07:57:58.898258Z",
     "iopub.status.busy": "2023-02-04T07:57:58.898015Z",
     "iopub.status.idle": "2023-02-04T07:57:58.913819Z",
     "shell.execute_reply": "2023-02-04T07:57:58.913040Z"
    }
   },
   "outputs": [],
   "source": [
    "promoter_template   = read(\"pYPKa_Z_RPL22A.gb\")\n",
    "gene_template       = read(\"pYPKa_A_EcacpP.gb\")\n",
    "terminator_template = read(\"pYPKa_E_TDH3.gb\")"
   ]
  },
  {
   "cell_type": "markdown",
   "id": "c6764e00",
   "metadata": {
    "lines_to_next_cell": 0
   },
   "source": [
    "### PCR\n",
    "Three DNA fragments are PCR amplified using [standard primers](standard_primers.fasta).\n",
    "\n",
    "[Suggested PCR programs](#Suggested-PCR-programs) can be found at the end of this document."
   ]
  },
  {
   "cell_type": "code",
   "execution_count": 7,
   "id": "e9400af4",
   "metadata": {
    "execution": {
     "iopub.execute_input": "2023-02-04T07:57:58.916965Z",
     "iopub.status.busy": "2023-02-04T07:57:58.916675Z",
     "iopub.status.idle": "2023-02-04T07:57:58.921615Z",
     "shell.execute_reply": "2023-02-04T07:57:58.920907Z"
    }
   },
   "outputs": [],
   "source": [
    "\n",
    "fp_prom = p['577_crp585-557']\n",
    "rp_prom = p['567_pCAPsAjiIF']\n",
    "fp_gene = p['468_pCAPs_release_fw']\n",
    "rp_gene = p['467_pCAPs_release_re']\n",
    "fp_term = p['568_pCAPsAjiIR']\n",
    "rp_term = p['578_crp42-70']"
   ]
  },
  {
   "cell_type": "code",
   "execution_count": 8,
   "id": "852a3541",
   "metadata": {
    "execution": {
     "iopub.execute_input": "2023-02-04T07:57:58.925048Z",
     "iopub.status.busy": "2023-02-04T07:57:58.924502Z",
     "iopub.status.idle": "2023-02-04T07:57:58.954657Z",
     "shell.execute_reply": "2023-02-04T07:57:58.953995Z"
    }
   },
   "outputs": [],
   "source": [
    "prom = pcr(fp_prom, rp_prom, promoter_template)\n",
    "gene = pcr(fp_gene, rp_gene, gene_template)\n",
    "term = pcr(fp_term, rp_term, terminator_template)"
   ]
  },
  {
   "cell_type": "code",
   "execution_count": 9,
   "id": "fcf24c49",
   "metadata": {
    "execution": {
     "iopub.execute_input": "2023-02-04T07:57:58.957405Z",
     "iopub.status.busy": "2023-02-04T07:57:58.956976Z",
     "iopub.status.idle": "2023-02-04T07:57:58.960341Z",
     "shell.execute_reply": "2023-02-04T07:57:58.959686Z"
    }
   },
   "outputs": [],
   "source": [
    "prom.name = \"pYPKa_Z_RPL22A\"[8:]\n",
    "gene.name = \"pYPKa_A_EcacpP\"[8:]\n",
    "term.name = \"pYPKa_E_TDH3\"[8:]"
   ]
  },
  {
   "cell_type": "markdown",
   "id": "b3cbaaed",
   "metadata": {},
   "source": [
    "\n",
    "The fragments will be assembled by _in-vivo_ [homologous recombination](http://www.ncbi.nlm.nih.gov/pubmed/2828185):"
   ]
  },
  {
   "cell_type": "code",
   "execution_count": 10,
   "id": "6201aa90",
   "metadata": {
    "execution": {
     "iopub.execute_input": "2023-02-04T07:57:58.964230Z",
     "iopub.status.busy": "2023-02-04T07:57:58.963699Z",
     "iopub.status.idle": "2023-02-04T07:57:59.344315Z",
     "shell.execute_reply": "2023-02-04T07:57:59.343784Z"
    }
   },
   "outputs": [
    {
     "data": {
      "text/plain": [
       "Assembly\n",
       "fragments..: 5766bp 658bp 326bp 1038bp\n",
       "limit(bp)..: 31\n",
       "G.nodes....: 10\n",
       "algorithm..: common_sub_strings"
      ]
     },
     "execution_count": 10,
     "metadata": {},
     "output_type": "execute_result"
    }
   ],
   "source": [
    "asm = Assembly((linear_backbone, prom, gene, term), limit=31)\n",
    "asm"
   ]
  },
  {
   "cell_type": "markdown",
   "id": "ade4dbf7",
   "metadata": {},
   "source": [
    "The Assembly object above should normally indicate four fragments and eight nodes."
   ]
  },
  {
   "cell_type": "code",
   "execution_count": 11,
   "id": "d40561a2",
   "metadata": {
    "execution": {
     "iopub.execute_input": "2023-02-04T07:57:59.347607Z",
     "iopub.status.busy": "2023-02-04T07:57:59.347292Z",
     "iopub.status.idle": "2023-02-04T07:57:59.589955Z",
     "shell.execute_reply": "2023-02-04T07:57:59.589342Z"
    },
    "lines_to_next_cell": 0
   },
   "outputs": [
    {
     "data": {
      "text/plain": [
       "[Contig(o7153), Contig(o7153), Contig(o7153), Contig(o6713), Contig(o6713)]"
      ]
     },
     "execution_count": 11,
     "metadata": {},
     "output_type": "execute_result"
    }
   ],
   "source": [
    "candidates = asm.assemble_circular()\n",
    "candidates"
   ]
  },
  {
   "cell_type": "markdown",
   "id": "31096f88",
   "metadata": {},
   "source": [
    "There should normally be two candidates of equal size. These sequences should be identical."
   ]
  },
  {
   "cell_type": "code",
   "execution_count": 12,
   "id": "aa31c788",
   "metadata": {
    "execution": {
     "iopub.execute_input": "2023-02-04T07:57:59.593188Z",
     "iopub.status.busy": "2023-02-04T07:57:59.592875Z",
     "iopub.status.idle": "2023-02-04T07:57:59.595911Z",
     "shell.execute_reply": "2023-02-04T07:57:59.595348Z"
    },
    "lines_to_next_cell": 0
   },
   "outputs": [],
   "source": [
    "candidate, *rest = candidates"
   ]
  },
  {
   "cell_type": "code",
   "execution_count": 13,
   "id": "25df79dc",
   "metadata": {
    "execution": {
     "iopub.execute_input": "2023-02-04T07:57:59.598326Z",
     "iopub.status.busy": "2023-02-04T07:57:59.597930Z",
     "iopub.status.idle": "2023-02-04T07:57:59.615854Z",
     "shell.execute_reply": "2023-02-04T07:57:59.615271Z"
    },
    "lines_to_next_cell": 0
   },
   "outputs": [
    {
     "data": {
      "text/plain": [
       "True"
      ]
     },
     "execution_count": 13,
     "metadata": {},
     "output_type": "execute_result"
    }
   ],
   "source": [
    "candidate.cseguid() == rest[0].cseguid()"
   ]
  },
  {
   "cell_type": "code",
   "execution_count": 14,
   "id": "fd57f248",
   "metadata": {
    "execution": {
     "iopub.execute_input": "2023-02-04T07:57:59.619055Z",
     "iopub.status.busy": "2023-02-04T07:57:59.618701Z",
     "iopub.status.idle": "2023-02-04T07:57:59.624223Z",
     "shell.execute_reply": "2023-02-04T07:57:59.623303Z"
    },
    "lines_to_next_cell": 0
   },
   "outputs": [
    {
     "data": {
      "text/plain": [
       " -|pYPK0_lin|168\n",
       "|            \\/\n",
       "|            /\\\n",
       "|            168|RPL22A|48\n",
       "|                       \\/\n",
       "|                       /\\\n",
       "|                       48|EcacpP|37\n",
       "|                                 \\/\n",
       "|                                 /\\\n",
       "|                                 37|TDH3|276\n",
       "|                                         \\/\n",
       "|                                         /\\\n",
       "|                                         276-\n",
       "|                                            |\n",
       " --------------------------------------------"
      ]
     },
     "execution_count": 14,
     "metadata": {},
     "output_type": "execute_result"
    }
   ],
   "source": [
    "candidate.figure()"
   ]
  },
  {
   "cell_type": "markdown",
   "id": "34479109",
   "metadata": {},
   "source": [
    "The candidate vector is synchronized to the 577 primer. This means that\n",
    "the plasmid origin is shifted so that it matches the backbone vector."
   ]
  },
  {
   "cell_type": "code",
   "execution_count": 15,
   "id": "1ea0274f",
   "metadata": {
    "execution": {
     "iopub.execute_input": "2023-02-04T07:57:59.628342Z",
     "iopub.status.busy": "2023-02-04T07:57:59.627772Z",
     "iopub.status.idle": "2023-02-04T07:57:59.916898Z",
     "shell.execute_reply": "2023-02-04T07:57:59.916216Z"
    }
   },
   "outputs": [],
   "source": [
    "result = candidate.synced(fp_prom)"
   ]
  },
  {
   "cell_type": "markdown",
   "id": "d75d9bd4",
   "metadata": {},
   "source": [
    "### Diagnostic PCR confirmation\n",
    "\n",
    "The structure of the final vector is confirmed by two\n",
    "separate PCR reactions, one for the promoter and gene and\n",
    "one for the gene and terminator.\n",
    "\n",
    "PCR using standard primers 577 and 467 to amplify promoter and gene."
   ]
  },
  {
   "cell_type": "code",
   "execution_count": 16,
   "id": "95b95d06",
   "metadata": {
    "execution": {
     "iopub.execute_input": "2023-02-04T07:57:59.920467Z",
     "iopub.status.busy": "2023-02-04T07:57:59.920253Z",
     "iopub.status.idle": "2023-02-04T07:57:59.936635Z",
     "shell.execute_reply": "2023-02-04T07:57:59.936008Z"
    }
   },
   "outputs": [],
   "source": [
    "product = pcr( fp_prom, rp_gene, result)"
   ]
  },
  {
   "cell_type": "markdown",
   "id": "94612f42",
   "metadata": {},
   "source": [
    "A correct clone should give this size in base pairs:"
   ]
  },
  {
   "cell_type": "code",
   "execution_count": 17,
   "id": "5dbca546",
   "metadata": {
    "execution": {
     "iopub.execute_input": "2023-02-04T07:57:59.940078Z",
     "iopub.status.busy": "2023-02-04T07:57:59.939523Z",
     "iopub.status.idle": "2023-02-04T07:57:59.943970Z",
     "shell.execute_reply": "2023-02-04T07:57:59.943089Z"
    }
   },
   "outputs": [
    {
     "name": "stdout",
     "output_type": "stream",
     "text": [
      "934\n"
     ]
    }
   ],
   "source": [
    "print(len(product))"
   ]
  },
  {
   "cell_type": "markdown",
   "id": "ed1cb740",
   "metadata": {},
   "source": [
    "If the promoter is missing from the assembly, the PCR product will have this size in base pairs:"
   ]
  },
  {
   "cell_type": "code",
   "execution_count": 18,
   "id": "30e3e065",
   "metadata": {
    "execution": {
     "iopub.execute_input": "2023-02-04T07:57:59.948364Z",
     "iopub.status.busy": "2023-02-04T07:57:59.948037Z",
     "iopub.status.idle": "2023-02-04T07:57:59.953543Z",
     "shell.execute_reply": "2023-02-04T07:57:59.952533Z"
    }
   },
   "outputs": [
    {
     "name": "stdout",
     "output_type": "stream",
     "text": [
      "276\n"
     ]
    }
   ],
   "source": [
    "print(len(product) - len(prom))"
   ]
  },
  {
   "cell_type": "markdown",
   "id": "557b1d97",
   "metadata": {},
   "source": [
    "If the gene is missing from the assembly, the PCR product will have this size in base pairs:"
   ]
  },
  {
   "cell_type": "code",
   "execution_count": 19,
   "id": "dfa78cb1",
   "metadata": {
    "execution": {
     "iopub.execute_input": "2023-02-04T07:57:59.957232Z",
     "iopub.status.busy": "2023-02-04T07:57:59.956637Z",
     "iopub.status.idle": "2023-02-04T07:57:59.960701Z",
     "shell.execute_reply": "2023-02-04T07:57:59.960079Z"
    }
   },
   "outputs": [
    {
     "name": "stdout",
     "output_type": "stream",
     "text": [
      "608\n"
     ]
    }
   ],
   "source": [
    "print(len(product) - len(gene))"
   ]
  },
  {
   "cell_type": "markdown",
   "id": "1b4461d6",
   "metadata": {},
   "source": [
    "PCR using standard primers 468 and 578 to amplify gene and terminator."
   ]
  },
  {
   "cell_type": "code",
   "execution_count": 20,
   "id": "0a9426c0",
   "metadata": {
    "execution": {
     "iopub.execute_input": "2023-02-04T07:57:59.963889Z",
     "iopub.status.busy": "2023-02-04T07:57:59.963451Z",
     "iopub.status.idle": "2023-02-04T07:57:59.986005Z",
     "shell.execute_reply": "2023-02-04T07:57:59.985016Z"
    }
   },
   "outputs": [],
   "source": [
    "product2 = pcr( fp_gene, rp_term, result)"
   ]
  },
  {
   "cell_type": "markdown",
   "id": "8878082b",
   "metadata": {},
   "source": [
    "A correct clone should give this size:"
   ]
  },
  {
   "cell_type": "code",
   "execution_count": 21,
   "id": "ec14ff55",
   "metadata": {
    "execution": {
     "iopub.execute_input": "2023-02-04T07:57:59.989397Z",
     "iopub.status.busy": "2023-02-04T07:57:59.988802Z",
     "iopub.status.idle": "2023-02-04T07:57:59.992109Z",
     "shell.execute_reply": "2023-02-04T07:57:59.991580Z"
    }
   },
   "outputs": [
    {
     "name": "stdout",
     "output_type": "stream",
     "text": [
      "1327\n"
     ]
    }
   ],
   "source": [
    "print(len(product2))"
   ]
  },
  {
   "cell_type": "markdown",
   "id": "dfb81cb6",
   "metadata": {},
   "source": [
    "If the gene is missing from the assembly, the PCR product will have this size in base pairs:"
   ]
  },
  {
   "cell_type": "code",
   "execution_count": 22,
   "id": "ef813d4c",
   "metadata": {
    "execution": {
     "iopub.execute_input": "2023-02-04T07:57:59.994862Z",
     "iopub.status.busy": "2023-02-04T07:57:59.994604Z",
     "iopub.status.idle": "2023-02-04T07:57:59.999670Z",
     "shell.execute_reply": "2023-02-04T07:57:59.998600Z"
    }
   },
   "outputs": [
    {
     "name": "stdout",
     "output_type": "stream",
     "text": [
      "1001\n"
     ]
    }
   ],
   "source": [
    "print(len(product2) - len(gene))"
   ]
  },
  {
   "cell_type": "markdown",
   "id": "5a74535d",
   "metadata": {},
   "source": [
    "If the terminator is missing from the assembly, the PCR product will have this size in base pairs:"
   ]
  },
  {
   "cell_type": "code",
   "execution_count": 23,
   "id": "2f270399",
   "metadata": {
    "execution": {
     "iopub.execute_input": "2023-02-04T07:58:00.008024Z",
     "iopub.status.busy": "2023-02-04T07:58:00.007655Z",
     "iopub.status.idle": "2023-02-04T07:58:00.010944Z",
     "shell.execute_reply": "2023-02-04T07:58:00.010212Z"
    }
   },
   "outputs": [
    {
     "name": "stdout",
     "output_type": "stream",
     "text": [
      "289\n"
     ]
    }
   ],
   "source": [
    "print(len(product2) - len(term))"
   ]
  },
  {
   "cell_type": "markdown",
   "id": "00b75af3",
   "metadata": {},
   "source": [
    "The cseguid checksum for the resulting plasmid is calculated for future reference.\n",
    "The [cseguid checksum](http://pydna.readthedocs.org/en/latest/pydna.html#pydna.utils.cseguid)\n",
    "uniquely identifies a circular double stranded sequence."
   ]
  },
  {
   "cell_type": "code",
   "execution_count": 24,
   "id": "9f94036e",
   "metadata": {
    "execution": {
     "iopub.execute_input": "2023-02-04T07:58:00.013879Z",
     "iopub.status.busy": "2023-02-04T07:58:00.013352Z",
     "iopub.status.idle": "2023-02-04T07:58:00.024511Z",
     "shell.execute_reply": "2023-02-04T07:58:00.023969Z"
    }
   },
   "outputs": [
    {
     "name": "stdout",
     "output_type": "stream",
     "text": [
      "YBYJG2qluycIJ-5n_OP9aO8I0So\n"
     ]
    }
   ],
   "source": [
    "print(result.cseguid())"
   ]
  },
  {
   "cell_type": "markdown",
   "id": "109ee961",
   "metadata": {},
   "source": [
    "The file name is based on the promoter, gene and terminator designations."
   ]
  },
  {
   "cell_type": "code",
   "execution_count": 25,
   "id": "7f489e31",
   "metadata": {
    "execution": {
     "iopub.execute_input": "2023-02-04T07:58:00.028362Z",
     "iopub.status.busy": "2023-02-04T07:58:00.027912Z",
     "iopub.status.idle": "2023-02-04T07:58:00.033039Z",
     "shell.execute_reply": "2023-02-04T07:58:00.031732Z"
    }
   },
   "outputs": [],
   "source": [
    "result.locus = f\"tu:{gene.name}\"[:16]\n",
    "result.definition = \"pYPK0_RPL22A_EcacpP_TDH3\""
   ]
  },
  {
   "cell_type": "markdown",
   "id": "0523e691",
   "metadata": {},
   "source": [
    "Sequence is stamped with cseguid checksum. This can be used to verify the\n",
    "integrity of the sequence file."
   ]
  },
  {
   "cell_type": "code",
   "execution_count": 26,
   "id": "47bb5ac1",
   "metadata": {
    "execution": {
     "iopub.execute_input": "2023-02-04T07:58:00.036480Z",
     "iopub.status.busy": "2023-02-04T07:58:00.036233Z",
     "iopub.status.idle": "2023-02-04T07:58:00.046947Z",
     "shell.execute_reply": "2023-02-04T07:58:00.046235Z"
    }
   },
   "outputs": [
    {
     "data": {
      "text/plain": [
       "YBYJG2qluycIJ-5n_OP9aO8I0So"
      ]
     },
     "execution_count": 26,
     "metadata": {},
     "output_type": "execute_result"
    }
   ],
   "source": [
    "result.stamp(\"cSEGUID\")"
   ]
  },
  {
   "cell_type": "markdown",
   "id": "60654a5d",
   "metadata": {},
   "source": [
    "Write sequence to a local file."
   ]
  },
  {
   "cell_type": "code",
   "execution_count": 27,
   "id": "2f6331f7",
   "metadata": {
    "execution": {
     "iopub.execute_input": "2023-02-04T07:58:00.050379Z",
     "iopub.status.busy": "2023-02-04T07:58:00.049887Z",
     "iopub.status.idle": "2023-02-04T07:58:00.059068Z",
     "shell.execute_reply": "2023-02-04T07:58:00.058154Z"
    }
   },
   "outputs": [
    {
     "data": {
      "text/html": [
       "<font face=monospace><a href='pYPK0_RPL22A_EcacpP_TDH3.gb' target='_blank'>pYPK0_RPL22A_EcacpP_TDH3.gb</a></font><br>"
      ]
     },
     "metadata": {},
     "output_type": "display_data"
    }
   ],
   "source": [
    "result.write(f\"{result.definition}.gb\")"
   ]
  },
  {
   "cell_type": "markdown",
   "id": "f6aff082",
   "metadata": {
    "lines_to_next_cell": 0
   },
   "source": [
    "### Suggested PCR programs\n",
    "\n",
    "For the [amplification](#PCR) of promoter, gene and terminator."
   ]
  },
  {
   "cell_type": "code",
   "execution_count": 28,
   "id": "bbff96cb",
   "metadata": {
    "execution": {
     "iopub.execute_input": "2023-02-04T07:58:00.063273Z",
     "iopub.status.busy": "2023-02-04T07:58:00.062875Z",
     "iopub.status.idle": "2023-02-04T07:58:00.068592Z",
     "shell.execute_reply": "2023-02-04T07:58:00.067892Z"
    }
   },
   "outputs": [
    {
     "name": "stdout",
     "output_type": "stream",
     "text": [
      "577_crp585-557 567_pCAPsAjiIF\n",
      "|95°C|95°C               |    |tmf:64.6\n",
      "|____|_____          72°C|72°C|tmr:69.7\n",
      "|3min|30s  \\ 55.9°C _____|____|45s/kb\n",
      "|    |      \\______/ 0:30|5min|GC 35%\n",
      "|    |       30s         |    |658bp\n"
     ]
    }
   ],
   "source": [
    "print(prom.forward_primer.name, prom.reverse_primer.name)\n",
    "print(prom.program())"
   ]
  },
  {
   "cell_type": "code",
   "execution_count": 29,
   "id": "2de89f83",
   "metadata": {
    "execution": {
     "iopub.execute_input": "2023-02-04T07:58:00.071845Z",
     "iopub.status.busy": "2023-02-04T07:58:00.071557Z",
     "iopub.status.idle": "2023-02-04T07:58:00.076153Z",
     "shell.execute_reply": "2023-02-04T07:58:00.075483Z"
    }
   },
   "outputs": [
    {
     "name": "stdout",
     "output_type": "stream",
     "text": [
      "468_pCAPs_release_fw 467_pCAPs_release_re\n",
      "|95°C|95°C               |    |tmf:76.9\n",
      "|____|_____          72°C|72°C|tmr:67.9\n",
      "|3min|30s  \\ 60.0°C _____|____|45s/kb\n",
      "|    |      \\______/ 0:30|5min|GC 49%\n",
      "|    |       30s         |    |326bp\n"
     ]
    }
   ],
   "source": [
    "print(gene.forward_primer.name, gene.reverse_primer.name)\n",
    "print(gene.program())"
   ]
  },
  {
   "cell_type": "code",
   "execution_count": 30,
   "id": "316b91ea",
   "metadata": {
    "execution": {
     "iopub.execute_input": "2023-02-04T07:58:00.078973Z",
     "iopub.status.busy": "2023-02-04T07:58:00.078729Z",
     "iopub.status.idle": "2023-02-04T07:58:00.083842Z",
     "shell.execute_reply": "2023-02-04T07:58:00.082832Z"
    }
   },
   "outputs": [
    {
     "name": "stdout",
     "output_type": "stream",
     "text": [
      "568_pCAPsAjiIR 578_crp42-70\n",
      "|95°C|95°C               |    |tmf:66.1\n",
      "|____|_____          72°C|72°C|tmr:65.0\n",
      "|3min|30s  \\ 57.1°C _____|____|45s/kb\n",
      "|    |      \\______/ 0:46|5min|GC 38%\n",
      "|    |       30s         |    |1038bp\n"
     ]
    }
   ],
   "source": [
    "print(term.forward_primer.name, term.reverse_primer.name)\n",
    "print(term.program())"
   ]
  }
 ],
 "metadata": {
  "jupytext": {
   "main_language": "python",
   "text_representation": {
    "extension": ".py",
    "format_name": "percent",
    "format_version": "1.3",
    "jupytext_version": "1.14.0"
   }
  },
  "language_info": {
   "codemirror_mode": {
    "name": "ipython",
    "version": 3
   },
   "file_extension": ".py",
   "mimetype": "text/x-python",
   "name": "python",
   "nbconvert_exporter": "python",
   "pygments_lexer": "ipython3",
   "version": "3.11.0"
  }
 },
 "nbformat": 4,
 "nbformat_minor": 5
}
