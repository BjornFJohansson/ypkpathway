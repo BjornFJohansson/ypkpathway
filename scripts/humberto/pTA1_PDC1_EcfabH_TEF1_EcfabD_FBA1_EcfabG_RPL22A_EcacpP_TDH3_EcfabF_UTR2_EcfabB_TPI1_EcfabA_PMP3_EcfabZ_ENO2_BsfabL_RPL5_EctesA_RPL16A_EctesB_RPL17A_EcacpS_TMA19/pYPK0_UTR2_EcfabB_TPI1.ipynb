{
 "cells": [
  {
   "cell_type": "markdown",
   "id": "784acc8f",
   "metadata": {},
   "source": [
    "# [![logo](logo.png)](https://github.com/BjornFJohansson/ypkpathway#-ypkpathway) pYPK0_UTR2_EcfabB_TPI1\n",
    "\n",
    "Assembly of a [_Saccharomyces cerevisiae_](http://www.yeastgenome.org) transcriptional unit vector.\n",
    "\n",
    "Made from a linear vector fragment and three PCR products:\n",
    "\n",
    "- a linearized pYPK0 vector for maintenance in _S. cerevisiae_ or _E. coli_ (red dashed line in figure below)\n",
    "- a promoter PCR product from the `pYPKa_Z_UTR2` vector\n",
    "- a gene PCR product from the `pYPKa_A_EcfabB` vector\n",
    "- a terminator PCR product from the `pYPKa_E_TPI1` vector\n",
    "\n",
    "The four linear DNA fragments are joined by _in-vivo_ homologous recombination in a\n",
    "[_Saccharomyces cerevisiae_](http://wiki.yeastgenome.org/index.php/Commonly_used_strains) strain.\n",
    "\n",
    "![tu](tu.png \"tu\")\n",
    "\n",
    "A part of the [pydna](https://pypi.python.org/pypi/pydna/) package is imported in the code cell below."
   ]
  },
  {
   "cell_type": "code",
   "execution_count": 1,
   "id": "4c857b24",
   "metadata": {
    "execution": {
     "iopub.execute_input": "2023-02-04T08:02:24.772446Z",
     "iopub.status.busy": "2023-02-04T08:02:24.771502Z",
     "iopub.status.idle": "2023-02-04T08:02:25.116743Z",
     "shell.execute_reply": "2023-02-04T08:02:25.116176Z"
    }
   },
   "outputs": [],
   "source": [
    "from pydna.parsers import parse_primers\n",
    "from pydna.readers import read\n",
    "from pydna.amplify import pcr\n",
    "from pydna.assembly import Assembly"
   ]
  },
  {
   "cell_type": "markdown",
   "id": "747e6f96",
   "metadata": {},
   "source": [
    "The Yeast Pathway Kit [standard primers](standard_primers.fasta) are read into a dictionary in the code cell below."
   ]
  },
  {
   "cell_type": "code",
   "execution_count": 2,
   "id": "10b9babf",
   "metadata": {
    "execution": {
     "iopub.execute_input": "2023-02-04T08:02:25.120513Z",
     "iopub.status.busy": "2023-02-04T08:02:25.120104Z",
     "iopub.status.idle": "2023-02-04T08:02:25.133262Z",
     "shell.execute_reply": "2023-02-04T08:02:25.132657Z"
    }
   },
   "outputs": [],
   "source": [
    "p = {x.name: x for x in parse_primers(\"standard_primers.fasta\")}"
   ]
  },
  {
   "cell_type": "markdown",
   "id": "b1ee4e89",
   "metadata": {},
   "source": [
    "The backbone vector [pYPK0](pYPK0.gb) is read from a local file in the code cell below."
   ]
  },
  {
   "cell_type": "code",
   "execution_count": 3,
   "id": "c76f5c44",
   "metadata": {
    "execution": {
     "iopub.execute_input": "2023-02-04T08:02:25.136594Z",
     "iopub.status.busy": "2023-02-04T08:02:25.136362Z",
     "iopub.status.idle": "2023-02-04T08:02:25.148913Z",
     "shell.execute_reply": "2023-02-04T08:02:25.148276Z"
    }
   },
   "outputs": [],
   "source": [
    "backbone = read(\"pYPK0.gb\")"
   ]
  },
  {
   "cell_type": "markdown",
   "id": "41218609",
   "metadata": {},
   "source": [
    "The backbone vector is linearized by digestion with [MfeI](https://www.google.com/search?q=MfeI)."
   ]
  },
  {
   "cell_type": "code",
   "execution_count": 4,
   "id": "bb3b3093",
   "metadata": {
    "execution": {
     "iopub.execute_input": "2023-02-04T08:02:25.153107Z",
     "iopub.status.busy": "2023-02-04T08:02:25.152334Z",
     "iopub.status.idle": "2023-02-04T08:02:25.157422Z",
     "shell.execute_reply": "2023-02-04T08:02:25.156527Z"
    }
   },
   "outputs": [],
   "source": [
    "from Bio.Restriction import MfeI"
   ]
  },
  {
   "cell_type": "code",
   "execution_count": 5,
   "id": "db5bf220",
   "metadata": {
    "execution": {
     "iopub.execute_input": "2023-02-04T08:02:25.161923Z",
     "iopub.status.busy": "2023-02-04T08:02:25.161285Z",
     "iopub.status.idle": "2023-02-04T08:02:25.169465Z",
     "shell.execute_reply": "2023-02-04T08:02:25.168857Z"
    }
   },
   "outputs": [],
   "source": [
    "linear_backbone = backbone.linearize(MfeI)"
   ]
  },
  {
   "cell_type": "markdown",
   "id": "32556f9a",
   "metadata": {},
   "source": [
    "The pYPKa derived _E. coli_ plasmids containing\n",
    "- [promoter](pYPKa_Z_UTR2.gb)\n",
    "- [gene](pYPKa_A_EcfabB.gb)\n",
    "- [terminator](pYPKa_E_TPI1.gb)\n",
    "\n",
    "are read into three variables below."
   ]
  },
  {
   "cell_type": "code",
   "execution_count": 6,
   "id": "1ed0f71d",
   "metadata": {
    "execution": {
     "iopub.execute_input": "2023-02-04T08:02:25.172684Z",
     "iopub.status.busy": "2023-02-04T08:02:25.172284Z",
     "iopub.status.idle": "2023-02-04T08:02:25.191268Z",
     "shell.execute_reply": "2023-02-04T08:02:25.190742Z"
    }
   },
   "outputs": [],
   "source": [
    "promoter_template   = read(\"pYPKa_Z_UTR2.gb\")\n",
    "gene_template       = read(\"pYPKa_A_EcfabB.gb\")\n",
    "terminator_template = read(\"pYPKa_E_TPI1.gb\")"
   ]
  },
  {
   "cell_type": "markdown",
   "id": "e24c299c",
   "metadata": {
    "lines_to_next_cell": 0
   },
   "source": [
    "### PCR\n",
    "Three DNA fragments are PCR amplified using [standard primers](standard_primers.fasta).\n",
    "\n",
    "[Suggested PCR programs](#Suggested-PCR-programs) can be found at the end of this document."
   ]
  },
  {
   "cell_type": "code",
   "execution_count": 7,
   "id": "1a7c1f25",
   "metadata": {
    "execution": {
     "iopub.execute_input": "2023-02-04T08:02:25.194594Z",
     "iopub.status.busy": "2023-02-04T08:02:25.194303Z",
     "iopub.status.idle": "2023-02-04T08:02:25.198597Z",
     "shell.execute_reply": "2023-02-04T08:02:25.197890Z"
    }
   },
   "outputs": [],
   "source": [
    "\n",
    "fp_prom = p['577_crp585-557']\n",
    "rp_prom = p['567_pCAPsAjiIF']\n",
    "fp_gene = p['468_pCAPs_release_fw']\n",
    "rp_gene = p['467_pCAPs_release_re']\n",
    "fp_term = p['568_pCAPsAjiIR']\n",
    "rp_term = p['578_crp42-70']"
   ]
  },
  {
   "cell_type": "code",
   "execution_count": 8,
   "id": "92d9f19a",
   "metadata": {
    "execution": {
     "iopub.execute_input": "2023-02-04T08:02:25.202042Z",
     "iopub.status.busy": "2023-02-04T08:02:25.201740Z",
     "iopub.status.idle": "2023-02-04T08:02:25.227326Z",
     "shell.execute_reply": "2023-02-04T08:02:25.226678Z"
    }
   },
   "outputs": [],
   "source": [
    "prom = pcr(fp_prom, rp_prom, promoter_template)\n",
    "gene = pcr(fp_gene, rp_gene, gene_template)\n",
    "term = pcr(fp_term, rp_term, terminator_template)"
   ]
  },
  {
   "cell_type": "code",
   "execution_count": 9,
   "id": "8c83d7db",
   "metadata": {
    "execution": {
     "iopub.execute_input": "2023-02-04T08:02:25.230169Z",
     "iopub.status.busy": "2023-02-04T08:02:25.229952Z",
     "iopub.status.idle": "2023-02-04T08:02:25.233944Z",
     "shell.execute_reply": "2023-02-04T08:02:25.233085Z"
    }
   },
   "outputs": [],
   "source": [
    "prom.name = \"pYPKa_Z_UTR2\"[8:]\n",
    "gene.name = \"pYPKa_A_EcfabB\"[8:]\n",
    "term.name = \"pYPKa_E_TPI1\"[8:]"
   ]
  },
  {
   "cell_type": "markdown",
   "id": "e053149e",
   "metadata": {},
   "source": [
    "\n",
    "The fragments will be assembled by _in-vivo_ [homologous recombination](http://www.ncbi.nlm.nih.gov/pubmed/2828185):"
   ]
  },
  {
   "cell_type": "code",
   "execution_count": 10,
   "id": "dff28592",
   "metadata": {
    "execution": {
     "iopub.execute_input": "2023-02-04T08:02:25.238017Z",
     "iopub.status.busy": "2023-02-04T08:02:25.237486Z",
     "iopub.status.idle": "2023-02-04T08:02:25.679430Z",
     "shell.execute_reply": "2023-02-04T08:02:25.678690Z"
    }
   },
   "outputs": [
    {
     "data": {
      "text/plain": [
       "Assembly\n",
       "fragments..: 5766bp 852bp 1310bp 922bp\n",
       "limit(bp)..: 31\n",
       "G.nodes....: 10\n",
       "algorithm..: common_sub_strings"
      ]
     },
     "execution_count": 10,
     "metadata": {},
     "output_type": "execute_result"
    }
   ],
   "source": [
    "asm = Assembly((linear_backbone, prom, gene, term), limit=31)\n",
    "asm"
   ]
  },
  {
   "cell_type": "markdown",
   "id": "36759cce",
   "metadata": {},
   "source": [
    "The Assembly object above should normally indicate four fragments and eight nodes."
   ]
  },
  {
   "cell_type": "code",
   "execution_count": 11,
   "id": "a677c22e",
   "metadata": {
    "execution": {
     "iopub.execute_input": "2023-02-04T08:02:25.682132Z",
     "iopub.status.busy": "2023-02-04T08:02:25.681922Z",
     "iopub.status.idle": "2023-02-04T08:02:25.911553Z",
     "shell.execute_reply": "2023-02-04T08:02:25.911019Z"
    },
    "lines_to_next_cell": 0
   },
   "outputs": [
    {
     "data": {
      "text/plain": [
       "[Contig(o8215), Contig(o8215), Contig(o8215), Contig(o7581), Contig(o7581)]"
      ]
     },
     "execution_count": 11,
     "metadata": {},
     "output_type": "execute_result"
    }
   ],
   "source": [
    "candidates = asm.assemble_circular()\n",
    "candidates"
   ]
  },
  {
   "cell_type": "markdown",
   "id": "7510d72b",
   "metadata": {},
   "source": [
    "There should normally be two candidates of equal size. These sequences should be identical."
   ]
  },
  {
   "cell_type": "code",
   "execution_count": 12,
   "id": "4dd86b24",
   "metadata": {
    "execution": {
     "iopub.execute_input": "2023-02-04T08:02:25.914344Z",
     "iopub.status.busy": "2023-02-04T08:02:25.913939Z",
     "iopub.status.idle": "2023-02-04T08:02:25.916854Z",
     "shell.execute_reply": "2023-02-04T08:02:25.916299Z"
    },
    "lines_to_next_cell": 0
   },
   "outputs": [],
   "source": [
    "candidate, *rest = candidates"
   ]
  },
  {
   "cell_type": "code",
   "execution_count": 13,
   "id": "fecdab0a",
   "metadata": {
    "execution": {
     "iopub.execute_input": "2023-02-04T08:02:25.920475Z",
     "iopub.status.busy": "2023-02-04T08:02:25.919730Z",
     "iopub.status.idle": "2023-02-04T08:02:25.939181Z",
     "shell.execute_reply": "2023-02-04T08:02:25.938537Z"
    },
    "lines_to_next_cell": 0
   },
   "outputs": [
    {
     "data": {
      "text/plain": [
       "True"
      ]
     },
     "execution_count": 13,
     "metadata": {},
     "output_type": "execute_result"
    }
   ],
   "source": [
    "candidate.cseguid() == rest[0].cseguid()"
   ]
  },
  {
   "cell_type": "code",
   "execution_count": 14,
   "id": "c9f6fcc9",
   "metadata": {
    "execution": {
     "iopub.execute_input": "2023-02-04T08:02:25.941606Z",
     "iopub.status.busy": "2023-02-04T08:02:25.941379Z",
     "iopub.status.idle": "2023-02-04T08:02:25.945262Z",
     "shell.execute_reply": "2023-02-04T08:02:25.944700Z"
    },
    "lines_to_next_cell": 0
   },
   "outputs": [
    {
     "data": {
      "text/plain": [
       " -|pYPK0_lin|168\n",
       "|            \\/\n",
       "|            /\\\n",
       "|            168|UTR2|48\n",
       "|                     \\/\n",
       "|                     /\\\n",
       "|                     48|EcfabB|37\n",
       "|                               \\/\n",
       "|                               /\\\n",
       "|                               37|TPI1|276\n",
       "|                                       \\/\n",
       "|                                       /\\\n",
       "|                                       276-\n",
       "|                                          |\n",
       " ------------------------------------------"
      ]
     },
     "execution_count": 14,
     "metadata": {},
     "output_type": "execute_result"
    }
   ],
   "source": [
    "candidate.figure()"
   ]
  },
  {
   "cell_type": "markdown",
   "id": "017d2928",
   "metadata": {},
   "source": [
    "The candidate vector is synchronized to the 577 primer. This means that\n",
    "the plasmid origin is shifted so that it matches the backbone vector."
   ]
  },
  {
   "cell_type": "code",
   "execution_count": 15,
   "id": "94997fed",
   "metadata": {
    "execution": {
     "iopub.execute_input": "2023-02-04T08:02:25.948484Z",
     "iopub.status.busy": "2023-02-04T08:02:25.947884Z",
     "iopub.status.idle": "2023-02-04T08:02:26.277608Z",
     "shell.execute_reply": "2023-02-04T08:02:26.277022Z"
    }
   },
   "outputs": [],
   "source": [
    "result = candidate.synced(fp_prom)"
   ]
  },
  {
   "cell_type": "markdown",
   "id": "a63cf0df",
   "metadata": {},
   "source": [
    "### Diagnostic PCR confirmation\n",
    "\n",
    "The structure of the final vector is confirmed by two\n",
    "separate PCR reactions, one for the promoter and gene and\n",
    "one for the gene and terminator.\n",
    "\n",
    "PCR using standard primers 577 and 467 to amplify promoter and gene."
   ]
  },
  {
   "cell_type": "code",
   "execution_count": 16,
   "id": "f250cb23",
   "metadata": {
    "execution": {
     "iopub.execute_input": "2023-02-04T08:02:26.280940Z",
     "iopub.status.busy": "2023-02-04T08:02:26.280398Z",
     "iopub.status.idle": "2023-02-04T08:02:26.301766Z",
     "shell.execute_reply": "2023-02-04T08:02:26.300919Z"
    }
   },
   "outputs": [],
   "source": [
    "product = pcr( fp_prom, rp_gene, result)"
   ]
  },
  {
   "cell_type": "markdown",
   "id": "9c151703",
   "metadata": {},
   "source": [
    "A correct clone should give this size in base pairs:"
   ]
  },
  {
   "cell_type": "code",
   "execution_count": 17,
   "id": "560a8c53",
   "metadata": {
    "execution": {
     "iopub.execute_input": "2023-02-04T08:02:26.305806Z",
     "iopub.status.busy": "2023-02-04T08:02:26.305482Z",
     "iopub.status.idle": "2023-02-04T08:02:26.309314Z",
     "shell.execute_reply": "2023-02-04T08:02:26.308699Z"
    }
   },
   "outputs": [
    {
     "name": "stdout",
     "output_type": "stream",
     "text": [
      "2112\n"
     ]
    }
   ],
   "source": [
    "print(len(product))"
   ]
  },
  {
   "cell_type": "markdown",
   "id": "9b5f238f",
   "metadata": {},
   "source": [
    "If the promoter is missing from the assembly, the PCR product will have this size in base pairs:"
   ]
  },
  {
   "cell_type": "code",
   "execution_count": 18,
   "id": "bce25797",
   "metadata": {
    "execution": {
     "iopub.execute_input": "2023-02-04T08:02:26.313703Z",
     "iopub.status.busy": "2023-02-04T08:02:26.313254Z",
     "iopub.status.idle": "2023-02-04T08:02:26.317246Z",
     "shell.execute_reply": "2023-02-04T08:02:26.316318Z"
    }
   },
   "outputs": [
    {
     "name": "stdout",
     "output_type": "stream",
     "text": [
      "1260\n"
     ]
    }
   ],
   "source": [
    "print(len(product) - len(prom))"
   ]
  },
  {
   "cell_type": "markdown",
   "id": "2ac815d4",
   "metadata": {},
   "source": [
    "If the gene is missing from the assembly, the PCR product will have this size in base pairs:"
   ]
  },
  {
   "cell_type": "code",
   "execution_count": 19,
   "id": "bfa86a7d",
   "metadata": {
    "execution": {
     "iopub.execute_input": "2023-02-04T08:02:26.321385Z",
     "iopub.status.busy": "2023-02-04T08:02:26.320817Z",
     "iopub.status.idle": "2023-02-04T08:02:26.325110Z",
     "shell.execute_reply": "2023-02-04T08:02:26.324303Z"
    }
   },
   "outputs": [
    {
     "name": "stdout",
     "output_type": "stream",
     "text": [
      "802\n"
     ]
    }
   ],
   "source": [
    "print(len(product) - len(gene))"
   ]
  },
  {
   "cell_type": "markdown",
   "id": "76552042",
   "metadata": {},
   "source": [
    "PCR using standard primers 468 and 578 to amplify gene and terminator."
   ]
  },
  {
   "cell_type": "code",
   "execution_count": 20,
   "id": "aa549b56",
   "metadata": {
    "execution": {
     "iopub.execute_input": "2023-02-04T08:02:26.329084Z",
     "iopub.status.busy": "2023-02-04T08:02:26.328791Z",
     "iopub.status.idle": "2023-02-04T08:02:26.348345Z",
     "shell.execute_reply": "2023-02-04T08:02:26.347804Z"
    }
   },
   "outputs": [],
   "source": [
    "product2 = pcr( fp_gene, rp_term, result)"
   ]
  },
  {
   "cell_type": "markdown",
   "id": "d5b9bac6",
   "metadata": {},
   "source": [
    "A correct clone should give this size:"
   ]
  },
  {
   "cell_type": "code",
   "execution_count": 21,
   "id": "1cf1b1f9",
   "metadata": {
    "execution": {
     "iopub.execute_input": "2023-02-04T08:02:26.351171Z",
     "iopub.status.busy": "2023-02-04T08:02:26.350929Z",
     "iopub.status.idle": "2023-02-04T08:02:26.354616Z",
     "shell.execute_reply": "2023-02-04T08:02:26.353932Z"
    }
   },
   "outputs": [
    {
     "name": "stdout",
     "output_type": "stream",
     "text": [
      "2195\n"
     ]
    }
   ],
   "source": [
    "print(len(product2))"
   ]
  },
  {
   "cell_type": "markdown",
   "id": "6ad236f5",
   "metadata": {},
   "source": [
    "If the gene is missing from the assembly, the PCR product will have this size in base pairs:"
   ]
  },
  {
   "cell_type": "code",
   "execution_count": 22,
   "id": "edd5240a",
   "metadata": {
    "execution": {
     "iopub.execute_input": "2023-02-04T08:02:26.359146Z",
     "iopub.status.busy": "2023-02-04T08:02:26.358646Z",
     "iopub.status.idle": "2023-02-04T08:02:26.362788Z",
     "shell.execute_reply": "2023-02-04T08:02:26.361951Z"
    }
   },
   "outputs": [
    {
     "name": "stdout",
     "output_type": "stream",
     "text": [
      "885\n"
     ]
    }
   ],
   "source": [
    "print(len(product2) - len(gene))"
   ]
  },
  {
   "cell_type": "markdown",
   "id": "38d9851b",
   "metadata": {},
   "source": [
    "If the terminator is missing from the assembly, the PCR product will have this size in base pairs:"
   ]
  },
  {
   "cell_type": "code",
   "execution_count": 23,
   "id": "5ca939e8",
   "metadata": {
    "execution": {
     "iopub.execute_input": "2023-02-04T08:02:26.365726Z",
     "iopub.status.busy": "2023-02-04T08:02:26.365429Z",
     "iopub.status.idle": "2023-02-04T08:02:26.371550Z",
     "shell.execute_reply": "2023-02-04T08:02:26.370563Z"
    }
   },
   "outputs": [
    {
     "name": "stdout",
     "output_type": "stream",
     "text": [
      "1273\n"
     ]
    }
   ],
   "source": [
    "print(len(product2) - len(term))"
   ]
  },
  {
   "cell_type": "markdown",
   "id": "75261126",
   "metadata": {},
   "source": [
    "The cseguid checksum for the resulting plasmid is calculated for future reference.\n",
    "The [cseguid checksum](http://pydna.readthedocs.org/en/latest/pydna.html#pydna.utils.cseguid)\n",
    "uniquely identifies a circular double stranded sequence."
   ]
  },
  {
   "cell_type": "code",
   "execution_count": 24,
   "id": "b6206acd",
   "metadata": {
    "execution": {
     "iopub.execute_input": "2023-02-04T08:02:26.376741Z",
     "iopub.status.busy": "2023-02-04T08:02:26.375460Z",
     "iopub.status.idle": "2023-02-04T08:02:26.386311Z",
     "shell.execute_reply": "2023-02-04T08:02:26.385597Z"
    }
   },
   "outputs": [
    {
     "name": "stdout",
     "output_type": "stream",
     "text": [
      "bNFrBIY_UaYTnBius8Td4ve2szw\n"
     ]
    }
   ],
   "source": [
    "print(result.cseguid())"
   ]
  },
  {
   "cell_type": "markdown",
   "id": "afa608be",
   "metadata": {},
   "source": [
    "The file name is based on the promoter, gene and terminator designations."
   ]
  },
  {
   "cell_type": "code",
   "execution_count": 25,
   "id": "9fb0fd87",
   "metadata": {
    "execution": {
     "iopub.execute_input": "2023-02-04T08:02:26.389371Z",
     "iopub.status.busy": "2023-02-04T08:02:26.388861Z",
     "iopub.status.idle": "2023-02-04T08:02:26.392294Z",
     "shell.execute_reply": "2023-02-04T08:02:26.391632Z"
    }
   },
   "outputs": [],
   "source": [
    "result.locus = f\"tu:{gene.name}\"[:16]\n",
    "result.definition = \"pYPK0_UTR2_EcfabB_TPI1\""
   ]
  },
  {
   "cell_type": "markdown",
   "id": "6f08b0ce",
   "metadata": {},
   "source": [
    "Sequence is stamped with cseguid checksum. This can be used to verify the\n",
    "integrity of the sequence file."
   ]
  },
  {
   "cell_type": "code",
   "execution_count": 26,
   "id": "3f582931",
   "metadata": {
    "execution": {
     "iopub.execute_input": "2023-02-04T08:02:26.395338Z",
     "iopub.status.busy": "2023-02-04T08:02:26.395038Z",
     "iopub.status.idle": "2023-02-04T08:02:26.407182Z",
     "shell.execute_reply": "2023-02-04T08:02:26.406412Z"
    }
   },
   "outputs": [
    {
     "data": {
      "text/plain": [
       "bNFrBIY_UaYTnBius8Td4ve2szw"
      ]
     },
     "execution_count": 26,
     "metadata": {},
     "output_type": "execute_result"
    }
   ],
   "source": [
    "result.stamp(\"cSEGUID\")"
   ]
  },
  {
   "cell_type": "markdown",
   "id": "cd049dfa",
   "metadata": {},
   "source": [
    "Write sequence to a local file."
   ]
  },
  {
   "cell_type": "code",
   "execution_count": 27,
   "id": "e809e11f",
   "metadata": {
    "execution": {
     "iopub.execute_input": "2023-02-04T08:02:26.410629Z",
     "iopub.status.busy": "2023-02-04T08:02:26.410335Z",
     "iopub.status.idle": "2023-02-04T08:02:26.418908Z",
     "shell.execute_reply": "2023-02-04T08:02:26.418197Z"
    }
   },
   "outputs": [
    {
     "data": {
      "text/html": [
       "<font face=monospace><a href='pYPK0_UTR2_EcfabB_TPI1.gb' target='_blank'>pYPK0_UTR2_EcfabB_TPI1.gb</a></font><br>"
      ]
     },
     "metadata": {},
     "output_type": "display_data"
    }
   ],
   "source": [
    "result.write(f\"{result.definition}.gb\")"
   ]
  },
  {
   "cell_type": "markdown",
   "id": "ee7b25e4",
   "metadata": {
    "lines_to_next_cell": 0
   },
   "source": [
    "### Suggested PCR programs\n",
    "\n",
    "For the [amplification](#PCR) of promoter, gene and terminator."
   ]
  },
  {
   "cell_type": "code",
   "execution_count": 28,
   "id": "45f4a407",
   "metadata": {
    "execution": {
     "iopub.execute_input": "2023-02-04T08:02:26.421741Z",
     "iopub.status.busy": "2023-02-04T08:02:26.421319Z",
     "iopub.status.idle": "2023-02-04T08:02:26.425410Z",
     "shell.execute_reply": "2023-02-04T08:02:26.424784Z"
    }
   },
   "outputs": [
    {
     "name": "stdout",
     "output_type": "stream",
     "text": [
      "577_crp585-557 567_pCAPsAjiIF\n",
      "|95°C|95°C               |    |tmf:64.6\n",
      "|____|_____          72°C|72°C|tmr:69.7\n",
      "|3min|30s  \\ 57.6°C _____|____|45s/kb\n",
      "|    |      \\______/ 0:38|5min|GC 40%\n",
      "|    |       30s         |    |852bp\n"
     ]
    }
   ],
   "source": [
    "print(prom.forward_primer.name, prom.reverse_primer.name)\n",
    "print(prom.program())"
   ]
  },
  {
   "cell_type": "code",
   "execution_count": 29,
   "id": "11e256b0",
   "metadata": {
    "execution": {
     "iopub.execute_input": "2023-02-04T08:02:26.428783Z",
     "iopub.status.busy": "2023-02-04T08:02:26.428298Z",
     "iopub.status.idle": "2023-02-04T08:02:26.433482Z",
     "shell.execute_reply": "2023-02-04T08:02:26.432604Z"
    }
   },
   "outputs": [
    {
     "name": "stdout",
     "output_type": "stream",
     "text": [
      "468_pCAPs_release_fw 467_pCAPs_release_re\n",
      "|95°C|95°C               |    |tmf:76.9\n",
      "|____|_____          72°C|72°C|tmr:67.9\n",
      "|3min|30s  \\ 63.2°C _____|____|45s/kb\n",
      "|    |      \\______/ 0:58|5min|GC 56%\n",
      "|    |       30s         |    |1310bp\n"
     ]
    }
   ],
   "source": [
    "print(gene.forward_primer.name, gene.reverse_primer.name)\n",
    "print(gene.program())"
   ]
  },
  {
   "cell_type": "code",
   "execution_count": 30,
   "id": "2906bd09",
   "metadata": {
    "execution": {
     "iopub.execute_input": "2023-02-04T08:02:26.437392Z",
     "iopub.status.busy": "2023-02-04T08:02:26.436899Z",
     "iopub.status.idle": "2023-02-04T08:02:26.441497Z",
     "shell.execute_reply": "2023-02-04T08:02:26.440650Z"
    }
   },
   "outputs": [
    {
     "name": "stdout",
     "output_type": "stream",
     "text": [
      "568_pCAPsAjiIR 578_crp42-70\n",
      "|95°C|95°C               |    |tmf:66.1\n",
      "|____|_____          72°C|72°C|tmr:65.0\n",
      "|3min|30s  \\ 57.2°C _____|____|45s/kb\n",
      "|    |      \\______/ 0:41|5min|GC 38%\n",
      "|    |       30s         |    |922bp\n"
     ]
    }
   ],
   "source": [
    "print(term.forward_primer.name, term.reverse_primer.name)\n",
    "print(term.program())"
   ]
  }
 ],
 "metadata": {
  "jupytext": {
   "main_language": "python",
   "text_representation": {
    "extension": ".py",
    "format_name": "percent",
    "format_version": "1.3",
    "jupytext_version": "1.14.0"
   }
  },
  "language_info": {
   "codemirror_mode": {
    "name": "ipython",
    "version": 3
   },
   "file_extension": ".py",
   "mimetype": "text/x-python",
   "name": "python",
   "nbconvert_exporter": "python",
   "pygments_lexer": "ipython3",
   "version": "3.11.0"
  }
 },
 "nbformat": 4,
 "nbformat_minor": 5
}
