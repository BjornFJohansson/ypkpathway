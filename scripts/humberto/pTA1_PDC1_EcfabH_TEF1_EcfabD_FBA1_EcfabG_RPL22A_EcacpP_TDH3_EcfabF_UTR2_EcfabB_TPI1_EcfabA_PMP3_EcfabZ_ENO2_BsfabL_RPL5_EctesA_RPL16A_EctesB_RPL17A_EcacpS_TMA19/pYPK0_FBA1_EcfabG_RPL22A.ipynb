{
 "cells": [
  {
   "cell_type": "markdown",
   "id": "e5a0572b",
   "metadata": {},
   "source": [
    "# [![logo](logo.png)](https://github.com/BjornFJohansson/ypkpathway#-ypkpathway) pYPK0_FBA1_EcfabG_RPL22A\n",
    "\n",
    "Assembly of a [_Saccharomyces cerevisiae_](http://www.yeastgenome.org) transcriptional unit vector.\n",
    "\n",
    "Made from a linear vector fragment and three PCR products:\n",
    "\n",
    "- a linearized pYPK0 vector for maintenance in _S. cerevisiae_ or _E. coli_ (red dashed line in figure below)\n",
    "- a promoter PCR product from the `pYPKa_Z_FBA1` vector\n",
    "- a gene PCR product from the `pYPKa_A_EcfabG` vector\n",
    "- a terminator PCR product from the `pYPKa_E_RPL22A` vector\n",
    "\n",
    "The four linear DNA fragments are joined by _in-vivo_ homologous recombination in a\n",
    "[_Saccharomyces cerevisiae_](http://wiki.yeastgenome.org/index.php/Commonly_used_strains) strain.\n",
    "\n",
    "![tu](tu.png \"tu\")\n",
    "\n",
    "A part of the [pydna](https://pypi.python.org/pypi/pydna/) package is imported in the code cell below."
   ]
  },
  {
   "cell_type": "code",
   "execution_count": 1,
   "id": "4aee7fad",
   "metadata": {
    "execution": {
     "iopub.execute_input": "2023-02-04T08:02:15.286262Z",
     "iopub.status.busy": "2023-02-04T08:02:15.285053Z",
     "iopub.status.idle": "2023-02-04T08:02:15.710123Z",
     "shell.execute_reply": "2023-02-04T08:02:15.709538Z"
    }
   },
   "outputs": [],
   "source": [
    "from pydna.parsers import parse_primers\n",
    "from pydna.readers import read\n",
    "from pydna.amplify import pcr\n",
    "from pydna.assembly import Assembly"
   ]
  },
  {
   "cell_type": "markdown",
   "id": "8b882fda",
   "metadata": {},
   "source": [
    "The Yeast Pathway Kit [standard primers](standard_primers.fasta) are read into a dictionary in the code cell below."
   ]
  },
  {
   "cell_type": "code",
   "execution_count": 2,
   "id": "b4796d7d",
   "metadata": {
    "execution": {
     "iopub.execute_input": "2023-02-04T08:02:15.713574Z",
     "iopub.status.busy": "2023-02-04T08:02:15.713185Z",
     "iopub.status.idle": "2023-02-04T08:02:15.727226Z",
     "shell.execute_reply": "2023-02-04T08:02:15.726609Z"
    }
   },
   "outputs": [],
   "source": [
    "p = {x.name: x for x in parse_primers(\"standard_primers.fasta\")}"
   ]
  },
  {
   "cell_type": "markdown",
   "id": "565cb2bb",
   "metadata": {},
   "source": [
    "The backbone vector [pYPK0](pYPK0.gb) is read from a local file in the code cell below."
   ]
  },
  {
   "cell_type": "code",
   "execution_count": 3,
   "id": "b2d55fc7",
   "metadata": {
    "execution": {
     "iopub.execute_input": "2023-02-04T08:02:15.730158Z",
     "iopub.status.busy": "2023-02-04T08:02:15.729866Z",
     "iopub.status.idle": "2023-02-04T08:02:15.741581Z",
     "shell.execute_reply": "2023-02-04T08:02:15.740818Z"
    }
   },
   "outputs": [],
   "source": [
    "backbone = read(\"pYPK0.gb\")"
   ]
  },
  {
   "cell_type": "markdown",
   "id": "c4442280",
   "metadata": {},
   "source": [
    "The backbone vector is linearized by digestion with [MfeI](https://www.google.com/search?q=MfeI)."
   ]
  },
  {
   "cell_type": "code",
   "execution_count": 4,
   "id": "237ff159",
   "metadata": {
    "execution": {
     "iopub.execute_input": "2023-02-04T08:02:15.744831Z",
     "iopub.status.busy": "2023-02-04T08:02:15.744391Z",
     "iopub.status.idle": "2023-02-04T08:02:15.747626Z",
     "shell.execute_reply": "2023-02-04T08:02:15.747052Z"
    }
   },
   "outputs": [],
   "source": [
    "from Bio.Restriction import MfeI"
   ]
  },
  {
   "cell_type": "code",
   "execution_count": 5,
   "id": "e473b089",
   "metadata": {
    "execution": {
     "iopub.execute_input": "2023-02-04T08:02:15.749988Z",
     "iopub.status.busy": "2023-02-04T08:02:15.749729Z",
     "iopub.status.idle": "2023-02-04T08:02:15.761245Z",
     "shell.execute_reply": "2023-02-04T08:02:15.760356Z"
    }
   },
   "outputs": [],
   "source": [
    "linear_backbone = backbone.linearize(MfeI)"
   ]
  },
  {
   "cell_type": "markdown",
   "id": "8d829a07",
   "metadata": {},
   "source": [
    "The pYPKa derived _E. coli_ plasmids containing\n",
    "- [promoter](pYPKa_Z_FBA1.gb)\n",
    "- [gene](pYPKa_A_EcfabG.gb)\n",
    "- [terminator](pYPKa_E_RPL22A.gb)\n",
    "\n",
    "are read into three variables below."
   ]
  },
  {
   "cell_type": "code",
   "execution_count": 6,
   "id": "d3187eb8",
   "metadata": {
    "execution": {
     "iopub.execute_input": "2023-02-04T08:02:15.765472Z",
     "iopub.status.busy": "2023-02-04T08:02:15.765163Z",
     "iopub.status.idle": "2023-02-04T08:02:15.785412Z",
     "shell.execute_reply": "2023-02-04T08:02:15.784441Z"
    }
   },
   "outputs": [],
   "source": [
    "promoter_template   = read(\"pYPKa_Z_FBA1.gb\")\n",
    "gene_template       = read(\"pYPKa_A_EcfabG.gb\")\n",
    "terminator_template = read(\"pYPKa_E_RPL22A.gb\")"
   ]
  },
  {
   "cell_type": "markdown",
   "id": "ead6b5a4",
   "metadata": {
    "lines_to_next_cell": 0
   },
   "source": [
    "### PCR\n",
    "Three DNA fragments are PCR amplified using [standard primers](standard_primers.fasta).\n",
    "\n",
    "[Suggested PCR programs](#Suggested-PCR-programs) can be found at the end of this document."
   ]
  },
  {
   "cell_type": "code",
   "execution_count": 7,
   "id": "3a18f3ef",
   "metadata": {
    "execution": {
     "iopub.execute_input": "2023-02-04T08:02:15.788780Z",
     "iopub.status.busy": "2023-02-04T08:02:15.788492Z",
     "iopub.status.idle": "2023-02-04T08:02:15.792376Z",
     "shell.execute_reply": "2023-02-04T08:02:15.791647Z"
    }
   },
   "outputs": [],
   "source": [
    "\n",
    "fp_prom = p['577_crp585-557']\n",
    "rp_prom = p['567_pCAPsAjiIF']\n",
    "fp_gene = p['468_pCAPs_release_fw']\n",
    "rp_gene = p['467_pCAPs_release_re']\n",
    "fp_term = p['568_pCAPsAjiIR']\n",
    "rp_term = p['578_crp42-70']"
   ]
  },
  {
   "cell_type": "code",
   "execution_count": 8,
   "id": "7f8da9d2",
   "metadata": {
    "execution": {
     "iopub.execute_input": "2023-02-04T08:02:15.796064Z",
     "iopub.status.busy": "2023-02-04T08:02:15.795518Z",
     "iopub.status.idle": "2023-02-04T08:02:15.819164Z",
     "shell.execute_reply": "2023-02-04T08:02:15.818398Z"
    }
   },
   "outputs": [],
   "source": [
    "prom = pcr(fp_prom, rp_prom, promoter_template)\n",
    "gene = pcr(fp_gene, rp_gene, gene_template)\n",
    "term = pcr(fp_term, rp_term, terminator_template)"
   ]
  },
  {
   "cell_type": "code",
   "execution_count": 9,
   "id": "5800e09d",
   "metadata": {
    "execution": {
     "iopub.execute_input": "2023-02-04T08:02:15.821813Z",
     "iopub.status.busy": "2023-02-04T08:02:15.821570Z",
     "iopub.status.idle": "2023-02-04T08:02:15.825930Z",
     "shell.execute_reply": "2023-02-04T08:02:15.825047Z"
    }
   },
   "outputs": [],
   "source": [
    "prom.name = \"pYPKa_Z_FBA1\"[8:]\n",
    "gene.name = \"pYPKa_A_EcfabG\"[8:]\n",
    "term.name = \"pYPKa_E_RPL22A\"[8:]"
   ]
  },
  {
   "cell_type": "markdown",
   "id": "f9b0a349",
   "metadata": {},
   "source": [
    "\n",
    "The fragments will be assembled by _in-vivo_ [homologous recombination](http://www.ncbi.nlm.nih.gov/pubmed/2828185):"
   ]
  },
  {
   "cell_type": "code",
   "execution_count": 10,
   "id": "bec59373",
   "metadata": {
    "execution": {
     "iopub.execute_input": "2023-02-04T08:02:15.829666Z",
     "iopub.status.busy": "2023-02-04T08:02:15.829354Z",
     "iopub.status.idle": "2023-02-04T08:02:16.278863Z",
     "shell.execute_reply": "2023-02-04T08:02:16.278080Z"
    }
   },
   "outputs": [
    {
     "data": {
      "text/plain": [
       "Assembly\n",
       "fragments..: 5766bp 862bp 824bp 766bp\n",
       "limit(bp)..: 31\n",
       "G.nodes....: 10\n",
       "algorithm..: common_sub_strings"
      ]
     },
     "execution_count": 10,
     "metadata": {},
     "output_type": "execute_result"
    }
   ],
   "source": [
    "asm = Assembly((linear_backbone, prom, gene, term), limit=31)\n",
    "asm"
   ]
  },
  {
   "cell_type": "markdown",
   "id": "77358698",
   "metadata": {},
   "source": [
    "The Assembly object above should normally indicate four fragments and eight nodes."
   ]
  },
  {
   "cell_type": "code",
   "execution_count": 11,
   "id": "851230a5",
   "metadata": {
    "execution": {
     "iopub.execute_input": "2023-02-04T08:02:16.282084Z",
     "iopub.status.busy": "2023-02-04T08:02:16.281796Z",
     "iopub.status.idle": "2023-02-04T08:02:16.531020Z",
     "shell.execute_reply": "2023-02-04T08:02:16.530272Z"
    },
    "lines_to_next_cell": 0
   },
   "outputs": [
    {
     "data": {
      "text/plain": [
       "[Contig(o7583), Contig(o7583), Contig(o7583), Contig(o6939), Contig(o6939)]"
      ]
     },
     "execution_count": 11,
     "metadata": {},
     "output_type": "execute_result"
    }
   ],
   "source": [
    "candidates = asm.assemble_circular()\n",
    "candidates"
   ]
  },
  {
   "cell_type": "markdown",
   "id": "d63904af",
   "metadata": {},
   "source": [
    "There should normally be two candidates of equal size. These sequences should be identical."
   ]
  },
  {
   "cell_type": "code",
   "execution_count": 12,
   "id": "a0b917a2",
   "metadata": {
    "execution": {
     "iopub.execute_input": "2023-02-04T08:02:16.535372Z",
     "iopub.status.busy": "2023-02-04T08:02:16.533785Z",
     "iopub.status.idle": "2023-02-04T08:02:16.538433Z",
     "shell.execute_reply": "2023-02-04T08:02:16.537715Z"
    },
    "lines_to_next_cell": 0
   },
   "outputs": [],
   "source": [
    "candidate, *rest = candidates"
   ]
  },
  {
   "cell_type": "code",
   "execution_count": 13,
   "id": "8e6dd320",
   "metadata": {
    "execution": {
     "iopub.execute_input": "2023-02-04T08:02:16.542159Z",
     "iopub.status.busy": "2023-02-04T08:02:16.541857Z",
     "iopub.status.idle": "2023-02-04T08:02:16.564399Z",
     "shell.execute_reply": "2023-02-04T08:02:16.563319Z"
    },
    "lines_to_next_cell": 0
   },
   "outputs": [
    {
     "data": {
      "text/plain": [
       "True"
      ]
     },
     "execution_count": 13,
     "metadata": {},
     "output_type": "execute_result"
    }
   ],
   "source": [
    "candidate.cseguid() == rest[0].cseguid()"
   ]
  },
  {
   "cell_type": "code",
   "execution_count": 14,
   "id": "8c29d1ed",
   "metadata": {
    "execution": {
     "iopub.execute_input": "2023-02-04T08:02:16.568096Z",
     "iopub.status.busy": "2023-02-04T08:02:16.567623Z",
     "iopub.status.idle": "2023-02-04T08:02:16.577576Z",
     "shell.execute_reply": "2023-02-04T08:02:16.575794Z"
    },
    "lines_to_next_cell": 0
   },
   "outputs": [
    {
     "data": {
      "text/plain": [
       " -|pYPK0_lin|168\n",
       "|            \\/\n",
       "|            /\\\n",
       "|            168|FBA1|48\n",
       "|                     \\/\n",
       "|                     /\\\n",
       "|                     48|EcfabG|37\n",
       "|                               \\/\n",
       "|                               /\\\n",
       "|                               37|RPL22A|276\n",
       "|                                         \\/\n",
       "|                                         /\\\n",
       "|                                         276-\n",
       "|                                            |\n",
       " --------------------------------------------"
      ]
     },
     "execution_count": 14,
     "metadata": {},
     "output_type": "execute_result"
    }
   ],
   "source": [
    "candidate.figure()"
   ]
  },
  {
   "cell_type": "markdown",
   "id": "2ae6a48c",
   "metadata": {},
   "source": [
    "The candidate vector is synchronized to the 577 primer. This means that\n",
    "the plasmid origin is shifted so that it matches the backbone vector."
   ]
  },
  {
   "cell_type": "code",
   "execution_count": 15,
   "id": "60669790",
   "metadata": {
    "execution": {
     "iopub.execute_input": "2023-02-04T08:02:16.581134Z",
     "iopub.status.busy": "2023-02-04T08:02:16.580840Z",
     "iopub.status.idle": "2023-02-04T08:02:16.909920Z",
     "shell.execute_reply": "2023-02-04T08:02:16.909392Z"
    }
   },
   "outputs": [],
   "source": [
    "result = candidate.synced(fp_prom)"
   ]
  },
  {
   "cell_type": "markdown",
   "id": "b75d0518",
   "metadata": {},
   "source": [
    "### Diagnostic PCR confirmation\n",
    "\n",
    "The structure of the final vector is confirmed by two\n",
    "separate PCR reactions, one for the promoter and gene and\n",
    "one for the gene and terminator.\n",
    "\n",
    "PCR using standard primers 577 and 467 to amplify promoter and gene."
   ]
  },
  {
   "cell_type": "code",
   "execution_count": 16,
   "id": "3a75c091",
   "metadata": {
    "execution": {
     "iopub.execute_input": "2023-02-04T08:02:16.913128Z",
     "iopub.status.busy": "2023-02-04T08:02:16.912722Z",
     "iopub.status.idle": "2023-02-04T08:02:16.931848Z",
     "shell.execute_reply": "2023-02-04T08:02:16.931312Z"
    }
   },
   "outputs": [],
   "source": [
    "product = pcr( fp_prom, rp_gene, result)"
   ]
  },
  {
   "cell_type": "markdown",
   "id": "819ec4bd",
   "metadata": {},
   "source": [
    "A correct clone should give this size in base pairs:"
   ]
  },
  {
   "cell_type": "code",
   "execution_count": 17,
   "id": "261b1030",
   "metadata": {
    "execution": {
     "iopub.execute_input": "2023-02-04T08:02:16.934902Z",
     "iopub.status.busy": "2023-02-04T08:02:16.934607Z",
     "iopub.status.idle": "2023-02-04T08:02:16.938623Z",
     "shell.execute_reply": "2023-02-04T08:02:16.937796Z"
    }
   },
   "outputs": [
    {
     "name": "stdout",
     "output_type": "stream",
     "text": [
      "1636\n"
     ]
    }
   ],
   "source": [
    "print(len(product))"
   ]
  },
  {
   "cell_type": "markdown",
   "id": "838e3dcb",
   "metadata": {},
   "source": [
    "If the promoter is missing from the assembly, the PCR product will have this size in base pairs:"
   ]
  },
  {
   "cell_type": "code",
   "execution_count": 18,
   "id": "330ee1be",
   "metadata": {
    "execution": {
     "iopub.execute_input": "2023-02-04T08:02:16.941475Z",
     "iopub.status.busy": "2023-02-04T08:02:16.941225Z",
     "iopub.status.idle": "2023-02-04T08:02:16.944823Z",
     "shell.execute_reply": "2023-02-04T08:02:16.944254Z"
    }
   },
   "outputs": [
    {
     "name": "stdout",
     "output_type": "stream",
     "text": [
      "774\n"
     ]
    }
   ],
   "source": [
    "print(len(product) - len(prom))"
   ]
  },
  {
   "cell_type": "markdown",
   "id": "b601cc4d",
   "metadata": {},
   "source": [
    "If the gene is missing from the assembly, the PCR product will have this size in base pairs:"
   ]
  },
  {
   "cell_type": "code",
   "execution_count": 19,
   "id": "1f6fdc9e",
   "metadata": {
    "execution": {
     "iopub.execute_input": "2023-02-04T08:02:16.947338Z",
     "iopub.status.busy": "2023-02-04T08:02:16.947130Z",
     "iopub.status.idle": "2023-02-04T08:02:16.950980Z",
     "shell.execute_reply": "2023-02-04T08:02:16.949898Z"
    }
   },
   "outputs": [
    {
     "name": "stdout",
     "output_type": "stream",
     "text": [
      "812\n"
     ]
    }
   ],
   "source": [
    "print(len(product) - len(gene))"
   ]
  },
  {
   "cell_type": "markdown",
   "id": "78921c69",
   "metadata": {},
   "source": [
    "PCR using standard primers 468 and 578 to amplify gene and terminator."
   ]
  },
  {
   "cell_type": "code",
   "execution_count": 20,
   "id": "f4fe4d80",
   "metadata": {
    "execution": {
     "iopub.execute_input": "2023-02-04T08:02:16.957433Z",
     "iopub.status.busy": "2023-02-04T08:02:16.956783Z",
     "iopub.status.idle": "2023-02-04T08:02:16.980357Z",
     "shell.execute_reply": "2023-02-04T08:02:16.979589Z"
    }
   },
   "outputs": [],
   "source": [
    "product2 = pcr( fp_gene, rp_term, result)"
   ]
  },
  {
   "cell_type": "markdown",
   "id": "294684d5",
   "metadata": {},
   "source": [
    "A correct clone should give this size:"
   ]
  },
  {
   "cell_type": "code",
   "execution_count": 21,
   "id": "42fe5b18",
   "metadata": {
    "execution": {
     "iopub.execute_input": "2023-02-04T08:02:16.983757Z",
     "iopub.status.busy": "2023-02-04T08:02:16.983423Z",
     "iopub.status.idle": "2023-02-04T08:02:16.988940Z",
     "shell.execute_reply": "2023-02-04T08:02:16.987627Z"
    }
   },
   "outputs": [
    {
     "name": "stdout",
     "output_type": "stream",
     "text": [
      "1553\n"
     ]
    }
   ],
   "source": [
    "print(len(product2))"
   ]
  },
  {
   "cell_type": "markdown",
   "id": "cfb429c0",
   "metadata": {},
   "source": [
    "If the gene is missing from the assembly, the PCR product will have this size in base pairs:"
   ]
  },
  {
   "cell_type": "code",
   "execution_count": 22,
   "id": "e0d187c7",
   "metadata": {
    "execution": {
     "iopub.execute_input": "2023-02-04T08:02:16.993386Z",
     "iopub.status.busy": "2023-02-04T08:02:16.992736Z",
     "iopub.status.idle": "2023-02-04T08:02:16.997396Z",
     "shell.execute_reply": "2023-02-04T08:02:16.996614Z"
    }
   },
   "outputs": [
    {
     "name": "stdout",
     "output_type": "stream",
     "text": [
      "729\n"
     ]
    }
   ],
   "source": [
    "print(len(product2) - len(gene))"
   ]
  },
  {
   "cell_type": "markdown",
   "id": "334dc7b2",
   "metadata": {},
   "source": [
    "If the terminator is missing from the assembly, the PCR product will have this size in base pairs:"
   ]
  },
  {
   "cell_type": "code",
   "execution_count": 23,
   "id": "b524dc4b",
   "metadata": {
    "execution": {
     "iopub.execute_input": "2023-02-04T08:02:17.001109Z",
     "iopub.status.busy": "2023-02-04T08:02:17.000576Z",
     "iopub.status.idle": "2023-02-04T08:02:17.005638Z",
     "shell.execute_reply": "2023-02-04T08:02:17.004835Z"
    }
   },
   "outputs": [
    {
     "name": "stdout",
     "output_type": "stream",
     "text": [
      "787\n"
     ]
    }
   ],
   "source": [
    "print(len(product2) - len(term))"
   ]
  },
  {
   "cell_type": "markdown",
   "id": "a4890af3",
   "metadata": {},
   "source": [
    "The cseguid checksum for the resulting plasmid is calculated for future reference.\n",
    "The [cseguid checksum](http://pydna.readthedocs.org/en/latest/pydna.html#pydna.utils.cseguid)\n",
    "uniquely identifies a circular double stranded sequence."
   ]
  },
  {
   "cell_type": "code",
   "execution_count": 24,
   "id": "4ecc53f9",
   "metadata": {
    "execution": {
     "iopub.execute_input": "2023-02-04T08:02:17.008514Z",
     "iopub.status.busy": "2023-02-04T08:02:17.008258Z",
     "iopub.status.idle": "2023-02-04T08:02:17.017717Z",
     "shell.execute_reply": "2023-02-04T08:02:17.016868Z"
    }
   },
   "outputs": [
    {
     "name": "stdout",
     "output_type": "stream",
     "text": [
      "0_8MWlK1r5MpcFdPHdcDb90Zftc\n"
     ]
    }
   ],
   "source": [
    "print(result.cseguid())"
   ]
  },
  {
   "cell_type": "markdown",
   "id": "8cf06c6a",
   "metadata": {},
   "source": [
    "The file name is based on the promoter, gene and terminator designations."
   ]
  },
  {
   "cell_type": "code",
   "execution_count": 25,
   "id": "c87b9842",
   "metadata": {
    "execution": {
     "iopub.execute_input": "2023-02-04T08:02:17.021594Z",
     "iopub.status.busy": "2023-02-04T08:02:17.021065Z",
     "iopub.status.idle": "2023-02-04T08:02:17.025999Z",
     "shell.execute_reply": "2023-02-04T08:02:17.025028Z"
    }
   },
   "outputs": [],
   "source": [
    "result.locus = f\"tu:{gene.name}\"[:16]\n",
    "result.definition = \"pYPK0_FBA1_EcfabG_RPL22A\""
   ]
  },
  {
   "cell_type": "markdown",
   "id": "babc5be8",
   "metadata": {},
   "source": [
    "Sequence is stamped with cseguid checksum. This can be used to verify the\n",
    "integrity of the sequence file."
   ]
  },
  {
   "cell_type": "code",
   "execution_count": 26,
   "id": "f8d77ff3",
   "metadata": {
    "execution": {
     "iopub.execute_input": "2023-02-04T08:02:17.029248Z",
     "iopub.status.busy": "2023-02-04T08:02:17.028986Z",
     "iopub.status.idle": "2023-02-04T08:02:17.041982Z",
     "shell.execute_reply": "2023-02-04T08:02:17.041490Z"
    }
   },
   "outputs": [
    {
     "data": {
      "text/plain": [
       "0_8MWlK1r5MpcFdPHdcDb90Zftc"
      ]
     },
     "execution_count": 26,
     "metadata": {},
     "output_type": "execute_result"
    }
   ],
   "source": [
    "result.stamp(\"cSEGUID\")"
   ]
  },
  {
   "cell_type": "markdown",
   "id": "1bbdcd76",
   "metadata": {},
   "source": [
    "Write sequence to a local file."
   ]
  },
  {
   "cell_type": "code",
   "execution_count": 27,
   "id": "816dcbcc",
   "metadata": {
    "execution": {
     "iopub.execute_input": "2023-02-04T08:02:17.044669Z",
     "iopub.status.busy": "2023-02-04T08:02:17.044384Z",
     "iopub.status.idle": "2023-02-04T08:02:17.051124Z",
     "shell.execute_reply": "2023-02-04T08:02:17.050344Z"
    }
   },
   "outputs": [
    {
     "data": {
      "text/html": [
       "<font face=monospace><a href='pYPK0_FBA1_EcfabG_RPL22A.gb' target='_blank'>pYPK0_FBA1_EcfabG_RPL22A.gb</a></font><br>"
      ]
     },
     "metadata": {},
     "output_type": "display_data"
    }
   ],
   "source": [
    "result.write(f\"{result.definition}.gb\")"
   ]
  },
  {
   "cell_type": "markdown",
   "id": "e94bba92",
   "metadata": {
    "lines_to_next_cell": 0
   },
   "source": [
    "### Suggested PCR programs\n",
    "\n",
    "For the [amplification](#PCR) of promoter, gene and terminator."
   ]
  },
  {
   "cell_type": "code",
   "execution_count": 28,
   "id": "947de13f",
   "metadata": {
    "execution": {
     "iopub.execute_input": "2023-02-04T08:02:17.056595Z",
     "iopub.status.busy": "2023-02-04T08:02:17.056283Z",
     "iopub.status.idle": "2023-02-04T08:02:17.061659Z",
     "shell.execute_reply": "2023-02-04T08:02:17.060765Z"
    }
   },
   "outputs": [
    {
     "name": "stdout",
     "output_type": "stream",
     "text": [
      "577_crp585-557 567_pCAPsAjiIF\n",
      "|95°C|95°C               |    |tmf:64.6\n",
      "|____|_____          72°C|72°C|tmr:69.7\n",
      "|3min|30s  \\ 57.2°C _____|____|45s/kb\n",
      "|    |      \\______/ 0:38|5min|GC 39%\n",
      "|    |       30s         |    |862bp\n"
     ]
    }
   ],
   "source": [
    "print(prom.forward_primer.name, prom.reverse_primer.name)\n",
    "print(prom.program())"
   ]
  },
  {
   "cell_type": "code",
   "execution_count": 29,
   "id": "8096f922",
   "metadata": {
    "execution": {
     "iopub.execute_input": "2023-02-04T08:02:17.065657Z",
     "iopub.status.busy": "2023-02-04T08:02:17.064768Z",
     "iopub.status.idle": "2023-02-04T08:02:17.072206Z",
     "shell.execute_reply": "2023-02-04T08:02:17.071341Z"
    }
   },
   "outputs": [
    {
     "name": "stdout",
     "output_type": "stream",
     "text": [
      "468_pCAPs_release_fw 467_pCAPs_release_re\n",
      "|95°C|95°C               |    |tmf:76.9\n",
      "|____|_____          72°C|72°C|tmr:67.9\n",
      "|3min|30s  \\ 61.6°C _____|____|45s/kb\n",
      "|    |      \\______/ 0:37|5min|GC 51%\n",
      "|    |       30s         |    |824bp\n"
     ]
    }
   ],
   "source": [
    "print(gene.forward_primer.name, gene.reverse_primer.name)\n",
    "print(gene.program())"
   ]
  },
  {
   "cell_type": "code",
   "execution_count": 30,
   "id": "e153418e",
   "metadata": {
    "execution": {
     "iopub.execute_input": "2023-02-04T08:02:17.075682Z",
     "iopub.status.busy": "2023-02-04T08:02:17.075395Z",
     "iopub.status.idle": "2023-02-04T08:02:17.080012Z",
     "shell.execute_reply": "2023-02-04T08:02:17.079137Z"
    }
   },
   "outputs": [
    {
     "name": "stdout",
     "output_type": "stream",
     "text": [
      "568_pCAPsAjiIR 578_crp42-70\n",
      "|95°C|95°C               |    |tmf:66.1\n",
      "|____|_____          72°C|72°C|tmr:65.0\n",
      "|3min|30s  \\ 56.0°C _____|____|45s/kb\n",
      "|    |      \\______/ 0:34|5min|GC 35%\n",
      "|    |       30s         |    |766bp\n"
     ]
    }
   ],
   "source": [
    "print(term.forward_primer.name, term.reverse_primer.name)\n",
    "print(term.program())"
   ]
  }
 ],
 "metadata": {
  "jupytext": {
   "main_language": "python",
   "text_representation": {
    "extension": ".py",
    "format_name": "percent",
    "format_version": "1.3",
    "jupytext_version": "1.14.0"
   }
  },
  "language_info": {
   "codemirror_mode": {
    "name": "ipython",
    "version": 3
   },
   "file_extension": ".py",
   "mimetype": "text/x-python",
   "name": "python",
   "nbconvert_exporter": "python",
   "pygments_lexer": "ipython3",
   "version": "3.11.0"
  }
 },
 "nbformat": 4,
 "nbformat_minor": 5
}
