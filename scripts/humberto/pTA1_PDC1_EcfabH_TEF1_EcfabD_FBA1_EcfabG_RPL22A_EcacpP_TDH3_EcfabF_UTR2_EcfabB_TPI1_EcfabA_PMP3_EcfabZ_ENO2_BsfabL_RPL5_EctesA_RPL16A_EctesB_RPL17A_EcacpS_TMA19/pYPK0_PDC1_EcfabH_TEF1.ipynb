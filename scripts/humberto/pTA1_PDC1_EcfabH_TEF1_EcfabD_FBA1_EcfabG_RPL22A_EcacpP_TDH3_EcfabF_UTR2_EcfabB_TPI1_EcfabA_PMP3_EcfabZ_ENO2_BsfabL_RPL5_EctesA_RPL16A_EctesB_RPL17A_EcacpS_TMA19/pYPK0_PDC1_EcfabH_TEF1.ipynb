{
 "cells": [
  {
   "cell_type": "markdown",
   "id": "356ddd87",
   "metadata": {},
   "source": [
    "# [![logo](logo.png)](https://github.com/BjornFJohansson/ypkpathway#-ypkpathway) pYPK0_PDC1_EcfabH_TEF1\n",
    "\n",
    "Assembly of a [_Saccharomyces cerevisiae_](http://www.yeastgenome.org) transcriptional unit vector.\n",
    "\n",
    "Made from a linear vector fragment and three PCR products:\n",
    "\n",
    "- a linearized pYPK0 vector for maintenance in _S. cerevisiae_ or _E. coli_ (red dashed line in figure below)\n",
    "- a promoter PCR product from the `pYPKa_Z_PDC1` vector\n",
    "- a gene PCR product from the `pYPKa_A_EcfabH` vector\n",
    "- a terminator PCR product from the `pYPKa_E_TEF1` vector\n",
    "\n",
    "The four linear DNA fragments are joined by _in-vivo_ homologous recombination in a\n",
    "[_Saccharomyces cerevisiae_](http://wiki.yeastgenome.org/index.php/Commonly_used_strains) strain.\n",
    "\n",
    "![tu](tu.png \"tu\")\n",
    "\n",
    "A part of the [pydna](https://pypi.python.org/pypi/pydna/) package is imported in the code cell below."
   ]
  },
  {
   "cell_type": "code",
   "execution_count": 1,
   "id": "66fe039b",
   "metadata": {
    "execution": {
     "iopub.execute_input": "2023-02-04T08:02:08.930947Z",
     "iopub.status.busy": "2023-02-04T08:02:08.930608Z",
     "iopub.status.idle": "2023-02-04T08:02:09.290092Z",
     "shell.execute_reply": "2023-02-04T08:02:09.289520Z"
    }
   },
   "outputs": [],
   "source": [
    "from pydna.parsers import parse_primers\n",
    "from pydna.readers import read\n",
    "from pydna.amplify import pcr\n",
    "from pydna.assembly import Assembly"
   ]
  },
  {
   "cell_type": "markdown",
   "id": "c65c67a2",
   "metadata": {},
   "source": [
    "The Yeast Pathway Kit [standard primers](standard_primers.fasta) are read into a dictionary in the code cell below."
   ]
  },
  {
   "cell_type": "code",
   "execution_count": 2,
   "id": "077dca09",
   "metadata": {
    "execution": {
     "iopub.execute_input": "2023-02-04T08:02:09.293531Z",
     "iopub.status.busy": "2023-02-04T08:02:09.292939Z",
     "iopub.status.idle": "2023-02-04T08:02:09.307035Z",
     "shell.execute_reply": "2023-02-04T08:02:09.306317Z"
    }
   },
   "outputs": [],
   "source": [
    "p = {x.name: x for x in parse_primers(\"standard_primers.fasta\")}"
   ]
  },
  {
   "cell_type": "markdown",
   "id": "22587654",
   "metadata": {},
   "source": [
    "The backbone vector [pYPK0](pYPK0.gb) is read from a local file in the code cell below."
   ]
  },
  {
   "cell_type": "code",
   "execution_count": 3,
   "id": "0a916cf7",
   "metadata": {
    "execution": {
     "iopub.execute_input": "2023-02-04T08:02:09.309967Z",
     "iopub.status.busy": "2023-02-04T08:02:09.309741Z",
     "iopub.status.idle": "2023-02-04T08:02:09.323086Z",
     "shell.execute_reply": "2023-02-04T08:02:09.322517Z"
    }
   },
   "outputs": [],
   "source": [
    "backbone = read(\"pYPK0.gb\")"
   ]
  },
  {
   "cell_type": "markdown",
   "id": "8c1d80d1",
   "metadata": {},
   "source": [
    "The backbone vector is linearized by digestion with [MfeI](https://www.google.com/search?q=MfeI)."
   ]
  },
  {
   "cell_type": "code",
   "execution_count": 4,
   "id": "e1739e17",
   "metadata": {
    "execution": {
     "iopub.execute_input": "2023-02-04T08:02:09.325865Z",
     "iopub.status.busy": "2023-02-04T08:02:09.325452Z",
     "iopub.status.idle": "2023-02-04T08:02:09.328625Z",
     "shell.execute_reply": "2023-02-04T08:02:09.328011Z"
    }
   },
   "outputs": [],
   "source": [
    "from Bio.Restriction import MfeI"
   ]
  },
  {
   "cell_type": "code",
   "execution_count": 5,
   "id": "ba039d30",
   "metadata": {
    "execution": {
     "iopub.execute_input": "2023-02-04T08:02:09.332360Z",
     "iopub.status.busy": "2023-02-04T08:02:09.331876Z",
     "iopub.status.idle": "2023-02-04T08:02:09.341974Z",
     "shell.execute_reply": "2023-02-04T08:02:09.341350Z"
    }
   },
   "outputs": [],
   "source": [
    "linear_backbone = backbone.linearize(MfeI)"
   ]
  },
  {
   "cell_type": "markdown",
   "id": "c80616f4",
   "metadata": {},
   "source": [
    "The pYPKa derived _E. coli_ plasmids containing\n",
    "- [promoter](pYPKa_Z_PDC1.gb)\n",
    "- [gene](pYPKa_A_EcfabH.gb)\n",
    "- [terminator](pYPKa_E_TEF1.gb)\n",
    "\n",
    "are read into three variables below."
   ]
  },
  {
   "cell_type": "code",
   "execution_count": 6,
   "id": "22c4083e",
   "metadata": {
    "execution": {
     "iopub.execute_input": "2023-02-04T08:02:09.345202Z",
     "iopub.status.busy": "2023-02-04T08:02:09.344700Z",
     "iopub.status.idle": "2023-02-04T08:02:09.357661Z",
     "shell.execute_reply": "2023-02-04T08:02:09.357041Z"
    }
   },
   "outputs": [],
   "source": [
    "promoter_template   = read(\"pYPKa_Z_PDC1.gb\")\n",
    "gene_template       = read(\"pYPKa_A_EcfabH.gb\")\n",
    "terminator_template = read(\"pYPKa_E_TEF1.gb\")"
   ]
  },
  {
   "cell_type": "markdown",
   "id": "28787a0b",
   "metadata": {
    "lines_to_next_cell": 0
   },
   "source": [
    "### PCR\n",
    "Three DNA fragments are PCR amplified using [standard primers](standard_primers.fasta).\n",
    "\n",
    "[Suggested PCR programs](#Suggested-PCR-programs) can be found at the end of this document."
   ]
  },
  {
   "cell_type": "code",
   "execution_count": 7,
   "id": "bf25ef85",
   "metadata": {
    "execution": {
     "iopub.execute_input": "2023-02-04T08:02:09.360709Z",
     "iopub.status.busy": "2023-02-04T08:02:09.360418Z",
     "iopub.status.idle": "2023-02-04T08:02:09.364377Z",
     "shell.execute_reply": "2023-02-04T08:02:09.363720Z"
    }
   },
   "outputs": [],
   "source": [
    "\n",
    "fp_prom = p['577_crp585-557']\n",
    "rp_prom = p['567_pCAPsAjiIF']\n",
    "fp_gene = p['468_pCAPs_release_fw']\n",
    "rp_gene = p['467_pCAPs_release_re']\n",
    "fp_term = p['568_pCAPsAjiIR']\n",
    "rp_term = p['578_crp42-70']"
   ]
  },
  {
   "cell_type": "code",
   "execution_count": 8,
   "id": "060dcae4",
   "metadata": {
    "execution": {
     "iopub.execute_input": "2023-02-04T08:02:09.367246Z",
     "iopub.status.busy": "2023-02-04T08:02:09.366947Z",
     "iopub.status.idle": "2023-02-04T08:02:09.389062Z",
     "shell.execute_reply": "2023-02-04T08:02:09.388478Z"
    }
   },
   "outputs": [],
   "source": [
    "prom = pcr(fp_prom, rp_prom, promoter_template)\n",
    "gene = pcr(fp_gene, rp_gene, gene_template)\n",
    "term = pcr(fp_term, rp_term, terminator_template)"
   ]
  },
  {
   "cell_type": "code",
   "execution_count": 9,
   "id": "aba28973",
   "metadata": {
    "execution": {
     "iopub.execute_input": "2023-02-04T08:02:09.391817Z",
     "iopub.status.busy": "2023-02-04T08:02:09.391620Z",
     "iopub.status.idle": "2023-02-04T08:02:09.394797Z",
     "shell.execute_reply": "2023-02-04T08:02:09.394280Z"
    }
   },
   "outputs": [],
   "source": [
    "prom.name = \"pYPKa_Z_PDC1\"[8:]\n",
    "gene.name = \"pYPKa_A_EcfabH\"[8:]\n",
    "term.name = \"pYPKa_E_TEF1\"[8:]"
   ]
  },
  {
   "cell_type": "markdown",
   "id": "9f8d0c5f",
   "metadata": {},
   "source": [
    "\n",
    "The fragments will be assembled by _in-vivo_ [homologous recombination](http://www.ncbi.nlm.nih.gov/pubmed/2828185):"
   ]
  },
  {
   "cell_type": "code",
   "execution_count": 10,
   "id": "08adcada",
   "metadata": {
    "execution": {
     "iopub.execute_input": "2023-02-04T08:02:09.397379Z",
     "iopub.status.busy": "2023-02-04T08:02:09.397177Z",
     "iopub.status.idle": "2023-02-04T08:02:09.855613Z",
     "shell.execute_reply": "2023-02-04T08:02:09.855030Z"
    }
   },
   "outputs": [
    {
     "data": {
      "text/plain": [
       "Assembly\n",
       "fragments..: 5766bp 1187bp 1043bp 919bp\n",
       "limit(bp)..: 31\n",
       "G.nodes....: 10\n",
       "algorithm..: common_sub_strings"
      ]
     },
     "execution_count": 10,
     "metadata": {},
     "output_type": "execute_result"
    }
   ],
   "source": [
    "asm = Assembly((linear_backbone, prom, gene, term), limit=31)\n",
    "asm"
   ]
  },
  {
   "cell_type": "markdown",
   "id": "8be39f2e",
   "metadata": {},
   "source": [
    "The Assembly object above should normally indicate four fragments and eight nodes."
   ]
  },
  {
   "cell_type": "code",
   "execution_count": 11,
   "id": "710a50ea",
   "metadata": {
    "execution": {
     "iopub.execute_input": "2023-02-04T08:02:09.858467Z",
     "iopub.status.busy": "2023-02-04T08:02:09.858038Z",
     "iopub.status.idle": "2023-02-04T08:02:10.092784Z",
     "shell.execute_reply": "2023-02-04T08:02:10.092224Z"
    },
    "lines_to_next_cell": 0
   },
   "outputs": [
    {
     "data": {
      "text/plain": [
       "[Contig(o8280), Contig(o8280), Contig(o8280), Contig(o7311), Contig(o7311)]"
      ]
     },
     "execution_count": 11,
     "metadata": {},
     "output_type": "execute_result"
    }
   ],
   "source": [
    "candidates = asm.assemble_circular()\n",
    "candidates"
   ]
  },
  {
   "cell_type": "markdown",
   "id": "f160ea61",
   "metadata": {},
   "source": [
    "There should normally be two candidates of equal size. These sequences should be identical."
   ]
  },
  {
   "cell_type": "code",
   "execution_count": 12,
   "id": "87c99fea",
   "metadata": {
    "execution": {
     "iopub.execute_input": "2023-02-04T08:02:10.095520Z",
     "iopub.status.busy": "2023-02-04T08:02:10.095207Z",
     "iopub.status.idle": "2023-02-04T08:02:10.098511Z",
     "shell.execute_reply": "2023-02-04T08:02:10.097852Z"
    },
    "lines_to_next_cell": 0
   },
   "outputs": [],
   "source": [
    "candidate, *rest = candidates"
   ]
  },
  {
   "cell_type": "code",
   "execution_count": 13,
   "id": "4a411f45",
   "metadata": {
    "execution": {
     "iopub.execute_input": "2023-02-04T08:02:10.101519Z",
     "iopub.status.busy": "2023-02-04T08:02:10.101168Z",
     "iopub.status.idle": "2023-02-04T08:02:10.126462Z",
     "shell.execute_reply": "2023-02-04T08:02:10.125857Z"
    },
    "lines_to_next_cell": 0
   },
   "outputs": [
    {
     "data": {
      "text/plain": [
       "True"
      ]
     },
     "execution_count": 13,
     "metadata": {},
     "output_type": "execute_result"
    }
   ],
   "source": [
    "candidate.cseguid() == rest[0].cseguid()"
   ]
  },
  {
   "cell_type": "code",
   "execution_count": 14,
   "id": "c5b75250",
   "metadata": {
    "execution": {
     "iopub.execute_input": "2023-02-04T08:02:10.129748Z",
     "iopub.status.busy": "2023-02-04T08:02:10.129346Z",
     "iopub.status.idle": "2023-02-04T08:02:10.133515Z",
     "shell.execute_reply": "2023-02-04T08:02:10.132851Z"
    },
    "lines_to_next_cell": 0
   },
   "outputs": [
    {
     "data": {
      "text/plain": [
       " -|pYPK0_lin|168\n",
       "|            \\/\n",
       "|            /\\\n",
       "|            168|PDC1|48\n",
       "|                     \\/\n",
       "|                     /\\\n",
       "|                     48|EcfabH|37\n",
       "|                               \\/\n",
       "|                               /\\\n",
       "|                               37|TEF1|276\n",
       "|                                       \\/\n",
       "|                                       /\\\n",
       "|                                       276-\n",
       "|                                          |\n",
       " ------------------------------------------"
      ]
     },
     "execution_count": 14,
     "metadata": {},
     "output_type": "execute_result"
    }
   ],
   "source": [
    "candidate.figure()"
   ]
  },
  {
   "cell_type": "markdown",
   "id": "e003225a",
   "metadata": {},
   "source": [
    "The candidate vector is synchronized to the 577 primer. This means that\n",
    "the plasmid origin is shifted so that it matches the backbone vector."
   ]
  },
  {
   "cell_type": "code",
   "execution_count": 15,
   "id": "fd36df53",
   "metadata": {
    "execution": {
     "iopub.execute_input": "2023-02-04T08:02:10.137256Z",
     "iopub.status.busy": "2023-02-04T08:02:10.136672Z",
     "iopub.status.idle": "2023-02-04T08:02:10.451730Z",
     "shell.execute_reply": "2023-02-04T08:02:10.451032Z"
    }
   },
   "outputs": [],
   "source": [
    "result = candidate.synced(fp_prom)"
   ]
  },
  {
   "cell_type": "markdown",
   "id": "911d0b04",
   "metadata": {},
   "source": [
    "### Diagnostic PCR confirmation\n",
    "\n",
    "The structure of the final vector is confirmed by two\n",
    "separate PCR reactions, one for the promoter and gene and\n",
    "one for the gene and terminator.\n",
    "\n",
    "PCR using standard primers 577 and 467 to amplify promoter and gene."
   ]
  },
  {
   "cell_type": "code",
   "execution_count": 16,
   "id": "c2ef0d2e",
   "metadata": {
    "execution": {
     "iopub.execute_input": "2023-02-04T08:02:10.457847Z",
     "iopub.status.busy": "2023-02-04T08:02:10.457444Z",
     "iopub.status.idle": "2023-02-04T08:02:10.474736Z",
     "shell.execute_reply": "2023-02-04T08:02:10.474031Z"
    }
   },
   "outputs": [],
   "source": [
    "product = pcr( fp_prom, rp_gene, result)"
   ]
  },
  {
   "cell_type": "markdown",
   "id": "e4b96383",
   "metadata": {},
   "source": [
    "A correct clone should give this size in base pairs:"
   ]
  },
  {
   "cell_type": "code",
   "execution_count": 17,
   "id": "93ce6f23",
   "metadata": {
    "execution": {
     "iopub.execute_input": "2023-02-04T08:02:10.477832Z",
     "iopub.status.busy": "2023-02-04T08:02:10.477172Z",
     "iopub.status.idle": "2023-02-04T08:02:10.480993Z",
     "shell.execute_reply": "2023-02-04T08:02:10.480444Z"
    }
   },
   "outputs": [
    {
     "name": "stdout",
     "output_type": "stream",
     "text": [
      "2180\n"
     ]
    }
   ],
   "source": [
    "print(len(product))"
   ]
  },
  {
   "cell_type": "markdown",
   "id": "54cb6167",
   "metadata": {},
   "source": [
    "If the promoter is missing from the assembly, the PCR product will have this size in base pairs:"
   ]
  },
  {
   "cell_type": "code",
   "execution_count": 18,
   "id": "5e9bedd1",
   "metadata": {
    "execution": {
     "iopub.execute_input": "2023-02-04T08:02:10.484106Z",
     "iopub.status.busy": "2023-02-04T08:02:10.483663Z",
     "iopub.status.idle": "2023-02-04T08:02:10.487789Z",
     "shell.execute_reply": "2023-02-04T08:02:10.487062Z"
    }
   },
   "outputs": [
    {
     "name": "stdout",
     "output_type": "stream",
     "text": [
      "993\n"
     ]
    }
   ],
   "source": [
    "print(len(product) - len(prom))"
   ]
  },
  {
   "cell_type": "markdown",
   "id": "195a8f12",
   "metadata": {},
   "source": [
    "If the gene is missing from the assembly, the PCR product will have this size in base pairs:"
   ]
  },
  {
   "cell_type": "code",
   "execution_count": 19,
   "id": "981fa58a",
   "metadata": {
    "execution": {
     "iopub.execute_input": "2023-02-04T08:02:10.490937Z",
     "iopub.status.busy": "2023-02-04T08:02:10.490659Z",
     "iopub.status.idle": "2023-02-04T08:02:10.495916Z",
     "shell.execute_reply": "2023-02-04T08:02:10.494509Z"
    }
   },
   "outputs": [
    {
     "name": "stdout",
     "output_type": "stream",
     "text": [
      "1137\n"
     ]
    }
   ],
   "source": [
    "print(len(product) - len(gene))"
   ]
  },
  {
   "cell_type": "markdown",
   "id": "27922a26",
   "metadata": {},
   "source": [
    "PCR using standard primers 468 and 578 to amplify gene and terminator."
   ]
  },
  {
   "cell_type": "code",
   "execution_count": 20,
   "id": "8def4484",
   "metadata": {
    "execution": {
     "iopub.execute_input": "2023-02-04T08:02:10.500419Z",
     "iopub.status.busy": "2023-02-04T08:02:10.499934Z",
     "iopub.status.idle": "2023-02-04T08:02:10.519966Z",
     "shell.execute_reply": "2023-02-04T08:02:10.519227Z"
    }
   },
   "outputs": [],
   "source": [
    "product2 = pcr( fp_gene, rp_term, result)"
   ]
  },
  {
   "cell_type": "markdown",
   "id": "9108ded1",
   "metadata": {},
   "source": [
    "A correct clone should give this size:"
   ]
  },
  {
   "cell_type": "code",
   "execution_count": 21,
   "id": "1398943c",
   "metadata": {
    "execution": {
     "iopub.execute_input": "2023-02-04T08:02:10.522874Z",
     "iopub.status.busy": "2023-02-04T08:02:10.522577Z",
     "iopub.status.idle": "2023-02-04T08:02:10.527004Z",
     "shell.execute_reply": "2023-02-04T08:02:10.526119Z"
    }
   },
   "outputs": [
    {
     "name": "stdout",
     "output_type": "stream",
     "text": [
      "1925\n"
     ]
    }
   ],
   "source": [
    "print(len(product2))"
   ]
  },
  {
   "cell_type": "markdown",
   "id": "7da8a62e",
   "metadata": {},
   "source": [
    "If the gene is missing from the assembly, the PCR product will have this size in base pairs:"
   ]
  },
  {
   "cell_type": "code",
   "execution_count": 22,
   "id": "5e36a0c1",
   "metadata": {
    "execution": {
     "iopub.execute_input": "2023-02-04T08:02:10.530743Z",
     "iopub.status.busy": "2023-02-04T08:02:10.530451Z",
     "iopub.status.idle": "2023-02-04T08:02:10.535999Z",
     "shell.execute_reply": "2023-02-04T08:02:10.534636Z"
    }
   },
   "outputs": [
    {
     "name": "stdout",
     "output_type": "stream",
     "text": [
      "882\n"
     ]
    }
   ],
   "source": [
    "print(len(product2) - len(gene))"
   ]
  },
  {
   "cell_type": "markdown",
   "id": "8528e379",
   "metadata": {},
   "source": [
    "If the terminator is missing from the assembly, the PCR product will have this size in base pairs:"
   ]
  },
  {
   "cell_type": "code",
   "execution_count": 23,
   "id": "1856421f",
   "metadata": {
    "execution": {
     "iopub.execute_input": "2023-02-04T08:02:10.540192Z",
     "iopub.status.busy": "2023-02-04T08:02:10.539625Z",
     "iopub.status.idle": "2023-02-04T08:02:10.543170Z",
     "shell.execute_reply": "2023-02-04T08:02:10.542568Z"
    }
   },
   "outputs": [
    {
     "name": "stdout",
     "output_type": "stream",
     "text": [
      "1006\n"
     ]
    }
   ],
   "source": [
    "print(len(product2) - len(term))"
   ]
  },
  {
   "cell_type": "markdown",
   "id": "fe7f819a",
   "metadata": {},
   "source": [
    "The cseguid checksum for the resulting plasmid is calculated for future reference.\n",
    "The [cseguid checksum](http://pydna.readthedocs.org/en/latest/pydna.html#pydna.utils.cseguid)\n",
    "uniquely identifies a circular double stranded sequence."
   ]
  },
  {
   "cell_type": "code",
   "execution_count": 24,
   "id": "81b5127c",
   "metadata": {
    "execution": {
     "iopub.execute_input": "2023-02-04T08:02:10.546490Z",
     "iopub.status.busy": "2023-02-04T08:02:10.546216Z",
     "iopub.status.idle": "2023-02-04T08:02:10.559042Z",
     "shell.execute_reply": "2023-02-04T08:02:10.558138Z"
    }
   },
   "outputs": [
    {
     "name": "stdout",
     "output_type": "stream",
     "text": [
      "QPD3pgUORlbvSUw-xQVoCtvx88I\n"
     ]
    }
   ],
   "source": [
    "print(result.cseguid())"
   ]
  },
  {
   "cell_type": "markdown",
   "id": "a7756dee",
   "metadata": {},
   "source": [
    "The file name is based on the promoter, gene and terminator designations."
   ]
  },
  {
   "cell_type": "code",
   "execution_count": 25,
   "id": "d5a21463",
   "metadata": {
    "execution": {
     "iopub.execute_input": "2023-02-04T08:02:10.561846Z",
     "iopub.status.busy": "2023-02-04T08:02:10.561604Z",
     "iopub.status.idle": "2023-02-04T08:02:10.564614Z",
     "shell.execute_reply": "2023-02-04T08:02:10.564070Z"
    }
   },
   "outputs": [],
   "source": [
    "result.locus = f\"tu:{gene.name}\"[:16]\n",
    "result.definition = \"pYPK0_PDC1_EcfabH_TEF1\""
   ]
  },
  {
   "cell_type": "markdown",
   "id": "7c2a6c14",
   "metadata": {},
   "source": [
    "Sequence is stamped with cseguid checksum. This can be used to verify the\n",
    "integrity of the sequence file."
   ]
  },
  {
   "cell_type": "code",
   "execution_count": 26,
   "id": "1901efe9",
   "metadata": {
    "execution": {
     "iopub.execute_input": "2023-02-04T08:02:10.567650Z",
     "iopub.status.busy": "2023-02-04T08:02:10.567257Z",
     "iopub.status.idle": "2023-02-04T08:02:10.579819Z",
     "shell.execute_reply": "2023-02-04T08:02:10.579309Z"
    }
   },
   "outputs": [
    {
     "data": {
      "text/plain": [
       "QPD3pgUORlbvSUw-xQVoCtvx88I"
      ]
     },
     "execution_count": 26,
     "metadata": {},
     "output_type": "execute_result"
    }
   ],
   "source": [
    "result.stamp(\"cSEGUID\")"
   ]
  },
  {
   "cell_type": "markdown",
   "id": "cc7ec52d",
   "metadata": {},
   "source": [
    "Write sequence to a local file."
   ]
  },
  {
   "cell_type": "code",
   "execution_count": 27,
   "id": "552a2a48",
   "metadata": {
    "execution": {
     "iopub.execute_input": "2023-02-04T08:02:10.582462Z",
     "iopub.status.busy": "2023-02-04T08:02:10.582188Z",
     "iopub.status.idle": "2023-02-04T08:02:10.589352Z",
     "shell.execute_reply": "2023-02-04T08:02:10.588689Z"
    }
   },
   "outputs": [
    {
     "data": {
      "text/html": [
       "<font face=monospace><a href='pYPK0_PDC1_EcfabH_TEF1.gb' target='_blank'>pYPK0_PDC1_EcfabH_TEF1.gb</a></font><br>"
      ]
     },
     "metadata": {},
     "output_type": "display_data"
    }
   ],
   "source": [
    "result.write(f\"{result.definition}.gb\")"
   ]
  },
  {
   "cell_type": "markdown",
   "id": "ca20b65c",
   "metadata": {
    "lines_to_next_cell": 0
   },
   "source": [
    "### Suggested PCR programs\n",
    "\n",
    "For the [amplification](#PCR) of promoter, gene and terminator."
   ]
  },
  {
   "cell_type": "code",
   "execution_count": 28,
   "id": "d2e33081",
   "metadata": {
    "execution": {
     "iopub.execute_input": "2023-02-04T08:02:10.592762Z",
     "iopub.status.busy": "2023-02-04T08:02:10.592493Z",
     "iopub.status.idle": "2023-02-04T08:02:10.597492Z",
     "shell.execute_reply": "2023-02-04T08:02:10.596791Z"
    }
   },
   "outputs": [
    {
     "name": "stdout",
     "output_type": "stream",
     "text": [
      "577_crp585-557 567_pCAPsAjiIF\n",
      "|95°C|95°C               |    |tmf:64.6\n",
      "|____|_____          72°C|72°C|tmr:69.7\n",
      "|3min|30s  \\ 57.2°C _____|____|45s/kb\n",
      "|    |      \\______/ 0:53|5min|GC 38%\n",
      "|    |       30s         |    |1187bp\n"
     ]
    }
   ],
   "source": [
    "print(prom.forward_primer.name, prom.reverse_primer.name)\n",
    "print(prom.program())"
   ]
  },
  {
   "cell_type": "code",
   "execution_count": 29,
   "id": "d9acbbb7",
   "metadata": {
    "execution": {
     "iopub.execute_input": "2023-02-04T08:02:10.601134Z",
     "iopub.status.busy": "2023-02-04T08:02:10.600642Z",
     "iopub.status.idle": "2023-02-04T08:02:10.606499Z",
     "shell.execute_reply": "2023-02-04T08:02:10.605570Z"
    }
   },
   "outputs": [
    {
     "name": "stdout",
     "output_type": "stream",
     "text": [
      "468_pCAPs_release_fw 467_pCAPs_release_re\n",
      "|95°C|95°C               |    |tmf:76.9\n",
      "|____|_____          72°C|72°C|tmr:67.9\n",
      "|3min|30s  \\ 62.6°C _____|____|45s/kb\n",
      "|    |      \\______/ 0:46|5min|GC 54%\n",
      "|    |       30s         |    |1043bp\n"
     ]
    }
   ],
   "source": [
    "print(gene.forward_primer.name, gene.reverse_primer.name)\n",
    "print(gene.program())"
   ]
  },
  {
   "cell_type": "code",
   "execution_count": 30,
   "id": "f0c9ca01",
   "metadata": {
    "execution": {
     "iopub.execute_input": "2023-02-04T08:02:10.609821Z",
     "iopub.status.busy": "2023-02-04T08:02:10.609545Z",
     "iopub.status.idle": "2023-02-04T08:02:10.615297Z",
     "shell.execute_reply": "2023-02-04T08:02:10.614329Z"
    }
   },
   "outputs": [
    {
     "name": "stdout",
     "output_type": "stream",
     "text": [
      "568_pCAPsAjiIR 578_crp42-70\n",
      "|95°C|95°C               |    |tmf:66.1\n",
      "|____|_____          72°C|72°C|tmr:65.0\n",
      "|3min|30s  \\ 57.1°C _____|____|45s/kb\n",
      "|    |      \\______/ 0:41|5min|GC 38%\n",
      "|    |       30s         |    |919bp\n"
     ]
    }
   ],
   "source": [
    "print(term.forward_primer.name, term.reverse_primer.name)\n",
    "print(term.program())"
   ]
  }
 ],
 "metadata": {
  "jupytext": {
   "main_language": "python",
   "text_representation": {
    "extension": ".py",
    "format_name": "percent",
    "format_version": "1.3",
    "jupytext_version": "1.14.0"
   }
  },
  "language_info": {
   "codemirror_mode": {
    "name": "ipython",
    "version": 3
   },
   "file_extension": ".py",
   "mimetype": "text/x-python",
   "name": "python",
   "nbconvert_exporter": "python",
   "pygments_lexer": "ipython3",
   "version": "3.11.0"
  }
 },
 "nbformat": 4,
 "nbformat_minor": 5
}
