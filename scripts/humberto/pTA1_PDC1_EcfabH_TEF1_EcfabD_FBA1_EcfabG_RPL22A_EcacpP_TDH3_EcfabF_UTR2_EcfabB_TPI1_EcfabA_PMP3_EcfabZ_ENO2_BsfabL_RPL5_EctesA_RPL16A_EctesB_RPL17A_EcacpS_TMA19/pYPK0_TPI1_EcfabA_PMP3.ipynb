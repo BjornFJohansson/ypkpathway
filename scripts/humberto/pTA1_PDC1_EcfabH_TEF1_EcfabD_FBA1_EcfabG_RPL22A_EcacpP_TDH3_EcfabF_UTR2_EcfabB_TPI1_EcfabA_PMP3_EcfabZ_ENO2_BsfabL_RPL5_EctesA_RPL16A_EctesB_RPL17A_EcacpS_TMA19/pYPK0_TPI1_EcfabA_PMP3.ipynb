{
 "cells": [
  {
   "cell_type": "markdown",
   "id": "13781a6d",
   "metadata": {},
   "source": [
    "# [![logo](logo.png)](https://github.com/BjornFJohansson/ypkpathway#-ypkpathway) pYPK0_TPI1_EcfabA_PMP3\n",
    "\n",
    "Assembly of a [_Saccharomyces cerevisiae_](http://www.yeastgenome.org) transcriptional unit vector.\n",
    "\n",
    "Made from a linear vector fragment and three PCR products:\n",
    "\n",
    "- a linearized pYPK0 vector for maintenance in _S. cerevisiae_ or _E. coli_ (red dashed line in figure below)\n",
    "- a promoter PCR product from the `pYPKa_Z_TPI1` vector\n",
    "- a gene PCR product from the `pYPKa_A_EcfabA` vector\n",
    "- a terminator PCR product from the `pYPKa_E_PMP3` vector\n",
    "\n",
    "The four linear DNA fragments are joined by _in-vivo_ homologous recombination in a\n",
    "[_Saccharomyces cerevisiae_](http://wiki.yeastgenome.org/index.php/Commonly_used_strains) strain.\n",
    "\n",
    "![tu](tu.png \"tu\")\n",
    "\n",
    "A part of the [pydna](https://pypi.python.org/pypi/pydna/) package is imported in the code cell below."
   ]
  },
  {
   "cell_type": "code",
   "execution_count": 1,
   "id": "cdc05ec7",
   "metadata": {
    "execution": {
     "iopub.execute_input": "2023-02-04T08:02:27.795956Z",
     "iopub.status.busy": "2023-02-04T08:02:27.795379Z",
     "iopub.status.idle": "2023-02-04T08:02:28.141838Z",
     "shell.execute_reply": "2023-02-04T08:02:28.141143Z"
    }
   },
   "outputs": [],
   "source": [
    "from pydna.parsers import parse_primers\n",
    "from pydna.readers import read\n",
    "from pydna.amplify import pcr\n",
    "from pydna.assembly import Assembly"
   ]
  },
  {
   "cell_type": "markdown",
   "id": "20dd9562",
   "metadata": {},
   "source": [
    "The Yeast Pathway Kit [standard primers](standard_primers.fasta) are read into a dictionary in the code cell below."
   ]
  },
  {
   "cell_type": "code",
   "execution_count": 2,
   "id": "cb341905",
   "metadata": {
    "execution": {
     "iopub.execute_input": "2023-02-04T08:02:28.145038Z",
     "iopub.status.busy": "2023-02-04T08:02:28.144715Z",
     "iopub.status.idle": "2023-02-04T08:02:28.161230Z",
     "shell.execute_reply": "2023-02-04T08:02:28.160144Z"
    }
   },
   "outputs": [],
   "source": [
    "p = {x.name: x for x in parse_primers(\"standard_primers.fasta\")}"
   ]
  },
  {
   "cell_type": "markdown",
   "id": "527b2dae",
   "metadata": {},
   "source": [
    "The backbone vector [pYPK0](pYPK0.gb) is read from a local file in the code cell below."
   ]
  },
  {
   "cell_type": "code",
   "execution_count": 3,
   "id": "5237f91f",
   "metadata": {
    "execution": {
     "iopub.execute_input": "2023-02-04T08:02:28.168171Z",
     "iopub.status.busy": "2023-02-04T08:02:28.167179Z",
     "iopub.status.idle": "2023-02-04T08:02:28.190422Z",
     "shell.execute_reply": "2023-02-04T08:02:28.187326Z"
    }
   },
   "outputs": [],
   "source": [
    "backbone = read(\"pYPK0.gb\")"
   ]
  },
  {
   "cell_type": "markdown",
   "id": "003d79f0",
   "metadata": {},
   "source": [
    "The backbone vector is linearized by digestion with [MfeI](https://www.google.com/search?q=MfeI)."
   ]
  },
  {
   "cell_type": "code",
   "execution_count": 4,
   "id": "e8080ee4",
   "metadata": {
    "execution": {
     "iopub.execute_input": "2023-02-04T08:02:28.199517Z",
     "iopub.status.busy": "2023-02-04T08:02:28.196805Z",
     "iopub.status.idle": "2023-02-04T08:02:28.208794Z",
     "shell.execute_reply": "2023-02-04T08:02:28.207225Z"
    }
   },
   "outputs": [],
   "source": [
    "from Bio.Restriction import MfeI"
   ]
  },
  {
   "cell_type": "code",
   "execution_count": 5,
   "id": "9a914c0d",
   "metadata": {
    "execution": {
     "iopub.execute_input": "2023-02-04T08:02:28.217220Z",
     "iopub.status.busy": "2023-02-04T08:02:28.215750Z",
     "iopub.status.idle": "2023-02-04T08:02:28.234613Z",
     "shell.execute_reply": "2023-02-04T08:02:28.233133Z"
    }
   },
   "outputs": [],
   "source": [
    "linear_backbone = backbone.linearize(MfeI)"
   ]
  },
  {
   "cell_type": "markdown",
   "id": "8a50e8f9",
   "metadata": {},
   "source": [
    "The pYPKa derived _E. coli_ plasmids containing\n",
    "- [promoter](pYPKa_Z_TPI1.gb)\n",
    "- [gene](pYPKa_A_EcfabA.gb)\n",
    "- [terminator](pYPKa_E_PMP3.gb)\n",
    "\n",
    "are read into three variables below."
   ]
  },
  {
   "cell_type": "code",
   "execution_count": 6,
   "id": "472510d9",
   "metadata": {
    "execution": {
     "iopub.execute_input": "2023-02-04T08:02:28.250867Z",
     "iopub.status.busy": "2023-02-04T08:02:28.239245Z",
     "iopub.status.idle": "2023-02-04T08:02:28.280831Z",
     "shell.execute_reply": "2023-02-04T08:02:28.280179Z"
    }
   },
   "outputs": [],
   "source": [
    "promoter_template   = read(\"pYPKa_Z_TPI1.gb\")\n",
    "gene_template       = read(\"pYPKa_A_EcfabA.gb\")\n",
    "terminator_template = read(\"pYPKa_E_PMP3.gb\")"
   ]
  },
  {
   "cell_type": "markdown",
   "id": "6d7c837e",
   "metadata": {
    "lines_to_next_cell": 0
   },
   "source": [
    "### PCR\n",
    "Three DNA fragments are PCR amplified using [standard primers](standard_primers.fasta).\n",
    "\n",
    "[Suggested PCR programs](#Suggested-PCR-programs) can be found at the end of this document."
   ]
  },
  {
   "cell_type": "code",
   "execution_count": 7,
   "id": "91d7c843",
   "metadata": {
    "execution": {
     "iopub.execute_input": "2023-02-04T08:02:28.285420Z",
     "iopub.status.busy": "2023-02-04T08:02:28.285090Z",
     "iopub.status.idle": "2023-02-04T08:02:28.289797Z",
     "shell.execute_reply": "2023-02-04T08:02:28.288885Z"
    }
   },
   "outputs": [],
   "source": [
    "\n",
    "fp_prom = p['577_crp585-557']\n",
    "rp_prom = p['567_pCAPsAjiIF']\n",
    "fp_gene = p['468_pCAPs_release_fw']\n",
    "rp_gene = p['467_pCAPs_release_re']\n",
    "fp_term = p['568_pCAPsAjiIR']\n",
    "rp_term = p['578_crp42-70']"
   ]
  },
  {
   "cell_type": "code",
   "execution_count": 8,
   "id": "c45a35da",
   "metadata": {
    "execution": {
     "iopub.execute_input": "2023-02-04T08:02:28.293747Z",
     "iopub.status.busy": "2023-02-04T08:02:28.293039Z",
     "iopub.status.idle": "2023-02-04T08:02:28.326449Z",
     "shell.execute_reply": "2023-02-04T08:02:28.325893Z"
    }
   },
   "outputs": [],
   "source": [
    "prom = pcr(fp_prom, rp_prom, promoter_template)\n",
    "gene = pcr(fp_gene, rp_gene, gene_template)\n",
    "term = pcr(fp_term, rp_term, terminator_template)"
   ]
  },
  {
   "cell_type": "code",
   "execution_count": 9,
   "id": "a6e43087",
   "metadata": {
    "execution": {
     "iopub.execute_input": "2023-02-04T08:02:28.329516Z",
     "iopub.status.busy": "2023-02-04T08:02:28.329302Z",
     "iopub.status.idle": "2023-02-04T08:02:28.332534Z",
     "shell.execute_reply": "2023-02-04T08:02:28.332029Z"
    }
   },
   "outputs": [],
   "source": [
    "prom.name = \"pYPKa_Z_TPI1\"[8:]\n",
    "gene.name = \"pYPKa_A_EcfabA\"[8:]\n",
    "term.name = \"pYPKa_E_PMP3\"[8:]"
   ]
  },
  {
   "cell_type": "markdown",
   "id": "3bb26529",
   "metadata": {},
   "source": [
    "\n",
    "The fragments will be assembled by _in-vivo_ [homologous recombination](http://www.ncbi.nlm.nih.gov/pubmed/2828185):"
   ]
  },
  {
   "cell_type": "code",
   "execution_count": 10,
   "id": "66e175e7",
   "metadata": {
    "execution": {
     "iopub.execute_input": "2023-02-04T08:02:28.338515Z",
     "iopub.status.busy": "2023-02-04T08:02:28.337999Z",
     "iopub.status.idle": "2023-02-04T08:02:28.770054Z",
     "shell.execute_reply": "2023-02-04T08:02:28.769416Z"
    }
   },
   "outputs": [
    {
     "data": {
      "text/plain": [
       "Assembly\n",
       "fragments..: 5766bp 814bp 608bp 1096bp\n",
       "limit(bp)..: 31\n",
       "G.nodes....: 10\n",
       "algorithm..: common_sub_strings"
      ]
     },
     "execution_count": 10,
     "metadata": {},
     "output_type": "execute_result"
    }
   ],
   "source": [
    "asm = Assembly((linear_backbone, prom, gene, term), limit=31)\n",
    "asm"
   ]
  },
  {
   "cell_type": "markdown",
   "id": "0e54fa46",
   "metadata": {},
   "source": [
    "The Assembly object above should normally indicate four fragments and eight nodes."
   ]
  },
  {
   "cell_type": "code",
   "execution_count": 11,
   "id": "84c629f0",
   "metadata": {
    "execution": {
     "iopub.execute_input": "2023-02-04T08:02:28.773163Z",
     "iopub.status.busy": "2023-02-04T08:02:28.772773Z",
     "iopub.status.idle": "2023-02-04T08:02:29.015731Z",
     "shell.execute_reply": "2023-02-04T08:02:29.015047Z"
    },
    "lines_to_next_cell": 0
   },
   "outputs": [
    {
     "data": {
      "text/plain": [
       "[Contig(o7649), Contig(o7649), Contig(o7649), Contig(o7053), Contig(o7053)]"
      ]
     },
     "execution_count": 11,
     "metadata": {},
     "output_type": "execute_result"
    }
   ],
   "source": [
    "candidates = asm.assemble_circular()\n",
    "candidates"
   ]
  },
  {
   "cell_type": "markdown",
   "id": "119f5517",
   "metadata": {},
   "source": [
    "There should normally be two candidates of equal size. These sequences should be identical."
   ]
  },
  {
   "cell_type": "code",
   "execution_count": 12,
   "id": "25c56cb1",
   "metadata": {
    "execution": {
     "iopub.execute_input": "2023-02-04T08:02:29.018719Z",
     "iopub.status.busy": "2023-02-04T08:02:29.018507Z",
     "iopub.status.idle": "2023-02-04T08:02:29.021528Z",
     "shell.execute_reply": "2023-02-04T08:02:29.020961Z"
    },
    "lines_to_next_cell": 0
   },
   "outputs": [],
   "source": [
    "candidate, *rest = candidates"
   ]
  },
  {
   "cell_type": "code",
   "execution_count": 13,
   "id": "997a73ea",
   "metadata": {
    "execution": {
     "iopub.execute_input": "2023-02-04T08:02:29.025128Z",
     "iopub.status.busy": "2023-02-04T08:02:29.024624Z",
     "iopub.status.idle": "2023-02-04T08:02:29.042426Z",
     "shell.execute_reply": "2023-02-04T08:02:29.041880Z"
    },
    "lines_to_next_cell": 0
   },
   "outputs": [
    {
     "data": {
      "text/plain": [
       "True"
      ]
     },
     "execution_count": 13,
     "metadata": {},
     "output_type": "execute_result"
    }
   ],
   "source": [
    "candidate.cseguid() == rest[0].cseguid()"
   ]
  },
  {
   "cell_type": "code",
   "execution_count": 14,
   "id": "b9b44bfe",
   "metadata": {
    "execution": {
     "iopub.execute_input": "2023-02-04T08:02:29.044945Z",
     "iopub.status.busy": "2023-02-04T08:02:29.044554Z",
     "iopub.status.idle": "2023-02-04T08:02:29.049777Z",
     "shell.execute_reply": "2023-02-04T08:02:29.048871Z"
    },
    "lines_to_next_cell": 0
   },
   "outputs": [
    {
     "data": {
      "text/plain": [
       " -|pYPK0_lin|168\n",
       "|            \\/\n",
       "|            /\\\n",
       "|            168|TPI1|48\n",
       "|                     \\/\n",
       "|                     /\\\n",
       "|                     48|EcfabA|37\n",
       "|                               \\/\n",
       "|                               /\\\n",
       "|                               37|PMP3|276\n",
       "|                                       \\/\n",
       "|                                       /\\\n",
       "|                                       276-\n",
       "|                                          |\n",
       " ------------------------------------------"
      ]
     },
     "execution_count": 14,
     "metadata": {},
     "output_type": "execute_result"
    }
   ],
   "source": [
    "candidate.figure()"
   ]
  },
  {
   "cell_type": "markdown",
   "id": "166827ff",
   "metadata": {},
   "source": [
    "The candidate vector is synchronized to the 577 primer. This means that\n",
    "the plasmid origin is shifted so that it matches the backbone vector."
   ]
  },
  {
   "cell_type": "code",
   "execution_count": 15,
   "id": "3002daee",
   "metadata": {
    "execution": {
     "iopub.execute_input": "2023-02-04T08:02:29.054081Z",
     "iopub.status.busy": "2023-02-04T08:02:29.053553Z",
     "iopub.status.idle": "2023-02-04T08:02:29.358692Z",
     "shell.execute_reply": "2023-02-04T08:02:29.357896Z"
    }
   },
   "outputs": [],
   "source": [
    "result = candidate.synced(fp_prom)"
   ]
  },
  {
   "cell_type": "markdown",
   "id": "c3deef61",
   "metadata": {},
   "source": [
    "### Diagnostic PCR confirmation\n",
    "\n",
    "The structure of the final vector is confirmed by two\n",
    "separate PCR reactions, one for the promoter and gene and\n",
    "one for the gene and terminator.\n",
    "\n",
    "PCR using standard primers 577 and 467 to amplify promoter and gene."
   ]
  },
  {
   "cell_type": "code",
   "execution_count": 16,
   "id": "68b87d3b",
   "metadata": {
    "execution": {
     "iopub.execute_input": "2023-02-04T08:02:29.361715Z",
     "iopub.status.busy": "2023-02-04T08:02:29.361271Z",
     "iopub.status.idle": "2023-02-04T08:02:29.380015Z",
     "shell.execute_reply": "2023-02-04T08:02:29.379367Z"
    }
   },
   "outputs": [],
   "source": [
    "product = pcr( fp_prom, rp_gene, result)"
   ]
  },
  {
   "cell_type": "markdown",
   "id": "daf231b9",
   "metadata": {},
   "source": [
    "A correct clone should give this size in base pairs:"
   ]
  },
  {
   "cell_type": "code",
   "execution_count": 17,
   "id": "472376ed",
   "metadata": {
    "execution": {
     "iopub.execute_input": "2023-02-04T08:02:29.383151Z",
     "iopub.status.busy": "2023-02-04T08:02:29.382744Z",
     "iopub.status.idle": "2023-02-04T08:02:29.386836Z",
     "shell.execute_reply": "2023-02-04T08:02:29.386172Z"
    }
   },
   "outputs": [
    {
     "name": "stdout",
     "output_type": "stream",
     "text": [
      "1372\n"
     ]
    }
   ],
   "source": [
    "print(len(product))"
   ]
  },
  {
   "cell_type": "markdown",
   "id": "831cd500",
   "metadata": {},
   "source": [
    "If the promoter is missing from the assembly, the PCR product will have this size in base pairs:"
   ]
  },
  {
   "cell_type": "code",
   "execution_count": 18,
   "id": "10ab9fbb",
   "metadata": {
    "execution": {
     "iopub.execute_input": "2023-02-04T08:02:29.391549Z",
     "iopub.status.busy": "2023-02-04T08:02:29.391153Z",
     "iopub.status.idle": "2023-02-04T08:02:29.397418Z",
     "shell.execute_reply": "2023-02-04T08:02:29.396596Z"
    }
   },
   "outputs": [
    {
     "name": "stdout",
     "output_type": "stream",
     "text": [
      "558\n"
     ]
    }
   ],
   "source": [
    "print(len(product) - len(prom))"
   ]
  },
  {
   "cell_type": "markdown",
   "id": "332d7fac",
   "metadata": {},
   "source": [
    "If the gene is missing from the assembly, the PCR product will have this size in base pairs:"
   ]
  },
  {
   "cell_type": "code",
   "execution_count": 19,
   "id": "7c0a7273",
   "metadata": {
    "execution": {
     "iopub.execute_input": "2023-02-04T08:02:29.401449Z",
     "iopub.status.busy": "2023-02-04T08:02:29.401003Z",
     "iopub.status.idle": "2023-02-04T08:02:29.405932Z",
     "shell.execute_reply": "2023-02-04T08:02:29.405051Z"
    }
   },
   "outputs": [
    {
     "name": "stdout",
     "output_type": "stream",
     "text": [
      "764\n"
     ]
    }
   ],
   "source": [
    "print(len(product) - len(gene))"
   ]
  },
  {
   "cell_type": "markdown",
   "id": "ad641788",
   "metadata": {},
   "source": [
    "PCR using standard primers 468 and 578 to amplify gene and terminator."
   ]
  },
  {
   "cell_type": "code",
   "execution_count": 20,
   "id": "1cdd3f45",
   "metadata": {
    "execution": {
     "iopub.execute_input": "2023-02-04T08:02:29.409377Z",
     "iopub.status.busy": "2023-02-04T08:02:29.409073Z",
     "iopub.status.idle": "2023-02-04T08:02:29.432688Z",
     "shell.execute_reply": "2023-02-04T08:02:29.432082Z"
    }
   },
   "outputs": [],
   "source": [
    "product2 = pcr( fp_gene, rp_term, result)"
   ]
  },
  {
   "cell_type": "markdown",
   "id": "259ba6fb",
   "metadata": {},
   "source": [
    "A correct clone should give this size:"
   ]
  },
  {
   "cell_type": "code",
   "execution_count": 21,
   "id": "34812a58",
   "metadata": {
    "execution": {
     "iopub.execute_input": "2023-02-04T08:02:29.435932Z",
     "iopub.status.busy": "2023-02-04T08:02:29.435690Z",
     "iopub.status.idle": "2023-02-04T08:02:29.439406Z",
     "shell.execute_reply": "2023-02-04T08:02:29.438790Z"
    }
   },
   "outputs": [
    {
     "name": "stdout",
     "output_type": "stream",
     "text": [
      "1667\n"
     ]
    }
   ],
   "source": [
    "print(len(product2))"
   ]
  },
  {
   "cell_type": "markdown",
   "id": "69c425ac",
   "metadata": {},
   "source": [
    "If the gene is missing from the assembly, the PCR product will have this size in base pairs:"
   ]
  },
  {
   "cell_type": "code",
   "execution_count": 22,
   "id": "b72266de",
   "metadata": {
    "execution": {
     "iopub.execute_input": "2023-02-04T08:02:29.444027Z",
     "iopub.status.busy": "2023-02-04T08:02:29.443223Z",
     "iopub.status.idle": "2023-02-04T08:02:29.448240Z",
     "shell.execute_reply": "2023-02-04T08:02:29.447414Z"
    }
   },
   "outputs": [
    {
     "name": "stdout",
     "output_type": "stream",
     "text": [
      "1059\n"
     ]
    }
   ],
   "source": [
    "print(len(product2) - len(gene))"
   ]
  },
  {
   "cell_type": "markdown",
   "id": "c73725c9",
   "metadata": {},
   "source": [
    "If the terminator is missing from the assembly, the PCR product will have this size in base pairs:"
   ]
  },
  {
   "cell_type": "code",
   "execution_count": 23,
   "id": "de009c9b",
   "metadata": {
    "execution": {
     "iopub.execute_input": "2023-02-04T08:02:29.452252Z",
     "iopub.status.busy": "2023-02-04T08:02:29.451424Z",
     "iopub.status.idle": "2023-02-04T08:02:29.455865Z",
     "shell.execute_reply": "2023-02-04T08:02:29.455096Z"
    }
   },
   "outputs": [
    {
     "name": "stdout",
     "output_type": "stream",
     "text": [
      "571\n"
     ]
    }
   ],
   "source": [
    "print(len(product2) - len(term))"
   ]
  },
  {
   "cell_type": "markdown",
   "id": "db3f1b88",
   "metadata": {},
   "source": [
    "The cseguid checksum for the resulting plasmid is calculated for future reference.\n",
    "The [cseguid checksum](http://pydna.readthedocs.org/en/latest/pydna.html#pydna.utils.cseguid)\n",
    "uniquely identifies a circular double stranded sequence."
   ]
  },
  {
   "cell_type": "code",
   "execution_count": 24,
   "id": "4bba5d64",
   "metadata": {
    "execution": {
     "iopub.execute_input": "2023-02-04T08:02:29.460453Z",
     "iopub.status.busy": "2023-02-04T08:02:29.459706Z",
     "iopub.status.idle": "2023-02-04T08:02:29.471599Z",
     "shell.execute_reply": "2023-02-04T08:02:29.470700Z"
    }
   },
   "outputs": [
    {
     "name": "stdout",
     "output_type": "stream",
     "text": [
      "b69UJ57c-OMvguc2CZReyYqmq4E\n"
     ]
    }
   ],
   "source": [
    "print(result.cseguid())"
   ]
  },
  {
   "cell_type": "markdown",
   "id": "8a1a166e",
   "metadata": {},
   "source": [
    "The file name is based on the promoter, gene and terminator designations."
   ]
  },
  {
   "cell_type": "code",
   "execution_count": 25,
   "id": "c93f0dd2",
   "metadata": {
    "execution": {
     "iopub.execute_input": "2023-02-04T08:02:29.475018Z",
     "iopub.status.busy": "2023-02-04T08:02:29.474606Z",
     "iopub.status.idle": "2023-02-04T08:02:29.479350Z",
     "shell.execute_reply": "2023-02-04T08:02:29.478380Z"
    }
   },
   "outputs": [],
   "source": [
    "result.locus = f\"tu:{gene.name}\"[:16]\n",
    "result.definition = \"pYPK0_TPI1_EcfabA_PMP3\""
   ]
  },
  {
   "cell_type": "markdown",
   "id": "a76e2233",
   "metadata": {},
   "source": [
    "Sequence is stamped with cseguid checksum. This can be used to verify the\n",
    "integrity of the sequence file."
   ]
  },
  {
   "cell_type": "code",
   "execution_count": 26,
   "id": "1f37daa0",
   "metadata": {
    "execution": {
     "iopub.execute_input": "2023-02-04T08:02:29.484718Z",
     "iopub.status.busy": "2023-02-04T08:02:29.484346Z",
     "iopub.status.idle": "2023-02-04T08:02:29.496280Z",
     "shell.execute_reply": "2023-02-04T08:02:29.495423Z"
    }
   },
   "outputs": [
    {
     "data": {
      "text/plain": [
       "b69UJ57c-OMvguc2CZReyYqmq4E"
      ]
     },
     "execution_count": 26,
     "metadata": {},
     "output_type": "execute_result"
    }
   ],
   "source": [
    "result.stamp(\"cSEGUID\")"
   ]
  },
  {
   "cell_type": "markdown",
   "id": "b53eeabb",
   "metadata": {},
   "source": [
    "Write sequence to a local file."
   ]
  },
  {
   "cell_type": "code",
   "execution_count": 27,
   "id": "0582d628",
   "metadata": {
    "execution": {
     "iopub.execute_input": "2023-02-04T08:02:29.499456Z",
     "iopub.status.busy": "2023-02-04T08:02:29.498713Z",
     "iopub.status.idle": "2023-02-04T08:02:29.506207Z",
     "shell.execute_reply": "2023-02-04T08:02:29.505470Z"
    }
   },
   "outputs": [
    {
     "data": {
      "text/html": [
       "<font face=monospace><a href='pYPK0_TPI1_EcfabA_PMP3.gb' target='_blank'>pYPK0_TPI1_EcfabA_PMP3.gb</a></font><br>"
      ]
     },
     "metadata": {},
     "output_type": "display_data"
    }
   ],
   "source": [
    "result.write(f\"{result.definition}.gb\")"
   ]
  },
  {
   "cell_type": "markdown",
   "id": "8482fa0f",
   "metadata": {
    "lines_to_next_cell": 0
   },
   "source": [
    "### Suggested PCR programs\n",
    "\n",
    "For the [amplification](#PCR) of promoter, gene and terminator."
   ]
  },
  {
   "cell_type": "code",
   "execution_count": 28,
   "id": "da14f091",
   "metadata": {
    "execution": {
     "iopub.execute_input": "2023-02-04T08:02:29.509762Z",
     "iopub.status.busy": "2023-02-04T08:02:29.509422Z",
     "iopub.status.idle": "2023-02-04T08:02:29.515306Z",
     "shell.execute_reply": "2023-02-04T08:02:29.514382Z"
    }
   },
   "outputs": [
    {
     "name": "stdout",
     "output_type": "stream",
     "text": [
      "577_crp585-557 567_pCAPsAjiIF\n",
      "|95°C|95°C               |    |tmf:64.6\n",
      "|____|_____          72°C|72°C|tmr:69.7\n",
      "|3min|30s  \\ 57.2°C _____|____|45s/kb\n",
      "|    |      \\______/ 0:36|5min|GC 39%\n",
      "|    |       30s         |    |814bp\n"
     ]
    }
   ],
   "source": [
    "print(prom.forward_primer.name, prom.reverse_primer.name)\n",
    "print(prom.program())"
   ]
  },
  {
   "cell_type": "code",
   "execution_count": 29,
   "id": "d448de5b",
   "metadata": {
    "execution": {
     "iopub.execute_input": "2023-02-04T08:02:29.519386Z",
     "iopub.status.busy": "2023-02-04T08:02:29.518992Z",
     "iopub.status.idle": "2023-02-04T08:02:29.524868Z",
     "shell.execute_reply": "2023-02-04T08:02:29.523979Z"
    }
   },
   "outputs": [
    {
     "name": "stdout",
     "output_type": "stream",
     "text": [
      "468_pCAPs_release_fw 467_pCAPs_release_re\n",
      "|95°C|95°C               |    |tmf:76.9\n",
      "|____|_____          72°C|72°C|tmr:67.9\n",
      "|3min|30s  \\ 61.8°C _____|____|45s/kb\n",
      "|    |      \\______/ 0:30|5min|GC 53%\n",
      "|    |       30s         |    |608bp\n"
     ]
    }
   ],
   "source": [
    "print(gene.forward_primer.name, gene.reverse_primer.name)\n",
    "print(gene.program())"
   ]
  },
  {
   "cell_type": "code",
   "execution_count": 30,
   "id": "2ebc3d8f",
   "metadata": {
    "execution": {
     "iopub.execute_input": "2023-02-04T08:02:29.527866Z",
     "iopub.status.busy": "2023-02-04T08:02:29.527649Z",
     "iopub.status.idle": "2023-02-04T08:02:29.531331Z",
     "shell.execute_reply": "2023-02-04T08:02:29.530798Z"
    }
   },
   "outputs": [
    {
     "name": "stdout",
     "output_type": "stream",
     "text": [
      "568_pCAPsAjiIR 578_crp42-70\n",
      "|95°C|95°C               |    |tmf:66.1\n",
      "|____|_____          72°C|72°C|tmr:65.0\n",
      "|3min|30s  \\ 58.6°C _____|____|45s/kb\n",
      "|    |      \\______/ 0:49|5min|GC 43%\n",
      "|    |       30s         |    |1096bp\n"
     ]
    }
   ],
   "source": [
    "print(term.forward_primer.name, term.reverse_primer.name)\n",
    "print(term.program())"
   ]
  }
 ],
 "metadata": {
  "jupytext": {
   "main_language": "python",
   "text_representation": {
    "extension": ".py",
    "format_name": "percent",
    "format_version": "1.3",
    "jupytext_version": "1.14.0"
   }
  },
  "language_info": {
   "codemirror_mode": {
    "name": "ipython",
    "version": 3
   },
   "file_extension": ".py",
   "mimetype": "text/x-python",
   "name": "python",
   "nbconvert_exporter": "python",
   "pygments_lexer": "ipython3",
   "version": "3.11.0"
  }
 },
 "nbformat": 4,
 "nbformat_minor": 5
}
