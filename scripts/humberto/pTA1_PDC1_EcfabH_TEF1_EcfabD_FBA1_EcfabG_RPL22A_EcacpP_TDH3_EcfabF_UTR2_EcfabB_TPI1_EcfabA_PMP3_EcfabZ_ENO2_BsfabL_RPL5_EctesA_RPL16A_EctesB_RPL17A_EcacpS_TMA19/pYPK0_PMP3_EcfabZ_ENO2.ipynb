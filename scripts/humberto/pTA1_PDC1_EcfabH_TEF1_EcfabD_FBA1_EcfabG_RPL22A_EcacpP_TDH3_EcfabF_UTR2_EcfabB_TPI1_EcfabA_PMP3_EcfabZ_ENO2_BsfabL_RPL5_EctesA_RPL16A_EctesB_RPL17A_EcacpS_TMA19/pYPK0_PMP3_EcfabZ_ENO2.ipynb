{
 "cells": [
  {
   "cell_type": "markdown",
   "id": "48f1875b",
   "metadata": {},
   "source": [
    "# [![logo](logo.png)](https://github.com/BjornFJohansson/ypkpathway#-ypkpathway) pYPK0_PMP3_EcfabZ_ENO2\n",
    "\n",
    "Assembly of a [_Saccharomyces cerevisiae_](http://www.yeastgenome.org) transcriptional unit vector.\n",
    "\n",
    "Made from a linear vector fragment and three PCR products:\n",
    "\n",
    "- a linearized pYPK0 vector for maintenance in _S. cerevisiae_ or _E. coli_ (red dashed line in figure below)\n",
    "- a promoter PCR product from the `pYPKa_Z_PMP3` vector\n",
    "- a gene PCR product from the `pYPKa_A_EcfabZ` vector\n",
    "- a terminator PCR product from the `pYPKa_E_ENO2` vector\n",
    "\n",
    "The four linear DNA fragments are joined by _in-vivo_ homologous recombination in a\n",
    "[_Saccharomyces cerevisiae_](http://wiki.yeastgenome.org/index.php/Commonly_used_strains) strain.\n",
    "\n",
    "![tu](tu.png \"tu\")\n",
    "\n",
    "A part of the [pydna](https://pypi.python.org/pypi/pydna/) package is imported in the code cell below."
   ]
  },
  {
   "cell_type": "code",
   "execution_count": 1,
   "id": "ad6fa54b",
   "metadata": {
    "execution": {
     "iopub.execute_input": "2023-02-04T08:02:31.026519Z",
     "iopub.status.busy": "2023-02-04T08:02:31.026035Z",
     "iopub.status.idle": "2023-02-04T08:02:31.379310Z",
     "shell.execute_reply": "2023-02-04T08:02:31.378585Z"
    }
   },
   "outputs": [],
   "source": [
    "from pydna.parsers import parse_primers\n",
    "from pydna.readers import read\n",
    "from pydna.amplify import pcr\n",
    "from pydna.assembly import Assembly"
   ]
  },
  {
   "cell_type": "markdown",
   "id": "47bab01d",
   "metadata": {},
   "source": [
    "The Yeast Pathway Kit [standard primers](standard_primers.fasta) are read into a dictionary in the code cell below."
   ]
  },
  {
   "cell_type": "code",
   "execution_count": 2,
   "id": "4fb84c05",
   "metadata": {
    "execution": {
     "iopub.execute_input": "2023-02-04T08:02:31.382587Z",
     "iopub.status.busy": "2023-02-04T08:02:31.382117Z",
     "iopub.status.idle": "2023-02-04T08:02:31.395504Z",
     "shell.execute_reply": "2023-02-04T08:02:31.394816Z"
    }
   },
   "outputs": [],
   "source": [
    "p = {x.name: x for x in parse_primers(\"standard_primers.fasta\")}"
   ]
  },
  {
   "cell_type": "markdown",
   "id": "191812ac",
   "metadata": {},
   "source": [
    "The backbone vector [pYPK0](pYPK0.gb) is read from a local file in the code cell below."
   ]
  },
  {
   "cell_type": "code",
   "execution_count": 3,
   "id": "4691525a",
   "metadata": {
    "execution": {
     "iopub.execute_input": "2023-02-04T08:02:31.398598Z",
     "iopub.status.busy": "2023-02-04T08:02:31.398194Z",
     "iopub.status.idle": "2023-02-04T08:02:31.410045Z",
     "shell.execute_reply": "2023-02-04T08:02:31.409350Z"
    }
   },
   "outputs": [],
   "source": [
    "backbone = read(\"pYPK0.gb\")"
   ]
  },
  {
   "cell_type": "markdown",
   "id": "d6c3f9f8",
   "metadata": {},
   "source": [
    "The backbone vector is linearized by digestion with [MfeI](https://www.google.com/search?q=MfeI)."
   ]
  },
  {
   "cell_type": "code",
   "execution_count": 4,
   "id": "292fef49",
   "metadata": {
    "execution": {
     "iopub.execute_input": "2023-02-04T08:02:31.412992Z",
     "iopub.status.busy": "2023-02-04T08:02:31.412765Z",
     "iopub.status.idle": "2023-02-04T08:02:31.416067Z",
     "shell.execute_reply": "2023-02-04T08:02:31.415523Z"
    }
   },
   "outputs": [],
   "source": [
    "from Bio.Restriction import MfeI"
   ]
  },
  {
   "cell_type": "code",
   "execution_count": 5,
   "id": "e470c8b0",
   "metadata": {
    "execution": {
     "iopub.execute_input": "2023-02-04T08:02:31.419771Z",
     "iopub.status.busy": "2023-02-04T08:02:31.419365Z",
     "iopub.status.idle": "2023-02-04T08:02:31.428735Z",
     "shell.execute_reply": "2023-02-04T08:02:31.428183Z"
    }
   },
   "outputs": [],
   "source": [
    "linear_backbone = backbone.linearize(MfeI)"
   ]
  },
  {
   "cell_type": "markdown",
   "id": "c18ad808",
   "metadata": {},
   "source": [
    "The pYPKa derived _E. coli_ plasmids containing\n",
    "- [promoter](pYPKa_Z_PMP3.gb)\n",
    "- [gene](pYPKa_A_EcfabZ.gb)\n",
    "- [terminator](pYPKa_E_ENO2.gb)\n",
    "\n",
    "are read into three variables below."
   ]
  },
  {
   "cell_type": "code",
   "execution_count": 6,
   "id": "b4055b7f",
   "metadata": {
    "execution": {
     "iopub.execute_input": "2023-02-04T08:02:31.431289Z",
     "iopub.status.busy": "2023-02-04T08:02:31.431050Z",
     "iopub.status.idle": "2023-02-04T08:02:31.451310Z",
     "shell.execute_reply": "2023-02-04T08:02:31.450532Z"
    }
   },
   "outputs": [],
   "source": [
    "promoter_template   = read(\"pYPKa_Z_PMP3.gb\")\n",
    "gene_template       = read(\"pYPKa_A_EcfabZ.gb\")\n",
    "terminator_template = read(\"pYPKa_E_ENO2.gb\")"
   ]
  },
  {
   "cell_type": "markdown",
   "id": "4d34e306",
   "metadata": {
    "lines_to_next_cell": 0
   },
   "source": [
    "### PCR\n",
    "Three DNA fragments are PCR amplified using [standard primers](standard_primers.fasta).\n",
    "\n",
    "[Suggested PCR programs](#Suggested-PCR-programs) can be found at the end of this document."
   ]
  },
  {
   "cell_type": "code",
   "execution_count": 7,
   "id": "c14740b5",
   "metadata": {
    "execution": {
     "iopub.execute_input": "2023-02-04T08:02:31.454418Z",
     "iopub.status.busy": "2023-02-04T08:02:31.454012Z",
     "iopub.status.idle": "2023-02-04T08:02:31.457913Z",
     "shell.execute_reply": "2023-02-04T08:02:31.457100Z"
    }
   },
   "outputs": [],
   "source": [
    "\n",
    "fp_prom = p['577_crp585-557']\n",
    "rp_prom = p['567_pCAPsAjiIF']\n",
    "fp_gene = p['468_pCAPs_release_fw']\n",
    "rp_gene = p['467_pCAPs_release_re']\n",
    "fp_term = p['568_pCAPsAjiIR']\n",
    "rp_term = p['578_crp42-70']"
   ]
  },
  {
   "cell_type": "code",
   "execution_count": 8,
   "id": "f9f7205e",
   "metadata": {
    "execution": {
     "iopub.execute_input": "2023-02-04T08:02:31.461720Z",
     "iopub.status.busy": "2023-02-04T08:02:31.461401Z",
     "iopub.status.idle": "2023-02-04T08:02:31.490922Z",
     "shell.execute_reply": "2023-02-04T08:02:31.490274Z"
    }
   },
   "outputs": [],
   "source": [
    "prom = pcr(fp_prom, rp_prom, promoter_template)\n",
    "gene = pcr(fp_gene, rp_gene, gene_template)\n",
    "term = pcr(fp_term, rp_term, terminator_template)"
   ]
  },
  {
   "cell_type": "code",
   "execution_count": 9,
   "id": "a0e0b1dd",
   "metadata": {
    "execution": {
     "iopub.execute_input": "2023-02-04T08:02:31.493793Z",
     "iopub.status.busy": "2023-02-04T08:02:31.493358Z",
     "iopub.status.idle": "2023-02-04T08:02:31.498216Z",
     "shell.execute_reply": "2023-02-04T08:02:31.497299Z"
    }
   },
   "outputs": [],
   "source": [
    "prom.name = \"pYPKa_Z_PMP3\"[8:]\n",
    "gene.name = \"pYPKa_A_EcfabZ\"[8:]\n",
    "term.name = \"pYPKa_E_ENO2\"[8:]"
   ]
  },
  {
   "cell_type": "markdown",
   "id": "eb82348c",
   "metadata": {},
   "source": [
    "\n",
    "The fragments will be assembled by _in-vivo_ [homologous recombination](http://www.ncbi.nlm.nih.gov/pubmed/2828185):"
   ]
  },
  {
   "cell_type": "code",
   "execution_count": 10,
   "id": "de4a6f98",
   "metadata": {
    "execution": {
     "iopub.execute_input": "2023-02-04T08:02:31.502732Z",
     "iopub.status.busy": "2023-02-04T08:02:31.502063Z",
     "iopub.status.idle": "2023-02-04T08:02:31.912378Z",
     "shell.execute_reply": "2023-02-04T08:02:31.911734Z"
    }
   },
   "outputs": [
    {
     "data": {
      "text/plain": [
       "Assembly\n",
       "fragments..: 5766bp 988bp 545bp 860bp\n",
       "limit(bp)..: 31\n",
       "G.nodes....: 10\n",
       "algorithm..: common_sub_strings"
      ]
     },
     "execution_count": 10,
     "metadata": {},
     "output_type": "execute_result"
    }
   ],
   "source": [
    "asm = Assembly((linear_backbone, prom, gene, term), limit=31)\n",
    "asm"
   ]
  },
  {
   "cell_type": "markdown",
   "id": "bb000d19",
   "metadata": {},
   "source": [
    "The Assembly object above should normally indicate four fragments and eight nodes."
   ]
  },
  {
   "cell_type": "code",
   "execution_count": 11,
   "id": "3d67015a",
   "metadata": {
    "execution": {
     "iopub.execute_input": "2023-02-04T08:02:31.914973Z",
     "iopub.status.busy": "2023-02-04T08:02:31.914737Z",
     "iopub.status.idle": "2023-02-04T08:02:32.229587Z",
     "shell.execute_reply": "2023-02-04T08:02:32.229039Z"
    },
    "lines_to_next_cell": 0
   },
   "outputs": [
    {
     "data": {
      "text/plain": [
       "[Contig(o7524), Contig(o7524), Contig(o7524), Contig(o6754), Contig(o6754)]"
      ]
     },
     "execution_count": 11,
     "metadata": {},
     "output_type": "execute_result"
    }
   ],
   "source": [
    "candidates = asm.assemble_circular()\n",
    "candidates"
   ]
  },
  {
   "cell_type": "markdown",
   "id": "45ab6eda",
   "metadata": {},
   "source": [
    "There should normally be two candidates of equal size. These sequences should be identical."
   ]
  },
  {
   "cell_type": "code",
   "execution_count": 12,
   "id": "bb16a150",
   "metadata": {
    "execution": {
     "iopub.execute_input": "2023-02-04T08:02:32.232492Z",
     "iopub.status.busy": "2023-02-04T08:02:32.232252Z",
     "iopub.status.idle": "2023-02-04T08:02:32.235265Z",
     "shell.execute_reply": "2023-02-04T08:02:32.234579Z"
    },
    "lines_to_next_cell": 0
   },
   "outputs": [],
   "source": [
    "candidate, *rest = candidates"
   ]
  },
  {
   "cell_type": "code",
   "execution_count": 13,
   "id": "7b7b9eff",
   "metadata": {
    "execution": {
     "iopub.execute_input": "2023-02-04T08:02:32.238394Z",
     "iopub.status.busy": "2023-02-04T08:02:32.238054Z",
     "iopub.status.idle": "2023-02-04T08:02:32.255223Z",
     "shell.execute_reply": "2023-02-04T08:02:32.254707Z"
    },
    "lines_to_next_cell": 0
   },
   "outputs": [
    {
     "data": {
      "text/plain": [
       "True"
      ]
     },
     "execution_count": 13,
     "metadata": {},
     "output_type": "execute_result"
    }
   ],
   "source": [
    "candidate.cseguid() == rest[0].cseguid()"
   ]
  },
  {
   "cell_type": "code",
   "execution_count": 14,
   "id": "33199d15",
   "metadata": {
    "execution": {
     "iopub.execute_input": "2023-02-04T08:02:32.257734Z",
     "iopub.status.busy": "2023-02-04T08:02:32.257528Z",
     "iopub.status.idle": "2023-02-04T08:02:32.261653Z",
     "shell.execute_reply": "2023-02-04T08:02:32.261129Z"
    },
    "lines_to_next_cell": 0
   },
   "outputs": [
    {
     "data": {
      "text/plain": [
       " -|pYPK0_lin|168\n",
       "|            \\/\n",
       "|            /\\\n",
       "|            168|PMP3|48\n",
       "|                     \\/\n",
       "|                     /\\\n",
       "|                     48|EcfabZ|37\n",
       "|                               \\/\n",
       "|                               /\\\n",
       "|                               37|ENO2|276\n",
       "|                                       \\/\n",
       "|                                       /\\\n",
       "|                                       276-\n",
       "|                                          |\n",
       " ------------------------------------------"
      ]
     },
     "execution_count": 14,
     "metadata": {},
     "output_type": "execute_result"
    }
   ],
   "source": [
    "candidate.figure()"
   ]
  },
  {
   "cell_type": "markdown",
   "id": "744c52c0",
   "metadata": {},
   "source": [
    "The candidate vector is synchronized to the 577 primer. This means that\n",
    "the plasmid origin is shifted so that it matches the backbone vector."
   ]
  },
  {
   "cell_type": "code",
   "execution_count": 15,
   "id": "21526e9b",
   "metadata": {
    "execution": {
     "iopub.execute_input": "2023-02-04T08:02:32.264611Z",
     "iopub.status.busy": "2023-02-04T08:02:32.264352Z",
     "iopub.status.idle": "2023-02-04T08:02:32.571715Z",
     "shell.execute_reply": "2023-02-04T08:02:32.571190Z"
    }
   },
   "outputs": [],
   "source": [
    "result = candidate.synced(fp_prom)"
   ]
  },
  {
   "cell_type": "markdown",
   "id": "e5c0e7f8",
   "metadata": {},
   "source": [
    "### Diagnostic PCR confirmation\n",
    "\n",
    "The structure of the final vector is confirmed by two\n",
    "separate PCR reactions, one for the promoter and gene and\n",
    "one for the gene and terminator.\n",
    "\n",
    "PCR using standard primers 577 and 467 to amplify promoter and gene."
   ]
  },
  {
   "cell_type": "code",
   "execution_count": 16,
   "id": "e6d39d88",
   "metadata": {
    "execution": {
     "iopub.execute_input": "2023-02-04T08:02:32.574717Z",
     "iopub.status.busy": "2023-02-04T08:02:32.574510Z",
     "iopub.status.idle": "2023-02-04T08:02:32.592016Z",
     "shell.execute_reply": "2023-02-04T08:02:32.591493Z"
    }
   },
   "outputs": [],
   "source": [
    "product = pcr( fp_prom, rp_gene, result)"
   ]
  },
  {
   "cell_type": "markdown",
   "id": "620a497d",
   "metadata": {},
   "source": [
    "A correct clone should give this size in base pairs:"
   ]
  },
  {
   "cell_type": "code",
   "execution_count": 17,
   "id": "dd46fd3a",
   "metadata": {
    "execution": {
     "iopub.execute_input": "2023-02-04T08:02:32.594498Z",
     "iopub.status.busy": "2023-02-04T08:02:32.594239Z",
     "iopub.status.idle": "2023-02-04T08:02:32.598105Z",
     "shell.execute_reply": "2023-02-04T08:02:32.597432Z"
    }
   },
   "outputs": [
    {
     "name": "stdout",
     "output_type": "stream",
     "text": [
      "1483\n"
     ]
    }
   ],
   "source": [
    "print(len(product))"
   ]
  },
  {
   "cell_type": "markdown",
   "id": "5955b12a",
   "metadata": {},
   "source": [
    "If the promoter is missing from the assembly, the PCR product will have this size in base pairs:"
   ]
  },
  {
   "cell_type": "code",
   "execution_count": 18,
   "id": "e8ca32b1",
   "metadata": {
    "execution": {
     "iopub.execute_input": "2023-02-04T08:02:32.601963Z",
     "iopub.status.busy": "2023-02-04T08:02:32.601489Z",
     "iopub.status.idle": "2023-02-04T08:02:32.605636Z",
     "shell.execute_reply": "2023-02-04T08:02:32.604850Z"
    }
   },
   "outputs": [
    {
     "name": "stdout",
     "output_type": "stream",
     "text": [
      "495\n"
     ]
    }
   ],
   "source": [
    "print(len(product) - len(prom))"
   ]
  },
  {
   "cell_type": "markdown",
   "id": "1d1cd6d6",
   "metadata": {},
   "source": [
    "If the gene is missing from the assembly, the PCR product will have this size in base pairs:"
   ]
  },
  {
   "cell_type": "code",
   "execution_count": 19,
   "id": "c6f53630",
   "metadata": {
    "execution": {
     "iopub.execute_input": "2023-02-04T08:02:32.609088Z",
     "iopub.status.busy": "2023-02-04T08:02:32.608792Z",
     "iopub.status.idle": "2023-02-04T08:02:32.612911Z",
     "shell.execute_reply": "2023-02-04T08:02:32.612180Z"
    }
   },
   "outputs": [
    {
     "name": "stdout",
     "output_type": "stream",
     "text": [
      "938\n"
     ]
    }
   ],
   "source": [
    "print(len(product) - len(gene))"
   ]
  },
  {
   "cell_type": "markdown",
   "id": "edbebbe6",
   "metadata": {},
   "source": [
    "PCR using standard primers 468 and 578 to amplify gene and terminator."
   ]
  },
  {
   "cell_type": "code",
   "execution_count": 20,
   "id": "9ee35f48",
   "metadata": {
    "execution": {
     "iopub.execute_input": "2023-02-04T08:02:32.616702Z",
     "iopub.status.busy": "2023-02-04T08:02:32.616133Z",
     "iopub.status.idle": "2023-02-04T08:02:32.639444Z",
     "shell.execute_reply": "2023-02-04T08:02:32.638775Z"
    }
   },
   "outputs": [],
   "source": [
    "product2 = pcr( fp_gene, rp_term, result)"
   ]
  },
  {
   "cell_type": "markdown",
   "id": "0fb37798",
   "metadata": {},
   "source": [
    "A correct clone should give this size:"
   ]
  },
  {
   "cell_type": "code",
   "execution_count": 21,
   "id": "b42e0f4d",
   "metadata": {
    "execution": {
     "iopub.execute_input": "2023-02-04T08:02:32.642642Z",
     "iopub.status.busy": "2023-02-04T08:02:32.642104Z",
     "iopub.status.idle": "2023-02-04T08:02:32.646381Z",
     "shell.execute_reply": "2023-02-04T08:02:32.645518Z"
    }
   },
   "outputs": [
    {
     "name": "stdout",
     "output_type": "stream",
     "text": [
      "1368\n"
     ]
    }
   ],
   "source": [
    "print(len(product2))"
   ]
  },
  {
   "cell_type": "markdown",
   "id": "8084d54e",
   "metadata": {},
   "source": [
    "If the gene is missing from the assembly, the PCR product will have this size in base pairs:"
   ]
  },
  {
   "cell_type": "code",
   "execution_count": 22,
   "id": "6b6e3029",
   "metadata": {
    "execution": {
     "iopub.execute_input": "2023-02-04T08:02:32.650437Z",
     "iopub.status.busy": "2023-02-04T08:02:32.649879Z",
     "iopub.status.idle": "2023-02-04T08:02:32.654572Z",
     "shell.execute_reply": "2023-02-04T08:02:32.653736Z"
    }
   },
   "outputs": [
    {
     "name": "stdout",
     "output_type": "stream",
     "text": [
      "823\n"
     ]
    }
   ],
   "source": [
    "print(len(product2) - len(gene))"
   ]
  },
  {
   "cell_type": "markdown",
   "id": "d2c72fa0",
   "metadata": {},
   "source": [
    "If the terminator is missing from the assembly, the PCR product will have this size in base pairs:"
   ]
  },
  {
   "cell_type": "code",
   "execution_count": 23,
   "id": "bb9dcbec",
   "metadata": {
    "execution": {
     "iopub.execute_input": "2023-02-04T08:02:32.657797Z",
     "iopub.status.busy": "2023-02-04T08:02:32.657507Z",
     "iopub.status.idle": "2023-02-04T08:02:32.661628Z",
     "shell.execute_reply": "2023-02-04T08:02:32.660832Z"
    }
   },
   "outputs": [
    {
     "name": "stdout",
     "output_type": "stream",
     "text": [
      "508\n"
     ]
    }
   ],
   "source": [
    "print(len(product2) - len(term))"
   ]
  },
  {
   "cell_type": "markdown",
   "id": "1d70a69a",
   "metadata": {},
   "source": [
    "The cseguid checksum for the resulting plasmid is calculated for future reference.\n",
    "The [cseguid checksum](http://pydna.readthedocs.org/en/latest/pydna.html#pydna.utils.cseguid)\n",
    "uniquely identifies a circular double stranded sequence."
   ]
  },
  {
   "cell_type": "code",
   "execution_count": 24,
   "id": "753bf6d7",
   "metadata": {
    "execution": {
     "iopub.execute_input": "2023-02-04T08:02:32.664897Z",
     "iopub.status.busy": "2023-02-04T08:02:32.664587Z",
     "iopub.status.idle": "2023-02-04T08:02:32.675394Z",
     "shell.execute_reply": "2023-02-04T08:02:32.674576Z"
    }
   },
   "outputs": [
    {
     "name": "stdout",
     "output_type": "stream",
     "text": [
      "35I_zpHOHAZSNcMST9YXGDaL7Ko\n"
     ]
    }
   ],
   "source": [
    "print(result.cseguid())"
   ]
  },
  {
   "cell_type": "markdown",
   "id": "0259e39b",
   "metadata": {},
   "source": [
    "The file name is based on the promoter, gene and terminator designations."
   ]
  },
  {
   "cell_type": "code",
   "execution_count": 25,
   "id": "64f1a9c8",
   "metadata": {
    "execution": {
     "iopub.execute_input": "2023-02-04T08:02:32.678625Z",
     "iopub.status.busy": "2023-02-04T08:02:32.678280Z",
     "iopub.status.idle": "2023-02-04T08:02:32.683239Z",
     "shell.execute_reply": "2023-02-04T08:02:32.682566Z"
    }
   },
   "outputs": [],
   "source": [
    "result.locus = f\"tu:{gene.name}\"[:16]\n",
    "result.definition = \"pYPK0_PMP3_EcfabZ_ENO2\""
   ]
  },
  {
   "cell_type": "markdown",
   "id": "e4effc32",
   "metadata": {},
   "source": [
    "Sequence is stamped with cseguid checksum. This can be used to verify the\n",
    "integrity of the sequence file."
   ]
  },
  {
   "cell_type": "code",
   "execution_count": 26,
   "id": "40c19a4b",
   "metadata": {
    "execution": {
     "iopub.execute_input": "2023-02-04T08:02:32.686608Z",
     "iopub.status.busy": "2023-02-04T08:02:32.686280Z",
     "iopub.status.idle": "2023-02-04T08:02:32.699765Z",
     "shell.execute_reply": "2023-02-04T08:02:32.699239Z"
    }
   },
   "outputs": [
    {
     "data": {
      "text/plain": [
       "35I_zpHOHAZSNcMST9YXGDaL7Ko"
      ]
     },
     "execution_count": 26,
     "metadata": {},
     "output_type": "execute_result"
    }
   ],
   "source": [
    "result.stamp(\"cSEGUID\")"
   ]
  },
  {
   "cell_type": "markdown",
   "id": "29c95fef",
   "metadata": {},
   "source": [
    "Write sequence to a local file."
   ]
  },
  {
   "cell_type": "code",
   "execution_count": 27,
   "id": "594a3eee",
   "metadata": {
    "execution": {
     "iopub.execute_input": "2023-02-04T08:02:32.702555Z",
     "iopub.status.busy": "2023-02-04T08:02:32.702320Z",
     "iopub.status.idle": "2023-02-04T08:02:32.709272Z",
     "shell.execute_reply": "2023-02-04T08:02:32.708360Z"
    }
   },
   "outputs": [
    {
     "data": {
      "text/html": [
       "<font face=monospace><a href='pYPK0_PMP3_EcfabZ_ENO2.gb' target='_blank'>pYPK0_PMP3_EcfabZ_ENO2.gb</a></font><br>"
      ]
     },
     "metadata": {},
     "output_type": "display_data"
    }
   ],
   "source": [
    "result.write(f\"{result.definition}.gb\")"
   ]
  },
  {
   "cell_type": "markdown",
   "id": "88ec8b0c",
   "metadata": {
    "lines_to_next_cell": 0
   },
   "source": [
    "### Suggested PCR programs\n",
    "\n",
    "For the [amplification](#PCR) of promoter, gene and terminator."
   ]
  },
  {
   "cell_type": "code",
   "execution_count": 28,
   "id": "071d84e9",
   "metadata": {
    "execution": {
     "iopub.execute_input": "2023-02-04T08:02:32.714149Z",
     "iopub.status.busy": "2023-02-04T08:02:32.713366Z",
     "iopub.status.idle": "2023-02-04T08:02:32.719057Z",
     "shell.execute_reply": "2023-02-04T08:02:32.718099Z"
    }
   },
   "outputs": [
    {
     "name": "stdout",
     "output_type": "stream",
     "text": [
      "577_crp585-557 567_pCAPsAjiIF\n",
      "|95°C|95°C               |    |tmf:64.6\n",
      "|____|_____          72°C|72°C|tmr:69.7\n",
      "|3min|30s  \\ 58.7°C _____|____|45s/kb\n",
      "|    |      \\______/ 0:44|5min|GC 44%\n",
      "|    |       30s         |    |988bp\n"
     ]
    }
   ],
   "source": [
    "print(prom.forward_primer.name, prom.reverse_primer.name)\n",
    "print(prom.program())"
   ]
  },
  {
   "cell_type": "code",
   "execution_count": 29,
   "id": "37c0fc79",
   "metadata": {
    "execution": {
     "iopub.execute_input": "2023-02-04T08:02:32.722331Z",
     "iopub.status.busy": "2023-02-04T08:02:32.722085Z",
     "iopub.status.idle": "2023-02-04T08:02:32.726568Z",
     "shell.execute_reply": "2023-02-04T08:02:32.725814Z"
    }
   },
   "outputs": [
    {
     "name": "stdout",
     "output_type": "stream",
     "text": [
      "468_pCAPs_release_fw 467_pCAPs_release_re\n",
      "|95°C|95°C               |    |tmf:76.9\n",
      "|____|_____          72°C|72°C|tmr:67.9\n",
      "|3min|30s  \\ 61.1°C _____|____|45s/kb\n",
      "|    |      \\______/ 0:30|5min|GC 50%\n",
      "|    |       30s         |    |545bp\n"
     ]
    }
   ],
   "source": [
    "print(gene.forward_primer.name, gene.reverse_primer.name)\n",
    "print(gene.program())"
   ]
  },
  {
   "cell_type": "code",
   "execution_count": 30,
   "id": "deea6a60",
   "metadata": {
    "execution": {
     "iopub.execute_input": "2023-02-04T08:02:32.729803Z",
     "iopub.status.busy": "2023-02-04T08:02:32.729518Z",
     "iopub.status.idle": "2023-02-04T08:02:32.734540Z",
     "shell.execute_reply": "2023-02-04T08:02:32.733596Z"
    }
   },
   "outputs": [
    {
     "name": "stdout",
     "output_type": "stream",
     "text": [
      "568_pCAPsAjiIR 578_crp42-70\n",
      "|95°C|95°C               |    |tmf:66.1\n",
      "|____|_____          72°C|72°C|tmr:65.0\n",
      "|3min|30s  \\ 57.1°C _____|____|45s/kb\n",
      "|    |      \\______/ 0:38|5min|GC 38%\n",
      "|    |       30s         |    |860bp\n"
     ]
    }
   ],
   "source": [
    "print(term.forward_primer.name, term.reverse_primer.name)\n",
    "print(term.program())"
   ]
  }
 ],
 "metadata": {
  "jupytext": {
   "main_language": "python",
   "text_representation": {
    "extension": ".py",
    "format_name": "percent",
    "format_version": "1.3",
    "jupytext_version": "1.14.0"
   }
  },
  "language_info": {
   "codemirror_mode": {
    "name": "ipython",
    "version": 3
   },
   "file_extension": ".py",
   "mimetype": "text/x-python",
   "name": "python",
   "nbconvert_exporter": "python",
   "pygments_lexer": "ipython3",
   "version": "3.11.0"
  }
 },
 "nbformat": 4,
 "nbformat_minor": 5
}
