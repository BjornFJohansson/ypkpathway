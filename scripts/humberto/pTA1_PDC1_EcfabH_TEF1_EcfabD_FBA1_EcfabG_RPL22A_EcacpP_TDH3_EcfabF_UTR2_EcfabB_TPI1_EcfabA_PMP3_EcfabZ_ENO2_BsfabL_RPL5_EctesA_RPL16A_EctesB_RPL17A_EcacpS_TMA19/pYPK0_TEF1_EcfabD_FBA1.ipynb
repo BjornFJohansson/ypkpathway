{
 "cells": [
  {
   "cell_type": "markdown",
   "id": "409caeba",
   "metadata": {},
   "source": [
    "# [![logo](logo.png)](https://github.com/BjornFJohansson/ypkpathway#-ypkpathway) pYPK0_TEF1_EcfabD_FBA1\n",
    "\n",
    "Assembly of a [_Saccharomyces cerevisiae_](http://www.yeastgenome.org) transcriptional unit vector.\n",
    "\n",
    "Made from a linear vector fragment and three PCR products:\n",
    "\n",
    "- a linearized pYPK0 vector for maintenance in _S. cerevisiae_ or _E. coli_ (red dashed line in figure below)\n",
    "- a promoter PCR product from the `pYPKa_Z_TEF1` vector\n",
    "- a gene PCR product from the `pYPKa_A_EcfabD` vector\n",
    "- a terminator PCR product from the `pYPKa_E_FBA1` vector\n",
    "\n",
    "The four linear DNA fragments are joined by _in-vivo_ homologous recombination in a\n",
    "[_Saccharomyces cerevisiae_](http://wiki.yeastgenome.org/index.php/Commonly_used_strains) strain.\n",
    "\n",
    "![tu](tu.png \"tu\")\n",
    "\n",
    "A part of the [pydna](https://pypi.python.org/pypi/pydna/) package is imported in the code cell below."
   ]
  },
  {
   "cell_type": "code",
   "execution_count": 1,
   "id": "149b5441",
   "metadata": {
    "execution": {
     "iopub.execute_input": "2023-02-04T08:02:11.989590Z",
     "iopub.status.busy": "2023-02-04T08:02:11.988827Z",
     "iopub.status.idle": "2023-02-04T08:02:12.441536Z",
     "shell.execute_reply": "2023-02-04T08:02:12.440882Z"
    }
   },
   "outputs": [],
   "source": [
    "from pydna.parsers import parse_primers\n",
    "from pydna.readers import read\n",
    "from pydna.amplify import pcr\n",
    "from pydna.assembly import Assembly"
   ]
  },
  {
   "cell_type": "markdown",
   "id": "77f36872",
   "metadata": {},
   "source": [
    "The Yeast Pathway Kit [standard primers](standard_primers.fasta) are read into a dictionary in the code cell below."
   ]
  },
  {
   "cell_type": "code",
   "execution_count": 2,
   "id": "15fe8204",
   "metadata": {
    "execution": {
     "iopub.execute_input": "2023-02-04T08:02:12.445050Z",
     "iopub.status.busy": "2023-02-04T08:02:12.444660Z",
     "iopub.status.idle": "2023-02-04T08:02:12.458034Z",
     "shell.execute_reply": "2023-02-04T08:02:12.457452Z"
    }
   },
   "outputs": [],
   "source": [
    "p = {x.name: x for x in parse_primers(\"standard_primers.fasta\")}"
   ]
  },
  {
   "cell_type": "markdown",
   "id": "5d142115",
   "metadata": {},
   "source": [
    "The backbone vector [pYPK0](pYPK0.gb) is read from a local file in the code cell below."
   ]
  },
  {
   "cell_type": "code",
   "execution_count": 3,
   "id": "ac0b4fad",
   "metadata": {
    "execution": {
     "iopub.execute_input": "2023-02-04T08:02:12.461368Z",
     "iopub.status.busy": "2023-02-04T08:02:12.461085Z",
     "iopub.status.idle": "2023-02-04T08:02:12.471428Z",
     "shell.execute_reply": "2023-02-04T08:02:12.470699Z"
    }
   },
   "outputs": [],
   "source": [
    "backbone = read(\"pYPK0.gb\")"
   ]
  },
  {
   "cell_type": "markdown",
   "id": "a84a23d7",
   "metadata": {},
   "source": [
    "The backbone vector is linearized by digestion with [MfeI](https://www.google.com/search?q=MfeI)."
   ]
  },
  {
   "cell_type": "code",
   "execution_count": 4,
   "id": "1b7038df",
   "metadata": {
    "execution": {
     "iopub.execute_input": "2023-02-04T08:02:12.474582Z",
     "iopub.status.busy": "2023-02-04T08:02:12.474282Z",
     "iopub.status.idle": "2023-02-04T08:02:12.477583Z",
     "shell.execute_reply": "2023-02-04T08:02:12.477040Z"
    }
   },
   "outputs": [],
   "source": [
    "from Bio.Restriction import MfeI"
   ]
  },
  {
   "cell_type": "code",
   "execution_count": 5,
   "id": "fe97c317",
   "metadata": {
    "execution": {
     "iopub.execute_input": "2023-02-04T08:02:12.480685Z",
     "iopub.status.busy": "2023-02-04T08:02:12.480426Z",
     "iopub.status.idle": "2023-02-04T08:02:12.487475Z",
     "shell.execute_reply": "2023-02-04T08:02:12.486790Z"
    }
   },
   "outputs": [],
   "source": [
    "linear_backbone = backbone.linearize(MfeI)"
   ]
  },
  {
   "cell_type": "markdown",
   "id": "618795ee",
   "metadata": {},
   "source": [
    "The pYPKa derived _E. coli_ plasmids containing\n",
    "- [promoter](pYPKa_Z_TEF1.gb)\n",
    "- [gene](pYPKa_A_EcfabD.gb)\n",
    "- [terminator](pYPKa_E_FBA1.gb)\n",
    "\n",
    "are read into three variables below."
   ]
  },
  {
   "cell_type": "code",
   "execution_count": 6,
   "id": "4a37ca52",
   "metadata": {
    "execution": {
     "iopub.execute_input": "2023-02-04T08:02:12.490780Z",
     "iopub.status.busy": "2023-02-04T08:02:12.490506Z",
     "iopub.status.idle": "2023-02-04T08:02:12.507448Z",
     "shell.execute_reply": "2023-02-04T08:02:12.506788Z"
    }
   },
   "outputs": [],
   "source": [
    "promoter_template   = read(\"pYPKa_Z_TEF1.gb\")\n",
    "gene_template       = read(\"pYPKa_A_EcfabD.gb\")\n",
    "terminator_template = read(\"pYPKa_E_FBA1.gb\")"
   ]
  },
  {
   "cell_type": "markdown",
   "id": "00745f83",
   "metadata": {
    "lines_to_next_cell": 0
   },
   "source": [
    "### PCR\n",
    "Three DNA fragments are PCR amplified using [standard primers](standard_primers.fasta).\n",
    "\n",
    "[Suggested PCR programs](#Suggested-PCR-programs) can be found at the end of this document."
   ]
  },
  {
   "cell_type": "code",
   "execution_count": 7,
   "id": "00e47f19",
   "metadata": {
    "execution": {
     "iopub.execute_input": "2023-02-04T08:02:12.510341Z",
     "iopub.status.busy": "2023-02-04T08:02:12.510135Z",
     "iopub.status.idle": "2023-02-04T08:02:12.516074Z",
     "shell.execute_reply": "2023-02-04T08:02:12.515402Z"
    }
   },
   "outputs": [],
   "source": [
    "\n",
    "fp_prom = p['577_crp585-557']\n",
    "rp_prom = p['567_pCAPsAjiIF']\n",
    "fp_gene = p['468_pCAPs_release_fw']\n",
    "rp_gene = p['467_pCAPs_release_re']\n",
    "fp_term = p['568_pCAPsAjiIR']\n",
    "rp_term = p['578_crp42-70']"
   ]
  },
  {
   "cell_type": "code",
   "execution_count": 8,
   "id": "e7877340",
   "metadata": {
    "execution": {
     "iopub.execute_input": "2023-02-04T08:02:12.520098Z",
     "iopub.status.busy": "2023-02-04T08:02:12.519747Z",
     "iopub.status.idle": "2023-02-04T08:02:12.545760Z",
     "shell.execute_reply": "2023-02-04T08:02:12.545160Z"
    }
   },
   "outputs": [],
   "source": [
    "prom = pcr(fp_prom, rp_prom, promoter_template)\n",
    "gene = pcr(fp_gene, rp_gene, gene_template)\n",
    "term = pcr(fp_term, rp_term, terminator_template)"
   ]
  },
  {
   "cell_type": "code",
   "execution_count": 9,
   "id": "0522982d",
   "metadata": {
    "execution": {
     "iopub.execute_input": "2023-02-04T08:02:12.548692Z",
     "iopub.status.busy": "2023-02-04T08:02:12.548287Z",
     "iopub.status.idle": "2023-02-04T08:02:12.551585Z",
     "shell.execute_reply": "2023-02-04T08:02:12.550868Z"
    }
   },
   "outputs": [],
   "source": [
    "prom.name = \"pYPKa_Z_TEF1\"[8:]\n",
    "gene.name = \"pYPKa_A_EcfabD\"[8:]\n",
    "term.name = \"pYPKa_E_FBA1\"[8:]"
   ]
  },
  {
   "cell_type": "markdown",
   "id": "6795e09a",
   "metadata": {},
   "source": [
    "\n",
    "The fragments will be assembled by _in-vivo_ [homologous recombination](http://www.ncbi.nlm.nih.gov/pubmed/2828185):"
   ]
  },
  {
   "cell_type": "code",
   "execution_count": 10,
   "id": "03d3bf8d",
   "metadata": {
    "execution": {
     "iopub.execute_input": "2023-02-04T08:02:12.556011Z",
     "iopub.status.busy": "2023-02-04T08:02:12.555409Z",
     "iopub.status.idle": "2023-02-04T08:02:13.067452Z",
     "shell.execute_reply": "2023-02-04T08:02:13.066813Z"
    }
   },
   "outputs": [
    {
     "data": {
      "text/plain": [
       "Assembly\n",
       "fragments..: 5766bp 811bp 1019bp 970bp\n",
       "limit(bp)..: 31\n",
       "G.nodes....: 10\n",
       "algorithm..: common_sub_strings"
      ]
     },
     "execution_count": 10,
     "metadata": {},
     "output_type": "execute_result"
    }
   ],
   "source": [
    "asm = Assembly((linear_backbone, prom, gene, term), limit=31)\n",
    "asm"
   ]
  },
  {
   "cell_type": "markdown",
   "id": "63203053",
   "metadata": {},
   "source": [
    "The Assembly object above should normally indicate four fragments and eight nodes."
   ]
  },
  {
   "cell_type": "code",
   "execution_count": 11,
   "id": "8042b8d9",
   "metadata": {
    "execution": {
     "iopub.execute_input": "2023-02-04T08:02:13.070752Z",
     "iopub.status.busy": "2023-02-04T08:02:13.070407Z",
     "iopub.status.idle": "2023-02-04T08:02:13.299430Z",
     "shell.execute_reply": "2023-02-04T08:02:13.298841Z"
    },
    "lines_to_next_cell": 0
   },
   "outputs": [
    {
     "data": {
      "text/plain": [
       "[Contig(o7931), Contig(o7931), Contig(o7931), Contig(o7338), Contig(o7338)]"
      ]
     },
     "execution_count": 11,
     "metadata": {},
     "output_type": "execute_result"
    }
   ],
   "source": [
    "candidates = asm.assemble_circular()\n",
    "candidates"
   ]
  },
  {
   "cell_type": "markdown",
   "id": "f942f322",
   "metadata": {},
   "source": [
    "There should normally be two candidates of equal size. These sequences should be identical."
   ]
  },
  {
   "cell_type": "code",
   "execution_count": 12,
   "id": "f67d518b",
   "metadata": {
    "execution": {
     "iopub.execute_input": "2023-02-04T08:02:13.302752Z",
     "iopub.status.busy": "2023-02-04T08:02:13.302331Z",
     "iopub.status.idle": "2023-02-04T08:02:13.305707Z",
     "shell.execute_reply": "2023-02-04T08:02:13.305020Z"
    },
    "lines_to_next_cell": 0
   },
   "outputs": [],
   "source": [
    "candidate, *rest = candidates"
   ]
  },
  {
   "cell_type": "code",
   "execution_count": 13,
   "id": "1968d1d5",
   "metadata": {
    "execution": {
     "iopub.execute_input": "2023-02-04T08:02:13.308041Z",
     "iopub.status.busy": "2023-02-04T08:02:13.307799Z",
     "iopub.status.idle": "2023-02-04T08:02:13.325557Z",
     "shell.execute_reply": "2023-02-04T08:02:13.325059Z"
    },
    "lines_to_next_cell": 0
   },
   "outputs": [
    {
     "data": {
      "text/plain": [
       "True"
      ]
     },
     "execution_count": 13,
     "metadata": {},
     "output_type": "execute_result"
    }
   ],
   "source": [
    "candidate.cseguid() == rest[0].cseguid()"
   ]
  },
  {
   "cell_type": "code",
   "execution_count": 14,
   "id": "1e6cf9b4",
   "metadata": {
    "execution": {
     "iopub.execute_input": "2023-02-04T08:02:13.328091Z",
     "iopub.status.busy": "2023-02-04T08:02:13.327888Z",
     "iopub.status.idle": "2023-02-04T08:02:13.331997Z",
     "shell.execute_reply": "2023-02-04T08:02:13.331279Z"
    },
    "lines_to_next_cell": 0
   },
   "outputs": [
    {
     "data": {
      "text/plain": [
       " -|pYPK0_lin|168\n",
       "|            \\/\n",
       "|            /\\\n",
       "|            168|TEF1|48\n",
       "|                     \\/\n",
       "|                     /\\\n",
       "|                     48|EcfabD|37\n",
       "|                               \\/\n",
       "|                               /\\\n",
       "|                               37|FBA1|276\n",
       "|                                       \\/\n",
       "|                                       /\\\n",
       "|                                       276-\n",
       "|                                          |\n",
       " ------------------------------------------"
      ]
     },
     "execution_count": 14,
     "metadata": {},
     "output_type": "execute_result"
    }
   ],
   "source": [
    "candidate.figure()"
   ]
  },
  {
   "cell_type": "markdown",
   "id": "59bee0bd",
   "metadata": {},
   "source": [
    "The candidate vector is synchronized to the 577 primer. This means that\n",
    "the plasmid origin is shifted so that it matches the backbone vector."
   ]
  },
  {
   "cell_type": "code",
   "execution_count": 15,
   "id": "547a3edc",
   "metadata": {
    "execution": {
     "iopub.execute_input": "2023-02-04T08:02:13.335680Z",
     "iopub.status.busy": "2023-02-04T08:02:13.335406Z",
     "iopub.status.idle": "2023-02-04T08:02:13.650956Z",
     "shell.execute_reply": "2023-02-04T08:02:13.650282Z"
    }
   },
   "outputs": [],
   "source": [
    "result = candidate.synced(fp_prom)"
   ]
  },
  {
   "cell_type": "markdown",
   "id": "695a04cf",
   "metadata": {},
   "source": [
    "### Diagnostic PCR confirmation\n",
    "\n",
    "The structure of the final vector is confirmed by two\n",
    "separate PCR reactions, one for the promoter and gene and\n",
    "one for the gene and terminator.\n",
    "\n",
    "PCR using standard primers 577 and 467 to amplify promoter and gene."
   ]
  },
  {
   "cell_type": "code",
   "execution_count": 16,
   "id": "a85e0970",
   "metadata": {
    "execution": {
     "iopub.execute_input": "2023-02-04T08:02:13.660417Z",
     "iopub.status.busy": "2023-02-04T08:02:13.658382Z",
     "iopub.status.idle": "2023-02-04T08:02:13.680125Z",
     "shell.execute_reply": "2023-02-04T08:02:13.679592Z"
    }
   },
   "outputs": [],
   "source": [
    "product = pcr( fp_prom, rp_gene, result)"
   ]
  },
  {
   "cell_type": "markdown",
   "id": "7600f2e9",
   "metadata": {},
   "source": [
    "A correct clone should give this size in base pairs:"
   ]
  },
  {
   "cell_type": "code",
   "execution_count": 17,
   "id": "e9ffbf4b",
   "metadata": {
    "execution": {
     "iopub.execute_input": "2023-02-04T08:02:13.683028Z",
     "iopub.status.busy": "2023-02-04T08:02:13.682762Z",
     "iopub.status.idle": "2023-02-04T08:02:13.686514Z",
     "shell.execute_reply": "2023-02-04T08:02:13.685601Z"
    }
   },
   "outputs": [
    {
     "name": "stdout",
     "output_type": "stream",
     "text": [
      "1780\n"
     ]
    }
   ],
   "source": [
    "print(len(product))"
   ]
  },
  {
   "cell_type": "markdown",
   "id": "4126cc6e",
   "metadata": {},
   "source": [
    "If the promoter is missing from the assembly, the PCR product will have this size in base pairs:"
   ]
  },
  {
   "cell_type": "code",
   "execution_count": 18,
   "id": "a735daff",
   "metadata": {
    "execution": {
     "iopub.execute_input": "2023-02-04T08:02:13.690280Z",
     "iopub.status.busy": "2023-02-04T08:02:13.689846Z",
     "iopub.status.idle": "2023-02-04T08:02:13.695193Z",
     "shell.execute_reply": "2023-02-04T08:02:13.694234Z"
    }
   },
   "outputs": [
    {
     "name": "stdout",
     "output_type": "stream",
     "text": [
      "969\n"
     ]
    }
   ],
   "source": [
    "print(len(product) - len(prom))"
   ]
  },
  {
   "cell_type": "markdown",
   "id": "26067d3a",
   "metadata": {},
   "source": [
    "If the gene is missing from the assembly, the PCR product will have this size in base pairs:"
   ]
  },
  {
   "cell_type": "code",
   "execution_count": 19,
   "id": "f9b03b46",
   "metadata": {
    "execution": {
     "iopub.execute_input": "2023-02-04T08:02:13.698529Z",
     "iopub.status.busy": "2023-02-04T08:02:13.698026Z",
     "iopub.status.idle": "2023-02-04T08:02:13.703028Z",
     "shell.execute_reply": "2023-02-04T08:02:13.701695Z"
    }
   },
   "outputs": [
    {
     "name": "stdout",
     "output_type": "stream",
     "text": [
      "761\n"
     ]
    }
   ],
   "source": [
    "print(len(product) - len(gene))"
   ]
  },
  {
   "cell_type": "markdown",
   "id": "3a3d49e1",
   "metadata": {},
   "source": [
    "PCR using standard primers 468 and 578 to amplify gene and terminator."
   ]
  },
  {
   "cell_type": "code",
   "execution_count": 20,
   "id": "e2fc0141",
   "metadata": {
    "execution": {
     "iopub.execute_input": "2023-02-04T08:02:13.706928Z",
     "iopub.status.busy": "2023-02-04T08:02:13.706610Z",
     "iopub.status.idle": "2023-02-04T08:02:13.726062Z",
     "shell.execute_reply": "2023-02-04T08:02:13.725534Z"
    }
   },
   "outputs": [],
   "source": [
    "product2 = pcr( fp_gene, rp_term, result)"
   ]
  },
  {
   "cell_type": "markdown",
   "id": "a7083025",
   "metadata": {},
   "source": [
    "A correct clone should give this size:"
   ]
  },
  {
   "cell_type": "code",
   "execution_count": 21,
   "id": "911c2ea3",
   "metadata": {
    "execution": {
     "iopub.execute_input": "2023-02-04T08:02:13.728878Z",
     "iopub.status.busy": "2023-02-04T08:02:13.728685Z",
     "iopub.status.idle": "2023-02-04T08:02:13.731812Z",
     "shell.execute_reply": "2023-02-04T08:02:13.731302Z"
    }
   },
   "outputs": [
    {
     "name": "stdout",
     "output_type": "stream",
     "text": [
      "1952\n"
     ]
    }
   ],
   "source": [
    "print(len(product2))"
   ]
  },
  {
   "cell_type": "markdown",
   "id": "f448fc31",
   "metadata": {},
   "source": [
    "If the gene is missing from the assembly, the PCR product will have this size in base pairs:"
   ]
  },
  {
   "cell_type": "code",
   "execution_count": 22,
   "id": "3d2879fb",
   "metadata": {
    "execution": {
     "iopub.execute_input": "2023-02-04T08:02:13.734428Z",
     "iopub.status.busy": "2023-02-04T08:02:13.734120Z",
     "iopub.status.idle": "2023-02-04T08:02:13.739481Z",
     "shell.execute_reply": "2023-02-04T08:02:13.738486Z"
    }
   },
   "outputs": [
    {
     "name": "stdout",
     "output_type": "stream",
     "text": [
      "933\n"
     ]
    }
   ],
   "source": [
    "print(len(product2) - len(gene))"
   ]
  },
  {
   "cell_type": "markdown",
   "id": "b2e6ed67",
   "metadata": {},
   "source": [
    "If the terminator is missing from the assembly, the PCR product will have this size in base pairs:"
   ]
  },
  {
   "cell_type": "code",
   "execution_count": 23,
   "id": "cdbe5b13",
   "metadata": {
    "execution": {
     "iopub.execute_input": "2023-02-04T08:02:13.743327Z",
     "iopub.status.busy": "2023-02-04T08:02:13.743087Z",
     "iopub.status.idle": "2023-02-04T08:02:13.746879Z",
     "shell.execute_reply": "2023-02-04T08:02:13.746123Z"
    }
   },
   "outputs": [
    {
     "name": "stdout",
     "output_type": "stream",
     "text": [
      "982\n"
     ]
    }
   ],
   "source": [
    "print(len(product2) - len(term))"
   ]
  },
  {
   "cell_type": "markdown",
   "id": "22116824",
   "metadata": {},
   "source": [
    "The cseguid checksum for the resulting plasmid is calculated for future reference.\n",
    "The [cseguid checksum](http://pydna.readthedocs.org/en/latest/pydna.html#pydna.utils.cseguid)\n",
    "uniquely identifies a circular double stranded sequence."
   ]
  },
  {
   "cell_type": "code",
   "execution_count": 24,
   "id": "c1fa33c0",
   "metadata": {
    "execution": {
     "iopub.execute_input": "2023-02-04T08:02:13.750019Z",
     "iopub.status.busy": "2023-02-04T08:02:13.749652Z",
     "iopub.status.idle": "2023-02-04T08:02:13.767769Z",
     "shell.execute_reply": "2023-02-04T08:02:13.761637Z"
    }
   },
   "outputs": [
    {
     "name": "stdout",
     "output_type": "stream",
     "text": [
      "v01M60VeuFZ1JwP7geadToegcEo\n"
     ]
    }
   ],
   "source": [
    "print(result.cseguid())"
   ]
  },
  {
   "cell_type": "markdown",
   "id": "e4ccfb1d",
   "metadata": {},
   "source": [
    "The file name is based on the promoter, gene and terminator designations."
   ]
  },
  {
   "cell_type": "code",
   "execution_count": 25,
   "id": "e942ec29",
   "metadata": {
    "execution": {
     "iopub.execute_input": "2023-02-04T08:02:13.775210Z",
     "iopub.status.busy": "2023-02-04T08:02:13.774643Z",
     "iopub.status.idle": "2023-02-04T08:02:13.778582Z",
     "shell.execute_reply": "2023-02-04T08:02:13.777769Z"
    }
   },
   "outputs": [],
   "source": [
    "result.locus = f\"tu:{gene.name}\"[:16]\n",
    "result.definition = \"pYPK0_TEF1_EcfabD_FBA1\""
   ]
  },
  {
   "cell_type": "markdown",
   "id": "534d7344",
   "metadata": {},
   "source": [
    "Sequence is stamped with cseguid checksum. This can be used to verify the\n",
    "integrity of the sequence file."
   ]
  },
  {
   "cell_type": "code",
   "execution_count": 26,
   "id": "6f7cfd79",
   "metadata": {
    "execution": {
     "iopub.execute_input": "2023-02-04T08:02:13.783056Z",
     "iopub.status.busy": "2023-02-04T08:02:13.782690Z",
     "iopub.status.idle": "2023-02-04T08:02:13.795240Z",
     "shell.execute_reply": "2023-02-04T08:02:13.794444Z"
    }
   },
   "outputs": [
    {
     "data": {
      "text/plain": [
       "v01M60VeuFZ1JwP7geadToegcEo"
      ]
     },
     "execution_count": 26,
     "metadata": {},
     "output_type": "execute_result"
    }
   ],
   "source": [
    "result.stamp(\"cSEGUID\")"
   ]
  },
  {
   "cell_type": "markdown",
   "id": "49fe214e",
   "metadata": {},
   "source": [
    "Write sequence to a local file."
   ]
  },
  {
   "cell_type": "code",
   "execution_count": 27,
   "id": "5f049b7a",
   "metadata": {
    "execution": {
     "iopub.execute_input": "2023-02-04T08:02:13.803480Z",
     "iopub.status.busy": "2023-02-04T08:02:13.803171Z",
     "iopub.status.idle": "2023-02-04T08:02:13.813330Z",
     "shell.execute_reply": "2023-02-04T08:02:13.812467Z"
    }
   },
   "outputs": [
    {
     "data": {
      "text/html": [
       "<font face=monospace><a href='pYPK0_TEF1_EcfabD_FBA1.gb' target='_blank'>pYPK0_TEF1_EcfabD_FBA1.gb</a></font><br>"
      ]
     },
     "metadata": {},
     "output_type": "display_data"
    }
   ],
   "source": [
    "result.write(f\"{result.definition}.gb\")"
   ]
  },
  {
   "cell_type": "markdown",
   "id": "8d0cd9e5",
   "metadata": {
    "lines_to_next_cell": 0
   },
   "source": [
    "### Suggested PCR programs\n",
    "\n",
    "For the [amplification](#PCR) of promoter, gene and terminator."
   ]
  },
  {
   "cell_type": "code",
   "execution_count": 28,
   "id": "3d50f8c1",
   "metadata": {
    "execution": {
     "iopub.execute_input": "2023-02-04T08:02:13.820842Z",
     "iopub.status.busy": "2023-02-04T08:02:13.820265Z",
     "iopub.status.idle": "2023-02-04T08:02:13.828993Z",
     "shell.execute_reply": "2023-02-04T08:02:13.828206Z"
    }
   },
   "outputs": [
    {
     "name": "stdout",
     "output_type": "stream",
     "text": [
      "577_crp585-557 567_pCAPsAjiIF\n",
      "|95°C|95°C               |    |tmf:64.6\n",
      "|____|_____          72°C|72°C|tmr:69.7\n",
      "|3min|30s  \\ 57.1°C _____|____|45s/kb\n",
      "|    |      \\______/ 0:36|5min|GC 39%\n",
      "|    |       30s         |    |811bp\n"
     ]
    }
   ],
   "source": [
    "print(prom.forward_primer.name, prom.reverse_primer.name)\n",
    "print(prom.program())"
   ]
  },
  {
   "cell_type": "code",
   "execution_count": 29,
   "id": "a1e5d4cf",
   "metadata": {
    "execution": {
     "iopub.execute_input": "2023-02-04T08:02:13.832893Z",
     "iopub.status.busy": "2023-02-04T08:02:13.832434Z",
     "iopub.status.idle": "2023-02-04T08:02:13.837314Z",
     "shell.execute_reply": "2023-02-04T08:02:13.836637Z"
    }
   },
   "outputs": [
    {
     "name": "stdout",
     "output_type": "stream",
     "text": [
      "468_pCAPs_release_fw 467_pCAPs_release_re\n",
      "|95°C|95°C               |    |tmf:76.9\n",
      "|____|_____          72°C|72°C|tmr:67.9\n",
      "|3min|30s  \\ 62.7°C _____|____|45s/kb\n",
      "|    |      \\______/ 0:45|5min|GC 54%\n",
      "|    |       30s         |    |1019bp\n"
     ]
    }
   ],
   "source": [
    "print(gene.forward_primer.name, gene.reverse_primer.name)\n",
    "print(gene.program())"
   ]
  },
  {
   "cell_type": "code",
   "execution_count": 30,
   "id": "699563bf",
   "metadata": {
    "execution": {
     "iopub.execute_input": "2023-02-04T08:02:13.843938Z",
     "iopub.status.busy": "2023-02-04T08:02:13.843381Z",
     "iopub.status.idle": "2023-02-04T08:02:13.851030Z",
     "shell.execute_reply": "2023-02-04T08:02:13.850049Z"
    }
   },
   "outputs": [
    {
     "name": "stdout",
     "output_type": "stream",
     "text": [
      "568_pCAPsAjiIR 578_crp42-70\n",
      "|95°C|95°C               |    |tmf:66.1\n",
      "|____|_____          72°C|72°C|tmr:65.0\n",
      "|3min|30s  \\ 57.2°C _____|____|45s/kb\n",
      "|    |      \\______/ 0:43|5min|GC 38%\n",
      "|    |       30s         |    |970bp\n"
     ]
    }
   ],
   "source": [
    "print(term.forward_primer.name, term.reverse_primer.name)\n",
    "print(term.program())"
   ]
  }
 ],
 "metadata": {
  "jupytext": {
   "main_language": "python",
   "text_representation": {
    "extension": ".py",
    "format_name": "percent",
    "format_version": "1.3",
    "jupytext_version": "1.14.0"
   }
  },
  "language_info": {
   "codemirror_mode": {
    "name": "ipython",
    "version": 3
   },
   "file_extension": ".py",
   "mimetype": "text/x-python",
   "name": "python",
   "nbconvert_exporter": "python",
   "pygments_lexer": "ipython3",
   "version": "3.11.0"
  }
 },
 "nbformat": 4,
 "nbformat_minor": 5
}
