{
 "cells": [
  {
   "cell_type": "markdown",
   "id": "71587dd2",
   "metadata": {},
   "source": [
    "# [![logo](logo.png)](https://github.com/BjornFJohansson/ypkpathway#-ypkpathway) pYPK0_TDH3_EcfabF_UTR2\n",
    "\n",
    "Assembly of a [_Saccharomyces cerevisiae_](http://www.yeastgenome.org) transcriptional unit vector.\n",
    "\n",
    "Made from a linear vector fragment and three PCR products:\n",
    "\n",
    "- a linearized pYPK0 vector for maintenance in _S. cerevisiae_ or _E. coli_ (red dashed line in figure below)\n",
    "- a promoter PCR product from the `pYPKa_Z_TDH3` vector\n",
    "- a gene PCR product from the `pYPKa_A_EcfabF` vector\n",
    "- a terminator PCR product from the `pYPKa_E_UTR2` vector\n",
    "\n",
    "The four linear DNA fragments are joined by _in-vivo_ homologous recombination in a\n",
    "[_Saccharomyces cerevisiae_](http://wiki.yeastgenome.org/index.php/Commonly_used_strains) strain.\n",
    "\n",
    "![tu](tu.png \"tu\")\n",
    "\n",
    "A part of the [pydna](https://pypi.python.org/pypi/pydna/) package is imported in the code cell below."
   ]
  },
  {
   "cell_type": "code",
   "execution_count": 1,
   "id": "f8cafbd4",
   "metadata": {
    "execution": {
     "iopub.execute_input": "2023-02-04T08:02:21.593010Z",
     "iopub.status.busy": "2023-02-04T08:02:21.592603Z",
     "iopub.status.idle": "2023-02-04T08:02:21.978646Z",
     "shell.execute_reply": "2023-02-04T08:02:21.977895Z"
    }
   },
   "outputs": [],
   "source": [
    "from pydna.parsers import parse_primers\n",
    "from pydna.readers import read\n",
    "from pydna.amplify import pcr\n",
    "from pydna.assembly import Assembly"
   ]
  },
  {
   "cell_type": "markdown",
   "id": "147a177a",
   "metadata": {},
   "source": [
    "The Yeast Pathway Kit [standard primers](standard_primers.fasta) are read into a dictionary in the code cell below."
   ]
  },
  {
   "cell_type": "code",
   "execution_count": 2,
   "id": "2f687fa9",
   "metadata": {
    "execution": {
     "iopub.execute_input": "2023-02-04T08:02:21.981993Z",
     "iopub.status.busy": "2023-02-04T08:02:21.981515Z",
     "iopub.status.idle": "2023-02-04T08:02:21.992866Z",
     "shell.execute_reply": "2023-02-04T08:02:21.992170Z"
    }
   },
   "outputs": [],
   "source": [
    "p = {x.name: x for x in parse_primers(\"standard_primers.fasta\")}"
   ]
  },
  {
   "cell_type": "markdown",
   "id": "ecfcc789",
   "metadata": {},
   "source": [
    "The backbone vector [pYPK0](pYPK0.gb) is read from a local file in the code cell below."
   ]
  },
  {
   "cell_type": "code",
   "execution_count": 3,
   "id": "020225ed",
   "metadata": {
    "execution": {
     "iopub.execute_input": "2023-02-04T08:02:21.996338Z",
     "iopub.status.busy": "2023-02-04T08:02:21.996011Z",
     "iopub.status.idle": "2023-02-04T08:02:22.008646Z",
     "shell.execute_reply": "2023-02-04T08:02:22.007816Z"
    }
   },
   "outputs": [],
   "source": [
    "backbone = read(\"pYPK0.gb\")"
   ]
  },
  {
   "cell_type": "markdown",
   "id": "9991f04b",
   "metadata": {},
   "source": [
    "The backbone vector is linearized by digestion with [MfeI](https://www.google.com/search?q=MfeI)."
   ]
  },
  {
   "cell_type": "code",
   "execution_count": 4,
   "id": "a63df085",
   "metadata": {
    "execution": {
     "iopub.execute_input": "2023-02-04T08:02:22.012656Z",
     "iopub.status.busy": "2023-02-04T08:02:22.012150Z",
     "iopub.status.idle": "2023-02-04T08:02:22.015843Z",
     "shell.execute_reply": "2023-02-04T08:02:22.015159Z"
    }
   },
   "outputs": [],
   "source": [
    "from Bio.Restriction import MfeI"
   ]
  },
  {
   "cell_type": "code",
   "execution_count": 5,
   "id": "d99f3664",
   "metadata": {
    "execution": {
     "iopub.execute_input": "2023-02-04T08:02:22.019322Z",
     "iopub.status.busy": "2023-02-04T08:02:22.018819Z",
     "iopub.status.idle": "2023-02-04T08:02:22.028035Z",
     "shell.execute_reply": "2023-02-04T08:02:22.027510Z"
    }
   },
   "outputs": [],
   "source": [
    "linear_backbone = backbone.linearize(MfeI)"
   ]
  },
  {
   "cell_type": "markdown",
   "id": "5f89676d",
   "metadata": {},
   "source": [
    "The pYPKa derived _E. coli_ plasmids containing\n",
    "- [promoter](pYPKa_Z_TDH3.gb)\n",
    "- [gene](pYPKa_A_EcfabF.gb)\n",
    "- [terminator](pYPKa_E_UTR2.gb)\n",
    "\n",
    "are read into three variables below."
   ]
  },
  {
   "cell_type": "code",
   "execution_count": 6,
   "id": "2c00afb5",
   "metadata": {
    "execution": {
     "iopub.execute_input": "2023-02-04T08:02:22.030789Z",
     "iopub.status.busy": "2023-02-04T08:02:22.030505Z",
     "iopub.status.idle": "2023-02-04T08:02:22.048075Z",
     "shell.execute_reply": "2023-02-04T08:02:22.047403Z"
    }
   },
   "outputs": [],
   "source": [
    "promoter_template   = read(\"pYPKa_Z_TDH3.gb\")\n",
    "gene_template       = read(\"pYPKa_A_EcfabF.gb\")\n",
    "terminator_template = read(\"pYPKa_E_UTR2.gb\")"
   ]
  },
  {
   "cell_type": "markdown",
   "id": "845ec547",
   "metadata": {
    "lines_to_next_cell": 0
   },
   "source": [
    "### PCR\n",
    "Three DNA fragments are PCR amplified using [standard primers](standard_primers.fasta).\n",
    "\n",
    "[Suggested PCR programs](#Suggested-PCR-programs) can be found at the end of this document."
   ]
  },
  {
   "cell_type": "code",
   "execution_count": 7,
   "id": "76a70091",
   "metadata": {
    "execution": {
     "iopub.execute_input": "2023-02-04T08:02:22.051582Z",
     "iopub.status.busy": "2023-02-04T08:02:22.051230Z",
     "iopub.status.idle": "2023-02-04T08:02:22.054635Z",
     "shell.execute_reply": "2023-02-04T08:02:22.054098Z"
    }
   },
   "outputs": [],
   "source": [
    "\n",
    "fp_prom = p['577_crp585-557']\n",
    "rp_prom = p['567_pCAPsAjiIF']\n",
    "fp_gene = p['468_pCAPs_release_fw']\n",
    "rp_gene = p['467_pCAPs_release_re']\n",
    "fp_term = p['568_pCAPsAjiIR']\n",
    "rp_term = p['578_crp42-70']"
   ]
  },
  {
   "cell_type": "code",
   "execution_count": 8,
   "id": "d48d5714",
   "metadata": {
    "execution": {
     "iopub.execute_input": "2023-02-04T08:02:22.058263Z",
     "iopub.status.busy": "2023-02-04T08:02:22.057895Z",
     "iopub.status.idle": "2023-02-04T08:02:22.085085Z",
     "shell.execute_reply": "2023-02-04T08:02:22.084224Z"
    }
   },
   "outputs": [],
   "source": [
    "prom = pcr(fp_prom, rp_prom, promoter_template)\n",
    "gene = pcr(fp_gene, rp_gene, gene_template)\n",
    "term = pcr(fp_term, rp_term, terminator_template)"
   ]
  },
  {
   "cell_type": "code",
   "execution_count": 9,
   "id": "621e9fbf",
   "metadata": {
    "execution": {
     "iopub.execute_input": "2023-02-04T08:02:22.087745Z",
     "iopub.status.busy": "2023-02-04T08:02:22.087525Z",
     "iopub.status.idle": "2023-02-04T08:02:22.090540Z",
     "shell.execute_reply": "2023-02-04T08:02:22.090042Z"
    }
   },
   "outputs": [],
   "source": [
    "prom.name = \"pYPKa_Z_TDH3\"[8:]\n",
    "gene.name = \"pYPKa_A_EcfabF\"[8:]\n",
    "term.name = \"pYPKa_E_UTR2\"[8:]"
   ]
  },
  {
   "cell_type": "markdown",
   "id": "cc58f222",
   "metadata": {},
   "source": [
    "\n",
    "The fragments will be assembled by _in-vivo_ [homologous recombination](http://www.ncbi.nlm.nih.gov/pubmed/2828185):"
   ]
  },
  {
   "cell_type": "code",
   "execution_count": 10,
   "id": "37306a1d",
   "metadata": {
    "execution": {
     "iopub.execute_input": "2023-02-04T08:02:22.093491Z",
     "iopub.status.busy": "2023-02-04T08:02:22.093050Z",
     "iopub.status.idle": "2023-02-04T08:02:22.530978Z",
     "shell.execute_reply": "2023-02-04T08:02:22.530372Z"
    }
   },
   "outputs": [
    {
     "data": {
      "text/plain": [
       "Assembly\n",
       "fragments..: 5766bp 930bp 1331bp 960bp\n",
       "limit(bp)..: 31\n",
       "G.nodes....: 10\n",
       "algorithm..: common_sub_strings"
      ]
     },
     "execution_count": 10,
     "metadata": {},
     "output_type": "execute_result"
    }
   ],
   "source": [
    "asm = Assembly((linear_backbone, prom, gene, term), limit=31)\n",
    "asm"
   ]
  },
  {
   "cell_type": "markdown",
   "id": "cfea91e0",
   "metadata": {},
   "source": [
    "The Assembly object above should normally indicate four fragments and eight nodes."
   ]
  },
  {
   "cell_type": "code",
   "execution_count": 11,
   "id": "f1225612",
   "metadata": {
    "execution": {
     "iopub.execute_input": "2023-02-04T08:02:22.533471Z",
     "iopub.status.busy": "2023-02-04T08:02:22.533248Z",
     "iopub.status.idle": "2023-02-04T08:02:22.768637Z",
     "shell.execute_reply": "2023-02-04T08:02:22.767890Z"
    },
    "lines_to_next_cell": 0
   },
   "outputs": [
    {
     "data": {
      "text/plain": [
       "[Contig(o8352), Contig(o8352), Contig(o8352), Contig(o7640), Contig(o7640)]"
      ]
     },
     "execution_count": 11,
     "metadata": {},
     "output_type": "execute_result"
    }
   ],
   "source": [
    "candidates = asm.assemble_circular()\n",
    "candidates"
   ]
  },
  {
   "cell_type": "markdown",
   "id": "8f11ca56",
   "metadata": {},
   "source": [
    "There should normally be two candidates of equal size. These sequences should be identical."
   ]
  },
  {
   "cell_type": "code",
   "execution_count": 12,
   "id": "6b1715cd",
   "metadata": {
    "execution": {
     "iopub.execute_input": "2023-02-04T08:02:22.771464Z",
     "iopub.status.busy": "2023-02-04T08:02:22.771093Z",
     "iopub.status.idle": "2023-02-04T08:02:22.773883Z",
     "shell.execute_reply": "2023-02-04T08:02:22.773371Z"
    },
    "lines_to_next_cell": 0
   },
   "outputs": [],
   "source": [
    "candidate, *rest = candidates"
   ]
  },
  {
   "cell_type": "code",
   "execution_count": 13,
   "id": "cfac1da7",
   "metadata": {
    "execution": {
     "iopub.execute_input": "2023-02-04T08:02:22.776956Z",
     "iopub.status.busy": "2023-02-04T08:02:22.776681Z",
     "iopub.status.idle": "2023-02-04T08:02:22.795139Z",
     "shell.execute_reply": "2023-02-04T08:02:22.794392Z"
    },
    "lines_to_next_cell": 0
   },
   "outputs": [
    {
     "data": {
      "text/plain": [
       "True"
      ]
     },
     "execution_count": 13,
     "metadata": {},
     "output_type": "execute_result"
    }
   ],
   "source": [
    "candidate.cseguid() == rest[0].cseguid()"
   ]
  },
  {
   "cell_type": "code",
   "execution_count": 14,
   "id": "09b3df82",
   "metadata": {
    "execution": {
     "iopub.execute_input": "2023-02-04T08:02:22.799165Z",
     "iopub.status.busy": "2023-02-04T08:02:22.798393Z",
     "iopub.status.idle": "2023-02-04T08:02:22.805155Z",
     "shell.execute_reply": "2023-02-04T08:02:22.804387Z"
    },
    "lines_to_next_cell": 0
   },
   "outputs": [
    {
     "data": {
      "text/plain": [
       " -|pYPK0_lin|168\n",
       "|            \\/\n",
       "|            /\\\n",
       "|            168|TDH3|48\n",
       "|                     \\/\n",
       "|                     /\\\n",
       "|                     48|EcfabF|37\n",
       "|                               \\/\n",
       "|                               /\\\n",
       "|                               37|UTR2|276\n",
       "|                                       \\/\n",
       "|                                       /\\\n",
       "|                                       276-\n",
       "|                                          |\n",
       " ------------------------------------------"
      ]
     },
     "execution_count": 14,
     "metadata": {},
     "output_type": "execute_result"
    }
   ],
   "source": [
    "candidate.figure()"
   ]
  },
  {
   "cell_type": "markdown",
   "id": "914ce71e",
   "metadata": {},
   "source": [
    "The candidate vector is synchronized to the 577 primer. This means that\n",
    "the plasmid origin is shifted so that it matches the backbone vector."
   ]
  },
  {
   "cell_type": "code",
   "execution_count": 15,
   "id": "fdf0e893",
   "metadata": {
    "execution": {
     "iopub.execute_input": "2023-02-04T08:02:22.808986Z",
     "iopub.status.busy": "2023-02-04T08:02:22.808434Z",
     "iopub.status.idle": "2023-02-04T08:02:23.130531Z",
     "shell.execute_reply": "2023-02-04T08:02:23.129924Z"
    }
   },
   "outputs": [],
   "source": [
    "result = candidate.synced(fp_prom)"
   ]
  },
  {
   "cell_type": "markdown",
   "id": "1b97ab8c",
   "metadata": {},
   "source": [
    "### Diagnostic PCR confirmation\n",
    "\n",
    "The structure of the final vector is confirmed by two\n",
    "separate PCR reactions, one for the promoter and gene and\n",
    "one for the gene and terminator.\n",
    "\n",
    "PCR using standard primers 577 and 467 to amplify promoter and gene."
   ]
  },
  {
   "cell_type": "code",
   "execution_count": 16,
   "id": "db0617b4",
   "metadata": {
    "execution": {
     "iopub.execute_input": "2023-02-04T08:02:23.133978Z",
     "iopub.status.busy": "2023-02-04T08:02:23.133392Z",
     "iopub.status.idle": "2023-02-04T08:02:23.151184Z",
     "shell.execute_reply": "2023-02-04T08:02:23.150478Z"
    }
   },
   "outputs": [],
   "source": [
    "product = pcr( fp_prom, rp_gene, result)"
   ]
  },
  {
   "cell_type": "markdown",
   "id": "8e13f74b",
   "metadata": {},
   "source": [
    "A correct clone should give this size in base pairs:"
   ]
  },
  {
   "cell_type": "code",
   "execution_count": 17,
   "id": "b40238ae",
   "metadata": {
    "execution": {
     "iopub.execute_input": "2023-02-04T08:02:23.154670Z",
     "iopub.status.busy": "2023-02-04T08:02:23.154414Z",
     "iopub.status.idle": "2023-02-04T08:02:23.158344Z",
     "shell.execute_reply": "2023-02-04T08:02:23.157487Z"
    }
   },
   "outputs": [
    {
     "name": "stdout",
     "output_type": "stream",
     "text": [
      "2211\n"
     ]
    }
   ],
   "source": [
    "print(len(product))"
   ]
  },
  {
   "cell_type": "markdown",
   "id": "2a0f5b2a",
   "metadata": {},
   "source": [
    "If the promoter is missing from the assembly, the PCR product will have this size in base pairs:"
   ]
  },
  {
   "cell_type": "code",
   "execution_count": 18,
   "id": "b3027b33",
   "metadata": {
    "execution": {
     "iopub.execute_input": "2023-02-04T08:02:23.161657Z",
     "iopub.status.busy": "2023-02-04T08:02:23.161356Z",
     "iopub.status.idle": "2023-02-04T08:02:23.166110Z",
     "shell.execute_reply": "2023-02-04T08:02:23.165408Z"
    }
   },
   "outputs": [
    {
     "name": "stdout",
     "output_type": "stream",
     "text": [
      "1281\n"
     ]
    }
   ],
   "source": [
    "print(len(product) - len(prom))"
   ]
  },
  {
   "cell_type": "markdown",
   "id": "90083bf2",
   "metadata": {},
   "source": [
    "If the gene is missing from the assembly, the PCR product will have this size in base pairs:"
   ]
  },
  {
   "cell_type": "code",
   "execution_count": 19,
   "id": "d83c2a09",
   "metadata": {
    "execution": {
     "iopub.execute_input": "2023-02-04T08:02:23.170200Z",
     "iopub.status.busy": "2023-02-04T08:02:23.169651Z",
     "iopub.status.idle": "2023-02-04T08:02:23.174674Z",
     "shell.execute_reply": "2023-02-04T08:02:23.173753Z"
    }
   },
   "outputs": [
    {
     "name": "stdout",
     "output_type": "stream",
     "text": [
      "880\n"
     ]
    }
   ],
   "source": [
    "print(len(product) - len(gene))"
   ]
  },
  {
   "cell_type": "markdown",
   "id": "d2449b91",
   "metadata": {},
   "source": [
    "PCR using standard primers 468 and 578 to amplify gene and terminator."
   ]
  },
  {
   "cell_type": "code",
   "execution_count": 20,
   "id": "9f71f8b0",
   "metadata": {
    "execution": {
     "iopub.execute_input": "2023-02-04T08:02:23.178856Z",
     "iopub.status.busy": "2023-02-04T08:02:23.178109Z",
     "iopub.status.idle": "2023-02-04T08:02:23.199044Z",
     "shell.execute_reply": "2023-02-04T08:02:23.198411Z"
    }
   },
   "outputs": [],
   "source": [
    "product2 = pcr( fp_gene, rp_term, result)"
   ]
  },
  {
   "cell_type": "markdown",
   "id": "5dd9dfbb",
   "metadata": {},
   "source": [
    "A correct clone should give this size:"
   ]
  },
  {
   "cell_type": "code",
   "execution_count": 21,
   "id": "b638aed2",
   "metadata": {
    "execution": {
     "iopub.execute_input": "2023-02-04T08:02:23.201958Z",
     "iopub.status.busy": "2023-02-04T08:02:23.201679Z",
     "iopub.status.idle": "2023-02-04T08:02:23.205464Z",
     "shell.execute_reply": "2023-02-04T08:02:23.204844Z"
    }
   },
   "outputs": [
    {
     "name": "stdout",
     "output_type": "stream",
     "text": [
      "2254\n"
     ]
    }
   ],
   "source": [
    "print(len(product2))"
   ]
  },
  {
   "cell_type": "markdown",
   "id": "4da4fdd8",
   "metadata": {},
   "source": [
    "If the gene is missing from the assembly, the PCR product will have this size in base pairs:"
   ]
  },
  {
   "cell_type": "code",
   "execution_count": 22,
   "id": "818368f1",
   "metadata": {
    "execution": {
     "iopub.execute_input": "2023-02-04T08:02:23.208491Z",
     "iopub.status.busy": "2023-02-04T08:02:23.208069Z",
     "iopub.status.idle": "2023-02-04T08:02:23.212955Z",
     "shell.execute_reply": "2023-02-04T08:02:23.212056Z"
    }
   },
   "outputs": [
    {
     "name": "stdout",
     "output_type": "stream",
     "text": [
      "923\n"
     ]
    }
   ],
   "source": [
    "print(len(product2) - len(gene))"
   ]
  },
  {
   "cell_type": "markdown",
   "id": "7de7dbe4",
   "metadata": {},
   "source": [
    "If the terminator is missing from the assembly, the PCR product will have this size in base pairs:"
   ]
  },
  {
   "cell_type": "code",
   "execution_count": 23,
   "id": "d0e431c8",
   "metadata": {
    "execution": {
     "iopub.execute_input": "2023-02-04T08:02:23.216627Z",
     "iopub.status.busy": "2023-02-04T08:02:23.216313Z",
     "iopub.status.idle": "2023-02-04T08:02:23.219716Z",
     "shell.execute_reply": "2023-02-04T08:02:23.218963Z"
    }
   },
   "outputs": [
    {
     "name": "stdout",
     "output_type": "stream",
     "text": [
      "1294\n"
     ]
    }
   ],
   "source": [
    "print(len(product2) - len(term))"
   ]
  },
  {
   "cell_type": "markdown",
   "id": "a037486e",
   "metadata": {},
   "source": [
    "The cseguid checksum for the resulting plasmid is calculated for future reference.\n",
    "The [cseguid checksum](http://pydna.readthedocs.org/en/latest/pydna.html#pydna.utils.cseguid)\n",
    "uniquely identifies a circular double stranded sequence."
   ]
  },
  {
   "cell_type": "code",
   "execution_count": 24,
   "id": "a57cd876",
   "metadata": {
    "execution": {
     "iopub.execute_input": "2023-02-04T08:02:23.222634Z",
     "iopub.status.busy": "2023-02-04T08:02:23.222426Z",
     "iopub.status.idle": "2023-02-04T08:02:23.234673Z",
     "shell.execute_reply": "2023-02-04T08:02:23.233809Z"
    }
   },
   "outputs": [
    {
     "name": "stdout",
     "output_type": "stream",
     "text": [
      "Ji2VsX_-J4Osso-RMQSzGU7j1ME\n"
     ]
    }
   ],
   "source": [
    "print(result.cseguid())"
   ]
  },
  {
   "cell_type": "markdown",
   "id": "561caa4a",
   "metadata": {},
   "source": [
    "The file name is based on the promoter, gene and terminator designations."
   ]
  },
  {
   "cell_type": "code",
   "execution_count": 25,
   "id": "54aaf1b5",
   "metadata": {
    "execution": {
     "iopub.execute_input": "2023-02-04T08:02:23.237425Z",
     "iopub.status.busy": "2023-02-04T08:02:23.237218Z",
     "iopub.status.idle": "2023-02-04T08:02:23.240331Z",
     "shell.execute_reply": "2023-02-04T08:02:23.239816Z"
    }
   },
   "outputs": [],
   "source": [
    "result.locus = f\"tu:{gene.name}\"[:16]\n",
    "result.definition = \"pYPK0_TDH3_EcfabF_UTR2\""
   ]
  },
  {
   "cell_type": "markdown",
   "id": "d6a13671",
   "metadata": {},
   "source": [
    "Sequence is stamped with cseguid checksum. This can be used to verify the\n",
    "integrity of the sequence file."
   ]
  },
  {
   "cell_type": "code",
   "execution_count": 26,
   "id": "64307909",
   "metadata": {
    "execution": {
     "iopub.execute_input": "2023-02-04T08:02:23.243716Z",
     "iopub.status.busy": "2023-02-04T08:02:23.243430Z",
     "iopub.status.idle": "2023-02-04T08:02:23.256448Z",
     "shell.execute_reply": "2023-02-04T08:02:23.255888Z"
    }
   },
   "outputs": [
    {
     "data": {
      "text/plain": [
       "Ji2VsX_-J4Osso-RMQSzGU7j1ME"
      ]
     },
     "execution_count": 26,
     "metadata": {},
     "output_type": "execute_result"
    }
   ],
   "source": [
    "result.stamp(\"cSEGUID\")"
   ]
  },
  {
   "cell_type": "markdown",
   "id": "baf13f9b",
   "metadata": {},
   "source": [
    "Write sequence to a local file."
   ]
  },
  {
   "cell_type": "code",
   "execution_count": 27,
   "id": "48f6b49d",
   "metadata": {
    "execution": {
     "iopub.execute_input": "2023-02-04T08:02:23.259611Z",
     "iopub.status.busy": "2023-02-04T08:02:23.259358Z",
     "iopub.status.idle": "2023-02-04T08:02:23.266108Z",
     "shell.execute_reply": "2023-02-04T08:02:23.265236Z"
    }
   },
   "outputs": [
    {
     "data": {
      "text/html": [
       "<font face=monospace><a href='pYPK0_TDH3_EcfabF_UTR2.gb' target='_blank'>pYPK0_TDH3_EcfabF_UTR2.gb</a></font><br>"
      ]
     },
     "metadata": {},
     "output_type": "display_data"
    }
   ],
   "source": [
    "result.write(f\"{result.definition}.gb\")"
   ]
  },
  {
   "cell_type": "markdown",
   "id": "cdda8b56",
   "metadata": {
    "lines_to_next_cell": 0
   },
   "source": [
    "### Suggested PCR programs\n",
    "\n",
    "For the [amplification](#PCR) of promoter, gene and terminator."
   ]
  },
  {
   "cell_type": "code",
   "execution_count": 28,
   "id": "d356d84f",
   "metadata": {
    "execution": {
     "iopub.execute_input": "2023-02-04T08:02:23.270237Z",
     "iopub.status.busy": "2023-02-04T08:02:23.269585Z",
     "iopub.status.idle": "2023-02-04T08:02:23.275230Z",
     "shell.execute_reply": "2023-02-04T08:02:23.274252Z"
    }
   },
   "outputs": [
    {
     "name": "stdout",
     "output_type": "stream",
     "text": [
      "577_crp585-557 567_pCAPsAjiIF\n",
      "|95°C|95°C               |    |tmf:64.6\n",
      "|____|_____          72°C|72°C|tmr:69.7\n",
      "|3min|30s  \\ 57.1°C _____|____|45s/kb\n",
      "|    |      \\______/ 0:41|5min|GC 38%\n",
      "|    |       30s         |    |930bp\n"
     ]
    }
   ],
   "source": [
    "print(prom.forward_primer.name, prom.reverse_primer.name)\n",
    "print(prom.program())"
   ]
  },
  {
   "cell_type": "code",
   "execution_count": 29,
   "id": "bb5f6cd2",
   "metadata": {
    "execution": {
     "iopub.execute_input": "2023-02-04T08:02:23.278513Z",
     "iopub.status.busy": "2023-02-04T08:02:23.278173Z",
     "iopub.status.idle": "2023-02-04T08:02:23.282991Z",
     "shell.execute_reply": "2023-02-04T08:02:23.282188Z"
    }
   },
   "outputs": [
    {
     "name": "stdout",
     "output_type": "stream",
     "text": [
      "468_pCAPs_release_fw 467_pCAPs_release_re\n",
      "|95°C|95°C               |    |tmf:76.9\n",
      "|____|_____          72°C|72°C|tmr:67.9\n",
      "|3min|30s  \\ 62.3°C _____|____|45s/kb\n",
      "|    |      \\______/ 0:59|5min|GC 53%\n",
      "|    |       30s         |    |1331bp\n"
     ]
    }
   ],
   "source": [
    "print(gene.forward_primer.name, gene.reverse_primer.name)\n",
    "print(gene.program())"
   ]
  },
  {
   "cell_type": "code",
   "execution_count": 30,
   "id": "08b73cc2",
   "metadata": {
    "execution": {
     "iopub.execute_input": "2023-02-04T08:02:23.287301Z",
     "iopub.status.busy": "2023-02-04T08:02:23.286933Z",
     "iopub.status.idle": "2023-02-04T08:02:23.292149Z",
     "shell.execute_reply": "2023-02-04T08:02:23.291279Z"
    }
   },
   "outputs": [
    {
     "name": "stdout",
     "output_type": "stream",
     "text": [
      "568_pCAPsAjiIR 578_crp42-70\n",
      "|95°C|95°C               |    |tmf:66.1\n",
      "|____|_____          72°C|72°C|tmr:65.0\n",
      "|3min|30s  \\ 57.5°C _____|____|45s/kb\n",
      "|    |      \\______/ 0:43|5min|GC 40%\n",
      "|    |       30s         |    |960bp\n"
     ]
    }
   ],
   "source": [
    "print(term.forward_primer.name, term.reverse_primer.name)\n",
    "print(term.program())"
   ]
  }
 ],
 "metadata": {
  "jupytext": {
   "main_language": "python",
   "text_representation": {
    "extension": ".py",
    "format_name": "percent",
    "format_version": "1.3",
    "jupytext_version": "1.14.0"
   }
  },
  "language_info": {
   "codemirror_mode": {
    "name": "ipython",
    "version": 3
   },
   "file_extension": ".py",
   "mimetype": "text/x-python",
   "name": "python",
   "nbconvert_exporter": "python",
   "pygments_lexer": "ipython3",
   "version": "3.11.0"
  }
 },
 "nbformat": 4,
 "nbformat_minor": 5
}
