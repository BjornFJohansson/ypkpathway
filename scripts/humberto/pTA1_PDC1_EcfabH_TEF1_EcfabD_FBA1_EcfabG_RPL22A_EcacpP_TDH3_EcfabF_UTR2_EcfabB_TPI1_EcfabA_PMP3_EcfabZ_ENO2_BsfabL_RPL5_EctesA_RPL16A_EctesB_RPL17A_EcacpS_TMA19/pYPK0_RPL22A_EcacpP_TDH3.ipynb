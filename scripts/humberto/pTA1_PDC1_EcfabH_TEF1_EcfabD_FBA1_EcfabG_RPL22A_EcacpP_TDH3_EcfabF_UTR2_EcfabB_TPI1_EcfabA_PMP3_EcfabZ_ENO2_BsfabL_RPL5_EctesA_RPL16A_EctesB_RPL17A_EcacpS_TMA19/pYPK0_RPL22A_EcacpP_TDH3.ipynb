{
 "cells": [
  {
   "cell_type": "markdown",
   "id": "cfe360b5",
   "metadata": {},
   "source": [
    "# [![logo](logo.png)](https://github.com/BjornFJohansson/ypkpathway#-ypkpathway) pYPK0_RPL22A_EcacpP_TDH3\n",
    "\n",
    "Assembly of a [_Saccharomyces cerevisiae_](http://www.yeastgenome.org) transcriptional unit vector.\n",
    "\n",
    "Made from a linear vector fragment and three PCR products:\n",
    "\n",
    "- a linearized pYPK0 vector for maintenance in _S. cerevisiae_ or _E. coli_ (red dashed line in figure below)\n",
    "- a promoter PCR product from the `pYPKa_Z_RPL22A` vector\n",
    "- a gene PCR product from the `pYPKa_A_EcacpP` vector\n",
    "- a terminator PCR product from the `pYPKa_E_TDH3` vector\n",
    "\n",
    "The four linear DNA fragments are joined by _in-vivo_ homologous recombination in a\n",
    "[_Saccharomyces cerevisiae_](http://wiki.yeastgenome.org/index.php/Commonly_used_strains) strain.\n",
    "\n",
    "![tu](tu.png \"tu\")\n",
    "\n",
    "A part of the [pydna](https://pypi.python.org/pypi/pydna/) package is imported in the code cell below."
   ]
  },
  {
   "cell_type": "code",
   "execution_count": 1,
   "id": "858183d1",
   "metadata": {
    "execution": {
     "iopub.execute_input": "2023-02-04T08:02:18.564378Z",
     "iopub.status.busy": "2023-02-04T08:02:18.563853Z",
     "iopub.status.idle": "2023-02-04T08:02:18.913619Z",
     "shell.execute_reply": "2023-02-04T08:02:18.913011Z"
    }
   },
   "outputs": [],
   "source": [
    "from pydna.parsers import parse_primers\n",
    "from pydna.readers import read\n",
    "from pydna.amplify import pcr\n",
    "from pydna.assembly import Assembly"
   ]
  },
  {
   "cell_type": "markdown",
   "id": "353815d8",
   "metadata": {},
   "source": [
    "The Yeast Pathway Kit [standard primers](standard_primers.fasta) are read into a dictionary in the code cell below."
   ]
  },
  {
   "cell_type": "code",
   "execution_count": 2,
   "id": "db5b8e34",
   "metadata": {
    "execution": {
     "iopub.execute_input": "2023-02-04T08:02:18.918039Z",
     "iopub.status.busy": "2023-02-04T08:02:18.917434Z",
     "iopub.status.idle": "2023-02-04T08:02:18.931850Z",
     "shell.execute_reply": "2023-02-04T08:02:18.931202Z"
    }
   },
   "outputs": [],
   "source": [
    "p = {x.name: x for x in parse_primers(\"standard_primers.fasta\")}"
   ]
  },
  {
   "cell_type": "markdown",
   "id": "b98540d8",
   "metadata": {},
   "source": [
    "The backbone vector [pYPK0](pYPK0.gb) is read from a local file in the code cell below."
   ]
  },
  {
   "cell_type": "code",
   "execution_count": 3,
   "id": "8a6ec1ec",
   "metadata": {
    "execution": {
     "iopub.execute_input": "2023-02-04T08:02:18.935061Z",
     "iopub.status.busy": "2023-02-04T08:02:18.934760Z",
     "iopub.status.idle": "2023-02-04T08:02:18.944908Z",
     "shell.execute_reply": "2023-02-04T08:02:18.944284Z"
    }
   },
   "outputs": [],
   "source": [
    "backbone = read(\"pYPK0.gb\")"
   ]
  },
  {
   "cell_type": "markdown",
   "id": "d75b6f6f",
   "metadata": {},
   "source": [
    "The backbone vector is linearized by digestion with [MfeI](https://www.google.com/search?q=MfeI)."
   ]
  },
  {
   "cell_type": "code",
   "execution_count": 4,
   "id": "a54c58e2",
   "metadata": {
    "execution": {
     "iopub.execute_input": "2023-02-04T08:02:18.948177Z",
     "iopub.status.busy": "2023-02-04T08:02:18.947855Z",
     "iopub.status.idle": "2023-02-04T08:02:18.952812Z",
     "shell.execute_reply": "2023-02-04T08:02:18.951398Z"
    }
   },
   "outputs": [],
   "source": [
    "from Bio.Restriction import MfeI"
   ]
  },
  {
   "cell_type": "code",
   "execution_count": 5,
   "id": "f6d61484",
   "metadata": {
    "execution": {
     "iopub.execute_input": "2023-02-04T08:02:18.957195Z",
     "iopub.status.busy": "2023-02-04T08:02:18.956369Z",
     "iopub.status.idle": "2023-02-04T08:02:18.964124Z",
     "shell.execute_reply": "2023-02-04T08:02:18.963500Z"
    }
   },
   "outputs": [],
   "source": [
    "linear_backbone = backbone.linearize(MfeI)"
   ]
  },
  {
   "cell_type": "markdown",
   "id": "a31f6128",
   "metadata": {},
   "source": [
    "The pYPKa derived _E. coli_ plasmids containing\n",
    "- [promoter](pYPKa_Z_RPL22A.gb)\n",
    "- [gene](pYPKa_A_EcacpP.gb)\n",
    "- [terminator](pYPKa_E_TDH3.gb)\n",
    "\n",
    "are read into three variables below."
   ]
  },
  {
   "cell_type": "code",
   "execution_count": 6,
   "id": "878f859b",
   "metadata": {
    "execution": {
     "iopub.execute_input": "2023-02-04T08:02:18.967569Z",
     "iopub.status.busy": "2023-02-04T08:02:18.967077Z",
     "iopub.status.idle": "2023-02-04T08:02:18.982748Z",
     "shell.execute_reply": "2023-02-04T08:02:18.982179Z"
    }
   },
   "outputs": [],
   "source": [
    "promoter_template   = read(\"pYPKa_Z_RPL22A.gb\")\n",
    "gene_template       = read(\"pYPKa_A_EcacpP.gb\")\n",
    "terminator_template = read(\"pYPKa_E_TDH3.gb\")"
   ]
  },
  {
   "cell_type": "markdown",
   "id": "9b9b7544",
   "metadata": {
    "lines_to_next_cell": 0
   },
   "source": [
    "### PCR\n",
    "Three DNA fragments are PCR amplified using [standard primers](standard_primers.fasta).\n",
    "\n",
    "[Suggested PCR programs](#Suggested-PCR-programs) can be found at the end of this document."
   ]
  },
  {
   "cell_type": "code",
   "execution_count": 7,
   "id": "bc390fd0",
   "metadata": {
    "execution": {
     "iopub.execute_input": "2023-02-04T08:02:18.986159Z",
     "iopub.status.busy": "2023-02-04T08:02:18.985746Z",
     "iopub.status.idle": "2023-02-04T08:02:18.989682Z",
     "shell.execute_reply": "2023-02-04T08:02:18.989005Z"
    }
   },
   "outputs": [],
   "source": [
    "\n",
    "fp_prom = p['577_crp585-557']\n",
    "rp_prom = p['567_pCAPsAjiIF']\n",
    "fp_gene = p['468_pCAPs_release_fw']\n",
    "rp_gene = p['467_pCAPs_release_re']\n",
    "fp_term = p['568_pCAPsAjiIR']\n",
    "rp_term = p['578_crp42-70']"
   ]
  },
  {
   "cell_type": "code",
   "execution_count": 8,
   "id": "0a9b5b16",
   "metadata": {
    "execution": {
     "iopub.execute_input": "2023-02-04T08:02:18.992665Z",
     "iopub.status.busy": "2023-02-04T08:02:18.992274Z",
     "iopub.status.idle": "2023-02-04T08:02:19.015129Z",
     "shell.execute_reply": "2023-02-04T08:02:19.014549Z"
    }
   },
   "outputs": [],
   "source": [
    "prom = pcr(fp_prom, rp_prom, promoter_template)\n",
    "gene = pcr(fp_gene, rp_gene, gene_template)\n",
    "term = pcr(fp_term, rp_term, terminator_template)"
   ]
  },
  {
   "cell_type": "code",
   "execution_count": 9,
   "id": "5997df0d",
   "metadata": {
    "execution": {
     "iopub.execute_input": "2023-02-04T08:02:19.018166Z",
     "iopub.status.busy": "2023-02-04T08:02:19.017870Z",
     "iopub.status.idle": "2023-02-04T08:02:19.021246Z",
     "shell.execute_reply": "2023-02-04T08:02:19.020745Z"
    }
   },
   "outputs": [],
   "source": [
    "prom.name = \"pYPKa_Z_RPL22A\"[8:]\n",
    "gene.name = \"pYPKa_A_EcacpP\"[8:]\n",
    "term.name = \"pYPKa_E_TDH3\"[8:]"
   ]
  },
  {
   "cell_type": "markdown",
   "id": "45442519",
   "metadata": {},
   "source": [
    "\n",
    "The fragments will be assembled by _in-vivo_ [homologous recombination](http://www.ncbi.nlm.nih.gov/pubmed/2828185):"
   ]
  },
  {
   "cell_type": "code",
   "execution_count": 10,
   "id": "8e37430c",
   "metadata": {
    "execution": {
     "iopub.execute_input": "2023-02-04T08:02:19.024340Z",
     "iopub.status.busy": "2023-02-04T08:02:19.024027Z",
     "iopub.status.idle": "2023-02-04T08:02:19.416854Z",
     "shell.execute_reply": "2023-02-04T08:02:19.416271Z"
    }
   },
   "outputs": [
    {
     "data": {
      "text/plain": [
       "Assembly\n",
       "fragments..: 5766bp 658bp 326bp 1038bp\n",
       "limit(bp)..: 31\n",
       "G.nodes....: 10\n",
       "algorithm..: common_sub_strings"
      ]
     },
     "execution_count": 10,
     "metadata": {},
     "output_type": "execute_result"
    }
   ],
   "source": [
    "asm = Assembly((linear_backbone, prom, gene, term), limit=31)\n",
    "asm"
   ]
  },
  {
   "cell_type": "markdown",
   "id": "6b8cefe3",
   "metadata": {},
   "source": [
    "The Assembly object above should normally indicate four fragments and eight nodes."
   ]
  },
  {
   "cell_type": "code",
   "execution_count": 11,
   "id": "447000e4",
   "metadata": {
    "execution": {
     "iopub.execute_input": "2023-02-04T08:02:19.420313Z",
     "iopub.status.busy": "2023-02-04T08:02:19.420079Z",
     "iopub.status.idle": "2023-02-04T08:02:19.659119Z",
     "shell.execute_reply": "2023-02-04T08:02:19.658396Z"
    },
    "lines_to_next_cell": 0
   },
   "outputs": [
    {
     "data": {
      "text/plain": [
       "[Contig(o7153), Contig(o7153), Contig(o7153), Contig(o6713), Contig(o6713)]"
      ]
     },
     "execution_count": 11,
     "metadata": {},
     "output_type": "execute_result"
    }
   ],
   "source": [
    "candidates = asm.assemble_circular()\n",
    "candidates"
   ]
  },
  {
   "cell_type": "markdown",
   "id": "106556f1",
   "metadata": {},
   "source": [
    "There should normally be two candidates of equal size. These sequences should be identical."
   ]
  },
  {
   "cell_type": "code",
   "execution_count": 12,
   "id": "00346b23",
   "metadata": {
    "execution": {
     "iopub.execute_input": "2023-02-04T08:02:19.662964Z",
     "iopub.status.busy": "2023-02-04T08:02:19.662563Z",
     "iopub.status.idle": "2023-02-04T08:02:19.667718Z",
     "shell.execute_reply": "2023-02-04T08:02:19.666420Z"
    },
    "lines_to_next_cell": 0
   },
   "outputs": [],
   "source": [
    "candidate, *rest = candidates"
   ]
  },
  {
   "cell_type": "code",
   "execution_count": 13,
   "id": "883622bb",
   "metadata": {
    "execution": {
     "iopub.execute_input": "2023-02-04T08:02:19.672218Z",
     "iopub.status.busy": "2023-02-04T08:02:19.671042Z",
     "iopub.status.idle": "2023-02-04T08:02:19.695810Z",
     "shell.execute_reply": "2023-02-04T08:02:19.695151Z"
    },
    "lines_to_next_cell": 0
   },
   "outputs": [
    {
     "data": {
      "text/plain": [
       "True"
      ]
     },
     "execution_count": 13,
     "metadata": {},
     "output_type": "execute_result"
    }
   ],
   "source": [
    "candidate.cseguid() == rest[0].cseguid()"
   ]
  },
  {
   "cell_type": "code",
   "execution_count": 14,
   "id": "f38666ca",
   "metadata": {
    "execution": {
     "iopub.execute_input": "2023-02-04T08:02:19.698442Z",
     "iopub.status.busy": "2023-02-04T08:02:19.698170Z",
     "iopub.status.idle": "2023-02-04T08:02:19.703382Z",
     "shell.execute_reply": "2023-02-04T08:02:19.702763Z"
    },
    "lines_to_next_cell": 0
   },
   "outputs": [
    {
     "data": {
      "text/plain": [
       " -|pYPK0_lin|168\n",
       "|            \\/\n",
       "|            /\\\n",
       "|            168|RPL22A|48\n",
       "|                       \\/\n",
       "|                       /\\\n",
       "|                       48|EcacpP|37\n",
       "|                                 \\/\n",
       "|                                 /\\\n",
       "|                                 37|TDH3|276\n",
       "|                                         \\/\n",
       "|                                         /\\\n",
       "|                                         276-\n",
       "|                                            |\n",
       " --------------------------------------------"
      ]
     },
     "execution_count": 14,
     "metadata": {},
     "output_type": "execute_result"
    }
   ],
   "source": [
    "candidate.figure()"
   ]
  },
  {
   "cell_type": "markdown",
   "id": "93d62aa0",
   "metadata": {},
   "source": [
    "The candidate vector is synchronized to the 577 primer. This means that\n",
    "the plasmid origin is shifted so that it matches the backbone vector."
   ]
  },
  {
   "cell_type": "code",
   "execution_count": 15,
   "id": "0b3431c9",
   "metadata": {
    "execution": {
     "iopub.execute_input": "2023-02-04T08:02:19.706292Z",
     "iopub.status.busy": "2023-02-04T08:02:19.705882Z",
     "iopub.status.idle": "2023-02-04T08:02:19.983572Z",
     "shell.execute_reply": "2023-02-04T08:02:19.983023Z"
    }
   },
   "outputs": [],
   "source": [
    "result = candidate.synced(fp_prom)"
   ]
  },
  {
   "cell_type": "markdown",
   "id": "bd218646",
   "metadata": {},
   "source": [
    "### Diagnostic PCR confirmation\n",
    "\n",
    "The structure of the final vector is confirmed by two\n",
    "separate PCR reactions, one for the promoter and gene and\n",
    "one for the gene and terminator.\n",
    "\n",
    "PCR using standard primers 577 and 467 to amplify promoter and gene."
   ]
  },
  {
   "cell_type": "code",
   "execution_count": 16,
   "id": "e35e7815",
   "metadata": {
    "execution": {
     "iopub.execute_input": "2023-02-04T08:02:19.987485Z",
     "iopub.status.busy": "2023-02-04T08:02:19.987003Z",
     "iopub.status.idle": "2023-02-04T08:02:20.007357Z",
     "shell.execute_reply": "2023-02-04T08:02:20.006741Z"
    }
   },
   "outputs": [],
   "source": [
    "product = pcr( fp_prom, rp_gene, result)"
   ]
  },
  {
   "cell_type": "markdown",
   "id": "c880fcb8",
   "metadata": {},
   "source": [
    "A correct clone should give this size in base pairs:"
   ]
  },
  {
   "cell_type": "code",
   "execution_count": 17,
   "id": "467b59d2",
   "metadata": {
    "execution": {
     "iopub.execute_input": "2023-02-04T08:02:20.010021Z",
     "iopub.status.busy": "2023-02-04T08:02:20.009797Z",
     "iopub.status.idle": "2023-02-04T08:02:20.012973Z",
     "shell.execute_reply": "2023-02-04T08:02:20.012410Z"
    }
   },
   "outputs": [
    {
     "name": "stdout",
     "output_type": "stream",
     "text": [
      "934\n"
     ]
    }
   ],
   "source": [
    "print(len(product))"
   ]
  },
  {
   "cell_type": "markdown",
   "id": "898f4346",
   "metadata": {},
   "source": [
    "If the promoter is missing from the assembly, the PCR product will have this size in base pairs:"
   ]
  },
  {
   "cell_type": "code",
   "execution_count": 18,
   "id": "aaf941fa",
   "metadata": {
    "execution": {
     "iopub.execute_input": "2023-02-04T08:02:20.015539Z",
     "iopub.status.busy": "2023-02-04T08:02:20.015213Z",
     "iopub.status.idle": "2023-02-04T08:02:20.019634Z",
     "shell.execute_reply": "2023-02-04T08:02:20.018399Z"
    }
   },
   "outputs": [
    {
     "name": "stdout",
     "output_type": "stream",
     "text": [
      "276\n"
     ]
    }
   ],
   "source": [
    "print(len(product) - len(prom))"
   ]
  },
  {
   "cell_type": "markdown",
   "id": "2e7cdf98",
   "metadata": {},
   "source": [
    "If the gene is missing from the assembly, the PCR product will have this size in base pairs:"
   ]
  },
  {
   "cell_type": "code",
   "execution_count": 19,
   "id": "00faed42",
   "metadata": {
    "execution": {
     "iopub.execute_input": "2023-02-04T08:02:20.022422Z",
     "iopub.status.busy": "2023-02-04T08:02:20.022169Z",
     "iopub.status.idle": "2023-02-04T08:02:20.025673Z",
     "shell.execute_reply": "2023-02-04T08:02:20.025118Z"
    }
   },
   "outputs": [
    {
     "name": "stdout",
     "output_type": "stream",
     "text": [
      "608\n"
     ]
    }
   ],
   "source": [
    "print(len(product) - len(gene))"
   ]
  },
  {
   "cell_type": "markdown",
   "id": "4203ed92",
   "metadata": {},
   "source": [
    "PCR using standard primers 468 and 578 to amplify gene and terminator."
   ]
  },
  {
   "cell_type": "code",
   "execution_count": 20,
   "id": "8ee70f32",
   "metadata": {
    "execution": {
     "iopub.execute_input": "2023-02-04T08:02:20.028278Z",
     "iopub.status.busy": "2023-02-04T08:02:20.027853Z",
     "iopub.status.idle": "2023-02-04T08:02:20.046911Z",
     "shell.execute_reply": "2023-02-04T08:02:20.046300Z"
    }
   },
   "outputs": [],
   "source": [
    "product2 = pcr( fp_gene, rp_term, result)"
   ]
  },
  {
   "cell_type": "markdown",
   "id": "351b545a",
   "metadata": {},
   "source": [
    "A correct clone should give this size:"
   ]
  },
  {
   "cell_type": "code",
   "execution_count": 21,
   "id": "1bbde990",
   "metadata": {
    "execution": {
     "iopub.execute_input": "2023-02-04T08:02:20.049563Z",
     "iopub.status.busy": "2023-02-04T08:02:20.049310Z",
     "iopub.status.idle": "2023-02-04T08:02:20.053789Z",
     "shell.execute_reply": "2023-02-04T08:02:20.052880Z"
    }
   },
   "outputs": [
    {
     "name": "stdout",
     "output_type": "stream",
     "text": [
      "1327\n"
     ]
    }
   ],
   "source": [
    "print(len(product2))"
   ]
  },
  {
   "cell_type": "markdown",
   "id": "8d9907c5",
   "metadata": {},
   "source": [
    "If the gene is missing from the assembly, the PCR product will have this size in base pairs:"
   ]
  },
  {
   "cell_type": "code",
   "execution_count": 22,
   "id": "c6c6becc",
   "metadata": {
    "execution": {
     "iopub.execute_input": "2023-02-04T08:02:20.058090Z",
     "iopub.status.busy": "2023-02-04T08:02:20.057562Z",
     "iopub.status.idle": "2023-02-04T08:02:20.061369Z",
     "shell.execute_reply": "2023-02-04T08:02:20.060608Z"
    }
   },
   "outputs": [
    {
     "name": "stdout",
     "output_type": "stream",
     "text": [
      "1001\n"
     ]
    }
   ],
   "source": [
    "print(len(product2) - len(gene))"
   ]
  },
  {
   "cell_type": "markdown",
   "id": "473130c3",
   "metadata": {},
   "source": [
    "If the terminator is missing from the assembly, the PCR product will have this size in base pairs:"
   ]
  },
  {
   "cell_type": "code",
   "execution_count": 23,
   "id": "9eb84df9",
   "metadata": {
    "execution": {
     "iopub.execute_input": "2023-02-04T08:02:20.064160Z",
     "iopub.status.busy": "2023-02-04T08:02:20.063923Z",
     "iopub.status.idle": "2023-02-04T08:02:20.069008Z",
     "shell.execute_reply": "2023-02-04T08:02:20.066861Z"
    }
   },
   "outputs": [
    {
     "name": "stdout",
     "output_type": "stream",
     "text": [
      "289\n"
     ]
    }
   ],
   "source": [
    "print(len(product2) - len(term))"
   ]
  },
  {
   "cell_type": "markdown",
   "id": "aa247177",
   "metadata": {},
   "source": [
    "The cseguid checksum for the resulting plasmid is calculated for future reference.\n",
    "The [cseguid checksum](http://pydna.readthedocs.org/en/latest/pydna.html#pydna.utils.cseguid)\n",
    "uniquely identifies a circular double stranded sequence."
   ]
  },
  {
   "cell_type": "code",
   "execution_count": 24,
   "id": "af490403",
   "metadata": {
    "execution": {
     "iopub.execute_input": "2023-02-04T08:02:20.072772Z",
     "iopub.status.busy": "2023-02-04T08:02:20.072316Z",
     "iopub.status.idle": "2023-02-04T08:02:20.080919Z",
     "shell.execute_reply": "2023-02-04T08:02:20.080207Z"
    }
   },
   "outputs": [
    {
     "name": "stdout",
     "output_type": "stream",
     "text": [
      "YBYJG2qluycIJ-5n_OP9aO8I0So\n"
     ]
    }
   ],
   "source": [
    "print(result.cseguid())"
   ]
  },
  {
   "cell_type": "markdown",
   "id": "d49b8ff9",
   "metadata": {},
   "source": [
    "The file name is based on the promoter, gene and terminator designations."
   ]
  },
  {
   "cell_type": "code",
   "execution_count": 25,
   "id": "285bb855",
   "metadata": {
    "execution": {
     "iopub.execute_input": "2023-02-04T08:02:20.084451Z",
     "iopub.status.busy": "2023-02-04T08:02:20.084038Z",
     "iopub.status.idle": "2023-02-04T08:02:20.088008Z",
     "shell.execute_reply": "2023-02-04T08:02:20.087391Z"
    }
   },
   "outputs": [],
   "source": [
    "result.locus = f\"tu:{gene.name}\"[:16]\n",
    "result.definition = \"pYPK0_RPL22A_EcacpP_TDH3\""
   ]
  },
  {
   "cell_type": "markdown",
   "id": "d868d4be",
   "metadata": {},
   "source": [
    "Sequence is stamped with cseguid checksum. This can be used to verify the\n",
    "integrity of the sequence file."
   ]
  },
  {
   "cell_type": "code",
   "execution_count": 26,
   "id": "9013f36d",
   "metadata": {
    "execution": {
     "iopub.execute_input": "2023-02-04T08:02:20.090949Z",
     "iopub.status.busy": "2023-02-04T08:02:20.090536Z",
     "iopub.status.idle": "2023-02-04T08:02:20.100686Z",
     "shell.execute_reply": "2023-02-04T08:02:20.100078Z"
    }
   },
   "outputs": [
    {
     "data": {
      "text/plain": [
       "YBYJG2qluycIJ-5n_OP9aO8I0So"
      ]
     },
     "execution_count": 26,
     "metadata": {},
     "output_type": "execute_result"
    }
   ],
   "source": [
    "result.stamp(\"cSEGUID\")"
   ]
  },
  {
   "cell_type": "markdown",
   "id": "f03787cf",
   "metadata": {},
   "source": [
    "Write sequence to a local file."
   ]
  },
  {
   "cell_type": "code",
   "execution_count": 27,
   "id": "d2fef76e",
   "metadata": {
    "execution": {
     "iopub.execute_input": "2023-02-04T08:02:20.104665Z",
     "iopub.status.busy": "2023-02-04T08:02:20.104074Z",
     "iopub.status.idle": "2023-02-04T08:02:20.110511Z",
     "shell.execute_reply": "2023-02-04T08:02:20.109959Z"
    }
   },
   "outputs": [
    {
     "data": {
      "text/html": [
       "<font face=monospace><a href='pYPK0_RPL22A_EcacpP_TDH3.gb' target='_blank'>pYPK0_RPL22A_EcacpP_TDH3.gb</a></font><br>"
      ]
     },
     "metadata": {},
     "output_type": "display_data"
    }
   ],
   "source": [
    "result.write(f\"{result.definition}.gb\")"
   ]
  },
  {
   "cell_type": "markdown",
   "id": "17dd18e7",
   "metadata": {
    "lines_to_next_cell": 0
   },
   "source": [
    "### Suggested PCR programs\n",
    "\n",
    "For the [amplification](#PCR) of promoter, gene and terminator."
   ]
  },
  {
   "cell_type": "code",
   "execution_count": 28,
   "id": "9f776cc1",
   "metadata": {
    "execution": {
     "iopub.execute_input": "2023-02-04T08:02:20.113155Z",
     "iopub.status.busy": "2023-02-04T08:02:20.112950Z",
     "iopub.status.idle": "2023-02-04T08:02:20.117298Z",
     "shell.execute_reply": "2023-02-04T08:02:20.116573Z"
    }
   },
   "outputs": [
    {
     "name": "stdout",
     "output_type": "stream",
     "text": [
      "577_crp585-557 567_pCAPsAjiIF\n",
      "|95°C|95°C               |    |tmf:64.6\n",
      "|____|_____          72°C|72°C|tmr:69.7\n",
      "|3min|30s  \\ 55.9°C _____|____|45s/kb\n",
      "|    |      \\______/ 0:30|5min|GC 35%\n",
      "|    |       30s         |    |658bp\n"
     ]
    }
   ],
   "source": [
    "print(prom.forward_primer.name, prom.reverse_primer.name)\n",
    "print(prom.program())"
   ]
  },
  {
   "cell_type": "code",
   "execution_count": 29,
   "id": "3ceaa36f",
   "metadata": {
    "execution": {
     "iopub.execute_input": "2023-02-04T08:02:20.121044Z",
     "iopub.status.busy": "2023-02-04T08:02:20.120744Z",
     "iopub.status.idle": "2023-02-04T08:02:20.125807Z",
     "shell.execute_reply": "2023-02-04T08:02:20.125049Z"
    }
   },
   "outputs": [
    {
     "name": "stdout",
     "output_type": "stream",
     "text": [
      "468_pCAPs_release_fw 467_pCAPs_release_re\n",
      "|95°C|95°C               |    |tmf:76.9\n",
      "|____|_____          72°C|72°C|tmr:67.9\n",
      "|3min|30s  \\ 60.0°C _____|____|45s/kb\n",
      "|    |      \\______/ 0:30|5min|GC 49%\n",
      "|    |       30s         |    |326bp\n"
     ]
    }
   ],
   "source": [
    "print(gene.forward_primer.name, gene.reverse_primer.name)\n",
    "print(gene.program())"
   ]
  },
  {
   "cell_type": "code",
   "execution_count": 30,
   "id": "7964d6e8",
   "metadata": {
    "execution": {
     "iopub.execute_input": "2023-02-04T08:02:20.129255Z",
     "iopub.status.busy": "2023-02-04T08:02:20.128951Z",
     "iopub.status.idle": "2023-02-04T08:02:20.134101Z",
     "shell.execute_reply": "2023-02-04T08:02:20.133333Z"
    }
   },
   "outputs": [
    {
     "name": "stdout",
     "output_type": "stream",
     "text": [
      "568_pCAPsAjiIR 578_crp42-70\n",
      "|95°C|95°C               |    |tmf:66.1\n",
      "|____|_____          72°C|72°C|tmr:65.0\n",
      "|3min|30s  \\ 57.1°C _____|____|45s/kb\n",
      "|    |      \\______/ 0:46|5min|GC 38%\n",
      "|    |       30s         |    |1038bp\n"
     ]
    }
   ],
   "source": [
    "print(term.forward_primer.name, term.reverse_primer.name)\n",
    "print(term.program())"
   ]
  }
 ],
 "metadata": {
  "jupytext": {
   "main_language": "python",
   "text_representation": {
    "extension": ".py",
    "format_name": "percent",
    "format_version": "1.3",
    "jupytext_version": "1.14.0"
   }
  },
  "language_info": {
   "codemirror_mode": {
    "name": "ipython",
    "version": 3
   },
   "file_extension": ".py",
   "mimetype": "text/x-python",
   "name": "python",
   "nbconvert_exporter": "python",
   "pygments_lexer": "ipython3",
   "version": "3.11.0"
  }
 },
 "nbformat": 4,
 "nbformat_minor": 5
}
