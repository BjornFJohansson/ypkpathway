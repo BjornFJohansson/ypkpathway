{
 "cells": [
  {
   "cell_type": "markdown",
   "id": "890cca3c",
   "metadata": {},
   "source": [
    "# [![logo](logo.png)](https://github.com/BjornFJohansson/ypkpathway#-ypkpathway) pYPK0_PMP3_EcfabZ_ENO2\n",
    "\n",
    "Assembly of a [_Saccharomyces cerevisiae_](http://www.yeastgenome.org) transcriptional unit vector.\n",
    "\n",
    "Made from a linear vector fragment and three PCR products:\n",
    "\n",
    "- a linearized pYPK0 vector for maintenance in _S. cerevisiae_ or _E. coli_ (red dashed line in figure below)\n",
    "- a promoter PCR product from the `pYPKa_Z_PMP3` vector\n",
    "- a gene PCR product from the `pYPKa_A_EcfabZ` vector\n",
    "- a terminator PCR product from the `pYPKa_E_ENO2` vector\n",
    "\n",
    "The four linear DNA fragments are joined by _in-vivo_ homologous recombination in a\n",
    "[_Saccharomyces cerevisiae_](http://wiki.yeastgenome.org/index.php/Commonly_used_strains) strain.\n",
    "\n",
    "![tu](tu.png \"tu\")\n",
    "\n",
    "A part of the [pydna](https://pypi.python.org/pypi/pydna/) package is imported in the code cell below."
   ]
  },
  {
   "cell_type": "code",
   "execution_count": 1,
   "id": "34fb2e87",
   "metadata": {
    "execution": {
     "iopub.execute_input": "2023-02-04T07:22:58.422245Z",
     "iopub.status.busy": "2023-02-04T07:22:58.421897Z",
     "iopub.status.idle": "2023-02-04T07:22:58.768100Z",
     "shell.execute_reply": "2023-02-04T07:22:58.767464Z"
    }
   },
   "outputs": [],
   "source": [
    "from pydna.parsers import parse_primers\n",
    "from pydna.readers import read\n",
    "from pydna.amplify import pcr\n",
    "from pydna.assembly import Assembly"
   ]
  },
  {
   "cell_type": "markdown",
   "id": "82ead677",
   "metadata": {},
   "source": [
    "The Yeast Pathway Kit [standard primers](standard_primers.fasta) are read into a dictionary in the code cell below."
   ]
  },
  {
   "cell_type": "code",
   "execution_count": 2,
   "id": "2988936f",
   "metadata": {
    "execution": {
     "iopub.execute_input": "2023-02-04T07:22:58.771810Z",
     "iopub.status.busy": "2023-02-04T07:22:58.771055Z",
     "iopub.status.idle": "2023-02-04T07:22:58.784600Z",
     "shell.execute_reply": "2023-02-04T07:22:58.784011Z"
    }
   },
   "outputs": [],
   "source": [
    "p = {x.name: x for x in parse_primers(\"standard_primers.fasta\")}"
   ]
  },
  {
   "cell_type": "markdown",
   "id": "3719cc46",
   "metadata": {},
   "source": [
    "The backbone vector [pYPK0](pYPK0.gb) is read from a local file in the code cell below."
   ]
  },
  {
   "cell_type": "code",
   "execution_count": 3,
   "id": "28784e79",
   "metadata": {
    "execution": {
     "iopub.execute_input": "2023-02-04T07:22:58.787397Z",
     "iopub.status.busy": "2023-02-04T07:22:58.787190Z",
     "iopub.status.idle": "2023-02-04T07:22:58.799023Z",
     "shell.execute_reply": "2023-02-04T07:22:58.798200Z"
    }
   },
   "outputs": [],
   "source": [
    "backbone = read(\"pYPK0.gb\")"
   ]
  },
  {
   "cell_type": "markdown",
   "id": "59e27dc7",
   "metadata": {},
   "source": [
    "The backbone vector is linearized by digestion with [MfeI](https://www.google.com/search?q=MfeI)."
   ]
  },
  {
   "cell_type": "code",
   "execution_count": 4,
   "id": "56def53c",
   "metadata": {
    "execution": {
     "iopub.execute_input": "2023-02-04T07:22:58.803136Z",
     "iopub.status.busy": "2023-02-04T07:22:58.802746Z",
     "iopub.status.idle": "2023-02-04T07:22:58.807131Z",
     "shell.execute_reply": "2023-02-04T07:22:58.806225Z"
    }
   },
   "outputs": [],
   "source": [
    "from Bio.Restriction import MfeI"
   ]
  },
  {
   "cell_type": "code",
   "execution_count": 5,
   "id": "27fb886d",
   "metadata": {
    "execution": {
     "iopub.execute_input": "2023-02-04T07:22:58.810218Z",
     "iopub.status.busy": "2023-02-04T07:22:58.809939Z",
     "iopub.status.idle": "2023-02-04T07:22:58.818774Z",
     "shell.execute_reply": "2023-02-04T07:22:58.817808Z"
    }
   },
   "outputs": [],
   "source": [
    "linear_backbone = backbone.linearize(MfeI)"
   ]
  },
  {
   "cell_type": "markdown",
   "id": "1223f757",
   "metadata": {},
   "source": [
    "The pYPKa derived _E. coli_ plasmids containing\n",
    "- [promoter](pYPKa_Z_PMP3.gb)\n",
    "- [gene](pYPKa_A_EcfabZ.gb)\n",
    "- [terminator](pYPKa_E_ENO2.gb)\n",
    "\n",
    "are read into three variables below."
   ]
  },
  {
   "cell_type": "code",
   "execution_count": 6,
   "id": "ec6daf0b",
   "metadata": {
    "execution": {
     "iopub.execute_input": "2023-02-04T07:22:58.822089Z",
     "iopub.status.busy": "2023-02-04T07:22:58.821673Z",
     "iopub.status.idle": "2023-02-04T07:22:58.839793Z",
     "shell.execute_reply": "2023-02-04T07:22:58.839185Z"
    }
   },
   "outputs": [],
   "source": [
    "promoter_template   = read(\"pYPKa_Z_PMP3.gb\")\n",
    "gene_template       = read(\"pYPKa_A_EcfabZ.gb\")\n",
    "terminator_template = read(\"pYPKa_E_ENO2.gb\")"
   ]
  },
  {
   "cell_type": "markdown",
   "id": "23a897de",
   "metadata": {
    "lines_to_next_cell": 0
   },
   "source": [
    "### PCR\n",
    "Three DNA fragments are PCR amplified using [standard primers](standard_primers.fasta).\n",
    "\n",
    "[Suggested PCR programs](#Suggested-PCR-programs) can be found at the end of this document."
   ]
  },
  {
   "cell_type": "code",
   "execution_count": 7,
   "id": "9e2a2ede",
   "metadata": {
    "execution": {
     "iopub.execute_input": "2023-02-04T07:22:58.842801Z",
     "iopub.status.busy": "2023-02-04T07:22:58.842549Z",
     "iopub.status.idle": "2023-02-04T07:22:58.846303Z",
     "shell.execute_reply": "2023-02-04T07:22:58.845684Z"
    }
   },
   "outputs": [],
   "source": [
    "\n",
    "fp_prom = p['577_crp585-557']\n",
    "rp_prom = p['567_pCAPsAjiIF']\n",
    "fp_gene = p['468_pCAPs_release_fw']\n",
    "rp_gene = p['467_pCAPs_release_re']\n",
    "fp_term = p['568_pCAPsAjiIR']\n",
    "rp_term = p['578_crp42-70']"
   ]
  },
  {
   "cell_type": "code",
   "execution_count": 8,
   "id": "797614cc",
   "metadata": {
    "execution": {
     "iopub.execute_input": "2023-02-04T07:22:58.849201Z",
     "iopub.status.busy": "2023-02-04T07:22:58.848952Z",
     "iopub.status.idle": "2023-02-04T07:22:58.875007Z",
     "shell.execute_reply": "2023-02-04T07:22:58.874452Z"
    }
   },
   "outputs": [],
   "source": [
    "prom = pcr(fp_prom, rp_prom, promoter_template)\n",
    "gene = pcr(fp_gene, rp_gene, gene_template)\n",
    "term = pcr(fp_term, rp_term, terminator_template)"
   ]
  },
  {
   "cell_type": "code",
   "execution_count": 9,
   "id": "e08e8c51",
   "metadata": {
    "execution": {
     "iopub.execute_input": "2023-02-04T07:22:58.877563Z",
     "iopub.status.busy": "2023-02-04T07:22:58.877357Z",
     "iopub.status.idle": "2023-02-04T07:22:58.880307Z",
     "shell.execute_reply": "2023-02-04T07:22:58.879795Z"
    }
   },
   "outputs": [],
   "source": [
    "prom.name = \"pYPKa_Z_PMP3\"[8:]\n",
    "gene.name = \"pYPKa_A_EcfabZ\"[8:]\n",
    "term.name = \"pYPKa_E_ENO2\"[8:]"
   ]
  },
  {
   "cell_type": "markdown",
   "id": "3f996e44",
   "metadata": {},
   "source": [
    "\n",
    "The fragments will be assembled by _in-vivo_ [homologous recombination](http://www.ncbi.nlm.nih.gov/pubmed/2828185):"
   ]
  },
  {
   "cell_type": "code",
   "execution_count": 10,
   "id": "ff68bdab",
   "metadata": {
    "execution": {
     "iopub.execute_input": "2023-02-04T07:22:58.882699Z",
     "iopub.status.busy": "2023-02-04T07:22:58.882483Z",
     "iopub.status.idle": "2023-02-04T07:22:59.280858Z",
     "shell.execute_reply": "2023-02-04T07:22:59.280348Z"
    }
   },
   "outputs": [
    {
     "data": {
      "text/plain": [
       "Assembly\n",
       "fragments..: 5766bp 988bp 545bp 860bp\n",
       "limit(bp)..: 31\n",
       "G.nodes....: 10\n",
       "algorithm..: common_sub_strings"
      ]
     },
     "execution_count": 10,
     "metadata": {},
     "output_type": "execute_result"
    }
   ],
   "source": [
    "asm = Assembly((linear_backbone, prom, gene, term), limit=31)\n",
    "asm"
   ]
  },
  {
   "cell_type": "markdown",
   "id": "0a5ad14d",
   "metadata": {},
   "source": [
    "The Assembly object above should normally indicate four fragments and eight nodes."
   ]
  },
  {
   "cell_type": "code",
   "execution_count": 11,
   "id": "2ce40ab9",
   "metadata": {
    "execution": {
     "iopub.execute_input": "2023-02-04T07:22:59.284000Z",
     "iopub.status.busy": "2023-02-04T07:22:59.283558Z",
     "iopub.status.idle": "2023-02-04T07:22:59.506802Z",
     "shell.execute_reply": "2023-02-04T07:22:59.506179Z"
    },
    "lines_to_next_cell": 0
   },
   "outputs": [
    {
     "data": {
      "text/plain": [
       "[Contig(o7524), Contig(o7524), Contig(o7524), Contig(o6754), Contig(o6754)]"
      ]
     },
     "execution_count": 11,
     "metadata": {},
     "output_type": "execute_result"
    }
   ],
   "source": [
    "candidates = asm.assemble_circular()\n",
    "candidates"
   ]
  },
  {
   "cell_type": "markdown",
   "id": "704197d0",
   "metadata": {},
   "source": [
    "There should normally be two candidates of equal size. These sequences should be identical."
   ]
  },
  {
   "cell_type": "code",
   "execution_count": 12,
   "id": "96bfaa68",
   "metadata": {
    "execution": {
     "iopub.execute_input": "2023-02-04T07:22:59.509703Z",
     "iopub.status.busy": "2023-02-04T07:22:59.509461Z",
     "iopub.status.idle": "2023-02-04T07:22:59.512291Z",
     "shell.execute_reply": "2023-02-04T07:22:59.511768Z"
    },
    "lines_to_next_cell": 0
   },
   "outputs": [],
   "source": [
    "candidate, *rest = candidates"
   ]
  },
  {
   "cell_type": "code",
   "execution_count": 13,
   "id": "e31db044",
   "metadata": {
    "execution": {
     "iopub.execute_input": "2023-02-04T07:22:59.517656Z",
     "iopub.status.busy": "2023-02-04T07:22:59.517228Z",
     "iopub.status.idle": "2023-02-04T07:22:59.534649Z",
     "shell.execute_reply": "2023-02-04T07:22:59.533808Z"
    },
    "lines_to_next_cell": 0
   },
   "outputs": [
    {
     "data": {
      "text/plain": [
       "True"
      ]
     },
     "execution_count": 13,
     "metadata": {},
     "output_type": "execute_result"
    }
   ],
   "source": [
    "candidate.cseguid() == rest[0].cseguid()"
   ]
  },
  {
   "cell_type": "code",
   "execution_count": 14,
   "id": "6592c729",
   "metadata": {
    "execution": {
     "iopub.execute_input": "2023-02-04T07:22:59.537281Z",
     "iopub.status.busy": "2023-02-04T07:22:59.536840Z",
     "iopub.status.idle": "2023-02-04T07:22:59.541101Z",
     "shell.execute_reply": "2023-02-04T07:22:59.540463Z"
    },
    "lines_to_next_cell": 0
   },
   "outputs": [
    {
     "data": {
      "text/plain": [
       " -|pYPK0_lin|168\n",
       "|            \\/\n",
       "|            /\\\n",
       "|            168|PMP3|48\n",
       "|                     \\/\n",
       "|                     /\\\n",
       "|                     48|EcfabZ|37\n",
       "|                               \\/\n",
       "|                               /\\\n",
       "|                               37|ENO2|276\n",
       "|                                       \\/\n",
       "|                                       /\\\n",
       "|                                       276-\n",
       "|                                          |\n",
       " ------------------------------------------"
      ]
     },
     "execution_count": 14,
     "metadata": {},
     "output_type": "execute_result"
    }
   ],
   "source": [
    "candidate.figure()"
   ]
  },
  {
   "cell_type": "markdown",
   "id": "6bb80adb",
   "metadata": {},
   "source": [
    "The candidate vector is synchronized to the 577 primer. This means that\n",
    "the plasmid origin is shifted so that it matches the backbone vector."
   ]
  },
  {
   "cell_type": "code",
   "execution_count": 15,
   "id": "5152fa3a",
   "metadata": {
    "execution": {
     "iopub.execute_input": "2023-02-04T07:22:59.543747Z",
     "iopub.status.busy": "2023-02-04T07:22:59.543436Z",
     "iopub.status.idle": "2023-02-04T07:22:59.837230Z",
     "shell.execute_reply": "2023-02-04T07:22:59.836658Z"
    }
   },
   "outputs": [],
   "source": [
    "result = candidate.synced(fp_prom)"
   ]
  },
  {
   "cell_type": "markdown",
   "id": "4aa27658",
   "metadata": {},
   "source": [
    "### Diagnostic PCR confirmation\n",
    "\n",
    "The structure of the final vector is confirmed by two\n",
    "separate PCR reactions, one for the promoter and gene and\n",
    "one for the gene and terminator.\n",
    "\n",
    "PCR using standard primers 577 and 467 to amplify promoter and gene."
   ]
  },
  {
   "cell_type": "code",
   "execution_count": 16,
   "id": "a0372a8a",
   "metadata": {
    "execution": {
     "iopub.execute_input": "2023-02-04T07:22:59.840414Z",
     "iopub.status.busy": "2023-02-04T07:22:59.839898Z",
     "iopub.status.idle": "2023-02-04T07:22:59.858634Z",
     "shell.execute_reply": "2023-02-04T07:22:59.858063Z"
    }
   },
   "outputs": [],
   "source": [
    "product = pcr( fp_prom, rp_gene, result)"
   ]
  },
  {
   "cell_type": "markdown",
   "id": "fde127cf",
   "metadata": {},
   "source": [
    "A correct clone should give this size in base pairs:"
   ]
  },
  {
   "cell_type": "code",
   "execution_count": 17,
   "id": "28c86135",
   "metadata": {
    "execution": {
     "iopub.execute_input": "2023-02-04T07:22:59.861421Z",
     "iopub.status.busy": "2023-02-04T07:22:59.861158Z",
     "iopub.status.idle": "2023-02-04T07:22:59.864335Z",
     "shell.execute_reply": "2023-02-04T07:22:59.863779Z"
    }
   },
   "outputs": [
    {
     "name": "stdout",
     "output_type": "stream",
     "text": [
      "1483\n"
     ]
    }
   ],
   "source": [
    "print(len(product))"
   ]
  },
  {
   "cell_type": "markdown",
   "id": "7df43a1d",
   "metadata": {},
   "source": [
    "If the promoter is missing from the assembly, the PCR product will have this size in base pairs:"
   ]
  },
  {
   "cell_type": "code",
   "execution_count": 18,
   "id": "3cf79903",
   "metadata": {
    "execution": {
     "iopub.execute_input": "2023-02-04T07:22:59.867591Z",
     "iopub.status.busy": "2023-02-04T07:22:59.867245Z",
     "iopub.status.idle": "2023-02-04T07:22:59.871984Z",
     "shell.execute_reply": "2023-02-04T07:22:59.871189Z"
    }
   },
   "outputs": [
    {
     "name": "stdout",
     "output_type": "stream",
     "text": [
      "495\n"
     ]
    }
   ],
   "source": [
    "print(len(product) - len(prom))"
   ]
  },
  {
   "cell_type": "markdown",
   "id": "633e889a",
   "metadata": {},
   "source": [
    "If the gene is missing from the assembly, the PCR product will have this size in base pairs:"
   ]
  },
  {
   "cell_type": "code",
   "execution_count": 19,
   "id": "b0f0ca91",
   "metadata": {
    "execution": {
     "iopub.execute_input": "2023-02-04T07:22:59.875721Z",
     "iopub.status.busy": "2023-02-04T07:22:59.875433Z",
     "iopub.status.idle": "2023-02-04T07:22:59.879972Z",
     "shell.execute_reply": "2023-02-04T07:22:59.879139Z"
    }
   },
   "outputs": [
    {
     "name": "stdout",
     "output_type": "stream",
     "text": [
      "938\n"
     ]
    }
   ],
   "source": [
    "print(len(product) - len(gene))"
   ]
  },
  {
   "cell_type": "markdown",
   "id": "fe408c0a",
   "metadata": {},
   "source": [
    "PCR using standard primers 468 and 578 to amplify gene and terminator."
   ]
  },
  {
   "cell_type": "code",
   "execution_count": 20,
   "id": "afa8483d",
   "metadata": {
    "execution": {
     "iopub.execute_input": "2023-02-04T07:22:59.883899Z",
     "iopub.status.busy": "2023-02-04T07:22:59.883520Z",
     "iopub.status.idle": "2023-02-04T07:22:59.906347Z",
     "shell.execute_reply": "2023-02-04T07:22:59.905817Z"
    }
   },
   "outputs": [],
   "source": [
    "product2 = pcr( fp_gene, rp_term, result)"
   ]
  },
  {
   "cell_type": "markdown",
   "id": "8f7f6f08",
   "metadata": {},
   "source": [
    "A correct clone should give this size:"
   ]
  },
  {
   "cell_type": "code",
   "execution_count": 21,
   "id": "484a9774",
   "metadata": {
    "execution": {
     "iopub.execute_input": "2023-02-04T07:22:59.908969Z",
     "iopub.status.busy": "2023-02-04T07:22:59.908769Z",
     "iopub.status.idle": "2023-02-04T07:22:59.912069Z",
     "shell.execute_reply": "2023-02-04T07:22:59.911484Z"
    }
   },
   "outputs": [
    {
     "name": "stdout",
     "output_type": "stream",
     "text": [
      "1368\n"
     ]
    }
   ],
   "source": [
    "print(len(product2))"
   ]
  },
  {
   "cell_type": "markdown",
   "id": "4a5a0149",
   "metadata": {},
   "source": [
    "If the gene is missing from the assembly, the PCR product will have this size in base pairs:"
   ]
  },
  {
   "cell_type": "code",
   "execution_count": 22,
   "id": "2133f8bf",
   "metadata": {
    "execution": {
     "iopub.execute_input": "2023-02-04T07:22:59.915350Z",
     "iopub.status.busy": "2023-02-04T07:22:59.914606Z",
     "iopub.status.idle": "2023-02-04T07:22:59.920404Z",
     "shell.execute_reply": "2023-02-04T07:22:59.919619Z"
    }
   },
   "outputs": [
    {
     "name": "stdout",
     "output_type": "stream",
     "text": [
      "823\n"
     ]
    }
   ],
   "source": [
    "print(len(product2) - len(gene))"
   ]
  },
  {
   "cell_type": "markdown",
   "id": "a9311ea5",
   "metadata": {},
   "source": [
    "If the terminator is missing from the assembly, the PCR product will have this size in base pairs:"
   ]
  },
  {
   "cell_type": "code",
   "execution_count": 23,
   "id": "3e87c23a",
   "metadata": {
    "execution": {
     "iopub.execute_input": "2023-02-04T07:22:59.924042Z",
     "iopub.status.busy": "2023-02-04T07:22:59.923463Z",
     "iopub.status.idle": "2023-02-04T07:22:59.927852Z",
     "shell.execute_reply": "2023-02-04T07:22:59.926965Z"
    }
   },
   "outputs": [
    {
     "name": "stdout",
     "output_type": "stream",
     "text": [
      "508\n"
     ]
    }
   ],
   "source": [
    "print(len(product2) - len(term))"
   ]
  },
  {
   "cell_type": "markdown",
   "id": "1592714f",
   "metadata": {},
   "source": [
    "The cseguid checksum for the resulting plasmid is calculated for future reference.\n",
    "The [cseguid checksum](http://pydna.readthedocs.org/en/latest/pydna.html#pydna.utils.cseguid)\n",
    "uniquely identifies a circular double stranded sequence."
   ]
  },
  {
   "cell_type": "code",
   "execution_count": 24,
   "id": "0d562f2e",
   "metadata": {
    "execution": {
     "iopub.execute_input": "2023-02-04T07:22:59.931303Z",
     "iopub.status.busy": "2023-02-04T07:22:59.931019Z",
     "iopub.status.idle": "2023-02-04T07:22:59.942510Z",
     "shell.execute_reply": "2023-02-04T07:22:59.941601Z"
    }
   },
   "outputs": [
    {
     "name": "stdout",
     "output_type": "stream",
     "text": [
      "35I_zpHOHAZSNcMST9YXGDaL7Ko\n"
     ]
    }
   ],
   "source": [
    "print(result.cseguid())"
   ]
  },
  {
   "cell_type": "markdown",
   "id": "67277273",
   "metadata": {},
   "source": [
    "The file name is based on the promoter, gene and terminator designations."
   ]
  },
  {
   "cell_type": "code",
   "execution_count": 25,
   "id": "aaf40d51",
   "metadata": {
    "execution": {
     "iopub.execute_input": "2023-02-04T07:22:59.946269Z",
     "iopub.status.busy": "2023-02-04T07:22:59.945565Z",
     "iopub.status.idle": "2023-02-04T07:22:59.949276Z",
     "shell.execute_reply": "2023-02-04T07:22:59.948655Z"
    }
   },
   "outputs": [],
   "source": [
    "result.locus = f\"tu:{gene.name}\"[:16]\n",
    "result.definition = \"pYPK0_PMP3_EcfabZ_ENO2\""
   ]
  },
  {
   "cell_type": "markdown",
   "id": "797c36c0",
   "metadata": {},
   "source": [
    "Sequence is stamped with cseguid checksum. This can be used to verify the\n",
    "integrity of the sequence file."
   ]
  },
  {
   "cell_type": "code",
   "execution_count": 26,
   "id": "28e7751b",
   "metadata": {
    "execution": {
     "iopub.execute_input": "2023-02-04T07:22:59.953118Z",
     "iopub.status.busy": "2023-02-04T07:22:59.952641Z",
     "iopub.status.idle": "2023-02-04T07:22:59.965138Z",
     "shell.execute_reply": "2023-02-04T07:22:59.964533Z"
    }
   },
   "outputs": [
    {
     "data": {
      "text/plain": [
       "35I_zpHOHAZSNcMST9YXGDaL7Ko"
      ]
     },
     "execution_count": 26,
     "metadata": {},
     "output_type": "execute_result"
    }
   ],
   "source": [
    "result.stamp(\"cSEGUID\")"
   ]
  },
  {
   "cell_type": "markdown",
   "id": "7bdadc81",
   "metadata": {},
   "source": [
    "Write sequence to a local file."
   ]
  },
  {
   "cell_type": "code",
   "execution_count": 27,
   "id": "0b224243",
   "metadata": {
    "execution": {
     "iopub.execute_input": "2023-02-04T07:22:59.967990Z",
     "iopub.status.busy": "2023-02-04T07:22:59.967748Z",
     "iopub.status.idle": "2023-02-04T07:22:59.986612Z",
     "shell.execute_reply": "2023-02-04T07:22:59.985925Z"
    }
   },
   "outputs": [
    {
     "data": {
      "text/html": [
       "<font face=monospace><a href='pYPK0_PMP3_EcfabZ_ENO2.gb' target='_blank'>pYPK0_PMP3_EcfabZ_ENO2.gb</a></font><br>"
      ]
     },
     "metadata": {},
     "output_type": "display_data"
    }
   ],
   "source": [
    "result.write(f\"{result.definition}.gb\")"
   ]
  },
  {
   "cell_type": "markdown",
   "id": "b9d9c07a",
   "metadata": {
    "lines_to_next_cell": 0
   },
   "source": [
    "### Suggested PCR programs\n",
    "\n",
    "For the [amplification](#PCR) of promoter, gene and terminator."
   ]
  },
  {
   "cell_type": "code",
   "execution_count": 28,
   "id": "5e70a49f",
   "metadata": {
    "execution": {
     "iopub.execute_input": "2023-02-04T07:22:59.989509Z",
     "iopub.status.busy": "2023-02-04T07:22:59.989219Z",
     "iopub.status.idle": "2023-02-04T07:22:59.993909Z",
     "shell.execute_reply": "2023-02-04T07:22:59.993218Z"
    }
   },
   "outputs": [
    {
     "name": "stdout",
     "output_type": "stream",
     "text": [
      "577_crp585-557 567_pCAPsAjiIF\n",
      "|95°C|95°C               |    |tmf:64.6\n",
      "|____|_____          72°C|72°C|tmr:69.7\n",
      "|3min|30s  \\ 58.7°C _____|____|45s/kb\n",
      "|    |      \\______/ 0:44|5min|GC 44%\n",
      "|    |       30s         |    |988bp\n"
     ]
    }
   ],
   "source": [
    "print(prom.forward_primer.name, prom.reverse_primer.name)\n",
    "print(prom.program())"
   ]
  },
  {
   "cell_type": "code",
   "execution_count": 29,
   "id": "35c497a4",
   "metadata": {
    "execution": {
     "iopub.execute_input": "2023-02-04T07:22:59.996963Z",
     "iopub.status.busy": "2023-02-04T07:22:59.996694Z",
     "iopub.status.idle": "2023-02-04T07:23:00.002310Z",
     "shell.execute_reply": "2023-02-04T07:23:00.001409Z"
    }
   },
   "outputs": [
    {
     "name": "stdout",
     "output_type": "stream",
     "text": [
      "468_pCAPs_release_fw 467_pCAPs_release_re\n",
      "|95°C|95°C               |    |tmf:76.9\n",
      "|____|_____          72°C|72°C|tmr:67.9\n",
      "|3min|30s  \\ 61.1°C _____|____|45s/kb\n",
      "|    |      \\______/ 0:30|5min|GC 50%\n",
      "|    |       30s         |    |545bp\n"
     ]
    }
   ],
   "source": [
    "print(gene.forward_primer.name, gene.reverse_primer.name)\n",
    "print(gene.program())"
   ]
  },
  {
   "cell_type": "code",
   "execution_count": 30,
   "id": "561d5f33",
   "metadata": {
    "execution": {
     "iopub.execute_input": "2023-02-04T07:23:00.008280Z",
     "iopub.status.busy": "2023-02-04T07:23:00.008082Z",
     "iopub.status.idle": "2023-02-04T07:23:00.011718Z",
     "shell.execute_reply": "2023-02-04T07:23:00.011144Z"
    }
   },
   "outputs": [
    {
     "name": "stdout",
     "output_type": "stream",
     "text": [
      "568_pCAPsAjiIR 578_crp42-70\n",
      "|95°C|95°C               |    |tmf:66.1\n",
      "|____|_____          72°C|72°C|tmr:65.0\n",
      "|3min|30s  \\ 57.1°C _____|____|45s/kb\n",
      "|    |      \\______/ 0:38|5min|GC 38%\n",
      "|    |       30s         |    |860bp\n"
     ]
    }
   ],
   "source": [
    "print(term.forward_primer.name, term.reverse_primer.name)\n",
    "print(term.program())"
   ]
  }
 ],
 "metadata": {
  "jupytext": {
   "main_language": "python",
   "text_representation": {
    "extension": ".py",
    "format_name": "percent",
    "format_version": "1.3",
    "jupytext_version": "1.14.0"
   }
  },
  "language_info": {
   "codemirror_mode": {
    "name": "ipython",
    "version": 3
   },
   "file_extension": ".py",
   "mimetype": "text/x-python",
   "name": "python",
   "nbconvert_exporter": "python",
   "pygments_lexer": "ipython3",
   "version": "3.11.0"
  }
 },
 "nbformat": 4,
 "nbformat_minor": 5
}
