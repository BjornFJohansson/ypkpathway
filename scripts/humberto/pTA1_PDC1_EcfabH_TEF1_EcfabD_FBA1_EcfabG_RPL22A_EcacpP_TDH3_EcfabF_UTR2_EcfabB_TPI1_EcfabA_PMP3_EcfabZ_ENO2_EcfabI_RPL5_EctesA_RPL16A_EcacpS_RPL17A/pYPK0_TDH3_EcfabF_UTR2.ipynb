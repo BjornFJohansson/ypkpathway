{
 "cells": [
  {
   "cell_type": "markdown",
   "id": "a5b81ff5",
   "metadata": {},
   "source": [
    "# [![logo](logo.png)](https://github.com/BjornFJohansson/ypkpathway#-ypkpathway) pYPK0_TDH3_EcfabF_UTR2\n",
    "\n",
    "Assembly of a [_Saccharomyces cerevisiae_](http://www.yeastgenome.org) transcriptional unit vector.\n",
    "\n",
    "Made from a linear vector fragment and three PCR products:\n",
    "\n",
    "- a linearized pYPK0 vector for maintenance in _S. cerevisiae_ or _E. coli_ (red dashed line in figure below)\n",
    "- a promoter PCR product from the `pYPKa_Z_TDH3` vector\n",
    "- a gene PCR product from the `pYPKa_A_EcfabF` vector\n",
    "- a terminator PCR product from the `pYPKa_E_UTR2` vector\n",
    "\n",
    "The four linear DNA fragments are joined by _in-vivo_ homologous recombination in a\n",
    "[_Saccharomyces cerevisiae_](http://wiki.yeastgenome.org/index.php/Commonly_used_strains) strain.\n",
    "\n",
    "![tu](tu.png \"tu\")\n",
    "\n",
    "A part of the [pydna](https://pypi.python.org/pypi/pydna/) package is imported in the code cell below."
   ]
  },
  {
   "cell_type": "code",
   "execution_count": 1,
   "id": "a0a6db14",
   "metadata": {
    "execution": {
     "iopub.execute_input": "2023-02-04T07:22:49.367011Z",
     "iopub.status.busy": "2023-02-04T07:22:49.366353Z",
     "iopub.status.idle": "2023-02-04T07:22:49.715246Z",
     "shell.execute_reply": "2023-02-04T07:22:49.714554Z"
    }
   },
   "outputs": [],
   "source": [
    "from pydna.parsers import parse_primers\n",
    "from pydna.readers import read\n",
    "from pydna.amplify import pcr\n",
    "from pydna.assembly import Assembly"
   ]
  },
  {
   "cell_type": "markdown",
   "id": "5c357d2f",
   "metadata": {},
   "source": [
    "The Yeast Pathway Kit [standard primers](standard_primers.fasta) are read into a dictionary in the code cell below."
   ]
  },
  {
   "cell_type": "code",
   "execution_count": 2,
   "id": "c41d1f9f",
   "metadata": {
    "execution": {
     "iopub.execute_input": "2023-02-04T07:22:49.718711Z",
     "iopub.status.busy": "2023-02-04T07:22:49.718407Z",
     "iopub.status.idle": "2023-02-04T07:22:49.727661Z",
     "shell.execute_reply": "2023-02-04T07:22:49.727022Z"
    }
   },
   "outputs": [],
   "source": [
    "p = {x.name: x for x in parse_primers(\"standard_primers.fasta\")}"
   ]
  },
  {
   "cell_type": "markdown",
   "id": "20dc2cc9",
   "metadata": {},
   "source": [
    "The backbone vector [pYPK0](pYPK0.gb) is read from a local file in the code cell below."
   ]
  },
  {
   "cell_type": "code",
   "execution_count": 3,
   "id": "7e379b07",
   "metadata": {
    "execution": {
     "iopub.execute_input": "2023-02-04T07:22:49.730689Z",
     "iopub.status.busy": "2023-02-04T07:22:49.730413Z",
     "iopub.status.idle": "2023-02-04T07:22:49.742734Z",
     "shell.execute_reply": "2023-02-04T07:22:49.741976Z"
    }
   },
   "outputs": [],
   "source": [
    "backbone = read(\"pYPK0.gb\")"
   ]
  },
  {
   "cell_type": "markdown",
   "id": "3544606f",
   "metadata": {},
   "source": [
    "The backbone vector is linearized by digestion with [MfeI](https://www.google.com/search?q=MfeI)."
   ]
  },
  {
   "cell_type": "code",
   "execution_count": 4,
   "id": "6453dfd9",
   "metadata": {
    "execution": {
     "iopub.execute_input": "2023-02-04T07:22:49.745871Z",
     "iopub.status.busy": "2023-02-04T07:22:49.745589Z",
     "iopub.status.idle": "2023-02-04T07:22:49.748820Z",
     "shell.execute_reply": "2023-02-04T07:22:49.748278Z"
    }
   },
   "outputs": [],
   "source": [
    "from Bio.Restriction import MfeI"
   ]
  },
  {
   "cell_type": "code",
   "execution_count": 5,
   "id": "13985da1",
   "metadata": {
    "execution": {
     "iopub.execute_input": "2023-02-04T07:22:49.751769Z",
     "iopub.status.busy": "2023-02-04T07:22:49.751221Z",
     "iopub.status.idle": "2023-02-04T07:22:49.760976Z",
     "shell.execute_reply": "2023-02-04T07:22:49.760402Z"
    }
   },
   "outputs": [],
   "source": [
    "linear_backbone = backbone.linearize(MfeI)"
   ]
  },
  {
   "cell_type": "markdown",
   "id": "e6df9e78",
   "metadata": {},
   "source": [
    "The pYPKa derived _E. coli_ plasmids containing\n",
    "- [promoter](pYPKa_Z_TDH3.gb)\n",
    "- [gene](pYPKa_A_EcfabF.gb)\n",
    "- [terminator](pYPKa_E_UTR2.gb)\n",
    "\n",
    "are read into three variables below."
   ]
  },
  {
   "cell_type": "code",
   "execution_count": 6,
   "id": "c5c79c04",
   "metadata": {
    "execution": {
     "iopub.execute_input": "2023-02-04T07:22:49.763800Z",
     "iopub.status.busy": "2023-02-04T07:22:49.763573Z",
     "iopub.status.idle": "2023-02-04T07:22:49.778388Z",
     "shell.execute_reply": "2023-02-04T07:22:49.777787Z"
    }
   },
   "outputs": [],
   "source": [
    "promoter_template   = read(\"pYPKa_Z_TDH3.gb\")\n",
    "gene_template       = read(\"pYPKa_A_EcfabF.gb\")\n",
    "terminator_template = read(\"pYPKa_E_UTR2.gb\")"
   ]
  },
  {
   "cell_type": "markdown",
   "id": "08c5ee0d",
   "metadata": {
    "lines_to_next_cell": 0
   },
   "source": [
    "### PCR\n",
    "Three DNA fragments are PCR amplified using [standard primers](standard_primers.fasta).\n",
    "\n",
    "[Suggested PCR programs](#Suggested-PCR-programs) can be found at the end of this document."
   ]
  },
  {
   "cell_type": "code",
   "execution_count": 7,
   "id": "b86c2bea",
   "metadata": {
    "execution": {
     "iopub.execute_input": "2023-02-04T07:22:49.781503Z",
     "iopub.status.busy": "2023-02-04T07:22:49.781212Z",
     "iopub.status.idle": "2023-02-04T07:22:49.784980Z",
     "shell.execute_reply": "2023-02-04T07:22:49.784350Z"
    }
   },
   "outputs": [],
   "source": [
    "\n",
    "fp_prom = p['577_crp585-557']\n",
    "rp_prom = p['567_pCAPsAjiIF']\n",
    "fp_gene = p['468_pCAPs_release_fw']\n",
    "rp_gene = p['467_pCAPs_release_re']\n",
    "fp_term = p['568_pCAPsAjiIR']\n",
    "rp_term = p['578_crp42-70']"
   ]
  },
  {
   "cell_type": "code",
   "execution_count": 8,
   "id": "05f47900",
   "metadata": {
    "execution": {
     "iopub.execute_input": "2023-02-04T07:22:49.787914Z",
     "iopub.status.busy": "2023-02-04T07:22:49.787521Z",
     "iopub.status.idle": "2023-02-04T07:22:49.816796Z",
     "shell.execute_reply": "2023-02-04T07:22:49.815767Z"
    }
   },
   "outputs": [],
   "source": [
    "prom = pcr(fp_prom, rp_prom, promoter_template)\n",
    "gene = pcr(fp_gene, rp_gene, gene_template)\n",
    "term = pcr(fp_term, rp_term, terminator_template)"
   ]
  },
  {
   "cell_type": "code",
   "execution_count": 9,
   "id": "518894e3",
   "metadata": {
    "execution": {
     "iopub.execute_input": "2023-02-04T07:22:49.820492Z",
     "iopub.status.busy": "2023-02-04T07:22:49.820278Z",
     "iopub.status.idle": "2023-02-04T07:22:49.823644Z",
     "shell.execute_reply": "2023-02-04T07:22:49.823041Z"
    }
   },
   "outputs": [],
   "source": [
    "prom.name = \"pYPKa_Z_TDH3\"[8:]\n",
    "gene.name = \"pYPKa_A_EcfabF\"[8:]\n",
    "term.name = \"pYPKa_E_UTR2\"[8:]"
   ]
  },
  {
   "cell_type": "markdown",
   "id": "e35f37f0",
   "metadata": {},
   "source": [
    "\n",
    "The fragments will be assembled by _in-vivo_ [homologous recombination](http://www.ncbi.nlm.nih.gov/pubmed/2828185):"
   ]
  },
  {
   "cell_type": "code",
   "execution_count": 10,
   "id": "a47f0ad1",
   "metadata": {
    "execution": {
     "iopub.execute_input": "2023-02-04T07:22:49.826387Z",
     "iopub.status.busy": "2023-02-04T07:22:49.825960Z",
     "iopub.status.idle": "2023-02-04T07:22:50.283331Z",
     "shell.execute_reply": "2023-02-04T07:22:50.282765Z"
    }
   },
   "outputs": [
    {
     "data": {
      "text/plain": [
       "Assembly\n",
       "fragments..: 5766bp 930bp 1331bp 960bp\n",
       "limit(bp)..: 31\n",
       "G.nodes....: 10\n",
       "algorithm..: common_sub_strings"
      ]
     },
     "execution_count": 10,
     "metadata": {},
     "output_type": "execute_result"
    }
   ],
   "source": [
    "asm = Assembly((linear_backbone, prom, gene, term), limit=31)\n",
    "asm"
   ]
  },
  {
   "cell_type": "markdown",
   "id": "d17739e7",
   "metadata": {},
   "source": [
    "The Assembly object above should normally indicate four fragments and eight nodes."
   ]
  },
  {
   "cell_type": "code",
   "execution_count": 11,
   "id": "c4370a80",
   "metadata": {
    "execution": {
     "iopub.execute_input": "2023-02-04T07:22:50.286758Z",
     "iopub.status.busy": "2023-02-04T07:22:50.286237Z",
     "iopub.status.idle": "2023-02-04T07:22:50.517321Z",
     "shell.execute_reply": "2023-02-04T07:22:50.516537Z"
    },
    "lines_to_next_cell": 0
   },
   "outputs": [
    {
     "data": {
      "text/plain": [
       "[Contig(o8352), Contig(o8352), Contig(o8352), Contig(o7640), Contig(o7640)]"
      ]
     },
     "execution_count": 11,
     "metadata": {},
     "output_type": "execute_result"
    }
   ],
   "source": [
    "candidates = asm.assemble_circular()\n",
    "candidates"
   ]
  },
  {
   "cell_type": "markdown",
   "id": "204d5c5d",
   "metadata": {},
   "source": [
    "There should normally be two candidates of equal size. These sequences should be identical."
   ]
  },
  {
   "cell_type": "code",
   "execution_count": 12,
   "id": "e2e3f166",
   "metadata": {
    "execution": {
     "iopub.execute_input": "2023-02-04T07:22:50.520098Z",
     "iopub.status.busy": "2023-02-04T07:22:50.519860Z",
     "iopub.status.idle": "2023-02-04T07:22:50.523040Z",
     "shell.execute_reply": "2023-02-04T07:22:50.522104Z"
    },
    "lines_to_next_cell": 0
   },
   "outputs": [],
   "source": [
    "candidate, *rest = candidates"
   ]
  },
  {
   "cell_type": "code",
   "execution_count": 13,
   "id": "27c20989",
   "metadata": {
    "execution": {
     "iopub.execute_input": "2023-02-04T07:22:50.526921Z",
     "iopub.status.busy": "2023-02-04T07:22:50.526645Z",
     "iopub.status.idle": "2023-02-04T07:22:50.544118Z",
     "shell.execute_reply": "2023-02-04T07:22:50.543637Z"
    },
    "lines_to_next_cell": 0
   },
   "outputs": [
    {
     "data": {
      "text/plain": [
       "True"
      ]
     },
     "execution_count": 13,
     "metadata": {},
     "output_type": "execute_result"
    }
   ],
   "source": [
    "candidate.cseguid() == rest[0].cseguid()"
   ]
  },
  {
   "cell_type": "code",
   "execution_count": 14,
   "id": "044047b7",
   "metadata": {
    "execution": {
     "iopub.execute_input": "2023-02-04T07:22:50.546572Z",
     "iopub.status.busy": "2023-02-04T07:22:50.546377Z",
     "iopub.status.idle": "2023-02-04T07:22:50.551200Z",
     "shell.execute_reply": "2023-02-04T07:22:50.550334Z"
    },
    "lines_to_next_cell": 0
   },
   "outputs": [
    {
     "data": {
      "text/plain": [
       " -|pYPK0_lin|168\n",
       "|            \\/\n",
       "|            /\\\n",
       "|            168|TDH3|48\n",
       "|                     \\/\n",
       "|                     /\\\n",
       "|                     48|EcfabF|37\n",
       "|                               \\/\n",
       "|                               /\\\n",
       "|                               37|UTR2|276\n",
       "|                                       \\/\n",
       "|                                       /\\\n",
       "|                                       276-\n",
       "|                                          |\n",
       " ------------------------------------------"
      ]
     },
     "execution_count": 14,
     "metadata": {},
     "output_type": "execute_result"
    }
   ],
   "source": [
    "candidate.figure()"
   ]
  },
  {
   "cell_type": "markdown",
   "id": "c32af0fa",
   "metadata": {},
   "source": [
    "The candidate vector is synchronized to the 577 primer. This means that\n",
    "the plasmid origin is shifted so that it matches the backbone vector."
   ]
  },
  {
   "cell_type": "code",
   "execution_count": 15,
   "id": "4e833521",
   "metadata": {
    "execution": {
     "iopub.execute_input": "2023-02-04T07:22:50.554326Z",
     "iopub.status.busy": "2023-02-04T07:22:50.554035Z",
     "iopub.status.idle": "2023-02-04T07:22:50.876260Z",
     "shell.execute_reply": "2023-02-04T07:22:50.875554Z"
    }
   },
   "outputs": [],
   "source": [
    "result = candidate.synced(fp_prom)"
   ]
  },
  {
   "cell_type": "markdown",
   "id": "cd5cfb13",
   "metadata": {},
   "source": [
    "### Diagnostic PCR confirmation\n",
    "\n",
    "The structure of the final vector is confirmed by two\n",
    "separate PCR reactions, one for the promoter and gene and\n",
    "one for the gene and terminator.\n",
    "\n",
    "PCR using standard primers 577 and 467 to amplify promoter and gene."
   ]
  },
  {
   "cell_type": "code",
   "execution_count": 16,
   "id": "8a87fe7e",
   "metadata": {
    "execution": {
     "iopub.execute_input": "2023-02-04T07:22:50.879381Z",
     "iopub.status.busy": "2023-02-04T07:22:50.879116Z",
     "iopub.status.idle": "2023-02-04T07:22:50.897809Z",
     "shell.execute_reply": "2023-02-04T07:22:50.897152Z"
    }
   },
   "outputs": [],
   "source": [
    "product = pcr( fp_prom, rp_gene, result)"
   ]
  },
  {
   "cell_type": "markdown",
   "id": "3c625d0f",
   "metadata": {},
   "source": [
    "A correct clone should give this size in base pairs:"
   ]
  },
  {
   "cell_type": "code",
   "execution_count": 17,
   "id": "13ff9960",
   "metadata": {
    "execution": {
     "iopub.execute_input": "2023-02-04T07:22:50.901193Z",
     "iopub.status.busy": "2023-02-04T07:22:50.900964Z",
     "iopub.status.idle": "2023-02-04T07:22:50.904642Z",
     "shell.execute_reply": "2023-02-04T07:22:50.904041Z"
    }
   },
   "outputs": [
    {
     "name": "stdout",
     "output_type": "stream",
     "text": [
      "2211\n"
     ]
    }
   ],
   "source": [
    "print(len(product))"
   ]
  },
  {
   "cell_type": "markdown",
   "id": "ce581c89",
   "metadata": {},
   "source": [
    "If the promoter is missing from the assembly, the PCR product will have this size in base pairs:"
   ]
  },
  {
   "cell_type": "code",
   "execution_count": 18,
   "id": "472d4264",
   "metadata": {
    "execution": {
     "iopub.execute_input": "2023-02-04T07:22:50.908259Z",
     "iopub.status.busy": "2023-02-04T07:22:50.907624Z",
     "iopub.status.idle": "2023-02-04T07:22:50.912909Z",
     "shell.execute_reply": "2023-02-04T07:22:50.911899Z"
    }
   },
   "outputs": [
    {
     "name": "stdout",
     "output_type": "stream",
     "text": [
      "1281\n"
     ]
    }
   ],
   "source": [
    "print(len(product) - len(prom))"
   ]
  },
  {
   "cell_type": "markdown",
   "id": "dd17cd41",
   "metadata": {},
   "source": [
    "If the gene is missing from the assembly, the PCR product will have this size in base pairs:"
   ]
  },
  {
   "cell_type": "code",
   "execution_count": 19,
   "id": "85c98a7e",
   "metadata": {
    "execution": {
     "iopub.execute_input": "2023-02-04T07:22:50.916806Z",
     "iopub.status.busy": "2023-02-04T07:22:50.916486Z",
     "iopub.status.idle": "2023-02-04T07:22:50.921111Z",
     "shell.execute_reply": "2023-02-04T07:22:50.920376Z"
    }
   },
   "outputs": [
    {
     "name": "stdout",
     "output_type": "stream",
     "text": [
      "880\n"
     ]
    }
   ],
   "source": [
    "print(len(product) - len(gene))"
   ]
  },
  {
   "cell_type": "markdown",
   "id": "2a1af1de",
   "metadata": {},
   "source": [
    "PCR using standard primers 468 and 578 to amplify gene and terminator."
   ]
  },
  {
   "cell_type": "code",
   "execution_count": 20,
   "id": "1941ac04",
   "metadata": {
    "execution": {
     "iopub.execute_input": "2023-02-04T07:22:50.924537Z",
     "iopub.status.busy": "2023-02-04T07:22:50.924001Z",
     "iopub.status.idle": "2023-02-04T07:22:50.943903Z",
     "shell.execute_reply": "2023-02-04T07:22:50.943349Z"
    }
   },
   "outputs": [],
   "source": [
    "product2 = pcr( fp_gene, rp_term, result)"
   ]
  },
  {
   "cell_type": "markdown",
   "id": "33185d87",
   "metadata": {},
   "source": [
    "A correct clone should give this size:"
   ]
  },
  {
   "cell_type": "code",
   "execution_count": 21,
   "id": "333035ce",
   "metadata": {
    "execution": {
     "iopub.execute_input": "2023-02-04T07:22:50.946782Z",
     "iopub.status.busy": "2023-02-04T07:22:50.946568Z",
     "iopub.status.idle": "2023-02-04T07:22:50.951463Z",
     "shell.execute_reply": "2023-02-04T07:22:50.949771Z"
    }
   },
   "outputs": [
    {
     "name": "stdout",
     "output_type": "stream",
     "text": [
      "2254\n"
     ]
    }
   ],
   "source": [
    "print(len(product2))"
   ]
  },
  {
   "cell_type": "markdown",
   "id": "64f7e4ad",
   "metadata": {},
   "source": [
    "If the gene is missing from the assembly, the PCR product will have this size in base pairs:"
   ]
  },
  {
   "cell_type": "code",
   "execution_count": 22,
   "id": "f82bf0e8",
   "metadata": {
    "execution": {
     "iopub.execute_input": "2023-02-04T07:22:50.954826Z",
     "iopub.status.busy": "2023-02-04T07:22:50.954525Z",
     "iopub.status.idle": "2023-02-04T07:22:50.958851Z",
     "shell.execute_reply": "2023-02-04T07:22:50.958043Z"
    }
   },
   "outputs": [
    {
     "name": "stdout",
     "output_type": "stream",
     "text": [
      "923\n"
     ]
    }
   ],
   "source": [
    "print(len(product2) - len(gene))"
   ]
  },
  {
   "cell_type": "markdown",
   "id": "58145a6e",
   "metadata": {},
   "source": [
    "If the terminator is missing from the assembly, the PCR product will have this size in base pairs:"
   ]
  },
  {
   "cell_type": "code",
   "execution_count": 23,
   "id": "f1b70e3a",
   "metadata": {
    "execution": {
     "iopub.execute_input": "2023-02-04T07:22:50.962174Z",
     "iopub.status.busy": "2023-02-04T07:22:50.961719Z",
     "iopub.status.idle": "2023-02-04T07:22:50.965204Z",
     "shell.execute_reply": "2023-02-04T07:22:50.964581Z"
    }
   },
   "outputs": [
    {
     "name": "stdout",
     "output_type": "stream",
     "text": [
      "1294\n"
     ]
    }
   ],
   "source": [
    "print(len(product2) - len(term))"
   ]
  },
  {
   "cell_type": "markdown",
   "id": "d3a34a65",
   "metadata": {},
   "source": [
    "The cseguid checksum for the resulting plasmid is calculated for future reference.\n",
    "The [cseguid checksum](http://pydna.readthedocs.org/en/latest/pydna.html#pydna.utils.cseguid)\n",
    "uniquely identifies a circular double stranded sequence."
   ]
  },
  {
   "cell_type": "code",
   "execution_count": 24,
   "id": "010a8f79",
   "metadata": {
    "execution": {
     "iopub.execute_input": "2023-02-04T07:22:50.968265Z",
     "iopub.status.busy": "2023-02-04T07:22:50.968001Z",
     "iopub.status.idle": "2023-02-04T07:22:50.977833Z",
     "shell.execute_reply": "2023-02-04T07:22:50.977226Z"
    }
   },
   "outputs": [
    {
     "name": "stdout",
     "output_type": "stream",
     "text": [
      "Ji2VsX_-J4Osso-RMQSzGU7j1ME\n"
     ]
    }
   ],
   "source": [
    "print(result.cseguid())"
   ]
  },
  {
   "cell_type": "markdown",
   "id": "3e8827af",
   "metadata": {},
   "source": [
    "The file name is based on the promoter, gene and terminator designations."
   ]
  },
  {
   "cell_type": "code",
   "execution_count": 25,
   "id": "b88f1737",
   "metadata": {
    "execution": {
     "iopub.execute_input": "2023-02-04T07:22:50.980716Z",
     "iopub.status.busy": "2023-02-04T07:22:50.980272Z",
     "iopub.status.idle": "2023-02-04T07:22:50.983427Z",
     "shell.execute_reply": "2023-02-04T07:22:50.982819Z"
    }
   },
   "outputs": [],
   "source": [
    "result.locus = f\"tu:{gene.name}\"[:16]\n",
    "result.definition = \"pYPK0_TDH3_EcfabF_UTR2\""
   ]
  },
  {
   "cell_type": "markdown",
   "id": "e5cdcf5a",
   "metadata": {},
   "source": [
    "Sequence is stamped with cseguid checksum. This can be used to verify the\n",
    "integrity of the sequence file."
   ]
  },
  {
   "cell_type": "code",
   "execution_count": 26,
   "id": "91297d6d",
   "metadata": {
    "execution": {
     "iopub.execute_input": "2023-02-04T07:22:50.986979Z",
     "iopub.status.busy": "2023-02-04T07:22:50.986640Z",
     "iopub.status.idle": "2023-02-04T07:22:50.997883Z",
     "shell.execute_reply": "2023-02-04T07:22:50.997278Z"
    }
   },
   "outputs": [
    {
     "data": {
      "text/plain": [
       "Ji2VsX_-J4Osso-RMQSzGU7j1ME"
      ]
     },
     "execution_count": 26,
     "metadata": {},
     "output_type": "execute_result"
    }
   ],
   "source": [
    "result.stamp(\"cSEGUID\")"
   ]
  },
  {
   "cell_type": "markdown",
   "id": "01228b30",
   "metadata": {},
   "source": [
    "Write sequence to a local file."
   ]
  },
  {
   "cell_type": "code",
   "execution_count": 27,
   "id": "8a6ed14c",
   "metadata": {
    "execution": {
     "iopub.execute_input": "2023-02-04T07:22:51.001552Z",
     "iopub.status.busy": "2023-02-04T07:22:51.000909Z",
     "iopub.status.idle": "2023-02-04T07:22:51.017985Z",
     "shell.execute_reply": "2023-02-04T07:22:51.017165Z"
    }
   },
   "outputs": [
    {
     "data": {
      "text/html": [
       "<font face=monospace><a href='pYPK0_TDH3_EcfabF_UTR2.gb' target='_blank'>pYPK0_TDH3_EcfabF_UTR2.gb</a></font><br>"
      ]
     },
     "metadata": {},
     "output_type": "display_data"
    }
   ],
   "source": [
    "result.write(f\"{result.definition}.gb\")"
   ]
  },
  {
   "cell_type": "markdown",
   "id": "be417bf4",
   "metadata": {
    "lines_to_next_cell": 0
   },
   "source": [
    "### Suggested PCR programs\n",
    "\n",
    "For the [amplification](#PCR) of promoter, gene and terminator."
   ]
  },
  {
   "cell_type": "code",
   "execution_count": 28,
   "id": "428553b7",
   "metadata": {
    "execution": {
     "iopub.execute_input": "2023-02-04T07:22:51.021075Z",
     "iopub.status.busy": "2023-02-04T07:22:51.020740Z",
     "iopub.status.idle": "2023-02-04T07:22:51.025862Z",
     "shell.execute_reply": "2023-02-04T07:22:51.025130Z"
    }
   },
   "outputs": [
    {
     "name": "stdout",
     "output_type": "stream",
     "text": [
      "577_crp585-557 567_pCAPsAjiIF\n",
      "|95°C|95°C               |    |tmf:64.6\n",
      "|____|_____          72°C|72°C|tmr:69.7\n",
      "|3min|30s  \\ 57.1°C _____|____|45s/kb\n",
      "|    |      \\______/ 0:41|5min|GC 38%\n",
      "|    |       30s         |    |930bp\n"
     ]
    }
   ],
   "source": [
    "print(prom.forward_primer.name, prom.reverse_primer.name)\n",
    "print(prom.program())"
   ]
  },
  {
   "cell_type": "code",
   "execution_count": 29,
   "id": "7975acb6",
   "metadata": {
    "execution": {
     "iopub.execute_input": "2023-02-04T07:22:51.029439Z",
     "iopub.status.busy": "2023-02-04T07:22:51.029128Z",
     "iopub.status.idle": "2023-02-04T07:22:51.035364Z",
     "shell.execute_reply": "2023-02-04T07:22:51.034024Z"
    }
   },
   "outputs": [
    {
     "name": "stdout",
     "output_type": "stream",
     "text": [
      "468_pCAPs_release_fw 467_pCAPs_release_re\n",
      "|95°C|95°C               |    |tmf:76.9\n",
      "|____|_____          72°C|72°C|tmr:67.9\n",
      "|3min|30s  \\ 62.3°C _____|____|45s/kb\n",
      "|    |      \\______/ 0:59|5min|GC 53%\n",
      "|    |       30s         |    |1331bp\n"
     ]
    }
   ],
   "source": [
    "print(gene.forward_primer.name, gene.reverse_primer.name)\n",
    "print(gene.program())"
   ]
  },
  {
   "cell_type": "code",
   "execution_count": 30,
   "id": "338a0b5e",
   "metadata": {
    "execution": {
     "iopub.execute_input": "2023-02-04T07:22:51.039096Z",
     "iopub.status.busy": "2023-02-04T07:22:51.038793Z",
     "iopub.status.idle": "2023-02-04T07:22:51.044351Z",
     "shell.execute_reply": "2023-02-04T07:22:51.043454Z"
    }
   },
   "outputs": [
    {
     "name": "stdout",
     "output_type": "stream",
     "text": [
      "568_pCAPsAjiIR 578_crp42-70\n",
      "|95°C|95°C               |    |tmf:66.1\n",
      "|____|_____          72°C|72°C|tmr:65.0\n",
      "|3min|30s  \\ 57.5°C _____|____|45s/kb\n",
      "|    |      \\______/ 0:43|5min|GC 40%\n",
      "|    |       30s         |    |960bp\n"
     ]
    }
   ],
   "source": [
    "print(term.forward_primer.name, term.reverse_primer.name)\n",
    "print(term.program())"
   ]
  }
 ],
 "metadata": {
  "jupytext": {
   "main_language": "python",
   "text_representation": {
    "extension": ".py",
    "format_name": "percent",
    "format_version": "1.3",
    "jupytext_version": "1.14.0"
   }
  },
  "language_info": {
   "codemirror_mode": {
    "name": "ipython",
    "version": 3
   },
   "file_extension": ".py",
   "mimetype": "text/x-python",
   "name": "python",
   "nbconvert_exporter": "python",
   "pygments_lexer": "ipython3",
   "version": "3.11.0"
  }
 },
 "nbformat": 4,
 "nbformat_minor": 5
}
