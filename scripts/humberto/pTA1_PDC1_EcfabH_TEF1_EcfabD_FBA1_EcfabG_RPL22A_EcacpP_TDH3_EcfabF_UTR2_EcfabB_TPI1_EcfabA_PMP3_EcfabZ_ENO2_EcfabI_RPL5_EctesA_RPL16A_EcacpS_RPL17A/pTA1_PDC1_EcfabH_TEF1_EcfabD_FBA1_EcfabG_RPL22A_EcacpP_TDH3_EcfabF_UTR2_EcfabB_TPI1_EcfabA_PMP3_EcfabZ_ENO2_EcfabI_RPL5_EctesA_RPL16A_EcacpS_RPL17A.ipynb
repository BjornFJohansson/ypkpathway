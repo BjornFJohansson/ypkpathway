{
 "cells": [
  {
   "cell_type": "markdown",
   "id": "cde21476",
   "metadata": {
    "lines_to_next_cell": 0
   },
   "source": [
    "# [![logo](logo.png)](https://github.com/BjornFJohansson/ypkpathway#-ypkpathway) pTA1_PDC1_EcfabH_TEF1_EcfabD_FBA1_EcfabG_RPL22A_EcacpP_TDH3_EcfabF_UTR2_EcfabB_TPI1_EcfabA_PMP3_EcfabZ_ENO2_EcfabI_RPL5_EctesA_RPL16A_EcacpS_RPL17A\n",
    "\n",
    "Assembly of 11 transcriptional units\n",
    "(single gene expression) vectors into a pathway.\n",
    "\n",
    "Jupyter notebooks describing the single gene expression vectors are linked\n",
    "at the end of this document.\n",
    "Specific primers needed are also listed.\n",
    "\n",
    "![pathway with N genes](pw.png \"pathway with N genes\")"
   ]
  },
  {
   "cell_type": "code",
   "execution_count": 1,
   "id": "dfa3e728",
   "metadata": {
    "execution": {
     "iopub.execute_input": "2023-02-04T07:23:46.369895Z",
     "iopub.status.busy": "2023-02-04T07:23:46.369503Z",
     "iopub.status.idle": "2023-02-04T07:23:46.734747Z",
     "shell.execute_reply": "2023-02-04T07:23:46.733261Z"
    }
   },
   "outputs": [],
   "source": [
    "from pydna.parsers import parse_primers\n",
    "from pydna.readers import read\n",
    "from pydna.amplify import pcr\n",
    "from pydna.assembly import Assembly\n",
    "from IPython.display import display\n",
    "from IPython.display import Markdown\n",
    "from pathlib import Path"
   ]
  },
  {
   "cell_type": "markdown",
   "id": "8cec17df",
   "metadata": {},
   "source": [
    "The first cassette in the pathway is amplified with standard\n",
    "primers 577 and 778, the last with\n",
    "1123 and 578 and all others with 1123 and 778.\n",
    "Standard primers are listed [here](standard_primers.fasta)."
   ]
  },
  {
   "cell_type": "code",
   "execution_count": 2,
   "id": "c23f5d27",
   "metadata": {
    "execution": {
     "iopub.execute_input": "2023-02-04T07:23:46.738611Z",
     "iopub.status.busy": "2023-02-04T07:23:46.738108Z",
     "iopub.status.idle": "2023-02-04T07:23:46.752547Z",
     "shell.execute_reply": "2023-02-04T07:23:46.751898Z"
    }
   },
   "outputs": [],
   "source": [
    "p = {x.name: x for x in parse_primers(\"standard_primers.fasta\")}"
   ]
  },
  {
   "cell_type": "markdown",
   "id": "d54e69cb",
   "metadata": {},
   "source": [
    "Restriction enzymes are imported from the Biopython package."
   ]
  },
  {
   "cell_type": "code",
   "execution_count": 3,
   "id": "162d6075",
   "metadata": {
    "execution": {
     "iopub.execute_input": "2023-02-04T07:23:46.755783Z",
     "iopub.status.busy": "2023-02-04T07:23:46.755271Z",
     "iopub.status.idle": "2023-02-04T07:23:46.758852Z",
     "shell.execute_reply": "2023-02-04T07:23:46.757862Z"
    }
   },
   "outputs": [],
   "source": [
    "from Bio.Restriction import FspAI, NotI, PacI"
   ]
  },
  {
   "cell_type": "markdown",
   "id": "3b9e190e",
   "metadata": {},
   "source": [
    "The backbone vector is linearized by digestion\n",
    "with [FspAI](https://www.google.com/search?q=FspAI)."
   ]
  },
  {
   "cell_type": "code",
   "execution_count": 4,
   "id": "f99c634a",
   "metadata": {
    "execution": {
     "iopub.execute_input": "2023-02-04T07:23:46.764172Z",
     "iopub.status.busy": "2023-02-04T07:23:46.763447Z",
     "iopub.status.idle": "2023-02-04T07:23:46.777111Z",
     "shell.execute_reply": "2023-02-04T07:23:46.776410Z"
    }
   },
   "outputs": [],
   "source": [
    "backbone = read(\"pTA1.gb\")"
   ]
  },
  {
   "cell_type": "markdown",
   "id": "f182202f",
   "metadata": {},
   "source": [
    "The cassette__pcr_products variable holds the list of expression\n",
    "cassette PCR products fragments to be assembled."
   ]
  },
  {
   "cell_type": "code",
   "execution_count": 5,
   "id": "a73d2b82",
   "metadata": {
    "execution": {
     "iopub.execute_input": "2023-02-04T07:23:46.779779Z",
     "iopub.status.busy": "2023-02-04T07:23:46.779571Z",
     "iopub.status.idle": "2023-02-04T07:23:46.782886Z",
     "shell.execute_reply": "2023-02-04T07:23:46.782152Z"
    }
   },
   "outputs": [],
   "source": [
    "cassette_pcr_products = []"
   ]
  },
  {
   "cell_type": "markdown",
   "id": "bae408ba",
   "metadata": {},
   "source": [
    "The expression cassettes comes from a series of single gene expression\n",
    "vectors held in the template_vectors list."
   ]
  },
  {
   "cell_type": "code",
   "execution_count": 6,
   "id": "832940da",
   "metadata": {
    "execution": {
     "iopub.execute_input": "2023-02-04T07:23:46.785604Z",
     "iopub.status.busy": "2023-02-04T07:23:46.785401Z",
     "iopub.status.idle": "2023-02-04T07:23:46.789284Z",
     "shell.execute_reply": "2023-02-04T07:23:46.788598Z"
    },
    "lines_to_next_cell": 0
   },
   "outputs": [],
   "source": [
    "cassette_vectors = (\"\"\"\n",
    "pYPK0_PDC1_EcfabH_TEF1.gb\n",
    "pYPK0_TEF1_EcfabD_FBA1.gb\n",
    "pYPK0_FBA1_EcfabG_RPL22A.gb\n",
    "pYPK0_RPL22A_EcacpP_TDH3.gb\n",
    "pYPK0_TDH3_EcfabF_UTR2.gb\n",
    "pYPK0_UTR2_EcfabB_TPI1.gb\n",
    "pYPK0_TPI1_EcfabA_PMP3.gb\n",
    "pYPK0_PMP3_EcfabZ_ENO2.gb\n",
    "pYPK0_ENO2_EcfabI_RPL5.gb\n",
    "pYPK0_RPL5_EctesA_RPL16A.gb\n",
    "pYPK0_RPL16A_EcacpS_RPL17A.gb\n",
    "\"\"\").split()"
   ]
  },
  {
   "cell_type": "code",
   "execution_count": 7,
   "id": "479e15fb",
   "metadata": {
    "execution": {
     "iopub.execute_input": "2023-02-04T07:23:46.793430Z",
     "iopub.status.busy": "2023-02-04T07:23:46.793097Z",
     "iopub.status.idle": "2023-02-04T07:23:46.805500Z",
     "shell.execute_reply": "2023-02-04T07:23:46.804970Z"
    },
    "lines_to_next_cell": 0
   },
   "outputs": [
    {
     "data": {
      "text/plain": [
       "['pYPK0_PDC1_EcfabH_TEF1.gb',\n",
       " 'pYPK0_TEF1_EcfabD_FBA1.gb',\n",
       " 'pYPK0_FBA1_EcfabG_RPL22A.gb',\n",
       " 'pYPK0_RPL22A_EcacpP_TDH3.gb',\n",
       " 'pYPK0_TDH3_EcfabF_UTR2.gb',\n",
       " 'pYPK0_UTR2_EcfabB_TPI1.gb',\n",
       " 'pYPK0_TPI1_EcfabA_PMP3.gb',\n",
       " 'pYPK0_PMP3_EcfabZ_ENO2.gb',\n",
       " 'pYPK0_ENO2_EcfabI_RPL5.gb',\n",
       " 'pYPK0_RPL5_EctesA_RPL16A.gb',\n",
       " 'pYPK0_RPL16A_EcacpS_RPL17A.gb']"
      ]
     },
     "execution_count": 7,
     "metadata": {},
     "output_type": "execute_result"
    }
   ],
   "source": [
    "cassette_vectors"
   ]
  },
  {
   "cell_type": "code",
   "execution_count": 8,
   "id": "859c8bc4",
   "metadata": {
    "execution": {
     "iopub.execute_input": "2023-02-04T07:23:46.808468Z",
     "iopub.status.busy": "2023-02-04T07:23:46.807922Z",
     "iopub.status.idle": "2023-02-04T07:23:46.894439Z",
     "shell.execute_reply": "2023-02-04T07:23:46.893675Z"
    },
    "lines_to_next_cell": 0
   },
   "outputs": [],
   "source": [
    "template_vectors = [read(v) for v in cassette_vectors]"
   ]
  },
  {
   "cell_type": "code",
   "execution_count": 9,
   "id": "d852557d",
   "metadata": {
    "execution": {
     "iopub.execute_input": "2023-02-04T07:23:46.899364Z",
     "iopub.status.busy": "2023-02-04T07:23:46.897363Z",
     "iopub.status.idle": "2023-02-04T07:23:46.915518Z",
     "shell.execute_reply": "2023-02-04T07:23:46.914712Z"
    },
    "lines_to_next_cell": 0
   },
   "outputs": [
    {
     "data": {
      "text/html": [
       "<a href='pYPK0_PDC1_EcfabH_TEF1.gb' target='_blank'>pYPK0_PDC1_EcfabH_TEF1.gb</a><br>"
      ],
      "text/plain": [
       "File(id)(o8280)"
      ]
     },
     "metadata": {},
     "output_type": "display_data"
    },
    {
     "data": {
      "text/html": [
       "<a href='pYPK0_TEF1_EcfabD_FBA1.gb' target='_blank'>pYPK0_TEF1_EcfabD_FBA1.gb</a><br>"
      ],
      "text/plain": [
       "File(id)(o7931)"
      ]
     },
     "metadata": {},
     "output_type": "display_data"
    },
    {
     "data": {
      "text/html": [
       "<a href='pYPK0_FBA1_EcfabG_RPL22A.gb' target='_blank'>pYPK0_FBA1_EcfabG_RPL22A.gb</a><br>"
      ],
      "text/plain": [
       "File(id)(o7583)"
      ]
     },
     "metadata": {},
     "output_type": "display_data"
    },
    {
     "data": {
      "text/html": [
       "<a href='pYPK0_RPL22A_EcacpP_TDH3.gb' target='_blank'>pYPK0_RPL22A_EcacpP_TDH3.gb</a><br>"
      ],
      "text/plain": [
       "File(id)(o7153)"
      ]
     },
     "metadata": {},
     "output_type": "display_data"
    },
    {
     "data": {
      "text/html": [
       "<a href='pYPK0_TDH3_EcfabF_UTR2.gb' target='_blank'>pYPK0_TDH3_EcfabF_UTR2.gb</a><br>"
      ],
      "text/plain": [
       "File(id)(o8352)"
      ]
     },
     "metadata": {},
     "output_type": "display_data"
    },
    {
     "data": {
      "text/html": [
       "<a href='pYPK0_UTR2_EcfabB_TPI1.gb' target='_blank'>pYPK0_UTR2_EcfabB_TPI1.gb</a><br>"
      ],
      "text/plain": [
       "File(id)(o8215)"
      ]
     },
     "metadata": {},
     "output_type": "display_data"
    },
    {
     "data": {
      "text/html": [
       "<a href='pYPK0_TPI1_EcfabA_PMP3.gb' target='_blank'>pYPK0_TPI1_EcfabA_PMP3.gb</a><br>"
      ],
      "text/plain": [
       "File(id)(o7649)"
      ]
     },
     "metadata": {},
     "output_type": "display_data"
    },
    {
     "data": {
      "text/html": [
       "<a href='pYPK0_PMP3_EcfabZ_ENO2.gb' target='_blank'>pYPK0_PMP3_EcfabZ_ENO2.gb</a><br>"
      ],
      "text/plain": [
       "File(id)(o7524)"
      ]
     },
     "metadata": {},
     "output_type": "display_data"
    },
    {
     "data": {
      "text/html": [
       "<a href='pYPK0_ENO2_EcfabI_RPL5.gb' target='_blank'>pYPK0_ENO2_EcfabI_RPL5.gb</a><br>"
      ],
      "text/plain": [
       "File(id)(o7602)"
      ]
     },
     "metadata": {},
     "output_type": "display_data"
    },
    {
     "data": {
      "text/html": [
       "<a href='pYPK0_RPL5_EctesA_RPL16A.gb' target='_blank'>pYPK0_RPL5_EctesA_RPL16A.gb</a><br>"
      ],
      "text/plain": [
       "File(id)(o7362)"
      ]
     },
     "metadata": {},
     "output_type": "display_data"
    },
    {
     "data": {
      "text/html": [
       "<a href='pYPK0_RPL16A_EcacpS_RPL17A.gb' target='_blank'>pYPK0_RPL16A_EcacpS_RPL17A.gb</a><br>"
      ],
      "text/plain": [
       "File(id)(o7283)"
      ]
     },
     "metadata": {},
     "output_type": "display_data"
    }
   ],
   "source": [
    "for tv in template_vectors:\n",
    "    display(tv)"
   ]
  },
  {
   "cell_type": "markdown",
   "id": "345c1b7d",
   "metadata": {},
   "source": [
    "The first cassette in the pathway.\n",
    "Suggested PCR conditions can be found at the end of this document."
   ]
  },
  {
   "cell_type": "code",
   "execution_count": 10,
   "id": "3bd875a3",
   "metadata": {
    "execution": {
     "iopub.execute_input": "2023-02-04T07:23:46.918472Z",
     "iopub.status.busy": "2023-02-04T07:23:46.918151Z",
     "iopub.status.idle": "2023-02-04T07:23:46.921400Z",
     "shell.execute_reply": "2023-02-04T07:23:46.920906Z"
    }
   },
   "outputs": [],
   "source": [
    "\n",
    "fp_first = p['577_crp585-557']\n",
    "fp = p['1123_New775']\n",
    "rp = p['778_tp_Eco32I_rev']\n",
    "rp_last = p['578_crp42-70']"
   ]
  },
  {
   "cell_type": "code",
   "execution_count": 11,
   "id": "aedcb412",
   "metadata": {
    "execution": {
     "iopub.execute_input": "2023-02-04T07:23:46.923895Z",
     "iopub.status.busy": "2023-02-04T07:23:46.923498Z",
     "iopub.status.idle": "2023-02-04T07:23:46.940142Z",
     "shell.execute_reply": "2023-02-04T07:23:46.939489Z"
    }
   },
   "outputs": [],
   "source": [
    "cassette_pcr_products.append(pcr(fp_first, rp, template_vectors[0]))"
   ]
  },
  {
   "cell_type": "markdown",
   "id": "c5a51f7d",
   "metadata": {},
   "source": [
    "Intermediary cassettes"
   ]
  },
  {
   "cell_type": "code",
   "execution_count": 12,
   "id": "2659bb94",
   "metadata": {
    "execution": {
     "iopub.execute_input": "2023-02-04T07:23:46.943390Z",
     "iopub.status.busy": "2023-02-04T07:23:46.943087Z",
     "iopub.status.idle": "2023-02-04T07:23:47.046727Z",
     "shell.execute_reply": "2023-02-04T07:23:47.046022Z"
    }
   },
   "outputs": [],
   "source": [
    "cassette_pcr_products.extend(pcr(fp, rp, v)\n",
    "                             for v in template_vectors[1:-1])"
   ]
  },
  {
   "cell_type": "markdown",
   "id": "3a70fd54",
   "metadata": {},
   "source": [
    "The last cassette in the pathway."
   ]
  },
  {
   "cell_type": "code",
   "execution_count": 13,
   "id": "085f378f",
   "metadata": {
    "execution": {
     "iopub.execute_input": "2023-02-04T07:23:47.050337Z",
     "iopub.status.busy": "2023-02-04T07:23:47.050040Z",
     "iopub.status.idle": "2023-02-04T07:23:47.067691Z",
     "shell.execute_reply": "2023-02-04T07:23:47.067105Z"
    }
   },
   "outputs": [],
   "source": [
    "cassette_pcr_products.append(pcr(fp, rp_last, template_vectors[-1]))"
   ]
  },
  {
   "cell_type": "markdown",
   "id": "273f99ef",
   "metadata": {},
   "source": [
    "The cassettes are given names based on the tu cassette"
   ]
  },
  {
   "cell_type": "code",
   "execution_count": 14,
   "id": "a1a537dd",
   "metadata": {
    "execution": {
     "iopub.execute_input": "2023-02-04T07:23:47.070430Z",
     "iopub.status.busy": "2023-02-04T07:23:47.070170Z",
     "iopub.status.idle": "2023-02-04T07:23:47.074587Z",
     "shell.execute_reply": "2023-02-04T07:23:47.073901Z"
    }
   },
   "outputs": [
    {
     "name": "stdout",
     "output_type": "stream",
     "text": [
      "PDC1_EcfabH_TEF1\n",
      "TEF1_EcfabD_FBA1\n",
      "FBA1_EcfabG_RPL22A\n",
      "RPL22A_EcacpP_TDH3\n",
      "TDH3_EcfabF_UTR2\n",
      "UTR2_EcfabB_TPI1\n",
      "TPI1_EcfabA_PMP3\n",
      "PMP3_EcfabZ_ENO2\n",
      "ENO2_EcfabI_RPL5\n",
      "RPL5_EctesA_RPL16A\n",
      "RPL16A_EcacpS_RPL17A\n"
     ]
    }
   ],
   "source": [
    "for cp, ve in zip(cassette_pcr_products, cassette_vectors):\n",
    "    cp.name = ve[:-3].split(\"_\", maxsplit=1)[1]\n",
    "    print(cp.name)"
   ]
  },
  {
   "cell_type": "markdown",
   "id": "5d0433f5",
   "metadata": {},
   "source": [
    "Cassettes and linear plasmid backbone are joined by homologous recombination"
   ]
  },
  {
   "cell_type": "code",
   "execution_count": 15,
   "id": "7ad36c76",
   "metadata": {
    "execution": {
     "iopub.execute_input": "2023-02-04T07:23:47.078068Z",
     "iopub.status.busy": "2023-02-04T07:23:47.077609Z",
     "iopub.status.idle": "2023-02-04T07:23:52.206874Z",
     "shell.execute_reply": "2023-02-04T07:23:52.206332Z"
    }
   },
   "outputs": [
    {
     "data": {
      "text/plain": [
       "Assembly\n",
       "fragments..: 6175bp 2780bp 2282bp 1934bp 1504bp 2703bp 2566bp 2000bp 1875bp 1953bp 1713bp 1916bp\n",
       "limit(bp)..: 110\n",
       "G.nodes....: 24\n",
       "algorithm..: common_sub_strings"
      ]
     },
     "execution_count": 15,
     "metadata": {},
     "output_type": "execute_result"
    }
   ],
   "source": [
    "asm = Assembly([backbone.linearize(FspAI)] + cassette_pcr_products,\n",
    "               limit=167-47-10)\n",
    "asm"
   ]
  },
  {
   "cell_type": "markdown",
   "id": "54243e75",
   "metadata": {},
   "source": [
    "There should normally be two candidates of equal size.\n",
    "These sequences should be identical."
   ]
  },
  {
   "cell_type": "code",
   "execution_count": 16,
   "id": "53ae5144",
   "metadata": {
    "execution": {
     "iopub.execute_input": "2023-02-04T07:23:52.209968Z",
     "iopub.status.busy": "2023-02-04T07:23:52.209555Z",
     "iopub.status.idle": "2023-02-04T07:23:52.457346Z",
     "shell.execute_reply": "2023-02-04T07:23:52.456674Z"
    },
    "lines_to_next_cell": 0
   },
   "outputs": [
    {
     "data": {
      "text/plain": [
       "[Contig(o22802), Contig(o22802)]"
      ]
     },
     "execution_count": 16,
     "metadata": {},
     "output_type": "execute_result"
    }
   ],
   "source": [
    "candidates = asm.assemble_circular()\n",
    "candidates"
   ]
  },
  {
   "cell_type": "code",
   "execution_count": 17,
   "id": "b2b48691",
   "metadata": {
    "execution": {
     "iopub.execute_input": "2023-02-04T07:23:52.460232Z",
     "iopub.status.busy": "2023-02-04T07:23:52.459942Z",
     "iopub.status.idle": "2023-02-04T07:23:52.463209Z",
     "shell.execute_reply": "2023-02-04T07:23:52.462577Z"
    },
    "lines_to_next_cell": 0
   },
   "outputs": [],
   "source": [
    "candidate, *rest = candidates"
   ]
  },
  {
   "cell_type": "code",
   "execution_count": 18,
   "id": "916e9a0a",
   "metadata": {
    "execution": {
     "iopub.execute_input": "2023-02-04T07:23:52.466546Z",
     "iopub.status.busy": "2023-02-04T07:23:52.466025Z",
     "iopub.status.idle": "2023-02-04T07:23:52.503256Z",
     "shell.execute_reply": "2023-02-04T07:23:52.502736Z"
    },
    "lines_to_next_cell": 0
   },
   "outputs": [
    {
     "data": {
      "text/plain": [
       "True"
      ]
     },
     "execution_count": 18,
     "metadata": {},
     "output_type": "execute_result"
    }
   ],
   "source": [
    "candidate.cseguid() == rest[0].cseguid()"
   ]
  },
  {
   "cell_type": "markdown",
   "id": "cd8e2a15",
   "metadata": {},
   "source": [
    "This assembly figure below shows how the fragments came together."
   ]
  },
  {
   "cell_type": "code",
   "execution_count": 19,
   "id": "dee2c901",
   "metadata": {
    "execution": {
     "iopub.execute_input": "2023-02-04T07:23:52.506100Z",
     "iopub.status.busy": "2023-02-04T07:23:52.505879Z",
     "iopub.status.idle": "2023-02-04T07:23:52.509958Z",
     "shell.execute_reply": "2023-02-04T07:23:52.509418Z"
    }
   },
   "outputs": [
    {
     "data": {
      "text/plain": [
       " -|pTA1_lin|124\n",
       "|           \\/\n",
       "|           /\\\n",
       "|           124|PDC1_EcfabH_TEF1|593\n",
       "|                                \\/\n",
       "|                                /\\\n",
       "|                                593|TEF1_EcfabD_FBA1|644\n",
       "|                                                     \\/\n",
       "|                                                     /\\\n",
       "|                                                     644|FBA1_EcfabG_RPL22A|440\n",
       "|                                                                            \\/\n",
       "|                                                                            /\\\n",
       "|                                                                            440|RPL22A_EcacpP_TDH3|712\n",
       "|                                                                                                   \\/\n",
       "|                                                                                                   /\\\n",
       "|                                                                                                   712|TDH3_EcfabF_UTR2|634\n",
       "|                                                                                                                        \\/\n",
       "|                                                                                                                        /\\\n",
       "|                                                                                                                        634|UTR2_EcfabB_TPI1|596\n",
       "|                                                                                                                                             \\/\n",
       "|                                                                                                                                             /\\\n",
       "|                                                                                                                                             596|TPI1_EcfabA_PMP3|770\n",
       "|                                                                                                                                                                  \\/\n",
       "|                                                                                                                                                                  /\\\n",
       "|                                                                                                                                                                  770|PMP3_EcfabZ_ENO2|534\n",
       "|                                                                                                                                                                                       \\/\n",
       "|                                                                                                                                                                                       /\\\n",
       "|                                                                                                                                                                                       534|ENO2_EcfabI_RPL5|515\n",
       "|                                                                                                                                                                                                            \\/\n",
       "|                                                                                                                                                                                                            /\\\n",
       "|                                                                                                                                                                                                            515|RPL5_EctesA_RPL16A|456\n",
       "|                                                                                                                                                                                                                                   \\/\n",
       "|                                                                                                                                                                                                                                   /\\\n",
       "|                                                                                                                                                                                                                                   456|RPL16A_EcacpS_RPL17A|242\n",
       "|                                                                                                                                                                                                                                                            \\/\n",
       "|                                                                                                                                                                                                                                                            /\\\n",
       "|                                                                                                                                                                                                                                                            242-\n",
       "|                                                                                                                                                                                                                                                               |\n",
       " ---------------------------------------------------------------------------------------------------------------------------------------------------------------------------------------------------------------------------------------------------------------"
      ]
     },
     "execution_count": 19,
     "metadata": {},
     "output_type": "execute_result"
    }
   ],
   "source": [
    "candidate.figure()"
   ]
  },
  {
   "cell_type": "markdown",
   "id": "600e6123",
   "metadata": {},
   "source": [
    "The candidate vector is synchronized to the 577 primer. This means that\n",
    "the plasmid origin is shifted so that it matches the backbone vector."
   ]
  },
  {
   "cell_type": "code",
   "execution_count": 20,
   "id": "b853f8d7",
   "metadata": {
    "execution": {
     "iopub.execute_input": "2023-02-04T07:23:52.514018Z",
     "iopub.status.busy": "2023-02-04T07:23:52.513379Z",
     "iopub.status.idle": "2023-02-04T07:23:53.402456Z",
     "shell.execute_reply": "2023-02-04T07:23:53.401819Z"
    }
   },
   "outputs": [],
   "source": [
    "pw = candidate.synced(fp_first)"
   ]
  },
  {
   "cell_type": "markdown",
   "id": "d86e0aeb",
   "metadata": {},
   "source": [
    "The cseguid checksum for the resulting plasmid is calculated for future\n",
    "reference.\n",
    "The [cseguid checksum](\n",
    "http://pydna.readthedocs.org/en/latest/pydna.html#pydna.utils.cseguid)\n",
    "uniquely identifies a circular double stranded sequence."
   ]
  },
  {
   "cell_type": "code",
   "execution_count": 21,
   "id": "d236e05d",
   "metadata": {
    "execution": {
     "iopub.execute_input": "2023-02-04T07:23:53.405327Z",
     "iopub.status.busy": "2023-02-04T07:23:53.404873Z",
     "iopub.status.idle": "2023-02-04T07:23:53.423982Z",
     "shell.execute_reply": "2023-02-04T07:23:53.422983Z"
    }
   },
   "outputs": [
    {
     "data": {
      "text/plain": [
       "'OE0TUsw3A8l9X2bQUV-AeCktJe0'"
      ]
     },
     "execution_count": 21,
     "metadata": {},
     "output_type": "execute_result"
    }
   ],
   "source": [
    "pw.cseguid()"
   ]
  },
  {
   "cell_type": "markdown",
   "id": "0e175051",
   "metadata": {},
   "source": [
    "The file is given a name based on the sequence of expressed genes."
   ]
  },
  {
   "cell_type": "code",
   "execution_count": 22,
   "id": "38d189b7",
   "metadata": {
    "execution": {
     "iopub.execute_input": "2023-02-04T07:23:53.428257Z",
     "iopub.status.busy": "2023-02-04T07:23:53.427878Z",
     "iopub.status.idle": "2023-02-04T07:23:53.432859Z",
     "shell.execute_reply": "2023-02-04T07:23:53.431803Z"
    }
   },
   "outputs": [],
   "source": [
    "pw.locus = \"pw\"\n",
    "pw.definition = \"pTA1_PDC1_EcfabH_TEF1_EcfabD_FBA1_EcfabG_RPL22A_EcacpP_TDH3_EcfabF_UTR2_EcfabB_TPI1_EcfabA_PMP3_EcfabZ_ENO2_EcfabI_RPL5_EctesA_RPL16A_EcacpS_RPL17A\""
   ]
  },
  {
   "cell_type": "markdown",
   "id": "4e797b94",
   "metadata": {},
   "source": [
    "Sequence stamped with cseguid checksum.\n",
    "This can be used to verify the integrity of the sequence file."
   ]
  },
  {
   "cell_type": "code",
   "execution_count": 23,
   "id": "5db4dc58",
   "metadata": {
    "execution": {
     "iopub.execute_input": "2023-02-04T07:23:53.436949Z",
     "iopub.status.busy": "2023-02-04T07:23:53.436342Z",
     "iopub.status.idle": "2023-02-04T07:23:53.458624Z",
     "shell.execute_reply": "2023-02-04T07:23:53.458062Z"
    }
   },
   "outputs": [
    {
     "data": {
      "text/plain": [
       "OE0TUsw3A8l9X2bQUV-AeCktJe0"
      ]
     },
     "execution_count": 23,
     "metadata": {},
     "output_type": "execute_result"
    }
   ],
   "source": [
    "pw.stamp(\"cSEGUID\")"
   ]
  },
  {
   "cell_type": "markdown",
   "id": "dbf6a666",
   "metadata": {},
   "source": [
    "Write sequence to a local file."
   ]
  },
  {
   "cell_type": "code",
   "execution_count": 24,
   "id": "757a1fb7",
   "metadata": {
    "execution": {
     "iopub.execute_input": "2023-02-04T07:23:53.461627Z",
     "iopub.status.busy": "2023-02-04T07:23:53.461253Z",
     "iopub.status.idle": "2023-02-04T07:23:53.474167Z",
     "shell.execute_reply": "2023-02-04T07:23:53.473484Z"
    }
   },
   "outputs": [
    {
     "name": "stderr",
     "output_type": "stream",
     "text": [
      "/home/bjorn/anaconda3/envs/bjorn311/lib/python3.11/site-packages/Bio/SeqIO/InsdcIO.py:555: BiopythonWarning: Annotation 'pTA1_PDC1_EcfabH_TEF1_EcfabD_FBA1_EcfabG_RPL22A_EcacpP_TDH3_EcfabF_UTR2_EcfabB_TPI1_EcfabA_PMP3_EcfabZ_ENO2_EcfabI_RPL5_EctesA_RPL16A_EcacpS_RPL17A.' too long\n",
      "  warnings.warn(f\"Annotation {text!r} too long\", BiopythonWarning)\n"
     ]
    },
    {
     "data": {
      "text/html": [
       "<font face=monospace><a href='pTA1_PDC1_EcfabH_TEF1_EcfabD_FBA1_EcfabG_RPL22A_EcacpP_TDH3_EcfabF_UTR2_EcfabB_TPI1_EcfabA_PMP3_EcfabZ_ENO2_EcfabI_RPL5_EctesA_RPL16A_EcacpS_RPL17A.gb' target='_blank'>pTA1_PDC1_EcfabH_TEF1_EcfabD_FBA1_EcfabG_RPL22A_EcacpP_TDH3_EcfabF_UTR2_EcfabB_TPI1_EcfabA_PMP3_EcfabZ_ENO2_EcfabI_RPL5_EctesA_RPL16A_EcacpS_RPL17A.gb</a></font><br>"
      ]
     },
     "metadata": {},
     "output_type": "display_data"
    }
   ],
   "source": [
    "pw.write(\"pTA1_PDC1_EcfabH_TEF1_EcfabD_FBA1_EcfabG_RPL22A_EcacpP_TDH3_EcfabF_UTR2_EcfabB_TPI1_EcfabA_PMP3_EcfabZ_ENO2_EcfabI_RPL5_EctesA_RPL16A_EcacpS_RPL17A.gb\")"
   ]
  },
  {
   "cell_type": "markdown",
   "id": "1a43cf67",
   "metadata": {},
   "source": [
    "The pathway can be extended by digestion with either NotI or PacI or both\n",
    "provided that the enzymes cut once in the final pathway sequence."
   ]
  },
  {
   "cell_type": "code",
   "execution_count": 25,
   "id": "8f8416da",
   "metadata": {
    "execution": {
     "iopub.execute_input": "2023-02-04T07:23:53.476940Z",
     "iopub.status.busy": "2023-02-04T07:23:53.476541Z",
     "iopub.status.idle": "2023-02-04T07:23:53.535802Z",
     "shell.execute_reply": "2023-02-04T07:23:53.535128Z"
    }
   },
   "outputs": [
    {
     "name": "stdout",
     "output_type": "stream",
     "text": [
      "NotI cuts 1 time(s) and PacI cuts 2 time(s) in the final pathway.\n"
     ]
    }
   ],
   "source": [
    "print(f\"NotI cuts {len(pw.cut(NotI))} time(s) and PacI cuts \"\n",
    "      f\"{len(pw.cut(PacI))} time(s) in the final pathway.\")"
   ]
  },
  {
   "cell_type": "markdown",
   "id": "5a655ea5",
   "metadata": {
    "lines_to_next_cell": 0
   },
   "source": [
    "### Transcriptional unit (single gene expression) vectors needed."
   ]
  },
  {
   "cell_type": "code",
   "execution_count": 26,
   "id": "e7b86aee",
   "metadata": {
    "execution": {
     "iopub.execute_input": "2023-02-04T07:23:53.538844Z",
     "iopub.status.busy": "2023-02-04T07:23:53.538379Z",
     "iopub.status.idle": "2023-02-04T07:23:53.557312Z",
     "shell.execute_reply": "2023-02-04T07:23:53.556498Z"
    }
   },
   "outputs": [
    {
     "data": {
      "text/markdown": [
       "[pYPK0_PDC1_EcfabH_TEF1.ipynb](pYPK0_PDC1_EcfabH_TEF1.ipynb)"
      ],
      "text/plain": [
       "<IPython.core.display.Markdown object>"
      ]
     },
     "metadata": {},
     "output_type": "display_data"
    },
    {
     "data": {
      "text/markdown": [
       "[pYPK0_TEF1_EcfabD_FBA1.ipynb](pYPK0_TEF1_EcfabD_FBA1.ipynb)"
      ],
      "text/plain": [
       "<IPython.core.display.Markdown object>"
      ]
     },
     "metadata": {},
     "output_type": "display_data"
    },
    {
     "data": {
      "text/markdown": [
       "[pYPK0_FBA1_EcfabG_RPL22A.ipynb](pYPK0_FBA1_EcfabG_RPL22A.ipynb)"
      ],
      "text/plain": [
       "<IPython.core.display.Markdown object>"
      ]
     },
     "metadata": {},
     "output_type": "display_data"
    },
    {
     "data": {
      "text/markdown": [
       "[pYPK0_RPL22A_EcacpP_TDH3.ipynb](pYPK0_RPL22A_EcacpP_TDH3.ipynb)"
      ],
      "text/plain": [
       "<IPython.core.display.Markdown object>"
      ]
     },
     "metadata": {},
     "output_type": "display_data"
    },
    {
     "data": {
      "text/markdown": [
       "[pYPK0_TDH3_EcfabF_UTR2.ipynb](pYPK0_TDH3_EcfabF_UTR2.ipynb)"
      ],
      "text/plain": [
       "<IPython.core.display.Markdown object>"
      ]
     },
     "metadata": {},
     "output_type": "display_data"
    },
    {
     "data": {
      "text/markdown": [
       "[pYPK0_UTR2_EcfabB_TPI1.ipynb](pYPK0_UTR2_EcfabB_TPI1.ipynb)"
      ],
      "text/plain": [
       "<IPython.core.display.Markdown object>"
      ]
     },
     "metadata": {},
     "output_type": "display_data"
    },
    {
     "data": {
      "text/markdown": [
       "[pYPK0_TPI1_EcfabA_PMP3.ipynb](pYPK0_TPI1_EcfabA_PMP3.ipynb)"
      ],
      "text/plain": [
       "<IPython.core.display.Markdown object>"
      ]
     },
     "metadata": {},
     "output_type": "display_data"
    },
    {
     "data": {
      "text/markdown": [
       "[pYPK0_PMP3_EcfabZ_ENO2.ipynb](pYPK0_PMP3_EcfabZ_ENO2.ipynb)"
      ],
      "text/plain": [
       "<IPython.core.display.Markdown object>"
      ]
     },
     "metadata": {},
     "output_type": "display_data"
    },
    {
     "data": {
      "text/markdown": [
       "[pYPK0_ENO2_EcfabI_RPL5.ipynb](pYPK0_ENO2_EcfabI_RPL5.ipynb)"
      ],
      "text/plain": [
       "<IPython.core.display.Markdown object>"
      ]
     },
     "metadata": {},
     "output_type": "display_data"
    },
    {
     "data": {
      "text/markdown": [
       "[pYPK0_RPL5_EctesA_RPL16A.ipynb](pYPK0_RPL5_EctesA_RPL16A.ipynb)"
      ],
      "text/plain": [
       "<IPython.core.display.Markdown object>"
      ]
     },
     "metadata": {},
     "output_type": "display_data"
    },
    {
     "data": {
      "text/markdown": [
       "[pYPK0_RPL16A_EcacpS_RPL17A.ipynb](pYPK0_RPL16A_EcacpS_RPL17A.ipynb)"
      ],
      "text/plain": [
       "<IPython.core.display.Markdown object>"
      ]
     },
     "metadata": {},
     "output_type": "display_data"
    }
   ],
   "source": [
    "for cv in cassette_vectors:\n",
    "    cassette_vector = Path(cv).with_suffix('.ipynb')\n",
    "    display(Markdown(f\"[{cassette_vector}]({cassette_vector})\"))"
   ]
  },
  {
   "cell_type": "markdown",
   "id": "19c3bf05",
   "metadata": {
    "lines_to_next_cell": 0
   },
   "source": [
    "### Suggested PCR conditions"
   ]
  },
  {
   "cell_type": "code",
   "execution_count": 27,
   "id": "d4b1362f",
   "metadata": {
    "execution": {
     "iopub.execute_input": "2023-02-04T07:23:53.561019Z",
     "iopub.status.busy": "2023-02-04T07:23:53.560813Z",
     "iopub.status.idle": "2023-02-04T07:23:53.568064Z",
     "shell.execute_reply": "2023-02-04T07:23:53.567542Z"
    }
   },
   "outputs": [
    {
     "name": "stdout",
     "output_type": "stream",
     "text": [
      "\n",
      "\n",
      "\n",
      "\n",
      "\n",
      "product name: PDC1_EcfabH_TEF1\n",
      "forward primer 577_crp585-557\n",
      "reverse primer 778_tp_Eco32I_rev\n",
      "|95°C|95°C               |    |tmf:64.6\n",
      "|____|_____          72°C|72°C|tmr:53.9\n",
      "|3min|30s  \\ 55.5°C _____|____|45s/kb\n",
      "|    |      \\______/ 2:05|5min|GC 43%\n",
      "|    |       30s         |    |2780bp\n",
      "\n",
      "\n",
      "\n",
      "\n",
      "\n",
      "product name: TEF1_EcfabD_FBA1\n",
      "forward primer 1123_New775\n",
      "reverse primer 778_tp_Eco32I_rev\n",
      "|95°C|95°C               |    |tmf:70.4\n",
      "|____|_____          72°C|72°C|tmr:53.9\n",
      "|3min|30s  \\ 55.6°C _____|____|45s/kb\n",
      "|    |      \\______/ 1:42|5min|GC 44%\n",
      "|    |       30s         |    |2282bp\n",
      "\n",
      "\n",
      "\n",
      "\n",
      "\n",
      "product name: FBA1_EcfabG_RPL22A\n",
      "forward primer 1123_New775\n",
      "reverse primer 778_tp_Eco32I_rev\n",
      "|95°C|95°C               |    |tmf:70.4\n",
      "|____|_____          72°C|72°C|tmr:53.9\n",
      "|3min|30s  \\ 54.6°C _____|____|45s/kb\n",
      "|    |      \\______/ 1:27|5min|GC 40%\n",
      "|    |       30s         |    |1934bp\n",
      "\n",
      "\n",
      "\n",
      "\n",
      "\n",
      "product name: RPL22A_EcacpP_TDH3\n",
      "forward primer 1123_New775\n",
      "reverse primer 778_tp_Eco32I_rev\n",
      "|95°C|95°C               |    |tmf:70.4\n",
      "|____|_____          72°C|72°C|tmr:53.9\n",
      "|3min|30s  \\ 53.2°C _____|____|45s/kb\n",
      "|    |      \\______/ 1:07|5min|GC 36%\n",
      "|    |       30s         |    |1504bp\n",
      "\n",
      "\n",
      "\n",
      "\n",
      "\n",
      "product name: TDH3_EcfabF_UTR2\n",
      "forward primer 1123_New775\n",
      "reverse primer 778_tp_Eco32I_rev\n",
      "|95°C|95°C               |    |tmf:70.4\n",
      "|____|_____          72°C|72°C|tmr:53.9\n",
      "|3min|30s  \\ 55.8°C _____|____|45s/kb\n",
      "|    |      \\______/ 2:01|5min|GC 44%\n",
      "|    |       30s         |    |2703bp\n",
      "\n",
      "\n",
      "\n",
      "\n",
      "\n",
      "product name: UTR2_EcfabB_TPI1\n",
      "forward primer 1123_New775\n",
      "reverse primer 778_tp_Eco32I_rev\n",
      "|95°C|95°C               |    |tmf:70.4\n",
      "|____|_____          72°C|72°C|tmr:53.9\n",
      "|3min|30s  \\ 56.4°C _____|____|45s/kb\n",
      "|    |      \\______/ 1:55|5min|GC 46%\n",
      "|    |       30s         |    |2566bp\n",
      "\n",
      "\n",
      "\n",
      "\n",
      "\n",
      "product name: TPI1_EcfabA_PMP3\n",
      "forward primer 1123_New775\n",
      "reverse primer 778_tp_Eco32I_rev\n",
      "|95°C|95°C               |    |tmf:70.4\n",
      "|____|_____          72°C|72°C|tmr:53.9\n",
      "|3min|30s  \\ 55.5°C _____|____|45s/kb\n",
      "|    |      \\______/ 1:30|5min|GC 43%\n",
      "|    |       30s         |    |2000bp\n",
      "\n",
      "\n",
      "\n",
      "\n",
      "\n",
      "product name: PMP3_EcfabZ_ENO2\n",
      "forward primer 1123_New775\n",
      "reverse primer 778_tp_Eco32I_rev\n",
      "|95°C|95°C               |    |tmf:70.4\n",
      "|____|_____          72°C|72°C|tmr:53.9\n",
      "|3min|30s  \\ 55.2°C _____|____|45s/kb\n",
      "|    |      \\______/ 1:24|5min|GC 42%\n",
      "|    |       30s         |    |1875bp\n",
      "\n",
      "\n",
      "\n",
      "\n",
      "\n",
      "product name: ENO2_EcfabI_RPL5\n",
      "forward primer 1123_New775\n",
      "reverse primer 778_tp_Eco32I_rev\n",
      "|95°C|95°C               |    |tmf:70.4\n",
      "|____|_____          72°C|72°C|tmr:53.9\n",
      "|3min|30s  \\ 55.2°C _____|____|45s/kb\n",
      "|    |      \\______/ 1:27|5min|GC 42%\n",
      "|    |       30s         |    |1953bp\n",
      "\n",
      "\n",
      "\n",
      "\n",
      "\n",
      "product name: RPL5_EctesA_RPL16A\n",
      "forward primer 1123_New775\n",
      "reverse primer 778_tp_Eco32I_rev\n",
      "|95°C|95°C               |    |tmf:70.4\n",
      "|____|_____          72°C|72°C|tmr:53.9\n",
      "|3min|30s  \\ 55.5°C _____|____|45s/kb\n",
      "|    |      \\______/ 1:17|5min|GC 43%\n",
      "|    |       30s         |    |1713bp\n",
      "\n",
      "\n",
      "\n",
      "\n",
      "\n",
      "product name: RPL16A_EcacpS_RPL17A\n",
      "forward primer 1123_New775\n",
      "reverse primer 578_crp42-70\n",
      "|95°C|95°C               |    |tmf:70.4\n",
      "|____|_____          72°C|72°C|tmr:65.0\n",
      "|3min|30s  \\ 58.7°C _____|____|45s/kb\n",
      "|    |      \\______/ 1:26|5min|GC 43%\n",
      "|    |       30s         |    |1916bp\n"
     ]
    }
   ],
   "source": [
    "for prd in cassette_pcr_products:\n",
    "    print(\"\\n\\n\\n\\n\")\n",
    "    print(\"product name:\", prd.name)\n",
    "    print(\"forward primer\", prd.forward_primer.name)\n",
    "    print(\"reverse primer\", prd.reverse_primer.name)\n",
    "    print(prd.program())"
   ]
  }
 ],
 "metadata": {
  "jupytext": {
   "main_language": "python",
   "text_representation": {
    "extension": ".py",
    "format_name": "percent",
    "format_version": "1.3",
    "jupytext_version": "1.14.0"
   }
  },
  "language_info": {
   "codemirror_mode": {
    "name": "ipython",
    "version": 3
   },
   "file_extension": ".py",
   "mimetype": "text/x-python",
   "name": "python",
   "nbconvert_exporter": "python",
   "pygments_lexer": "ipython3",
   "version": "3.11.0"
  }
 },
 "nbformat": 4,
 "nbformat_minor": 5
}
