{
 "cells": [
  {
   "cell_type": "markdown",
   "id": "a34691ab",
   "metadata": {},
   "source": [
    "# [![logo](logo.png)](https://github.com/BjornFJohansson/ypkpathway#-ypkpathway) pYPK0_FBA1_EcfabG_RPL22A\n",
    "\n",
    "Assembly of a [_Saccharomyces cerevisiae_](http://www.yeastgenome.org) transcriptional unit vector.\n",
    "\n",
    "Made from a linear vector fragment and three PCR products:\n",
    "\n",
    "- a linearized pYPK0 vector for maintenance in _S. cerevisiae_ or _E. coli_ (red dashed line in figure below)\n",
    "- a promoter PCR product from the `pYPKa_Z_FBA1` vector\n",
    "- a gene PCR product from the `pYPKa_A_EcfabG` vector\n",
    "- a terminator PCR product from the `pYPKa_E_RPL22A` vector\n",
    "\n",
    "The four linear DNA fragments are joined by _in-vivo_ homologous recombination in a\n",
    "[_Saccharomyces cerevisiae_](http://wiki.yeastgenome.org/index.php/Commonly_used_strains) strain.\n",
    "\n",
    "![tu](tu.png \"tu\")\n",
    "\n",
    "A part of the [pydna](https://pypi.python.org/pypi/pydna/) package is imported in the code cell below."
   ]
  },
  {
   "cell_type": "code",
   "execution_count": 1,
   "id": "5e2b98df",
   "metadata": {
    "execution": {
     "iopub.execute_input": "2023-02-04T07:22:43.164946Z",
     "iopub.status.busy": "2023-02-04T07:22:43.164431Z",
     "iopub.status.idle": "2023-02-04T07:22:43.518714Z",
     "shell.execute_reply": "2023-02-04T07:22:43.518100Z"
    }
   },
   "outputs": [],
   "source": [
    "from pydna.parsers import parse_primers\n",
    "from pydna.readers import read\n",
    "from pydna.amplify import pcr\n",
    "from pydna.assembly import Assembly"
   ]
  },
  {
   "cell_type": "markdown",
   "id": "a7bfe3e1",
   "metadata": {},
   "source": [
    "The Yeast Pathway Kit [standard primers](standard_primers.fasta) are read into a dictionary in the code cell below."
   ]
  },
  {
   "cell_type": "code",
   "execution_count": 2,
   "id": "12c82c51",
   "metadata": {
    "execution": {
     "iopub.execute_input": "2023-02-04T07:22:43.521844Z",
     "iopub.status.busy": "2023-02-04T07:22:43.521498Z",
     "iopub.status.idle": "2023-02-04T07:22:43.531446Z",
     "shell.execute_reply": "2023-02-04T07:22:43.530637Z"
    }
   },
   "outputs": [],
   "source": [
    "p = {x.name: x for x in parse_primers(\"standard_primers.fasta\")}"
   ]
  },
  {
   "cell_type": "markdown",
   "id": "b45dd4e8",
   "metadata": {},
   "source": [
    "The backbone vector [pYPK0](pYPK0.gb) is read from a local file in the code cell below."
   ]
  },
  {
   "cell_type": "code",
   "execution_count": 3,
   "id": "7ea6fcad",
   "metadata": {
    "execution": {
     "iopub.execute_input": "2023-02-04T07:22:43.534354Z",
     "iopub.status.busy": "2023-02-04T07:22:43.534039Z",
     "iopub.status.idle": "2023-02-04T07:22:43.543862Z",
     "shell.execute_reply": "2023-02-04T07:22:43.543346Z"
    }
   },
   "outputs": [],
   "source": [
    "backbone = read(\"pYPK0.gb\")"
   ]
  },
  {
   "cell_type": "markdown",
   "id": "62c75639",
   "metadata": {},
   "source": [
    "The backbone vector is linearized by digestion with [MfeI](https://www.google.com/search?q=MfeI)."
   ]
  },
  {
   "cell_type": "code",
   "execution_count": 4,
   "id": "72280549",
   "metadata": {
    "execution": {
     "iopub.execute_input": "2023-02-04T07:22:43.546544Z",
     "iopub.status.busy": "2023-02-04T07:22:43.546291Z",
     "iopub.status.idle": "2023-02-04T07:22:43.549348Z",
     "shell.execute_reply": "2023-02-04T07:22:43.548822Z"
    }
   },
   "outputs": [],
   "source": [
    "from Bio.Restriction import MfeI"
   ]
  },
  {
   "cell_type": "code",
   "execution_count": 5,
   "id": "c4f84611",
   "metadata": {
    "execution": {
     "iopub.execute_input": "2023-02-04T07:22:43.552760Z",
     "iopub.status.busy": "2023-02-04T07:22:43.552390Z",
     "iopub.status.idle": "2023-02-04T07:22:43.562171Z",
     "shell.execute_reply": "2023-02-04T07:22:43.561702Z"
    }
   },
   "outputs": [],
   "source": [
    "linear_backbone = backbone.linearize(MfeI)"
   ]
  },
  {
   "cell_type": "markdown",
   "id": "fe0826c5",
   "metadata": {},
   "source": [
    "The pYPKa derived _E. coli_ plasmids containing\n",
    "- [promoter](pYPKa_Z_FBA1.gb)\n",
    "- [gene](pYPKa_A_EcfabG.gb)\n",
    "- [terminator](pYPKa_E_RPL22A.gb)\n",
    "\n",
    "are read into three variables below."
   ]
  },
  {
   "cell_type": "code",
   "execution_count": 6,
   "id": "2c713fc0",
   "metadata": {
    "execution": {
     "iopub.execute_input": "2023-02-04T07:22:43.564722Z",
     "iopub.status.busy": "2023-02-04T07:22:43.564493Z",
     "iopub.status.idle": "2023-02-04T07:22:43.582118Z",
     "shell.execute_reply": "2023-02-04T07:22:43.581502Z"
    }
   },
   "outputs": [],
   "source": [
    "promoter_template   = read(\"pYPKa_Z_FBA1.gb\")\n",
    "gene_template       = read(\"pYPKa_A_EcfabG.gb\")\n",
    "terminator_template = read(\"pYPKa_E_RPL22A.gb\")"
   ]
  },
  {
   "cell_type": "markdown",
   "id": "6e1025fe",
   "metadata": {
    "lines_to_next_cell": 0
   },
   "source": [
    "### PCR\n",
    "Three DNA fragments are PCR amplified using [standard primers](standard_primers.fasta).\n",
    "\n",
    "[Suggested PCR programs](#Suggested-PCR-programs) can be found at the end of this document."
   ]
  },
  {
   "cell_type": "code",
   "execution_count": 7,
   "id": "9aa412e5",
   "metadata": {
    "execution": {
     "iopub.execute_input": "2023-02-04T07:22:43.585191Z",
     "iopub.status.busy": "2023-02-04T07:22:43.584967Z",
     "iopub.status.idle": "2023-02-04T07:22:43.588407Z",
     "shell.execute_reply": "2023-02-04T07:22:43.587836Z"
    }
   },
   "outputs": [],
   "source": [
    "\n",
    "fp_prom = p['577_crp585-557']\n",
    "rp_prom = p['567_pCAPsAjiIF']\n",
    "fp_gene = p['468_pCAPs_release_fw']\n",
    "rp_gene = p['467_pCAPs_release_re']\n",
    "fp_term = p['568_pCAPsAjiIR']\n",
    "rp_term = p['578_crp42-70']"
   ]
  },
  {
   "cell_type": "code",
   "execution_count": 8,
   "id": "164c2534",
   "metadata": {
    "execution": {
     "iopub.execute_input": "2023-02-04T07:22:43.593284Z",
     "iopub.status.busy": "2023-02-04T07:22:43.592524Z",
     "iopub.status.idle": "2023-02-04T07:22:43.619267Z",
     "shell.execute_reply": "2023-02-04T07:22:43.618412Z"
    }
   },
   "outputs": [],
   "source": [
    "prom = pcr(fp_prom, rp_prom, promoter_template)\n",
    "gene = pcr(fp_gene, rp_gene, gene_template)\n",
    "term = pcr(fp_term, rp_term, terminator_template)"
   ]
  },
  {
   "cell_type": "code",
   "execution_count": 9,
   "id": "10efd764",
   "metadata": {
    "execution": {
     "iopub.execute_input": "2023-02-04T07:22:43.623221Z",
     "iopub.status.busy": "2023-02-04T07:22:43.622717Z",
     "iopub.status.idle": "2023-02-04T07:22:43.626821Z",
     "shell.execute_reply": "2023-02-04T07:22:43.626036Z"
    }
   },
   "outputs": [],
   "source": [
    "prom.name = \"pYPKa_Z_FBA1\"[8:]\n",
    "gene.name = \"pYPKa_A_EcfabG\"[8:]\n",
    "term.name = \"pYPKa_E_RPL22A\"[8:]"
   ]
  },
  {
   "cell_type": "markdown",
   "id": "3b934ebf",
   "metadata": {},
   "source": [
    "\n",
    "The fragments will be assembled by _in-vivo_ [homologous recombination](http://www.ncbi.nlm.nih.gov/pubmed/2828185):"
   ]
  },
  {
   "cell_type": "code",
   "execution_count": 10,
   "id": "0fe0e9a2",
   "metadata": {
    "execution": {
     "iopub.execute_input": "2023-02-04T07:22:43.630266Z",
     "iopub.status.busy": "2023-02-04T07:22:43.629834Z",
     "iopub.status.idle": "2023-02-04T07:22:44.033353Z",
     "shell.execute_reply": "2023-02-04T07:22:44.032645Z"
    }
   },
   "outputs": [
    {
     "data": {
      "text/plain": [
       "Assembly\n",
       "fragments..: 5766bp 862bp 824bp 766bp\n",
       "limit(bp)..: 31\n",
       "G.nodes....: 10\n",
       "algorithm..: common_sub_strings"
      ]
     },
     "execution_count": 10,
     "metadata": {},
     "output_type": "execute_result"
    }
   ],
   "source": [
    "asm = Assembly((linear_backbone, prom, gene, term), limit=31)\n",
    "asm"
   ]
  },
  {
   "cell_type": "markdown",
   "id": "a750dd1e",
   "metadata": {},
   "source": [
    "The Assembly object above should normally indicate four fragments and eight nodes."
   ]
  },
  {
   "cell_type": "code",
   "execution_count": 11,
   "id": "de97aa8f",
   "metadata": {
    "execution": {
     "iopub.execute_input": "2023-02-04T07:22:44.036804Z",
     "iopub.status.busy": "2023-02-04T07:22:44.036234Z",
     "iopub.status.idle": "2023-02-04T07:22:44.270115Z",
     "shell.execute_reply": "2023-02-04T07:22:44.269351Z"
    },
    "lines_to_next_cell": 0
   },
   "outputs": [
    {
     "data": {
      "text/plain": [
       "[Contig(o7583), Contig(o7583), Contig(o7583), Contig(o6939), Contig(o6939)]"
      ]
     },
     "execution_count": 11,
     "metadata": {},
     "output_type": "execute_result"
    }
   ],
   "source": [
    "candidates = asm.assemble_circular()\n",
    "candidates"
   ]
  },
  {
   "cell_type": "markdown",
   "id": "4dd61fb0",
   "metadata": {},
   "source": [
    "There should normally be two candidates of equal size. These sequences should be identical."
   ]
  },
  {
   "cell_type": "code",
   "execution_count": 12,
   "id": "59a9d752",
   "metadata": {
    "execution": {
     "iopub.execute_input": "2023-02-04T07:22:44.274331Z",
     "iopub.status.busy": "2023-02-04T07:22:44.273784Z",
     "iopub.status.idle": "2023-02-04T07:22:44.277228Z",
     "shell.execute_reply": "2023-02-04T07:22:44.276458Z"
    },
    "lines_to_next_cell": 0
   },
   "outputs": [],
   "source": [
    "candidate, *rest = candidates"
   ]
  },
  {
   "cell_type": "code",
   "execution_count": 13,
   "id": "84951ddb",
   "metadata": {
    "execution": {
     "iopub.execute_input": "2023-02-04T07:22:44.280105Z",
     "iopub.status.busy": "2023-02-04T07:22:44.279838Z",
     "iopub.status.idle": "2023-02-04T07:22:44.297814Z",
     "shell.execute_reply": "2023-02-04T07:22:44.297152Z"
    },
    "lines_to_next_cell": 0
   },
   "outputs": [
    {
     "data": {
      "text/plain": [
       "True"
      ]
     },
     "execution_count": 13,
     "metadata": {},
     "output_type": "execute_result"
    }
   ],
   "source": [
    "candidate.cseguid() == rest[0].cseguid()"
   ]
  },
  {
   "cell_type": "code",
   "execution_count": 14,
   "id": "8ef9b4da",
   "metadata": {
    "execution": {
     "iopub.execute_input": "2023-02-04T07:22:44.301474Z",
     "iopub.status.busy": "2023-02-04T07:22:44.300770Z",
     "iopub.status.idle": "2023-02-04T07:22:44.305942Z",
     "shell.execute_reply": "2023-02-04T07:22:44.305246Z"
    },
    "lines_to_next_cell": 0
   },
   "outputs": [
    {
     "data": {
      "text/plain": [
       " -|pYPK0_lin|168\n",
       "|            \\/\n",
       "|            /\\\n",
       "|            168|FBA1|48\n",
       "|                     \\/\n",
       "|                     /\\\n",
       "|                     48|EcfabG|37\n",
       "|                               \\/\n",
       "|                               /\\\n",
       "|                               37|RPL22A|276\n",
       "|                                         \\/\n",
       "|                                         /\\\n",
       "|                                         276-\n",
       "|                                            |\n",
       " --------------------------------------------"
      ]
     },
     "execution_count": 14,
     "metadata": {},
     "output_type": "execute_result"
    }
   ],
   "source": [
    "candidate.figure()"
   ]
  },
  {
   "cell_type": "markdown",
   "id": "b6f782d2",
   "metadata": {},
   "source": [
    "The candidate vector is synchronized to the 577 primer. This means that\n",
    "the plasmid origin is shifted so that it matches the backbone vector."
   ]
  },
  {
   "cell_type": "code",
   "execution_count": 15,
   "id": "ea22d2d4",
   "metadata": {
    "execution": {
     "iopub.execute_input": "2023-02-04T07:22:44.309465Z",
     "iopub.status.busy": "2023-02-04T07:22:44.309045Z",
     "iopub.status.idle": "2023-02-04T07:22:44.610089Z",
     "shell.execute_reply": "2023-02-04T07:22:44.609459Z"
    }
   },
   "outputs": [],
   "source": [
    "result = candidate.synced(fp_prom)"
   ]
  },
  {
   "cell_type": "markdown",
   "id": "e981bfca",
   "metadata": {},
   "source": [
    "### Diagnostic PCR confirmation\n",
    "\n",
    "The structure of the final vector is confirmed by two\n",
    "separate PCR reactions, one for the promoter and gene and\n",
    "one for the gene and terminator.\n",
    "\n",
    "PCR using standard primers 577 and 467 to amplify promoter and gene."
   ]
  },
  {
   "cell_type": "code",
   "execution_count": 16,
   "id": "b4246953",
   "metadata": {
    "execution": {
     "iopub.execute_input": "2023-02-04T07:22:44.612829Z",
     "iopub.status.busy": "2023-02-04T07:22:44.612579Z",
     "iopub.status.idle": "2023-02-04T07:22:44.630816Z",
     "shell.execute_reply": "2023-02-04T07:22:44.630223Z"
    }
   },
   "outputs": [],
   "source": [
    "product = pcr( fp_prom, rp_gene, result)"
   ]
  },
  {
   "cell_type": "markdown",
   "id": "6f54123b",
   "metadata": {},
   "source": [
    "A correct clone should give this size in base pairs:"
   ]
  },
  {
   "cell_type": "code",
   "execution_count": 17,
   "id": "9eaaf267",
   "metadata": {
    "execution": {
     "iopub.execute_input": "2023-02-04T07:22:44.633822Z",
     "iopub.status.busy": "2023-02-04T07:22:44.633476Z",
     "iopub.status.idle": "2023-02-04T07:22:44.638376Z",
     "shell.execute_reply": "2023-02-04T07:22:44.637289Z"
    }
   },
   "outputs": [
    {
     "name": "stdout",
     "output_type": "stream",
     "text": [
      "1636\n"
     ]
    }
   ],
   "source": [
    "print(len(product))"
   ]
  },
  {
   "cell_type": "markdown",
   "id": "3bc8cf94",
   "metadata": {},
   "source": [
    "If the promoter is missing from the assembly, the PCR product will have this size in base pairs:"
   ]
  },
  {
   "cell_type": "code",
   "execution_count": 18,
   "id": "4a7f1c38",
   "metadata": {
    "execution": {
     "iopub.execute_input": "2023-02-04T07:22:44.642575Z",
     "iopub.status.busy": "2023-02-04T07:22:44.641889Z",
     "iopub.status.idle": "2023-02-04T07:22:44.646946Z",
     "shell.execute_reply": "2023-02-04T07:22:44.646072Z"
    }
   },
   "outputs": [
    {
     "name": "stdout",
     "output_type": "stream",
     "text": [
      "774\n"
     ]
    }
   ],
   "source": [
    "print(len(product) - len(prom))"
   ]
  },
  {
   "cell_type": "markdown",
   "id": "013bc090",
   "metadata": {},
   "source": [
    "If the gene is missing from the assembly, the PCR product will have this size in base pairs:"
   ]
  },
  {
   "cell_type": "code",
   "execution_count": 19,
   "id": "7da0388d",
   "metadata": {
    "execution": {
     "iopub.execute_input": "2023-02-04T07:22:44.650378Z",
     "iopub.status.busy": "2023-02-04T07:22:44.649984Z",
     "iopub.status.idle": "2023-02-04T07:22:44.656607Z",
     "shell.execute_reply": "2023-02-04T07:22:44.655716Z"
    }
   },
   "outputs": [
    {
     "name": "stdout",
     "output_type": "stream",
     "text": [
      "812\n"
     ]
    }
   ],
   "source": [
    "print(len(product) - len(gene))"
   ]
  },
  {
   "cell_type": "markdown",
   "id": "002eafb9",
   "metadata": {},
   "source": [
    "PCR using standard primers 468 and 578 to amplify gene and terminator."
   ]
  },
  {
   "cell_type": "code",
   "execution_count": 20,
   "id": "8bcf86ac",
   "metadata": {
    "execution": {
     "iopub.execute_input": "2023-02-04T07:22:44.659886Z",
     "iopub.status.busy": "2023-02-04T07:22:44.659608Z",
     "iopub.status.idle": "2023-02-04T07:22:44.681254Z",
     "shell.execute_reply": "2023-02-04T07:22:44.680658Z"
    }
   },
   "outputs": [],
   "source": [
    "product2 = pcr( fp_gene, rp_term, result)"
   ]
  },
  {
   "cell_type": "markdown",
   "id": "1aa3023d",
   "metadata": {},
   "source": [
    "A correct clone should give this size:"
   ]
  },
  {
   "cell_type": "code",
   "execution_count": 21,
   "id": "0a345529",
   "metadata": {
    "execution": {
     "iopub.execute_input": "2023-02-04T07:22:44.683918Z",
     "iopub.status.busy": "2023-02-04T07:22:44.683621Z",
     "iopub.status.idle": "2023-02-04T07:22:44.686915Z",
     "shell.execute_reply": "2023-02-04T07:22:44.686386Z"
    }
   },
   "outputs": [
    {
     "name": "stdout",
     "output_type": "stream",
     "text": [
      "1553\n"
     ]
    }
   ],
   "source": [
    "print(len(product2))"
   ]
  },
  {
   "cell_type": "markdown",
   "id": "d353aed1",
   "metadata": {},
   "source": [
    "If the gene is missing from the assembly, the PCR product will have this size in base pairs:"
   ]
  },
  {
   "cell_type": "code",
   "execution_count": 22,
   "id": "a79427c0",
   "metadata": {
    "execution": {
     "iopub.execute_input": "2023-02-04T07:22:44.690166Z",
     "iopub.status.busy": "2023-02-04T07:22:44.689860Z",
     "iopub.status.idle": "2023-02-04T07:22:44.693818Z",
     "shell.execute_reply": "2023-02-04T07:22:44.693129Z"
    }
   },
   "outputs": [
    {
     "name": "stdout",
     "output_type": "stream",
     "text": [
      "729\n"
     ]
    }
   ],
   "source": [
    "print(len(product2) - len(gene))"
   ]
  },
  {
   "cell_type": "markdown",
   "id": "8019656c",
   "metadata": {},
   "source": [
    "If the terminator is missing from the assembly, the PCR product will have this size in base pairs:"
   ]
  },
  {
   "cell_type": "code",
   "execution_count": 23,
   "id": "ee9f8ff3",
   "metadata": {
    "execution": {
     "iopub.execute_input": "2023-02-04T07:22:44.697224Z",
     "iopub.status.busy": "2023-02-04T07:22:44.696834Z",
     "iopub.status.idle": "2023-02-04T07:22:44.702825Z",
     "shell.execute_reply": "2023-02-04T07:22:44.701943Z"
    }
   },
   "outputs": [
    {
     "name": "stdout",
     "output_type": "stream",
     "text": [
      "787\n"
     ]
    }
   ],
   "source": [
    "print(len(product2) - len(term))"
   ]
  },
  {
   "cell_type": "markdown",
   "id": "d0b04ad4",
   "metadata": {},
   "source": [
    "The cseguid checksum for the resulting plasmid is calculated for future reference.\n",
    "The [cseguid checksum](http://pydna.readthedocs.org/en/latest/pydna.html#pydna.utils.cseguid)\n",
    "uniquely identifies a circular double stranded sequence."
   ]
  },
  {
   "cell_type": "code",
   "execution_count": 24,
   "id": "4e7a5309",
   "metadata": {
    "execution": {
     "iopub.execute_input": "2023-02-04T07:22:44.706345Z",
     "iopub.status.busy": "2023-02-04T07:22:44.705887Z",
     "iopub.status.idle": "2023-02-04T07:22:44.715127Z",
     "shell.execute_reply": "2023-02-04T07:22:44.714282Z"
    }
   },
   "outputs": [
    {
     "name": "stdout",
     "output_type": "stream",
     "text": [
      "0_8MWlK1r5MpcFdPHdcDb90Zftc\n"
     ]
    }
   ],
   "source": [
    "print(result.cseguid())"
   ]
  },
  {
   "cell_type": "markdown",
   "id": "f65dcdaf",
   "metadata": {},
   "source": [
    "The file name is based on the promoter, gene and terminator designations."
   ]
  },
  {
   "cell_type": "code",
   "execution_count": 25,
   "id": "7de8d6dc",
   "metadata": {
    "execution": {
     "iopub.execute_input": "2023-02-04T07:22:44.719135Z",
     "iopub.status.busy": "2023-02-04T07:22:44.718806Z",
     "iopub.status.idle": "2023-02-04T07:22:44.723123Z",
     "shell.execute_reply": "2023-02-04T07:22:44.722415Z"
    }
   },
   "outputs": [],
   "source": [
    "result.locus = f\"tu:{gene.name}\"[:16]\n",
    "result.definition = \"pYPK0_FBA1_EcfabG_RPL22A\""
   ]
  },
  {
   "cell_type": "markdown",
   "id": "9d678360",
   "metadata": {},
   "source": [
    "Sequence is stamped with cseguid checksum. This can be used to verify the\n",
    "integrity of the sequence file."
   ]
  },
  {
   "cell_type": "code",
   "execution_count": 26,
   "id": "b3ebd3ac",
   "metadata": {
    "execution": {
     "iopub.execute_input": "2023-02-04T07:22:44.725849Z",
     "iopub.status.busy": "2023-02-04T07:22:44.725643Z",
     "iopub.status.idle": "2023-02-04T07:22:44.735739Z",
     "shell.execute_reply": "2023-02-04T07:22:44.734986Z"
    }
   },
   "outputs": [
    {
     "data": {
      "text/plain": [
       "0_8MWlK1r5MpcFdPHdcDb90Zftc"
      ]
     },
     "execution_count": 26,
     "metadata": {},
     "output_type": "execute_result"
    }
   ],
   "source": [
    "result.stamp(\"cSEGUID\")"
   ]
  },
  {
   "cell_type": "markdown",
   "id": "e1686f3a",
   "metadata": {},
   "source": [
    "Write sequence to a local file."
   ]
  },
  {
   "cell_type": "code",
   "execution_count": 27,
   "id": "a8e04582",
   "metadata": {
    "execution": {
     "iopub.execute_input": "2023-02-04T07:22:44.738928Z",
     "iopub.status.busy": "2023-02-04T07:22:44.738571Z",
     "iopub.status.idle": "2023-02-04T07:22:44.759113Z",
     "shell.execute_reply": "2023-02-04T07:22:44.758488Z"
    }
   },
   "outputs": [
    {
     "data": {
      "text/html": [
       "<font face=monospace><a href='pYPK0_FBA1_EcfabG_RPL22A.gb' target='_blank'>pYPK0_FBA1_EcfabG_RPL22A.gb</a></font><br>"
      ]
     },
     "metadata": {},
     "output_type": "display_data"
    }
   ],
   "source": [
    "result.write(f\"{result.definition}.gb\")"
   ]
  },
  {
   "cell_type": "markdown",
   "id": "1fd186a0",
   "metadata": {
    "lines_to_next_cell": 0
   },
   "source": [
    "### Suggested PCR programs\n",
    "\n",
    "For the [amplification](#PCR) of promoter, gene and terminator."
   ]
  },
  {
   "cell_type": "code",
   "execution_count": 28,
   "id": "f953c1ce",
   "metadata": {
    "execution": {
     "iopub.execute_input": "2023-02-04T07:22:44.762471Z",
     "iopub.status.busy": "2023-02-04T07:22:44.761962Z",
     "iopub.status.idle": "2023-02-04T07:22:44.766510Z",
     "shell.execute_reply": "2023-02-04T07:22:44.765849Z"
    }
   },
   "outputs": [
    {
     "name": "stdout",
     "output_type": "stream",
     "text": [
      "577_crp585-557 567_pCAPsAjiIF\n",
      "|95°C|95°C               |    |tmf:64.6\n",
      "|____|_____          72°C|72°C|tmr:69.7\n",
      "|3min|30s  \\ 57.2°C _____|____|45s/kb\n",
      "|    |      \\______/ 0:38|5min|GC 39%\n",
      "|    |       30s         |    |862bp\n"
     ]
    }
   ],
   "source": [
    "print(prom.forward_primer.name, prom.reverse_primer.name)\n",
    "print(prom.program())"
   ]
  },
  {
   "cell_type": "code",
   "execution_count": 29,
   "id": "e4d2b747",
   "metadata": {
    "execution": {
     "iopub.execute_input": "2023-02-04T07:22:44.770815Z",
     "iopub.status.busy": "2023-02-04T07:22:44.770505Z",
     "iopub.status.idle": "2023-02-04T07:22:44.775692Z",
     "shell.execute_reply": "2023-02-04T07:22:44.774918Z"
    }
   },
   "outputs": [
    {
     "name": "stdout",
     "output_type": "stream",
     "text": [
      "468_pCAPs_release_fw 467_pCAPs_release_re\n",
      "|95°C|95°C               |    |tmf:76.9\n",
      "|____|_____          72°C|72°C|tmr:67.9\n",
      "|3min|30s  \\ 61.6°C _____|____|45s/kb\n",
      "|    |      \\______/ 0:37|5min|GC 51%\n",
      "|    |       30s         |    |824bp\n"
     ]
    }
   ],
   "source": [
    "print(gene.forward_primer.name, gene.reverse_primer.name)\n",
    "print(gene.program())"
   ]
  },
  {
   "cell_type": "code",
   "execution_count": 30,
   "id": "7b923bde",
   "metadata": {
    "execution": {
     "iopub.execute_input": "2023-02-04T07:22:44.778931Z",
     "iopub.status.busy": "2023-02-04T07:22:44.778642Z",
     "iopub.status.idle": "2023-02-04T07:22:44.783761Z",
     "shell.execute_reply": "2023-02-04T07:22:44.782917Z"
    }
   },
   "outputs": [
    {
     "name": "stdout",
     "output_type": "stream",
     "text": [
      "568_pCAPsAjiIR 578_crp42-70\n",
      "|95°C|95°C               |    |tmf:66.1\n",
      "|____|_____          72°C|72°C|tmr:65.0\n",
      "|3min|30s  \\ 56.0°C _____|____|45s/kb\n",
      "|    |      \\______/ 0:34|5min|GC 35%\n",
      "|    |       30s         |    |766bp\n"
     ]
    }
   ],
   "source": [
    "print(term.forward_primer.name, term.reverse_primer.name)\n",
    "print(term.program())"
   ]
  }
 ],
 "metadata": {
  "jupytext": {
   "main_language": "python",
   "text_representation": {
    "extension": ".py",
    "format_name": "percent",
    "format_version": "1.3",
    "jupytext_version": "1.14.0"
   }
  },
  "language_info": {
   "codemirror_mode": {
    "name": "ipython",
    "version": 3
   },
   "file_extension": ".py",
   "mimetype": "text/x-python",
   "name": "python",
   "nbconvert_exporter": "python",
   "pygments_lexer": "ipython3",
   "version": "3.11.0"
  }
 },
 "nbformat": 4,
 "nbformat_minor": 5
}
