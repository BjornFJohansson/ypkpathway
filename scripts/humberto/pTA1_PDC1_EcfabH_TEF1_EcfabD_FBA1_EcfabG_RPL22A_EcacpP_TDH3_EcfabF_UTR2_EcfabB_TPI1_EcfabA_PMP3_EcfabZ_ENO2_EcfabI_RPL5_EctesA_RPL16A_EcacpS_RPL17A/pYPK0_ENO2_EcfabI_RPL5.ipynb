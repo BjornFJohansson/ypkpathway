{
 "cells": [
  {
   "cell_type": "markdown",
   "id": "77295add",
   "metadata": {},
   "source": [
    "# [![logo](logo.png)](https://github.com/BjornFJohansson/ypkpathway#-ypkpathway) pYPK0_ENO2_EcfabI_RPL5\n",
    "\n",
    "Assembly of a [_Saccharomyces cerevisiae_](http://www.yeastgenome.org) transcriptional unit vector.\n",
    "\n",
    "Made from a linear vector fragment and three PCR products:\n",
    "\n",
    "- a linearized pYPK0 vector for maintenance in _S. cerevisiae_ or _E. coli_ (red dashed line in figure below)\n",
    "- a promoter PCR product from the `pYPKa_Z_ENO2` vector\n",
    "- a gene PCR product from the `pYPKa_A_EcfabI` vector\n",
    "- a terminator PCR product from the `pYPKa_E_RPL5` vector\n",
    "\n",
    "The four linear DNA fragments are joined by _in-vivo_ homologous recombination in a\n",
    "[_Saccharomyces cerevisiae_](http://wiki.yeastgenome.org/index.php/Commonly_used_strains) strain.\n",
    "\n",
    "![tu](tu.png \"tu\")\n",
    "\n",
    "A part of the [pydna](https://pypi.python.org/pypi/pydna/) package is imported in the code cell below."
   ]
  },
  {
   "cell_type": "code",
   "execution_count": 1,
   "id": "5c9a1665",
   "metadata": {
    "execution": {
     "iopub.execute_input": "2023-02-04T07:23:01.517775Z",
     "iopub.status.busy": "2023-02-04T07:23:01.516906Z",
     "iopub.status.idle": "2023-02-04T07:23:01.910977Z",
     "shell.execute_reply": "2023-02-04T07:23:01.910387Z"
    }
   },
   "outputs": [],
   "source": [
    "from pydna.parsers import parse_primers\n",
    "from pydna.readers import read\n",
    "from pydna.amplify import pcr\n",
    "from pydna.assembly import Assembly"
   ]
  },
  {
   "cell_type": "markdown",
   "id": "87591698",
   "metadata": {},
   "source": [
    "The Yeast Pathway Kit [standard primers](standard_primers.fasta) are read into a dictionary in the code cell below."
   ]
  },
  {
   "cell_type": "code",
   "execution_count": 2,
   "id": "6d14f66f",
   "metadata": {
    "execution": {
     "iopub.execute_input": "2023-02-04T07:23:01.914349Z",
     "iopub.status.busy": "2023-02-04T07:23:01.914000Z",
     "iopub.status.idle": "2023-02-04T07:23:01.924711Z",
     "shell.execute_reply": "2023-02-04T07:23:01.924097Z"
    }
   },
   "outputs": [],
   "source": [
    "p = {x.name: x for x in parse_primers(\"standard_primers.fasta\")}"
   ]
  },
  {
   "cell_type": "markdown",
   "id": "bd5bd776",
   "metadata": {},
   "source": [
    "The backbone vector [pYPK0](pYPK0.gb) is read from a local file in the code cell below."
   ]
  },
  {
   "cell_type": "code",
   "execution_count": 3,
   "id": "5c161bc4",
   "metadata": {
    "execution": {
     "iopub.execute_input": "2023-02-04T07:23:01.927952Z",
     "iopub.status.busy": "2023-02-04T07:23:01.927468Z",
     "iopub.status.idle": "2023-02-04T07:23:01.939994Z",
     "shell.execute_reply": "2023-02-04T07:23:01.939387Z"
    }
   },
   "outputs": [],
   "source": [
    "backbone = read(\"pYPK0.gb\")"
   ]
  },
  {
   "cell_type": "markdown",
   "id": "ce4663bb",
   "metadata": {},
   "source": [
    "The backbone vector is linearized by digestion with [MfeI](https://www.google.com/search?q=MfeI)."
   ]
  },
  {
   "cell_type": "code",
   "execution_count": 4,
   "id": "1c52fcc0",
   "metadata": {
    "execution": {
     "iopub.execute_input": "2023-02-04T07:23:01.943171Z",
     "iopub.status.busy": "2023-02-04T07:23:01.942740Z",
     "iopub.status.idle": "2023-02-04T07:23:01.945987Z",
     "shell.execute_reply": "2023-02-04T07:23:01.945398Z"
    }
   },
   "outputs": [],
   "source": [
    "from Bio.Restriction import MfeI"
   ]
  },
  {
   "cell_type": "code",
   "execution_count": 5,
   "id": "e084045e",
   "metadata": {
    "execution": {
     "iopub.execute_input": "2023-02-04T07:23:01.949118Z",
     "iopub.status.busy": "2023-02-04T07:23:01.948421Z",
     "iopub.status.idle": "2023-02-04T07:23:01.959183Z",
     "shell.execute_reply": "2023-02-04T07:23:01.958487Z"
    }
   },
   "outputs": [],
   "source": [
    "linear_backbone = backbone.linearize(MfeI)"
   ]
  },
  {
   "cell_type": "markdown",
   "id": "e60c4559",
   "metadata": {},
   "source": [
    "The pYPKa derived _E. coli_ plasmids containing\n",
    "- [promoter](pYPKa_Z_ENO2.gb)\n",
    "- [gene](pYPKa_A_EcfabI.gb)\n",
    "- [terminator](pYPKa_E_RPL5.gb)\n",
    "\n",
    "are read into three variables below."
   ]
  },
  {
   "cell_type": "code",
   "execution_count": 6,
   "id": "bdf09b6b",
   "metadata": {
    "execution": {
     "iopub.execute_input": "2023-02-04T07:23:01.961817Z",
     "iopub.status.busy": "2023-02-04T07:23:01.961572Z",
     "iopub.status.idle": "2023-02-04T07:23:01.979449Z",
     "shell.execute_reply": "2023-02-04T07:23:01.978842Z"
    }
   },
   "outputs": [],
   "source": [
    "promoter_template   = read(\"pYPKa_Z_ENO2.gb\")\n",
    "gene_template       = read(\"pYPKa_A_EcfabI.gb\")\n",
    "terminator_template = read(\"pYPKa_E_RPL5.gb\")"
   ]
  },
  {
   "cell_type": "markdown",
   "id": "e6a3d970",
   "metadata": {
    "lines_to_next_cell": 0
   },
   "source": [
    "### PCR\n",
    "Three DNA fragments are PCR amplified using [standard primers](standard_primers.fasta).\n",
    "\n",
    "[Suggested PCR programs](#Suggested-PCR-programs) can be found at the end of this document."
   ]
  },
  {
   "cell_type": "code",
   "execution_count": 7,
   "id": "3e826143",
   "metadata": {
    "execution": {
     "iopub.execute_input": "2023-02-04T07:23:01.982377Z",
     "iopub.status.busy": "2023-02-04T07:23:01.981950Z",
     "iopub.status.idle": "2023-02-04T07:23:01.986100Z",
     "shell.execute_reply": "2023-02-04T07:23:01.985284Z"
    }
   },
   "outputs": [],
   "source": [
    "\n",
    "fp_prom = p['577_crp585-557']\n",
    "rp_prom = p['567_pCAPsAjiIF']\n",
    "fp_gene = p['468_pCAPs_release_fw']\n",
    "rp_gene = p['467_pCAPs_release_re']\n",
    "fp_term = p['568_pCAPsAjiIR']\n",
    "rp_term = p['578_crp42-70']"
   ]
  },
  {
   "cell_type": "code",
   "execution_count": 8,
   "id": "12a9966d",
   "metadata": {
    "execution": {
     "iopub.execute_input": "2023-02-04T07:23:01.990750Z",
     "iopub.status.busy": "2023-02-04T07:23:01.989843Z",
     "iopub.status.idle": "2023-02-04T07:23:02.019453Z",
     "shell.execute_reply": "2023-02-04T07:23:02.018857Z"
    }
   },
   "outputs": [],
   "source": [
    "prom = pcr(fp_prom, rp_prom, promoter_template)\n",
    "gene = pcr(fp_gene, rp_gene, gene_template)\n",
    "term = pcr(fp_term, rp_term, terminator_template)"
   ]
  },
  {
   "cell_type": "code",
   "execution_count": 9,
   "id": "f50bfa5d",
   "metadata": {
    "execution": {
     "iopub.execute_input": "2023-02-04T07:23:02.022300Z",
     "iopub.status.busy": "2023-02-04T07:23:02.022099Z",
     "iopub.status.idle": "2023-02-04T07:23:02.025196Z",
     "shell.execute_reply": "2023-02-04T07:23:02.024691Z"
    }
   },
   "outputs": [],
   "source": [
    "prom.name = \"pYPKa_Z_ENO2\"[8:]\n",
    "gene.name = \"pYPKa_A_EcfabI\"[8:]\n",
    "term.name = \"pYPKa_E_RPL5\"[8:]"
   ]
  },
  {
   "cell_type": "markdown",
   "id": "c07a8a8e",
   "metadata": {},
   "source": [
    "\n",
    "The fragments will be assembled by _in-vivo_ [homologous recombination](http://www.ncbi.nlm.nih.gov/pubmed/2828185):"
   ]
  },
  {
   "cell_type": "code",
   "execution_count": 10,
   "id": "aa7d1b51",
   "metadata": {
    "execution": {
     "iopub.execute_input": "2023-02-04T07:23:02.027936Z",
     "iopub.status.busy": "2023-02-04T07:23:02.027487Z",
     "iopub.status.idle": "2023-02-04T07:23:02.452653Z",
     "shell.execute_reply": "2023-02-04T07:23:02.452124Z"
    }
   },
   "outputs": [
    {
     "data": {
      "text/plain": [
       "Assembly\n",
       "fragments..: 5766bp 752bp 878bp 841bp\n",
       "limit(bp)..: 31\n",
       "G.nodes....: 10\n",
       "algorithm..: common_sub_strings"
      ]
     },
     "execution_count": 10,
     "metadata": {},
     "output_type": "execute_result"
    }
   ],
   "source": [
    "asm = Assembly((linear_backbone, prom, gene, term), limit=31)\n",
    "asm"
   ]
  },
  {
   "cell_type": "markdown",
   "id": "4eedea3a",
   "metadata": {},
   "source": [
    "The Assembly object above should normally indicate four fragments and eight nodes."
   ]
  },
  {
   "cell_type": "code",
   "execution_count": 11,
   "id": "39b20845",
   "metadata": {
    "execution": {
     "iopub.execute_input": "2023-02-04T07:23:02.455545Z",
     "iopub.status.busy": "2023-02-04T07:23:02.455209Z",
     "iopub.status.idle": "2023-02-04T07:23:02.686530Z",
     "shell.execute_reply": "2023-02-04T07:23:02.685935Z"
    },
    "lines_to_next_cell": 0
   },
   "outputs": [
    {
     "data": {
      "text/plain": [
       "[Contig(o7602), Contig(o7602), Contig(o7602), Contig(o7068), Contig(o7068)]"
      ]
     },
     "execution_count": 11,
     "metadata": {},
     "output_type": "execute_result"
    }
   ],
   "source": [
    "candidates = asm.assemble_circular()\n",
    "candidates"
   ]
  },
  {
   "cell_type": "markdown",
   "id": "9b304e07",
   "metadata": {},
   "source": [
    "There should normally be two candidates of equal size. These sequences should be identical."
   ]
  },
  {
   "cell_type": "code",
   "execution_count": 12,
   "id": "6e74d7c9",
   "metadata": {
    "execution": {
     "iopub.execute_input": "2023-02-04T07:23:02.689349Z",
     "iopub.status.busy": "2023-02-04T07:23:02.688894Z",
     "iopub.status.idle": "2023-02-04T07:23:02.691838Z",
     "shell.execute_reply": "2023-02-04T07:23:02.691311Z"
    },
    "lines_to_next_cell": 0
   },
   "outputs": [],
   "source": [
    "candidate, *rest = candidates"
   ]
  },
  {
   "cell_type": "code",
   "execution_count": 13,
   "id": "31b543a5",
   "metadata": {
    "execution": {
     "iopub.execute_input": "2023-02-04T07:23:02.694901Z",
     "iopub.status.busy": "2023-02-04T07:23:02.694148Z",
     "iopub.status.idle": "2023-02-04T07:23:02.712388Z",
     "shell.execute_reply": "2023-02-04T07:23:02.711852Z"
    },
    "lines_to_next_cell": 0
   },
   "outputs": [
    {
     "data": {
      "text/plain": [
       "True"
      ]
     },
     "execution_count": 13,
     "metadata": {},
     "output_type": "execute_result"
    }
   ],
   "source": [
    "candidate.cseguid() == rest[0].cseguid()"
   ]
  },
  {
   "cell_type": "code",
   "execution_count": 14,
   "id": "5cdb169b",
   "metadata": {
    "execution": {
     "iopub.execute_input": "2023-02-04T07:23:02.714709Z",
     "iopub.status.busy": "2023-02-04T07:23:02.714468Z",
     "iopub.status.idle": "2023-02-04T07:23:02.719380Z",
     "shell.execute_reply": "2023-02-04T07:23:02.718407Z"
    },
    "lines_to_next_cell": 0
   },
   "outputs": [
    {
     "data": {
      "text/plain": [
       " -|pYPK0_lin|168\n",
       "|            \\/\n",
       "|            /\\\n",
       "|            168|ENO2|48\n",
       "|                     \\/\n",
       "|                     /\\\n",
       "|                     48|EcfabI|37\n",
       "|                               \\/\n",
       "|                               /\\\n",
       "|                               37|RPL5|276\n",
       "|                                       \\/\n",
       "|                                       /\\\n",
       "|                                       276-\n",
       "|                                          |\n",
       " ------------------------------------------"
      ]
     },
     "execution_count": 14,
     "metadata": {},
     "output_type": "execute_result"
    }
   ],
   "source": [
    "candidate.figure()"
   ]
  },
  {
   "cell_type": "markdown",
   "id": "2ea2f7c0",
   "metadata": {},
   "source": [
    "The candidate vector is synchronized to the 577 primer. This means that\n",
    "the plasmid origin is shifted so that it matches the backbone vector."
   ]
  },
  {
   "cell_type": "code",
   "execution_count": 15,
   "id": "4970da9c",
   "metadata": {
    "execution": {
     "iopub.execute_input": "2023-02-04T07:23:02.723232Z",
     "iopub.status.busy": "2023-02-04T07:23:02.722902Z",
     "iopub.status.idle": "2023-02-04T07:23:03.011135Z",
     "shell.execute_reply": "2023-02-04T07:23:03.010509Z"
    }
   },
   "outputs": [],
   "source": [
    "result = candidate.synced(fp_prom)"
   ]
  },
  {
   "cell_type": "markdown",
   "id": "11247187",
   "metadata": {},
   "source": [
    "### Diagnostic PCR confirmation\n",
    "\n",
    "The structure of the final vector is confirmed by two\n",
    "separate PCR reactions, one for the promoter and gene and\n",
    "one for the gene and terminator.\n",
    "\n",
    "PCR using standard primers 577 and 467 to amplify promoter and gene."
   ]
  },
  {
   "cell_type": "code",
   "execution_count": 16,
   "id": "2f450ec5",
   "metadata": {
    "execution": {
     "iopub.execute_input": "2023-02-04T07:23:03.014145Z",
     "iopub.status.busy": "2023-02-04T07:23:03.013690Z",
     "iopub.status.idle": "2023-02-04T07:23:03.034833Z",
     "shell.execute_reply": "2023-02-04T07:23:03.034241Z"
    }
   },
   "outputs": [],
   "source": [
    "product = pcr( fp_prom, rp_gene, result)"
   ]
  },
  {
   "cell_type": "markdown",
   "id": "43519481",
   "metadata": {},
   "source": [
    "A correct clone should give this size in base pairs:"
   ]
  },
  {
   "cell_type": "code",
   "execution_count": 17,
   "id": "bfee2719",
   "metadata": {
    "execution": {
     "iopub.execute_input": "2023-02-04T07:23:03.037478Z",
     "iopub.status.busy": "2023-02-04T07:23:03.037238Z",
     "iopub.status.idle": "2023-02-04T07:23:03.041214Z",
     "shell.execute_reply": "2023-02-04T07:23:03.040445Z"
    }
   },
   "outputs": [
    {
     "name": "stdout",
     "output_type": "stream",
     "text": [
      "1580\n"
     ]
    }
   ],
   "source": [
    "print(len(product))"
   ]
  },
  {
   "cell_type": "markdown",
   "id": "e0966151",
   "metadata": {},
   "source": [
    "If the promoter is missing from the assembly, the PCR product will have this size in base pairs:"
   ]
  },
  {
   "cell_type": "code",
   "execution_count": 18,
   "id": "e5acd440",
   "metadata": {
    "execution": {
     "iopub.execute_input": "2023-02-04T07:23:03.044482Z",
     "iopub.status.busy": "2023-02-04T07:23:03.044024Z",
     "iopub.status.idle": "2023-02-04T07:23:03.047609Z",
     "shell.execute_reply": "2023-02-04T07:23:03.047026Z"
    }
   },
   "outputs": [
    {
     "name": "stdout",
     "output_type": "stream",
     "text": [
      "828\n"
     ]
    }
   ],
   "source": [
    "print(len(product) - len(prom))"
   ]
  },
  {
   "cell_type": "markdown",
   "id": "313abb18",
   "metadata": {},
   "source": [
    "If the gene is missing from the assembly, the PCR product will have this size in base pairs:"
   ]
  },
  {
   "cell_type": "code",
   "execution_count": 19,
   "id": "6c18f6ba",
   "metadata": {
    "execution": {
     "iopub.execute_input": "2023-02-04T07:23:03.050152Z",
     "iopub.status.busy": "2023-02-04T07:23:03.049746Z",
     "iopub.status.idle": "2023-02-04T07:23:03.054333Z",
     "shell.execute_reply": "2023-02-04T07:23:03.053561Z"
    }
   },
   "outputs": [
    {
     "name": "stdout",
     "output_type": "stream",
     "text": [
      "702\n"
     ]
    }
   ],
   "source": [
    "print(len(product) - len(gene))"
   ]
  },
  {
   "cell_type": "markdown",
   "id": "c55cd3df",
   "metadata": {},
   "source": [
    "PCR using standard primers 468 and 578 to amplify gene and terminator."
   ]
  },
  {
   "cell_type": "code",
   "execution_count": 20,
   "id": "1870a1f2",
   "metadata": {
    "execution": {
     "iopub.execute_input": "2023-02-04T07:23:03.058344Z",
     "iopub.status.busy": "2023-02-04T07:23:03.057778Z",
     "iopub.status.idle": "2023-02-04T07:23:03.079614Z",
     "shell.execute_reply": "2023-02-04T07:23:03.079015Z"
    }
   },
   "outputs": [],
   "source": [
    "product2 = pcr( fp_gene, rp_term, result)"
   ]
  },
  {
   "cell_type": "markdown",
   "id": "25e6a69e",
   "metadata": {},
   "source": [
    "A correct clone should give this size:"
   ]
  },
  {
   "cell_type": "code",
   "execution_count": 21,
   "id": "fa95fed6",
   "metadata": {
    "execution": {
     "iopub.execute_input": "2023-02-04T07:23:03.082332Z",
     "iopub.status.busy": "2023-02-04T07:23:03.082072Z",
     "iopub.status.idle": "2023-02-04T07:23:03.087051Z",
     "shell.execute_reply": "2023-02-04T07:23:03.086409Z"
    }
   },
   "outputs": [
    {
     "name": "stdout",
     "output_type": "stream",
     "text": [
      "1682\n"
     ]
    }
   ],
   "source": [
    "print(len(product2))"
   ]
  },
  {
   "cell_type": "markdown",
   "id": "87b555c3",
   "metadata": {},
   "source": [
    "If the gene is missing from the assembly, the PCR product will have this size in base pairs:"
   ]
  },
  {
   "cell_type": "code",
   "execution_count": 22,
   "id": "1f561ec7",
   "metadata": {
    "execution": {
     "iopub.execute_input": "2023-02-04T07:23:03.091091Z",
     "iopub.status.busy": "2023-02-04T07:23:03.090792Z",
     "iopub.status.idle": "2023-02-04T07:23:03.095723Z",
     "shell.execute_reply": "2023-02-04T07:23:03.094900Z"
    }
   },
   "outputs": [
    {
     "name": "stdout",
     "output_type": "stream",
     "text": [
      "804\n"
     ]
    }
   ],
   "source": [
    "print(len(product2) - len(gene))"
   ]
  },
  {
   "cell_type": "markdown",
   "id": "3739399a",
   "metadata": {},
   "source": [
    "If the terminator is missing from the assembly, the PCR product will have this size in base pairs:"
   ]
  },
  {
   "cell_type": "code",
   "execution_count": 23,
   "id": "e95baf6d",
   "metadata": {
    "execution": {
     "iopub.execute_input": "2023-02-04T07:23:03.099065Z",
     "iopub.status.busy": "2023-02-04T07:23:03.098739Z",
     "iopub.status.idle": "2023-02-04T07:23:03.103156Z",
     "shell.execute_reply": "2023-02-04T07:23:03.102391Z"
    }
   },
   "outputs": [
    {
     "name": "stdout",
     "output_type": "stream",
     "text": [
      "841\n"
     ]
    }
   ],
   "source": [
    "print(len(product2) - len(term))"
   ]
  },
  {
   "cell_type": "markdown",
   "id": "2a0185c2",
   "metadata": {},
   "source": [
    "The cseguid checksum for the resulting plasmid is calculated for future reference.\n",
    "The [cseguid checksum](http://pydna.readthedocs.org/en/latest/pydna.html#pydna.utils.cseguid)\n",
    "uniquely identifies a circular double stranded sequence."
   ]
  },
  {
   "cell_type": "code",
   "execution_count": 24,
   "id": "631c8052",
   "metadata": {
    "execution": {
     "iopub.execute_input": "2023-02-04T07:23:03.106897Z",
     "iopub.status.busy": "2023-02-04T07:23:03.106646Z",
     "iopub.status.idle": "2023-02-04T07:23:03.117320Z",
     "shell.execute_reply": "2023-02-04T07:23:03.116233Z"
    }
   },
   "outputs": [
    {
     "name": "stdout",
     "output_type": "stream",
     "text": [
      "qh3heOYKC4m0vrH43UzheBnMSnc\n"
     ]
    }
   ],
   "source": [
    "print(result.cseguid())"
   ]
  },
  {
   "cell_type": "markdown",
   "id": "f9bc4623",
   "metadata": {},
   "source": [
    "The file name is based on the promoter, gene and terminator designations."
   ]
  },
  {
   "cell_type": "code",
   "execution_count": 25,
   "id": "94de8fe5",
   "metadata": {
    "execution": {
     "iopub.execute_input": "2023-02-04T07:23:03.120828Z",
     "iopub.status.busy": "2023-02-04T07:23:03.120340Z",
     "iopub.status.idle": "2023-02-04T07:23:03.124701Z",
     "shell.execute_reply": "2023-02-04T07:23:03.123960Z"
    }
   },
   "outputs": [],
   "source": [
    "result.locus = f\"tu:{gene.name}\"[:16]\n",
    "result.definition = \"pYPK0_ENO2_EcfabI_RPL5\""
   ]
  },
  {
   "cell_type": "markdown",
   "id": "ec3eaf86",
   "metadata": {},
   "source": [
    "Sequence is stamped with cseguid checksum. This can be used to verify the\n",
    "integrity of the sequence file."
   ]
  },
  {
   "cell_type": "code",
   "execution_count": 26,
   "id": "da29b909",
   "metadata": {
    "execution": {
     "iopub.execute_input": "2023-02-04T07:23:03.128146Z",
     "iopub.status.busy": "2023-02-04T07:23:03.127828Z",
     "iopub.status.idle": "2023-02-04T07:23:03.140748Z",
     "shell.execute_reply": "2023-02-04T07:23:03.140192Z"
    }
   },
   "outputs": [
    {
     "data": {
      "text/plain": [
       "qh3heOYKC4m0vrH43UzheBnMSnc"
      ]
     },
     "execution_count": 26,
     "metadata": {},
     "output_type": "execute_result"
    }
   ],
   "source": [
    "result.stamp(\"cSEGUID\")"
   ]
  },
  {
   "cell_type": "markdown",
   "id": "6b7a4574",
   "metadata": {},
   "source": [
    "Write sequence to a local file."
   ]
  },
  {
   "cell_type": "code",
   "execution_count": 27,
   "id": "b58e8894",
   "metadata": {
    "execution": {
     "iopub.execute_input": "2023-02-04T07:23:03.143522Z",
     "iopub.status.busy": "2023-02-04T07:23:03.143308Z",
     "iopub.status.idle": "2023-02-04T07:23:03.163325Z",
     "shell.execute_reply": "2023-02-04T07:23:03.162651Z"
    }
   },
   "outputs": [
    {
     "data": {
      "text/html": [
       "<font face=monospace><a href='pYPK0_ENO2_EcfabI_RPL5.gb' target='_blank'>pYPK0_ENO2_EcfabI_RPL5.gb</a></font><br>"
      ]
     },
     "metadata": {},
     "output_type": "display_data"
    }
   ],
   "source": [
    "result.write(f\"{result.definition}.gb\")"
   ]
  },
  {
   "cell_type": "markdown",
   "id": "4371d6e5",
   "metadata": {
    "lines_to_next_cell": 0
   },
   "source": [
    "### Suggested PCR programs\n",
    "\n",
    "For the [amplification](#PCR) of promoter, gene and terminator."
   ]
  },
  {
   "cell_type": "code",
   "execution_count": 28,
   "id": "6091ffbe",
   "metadata": {
    "execution": {
     "iopub.execute_input": "2023-02-04T07:23:03.165971Z",
     "iopub.status.busy": "2023-02-04T07:23:03.165753Z",
     "iopub.status.idle": "2023-02-04T07:23:03.169586Z",
     "shell.execute_reply": "2023-02-04T07:23:03.169066Z"
    }
   },
   "outputs": [
    {
     "name": "stdout",
     "output_type": "stream",
     "text": [
      "577_crp585-557 567_pCAPsAjiIF\n",
      "|95°C|95°C               |    |tmf:64.6\n",
      "|____|_____          72°C|72°C|tmr:69.7\n",
      "|3min|30s  \\ 57.1°C _____|____|45s/kb\n",
      "|    |      \\______/ 0:33|5min|GC 39%\n",
      "|    |       30s         |    |752bp\n"
     ]
    }
   ],
   "source": [
    "print(prom.forward_primer.name, prom.reverse_primer.name)\n",
    "print(prom.program())"
   ]
  },
  {
   "cell_type": "code",
   "execution_count": 29,
   "id": "441ceb91",
   "metadata": {
    "execution": {
     "iopub.execute_input": "2023-02-04T07:23:03.172265Z",
     "iopub.status.busy": "2023-02-04T07:23:03.171839Z",
     "iopub.status.idle": "2023-02-04T07:23:03.177371Z",
     "shell.execute_reply": "2023-02-04T07:23:03.176624Z"
    }
   },
   "outputs": [
    {
     "name": "stdout",
     "output_type": "stream",
     "text": [
      "468_pCAPs_release_fw 467_pCAPs_release_re\n",
      "|95°C|95°C               |    |tmf:76.9\n",
      "|____|_____          72°C|72°C|tmr:67.9\n",
      "|3min|30s  \\ 62.1°C _____|____|45s/kb\n",
      "|    |      \\______/ 0:39|5min|GC 53%\n",
      "|    |       30s         |    |878bp\n"
     ]
    }
   ],
   "source": [
    "print(gene.forward_primer.name, gene.reverse_primer.name)\n",
    "print(gene.program())"
   ]
  },
  {
   "cell_type": "code",
   "execution_count": 30,
   "id": "620fd86b",
   "metadata": {
    "execution": {
     "iopub.execute_input": "2023-02-04T07:23:03.180345Z",
     "iopub.status.busy": "2023-02-04T07:23:03.180046Z",
     "iopub.status.idle": "2023-02-04T07:23:03.185736Z",
     "shell.execute_reply": "2023-02-04T07:23:03.184635Z"
    }
   },
   "outputs": [
    {
     "name": "stdout",
     "output_type": "stream",
     "text": [
      "568_pCAPsAjiIR 578_crp42-70\n",
      "|95°C|95°C               |    |tmf:66.1\n",
      "|____|_____          72°C|72°C|tmr:65.0\n",
      "|3min|30s  \\ 56.8°C _____|____|45s/kb\n",
      "|    |      \\______/ 0:37|5min|GC 37%\n",
      "|    |       30s         |    |841bp\n"
     ]
    }
   ],
   "source": [
    "print(term.forward_primer.name, term.reverse_primer.name)\n",
    "print(term.program())"
   ]
  }
 ],
 "metadata": {
  "jupytext": {
   "main_language": "python",
   "text_representation": {
    "extension": ".py",
    "format_name": "percent",
    "format_version": "1.3",
    "jupytext_version": "1.14.0"
   }
  },
  "language_info": {
   "codemirror_mode": {
    "name": "ipython",
    "version": 3
   },
   "file_extension": ".py",
   "mimetype": "text/x-python",
   "name": "python",
   "nbconvert_exporter": "python",
   "pygments_lexer": "ipython3",
   "version": "3.11.0"
  }
 },
 "nbformat": 4,
 "nbformat_minor": 5
}
