{
 "cells": [
  {
   "cell_type": "markdown",
   "id": "50ae0133",
   "metadata": {},
   "source": [
    "# [![logo](logo.png)](https://github.com/BjornFJohansson/ypkpathway#-ypkpathway) pYPK0_RPL16A_EcacpS_RPL17A\n",
    "\n",
    "Assembly of a [_Saccharomyces cerevisiae_](http://www.yeastgenome.org) transcriptional unit vector.\n",
    "\n",
    "Made from a linear vector fragment and three PCR products:\n",
    "\n",
    "- a linearized pYPK0 vector for maintenance in _S. cerevisiae_ or _E. coli_ (red dashed line in figure below)\n",
    "- a promoter PCR product from the `pYPKa_Z_RPL16A` vector\n",
    "- a gene PCR product from the `pYPKa_A_EcacpS` vector\n",
    "- a terminator PCR product from the `pYPKa_E_RPL17A` vector\n",
    "\n",
    "The four linear DNA fragments are joined by _in-vivo_ homologous recombination in a\n",
    "[_Saccharomyces cerevisiae_](http://wiki.yeastgenome.org/index.php/Commonly_used_strains) strain.\n",
    "\n",
    "![tu](tu.png \"tu\")\n",
    "\n",
    "A part of the [pydna](https://pypi.python.org/pypi/pydna/) package is imported in the code cell below."
   ]
  },
  {
   "cell_type": "code",
   "execution_count": 1,
   "id": "77538ed2",
   "metadata": {
    "execution": {
     "iopub.execute_input": "2023-02-04T07:23:07.570306Z",
     "iopub.status.busy": "2023-02-04T07:23:07.570030Z",
     "iopub.status.idle": "2023-02-04T07:23:07.913928Z",
     "shell.execute_reply": "2023-02-04T07:23:07.913230Z"
    }
   },
   "outputs": [],
   "source": [
    "from pydna.parsers import parse_primers\n",
    "from pydna.readers import read\n",
    "from pydna.amplify import pcr\n",
    "from pydna.assembly import Assembly"
   ]
  },
  {
   "cell_type": "markdown",
   "id": "b32255c0",
   "metadata": {},
   "source": [
    "The Yeast Pathway Kit [standard primers](standard_primers.fasta) are read into a dictionary in the code cell below."
   ]
  },
  {
   "cell_type": "code",
   "execution_count": 2,
   "id": "2fcb5c85",
   "metadata": {
    "execution": {
     "iopub.execute_input": "2023-02-04T07:23:07.917676Z",
     "iopub.status.busy": "2023-02-04T07:23:07.917178Z",
     "iopub.status.idle": "2023-02-04T07:23:07.926246Z",
     "shell.execute_reply": "2023-02-04T07:23:07.925765Z"
    }
   },
   "outputs": [],
   "source": [
    "p = {x.name: x for x in parse_primers(\"standard_primers.fasta\")}"
   ]
  },
  {
   "cell_type": "markdown",
   "id": "5aafd6e4",
   "metadata": {},
   "source": [
    "The backbone vector [pYPK0](pYPK0.gb) is read from a local file in the code cell below."
   ]
  },
  {
   "cell_type": "code",
   "execution_count": 3,
   "id": "33be9dbd",
   "metadata": {
    "execution": {
     "iopub.execute_input": "2023-02-04T07:23:07.929339Z",
     "iopub.status.busy": "2023-02-04T07:23:07.928881Z",
     "iopub.status.idle": "2023-02-04T07:23:07.941357Z",
     "shell.execute_reply": "2023-02-04T07:23:07.940834Z"
    }
   },
   "outputs": [],
   "source": [
    "backbone = read(\"pYPK0.gb\")"
   ]
  },
  {
   "cell_type": "markdown",
   "id": "27706624",
   "metadata": {},
   "source": [
    "The backbone vector is linearized by digestion with [MfeI](https://www.google.com/search?q=MfeI)."
   ]
  },
  {
   "cell_type": "code",
   "execution_count": 4,
   "id": "093aa390",
   "metadata": {
    "execution": {
     "iopub.execute_input": "2023-02-04T07:23:07.944156Z",
     "iopub.status.busy": "2023-02-04T07:23:07.943942Z",
     "iopub.status.idle": "2023-02-04T07:23:07.947108Z",
     "shell.execute_reply": "2023-02-04T07:23:07.946440Z"
    }
   },
   "outputs": [],
   "source": [
    "from Bio.Restriction import MfeI"
   ]
  },
  {
   "cell_type": "code",
   "execution_count": 5,
   "id": "8e3e4bd3",
   "metadata": {
    "execution": {
     "iopub.execute_input": "2023-02-04T07:23:07.950602Z",
     "iopub.status.busy": "2023-02-04T07:23:07.950278Z",
     "iopub.status.idle": "2023-02-04T07:23:07.959218Z",
     "shell.execute_reply": "2023-02-04T07:23:07.958447Z"
    }
   },
   "outputs": [],
   "source": [
    "linear_backbone = backbone.linearize(MfeI)"
   ]
  },
  {
   "cell_type": "markdown",
   "id": "c38593cc",
   "metadata": {},
   "source": [
    "The pYPKa derived _E. coli_ plasmids containing\n",
    "- [promoter](pYPKa_Z_RPL16A.gb)\n",
    "- [gene](pYPKa_A_EcacpS.gb)\n",
    "- [terminator](pYPKa_E_RPL17A.gb)\n",
    "\n",
    "are read into three variables below."
   ]
  },
  {
   "cell_type": "code",
   "execution_count": 6,
   "id": "9b20dacc",
   "metadata": {
    "execution": {
     "iopub.execute_input": "2023-02-04T07:23:07.962111Z",
     "iopub.status.busy": "2023-02-04T07:23:07.961779Z",
     "iopub.status.idle": "2023-02-04T07:23:07.977545Z",
     "shell.execute_reply": "2023-02-04T07:23:07.976954Z"
    }
   },
   "outputs": [],
   "source": [
    "promoter_template   = read(\"pYPKa_Z_RPL16A.gb\")\n",
    "gene_template       = read(\"pYPKa_A_EcacpS.gb\")\n",
    "terminator_template = read(\"pYPKa_E_RPL17A.gb\")"
   ]
  },
  {
   "cell_type": "markdown",
   "id": "e4df79a8",
   "metadata": {
    "lines_to_next_cell": 0
   },
   "source": [
    "### PCR\n",
    "Three DNA fragments are PCR amplified using [standard primers](standard_primers.fasta).\n",
    "\n",
    "[Suggested PCR programs](#Suggested-PCR-programs) can be found at the end of this document."
   ]
  },
  {
   "cell_type": "code",
   "execution_count": 7,
   "id": "2e9dfbb9",
   "metadata": {
    "execution": {
     "iopub.execute_input": "2023-02-04T07:23:07.980520Z",
     "iopub.status.busy": "2023-02-04T07:23:07.980311Z",
     "iopub.status.idle": "2023-02-04T07:23:07.984275Z",
     "shell.execute_reply": "2023-02-04T07:23:07.983072Z"
    }
   },
   "outputs": [],
   "source": [
    "\n",
    "fp_prom = p['577_crp585-557']\n",
    "rp_prom = p['567_pCAPsAjiIF']\n",
    "fp_gene = p['468_pCAPs_release_fw']\n",
    "rp_gene = p['467_pCAPs_release_re']\n",
    "fp_term = p['568_pCAPsAjiIR']\n",
    "rp_term = p['578_crp42-70']"
   ]
  },
  {
   "cell_type": "code",
   "execution_count": 8,
   "id": "f42409a2",
   "metadata": {
    "execution": {
     "iopub.execute_input": "2023-02-04T07:23:07.988615Z",
     "iopub.status.busy": "2023-02-04T07:23:07.988269Z",
     "iopub.status.idle": "2023-02-04T07:23:08.015941Z",
     "shell.execute_reply": "2023-02-04T07:23:08.015334Z"
    }
   },
   "outputs": [],
   "source": [
    "prom = pcr(fp_prom, rp_prom, promoter_template)\n",
    "gene = pcr(fp_gene, rp_gene, gene_template)\n",
    "term = pcr(fp_term, rp_term, terminator_template)"
   ]
  },
  {
   "cell_type": "code",
   "execution_count": 9,
   "id": "c8ec1537",
   "metadata": {
    "execution": {
     "iopub.execute_input": "2023-02-04T07:23:08.019120Z",
     "iopub.status.busy": "2023-02-04T07:23:08.018574Z",
     "iopub.status.idle": "2023-02-04T07:23:08.021739Z",
     "shell.execute_reply": "2023-02-04T07:23:08.021197Z"
    }
   },
   "outputs": [],
   "source": [
    "prom.name = \"pYPKa_Z_RPL16A\"[8:]\n",
    "gene.name = \"pYPKa_A_EcacpS\"[8:]\n",
    "term.name = \"pYPKa_E_RPL17A\"[8:]"
   ]
  },
  {
   "cell_type": "markdown",
   "id": "70538ae5",
   "metadata": {},
   "source": [
    "\n",
    "The fragments will be assembled by _in-vivo_ [homologous recombination](http://www.ncbi.nlm.nih.gov/pubmed/2828185):"
   ]
  },
  {
   "cell_type": "code",
   "execution_count": 10,
   "id": "b3781d89",
   "metadata": {
    "execution": {
     "iopub.execute_input": "2023-02-04T07:23:08.025423Z",
     "iopub.status.busy": "2023-02-04T07:23:08.025109Z",
     "iopub.status.idle": "2023-02-04T07:23:08.414398Z",
     "shell.execute_reply": "2023-02-04T07:23:08.413746Z"
    }
   },
   "outputs": [
    {
     "data": {
      "text/plain": [
       "Assembly\n",
       "fragments..: 5766bp 674bp 470bp 1008bp\n",
       "limit(bp)..: 31\n",
       "G.nodes....: 10\n",
       "algorithm..: common_sub_strings"
      ]
     },
     "execution_count": 10,
     "metadata": {},
     "output_type": "execute_result"
    }
   ],
   "source": [
    "asm = Assembly((linear_backbone, prom, gene, term), limit=31)\n",
    "asm"
   ]
  },
  {
   "cell_type": "markdown",
   "id": "506a4a14",
   "metadata": {},
   "source": [
    "The Assembly object above should normally indicate four fragments and eight nodes."
   ]
  },
  {
   "cell_type": "code",
   "execution_count": 11,
   "id": "6f93050f",
   "metadata": {
    "execution": {
     "iopub.execute_input": "2023-02-04T07:23:08.417389Z",
     "iopub.status.busy": "2023-02-04T07:23:08.416978Z",
     "iopub.status.idle": "2023-02-04T07:23:08.637531Z",
     "shell.execute_reply": "2023-02-04T07:23:08.637038Z"
    },
    "lines_to_next_cell": 0
   },
   "outputs": [
    {
     "data": {
      "text/plain": [
       "[Contig(o7283), Contig(o7283), Contig(o7283), Contig(o6827), Contig(o6827)]"
      ]
     },
     "execution_count": 11,
     "metadata": {},
     "output_type": "execute_result"
    }
   ],
   "source": [
    "candidates = asm.assemble_circular()\n",
    "candidates"
   ]
  },
  {
   "cell_type": "markdown",
   "id": "b6dab740",
   "metadata": {},
   "source": [
    "There should normally be two candidates of equal size. These sequences should be identical."
   ]
  },
  {
   "cell_type": "code",
   "execution_count": 12,
   "id": "e2185411",
   "metadata": {
    "execution": {
     "iopub.execute_input": "2023-02-04T07:23:08.640204Z",
     "iopub.status.busy": "2023-02-04T07:23:08.639886Z",
     "iopub.status.idle": "2023-02-04T07:23:08.643198Z",
     "shell.execute_reply": "2023-02-04T07:23:08.642370Z"
    },
    "lines_to_next_cell": 0
   },
   "outputs": [],
   "source": [
    "candidate, *rest = candidates"
   ]
  },
  {
   "cell_type": "code",
   "execution_count": 13,
   "id": "31074d77",
   "metadata": {
    "execution": {
     "iopub.execute_input": "2023-02-04T07:23:08.646921Z",
     "iopub.status.busy": "2023-02-04T07:23:08.646281Z",
     "iopub.status.idle": "2023-02-04T07:23:08.663753Z",
     "shell.execute_reply": "2023-02-04T07:23:08.663298Z"
    },
    "lines_to_next_cell": 0
   },
   "outputs": [
    {
     "data": {
      "text/plain": [
       "True"
      ]
     },
     "execution_count": 13,
     "metadata": {},
     "output_type": "execute_result"
    }
   ],
   "source": [
    "candidate.cseguid() == rest[0].cseguid()"
   ]
  },
  {
   "cell_type": "code",
   "execution_count": 14,
   "id": "36a6007d",
   "metadata": {
    "execution": {
     "iopub.execute_input": "2023-02-04T07:23:08.666133Z",
     "iopub.status.busy": "2023-02-04T07:23:08.665902Z",
     "iopub.status.idle": "2023-02-04T07:23:08.670153Z",
     "shell.execute_reply": "2023-02-04T07:23:08.669609Z"
    },
    "lines_to_next_cell": 0
   },
   "outputs": [
    {
     "data": {
      "text/plain": [
       " -|pYPK0_lin|168\n",
       "|            \\/\n",
       "|            /\\\n",
       "|            168|RPL16A|48\n",
       "|                       \\/\n",
       "|                       /\\\n",
       "|                       48|EcacpS|37\n",
       "|                                 \\/\n",
       "|                                 /\\\n",
       "|                                 37|RPL17A|276\n",
       "|                                           \\/\n",
       "|                                           /\\\n",
       "|                                           276-\n",
       "|                                              |\n",
       " ----------------------------------------------"
      ]
     },
     "execution_count": 14,
     "metadata": {},
     "output_type": "execute_result"
    }
   ],
   "source": [
    "candidate.figure()"
   ]
  },
  {
   "cell_type": "markdown",
   "id": "fbf9bc24",
   "metadata": {},
   "source": [
    "The candidate vector is synchronized to the 577 primer. This means that\n",
    "the plasmid origin is shifted so that it matches the backbone vector."
   ]
  },
  {
   "cell_type": "code",
   "execution_count": 15,
   "id": "79e8b9e9",
   "metadata": {
    "execution": {
     "iopub.execute_input": "2023-02-04T07:23:08.674584Z",
     "iopub.status.busy": "2023-02-04T07:23:08.674193Z",
     "iopub.status.idle": "2023-02-04T07:23:08.961674Z",
     "shell.execute_reply": "2023-02-04T07:23:08.961027Z"
    }
   },
   "outputs": [],
   "source": [
    "result = candidate.synced(fp_prom)"
   ]
  },
  {
   "cell_type": "markdown",
   "id": "3f34105c",
   "metadata": {},
   "source": [
    "### Diagnostic PCR confirmation\n",
    "\n",
    "The structure of the final vector is confirmed by two\n",
    "separate PCR reactions, one for the promoter and gene and\n",
    "one for the gene and terminator.\n",
    "\n",
    "PCR using standard primers 577 and 467 to amplify promoter and gene."
   ]
  },
  {
   "cell_type": "code",
   "execution_count": 16,
   "id": "003f7e40",
   "metadata": {
    "execution": {
     "iopub.execute_input": "2023-02-04T07:23:08.964713Z",
     "iopub.status.busy": "2023-02-04T07:23:08.964496Z",
     "iopub.status.idle": "2023-02-04T07:23:08.983398Z",
     "shell.execute_reply": "2023-02-04T07:23:08.982565Z"
    }
   },
   "outputs": [],
   "source": [
    "product = pcr( fp_prom, rp_gene, result)"
   ]
  },
  {
   "cell_type": "markdown",
   "id": "86747427",
   "metadata": {},
   "source": [
    "A correct clone should give this size in base pairs:"
   ]
  },
  {
   "cell_type": "code",
   "execution_count": 17,
   "id": "570911b1",
   "metadata": {
    "execution": {
     "iopub.execute_input": "2023-02-04T07:23:08.986084Z",
     "iopub.status.busy": "2023-02-04T07:23:08.985818Z",
     "iopub.status.idle": "2023-02-04T07:23:08.989064Z",
     "shell.execute_reply": "2023-02-04T07:23:08.988547Z"
    }
   },
   "outputs": [
    {
     "name": "stdout",
     "output_type": "stream",
     "text": [
      "1094\n"
     ]
    }
   ],
   "source": [
    "print(len(product))"
   ]
  },
  {
   "cell_type": "markdown",
   "id": "0fb9310f",
   "metadata": {},
   "source": [
    "If the promoter is missing from the assembly, the PCR product will have this size in base pairs:"
   ]
  },
  {
   "cell_type": "code",
   "execution_count": 18,
   "id": "c3b922f2",
   "metadata": {
    "execution": {
     "iopub.execute_input": "2023-02-04T07:23:08.992355Z",
     "iopub.status.busy": "2023-02-04T07:23:08.992002Z",
     "iopub.status.idle": "2023-02-04T07:23:08.996602Z",
     "shell.execute_reply": "2023-02-04T07:23:08.995615Z"
    }
   },
   "outputs": [
    {
     "name": "stdout",
     "output_type": "stream",
     "text": [
      "420\n"
     ]
    }
   ],
   "source": [
    "print(len(product) - len(prom))"
   ]
  },
  {
   "cell_type": "markdown",
   "id": "9d65ec3c",
   "metadata": {},
   "source": [
    "If the gene is missing from the assembly, the PCR product will have this size in base pairs:"
   ]
  },
  {
   "cell_type": "code",
   "execution_count": 19,
   "id": "ceac640c",
   "metadata": {
    "execution": {
     "iopub.execute_input": "2023-02-04T07:23:09.000729Z",
     "iopub.status.busy": "2023-02-04T07:23:09.000316Z",
     "iopub.status.idle": "2023-02-04T07:23:09.004781Z",
     "shell.execute_reply": "2023-02-04T07:23:09.004025Z"
    }
   },
   "outputs": [
    {
     "name": "stdout",
     "output_type": "stream",
     "text": [
      "624\n"
     ]
    }
   ],
   "source": [
    "print(len(product) - len(gene))"
   ]
  },
  {
   "cell_type": "markdown",
   "id": "27fe24f5",
   "metadata": {},
   "source": [
    "PCR using standard primers 468 and 578 to amplify gene and terminator."
   ]
  },
  {
   "cell_type": "code",
   "execution_count": 20,
   "id": "1bd703eb",
   "metadata": {
    "execution": {
     "iopub.execute_input": "2023-02-04T07:23:09.008841Z",
     "iopub.status.busy": "2023-02-04T07:23:09.008335Z",
     "iopub.status.idle": "2023-02-04T07:23:09.029357Z",
     "shell.execute_reply": "2023-02-04T07:23:09.028777Z"
    }
   },
   "outputs": [],
   "source": [
    "product2 = pcr( fp_gene, rp_term, result)"
   ]
  },
  {
   "cell_type": "markdown",
   "id": "2e6dd57a",
   "metadata": {},
   "source": [
    "A correct clone should give this size:"
   ]
  },
  {
   "cell_type": "code",
   "execution_count": 21,
   "id": "e219432c",
   "metadata": {
    "execution": {
     "iopub.execute_input": "2023-02-04T07:23:09.032279Z",
     "iopub.status.busy": "2023-02-04T07:23:09.031823Z",
     "iopub.status.idle": "2023-02-04T07:23:09.035883Z",
     "shell.execute_reply": "2023-02-04T07:23:09.035251Z"
    }
   },
   "outputs": [
    {
     "name": "stdout",
     "output_type": "stream",
     "text": [
      "1441\n"
     ]
    }
   ],
   "source": [
    "print(len(product2))"
   ]
  },
  {
   "cell_type": "markdown",
   "id": "abf8da54",
   "metadata": {},
   "source": [
    "If the gene is missing from the assembly, the PCR product will have this size in base pairs:"
   ]
  },
  {
   "cell_type": "code",
   "execution_count": 22,
   "id": "a657c0ff",
   "metadata": {
    "execution": {
     "iopub.execute_input": "2023-02-04T07:23:09.039946Z",
     "iopub.status.busy": "2023-02-04T07:23:09.039400Z",
     "iopub.status.idle": "2023-02-04T07:23:09.044283Z",
     "shell.execute_reply": "2023-02-04T07:23:09.043204Z"
    }
   },
   "outputs": [
    {
     "name": "stdout",
     "output_type": "stream",
     "text": [
      "971\n"
     ]
    }
   ],
   "source": [
    "print(len(product2) - len(gene))"
   ]
  },
  {
   "cell_type": "markdown",
   "id": "e8f798d9",
   "metadata": {},
   "source": [
    "If the terminator is missing from the assembly, the PCR product will have this size in base pairs:"
   ]
  },
  {
   "cell_type": "code",
   "execution_count": 23,
   "id": "195ee225",
   "metadata": {
    "execution": {
     "iopub.execute_input": "2023-02-04T07:23:09.048009Z",
     "iopub.status.busy": "2023-02-04T07:23:09.047444Z",
     "iopub.status.idle": "2023-02-04T07:23:09.052072Z",
     "shell.execute_reply": "2023-02-04T07:23:09.051201Z"
    }
   },
   "outputs": [
    {
     "name": "stdout",
     "output_type": "stream",
     "text": [
      "433\n"
     ]
    }
   ],
   "source": [
    "print(len(product2) - len(term))"
   ]
  },
  {
   "cell_type": "markdown",
   "id": "56f43054",
   "metadata": {},
   "source": [
    "The cseguid checksum for the resulting plasmid is calculated for future reference.\n",
    "The [cseguid checksum](http://pydna.readthedocs.org/en/latest/pydna.html#pydna.utils.cseguid)\n",
    "uniquely identifies a circular double stranded sequence."
   ]
  },
  {
   "cell_type": "code",
   "execution_count": 24,
   "id": "be142d76",
   "metadata": {
    "execution": {
     "iopub.execute_input": "2023-02-04T07:23:09.055739Z",
     "iopub.status.busy": "2023-02-04T07:23:09.055138Z",
     "iopub.status.idle": "2023-02-04T07:23:09.066157Z",
     "shell.execute_reply": "2023-02-04T07:23:09.065419Z"
    }
   },
   "outputs": [
    {
     "name": "stdout",
     "output_type": "stream",
     "text": [
      "s4qmJdiotlEjgUID6k6Dtq47aiA\n"
     ]
    }
   ],
   "source": [
    "print(result.cseguid())"
   ]
  },
  {
   "cell_type": "markdown",
   "id": "3d404bab",
   "metadata": {},
   "source": [
    "The file name is based on the promoter, gene and terminator designations."
   ]
  },
  {
   "cell_type": "code",
   "execution_count": 25,
   "id": "0dadecae",
   "metadata": {
    "execution": {
     "iopub.execute_input": "2023-02-04T07:23:09.069045Z",
     "iopub.status.busy": "2023-02-04T07:23:09.068567Z",
     "iopub.status.idle": "2023-02-04T07:23:09.071968Z",
     "shell.execute_reply": "2023-02-04T07:23:09.071176Z"
    }
   },
   "outputs": [],
   "source": [
    "result.locus = f\"tu:{gene.name}\"[:16]\n",
    "result.definition = \"pYPK0_RPL16A_EcacpS_RPL17A\""
   ]
  },
  {
   "cell_type": "markdown",
   "id": "03fb61d1",
   "metadata": {},
   "source": [
    "Sequence is stamped with cseguid checksum. This can be used to verify the\n",
    "integrity of the sequence file."
   ]
  },
  {
   "cell_type": "code",
   "execution_count": 26,
   "id": "58fd86f9",
   "metadata": {
    "execution": {
     "iopub.execute_input": "2023-02-04T07:23:09.075466Z",
     "iopub.status.busy": "2023-02-04T07:23:09.075133Z",
     "iopub.status.idle": "2023-02-04T07:23:09.089006Z",
     "shell.execute_reply": "2023-02-04T07:23:09.088561Z"
    }
   },
   "outputs": [
    {
     "data": {
      "text/plain": [
       "s4qmJdiotlEjgUID6k6Dtq47aiA"
      ]
     },
     "execution_count": 26,
     "metadata": {},
     "output_type": "execute_result"
    }
   ],
   "source": [
    "result.stamp(\"cSEGUID\")"
   ]
  },
  {
   "cell_type": "markdown",
   "id": "f197299f",
   "metadata": {},
   "source": [
    "Write sequence to a local file."
   ]
  },
  {
   "cell_type": "code",
   "execution_count": 27,
   "id": "cab69f26",
   "metadata": {
    "execution": {
     "iopub.execute_input": "2023-02-04T07:23:09.091629Z",
     "iopub.status.busy": "2023-02-04T07:23:09.091170Z",
     "iopub.status.idle": "2023-02-04T07:23:09.097971Z",
     "shell.execute_reply": "2023-02-04T07:23:09.097064Z"
    }
   },
   "outputs": [
    {
     "data": {
      "text/html": [
       "<font face=monospace><a href='pYPK0_RPL16A_EcacpS_RPL17A.gb' target='_blank'>pYPK0_RPL16A_EcacpS_RPL17A.gb</a></font><br>"
      ]
     },
     "metadata": {},
     "output_type": "display_data"
    }
   ],
   "source": [
    "result.write(f\"{result.definition}.gb\")"
   ]
  },
  {
   "cell_type": "markdown",
   "id": "7f0fe23b",
   "metadata": {
    "lines_to_next_cell": 0
   },
   "source": [
    "### Suggested PCR programs\n",
    "\n",
    "For the [amplification](#PCR) of promoter, gene and terminator."
   ]
  },
  {
   "cell_type": "code",
   "execution_count": 28,
   "id": "396c9efd",
   "metadata": {
    "execution": {
     "iopub.execute_input": "2023-02-04T07:23:09.102654Z",
     "iopub.status.busy": "2023-02-04T07:23:09.102077Z",
     "iopub.status.idle": "2023-02-04T07:23:09.107506Z",
     "shell.execute_reply": "2023-02-04T07:23:09.106715Z"
    }
   },
   "outputs": [
    {
     "name": "stdout",
     "output_type": "stream",
     "text": [
      "577_crp585-557 567_pCAPsAjiIF\n",
      "|95°C|95°C               |    |tmf:64.6\n",
      "|____|_____          72°C|72°C|tmr:69.7\n",
      "|3min|30s  \\ 58.7°C _____|____|45s/kb\n",
      "|    |      \\______/ 0:30|5min|GC 45%\n",
      "|    |       30s         |    |674bp\n"
     ]
    }
   ],
   "source": [
    "print(prom.forward_primer.name, prom.reverse_primer.name)\n",
    "print(prom.program())"
   ]
  },
  {
   "cell_type": "code",
   "execution_count": 29,
   "id": "c95aa302",
   "metadata": {
    "execution": {
     "iopub.execute_input": "2023-02-04T07:23:09.110968Z",
     "iopub.status.busy": "2023-02-04T07:23:09.110418Z",
     "iopub.status.idle": "2023-02-04T07:23:09.115499Z",
     "shell.execute_reply": "2023-02-04T07:23:09.114703Z"
    }
   },
   "outputs": [
    {
     "name": "stdout",
     "output_type": "stream",
     "text": [
      "468_pCAPs_release_fw 467_pCAPs_release_re\n",
      "|95°C|95°C               |    |tmf:76.9\n",
      "|____|_____          72°C|72°C|tmr:67.9\n",
      "|3min|30s  \\ 61.2°C _____|____|45s/kb\n",
      "|    |      \\______/ 0:30|5min|GC 51%\n",
      "|    |       30s         |    |470bp\n"
     ]
    }
   ],
   "source": [
    "print(gene.forward_primer.name, gene.reverse_primer.name)\n",
    "print(gene.program())"
   ]
  },
  {
   "cell_type": "code",
   "execution_count": 30,
   "id": "54999cd3",
   "metadata": {
    "execution": {
     "iopub.execute_input": "2023-02-04T07:23:09.119610Z",
     "iopub.status.busy": "2023-02-04T07:23:09.118951Z",
     "iopub.status.idle": "2023-02-04T07:23:09.124662Z",
     "shell.execute_reply": "2023-02-04T07:23:09.123694Z"
    }
   },
   "outputs": [
    {
     "name": "stdout",
     "output_type": "stream",
     "text": [
      "568_pCAPsAjiIR 578_crp42-70\n",
      "|95°C|95°C               |    |tmf:66.1\n",
      "|____|_____          72°C|72°C|tmr:65.0\n",
      "|3min|30s  \\ 57.4°C _____|____|45s/kb\n",
      "|    |      \\______/ 0:45|5min|GC 39%\n",
      "|    |       30s         |    |1008bp\n"
     ]
    }
   ],
   "source": [
    "print(term.forward_primer.name, term.reverse_primer.name)\n",
    "print(term.program())"
   ]
  }
 ],
 "metadata": {
  "jupytext": {
   "main_language": "python",
   "text_representation": {
    "extension": ".py",
    "format_name": "percent",
    "format_version": "1.3",
    "jupytext_version": "1.14.0"
   }
  },
  "language_info": {
   "codemirror_mode": {
    "name": "ipython",
    "version": 3
   },
   "file_extension": ".py",
   "mimetype": "text/x-python",
   "name": "python",
   "nbconvert_exporter": "python",
   "pygments_lexer": "ipython3",
   "version": "3.11.0"
  }
 },
 "nbformat": 4,
 "nbformat_minor": 5
}
