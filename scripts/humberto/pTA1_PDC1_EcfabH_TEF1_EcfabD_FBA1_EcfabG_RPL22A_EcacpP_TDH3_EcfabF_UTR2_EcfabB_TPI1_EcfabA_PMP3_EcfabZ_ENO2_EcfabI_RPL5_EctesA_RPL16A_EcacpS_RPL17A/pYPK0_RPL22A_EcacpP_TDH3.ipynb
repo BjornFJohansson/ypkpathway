{
 "cells": [
  {
   "cell_type": "markdown",
   "id": "999d646b",
   "metadata": {},
   "source": [
    "# [![logo](logo.png)](https://github.com/BjornFJohansson/ypkpathway#-ypkpathway) pYPK0_RPL22A_EcacpP_TDH3\n",
    "\n",
    "Assembly of a [_Saccharomyces cerevisiae_](http://www.yeastgenome.org) transcriptional unit vector.\n",
    "\n",
    "Made from a linear vector fragment and three PCR products:\n",
    "\n",
    "- a linearized pYPK0 vector for maintenance in _S. cerevisiae_ or _E. coli_ (red dashed line in figure below)\n",
    "- a promoter PCR product from the `pYPKa_Z_RPL22A` vector\n",
    "- a gene PCR product from the `pYPKa_A_EcacpP` vector\n",
    "- a terminator PCR product from the `pYPKa_E_TDH3` vector\n",
    "\n",
    "The four linear DNA fragments are joined by _in-vivo_ homologous recombination in a\n",
    "[_Saccharomyces cerevisiae_](http://wiki.yeastgenome.org/index.php/Commonly_used_strains) strain.\n",
    "\n",
    "![tu](tu.png \"tu\")\n",
    "\n",
    "A part of the [pydna](https://pypi.python.org/pypi/pydna/) package is imported in the code cell below."
   ]
  },
  {
   "cell_type": "code",
   "execution_count": 1,
   "id": "089e38e0",
   "metadata": {
    "execution": {
     "iopub.execute_input": "2023-02-04T07:22:46.347067Z",
     "iopub.status.busy": "2023-02-04T07:22:46.346539Z",
     "iopub.status.idle": "2023-02-04T07:22:46.693003Z",
     "shell.execute_reply": "2023-02-04T07:22:46.692436Z"
    }
   },
   "outputs": [],
   "source": [
    "from pydna.parsers import parse_primers\n",
    "from pydna.readers import read\n",
    "from pydna.amplify import pcr\n",
    "from pydna.assembly import Assembly"
   ]
  },
  {
   "cell_type": "markdown",
   "id": "b5a31013",
   "metadata": {},
   "source": [
    "The Yeast Pathway Kit [standard primers](standard_primers.fasta) are read into a dictionary in the code cell below."
   ]
  },
  {
   "cell_type": "code",
   "execution_count": 2,
   "id": "38e3986d",
   "metadata": {
    "execution": {
     "iopub.execute_input": "2023-02-04T07:22:46.696264Z",
     "iopub.status.busy": "2023-02-04T07:22:46.695886Z",
     "iopub.status.idle": "2023-02-04T07:22:46.708392Z",
     "shell.execute_reply": "2023-02-04T07:22:46.707794Z"
    }
   },
   "outputs": [],
   "source": [
    "p = {x.name: x for x in parse_primers(\"standard_primers.fasta\")}"
   ]
  },
  {
   "cell_type": "markdown",
   "id": "6213d37d",
   "metadata": {},
   "source": [
    "The backbone vector [pYPK0](pYPK0.gb) is read from a local file in the code cell below."
   ]
  },
  {
   "cell_type": "code",
   "execution_count": 3,
   "id": "f13ab4db",
   "metadata": {
    "execution": {
     "iopub.execute_input": "2023-02-04T07:22:46.711548Z",
     "iopub.status.busy": "2023-02-04T07:22:46.711010Z",
     "iopub.status.idle": "2023-02-04T07:22:46.721038Z",
     "shell.execute_reply": "2023-02-04T07:22:46.720446Z"
    }
   },
   "outputs": [],
   "source": [
    "backbone = read(\"pYPK0.gb\")"
   ]
  },
  {
   "cell_type": "markdown",
   "id": "f81f9b50",
   "metadata": {},
   "source": [
    "The backbone vector is linearized by digestion with [MfeI](https://www.google.com/search?q=MfeI)."
   ]
  },
  {
   "cell_type": "code",
   "execution_count": 4,
   "id": "7558581d",
   "metadata": {
    "execution": {
     "iopub.execute_input": "2023-02-04T07:22:46.724360Z",
     "iopub.status.busy": "2023-02-04T07:22:46.723785Z",
     "iopub.status.idle": "2023-02-04T07:22:46.728177Z",
     "shell.execute_reply": "2023-02-04T07:22:46.727028Z"
    }
   },
   "outputs": [],
   "source": [
    "from Bio.Restriction import MfeI"
   ]
  },
  {
   "cell_type": "code",
   "execution_count": 5,
   "id": "8ef37586",
   "metadata": {
    "execution": {
     "iopub.execute_input": "2023-02-04T07:22:46.732606Z",
     "iopub.status.busy": "2023-02-04T07:22:46.732189Z",
     "iopub.status.idle": "2023-02-04T07:22:46.742250Z",
     "shell.execute_reply": "2023-02-04T07:22:46.741643Z"
    }
   },
   "outputs": [],
   "source": [
    "linear_backbone = backbone.linearize(MfeI)"
   ]
  },
  {
   "cell_type": "markdown",
   "id": "49c0fda3",
   "metadata": {},
   "source": [
    "The pYPKa derived _E. coli_ plasmids containing\n",
    "- [promoter](pYPKa_Z_RPL22A.gb)\n",
    "- [gene](pYPKa_A_EcacpP.gb)\n",
    "- [terminator](pYPKa_E_TDH3.gb)\n",
    "\n",
    "are read into three variables below."
   ]
  },
  {
   "cell_type": "code",
   "execution_count": 6,
   "id": "47daa1fa",
   "metadata": {
    "execution": {
     "iopub.execute_input": "2023-02-04T07:22:46.744848Z",
     "iopub.status.busy": "2023-02-04T07:22:46.744606Z",
     "iopub.status.idle": "2023-02-04T07:22:46.761521Z",
     "shell.execute_reply": "2023-02-04T07:22:46.760990Z"
    }
   },
   "outputs": [],
   "source": [
    "promoter_template   = read(\"pYPKa_Z_RPL22A.gb\")\n",
    "gene_template       = read(\"pYPKa_A_EcacpP.gb\")\n",
    "terminator_template = read(\"pYPKa_E_TDH3.gb\")"
   ]
  },
  {
   "cell_type": "markdown",
   "id": "1e651bd9",
   "metadata": {
    "lines_to_next_cell": 0
   },
   "source": [
    "### PCR\n",
    "Three DNA fragments are PCR amplified using [standard primers](standard_primers.fasta).\n",
    "\n",
    "[Suggested PCR programs](#Suggested-PCR-programs) can be found at the end of this document."
   ]
  },
  {
   "cell_type": "code",
   "execution_count": 7,
   "id": "7a78c5f3",
   "metadata": {
    "execution": {
     "iopub.execute_input": "2023-02-04T07:22:46.764115Z",
     "iopub.status.busy": "2023-02-04T07:22:46.763906Z",
     "iopub.status.idle": "2023-02-04T07:22:46.767651Z",
     "shell.execute_reply": "2023-02-04T07:22:46.766753Z"
    }
   },
   "outputs": [],
   "source": [
    "\n",
    "fp_prom = p['577_crp585-557']\n",
    "rp_prom = p['567_pCAPsAjiIF']\n",
    "fp_gene = p['468_pCAPs_release_fw']\n",
    "rp_gene = p['467_pCAPs_release_re']\n",
    "fp_term = p['568_pCAPsAjiIR']\n",
    "rp_term = p['578_crp42-70']"
   ]
  },
  {
   "cell_type": "code",
   "execution_count": 8,
   "id": "09ecc3d4",
   "metadata": {
    "execution": {
     "iopub.execute_input": "2023-02-04T07:22:46.771073Z",
     "iopub.status.busy": "2023-02-04T07:22:46.770608Z",
     "iopub.status.idle": "2023-02-04T07:22:46.796340Z",
     "shell.execute_reply": "2023-02-04T07:22:46.795694Z"
    }
   },
   "outputs": [],
   "source": [
    "prom = pcr(fp_prom, rp_prom, promoter_template)\n",
    "gene = pcr(fp_gene, rp_gene, gene_template)\n",
    "term = pcr(fp_term, rp_term, terminator_template)"
   ]
  },
  {
   "cell_type": "code",
   "execution_count": 9,
   "id": "94eab176",
   "metadata": {
    "execution": {
     "iopub.execute_input": "2023-02-04T07:22:46.799099Z",
     "iopub.status.busy": "2023-02-04T07:22:46.798828Z",
     "iopub.status.idle": "2023-02-04T07:22:46.802300Z",
     "shell.execute_reply": "2023-02-04T07:22:46.801724Z"
    }
   },
   "outputs": [],
   "source": [
    "prom.name = \"pYPKa_Z_RPL22A\"[8:]\n",
    "gene.name = \"pYPKa_A_EcacpP\"[8:]\n",
    "term.name = \"pYPKa_E_TDH3\"[8:]"
   ]
  },
  {
   "cell_type": "markdown",
   "id": "296f486a",
   "metadata": {},
   "source": [
    "\n",
    "The fragments will be assembled by _in-vivo_ [homologous recombination](http://www.ncbi.nlm.nih.gov/pubmed/2828185):"
   ]
  },
  {
   "cell_type": "code",
   "execution_count": 10,
   "id": "6130ada5",
   "metadata": {
    "execution": {
     "iopub.execute_input": "2023-02-04T07:22:46.805664Z",
     "iopub.status.busy": "2023-02-04T07:22:46.805100Z",
     "iopub.status.idle": "2023-02-04T07:22:47.187082Z",
     "shell.execute_reply": "2023-02-04T07:22:47.186394Z"
    }
   },
   "outputs": [
    {
     "data": {
      "text/plain": [
       "Assembly\n",
       "fragments..: 5766bp 658bp 326bp 1038bp\n",
       "limit(bp)..: 31\n",
       "G.nodes....: 10\n",
       "algorithm..: common_sub_strings"
      ]
     },
     "execution_count": 10,
     "metadata": {},
     "output_type": "execute_result"
    }
   ],
   "source": [
    "asm = Assembly((linear_backbone, prom, gene, term), limit=31)\n",
    "asm"
   ]
  },
  {
   "cell_type": "markdown",
   "id": "463a0f26",
   "metadata": {},
   "source": [
    "The Assembly object above should normally indicate four fragments and eight nodes."
   ]
  },
  {
   "cell_type": "code",
   "execution_count": 11,
   "id": "b56dcb84",
   "metadata": {
    "execution": {
     "iopub.execute_input": "2023-02-04T07:22:47.189861Z",
     "iopub.status.busy": "2023-02-04T07:22:47.189641Z",
     "iopub.status.idle": "2023-02-04T07:22:47.414584Z",
     "shell.execute_reply": "2023-02-04T07:22:47.413997Z"
    },
    "lines_to_next_cell": 0
   },
   "outputs": [
    {
     "data": {
      "text/plain": [
       "[Contig(o7153), Contig(o7153), Contig(o7153), Contig(o6713), Contig(o6713)]"
      ]
     },
     "execution_count": 11,
     "metadata": {},
     "output_type": "execute_result"
    }
   ],
   "source": [
    "candidates = asm.assemble_circular()\n",
    "candidates"
   ]
  },
  {
   "cell_type": "markdown",
   "id": "3dc61184",
   "metadata": {},
   "source": [
    "There should normally be two candidates of equal size. These sequences should be identical."
   ]
  },
  {
   "cell_type": "code",
   "execution_count": 12,
   "id": "51f80d83",
   "metadata": {
    "execution": {
     "iopub.execute_input": "2023-02-04T07:22:47.417661Z",
     "iopub.status.busy": "2023-02-04T07:22:47.417418Z",
     "iopub.status.idle": "2023-02-04T07:22:47.420398Z",
     "shell.execute_reply": "2023-02-04T07:22:47.419884Z"
    },
    "lines_to_next_cell": 0
   },
   "outputs": [],
   "source": [
    "candidate, *rest = candidates"
   ]
  },
  {
   "cell_type": "code",
   "execution_count": 13,
   "id": "ff1157b4",
   "metadata": {
    "execution": {
     "iopub.execute_input": "2023-02-04T07:22:47.424418Z",
     "iopub.status.busy": "2023-02-04T07:22:47.423718Z",
     "iopub.status.idle": "2023-02-04T07:22:47.443506Z",
     "shell.execute_reply": "2023-02-04T07:22:47.443003Z"
    },
    "lines_to_next_cell": 0
   },
   "outputs": [
    {
     "data": {
      "text/plain": [
       "True"
      ]
     },
     "execution_count": 13,
     "metadata": {},
     "output_type": "execute_result"
    }
   ],
   "source": [
    "candidate.cseguid() == rest[0].cseguid()"
   ]
  },
  {
   "cell_type": "code",
   "execution_count": 14,
   "id": "41257e2a",
   "metadata": {
    "execution": {
     "iopub.execute_input": "2023-02-04T07:22:47.445944Z",
     "iopub.status.busy": "2023-02-04T07:22:47.445745Z",
     "iopub.status.idle": "2023-02-04T07:22:47.450677Z",
     "shell.execute_reply": "2023-02-04T07:22:47.449663Z"
    },
    "lines_to_next_cell": 0
   },
   "outputs": [
    {
     "data": {
      "text/plain": [
       " -|pYPK0_lin|168\n",
       "|            \\/\n",
       "|            /\\\n",
       "|            168|RPL22A|48\n",
       "|                       \\/\n",
       "|                       /\\\n",
       "|                       48|EcacpP|37\n",
       "|                                 \\/\n",
       "|                                 /\\\n",
       "|                                 37|TDH3|276\n",
       "|                                         \\/\n",
       "|                                         /\\\n",
       "|                                         276-\n",
       "|                                            |\n",
       " --------------------------------------------"
      ]
     },
     "execution_count": 14,
     "metadata": {},
     "output_type": "execute_result"
    }
   ],
   "source": [
    "candidate.figure()"
   ]
  },
  {
   "cell_type": "markdown",
   "id": "eb9de339",
   "metadata": {},
   "source": [
    "The candidate vector is synchronized to the 577 primer. This means that\n",
    "the plasmid origin is shifted so that it matches the backbone vector."
   ]
  },
  {
   "cell_type": "code",
   "execution_count": 15,
   "id": "377ad1e3",
   "metadata": {
    "execution": {
     "iopub.execute_input": "2023-02-04T07:22:47.453950Z",
     "iopub.status.busy": "2023-02-04T07:22:47.453648Z",
     "iopub.status.idle": "2023-02-04T07:22:47.728707Z",
     "shell.execute_reply": "2023-02-04T07:22:47.728053Z"
    }
   },
   "outputs": [],
   "source": [
    "result = candidate.synced(fp_prom)"
   ]
  },
  {
   "cell_type": "markdown",
   "id": "5b759a6e",
   "metadata": {},
   "source": [
    "### Diagnostic PCR confirmation\n",
    "\n",
    "The structure of the final vector is confirmed by two\n",
    "separate PCR reactions, one for the promoter and gene and\n",
    "one for the gene and terminator.\n",
    "\n",
    "PCR using standard primers 577 and 467 to amplify promoter and gene."
   ]
  },
  {
   "cell_type": "code",
   "execution_count": 16,
   "id": "38083eba",
   "metadata": {
    "execution": {
     "iopub.execute_input": "2023-02-04T07:22:47.732332Z",
     "iopub.status.busy": "2023-02-04T07:22:47.731750Z",
     "iopub.status.idle": "2023-02-04T07:22:47.748263Z",
     "shell.execute_reply": "2023-02-04T07:22:47.747727Z"
    }
   },
   "outputs": [],
   "source": [
    "product = pcr( fp_prom, rp_gene, result)"
   ]
  },
  {
   "cell_type": "markdown",
   "id": "ed2265ec",
   "metadata": {},
   "source": [
    "A correct clone should give this size in base pairs:"
   ]
  },
  {
   "cell_type": "code",
   "execution_count": 17,
   "id": "b3d52de8",
   "metadata": {
    "execution": {
     "iopub.execute_input": "2023-02-04T07:22:47.751531Z",
     "iopub.status.busy": "2023-02-04T07:22:47.751000Z",
     "iopub.status.idle": "2023-02-04T07:22:47.754496Z",
     "shell.execute_reply": "2023-02-04T07:22:47.753868Z"
    }
   },
   "outputs": [
    {
     "name": "stdout",
     "output_type": "stream",
     "text": [
      "934\n"
     ]
    }
   ],
   "source": [
    "print(len(product))"
   ]
  },
  {
   "cell_type": "markdown",
   "id": "6b33f099",
   "metadata": {},
   "source": [
    "If the promoter is missing from the assembly, the PCR product will have this size in base pairs:"
   ]
  },
  {
   "cell_type": "code",
   "execution_count": 18,
   "id": "58a380c9",
   "metadata": {
    "execution": {
     "iopub.execute_input": "2023-02-04T07:22:47.757953Z",
     "iopub.status.busy": "2023-02-04T07:22:47.757515Z",
     "iopub.status.idle": "2023-02-04T07:22:47.761973Z",
     "shell.execute_reply": "2023-02-04T07:22:47.761143Z"
    }
   },
   "outputs": [
    {
     "name": "stdout",
     "output_type": "stream",
     "text": [
      "276\n"
     ]
    }
   ],
   "source": [
    "print(len(product) - len(prom))"
   ]
  },
  {
   "cell_type": "markdown",
   "id": "ded3f0f5",
   "metadata": {},
   "source": [
    "If the gene is missing from the assembly, the PCR product will have this size in base pairs:"
   ]
  },
  {
   "cell_type": "code",
   "execution_count": 19,
   "id": "9f10c3b4",
   "metadata": {
    "execution": {
     "iopub.execute_input": "2023-02-04T07:22:47.766321Z",
     "iopub.status.busy": "2023-02-04T07:22:47.765892Z",
     "iopub.status.idle": "2023-02-04T07:22:47.771438Z",
     "shell.execute_reply": "2023-02-04T07:22:47.770399Z"
    }
   },
   "outputs": [
    {
     "name": "stdout",
     "output_type": "stream",
     "text": [
      "608\n"
     ]
    }
   ],
   "source": [
    "print(len(product) - len(gene))"
   ]
  },
  {
   "cell_type": "markdown",
   "id": "42446e25",
   "metadata": {},
   "source": [
    "PCR using standard primers 468 and 578 to amplify gene and terminator."
   ]
  },
  {
   "cell_type": "code",
   "execution_count": 20,
   "id": "b8ba52fe",
   "metadata": {
    "execution": {
     "iopub.execute_input": "2023-02-04T07:22:47.775012Z",
     "iopub.status.busy": "2023-02-04T07:22:47.774591Z",
     "iopub.status.idle": "2023-02-04T07:22:47.793010Z",
     "shell.execute_reply": "2023-02-04T07:22:47.792450Z"
    }
   },
   "outputs": [],
   "source": [
    "product2 = pcr( fp_gene, rp_term, result)"
   ]
  },
  {
   "cell_type": "markdown",
   "id": "7d53de0d",
   "metadata": {},
   "source": [
    "A correct clone should give this size:"
   ]
  },
  {
   "cell_type": "code",
   "execution_count": 21,
   "id": "04ad1d4d",
   "metadata": {
    "execution": {
     "iopub.execute_input": "2023-02-04T07:22:47.795803Z",
     "iopub.status.busy": "2023-02-04T07:22:47.795387Z",
     "iopub.status.idle": "2023-02-04T07:22:47.799640Z",
     "shell.execute_reply": "2023-02-04T07:22:47.798479Z"
    }
   },
   "outputs": [
    {
     "name": "stdout",
     "output_type": "stream",
     "text": [
      "1327\n"
     ]
    }
   ],
   "source": [
    "print(len(product2))"
   ]
  },
  {
   "cell_type": "markdown",
   "id": "b811fa8e",
   "metadata": {},
   "source": [
    "If the gene is missing from the assembly, the PCR product will have this size in base pairs:"
   ]
  },
  {
   "cell_type": "code",
   "execution_count": 22,
   "id": "d0dc95e6",
   "metadata": {
    "execution": {
     "iopub.execute_input": "2023-02-04T07:22:47.803946Z",
     "iopub.status.busy": "2023-02-04T07:22:47.803479Z",
     "iopub.status.idle": "2023-02-04T07:22:47.807700Z",
     "shell.execute_reply": "2023-02-04T07:22:47.806956Z"
    }
   },
   "outputs": [
    {
     "name": "stdout",
     "output_type": "stream",
     "text": [
      "1001\n"
     ]
    }
   ],
   "source": [
    "print(len(product2) - len(gene))"
   ]
  },
  {
   "cell_type": "markdown",
   "id": "b8373379",
   "metadata": {},
   "source": [
    "If the terminator is missing from the assembly, the PCR product will have this size in base pairs:"
   ]
  },
  {
   "cell_type": "code",
   "execution_count": 23,
   "id": "ae0ecbcc",
   "metadata": {
    "execution": {
     "iopub.execute_input": "2023-02-04T07:22:47.811165Z",
     "iopub.status.busy": "2023-02-04T07:22:47.810586Z",
     "iopub.status.idle": "2023-02-04T07:22:47.815877Z",
     "shell.execute_reply": "2023-02-04T07:22:47.814783Z"
    }
   },
   "outputs": [
    {
     "name": "stdout",
     "output_type": "stream",
     "text": [
      "289\n"
     ]
    }
   ],
   "source": [
    "print(len(product2) - len(term))"
   ]
  },
  {
   "cell_type": "markdown",
   "id": "4d64b75c",
   "metadata": {},
   "source": [
    "The cseguid checksum for the resulting plasmid is calculated for future reference.\n",
    "The [cseguid checksum](http://pydna.readthedocs.org/en/latest/pydna.html#pydna.utils.cseguid)\n",
    "uniquely identifies a circular double stranded sequence."
   ]
  },
  {
   "cell_type": "code",
   "execution_count": 24,
   "id": "41b0d763",
   "metadata": {
    "execution": {
     "iopub.execute_input": "2023-02-04T07:22:47.820140Z",
     "iopub.status.busy": "2023-02-04T07:22:47.819631Z",
     "iopub.status.idle": "2023-02-04T07:22:47.829335Z",
     "shell.execute_reply": "2023-02-04T07:22:47.828716Z"
    }
   },
   "outputs": [
    {
     "name": "stdout",
     "output_type": "stream",
     "text": [
      "YBYJG2qluycIJ-5n_OP9aO8I0So\n"
     ]
    }
   ],
   "source": [
    "print(result.cseguid())"
   ]
  },
  {
   "cell_type": "markdown",
   "id": "b53db10b",
   "metadata": {},
   "source": [
    "The file name is based on the promoter, gene and terminator designations."
   ]
  },
  {
   "cell_type": "code",
   "execution_count": 25,
   "id": "ee35d516",
   "metadata": {
    "execution": {
     "iopub.execute_input": "2023-02-04T07:22:47.904193Z",
     "iopub.status.busy": "2023-02-04T07:22:47.903965Z",
     "iopub.status.idle": "2023-02-04T07:22:47.907131Z",
     "shell.execute_reply": "2023-02-04T07:22:47.906626Z"
    }
   },
   "outputs": [],
   "source": [
    "result.locus = f\"tu:{gene.name}\"[:16]\n",
    "result.definition = \"pYPK0_RPL22A_EcacpP_TDH3\""
   ]
  },
  {
   "cell_type": "markdown",
   "id": "56265fa3",
   "metadata": {},
   "source": [
    "Sequence is stamped with cseguid checksum. This can be used to verify the\n",
    "integrity of the sequence file."
   ]
  },
  {
   "cell_type": "code",
   "execution_count": 26,
   "id": "b4ed1071",
   "metadata": {
    "execution": {
     "iopub.execute_input": "2023-02-04T07:22:47.909881Z",
     "iopub.status.busy": "2023-02-04T07:22:47.909315Z",
     "iopub.status.idle": "2023-02-04T07:22:47.922417Z",
     "shell.execute_reply": "2023-02-04T07:22:47.921460Z"
    }
   },
   "outputs": [
    {
     "data": {
      "text/plain": [
       "YBYJG2qluycIJ-5n_OP9aO8I0So"
      ]
     },
     "execution_count": 26,
     "metadata": {},
     "output_type": "execute_result"
    }
   ],
   "source": [
    "result.stamp(\"cSEGUID\")"
   ]
  },
  {
   "cell_type": "markdown",
   "id": "defad0cf",
   "metadata": {},
   "source": [
    "Write sequence to a local file."
   ]
  },
  {
   "cell_type": "code",
   "execution_count": 27,
   "id": "329b5bc9",
   "metadata": {
    "execution": {
     "iopub.execute_input": "2023-02-04T07:22:47.925929Z",
     "iopub.status.busy": "2023-02-04T07:22:47.925447Z",
     "iopub.status.idle": "2023-02-04T07:22:47.944012Z",
     "shell.execute_reply": "2023-02-04T07:22:47.943434Z"
    }
   },
   "outputs": [
    {
     "data": {
      "text/html": [
       "<font face=monospace><a href='pYPK0_RPL22A_EcacpP_TDH3.gb' target='_blank'>pYPK0_RPL22A_EcacpP_TDH3.gb</a></font><br>"
      ]
     },
     "metadata": {},
     "output_type": "display_data"
    }
   ],
   "source": [
    "result.write(f\"{result.definition}.gb\")"
   ]
  },
  {
   "cell_type": "markdown",
   "id": "03f7c4f6",
   "metadata": {
    "lines_to_next_cell": 0
   },
   "source": [
    "### Suggested PCR programs\n",
    "\n",
    "For the [amplification](#PCR) of promoter, gene and terminator."
   ]
  },
  {
   "cell_type": "code",
   "execution_count": 28,
   "id": "78e02140",
   "metadata": {
    "execution": {
     "iopub.execute_input": "2023-02-04T07:22:47.946722Z",
     "iopub.status.busy": "2023-02-04T07:22:47.946518Z",
     "iopub.status.idle": "2023-02-04T07:22:47.950491Z",
     "shell.execute_reply": "2023-02-04T07:22:47.949620Z"
    }
   },
   "outputs": [
    {
     "name": "stdout",
     "output_type": "stream",
     "text": [
      "577_crp585-557 567_pCAPsAjiIF\n",
      "|95°C|95°C               |    |tmf:64.6\n",
      "|____|_____          72°C|72°C|tmr:69.7\n",
      "|3min|30s  \\ 55.9°C _____|____|45s/kb\n",
      "|    |      \\______/ 0:30|5min|GC 35%\n",
      "|    |       30s         |    |658bp\n"
     ]
    }
   ],
   "source": [
    "print(prom.forward_primer.name, prom.reverse_primer.name)\n",
    "print(prom.program())"
   ]
  },
  {
   "cell_type": "code",
   "execution_count": 29,
   "id": "fe686752",
   "metadata": {
    "execution": {
     "iopub.execute_input": "2023-02-04T07:22:47.954186Z",
     "iopub.status.busy": "2023-02-04T07:22:47.953818Z",
     "iopub.status.idle": "2023-02-04T07:22:47.958929Z",
     "shell.execute_reply": "2023-02-04T07:22:47.958181Z"
    }
   },
   "outputs": [
    {
     "name": "stdout",
     "output_type": "stream",
     "text": [
      "468_pCAPs_release_fw 467_pCAPs_release_re\n",
      "|95°C|95°C               |    |tmf:76.9\n",
      "|____|_____          72°C|72°C|tmr:67.9\n",
      "|3min|30s  \\ 60.0°C _____|____|45s/kb\n",
      "|    |      \\______/ 0:30|5min|GC 49%\n",
      "|    |       30s         |    |326bp\n"
     ]
    }
   ],
   "source": [
    "print(gene.forward_primer.name, gene.reverse_primer.name)\n",
    "print(gene.program())"
   ]
  },
  {
   "cell_type": "code",
   "execution_count": 30,
   "id": "e0e778f6",
   "metadata": {
    "execution": {
     "iopub.execute_input": "2023-02-04T07:22:47.962102Z",
     "iopub.status.busy": "2023-02-04T07:22:47.961829Z",
     "iopub.status.idle": "2023-02-04T07:22:47.967960Z",
     "shell.execute_reply": "2023-02-04T07:22:47.965871Z"
    }
   },
   "outputs": [
    {
     "name": "stdout",
     "output_type": "stream",
     "text": [
      "568_pCAPsAjiIR 578_crp42-70\n",
      "|95°C|95°C               |    |tmf:66.1\n",
      "|____|_____          72°C|72°C|tmr:65.0\n",
      "|3min|30s  \\ 57.1°C _____|____|45s/kb\n",
      "|    |      \\______/ 0:46|5min|GC 38%\n",
      "|    |       30s         |    |1038bp\n"
     ]
    }
   ],
   "source": [
    "print(term.forward_primer.name, term.reverse_primer.name)\n",
    "print(term.program())"
   ]
  }
 ],
 "metadata": {
  "jupytext": {
   "main_language": "python",
   "text_representation": {
    "extension": ".py",
    "format_name": "percent",
    "format_version": "1.3",
    "jupytext_version": "1.14.0"
   }
  },
  "language_info": {
   "codemirror_mode": {
    "name": "ipython",
    "version": 3
   },
   "file_extension": ".py",
   "mimetype": "text/x-python",
   "name": "python",
   "nbconvert_exporter": "python",
   "pygments_lexer": "ipython3",
   "version": "3.11.0"
  }
 },
 "nbformat": 4,
 "nbformat_minor": 5
}
