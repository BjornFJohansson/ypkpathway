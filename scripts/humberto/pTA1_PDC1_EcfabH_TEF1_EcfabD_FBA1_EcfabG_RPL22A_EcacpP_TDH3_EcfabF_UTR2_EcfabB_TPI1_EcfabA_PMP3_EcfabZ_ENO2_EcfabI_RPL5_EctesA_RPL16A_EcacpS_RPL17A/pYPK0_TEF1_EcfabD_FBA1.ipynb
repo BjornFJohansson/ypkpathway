{
 "cells": [
  {
   "cell_type": "markdown",
   "id": "6ce60327",
   "metadata": {},
   "source": [
    "# [![logo](logo.png)](https://github.com/BjornFJohansson/ypkpathway#-ypkpathway) pYPK0_TEF1_EcfabD_FBA1\n",
    "\n",
    "Assembly of a [_Saccharomyces cerevisiae_](http://www.yeastgenome.org) transcriptional unit vector.\n",
    "\n",
    "Made from a linear vector fragment and three PCR products:\n",
    "\n",
    "- a linearized pYPK0 vector for maintenance in _S. cerevisiae_ or _E. coli_ (red dashed line in figure below)\n",
    "- a promoter PCR product from the `pYPKa_Z_TEF1` vector\n",
    "- a gene PCR product from the `pYPKa_A_EcfabD` vector\n",
    "- a terminator PCR product from the `pYPKa_E_FBA1` vector\n",
    "\n",
    "The four linear DNA fragments are joined by _in-vivo_ homologous recombination in a\n",
    "[_Saccharomyces cerevisiae_](http://wiki.yeastgenome.org/index.php/Commonly_used_strains) strain.\n",
    "\n",
    "![tu](tu.png \"tu\")\n",
    "\n",
    "A part of the [pydna](https://pypi.python.org/pypi/pydna/) package is imported in the code cell below."
   ]
  },
  {
   "cell_type": "code",
   "execution_count": 1,
   "id": "2921693f",
   "metadata": {
    "execution": {
     "iopub.execute_input": "2023-02-04T07:22:40.026842Z",
     "iopub.status.busy": "2023-02-04T07:22:40.026380Z",
     "iopub.status.idle": "2023-02-04T07:22:40.375349Z",
     "shell.execute_reply": "2023-02-04T07:22:40.374618Z"
    }
   },
   "outputs": [],
   "source": [
    "from pydna.parsers import parse_primers\n",
    "from pydna.readers import read\n",
    "from pydna.amplify import pcr\n",
    "from pydna.assembly import Assembly"
   ]
  },
  {
   "cell_type": "markdown",
   "id": "92952f91",
   "metadata": {},
   "source": [
    "The Yeast Pathway Kit [standard primers](standard_primers.fasta) are read into a dictionary in the code cell below."
   ]
  },
  {
   "cell_type": "code",
   "execution_count": 2,
   "id": "d09eebba",
   "metadata": {
    "execution": {
     "iopub.execute_input": "2023-02-04T07:22:40.378507Z",
     "iopub.status.busy": "2023-02-04T07:22:40.378129Z",
     "iopub.status.idle": "2023-02-04T07:22:40.388043Z",
     "shell.execute_reply": "2023-02-04T07:22:40.387476Z"
    }
   },
   "outputs": [],
   "source": [
    "p = {x.name: x for x in parse_primers(\"standard_primers.fasta\")}"
   ]
  },
  {
   "cell_type": "markdown",
   "id": "7e8e5f11",
   "metadata": {},
   "source": [
    "The backbone vector [pYPK0](pYPK0.gb) is read from a local file in the code cell below."
   ]
  },
  {
   "cell_type": "code",
   "execution_count": 3,
   "id": "25f7052d",
   "metadata": {
    "execution": {
     "iopub.execute_input": "2023-02-04T07:22:40.391098Z",
     "iopub.status.busy": "2023-02-04T07:22:40.390862Z",
     "iopub.status.idle": "2023-02-04T07:22:40.401261Z",
     "shell.execute_reply": "2023-02-04T07:22:40.400320Z"
    }
   },
   "outputs": [],
   "source": [
    "backbone = read(\"pYPK0.gb\")"
   ]
  },
  {
   "cell_type": "markdown",
   "id": "a1e5d794",
   "metadata": {},
   "source": [
    "The backbone vector is linearized by digestion with [MfeI](https://www.google.com/search?q=MfeI)."
   ]
  },
  {
   "cell_type": "code",
   "execution_count": 4,
   "id": "4b3c0ec5",
   "metadata": {
    "execution": {
     "iopub.execute_input": "2023-02-04T07:22:40.404557Z",
     "iopub.status.busy": "2023-02-04T07:22:40.404306Z",
     "iopub.status.idle": "2023-02-04T07:22:40.408551Z",
     "shell.execute_reply": "2023-02-04T07:22:40.407566Z"
    }
   },
   "outputs": [],
   "source": [
    "from Bio.Restriction import MfeI"
   ]
  },
  {
   "cell_type": "code",
   "execution_count": 5,
   "id": "d68fe3c0",
   "metadata": {
    "execution": {
     "iopub.execute_input": "2023-02-04T07:22:40.412126Z",
     "iopub.status.busy": "2023-02-04T07:22:40.411832Z",
     "iopub.status.idle": "2023-02-04T07:22:40.422008Z",
     "shell.execute_reply": "2023-02-04T07:22:40.421311Z"
    }
   },
   "outputs": [],
   "source": [
    "linear_backbone = backbone.linearize(MfeI)"
   ]
  },
  {
   "cell_type": "markdown",
   "id": "f4635eac",
   "metadata": {},
   "source": [
    "The pYPKa derived _E. coli_ plasmids containing\n",
    "- [promoter](pYPKa_Z_TEF1.gb)\n",
    "- [gene](pYPKa_A_EcfabD.gb)\n",
    "- [terminator](pYPKa_E_FBA1.gb)\n",
    "\n",
    "are read into three variables below."
   ]
  },
  {
   "cell_type": "code",
   "execution_count": 6,
   "id": "7c2bef2a",
   "metadata": {
    "execution": {
     "iopub.execute_input": "2023-02-04T07:22:40.426516Z",
     "iopub.status.busy": "2023-02-04T07:22:40.426137Z",
     "iopub.status.idle": "2023-02-04T07:22:40.445134Z",
     "shell.execute_reply": "2023-02-04T07:22:40.444414Z"
    }
   },
   "outputs": [],
   "source": [
    "promoter_template   = read(\"pYPKa_Z_TEF1.gb\")\n",
    "gene_template       = read(\"pYPKa_A_EcfabD.gb\")\n",
    "terminator_template = read(\"pYPKa_E_FBA1.gb\")"
   ]
  },
  {
   "cell_type": "markdown",
   "id": "a4a58f5b",
   "metadata": {
    "lines_to_next_cell": 0
   },
   "source": [
    "### PCR\n",
    "Three DNA fragments are PCR amplified using [standard primers](standard_primers.fasta).\n",
    "\n",
    "[Suggested PCR programs](#Suggested-PCR-programs) can be found at the end of this document."
   ]
  },
  {
   "cell_type": "code",
   "execution_count": 7,
   "id": "d2d89244",
   "metadata": {
    "execution": {
     "iopub.execute_input": "2023-02-04T07:22:40.448009Z",
     "iopub.status.busy": "2023-02-04T07:22:40.447803Z",
     "iopub.status.idle": "2023-02-04T07:22:40.451364Z",
     "shell.execute_reply": "2023-02-04T07:22:40.450588Z"
    }
   },
   "outputs": [],
   "source": [
    "\n",
    "fp_prom = p['577_crp585-557']\n",
    "rp_prom = p['567_pCAPsAjiIF']\n",
    "fp_gene = p['468_pCAPs_release_fw']\n",
    "rp_gene = p['467_pCAPs_release_re']\n",
    "fp_term = p['568_pCAPsAjiIR']\n",
    "rp_term = p['578_crp42-70']"
   ]
  },
  {
   "cell_type": "code",
   "execution_count": 8,
   "id": "919cc76d",
   "metadata": {
    "execution": {
     "iopub.execute_input": "2023-02-04T07:22:40.454742Z",
     "iopub.status.busy": "2023-02-04T07:22:40.454461Z",
     "iopub.status.idle": "2023-02-04T07:22:40.479980Z",
     "shell.execute_reply": "2023-02-04T07:22:40.479247Z"
    }
   },
   "outputs": [],
   "source": [
    "prom = pcr(fp_prom, rp_prom, promoter_template)\n",
    "gene = pcr(fp_gene, rp_gene, gene_template)\n",
    "term = pcr(fp_term, rp_term, terminator_template)"
   ]
  },
  {
   "cell_type": "code",
   "execution_count": 9,
   "id": "9cd4b277",
   "metadata": {
    "execution": {
     "iopub.execute_input": "2023-02-04T07:22:40.482948Z",
     "iopub.status.busy": "2023-02-04T07:22:40.482687Z",
     "iopub.status.idle": "2023-02-04T07:22:40.486629Z",
     "shell.execute_reply": "2023-02-04T07:22:40.485858Z"
    }
   },
   "outputs": [],
   "source": [
    "prom.name = \"pYPKa_Z_TEF1\"[8:]\n",
    "gene.name = \"pYPKa_A_EcfabD\"[8:]\n",
    "term.name = \"pYPKa_E_FBA1\"[8:]"
   ]
  },
  {
   "cell_type": "markdown",
   "id": "c33795ad",
   "metadata": {},
   "source": [
    "\n",
    "The fragments will be assembled by _in-vivo_ [homologous recombination](http://www.ncbi.nlm.nih.gov/pubmed/2828185):"
   ]
  },
  {
   "cell_type": "code",
   "execution_count": 10,
   "id": "a7124df1",
   "metadata": {
    "execution": {
     "iopub.execute_input": "2023-02-04T07:22:40.490903Z",
     "iopub.status.busy": "2023-02-04T07:22:40.490583Z",
     "iopub.status.idle": "2023-02-04T07:22:40.919919Z",
     "shell.execute_reply": "2023-02-04T07:22:40.919311Z"
    }
   },
   "outputs": [
    {
     "data": {
      "text/plain": [
       "Assembly\n",
       "fragments..: 5766bp 811bp 1019bp 970bp\n",
       "limit(bp)..: 31\n",
       "G.nodes....: 10\n",
       "algorithm..: common_sub_strings"
      ]
     },
     "execution_count": 10,
     "metadata": {},
     "output_type": "execute_result"
    }
   ],
   "source": [
    "asm = Assembly((linear_backbone, prom, gene, term), limit=31)\n",
    "asm"
   ]
  },
  {
   "cell_type": "markdown",
   "id": "0a183d8b",
   "metadata": {},
   "source": [
    "The Assembly object above should normally indicate four fragments and eight nodes."
   ]
  },
  {
   "cell_type": "code",
   "execution_count": 11,
   "id": "60881e6f",
   "metadata": {
    "execution": {
     "iopub.execute_input": "2023-02-04T07:22:40.922675Z",
     "iopub.status.busy": "2023-02-04T07:22:40.922424Z",
     "iopub.status.idle": "2023-02-04T07:22:41.146120Z",
     "shell.execute_reply": "2023-02-04T07:22:41.145594Z"
    },
    "lines_to_next_cell": 0
   },
   "outputs": [
    {
     "data": {
      "text/plain": [
       "[Contig(o7931), Contig(o7931), Contig(o7931), Contig(o7338), Contig(o7338)]"
      ]
     },
     "execution_count": 11,
     "metadata": {},
     "output_type": "execute_result"
    }
   ],
   "source": [
    "candidates = asm.assemble_circular()\n",
    "candidates"
   ]
  },
  {
   "cell_type": "markdown",
   "id": "b60882f8",
   "metadata": {},
   "source": [
    "There should normally be two candidates of equal size. These sequences should be identical."
   ]
  },
  {
   "cell_type": "code",
   "execution_count": 12,
   "id": "7bb46dc9",
   "metadata": {
    "execution": {
     "iopub.execute_input": "2023-02-04T07:22:41.148770Z",
     "iopub.status.busy": "2023-02-04T07:22:41.148547Z",
     "iopub.status.idle": "2023-02-04T07:22:41.151987Z",
     "shell.execute_reply": "2023-02-04T07:22:41.151095Z"
    },
    "lines_to_next_cell": 0
   },
   "outputs": [],
   "source": [
    "candidate, *rest = candidates"
   ]
  },
  {
   "cell_type": "code",
   "execution_count": 13,
   "id": "d15928be",
   "metadata": {
    "execution": {
     "iopub.execute_input": "2023-02-04T07:22:41.157816Z",
     "iopub.status.busy": "2023-02-04T07:22:41.157369Z",
     "iopub.status.idle": "2023-02-04T07:22:41.175946Z",
     "shell.execute_reply": "2023-02-04T07:22:41.175448Z"
    },
    "lines_to_next_cell": 0
   },
   "outputs": [
    {
     "data": {
      "text/plain": [
       "True"
      ]
     },
     "execution_count": 13,
     "metadata": {},
     "output_type": "execute_result"
    }
   ],
   "source": [
    "candidate.cseguid() == rest[0].cseguid()"
   ]
  },
  {
   "cell_type": "code",
   "execution_count": 14,
   "id": "30527300",
   "metadata": {
    "execution": {
     "iopub.execute_input": "2023-02-04T07:22:41.178543Z",
     "iopub.status.busy": "2023-02-04T07:22:41.178052Z",
     "iopub.status.idle": "2023-02-04T07:22:41.183150Z",
     "shell.execute_reply": "2023-02-04T07:22:41.182365Z"
    },
    "lines_to_next_cell": 0
   },
   "outputs": [
    {
     "data": {
      "text/plain": [
       " -|pYPK0_lin|168\n",
       "|            \\/\n",
       "|            /\\\n",
       "|            168|TEF1|48\n",
       "|                     \\/\n",
       "|                     /\\\n",
       "|                     48|EcfabD|37\n",
       "|                               \\/\n",
       "|                               /\\\n",
       "|                               37|FBA1|276\n",
       "|                                       \\/\n",
       "|                                       /\\\n",
       "|                                       276-\n",
       "|                                          |\n",
       " ------------------------------------------"
      ]
     },
     "execution_count": 14,
     "metadata": {},
     "output_type": "execute_result"
    }
   ],
   "source": [
    "candidate.figure()"
   ]
  },
  {
   "cell_type": "markdown",
   "id": "f1818bef",
   "metadata": {},
   "source": [
    "The candidate vector is synchronized to the 577 primer. This means that\n",
    "the plasmid origin is shifted so that it matches the backbone vector."
   ]
  },
  {
   "cell_type": "code",
   "execution_count": 15,
   "id": "0afddc8b",
   "metadata": {
    "execution": {
     "iopub.execute_input": "2023-02-04T07:22:41.187440Z",
     "iopub.status.busy": "2023-02-04T07:22:41.186722Z",
     "iopub.status.idle": "2023-02-04T07:22:41.488081Z",
     "shell.execute_reply": "2023-02-04T07:22:41.487416Z"
    }
   },
   "outputs": [],
   "source": [
    "result = candidate.synced(fp_prom)"
   ]
  },
  {
   "cell_type": "markdown",
   "id": "82045e3b",
   "metadata": {},
   "source": [
    "### Diagnostic PCR confirmation\n",
    "\n",
    "The structure of the final vector is confirmed by two\n",
    "separate PCR reactions, one for the promoter and gene and\n",
    "one for the gene and terminator.\n",
    "\n",
    "PCR using standard primers 577 and 467 to amplify promoter and gene."
   ]
  },
  {
   "cell_type": "code",
   "execution_count": 16,
   "id": "ea09295a",
   "metadata": {
    "execution": {
     "iopub.execute_input": "2023-02-04T07:22:41.491145Z",
     "iopub.status.busy": "2023-02-04T07:22:41.490811Z",
     "iopub.status.idle": "2023-02-04T07:22:41.509247Z",
     "shell.execute_reply": "2023-02-04T07:22:41.508639Z"
    }
   },
   "outputs": [],
   "source": [
    "product = pcr( fp_prom, rp_gene, result)"
   ]
  },
  {
   "cell_type": "markdown",
   "id": "8cb7f6ec",
   "metadata": {},
   "source": [
    "A correct clone should give this size in base pairs:"
   ]
  },
  {
   "cell_type": "code",
   "execution_count": 17,
   "id": "ef898143",
   "metadata": {
    "execution": {
     "iopub.execute_input": "2023-02-04T07:22:41.512000Z",
     "iopub.status.busy": "2023-02-04T07:22:41.511781Z",
     "iopub.status.idle": "2023-02-04T07:22:41.514953Z",
     "shell.execute_reply": "2023-02-04T07:22:41.514380Z"
    }
   },
   "outputs": [
    {
     "name": "stdout",
     "output_type": "stream",
     "text": [
      "1780\n"
     ]
    }
   ],
   "source": [
    "print(len(product))"
   ]
  },
  {
   "cell_type": "markdown",
   "id": "05593445",
   "metadata": {},
   "source": [
    "If the promoter is missing from the assembly, the PCR product will have this size in base pairs:"
   ]
  },
  {
   "cell_type": "code",
   "execution_count": 18,
   "id": "106dbcde",
   "metadata": {
    "execution": {
     "iopub.execute_input": "2023-02-04T07:22:41.519229Z",
     "iopub.status.busy": "2023-02-04T07:22:41.518897Z",
     "iopub.status.idle": "2023-02-04T07:22:41.523643Z",
     "shell.execute_reply": "2023-02-04T07:22:41.522834Z"
    }
   },
   "outputs": [
    {
     "name": "stdout",
     "output_type": "stream",
     "text": [
      "969\n"
     ]
    }
   ],
   "source": [
    "print(len(product) - len(prom))"
   ]
  },
  {
   "cell_type": "markdown",
   "id": "2f9e48a2",
   "metadata": {},
   "source": [
    "If the gene is missing from the assembly, the PCR product will have this size in base pairs:"
   ]
  },
  {
   "cell_type": "code",
   "execution_count": 19,
   "id": "8e7a349d",
   "metadata": {
    "execution": {
     "iopub.execute_input": "2023-02-04T07:22:41.526991Z",
     "iopub.status.busy": "2023-02-04T07:22:41.526718Z",
     "iopub.status.idle": "2023-02-04T07:22:41.530954Z",
     "shell.execute_reply": "2023-02-04T07:22:41.530232Z"
    }
   },
   "outputs": [
    {
     "name": "stdout",
     "output_type": "stream",
     "text": [
      "761\n"
     ]
    }
   ],
   "source": [
    "print(len(product) - len(gene))"
   ]
  },
  {
   "cell_type": "markdown",
   "id": "e9be6519",
   "metadata": {},
   "source": [
    "PCR using standard primers 468 and 578 to amplify gene and terminator."
   ]
  },
  {
   "cell_type": "code",
   "execution_count": 20,
   "id": "525aa063",
   "metadata": {
    "execution": {
     "iopub.execute_input": "2023-02-04T07:22:41.534966Z",
     "iopub.status.busy": "2023-02-04T07:22:41.534664Z",
     "iopub.status.idle": "2023-02-04T07:22:41.556001Z",
     "shell.execute_reply": "2023-02-04T07:22:41.555309Z"
    }
   },
   "outputs": [],
   "source": [
    "product2 = pcr( fp_gene, rp_term, result)"
   ]
  },
  {
   "cell_type": "markdown",
   "id": "94c2975c",
   "metadata": {},
   "source": [
    "A correct clone should give this size:"
   ]
  },
  {
   "cell_type": "code",
   "execution_count": 21,
   "id": "ec573e5c",
   "metadata": {
    "execution": {
     "iopub.execute_input": "2023-02-04T07:22:41.558772Z",
     "iopub.status.busy": "2023-02-04T07:22:41.558553Z",
     "iopub.status.idle": "2023-02-04T07:22:41.562905Z",
     "shell.execute_reply": "2023-02-04T07:22:41.562185Z"
    }
   },
   "outputs": [
    {
     "name": "stdout",
     "output_type": "stream",
     "text": [
      "1952\n"
     ]
    }
   ],
   "source": [
    "print(len(product2))"
   ]
  },
  {
   "cell_type": "markdown",
   "id": "d0288d6e",
   "metadata": {},
   "source": [
    "If the gene is missing from the assembly, the PCR product will have this size in base pairs:"
   ]
  },
  {
   "cell_type": "code",
   "execution_count": 22,
   "id": "cb7022c1",
   "metadata": {
    "execution": {
     "iopub.execute_input": "2023-02-04T07:22:41.566246Z",
     "iopub.status.busy": "2023-02-04T07:22:41.565716Z",
     "iopub.status.idle": "2023-02-04T07:22:41.570087Z",
     "shell.execute_reply": "2023-02-04T07:22:41.569333Z"
    }
   },
   "outputs": [
    {
     "name": "stdout",
     "output_type": "stream",
     "text": [
      "933\n"
     ]
    }
   ],
   "source": [
    "print(len(product2) - len(gene))"
   ]
  },
  {
   "cell_type": "markdown",
   "id": "96c69dc0",
   "metadata": {},
   "source": [
    "If the terminator is missing from the assembly, the PCR product will have this size in base pairs:"
   ]
  },
  {
   "cell_type": "code",
   "execution_count": 23,
   "id": "c7681e6c",
   "metadata": {
    "execution": {
     "iopub.execute_input": "2023-02-04T07:22:41.573436Z",
     "iopub.status.busy": "2023-02-04T07:22:41.573196Z",
     "iopub.status.idle": "2023-02-04T07:22:41.576915Z",
     "shell.execute_reply": "2023-02-04T07:22:41.576356Z"
    }
   },
   "outputs": [
    {
     "name": "stdout",
     "output_type": "stream",
     "text": [
      "982\n"
     ]
    }
   ],
   "source": [
    "print(len(product2) - len(term))"
   ]
  },
  {
   "cell_type": "markdown",
   "id": "0c7b15b1",
   "metadata": {},
   "source": [
    "The cseguid checksum for the resulting plasmid is calculated for future reference.\n",
    "The [cseguid checksum](http://pydna.readthedocs.org/en/latest/pydna.html#pydna.utils.cseguid)\n",
    "uniquely identifies a circular double stranded sequence."
   ]
  },
  {
   "cell_type": "code",
   "execution_count": 24,
   "id": "d3d8bf15",
   "metadata": {
    "execution": {
     "iopub.execute_input": "2023-02-04T07:22:41.579542Z",
     "iopub.status.busy": "2023-02-04T07:22:41.579119Z",
     "iopub.status.idle": "2023-02-04T07:22:41.587998Z",
     "shell.execute_reply": "2023-02-04T07:22:41.587463Z"
    }
   },
   "outputs": [
    {
     "name": "stdout",
     "output_type": "stream",
     "text": [
      "v01M60VeuFZ1JwP7geadToegcEo\n"
     ]
    }
   ],
   "source": [
    "print(result.cseguid())"
   ]
  },
  {
   "cell_type": "markdown",
   "id": "0d3989d2",
   "metadata": {},
   "source": [
    "The file name is based on the promoter, gene and terminator designations."
   ]
  },
  {
   "cell_type": "code",
   "execution_count": 25,
   "id": "22fffffb",
   "metadata": {
    "execution": {
     "iopub.execute_input": "2023-02-04T07:22:41.590747Z",
     "iopub.status.busy": "2023-02-04T07:22:41.590541Z",
     "iopub.status.idle": "2023-02-04T07:22:41.593770Z",
     "shell.execute_reply": "2023-02-04T07:22:41.592949Z"
    }
   },
   "outputs": [],
   "source": [
    "result.locus = f\"tu:{gene.name}\"[:16]\n",
    "result.definition = \"pYPK0_TEF1_EcfabD_FBA1\""
   ]
  },
  {
   "cell_type": "markdown",
   "id": "1ca1651b",
   "metadata": {},
   "source": [
    "Sequence is stamped with cseguid checksum. This can be used to verify the\n",
    "integrity of the sequence file."
   ]
  },
  {
   "cell_type": "code",
   "execution_count": 26,
   "id": "1d4a6c25",
   "metadata": {
    "execution": {
     "iopub.execute_input": "2023-02-04T07:22:41.597232Z",
     "iopub.status.busy": "2023-02-04T07:22:41.596951Z",
     "iopub.status.idle": "2023-02-04T07:22:41.609819Z",
     "shell.execute_reply": "2023-02-04T07:22:41.609177Z"
    }
   },
   "outputs": [
    {
     "data": {
      "text/plain": [
       "v01M60VeuFZ1JwP7geadToegcEo"
      ]
     },
     "execution_count": 26,
     "metadata": {},
     "output_type": "execute_result"
    }
   ],
   "source": [
    "result.stamp(\"cSEGUID\")"
   ]
  },
  {
   "cell_type": "markdown",
   "id": "baf843ef",
   "metadata": {},
   "source": [
    "Write sequence to a local file."
   ]
  },
  {
   "cell_type": "code",
   "execution_count": 27,
   "id": "075670e1",
   "metadata": {
    "execution": {
     "iopub.execute_input": "2023-02-04T07:22:41.613395Z",
     "iopub.status.busy": "2023-02-04T07:22:41.612851Z",
     "iopub.status.idle": "2023-02-04T07:22:41.631641Z",
     "shell.execute_reply": "2023-02-04T07:22:41.631123Z"
    }
   },
   "outputs": [
    {
     "data": {
      "text/html": [
       "<font face=monospace><a href='pYPK0_TEF1_EcfabD_FBA1.gb' target='_blank'>pYPK0_TEF1_EcfabD_FBA1.gb</a></font><br>"
      ]
     },
     "metadata": {},
     "output_type": "display_data"
    }
   ],
   "source": [
    "result.write(f\"{result.definition}.gb\")"
   ]
  },
  {
   "cell_type": "markdown",
   "id": "eae5a262",
   "metadata": {
    "lines_to_next_cell": 0
   },
   "source": [
    "### Suggested PCR programs\n",
    "\n",
    "For the [amplification](#PCR) of promoter, gene and terminator."
   ]
  },
  {
   "cell_type": "code",
   "execution_count": 28,
   "id": "101ca363",
   "metadata": {
    "execution": {
     "iopub.execute_input": "2023-02-04T07:22:41.634917Z",
     "iopub.status.busy": "2023-02-04T07:22:41.634306Z",
     "iopub.status.idle": "2023-02-04T07:22:41.638815Z",
     "shell.execute_reply": "2023-02-04T07:22:41.637870Z"
    }
   },
   "outputs": [
    {
     "name": "stdout",
     "output_type": "stream",
     "text": [
      "577_crp585-557 567_pCAPsAjiIF\n",
      "|95°C|95°C               |    |tmf:64.6\n",
      "|____|_____          72°C|72°C|tmr:69.7\n",
      "|3min|30s  \\ 57.1°C _____|____|45s/kb\n",
      "|    |      \\______/ 0:36|5min|GC 39%\n",
      "|    |       30s         |    |811bp\n"
     ]
    }
   ],
   "source": [
    "print(prom.forward_primer.name, prom.reverse_primer.name)\n",
    "print(prom.program())"
   ]
  },
  {
   "cell_type": "code",
   "execution_count": 29,
   "id": "2118adfc",
   "metadata": {
    "execution": {
     "iopub.execute_input": "2023-02-04T07:22:41.642646Z",
     "iopub.status.busy": "2023-02-04T07:22:41.642283Z",
     "iopub.status.idle": "2023-02-04T07:22:41.647869Z",
     "shell.execute_reply": "2023-02-04T07:22:41.647089Z"
    }
   },
   "outputs": [
    {
     "name": "stdout",
     "output_type": "stream",
     "text": [
      "468_pCAPs_release_fw 467_pCAPs_release_re\n",
      "|95°C|95°C               |    |tmf:76.9\n",
      "|____|_____          72°C|72°C|tmr:67.9\n",
      "|3min|30s  \\ 62.7°C _____|____|45s/kb\n",
      "|    |      \\______/ 0:45|5min|GC 54%\n",
      "|    |       30s         |    |1019bp\n"
     ]
    }
   ],
   "source": [
    "print(gene.forward_primer.name, gene.reverse_primer.name)\n",
    "print(gene.program())"
   ]
  },
  {
   "cell_type": "code",
   "execution_count": 30,
   "id": "36ebd6b4",
   "metadata": {
    "execution": {
     "iopub.execute_input": "2023-02-04T07:22:41.651864Z",
     "iopub.status.busy": "2023-02-04T07:22:41.651184Z",
     "iopub.status.idle": "2023-02-04T07:22:41.655953Z",
     "shell.execute_reply": "2023-02-04T07:22:41.655329Z"
    }
   },
   "outputs": [
    {
     "name": "stdout",
     "output_type": "stream",
     "text": [
      "568_pCAPsAjiIR 578_crp42-70\n",
      "|95°C|95°C               |    |tmf:66.1\n",
      "|____|_____          72°C|72°C|tmr:65.0\n",
      "|3min|30s  \\ 57.2°C _____|____|45s/kb\n",
      "|    |      \\______/ 0:43|5min|GC 38%\n",
      "|    |       30s         |    |970bp\n"
     ]
    }
   ],
   "source": [
    "print(term.forward_primer.name, term.reverse_primer.name)\n",
    "print(term.program())"
   ]
  }
 ],
 "metadata": {
  "jupytext": {
   "main_language": "python",
   "text_representation": {
    "extension": ".py",
    "format_name": "percent",
    "format_version": "1.3",
    "jupytext_version": "1.14.0"
   }
  },
  "language_info": {
   "codemirror_mode": {
    "name": "ipython",
    "version": 3
   },
   "file_extension": ".py",
   "mimetype": "text/x-python",
   "name": "python",
   "nbconvert_exporter": "python",
   "pygments_lexer": "ipython3",
   "version": "3.11.0"
  }
 },
 "nbformat": 4,
 "nbformat_minor": 5
}
