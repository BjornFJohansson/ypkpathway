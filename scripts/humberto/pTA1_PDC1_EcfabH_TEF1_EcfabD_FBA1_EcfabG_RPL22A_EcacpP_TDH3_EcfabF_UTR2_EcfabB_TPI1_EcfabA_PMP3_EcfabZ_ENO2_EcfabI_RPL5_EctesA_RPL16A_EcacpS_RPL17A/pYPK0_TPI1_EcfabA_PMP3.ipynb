{
 "cells": [
  {
   "cell_type": "markdown",
   "id": "6e8906fd",
   "metadata": {},
   "source": [
    "# [![logo](logo.png)](https://github.com/BjornFJohansson/ypkpathway#-ypkpathway) pYPK0_TPI1_EcfabA_PMP3\n",
    "\n",
    "Assembly of a [_Saccharomyces cerevisiae_](http://www.yeastgenome.org) transcriptional unit vector.\n",
    "\n",
    "Made from a linear vector fragment and three PCR products:\n",
    "\n",
    "- a linearized pYPK0 vector for maintenance in _S. cerevisiae_ or _E. coli_ (red dashed line in figure below)\n",
    "- a promoter PCR product from the `pYPKa_Z_TPI1` vector\n",
    "- a gene PCR product from the `pYPKa_A_EcfabA` vector\n",
    "- a terminator PCR product from the `pYPKa_E_PMP3` vector\n",
    "\n",
    "The four linear DNA fragments are joined by _in-vivo_ homologous recombination in a\n",
    "[_Saccharomyces cerevisiae_](http://wiki.yeastgenome.org/index.php/Commonly_used_strains) strain.\n",
    "\n",
    "![tu](tu.png \"tu\")\n",
    "\n",
    "A part of the [pydna](https://pypi.python.org/pypi/pydna/) package is imported in the code cell below."
   ]
  },
  {
   "cell_type": "code",
   "execution_count": 1,
   "id": "5feb34b4",
   "metadata": {
    "execution": {
     "iopub.execute_input": "2023-02-04T07:22:55.347789Z",
     "iopub.status.busy": "2023-02-04T07:22:55.347224Z",
     "iopub.status.idle": "2023-02-04T07:22:55.702022Z",
     "shell.execute_reply": "2023-02-04T07:22:55.701350Z"
    }
   },
   "outputs": [],
   "source": [
    "from pydna.parsers import parse_primers\n",
    "from pydna.readers import read\n",
    "from pydna.amplify import pcr\n",
    "from pydna.assembly import Assembly"
   ]
  },
  {
   "cell_type": "markdown",
   "id": "8da41ae4",
   "metadata": {},
   "source": [
    "The Yeast Pathway Kit [standard primers](standard_primers.fasta) are read into a dictionary in the code cell below."
   ]
  },
  {
   "cell_type": "code",
   "execution_count": 2,
   "id": "80f8d0b1",
   "metadata": {
    "execution": {
     "iopub.execute_input": "2023-02-04T07:22:55.705248Z",
     "iopub.status.busy": "2023-02-04T07:22:55.704923Z",
     "iopub.status.idle": "2023-02-04T07:22:55.717702Z",
     "shell.execute_reply": "2023-02-04T07:22:55.717079Z"
    }
   },
   "outputs": [],
   "source": [
    "p = {x.name: x for x in parse_primers(\"standard_primers.fasta\")}"
   ]
  },
  {
   "cell_type": "markdown",
   "id": "61b106f3",
   "metadata": {},
   "source": [
    "The backbone vector [pYPK0](pYPK0.gb) is read from a local file in the code cell below."
   ]
  },
  {
   "cell_type": "code",
   "execution_count": 3,
   "id": "f196ea9c",
   "metadata": {
    "execution": {
     "iopub.execute_input": "2023-02-04T07:22:55.720588Z",
     "iopub.status.busy": "2023-02-04T07:22:55.720328Z",
     "iopub.status.idle": "2023-02-04T07:22:55.730418Z",
     "shell.execute_reply": "2023-02-04T07:22:55.729681Z"
    }
   },
   "outputs": [],
   "source": [
    "backbone = read(\"pYPK0.gb\")"
   ]
  },
  {
   "cell_type": "markdown",
   "id": "5ba77732",
   "metadata": {},
   "source": [
    "The backbone vector is linearized by digestion with [MfeI](https://www.google.com/search?q=MfeI)."
   ]
  },
  {
   "cell_type": "code",
   "execution_count": 4,
   "id": "1725518d",
   "metadata": {
    "execution": {
     "iopub.execute_input": "2023-02-04T07:22:55.733918Z",
     "iopub.status.busy": "2023-02-04T07:22:55.733508Z",
     "iopub.status.idle": "2023-02-04T07:22:55.737920Z",
     "shell.execute_reply": "2023-02-04T07:22:55.737123Z"
    }
   },
   "outputs": [],
   "source": [
    "from Bio.Restriction import MfeI"
   ]
  },
  {
   "cell_type": "code",
   "execution_count": 5,
   "id": "f18ac890",
   "metadata": {
    "execution": {
     "iopub.execute_input": "2023-02-04T07:22:55.741366Z",
     "iopub.status.busy": "2023-02-04T07:22:55.741070Z",
     "iopub.status.idle": "2023-02-04T07:22:55.751005Z",
     "shell.execute_reply": "2023-02-04T07:22:55.749708Z"
    }
   },
   "outputs": [],
   "source": [
    "linear_backbone = backbone.linearize(MfeI)"
   ]
  },
  {
   "cell_type": "markdown",
   "id": "1567ecdc",
   "metadata": {},
   "source": [
    "The pYPKa derived _E. coli_ plasmids containing\n",
    "- [promoter](pYPKa_Z_TPI1.gb)\n",
    "- [gene](pYPKa_A_EcfabA.gb)\n",
    "- [terminator](pYPKa_E_PMP3.gb)\n",
    "\n",
    "are read into three variables below."
   ]
  },
  {
   "cell_type": "code",
   "execution_count": 6,
   "id": "0facff9a",
   "metadata": {
    "execution": {
     "iopub.execute_input": "2023-02-04T07:22:55.753975Z",
     "iopub.status.busy": "2023-02-04T07:22:55.753725Z",
     "iopub.status.idle": "2023-02-04T07:22:55.773568Z",
     "shell.execute_reply": "2023-02-04T07:22:55.772587Z"
    }
   },
   "outputs": [],
   "source": [
    "promoter_template   = read(\"pYPKa_Z_TPI1.gb\")\n",
    "gene_template       = read(\"pYPKa_A_EcfabA.gb\")\n",
    "terminator_template = read(\"pYPKa_E_PMP3.gb\")"
   ]
  },
  {
   "cell_type": "markdown",
   "id": "b8bbc476",
   "metadata": {
    "lines_to_next_cell": 0
   },
   "source": [
    "### PCR\n",
    "Three DNA fragments are PCR amplified using [standard primers](standard_primers.fasta).\n",
    "\n",
    "[Suggested PCR programs](#Suggested-PCR-programs) can be found at the end of this document."
   ]
  },
  {
   "cell_type": "code",
   "execution_count": 7,
   "id": "a089eb30",
   "metadata": {
    "execution": {
     "iopub.execute_input": "2023-02-04T07:22:55.776710Z",
     "iopub.status.busy": "2023-02-04T07:22:55.776496Z",
     "iopub.status.idle": "2023-02-04T07:22:55.780009Z",
     "shell.execute_reply": "2023-02-04T07:22:55.779223Z"
    }
   },
   "outputs": [],
   "source": [
    "\n",
    "fp_prom = p['577_crp585-557']\n",
    "rp_prom = p['567_pCAPsAjiIF']\n",
    "fp_gene = p['468_pCAPs_release_fw']\n",
    "rp_gene = p['467_pCAPs_release_re']\n",
    "fp_term = p['568_pCAPsAjiIR']\n",
    "rp_term = p['578_crp42-70']"
   ]
  },
  {
   "cell_type": "code",
   "execution_count": 8,
   "id": "2d32e40e",
   "metadata": {
    "execution": {
     "iopub.execute_input": "2023-02-04T07:22:55.782407Z",
     "iopub.status.busy": "2023-02-04T07:22:55.782168Z",
     "iopub.status.idle": "2023-02-04T07:22:55.811410Z",
     "shell.execute_reply": "2023-02-04T07:22:55.810751Z"
    }
   },
   "outputs": [],
   "source": [
    "prom = pcr(fp_prom, rp_prom, promoter_template)\n",
    "gene = pcr(fp_gene, rp_gene, gene_template)\n",
    "term = pcr(fp_term, rp_term, terminator_template)"
   ]
  },
  {
   "cell_type": "code",
   "execution_count": 9,
   "id": "46930517",
   "metadata": {
    "execution": {
     "iopub.execute_input": "2023-02-04T07:22:55.814245Z",
     "iopub.status.busy": "2023-02-04T07:22:55.814025Z",
     "iopub.status.idle": "2023-02-04T07:22:55.817368Z",
     "shell.execute_reply": "2023-02-04T07:22:55.816609Z"
    }
   },
   "outputs": [],
   "source": [
    "prom.name = \"pYPKa_Z_TPI1\"[8:]\n",
    "gene.name = \"pYPKa_A_EcfabA\"[8:]\n",
    "term.name = \"pYPKa_E_PMP3\"[8:]"
   ]
  },
  {
   "cell_type": "markdown",
   "id": "4f386715",
   "metadata": {},
   "source": [
    "\n",
    "The fragments will be assembled by _in-vivo_ [homologous recombination](http://www.ncbi.nlm.nih.gov/pubmed/2828185):"
   ]
  },
  {
   "cell_type": "code",
   "execution_count": 10,
   "id": "8bf74501",
   "metadata": {
    "execution": {
     "iopub.execute_input": "2023-02-04T07:22:55.821205Z",
     "iopub.status.busy": "2023-02-04T07:22:55.820516Z",
     "iopub.status.idle": "2023-02-04T07:22:56.235587Z",
     "shell.execute_reply": "2023-02-04T07:22:56.235086Z"
    }
   },
   "outputs": [
    {
     "data": {
      "text/plain": [
       "Assembly\n",
       "fragments..: 5766bp 814bp 608bp 1096bp\n",
       "limit(bp)..: 31\n",
       "G.nodes....: 10\n",
       "algorithm..: common_sub_strings"
      ]
     },
     "execution_count": 10,
     "metadata": {},
     "output_type": "execute_result"
    }
   ],
   "source": [
    "asm = Assembly((linear_backbone, prom, gene, term), limit=31)\n",
    "asm"
   ]
  },
  {
   "cell_type": "markdown",
   "id": "cb164af7",
   "metadata": {},
   "source": [
    "The Assembly object above should normally indicate four fragments and eight nodes."
   ]
  },
  {
   "cell_type": "code",
   "execution_count": 11,
   "id": "5c178205",
   "metadata": {
    "execution": {
     "iopub.execute_input": "2023-02-04T07:22:56.238120Z",
     "iopub.status.busy": "2023-02-04T07:22:56.237880Z",
     "iopub.status.idle": "2023-02-04T07:22:56.453644Z",
     "shell.execute_reply": "2023-02-04T07:22:56.453075Z"
    },
    "lines_to_next_cell": 0
   },
   "outputs": [
    {
     "data": {
      "text/plain": [
       "[Contig(o7649), Contig(o7649), Contig(o7649), Contig(o7053), Contig(o7053)]"
      ]
     },
     "execution_count": 11,
     "metadata": {},
     "output_type": "execute_result"
    }
   ],
   "source": [
    "candidates = asm.assemble_circular()\n",
    "candidates"
   ]
  },
  {
   "cell_type": "markdown",
   "id": "f441871c",
   "metadata": {},
   "source": [
    "There should normally be two candidates of equal size. These sequences should be identical."
   ]
  },
  {
   "cell_type": "code",
   "execution_count": 12,
   "id": "8df7f432",
   "metadata": {
    "execution": {
     "iopub.execute_input": "2023-02-04T07:22:56.456946Z",
     "iopub.status.busy": "2023-02-04T07:22:56.456436Z",
     "iopub.status.idle": "2023-02-04T07:22:56.459407Z",
     "shell.execute_reply": "2023-02-04T07:22:56.458878Z"
    },
    "lines_to_next_cell": 0
   },
   "outputs": [],
   "source": [
    "candidate, *rest = candidates"
   ]
  },
  {
   "cell_type": "code",
   "execution_count": 13,
   "id": "759defce",
   "metadata": {
    "execution": {
     "iopub.execute_input": "2023-02-04T07:22:56.462043Z",
     "iopub.status.busy": "2023-02-04T07:22:56.461541Z",
     "iopub.status.idle": "2023-02-04T07:22:56.479167Z",
     "shell.execute_reply": "2023-02-04T07:22:56.478479Z"
    },
    "lines_to_next_cell": 0
   },
   "outputs": [
    {
     "data": {
      "text/plain": [
       "True"
      ]
     },
     "execution_count": 13,
     "metadata": {},
     "output_type": "execute_result"
    }
   ],
   "source": [
    "candidate.cseguid() == rest[0].cseguid()"
   ]
  },
  {
   "cell_type": "code",
   "execution_count": 14,
   "id": "4b49020e",
   "metadata": {
    "execution": {
     "iopub.execute_input": "2023-02-04T07:22:56.481809Z",
     "iopub.status.busy": "2023-02-04T07:22:56.481406Z",
     "iopub.status.idle": "2023-02-04T07:22:56.485697Z",
     "shell.execute_reply": "2023-02-04T07:22:56.485123Z"
    },
    "lines_to_next_cell": 0
   },
   "outputs": [
    {
     "data": {
      "text/plain": [
       " -|pYPK0_lin|168\n",
       "|            \\/\n",
       "|            /\\\n",
       "|            168|TPI1|48\n",
       "|                     \\/\n",
       "|                     /\\\n",
       "|                     48|EcfabA|37\n",
       "|                               \\/\n",
       "|                               /\\\n",
       "|                               37|PMP3|276\n",
       "|                                       \\/\n",
       "|                                       /\\\n",
       "|                                       276-\n",
       "|                                          |\n",
       " ------------------------------------------"
      ]
     },
     "execution_count": 14,
     "metadata": {},
     "output_type": "execute_result"
    }
   ],
   "source": [
    "candidate.figure()"
   ]
  },
  {
   "cell_type": "markdown",
   "id": "821ef91e",
   "metadata": {},
   "source": [
    "The candidate vector is synchronized to the 577 primer. This means that\n",
    "the plasmid origin is shifted so that it matches the backbone vector."
   ]
  },
  {
   "cell_type": "code",
   "execution_count": 15,
   "id": "31f7bfc9",
   "metadata": {
    "execution": {
     "iopub.execute_input": "2023-02-04T07:22:56.488891Z",
     "iopub.status.busy": "2023-02-04T07:22:56.488315Z",
     "iopub.status.idle": "2023-02-04T07:22:56.793482Z",
     "shell.execute_reply": "2023-02-04T07:22:56.792815Z"
    }
   },
   "outputs": [],
   "source": [
    "result = candidate.synced(fp_prom)"
   ]
  },
  {
   "cell_type": "markdown",
   "id": "1e8206cd",
   "metadata": {},
   "source": [
    "### Diagnostic PCR confirmation\n",
    "\n",
    "The structure of the final vector is confirmed by two\n",
    "separate PCR reactions, one for the promoter and gene and\n",
    "one for the gene and terminator.\n",
    "\n",
    "PCR using standard primers 577 and 467 to amplify promoter and gene."
   ]
  },
  {
   "cell_type": "code",
   "execution_count": 16,
   "id": "1119bcc8",
   "metadata": {
    "execution": {
     "iopub.execute_input": "2023-02-04T07:22:56.796508Z",
     "iopub.status.busy": "2023-02-04T07:22:56.796292Z",
     "iopub.status.idle": "2023-02-04T07:22:56.814379Z",
     "shell.execute_reply": "2023-02-04T07:22:56.813762Z"
    }
   },
   "outputs": [],
   "source": [
    "product = pcr( fp_prom, rp_gene, result)"
   ]
  },
  {
   "cell_type": "markdown",
   "id": "b9fd43d1",
   "metadata": {},
   "source": [
    "A correct clone should give this size in base pairs:"
   ]
  },
  {
   "cell_type": "code",
   "execution_count": 17,
   "id": "738216ff",
   "metadata": {
    "execution": {
     "iopub.execute_input": "2023-02-04T07:22:56.817888Z",
     "iopub.status.busy": "2023-02-04T07:22:56.817563Z",
     "iopub.status.idle": "2023-02-04T07:22:56.821731Z",
     "shell.execute_reply": "2023-02-04T07:22:56.821050Z"
    }
   },
   "outputs": [
    {
     "name": "stdout",
     "output_type": "stream",
     "text": [
      "1372\n"
     ]
    }
   ],
   "source": [
    "print(len(product))"
   ]
  },
  {
   "cell_type": "markdown",
   "id": "3f4feece",
   "metadata": {},
   "source": [
    "If the promoter is missing from the assembly, the PCR product will have this size in base pairs:"
   ]
  },
  {
   "cell_type": "code",
   "execution_count": 18,
   "id": "f7fe78fc",
   "metadata": {
    "execution": {
     "iopub.execute_input": "2023-02-04T07:22:56.825471Z",
     "iopub.status.busy": "2023-02-04T07:22:56.824797Z",
     "iopub.status.idle": "2023-02-04T07:22:56.830171Z",
     "shell.execute_reply": "2023-02-04T07:22:56.829249Z"
    }
   },
   "outputs": [
    {
     "name": "stdout",
     "output_type": "stream",
     "text": [
      "558\n"
     ]
    }
   ],
   "source": [
    "print(len(product) - len(prom))"
   ]
  },
  {
   "cell_type": "markdown",
   "id": "2211065b",
   "metadata": {},
   "source": [
    "If the gene is missing from the assembly, the PCR product will have this size in base pairs:"
   ]
  },
  {
   "cell_type": "code",
   "execution_count": 19,
   "id": "ac30a720",
   "metadata": {
    "execution": {
     "iopub.execute_input": "2023-02-04T07:22:56.834477Z",
     "iopub.status.busy": "2023-02-04T07:22:56.833847Z",
     "iopub.status.idle": "2023-02-04T07:22:56.838237Z",
     "shell.execute_reply": "2023-02-04T07:22:56.837568Z"
    }
   },
   "outputs": [
    {
     "name": "stdout",
     "output_type": "stream",
     "text": [
      "764\n"
     ]
    }
   ],
   "source": [
    "print(len(product) - len(gene))"
   ]
  },
  {
   "cell_type": "markdown",
   "id": "96737198",
   "metadata": {},
   "source": [
    "PCR using standard primers 468 and 578 to amplify gene and terminator."
   ]
  },
  {
   "cell_type": "code",
   "execution_count": 20,
   "id": "baa7673c",
   "metadata": {
    "execution": {
     "iopub.execute_input": "2023-02-04T07:22:56.841600Z",
     "iopub.status.busy": "2023-02-04T07:22:56.841095Z",
     "iopub.status.idle": "2023-02-04T07:22:56.862167Z",
     "shell.execute_reply": "2023-02-04T07:22:56.861624Z"
    }
   },
   "outputs": [],
   "source": [
    "product2 = pcr( fp_gene, rp_term, result)"
   ]
  },
  {
   "cell_type": "markdown",
   "id": "4621d4ef",
   "metadata": {},
   "source": [
    "A correct clone should give this size:"
   ]
  },
  {
   "cell_type": "code",
   "execution_count": 21,
   "id": "3b5e3fbe",
   "metadata": {
    "execution": {
     "iopub.execute_input": "2023-02-04T07:22:56.865153Z",
     "iopub.status.busy": "2023-02-04T07:22:56.864926Z",
     "iopub.status.idle": "2023-02-04T07:22:56.868525Z",
     "shell.execute_reply": "2023-02-04T07:22:56.867904Z"
    }
   },
   "outputs": [
    {
     "name": "stdout",
     "output_type": "stream",
     "text": [
      "1667\n"
     ]
    }
   ],
   "source": [
    "print(len(product2))"
   ]
  },
  {
   "cell_type": "markdown",
   "id": "3013e4d4",
   "metadata": {},
   "source": [
    "If the gene is missing from the assembly, the PCR product will have this size in base pairs:"
   ]
  },
  {
   "cell_type": "code",
   "execution_count": 22,
   "id": "efc38c53",
   "metadata": {
    "execution": {
     "iopub.execute_input": "2023-02-04T07:22:56.871258Z",
     "iopub.status.busy": "2023-02-04T07:22:56.870938Z",
     "iopub.status.idle": "2023-02-04T07:22:56.875037Z",
     "shell.execute_reply": "2023-02-04T07:22:56.874307Z"
    }
   },
   "outputs": [
    {
     "name": "stdout",
     "output_type": "stream",
     "text": [
      "1059\n"
     ]
    }
   ],
   "source": [
    "print(len(product2) - len(gene))"
   ]
  },
  {
   "cell_type": "markdown",
   "id": "1e3b06cc",
   "metadata": {},
   "source": [
    "If the terminator is missing from the assembly, the PCR product will have this size in base pairs:"
   ]
  },
  {
   "cell_type": "code",
   "execution_count": 23,
   "id": "cf4d6085",
   "metadata": {
    "execution": {
     "iopub.execute_input": "2023-02-04T07:22:56.878683Z",
     "iopub.status.busy": "2023-02-04T07:22:56.878399Z",
     "iopub.status.idle": "2023-02-04T07:22:56.882753Z",
     "shell.execute_reply": "2023-02-04T07:22:56.881953Z"
    }
   },
   "outputs": [
    {
     "name": "stdout",
     "output_type": "stream",
     "text": [
      "571\n"
     ]
    }
   ],
   "source": [
    "print(len(product2) - len(term))"
   ]
  },
  {
   "cell_type": "markdown",
   "id": "be1d13a4",
   "metadata": {},
   "source": [
    "The cseguid checksum for the resulting plasmid is calculated for future reference.\n",
    "The [cseguid checksum](http://pydna.readthedocs.org/en/latest/pydna.html#pydna.utils.cseguid)\n",
    "uniquely identifies a circular double stranded sequence."
   ]
  },
  {
   "cell_type": "code",
   "execution_count": 24,
   "id": "3babd8ee",
   "metadata": {
    "execution": {
     "iopub.execute_input": "2023-02-04T07:22:56.886605Z",
     "iopub.status.busy": "2023-02-04T07:22:56.886321Z",
     "iopub.status.idle": "2023-02-04T07:22:56.895659Z",
     "shell.execute_reply": "2023-02-04T07:22:56.895158Z"
    }
   },
   "outputs": [
    {
     "name": "stdout",
     "output_type": "stream",
     "text": [
      "b69UJ57c-OMvguc2CZReyYqmq4E\n"
     ]
    }
   ],
   "source": [
    "print(result.cseguid())"
   ]
  },
  {
   "cell_type": "markdown",
   "id": "281d11c8",
   "metadata": {},
   "source": [
    "The file name is based on the promoter, gene and terminator designations."
   ]
  },
  {
   "cell_type": "code",
   "execution_count": 25,
   "id": "ef86c26e",
   "metadata": {
    "execution": {
     "iopub.execute_input": "2023-02-04T07:22:56.898340Z",
     "iopub.status.busy": "2023-02-04T07:22:56.898138Z",
     "iopub.status.idle": "2023-02-04T07:22:56.902607Z",
     "shell.execute_reply": "2023-02-04T07:22:56.901751Z"
    }
   },
   "outputs": [],
   "source": [
    "result.locus = f\"tu:{gene.name}\"[:16]\n",
    "result.definition = \"pYPK0_TPI1_EcfabA_PMP3\""
   ]
  },
  {
   "cell_type": "markdown",
   "id": "ff93578e",
   "metadata": {},
   "source": [
    "Sequence is stamped with cseguid checksum. This can be used to verify the\n",
    "integrity of the sequence file."
   ]
  },
  {
   "cell_type": "code",
   "execution_count": 26,
   "id": "673f84df",
   "metadata": {
    "execution": {
     "iopub.execute_input": "2023-02-04T07:22:56.906531Z",
     "iopub.status.busy": "2023-02-04T07:22:56.906209Z",
     "iopub.status.idle": "2023-02-04T07:22:56.919378Z",
     "shell.execute_reply": "2023-02-04T07:22:56.918718Z"
    }
   },
   "outputs": [
    {
     "data": {
      "text/plain": [
       "b69UJ57c-OMvguc2CZReyYqmq4E"
      ]
     },
     "execution_count": 26,
     "metadata": {},
     "output_type": "execute_result"
    }
   ],
   "source": [
    "result.stamp(\"cSEGUID\")"
   ]
  },
  {
   "cell_type": "markdown",
   "id": "f28d6baa",
   "metadata": {},
   "source": [
    "Write sequence to a local file."
   ]
  },
  {
   "cell_type": "code",
   "execution_count": 27,
   "id": "cf832842",
   "metadata": {
    "execution": {
     "iopub.execute_input": "2023-02-04T07:22:56.922099Z",
     "iopub.status.busy": "2023-02-04T07:22:56.921888Z",
     "iopub.status.idle": "2023-02-04T07:22:56.941786Z",
     "shell.execute_reply": "2023-02-04T07:22:56.941224Z"
    }
   },
   "outputs": [
    {
     "data": {
      "text/html": [
       "<font face=monospace><a href='pYPK0_TPI1_EcfabA_PMP3.gb' target='_blank'>pYPK0_TPI1_EcfabA_PMP3.gb</a></font><br>"
      ]
     },
     "metadata": {},
     "output_type": "display_data"
    }
   ],
   "source": [
    "result.write(f\"{result.definition}.gb\")"
   ]
  },
  {
   "cell_type": "markdown",
   "id": "b8655ef4",
   "metadata": {
    "lines_to_next_cell": 0
   },
   "source": [
    "### Suggested PCR programs\n",
    "\n",
    "For the [amplification](#PCR) of promoter, gene and terminator."
   ]
  },
  {
   "cell_type": "code",
   "execution_count": 28,
   "id": "9a88a67d",
   "metadata": {
    "execution": {
     "iopub.execute_input": "2023-02-04T07:22:56.944391Z",
     "iopub.status.busy": "2023-02-04T07:22:56.944178Z",
     "iopub.status.idle": "2023-02-04T07:22:56.948604Z",
     "shell.execute_reply": "2023-02-04T07:22:56.947778Z"
    }
   },
   "outputs": [
    {
     "name": "stdout",
     "output_type": "stream",
     "text": [
      "577_crp585-557 567_pCAPsAjiIF\n",
      "|95°C|95°C               |    |tmf:64.6\n",
      "|____|_____          72°C|72°C|tmr:69.7\n",
      "|3min|30s  \\ 57.2°C _____|____|45s/kb\n",
      "|    |      \\______/ 0:36|5min|GC 39%\n",
      "|    |       30s         |    |814bp\n"
     ]
    }
   ],
   "source": [
    "print(prom.forward_primer.name, prom.reverse_primer.name)\n",
    "print(prom.program())"
   ]
  },
  {
   "cell_type": "code",
   "execution_count": 29,
   "id": "6e186275",
   "metadata": {
    "execution": {
     "iopub.execute_input": "2023-02-04T07:22:56.952895Z",
     "iopub.status.busy": "2023-02-04T07:22:56.952353Z",
     "iopub.status.idle": "2023-02-04T07:22:56.957174Z",
     "shell.execute_reply": "2023-02-04T07:22:56.956375Z"
    }
   },
   "outputs": [
    {
     "name": "stdout",
     "output_type": "stream",
     "text": [
      "468_pCAPs_release_fw 467_pCAPs_release_re\n",
      "|95°C|95°C               |    |tmf:76.9\n",
      "|____|_____          72°C|72°C|tmr:67.9\n",
      "|3min|30s  \\ 61.8°C _____|____|45s/kb\n",
      "|    |      \\______/ 0:30|5min|GC 53%\n",
      "|    |       30s         |    |608bp\n"
     ]
    }
   ],
   "source": [
    "print(gene.forward_primer.name, gene.reverse_primer.name)\n",
    "print(gene.program())"
   ]
  },
  {
   "cell_type": "code",
   "execution_count": 30,
   "id": "6f7fde3a",
   "metadata": {
    "execution": {
     "iopub.execute_input": "2023-02-04T07:22:56.960351Z",
     "iopub.status.busy": "2023-02-04T07:22:56.960115Z",
     "iopub.status.idle": "2023-02-04T07:22:56.965037Z",
     "shell.execute_reply": "2023-02-04T07:22:56.964208Z"
    }
   },
   "outputs": [
    {
     "name": "stdout",
     "output_type": "stream",
     "text": [
      "568_pCAPsAjiIR 578_crp42-70\n",
      "|95°C|95°C               |    |tmf:66.1\n",
      "|____|_____          72°C|72°C|tmr:65.0\n",
      "|3min|30s  \\ 58.6°C _____|____|45s/kb\n",
      "|    |      \\______/ 0:49|5min|GC 43%\n",
      "|    |       30s         |    |1096bp\n"
     ]
    }
   ],
   "source": [
    "print(term.forward_primer.name, term.reverse_primer.name)\n",
    "print(term.program())"
   ]
  }
 ],
 "metadata": {
  "jupytext": {
   "main_language": "python",
   "text_representation": {
    "extension": ".py",
    "format_name": "percent",
    "format_version": "1.3",
    "jupytext_version": "1.14.0"
   }
  },
  "language_info": {
   "codemirror_mode": {
    "name": "ipython",
    "version": 3
   },
   "file_extension": ".py",
   "mimetype": "text/x-python",
   "name": "python",
   "nbconvert_exporter": "python",
   "pygments_lexer": "ipython3",
   "version": "3.11.0"
  }
 },
 "nbformat": 4,
 "nbformat_minor": 5
}
