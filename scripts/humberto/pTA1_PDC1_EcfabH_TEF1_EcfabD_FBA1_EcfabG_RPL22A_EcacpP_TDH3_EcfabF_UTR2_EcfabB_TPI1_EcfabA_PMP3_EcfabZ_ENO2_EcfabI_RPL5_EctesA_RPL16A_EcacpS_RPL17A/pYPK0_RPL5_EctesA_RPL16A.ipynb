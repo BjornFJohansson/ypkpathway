{
 "cells": [
  {
   "cell_type": "markdown",
   "id": "382e5d26",
   "metadata": {},
   "source": [
    "# [![logo](logo.png)](https://github.com/BjornFJohansson/ypkpathway#-ypkpathway) pYPK0_RPL5_EctesA_RPL16A\n",
    "\n",
    "Assembly of a [_Saccharomyces cerevisiae_](http://www.yeastgenome.org) transcriptional unit vector.\n",
    "\n",
    "Made from a linear vector fragment and three PCR products:\n",
    "\n",
    "- a linearized pYPK0 vector for maintenance in _S. cerevisiae_ or _E. coli_ (red dashed line in figure below)\n",
    "- a promoter PCR product from the `pYPKa_Z_RPL5` vector\n",
    "- a gene PCR product from the `pYPKa_A_EctesA` vector\n",
    "- a terminator PCR product from the `pYPKa_E_RPL16A` vector\n",
    "\n",
    "The four linear DNA fragments are joined by _in-vivo_ homologous recombination in a\n",
    "[_Saccharomyces cerevisiae_](http://wiki.yeastgenome.org/index.php/Commonly_used_strains) strain.\n",
    "\n",
    "![tu](tu.png \"tu\")\n",
    "\n",
    "A part of the [pydna](https://pypi.python.org/pypi/pydna/) package is imported in the code cell below."
   ]
  },
  {
   "cell_type": "code",
   "execution_count": 1,
   "id": "df88a8eb",
   "metadata": {
    "execution": {
     "iopub.execute_input": "2023-02-04T07:23:04.684955Z",
     "iopub.status.busy": "2023-02-04T07:23:04.684437Z",
     "iopub.status.idle": "2023-02-04T07:23:05.026700Z",
     "shell.execute_reply": "2023-02-04T07:23:05.026070Z"
    }
   },
   "outputs": [],
   "source": [
    "from pydna.parsers import parse_primers\n",
    "from pydna.readers import read\n",
    "from pydna.amplify import pcr\n",
    "from pydna.assembly import Assembly"
   ]
  },
  {
   "cell_type": "markdown",
   "id": "20829bb4",
   "metadata": {},
   "source": [
    "The Yeast Pathway Kit [standard primers](standard_primers.fasta) are read into a dictionary in the code cell below."
   ]
  },
  {
   "cell_type": "code",
   "execution_count": 2,
   "id": "14cf233c",
   "metadata": {
    "execution": {
     "iopub.execute_input": "2023-02-04T07:23:05.029853Z",
     "iopub.status.busy": "2023-02-04T07:23:05.029294Z",
     "iopub.status.idle": "2023-02-04T07:23:05.042838Z",
     "shell.execute_reply": "2023-02-04T07:23:05.042200Z"
    }
   },
   "outputs": [],
   "source": [
    "p = {x.name: x for x in parse_primers(\"standard_primers.fasta\")}"
   ]
  },
  {
   "cell_type": "markdown",
   "id": "5d76b6e7",
   "metadata": {},
   "source": [
    "The backbone vector [pYPK0](pYPK0.gb) is read from a local file in the code cell below."
   ]
  },
  {
   "cell_type": "code",
   "execution_count": 3,
   "id": "15ccfe03",
   "metadata": {
    "execution": {
     "iopub.execute_input": "2023-02-04T07:23:05.046119Z",
     "iopub.status.busy": "2023-02-04T07:23:05.045759Z",
     "iopub.status.idle": "2023-02-04T07:23:05.058937Z",
     "shell.execute_reply": "2023-02-04T07:23:05.058330Z"
    }
   },
   "outputs": [],
   "source": [
    "backbone = read(\"pYPK0.gb\")"
   ]
  },
  {
   "cell_type": "markdown",
   "id": "d224597d",
   "metadata": {},
   "source": [
    "The backbone vector is linearized by digestion with [MfeI](https://www.google.com/search?q=MfeI)."
   ]
  },
  {
   "cell_type": "code",
   "execution_count": 4,
   "id": "8994620b",
   "metadata": {
    "execution": {
     "iopub.execute_input": "2023-02-04T07:23:05.061726Z",
     "iopub.status.busy": "2023-02-04T07:23:05.061514Z",
     "iopub.status.idle": "2023-02-04T07:23:05.064519Z",
     "shell.execute_reply": "2023-02-04T07:23:05.063961Z"
    }
   },
   "outputs": [],
   "source": [
    "from Bio.Restriction import MfeI"
   ]
  },
  {
   "cell_type": "code",
   "execution_count": 5,
   "id": "dc94ea80",
   "metadata": {
    "execution": {
     "iopub.execute_input": "2023-02-04T07:23:05.067144Z",
     "iopub.status.busy": "2023-02-04T07:23:05.066773Z",
     "iopub.status.idle": "2023-02-04T07:23:05.076321Z",
     "shell.execute_reply": "2023-02-04T07:23:05.075707Z"
    }
   },
   "outputs": [],
   "source": [
    "linear_backbone = backbone.linearize(MfeI)"
   ]
  },
  {
   "cell_type": "markdown",
   "id": "4048abbc",
   "metadata": {},
   "source": [
    "The pYPKa derived _E. coli_ plasmids containing\n",
    "- [promoter](pYPKa_Z_RPL5.gb)\n",
    "- [gene](pYPKa_A_EctesA.gb)\n",
    "- [terminator](pYPKa_E_RPL16A.gb)\n",
    "\n",
    "are read into three variables below."
   ]
  },
  {
   "cell_type": "code",
   "execution_count": 6,
   "id": "0d983bc2",
   "metadata": {
    "execution": {
     "iopub.execute_input": "2023-02-04T07:23:05.079368Z",
     "iopub.status.busy": "2023-02-04T07:23:05.079120Z",
     "iopub.status.idle": "2023-02-04T07:23:05.099026Z",
     "shell.execute_reply": "2023-02-04T07:23:05.098444Z"
    }
   },
   "outputs": [],
   "source": [
    "promoter_template   = read(\"pYPKa_Z_RPL5.gb\")\n",
    "gene_template       = read(\"pYPKa_A_EctesA.gb\")\n",
    "terminator_template = read(\"pYPKa_E_RPL16A.gb\")"
   ]
  },
  {
   "cell_type": "markdown",
   "id": "78c413ff",
   "metadata": {
    "lines_to_next_cell": 0
   },
   "source": [
    "### PCR\n",
    "Three DNA fragments are PCR amplified using [standard primers](standard_primers.fasta).\n",
    "\n",
    "[Suggested PCR programs](#Suggested-PCR-programs) can be found at the end of this document."
   ]
  },
  {
   "cell_type": "code",
   "execution_count": 7,
   "id": "a538ba06",
   "metadata": {
    "execution": {
     "iopub.execute_input": "2023-02-04T07:23:05.102217Z",
     "iopub.status.busy": "2023-02-04T07:23:05.102006Z",
     "iopub.status.idle": "2023-02-04T07:23:05.105342Z",
     "shell.execute_reply": "2023-02-04T07:23:05.104853Z"
    }
   },
   "outputs": [],
   "source": [
    "\n",
    "fp_prom = p['577_crp585-557']\n",
    "rp_prom = p['567_pCAPsAjiIF']\n",
    "fp_gene = p['468_pCAPs_release_fw']\n",
    "rp_gene = p['467_pCAPs_release_re']\n",
    "fp_term = p['568_pCAPsAjiIR']\n",
    "rp_term = p['578_crp42-70']"
   ]
  },
  {
   "cell_type": "code",
   "execution_count": 8,
   "id": "16829781",
   "metadata": {
    "execution": {
     "iopub.execute_input": "2023-02-04T07:23:05.108262Z",
     "iopub.status.busy": "2023-02-04T07:23:05.107970Z",
     "iopub.status.idle": "2023-02-04T07:23:05.137145Z",
     "shell.execute_reply": "2023-02-04T07:23:05.136519Z"
    }
   },
   "outputs": [],
   "source": [
    "prom = pcr(fp_prom, rp_prom, promoter_template)\n",
    "gene = pcr(fp_gene, rp_gene, gene_template)\n",
    "term = pcr(fp_term, rp_term, terminator_template)"
   ]
  },
  {
   "cell_type": "code",
   "execution_count": 9,
   "id": "96d85ad8",
   "metadata": {
    "execution": {
     "iopub.execute_input": "2023-02-04T07:23:05.140035Z",
     "iopub.status.busy": "2023-02-04T07:23:05.139595Z",
     "iopub.status.idle": "2023-02-04T07:23:05.142854Z",
     "shell.execute_reply": "2023-02-04T07:23:05.142314Z"
    }
   },
   "outputs": [],
   "source": [
    "prom.name = \"pYPKa_Z_RPL5\"[8:]\n",
    "gene.name = \"pYPKa_A_EctesA\"[8:]\n",
    "term.name = \"pYPKa_E_RPL16A\"[8:]"
   ]
  },
  {
   "cell_type": "markdown",
   "id": "00654bf6",
   "metadata": {},
   "source": [
    "\n",
    "The fragments will be assembled by _in-vivo_ [homologous recombination](http://www.ncbi.nlm.nih.gov/pubmed/2828185):"
   ]
  },
  {
   "cell_type": "code",
   "execution_count": 10,
   "id": "e3ee5576",
   "metadata": {
    "execution": {
     "iopub.execute_input": "2023-02-04T07:23:05.145497Z",
     "iopub.status.busy": "2023-02-04T07:23:05.145295Z",
     "iopub.status.idle": "2023-02-04T07:23:05.542071Z",
     "shell.execute_reply": "2023-02-04T07:23:05.541550Z"
    }
   },
   "outputs": [
    {
     "data": {
      "text/plain": [
       "Assembly\n",
       "fragments..: 5766bp 733bp 716bp 782bp\n",
       "limit(bp)..: 31\n",
       "G.nodes....: 10\n",
       "algorithm..: common_sub_strings"
      ]
     },
     "execution_count": 10,
     "metadata": {},
     "output_type": "execute_result"
    }
   ],
   "source": [
    "asm = Assembly((linear_backbone, prom, gene, term), limit=31)\n",
    "asm"
   ]
  },
  {
   "cell_type": "markdown",
   "id": "6b84991a",
   "metadata": {},
   "source": [
    "The Assembly object above should normally indicate four fragments and eight nodes."
   ]
  },
  {
   "cell_type": "code",
   "execution_count": 11,
   "id": "3c65ae77",
   "metadata": {
    "execution": {
     "iopub.execute_input": "2023-02-04T07:23:05.544797Z",
     "iopub.status.busy": "2023-02-04T07:23:05.544588Z",
     "iopub.status.idle": "2023-02-04T07:23:05.773491Z",
     "shell.execute_reply": "2023-02-04T07:23:05.772880Z"
    },
    "lines_to_next_cell": 0
   },
   "outputs": [
    {
     "data": {
      "text/plain": [
       "[Contig(o7362), Contig(o7362), Contig(o7362), Contig(o6847), Contig(o6847)]"
      ]
     },
     "execution_count": 11,
     "metadata": {},
     "output_type": "execute_result"
    }
   ],
   "source": [
    "candidates = asm.assemble_circular()\n",
    "candidates"
   ]
  },
  {
   "cell_type": "markdown",
   "id": "ca0a3c53",
   "metadata": {},
   "source": [
    "There should normally be two candidates of equal size. These sequences should be identical."
   ]
  },
  {
   "cell_type": "code",
   "execution_count": 12,
   "id": "aae6a7e9",
   "metadata": {
    "execution": {
     "iopub.execute_input": "2023-02-04T07:23:05.776349Z",
     "iopub.status.busy": "2023-02-04T07:23:05.776128Z",
     "iopub.status.idle": "2023-02-04T07:23:05.779201Z",
     "shell.execute_reply": "2023-02-04T07:23:05.778472Z"
    },
    "lines_to_next_cell": 0
   },
   "outputs": [],
   "source": [
    "candidate, *rest = candidates"
   ]
  },
  {
   "cell_type": "code",
   "execution_count": 13,
   "id": "820004ac",
   "metadata": {
    "execution": {
     "iopub.execute_input": "2023-02-04T07:23:05.782862Z",
     "iopub.status.busy": "2023-02-04T07:23:05.782566Z",
     "iopub.status.idle": "2023-02-04T07:23:05.800229Z",
     "shell.execute_reply": "2023-02-04T07:23:05.799523Z"
    },
    "lines_to_next_cell": 0
   },
   "outputs": [
    {
     "data": {
      "text/plain": [
       "True"
      ]
     },
     "execution_count": 13,
     "metadata": {},
     "output_type": "execute_result"
    }
   ],
   "source": [
    "candidate.cseguid() == rest[0].cseguid()"
   ]
  },
  {
   "cell_type": "code",
   "execution_count": 14,
   "id": "aa27bfef",
   "metadata": {
    "execution": {
     "iopub.execute_input": "2023-02-04T07:23:05.802764Z",
     "iopub.status.busy": "2023-02-04T07:23:05.802544Z",
     "iopub.status.idle": "2023-02-04T07:23:05.806394Z",
     "shell.execute_reply": "2023-02-04T07:23:05.805857Z"
    },
    "lines_to_next_cell": 0
   },
   "outputs": [
    {
     "data": {
      "text/plain": [
       " -|pYPK0_lin|168\n",
       "|            \\/\n",
       "|            /\\\n",
       "|            168|RPL5|48\n",
       "|                     \\/\n",
       "|                     /\\\n",
       "|                     48|EctesA|37\n",
       "|                               \\/\n",
       "|                               /\\\n",
       "|                               37|RPL16A|276\n",
       "|                                         \\/\n",
       "|                                         /\\\n",
       "|                                         276-\n",
       "|                                            |\n",
       " --------------------------------------------"
      ]
     },
     "execution_count": 14,
     "metadata": {},
     "output_type": "execute_result"
    }
   ],
   "source": [
    "candidate.figure()"
   ]
  },
  {
   "cell_type": "markdown",
   "id": "6e74c131",
   "metadata": {},
   "source": [
    "The candidate vector is synchronized to the 577 primer. This means that\n",
    "the plasmid origin is shifted so that it matches the backbone vector."
   ]
  },
  {
   "cell_type": "code",
   "execution_count": 15,
   "id": "9699a381",
   "metadata": {
    "execution": {
     "iopub.execute_input": "2023-02-04T07:23:05.808918Z",
     "iopub.status.busy": "2023-02-04T07:23:05.808716Z",
     "iopub.status.idle": "2023-02-04T07:23:06.090694Z",
     "shell.execute_reply": "2023-02-04T07:23:06.089995Z"
    }
   },
   "outputs": [],
   "source": [
    "result = candidate.synced(fp_prom)"
   ]
  },
  {
   "cell_type": "markdown",
   "id": "7efe5ba3",
   "metadata": {},
   "source": [
    "### Diagnostic PCR confirmation\n",
    "\n",
    "The structure of the final vector is confirmed by two\n",
    "separate PCR reactions, one for the promoter and gene and\n",
    "one for the gene and terminator.\n",
    "\n",
    "PCR using standard primers 577 and 467 to amplify promoter and gene."
   ]
  },
  {
   "cell_type": "code",
   "execution_count": 16,
   "id": "104e3dcf",
   "metadata": {
    "execution": {
     "iopub.execute_input": "2023-02-04T07:23:06.093764Z",
     "iopub.status.busy": "2023-02-04T07:23:06.093550Z",
     "iopub.status.idle": "2023-02-04T07:23:06.109341Z",
     "shell.execute_reply": "2023-02-04T07:23:06.108780Z"
    }
   },
   "outputs": [],
   "source": [
    "product = pcr( fp_prom, rp_gene, result)"
   ]
  },
  {
   "cell_type": "markdown",
   "id": "e9b6c7e7",
   "metadata": {},
   "source": [
    "A correct clone should give this size in base pairs:"
   ]
  },
  {
   "cell_type": "code",
   "execution_count": 17,
   "id": "91a451d0",
   "metadata": {
    "execution": {
     "iopub.execute_input": "2023-02-04T07:23:06.111798Z",
     "iopub.status.busy": "2023-02-04T07:23:06.111579Z",
     "iopub.status.idle": "2023-02-04T07:23:06.114840Z",
     "shell.execute_reply": "2023-02-04T07:23:06.114271Z"
    }
   },
   "outputs": [
    {
     "name": "stdout",
     "output_type": "stream",
     "text": [
      "1399\n"
     ]
    }
   ],
   "source": [
    "print(len(product))"
   ]
  },
  {
   "cell_type": "markdown",
   "id": "b703e80e",
   "metadata": {},
   "source": [
    "If the promoter is missing from the assembly, the PCR product will have this size in base pairs:"
   ]
  },
  {
   "cell_type": "code",
   "execution_count": 18,
   "id": "834af566",
   "metadata": {
    "execution": {
     "iopub.execute_input": "2023-02-04T07:23:06.118516Z",
     "iopub.status.busy": "2023-02-04T07:23:06.117956Z",
     "iopub.status.idle": "2023-02-04T07:23:06.123046Z",
     "shell.execute_reply": "2023-02-04T07:23:06.122094Z"
    }
   },
   "outputs": [
    {
     "name": "stdout",
     "output_type": "stream",
     "text": [
      "666\n"
     ]
    }
   ],
   "source": [
    "print(len(product) - len(prom))"
   ]
  },
  {
   "cell_type": "markdown",
   "id": "e8b9fb2f",
   "metadata": {},
   "source": [
    "If the gene is missing from the assembly, the PCR product will have this size in base pairs:"
   ]
  },
  {
   "cell_type": "code",
   "execution_count": 19,
   "id": "029fbd07",
   "metadata": {
    "execution": {
     "iopub.execute_input": "2023-02-04T07:23:06.126938Z",
     "iopub.status.busy": "2023-02-04T07:23:06.126163Z",
     "iopub.status.idle": "2023-02-04T07:23:06.130703Z",
     "shell.execute_reply": "2023-02-04T07:23:06.129950Z"
    }
   },
   "outputs": [
    {
     "name": "stdout",
     "output_type": "stream",
     "text": [
      "683\n"
     ]
    }
   ],
   "source": [
    "print(len(product) - len(gene))"
   ]
  },
  {
   "cell_type": "markdown",
   "id": "87e90992",
   "metadata": {},
   "source": [
    "PCR using standard primers 468 and 578 to amplify gene and terminator."
   ]
  },
  {
   "cell_type": "code",
   "execution_count": 20,
   "id": "5bb5847e",
   "metadata": {
    "execution": {
     "iopub.execute_input": "2023-02-04T07:23:06.134631Z",
     "iopub.status.busy": "2023-02-04T07:23:06.134348Z",
     "iopub.status.idle": "2023-02-04T07:23:06.154942Z",
     "shell.execute_reply": "2023-02-04T07:23:06.154388Z"
    }
   },
   "outputs": [],
   "source": [
    "product2 = pcr( fp_gene, rp_term, result)"
   ]
  },
  {
   "cell_type": "markdown",
   "id": "338f3f12",
   "metadata": {},
   "source": [
    "A correct clone should give this size:"
   ]
  },
  {
   "cell_type": "code",
   "execution_count": 21,
   "id": "76488c5d",
   "metadata": {
    "execution": {
     "iopub.execute_input": "2023-02-04T07:23:06.158759Z",
     "iopub.status.busy": "2023-02-04T07:23:06.158072Z",
     "iopub.status.idle": "2023-02-04T07:23:06.163091Z",
     "shell.execute_reply": "2023-02-04T07:23:06.162210Z"
    }
   },
   "outputs": [
    {
     "name": "stdout",
     "output_type": "stream",
     "text": [
      "1461\n"
     ]
    }
   ],
   "source": [
    "print(len(product2))"
   ]
  },
  {
   "cell_type": "markdown",
   "id": "2d636241",
   "metadata": {},
   "source": [
    "If the gene is missing from the assembly, the PCR product will have this size in base pairs:"
   ]
  },
  {
   "cell_type": "code",
   "execution_count": 22,
   "id": "6e271b80",
   "metadata": {
    "execution": {
     "iopub.execute_input": "2023-02-04T07:23:06.166864Z",
     "iopub.status.busy": "2023-02-04T07:23:06.166490Z",
     "iopub.status.idle": "2023-02-04T07:23:06.170570Z",
     "shell.execute_reply": "2023-02-04T07:23:06.169814Z"
    }
   },
   "outputs": [
    {
     "name": "stdout",
     "output_type": "stream",
     "text": [
      "745\n"
     ]
    }
   ],
   "source": [
    "print(len(product2) - len(gene))"
   ]
  },
  {
   "cell_type": "markdown",
   "id": "56a0b401",
   "metadata": {},
   "source": [
    "If the terminator is missing from the assembly, the PCR product will have this size in base pairs:"
   ]
  },
  {
   "cell_type": "code",
   "execution_count": 23,
   "id": "8d336ad2",
   "metadata": {
    "execution": {
     "iopub.execute_input": "2023-02-04T07:23:06.173788Z",
     "iopub.status.busy": "2023-02-04T07:23:06.173563Z",
     "iopub.status.idle": "2023-02-04T07:23:06.177066Z",
     "shell.execute_reply": "2023-02-04T07:23:06.176510Z"
    }
   },
   "outputs": [
    {
     "name": "stdout",
     "output_type": "stream",
     "text": [
      "679\n"
     ]
    }
   ],
   "source": [
    "print(len(product2) - len(term))"
   ]
  },
  {
   "cell_type": "markdown",
   "id": "f362c0d3",
   "metadata": {},
   "source": [
    "The cseguid checksum for the resulting plasmid is calculated for future reference.\n",
    "The [cseguid checksum](http://pydna.readthedocs.org/en/latest/pydna.html#pydna.utils.cseguid)\n",
    "uniquely identifies a circular double stranded sequence."
   ]
  },
  {
   "cell_type": "code",
   "execution_count": 24,
   "id": "5ffea05a",
   "metadata": {
    "execution": {
     "iopub.execute_input": "2023-02-04T07:23:06.179475Z",
     "iopub.status.busy": "2023-02-04T07:23:06.179228Z",
     "iopub.status.idle": "2023-02-04T07:23:06.189714Z",
     "shell.execute_reply": "2023-02-04T07:23:06.188817Z"
    }
   },
   "outputs": [
    {
     "name": "stdout",
     "output_type": "stream",
     "text": [
      "VhtnZZTEZyfnczralfUotip5wgo\n"
     ]
    }
   ],
   "source": [
    "print(result.cseguid())"
   ]
  },
  {
   "cell_type": "markdown",
   "id": "ab87fce9",
   "metadata": {},
   "source": [
    "The file name is based on the promoter, gene and terminator designations."
   ]
  },
  {
   "cell_type": "code",
   "execution_count": 25,
   "id": "c3434583",
   "metadata": {
    "execution": {
     "iopub.execute_input": "2023-02-04T07:23:06.192722Z",
     "iopub.status.busy": "2023-02-04T07:23:06.192497Z",
     "iopub.status.idle": "2023-02-04T07:23:06.195337Z",
     "shell.execute_reply": "2023-02-04T07:23:06.194793Z"
    }
   },
   "outputs": [],
   "source": [
    "result.locus = f\"tu:{gene.name}\"[:16]\n",
    "result.definition = \"pYPK0_RPL5_EctesA_RPL16A\""
   ]
  },
  {
   "cell_type": "markdown",
   "id": "bf2828a6",
   "metadata": {},
   "source": [
    "Sequence is stamped with cseguid checksum. This can be used to verify the\n",
    "integrity of the sequence file."
   ]
  },
  {
   "cell_type": "code",
   "execution_count": 26,
   "id": "73ebf240",
   "metadata": {
    "execution": {
     "iopub.execute_input": "2023-02-04T07:23:06.197793Z",
     "iopub.status.busy": "2023-02-04T07:23:06.197571Z",
     "iopub.status.idle": "2023-02-04T07:23:06.209590Z",
     "shell.execute_reply": "2023-02-04T07:23:06.209110Z"
    }
   },
   "outputs": [
    {
     "data": {
      "text/plain": [
       "VhtnZZTEZyfnczralfUotip5wgo"
      ]
     },
     "execution_count": 26,
     "metadata": {},
     "output_type": "execute_result"
    }
   ],
   "source": [
    "result.stamp(\"cSEGUID\")"
   ]
  },
  {
   "cell_type": "markdown",
   "id": "2724c469",
   "metadata": {},
   "source": [
    "Write sequence to a local file."
   ]
  },
  {
   "cell_type": "code",
   "execution_count": 27,
   "id": "93322a4e",
   "metadata": {
    "execution": {
     "iopub.execute_input": "2023-02-04T07:23:06.212053Z",
     "iopub.status.busy": "2023-02-04T07:23:06.211847Z",
     "iopub.status.idle": "2023-02-04T07:23:06.218528Z",
     "shell.execute_reply": "2023-02-04T07:23:06.217732Z"
    }
   },
   "outputs": [
    {
     "data": {
      "text/html": [
       "<font face=monospace><a href='pYPK0_RPL5_EctesA_RPL16A.gb' target='_blank'>pYPK0_RPL5_EctesA_RPL16A.gb</a></font><br>"
      ]
     },
     "metadata": {},
     "output_type": "display_data"
    }
   ],
   "source": [
    "result.write(f\"{result.definition}.gb\")"
   ]
  },
  {
   "cell_type": "markdown",
   "id": "3c7bb5c4",
   "metadata": {
    "lines_to_next_cell": 0
   },
   "source": [
    "### Suggested PCR programs\n",
    "\n",
    "For the [amplification](#PCR) of promoter, gene and terminator."
   ]
  },
  {
   "cell_type": "code",
   "execution_count": 28,
   "id": "1c37a10a",
   "metadata": {
    "execution": {
     "iopub.execute_input": "2023-02-04T07:23:06.222670Z",
     "iopub.status.busy": "2023-02-04T07:23:06.222307Z",
     "iopub.status.idle": "2023-02-04T07:23:06.227764Z",
     "shell.execute_reply": "2023-02-04T07:23:06.227003Z"
    }
   },
   "outputs": [
    {
     "name": "stdout",
     "output_type": "stream",
     "text": [
      "577_crp585-557 567_pCAPsAjiIF\n",
      "|95°C|95°C               |    |tmf:64.6\n",
      "|____|_____          72°C|72°C|tmr:69.7\n",
      "|3min|30s  \\ 56.8°C _____|____|45s/kb\n",
      "|    |      \\______/ 0:32|5min|GC 38%\n",
      "|    |       30s         |    |733bp\n"
     ]
    }
   ],
   "source": [
    "print(prom.forward_primer.name, prom.reverse_primer.name)\n",
    "print(prom.program())"
   ]
  },
  {
   "cell_type": "code",
   "execution_count": 29,
   "id": "867a3491",
   "metadata": {
    "execution": {
     "iopub.execute_input": "2023-02-04T07:23:06.231071Z",
     "iopub.status.busy": "2023-02-04T07:23:06.230778Z",
     "iopub.status.idle": "2023-02-04T07:23:06.236348Z",
     "shell.execute_reply": "2023-02-04T07:23:06.235541Z"
    }
   },
   "outputs": [
    {
     "name": "stdout",
     "output_type": "stream",
     "text": [
      "468_pCAPs_release_fw 467_pCAPs_release_re\n",
      "|95°C|95°C               |    |tmf:76.9\n",
      "|____|_____          72°C|72°C|tmr:67.9\n",
      "|3min|30s  \\ 61.8°C _____|____|45s/kb\n",
      "|    |      \\______/ 0:32|5min|GC 52%\n",
      "|    |       30s         |    |716bp\n"
     ]
    }
   ],
   "source": [
    "print(gene.forward_primer.name, gene.reverse_primer.name)\n",
    "print(gene.program())"
   ]
  },
  {
   "cell_type": "code",
   "execution_count": 30,
   "id": "a6759a04",
   "metadata": {
    "execution": {
     "iopub.execute_input": "2023-02-04T07:23:06.239455Z",
     "iopub.status.busy": "2023-02-04T07:23:06.239196Z",
     "iopub.status.idle": "2023-02-04T07:23:06.244754Z",
     "shell.execute_reply": "2023-02-04T07:23:06.243975Z"
    }
   },
   "outputs": [
    {
     "name": "stdout",
     "output_type": "stream",
     "text": [
      "568_pCAPsAjiIR 578_crp42-70\n",
      "|95°C|95°C               |    |tmf:66.1\n",
      "|____|_____          72°C|72°C|tmr:65.0\n",
      "|3min|30s  \\ 58.4°C _____|____|45s/kb\n",
      "|    |      \\______/ 0:35|5min|GC 43%\n",
      "|    |       30s         |    |782bp\n"
     ]
    }
   ],
   "source": [
    "print(term.forward_primer.name, term.reverse_primer.name)\n",
    "print(term.program())"
   ]
  }
 ],
 "metadata": {
  "jupytext": {
   "main_language": "python",
   "text_representation": {
    "extension": ".py",
    "format_name": "percent",
    "format_version": "1.3",
    "jupytext_version": "1.14.0"
   }
  },
  "language_info": {
   "codemirror_mode": {
    "name": "ipython",
    "version": 3
   },
   "file_extension": ".py",
   "mimetype": "text/x-python",
   "name": "python",
   "nbconvert_exporter": "python",
   "pygments_lexer": "ipython3",
   "version": "3.11.0"
  }
 },
 "nbformat": 4,
 "nbformat_minor": 5
}
