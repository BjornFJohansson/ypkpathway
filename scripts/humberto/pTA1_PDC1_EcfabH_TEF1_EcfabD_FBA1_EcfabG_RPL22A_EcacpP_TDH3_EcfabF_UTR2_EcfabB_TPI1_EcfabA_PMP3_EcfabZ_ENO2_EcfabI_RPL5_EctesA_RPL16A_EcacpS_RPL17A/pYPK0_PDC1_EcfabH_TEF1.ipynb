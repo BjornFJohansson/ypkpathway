{
 "cells": [
  {
   "cell_type": "markdown",
   "id": "1f87c37f",
   "metadata": {},
   "source": [
    "# [![logo](logo.png)](https://github.com/BjornFJohansson/ypkpathway#-ypkpathway) pYPK0_PDC1_EcfabH_TEF1\n",
    "\n",
    "Assembly of a [_Saccharomyces cerevisiae_](http://www.yeastgenome.org) transcriptional unit vector.\n",
    "\n",
    "Made from a linear vector fragment and three PCR products:\n",
    "\n",
    "- a linearized pYPK0 vector for maintenance in _S. cerevisiae_ or _E. coli_ (red dashed line in figure below)\n",
    "- a promoter PCR product from the `pYPKa_Z_PDC1` vector\n",
    "- a gene PCR product from the `pYPKa_A_EcfabH` vector\n",
    "- a terminator PCR product from the `pYPKa_E_TEF1` vector\n",
    "\n",
    "The four linear DNA fragments are joined by _in-vivo_ homologous recombination in a\n",
    "[_Saccharomyces cerevisiae_](http://wiki.yeastgenome.org/index.php/Commonly_used_strains) strain.\n",
    "\n",
    "![tu](tu.png \"tu\")\n",
    "\n",
    "A part of the [pydna](https://pypi.python.org/pypi/pydna/) package is imported in the code cell below."
   ]
  },
  {
   "cell_type": "code",
   "execution_count": 1,
   "id": "ca8d82f7",
   "metadata": {
    "execution": {
     "iopub.execute_input": "2023-02-04T07:22:36.799125Z",
     "iopub.status.busy": "2023-02-04T07:22:36.798692Z",
     "iopub.status.idle": "2023-02-04T07:22:37.149725Z",
     "shell.execute_reply": "2023-02-04T07:22:37.149065Z"
    }
   },
   "outputs": [],
   "source": [
    "from pydna.parsers import parse_primers\n",
    "from pydna.readers import read\n",
    "from pydna.amplify import pcr\n",
    "from pydna.assembly import Assembly"
   ]
  },
  {
   "cell_type": "markdown",
   "id": "d7a62417",
   "metadata": {},
   "source": [
    "The Yeast Pathway Kit [standard primers](standard_primers.fasta) are read into a dictionary in the code cell below."
   ]
  },
  {
   "cell_type": "code",
   "execution_count": 2,
   "id": "00938e4f",
   "metadata": {
    "execution": {
     "iopub.execute_input": "2023-02-04T07:22:37.155086Z",
     "iopub.status.busy": "2023-02-04T07:22:37.154553Z",
     "iopub.status.idle": "2023-02-04T07:22:37.169178Z",
     "shell.execute_reply": "2023-02-04T07:22:37.167872Z"
    }
   },
   "outputs": [],
   "source": [
    "p = {x.name: x for x in parse_primers(\"standard_primers.fasta\")}"
   ]
  },
  {
   "cell_type": "markdown",
   "id": "c5267228",
   "metadata": {},
   "source": [
    "The backbone vector [pYPK0](pYPK0.gb) is read from a local file in the code cell below."
   ]
  },
  {
   "cell_type": "code",
   "execution_count": 3,
   "id": "98010624",
   "metadata": {
    "execution": {
     "iopub.execute_input": "2023-02-04T07:22:37.175267Z",
     "iopub.status.busy": "2023-02-04T07:22:37.174693Z",
     "iopub.status.idle": "2023-02-04T07:22:37.189349Z",
     "shell.execute_reply": "2023-02-04T07:22:37.188491Z"
    }
   },
   "outputs": [],
   "source": [
    "backbone = read(\"pYPK0.gb\")"
   ]
  },
  {
   "cell_type": "markdown",
   "id": "7b3ea51a",
   "metadata": {},
   "source": [
    "The backbone vector is linearized by digestion with [MfeI](https://www.google.com/search?q=MfeI)."
   ]
  },
  {
   "cell_type": "code",
   "execution_count": 4,
   "id": "b51b03d3",
   "metadata": {
    "execution": {
     "iopub.execute_input": "2023-02-04T07:22:37.194127Z",
     "iopub.status.busy": "2023-02-04T07:22:37.193737Z",
     "iopub.status.idle": "2023-02-04T07:22:37.200265Z",
     "shell.execute_reply": "2023-02-04T07:22:37.199255Z"
    }
   },
   "outputs": [],
   "source": [
    "from Bio.Restriction import MfeI"
   ]
  },
  {
   "cell_type": "code",
   "execution_count": 5,
   "id": "de7ee197",
   "metadata": {
    "execution": {
     "iopub.execute_input": "2023-02-04T07:22:37.205602Z",
     "iopub.status.busy": "2023-02-04T07:22:37.205209Z",
     "iopub.status.idle": "2023-02-04T07:22:37.228107Z",
     "shell.execute_reply": "2023-02-04T07:22:37.227027Z"
    }
   },
   "outputs": [],
   "source": [
    "linear_backbone = backbone.linearize(MfeI)"
   ]
  },
  {
   "cell_type": "markdown",
   "id": "15b5f01a",
   "metadata": {},
   "source": [
    "The pYPKa derived _E. coli_ plasmids containing\n",
    "- [promoter](pYPKa_Z_PDC1.gb)\n",
    "- [gene](pYPKa_A_EcfabH.gb)\n",
    "- [terminator](pYPKa_E_TEF1.gb)\n",
    "\n",
    "are read into three variables below."
   ]
  },
  {
   "cell_type": "code",
   "execution_count": 6,
   "id": "889152dc",
   "metadata": {
    "execution": {
     "iopub.execute_input": "2023-02-04T07:22:37.233103Z",
     "iopub.status.busy": "2023-02-04T07:22:37.232699Z",
     "iopub.status.idle": "2023-02-04T07:22:37.257806Z",
     "shell.execute_reply": "2023-02-04T07:22:37.257081Z"
    }
   },
   "outputs": [],
   "source": [
    "promoter_template   = read(\"pYPKa_Z_PDC1.gb\")\n",
    "gene_template       = read(\"pYPKa_A_EcfabH.gb\")\n",
    "terminator_template = read(\"pYPKa_E_TEF1.gb\")"
   ]
  },
  {
   "cell_type": "markdown",
   "id": "eaafefc2",
   "metadata": {
    "lines_to_next_cell": 0
   },
   "source": [
    "### PCR\n",
    "Three DNA fragments are PCR amplified using [standard primers](standard_primers.fasta).\n",
    "\n",
    "[Suggested PCR programs](#Suggested-PCR-programs) can be found at the end of this document."
   ]
  },
  {
   "cell_type": "code",
   "execution_count": 7,
   "id": "2777c82c",
   "metadata": {
    "execution": {
     "iopub.execute_input": "2023-02-04T07:22:37.263996Z",
     "iopub.status.busy": "2023-02-04T07:22:37.262396Z",
     "iopub.status.idle": "2023-02-04T07:22:37.270675Z",
     "shell.execute_reply": "2023-02-04T07:22:37.268671Z"
    }
   },
   "outputs": [],
   "source": [
    "\n",
    "fp_prom = p['577_crp585-557']\n",
    "rp_prom = p['567_pCAPsAjiIF']\n",
    "fp_gene = p['468_pCAPs_release_fw']\n",
    "rp_gene = p['467_pCAPs_release_re']\n",
    "fp_term = p['568_pCAPsAjiIR']\n",
    "rp_term = p['578_crp42-70']"
   ]
  },
  {
   "cell_type": "code",
   "execution_count": 8,
   "id": "05cd0121",
   "metadata": {
    "execution": {
     "iopub.execute_input": "2023-02-04T07:22:37.274602Z",
     "iopub.status.busy": "2023-02-04T07:22:37.274275Z",
     "iopub.status.idle": "2023-02-04T07:22:37.306049Z",
     "shell.execute_reply": "2023-02-04T07:22:37.305421Z"
    }
   },
   "outputs": [],
   "source": [
    "prom = pcr(fp_prom, rp_prom, promoter_template)\n",
    "gene = pcr(fp_gene, rp_gene, gene_template)\n",
    "term = pcr(fp_term, rp_term, terminator_template)"
   ]
  },
  {
   "cell_type": "code",
   "execution_count": 9,
   "id": "2d683c81",
   "metadata": {
    "execution": {
     "iopub.execute_input": "2023-02-04T07:22:37.308917Z",
     "iopub.status.busy": "2023-02-04T07:22:37.308627Z",
     "iopub.status.idle": "2023-02-04T07:22:37.312273Z",
     "shell.execute_reply": "2023-02-04T07:22:37.311573Z"
    }
   },
   "outputs": [],
   "source": [
    "prom.name = \"pYPKa_Z_PDC1\"[8:]\n",
    "gene.name = \"pYPKa_A_EcfabH\"[8:]\n",
    "term.name = \"pYPKa_E_TEF1\"[8:]"
   ]
  },
  {
   "cell_type": "markdown",
   "id": "5b00ca45",
   "metadata": {},
   "source": [
    "\n",
    "The fragments will be assembled by _in-vivo_ [homologous recombination](http://www.ncbi.nlm.nih.gov/pubmed/2828185):"
   ]
  },
  {
   "cell_type": "code",
   "execution_count": 10,
   "id": "d0d39b89",
   "metadata": {
    "execution": {
     "iopub.execute_input": "2023-02-04T07:22:37.315822Z",
     "iopub.status.busy": "2023-02-04T07:22:37.315314Z",
     "iopub.status.idle": "2023-02-04T07:22:37.746017Z",
     "shell.execute_reply": "2023-02-04T07:22:37.745483Z"
    }
   },
   "outputs": [
    {
     "data": {
      "text/plain": [
       "Assembly\n",
       "fragments..: 5766bp 1187bp 1043bp 919bp\n",
       "limit(bp)..: 31\n",
       "G.nodes....: 10\n",
       "algorithm..: common_sub_strings"
      ]
     },
     "execution_count": 10,
     "metadata": {},
     "output_type": "execute_result"
    }
   ],
   "source": [
    "asm = Assembly((linear_backbone, prom, gene, term), limit=31)\n",
    "asm"
   ]
  },
  {
   "cell_type": "markdown",
   "id": "2a85a440",
   "metadata": {},
   "source": [
    "The Assembly object above should normally indicate four fragments and eight nodes."
   ]
  },
  {
   "cell_type": "code",
   "execution_count": 11,
   "id": "296c9a80",
   "metadata": {
    "execution": {
     "iopub.execute_input": "2023-02-04T07:22:37.748742Z",
     "iopub.status.busy": "2023-02-04T07:22:37.748351Z",
     "iopub.status.idle": "2023-02-04T07:22:37.969664Z",
     "shell.execute_reply": "2023-02-04T07:22:37.969148Z"
    },
    "lines_to_next_cell": 0
   },
   "outputs": [
    {
     "data": {
      "text/plain": [
       "[Contig(o8280), Contig(o8280), Contig(o8280), Contig(o7311), Contig(o7311)]"
      ]
     },
     "execution_count": 11,
     "metadata": {},
     "output_type": "execute_result"
    }
   ],
   "source": [
    "candidates = asm.assemble_circular()\n",
    "candidates"
   ]
  },
  {
   "cell_type": "markdown",
   "id": "6c976ac2",
   "metadata": {},
   "source": [
    "There should normally be two candidates of equal size. These sequences should be identical."
   ]
  },
  {
   "cell_type": "code",
   "execution_count": 12,
   "id": "ce565f95",
   "metadata": {
    "execution": {
     "iopub.execute_input": "2023-02-04T07:22:37.972319Z",
     "iopub.status.busy": "2023-02-04T07:22:37.972039Z",
     "iopub.status.idle": "2023-02-04T07:22:37.974950Z",
     "shell.execute_reply": "2023-02-04T07:22:37.974434Z"
    },
    "lines_to_next_cell": 0
   },
   "outputs": [],
   "source": [
    "candidate, *rest = candidates"
   ]
  },
  {
   "cell_type": "code",
   "execution_count": 13,
   "id": "5ef0a64c",
   "metadata": {
    "execution": {
     "iopub.execute_input": "2023-02-04T07:22:37.978266Z",
     "iopub.status.busy": "2023-02-04T07:22:37.977680Z",
     "iopub.status.idle": "2023-02-04T07:22:37.995207Z",
     "shell.execute_reply": "2023-02-04T07:22:37.994553Z"
    },
    "lines_to_next_cell": 0
   },
   "outputs": [
    {
     "data": {
      "text/plain": [
       "True"
      ]
     },
     "execution_count": 13,
     "metadata": {},
     "output_type": "execute_result"
    }
   ],
   "source": [
    "candidate.cseguid() == rest[0].cseguid()"
   ]
  },
  {
   "cell_type": "code",
   "execution_count": 14,
   "id": "04e2f0cc",
   "metadata": {
    "execution": {
     "iopub.execute_input": "2023-02-04T07:22:37.997858Z",
     "iopub.status.busy": "2023-02-04T07:22:37.997414Z",
     "iopub.status.idle": "2023-02-04T07:22:38.001757Z",
     "shell.execute_reply": "2023-02-04T07:22:38.000999Z"
    },
    "lines_to_next_cell": 0
   },
   "outputs": [
    {
     "data": {
      "text/plain": [
       " -|pYPK0_lin|168\n",
       "|            \\/\n",
       "|            /\\\n",
       "|            168|PDC1|48\n",
       "|                     \\/\n",
       "|                     /\\\n",
       "|                     48|EcfabH|37\n",
       "|                               \\/\n",
       "|                               /\\\n",
       "|                               37|TEF1|276\n",
       "|                                       \\/\n",
       "|                                       /\\\n",
       "|                                       276-\n",
       "|                                          |\n",
       " ------------------------------------------"
      ]
     },
     "execution_count": 14,
     "metadata": {},
     "output_type": "execute_result"
    }
   ],
   "source": [
    "candidate.figure()"
   ]
  },
  {
   "cell_type": "markdown",
   "id": "1d077fe7",
   "metadata": {},
   "source": [
    "The candidate vector is synchronized to the 577 primer. This means that\n",
    "the plasmid origin is shifted so that it matches the backbone vector."
   ]
  },
  {
   "cell_type": "code",
   "execution_count": 15,
   "id": "282ee046",
   "metadata": {
    "execution": {
     "iopub.execute_input": "2023-02-04T07:22:38.004804Z",
     "iopub.status.busy": "2023-02-04T07:22:38.004450Z",
     "iopub.status.idle": "2023-02-04T07:22:38.318289Z",
     "shell.execute_reply": "2023-02-04T07:22:38.317559Z"
    }
   },
   "outputs": [],
   "source": [
    "result = candidate.synced(fp_prom)"
   ]
  },
  {
   "cell_type": "markdown",
   "id": "882fbff0",
   "metadata": {},
   "source": [
    "### Diagnostic PCR confirmation\n",
    "\n",
    "The structure of the final vector is confirmed by two\n",
    "separate PCR reactions, one for the promoter and gene and\n",
    "one for the gene and terminator.\n",
    "\n",
    "PCR using standard primers 577 and 467 to amplify promoter and gene."
   ]
  },
  {
   "cell_type": "code",
   "execution_count": 16,
   "id": "ba5a8ece",
   "metadata": {
    "execution": {
     "iopub.execute_input": "2023-02-04T07:22:38.321118Z",
     "iopub.status.busy": "2023-02-04T07:22:38.320881Z",
     "iopub.status.idle": "2023-02-04T07:22:38.338210Z",
     "shell.execute_reply": "2023-02-04T07:22:38.337584Z"
    }
   },
   "outputs": [],
   "source": [
    "product = pcr( fp_prom, rp_gene, result)"
   ]
  },
  {
   "cell_type": "markdown",
   "id": "2e6d8bd8",
   "metadata": {},
   "source": [
    "A correct clone should give this size in base pairs:"
   ]
  },
  {
   "cell_type": "code",
   "execution_count": 17,
   "id": "c66d6852",
   "metadata": {
    "execution": {
     "iopub.execute_input": "2023-02-04T07:22:38.341476Z",
     "iopub.status.busy": "2023-02-04T07:22:38.341153Z",
     "iopub.status.idle": "2023-02-04T07:22:38.345754Z",
     "shell.execute_reply": "2023-02-04T07:22:38.344900Z"
    }
   },
   "outputs": [
    {
     "name": "stdout",
     "output_type": "stream",
     "text": [
      "2180\n"
     ]
    }
   ],
   "source": [
    "print(len(product))"
   ]
  },
  {
   "cell_type": "markdown",
   "id": "3761b534",
   "metadata": {},
   "source": [
    "If the promoter is missing from the assembly, the PCR product will have this size in base pairs:"
   ]
  },
  {
   "cell_type": "code",
   "execution_count": 18,
   "id": "1563fba2",
   "metadata": {
    "execution": {
     "iopub.execute_input": "2023-02-04T07:22:38.349255Z",
     "iopub.status.busy": "2023-02-04T07:22:38.348777Z",
     "iopub.status.idle": "2023-02-04T07:22:38.353228Z",
     "shell.execute_reply": "2023-02-04T07:22:38.352345Z"
    }
   },
   "outputs": [
    {
     "name": "stdout",
     "output_type": "stream",
     "text": [
      "993\n"
     ]
    }
   ],
   "source": [
    "print(len(product) - len(prom))"
   ]
  },
  {
   "cell_type": "markdown",
   "id": "c8436e35",
   "metadata": {},
   "source": [
    "If the gene is missing from the assembly, the PCR product will have this size in base pairs:"
   ]
  },
  {
   "cell_type": "code",
   "execution_count": 19,
   "id": "7aaced00",
   "metadata": {
    "execution": {
     "iopub.execute_input": "2023-02-04T07:22:38.356266Z",
     "iopub.status.busy": "2023-02-04T07:22:38.355978Z",
     "iopub.status.idle": "2023-02-04T07:22:38.360428Z",
     "shell.execute_reply": "2023-02-04T07:22:38.359550Z"
    }
   },
   "outputs": [
    {
     "name": "stdout",
     "output_type": "stream",
     "text": [
      "1137\n"
     ]
    }
   ],
   "source": [
    "print(len(product) - len(gene))"
   ]
  },
  {
   "cell_type": "markdown",
   "id": "20afb781",
   "metadata": {},
   "source": [
    "PCR using standard primers 468 and 578 to amplify gene and terminator."
   ]
  },
  {
   "cell_type": "code",
   "execution_count": 20,
   "id": "4cba7843",
   "metadata": {
    "execution": {
     "iopub.execute_input": "2023-02-04T07:22:38.363698Z",
     "iopub.status.busy": "2023-02-04T07:22:38.363378Z",
     "iopub.status.idle": "2023-02-04T07:22:38.380330Z",
     "shell.execute_reply": "2023-02-04T07:22:38.379774Z"
    }
   },
   "outputs": [],
   "source": [
    "product2 = pcr( fp_gene, rp_term, result)"
   ]
  },
  {
   "cell_type": "markdown",
   "id": "0b6fe827",
   "metadata": {},
   "source": [
    "A correct clone should give this size:"
   ]
  },
  {
   "cell_type": "code",
   "execution_count": 21,
   "id": "58475c5b",
   "metadata": {
    "execution": {
     "iopub.execute_input": "2023-02-04T07:22:38.383244Z",
     "iopub.status.busy": "2023-02-04T07:22:38.382980Z",
     "iopub.status.idle": "2023-02-04T07:22:38.387349Z",
     "shell.execute_reply": "2023-02-04T07:22:38.386636Z"
    }
   },
   "outputs": [
    {
     "name": "stdout",
     "output_type": "stream",
     "text": [
      "1925\n"
     ]
    }
   ],
   "source": [
    "print(len(product2))"
   ]
  },
  {
   "cell_type": "markdown",
   "id": "ba027879",
   "metadata": {},
   "source": [
    "If the gene is missing from the assembly, the PCR product will have this size in base pairs:"
   ]
  },
  {
   "cell_type": "code",
   "execution_count": 22,
   "id": "66a90b6c",
   "metadata": {
    "execution": {
     "iopub.execute_input": "2023-02-04T07:22:38.390801Z",
     "iopub.status.busy": "2023-02-04T07:22:38.390537Z",
     "iopub.status.idle": "2023-02-04T07:22:38.395098Z",
     "shell.execute_reply": "2023-02-04T07:22:38.394277Z"
    }
   },
   "outputs": [
    {
     "name": "stdout",
     "output_type": "stream",
     "text": [
      "882\n"
     ]
    }
   ],
   "source": [
    "print(len(product2) - len(gene))"
   ]
  },
  {
   "cell_type": "markdown",
   "id": "ca6976b4",
   "metadata": {},
   "source": [
    "If the terminator is missing from the assembly, the PCR product will have this size in base pairs:"
   ]
  },
  {
   "cell_type": "code",
   "execution_count": 23,
   "id": "0ae9eb4f",
   "metadata": {
    "execution": {
     "iopub.execute_input": "2023-02-04T07:22:38.398560Z",
     "iopub.status.busy": "2023-02-04T07:22:38.398174Z",
     "iopub.status.idle": "2023-02-04T07:22:38.402621Z",
     "shell.execute_reply": "2023-02-04T07:22:38.401869Z"
    }
   },
   "outputs": [
    {
     "name": "stdout",
     "output_type": "stream",
     "text": [
      "1006\n"
     ]
    }
   ],
   "source": [
    "print(len(product2) - len(term))"
   ]
  },
  {
   "cell_type": "markdown",
   "id": "96dba129",
   "metadata": {},
   "source": [
    "The cseguid checksum for the resulting plasmid is calculated for future reference.\n",
    "The [cseguid checksum](http://pydna.readthedocs.org/en/latest/pydna.html#pydna.utils.cseguid)\n",
    "uniquely identifies a circular double stranded sequence."
   ]
  },
  {
   "cell_type": "code",
   "execution_count": 24,
   "id": "5a5cac1f",
   "metadata": {
    "execution": {
     "iopub.execute_input": "2023-02-04T07:22:38.406370Z",
     "iopub.status.busy": "2023-02-04T07:22:38.405799Z",
     "iopub.status.idle": "2023-02-04T07:22:38.415552Z",
     "shell.execute_reply": "2023-02-04T07:22:38.414756Z"
    }
   },
   "outputs": [
    {
     "name": "stdout",
     "output_type": "stream",
     "text": [
      "QPD3pgUORlbvSUw-xQVoCtvx88I\n"
     ]
    }
   ],
   "source": [
    "print(result.cseguid())"
   ]
  },
  {
   "cell_type": "markdown",
   "id": "5a74f6bf",
   "metadata": {},
   "source": [
    "The file name is based on the promoter, gene and terminator designations."
   ]
  },
  {
   "cell_type": "code",
   "execution_count": 25,
   "id": "76faba3b",
   "metadata": {
    "execution": {
     "iopub.execute_input": "2023-02-04T07:22:38.419764Z",
     "iopub.status.busy": "2023-02-04T07:22:38.419070Z",
     "iopub.status.idle": "2023-02-04T07:22:38.423361Z",
     "shell.execute_reply": "2023-02-04T07:22:38.422465Z"
    }
   },
   "outputs": [],
   "source": [
    "result.locus = f\"tu:{gene.name}\"[:16]\n",
    "result.definition = \"pYPK0_PDC1_EcfabH_TEF1\""
   ]
  },
  {
   "cell_type": "markdown",
   "id": "16eddc68",
   "metadata": {},
   "source": [
    "Sequence is stamped with cseguid checksum. This can be used to verify the\n",
    "integrity of the sequence file."
   ]
  },
  {
   "cell_type": "code",
   "execution_count": 26,
   "id": "5ce044f1",
   "metadata": {
    "execution": {
     "iopub.execute_input": "2023-02-04T07:22:38.427375Z",
     "iopub.status.busy": "2023-02-04T07:22:38.427089Z",
     "iopub.status.idle": "2023-02-04T07:22:38.439878Z",
     "shell.execute_reply": "2023-02-04T07:22:38.439337Z"
    }
   },
   "outputs": [
    {
     "data": {
      "text/plain": [
       "QPD3pgUORlbvSUw-xQVoCtvx88I"
      ]
     },
     "execution_count": 26,
     "metadata": {},
     "output_type": "execute_result"
    }
   ],
   "source": [
    "result.stamp(\"cSEGUID\")"
   ]
  },
  {
   "cell_type": "markdown",
   "id": "d53b4ad6",
   "metadata": {},
   "source": [
    "Write sequence to a local file."
   ]
  },
  {
   "cell_type": "code",
   "execution_count": 27,
   "id": "bf6bfd04",
   "metadata": {
    "execution": {
     "iopub.execute_input": "2023-02-04T07:22:38.442298Z",
     "iopub.status.busy": "2023-02-04T07:22:38.442075Z",
     "iopub.status.idle": "2023-02-04T07:22:38.461433Z",
     "shell.execute_reply": "2023-02-04T07:22:38.460855Z"
    }
   },
   "outputs": [
    {
     "data": {
      "text/html": [
       "<font face=monospace><a href='pYPK0_PDC1_EcfabH_TEF1.gb' target='_blank'>pYPK0_PDC1_EcfabH_TEF1.gb</a></font><br>"
      ]
     },
     "metadata": {},
     "output_type": "display_data"
    }
   ],
   "source": [
    "result.write(f\"{result.definition}.gb\")"
   ]
  },
  {
   "cell_type": "markdown",
   "id": "5c7dc281",
   "metadata": {
    "lines_to_next_cell": 0
   },
   "source": [
    "### Suggested PCR programs\n",
    "\n",
    "For the [amplification](#PCR) of promoter, gene and terminator."
   ]
  },
  {
   "cell_type": "code",
   "execution_count": 28,
   "id": "d6b75452",
   "metadata": {
    "execution": {
     "iopub.execute_input": "2023-02-04T07:22:38.464101Z",
     "iopub.status.busy": "2023-02-04T07:22:38.463694Z",
     "iopub.status.idle": "2023-02-04T07:22:38.468737Z",
     "shell.execute_reply": "2023-02-04T07:22:38.466891Z"
    }
   },
   "outputs": [
    {
     "name": "stdout",
     "output_type": "stream",
     "text": [
      "577_crp585-557 567_pCAPsAjiIF\n",
      "|95°C|95°C               |    |tmf:64.6\n",
      "|____|_____          72°C|72°C|tmr:69.7\n",
      "|3min|30s  \\ 57.2°C _____|____|45s/kb\n",
      "|    |      \\______/ 0:53|5min|GC 38%\n",
      "|    |       30s         |    |1187bp\n"
     ]
    }
   ],
   "source": [
    "print(prom.forward_primer.name, prom.reverse_primer.name)\n",
    "print(prom.program())"
   ]
  },
  {
   "cell_type": "code",
   "execution_count": 29,
   "id": "8c83a672",
   "metadata": {
    "execution": {
     "iopub.execute_input": "2023-02-04T07:22:38.472865Z",
     "iopub.status.busy": "2023-02-04T07:22:38.472540Z",
     "iopub.status.idle": "2023-02-04T07:22:38.478852Z",
     "shell.execute_reply": "2023-02-04T07:22:38.478069Z"
    }
   },
   "outputs": [
    {
     "name": "stdout",
     "output_type": "stream",
     "text": [
      "468_pCAPs_release_fw 467_pCAPs_release_re\n",
      "|95°C|95°C               |    |tmf:76.9\n",
      "|____|_____          72°C|72°C|tmr:67.9\n",
      "|3min|30s  \\ 62.6°C _____|____|45s/kb\n",
      "|    |      \\______/ 0:46|5min|GC 54%\n",
      "|    |       30s         |    |1043bp\n"
     ]
    }
   ],
   "source": [
    "print(gene.forward_primer.name, gene.reverse_primer.name)\n",
    "print(gene.program())"
   ]
  },
  {
   "cell_type": "code",
   "execution_count": 30,
   "id": "f0686f4c",
   "metadata": {
    "execution": {
     "iopub.execute_input": "2023-02-04T07:22:38.482573Z",
     "iopub.status.busy": "2023-02-04T07:22:38.482065Z",
     "iopub.status.idle": "2023-02-04T07:22:38.487888Z",
     "shell.execute_reply": "2023-02-04T07:22:38.486889Z"
    }
   },
   "outputs": [
    {
     "name": "stdout",
     "output_type": "stream",
     "text": [
      "568_pCAPsAjiIR 578_crp42-70\n",
      "|95°C|95°C               |    |tmf:66.1\n",
      "|____|_____          72°C|72°C|tmr:65.0\n",
      "|3min|30s  \\ 57.1°C _____|____|45s/kb\n",
      "|    |      \\______/ 0:41|5min|GC 38%\n",
      "|    |       30s         |    |919bp\n"
     ]
    }
   ],
   "source": [
    "print(term.forward_primer.name, term.reverse_primer.name)\n",
    "print(term.program())"
   ]
  }
 ],
 "metadata": {
  "jupytext": {
   "main_language": "python",
   "text_representation": {
    "extension": ".py",
    "format_name": "percent",
    "format_version": "1.3",
    "jupytext_version": "1.14.0"
   }
  },
  "language_info": {
   "codemirror_mode": {
    "name": "ipython",
    "version": 3
   },
   "file_extension": ".py",
   "mimetype": "text/x-python",
   "name": "python",
   "nbconvert_exporter": "python",
   "pygments_lexer": "ipython3",
   "version": "3.11.0"
  }
 },
 "nbformat": 4,
 "nbformat_minor": 5
}
