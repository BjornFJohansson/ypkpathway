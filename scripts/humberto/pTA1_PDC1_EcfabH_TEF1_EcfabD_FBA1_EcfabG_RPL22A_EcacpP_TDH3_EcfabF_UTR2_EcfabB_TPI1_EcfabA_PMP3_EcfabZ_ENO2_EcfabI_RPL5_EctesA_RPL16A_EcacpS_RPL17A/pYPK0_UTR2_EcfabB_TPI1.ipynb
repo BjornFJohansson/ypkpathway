{
 "cells": [
  {
   "cell_type": "markdown",
   "id": "a181385e",
   "metadata": {},
   "source": [
    "# [![logo](logo.png)](https://github.com/BjornFJohansson/ypkpathway#-ypkpathway) pYPK0_UTR2_EcfabB_TPI1\n",
    "\n",
    "Assembly of a [_Saccharomyces cerevisiae_](http://www.yeastgenome.org) transcriptional unit vector.\n",
    "\n",
    "Made from a linear vector fragment and three PCR products:\n",
    "\n",
    "- a linearized pYPK0 vector for maintenance in _S. cerevisiae_ or _E. coli_ (red dashed line in figure below)\n",
    "- a promoter PCR product from the `pYPKa_Z_UTR2` vector\n",
    "- a gene PCR product from the `pYPKa_A_EcfabB` vector\n",
    "- a terminator PCR product from the `pYPKa_E_TPI1` vector\n",
    "\n",
    "The four linear DNA fragments are joined by _in-vivo_ homologous recombination in a\n",
    "[_Saccharomyces cerevisiae_](http://wiki.yeastgenome.org/index.php/Commonly_used_strains) strain.\n",
    "\n",
    "![tu](tu.png \"tu\")\n",
    "\n",
    "A part of the [pydna](https://pypi.python.org/pypi/pydna/) package is imported in the code cell below."
   ]
  },
  {
   "cell_type": "code",
   "execution_count": 1,
   "id": "acd2bfac",
   "metadata": {
    "execution": {
     "iopub.execute_input": "2023-02-04T07:22:52.315046Z",
     "iopub.status.busy": "2023-02-04T07:22:52.314717Z",
     "iopub.status.idle": "2023-02-04T07:22:52.664627Z",
     "shell.execute_reply": "2023-02-04T07:22:52.663954Z"
    }
   },
   "outputs": [],
   "source": [
    "from pydna.parsers import parse_primers\n",
    "from pydna.readers import read\n",
    "from pydna.amplify import pcr\n",
    "from pydna.assembly import Assembly"
   ]
  },
  {
   "cell_type": "markdown",
   "id": "789aa456",
   "metadata": {},
   "source": [
    "The Yeast Pathway Kit [standard primers](standard_primers.fasta) are read into a dictionary in the code cell below."
   ]
  },
  {
   "cell_type": "code",
   "execution_count": 2,
   "id": "0ebc45ad",
   "metadata": {
    "execution": {
     "iopub.execute_input": "2023-02-04T07:22:52.668224Z",
     "iopub.status.busy": "2023-02-04T07:22:52.667918Z",
     "iopub.status.idle": "2023-02-04T07:22:52.678427Z",
     "shell.execute_reply": "2023-02-04T07:22:52.677660Z"
    }
   },
   "outputs": [],
   "source": [
    "p = {x.name: x for x in parse_primers(\"standard_primers.fasta\")}"
   ]
  },
  {
   "cell_type": "markdown",
   "id": "b2b3550c",
   "metadata": {},
   "source": [
    "The backbone vector [pYPK0](pYPK0.gb) is read from a local file in the code cell below."
   ]
  },
  {
   "cell_type": "code",
   "execution_count": 3,
   "id": "5dffe3ca",
   "metadata": {
    "execution": {
     "iopub.execute_input": "2023-02-04T07:22:52.682134Z",
     "iopub.status.busy": "2023-02-04T07:22:52.681836Z",
     "iopub.status.idle": "2023-02-04T07:22:52.694607Z",
     "shell.execute_reply": "2023-02-04T07:22:52.694060Z"
    }
   },
   "outputs": [],
   "source": [
    "backbone = read(\"pYPK0.gb\")"
   ]
  },
  {
   "cell_type": "markdown",
   "id": "495c1884",
   "metadata": {},
   "source": [
    "The backbone vector is linearized by digestion with [MfeI](https://www.google.com/search?q=MfeI)."
   ]
  },
  {
   "cell_type": "code",
   "execution_count": 4,
   "id": "9c7471be",
   "metadata": {
    "execution": {
     "iopub.execute_input": "2023-02-04T07:22:52.697460Z",
     "iopub.status.busy": "2023-02-04T07:22:52.697239Z",
     "iopub.status.idle": "2023-02-04T07:22:52.700322Z",
     "shell.execute_reply": "2023-02-04T07:22:52.699681Z"
    }
   },
   "outputs": [],
   "source": [
    "from Bio.Restriction import MfeI"
   ]
  },
  {
   "cell_type": "code",
   "execution_count": 5,
   "id": "28947dfe",
   "metadata": {
    "execution": {
     "iopub.execute_input": "2023-02-04T07:22:52.703737Z",
     "iopub.status.busy": "2023-02-04T07:22:52.703332Z",
     "iopub.status.idle": "2023-02-04T07:22:52.712517Z",
     "shell.execute_reply": "2023-02-04T07:22:52.711936Z"
    }
   },
   "outputs": [],
   "source": [
    "linear_backbone = backbone.linearize(MfeI)"
   ]
  },
  {
   "cell_type": "markdown",
   "id": "dfdf42e0",
   "metadata": {},
   "source": [
    "The pYPKa derived _E. coli_ plasmids containing\n",
    "- [promoter](pYPKa_Z_UTR2.gb)\n",
    "- [gene](pYPKa_A_EcfabB.gb)\n",
    "- [terminator](pYPKa_E_TPI1.gb)\n",
    "\n",
    "are read into three variables below."
   ]
  },
  {
   "cell_type": "code",
   "execution_count": 6,
   "id": "3934481f",
   "metadata": {
    "execution": {
     "iopub.execute_input": "2023-02-04T07:22:52.715241Z",
     "iopub.status.busy": "2023-02-04T07:22:52.714978Z",
     "iopub.status.idle": "2023-02-04T07:22:52.731616Z",
     "shell.execute_reply": "2023-02-04T07:22:52.730983Z"
    }
   },
   "outputs": [],
   "source": [
    "promoter_template   = read(\"pYPKa_Z_UTR2.gb\")\n",
    "gene_template       = read(\"pYPKa_A_EcfabB.gb\")\n",
    "terminator_template = read(\"pYPKa_E_TPI1.gb\")"
   ]
  },
  {
   "cell_type": "markdown",
   "id": "d91afb41",
   "metadata": {
    "lines_to_next_cell": 0
   },
   "source": [
    "### PCR\n",
    "Three DNA fragments are PCR amplified using [standard primers](standard_primers.fasta).\n",
    "\n",
    "[Suggested PCR programs](#Suggested-PCR-programs) can be found at the end of this document."
   ]
  },
  {
   "cell_type": "code",
   "execution_count": 7,
   "id": "9442d962",
   "metadata": {
    "execution": {
     "iopub.execute_input": "2023-02-04T07:22:52.734683Z",
     "iopub.status.busy": "2023-02-04T07:22:52.734461Z",
     "iopub.status.idle": "2023-02-04T07:22:52.737893Z",
     "shell.execute_reply": "2023-02-04T07:22:52.737387Z"
    }
   },
   "outputs": [],
   "source": [
    "\n",
    "fp_prom = p['577_crp585-557']\n",
    "rp_prom = p['567_pCAPsAjiIF']\n",
    "fp_gene = p['468_pCAPs_release_fw']\n",
    "rp_gene = p['467_pCAPs_release_re']\n",
    "fp_term = p['568_pCAPsAjiIR']\n",
    "rp_term = p['578_crp42-70']"
   ]
  },
  {
   "cell_type": "code",
   "execution_count": 8,
   "id": "33985a64",
   "metadata": {
    "execution": {
     "iopub.execute_input": "2023-02-04T07:22:52.741565Z",
     "iopub.status.busy": "2023-02-04T07:22:52.741210Z",
     "iopub.status.idle": "2023-02-04T07:22:52.767691Z",
     "shell.execute_reply": "2023-02-04T07:22:52.767056Z"
    }
   },
   "outputs": [],
   "source": [
    "prom = pcr(fp_prom, rp_prom, promoter_template)\n",
    "gene = pcr(fp_gene, rp_gene, gene_template)\n",
    "term = pcr(fp_term, rp_term, terminator_template)"
   ]
  },
  {
   "cell_type": "code",
   "execution_count": 9,
   "id": "f874e359",
   "metadata": {
    "execution": {
     "iopub.execute_input": "2023-02-04T07:22:52.770339Z",
     "iopub.status.busy": "2023-02-04T07:22:52.770072Z",
     "iopub.status.idle": "2023-02-04T07:22:52.773378Z",
     "shell.execute_reply": "2023-02-04T07:22:52.772795Z"
    }
   },
   "outputs": [],
   "source": [
    "prom.name = \"pYPKa_Z_UTR2\"[8:]\n",
    "gene.name = \"pYPKa_A_EcfabB\"[8:]\n",
    "term.name = \"pYPKa_E_TPI1\"[8:]"
   ]
  },
  {
   "cell_type": "markdown",
   "id": "f17483cd",
   "metadata": {},
   "source": [
    "\n",
    "The fragments will be assembled by _in-vivo_ [homologous recombination](http://www.ncbi.nlm.nih.gov/pubmed/2828185):"
   ]
  },
  {
   "cell_type": "code",
   "execution_count": 10,
   "id": "74ba801f",
   "metadata": {
    "execution": {
     "iopub.execute_input": "2023-02-04T07:22:52.777407Z",
     "iopub.status.busy": "2023-02-04T07:22:52.777083Z",
     "iopub.status.idle": "2023-02-04T07:22:53.219105Z",
     "shell.execute_reply": "2023-02-04T07:22:53.218572Z"
    }
   },
   "outputs": [
    {
     "data": {
      "text/plain": [
       "Assembly\n",
       "fragments..: 5766bp 852bp 1310bp 922bp\n",
       "limit(bp)..: 31\n",
       "G.nodes....: 10\n",
       "algorithm..: common_sub_strings"
      ]
     },
     "execution_count": 10,
     "metadata": {},
     "output_type": "execute_result"
    }
   ],
   "source": [
    "asm = Assembly((linear_backbone, prom, gene, term), limit=31)\n",
    "asm"
   ]
  },
  {
   "cell_type": "markdown",
   "id": "46122900",
   "metadata": {},
   "source": [
    "The Assembly object above should normally indicate four fragments and eight nodes."
   ]
  },
  {
   "cell_type": "code",
   "execution_count": 11,
   "id": "d9d567fc",
   "metadata": {
    "execution": {
     "iopub.execute_input": "2023-02-04T07:22:53.221618Z",
     "iopub.status.busy": "2023-02-04T07:22:53.221363Z",
     "iopub.status.idle": "2023-02-04T07:22:53.447917Z",
     "shell.execute_reply": "2023-02-04T07:22:53.447329Z"
    },
    "lines_to_next_cell": 0
   },
   "outputs": [
    {
     "data": {
      "text/plain": [
       "[Contig(o8215), Contig(o8215), Contig(o8215), Contig(o7581), Contig(o7581)]"
      ]
     },
     "execution_count": 11,
     "metadata": {},
     "output_type": "execute_result"
    }
   ],
   "source": [
    "candidates = asm.assemble_circular()\n",
    "candidates"
   ]
  },
  {
   "cell_type": "markdown",
   "id": "e40c376c",
   "metadata": {},
   "source": [
    "There should normally be two candidates of equal size. These sequences should be identical."
   ]
  },
  {
   "cell_type": "code",
   "execution_count": 12,
   "id": "46e05277",
   "metadata": {
    "execution": {
     "iopub.execute_input": "2023-02-04T07:22:53.451011Z",
     "iopub.status.busy": "2023-02-04T07:22:53.450775Z",
     "iopub.status.idle": "2023-02-04T07:22:53.453646Z",
     "shell.execute_reply": "2023-02-04T07:22:53.453162Z"
    },
    "lines_to_next_cell": 0
   },
   "outputs": [],
   "source": [
    "candidate, *rest = candidates"
   ]
  },
  {
   "cell_type": "code",
   "execution_count": 13,
   "id": "3bac3b3f",
   "metadata": {
    "execution": {
     "iopub.execute_input": "2023-02-04T07:22:53.457369Z",
     "iopub.status.busy": "2023-02-04T07:22:53.457040Z",
     "iopub.status.idle": "2023-02-04T07:22:53.475603Z",
     "shell.execute_reply": "2023-02-04T07:22:53.474912Z"
    },
    "lines_to_next_cell": 0
   },
   "outputs": [
    {
     "data": {
      "text/plain": [
       "True"
      ]
     },
     "execution_count": 13,
     "metadata": {},
     "output_type": "execute_result"
    }
   ],
   "source": [
    "candidate.cseguid() == rest[0].cseguid()"
   ]
  },
  {
   "cell_type": "code",
   "execution_count": 14,
   "id": "34da30bc",
   "metadata": {
    "execution": {
     "iopub.execute_input": "2023-02-04T07:22:53.478325Z",
     "iopub.status.busy": "2023-02-04T07:22:53.478046Z",
     "iopub.status.idle": "2023-02-04T07:22:53.486862Z",
     "shell.execute_reply": "2023-02-04T07:22:53.482901Z"
    },
    "lines_to_next_cell": 0
   },
   "outputs": [
    {
     "data": {
      "text/plain": [
       " -|pYPK0_lin|168\n",
       "|            \\/\n",
       "|            /\\\n",
       "|            168|UTR2|48\n",
       "|                     \\/\n",
       "|                     /\\\n",
       "|                     48|EcfabB|37\n",
       "|                               \\/\n",
       "|                               /\\\n",
       "|                               37|TPI1|276\n",
       "|                                       \\/\n",
       "|                                       /\\\n",
       "|                                       276-\n",
       "|                                          |\n",
       " ------------------------------------------"
      ]
     },
     "execution_count": 14,
     "metadata": {},
     "output_type": "execute_result"
    }
   ],
   "source": [
    "candidate.figure()"
   ]
  },
  {
   "cell_type": "markdown",
   "id": "4781b919",
   "metadata": {},
   "source": [
    "The candidate vector is synchronized to the 577 primer. This means that\n",
    "the plasmid origin is shifted so that it matches the backbone vector."
   ]
  },
  {
   "cell_type": "code",
   "execution_count": 15,
   "id": "a2593f7b",
   "metadata": {
    "execution": {
     "iopub.execute_input": "2023-02-04T07:22:53.491118Z",
     "iopub.status.busy": "2023-02-04T07:22:53.490795Z",
     "iopub.status.idle": "2023-02-04T07:22:53.839851Z",
     "shell.execute_reply": "2023-02-04T07:22:53.832555Z"
    }
   },
   "outputs": [],
   "source": [
    "result = candidate.synced(fp_prom)"
   ]
  },
  {
   "cell_type": "markdown",
   "id": "40917ec2",
   "metadata": {},
   "source": [
    "### Diagnostic PCR confirmation\n",
    "\n",
    "The structure of the final vector is confirmed by two\n",
    "separate PCR reactions, one for the promoter and gene and\n",
    "one for the gene and terminator.\n",
    "\n",
    "PCR using standard primers 577 and 467 to amplify promoter and gene."
   ]
  },
  {
   "cell_type": "code",
   "execution_count": 16,
   "id": "55c7e9ed",
   "metadata": {
    "execution": {
     "iopub.execute_input": "2023-02-04T07:22:53.844882Z",
     "iopub.status.busy": "2023-02-04T07:22:53.844587Z",
     "iopub.status.idle": "2023-02-04T07:22:53.881871Z",
     "shell.execute_reply": "2023-02-04T07:22:53.881117Z"
    }
   },
   "outputs": [],
   "source": [
    "product = pcr( fp_prom, rp_gene, result)"
   ]
  },
  {
   "cell_type": "markdown",
   "id": "451219ae",
   "metadata": {},
   "source": [
    "A correct clone should give this size in base pairs:"
   ]
  },
  {
   "cell_type": "code",
   "execution_count": 17,
   "id": "cd69842c",
   "metadata": {
    "execution": {
     "iopub.execute_input": "2023-02-04T07:22:53.886615Z",
     "iopub.status.busy": "2023-02-04T07:22:53.885974Z",
     "iopub.status.idle": "2023-02-04T07:22:53.892947Z",
     "shell.execute_reply": "2023-02-04T07:22:53.892210Z"
    }
   },
   "outputs": [
    {
     "name": "stdout",
     "output_type": "stream",
     "text": [
      "2112\n"
     ]
    }
   ],
   "source": [
    "print(len(product))"
   ]
  },
  {
   "cell_type": "markdown",
   "id": "f63c2736",
   "metadata": {},
   "source": [
    "If the promoter is missing from the assembly, the PCR product will have this size in base pairs:"
   ]
  },
  {
   "cell_type": "code",
   "execution_count": 18,
   "id": "e0b63eb2",
   "metadata": {
    "execution": {
     "iopub.execute_input": "2023-02-04T07:22:53.896786Z",
     "iopub.status.busy": "2023-02-04T07:22:53.896306Z",
     "iopub.status.idle": "2023-02-04T07:22:53.906575Z",
     "shell.execute_reply": "2023-02-04T07:22:53.900030Z"
    }
   },
   "outputs": [
    {
     "name": "stdout",
     "output_type": "stream",
     "text": [
      "1260\n"
     ]
    }
   ],
   "source": [
    "print(len(product) - len(prom))"
   ]
  },
  {
   "cell_type": "markdown",
   "id": "b7789d9c",
   "metadata": {},
   "source": [
    "If the gene is missing from the assembly, the PCR product will have this size in base pairs:"
   ]
  },
  {
   "cell_type": "code",
   "execution_count": 19,
   "id": "568e274e",
   "metadata": {
    "execution": {
     "iopub.execute_input": "2023-02-04T07:22:53.917142Z",
     "iopub.status.busy": "2023-02-04T07:22:53.916695Z",
     "iopub.status.idle": "2023-02-04T07:22:53.921707Z",
     "shell.execute_reply": "2023-02-04T07:22:53.920882Z"
    }
   },
   "outputs": [
    {
     "name": "stdout",
     "output_type": "stream",
     "text": [
      "802\n"
     ]
    }
   ],
   "source": [
    "print(len(product) - len(gene))"
   ]
  },
  {
   "cell_type": "markdown",
   "id": "4a22cf63",
   "metadata": {},
   "source": [
    "PCR using standard primers 468 and 578 to amplify gene and terminator."
   ]
  },
  {
   "cell_type": "code",
   "execution_count": 20,
   "id": "fac1ebf3",
   "metadata": {
    "execution": {
     "iopub.execute_input": "2023-02-04T07:22:53.925025Z",
     "iopub.status.busy": "2023-02-04T07:22:53.924820Z",
     "iopub.status.idle": "2023-02-04T07:22:53.943286Z",
     "shell.execute_reply": "2023-02-04T07:22:53.942770Z"
    }
   },
   "outputs": [],
   "source": [
    "product2 = pcr( fp_gene, rp_term, result)"
   ]
  },
  {
   "cell_type": "markdown",
   "id": "0a0025b5",
   "metadata": {},
   "source": [
    "A correct clone should give this size:"
   ]
  },
  {
   "cell_type": "code",
   "execution_count": 21,
   "id": "fea64f8f",
   "metadata": {
    "execution": {
     "iopub.execute_input": "2023-02-04T07:22:53.945995Z",
     "iopub.status.busy": "2023-02-04T07:22:53.945623Z",
     "iopub.status.idle": "2023-02-04T07:22:53.948929Z",
     "shell.execute_reply": "2023-02-04T07:22:53.948403Z"
    }
   },
   "outputs": [
    {
     "name": "stdout",
     "output_type": "stream",
     "text": [
      "2195\n"
     ]
    }
   ],
   "source": [
    "print(len(product2))"
   ]
  },
  {
   "cell_type": "markdown",
   "id": "2d79281b",
   "metadata": {},
   "source": [
    "If the gene is missing from the assembly, the PCR product will have this size in base pairs:"
   ]
  },
  {
   "cell_type": "code",
   "execution_count": 22,
   "id": "2ae5190d",
   "metadata": {
    "execution": {
     "iopub.execute_input": "2023-02-04T07:22:53.952702Z",
     "iopub.status.busy": "2023-02-04T07:22:53.952054Z",
     "iopub.status.idle": "2023-02-04T07:22:53.956190Z",
     "shell.execute_reply": "2023-02-04T07:22:53.955483Z"
    }
   },
   "outputs": [
    {
     "name": "stdout",
     "output_type": "stream",
     "text": [
      "885\n"
     ]
    }
   ],
   "source": [
    "print(len(product2) - len(gene))"
   ]
  },
  {
   "cell_type": "markdown",
   "id": "3b1572cb",
   "metadata": {},
   "source": [
    "If the terminator is missing from the assembly, the PCR product will have this size in base pairs:"
   ]
  },
  {
   "cell_type": "code",
   "execution_count": 23,
   "id": "231d9853",
   "metadata": {
    "execution": {
     "iopub.execute_input": "2023-02-04T07:22:53.960027Z",
     "iopub.status.busy": "2023-02-04T07:22:53.959632Z",
     "iopub.status.idle": "2023-02-04T07:22:53.964369Z",
     "shell.execute_reply": "2023-02-04T07:22:53.963504Z"
    }
   },
   "outputs": [
    {
     "name": "stdout",
     "output_type": "stream",
     "text": [
      "1273\n"
     ]
    }
   ],
   "source": [
    "print(len(product2) - len(term))"
   ]
  },
  {
   "cell_type": "markdown",
   "id": "fa9c76b2",
   "metadata": {},
   "source": [
    "The cseguid checksum for the resulting plasmid is calculated for future reference.\n",
    "The [cseguid checksum](http://pydna.readthedocs.org/en/latest/pydna.html#pydna.utils.cseguid)\n",
    "uniquely identifies a circular double stranded sequence."
   ]
  },
  {
   "cell_type": "code",
   "execution_count": 24,
   "id": "30d44598",
   "metadata": {
    "execution": {
     "iopub.execute_input": "2023-02-04T07:22:53.969077Z",
     "iopub.status.busy": "2023-02-04T07:22:53.968610Z",
     "iopub.status.idle": "2023-02-04T07:22:53.977269Z",
     "shell.execute_reply": "2023-02-04T07:22:53.976768Z"
    }
   },
   "outputs": [
    {
     "name": "stdout",
     "output_type": "stream",
     "text": [
      "bNFrBIY_UaYTnBius8Td4ve2szw\n"
     ]
    }
   ],
   "source": [
    "print(result.cseguid())"
   ]
  },
  {
   "cell_type": "markdown",
   "id": "aba87588",
   "metadata": {},
   "source": [
    "The file name is based on the promoter, gene and terminator designations."
   ]
  },
  {
   "cell_type": "code",
   "execution_count": 25,
   "id": "02b16b23",
   "metadata": {
    "execution": {
     "iopub.execute_input": "2023-02-04T07:22:53.979677Z",
     "iopub.status.busy": "2023-02-04T07:22:53.979474Z",
     "iopub.status.idle": "2023-02-04T07:22:53.982610Z",
     "shell.execute_reply": "2023-02-04T07:22:53.982052Z"
    }
   },
   "outputs": [],
   "source": [
    "result.locus = f\"tu:{gene.name}\"[:16]\n",
    "result.definition = \"pYPK0_UTR2_EcfabB_TPI1\""
   ]
  },
  {
   "cell_type": "markdown",
   "id": "089bd627",
   "metadata": {},
   "source": [
    "Sequence is stamped with cseguid checksum. This can be used to verify the\n",
    "integrity of the sequence file."
   ]
  },
  {
   "cell_type": "code",
   "execution_count": 26,
   "id": "9886f515",
   "metadata": {
    "execution": {
     "iopub.execute_input": "2023-02-04T07:22:53.987308Z",
     "iopub.status.busy": "2023-02-04T07:22:53.986958Z",
     "iopub.status.idle": "2023-02-04T07:22:53.999970Z",
     "shell.execute_reply": "2023-02-04T07:22:53.999435Z"
    }
   },
   "outputs": [
    {
     "data": {
      "text/plain": [
       "bNFrBIY_UaYTnBius8Td4ve2szw"
      ]
     },
     "execution_count": 26,
     "metadata": {},
     "output_type": "execute_result"
    }
   ],
   "source": [
    "result.stamp(\"cSEGUID\")"
   ]
  },
  {
   "cell_type": "markdown",
   "id": "f66e5554",
   "metadata": {},
   "source": [
    "Write sequence to a local file."
   ]
  },
  {
   "cell_type": "code",
   "execution_count": 27,
   "id": "8462f966",
   "metadata": {
    "execution": {
     "iopub.execute_input": "2023-02-04T07:22:54.002746Z",
     "iopub.status.busy": "2023-02-04T07:22:54.002485Z",
     "iopub.status.idle": "2023-02-04T07:22:54.020369Z",
     "shell.execute_reply": "2023-02-04T07:22:54.019767Z"
    }
   },
   "outputs": [
    {
     "data": {
      "text/html": [
       "<font face=monospace><a href='pYPK0_UTR2_EcfabB_TPI1.gb' target='_blank'>pYPK0_UTR2_EcfabB_TPI1.gb</a></font><br>"
      ]
     },
     "metadata": {},
     "output_type": "display_data"
    }
   ],
   "source": [
    "result.write(f\"{result.definition}.gb\")"
   ]
  },
  {
   "cell_type": "markdown",
   "id": "cd7f83a8",
   "metadata": {
    "lines_to_next_cell": 0
   },
   "source": [
    "### Suggested PCR programs\n",
    "\n",
    "For the [amplification](#PCR) of promoter, gene and terminator."
   ]
  },
  {
   "cell_type": "code",
   "execution_count": 28,
   "id": "ed880824",
   "metadata": {
    "execution": {
     "iopub.execute_input": "2023-02-04T07:22:54.023052Z",
     "iopub.status.busy": "2023-02-04T07:22:54.022844Z",
     "iopub.status.idle": "2023-02-04T07:22:54.026566Z",
     "shell.execute_reply": "2023-02-04T07:22:54.026056Z"
    }
   },
   "outputs": [
    {
     "name": "stdout",
     "output_type": "stream",
     "text": [
      "577_crp585-557 567_pCAPsAjiIF\n",
      "|95°C|95°C               |    |tmf:64.6\n",
      "|____|_____          72°C|72°C|tmr:69.7\n",
      "|3min|30s  \\ 57.6°C _____|____|45s/kb\n",
      "|    |      \\______/ 0:38|5min|GC 40%\n",
      "|    |       30s         |    |852bp\n"
     ]
    }
   ],
   "source": [
    "print(prom.forward_primer.name, prom.reverse_primer.name)\n",
    "print(prom.program())"
   ]
  },
  {
   "cell_type": "code",
   "execution_count": 29,
   "id": "72c7fa9e",
   "metadata": {
    "execution": {
     "iopub.execute_input": "2023-02-04T07:22:54.030582Z",
     "iopub.status.busy": "2023-02-04T07:22:54.030197Z",
     "iopub.status.idle": "2023-02-04T07:22:54.036449Z",
     "shell.execute_reply": "2023-02-04T07:22:54.035557Z"
    }
   },
   "outputs": [
    {
     "name": "stdout",
     "output_type": "stream",
     "text": [
      "468_pCAPs_release_fw 467_pCAPs_release_re\n",
      "|95°C|95°C               |    |tmf:76.9\n",
      "|____|_____          72°C|72°C|tmr:67.9\n",
      "|3min|30s  \\ 63.2°C _____|____|45s/kb\n",
      "|    |      \\______/ 0:58|5min|GC 56%\n",
      "|    |       30s         |    |1310bp\n"
     ]
    }
   ],
   "source": [
    "print(gene.forward_primer.name, gene.reverse_primer.name)\n",
    "print(gene.program())"
   ]
  },
  {
   "cell_type": "code",
   "execution_count": 30,
   "id": "9d7e83e4",
   "metadata": {
    "execution": {
     "iopub.execute_input": "2023-02-04T07:22:54.039963Z",
     "iopub.status.busy": "2023-02-04T07:22:54.039473Z",
     "iopub.status.idle": "2023-02-04T07:22:54.044316Z",
     "shell.execute_reply": "2023-02-04T07:22:54.043534Z"
    }
   },
   "outputs": [
    {
     "name": "stdout",
     "output_type": "stream",
     "text": [
      "568_pCAPsAjiIR 578_crp42-70\n",
      "|95°C|95°C               |    |tmf:66.1\n",
      "|____|_____          72°C|72°C|tmr:65.0\n",
      "|3min|30s  \\ 57.2°C _____|____|45s/kb\n",
      "|    |      \\______/ 0:41|5min|GC 38%\n",
      "|    |       30s         |    |922bp\n"
     ]
    }
   ],
   "source": [
    "print(term.forward_primer.name, term.reverse_primer.name)\n",
    "print(term.program())"
   ]
  }
 ],
 "metadata": {
  "jupytext": {
   "main_language": "python",
   "text_representation": {
    "extension": ".py",
    "format_name": "percent",
    "format_version": "1.3",
    "jupytext_version": "1.14.0"
   }
  },
  "language_info": {
   "codemirror_mode": {
    "name": "ipython",
    "version": 3
   },
   "file_extension": ".py",
   "mimetype": "text/x-python",
   "name": "python",
   "nbconvert_exporter": "python",
   "pygments_lexer": "ipython3",
   "version": "3.11.0"
  }
 },
 "nbformat": 4,
 "nbformat_minor": 5
}
