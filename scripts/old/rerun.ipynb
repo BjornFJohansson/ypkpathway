{
 "cells": [
  {
   "cell_type": "code",
   "execution_count": 3,
   "metadata": {
    "collapsed": true
   },
   "outputs": [],
   "source": [
    "import os, re"
   ]
  },
  {
   "cell_type": "code",
   "execution_count": 4,
   "metadata": {
    "collapsed": false
   },
   "outputs": [
    {
     "data": {
      "text/plain": [
       "['pYPKa_ZE_FBA1.ipynb',\n",
       " 'pYPKa_ZE_PDC1.ipynb',\n",
       " 'pYPKa_ZE_PGI.ipynb',\n",
       " 'pYPKa_ZE_TDH3.ipynb',\n",
       " 'pYPKa_ZE_TEF1.ipynb']"
      ]
     },
     "execution_count": 4,
     "metadata": {},
     "output_type": "execute_result"
    }
   ],
   "source": [
    "sorted([f for f in os.listdir(\".\") if re.match(\"pYPKa.+\\.ipynb\", f)])"
   ]
  },
  {
   "cell_type": "code",
   "execution_count": null,
   "metadata": {
    "collapsed": true
   },
   "outputs": [],
   "source": []
  },
  {
   "cell_type": "code",
   "execution_count": 5,
   "metadata": {
    "collapsed": false
   },
   "outputs": [
    {
     "data": {
      "text/plain": [
       "['pYPK0_FBA1_ScTAL1_PDC1.ipynb',\n",
       " 'pYPK0_PGI_ScXKS1_FBA1.ipynb',\n",
       " 'pYPK0_TDH3_SsXYL2_PGI.ipynb',\n",
       " 'pYPK0_TEF1_SsXYL1_TDH3.ipynb']"
      ]
     },
     "execution_count": 5,
     "metadata": {},
     "output_type": "execute_result"
    }
   ],
   "source": [
    "sorted([f for f in os.listdir(\".\") if re.match(\"pYPK0.+\\.ipynb\", f)])"
   ]
  },
  {
   "cell_type": "code",
   "execution_count": null,
   "metadata": {
    "collapsed": true
   },
   "outputs": [],
   "source": [
    "\"pw.ipynb\""
   ]
  },
  {
   "cell_type": "code",
   "execution_count": null,
   "metadata": {
    "collapsed": true
   },
   "outputs": [],
   "source": [
    "pp = ExecutePreprocessor()\n",
    "pp.timeout = 120 # seconds\n",
    "pp.interrupt_on_timeout = True"
   ]
  },
  {
   "cell_type": "code",
   "execution_count": null,
   "metadata": {
    "collapsed": true
   },
   "outputs": [],
   "source": [
    "with io.open(\"pw.ipynb\", 'r', encoding='utf-8') as f: nb = nbformat.read(f, 4)\n",
    "nb_executed, resources = pp.preprocess(nb, resources={})\n",
    "nbformat.write(nb, \"pw.ipynb\")"
   ]
  }
 ],
 "metadata": {
  "kernelspec": {
   "display_name": "Python 2",
   "language": "python",
   "name": "python2"
  },
  "language_info": {
   "codemirror_mode": {
    "name": "ipython",
    "version": 2
   },
   "file_extension": ".py",
   "mimetype": "text/x-python",
   "name": "python",
   "nbconvert_exporter": "python",
   "pygments_lexer": "ipython2",
   "version": "2.7.10"
  }
 },
 "nbformat": 4,
 "nbformat_minor": 0
}
