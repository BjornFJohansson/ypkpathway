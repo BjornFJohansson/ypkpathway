{
 "cells": [
  {
   "cell_type": "markdown",
   "metadata": {},
   "source": [
    "#pYPK0_RPL12Btp_CiGXF1_TDH3tp_PsXYL2_PGI1tp_pw"
   ]
  },
  {
   "cell_type": "markdown",
   "metadata": {},
   "source": [
    "This is an example of running ypkpathway from python or IPython notebook.\n",
    "\n",
    "For runnning from shell, see this notebook [running from command line](running from command line.ipynb)"
   ]
  },
  {
   "cell_type": "code",
   "execution_count": 1,
   "metadata": {
    "collapsed": false
   },
   "outputs": [],
   "source": [
    "with open(\"../tests/pth1.txt\") as f: text = f.read()"
   ]
  },
  {
   "cell_type": "code",
   "execution_count": 2,
   "metadata": {
    "collapsed": true
   },
   "outputs": [],
   "source": [
    "import pydna"
   ]
  },
  {
   "cell_type": "code",
   "execution_count": 3,
   "metadata": {
    "collapsed": false
   },
   "outputs": [],
   "source": [
    "seqs = pydna.parse(text)"
   ]
  },
  {
   "cell_type": "code",
   "execution_count": 4,
   "metadata": {
    "collapsed": false
   },
   "outputs": [
    {
     "data": {
      "text/plain": [
       "2"
      ]
     },
     "execution_count": 4,
     "metadata": {},
     "output_type": "execute_result"
    }
   ],
   "source": [
    "len(seqs)"
   ]
  },
  {
   "cell_type": "code",
   "execution_count": 5,
   "metadata": {
    "collapsed": false
   },
   "outputs": [],
   "source": [
    "from ypkpathway import pathway"
   ]
  },
  {
   "cell_type": "code",
   "execution_count": 6,
   "metadata": {
    "collapsed": false
   },
   "outputs": [
    {
     "name": "stdout",
     "output_type": "stream",
     "text": [
      "created subdirectory mypathway\n",
      "\n",
      "saving files..\n",
      "primers.fasta\n",
      "pYPKa.gb\n",
      "pYPK0_RPL12Btp_CiGXF1_TDH3tp.gb\n",
      "pYPK0_TDH3tp_PsXYL2_PGI1tp.gb\n",
      "pYPKpw.gb\n",
      "\n",
      "executing pYPKa notebooks..\n",
      "No pYPKa notebooks found.\n",
      "executing pYPK0 notebooks..\n",
      "No pYPK0 notebooks found.\n",
      "executing final pathway notebook\n",
      "pw.ipynb\n"
     ]
    },
    {
     "data": {
      "text/html": [
       "<a href='mypathway/pw.ipynb' target='_blank'>mypathway/pw.ipynb</a><br>"
      ],
      "text/plain": [
       "/home/bjorn/python_packages/ypkpathway/scripts/mypathway/pw.ipynb"
      ]
     },
     "execution_count": 6,
     "metadata": {},
     "output_type": "execute_result"
    }
   ],
   "source": [
    "pathway(seqs, \"mypathway\")"
   ]
  },
  {
   "cell_type": "code",
   "execution_count": null,
   "metadata": {
    "collapsed": true
   },
   "outputs": [],
   "source": []
  }
 ],
 "metadata": {
  "kernelspec": {
   "display_name": "Python 2",
   "language": "python",
   "name": "python2"
  },
  "language_info": {
   "codemirror_mode": {
    "name": "ipython",
    "version": 2
   },
   "file_extension": ".py",
   "mimetype": "text/x-python",
   "name": "python",
   "nbconvert_exporter": "python",
   "pygments_lexer": "ipython2",
   "version": "2.7.9"
  }
 },
 "nbformat": 4,
 "nbformat_minor": 0
}
