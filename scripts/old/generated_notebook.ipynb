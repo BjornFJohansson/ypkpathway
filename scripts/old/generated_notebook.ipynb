{
 "metadata": {},
 "nbformat": 3,
 "nbformat_minor": 0,
 "worksheets": [
  {
   "cells": [
    {
     "cell_type": "markdown",
     "metadata": {},
     "source": [
      "Variable1"
     ]
    },
    {
     "cell_type": "code",
     "collapsed": false,
     "input": [
      "print 123"
     ],
     "language": "python",
     "metadata": {},
     "outputs": []
    },
    {
     "cell_type": "markdown",
     "metadata": {},
     "source": [
      "Variable2"
     ]
    },
    {
     "cell_type": "code",
     "collapsed": false,
     "input": [
      "print 123"
     ],
     "language": "python",
     "metadata": {},
     "outputs": []
    },
    {
     "cell_type": "markdown",
     "metadata": {},
     "source": [
      "Variable3"
     ]
    },
    {
     "cell_type": "code",
     "collapsed": false,
     "input": [
      "print 123"
     ],
     "language": "python",
     "metadata": {},
     "outputs": []
    }
   ],
   "metadata": {}
  }
 ]
}