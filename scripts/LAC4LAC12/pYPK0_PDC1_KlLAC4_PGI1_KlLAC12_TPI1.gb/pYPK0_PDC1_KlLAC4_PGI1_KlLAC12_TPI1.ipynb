{
 "cells": [
  {
   "cell_type": "markdown",
   "id": "6c98279b",
   "metadata": {
    "lines_to_next_cell": 0
   },
   "source": [
    "# [![logo](logo.png)](https://github.com/BjornFJohansson/ypkpathway#-ypkpathway) pYPK0_PDC1_KlLAC4_PGI1_KlLAC12_TPI1\n",
    "\n",
    "Assembly of 2 transcriptional units\n",
    "(single gene expression) vectors into a pathway.\n",
    "\n",
    "Jupyter notebooks describing the single gene expression vectors are linked\n",
    "at the end of this document.\n",
    "Specific primers needed are also listed.\n",
    "\n",
    "![pathway with N genes](pw.png \"pathway with N genes\")"
   ]
  },
  {
   "cell_type": "code",
   "execution_count": 1,
   "id": "5e09dc33",
   "metadata": {
    "execution": {
     "iopub.execute_input": "2023-02-05T18:51:00.629345Z",
     "iopub.status.busy": "2023-02-05T18:51:00.628876Z",
     "iopub.status.idle": "2023-02-05T18:51:00.971148Z",
     "shell.execute_reply": "2023-02-05T18:51:00.970480Z"
    }
   },
   "outputs": [],
   "source": [
    "from pydna.parsers import parse_primers\n",
    "from pydna.readers import read\n",
    "from pydna.amplify import pcr\n",
    "from pydna.assembly import Assembly\n",
    "from IPython.display import display\n",
    "from IPython.display import Markdown\n",
    "from pathlib import Path"
   ]
  },
  {
   "cell_type": "markdown",
   "id": "043b813f",
   "metadata": {},
   "source": [
    "The first cassette in the pathway is amplified with standard\n",
    "primers 577 and 778, the last with\n",
    "1123 and 578 and all others with 1123 and 778.\n",
    "Standard primers are listed [here](standard_primers.fasta)."
   ]
  },
  {
   "cell_type": "code",
   "execution_count": 2,
   "id": "524ed188",
   "metadata": {
    "execution": {
     "iopub.execute_input": "2023-02-05T18:51:00.974475Z",
     "iopub.status.busy": "2023-02-05T18:51:00.974065Z",
     "iopub.status.idle": "2023-02-05T18:51:00.986271Z",
     "shell.execute_reply": "2023-02-05T18:51:00.985559Z"
    }
   },
   "outputs": [],
   "source": [
    "p = {x.name: x for x in parse_primers(\"standard_primers.fasta\")}"
   ]
  },
  {
   "cell_type": "markdown",
   "id": "7b327f9d",
   "metadata": {},
   "source": [
    "Restriction enzymes are imported from the Biopython package."
   ]
  },
  {
   "cell_type": "code",
   "execution_count": 3,
   "id": "ec3f8489",
   "metadata": {
    "execution": {
     "iopub.execute_input": "2023-02-05T18:51:00.989941Z",
     "iopub.status.busy": "2023-02-05T18:51:00.989673Z",
     "iopub.status.idle": "2023-02-05T18:51:00.993327Z",
     "shell.execute_reply": "2023-02-05T18:51:00.992665Z"
    }
   },
   "outputs": [],
   "source": [
    "from Bio.Restriction import MfeI, NotI, PacI"
   ]
  },
  {
   "cell_type": "markdown",
   "id": "110db688",
   "metadata": {},
   "source": [
    "The backbone vector is linearized by digestion\n",
    "with [MfeI](https://www.google.com/search?q=MfeI)."
   ]
  },
  {
   "cell_type": "code",
   "execution_count": 4,
   "id": "5c3de2a8",
   "metadata": {
    "execution": {
     "iopub.execute_input": "2023-02-05T18:51:00.996585Z",
     "iopub.status.busy": "2023-02-05T18:51:00.996326Z",
     "iopub.status.idle": "2023-02-05T18:51:01.008080Z",
     "shell.execute_reply": "2023-02-05T18:51:01.007309Z"
    }
   },
   "outputs": [],
   "source": [
    "backbone = read(\"pYPK0.gb\")"
   ]
  },
  {
   "cell_type": "markdown",
   "id": "d51e2981",
   "metadata": {},
   "source": [
    "The cassette__pcr_products variable holds the list of expression\n",
    "cassette PCR products fragments to be assembled."
   ]
  },
  {
   "cell_type": "code",
   "execution_count": 5,
   "id": "a72e51f8",
   "metadata": {
    "execution": {
     "iopub.execute_input": "2023-02-05T18:51:01.011781Z",
     "iopub.status.busy": "2023-02-05T18:51:01.011189Z",
     "iopub.status.idle": "2023-02-05T18:51:01.015026Z",
     "shell.execute_reply": "2023-02-05T18:51:01.014334Z"
    }
   },
   "outputs": [],
   "source": [
    "cassette_pcr_products = []"
   ]
  },
  {
   "cell_type": "markdown",
   "id": "85bee82a",
   "metadata": {},
   "source": [
    "The expression cassettes comes from a series of single gene expression\n",
    "vectors held in the template_vectors list."
   ]
  },
  {
   "cell_type": "code",
   "execution_count": 6,
   "id": "bc7922b9",
   "metadata": {
    "execution": {
     "iopub.execute_input": "2023-02-05T18:51:01.018728Z",
     "iopub.status.busy": "2023-02-05T18:51:01.018211Z",
     "iopub.status.idle": "2023-02-05T18:51:01.022110Z",
     "shell.execute_reply": "2023-02-05T18:51:01.021317Z"
    },
    "lines_to_next_cell": 0
   },
   "outputs": [],
   "source": [
    "cassette_vectors = (\"\"\"\n",
    "pYPK0_PDC1_KlLAC4_PGI1.gb\n",
    "pYPK0_PGI1_KlLAC12_TPI1.gb\n",
    "\"\"\").split()"
   ]
  },
  {
   "cell_type": "code",
   "execution_count": 7,
   "id": "5b2c5585",
   "metadata": {
    "execution": {
     "iopub.execute_input": "2023-02-05T18:51:01.025364Z",
     "iopub.status.busy": "2023-02-05T18:51:01.025040Z",
     "iopub.status.idle": "2023-02-05T18:51:01.035863Z",
     "shell.execute_reply": "2023-02-05T18:51:01.035027Z"
    },
    "lines_to_next_cell": 0
   },
   "outputs": [
    {
     "data": {
      "text/plain": [
       "['pYPK0_PDC1_KlLAC4_PGI1.gb', 'pYPK0_PGI1_KlLAC12_TPI1.gb']"
      ]
     },
     "execution_count": 7,
     "metadata": {},
     "output_type": "execute_result"
    }
   ],
   "source": [
    "cassette_vectors"
   ]
  },
  {
   "cell_type": "code",
   "execution_count": 8,
   "id": "6029d91f",
   "metadata": {
    "execution": {
     "iopub.execute_input": "2023-02-05T18:51:01.039248Z",
     "iopub.status.busy": "2023-02-05T18:51:01.038702Z",
     "iopub.status.idle": "2023-02-05T18:51:01.075792Z",
     "shell.execute_reply": "2023-02-05T18:51:01.074783Z"
    },
    "lines_to_next_cell": 0
   },
   "outputs": [],
   "source": [
    "template_vectors = [read(v) for v in cassette_vectors]"
   ]
  },
  {
   "cell_type": "code",
   "execution_count": 9,
   "id": "8f9b42b7",
   "metadata": {
    "execution": {
     "iopub.execute_input": "2023-02-05T18:51:01.078972Z",
     "iopub.status.busy": "2023-02-05T18:51:01.078693Z",
     "iopub.status.idle": "2023-02-05T18:51:01.085831Z",
     "shell.execute_reply": "2023-02-05T18:51:01.085243Z"
    },
    "lines_to_next_cell": 0
   },
   "outputs": [
    {
     "data": {
      "text/html": [
       "<a href='pYPK0_PDC1_KlLAC4_PGI1.gb' target='_blank'>pYPK0_PDC1_KlLAC4_PGI1.gb</a><br>"
      ],
      "text/plain": [
       "File(id)(o10824)"
      ]
     },
     "metadata": {},
     "output_type": "display_data"
    },
    {
     "data": {
      "text/html": [
       "<a href='pYPK0_PGI1_KlLAC12_TPI1.gb' target='_blank'>pYPK0_PGI1_KlLAC12_TPI1.gb</a><br>"
      ],
      "text/plain": [
       "File(id)(o9137)"
      ]
     },
     "metadata": {},
     "output_type": "display_data"
    }
   ],
   "source": [
    "for tv in template_vectors:\n",
    "    display(tv)"
   ]
  },
  {
   "cell_type": "markdown",
   "id": "55fc4277",
   "metadata": {},
   "source": [
    "The first cassette in the pathway.\n",
    "Suggested PCR conditions can be found at the end of this document."
   ]
  },
  {
   "cell_type": "code",
   "execution_count": 10,
   "id": "89ddfd69",
   "metadata": {
    "execution": {
     "iopub.execute_input": "2023-02-05T18:51:01.090338Z",
     "iopub.status.busy": "2023-02-05T18:51:01.089674Z",
     "iopub.status.idle": "2023-02-05T18:51:01.094185Z",
     "shell.execute_reply": "2023-02-05T18:51:01.093502Z"
    }
   },
   "outputs": [],
   "source": [
    "\n",
    "fp_first = p['577_crp585-557']\n",
    "fp = p['1123_New775']\n",
    "rp = p['778_tp_Eco32I_rev']\n",
    "rp_last = p['578_crp42-70']"
   ]
  },
  {
   "cell_type": "code",
   "execution_count": 11,
   "id": "791f636e",
   "metadata": {
    "execution": {
     "iopub.execute_input": "2023-02-05T18:51:01.097497Z",
     "iopub.status.busy": "2023-02-05T18:51:01.097085Z",
     "iopub.status.idle": "2023-02-05T18:51:01.116779Z",
     "shell.execute_reply": "2023-02-05T18:51:01.116203Z"
    }
   },
   "outputs": [],
   "source": [
    "cassette_pcr_products.append(pcr(fp_first, rp, template_vectors[0]))"
   ]
  },
  {
   "cell_type": "markdown",
   "id": "873b0c01",
   "metadata": {},
   "source": [
    "Intermediary cassettes"
   ]
  },
  {
   "cell_type": "code",
   "execution_count": 12,
   "id": "8acc1487",
   "metadata": {
    "execution": {
     "iopub.execute_input": "2023-02-05T18:51:01.121307Z",
     "iopub.status.busy": "2023-02-05T18:51:01.120483Z",
     "iopub.status.idle": "2023-02-05T18:51:01.124831Z",
     "shell.execute_reply": "2023-02-05T18:51:01.124151Z"
    }
   },
   "outputs": [],
   "source": [
    "cassette_pcr_products.extend(pcr(fp, rp, v)\n",
    "                             for v in template_vectors[1:-1])"
   ]
  },
  {
   "cell_type": "markdown",
   "id": "94079a5a",
   "metadata": {},
   "source": [
    "The last cassette in the pathway."
   ]
  },
  {
   "cell_type": "code",
   "execution_count": 13,
   "id": "79e5bea3",
   "metadata": {
    "execution": {
     "iopub.execute_input": "2023-02-05T18:51:01.129019Z",
     "iopub.status.busy": "2023-02-05T18:51:01.128626Z",
     "iopub.status.idle": "2023-02-05T18:51:01.151077Z",
     "shell.execute_reply": "2023-02-05T18:51:01.150039Z"
    }
   },
   "outputs": [],
   "source": [
    "cassette_pcr_products.append(pcr(fp, rp_last, template_vectors[-1]))"
   ]
  },
  {
   "cell_type": "markdown",
   "id": "72c640bb",
   "metadata": {},
   "source": [
    "The cassettes are given names based on the tu cassette"
   ]
  },
  {
   "cell_type": "code",
   "execution_count": 14,
   "id": "57c367c4",
   "metadata": {
    "execution": {
     "iopub.execute_input": "2023-02-05T18:51:01.158132Z",
     "iopub.status.busy": "2023-02-05T18:51:01.157572Z",
     "iopub.status.idle": "2023-02-05T18:51:01.163515Z",
     "shell.execute_reply": "2023-02-05T18:51:01.162442Z"
    }
   },
   "outputs": [
    {
     "name": "stdout",
     "output_type": "stream",
     "text": [
      "PDC1_KlLAC4_PGI1\n",
      "PGI1_KlLAC12_TPI1\n"
     ]
    }
   ],
   "source": [
    "for cp, ve in zip(cassette_pcr_products, cassette_vectors):\n",
    "    cp.name = ve[:-3].split(\"_\", maxsplit=1)[1]\n",
    "    print(cp.name)"
   ]
  },
  {
   "cell_type": "markdown",
   "id": "7738ec14",
   "metadata": {},
   "source": [
    "Cassettes and linear plasmid backbone are joined by homologous recombination"
   ]
  },
  {
   "cell_type": "code",
   "execution_count": 15,
   "id": "e3e858ff",
   "metadata": {
    "execution": {
     "iopub.execute_input": "2023-02-05T18:51:01.166525Z",
     "iopub.status.busy": "2023-02-05T18:51:01.166175Z",
     "iopub.status.idle": "2023-02-05T18:51:01.714368Z",
     "shell.execute_reply": "2023-02-05T18:51:01.713805Z"
    }
   },
   "outputs": [
    {
     "data": {
      "text/plain": [
       "Assembly\n",
       "fragments..: 5766bp 5324bp 3770bp\n",
       "limit(bp)..: 110\n",
       "G.nodes....: 6\n",
       "algorithm..: common_sub_strings"
      ]
     },
     "execution_count": 15,
     "metadata": {},
     "output_type": "execute_result"
    }
   ],
   "source": [
    "asm = Assembly([backbone.linearize(MfeI)] + cassette_pcr_products,\n",
    "               limit=167-47-10)\n",
    "asm"
   ]
  },
  {
   "cell_type": "markdown",
   "id": "7b45e0b9",
   "metadata": {},
   "source": [
    "There should normally be two candidates of equal size.\n",
    "These sequences should be identical."
   ]
  },
  {
   "cell_type": "code",
   "execution_count": 16,
   "id": "3b227ec1",
   "metadata": {
    "execution": {
     "iopub.execute_input": "2023-02-05T18:51:01.717099Z",
     "iopub.status.busy": "2023-02-05T18:51:01.716877Z",
     "iopub.status.idle": "2023-02-05T18:51:01.938257Z",
     "shell.execute_reply": "2023-02-05T18:51:01.937598Z"
    },
    "lines_to_next_cell": 0
   },
   "outputs": [
    {
     "data": {
      "text/plain": [
       "[Contig(o13267), Contig(o13267)]"
      ]
     },
     "execution_count": 16,
     "metadata": {},
     "output_type": "execute_result"
    }
   ],
   "source": [
    "candidates = asm.assemble_circular()\n",
    "candidates"
   ]
  },
  {
   "cell_type": "code",
   "execution_count": 17,
   "id": "8f83405f",
   "metadata": {
    "execution": {
     "iopub.execute_input": "2023-02-05T18:51:01.941183Z",
     "iopub.status.busy": "2023-02-05T18:51:01.940758Z",
     "iopub.status.idle": "2023-02-05T18:51:01.944767Z",
     "shell.execute_reply": "2023-02-05T18:51:01.943466Z"
    },
    "lines_to_next_cell": 0
   },
   "outputs": [],
   "source": [
    "candidate, *rest = candidates"
   ]
  },
  {
   "cell_type": "code",
   "execution_count": 18,
   "id": "670c6475",
   "metadata": {
    "execution": {
     "iopub.execute_input": "2023-02-05T18:51:01.949613Z",
     "iopub.status.busy": "2023-02-05T18:51:01.949097Z",
     "iopub.status.idle": "2023-02-05T18:51:01.988807Z",
     "shell.execute_reply": "2023-02-05T18:51:01.987711Z"
    },
    "lines_to_next_cell": 0
   },
   "outputs": [
    {
     "data": {
      "text/plain": [
       "True"
      ]
     },
     "execution_count": 18,
     "metadata": {},
     "output_type": "execute_result"
    }
   ],
   "source": [
    "candidate.cseguid() == rest[0].cseguid()"
   ]
  },
  {
   "cell_type": "markdown",
   "id": "a8e74357",
   "metadata": {},
   "source": [
    "This assembly figure below shows how the fragments came together."
   ]
  },
  {
   "cell_type": "code",
   "execution_count": 19,
   "id": "55d8f296",
   "metadata": {
    "execution": {
     "iopub.execute_input": "2023-02-05T18:51:01.992994Z",
     "iopub.status.busy": "2023-02-05T18:51:01.992507Z",
     "iopub.status.idle": "2023-02-05T18:51:02.000009Z",
     "shell.execute_reply": "2023-02-05T18:51:01.999006Z"
    }
   },
   "outputs": [
    {
     "data": {
      "text/plain": [
       " -|pYPK0_lin|168\n",
       "|            \\/\n",
       "|            /\\\n",
       "|            168|PDC1_KlLAC4_PGI1|1013\n",
       "|                                 \\/\n",
       "|                                 /\\\n",
       "|                                 1013|PGI1_KlLAC12_TPI1|276\n",
       "|                                                        \\/\n",
       "|                                                        /\\\n",
       "|                                                        276-\n",
       "|                                                           |\n",
       " -----------------------------------------------------------"
      ]
     },
     "execution_count": 19,
     "metadata": {},
     "output_type": "execute_result"
    }
   ],
   "source": [
    "candidate.figure()"
   ]
  },
  {
   "cell_type": "markdown",
   "id": "fe34a4cd",
   "metadata": {},
   "source": [
    "The candidate vector is synchronized to the 577 primer. This means that\n",
    "the plasmid origin is shifted so that it matches the backbone vector."
   ]
  },
  {
   "cell_type": "code",
   "execution_count": 20,
   "id": "6253cd00",
   "metadata": {
    "execution": {
     "iopub.execute_input": "2023-02-05T18:51:02.006751Z",
     "iopub.status.busy": "2023-02-05T18:51:02.005942Z",
     "iopub.status.idle": "2023-02-05T18:51:02.536554Z",
     "shell.execute_reply": "2023-02-05T18:51:02.535927Z"
    }
   },
   "outputs": [],
   "source": [
    "pw = candidate.synced(fp_first)"
   ]
  },
  {
   "cell_type": "markdown",
   "id": "e0240e1f",
   "metadata": {},
   "source": [
    "The cseguid checksum for the resulting plasmid is calculated for future\n",
    "reference.\n",
    "The [cseguid checksum](\n",
    "http://pydna.readthedocs.org/en/latest/pydna.html#pydna.utils.cseguid)\n",
    "uniquely identifies a circular double stranded sequence."
   ]
  },
  {
   "cell_type": "code",
   "execution_count": 21,
   "id": "237793e1",
   "metadata": {
    "execution": {
     "iopub.execute_input": "2023-02-05T18:51:02.539482Z",
     "iopub.status.busy": "2023-02-05T18:51:02.539212Z",
     "iopub.status.idle": "2023-02-05T18:51:02.553499Z",
     "shell.execute_reply": "2023-02-05T18:51:02.552863Z"
    }
   },
   "outputs": [
    {
     "data": {
      "text/plain": [
       "'yljyOOnc6_A44a08BJ3D0AKiBfk'"
      ]
     },
     "execution_count": 21,
     "metadata": {},
     "output_type": "execute_result"
    }
   ],
   "source": [
    "pw.cseguid()"
   ]
  },
  {
   "cell_type": "markdown",
   "id": "1f36eddd",
   "metadata": {},
   "source": [
    "The file is given a name based on the sequence of expressed genes."
   ]
  },
  {
   "cell_type": "code",
   "execution_count": 22,
   "id": "b57500ad",
   "metadata": {
    "execution": {
     "iopub.execute_input": "2023-02-05T18:51:02.556326Z",
     "iopub.status.busy": "2023-02-05T18:51:02.555925Z",
     "iopub.status.idle": "2023-02-05T18:51:02.558954Z",
     "shell.execute_reply": "2023-02-05T18:51:02.558454Z"
    }
   },
   "outputs": [],
   "source": [
    "pw.locus = \"pw\"\n",
    "pw.definition = \"pYPK0_PDC1_KlLAC4_PGI1_KlLAC12_TPI1\""
   ]
  },
  {
   "cell_type": "markdown",
   "id": "418540c0",
   "metadata": {},
   "source": [
    "Sequence stamped with cseguid checksum.\n",
    "This can be used to verify the integrity of the sequence file."
   ]
  },
  {
   "cell_type": "code",
   "execution_count": 23,
   "id": "e412c873",
   "metadata": {
    "execution": {
     "iopub.execute_input": "2023-02-05T18:51:02.561547Z",
     "iopub.status.busy": "2023-02-05T18:51:02.561148Z",
     "iopub.status.idle": "2023-02-05T18:51:02.577609Z",
     "shell.execute_reply": "2023-02-05T18:51:02.577034Z"
    }
   },
   "outputs": [
    {
     "data": {
      "text/plain": [
       "yljyOOnc6_A44a08BJ3D0AKiBfk"
      ]
     },
     "execution_count": 23,
     "metadata": {},
     "output_type": "execute_result"
    }
   ],
   "source": [
    "pw.stamp(\"cSEGUID\")"
   ]
  },
  {
   "cell_type": "markdown",
   "id": "60728b96",
   "metadata": {},
   "source": [
    "Write sequence to a local file."
   ]
  },
  {
   "cell_type": "code",
   "execution_count": 24,
   "id": "2df7a69c",
   "metadata": {
    "execution": {
     "iopub.execute_input": "2023-02-05T18:51:02.580508Z",
     "iopub.status.busy": "2023-02-05T18:51:02.580212Z",
     "iopub.status.idle": "2023-02-05T18:51:02.586829Z",
     "shell.execute_reply": "2023-02-05T18:51:02.586299Z"
    }
   },
   "outputs": [
    {
     "data": {
      "text/html": [
       "<font face=monospace><a href='pYPK0_PDC1_KlLAC4_PGI1_KlLAC12_TPI1.gb' target='_blank'>pYPK0_PDC1_KlLAC4_PGI1_KlLAC12_TPI1.gb</a></font><br>"
      ]
     },
     "metadata": {},
     "output_type": "display_data"
    }
   ],
   "source": [
    "pw.write(\"pYPK0_PDC1_KlLAC4_PGI1_KlLAC12_TPI1.gb\")"
   ]
  },
  {
   "cell_type": "markdown",
   "id": "58bf55f6",
   "metadata": {},
   "source": [
    "The pathway can be extended by digestion with either NotI or PacI or both\n",
    "provided that the enzymes cut once in the final pathway sequence."
   ]
  },
  {
   "cell_type": "code",
   "execution_count": 25,
   "id": "fdd26fca",
   "metadata": {
    "execution": {
     "iopub.execute_input": "2023-02-05T18:51:02.589493Z",
     "iopub.status.busy": "2023-02-05T18:51:02.589277Z",
     "iopub.status.idle": "2023-02-05T18:51:02.610554Z",
     "shell.execute_reply": "2023-02-05T18:51:02.609928Z"
    }
   },
   "outputs": [
    {
     "name": "stdout",
     "output_type": "stream",
     "text": [
      "NotI cuts 1 time(s) and PacI cuts 3 time(s) in the final pathway.\n"
     ]
    }
   ],
   "source": [
    "print(f\"NotI cuts {len(pw.cut(NotI))} time(s) and PacI cuts \"\n",
    "      f\"{len(pw.cut(PacI))} time(s) in the final pathway.\")"
   ]
  },
  {
   "cell_type": "markdown",
   "id": "df09c98e",
   "metadata": {
    "lines_to_next_cell": 0
   },
   "source": [
    "### Transcriptional unit (single gene expression) vectors needed."
   ]
  },
  {
   "cell_type": "code",
   "execution_count": 26,
   "id": "1ec96027",
   "metadata": {
    "execution": {
     "iopub.execute_input": "2023-02-05T18:51:02.613233Z",
     "iopub.status.busy": "2023-02-05T18:51:02.613021Z",
     "iopub.status.idle": "2023-02-05T18:51:02.618434Z",
     "shell.execute_reply": "2023-02-05T18:51:02.617880Z"
    }
   },
   "outputs": [
    {
     "data": {
      "text/markdown": [
       "[pYPK0_PDC1_KlLAC4_PGI1.ipynb](pYPK0_PDC1_KlLAC4_PGI1.ipynb)"
      ],
      "text/plain": [
       "<IPython.core.display.Markdown object>"
      ]
     },
     "metadata": {},
     "output_type": "display_data"
    },
    {
     "data": {
      "text/markdown": [
       "[pYPK0_PGI1_KlLAC12_TPI1.ipynb](pYPK0_PGI1_KlLAC12_TPI1.ipynb)"
      ],
      "text/plain": [
       "<IPython.core.display.Markdown object>"
      ]
     },
     "metadata": {},
     "output_type": "display_data"
    }
   ],
   "source": [
    "for cv in cassette_vectors:\n",
    "    cassette_vector = Path(cv).with_suffix('.ipynb')\n",
    "    display(Markdown(f\"[{cassette_vector}]({cassette_vector})\"))"
   ]
  },
  {
   "cell_type": "markdown",
   "id": "7beb3a88",
   "metadata": {
    "lines_to_next_cell": 0
   },
   "source": [
    "### Suggested PCR conditions"
   ]
  },
  {
   "cell_type": "code",
   "execution_count": 27,
   "id": "7c68d2f0",
   "metadata": {
    "execution": {
     "iopub.execute_input": "2023-02-05T18:51:02.621687Z",
     "iopub.status.busy": "2023-02-05T18:51:02.621360Z",
     "iopub.status.idle": "2023-02-05T18:51:02.628249Z",
     "shell.execute_reply": "2023-02-05T18:51:02.627483Z"
    }
   },
   "outputs": [
    {
     "name": "stdout",
     "output_type": "stream",
     "text": [
      "\n",
      "\n",
      "\n",
      "\n",
      "\n",
      "product name: PDC1_KlLAC4_PGI1\n",
      "forward primer 577_crp585-557\n",
      "reverse primer 778_tp_Eco32I_rev\n",
      "|95°C|95°C               |    |tmf:64.6\n",
      "|____|_____          72°C|72°C|tmr:53.9\n",
      "|3min|30s  \\ 54.6°C _____|____|45s/kb\n",
      "|    |      \\______/ 3:59|5min|GC 40%\n",
      "|    |       30s         |    |5324bp\n",
      "\n",
      "\n",
      "\n",
      "\n",
      "\n",
      "product name: PGI1_KlLAC12_TPI1\n",
      "forward primer 1123_New775\n",
      "reverse primer 578_crp42-70\n",
      "|95°C|95°C               |    |tmf:70.4\n",
      "|____|_____          72°C|72°C|tmr:65.0\n",
      "|3min|30s  \\ 57.7°C _____|____|45s/kb\n",
      "|    |      \\______/ 2:49|5min|GC 39%\n",
      "|    |       30s         |    |3770bp\n"
     ]
    }
   ],
   "source": [
    "for prd in cassette_pcr_products:\n",
    "    print(\"\\n\\n\\n\\n\")\n",
    "    print(\"product name:\", prd.name)\n",
    "    print(\"forward primer\", prd.forward_primer.name)\n",
    "    print(\"reverse primer\", prd.reverse_primer.name)\n",
    "    print(prd.program())"
   ]
  }
 ],
 "metadata": {
  "jupytext": {
   "main_language": "python",
   "text_representation": {
    "extension": ".py",
    "format_name": "percent",
    "format_version": "1.3",
    "jupytext_version": "1.14.0"
   }
  },
  "language_info": {
   "codemirror_mode": {
    "name": "ipython",
    "version": 3
   },
   "file_extension": ".py",
   "mimetype": "text/x-python",
   "name": "python",
   "nbconvert_exporter": "python",
   "pygments_lexer": "ipython3",
   "version": "3.11.0"
  }
 },
 "nbformat": 4,
 "nbformat_minor": 5
}
