{
 "cells": [
  {
   "cell_type": "markdown",
   "id": "3de59f53",
   "metadata": {},
   "source": [
    "# [![logo](logo.png)](https://github.com/BjornFJohansson/ypkpathway#-ypkpathway) pYPK0_PDC1_KlLAC4_PGI1\n",
    "\n",
    "Assembly of a [_Saccharomyces cerevisiae_](http://www.yeastgenome.org) transcriptional unit vector.\n",
    "\n",
    "Made from a linear vector fragment and three PCR products:\n",
    "\n",
    "- a linearized pYPK0 vector for maintenance in _S. cerevisiae_ or _E. coli_ (red dashed line in figure below)\n",
    "- a promoter PCR product from the `pYPKa_Z_PDC1` vector\n",
    "- a gene PCR product from the `pYPKa_A_KlLAC4` vector\n",
    "- a terminator PCR product from the `pYPKa_E_PGI1` vector\n",
    "\n",
    "The four linear DNA fragments are joined by _in-vivo_ homologous recombination in a\n",
    "[_Saccharomyces cerevisiae_](http://wiki.yeastgenome.org/index.php/Commonly_used_strains) strain.\n",
    "\n",
    "![tu](tu.png \"tu\")\n",
    "\n",
    "A part of the [pydna](https://pypi.python.org/pypi/pydna/) package is imported in the code cell below."
   ]
  },
  {
   "cell_type": "code",
   "execution_count": 1,
   "id": "2c0baf4e",
   "metadata": {
    "execution": {
     "iopub.execute_input": "2023-02-05T18:50:43.640974Z",
     "iopub.status.busy": "2023-02-05T18:50:43.640136Z",
     "iopub.status.idle": "2023-02-05T18:50:43.986430Z",
     "shell.execute_reply": "2023-02-05T18:50:43.985779Z"
    }
   },
   "outputs": [],
   "source": [
    "from pydna.parsers import parse_primers\n",
    "from pydna.readers import read\n",
    "from pydna.amplify import pcr\n",
    "from pydna.assembly import Assembly"
   ]
  },
  {
   "cell_type": "markdown",
   "id": "be4a0df2",
   "metadata": {},
   "source": [
    "The Yeast Pathway Kit [standard primers](standard_primers.fasta) are read into a dictionary in the code cell below."
   ]
  },
  {
   "cell_type": "code",
   "execution_count": 2,
   "id": "70d81181",
   "metadata": {
    "execution": {
     "iopub.execute_input": "2023-02-05T18:50:43.989954Z",
     "iopub.status.busy": "2023-02-05T18:50:43.989473Z",
     "iopub.status.idle": "2023-02-05T18:50:43.998724Z",
     "shell.execute_reply": "2023-02-05T18:50:43.998122Z"
    }
   },
   "outputs": [],
   "source": [
    "p = {x.name: x for x in parse_primers(\"standard_primers.fasta\")}"
   ]
  },
  {
   "cell_type": "markdown",
   "id": "caa6aec9",
   "metadata": {},
   "source": [
    "The backbone vector [pYPK0](pYPK0.gb) is read from a local file in the code cell below."
   ]
  },
  {
   "cell_type": "code",
   "execution_count": 3,
   "id": "8b240171",
   "metadata": {
    "execution": {
     "iopub.execute_input": "2023-02-05T18:50:44.002782Z",
     "iopub.status.busy": "2023-02-05T18:50:44.002473Z",
     "iopub.status.idle": "2023-02-05T18:50:44.015618Z",
     "shell.execute_reply": "2023-02-05T18:50:44.015017Z"
    }
   },
   "outputs": [],
   "source": [
    "backbone = read(\"pYPK0.gb\")"
   ]
  },
  {
   "cell_type": "markdown",
   "id": "82984ef6",
   "metadata": {},
   "source": [
    "The backbone vector is linearized by digestion with [MfeI](https://www.google.com/search?q=MfeI)."
   ]
  },
  {
   "cell_type": "code",
   "execution_count": 4,
   "id": "c84d2ed1",
   "metadata": {
    "execution": {
     "iopub.execute_input": "2023-02-05T18:50:44.018542Z",
     "iopub.status.busy": "2023-02-05T18:50:44.018266Z",
     "iopub.status.idle": "2023-02-05T18:50:44.021398Z",
     "shell.execute_reply": "2023-02-05T18:50:44.020896Z"
    }
   },
   "outputs": [],
   "source": [
    "from Bio.Restriction import MfeI"
   ]
  },
  {
   "cell_type": "code",
   "execution_count": 5,
   "id": "3901a692",
   "metadata": {
    "execution": {
     "iopub.execute_input": "2023-02-05T18:50:44.024955Z",
     "iopub.status.busy": "2023-02-05T18:50:44.024594Z",
     "iopub.status.idle": "2023-02-05T18:50:44.033603Z",
     "shell.execute_reply": "2023-02-05T18:50:44.032907Z"
    }
   },
   "outputs": [],
   "source": [
    "linear_backbone = backbone.linearize(MfeI)"
   ]
  },
  {
   "cell_type": "markdown",
   "id": "5ffe0674",
   "metadata": {},
   "source": [
    "The pYPKa derived _E. coli_ plasmids containing\n",
    "- [promoter](pYPKa_Z_PDC1.gb)\n",
    "- [gene](pYPKa_A_KlLAC4.gb)\n",
    "- [terminator](pYPKa_E_PGI1.gb)\n",
    "\n",
    "are read into three variables below."
   ]
  },
  {
   "cell_type": "code",
   "execution_count": 6,
   "id": "00306914",
   "metadata": {
    "execution": {
     "iopub.execute_input": "2023-02-05T18:50:44.036934Z",
     "iopub.status.busy": "2023-02-05T18:50:44.036689Z",
     "iopub.status.idle": "2023-02-05T18:50:44.055964Z",
     "shell.execute_reply": "2023-02-05T18:50:44.055347Z"
    }
   },
   "outputs": [],
   "source": [
    "promoter_template   = read(\"pYPKa_Z_PDC1.gb\")\n",
    "gene_template       = read(\"pYPKa_A_KlLAC4.gb\")\n",
    "terminator_template = read(\"pYPKa_E_PGI1.gb\")"
   ]
  },
  {
   "cell_type": "markdown",
   "id": "9ecfcc8c",
   "metadata": {
    "lines_to_next_cell": 0
   },
   "source": [
    "### PCR\n",
    "Three DNA fragments are PCR amplified using [standard primers](standard_primers.fasta).\n",
    "\n",
    "[Suggested PCR programs](#Suggested-PCR-programs) can be found at the end of this document."
   ]
  },
  {
   "cell_type": "code",
   "execution_count": 7,
   "id": "064214ff",
   "metadata": {
    "execution": {
     "iopub.execute_input": "2023-02-05T18:50:44.058897Z",
     "iopub.status.busy": "2023-02-05T18:50:44.058687Z",
     "iopub.status.idle": "2023-02-05T18:50:44.062054Z",
     "shell.execute_reply": "2023-02-05T18:50:44.061510Z"
    }
   },
   "outputs": [],
   "source": [
    "\n",
    "fp_prom = p['577_crp585-557']\n",
    "rp_prom = p['567_pCAPsAjiIF']\n",
    "fp_gene = p['468_pCAPs_release_fw']\n",
    "rp_gene = p['467_pCAPs_release_re']\n",
    "fp_term = p['568_pCAPsAjiIR']\n",
    "rp_term = p['578_crp42-70']"
   ]
  },
  {
   "cell_type": "code",
   "execution_count": 8,
   "id": "54293fef",
   "metadata": {
    "execution": {
     "iopub.execute_input": "2023-02-05T18:50:44.064291Z",
     "iopub.status.busy": "2023-02-05T18:50:44.064060Z",
     "iopub.status.idle": "2023-02-05T18:50:44.089449Z",
     "shell.execute_reply": "2023-02-05T18:50:44.088905Z"
    }
   },
   "outputs": [],
   "source": [
    "prom = pcr(fp_prom, rp_prom, promoter_template)\n",
    "gene = pcr(fp_gene, rp_gene, gene_template)\n",
    "term = pcr(fp_term, rp_term, terminator_template)"
   ]
  },
  {
   "cell_type": "code",
   "execution_count": 9,
   "id": "19d5d2aa",
   "metadata": {
    "execution": {
     "iopub.execute_input": "2023-02-05T18:50:44.092262Z",
     "iopub.status.busy": "2023-02-05T18:50:44.092068Z",
     "iopub.status.idle": "2023-02-05T18:50:44.095224Z",
     "shell.execute_reply": "2023-02-05T18:50:44.094690Z"
    }
   },
   "outputs": [],
   "source": [
    "prom.name = \"pYPKa_Z_PDC1\"[8:]\n",
    "gene.name = \"pYPKa_A_KlLAC4\"[8:]\n",
    "term.name = \"pYPKa_E_PGI1\"[8:]"
   ]
  },
  {
   "cell_type": "markdown",
   "id": "32869c66",
   "metadata": {},
   "source": [
    "\n",
    "The fragments will be assembled by _in-vivo_ [homologous recombination](http://www.ncbi.nlm.nih.gov/pubmed/2828185):"
   ]
  },
  {
   "cell_type": "code",
   "execution_count": 10,
   "id": "6cc57957",
   "metadata": {
    "execution": {
     "iopub.execute_input": "2023-02-05T18:50:44.098247Z",
     "iopub.status.busy": "2023-02-05T18:50:44.097899Z",
     "iopub.status.idle": "2023-02-05T18:50:44.645792Z",
     "shell.execute_reply": "2023-02-05T18:50:44.645262Z"
    }
   },
   "outputs": [
    {
     "data": {
      "text/plain": [
       "Assembly\n",
       "fragments..: 5766bp 1187bp 3167bp 1339bp\n",
       "limit(bp)..: 31\n",
       "G.nodes....: 10\n",
       "algorithm..: common_sub_strings"
      ]
     },
     "execution_count": 10,
     "metadata": {},
     "output_type": "execute_result"
    }
   ],
   "source": [
    "asm = Assembly((linear_backbone, prom, gene, term), limit=31)\n",
    "asm"
   ]
  },
  {
   "cell_type": "markdown",
   "id": "0c183236",
   "metadata": {},
   "source": [
    "The Assembly object above should normally indicate four fragments and eight nodes."
   ]
  },
  {
   "cell_type": "code",
   "execution_count": 11,
   "id": "2a37d28e",
   "metadata": {
    "execution": {
     "iopub.execute_input": "2023-02-05T18:50:44.648520Z",
     "iopub.status.busy": "2023-02-05T18:50:44.648284Z",
     "iopub.status.idle": "2023-02-05T18:50:44.868397Z",
     "shell.execute_reply": "2023-02-05T18:50:44.867848Z"
    },
    "lines_to_next_cell": 0
   },
   "outputs": [
    {
     "data": {
      "text/plain": [
       "[Contig(o10824), Contig(o10824), Contig(o10824), Contig(o9855), Contig(o9855)]"
      ]
     },
     "execution_count": 11,
     "metadata": {},
     "output_type": "execute_result"
    }
   ],
   "source": [
    "candidates = asm.assemble_circular()\n",
    "candidates"
   ]
  },
  {
   "cell_type": "markdown",
   "id": "4bc433a8",
   "metadata": {},
   "source": [
    "There should normally be two candidates of equal size. These sequences should be identical."
   ]
  },
  {
   "cell_type": "code",
   "execution_count": 12,
   "id": "88bfd133",
   "metadata": {
    "execution": {
     "iopub.execute_input": "2023-02-05T18:50:44.871166Z",
     "iopub.status.busy": "2023-02-05T18:50:44.870811Z",
     "iopub.status.idle": "2023-02-05T18:50:44.873776Z",
     "shell.execute_reply": "2023-02-05T18:50:44.873287Z"
    },
    "lines_to_next_cell": 0
   },
   "outputs": [],
   "source": [
    "candidate, *rest = candidates"
   ]
  },
  {
   "cell_type": "code",
   "execution_count": 13,
   "id": "27446d76",
   "metadata": {
    "execution": {
     "iopub.execute_input": "2023-02-05T18:50:44.876614Z",
     "iopub.status.busy": "2023-02-05T18:50:44.876241Z",
     "iopub.status.idle": "2023-02-05T18:50:44.900003Z",
     "shell.execute_reply": "2023-02-05T18:50:44.899465Z"
    },
    "lines_to_next_cell": 0
   },
   "outputs": [
    {
     "data": {
      "text/plain": [
       "True"
      ]
     },
     "execution_count": 13,
     "metadata": {},
     "output_type": "execute_result"
    }
   ],
   "source": [
    "candidate.cseguid() == rest[0].cseguid()"
   ]
  },
  {
   "cell_type": "code",
   "execution_count": 14,
   "id": "1575d3b7",
   "metadata": {
    "execution": {
     "iopub.execute_input": "2023-02-05T18:50:44.902699Z",
     "iopub.status.busy": "2023-02-05T18:50:44.902407Z",
     "iopub.status.idle": "2023-02-05T18:50:44.908217Z",
     "shell.execute_reply": "2023-02-05T18:50:44.907345Z"
    },
    "lines_to_next_cell": 0
   },
   "outputs": [
    {
     "data": {
      "text/plain": [
       " -|pYPK0_lin|168\n",
       "|            \\/\n",
       "|            /\\\n",
       "|            168|PDC1|48\n",
       "|                     \\/\n",
       "|                     /\\\n",
       "|                     48|KlLAC4|37\n",
       "|                               \\/\n",
       "|                               /\\\n",
       "|                               37|PGI1|276\n",
       "|                                       \\/\n",
       "|                                       /\\\n",
       "|                                       276-\n",
       "|                                          |\n",
       " ------------------------------------------"
      ]
     },
     "execution_count": 14,
     "metadata": {},
     "output_type": "execute_result"
    }
   ],
   "source": [
    "candidate.figure()"
   ]
  },
  {
   "cell_type": "markdown",
   "id": "d12fd465",
   "metadata": {},
   "source": [
    "The candidate vector is synchronized to the 577 primer. This means that\n",
    "the plasmid origin is shifted so that it matches the backbone vector."
   ]
  },
  {
   "cell_type": "code",
   "execution_count": 15,
   "id": "a25fe5d7",
   "metadata": {
    "execution": {
     "iopub.execute_input": "2023-02-05T18:50:44.912105Z",
     "iopub.status.busy": "2023-02-05T18:50:44.911818Z",
     "iopub.status.idle": "2023-02-05T18:50:45.327630Z",
     "shell.execute_reply": "2023-02-05T18:50:45.326871Z"
    }
   },
   "outputs": [],
   "source": [
    "result = candidate.synced(fp_prom)"
   ]
  },
  {
   "cell_type": "markdown",
   "id": "839eb6b7",
   "metadata": {},
   "source": [
    "### Diagnostic PCR confirmation\n",
    "\n",
    "The structure of the final vector is confirmed by two\n",
    "separate PCR reactions, one for the promoter and gene and\n",
    "one for the gene and terminator.\n",
    "\n",
    "PCR using standard primers 577 and 467 to amplify promoter and gene."
   ]
  },
  {
   "cell_type": "code",
   "execution_count": 16,
   "id": "5f4ef1d5",
   "metadata": {
    "execution": {
     "iopub.execute_input": "2023-02-05T18:50:45.330685Z",
     "iopub.status.busy": "2023-02-05T18:50:45.330455Z",
     "iopub.status.idle": "2023-02-05T18:50:45.347984Z",
     "shell.execute_reply": "2023-02-05T18:50:45.347351Z"
    }
   },
   "outputs": [],
   "source": [
    "product = pcr( fp_prom, rp_gene, result)"
   ]
  },
  {
   "cell_type": "markdown",
   "id": "0e99a815",
   "metadata": {},
   "source": [
    "A correct clone should give this size in base pairs:"
   ]
  },
  {
   "cell_type": "code",
   "execution_count": 17,
   "id": "95492cad",
   "metadata": {
    "execution": {
     "iopub.execute_input": "2023-02-05T18:50:45.350825Z",
     "iopub.status.busy": "2023-02-05T18:50:45.350552Z",
     "iopub.status.idle": "2023-02-05T18:50:45.354826Z",
     "shell.execute_reply": "2023-02-05T18:50:45.353857Z"
    }
   },
   "outputs": [
    {
     "name": "stdout",
     "output_type": "stream",
     "text": [
      "4304\n"
     ]
    }
   ],
   "source": [
    "print(len(product))"
   ]
  },
  {
   "cell_type": "markdown",
   "id": "09979985",
   "metadata": {},
   "source": [
    "If the promoter is missing from the assembly, the PCR product will have this size in base pairs:"
   ]
  },
  {
   "cell_type": "code",
   "execution_count": 18,
   "id": "f565e50d",
   "metadata": {
    "execution": {
     "iopub.execute_input": "2023-02-05T18:50:45.358196Z",
     "iopub.status.busy": "2023-02-05T18:50:45.357700Z",
     "iopub.status.idle": "2023-02-05T18:50:45.362199Z",
     "shell.execute_reply": "2023-02-05T18:50:45.361386Z"
    }
   },
   "outputs": [
    {
     "name": "stdout",
     "output_type": "stream",
     "text": [
      "3117\n"
     ]
    }
   ],
   "source": [
    "print(len(product) - len(prom))"
   ]
  },
  {
   "cell_type": "markdown",
   "id": "57ffa476",
   "metadata": {},
   "source": [
    "If the gene is missing from the assembly, the PCR product will have this size in base pairs:"
   ]
  },
  {
   "cell_type": "code",
   "execution_count": 19,
   "id": "ba3cdde3",
   "metadata": {
    "execution": {
     "iopub.execute_input": "2023-02-05T18:50:45.366191Z",
     "iopub.status.busy": "2023-02-05T18:50:45.365492Z",
     "iopub.status.idle": "2023-02-05T18:50:45.370090Z",
     "shell.execute_reply": "2023-02-05T18:50:45.369333Z"
    }
   },
   "outputs": [
    {
     "name": "stdout",
     "output_type": "stream",
     "text": [
      "1137\n"
     ]
    }
   ],
   "source": [
    "print(len(product) - len(gene))"
   ]
  },
  {
   "cell_type": "markdown",
   "id": "0fd66178",
   "metadata": {},
   "source": [
    "PCR using standard primers 468 and 578 to amplify gene and terminator."
   ]
  },
  {
   "cell_type": "code",
   "execution_count": 20,
   "id": "073e87ad",
   "metadata": {
    "execution": {
     "iopub.execute_input": "2023-02-05T18:50:45.373399Z",
     "iopub.status.busy": "2023-02-05T18:50:45.372901Z",
     "iopub.status.idle": "2023-02-05T18:50:45.394445Z",
     "shell.execute_reply": "2023-02-05T18:50:45.393803Z"
    }
   },
   "outputs": [],
   "source": [
    "product2 = pcr( fp_gene, rp_term, result)"
   ]
  },
  {
   "cell_type": "markdown",
   "id": "3ad9175f",
   "metadata": {},
   "source": [
    "A correct clone should give this size:"
   ]
  },
  {
   "cell_type": "code",
   "execution_count": 21,
   "id": "1ea1315e",
   "metadata": {
    "execution": {
     "iopub.execute_input": "2023-02-05T18:50:45.397008Z",
     "iopub.status.busy": "2023-02-05T18:50:45.396766Z",
     "iopub.status.idle": "2023-02-05T18:50:45.400615Z",
     "shell.execute_reply": "2023-02-05T18:50:45.399777Z"
    }
   },
   "outputs": [
    {
     "name": "stdout",
     "output_type": "stream",
     "text": [
      "4469\n"
     ]
    }
   ],
   "source": [
    "print(len(product2))"
   ]
  },
  {
   "cell_type": "markdown",
   "id": "7d1cf50a",
   "metadata": {},
   "source": [
    "If the gene is missing from the assembly, the PCR product will have this size in base pairs:"
   ]
  },
  {
   "cell_type": "code",
   "execution_count": 22,
   "id": "c34135ab",
   "metadata": {
    "execution": {
     "iopub.execute_input": "2023-02-05T18:50:45.404540Z",
     "iopub.status.busy": "2023-02-05T18:50:45.403959Z",
     "iopub.status.idle": "2023-02-05T18:50:45.408628Z",
     "shell.execute_reply": "2023-02-05T18:50:45.407787Z"
    }
   },
   "outputs": [
    {
     "name": "stdout",
     "output_type": "stream",
     "text": [
      "1302\n"
     ]
    }
   ],
   "source": [
    "print(len(product2) - len(gene))"
   ]
  },
  {
   "cell_type": "markdown",
   "id": "7d617423",
   "metadata": {},
   "source": [
    "If the terminator is missing from the assembly, the PCR product will have this size in base pairs:"
   ]
  },
  {
   "cell_type": "code",
   "execution_count": 23,
   "id": "b1f93934",
   "metadata": {
    "execution": {
     "iopub.execute_input": "2023-02-05T18:50:45.411973Z",
     "iopub.status.busy": "2023-02-05T18:50:45.411443Z",
     "iopub.status.idle": "2023-02-05T18:50:45.415589Z",
     "shell.execute_reply": "2023-02-05T18:50:45.414771Z"
    }
   },
   "outputs": [
    {
     "name": "stdout",
     "output_type": "stream",
     "text": [
      "3130\n"
     ]
    }
   ],
   "source": [
    "print(len(product2) - len(term))"
   ]
  },
  {
   "cell_type": "markdown",
   "id": "de07d75d",
   "metadata": {},
   "source": [
    "The cseguid checksum for the resulting plasmid is calculated for future reference.\n",
    "The [cseguid checksum](http://pydna.readthedocs.org/en/latest/pydna.html#pydna.utils.cseguid)\n",
    "uniquely identifies a circular double stranded sequence."
   ]
  },
  {
   "cell_type": "code",
   "execution_count": 24,
   "id": "e85d8fc2",
   "metadata": {
    "execution": {
     "iopub.execute_input": "2023-02-05T18:50:45.418712Z",
     "iopub.status.busy": "2023-02-05T18:50:45.418410Z",
     "iopub.status.idle": "2023-02-05T18:50:45.431821Z",
     "shell.execute_reply": "2023-02-05T18:50:45.430974Z"
    }
   },
   "outputs": [
    {
     "name": "stdout",
     "output_type": "stream",
     "text": [
      "8mlSXFj7-SWk--oFWGYqHvyE9ak\n"
     ]
    }
   ],
   "source": [
    "print(result.cseguid())"
   ]
  },
  {
   "cell_type": "markdown",
   "id": "12c4cef0",
   "metadata": {},
   "source": [
    "The file name is based on the promoter, gene and terminator designations."
   ]
  },
  {
   "cell_type": "code",
   "execution_count": 25,
   "id": "c9dd67c6",
   "metadata": {
    "execution": {
     "iopub.execute_input": "2023-02-05T18:50:45.435871Z",
     "iopub.status.busy": "2023-02-05T18:50:45.435527Z",
     "iopub.status.idle": "2023-02-05T18:50:45.439626Z",
     "shell.execute_reply": "2023-02-05T18:50:45.438668Z"
    }
   },
   "outputs": [],
   "source": [
    "result.locus = f\"tu:{gene.name}\"[:16]\n",
    "result.definition = \"pYPK0_PDC1_KlLAC4_PGI1\""
   ]
  },
  {
   "cell_type": "markdown",
   "id": "81566ac8",
   "metadata": {},
   "source": [
    "Sequence is stamped with cseguid checksum. This can be used to verify the\n",
    "integrity of the sequence file."
   ]
  },
  {
   "cell_type": "code",
   "execution_count": 26,
   "id": "dc1dc813",
   "metadata": {
    "execution": {
     "iopub.execute_input": "2023-02-05T18:50:45.443347Z",
     "iopub.status.busy": "2023-02-05T18:50:45.442883Z",
     "iopub.status.idle": "2023-02-05T18:50:45.457347Z",
     "shell.execute_reply": "2023-02-05T18:50:45.456858Z"
    }
   },
   "outputs": [
    {
     "data": {
      "text/plain": [
       "8mlSXFj7-SWk--oFWGYqHvyE9ak"
      ]
     },
     "execution_count": 26,
     "metadata": {},
     "output_type": "execute_result"
    }
   ],
   "source": [
    "result.stamp(\"cSEGUID\")"
   ]
  },
  {
   "cell_type": "markdown",
   "id": "1e2126e4",
   "metadata": {},
   "source": [
    "Write sequence to a local file."
   ]
  },
  {
   "cell_type": "code",
   "execution_count": 27,
   "id": "5944f619",
   "metadata": {
    "execution": {
     "iopub.execute_input": "2023-02-05T18:50:45.459925Z",
     "iopub.status.busy": "2023-02-05T18:50:45.459684Z",
     "iopub.status.idle": "2023-02-05T18:50:45.465988Z",
     "shell.execute_reply": "2023-02-05T18:50:45.465247Z"
    }
   },
   "outputs": [
    {
     "data": {
      "text/html": [
       "<font face=monospace><a href='pYPK0_PDC1_KlLAC4_PGI1.gb' target='_blank'>pYPK0_PDC1_KlLAC4_PGI1.gb</a></font><br>"
      ]
     },
     "metadata": {},
     "output_type": "display_data"
    }
   ],
   "source": [
    "result.write(f\"{result.definition}.gb\")"
   ]
  },
  {
   "cell_type": "markdown",
   "id": "ef00ab50",
   "metadata": {
    "lines_to_next_cell": 0
   },
   "source": [
    "### Suggested PCR programs\n",
    "\n",
    "For the [amplification](#PCR) of promoter, gene and terminator."
   ]
  },
  {
   "cell_type": "code",
   "execution_count": 28,
   "id": "f3094aae",
   "metadata": {
    "execution": {
     "iopub.execute_input": "2023-02-05T18:50:45.469352Z",
     "iopub.status.busy": "2023-02-05T18:50:45.469027Z",
     "iopub.status.idle": "2023-02-05T18:50:45.475083Z",
     "shell.execute_reply": "2023-02-05T18:50:45.473931Z"
    }
   },
   "outputs": [
    {
     "name": "stdout",
     "output_type": "stream",
     "text": [
      "577_crp585-557 567_pCAPsAjiIF\n",
      "|95°C|95°C               |    |tmf:64.6\n",
      "|____|_____          72°C|72°C|tmr:69.7\n",
      "|3min|30s  \\ 57.2°C _____|____|45s/kb\n",
      "|    |      \\______/ 0:53|5min|GC 38%\n",
      "|    |       30s         |    |1187bp\n"
     ]
    }
   ],
   "source": [
    "print(prom.forward_primer.name, prom.reverse_primer.name)\n",
    "print(prom.program())"
   ]
  },
  {
   "cell_type": "code",
   "execution_count": 29,
   "id": "6b9e2a07",
   "metadata": {
    "execution": {
     "iopub.execute_input": "2023-02-05T18:50:45.479057Z",
     "iopub.status.busy": "2023-02-05T18:50:45.478569Z",
     "iopub.status.idle": "2023-02-05T18:50:45.483532Z",
     "shell.execute_reply": "2023-02-05T18:50:45.482644Z"
    }
   },
   "outputs": [
    {
     "name": "stdout",
     "output_type": "stream",
     "text": [
      "468_pCAPs_release_fw 467_pCAPs_release_re\n",
      "|95°C|95°C               |    |tmf:76.9\n",
      "|____|_____          72°C|72°C|tmr:67.9\n",
      "|3min|30s  \\ 59.1°C _____|____|45s/kb\n",
      "|    |      \\______/ 2:22|5min|GC 41%\n",
      "|    |       30s         |    |3167bp\n"
     ]
    }
   ],
   "source": [
    "print(gene.forward_primer.name, gene.reverse_primer.name)\n",
    "print(gene.program())"
   ]
  },
  {
   "cell_type": "code",
   "execution_count": 30,
   "id": "12667d8d",
   "metadata": {
    "execution": {
     "iopub.execute_input": "2023-02-05T18:50:45.486788Z",
     "iopub.status.busy": "2023-02-05T18:50:45.486522Z",
     "iopub.status.idle": "2023-02-05T18:50:45.491349Z",
     "shell.execute_reply": "2023-02-05T18:50:45.490537Z"
    }
   },
   "outputs": [
    {
     "name": "stdout",
     "output_type": "stream",
     "text": [
      "568_pCAPsAjiIR 578_crp42-70\n",
      "|95°C|95°C               |    |tmf:66.1\n",
      "|____|_____          72°C|72°C|tmr:65.0\n",
      "|3min|30s  \\ 57.6°C _____|____|45s/kb\n",
      "|    |      \\______/ 1:00|5min|GC 39%\n",
      "|    |       30s         |    |1339bp\n"
     ]
    }
   ],
   "source": [
    "print(term.forward_primer.name, term.reverse_primer.name)\n",
    "print(term.program())"
   ]
  }
 ],
 "metadata": {
  "jupytext": {
   "main_language": "python",
   "text_representation": {
    "extension": ".py",
    "format_name": "percent",
    "format_version": "1.3",
    "jupytext_version": "1.14.0"
   }
  },
  "language_info": {
   "codemirror_mode": {
    "name": "ipython",
    "version": 3
   },
   "file_extension": ".py",
   "mimetype": "text/x-python",
   "name": "python",
   "nbconvert_exporter": "python",
   "pygments_lexer": "ipython3",
   "version": "3.11.0"
  }
 },
 "nbformat": 4,
 "nbformat_minor": 5
}
