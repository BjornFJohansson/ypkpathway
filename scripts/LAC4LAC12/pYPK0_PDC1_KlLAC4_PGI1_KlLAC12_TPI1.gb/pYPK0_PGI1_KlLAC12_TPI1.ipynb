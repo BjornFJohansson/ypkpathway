{
 "cells": [
  {
   "cell_type": "markdown",
   "id": "7515a421",
   "metadata": {},
   "source": [
    "# [![logo](logo.png)](https://github.com/BjornFJohansson/ypkpathway#-ypkpathway) pYPK0_PGI1_KlLAC12_TPI1\n",
    "\n",
    "Assembly of a [_Saccharomyces cerevisiae_](http://www.yeastgenome.org) transcriptional unit vector.\n",
    "\n",
    "Made from a linear vector fragment and three PCR products:\n",
    "\n",
    "- a linearized pYPK0 vector for maintenance in _S. cerevisiae_ or _E. coli_ (red dashed line in figure below)\n",
    "- a promoter PCR product from the `pYPKa_Z_PGI1` vector\n",
    "- a gene PCR product from the `pYPKa_A_KlLAC12` vector\n",
    "- a terminator PCR product from the `pYPKa_E_TPI1` vector\n",
    "\n",
    "The four linear DNA fragments are joined by _in-vivo_ homologous recombination in a\n",
    "[_Saccharomyces cerevisiae_](http://wiki.yeastgenome.org/index.php/Commonly_used_strains) strain.\n",
    "\n",
    "![tu](tu.png \"tu\")\n",
    "\n",
    "A part of the [pydna](https://pypi.python.org/pypi/pydna/) package is imported in the code cell below."
   ]
  },
  {
   "cell_type": "code",
   "execution_count": 1,
   "id": "2d77bdd9",
   "metadata": {
    "execution": {
     "iopub.execute_input": "2023-02-05T18:50:46.824896Z",
     "iopub.status.busy": "2023-02-05T18:50:46.824378Z",
     "iopub.status.idle": "2023-02-05T18:50:47.163644Z",
     "shell.execute_reply": "2023-02-05T18:50:47.163048Z"
    }
   },
   "outputs": [],
   "source": [
    "from pydna.parsers import parse_primers\n",
    "from pydna.readers import read\n",
    "from pydna.amplify import pcr\n",
    "from pydna.assembly import Assembly"
   ]
  },
  {
   "cell_type": "markdown",
   "id": "02dfb4a7",
   "metadata": {},
   "source": [
    "The Yeast Pathway Kit [standard primers](standard_primers.fasta) are read into a dictionary in the code cell below."
   ]
  },
  {
   "cell_type": "code",
   "execution_count": 2,
   "id": "d89dc60e",
   "metadata": {
    "execution": {
     "iopub.execute_input": "2023-02-05T18:50:47.167254Z",
     "iopub.status.busy": "2023-02-05T18:50:47.166406Z",
     "iopub.status.idle": "2023-02-05T18:50:47.178109Z",
     "shell.execute_reply": "2023-02-05T18:50:47.177434Z"
    }
   },
   "outputs": [],
   "source": [
    "p = {x.name: x for x in parse_primers(\"standard_primers.fasta\")}"
   ]
  },
  {
   "cell_type": "markdown",
   "id": "1383d6f5",
   "metadata": {},
   "source": [
    "The backbone vector [pYPK0](pYPK0.gb) is read from a local file in the code cell below."
   ]
  },
  {
   "cell_type": "code",
   "execution_count": 3,
   "id": "1227933d",
   "metadata": {
    "execution": {
     "iopub.execute_input": "2023-02-05T18:50:47.180974Z",
     "iopub.status.busy": "2023-02-05T18:50:47.180740Z",
     "iopub.status.idle": "2023-02-05T18:50:47.189970Z",
     "shell.execute_reply": "2023-02-05T18:50:47.189437Z"
    }
   },
   "outputs": [],
   "source": [
    "backbone = read(\"pYPK0.gb\")"
   ]
  },
  {
   "cell_type": "markdown",
   "id": "b5fcbb27",
   "metadata": {},
   "source": [
    "The backbone vector is linearized by digestion with [MfeI](https://www.google.com/search?q=MfeI)."
   ]
  },
  {
   "cell_type": "code",
   "execution_count": 4,
   "id": "0f038a57",
   "metadata": {
    "execution": {
     "iopub.execute_input": "2023-02-05T18:50:47.193409Z",
     "iopub.status.busy": "2023-02-05T18:50:47.192830Z",
     "iopub.status.idle": "2023-02-05T18:50:47.196327Z",
     "shell.execute_reply": "2023-02-05T18:50:47.195767Z"
    }
   },
   "outputs": [],
   "source": [
    "from Bio.Restriction import MfeI"
   ]
  },
  {
   "cell_type": "code",
   "execution_count": 5,
   "id": "04adb3d2",
   "metadata": {
    "execution": {
     "iopub.execute_input": "2023-02-05T18:50:47.200880Z",
     "iopub.status.busy": "2023-02-05T18:50:47.200533Z",
     "iopub.status.idle": "2023-02-05T18:50:47.210665Z",
     "shell.execute_reply": "2023-02-05T18:50:47.210051Z"
    }
   },
   "outputs": [],
   "source": [
    "linear_backbone = backbone.linearize(MfeI)"
   ]
  },
  {
   "cell_type": "markdown",
   "id": "a666b921",
   "metadata": {},
   "source": [
    "The pYPKa derived _E. coli_ plasmids containing\n",
    "- [promoter](pYPKa_Z_PGI1.gb)\n",
    "- [gene](pYPKa_A_KlLAC12.gb)\n",
    "- [terminator](pYPKa_E_TPI1.gb)\n",
    "\n",
    "are read into three variables below."
   ]
  },
  {
   "cell_type": "code",
   "execution_count": 6,
   "id": "4e2b1a0a",
   "metadata": {
    "execution": {
     "iopub.execute_input": "2023-02-05T18:50:47.214022Z",
     "iopub.status.busy": "2023-02-05T18:50:47.213490Z",
     "iopub.status.idle": "2023-02-05T18:50:47.231651Z",
     "shell.execute_reply": "2023-02-05T18:50:47.231068Z"
    }
   },
   "outputs": [],
   "source": [
    "promoter_template   = read(\"pYPKa_Z_PGI1.gb\")\n",
    "gene_template       = read(\"pYPKa_A_KlLAC12.gb\")\n",
    "terminator_template = read(\"pYPKa_E_TPI1.gb\")"
   ]
  },
  {
   "cell_type": "markdown",
   "id": "b1c95396",
   "metadata": {
    "lines_to_next_cell": 0
   },
   "source": [
    "### PCR\n",
    "Three DNA fragments are PCR amplified using [standard primers](standard_primers.fasta).\n",
    "\n",
    "[Suggested PCR programs](#Suggested-PCR-programs) can be found at the end of this document."
   ]
  },
  {
   "cell_type": "code",
   "execution_count": 7,
   "id": "41a7f920",
   "metadata": {
    "execution": {
     "iopub.execute_input": "2023-02-05T18:50:47.234655Z",
     "iopub.status.busy": "2023-02-05T18:50:47.234145Z",
     "iopub.status.idle": "2023-02-05T18:50:47.238482Z",
     "shell.execute_reply": "2023-02-05T18:50:47.237863Z"
    }
   },
   "outputs": [],
   "source": [
    "\n",
    "fp_prom = p['577_crp585-557']\n",
    "rp_prom = p['567_pCAPsAjiIF']\n",
    "fp_gene = p['468_pCAPs_release_fw']\n",
    "rp_gene = p['467_pCAPs_release_re']\n",
    "fp_term = p['568_pCAPsAjiIR']\n",
    "rp_term = p['578_crp42-70']"
   ]
  },
  {
   "cell_type": "code",
   "execution_count": 8,
   "id": "6b8ec33c",
   "metadata": {
    "execution": {
     "iopub.execute_input": "2023-02-05T18:50:47.241612Z",
     "iopub.status.busy": "2023-02-05T18:50:47.241289Z",
     "iopub.status.idle": "2023-02-05T18:50:47.270826Z",
     "shell.execute_reply": "2023-02-05T18:50:47.270221Z"
    }
   },
   "outputs": [],
   "source": [
    "prom = pcr(fp_prom, rp_prom, promoter_template)\n",
    "gene = pcr(fp_gene, rp_gene, gene_template)\n",
    "term = pcr(fp_term, rp_term, terminator_template)"
   ]
  },
  {
   "cell_type": "code",
   "execution_count": 9,
   "id": "88429c2c",
   "metadata": {
    "execution": {
     "iopub.execute_input": "2023-02-05T18:50:47.273548Z",
     "iopub.status.busy": "2023-02-05T18:50:47.273341Z",
     "iopub.status.idle": "2023-02-05T18:50:47.276428Z",
     "shell.execute_reply": "2023-02-05T18:50:47.275900Z"
    }
   },
   "outputs": [],
   "source": [
    "prom.name = \"pYPKa_Z_PGI1\"[8:]\n",
    "gene.name = \"pYPKa_A_KlLAC12\"[8:]\n",
    "term.name = \"pYPKa_E_TPI1\"[8:]"
   ]
  },
  {
   "cell_type": "markdown",
   "id": "4296e4ac",
   "metadata": {},
   "source": [
    "\n",
    "The fragments will be assembled by _in-vivo_ [homologous recombination](http://www.ncbi.nlm.nih.gov/pubmed/2828185):"
   ]
  },
  {
   "cell_type": "code",
   "execution_count": 10,
   "id": "122f14c1",
   "metadata": {
    "execution": {
     "iopub.execute_input": "2023-02-05T18:50:47.278962Z",
     "iopub.status.busy": "2023-02-05T18:50:47.278756Z",
     "iopub.status.idle": "2023-02-05T18:50:47.751308Z",
     "shell.execute_reply": "2023-02-05T18:50:47.750558Z"
    }
   },
   "outputs": [
    {
     "data": {
      "text/plain": [
       "Assembly\n",
       "fragments..: 5766bp 1231bp 1853bp 922bp\n",
       "limit(bp)..: 31\n",
       "G.nodes....: 10\n",
       "algorithm..: common_sub_strings"
      ]
     },
     "execution_count": 10,
     "metadata": {},
     "output_type": "execute_result"
    }
   ],
   "source": [
    "asm = Assembly((linear_backbone, prom, gene, term), limit=31)\n",
    "asm"
   ]
  },
  {
   "cell_type": "markdown",
   "id": "b7b9e9d3",
   "metadata": {},
   "source": [
    "The Assembly object above should normally indicate four fragments and eight nodes."
   ]
  },
  {
   "cell_type": "code",
   "execution_count": 11,
   "id": "794c1f52",
   "metadata": {
    "execution": {
     "iopub.execute_input": "2023-02-05T18:50:47.755073Z",
     "iopub.status.busy": "2023-02-05T18:50:47.754729Z",
     "iopub.status.idle": "2023-02-05T18:50:47.971239Z",
     "shell.execute_reply": "2023-02-05T18:50:47.970529Z"
    },
    "lines_to_next_cell": 0
   },
   "outputs": [
    {
     "data": {
      "text/plain": [
       "[Contig(o9137), Contig(o9137), Contig(o9137), Contig(o8124), Contig(o8124)]"
      ]
     },
     "execution_count": 11,
     "metadata": {},
     "output_type": "execute_result"
    }
   ],
   "source": [
    "candidates = asm.assemble_circular()\n",
    "candidates"
   ]
  },
  {
   "cell_type": "markdown",
   "id": "d74b0883",
   "metadata": {},
   "source": [
    "There should normally be two candidates of equal size. These sequences should be identical."
   ]
  },
  {
   "cell_type": "code",
   "execution_count": 12,
   "id": "59bb4694",
   "metadata": {
    "execution": {
     "iopub.execute_input": "2023-02-05T18:50:47.973951Z",
     "iopub.status.busy": "2023-02-05T18:50:47.973490Z",
     "iopub.status.idle": "2023-02-05T18:50:47.976545Z",
     "shell.execute_reply": "2023-02-05T18:50:47.976042Z"
    },
    "lines_to_next_cell": 0
   },
   "outputs": [],
   "source": [
    "candidate, *rest = candidates"
   ]
  },
  {
   "cell_type": "code",
   "execution_count": 13,
   "id": "5ed1d222",
   "metadata": {
    "execution": {
     "iopub.execute_input": "2023-02-05T18:50:47.981325Z",
     "iopub.status.busy": "2023-02-05T18:50:47.980759Z",
     "iopub.status.idle": "2023-02-05T18:50:48.001375Z",
     "shell.execute_reply": "2023-02-05T18:50:48.000870Z"
    },
    "lines_to_next_cell": 0
   },
   "outputs": [
    {
     "data": {
      "text/plain": [
       "True"
      ]
     },
     "execution_count": 13,
     "metadata": {},
     "output_type": "execute_result"
    }
   ],
   "source": [
    "candidate.cseguid() == rest[0].cseguid()"
   ]
  },
  {
   "cell_type": "code",
   "execution_count": 14,
   "id": "d8cb66b7",
   "metadata": {
    "execution": {
     "iopub.execute_input": "2023-02-05T18:50:48.004219Z",
     "iopub.status.busy": "2023-02-05T18:50:48.003915Z",
     "iopub.status.idle": "2023-02-05T18:50:48.008961Z",
     "shell.execute_reply": "2023-02-05T18:50:48.008265Z"
    },
    "lines_to_next_cell": 0
   },
   "outputs": [
    {
     "data": {
      "text/plain": [
       " -|pYPK0_lin|168\n",
       "|            \\/\n",
       "|            /\\\n",
       "|            168|PGI1|48\n",
       "|                     \\/\n",
       "|                     /\\\n",
       "|                     48|KlLAC12|37\n",
       "|                                \\/\n",
       "|                                /\\\n",
       "|                                37|TPI1|276\n",
       "|                                        \\/\n",
       "|                                        /\\\n",
       "|                                        276-\n",
       "|                                           |\n",
       " -------------------------------------------"
      ]
     },
     "execution_count": 14,
     "metadata": {},
     "output_type": "execute_result"
    }
   ],
   "source": [
    "candidate.figure()"
   ]
  },
  {
   "cell_type": "markdown",
   "id": "6880e19c",
   "metadata": {},
   "source": [
    "The candidate vector is synchronized to the 577 primer. This means that\n",
    "the plasmid origin is shifted so that it matches the backbone vector."
   ]
  },
  {
   "cell_type": "code",
   "execution_count": 15,
   "id": "de034c5e",
   "metadata": {
    "execution": {
     "iopub.execute_input": "2023-02-05T18:50:48.012534Z",
     "iopub.status.busy": "2023-02-05T18:50:48.012251Z",
     "iopub.status.idle": "2023-02-05T18:50:48.355832Z",
     "shell.execute_reply": "2023-02-05T18:50:48.355156Z"
    }
   },
   "outputs": [],
   "source": [
    "result = candidate.synced(fp_prom)"
   ]
  },
  {
   "cell_type": "markdown",
   "id": "f792d986",
   "metadata": {},
   "source": [
    "### Diagnostic PCR confirmation\n",
    "\n",
    "The structure of the final vector is confirmed by two\n",
    "separate PCR reactions, one for the promoter and gene and\n",
    "one for the gene and terminator.\n",
    "\n",
    "PCR using standard primers 577 and 467 to amplify promoter and gene."
   ]
  },
  {
   "cell_type": "code",
   "execution_count": 16,
   "id": "28af488c",
   "metadata": {
    "execution": {
     "iopub.execute_input": "2023-02-05T18:50:48.358803Z",
     "iopub.status.busy": "2023-02-05T18:50:48.358589Z",
     "iopub.status.idle": "2023-02-05T18:50:48.376309Z",
     "shell.execute_reply": "2023-02-05T18:50:48.375743Z"
    }
   },
   "outputs": [],
   "source": [
    "product = pcr( fp_prom, rp_gene, result)"
   ]
  },
  {
   "cell_type": "markdown",
   "id": "8506b018",
   "metadata": {},
   "source": [
    "A correct clone should give this size in base pairs:"
   ]
  },
  {
   "cell_type": "code",
   "execution_count": 17,
   "id": "99fac22b",
   "metadata": {
    "execution": {
     "iopub.execute_input": "2023-02-05T18:50:48.379047Z",
     "iopub.status.busy": "2023-02-05T18:50:48.378777Z",
     "iopub.status.idle": "2023-02-05T18:50:48.382445Z",
     "shell.execute_reply": "2023-02-05T18:50:48.381843Z"
    }
   },
   "outputs": [
    {
     "name": "stdout",
     "output_type": "stream",
     "text": [
      "3034\n"
     ]
    }
   ],
   "source": [
    "print(len(product))"
   ]
  },
  {
   "cell_type": "markdown",
   "id": "90b8ff60",
   "metadata": {},
   "source": [
    "If the promoter is missing from the assembly, the PCR product will have this size in base pairs:"
   ]
  },
  {
   "cell_type": "code",
   "execution_count": 18,
   "id": "702da7e5",
   "metadata": {
    "execution": {
     "iopub.execute_input": "2023-02-05T18:50:48.385778Z",
     "iopub.status.busy": "2023-02-05T18:50:48.385078Z",
     "iopub.status.idle": "2023-02-05T18:50:48.389537Z",
     "shell.execute_reply": "2023-02-05T18:50:48.388730Z"
    }
   },
   "outputs": [
    {
     "name": "stdout",
     "output_type": "stream",
     "text": [
      "1803\n"
     ]
    }
   ],
   "source": [
    "print(len(product) - len(prom))"
   ]
  },
  {
   "cell_type": "markdown",
   "id": "d41a18cd",
   "metadata": {},
   "source": [
    "If the gene is missing from the assembly, the PCR product will have this size in base pairs:"
   ]
  },
  {
   "cell_type": "code",
   "execution_count": 19,
   "id": "8733f8fc",
   "metadata": {
    "execution": {
     "iopub.execute_input": "2023-02-05T18:50:48.393928Z",
     "iopub.status.busy": "2023-02-05T18:50:48.393297Z",
     "iopub.status.idle": "2023-02-05T18:50:48.397756Z",
     "shell.execute_reply": "2023-02-05T18:50:48.397107Z"
    }
   },
   "outputs": [
    {
     "name": "stdout",
     "output_type": "stream",
     "text": [
      "1181\n"
     ]
    }
   ],
   "source": [
    "print(len(product) - len(gene))"
   ]
  },
  {
   "cell_type": "markdown",
   "id": "1bea868a",
   "metadata": {},
   "source": [
    "PCR using standard primers 468 and 578 to amplify gene and terminator."
   ]
  },
  {
   "cell_type": "code",
   "execution_count": 20,
   "id": "abf49e08",
   "metadata": {
    "execution": {
     "iopub.execute_input": "2023-02-05T18:50:48.401078Z",
     "iopub.status.busy": "2023-02-05T18:50:48.400717Z",
     "iopub.status.idle": "2023-02-05T18:50:48.422613Z",
     "shell.execute_reply": "2023-02-05T18:50:48.421967Z"
    }
   },
   "outputs": [],
   "source": [
    "product2 = pcr( fp_gene, rp_term, result)"
   ]
  },
  {
   "cell_type": "markdown",
   "id": "8407a7ba",
   "metadata": {},
   "source": [
    "A correct clone should give this size:"
   ]
  },
  {
   "cell_type": "code",
   "execution_count": 21,
   "id": "948f7f29",
   "metadata": {
    "execution": {
     "iopub.execute_input": "2023-02-05T18:50:48.425778Z",
     "iopub.status.busy": "2023-02-05T18:50:48.425426Z",
     "iopub.status.idle": "2023-02-05T18:50:48.430202Z",
     "shell.execute_reply": "2023-02-05T18:50:48.429313Z"
    }
   },
   "outputs": [
    {
     "name": "stdout",
     "output_type": "stream",
     "text": [
      "2738\n"
     ]
    }
   ],
   "source": [
    "print(len(product2))"
   ]
  },
  {
   "cell_type": "markdown",
   "id": "42e474ad",
   "metadata": {},
   "source": [
    "If the gene is missing from the assembly, the PCR product will have this size in base pairs:"
   ]
  },
  {
   "cell_type": "code",
   "execution_count": 22,
   "id": "d5b9423c",
   "metadata": {
    "execution": {
     "iopub.execute_input": "2023-02-05T18:50:48.434509Z",
     "iopub.status.busy": "2023-02-05T18:50:48.434068Z",
     "iopub.status.idle": "2023-02-05T18:50:48.438881Z",
     "shell.execute_reply": "2023-02-05T18:50:48.438045Z"
    }
   },
   "outputs": [
    {
     "name": "stdout",
     "output_type": "stream",
     "text": [
      "885\n"
     ]
    }
   ],
   "source": [
    "print(len(product2) - len(gene))"
   ]
  },
  {
   "cell_type": "markdown",
   "id": "bdc7a9bc",
   "metadata": {},
   "source": [
    "If the terminator is missing from the assembly, the PCR product will have this size in base pairs:"
   ]
  },
  {
   "cell_type": "code",
   "execution_count": 23,
   "id": "ed507595",
   "metadata": {
    "execution": {
     "iopub.execute_input": "2023-02-05T18:50:48.442246Z",
     "iopub.status.busy": "2023-02-05T18:50:48.441924Z",
     "iopub.status.idle": "2023-02-05T18:50:48.445909Z",
     "shell.execute_reply": "2023-02-05T18:50:48.445252Z"
    }
   },
   "outputs": [
    {
     "name": "stdout",
     "output_type": "stream",
     "text": [
      "1816\n"
     ]
    }
   ],
   "source": [
    "print(len(product2) - len(term))"
   ]
  },
  {
   "cell_type": "markdown",
   "id": "7bbc38a6",
   "metadata": {},
   "source": [
    "The cseguid checksum for the resulting plasmid is calculated for future reference.\n",
    "The [cseguid checksum](http://pydna.readthedocs.org/en/latest/pydna.html#pydna.utils.cseguid)\n",
    "uniquely identifies a circular double stranded sequence."
   ]
  },
  {
   "cell_type": "code",
   "execution_count": 24,
   "id": "0563092a",
   "metadata": {
    "execution": {
     "iopub.execute_input": "2023-02-05T18:50:48.450264Z",
     "iopub.status.busy": "2023-02-05T18:50:48.449411Z",
     "iopub.status.idle": "2023-02-05T18:50:48.463821Z",
     "shell.execute_reply": "2023-02-05T18:50:48.463046Z"
    }
   },
   "outputs": [
    {
     "name": "stdout",
     "output_type": "stream",
     "text": [
      "gfvaGZE2aE6GMhNODKNDNO-5YKg\n"
     ]
    }
   ],
   "source": [
    "print(result.cseguid())"
   ]
  },
  {
   "cell_type": "markdown",
   "id": "c864d08d",
   "metadata": {},
   "source": [
    "The file name is based on the promoter, gene and terminator designations."
   ]
  },
  {
   "cell_type": "code",
   "execution_count": 25,
   "id": "06801b38",
   "metadata": {
    "execution": {
     "iopub.execute_input": "2023-02-05T18:50:48.466778Z",
     "iopub.status.busy": "2023-02-05T18:50:48.466135Z",
     "iopub.status.idle": "2023-02-05T18:50:48.469605Z",
     "shell.execute_reply": "2023-02-05T18:50:48.469033Z"
    }
   },
   "outputs": [],
   "source": [
    "result.locus = f\"tu:{gene.name}\"[:16]\n",
    "result.definition = \"pYPK0_PGI1_KlLAC12_TPI1\""
   ]
  },
  {
   "cell_type": "markdown",
   "id": "70475b7a",
   "metadata": {},
   "source": [
    "Sequence is stamped with cseguid checksum. This can be used to verify the\n",
    "integrity of the sequence file."
   ]
  },
  {
   "cell_type": "code",
   "execution_count": 26,
   "id": "bfbdd320",
   "metadata": {
    "execution": {
     "iopub.execute_input": "2023-02-05T18:50:48.474086Z",
     "iopub.status.busy": "2023-02-05T18:50:48.473564Z",
     "iopub.status.idle": "2023-02-05T18:50:48.486401Z",
     "shell.execute_reply": "2023-02-05T18:50:48.485812Z"
    }
   },
   "outputs": [
    {
     "data": {
      "text/plain": [
       "gfvaGZE2aE6GMhNODKNDNO-5YKg"
      ]
     },
     "execution_count": 26,
     "metadata": {},
     "output_type": "execute_result"
    }
   ],
   "source": [
    "result.stamp(\"cSEGUID\")"
   ]
  },
  {
   "cell_type": "markdown",
   "id": "f5591f9e",
   "metadata": {},
   "source": [
    "Write sequence to a local file."
   ]
  },
  {
   "cell_type": "code",
   "execution_count": 27,
   "id": "e6a25469",
   "metadata": {
    "execution": {
     "iopub.execute_input": "2023-02-05T18:50:48.489234Z",
     "iopub.status.busy": "2023-02-05T18:50:48.488948Z",
     "iopub.status.idle": "2023-02-05T18:50:48.496146Z",
     "shell.execute_reply": "2023-02-05T18:50:48.495210Z"
    }
   },
   "outputs": [
    {
     "data": {
      "text/html": [
       "<font face=monospace><a href='pYPK0_PGI1_KlLAC12_TPI1.gb' target='_blank'>pYPK0_PGI1_KlLAC12_TPI1.gb</a></font><br>"
      ]
     },
     "metadata": {},
     "output_type": "display_data"
    }
   ],
   "source": [
    "result.write(f\"{result.definition}.gb\")"
   ]
  },
  {
   "cell_type": "markdown",
   "id": "20f0abac",
   "metadata": {
    "lines_to_next_cell": 0
   },
   "source": [
    "### Suggested PCR programs\n",
    "\n",
    "For the [amplification](#PCR) of promoter, gene and terminator."
   ]
  },
  {
   "cell_type": "code",
   "execution_count": 28,
   "id": "adf51fe0",
   "metadata": {
    "execution": {
     "iopub.execute_input": "2023-02-05T18:50:48.499480Z",
     "iopub.status.busy": "2023-02-05T18:50:48.499228Z",
     "iopub.status.idle": "2023-02-05T18:50:48.504642Z",
     "shell.execute_reply": "2023-02-05T18:50:48.503566Z"
    }
   },
   "outputs": [
    {
     "name": "stdout",
     "output_type": "stream",
     "text": [
      "577_crp585-557 567_pCAPsAjiIF\n",
      "|95°C|95°C               |    |tmf:64.6\n",
      "|____|_____          72°C|72°C|tmr:69.7\n",
      "|3min|30s  \\ 57.7°C _____|____|45s/kb\n",
      "|    |      \\______/ 0:55|5min|GC 40%\n",
      "|    |       30s         |    |1231bp\n"
     ]
    }
   ],
   "source": [
    "print(prom.forward_primer.name, prom.reverse_primer.name)\n",
    "print(prom.program())"
   ]
  },
  {
   "cell_type": "code",
   "execution_count": 29,
   "id": "57d8c82e",
   "metadata": {
    "execution": {
     "iopub.execute_input": "2023-02-05T18:50:48.508175Z",
     "iopub.status.busy": "2023-02-05T18:50:48.507618Z",
     "iopub.status.idle": "2023-02-05T18:50:48.513557Z",
     "shell.execute_reply": "2023-02-05T18:50:48.512704Z"
    }
   },
   "outputs": [
    {
     "name": "stdout",
     "output_type": "stream",
     "text": [
      "468_pCAPs_release_fw 467_pCAPs_release_re\n",
      "|95°C|95°C               |    |tmf:76.9\n",
      "|____|_____          72°C|72°C|tmr:67.9\n",
      "|3min|30s  \\ 58.7°C _____|____|45s/kb\n",
      "|    |      \\______/ 1:23|5min|GC 40%\n",
      "|    |       30s         |    |1853bp\n"
     ]
    }
   ],
   "source": [
    "print(gene.forward_primer.name, gene.reverse_primer.name)\n",
    "print(gene.program())"
   ]
  },
  {
   "cell_type": "code",
   "execution_count": 30,
   "id": "86561a19",
   "metadata": {
    "execution": {
     "iopub.execute_input": "2023-02-05T18:50:48.517123Z",
     "iopub.status.busy": "2023-02-05T18:50:48.516599Z",
     "iopub.status.idle": "2023-02-05T18:50:48.522102Z",
     "shell.execute_reply": "2023-02-05T18:50:48.521250Z"
    }
   },
   "outputs": [
    {
     "name": "stdout",
     "output_type": "stream",
     "text": [
      "568_pCAPsAjiIR 578_crp42-70\n",
      "|95°C|95°C               |    |tmf:66.1\n",
      "|____|_____          72°C|72°C|tmr:65.0\n",
      "|3min|30s  \\ 57.2°C _____|____|45s/kb\n",
      "|    |      \\______/ 0:41|5min|GC 38%\n",
      "|    |       30s         |    |922bp\n"
     ]
    }
   ],
   "source": [
    "print(term.forward_primer.name, term.reverse_primer.name)\n",
    "print(term.program())"
   ]
  }
 ],
 "metadata": {
  "jupytext": {
   "main_language": "python",
   "text_representation": {
    "extension": ".py",
    "format_name": "percent",
    "format_version": "1.3",
    "jupytext_version": "1.14.0"
   }
  },
  "language_info": {
   "codemirror_mode": {
    "name": "ipython",
    "version": 3
   },
   "file_extension": ".py",
   "mimetype": "text/x-python",
   "name": "python",
   "nbconvert_exporter": "python",
   "pygments_lexer": "ipython3",
   "version": "3.11.0"
  }
 },
 "nbformat": 4,
 "nbformat_minor": 5
}
